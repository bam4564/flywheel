{
 "cells": [
  {
   "cell_type": "code",
   "execution_count": 149,
   "id": "1abbe31e-72e0-4933-9c80-527bf56f22f2",
   "metadata": {},
   "outputs": [
    {
     "data": {
      "text/plain": [
       "RendererRegistry.enable('jupyterlab')"
      ]
     },
     "execution_count": 149,
     "metadata": {},
     "output_type": "execute_result"
    }
   ],
   "source": [
    "import json \n",
    "import os\n",
    "import logging \n",
    "import concurrent \n",
    "import asyncio \n",
    "import re \n",
    "import requests \n",
    "\n",
    "from collections import deque \n",
    "from itertools import chain \n",
    "\n",
    "from pprint import PrettyPrinter\n",
    "\n",
    "from subgrounds import Subgrounds\n",
    "from palettable.tableau import Tableau_20\n",
    "from palettable.mycarta import Cube1_4, Cube1_8\n",
    "\n",
    "from web3 import Web3\n",
    "from web3.exceptions import ContractLogicError\n",
    "\n",
    "# apis / networking \n",
    "from etherscan import Etherscan\n",
    "from pycoingecko import CoinGeckoAPI\n",
    "\n",
    "import pandas as pd \n",
    "import numpy as np \n",
    "import altair as alt \n",
    "\n",
    "\n",
    "from flywheel_util.constants import addresses, url_subgraphs\n",
    "from flywheel_util.utils import (\n",
    "    ddf, \n",
    "    remove_prefix, \n",
    "    query_attrs, \n",
    "    camel_to_snake, \n",
    "    df_cols_camel_to_snake, \n",
    "    df_cols_change_prefix, \n",
    "    cg_get_market_history, \n",
    ")\n",
    "from flywheel_util.w3_utils import (\n",
    "    verified_contract, \n",
    "    get_total_supply_of_erc20,\n",
    "    get_account_balance_of_erc20, \n",
    "    get_erc20_balance_for_all_accounts, \n",
    ") \n",
    "\n",
    "\n",
    "# logging.basicConfig(level=logging.INFO)\n",
    "\n",
    "VALIDATE = True  \n",
    "\n",
    "pp = PrettyPrinter().pprint\n",
    "\n",
    "alt.data_transformers.disable_max_rows()\n",
    "alt.renderers.enable('jupyterlab')"
   ]
  },
  {
   "cell_type": "code",
   "execution_count": 150,
   "id": "607683e0-16d1-449d-8b76-730475e0eee8",
   "metadata": {},
   "outputs": [],
   "source": [
    "colors_24 = Tableau_20.hex_colors + Cube1_4.hex_colors\n",
    "colors_28 = Tableau_20.hex_colors + Cube1_8.hex_colors"
   ]
  },
  {
   "cell_type": "code",
   "execution_count": 151,
   "id": "e02d8fcf-aeac-4d94-8da1-0e8db63c664e",
   "metadata": {},
   "outputs": [],
   "source": [
    "URL_INFURA = 'https://mainnet.infura.io/v3/856c3834f317452a82e25bb06e04de18'\n",
    "w3 = Web3(Web3.HTTPProvider(URL_INFURA))\n",
    "cg = CoinGeckoAPI()\n",
    "hmmmm = 'VR7YA9DRDB4Y15B5N3WU9E7PSJ9RWPCP5S'\n",
    "etherscan = Etherscan(hmmmm)"
   ]
  },
  {
   "cell_type": "code",
   "execution_count": 152,
   "id": "6622f354-56f6-4677-9834-b86d1c0bab63",
   "metadata": {},
   "outputs": [],
   "source": [
    "URL_CURVE_POOLS = 'https://api.thegraph.com/subgraphs/name/convex-community/curve-pools'\n",
    "URL_CURVE_DAO = 'https://api.thegraph.com/subgraphs/name/convex-community/curve-dao'\n",
    "\n",
    "# Tokens \n",
    "ADDRESS_frxETH = \"0x5E8422345238F34275888049021821E8E08CAa1f\".lower()\n",
    "ADDRESS_frxETHCRV = '0xf43211935c781d5ca1a41d2041f397b8a7366c7a'.lower()\n",
    "ADDRESS_frxETHCRV_GAUGE_DEPOSIT = '0x2932a86df44fe8d2a706d8e9c5d51c24883423f5'.lower()\n",
    "ADDRESS_cvxfrxETHCRV = '0xC07e540DbFecCF7431EA2478Eb28A03918c1C30E'.lower()\n",
    "ADDRESS_FRAX_FARM_stkcvxfrxETHETH = '0xa537d64881b84faffb9Ae43c951EEbF368b71cdA'.lower()\n",
    "\n",
    "# Contracts \n",
    "ADDRESS_CONVEX_BASE_REWARDS_POOL = '0xbD5445402B0a287cbC77cb67B2a52e2FC635dce4'.lower()\n",
    "ADDRESS_CONVEX_VOTER_PROXY = '0x989aeb4d175e16225e39e87d0d97a3360524ad80'.lower()\n",
    "ADDRESS_CURVE_POOL_FRXETH_ETH = '0xa1f8a6807c402e4a15ef4eba36528a3fed24e577'.lower()\n",
    "ADDRESS_CONVEX_STAKING_WRAPPER_FRAX = '0x4659d5fF63A1E1EDD6D5DD9CC315e063c95947d0'.lower() "
   ]
  },
  {
   "cell_type": "markdown",
   "id": "e3d07397-257b-47b8-854d-b5ef1015a868",
   "metadata": {},
   "source": [
    "# Analysis of Holders of frxETHCRV \n",
    "\n",
    "frxETHCRV is the liquidity pool token for the [frxETH:ETH pool](https://curve.fi/#/ethereum/pools/frxeth/deposit) on curve. \n",
    "\n",
    "Tracking which users hold frxETHCRV is not as simple as checking the total amount of this token across user accounts. \n",
    "There are various platforms where users can stake frxETHCRV in exchange for derivative tokens. This hierarchical outline\n",
    "shows the various places where the supply of frxETHCRV exists within the ecosystem. \n",
    "\n",
    "**Contracts**: \n",
    "- Curve \n",
    "    - [frxETH:ETH curve pool](https://curve.fi/#/ethereum/pools/frxeth/deposit)\n",
    "- Convex \n",
    "    - [Booster](https://docs.convexfinance.com/convexfinanceintegration/booster)\n",
    "        - The curve deposit contract for curve LP tokens. \n",
    "        - User receives a deposit receipt token prefixed with \"cvx\". \n",
    "    - [BaseRewardPool](https://docs.convexfinance.com/convexfinanceintegration/baserewardpool)\n",
    "        - The main reward contract for all LP pools.\n",
    "        - User does not receive a deposit / staking token, simply updates an internal balance. \n",
    "    - [StakingWrapperFrax](https://etherscan.io/address/0x4659d5fF63A1E1EDD6D5DD9CC315e063c95947d0)\n",
    "        - The frax deposit contract for curve LP tokens. \n",
    " \n",
    "\n",
    "**Tokens** \n",
    "- [frxETHCRV](https://etherscan.io/token/0xf43211935c781d5ca1a41d2041f397b8a7366c7a)\n",
    "- [cvxfrxETHCRV](https://etherscan.io/token/0xC07e540DbFecCF7431EA2478Eb28A03918c1C30E)\n",
    "- [stkcvxfrxETHCRV-frax](https://etherscan.io/token/0x4659d5ff63a1e1edd6d5dd9cc315e063c95947d0)\n",
    "\n",
    "- frxETHCRV supply \n",
    "    - circulating frxETHCRV *(ignored for now since ~99.9% of frxETHCRV is not circulating, see [here](https://etherscan.io/token/0xf43211935c781d5ca1a41d2041f397b8a7366c7a#balances))*. \n",
    "    - staked in [curve gauge](0x2932a86df44fe8d2a706d8e9c5d51c24883423f5) for frxETH:ETH pool. \n",
    "        - User stakes directly in curve gauge (frxETHCRV -> frxETHCRV-gauge). \n",
    "        - User deposits frxETHCRV in convex curve (Booster contract) receiving cvxfrxETHCRV. \n",
    "            - Circulating cvxfrxETHCRV. \n",
    "            - User stakes into cvxfrxETHCRV rewards contract. No token is received but `Staked` event is emitted.\n",
    "        - User deposits frxETHCRV in convex frax (Booster contract) receiving stkcvxfrxETHCRV-frax. Internally, convex holds cvxfrxETHCRV on the user's behalf in the base reward pool contract. \n",
    "            - User deposits stkcvxfrxETHCRV-frax into a convex vault, which manages interactions with the frax farm on behalf of the user. \n",
    "                - We can differentiate between frax farm deposits through frax / convex based on source address of staking events. \n",
    "            - User deposits stkcvxfrxETHCRV-frax into frax finance staking farm. "
   ]
  },
  {
   "cell_type": "code",
   "execution_count": 153,
   "id": "b1fb88a9-e7e6-4af4-a914-c0685ab88f6b",
   "metadata": {},
   "outputs": [],
   "source": [
    "def remove_nrows_with_value(df, value, key=\"account\", nrows=1): \n",
    "    pre_len = len(df) \n",
    "    df = df.loc[df[key].str.lower() != value.lower()]\n",
    "    assert len(df) == pre_len - nrows \n",
    "    return df "
   ]
  },
  {
   "cell_type": "code",
   "execution_count": 177,
   "id": "7737badc-bf84-4290-9f86-705031cd8882",
   "metadata": {},
   "outputs": [],
   "source": [
    "sg = Subgrounds()\n",
    "sg_curve_pools = sg.load_subgraph(url_subgraphs.convex.curve_pools)\n",
    "sg_curve_dao = sg.load_subgraph(URL_CURVE_DAO) "
   ]
  },
  {
   "cell_type": "code",
   "execution_count": 155,
   "id": "8877365e-1487-4c3d-b535-62c7c7ec9e9d",
   "metadata": {},
   "outputs": [],
   "source": [
    "def get_curve_gauge_balances(): \n",
    "    # frxETHCRV staked in curve gauge by account. frxETHCRV -> frxETHCRV-gauge at 1:1 ratio \n",
    "    # ---------------------------------------------------------------------------------------------------------------------\n",
    "    qattrs = ['id', 'provider', 'value']\n",
    "    # deposits into gauge \n",
    "    df_deposits = query_attrs(\n",
    "        sg, sg_curve_dao.Query.gaugeDeposits(first=100000, where={'gauge': ADDRESS_frxETHCRV_GAUGE_DEPOSIT}), qattrs\n",
    "    )\n",
    "    df_deposits = remove_prefix(df_deposits, 'gaugeDeposits_') \n",
    "    # withdawals from gauge \n",
    "    df_withdraws = query_attrs(\n",
    "        sg, sg_curve_dao.Query.gaugeWithdraws(first=100000, where={'gauge': ADDRESS_frxETHCRV_GAUGE_DEPOSIT}), qattrs\n",
    "    )\n",
    "    df_withdraws = remove_prefix(df_withdraws, 'gaugeWithdraws_') \n",
    "    df_withdraws.value *= -1\n",
    "    # Current deposited amount per address within gauge \n",
    "    df_curve = pd.concat([df_deposits, df_withdraws])\n",
    "    df_curve = df_curve.groupby('provider')['value'].sum().reset_index()\n",
    "    df_curve = df_curve.loc[df_curve.value != 0].sort_values('value', ascending=False).reset_index(drop=True)\n",
    "    df_curve['platform'] = 'curve-gauge'\n",
    "    df_curve.value /= 1e18\n",
    "    return df_curve \n",
    "\n",
    "def validate_curve_gauge_balances(df_curve): \n",
    "    frxethCRV_curve_gauge = df_curve.value.sum()\n",
    "    frxethCRV_curve_gauge_actual = get_account_balance_of_erc20(ADDRESS_frxETHCRV_GAUGE_DEPOSIT, ADDRESS_frxETHCRV)\n",
    "\n",
    "    frxethCRV_convex_staked = df_curve.loc[df_curve.provider == ADDRESS_CONVEX_VOTER_PROXY].value.sum()\n",
    "    frxethCRV_convex_staked_actual = get_account_balance_of_erc20(ADDRESS_CONVEX_VOTER_PROXY, ADDRESS_frxETHCRV_GAUGE_DEPOSIT)\n",
    "\n",
    "    # Manual validation of frxETHCRV staked in curve gauge \n",
    "    # https://etherscan.io/token/0xf43211935c781d5ca1a41d2041f397b8a7366c7a?a=0x2932a86df44fe8d2a706d8e9c5d51c24883423f5\n",
    "    print(f\"Number of frxETHCRV deposited in curve gauge:\\n\\tComputed: {frxethCRV_curve_gauge:>19}\\n\\tActual: {frxethCRV_curve_gauge_actual:>21}\")\n",
    "    if VALIDATE: \n",
    "        np.testing.assert_almost_equal(frxethCRV_curve_gauge_actual, frxethCRV_curve_gauge, decimal=10)\n",
    "\n",
    "    # Manual validation of frxETHCRV-gauge (1:1 with frxETHCRV) staked in convex \n",
    "    # https://etherscan.io/token/0x2932a86df44fe8d2a706d8e9c5d51c24883423f5?a=0x989aeb4d175e16225e39e87d0d97a3360524ad80\n",
    "    print(f\"Number of frxETHCRV-gauge held by convex voter proxy:\\n\\tComputed: {frxethCRV_convex_staked:>20}\\n\\tActual: {frxethCRV_convex_staked_actual:>22}\")\n",
    "    if VALIDATE: \n",
    "        np.testing.assert_almost_equal(frxethCRV_convex_staked_actual, frxethCRV_convex_staked, decimal=10)\n",
    "\n",
    "    print(f\"Percent of frxETHCRV staked in curve gauge through convex: {frxethCRV_convex_staked / frxethCRV_curve_gauge:%}\")\n",
    "    df_curve.head()"
   ]
  },
  {
   "cell_type": "code",
   "execution_count": 156,
   "id": "51d8afec-f9ed-4bfd-b3ed-46cd74b9eb30",
   "metadata": {},
   "outputs": [],
   "source": [
    "df_curve = get_curve_gauge_balances()"
   ]
  },
  {
   "cell_type": "code",
   "execution_count": 157,
   "id": "78f2de3d-9cc0-4db0-ba5d-72213c86c7ac",
   "metadata": {},
   "outputs": [
    {
     "name": "stdout",
     "output_type": "stream",
     "text": [
      "Number of frxETHCRV deposited in curve gauge:\n",
      "\tComputed:  51492.258676220976\n",
      "\tActual:     51492.25867622099\n",
      "Number of frxETHCRV-gauge held by convex voter proxy:\n",
      "\tComputed:    50536.29275668419\n",
      "\tActual:      50536.29275668419\n",
      "Percent of frxETHCRV staked in curve gauge through convex: 98.143476%\n"
     ]
    }
   ],
   "source": [
    "validate_curve_gauge_balances(df_curve)"
   ]
  },
  {
   "cell_type": "code",
   "execution_count": 158,
   "id": "d21a35ef-e136-4d91-adaf-f4927d87f0c6",
   "metadata": {},
   "outputs": [],
   "source": [
    "def get_convex_staked_balances(): \n",
    "    # frxETHCRV staked in convex (curve system). frxETHCRV -> cvxfrxETHCRV at 1:1 ratio \n",
    "    # ---------------------------------------------------------------------------------------------------------------------\n",
    "    qattrs = ['id', 'amount', 'timestamp', 'user.address']\n",
    "    # deposits into the convex staking contract for curve lp tokens \n",
    "    q_deposits = sg_curve_pools.Query.deposits(first=100000, where={'poolid_': {'swap': ADDRESS_CURVE_POOL_FRXETH_ETH}})\n",
    "    df_deposits = query_attrs(sg, q_deposits, qattrs)\n",
    "    df_deposits = remove_prefix(df_deposits, 'deposits_') \n",
    "    # withdrawals from the convex staking contract for curve lp tokens \n",
    "    q_withdrawals = sg_curve_pools.Query.withdrawals(first=100000, where={'poolid_': {'swap': ADDRESS_CURVE_POOL_FRXETH_ETH}})\n",
    "    df_withdrawals = query_attrs(sg, q_withdrawals, qattrs)\n",
    "    df_withdrawals = remove_prefix(df_withdrawals, 'withdrawals_') \n",
    "    df_withdrawals.amount *= -1\n",
    "    # current deposited amount per account in convex staking contract for curve lp tokens \n",
    "    df_convex = pd.concat([df_deposits, df_withdrawals])\n",
    "    df_convex = df_convex.groupby('user_address')['amount'].sum().reset_index()\n",
    "    df_convex = df_convex.loc[df_convex.amount != 0].sort_values('amount', ascending=False).reset_index(drop=True)\n",
    "    df_convex.amount /= 1e18\n",
    "    df_convex['platform'] = 'convex-curve'\n",
    "    df_convex = df_convex.rename(columns={'user_address': 'account'})\n",
    "    df_convex.head()\n",
    "    return df_convex \n",
    "\n",
    "def validate_convex_staked_balances(df_convex): \n",
    "    # Ensure that the holdings of frxETHCRV-gauge by the convex voter proxy address are the same (computed in two ways) \n",
    "    # 1. Curve dao subgraph - aggregating curve gauge deposits and withdraws by address (convex voter proxy is one of them). \n",
    "    # 2. Convex curve pools subgraph - aggregating convex gauge deposits and withdawals by address. \n",
    "    # These numbers should be really close but sometimes might differ due to subgraph indexing speed. \n",
    "    convex_frxethcrv_1 = df_curve.loc[df_curve.provider == ADDRESS_CONVEX_VOTER_PROXY]['value'].values.tolist()[0]\n",
    "    convex_frxethcrv_2 = df_convex.amount.sum()\n",
    "    print(f\"Number of frxETHCRV-gauge held by convex voter proxy (curve dao subgraph): {convex_frxethcrv_1:>26}\")\n",
    "    print(f\"Number of frxETHCRV-gauge held by convex voter proxy (convex curve pool subgraph): {convex_frxethcrv_2}\")\n",
    "    if VALIDATE: \n",
    "        np.testing.assert_almost_equal(convex_frxethcrv_1, convex_frxethcrv_2, 10)"
   ]
  },
  {
   "cell_type": "code",
   "execution_count": 159,
   "id": "8767b871-14f6-47be-b4e1-2251707cd298",
   "metadata": {},
   "outputs": [],
   "source": [
    "df_convex = get_convex_staked_balances()"
   ]
  },
  {
   "cell_type": "code",
   "execution_count": 160,
   "id": "366003fa-9b01-423f-9726-7d525f2edc45",
   "metadata": {},
   "outputs": [
    {
     "name": "stdout",
     "output_type": "stream",
     "text": [
      "Number of frxETHCRV-gauge held by convex voter proxy (curve dao subgraph):          50536.29275668419\n",
      "Number of frxETHCRV-gauge held by convex voter proxy (convex curve pool subgraph): 50536.2927566842\n"
     ]
    }
   ],
   "source": [
    "validate_convex_staked_balances(df_convex)"
   ]
  },
  {
   "cell_type": "code",
   "execution_count": 161,
   "id": "e9ef1f16-72c6-4a81-8bbc-4b231fcd9ac4",
   "metadata": {},
   "outputs": [],
   "source": [
    "def get_frax_staked_balances(): \n",
    "    # stkfrxETHCRV-frax staked in frax. frxETHCRV -> stkcvxfrxETHCRV-frax\n",
    "    # ---------------------------------------------------------------------------------------------------------------------\n",
    "    # These assets are held in the frax farm contract \n",
    "    contract_frax_farm = verified_contract(ADDRESS_FRAX_FARM_stkcvxfrxETHETH)\n",
    "    logs_stake_locked = contract_frax_farm.events.StakeLocked.getLogs(fromBlock=0)\n",
    "    logs_withdrawals = contract_frax_farm.events.WithdrawLocked.getLogs(fromBlock=0)\n",
    "    logs_lock_additional = contract_frax_farm.events.LockedAdditional.getLogs(fromBlock=0)\n",
    "    deposits = [{'account': d.args['user'], 'amount': d.args['amount'] / 1e18} for d in logs_stake_locked + logs_lock_additional]\n",
    "    withdrawals = [{'account': d.args['user'], 'amount': -d.args['liquidity'] / 1e18} for d in logs_withdrawals]\n",
    "    # We can determine which addresses correspond to convex staking proxy. These are users who are staking in the frax \n",
    "    # farm through convex for boosted FXS yield. \n",
    "    abi_convex_staking_proxy = '[{\"inputs\":[],\"stateMutability\":\"nonpayable\",\"type\":\"constructor\"},{\"inputs\":[],\"name\":\"FEE_DENOMINATOR\",\"outputs\":[{\"internalType\":\"uint256\",\"name\":\"\",\"type\":\"uint256\"}],\"stateMutability\":\"view\",\"type\":\"function\"},{\"inputs\":[{\"internalType\":\"address\",\"name\":\"_rewardsAddress\",\"type\":\"address\"}],\"name\":\"changeRewards\",\"outputs\":[],\"stateMutability\":\"nonpayable\",\"type\":\"function\"},{\"inputs\":[],\"name\":\"checkpointRewards\",\"outputs\":[],\"stateMutability\":\"nonpayable\",\"type\":\"function\"},{\"inputs\":[],\"name\":\"convexCurveBooster\",\"outputs\":[{\"internalType\":\"address\",\"name\":\"\",\"type\":\"address\"}],\"stateMutability\":\"view\",\"type\":\"function\"},{\"inputs\":[],\"name\":\"convexDepositToken\",\"outputs\":[{\"internalType\":\"address\",\"name\":\"\",\"type\":\"address\"}],\"stateMutability\":\"view\",\"type\":\"function\"},{\"inputs\":[],\"name\":\"crv\",\"outputs\":[{\"internalType\":\"address\",\"name\":\"\",\"type\":\"address\"}],\"stateMutability\":\"view\",\"type\":\"function\"},{\"inputs\":[],\"name\":\"curveLpToken\",\"outputs\":[{\"internalType\":\"address\",\"name\":\"\",\"type\":\"address\"}],\"stateMutability\":\"view\",\"type\":\"function\"},{\"inputs\":[],\"name\":\"cvx\",\"outputs\":[{\"internalType\":\"address\",\"name\":\"\",\"type\":\"address\"}],\"stateMutability\":\"view\",\"type\":\"function\"},{\"inputs\":[],\"name\":\"earned\",\"outputs\":[{\"internalType\":\"address[]\",\"name\":\"token_addresses\",\"type\":\"address[]\"},{\"internalType\":\"uint256[]\",\"name\":\"total_earned\",\"type\":\"uint256[]\"}],\"stateMutability\":\"view\",\"type\":\"function\"},{\"inputs\":[],\"name\":\"feeRegistry\",\"outputs\":[{\"internalType\":\"address\",\"name\":\"\",\"type\":\"address\"}],\"stateMutability\":\"view\",\"type\":\"function\"},{\"inputs\":[],\"name\":\"fxs\",\"outputs\":[{\"internalType\":\"address\",\"name\":\"\",\"type\":\"address\"}],\"stateMutability\":\"view\",\"type\":\"function\"},{\"inputs\":[],\"name\":\"getReward\",\"outputs\":[],\"stateMutability\":\"nonpayable\",\"type\":\"function\"},{\"inputs\":[{\"internalType\":\"bool\",\"name\":\"_claim\",\"type\":\"bool\"},{\"internalType\":\"address[]\",\"name\":\"_rewardTokenList\",\"type\":\"address[]\"}],\"name\":\"getReward\",\"outputs\":[],\"stateMutability\":\"nonpayable\",\"type\":\"function\"},{\"inputs\":[{\"internalType\":\"bool\",\"name\":\"_claim\",\"type\":\"bool\"}],\"name\":\"getReward\",\"outputs\":[],\"stateMutability\":\"nonpayable\",\"type\":\"function\"},{\"inputs\":[{\"internalType\":\"address\",\"name\":\"_owner\",\"type\":\"address\"},{\"internalType\":\"address\",\"name\":\"_stakingAddress\",\"type\":\"address\"},{\"internalType\":\"address\",\"name\":\"_stakingToken\",\"type\":\"address\"},{\"internalType\":\"address\",\"name\":\"_rewardsAddress\",\"type\":\"address\"}],\"name\":\"initialize\",\"outputs\":[],\"stateMutability\":\"nonpayable\",\"type\":\"function\"},{\"inputs\":[{\"internalType\":\"bytes32\",\"name\":\"_kek_id\",\"type\":\"bytes32\"},{\"internalType\":\"uint256\",\"name\":\"_addl_liq\",\"type\":\"uint256\"}],\"name\":\"lockAdditional\",\"outputs\":[],\"stateMutability\":\"nonpayable\",\"type\":\"function\"},{\"inputs\":[{\"internalType\":\"bytes32\",\"name\":\"_kek_id\",\"type\":\"bytes32\"},{\"internalType\":\"uint256\",\"name\":\"_addl_liq\",\"type\":\"uint256\"}],\"name\":\"lockAdditionalConvexToken\",\"outputs\":[],\"stateMutability\":\"nonpayable\",\"type\":\"function\"},{\"inputs\":[{\"internalType\":\"bytes32\",\"name\":\"_kek_id\",\"type\":\"bytes32\"},{\"internalType\":\"uint256\",\"name\":\"_addl_liq\",\"type\":\"uint256\"}],\"name\":\"lockAdditionalCurveLp\",\"outputs\":[],\"stateMutability\":\"nonpayable\",\"type\":\"function\"},{\"inputs\":[{\"internalType\":\"bytes32\",\"name\":\"_kek_id\",\"type\":\"bytes32\"},{\"internalType\":\"uint256\",\"name\":\"new_ending_ts\",\"type\":\"uint256\"}],\"name\":\"lockLonger\",\"outputs\":[],\"stateMutability\":\"nonpayable\",\"type\":\"function\"},{\"inputs\":[],\"name\":\"owner\",\"outputs\":[{\"internalType\":\"address\",\"name\":\"\",\"type\":\"address\"}],\"stateMutability\":\"view\",\"type\":\"function\"},{\"inputs\":[],\"name\":\"poolRegistry\",\"outputs\":[{\"internalType\":\"address\",\"name\":\"\",\"type\":\"address\"}],\"stateMutability\":\"view\",\"type\":\"function\"},{\"inputs\":[],\"name\":\"rewards\",\"outputs\":[{\"internalType\":\"address\",\"name\":\"\",\"type\":\"address\"}],\"stateMutability\":\"view\",\"type\":\"function\"},{\"inputs\":[{\"internalType\":\"address\",\"name\":\"_proxy\",\"type\":\"address\"}],\"name\":\"setVeFXSProxy\",\"outputs\":[],\"stateMutability\":\"nonpayable\",\"type\":\"function\"},{\"inputs\":[{\"internalType\":\"uint256\",\"name\":\"_liquidity\",\"type\":\"uint256\"},{\"internalType\":\"uint256\",\"name\":\"_secs\",\"type\":\"uint256\"}],\"name\":\"stakeLocked\",\"outputs\":[{\"internalType\":\"bytes32\",\"name\":\"kek_id\",\"type\":\"bytes32\"}],\"stateMutability\":\"nonpayable\",\"type\":\"function\"},{\"inputs\":[{\"internalType\":\"uint256\",\"name\":\"_liquidity\",\"type\":\"uint256\"},{\"internalType\":\"uint256\",\"name\":\"_secs\",\"type\":\"uint256\"}],\"name\":\"stakeLockedConvexToken\",\"outputs\":[{\"internalType\":\"bytes32\",\"name\":\"kek_id\",\"type\":\"bytes32\"}],\"stateMutability\":\"nonpayable\",\"type\":\"function\"},{\"inputs\":[{\"internalType\":\"uint256\",\"name\":\"_liquidity\",\"type\":\"uint256\"},{\"internalType\":\"uint256\",\"name\":\"_secs\",\"type\":\"uint256\"}],\"name\":\"stakeLockedCurveLp\",\"outputs\":[{\"internalType\":\"bytes32\",\"name\":\"kek_id\",\"type\":\"bytes32\"}],\"stateMutability\":\"nonpayable\",\"type\":\"function\"},{\"inputs\":[],\"name\":\"stakingAddress\",\"outputs\":[{\"internalType\":\"address\",\"name\":\"\",\"type\":\"address\"}],\"stateMutability\":\"view\",\"type\":\"function\"},{\"inputs\":[],\"name\":\"stakingToken\",\"outputs\":[{\"internalType\":\"address\",\"name\":\"\",\"type\":\"address\"}],\"stateMutability\":\"view\",\"type\":\"function\"},{\"inputs\":[],\"name\":\"usingProxy\",\"outputs\":[{\"internalType\":\"address\",\"name\":\"\",\"type\":\"address\"}],\"stateMutability\":\"view\",\"type\":\"function\"},{\"inputs\":[],\"name\":\"vaultType\",\"outputs\":[{\"internalType\":\"enum IProxyVault.VaultType\",\"name\":\"\",\"type\":\"uint8\"}],\"stateMutability\":\"pure\",\"type\":\"function\"},{\"inputs\":[],\"name\":\"vaultVersion\",\"outputs\":[{\"internalType\":\"uint256\",\"name\":\"\",\"type\":\"uint256\"}],\"stateMutability\":\"pure\",\"type\":\"function\"},{\"inputs\":[],\"name\":\"vefxsProxy\",\"outputs\":[{\"internalType\":\"address\",\"name\":\"\",\"type\":\"address\"}],\"stateMutability\":\"view\",\"type\":\"function\"},{\"inputs\":[{\"internalType\":\"bytes32\",\"name\":\"_kek_id\",\"type\":\"bytes32\"}],\"name\":\"withdrawLocked\",\"outputs\":[],\"stateMutability\":\"nonpayable\",\"type\":\"function\"},{\"inputs\":[{\"internalType\":\"bytes32\",\"name\":\"_kek_id\",\"type\":\"bytes32\"}],\"name\":\"withdrawLockedAndUnwrap\",\"outputs\":[],\"stateMutability\":\"nonpayable\",\"type\":\"function\"}]'\n",
    "    vault_owners = {}\n",
    "    for d in deposits:\n",
    "        a = d['account']\n",
    "        is_contract_account = True if w3.eth.getCode(Web3.toChecksumAddress(a)) else False\n",
    "        if is_contract_account: \n",
    "            try: \n",
    "                contract = w3.eth.contract(Web3.toChecksumAddress(a), abi=abi_convex_staking_proxy)\n",
    "                owner = contract.functions.owner().call()\n",
    "                vault_owners[a] = owner\n",
    "            except ContractLogicError: \n",
    "                pass \n",
    "    # During this groupby, accounts / vaults owned by accounts are still separate bc we haven't mapped them yet \n",
    "    df_frax_farm = pd.DataFrame(deposits + withdrawals).groupby('account')['amount'].sum().reset_index()\n",
    "    df_frax_farm = df_frax_farm.loc[df_frax_farm.amount != 0]\n",
    "    df_frax_farm['vault_address'] = df_frax_farm.account.apply(lambda a: a if a in vault_owners else None)\n",
    "    vault_mask = ~df_frax_farm.vault_address.isna()\n",
    "    df_frax_farm.loc[vault_mask, 'account'] = df_frax_farm.loc[vault_mask].account.apply(lambda a: vault_owners[a])\n",
    "    df_frax_farm['platform'] = 'frax-farm'\n",
    "    df_frax_farm.loc[~df_frax_farm.vault_address.isna(), 'platform'] = 'frax-farm-convex'\n",
    "    return df_frax_farm "
   ]
  },
  {
   "cell_type": "code",
   "execution_count": 162,
   "id": "233b8f24-e120-409f-812e-a1c1a7a1c3dd",
   "metadata": {},
   "outputs": [
    {
     "name": "stderr",
     "output_type": "stream",
     "text": [
      "/opt/miniconda3/envs/flywheel/lib/python3.10/site-packages/web3/method.py:215: DeprecationWarning: getCode is deprecated in favor of get_code\n",
      "  warnings.warn(\n"
     ]
    }
   ],
   "source": [
    "df_frax_farm = get_frax_staked_balances()"
   ]
  },
  {
   "cell_type": "code",
   "execution_count": 163,
   "id": "e74471a1-6ccc-442c-86b8-bb723817bdec",
   "metadata": {},
   "outputs": [],
   "source": [
    "df_circ_frxETHCRV = get_erc20_balance_for_all_accounts(ADDRESS_frxETHCRV, 0)\n",
    "df_circ_frxETHCRV = remove_nrows_with_value(df_circ_frxETHCRV, ADDRESS_frxETHCRV_GAUGE_DEPOSIT) \n",
    "df_circ_frxETHCRV = df_circ_frxETHCRV.rename(columns={'value': 'frxETHCRV (circulating)'})"
   ]
  },
  {
   "cell_type": "code",
   "execution_count": 164,
   "id": "30234d7d-da4d-497d-8cee-ea9fec2ba64b",
   "metadata": {},
   "outputs": [],
   "source": [
    "df_circ_cvxfrxETHCRV = get_erc20_balance_for_all_accounts(ADDRESS_cvxfrxETHCRV, 0)\n",
    "df_circ_cvxfrxETHCRV = remove_nrows_with_value(df_circ_cvxfrxETHCRV, ADDRESS_CONVEX_BASE_REWARDS_POOL)\n",
    "df_circ_cvxfrxETHCRV = df_circ_cvxfrxETHCRV.rename(columns={'value': 'cvxfrxETHCRV (circulating)'})"
   ]
  },
  {
   "cell_type": "code",
   "execution_count": 165,
   "id": "efaebc58-809b-4c8d-8a5e-2d0f4daa3b84",
   "metadata": {},
   "outputs": [],
   "source": [
    "df_circ_stkcvxfrxETHCRV_frax = get_erc20_balance_for_all_accounts(ADDRESS_CONVEX_STAKING_WRAPPER_FRAX, 0)\n",
    "df_circ_stkcvxfrxETHCRV_frax = remove_nrows_with_value(df_circ_stkcvxfrxETHCRV_frax, ADDRESS_FRAX_FARM_stkcvxfrxETHETH)\n",
    "df_circ_stkcvxfrxETHCRV_frax = df_circ_stkcvxfrxETHCRV_frax.rename(columns={'value': 'stkcvxfrxETHCRV-frax (circulating)'})"
   ]
  },
  {
   "cell_type": "code",
   "execution_count": 166,
   "id": "79914f70-da55-40ca-951b-1b986965ba87",
   "metadata": {},
   "outputs": [],
   "source": [
    "df_curve_staking = remove_nrows_with_value(df_curve, ADDRESS_CONVEX_VOTER_PROXY, key='provider') \n",
    "df_curve_staking = (\n",
    "    df_curve_staking.rename(columns={'provider': 'account', 'value': 'frxETHCRV-gauge (curve staked)'})\n",
    "    .drop(columns=['platform'])\n",
    ") \n",
    "# df_curve_staking.head(1)"
   ]
  },
  {
   "cell_type": "code",
   "execution_count": 167,
   "id": "4ca0fd7d-de6c-486e-8570-5d6c9b1aa2cc",
   "metadata": {},
   "outputs": [],
   "source": [
    "df_convex_staking = remove_nrows_with_value(df_convex, ADDRESS_CONVEX_STAKING_WRAPPER_FRAX, key='account') \n",
    "df_convex_staking = (\n",
    "    df_convex_staking.rename(columns={'amount': 'cvxfrxETHCRV (convex staked)'})\n",
    "    .drop(columns=['platform'])\n",
    ") \n",
    "# df_convex_staking.head(1)"
   ]
  },
  {
   "cell_type": "code",
   "execution_count": 168,
   "id": "08128a91-42c8-4809-a84e-ef3d812176a9",
   "metadata": {},
   "outputs": [],
   "source": [
    "df_frax_frax = df_frax_farm.loc[df_frax_farm.platform == 'frax-farm']\n",
    "df_frax_convex = df_frax_farm.loc[df_frax_farm.platform == 'frax-farm-convex']\n",
    "df_frax_frax = df_frax_frax.rename(columns={'amount': 'stkcvxfrxETHCRV-frax (frax staked)'})\n",
    "df_frax_convex = df_frax_convex.rename(columns={'amount': 'stkcvxfrxETHCRV-frax (frax staked via convex)'})\n",
    "df_frax_staking = (\n",
    "    df_frax_frax.drop(columns=[\"platform\", 'vault_address'])\n",
    "    .merge(\n",
    "        df_frax_convex.drop(columns=[\"platform\", 'vault_address']) , how='outer', on='account'\n",
    "    )\n",
    "    .fillna(0)\n",
    ")\n",
    "# df_frax_staking.head()"
   ]
  },
  {
   "cell_type": "code",
   "execution_count": 169,
   "id": "7315b0a0-1985-412a-ad8c-edf5d19fd7a1",
   "metadata": {},
   "outputs": [],
   "source": [
    "dfs = [\n",
    "    df_curve_staking, \n",
    "    df_convex_staking, \n",
    "    df_frax_staking, \n",
    "    df_circ_frxETHCRV, \n",
    "    df_circ_cvxfrxETHCRV, \n",
    "    df_circ_stkcvxfrxETHCRV_frax, \n",
    "]\n",
    "for i in range(len(dfs)): \n",
    "    dfs[i] = dfs[i].set_index('account') \n",
    "df = pd.concat(dfs, axis=1).fillna(0)\n",
    "value_cols = [c for c in df.columns if c != 'account']\n",
    "df['total_frxETHCRV'] = df[value_cols].sum(axis=1)\n",
    "df = df.loc[df.total_frxETHCRV != 0]\n",
    "df = df.sort_values('total_frxETHCRV', ascending=False).reset_index()"
   ]
  },
  {
   "cell_type": "code",
   "execution_count": 170,
   "id": "dedab41f-6e8d-45c3-97d8-61aa2ccb36a5",
   "metadata": {},
   "outputs": [
    {
     "name": "stdout",
     "output_type": "stream",
     "text": [
      "Total Supply frxETHCRV (actual):    51587.18829247536\n",
      "Total Supply frxETHCRV (computed):  51587.188292475366\n",
      "--------------------------------------------------------------------------------\n",
      "frxETHCRV-gauge (curve staked)                    955.9659195368007\n",
      "cvxfrxETHCRV (convex staked)                      2094.6025027571145\n",
      "stkcvxfrxETHCRV-frax (frax staked)                618.3782918412097\n",
      "stkcvxfrxETHCRV-frax (frax staked via convex)     47823.25920419248\n",
      "frxETHCRV (circulating)                           94.92961625436685\n",
      "cvxfrxETHCRV (circulating)                        0.0\n",
      "stkcvxfrxETHCRV-frax (circulating)                0.052757893385024394\n"
     ]
    }
   ],
   "source": [
    "actual = get_total_supply_of_erc20(ADDRESS_frxETHCRV)\n",
    "computed = df.total_frxETHCRV.sum()\n",
    "print(f\"Total Supply frxETHCRV (actual): {actual:>20}\")\n",
    "print(f\"Total Supply frxETHCRV (computed): {computed:>19}\")\n",
    "print(\"-\" * 80)\n",
    "for c in value_cols: \n",
    "    print(f\"{c:<50}{df[c].sum()}\")"
   ]
  },
  {
   "cell_type": "code",
   "execution_count": 171,
   "id": "156ea985-cc45-42db-938b-b90ab1f3f3e8",
   "metadata": {},
   "outputs": [
    {
     "name": "stderr",
     "output_type": "stream",
     "text": [
      "/opt/miniconda3/envs/flywheel/lib/python3.10/site-packages/altair/utils/core.py:317: FutureWarning: iteritems is deprecated and will be removed in a future version. Use .items instead.\n",
      "  for col_name, dtype in df.dtypes.iteritems():\n"
     ]
    },
    {
     "data": {
      "application/vnd.vegalite.v4+json": {
       "$schema": "https://vega.github.io/schema/vega-lite/v4.17.0.json",
       "config": {
        "view": {
         "continuousHeight": 300,
         "continuousWidth": 400
        }
       },
       "datasets": {
        "data-0a2f59a26745a7526501e3b85db55985": [
         {
          "index": 0,
          "value": 0,
          "variable": "cvxfrxETHCRV (circulating)"
         },
         {
          "index": 1,
          "value": 0.052757893385024394,
          "variable": "stkcvxfrxETHCRV-frax (circulating)"
         },
         {
          "index": 2,
          "value": 94.92961625436685,
          "variable": "frxETHCRV (circulating)"
         },
         {
          "index": 3,
          "value": 618.3782918412097,
          "variable": "stkcvxfrxETHCRV-frax (frax staked)"
         },
         {
          "index": 4,
          "value": 955.9659195368007,
          "variable": "frxETHCRV-gauge (curve staked)"
         },
         {
          "index": 5,
          "value": 2094.6025027571145,
          "variable": "cvxfrxETHCRV (convex staked)"
         },
         {
          "index": 6,
          "value": 47823.25920419248,
          "variable": "stkcvxfrxETHCRV-frax (frax staked via convex)"
         }
        ],
        "data-38ef27b6d1758f5e5039fa50bff45db3": [
         {
          "account": "0xB29Cd9C87a624B940335d6d5e1D4aADf7D95bEeC",
          "frxETHCRV": 1179.436819415514,
          "index": 0
         },
         {
          "account": "0x2f206D74d7cFcc6a9F556825034eB110a572AD62",
          "frxETHCRV": 1249.4212682653244,
          "index": 1
         },
         {
          "account": "0x8D8B9c79196f32161BcB2A9728D274B3b45eB9AF",
          "frxETHCRV": 1259.2000000000035,
          "index": 2
         },
         {
          "account": "0x2dE9D6f84e28F3A347b97C6a3Db51D366E65bA4C",
          "frxETHCRV": 1453.305330760811,
          "index": 3
         },
         {
          "account": "0xaF184b4cBc73A9Ca2F51c4a4d80eD67a2578E9F4",
          "frxETHCRV": 1772.0354546615172,
          "index": 4
         },
         {
          "account": "0x2326D4fb2737666DDA96bd6314e3D4418246cFE8",
          "frxETHCRV": 1801.3214807394322,
          "index": 5
         },
         {
          "account": "0x581cf4642283edA85a64bB45cd226854415AB830",
          "frxETHCRV": 2286.42652967617,
          "index": 6
         },
         {
          "account": "0xD07993c6cb9692a71522Baf970A31069034dF2B0",
          "frxETHCRV": 3170.969204640198,
          "index": 7
         },
         {
          "account": "0x9026A229b535ecF0162Dfe48fDeb3c75f7b2A7AE",
          "frxETHCRV": 3965.32247841957,
          "index": 8
         },
         {
          "account": "0x8306300ffd616049FD7e4b0354a64Da835c1A81C",
          "frxETHCRV": 8500.904770591864,
          "index": 9
         },
         {
          "account": "Other Holders",
          "frxETHCRV": 24948.844955304958,
          "index": 10
         }
        ]
       },
       "hconcat": [
        {
         "data": {
          "name": "data-0a2f59a26745a7526501e3b85db55985"
         },
         "encoding": {
          "color": {
           "field": "variable",
           "type": "nominal"
          },
          "order": {
           "field": "index",
           "type": "ordinal"
          },
          "theta": {
           "field": "value",
           "type": "quantitative"
          },
          "tooltip": [
           {
            "field": "variable",
            "type": "nominal"
           },
           {
            "field": "value",
            "format": ",d",
            "title": "frxETHCRV",
            "type": "quantitative"
           },
           {
            "field": "fraction",
            "format": ".1%",
            "title": "Share",
            "type": "quantitative"
           }
          ]
         },
         "mark": "arc",
         "transform": [
          {
           "joinaggregate": [
            {
             "as": "amount_total",
             "field": "value",
             "op": "sum"
            }
           ]
          },
          {
           "as": "fraction",
           "calculate": "datum.value / datum.amount_total"
          }
         ]
        },
        {
         "data": {
          "name": "data-38ef27b6d1758f5e5039fa50bff45db3"
         },
         "encoding": {
          "color": {
           "field": "account",
           "scale": {
            "range": [
             "#1F77B4",
             "#AEC7E8",
             "#FF7F0E",
             "#FFBB78",
             "#2CA02C",
             "#98DF8A",
             "#D62728",
             "#FF9896",
             "#9467BD",
             "#C5B0D5",
             "#8C564B",
             "#C49C94",
             "#E377C2",
             "#F7B6D2",
             "#7F7F7F",
             "#C7C7C7",
             "#BCBD22",
             "#DBDB8D",
             "#17BECF",
             "#9EDAE5",
             "#780085",
             "#7D45E4",
             "#598CEC",
             "#3BBEA9",
             "#56DE52",
             "#A2EC55",
             "#DCDD5C",
             "#F9965B"
            ]
           },
           "type": "nominal"
          },
          "order": {
           "field": "index",
           "type": "ordinal"
          },
          "theta": {
           "field": "frxETHCRV",
           "type": "quantitative"
          },
          "tooltip": [
           {
            "field": "account",
            "type": "nominal"
           },
           {
            "field": "frxETHCRV",
            "format": ",d",
            "title": "frxETHCRV",
            "type": "quantitative"
           },
           {
            "field": "fraction",
            "format": ".1%",
            "title": "Share",
            "type": "quantitative"
           }
          ]
         },
         "mark": "arc",
         "transform": [
          {
           "joinaggregate": [
            {
             "as": "total",
             "field": "frxETHCRV",
             "op": "sum"
            }
           ]
          },
          {
           "as": "fraction",
           "calculate": "datum.frxETHCRV / datum.total"
          }
         ]
        }
       ],
       "resolve": {
        "legend": {
         "color": "independent"
        },
        "scale": {
         "color": "independent"
        }
       }
      },
      "image/png": "[encoded data removed]",
      "text/plain": [
       "<VegaLite 4 object>\n",
       "\n",
       "If you see this message, it means the renderer has not been properly enabled\n",
       "for the frontend that you are using. For more information, see\n",
       "https://altair-viz.github.io/user_guide/troubleshooting.html\n"
      ]
     },
     "execution_count": 171,
     "metadata": {},
     "output_type": "execute_result"
    }
   ],
   "source": [
    "d = df.reset_index()[['index', 'account', 'total_frxETHCRV']].reset_index()\n",
    "top_n_holders = 10\n",
    "d_top_n = (\n",
    "    pd.concat([\n",
    "        d.loc[d.index < top_n_holders][['account', 'total_frxETHCRV']].rename(columns={'total_frxETHCRV': 'frxETHCRV'}), \n",
    "        pd.DataFrame([{\n",
    "            \"account\": \"Other Holders\", \n",
    "            \"frxETHCRV\": d.loc[d.index >= top_n_holders].total_frxETHCRV.sum()}\n",
    "        ])\n",
    "    ])\n",
    "    .sort_values('frxETHCRV').reset_index(drop=True).reset_index()\n",
    ")\n",
    "\n",
    "(\n",
    "    alt.hconcat(\n",
    "        alt.Chart(\n",
    "            pd.melt(df, id_vars='account', value_vars=value_cols).reset_index()\n",
    "            .groupby('variable')['value'].sum().reset_index()\n",
    "            .sort_values('value').reset_index(drop=True).reset_index()\n",
    "        )\n",
    "        .transform_joinaggregate(amount_total=\"sum(value)\")\n",
    "        .transform_calculate(fraction=\"datum.value / datum.amount_total\")\n",
    "        .mark_arc()\n",
    "        .encode(\n",
    "            theta=\"value:Q\", \n",
    "            color=\"variable:N\", \n",
    "            order=\"index:O\", \n",
    "            tooltip=[\n",
    "                alt.Tooltip(\"variable:N\"), \n",
    "                alt.Tooltip(\"value:Q\", format=\",d\", title=\"frxETHCRV\"),\n",
    "                alt.Tooltip(\"fraction:Q\", format=\".1%\", title=\"Share\"),\n",
    "            ]\n",
    "        ),\n",
    "        alt.Chart(d_top_n)\n",
    "        .transform_joinaggregate(total=\"sum(frxETHCRV)\")\n",
    "        .transform_calculate(fraction=\"datum.frxETHCRV / datum.total\")\n",
    "        .mark_arc()\n",
    "        .encode(\n",
    "            theta=alt.Theta(\"frxETHCRV:Q\"), \n",
    "            color=alt.Color(\"account:N\", scale=alt.Scale(range=colors_28)), \n",
    "            order=\"index:O\", \n",
    "            tooltip=[\n",
    "                alt.Tooltip(\"account:N\"), \n",
    "                alt.Tooltip(\"frxETHCRV:Q\", format=\",d\", title=\"frxETHCRV\"),\n",
    "                alt.Tooltip(\"fraction:Q\", format=\".1%\", title=\"Share\"),\n",
    "            ]\n",
    "        ) \n",
    "    )\n",
    "    .resolve_scale(color=\"independent\")\n",
    "    .resolve_legend(color=\"independent\")\n",
    ")"
   ]
  },
  {
   "cell_type": "code",
   "execution_count": 172,
   "id": "1f09fc18-42e4-4b33-894f-35866ec1a641",
   "metadata": {},
   "outputs": [
    {
     "data": {
      "text/html": [
       "<table border=\"1\" class=\"dataframe\">\n",
       "  <thead>\n",
       "    <tr style=\"text-align: right;\">\n",
       "      <th></th>\n",
       "      <th>account</th>\n",
       "      <th>frxETHCRV-gauge (curve staked)</th>\n",
       "      <th>cvxfrxETHCRV (convex staked)</th>\n",
       "      <th>stkcvxfrxETHCRV-frax (frax staked)</th>\n",
       "      <th>stkcvxfrxETHCRV-frax (frax staked via convex)</th>\n",
       "      <th>frxETHCRV (circulating)</th>\n",
       "      <th>cvxfrxETHCRV (circulating)</th>\n",
       "      <th>stkcvxfrxETHCRV-frax (circulating)</th>\n",
       "      <th>total_frxETHCRV</th>\n",
       "    </tr>\n",
       "  </thead>\n",
       "  <tbody>\n",
       "    <tr>\n",
       "      <th>0</th>\n",
       "      <td>0x8306300ffd616049FD7e4b0354a64Da835c1A81C</td>\n",
       "      <td>0.00</td>\n",
       "      <td>0.00</td>\n",
       "      <td>0.00</td>\n",
       "      <td>8500.90</td>\n",
       "      <td>0.00</td>\n",
       "      <td>0.00</td>\n",
       "      <td>0.00</td>\n",
       "      <td>8500.90</td>\n",
       "    </tr>\n",
       "    <tr>\n",
       "      <th>1</th>\n",
       "      <td>0x9026A229b535ecF0162Dfe48fDeb3c75f7b2A7AE</td>\n",
       "      <td>0.00</td>\n",
       "      <td>0.00</td>\n",
       "      <td>0.00</td>\n",
       "      <td>3965.32</td>\n",
       "      <td>0.00</td>\n",
       "      <td>0.00</td>\n",
       "      <td>0.00</td>\n",
       "      <td>3965.32</td>\n",
       "    </tr>\n",
       "    <tr>\n",
       "      <th>2</th>\n",
       "      <td>0xD07993c6cb9692a71522Baf970A31069034dF2B0</td>\n",
       "      <td>0.00</td>\n",
       "      <td>0.00</td>\n",
       "      <td>0.00</td>\n",
       "      <td>3170.97</td>\n",
       "      <td>0.00</td>\n",
       "      <td>0.00</td>\n",
       "      <td>0.00</td>\n",
       "      <td>3170.97</td>\n",
       "    </tr>\n",
       "    <tr>\n",
       "      <th>3</th>\n",
       "      <td>0x581cf4642283edA85a64bB45cd226854415AB830</td>\n",
       "      <td>0.00</td>\n",
       "      <td>0.00</td>\n",
       "      <td>0.00</td>\n",
       "      <td>2286.43</td>\n",
       "      <td>0.00</td>\n",
       "      <td>0.00</td>\n",
       "      <td>0.00</td>\n",
       "      <td>2286.43</td>\n",
       "    </tr>\n",
       "    <tr>\n",
       "      <th>4</th>\n",
       "      <td>0x2326D4fb2737666DDA96bd6314e3D4418246cFE8</td>\n",
       "      <td>0.00</td>\n",
       "      <td>0.00</td>\n",
       "      <td>0.00</td>\n",
       "      <td>1801.32</td>\n",
       "      <td>0.00</td>\n",
       "      <td>0.00</td>\n",
       "      <td>0.00</td>\n",
       "      <td>1801.32</td>\n",
       "    </tr>\n",
       "  </tbody>\n",
       "</table>"
      ],
      "text/plain": [
       "<IPython.core.display.HTML object>"
      ]
     },
     "metadata": {},
     "output_type": "display_data"
    }
   ],
   "source": [
    "precision = 2\n",
    "pd.set_option('display.float_format', lambda x: f'%.{precision}f' % x)\n",
    "ddf(\n",
    "    df.loc[df.total_frxETHCRV >= 10**(-1*precision)].sort_values('total_frxETHCRV', ascending=False).head()\n",
    ")"
   ]
  },
  {
   "cell_type": "code",
   "execution_count": 173,
   "id": "77a7bd8d-397e-4988-8463-62dc4338406a",
   "metadata": {},
   "outputs": [
    {
     "data": {
      "text/html": [
       "<table border=\"1\" class=\"dataframe\">\n",
       "  <thead>\n",
       "    <tr style=\"text-align: right;\">\n",
       "      <th></th>\n",
       "      <th>account</th>\n",
       "      <th>frxETHCRV-gauge (curve staked)</th>\n",
       "      <th>cvxfrxETHCRV (convex staked)</th>\n",
       "      <th>stkcvxfrxETHCRV-frax (frax staked)</th>\n",
       "      <th>stkcvxfrxETHCRV-frax (frax staked via convex)</th>\n",
       "      <th>frxETHCRV (circulating)</th>\n",
       "      <th>cvxfrxETHCRV (circulating)</th>\n",
       "      <th>stkcvxfrxETHCRV-frax (circulating)</th>\n",
       "      <th>total_frxETHCRV</th>\n",
       "      <th>ens</th>\n",
       "    </tr>\n",
       "  </thead>\n",
       "  <tbody>\n",
       "    <tr>\n",
       "      <th>0</th>\n",
       "      <td>0x8306300ffd616049FD7e4b0354a64Da835c1A81C</td>\n",
       "      <td>0.00</td>\n",
       "      <td>0.00</td>\n",
       "      <td>0.00</td>\n",
       "      <td>8500.90</td>\n",
       "      <td>0.00</td>\n",
       "      <td>0.00</td>\n",
       "      <td>0.00</td>\n",
       "      <td>8500.90</td>\n",
       "      <td>None</td>\n",
       "    </tr>\n",
       "    <tr>\n",
       "      <th>1</th>\n",
       "      <td>0x9026A229b535ecF0162Dfe48fDeb3c75f7b2A7AE</td>\n",
       "      <td>0.00</td>\n",
       "      <td>0.00</td>\n",
       "      <td>0.00</td>\n",
       "      <td>3965.32</td>\n",
       "      <td>0.00</td>\n",
       "      <td>0.00</td>\n",
       "      <td>0.00</td>\n",
       "      <td>3965.32</td>\n",
       "      <td>czsamsunsb.eth</td>\n",
       "    </tr>\n",
       "    <tr>\n",
       "      <th>2</th>\n",
       "      <td>0xD07993c6cb9692a71522Baf970A31069034dF2B0</td>\n",
       "      <td>0.00</td>\n",
       "      <td>0.00</td>\n",
       "      <td>0.00</td>\n",
       "      <td>3170.97</td>\n",
       "      <td>0.00</td>\n",
       "      <td>0.00</td>\n",
       "      <td>0.00</td>\n",
       "      <td>3170.97</td>\n",
       "      <td>None</td>\n",
       "    </tr>\n",
       "    <tr>\n",
       "      <th>3</th>\n",
       "      <td>0x581cf4642283edA85a64bB45cd226854415AB830</td>\n",
       "      <td>0.00</td>\n",
       "      <td>0.00</td>\n",
       "      <td>0.00</td>\n",
       "      <td>2286.43</td>\n",
       "      <td>0.00</td>\n",
       "      <td>0.00</td>\n",
       "      <td>0.00</td>\n",
       "      <td>2286.43</td>\n",
       "      <td>None</td>\n",
       "    </tr>\n",
       "    <tr>\n",
       "      <th>4</th>\n",
       "      <td>0x2326D4fb2737666DDA96bd6314e3D4418246cFE8</td>\n",
       "      <td>0.00</td>\n",
       "      <td>0.00</td>\n",
       "      <td>0.00</td>\n",
       "      <td>1801.32</td>\n",
       "      <td>0.00</td>\n",
       "      <td>0.00</td>\n",
       "      <td>0.00</td>\n",
       "      <td>1801.32</td>\n",
       "      <td>None</td>\n",
       "    </tr>\n",
       "    <tr>\n",
       "      <th>5</th>\n",
       "      <td>0xaF184b4cBc73A9Ca2F51c4a4d80eD67a2578E9F4</td>\n",
       "      <td>0.00</td>\n",
       "      <td>0.00</td>\n",
       "      <td>0.00</td>\n",
       "      <td>1772.04</td>\n",
       "      <td>0.00</td>\n",
       "      <td>0.00</td>\n",
       "      <td>0.00</td>\n",
       "      <td>1772.04</td>\n",
       "      <td>None</td>\n",
       "    </tr>\n",
       "    <tr>\n",
       "      <th>6</th>\n",
       "      <td>0x2dE9D6f84e28F3A347b97C6a3Db51D366E65bA4C</td>\n",
       "      <td>0.00</td>\n",
       "      <td>0.00</td>\n",
       "      <td>0.00</td>\n",
       "      <td>1453.31</td>\n",
       "      <td>0.00</td>\n",
       "      <td>0.00</td>\n",
       "      <td>0.00</td>\n",
       "      <td>1453.31</td>\n",
       "      <td>safefarmer.eth</td>\n",
       "    </tr>\n",
       "    <tr>\n",
       "      <th>7</th>\n",
       "      <td>0x8D8B9c79196f32161BcB2A9728D274B3b45eB9AF</td>\n",
       "      <td>0.00</td>\n",
       "      <td>0.00</td>\n",
       "      <td>0.00</td>\n",
       "      <td>1259.20</td>\n",
       "      <td>0.00</td>\n",
       "      <td>0.00</td>\n",
       "      <td>0.00</td>\n",
       "      <td>1259.20</td>\n",
       "      <td>None</td>\n",
       "    </tr>\n",
       "    <tr>\n",
       "      <th>8</th>\n",
       "      <td>0x2f206D74d7cFcc6a9F556825034eB110a572AD62</td>\n",
       "      <td>0.00</td>\n",
       "      <td>0.00</td>\n",
       "      <td>0.00</td>\n",
       "      <td>1249.42</td>\n",
       "      <td>0.00</td>\n",
       "      <td>0.00</td>\n",
       "      <td>0.00</td>\n",
       "      <td>1249.42</td>\n",
       "      <td>uhtearyum.eth</td>\n",
       "    </tr>\n",
       "    <tr>\n",
       "      <th>9</th>\n",
       "      <td>0xB29Cd9C87a624B940335d6d5e1D4aADf7D95bEeC</td>\n",
       "      <td>0.00</td>\n",
       "      <td>0.00</td>\n",
       "      <td>0.00</td>\n",
       "      <td>1179.44</td>\n",
       "      <td>0.00</td>\n",
       "      <td>0.00</td>\n",
       "      <td>0.00</td>\n",
       "      <td>1179.44</td>\n",
       "      <td>adamant.eth</td>\n",
       "    </tr>\n",
       "  </tbody>\n",
       "</table>"
      ],
      "text/plain": [
       "<IPython.core.display.HTML object>"
      ]
     },
     "metadata": {},
     "output_type": "display_data"
    }
   ],
   "source": [
    "# - 3 largest deposits\n",
    "# - time of first deposit \n",
    "# - Notable wallets that deposited\n",
    "df = df.sort_values('total_frxETHCRV', ascending=False).reset_index(drop=True) \n",
    "ens = {\n",
    "    \"0x9026A229b535ecF0162Dfe48fDeb3c75f7b2A7AE\": \"czsamsunsb.eth\", \n",
    "    \"0x2dE9D6f84e28F3A347b97C6a3Db51D366E65bA4C\": \"safefarmer.eth\", \n",
    "    \"0x2f206D74d7cFcc6a9F556825034eB110a572AD62\": \"uhtearyum.eth\", \n",
    "    \"0xB29Cd9C87a624B940335d6d5e1D4aADf7D95bEeC\": \"adamant.eth\", \n",
    "}\n",
    "df['ens'] = df.account.apply(lambda a: ens.get(a))\n",
    "ddf(df.head(10))"
   ]
  },
  {
   "cell_type": "code",
   "execution_count": 174,
   "id": "34948f32-7e67-4bc5-a2da-433a7a15a43a",
   "metadata": {},
   "outputs": [
    {
     "name": "stdout",
     "output_type": "stream",
     "text": [
      "19320803.886743303\n"
     ]
    },
    {
     "name": "stderr",
     "output_type": "stream",
     "text": [
      "/opt/miniconda3/envs/flywheel/lib/python3.10/site-packages/altair/utils/core.py:317: FutureWarning: iteritems is deprecated and will be removed in a future version. Use .items instead.\n",
      "  for col_name, dtype in df.dtypes.iteritems():\n"
     ]
    },
    {
     "data": {
      "application/vnd.vegalite.v4+json": {
       "$schema": "https://vega.github.io/schema/vega-lite/v4.17.0.json",
       "config": {
        "view": {
         "continuousHeight": 300,
         "continuousWidth": 400
        }
       },
       "data": {
        "name": "data-ebdfb5309209f5b96d2627ece0688857"
       },
       "datasets": {
        "data-ebdfb5309209f5b96d2627ece0688857": [
         {
          "date": "2022-10-20T00:00:00",
          "volumeUSD": 20116.719477048857
         },
         {
          "date": "2022-10-25T00:00:00",
          "volumeUSD": 12775.841660485316
         },
         {
          "date": "2022-10-26T00:00:00",
          "volumeUSD": 7340.877816563541
         },
         {
          "date": "2022-10-27T00:00:00",
          "volumeUSD": 64723.82591532209
         },
         {
          "date": "2022-10-29T00:00:00",
          "volumeUSD": 26058.731901655465
         },
         {
          "date": "2022-10-31T00:00:00",
          "volumeUSD": 25097.952948960126
         },
         {
          "date": "2022-11-01T00:00:00",
          "volumeUSD": 796.6758869498243
         },
         {
          "date": "2022-11-02T00:00:00",
          "volumeUSD": 1840.7450535437708
         },
         {
          "date": "2022-11-03T00:00:00",
          "volumeUSD": 707724.6750881756
         },
         {
          "date": "2022-11-04T00:00:00",
          "volumeUSD": 58123.904112522716
         },
         {
          "date": "2022-11-05T00:00:00",
          "volumeUSD": 4093.7601128764773
         },
         {
          "date": "2022-11-06T00:00:00",
          "volumeUSD": 82734.1135520963
         },
         {
          "date": "2022-11-07T00:00:00",
          "volumeUSD": 165630.8562359512
         },
         {
          "date": "2022-11-08T00:00:00",
          "volumeUSD": 120559.49819407851
         },
         {
          "date": "2022-11-09T00:00:00",
          "volumeUSD": 107821.62710805376
         },
         {
          "date": "2022-11-10T00:00:00",
          "volumeUSD": 142155.4732221473
         },
         {
          "date": "2022-11-11T00:00:00",
          "volumeUSD": 10449.404802048603
         },
         {
          "date": "2022-11-12T00:00:00",
          "volumeUSD": 31135.01737399246
         },
         {
          "date": "2022-11-13T00:00:00",
          "volumeUSD": 637.9546360889332
         },
         {
          "date": "2022-11-14T00:00:00",
          "volumeUSD": 4411.561840519939
         },
         {
          "date": "2022-11-15T00:00:00",
          "volumeUSD": 53434.71813360744
         },
         {
          "date": "2022-11-17T00:00:00",
          "volumeUSD": 138598.30088851295
         },
         {
          "date": "2022-11-18T00:00:00",
          "volumeUSD": 38546.28184964609
         },
         {
          "date": "2022-11-19T00:00:00",
          "volumeUSD": 693.5897555730537
         },
         {
          "date": "2022-11-20T00:00:00",
          "volumeUSD": 19050.395688779772
         },
         {
          "date": "2022-11-21T00:00:00",
          "volumeUSD": 564.3231352707292
         },
         {
          "date": "2022-11-22T00:00:00",
          "volumeUSD": 73184.29667836241
         },
         {
          "date": "2022-11-23T00:00:00",
          "volumeUSD": 601.3093835862386
         },
         {
          "date": "2022-11-24T00:00:00",
          "volumeUSD": 844343.1196922129
         },
         {
          "date": "2022-11-25T00:00:00",
          "volumeUSD": 42860.009891066395
         },
         {
          "date": "2022-11-26T00:00:00",
          "volumeUSD": 0.814373007728837
         },
         {
          "date": "2022-11-27T00:00:00",
          "volumeUSD": 1396.2878826758626
         },
         {
          "date": "2022-11-28T00:00:00",
          "volumeUSD": 772294.0814239435
         },
         {
          "date": "2022-11-29T00:00:00",
          "volumeUSD": 12661.29538934694
         },
         {
          "date": "2022-11-30T00:00:00",
          "volumeUSD": 10330.290429822271
         },
         {
          "date": "2022-12-01T00:00:00",
          "volumeUSD": 1383585.4406913533
         },
         {
          "date": "2022-12-02T00:00:00",
          "volumeUSD": 253022.35025772062
         },
         {
          "date": "2022-12-03T00:00:00",
          "volumeUSD": 2031.142321640744
         },
         {
          "date": "2022-12-04T00:00:00",
          "volumeUSD": 316523.71491842973
         },
         {
          "date": "2022-12-05T00:00:00",
          "volumeUSD": 640522.7991722717
         },
         {
          "date": "2022-12-06T00:00:00",
          "volumeUSD": 153393.76298194815
         },
         {
          "date": "2022-12-07T00:00:00",
          "volumeUSD": 7514.804189646093
         },
         {
          "date": "2022-12-08T00:00:00",
          "volumeUSD": 423652.1395784791
         },
         {
          "date": "2022-12-09T00:00:00",
          "volumeUSD": 428.18664320187855
         },
         {
          "date": "2022-12-10T00:00:00",
          "volumeUSD": 78558.90815261749
         },
         {
          "date": "2022-12-11T00:00:00",
          "volumeUSD": 89785.97054497285
         },
         {
          "date": "2022-12-12T00:00:00",
          "volumeUSD": 14863.997404094878
         },
         {
          "date": "2022-12-13T00:00:00",
          "volumeUSD": 197286.35887540557
         },
         {
          "date": "2022-12-14T00:00:00",
          "volumeUSD": 37874.91502152257
         },
         {
          "date": "2022-12-15T00:00:00",
          "volumeUSD": 1711988.8550930806
         },
         {
          "date": "2022-12-16T00:00:00",
          "volumeUSD": 92308.60748552249
         },
         {
          "date": "2022-12-17T00:00:00",
          "volumeUSD": 53109.86572374307
         },
         {
          "date": "2022-12-18T00:00:00",
          "volumeUSD": 109532.96408234039
         },
         {
          "date": "2022-12-19T00:00:00",
          "volumeUSD": 1428954.146542869
         },
         {
          "date": "2022-12-20T00:00:00",
          "volumeUSD": 11957.93984805688
         },
         {
          "date": "2022-12-21T00:00:00",
          "volumeUSD": 16093.202495617596
         },
         {
          "date": "2022-12-22T00:00:00",
          "volumeUSD": 2695889.077464963
         },
         {
          "date": "2022-12-23T00:00:00",
          "volumeUSD": 28396.45037754459
         },
         {
          "date": "2022-12-24T00:00:00",
          "volumeUSD": 338872.78206849965
         },
         {
          "date": "2022-12-25T00:00:00",
          "volumeUSD": 231584.10598636064
         },
         {
          "date": "2022-12-26T00:00:00",
          "volumeUSD": 199345.3785486346
         },
         {
          "date": "2022-12-27T00:00:00",
          "volumeUSD": 198028.79190357632
         },
         {
          "date": "2022-12-28T00:00:00",
          "volumeUSD": 1694896.7003324293
         },
         {
          "date": "2022-12-29T00:00:00",
          "volumeUSD": 1608593.8105916444
         },
         {
          "date": "2022-12-30T00:00:00",
          "volumeUSD": 12693.960439207083
         },
         {
          "date": "2022-12-31T00:00:00",
          "volumeUSD": 184205.872218896
         },
         {
          "date": "2023-01-01T00:00:00",
          "volumeUSD": 160362.44674764408
         },
         {
          "date": "2023-01-02T00:00:00",
          "volumeUSD": 14354.607266886074
         },
         {
          "date": "2023-01-03T00:00:00",
          "volumeUSD": 3381.7163437765093
         },
         {
          "date": "2023-01-04T00:00:00",
          "volumeUSD": 1037027.4627190997
         },
         {
          "date": "2023-01-05T00:00:00",
          "volumeUSD": 189250.43312452585
         },
         {
          "date": "2023-01-06T00:00:00",
          "volumeUSD": 15136.789218889846
         },
         {
          "date": "2023-01-07T00:00:00",
          "volumeUSD": 37989.25496145284
         },
         {
          "date": "2023-01-08T00:00:00",
          "volumeUSD": 37008.85859966947
         },
         {
          "date": "2023-01-09T00:00:00",
          "volumeUSD": 8006.984270568396
         }
        ]
       },
       "encoding": {
        "x": {
         "field": "date",
         "type": "temporal"
        },
        "y": {
         "field": "volumeUSD",
         "type": "quantitative"
        }
       },
       "mark": "line"
      },
      "image/png": "[encoded data removed]",
      "text/plain": [
       "<VegaLite 4 object>\n",
       "\n",
       "If you see this message, it means the renderer has not been properly enabled\n",
       "for the frontend that you are using. For more information, see\n",
       "https://altair-viz.github.io/user_guide/troubleshooting.html\n"
      ]
     },
     "execution_count": 174,
     "metadata": {},
     "output_type": "execute_result"
    }
   ],
   "source": [
    "# - total FrxETH/sfrxeth volume \n",
    "from subgrounds import Subgrounds\n",
    "\n",
    "sg = Subgrounds()\n",
    "sg_curve_vol = sg.load_subgraph(url_subgraphs.convex.curve_vol_mainnet)\n",
    "q = sg_curve_vol.Query.swapVolumeSnapshots(where={\"pool\": \"0xa1f8a6807c402e4a15ef4eba36528a3fed24e577\"}, first=1000)\n",
    "df_frxeth_pool = sg.query_df([q.timestamp, q.volumeUSD])\n",
    "df_frxeth_pool = remove_prefix(df_frxeth_pool, 'swapVolumeSnapshots_')\n",
    "df_frxeth_pool.timestamp = pd.to_datetime(df_frxeth_pool.timestamp, unit='s')\n",
    "df_frxeth_pool['date'] = pd.to_datetime(df_frxeth_pool.timestamp.dt.date)\n",
    "df_frxeth_pool = df_frxeth_pool.groupby(\"date\").max().reset_index()[['date', 'volumeUSD']]\n",
    "df_frxeth_pool.volumeUSD /= 2\n",
    "print(df_frxeth_pool.volumeUSD.sum()) \n",
    "alt.Chart(df_frxeth_pool).mark_line().encode(x=\"date:T\", y=\"volumeUSD:Q\")"
   ]
  },
  {
   "cell_type": "code",
   "execution_count": 175,
   "id": "c4cfe5a7-e8de-4d2b-aa5c-359912a5a9d3",
   "metadata": {},
   "outputs": [],
   "source": [
    "addrs = [\n",
    "    '0x9026A229b535ecF0162Dfe48fDeb3c75f7b2A7AE', # (czsamsunsb.eth)\n",
    "    '0xD07993c6cb9692a71522Baf970A31069034dF2B0',\n",
    "    '0x581cf4642283edA85a64bB45cd226854415AB830',\n",
    "] "
   ]
  },
  {
   "cell_type": "code",
   "execution_count": 178,
   "id": "f96ba7b7-f6a7-4991-92b6-fbefe9b03a60",
   "metadata": {},
   "outputs": [],
   "source": [
    "qattrs = ['id', 'amount', 'timestamp', 'user.address']\n",
    "# deposits into the convex staking contract for curve lp tokens \n",
    "q_deposits = sg_curve_pools.Query.deposits(first=100000, where={'poolid_': {'swap': ADDRESS_CURVE_POOL_FRXETH_ETH}})\n",
    "df_deposits = query_attrs(sg, q_deposits, qattrs)\n",
    "df_deposits = remove_prefix(df_deposits, 'deposits_') \n",
    "df_deposits.timestamp = pd.to_datetime(df_deposits.timestamp, unit='s')\n",
    "# current deposited amount per account in convex staking contract for curve lp tokens \n",
    "# df_convex = pd.concat([df_deposits, df_withdrawals])\n",
    "# df_convex = df_convex.groupby('user_address')['amount'].sum().reset_index()\n",
    "# df_convex = df_convex.loc[df_convex.amount != 0].sort_values('amount', ascending=False).reset_index(drop=True)\n",
    "# df_convex.amount /= 1e18\n",
    "# df_convex['platform'] = 'convex-curve'\n",
    "# df_convex = df_convex.rename(columns={'user_address': 'account'})\n",
    "# df_convex.head()\n",
    "# return df_convex "
   ]
  },
  {
   "cell_type": "code",
   "execution_count": 179,
   "id": "0c19844f-2c13-4955-9b2d-fab87b3d63f4",
   "metadata": {},
   "outputs": [
    {
     "data": {
      "text/html": [
       "<div>\n",
       "<style scoped>\n",
       "    .dataframe tbody tr th:only-of-type {\n",
       "        vertical-align: middle;\n",
       "    }\n",
       "\n",
       "    .dataframe tbody tr th {\n",
       "        vertical-align: top;\n",
       "    }\n",
       "\n",
       "    .dataframe thead th {\n",
       "        text-align: right;\n",
       "    }\n",
       "</style>\n",
       "<table border=\"1\" class=\"dataframe\">\n",
       "  <thead>\n",
       "    <tr style=\"text-align: right;\">\n",
       "      <th></th>\n",
       "      <th>id</th>\n",
       "      <th>amount</th>\n",
       "      <th>timestamp</th>\n",
       "      <th>user_address</th>\n",
       "    </tr>\n",
       "  </thead>\n",
       "  <tbody>\n",
       "    <tr>\n",
       "      <th>0</th>\n",
       "      <td>0x000492fab570bb6fe3b1e30c3db2df3d4d252bcc711e...</td>\n",
       "      <td>24987560277428693493</td>\n",
       "      <td>2022-12-05 09:49:23</td>\n",
       "      <td>0x4659d5ff63a1e1edd6d5dd9cc315e063c95947d0</td>\n",
       "    </tr>\n",
       "    <tr>\n",
       "      <th>1</th>\n",
       "      <td>0x001c17c0d86776299dc1a8cdaa888964971b094a32f4...</td>\n",
       "      <td>320389970965389464563</td>\n",
       "      <td>2023-01-02 22:22:59</td>\n",
       "      <td>0x4659d5ff63a1e1edd6d5dd9cc315e063c95947d0</td>\n",
       "    </tr>\n",
       "    <tr>\n",
       "      <th>2</th>\n",
       "      <td>0x007562ec43ffc63894d5b30e812bd65858605829090a...</td>\n",
       "      <td>1019416498333776300</td>\n",
       "      <td>2022-11-26 01:46:59</td>\n",
       "      <td>0x0f903834187d37ff29dc2d607dd9fb50eb36b2b5</td>\n",
       "    </tr>\n",
       "    <tr>\n",
       "      <th>3</th>\n",
       "      <td>0x009154d4001e53605ee80928c38a32c63eb9f6278065...</td>\n",
       "      <td>551915891711220087824</td>\n",
       "      <td>2022-12-06 04:34:11</td>\n",
       "      <td>0x4659d5ff63a1e1edd6d5dd9cc315e063c95947d0</td>\n",
       "    </tr>\n",
       "    <tr>\n",
       "      <th>4</th>\n",
       "      <td>0x012a7730ff93a15624d92a94a9a8a5fa9ab8e2ff7b28...</td>\n",
       "      <td>6799529641957293310</td>\n",
       "      <td>2022-11-17 06:06:47</td>\n",
       "      <td>0x4659d5ff63a1e1edd6d5dd9cc315e063c95947d0</td>\n",
       "    </tr>\n",
       "  </tbody>\n",
       "</table>\n",
       "</div>"
      ],
      "text/plain": [
       "                                                  id                 amount  \\\n",
       "0  0x000492fab570bb6fe3b1e30c3db2df3d4d252bcc711e...   24987560277428693493   \n",
       "1  0x001c17c0d86776299dc1a8cdaa888964971b094a32f4...  320389970965389464563   \n",
       "2  0x007562ec43ffc63894d5b30e812bd65858605829090a...    1019416498333776300   \n",
       "3  0x009154d4001e53605ee80928c38a32c63eb9f6278065...  551915891711220087824   \n",
       "4  0x012a7730ff93a15624d92a94a9a8a5fa9ab8e2ff7b28...    6799529641957293310   \n",
       "\n",
       "            timestamp                                user_address  \n",
       "0 2022-12-05 09:49:23  0x4659d5ff63a1e1edd6d5dd9cc315e063c95947d0  \n",
       "1 2023-01-02 22:22:59  0x4659d5ff63a1e1edd6d5dd9cc315e063c95947d0  \n",
       "2 2022-11-26 01:46:59  0x0f903834187d37ff29dc2d607dd9fb50eb36b2b5  \n",
       "3 2022-12-06 04:34:11  0x4659d5ff63a1e1edd6d5dd9cc315e063c95947d0  \n",
       "4 2022-11-17 06:06:47  0x4659d5ff63a1e1edd6d5dd9cc315e063c95947d0  "
      ]
     },
     "execution_count": 179,
     "metadata": {},
     "output_type": "execute_result"
    }
   ],
   "source": [
    "df_deposits.head()"
   ]
  },
  {
   "cell_type": "code",
   "execution_count": 180,
   "id": "ad369a29-6344-4f94-a880-2ddf6ab08f3c",
   "metadata": {},
   "outputs": [
    {
     "name": "stdout",
     "output_type": "stream",
     "text": [
      "0x9026A229b535ecF0162Dfe48fDeb3c75f7b2A7AE 585   2022-12-02 05:03:23\n",
      "Name: timestamp, dtype: datetime64[ns]\n",
      "0xD07993c6cb9692a71522Baf970A31069034dF2B0 Series([], Name: timestamp, dtype: datetime64[ns])\n",
      "0x581cf4642283edA85a64bB45cd226854415AB830 Series([], Name: timestamp, dtype: datetime64[ns])\n"
     ]
    }
   ],
   "source": [
    "for a in addrs: \n",
    "    d = df_deposits.loc[df_deposits.user_address.str.lower() == a.lower()]\n",
    "    print(a, d.timestamp)"
   ]
  },
  {
   "cell_type": "code",
   "execution_count": null,
   "id": "9173133c-a556-48d2-b992-bdf3d90f38ce",
   "metadata": {},
   "outputs": [],
   "source": []
  }
 ],
 "metadata": {
  "kernelspec": {
   "display_name": "Python [conda env:flywheel]",
   "language": "python",
   "name": "conda-env-flywheel-py"
  },
  "language_info": {
   "codemirror_mode": {
    "name": "ipython",
    "version": 3
   },
   "file_extension": ".py",
   "mimetype": "text/x-python",
   "name": "python",
   "nbconvert_exporter": "python",
   "pygments_lexer": "ipython3",
   "version": "3.10.8"
  },
  "vscode": {
   "interpreter": {
    "hash": "e18ea949e0f3d14fcab1ff7531c94c49f90cb44d1d6fa8f4203a03986923cae9"
   }
  }
 },
 "nbformat": 4,
 "nbformat_minor": 5
}
