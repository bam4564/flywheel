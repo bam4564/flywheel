{
 "cells": [
  {
   "cell_type": "code",
   "execution_count": 2,
   "id": "1abbe31e-72e0-4933-9c80-527bf56f22f2",
   "metadata": {},
   "outputs": [
    {
     "data": {
      "text/plain": [
       "RendererRegistry.enable('jupyterlab')"
      ]
     },
     "execution_count": 2,
     "metadata": {},
     "output_type": "execute_result"
    }
   ],
   "source": [
    "import json \n",
    "import os\n",
    "import logging \n",
    "import concurrent \n",
    "import asyncio \n",
    "import re \n",
    "import requests \n",
    "\n",
    "from collections import deque \n",
    "from itertools import chain \n",
    "\n",
    "from pprint import PrettyPrinter\n",
    "\n",
    "from subgrounds import Subgrounds\n",
    "from palettable.tableau import Tableau_20\n",
    "from palettable.mycarta import Cube1_4, Cube1_8\n",
    "\n",
    "from web3 import Web3\n",
    "from web3.exceptions import ContractLogicError\n",
    "\n",
    "# apis / networking \n",
    "from etherscan import Etherscan\n",
    "from pycoingecko import CoinGeckoAPI\n",
    "from dotenv import load_dotenv\n",
    "\n",
    "import pandas as pd \n",
    "import numpy as np \n",
    "import altair as alt \n",
    "\n",
    "\n",
    "from flywheel_util.constants import (\n",
    "    addresses, url_subgraphs, colors_24, colors_28, url_subgraphs\n",
    ") \n",
    "from flywheel_util.utils.util import (\n",
    "    ddf, \n",
    "    remove_prefix, \n",
    "    query_attrs, \n",
    "    camel_to_snake, \n",
    "    df_cols_camel_to_snake, \n",
    "    df_cols_change_prefix, \n",
    "    cg_get_market_history, \n",
    ")\n",
    "from flywheel_util.utils.w3 import (\n",
    "    verified_contract, \n",
    "    get_total_supply_of_erc20,\n",
    "    get_account_balance_of_erc20, \n",
    "    get_erc20_balance_for_all_accounts, \n",
    ") \n",
    "\n",
    "assert load_dotenv(\"../../.env\") \n",
    "\n",
    "# logging.basicConfig(level=logging.INFO)\n",
    "\n",
    "VALIDATE = True  \n",
    "\n",
    "pp = PrettyPrinter().pprint\n",
    "\n",
    "alt.data_transformers.disable_max_rows()\n",
    "alt.renderers.enable('jupyterlab')"
   ]
  },
  {
   "cell_type": "code",
   "execution_count": 3,
   "id": "e02d8fcf-aeac-4d94-8da1-0e8db63c664e",
   "metadata": {},
   "outputs": [],
   "source": [
    "# Setup API clients \n",
    "infura_url = f'https://mainnet.infura.io/v3/{os.environ[\"INFURA_API_KEY\"]}'\n",
    "w3 = Web3(Web3.HTTPProvider(infura_url))\n",
    "cg = CoinGeckoAPI()\n",
    "etherscan = Etherscan(os.environ['ETHERSCAN_API_KEY'])"
   ]
  },
  {
   "cell_type": "code",
   "execution_count": 4,
   "id": "6622f354-56f6-4677-9834-b86d1c0bab63",
   "metadata": {},
   "outputs": [],
   "source": [
    "URL_CURVE_POOLS = 'https://api.thegraph.com/subgraphs/name/convex-community/curve-pools'\n",
    "URL_CURVE_DAO = 'https://api.thegraph.com/subgraphs/name/convex-community/curve-dao'\n",
    "\n",
    "# Tokens \n",
    "addr_frxeth = addresses.token.frxeth\n",
    "addr_frxethcrv = addresses.token.frxethcrv\n",
    "addr_frxethcrv_gauge_deposit = addresses.contract.curve.frxethcrv_gauge_deposit\n",
    "addr_cvxfrxETHCRV = addresses.token.cvxfrxethcrv\n",
    "addr_frax_farm_frxeth = addresses.contract.frax.farm_frxeth\n",
    "\n",
    "# Contracts \n",
    "addr_convex_base_rewards_pool = addresses.contract.convex.base_reward_pool_cvxfrxethcrv\n",
    "addr_convex_voter_proxy = addresses.contract.convex.curve_voter_proxy\n",
    "addr_pool_frxeth_eth = addresses.contract.curve['frxeth-eth']\n",
    "addr_convex_staking_wrapper_frax = addresses.token['stkcvxfrxethcrv-frax']"
   ]
  },
  {
   "cell_type": "markdown",
   "id": "e3d07397-257b-47b8-854d-b5ef1015a868",
   "metadata": {},
   "source": [
    "# Analysis of Holders of frxETHCRV \n",
    "\n",
    "frxETHCRV is the liquidity pool token for the [frxETH:ETH pool](https://curve.fi/#/ethereum/pools/frxeth/deposit) on curve. \n",
    "\n",
    "Tracking which users hold frxETHCRV is not as simple as checking the total amount of this token across user accounts. \n",
    "There are various platforms where users can stake frxETHCRV in exchange for derivative tokens. This hierarchical outline\n",
    "shows the various places where the supply of frxETHCRV exists within the ecosystem. \n",
    "\n",
    "The following diagram shows how we can break the supply of frxETHCRV into discrete components.\n",
    "\n",
    "![frxethcrv_supply_breakdown](./assets/frxethcrv_supply_breakdown.png)"
   ]
  },
  {
   "cell_type": "code",
   "execution_count": 5,
   "id": "b1fb88a9-e7e6-4af4-a914-c0685ab88f6b",
   "metadata": {},
   "outputs": [],
   "source": [
    "def remove_nrows_with_value(df, value, key=\"account\", nrows=1): \n",
    "    pre_len = len(df) \n",
    "    df = df.loc[df[key].str.lower() != value.lower()]\n",
    "    assert len(df) == pre_len - nrows \n",
    "    return df "
   ]
  },
  {
   "cell_type": "code",
   "execution_count": 6,
   "id": "7737badc-bf84-4290-9f86-705031cd8882",
   "metadata": {},
   "outputs": [],
   "source": [
    "sg = Subgrounds()\n",
    "sg_curve_pools = sg.load_subgraph(url_subgraphs.convex.curve_pools)\n",
    "sg_curve_dao = sg.load_subgraph(url_subgraphs.convex.curve_dao) "
   ]
  },
  {
   "cell_type": "code",
   "execution_count": 7,
   "id": "8877365e-1487-4c3d-b535-62c7c7ec9e9d",
   "metadata": {},
   "outputs": [],
   "source": [
    "def get_curve_gauge_balances(): \n",
    "    # frxETHCRV staked in curve gauge by account. frxETHCRV -> frxETHCRV-gauge at 1:1 ratio \n",
    "    # ---------------------------------------------------------------------------------------------------------------------\n",
    "    qattrs = ['id', 'provider', 'value']\n",
    "    # deposits into gauge \n",
    "    df_deposits = query_attrs(\n",
    "        sg, sg_curve_dao.Query.gaugeDeposits(first=100000, where={'gauge': addr_frxethcrv_gauge_deposit}), qattrs\n",
    "    )\n",
    "    df_deposits = remove_prefix(df_deposits, 'gaugeDeposits_') \n",
    "    # withdawals from gauge \n",
    "    df_withdraws = query_attrs(\n",
    "        sg, sg_curve_dao.Query.gaugeWithdraws(first=100000, where={'gauge': addr_frxethcrv_gauge_deposit}), qattrs\n",
    "    )\n",
    "    df_withdraws = remove_prefix(df_withdraws, 'gaugeWithdraws_') \n",
    "    df_withdraws.value *= -1\n",
    "    # Current deposited amount per address within gauge \n",
    "    df_curve = pd.concat([df_deposits, df_withdraws])\n",
    "    df_curve = df_curve.groupby('provider')['value'].sum().reset_index()\n",
    "    df_curve = df_curve.loc[df_curve.value != 0].sort_values('value', ascending=False).reset_index(drop=True)\n",
    "    df_curve['platform'] = 'curve-gauge'\n",
    "    df_curve.value /= 1e18\n",
    "    return df_curve \n",
    "\n",
    "def validate_curve_gauge_balances(df_curve): \n",
    "    frxethCRV_curve_gauge = df_curve.value.sum()\n",
    "    frxethCRV_curve_gauge_actual = get_account_balance_of_erc20(addr_frxethcrv_gauge_deposit, addr_frxethcrv)\n",
    "\n",
    "    frxethCRV_convex_staked = df_curve.loc[df_curve.provider == addr_convex_voter_proxy].value.sum()\n",
    "    frxethCRV_convex_staked_actual = get_account_balance_of_erc20(addr_convex_voter_proxy, addr_frxethcrv_gauge_deposit)\n",
    "\n",
    "    # Manual validation of frxETHCRV staked in curve gauge \n",
    "    # https://etherscan.io/token/0xf43211935c781d5ca1a41d2041f397b8a7366c7a?a=0x2932a86df44fe8d2a706d8e9c5d51c24883423f5\n",
    "    print(f\"Number of frxETHCRV deposited in curve gauge:\\n\\tComputed: {frxethCRV_curve_gauge:>19}\\n\\tActual: {frxethCRV_curve_gauge_actual:>21}\")\n",
    "    if VALIDATE: \n",
    "        np.testing.assert_almost_equal(frxethCRV_curve_gauge_actual, frxethCRV_curve_gauge, decimal=10)\n",
    "\n",
    "    # Manual validation of frxETHCRV-gauge (1:1 with frxETHCRV) staked in convex \n",
    "    # https://etherscan.io/token/0x2932a86df44fe8d2a706d8e9c5d51c24883423f5?a=0x989aeb4d175e16225e39e87d0d97a3360524ad80\n",
    "    print(f\"Number of frxETHCRV-gauge held by convex voter proxy:\\n\\tComputed: {frxethCRV_convex_staked:>20}\\n\\tActual: {frxethCRV_convex_staked_actual:>22}\")\n",
    "    if VALIDATE: \n",
    "        np.testing.assert_almost_equal(frxethCRV_convex_staked_actual, frxethCRV_convex_staked, decimal=10)\n",
    "\n",
    "    print(f\"Percent of frxETHCRV staked in curve gauge through convex: {frxethCRV_convex_staked / frxethCRV_curve_gauge:%}\")\n",
    "    df_curve.head()"
   ]
  },
  {
   "cell_type": "code",
   "execution_count": 8,
   "id": "51d8afec-f9ed-4bfd-b3ed-46cd74b9eb30",
   "metadata": {},
   "outputs": [],
   "source": [
    "df_curve = get_curve_gauge_balances()"
   ]
  },
  {
   "cell_type": "code",
   "execution_count": 9,
   "id": "78f2de3d-9cc0-4db0-ba5d-72213c86c7ac",
   "metadata": {},
   "outputs": [
    {
     "name": "stdout",
     "output_type": "stream",
     "text": [
      "Number of frxETHCRV deposited in curve gauge:\n",
      "\tComputed:   81752.90271089817\n",
      "\tActual:     81752.90271089818\n",
      "Number of frxETHCRV-gauge held by convex voter proxy:\n",
      "\tComputed:     80629.4459378701\n",
      "\tActual:       80629.4459378701\n",
      "Percent of frxETHCRV staked in curve gauge through convex: 98.625790%\n"
     ]
    }
   ],
   "source": [
    "validate_curve_gauge_balances(df_curve)"
   ]
  },
  {
   "cell_type": "code",
   "execution_count": 10,
   "id": "d21a35ef-e136-4d91-adaf-f4927d87f0c6",
   "metadata": {},
   "outputs": [],
   "source": [
    "def get_convex_staked_balances(): \n",
    "    # frxETHCRV staked in convex (curve system). frxETHCRV -> cvxfrxETHCRV at 1:1 ratio \n",
    "    # ---------------------------------------------------------------------------------------------------------------------\n",
    "    qattrs = ['id', 'amount', 'timestamp', 'user.address']\n",
    "    # deposits into the convex staking contract for curve lp tokens \n",
    "    q_deposits = sg_curve_pools.Query.deposits(first=100000, where={'poolid_': {'swap': addr_pool_frxeth_eth}})\n",
    "    df_deposits = query_attrs(sg, q_deposits, qattrs)\n",
    "    df_deposits = remove_prefix(df_deposits, 'deposits_') \n",
    "    # withdrawals from the convex staking contract for curve lp tokens \n",
    "    q_withdrawals = sg_curve_pools.Query.withdrawals(first=100000, where={'poolid_': {'swap': addr_pool_frxeth_eth}})\n",
    "    df_withdrawals = query_attrs(sg, q_withdrawals, qattrs)\n",
    "    df_withdrawals = remove_prefix(df_withdrawals, 'withdrawals_') \n",
    "    df_withdrawals.amount *= -1\n",
    "    # current deposited amount per account in convex staking contract for curve lp tokens \n",
    "    df_convex = pd.concat([df_deposits, df_withdrawals])\n",
    "    df_convex = df_convex.groupby('user_address')['amount'].sum().reset_index()\n",
    "    df_convex = df_convex.loc[df_convex.amount != 0].sort_values('amount', ascending=False).reset_index(drop=True)\n",
    "    df_convex.amount /= 1e18\n",
    "    df_convex['platform'] = 'convex-curve'\n",
    "    df_convex = df_convex.rename(columns={'user_address': 'account'})\n",
    "    df_convex.head()\n",
    "    return df_convex \n",
    "\n",
    "def validate_convex_staked_balances(df_convex): \n",
    "    # Ensure that the holdings of frxETHCRV-gauge by the convex voter proxy address are the same (computed in two ways) \n",
    "    # 1. Curve dao subgraph - aggregating curve gauge deposits and withdraws by address (convex voter proxy is one of them). \n",
    "    # 2. Convex curve pools subgraph - aggregating convex gauge deposits and withdawals by address. \n",
    "    # These numbers should be really close but sometimes might differ due to subgraph indexing speed. \n",
    "    convex_frxethcrv_1 = df_curve.loc[df_curve.provider == addr_convex_voter_proxy]['value'].values.tolist()[0]\n",
    "    convex_frxethcrv_2 = df_convex.amount.sum()\n",
    "    print(f\"Number of frxETHCRV-gauge held by convex voter proxy (curve dao subgraph): {convex_frxethcrv_1:>25}\")\n",
    "    print(f\"Number of frxETHCRV-gauge held by convex voter proxy (convex curve pool subgraph): {convex_frxethcrv_2}\")\n",
    "    if VALIDATE: \n",
    "        np.testing.assert_almost_equal(convex_frxethcrv_1, convex_frxethcrv_2, 10)"
   ]
  },
  {
   "cell_type": "code",
   "execution_count": 11,
   "id": "8767b871-14f6-47be-b4e1-2251707cd298",
   "metadata": {},
   "outputs": [],
   "source": [
    "df_convex = get_convex_staked_balances()"
   ]
  },
  {
   "cell_type": "code",
   "execution_count": 12,
   "id": "366003fa-9b01-423f-9726-7d525f2edc45",
   "metadata": {},
   "outputs": [
    {
     "name": "stdout",
     "output_type": "stream",
     "text": [
      "Number of frxETHCRV-gauge held by convex voter proxy (curve dao subgraph):          80629.4459378701\n",
      "Number of frxETHCRV-gauge held by convex voter proxy (convex curve pool subgraph): 80629.44593787008\n"
     ]
    }
   ],
   "source": [
    "validate_convex_staked_balances(df_convex)"
   ]
  },
  {
   "cell_type": "code",
   "execution_count": 13,
   "id": "e9ef1f16-72c6-4a81-8bbc-4b231fcd9ac4",
   "metadata": {},
   "outputs": [],
   "source": [
    "def get_frax_staked_balances(): \n",
    "    # stkfrxETHCRV-frax staked in frax. frxETHCRV -> stkcvxfrxETHCRV-frax\n",
    "    # ---------------------------------------------------------------------------------------------------------------------\n",
    "    # These assets are held in the frax farm contract \n",
    "    contract_frax_farm = verified_contract(addr_frax_farm_frxeth)\n",
    "    logs_stake_locked = contract_frax_farm.events.StakeLocked.getLogs(fromBlock=0)\n",
    "    logs_withdrawals = contract_frax_farm.events.WithdrawLocked.getLogs(fromBlock=0)\n",
    "    logs_lock_additional = contract_frax_farm.events.LockedAdditional.getLogs(fromBlock=0)\n",
    "    deposits = [{'account': d.args['user'], 'amount': d.args['amount'] / 1e18} for d in logs_stake_locked + logs_lock_additional]\n",
    "    withdrawals = [{'account': d.args['user'], 'amount': -d.args['liquidity'] / 1e18} for d in logs_withdrawals]\n",
    "    # We can determine which addresses correspond to convex staking proxy. These are users who are staking in the frax \n",
    "    # farm through convex for boosted FXS yield. \n",
    "    abi_convex_staking_proxy = '[{\"inputs\":[],\"stateMutability\":\"nonpayable\",\"type\":\"constructor\"},{\"inputs\":[],\"name\":\"FEE_DENOMINATOR\",\"outputs\":[{\"internalType\":\"uint256\",\"name\":\"\",\"type\":\"uint256\"}],\"stateMutability\":\"view\",\"type\":\"function\"},{\"inputs\":[{\"internalType\":\"address\",\"name\":\"_rewardsAddress\",\"type\":\"address\"}],\"name\":\"changeRewards\",\"outputs\":[],\"stateMutability\":\"nonpayable\",\"type\":\"function\"},{\"inputs\":[],\"name\":\"checkpointRewards\",\"outputs\":[],\"stateMutability\":\"nonpayable\",\"type\":\"function\"},{\"inputs\":[],\"name\":\"convexCurveBooster\",\"outputs\":[{\"internalType\":\"address\",\"name\":\"\",\"type\":\"address\"}],\"stateMutability\":\"view\",\"type\":\"function\"},{\"inputs\":[],\"name\":\"convexDepositToken\",\"outputs\":[{\"internalType\":\"address\",\"name\":\"\",\"type\":\"address\"}],\"stateMutability\":\"view\",\"type\":\"function\"},{\"inputs\":[],\"name\":\"crv\",\"outputs\":[{\"internalType\":\"address\",\"name\":\"\",\"type\":\"address\"}],\"stateMutability\":\"view\",\"type\":\"function\"},{\"inputs\":[],\"name\":\"curveLpToken\",\"outputs\":[{\"internalType\":\"address\",\"name\":\"\",\"type\":\"address\"}],\"stateMutability\":\"view\",\"type\":\"function\"},{\"inputs\":[],\"name\":\"cvx\",\"outputs\":[{\"internalType\":\"address\",\"name\":\"\",\"type\":\"address\"}],\"stateMutability\":\"view\",\"type\":\"function\"},{\"inputs\":[],\"name\":\"earned\",\"outputs\":[{\"internalType\":\"address[]\",\"name\":\"token_addresses\",\"type\":\"address[]\"},{\"internalType\":\"uint256[]\",\"name\":\"total_earned\",\"type\":\"uint256[]\"}],\"stateMutability\":\"view\",\"type\":\"function\"},{\"inputs\":[],\"name\":\"feeRegistry\",\"outputs\":[{\"internalType\":\"address\",\"name\":\"\",\"type\":\"address\"}],\"stateMutability\":\"view\",\"type\":\"function\"},{\"inputs\":[],\"name\":\"fxs\",\"outputs\":[{\"internalType\":\"address\",\"name\":\"\",\"type\":\"address\"}],\"stateMutability\":\"view\",\"type\":\"function\"},{\"inputs\":[],\"name\":\"getReward\",\"outputs\":[],\"stateMutability\":\"nonpayable\",\"type\":\"function\"},{\"inputs\":[{\"internalType\":\"bool\",\"name\":\"_claim\",\"type\":\"bool\"},{\"internalType\":\"address[]\",\"name\":\"_rewardTokenList\",\"type\":\"address[]\"}],\"name\":\"getReward\",\"outputs\":[],\"stateMutability\":\"nonpayable\",\"type\":\"function\"},{\"inputs\":[{\"internalType\":\"bool\",\"name\":\"_claim\",\"type\":\"bool\"}],\"name\":\"getReward\",\"outputs\":[],\"stateMutability\":\"nonpayable\",\"type\":\"function\"},{\"inputs\":[{\"internalType\":\"address\",\"name\":\"_owner\",\"type\":\"address\"},{\"internalType\":\"address\",\"name\":\"_stakingAddress\",\"type\":\"address\"},{\"internalType\":\"address\",\"name\":\"_stakingToken\",\"type\":\"address\"},{\"internalType\":\"address\",\"name\":\"_rewardsAddress\",\"type\":\"address\"}],\"name\":\"initialize\",\"outputs\":[],\"stateMutability\":\"nonpayable\",\"type\":\"function\"},{\"inputs\":[{\"internalType\":\"bytes32\",\"name\":\"_kek_id\",\"type\":\"bytes32\"},{\"internalType\":\"uint256\",\"name\":\"_addl_liq\",\"type\":\"uint256\"}],\"name\":\"lockAdditional\",\"outputs\":[],\"stateMutability\":\"nonpayable\",\"type\":\"function\"},{\"inputs\":[{\"internalType\":\"bytes32\",\"name\":\"_kek_id\",\"type\":\"bytes32\"},{\"internalType\":\"uint256\",\"name\":\"_addl_liq\",\"type\":\"uint256\"}],\"name\":\"lockAdditionalConvexToken\",\"outputs\":[],\"stateMutability\":\"nonpayable\",\"type\":\"function\"},{\"inputs\":[{\"internalType\":\"bytes32\",\"name\":\"_kek_id\",\"type\":\"bytes32\"},{\"internalType\":\"uint256\",\"name\":\"_addl_liq\",\"type\":\"uint256\"}],\"name\":\"lockAdditionalCurveLp\",\"outputs\":[],\"stateMutability\":\"nonpayable\",\"type\":\"function\"},{\"inputs\":[{\"internalType\":\"bytes32\",\"name\":\"_kek_id\",\"type\":\"bytes32\"},{\"internalType\":\"uint256\",\"name\":\"new_ending_ts\",\"type\":\"uint256\"}],\"name\":\"lockLonger\",\"outputs\":[],\"stateMutability\":\"nonpayable\",\"type\":\"function\"},{\"inputs\":[],\"name\":\"owner\",\"outputs\":[{\"internalType\":\"address\",\"name\":\"\",\"type\":\"address\"}],\"stateMutability\":\"view\",\"type\":\"function\"},{\"inputs\":[],\"name\":\"poolRegistry\",\"outputs\":[{\"internalType\":\"address\",\"name\":\"\",\"type\":\"address\"}],\"stateMutability\":\"view\",\"type\":\"function\"},{\"inputs\":[],\"name\":\"rewards\",\"outputs\":[{\"internalType\":\"address\",\"name\":\"\",\"type\":\"address\"}],\"stateMutability\":\"view\",\"type\":\"function\"},{\"inputs\":[{\"internalType\":\"address\",\"name\":\"_proxy\",\"type\":\"address\"}],\"name\":\"setVeFXSProxy\",\"outputs\":[],\"stateMutability\":\"nonpayable\",\"type\":\"function\"},{\"inputs\":[{\"internalType\":\"uint256\",\"name\":\"_liquidity\",\"type\":\"uint256\"},{\"internalType\":\"uint256\",\"name\":\"_secs\",\"type\":\"uint256\"}],\"name\":\"stakeLocked\",\"outputs\":[{\"internalType\":\"bytes32\",\"name\":\"kek_id\",\"type\":\"bytes32\"}],\"stateMutability\":\"nonpayable\",\"type\":\"function\"},{\"inputs\":[{\"internalType\":\"uint256\",\"name\":\"_liquidity\",\"type\":\"uint256\"},{\"internalType\":\"uint256\",\"name\":\"_secs\",\"type\":\"uint256\"}],\"name\":\"stakeLockedConvexToken\",\"outputs\":[{\"internalType\":\"bytes32\",\"name\":\"kek_id\",\"type\":\"bytes32\"}],\"stateMutability\":\"nonpayable\",\"type\":\"function\"},{\"inputs\":[{\"internalType\":\"uint256\",\"name\":\"_liquidity\",\"type\":\"uint256\"},{\"internalType\":\"uint256\",\"name\":\"_secs\",\"type\":\"uint256\"}],\"name\":\"stakeLockedCurveLp\",\"outputs\":[{\"internalType\":\"bytes32\",\"name\":\"kek_id\",\"type\":\"bytes32\"}],\"stateMutability\":\"nonpayable\",\"type\":\"function\"},{\"inputs\":[],\"name\":\"stakingAddress\",\"outputs\":[{\"internalType\":\"address\",\"name\":\"\",\"type\":\"address\"}],\"stateMutability\":\"view\",\"type\":\"function\"},{\"inputs\":[],\"name\":\"stakingToken\",\"outputs\":[{\"internalType\":\"address\",\"name\":\"\",\"type\":\"address\"}],\"stateMutability\":\"view\",\"type\":\"function\"},{\"inputs\":[],\"name\":\"usingProxy\",\"outputs\":[{\"internalType\":\"address\",\"name\":\"\",\"type\":\"address\"}],\"stateMutability\":\"view\",\"type\":\"function\"},{\"inputs\":[],\"name\":\"vaultType\",\"outputs\":[{\"internalType\":\"enum IProxyVault.VaultType\",\"name\":\"\",\"type\":\"uint8\"}],\"stateMutability\":\"pure\",\"type\":\"function\"},{\"inputs\":[],\"name\":\"vaultVersion\",\"outputs\":[{\"internalType\":\"uint256\",\"name\":\"\",\"type\":\"uint256\"}],\"stateMutability\":\"pure\",\"type\":\"function\"},{\"inputs\":[],\"name\":\"vefxsProxy\",\"outputs\":[{\"internalType\":\"address\",\"name\":\"\",\"type\":\"address\"}],\"stateMutability\":\"view\",\"type\":\"function\"},{\"inputs\":[{\"internalType\":\"bytes32\",\"name\":\"_kek_id\",\"type\":\"bytes32\"}],\"name\":\"withdrawLocked\",\"outputs\":[],\"stateMutability\":\"nonpayable\",\"type\":\"function\"},{\"inputs\":[{\"internalType\":\"bytes32\",\"name\":\"_kek_id\",\"type\":\"bytes32\"}],\"name\":\"withdrawLockedAndUnwrap\",\"outputs\":[],\"stateMutability\":\"nonpayable\",\"type\":\"function\"}]'\n",
    "    vault_owners = {}\n",
    "    for d in deposits:\n",
    "        a = d['account']\n",
    "        is_contract_account = True if w3.eth.getCode(Web3.toChecksumAddress(a)) else False\n",
    "        if is_contract_account: \n",
    "            try: \n",
    "                contract = w3.eth.contract(Web3.toChecksumAddress(a), abi=abi_convex_staking_proxy)\n",
    "                owner = contract.functions.owner().call()\n",
    "                vault_owners[a] = owner\n",
    "            except ContractLogicError: \n",
    "                pass \n",
    "    # During this groupby, accounts / vaults owned by accounts are still separate bc we haven't mapped them yet \n",
    "    df_frax_farm = pd.DataFrame(deposits + withdrawals).groupby('account')['amount'].sum().reset_index()\n",
    "    df_frax_farm = df_frax_farm.loc[df_frax_farm.amount != 0]\n",
    "    df_frax_farm['vault_address'] = df_frax_farm.account.apply(lambda a: a if a in vault_owners else None)\n",
    "    vault_mask = ~df_frax_farm.vault_address.isna()\n",
    "    df_frax_farm.loc[vault_mask, 'account'] = df_frax_farm.loc[vault_mask].account.apply(lambda a: vault_owners[a])\n",
    "    df_frax_farm['platform'] = 'frax-farm'\n",
    "    df_frax_farm.loc[~df_frax_farm.vault_address.isna(), 'platform'] = 'frax-farm-convex'\n",
    "    return df_frax_farm "
   ]
  },
  {
   "cell_type": "code",
   "execution_count": 14,
   "id": "233b8f24-e120-409f-812e-a1c1a7a1c3dd",
   "metadata": {},
   "outputs": [
    {
     "name": "stderr",
     "output_type": "stream",
     "text": [
      "/opt/miniconda3/envs/flywheel-testing/lib/python3.10/site-packages/web3/method.py:215: DeprecationWarning: getCode is deprecated in favor of get_code\n",
      "  warnings.warn(\n"
     ]
    }
   ],
   "source": [
    "df_frax_farm = get_frax_staked_balances()"
   ]
  },
  {
   "cell_type": "code",
   "execution_count": 15,
   "id": "e74471a1-6ccc-442c-86b8-bb723817bdec",
   "metadata": {},
   "outputs": [],
   "source": [
    "df_circ_frxETHCRV = get_erc20_balance_for_all_accounts(addr_frxethcrv, 0)\n",
    "df_circ_frxETHCRV = remove_nrows_with_value(df_circ_frxETHCRV, addr_frxethcrv_gauge_deposit) \n",
    "df_circ_frxETHCRV = df_circ_frxETHCRV.rename(columns={'value': 'frxETHCRV (circulating)'})"
   ]
  },
  {
   "cell_type": "code",
   "execution_count": 16,
   "id": "30234d7d-da4d-497d-8cee-ea9fec2ba64b",
   "metadata": {},
   "outputs": [],
   "source": [
    "df_circ_cvxfrxETHCRV = get_erc20_balance_for_all_accounts(addr_cvxfrxETHCRV, 0)\n",
    "df_circ_cvxfrxETHCRV = remove_nrows_with_value(df_circ_cvxfrxETHCRV, addr_convex_base_rewards_pool)\n",
    "df_circ_cvxfrxETHCRV = df_circ_cvxfrxETHCRV.rename(columns={'value': 'cvxfrxETHCRV (circulating)'})"
   ]
  },
  {
   "cell_type": "code",
   "execution_count": 17,
   "id": "efaebc58-809b-4c8d-8a5e-2d0f4daa3b84",
   "metadata": {},
   "outputs": [],
   "source": [
    "df_circ_stkcvxfrxETHCRV_frax = get_erc20_balance_for_all_accounts(addr_convex_staking_wrapper_frax, 0)\n",
    "df_circ_stkcvxfrxETHCRV_frax = remove_nrows_with_value(df_circ_stkcvxfrxETHCRV_frax, addr_frax_farm_frxeth)\n",
    "df_circ_stkcvxfrxETHCRV_frax = df_circ_stkcvxfrxETHCRV_frax.rename(columns={'value': 'stkcvxfrxETHCRV-frax (circulating)'})"
   ]
  },
  {
   "cell_type": "code",
   "execution_count": 18,
   "id": "79914f70-da55-40ca-951b-1b986965ba87",
   "metadata": {},
   "outputs": [],
   "source": [
    "df_curve_staking = remove_nrows_with_value(df_curve, addr_convex_voter_proxy, key='provider') \n",
    "df_curve_staking = (\n",
    "    df_curve_staking.rename(columns={'provider': 'account', 'value': 'frxETHCRV-gauge (staked directly through curve)'})\n",
    "    .drop(columns=['platform'])\n",
    ") \n",
    "# df_curve_staking.head(1)"
   ]
  },
  {
   "cell_type": "code",
   "execution_count": 19,
   "id": "4ca0fd7d-de6c-486e-8570-5d6c9b1aa2cc",
   "metadata": {},
   "outputs": [],
   "source": [
    "df_convex_staking = remove_nrows_with_value(df_convex, addr_convex_staking_wrapper_frax, key='account') \n",
    "df_convex_staking = (\n",
    "    df_convex_staking.rename(columns={'amount': 'cvxfrxETHCRV (staked on convex curve system)'})\n",
    "    .drop(columns=['platform'])\n",
    ") \n",
    "# df_convex_staking.head(1)"
   ]
  },
  {
   "cell_type": "code",
   "execution_count": 20,
   "id": "08128a91-42c8-4809-a84e-ef3d812176a9",
   "metadata": {},
   "outputs": [],
   "source": [
    "df_frax_frax = df_frax_farm.loc[df_frax_farm.platform == 'frax-farm']\n",
    "df_frax_convex = df_frax_farm.loc[df_frax_farm.platform == 'frax-farm-convex']\n",
    "df_frax_frax = df_frax_frax.rename(columns={'amount': 'stkcvxfrxETHCRV-frax (staked on frax)'})\n",
    "df_frax_convex = df_frax_convex.rename(columns={'amount': 'stkcvxfrxETHCRV-frax (staked on convex frax system)'})\n",
    "df_frax_staking = (\n",
    "    df_frax_frax.drop(columns=[\"platform\", 'vault_address'])\n",
    "    .merge(\n",
    "        df_frax_convex.drop(columns=[\"platform\", 'vault_address']) , how='outer', on='account'\n",
    "    )\n",
    "    .fillna(0)\n",
    ")\n",
    "# df_frax_staking.head()"
   ]
  },
  {
   "cell_type": "code",
   "execution_count": 21,
   "id": "7315b0a0-1985-412a-ad8c-edf5d19fd7a1",
   "metadata": {},
   "outputs": [],
   "source": [
    "dfs = [\n",
    "    df_curve_staking, \n",
    "    df_convex_staking, \n",
    "    df_frax_staking, \n",
    "    df_circ_frxETHCRV, \n",
    "    df_circ_cvxfrxETHCRV, \n",
    "    df_circ_stkcvxfrxETHCRV_frax, \n",
    "]\n",
    "for i in range(len(dfs)): \n",
    "    dfs[i] = dfs[i].set_index('account') \n",
    "df = pd.concat(dfs, axis=1).fillna(0)\n",
    "value_cols = [c for c in df.columns if c != 'account']\n",
    "df['total_frxETHCRV'] = df[value_cols].sum(axis=1)\n",
    "df = df.loc[df.total_frxETHCRV != 0]\n",
    "df = df.sort_values('total_frxETHCRV', ascending=False).reset_index()"
   ]
  },
  {
   "cell_type": "code",
   "execution_count": 22,
   "id": "dedab41f-6e8d-45c3-97d8-61aa2ccb36a5",
   "metadata": {},
   "outputs": [
    {
     "name": "stdout",
     "output_type": "stream",
     "text": [
      "Total Supply frxETHCRV (actual):      81818.5093869991\n",
      "Total Supply frxETHCRV (computed):    81818.50938699908\n",
      "--------------------------------------------------------------------------------\n",
      "cvxfrxETHCRV (circulating)                             0.0\n",
      "cvxfrxETHCRV (staked on convex curve system)           2365.544964770673\n",
      "frxETHCRV (circulating)                                65.60667610090428\n",
      "frxETHCRV-gauge (staked directly through curve)        1123.4567730280828\n",
      "stkcvxfrxETHCRV-frax (circulating)                     633.6111053832553\n",
      "stkcvxfrxETHCRV-frax (staked on convex frax system)    76653.27178004783\n",
      "stkcvxfrxETHCRV-frax (staked on frax)                  977.0180876683514\n"
     ]
    }
   ],
   "source": [
    "actual = get_total_supply_of_erc20(addr_frxethcrv)\n",
    "computed = df.total_frxETHCRV.sum()\n",
    "print(f\"Total Supply frxETHCRV (actual): {actual:>21}\")\n",
    "print(f\"Total Supply frxETHCRV (computed): {computed:>20}\")\n",
    "print(\"-\" * 80)\n",
    "for c in sorted(value_cols): \n",
    "    print(f\"{c:<55}{df[c].sum()}\")"
   ]
  },
  {
   "cell_type": "code",
   "execution_count": 23,
   "id": "156ea985-cc45-42db-938b-b90ab1f3f3e8",
   "metadata": {},
   "outputs": [
    {
     "name": "stderr",
     "output_type": "stream",
     "text": [
      "/opt/miniconda3/envs/flywheel-testing/lib/python3.10/site-packages/altair/utils/core.py:317: FutureWarning: iteritems is deprecated and will be removed in a future version. Use .items instead.\n",
      "  for col_name, dtype in df.dtypes.iteritems():\n"
     ]
    },
    {
     "data": {
      "application/vnd.vegalite.v4+json": {
       "$schema": "https://vega.github.io/schema/vega-lite/v4.17.0.json",
       "config": {
        "view": {
         "continuousHeight": 300,
         "continuousWidth": 400
        }
       },
       "datasets": {
        "data-121c53699fdb8901dd1869ab34624437": [
         {
          "account": "0x94cb486eb43ba23159a7debac920b0fa7cb476fa",
          "frxETHCRV": 1531.172118350314,
          "index": 0
         },
         {
          "account": "0x38E3423935e868a7F64BC610A4A756Bd27AbacB7",
          "frxETHCRV": 1676.42652967617,
          "index": 1
         },
         {
          "account": "0xA976eA51b9ba3232706aF125a92e32788Dc08Ddc",
          "frxETHCRV": 1744.7083795171798,
          "index": 2
         },
         {
          "account": "0x355D72Fb52AD4591B2066E43e89A7A38CF5cb341",
          "frxETHCRV": 1943.532700143019,
          "index": 3
         },
         {
          "account": "0x733c33339684F38C8aADA0434751611e168255c4",
          "frxETHCRV": 1999.2576762750045,
          "index": 4
         },
         {
          "account": "0xD07993c6cb9692a71522Baf970A31069034dF2B0",
          "frxETHCRV": 3170.969204640198,
          "index": 5
         },
         {
          "account": "0x7bbeD773A8A321976Bb156F57E0846368Bd9C9d7",
          "frxETHCRV": 3821.9340243705005,
          "index": 6
         },
         {
          "account": "0xc9cfD6205914AB1E209FfE70326d8dd15fc58187",
          "frxETHCRV": 5098.364700813975,
          "index": 7
         },
         {
          "account": "0x8D8B9c79196f32161BcB2A9728D274B3b45eB9AF",
          "frxETHCRV": 7154.8588433782,
          "index": 8
         },
         {
          "account": "0x8306300ffd616049FD7e4b0354a64Da835c1A81C",
          "frxETHCRV": 17569.209216961128,
          "index": 9
         },
         {
          "account": "Other Holders",
          "frxETHCRV": 36108.075992873404,
          "index": 10
         }
        ],
        "data-c2bbde8f930a114045b30ed51ec89c91": [
         {
          "index": 0,
          "value": 0,
          "variable": "cvxfrxETHCRV (circulating)"
         },
         {
          "index": 1,
          "value": 65.60667610090428,
          "variable": "frxETHCRV (circulating)"
         },
         {
          "index": 2,
          "value": 633.6111053832553,
          "variable": "stkcvxfrxETHCRV-frax (circulating)"
         },
         {
          "index": 3,
          "value": 977.0180876683514,
          "variable": "stkcvxfrxETHCRV-frax (staked on frax)"
         },
         {
          "index": 4,
          "value": 1123.4567730280828,
          "variable": "frxETHCRV-gauge (staked directly through curve)"
         },
         {
          "index": 5,
          "value": 2365.544964770673,
          "variable": "cvxfrxETHCRV (staked on convex curve system)"
         },
         {
          "index": 6,
          "value": 76653.27178004783,
          "variable": "stkcvxfrxETHCRV-frax (staked on convex frax system)"
         }
        ]
       },
       "hconcat": [
        {
         "data": {
          "name": "data-c2bbde8f930a114045b30ed51ec89c91"
         },
         "encoding": {
          "color": {
           "field": "variable",
           "type": "nominal"
          },
          "order": {
           "field": "index",
           "type": "ordinal"
          },
          "theta": {
           "field": "value",
           "type": "quantitative"
          },
          "tooltip": [
           {
            "field": "variable",
            "type": "nominal"
           },
           {
            "field": "value",
            "format": ",d",
            "title": "frxETHCRV",
            "type": "quantitative"
           },
           {
            "field": "fraction",
            "format": ".1%",
            "title": "Share",
            "type": "quantitative"
           }
          ]
         },
         "mark": "arc",
         "transform": [
          {
           "joinaggregate": [
            {
             "as": "amount_total",
             "field": "value",
             "op": "sum"
            }
           ]
          },
          {
           "as": "fraction",
           "calculate": "datum.value / datum.amount_total"
          }
         ]
        },
        {
         "data": {
          "name": "data-121c53699fdb8901dd1869ab34624437"
         },
         "encoding": {
          "color": {
           "field": "account",
           "scale": {
            "range": [
             "#1F77B4",
             "#AEC7E8",
             "#FF7F0E",
             "#FFBB78",
             "#2CA02C",
             "#98DF8A",
             "#D62728",
             "#FF9896",
             "#9467BD",
             "#C5B0D5",
             "#8C564B",
             "#C49C94",
             "#E377C2",
             "#F7B6D2",
             "#7F7F7F",
             "#C7C7C7",
             "#BCBD22",
             "#DBDB8D",
             "#17BECF",
             "#9EDAE5",
             "#780085",
             "#7D45E4",
             "#598CEC",
             "#3BBEA9",
             "#56DE52",
             "#A2EC55",
             "#DCDD5C",
             "#F9965B"
            ]
           },
           "type": "nominal"
          },
          "order": {
           "field": "index",
           "type": "ordinal"
          },
          "theta": {
           "field": "frxETHCRV",
           "type": "quantitative"
          },
          "tooltip": [
           {
            "field": "account",
            "type": "nominal"
           },
           {
            "field": "frxETHCRV",
            "format": ",d",
            "title": "frxETHCRV",
            "type": "quantitative"
           },
           {
            "field": "fraction",
            "format": ".1%",
            "title": "Share",
            "type": "quantitative"
           }
          ]
         },
         "mark": "arc",
         "transform": [
          {
           "joinaggregate": [
            {
             "as": "total",
             "field": "frxETHCRV",
             "op": "sum"
            }
           ]
          },
          {
           "as": "fraction",
           "calculate": "datum.frxETHCRV / datum.total"
          }
         ]
        }
       ],
       "resolve": {
        "legend": {
         "color": "independent"
        },
        "scale": {
         "color": "independent"
        }
       }
      },
      "image/png": "[encoded data removed]",
      "text/plain": [
       "<VegaLite 4 object>\n",
       "\n",
       "If you see this message, it means the renderer has not been properly enabled\n",
       "for the frontend that you are using. For more information, see\n",
       "https://altair-viz.github.io/user_guide/troubleshooting.html\n"
      ]
     },
     "execution_count": 23,
     "metadata": {},
     "output_type": "execute_result"
    }
   ],
   "source": [
    "d = df.reset_index()[['index', 'account', 'total_frxETHCRV']].reset_index()\n",
    "top_n_holders = 10\n",
    "d_top_n = (\n",
    "    pd.concat([\n",
    "        d.loc[d.index < top_n_holders][['account', 'total_frxETHCRV']].rename(columns={'total_frxETHCRV': 'frxETHCRV'}), \n",
    "        pd.DataFrame([{\n",
    "            \"account\": \"Other Holders\", \n",
    "            \"frxETHCRV\": d.loc[d.index >= top_n_holders].total_frxETHCRV.sum()}\n",
    "        ])\n",
    "    ])\n",
    "    .sort_values('frxETHCRV').reset_index(drop=True).reset_index()\n",
    ")\n",
    "\n",
    "c = (\n",
    "    alt.hconcat(\n",
    "        alt.Chart(\n",
    "            pd.melt(df, id_vars='account', value_vars=value_cols).reset_index()\n",
    "            .groupby('variable')['value'].sum().reset_index()\n",
    "            .sort_values('value').reset_index(drop=True).reset_index()\n",
    "        )\n",
    "        .transform_joinaggregate(amount_total=\"sum(value)\")\n",
    "        .transform_calculate(fraction=\"datum.value / datum.amount_total\")\n",
    "        .mark_arc()\n",
    "        .encode(\n",
    "            theta=\"value:Q\", \n",
    "            color=\"variable:N\", \n",
    "            order=\"index:O\", \n",
    "            tooltip=[\n",
    "                alt.Tooltip(\"variable:N\"), \n",
    "                alt.Tooltip(\"value:Q\", format=\",d\", title=\"frxETHCRV\"),\n",
    "                alt.Tooltip(\"fraction:Q\", format=\".1%\", title=\"Share\"),\n",
    "            ]\n",
    "        ),\n",
    "        alt.Chart(d_top_n)\n",
    "        .transform_joinaggregate(total=\"sum(frxETHCRV)\")\n",
    "        .transform_calculate(fraction=\"datum.frxETHCRV / datum.total\")\n",
    "        .mark_arc()\n",
    "        .encode(\n",
    "            theta=alt.Theta(\"frxETHCRV:Q\"), \n",
    "            color=alt.Color(\"account:N\", scale=alt.Scale(range=colors_28)), \n",
    "            order=\"index:O\", \n",
    "            tooltip=[\n",
    "                alt.Tooltip(\"account:N\"), \n",
    "                alt.Tooltip(\"frxETHCRV:Q\", format=\",d\", title=\"frxETHCRV\"),\n",
    "                alt.Tooltip(\"fraction:Q\", format=\".1%\", title=\"Share\"),\n",
    "            ]\n",
    "        ) \n",
    "    )\n",
    "    .resolve_scale(color=\"independent\")\n",
    "    .resolve_legend(color=\"independent\")\n",
    ")\n",
    "c"
   ]
  },
  {
   "cell_type": "code",
   "execution_count": 24,
   "id": "1f09fc18-42e4-4b33-894f-35866ec1a641",
   "metadata": {},
   "outputs": [
    {
     "data": {
      "text/html": [
       "<table border=\"1\" class=\"dataframe\">\n",
       "  <thead>\n",
       "    <tr style=\"text-align: right;\">\n",
       "      <th></th>\n",
       "      <th>account</th>\n",
       "      <th>frxETHCRV-gauge (staked directly through curve)</th>\n",
       "      <th>cvxfrxETHCRV (staked on convex curve system)</th>\n",
       "      <th>stkcvxfrxETHCRV-frax (staked on frax)</th>\n",
       "      <th>stkcvxfrxETHCRV-frax (staked on convex frax system)</th>\n",
       "      <th>frxETHCRV (circulating)</th>\n",
       "      <th>cvxfrxETHCRV (circulating)</th>\n",
       "      <th>stkcvxfrxETHCRV-frax (circulating)</th>\n",
       "      <th>total_frxETHCRV</th>\n",
       "      <th>ens</th>\n",
       "    </tr>\n",
       "  </thead>\n",
       "  <tbody>\n",
       "    <tr>\n",
       "      <th>0</th>\n",
       "      <td>0x8306300ffd616049FD7e4b0354a64Da835c1A81C</td>\n",
       "      <td>0.00</td>\n",
       "      <td>0.00</td>\n",
       "      <td>0.00</td>\n",
       "      <td>17569.21</td>\n",
       "      <td>0.00</td>\n",
       "      <td>0.00</td>\n",
       "      <td>0.00</td>\n",
       "      <td>17569.21</td>\n",
       "      <td>None</td>\n",
       "    </tr>\n",
       "    <tr>\n",
       "      <th>1</th>\n",
       "      <td>0x8D8B9c79196f32161BcB2A9728D274B3b45eB9AF</td>\n",
       "      <td>0.00</td>\n",
       "      <td>0.00</td>\n",
       "      <td>0.00</td>\n",
       "      <td>7154.86</td>\n",
       "      <td>0.00</td>\n",
       "      <td>0.00</td>\n",
       "      <td>0.00</td>\n",
       "      <td>7154.86</td>\n",
       "      <td>None</td>\n",
       "    </tr>\n",
       "    <tr>\n",
       "      <th>2</th>\n",
       "      <td>0xc9cfD6205914AB1E209FfE70326d8dd15fc58187</td>\n",
       "      <td>0.00</td>\n",
       "      <td>0.00</td>\n",
       "      <td>0.00</td>\n",
       "      <td>5097.31</td>\n",
       "      <td>1.05</td>\n",
       "      <td>0.00</td>\n",
       "      <td>0.00</td>\n",
       "      <td>5098.36</td>\n",
       "      <td>None</td>\n",
       "    </tr>\n",
       "    <tr>\n",
       "      <th>3</th>\n",
       "      <td>0x7bbeD773A8A321976Bb156F57E0846368Bd9C9d7</td>\n",
       "      <td>0.00</td>\n",
       "      <td>0.00</td>\n",
       "      <td>0.00</td>\n",
       "      <td>3821.93</td>\n",
       "      <td>0.00</td>\n",
       "      <td>0.00</td>\n",
       "      <td>0.00</td>\n",
       "      <td>3821.93</td>\n",
       "      <td>None</td>\n",
       "    </tr>\n",
       "    <tr>\n",
       "      <th>4</th>\n",
       "      <td>0xD07993c6cb9692a71522Baf970A31069034dF2B0</td>\n",
       "      <td>0.00</td>\n",
       "      <td>0.00</td>\n",
       "      <td>0.00</td>\n",
       "      <td>3170.97</td>\n",
       "      <td>0.00</td>\n",
       "      <td>0.00</td>\n",
       "      <td>0.00</td>\n",
       "      <td>3170.97</td>\n",
       "      <td>None</td>\n",
       "    </tr>\n",
       "    <tr>\n",
       "      <th>5</th>\n",
       "      <td>0x733c33339684F38C8aADA0434751611e168255c4</td>\n",
       "      <td>0.00</td>\n",
       "      <td>0.00</td>\n",
       "      <td>0.00</td>\n",
       "      <td>1999.26</td>\n",
       "      <td>0.00</td>\n",
       "      <td>0.00</td>\n",
       "      <td>0.00</td>\n",
       "      <td>1999.26</td>\n",
       "      <td>None</td>\n",
       "    </tr>\n",
       "    <tr>\n",
       "      <th>6</th>\n",
       "      <td>0x355D72Fb52AD4591B2066E43e89A7A38CF5cb341</td>\n",
       "      <td>0.00</td>\n",
       "      <td>0.00</td>\n",
       "      <td>0.00</td>\n",
       "      <td>1943.53</td>\n",
       "      <td>0.00</td>\n",
       "      <td>0.00</td>\n",
       "      <td>0.00</td>\n",
       "      <td>1943.53</td>\n",
       "      <td>None</td>\n",
       "    </tr>\n",
       "    <tr>\n",
       "      <th>7</th>\n",
       "      <td>0xA976eA51b9ba3232706aF125a92e32788Dc08Ddc</td>\n",
       "      <td>0.00</td>\n",
       "      <td>0.00</td>\n",
       "      <td>0.00</td>\n",
       "      <td>1744.71</td>\n",
       "      <td>0.00</td>\n",
       "      <td>0.00</td>\n",
       "      <td>0.00</td>\n",
       "      <td>1744.71</td>\n",
       "      <td>None</td>\n",
       "    </tr>\n",
       "    <tr>\n",
       "      <th>8</th>\n",
       "      <td>0x38E3423935e868a7F64BC610A4A756Bd27AbacB7</td>\n",
       "      <td>0.00</td>\n",
       "      <td>0.00</td>\n",
       "      <td>0.00</td>\n",
       "      <td>1676.43</td>\n",
       "      <td>0.00</td>\n",
       "      <td>0.00</td>\n",
       "      <td>0.00</td>\n",
       "      <td>1676.43</td>\n",
       "      <td>None</td>\n",
       "    </tr>\n",
       "    <tr>\n",
       "      <th>9</th>\n",
       "      <td>0x94cb486eb43ba23159a7debac920b0fa7cb476fa</td>\n",
       "      <td>0.00</td>\n",
       "      <td>1531.17</td>\n",
       "      <td>0.00</td>\n",
       "      <td>0.00</td>\n",
       "      <td>0.00</td>\n",
       "      <td>0.00</td>\n",
       "      <td>0.00</td>\n",
       "      <td>1531.17</td>\n",
       "      <td>None</td>\n",
       "    </tr>\n",
       "  </tbody>\n",
       "</table>"
      ],
      "text/plain": [
       "<IPython.core.display.HTML object>"
      ]
     },
     "metadata": {},
     "output_type": "display_data"
    }
   ],
   "source": [
    "precision = 2\n",
    "pd.set_option('display.float_format', lambda x: f'%.{precision}f' % x)\n",
    "\n",
    "# labeling some large wallets. TODO: automate this later on. \n",
    "ens = {\n",
    "    \"0x9026A229b535ecF0162Dfe48fDeb3c75f7b2A7AE\": \"czsamsunsb.eth\", \n",
    "    \"0x2dE9D6f84e28F3A347b97C6a3Db51D366E65bA4C\": \"safefarmer.eth\", \n",
    "    \"0x2f206D74d7cFcc6a9F556825034eB110a572AD62\": \"uhtearyum.eth\", \n",
    "    \"0xB29Cd9C87a624B940335d6d5e1D4aADf7D95bEeC\": \"adamant.eth\", \n",
    "}\n",
    "df['ens'] = df.account.apply(lambda a: ens.get(a))\n",
    "df = df.sort_values('total_frxETHCRV', ascending=False).reset_index(drop=True) \n",
    "\n",
    "ddf(\n",
    "    df.loc[df.total_frxETHCRV >= 10**(-1*precision)].head(10)\n",
    ")"
   ]
  },
  {
   "cell_type": "code",
   "execution_count": 25,
   "id": "34948f32-7e67-4bc5-a2da-433a7a15a43a",
   "metadata": {},
   "outputs": [],
   "source": [
    "# # - total FrxETH/sfrxeth volume \n",
    "# from subgrounds import Subgrounds\n",
    "\n",
    "# sg = Subgrounds()\n",
    "# sg_curve_vol = sg.load_subgraph(url_subgraphs.convex.curve_vol_mainnet)\n",
    "# q = sg_curve_vol.Query.swapVolumeSnapshots(where={\"pool\": \"0xa1f8a6807c402e4a15ef4eba36528a3fed24e577\"}, first=1000)\n",
    "# df_frxeth_pool = sg.query_df([q.timestamp, q.volumeUSD])\n",
    "# df_frxeth_pool = remove_prefix(df_frxeth_pool, 'swapVolumeSnapshots_')\n",
    "# df_frxeth_pool.timestamp = pd.to_datetime(df_frxeth_pool.timestamp, unit='s')\n",
    "# df_frxeth_pool['date'] = pd.to_datetime(df_frxeth_pool.timestamp.dt.date)\n",
    "# df_frxeth_pool = df_frxeth_pool.groupby(\"date\").max().reset_index()[['date', 'volumeUSD']]\n",
    "# df_frxeth_pool.volumeUSD /= 2\n",
    "# print(df_frxeth_pool.volumeUSD.sum()) \n",
    "# alt.Chart(df_frxeth_pool).mark_line().encode(x=\"date:T\", y=\"volumeUSD:Q\")"
   ]
  },
  {
   "cell_type": "code",
   "execution_count": 26,
   "id": "c4cfe5a7-e8de-4d2b-aa5c-359912a5a9d3",
   "metadata": {},
   "outputs": [],
   "source": [
    "# addrs = [\n",
    "#     '0x9026A229b535ecF0162Dfe48fDeb3c75f7b2A7AE', # (czsamsunsb.eth)\n",
    "#     '0xD07993c6cb9692a71522Baf970A31069034dF2B0',\n",
    "#     '0x581cf4642283edA85a64bB45cd226854415AB830',\n",
    "# ] "
   ]
  },
  {
   "cell_type": "code",
   "execution_count": 27,
   "id": "f96ba7b7-f6a7-4991-92b6-fbefe9b03a60",
   "metadata": {},
   "outputs": [],
   "source": [
    "# qattrs = ['id', 'amount', 'timestamp', 'user.address']\n",
    "# # deposits into the convex staking contract for curve lp tokens \n",
    "# q_deposits = sg_curve_pools.Query.deposits(first=100000, where={'poolid_': {'swap': addr_pool_frxeth_eth}})\n",
    "# df_deposits = query_attrs(sg, q_deposits, qattrs)\n",
    "# df_deposits = remove_prefix(df_deposits, 'deposits_') \n",
    "# df_deposits.timestamp = pd.to_datetime(df_deposits.timestamp, unit='s')\n",
    "# # current deposited amount per account in convex staking contract for curve lp tokens \n",
    "# # df_convex = pd.concat([df_deposits, df_withdrawals])\n",
    "# # df_convex = df_convex.groupby('user_address')['amount'].sum().reset_index()\n",
    "# # df_convex = df_convex.loc[df_convex.amount != 0].sort_values('amount', ascending=False).reset_index(drop=True)\n",
    "# # df_convex.amount /= 1e18\n",
    "# # df_convex['platform'] = 'convex-curve'\n",
    "# # df_convex = df_convex.rename(columns={'user_address': 'account'})\n",
    "# # df_convex.head()\n",
    "# # return df_convex "
   ]
  }
 ],
 "metadata": {
  "kernelspec": {
   "display_name": "flywheel-testing",
   "language": "python",
   "name": "flywheel-testing"
  },
  "language_info": {
   "codemirror_mode": {
    "name": "ipython",
    "version": 3
   },
   "file_extension": ".py",
   "mimetype": "text/x-python",
   "name": "python",
   "nbconvert_exporter": "python",
   "pygments_lexer": "ipython3",
   "version": "3.10.0"
  },
  "vscode": {
   "interpreter": {
    "hash": "e18ea949e0f3d14fcab1ff7531c94c49f90cb44d1d6fa8f4203a03986923cae9"
   }
  }
 },
 "nbformat": 4,
 "nbformat_minor": 5
}
