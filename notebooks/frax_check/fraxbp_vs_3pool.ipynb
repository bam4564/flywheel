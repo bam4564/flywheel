{
 "cells": [
  {
   "cell_type": "code",
   "execution_count": 1,
   "id": "1abbe31e-72e0-4933-9c80-527bf56f22f2",
   "metadata": {
    "tags": []
   },
   "outputs": [
    {
     "name": "stderr",
     "output_type": "stream",
     "text": [
      "/opt/miniconda3/envs/flywheel/lib/python3.10/site-packages/eth_utils/toolz.py:2: DeprecationWarning: The toolz.compatibility module is no longer needed in Python 3 and has been deprecated. Please import these utilities directly from the standard library. This module will be removed in a future release.\n",
      "  from cytoolz import (\n",
      "/opt/miniconda3/envs/flywheel/lib/python3.10/site-packages/web3/_utils/normalizers.py:231: DeprecationWarning: distutils Version classes are deprecated. Use packaging.version instead.\n",
      "  if LooseVersion(eth_abi.__version__) < LooseVersion(\"2\"):\n"
     ]
    },
    {
     "data": {
      "text/plain": [
       "DataTransformerRegistry.enable('default')"
      ]
     },
     "execution_count": 1,
     "metadata": {},
     "output_type": "execute_result"
    }
   ],
   "source": [
    "import json \n",
    "import os\n",
    "import logging \n",
    "\n",
    "from datetime import timedelta\n",
    "from pathlib import Path \n",
    "from pprint import PrettyPrinter\n",
    "\n",
    "from subgrounds import Subgrounds\n",
    "from web3 import Web3\n",
    "from pycoingecko import CoinGeckoAPI\n",
    "\n",
    "from prefect import task, flow \n",
    "from prefect.client import get_client\n",
    "from prefect.tasks import task_input_hash\n",
    "\n",
    "import pandas as pd \n",
    "import numpy as np \n",
    "import altair as alt \n",
    "import missingno as miss\n",
    "\n",
    "from flywheel_util.constants import (\n",
    "    colors_24,\n",
    "    colors_28, \n",
    "    addresses, \n",
    "    url_infura, \n",
    "    url_snapshot, \n",
    "    url_subgraphs, \n",
    "    snapshot_api_max_records_per_request, \n",
    "    snapshot_api_max_skip,\n",
    ")\n",
    "from flywheel_util.tasks.general import df_to_sql\n",
    "from flywheel_util.utils.util import (\n",
    "    ddf, \n",
    "    first_row, \n",
    "    query_attrs,\n",
    "    recursive_index_merge, \n",
    ")\n",
    "\n",
    "from sqlalchemy import create_engine\n",
    "from sqlalchemy import text\n",
    "engine = create_engine(\"sqlite+pysqlite:///votium_bribes.db\", echo=False, future=True)\n",
    "\n",
    "# logging.basicConfig(level=logging.INFO)\n",
    "\n",
    "import logging\n",
    "logging.basicConfig(level=logging.DEBUG)\n",
    "\n",
    "pp = PrettyPrinter().pprint\n",
    "\n",
    "alt.data_transformers.disable_max_rows()"
   ]
  },
  {
   "cell_type": "code",
   "execution_count": 2,
   "id": "e02d8fcf-aeac-4d94-8da1-0e8db63c664e",
   "metadata": {
    "tags": []
   },
   "outputs": [],
   "source": [
    "w3 = Web3(Web3.HTTPProvider(url_infura))\n",
    "cg = CoinGeckoAPI()"
   ]
  },
  {
   "cell_type": "code",
   "execution_count": 3,
   "id": "7737badc-bf84-4290-9f86-705031cd8882",
   "metadata": {
    "tags": []
   },
   "outputs": [],
   "source": [
    "sg = Subgrounds()\n",
    "sg_curve_vol = sg.load_subgraph(url_subgraphs.convex.curve_vol_mainnet)"
   ]
  },
  {
   "cell_type": "code",
   "execution_count": 4,
   "id": "9a8bcb97-4c36-4056-a7d6-b6def8ad84ad",
   "metadata": {},
   "outputs": [
    {
     "data": {
      "text/plain": [
       "'https://api.thegraph.com/subgraphs/name/convex-community/volume-mainnet'"
      ]
     },
     "execution_count": 4,
     "metadata": {},
     "output_type": "execute_result"
    }
   ],
   "source": [
    "url_subgraphs.convex.curve_vol_mainnet"
   ]
  },
  {
   "cell_type": "code",
   "execution_count": 19,
   "id": "4329c936-c80a-4e4e-9b28-eb7f4d489980",
   "metadata": {},
   "outputs": [
    {
     "name": "stderr",
     "output_type": "stream",
     "text": [
      "/opt/miniconda3/envs/flywheel/lib/python3.10/site-packages/prefect/tasks.py:206: UserWarning: A task named 'get_tvl_against_base_metapool_asset' and defined at '/var/folders/5c/hf9_blgj3jbbxxvkw_s9snsw0000gn/T/ipykernel_91036/4192669198.py:1' conflicts with another task. Consider specifying a unique `name` parameter in the task definition:\n",
      "\n",
      " `@task(name='my_unique_name', ...)`\n",
      "  warnings.warn(\n"
     ]
    }
   ],
   "source": [
    "@task(persist_result=True, cache_key_fn=task_input_hash, cache_expiration=timedelta(days=1))\n",
    "def get_tvl_against_base_metapool_asset(metapool_lp_token): \n",
    "    # Pull data from curve subgraph \n",
    "    query_pools = sg_curve_vol.Query.pools(\n",
    "        first=1000, where={\"coins_contains\": [metapool_lp_token]}\n",
    "    )\n",
    "    query_snaps = query_pools.dailyPoolSnapshots(first=1, orderBy=\"timestamp\", orderDirection=\"desc\") \n",
    "    dfs = sg.query_df([\n",
    "        query_pools.name, \n",
    "        query_pools.coins, \n",
    "        query_pools.coinNames, \n",
    "        query_snaps.reserves, \n",
    "        query_snaps.reservesUSD, \n",
    "    ])\n",
    "    df = recursive_index_merge(dfs)\n",
    "    df = df.loc[df.pools_dailyPoolSnapshots_reservesUSD > 0]\n",
    "    df = df.loc[df.pools_coinNames.str.lower() != '3crv']\n",
    "    df = df.groupby('pools_name')['pools_dailyPoolSnapshots_reservesUSD'].sum().reset_index()\n",
    "    df = df.rename(columns={\"pools_dailyPoolSnapshots_reservesUSD\": \"reserves_usd\"})\n",
    "    return df"
   ]
  },
  {
   "cell_type": "code",
   "execution_count": 20,
   "id": "2c2694cc-9855-4f33-9919-b77405787db9",
   "metadata": {},
   "outputs": [
    {
     "name": "stderr",
     "output_type": "stream",
     "text": [
      "/opt/miniconda3/envs/flywheel/lib/python3.10/site-packages/prefect/flows.py:205: UserWarning: A flow named 'flow-fraxbp-vs-3pool' and defined at '/var/folders/5c/hf9_blgj3jbbxxvkw_s9snsw0000gn/T/ipykernel_91036/2189869363.py:1' conflicts with another flow. Consider specifying a unique `name` parameter in the flow definition:\n",
      "\n",
      " `@flow(name='my_unique_name', ...)`\n",
      "  warnings.warn(\n"
     ]
    }
   ],
   "source": [
    "@flow \n",
    "def flow_fraxbp_vs_3pool(): \n",
    "    df_fraxbp = get_tvl_against_base_metapool_asset.submit(addresses.token.crvfrax)\n",
    "    df_3pool = get_tvl_against_base_metapool_asset.submit(addresses.token['3crv'])\n",
    "    return df_fraxbp.result(), df_3pool.result()"
   ]
  },
  {
   "cell_type": "code",
   "execution_count": 21,
   "id": "a705e6a7-c884-49c8-854b-1567fe52e9f7",
   "metadata": {},
   "outputs": [
    {
     "data": {
      "text/html": [
       "<pre style=\"white-space:pre;overflow-x:auto;line-height:normal;font-family:Menlo,'DejaVu Sans Mono',consolas,'Courier New',monospace\">14:20:53.537 | <span style=\"color: #008080; text-decoration-color: #008080\">INFO</span>    | prefect.engine - Created flow run<span style=\"color: #800080; text-decoration-color: #800080\"> 'hysterical-oxpecker'</span> for flow<span style=\"color: #800080; text-decoration-color: #800080; font-weight: bold\"> 'flow-fraxbp-vs-3pool'</span>\n",
       "</pre>\n"
      ],
      "text/plain": [
       "14:20:53.537 | \u001b[36mINFO\u001b[0m    | prefect.engine - Created flow run\u001b[35m 'hysterical-oxpecker'\u001b[0m for flow\u001b[1;35m 'flow-fraxbp-vs-3pool'\u001b[0m\n"
      ]
     },
     "metadata": {},
     "output_type": "display_data"
    },
    {
     "data": {
      "text/html": [
       "<pre style=\"white-space:pre;overflow-x:auto;line-height:normal;font-family:Menlo,'DejaVu Sans Mono',consolas,'Courier New',monospace\">14:20:53.604 | <span style=\"color: #008080; text-decoration-color: #008080\">INFO</span>    | Flow run<span style=\"color: #800080; text-decoration-color: #800080\"> 'hysterical-oxpecker'</span> - Created task run 'get_tvl_against_base_metapool_asset-800861d2-0' for task 'get_tvl_against_base_metapool_asset'\n",
       "</pre>\n"
      ],
      "text/plain": [
       "14:20:53.604 | \u001b[36mINFO\u001b[0m    | Flow run\u001b[35m 'hysterical-oxpecker'\u001b[0m - Created task run 'get_tvl_against_base_metapool_asset-800861d2-0' for task 'get_tvl_against_base_metapool_asset'\n"
      ]
     },
     "metadata": {},
     "output_type": "display_data"
    },
    {
     "data": {
      "text/html": [
       "<pre style=\"white-space:pre;overflow-x:auto;line-height:normal;font-family:Menlo,'DejaVu Sans Mono',consolas,'Courier New',monospace\">14:20:53.605 | <span style=\"color: #008080; text-decoration-color: #008080\">INFO</span>    | Flow run<span style=\"color: #800080; text-decoration-color: #800080\"> 'hysterical-oxpecker'</span> - Submitted task run 'get_tvl_against_base_metapool_asset-800861d2-0' for execution.\n",
       "</pre>\n"
      ],
      "text/plain": [
       "14:20:53.605 | \u001b[36mINFO\u001b[0m    | Flow run\u001b[35m 'hysterical-oxpecker'\u001b[0m - Submitted task run 'get_tvl_against_base_metapool_asset-800861d2-0' for execution.\n"
      ]
     },
     "metadata": {},
     "output_type": "display_data"
    },
    {
     "data": {
      "text/html": [
       "<pre style=\"white-space:pre;overflow-x:auto;line-height:normal;font-family:Menlo,'DejaVu Sans Mono',consolas,'Courier New',monospace\">14:20:53.614 | <span style=\"color: #008080; text-decoration-color: #008080\">INFO</span>    | Flow run<span style=\"color: #800080; text-decoration-color: #800080\"> 'hysterical-oxpecker'</span> - Created task run 'get_tvl_against_base_metapool_asset-800861d2-1' for task 'get_tvl_against_base_metapool_asset'\n",
       "</pre>\n"
      ],
      "text/plain": [
       "14:20:53.614 | \u001b[36mINFO\u001b[0m    | Flow run\u001b[35m 'hysterical-oxpecker'\u001b[0m - Created task run 'get_tvl_against_base_metapool_asset-800861d2-1' for task 'get_tvl_against_base_metapool_asset'\n"
      ]
     },
     "metadata": {},
     "output_type": "display_data"
    },
    {
     "data": {
      "text/html": [
       "<pre style=\"white-space:pre;overflow-x:auto;line-height:normal;font-family:Menlo,'DejaVu Sans Mono',consolas,'Courier New',monospace\">14:20:53.614 | <span style=\"color: #008080; text-decoration-color: #008080\">INFO</span>    | Flow run<span style=\"color: #800080; text-decoration-color: #800080\"> 'hysterical-oxpecker'</span> - Submitted task run 'get_tvl_against_base_metapool_asset-800861d2-1' for execution.\n",
       "</pre>\n"
      ],
      "text/plain": [
       "14:20:53.614 | \u001b[36mINFO\u001b[0m    | Flow run\u001b[35m 'hysterical-oxpecker'\u001b[0m - Submitted task run 'get_tvl_against_base_metapool_asset-800861d2-1' for execution.\n"
      ]
     },
     "metadata": {},
     "output_type": "display_data"
    },
    {
     "data": {
      "text/html": [
       "<pre style=\"white-space:pre;overflow-x:auto;line-height:normal;font-family:Menlo,'DejaVu Sans Mono',consolas,'Courier New',monospace\">14:21:04.699 | <span style=\"color: #008080; text-decoration-color: #008080\">INFO</span>    | Task run 'get_tvl_against_base_metapool_asset-800861d2-0' - Finished in state <span style=\"color: #008000; text-decoration-color: #008000\">Completed</span>()\n",
       "</pre>\n"
      ],
      "text/plain": [
       "14:21:04.699 | \u001b[36mINFO\u001b[0m    | Task run 'get_tvl_against_base_metapool_asset-800861d2-0' - Finished in state \u001b[32mCompleted\u001b[0m()\n"
      ]
     },
     "metadata": {},
     "output_type": "display_data"
    },
    {
     "data": {
      "text/html": [
       "<pre style=\"white-space:pre;overflow-x:auto;line-height:normal;font-family:Menlo,'DejaVu Sans Mono',consolas,'Courier New',monospace\">14:21:47.346 | <span style=\"color: #008080; text-decoration-color: #008080\">INFO</span>    | Task run 'get_tvl_against_base_metapool_asset-800861d2-1' - Finished in state <span style=\"color: #008000; text-decoration-color: #008000\">Completed</span>()\n",
       "</pre>\n"
      ],
      "text/plain": [
       "14:21:47.346 | \u001b[36mINFO\u001b[0m    | Task run 'get_tvl_against_base_metapool_asset-800861d2-1' - Finished in state \u001b[32mCompleted\u001b[0m()\n"
      ]
     },
     "metadata": {},
     "output_type": "display_data"
    },
    {
     "data": {
      "text/html": [
       "<pre style=\"white-space:pre;overflow-x:auto;line-height:normal;font-family:Menlo,'DejaVu Sans Mono',consolas,'Courier New',monospace\">14:21:47.356 | <span style=\"color: #008080; text-decoration-color: #008080\">INFO</span>    | Flow run<span style=\"color: #800080; text-decoration-color: #800080\"> 'hysterical-oxpecker'</span> - Finished in state <span style=\"color: #008000; text-decoration-color: #008000\">Completed</span>()\n",
       "</pre>\n"
      ],
      "text/plain": [
       "14:21:47.356 | \u001b[36mINFO\u001b[0m    | Flow run\u001b[35m 'hysterical-oxpecker'\u001b[0m - Finished in state \u001b[32mCompleted\u001b[0m()\n"
      ]
     },
     "metadata": {},
     "output_type": "display_data"
    },
    {
     "name": "stderr",
     "output_type": "stream",
     "text": [
      "sys:1: ResourceWarning: Unclosed socket <zmq.Socket(zmq.PUSH) at 0x16ba321a0>\n",
      "ResourceWarning: Enable tracemalloc to get the object allocation traceback\n"
     ]
    }
   ],
   "source": [
    "df_fraxbp, df_3pool = flow_fraxbp_vs_3pool()"
   ]
  },
  {
   "cell_type": "code",
   "execution_count": 22,
   "id": "8cd6a38c-b0aa-4181-af4b-8c769c083cad",
   "metadata": {},
   "outputs": [],
   "source": [
    "def chart_tvl_breakdown(df, asset_name): \n",
    "    print(f\"Total tvl ($) paired against {asset_name} in Metapools: ${df.reserves_usd.sum():,}\")\n",
    "    return (\n",
    "        alt.Chart(df)\n",
    "        .mark_arc()\n",
    "        .encode(\n",
    "            theta=\"reserves_usd\", \n",
    "            color=\"pools_name\", \n",
    "            tooltip=[\"pools_name\", alt.Tooltip(\"reserves_usd\", format=\",d\")]\n",
    "        )\n",
    "        .properties(title=f\"Breakdown of TVL paired against {asset_name} in Metapools\")\n",
    "    ) \n"
   ]
  },
  {
   "cell_type": "code",
   "execution_count": 23,
   "id": "54cd8de3-dc8e-4928-b071-a8f4c4e97997",
   "metadata": {},
   "outputs": [
    {
     "name": "stdout",
     "output_type": "stream",
     "text": [
      "Total tvl ($) paired against crvFRAX in Metapools: $123,769,995.96578994\n"
     ]
    },
    {
     "name": "stderr",
     "output_type": "stream",
     "text": [
      "/opt/miniconda3/envs/flywheel/lib/python3.10/site-packages/altair/utils/core.py:317: FutureWarning: iteritems is deprecated and will be removed in a future version. Use .items instead.\n",
      "  for col_name, dtype in df.dtypes.iteritems():\n"
     ]
    },
    {
     "data": {
      "text/html": [
       "\n",
       "<div id=\"altair-viz-a4cd8a0606274949abdcc583f2307f46\"></div>\n",
       "<script type=\"text/javascript\">\n",
       "  var VEGA_DEBUG = (typeof VEGA_DEBUG == \"undefined\") ? {} : VEGA_DEBUG;\n",
       "  (function(spec, embedOpt){\n",
       "    let outputDiv = document.currentScript.previousElementSibling;\n",
       "    if (outputDiv.id !== \"altair-viz-a4cd8a0606274949abdcc583f2307f46\") {\n",
       "      outputDiv = document.getElementById(\"altair-viz-a4cd8a0606274949abdcc583f2307f46\");\n",
       "    }\n",
       "    const paths = {\n",
       "      \"vega\": \"https://cdn.jsdelivr.net/npm//vega@5?noext\",\n",
       "      \"vega-lib\": \"https://cdn.jsdelivr.net/npm//vega-lib?noext\",\n",
       "      \"vega-lite\": \"https://cdn.jsdelivr.net/npm//vega-lite@4.17.0?noext\",\n",
       "      \"vega-embed\": \"https://cdn.jsdelivr.net/npm//vega-embed@6?noext\",\n",
       "    };\n",
       "\n",
       "    function maybeLoadScript(lib, version) {\n",
       "      var key = `${lib.replace(\"-\", \"\")}_version`;\n",
       "      return (VEGA_DEBUG[key] == version) ?\n",
       "        Promise.resolve(paths[lib]) :\n",
       "        new Promise(function(resolve, reject) {\n",
       "          var s = document.createElement('script');\n",
       "          document.getElementsByTagName(\"head\")[0].appendChild(s);\n",
       "          s.async = true;\n",
       "          s.onload = () => {\n",
       "            VEGA_DEBUG[key] = version;\n",
       "            return resolve(paths[lib]);\n",
       "          };\n",
       "          s.onerror = () => reject(`Error loading script: ${paths[lib]}`);\n",
       "          s.src = paths[lib];\n",
       "        });\n",
       "    }\n",
       "\n",
       "    function showError(err) {\n",
       "      outputDiv.innerHTML = `<div class=\"error\" style=\"color:red;\">${err}</div>`;\n",
       "      throw err;\n",
       "    }\n",
       "\n",
       "    function displayChart(vegaEmbed) {\n",
       "      vegaEmbed(outputDiv, spec, embedOpt)\n",
       "        .catch(err => showError(`Javascript Error: ${err.message}<br>This usually means there's a typo in your chart specification. See the javascript console for the full traceback.`));\n",
       "    }\n",
       "\n",
       "    if(typeof define === \"function\" && define.amd) {\n",
       "      requirejs.config({paths});\n",
       "      require([\"vega-embed\"], displayChart, err => showError(`Error loading script: ${err.message}`));\n",
       "    } else {\n",
       "      maybeLoadScript(\"vega\", \"5\")\n",
       "        .then(() => maybeLoadScript(\"vega-lite\", \"4.17.0\"))\n",
       "        .then(() => maybeLoadScript(\"vega-embed\", \"6\"))\n",
       "        .catch(showError)\n",
       "        .then(() => displayChart(vegaEmbed));\n",
       "    }\n",
       "  })({\"config\": {\"view\": {\"continuousWidth\": 400, \"continuousHeight\": 300}}, \"data\": {\"name\": \"data-02932ac139f82c7cdb8441cc9d220804\"}, \"mark\": \"arc\", \"encoding\": {\"color\": {\"field\": \"pools_name\", \"type\": \"nominal\"}, \"theta\": {\"field\": \"reserves_usd\", \"type\": \"quantitative\"}, \"tooltip\": [{\"field\": \"pools_name\", \"type\": \"nominal\"}, {\"field\": \"reserves_usd\", \"format\": \",d\", \"type\": \"quantitative\"}]}, \"title\": \"Breakdown of TVL paired against crvFRAX in Metapools\", \"$schema\": \"https://vega.github.io/schema/vega-lite/v4.17.0.json\", \"datasets\": {\"data-02932ac139f82c7cdb8441cc9d220804\": [{\"pools_name\": \"Curve.fi Factory Crypto Pool: ALCX/FraxBP\", \"reserves_usd\": 473667.82765478105}, {\"pools_name\": \"Curve.fi Factory Crypto Pool: BADGER/FRAXBP\", \"reserves_usd\": 2632604.7074502455}, {\"pools_name\": \"Curve.fi Factory Crypto Pool: BENT/FRAX\", \"reserves_usd\": 1.2299857946990524e-18}, {\"pools_name\": \"Curve.fi Factory Crypto Pool: BENT/FraxBP\", \"reserves_usd\": 58178.04383090749}, {\"pools_name\": \"Curve.fi Factory Crypto Pool: CVX/FraxBP\", \"reserves_usd\": 3014558.9835600667}, {\"pools_name\": \"Curve.fi Factory Crypto Pool: EURS/FRAXBP\", \"reserves_usd\": 9671.208913946399}, {\"pools_name\": \"Curve.fi Factory Crypto Pool: OHM/FRAXBP\", \"reserves_usd\": 308984.32112509396}, {\"pools_name\": \"Curve.fi Factory Crypto Pool: RAI/FRAXBP\", \"reserves_usd\": 4.747380780688351e-18}, {\"pools_name\": \"Curve.fi Factory Crypto Pool: RSR+FRAX/USDC (FRAXBP)\", \"reserves_usd\": 4550306.543761238}, {\"pools_name\": \"Curve.fi Factory Crypto Pool: SDT / FRAXBP\", \"reserves_usd\": 647233.946216963}, {\"pools_name\": \"Curve.fi Factory Crypto Pool: STG/FRAX-USDC\", \"reserves_usd\": 98586.86233893916}, {\"pools_name\": \"Curve.fi Factory Crypto Pool: agEUR/FRAXBP\", \"reserves_usd\": 1201157.8355828195}, {\"pools_name\": \"Curve.fi Factory Crypto Pool: bentCVX/FraxBP\", \"reserves_usd\": 80.14392136360512}, {\"pools_name\": \"Curve.fi Factory Crypto Pool: cvxCrv/FraxBP\", \"reserves_usd\": 5294483.606991081}, {\"pools_name\": \"Curve.fi Factory Crypto Pool: cvxFxs/FraxBP\", \"reserves_usd\": 6347373.081858274}, {\"pools_name\": \"Curve.fi Factory USD Metapool: BUSDFRAXBP\", \"reserves_usd\": 12140852.801875839}, {\"pools_name\": \"Curve.fi Factory USD Metapool: DOLA/FRAXBP\", \"reserves_usd\": 25642356.743173305}, {\"pools_name\": \"Curve.fi Factory USD Metapool: GUSDFRAXBP\", \"reserves_usd\": 9783861.458084142}, {\"pools_name\": \"Curve.fi Factory USD Metapool: LUSDFRAXBP\", \"reserves_usd\": 3559954.998011244}, {\"pools_name\": \"Curve.fi Factory USD Metapool: MAI+FRAXBP\", \"reserves_usd\": 1083201.1305316747}, {\"pools_name\": \"Curve.fi Factory USD Metapool: MIMFRAXBP\", \"reserves_usd\": 74904.45624617499}, {\"pools_name\": \"Curve.fi Factory USD Metapool: TUSDFRAXBP\", \"reserves_usd\": 10141507.403470166}, {\"pools_name\": \"Curve.fi Factory USD Metapool: USDDFRAXBP\", \"reserves_usd\": 1071381.5473662657}, {\"pools_name\": \"Curve.fi Factory USD Metapool: XAI/FRAXBP\", \"reserves_usd\": 6126830.682028769}, {\"pools_name\": \"Curve.fi Factory USD Metapool: alUSDFRAXBP\", \"reserves_usd\": 8583691.552649656}, {\"pools_name\": \"Curve.fi Factory USD Metapool: apeUSDFRAXBP\", \"reserves_usd\": 5525970.906431516}, {\"pools_name\": \"Curve.fi Factory USD Metapool: cUSD/FRAXBP\", \"reserves_usd\": 1000374.1047846107}, {\"pools_name\": \"Curve.fi Factory USD Metapool: clevUSDFRAXBP\", \"reserves_usd\": 18907.194245435545}, {\"pools_name\": \"Curve.fi Factory USD Metapool: handleUSD\", \"reserves_usd\": 592.314535093231}, {\"pools_name\": \"Curve.fi Factory USD Metapool: msUSD/FRAXBP\", \"reserves_usd\": 299968.8407467932}, {\"pools_name\": \"Curve.fi Factory USD Metapool: pUSDFRAXBP\", \"reserves_usd\": 1193828.5316984223}, {\"pools_name\": \"Curve.fi Factory USD Metapool: sUSDFRAXBP\", \"reserves_usd\": 12884924.186705127}]}}, {\"mode\": \"vega-lite\"});\n",
       "</script>"
      ],
      "text/plain": [
       "alt.Chart(...)"
      ]
     },
     "execution_count": 23,
     "metadata": {},
     "output_type": "execute_result"
    }
   ],
   "source": [
    "chart_tvl_breakdown(df_fraxbp, \"crvFRAX\")"
   ]
  },
  {
   "cell_type": "code",
   "execution_count": 24,
   "id": "ece5e457-d303-4019-aa0f-6e4ae7c85295",
   "metadata": {},
   "outputs": [
    {
     "name": "stdout",
     "output_type": "stream",
     "text": [
      "Total tvl ($) paired against 3Crv in Metapools: $493,890,025.5589819\n"
     ]
    },
    {
     "data": {
      "text/html": [
       "\n",
       "<div id=\"altair-viz-f58e183dc3f44c07a154846f26278813\"></div>\n",
       "<script type=\"text/javascript\">\n",
       "  var VEGA_DEBUG = (typeof VEGA_DEBUG == \"undefined\") ? {} : VEGA_DEBUG;\n",
       "  (function(spec, embedOpt){\n",
       "    let outputDiv = document.currentScript.previousElementSibling;\n",
       "    if (outputDiv.id !== \"altair-viz-f58e183dc3f44c07a154846f26278813\") {\n",
       "      outputDiv = document.getElementById(\"altair-viz-f58e183dc3f44c07a154846f26278813\");\n",
       "    }\n",
       "    const paths = {\n",
       "      \"vega\": \"https://cdn.jsdelivr.net/npm//vega@5?noext\",\n",
       "      \"vega-lib\": \"https://cdn.jsdelivr.net/npm//vega-lib?noext\",\n",
       "      \"vega-lite\": \"https://cdn.jsdelivr.net/npm//vega-lite@4.17.0?noext\",\n",
       "      \"vega-embed\": \"https://cdn.jsdelivr.net/npm//vega-embed@6?noext\",\n",
       "    };\n",
       "\n",
       "    function maybeLoadScript(lib, version) {\n",
       "      var key = `${lib.replace(\"-\", \"\")}_version`;\n",
       "      return (VEGA_DEBUG[key] == version) ?\n",
       "        Promise.resolve(paths[lib]) :\n",
       "        new Promise(function(resolve, reject) {\n",
       "          var s = document.createElement('script');\n",
       "          document.getElementsByTagName(\"head\")[0].appendChild(s);\n",
       "          s.async = true;\n",
       "          s.onload = () => {\n",
       "            VEGA_DEBUG[key] = version;\n",
       "            return resolve(paths[lib]);\n",
       "          };\n",
       "          s.onerror = () => reject(`Error loading script: ${paths[lib]}`);\n",
       "          s.src = paths[lib];\n",
       "        });\n",
       "    }\n",
       "\n",
       "    function showError(err) {\n",
       "      outputDiv.innerHTML = `<div class=\"error\" style=\"color:red;\">${err}</div>`;\n",
       "      throw err;\n",
       "    }\n",
       "\n",
       "    function displayChart(vegaEmbed) {\n",
       "      vegaEmbed(outputDiv, spec, embedOpt)\n",
       "        .catch(err => showError(`Javascript Error: ${err.message}<br>This usually means there's a typo in your chart specification. See the javascript console for the full traceback.`));\n",
       "    }\n",
       "\n",
       "    if(typeof define === \"function\" && define.amd) {\n",
       "      requirejs.config({paths});\n",
       "      require([\"vega-embed\"], displayChart, err => showError(`Error loading script: ${err.message}`));\n",
       "    } else {\n",
       "      maybeLoadScript(\"vega\", \"5\")\n",
       "        .then(() => maybeLoadScript(\"vega-lite\", \"4.17.0\"))\n",
       "        .then(() => maybeLoadScript(\"vega-embed\", \"6\"))\n",
       "        .catch(showError)\n",
       "        .then(() => displayChart(vegaEmbed));\n",
       "    }\n",
       "  })({\"config\": {\"view\": {\"continuousWidth\": 400, \"continuousHeight\": 300}}, \"data\": {\"name\": \"data-a98e91e6754c5dc871e6a3da7301901a\"}, \"mark\": \"arc\", \"encoding\": {\"color\": {\"field\": \"pools_name\", \"type\": \"nominal\"}, \"theta\": {\"field\": \"reserves_usd\", \"type\": \"quantitative\"}, \"tooltip\": [{\"field\": \"pools_name\", \"type\": \"nominal\"}, {\"field\": \"reserves_usd\", \"format\": \",d\", \"type\": \"quantitative\"}]}, \"title\": \"Breakdown of TVL paired against 3Crv in Metapools\", \"$schema\": \"https://vega.github.io/schema/vega-lite/v4.17.0.json\", \"datasets\": {\"data-a98e91e6754c5dc871e6a3da7301901a\": [{\"pools_name\": \"Curve EURT-3Crv\", \"reserves_usd\": 1990089.1428796728}, {\"pools_name\": \"Curve XAUT-3Crv\", \"reserves_usd\": 91187.59114554769}, {\"pools_name\": \"Curve.fi DUSD/3Crv\", \"reserves_usd\": 54028.6239200048}, {\"pools_name\": \"Curve.fi Factory Crypto Pool: RAI/Meta3Crv\", \"reserves_usd\": 2.745229955421392e-18}, {\"pools_name\": \"Curve.fi Factory USD Metapool: 3CRV/cealv\", \"reserves_usd\": 407.9901224081522}, {\"pools_name\": \"Curve.fi Factory USD Metapool: 3CRV/lvUSD\", \"reserves_usd\": 2.0}, {\"pools_name\": \"Curve.fi Factory USD Metapool: Alchemix USD\", \"reserves_usd\": 45527689.12220076}, {\"pools_name\": \"Curve.fi Factory USD Metapool: BITPIF\", \"reserves_usd\": 173.39073518027197}, {\"pools_name\": \"Curve.fi Factory USD Metapool: Bean\", \"reserves_usd\": 13168989.21340849}, {\"pools_name\": \"Curve.fi Factory USD Metapool: Bhome\", \"reserves_usd\": 253.15296055426268}, {\"pools_name\": \"Curve.fi Factory USD Metapool: Binance USD\", \"reserves_usd\": 13300979.922779037}, {\"pools_name\": \"Curve.fi Factory USD Metapool: DEI\", \"reserves_usd\": 15342.76614557111}, {\"pools_name\": \"Curve.fi Factory USD Metapool: DOLA 3CRV Curve Metapool\", \"reserves_usd\": 2942.8581033032074}, {\"pools_name\": \"Curve.fi Factory USD Metapool: DOLA-3pool Curve LP\", \"reserves_usd\": 75720.72332129805}, {\"pools_name\": \"Curve.fi Factory USD Metapool: Digital Stable Unit\", \"reserves_usd\": 2166.759786704195}, {\"pools_name\": \"Curve.fi Factory USD Metapool: ELONX POOL\", \"reserves_usd\": 156.66300310900473}, {\"pools_name\": \"Curve.fi Factory USD Metapool: EfrontierUSD\", \"reserves_usd\": 177.65887860161}, {\"pools_name\": \"Curve.fi Factory USD Metapool: FEI Metapool\", \"reserves_usd\": 789656.0514024331}, {\"pools_name\": \"Curve.fi Factory USD Metapool: FolkvangUSD\", \"reserves_usd\": 24.08418301378285}, {\"pools_name\": \"Curve.fi Factory USD Metapool: Frax\", \"reserves_usd\": 272775273.72185755}, {\"pools_name\": \"Curve.fi Factory USD Metapool: GrapefruitUSD\", \"reserves_usd\": 0.2049564101571562}, {\"pools_name\": \"Curve.fi Factory USD Metapool: Liquity\", \"reserves_usd\": 5866738.140508475}, {\"pools_name\": \"Curve.fi Factory USD Metapool: MIC2\", \"reserves_usd\": 150735.69772586183}, {\"pools_name\": \"Curve.fi Factory USD Metapool: MTBT/3CRV\", \"reserves_usd\": 9.139496396096916}, {\"pools_name\": \"Curve.fi Factory USD Metapool: Magic Internet Money 3Pool\", \"reserves_usd\": 58521577.02873196}, {\"pools_name\": \"Curve.fi Factory USD Metapool: MountainVUSD\", \"reserves_usd\": 24.358243050288596}, {\"pools_name\": \"Curve.fi Factory USD Metapool: NAOS USD\", \"reserves_usd\": 6094.195452470527}, {\"pools_name\": \"Curve.fi Factory USD Metapool: NibbioUSD\", \"reserves_usd\": 309115.4413381284}, {\"pools_name\": \"Curve.fi Factory USD Metapool: OMI/USD\", \"reserves_usd\": 285.8286751349304}, {\"pools_name\": \"Curve.fi Factory USD Metapool: Opium Matic Bridge Protection\", \"reserves_usd\": 50.0}, {\"pools_name\": \"Curve.fi Factory USD Metapool: Opium xDAI OmniBridge Protection\", \"reserves_usd\": 50.0}, {\"pools_name\": \"Curve.fi Factory USD Metapool: Origin Dollar\", \"reserves_usd\": 20438835.42550567}, {\"pools_name\": \"Curve.fi Factory USD Metapool: PUSd\", \"reserves_usd\": 29514.151065653383}, {\"pools_name\": \"Curve.fi Factory USD Metapool: PWRD Metapool\", \"reserves_usd\": 1084321.8344861907}, {\"pools_name\": \"Curve.fi Factory USD Metapool: Paxos Dollar (USDP)\", \"reserves_usd\": 65835.32847127442}, {\"pools_name\": \"Curve.fi Factory USD Metapool: RC_AAVE_300_DAI_2021_5_31\", \"reserves_usd\": 22.148142676143912}, {\"pools_name\": \"Curve.fi Factory USD Metapool: RC_ALCX_300_DAI_2021_6_30\", \"reserves_usd\": 3.599164330702502e-05}, {\"pools_name\": \"Curve.fi Factory USD Metapool: RC_ALCX_700_DAI_2021_5_31\", \"reserves_usd\": 8.684510355384063e-05}, {\"pools_name\": \"Curve.fi Factory USD Metapool: RC_AMP_0.02_DAI_2021_7_31\", \"reserves_usd\": 23.54777278365625}, {\"pools_name\": \"Curve.fi Factory USD Metapool: RC_ARMOR_0.35_DAI_2021_5_31\", \"reserves_usd\": 242.38482013873576}, {\"pools_name\": \"Curve.fi Factory USD Metapool: RC_DEFI5_60_DAI_2021_4_30\", \"reserves_usd\": 0.5953610477565452}, {\"pools_name\": \"Curve.fi Factory USD Metapool: RC_DEFI5_60_DAI_2021_5_31\", \"reserves_usd\": 0.1370726705153932}, {\"pools_name\": \"Curve.fi Factory USD Metapool: RC_FEI_0.4_DAI_2021_4_30\", \"reserves_usd\": 5.344972972566984}, {\"pools_name\": \"Curve.fi Factory USD Metapool: RC_INV_300_DAI_2021_3_31\", \"reserves_usd\": 51.76574745643565}, {\"pools_name\": \"Curve.fi Factory USD Metapool: RC_INV_300_DAI_2021_4_30\", \"reserves_usd\": 0.26343214272537874}, {\"pools_name\": \"Curve.fi Factory USD Metapool: RC_MASK_700_DAI_2021_4_30\", \"reserves_usd\": 13.514203589466264}, {\"pools_name\": \"Curve.fi Factory USD Metapool: RC_PICKLE_4_DAI_2021_4_30\", \"reserves_usd\": 24.039706558538413}, {\"pools_name\": \"Curve.fi Factory USD Metapool: RC_RAI_2_DAI_2021_5_31\", \"reserves_usd\": 2705.269444689548}, {\"pools_name\": \"Curve.fi Factory USD Metapool: RC_RGT_4_DAI_2021_4_30\", \"reserves_usd\": 12.719361761311227}, {\"pools_name\": \"Curve.fi Factory USD Metapool: RC_WBTC_29000_DAI_2021_4_30\", \"reserves_usd\": 78.9729519042718}, {\"pools_name\": \"Curve.fi Factory USD Metapool: RC_WBTC_32000_DAI_2021_5_31\", \"reserves_usd\": 4.829409157269679e-07}, {\"pools_name\": \"Curve.fi Factory USD Metapool: RC_WETH_1600_DAI_2021_5_31\", \"reserves_usd\": 8.90636856911823}, {\"pools_name\": \"Curve.fi Factory USD Metapool: RC_WETH_1650_DAI_2021_4_30\", \"reserves_usd\": 10.000000004948063}, {\"pools_name\": \"Curve.fi Factory USD Metapool: RC_WETH_1900_DAI_2021_5_31\", \"reserves_usd\": 79.87386010376687}, {\"pools_name\": \"Curve.fi Factory USD Metapool: RC_WETH_2000_DAI_2021_6_30\", \"reserves_usd\": 217.617818114105}, {\"pools_name\": \"Curve.fi Factory USD Metapool: RC_WETH_900_DAI_2021_4_30\", \"reserves_usd\": 4691.6145040853735}, {\"pools_name\": \"Curve.fi Factory USD Metapool: RC_bBADGER_17_DAI_2021_5_31\", \"reserves_usd\": 11556.84710572251}, {\"pools_name\": \"Curve.fi Factory USD Metapool: RC_bDPI_350_DAI_2021_5_31\", \"reserves_usd\": 0.3275399612362035}, {\"pools_name\": \"Curve.fi Factory USD Metapool: RC_eXRD_0.04_DAI_2021_6_30\", \"reserves_usd\": 1.5039606543857076e-13}, {\"pools_name\": \"Curve.fi Factory USD Metapool: RC_eXRD_0.06_DAI_2021_5_31\", \"reserves_usd\": 8.505605715997882}, {\"pools_name\": \"Curve.fi Factory USD Metapool: RC_oLTC_140_DAI_2021_5_31\", \"reserves_usd\": 13.396443580409922}, {\"pools_name\": \"Curve.fi Factory USD Metapool: RC_vETH2_1200_DAI_2021_5_31\", \"reserves_usd\": 3006.473430646238}, {\"pools_name\": \"Curve.fi Factory USD Metapool: RC_vETH2_1300_DAI_2021_6_30\", \"reserves_usd\": 1.260338338198346}, {\"pools_name\": \"Curve.fi Factory USD Metapool: RC_vETH2_850_DAI_2021_4_30\", \"reserves_usd\": 76.24447579160781}, {\"pools_name\": \"Curve.fi Factory USD Metapool: RC_vVSP_25_DAI_2021_5_31\", \"reserves_usd\": 1.1443383618658494e-05}, {\"pools_name\": \"Curve.fi Factory USD Metapool: RC_xCOVER_150_DAI_2021_4_30\", \"reserves_usd\": 0.6606906519603513}, {\"pools_name\": \"Curve.fi Factory USD Metapool: RC_xCOVER_90_DAI_2021_7_31\", \"reserves_usd\": 1.1926831623396782e-05}, {\"pools_name\": \"Curve.fi Factory USD Metapool: RC_xPREMIA_0.4_DAI_2021_5_31\", \"reserves_usd\": 515.2607082631193}, {\"pools_name\": \"Curve.fi Factory USD Metapool: RC_xRULER_125_DAI_2021_4_30\", \"reserves_usd\": 2602.279412911543}, {\"pools_name\": \"Curve.fi Factory USD Metapool: RC_xRULER_12_DAI_2021_7_31\", \"reserves_usd\": 141.1734220789534}, {\"pools_name\": \"Curve.fi Factory USD Metapool: RC_xRULER_150_DAI_2021_5_31\", \"reserves_usd\": 4.476977238774172e-09}, {\"pools_name\": \"Curve.fi Factory USD Metapool: RC_xRULER_250_DAI_2021_5_31\", \"reserves_usd\": 25.50830617147928}, {\"pools_name\": \"Curve.fi Factory USD Metapool: RC_xSUSHI_8_DAI_2021_4_30\", \"reserves_usd\": 8.960981849665322}, {\"pools_name\": \"Curve.fi Factory USD Metapool: RC_yvYFI_25000_DAI_2021_5_31\", \"reserves_usd\": 4.289967690796645e-11}, {\"pools_name\": \"Curve.fi Factory USD Metapool: REUSD/3Crv\", \"reserves_usd\": 10106.889109464882}, {\"pools_name\": \"Curve.fi Factory USD Metapool: SORA XSTUSD\", \"reserves_usd\": 270846.90055143315}, {\"pools_name\": \"Curve.fi Factory USD Metapool: STABLEx\", \"reserves_usd\": 122733.43116302764}, {\"pools_name\": \"Curve.fi Factory USD Metapool: Test Pool D\", \"reserves_usd\": 0.001157136277581573}, {\"pools_name\": \"Curve.fi Factory USD Metapool: Titanium Dollar\", \"reserves_usd\": 40874.633340930624}, {\"pools_name\": \"Curve.fi Factory USD Metapool: TrueUSD\", \"reserves_usd\": 16570585.316316996}, {\"pools_name\": \"Curve.fi Factory USD Metapool: US/3CRV\", \"reserves_usd\": 1.0}, {\"pools_name\": \"Curve.fi Factory USD Metapool: USDD/3CRV\", \"reserves_usd\": 27637794.338234752}, {\"pools_name\": \"Curve.fi Factory USD Metapool: USDM\", \"reserves_usd\": 1137319.4382642054}, {\"pools_name\": \"Curve.fi Factory USD Metapool: USDS/3CRV\", \"reserves_usd\": 4296.959383295571}, {\"pools_name\": \"Curve.fi Factory USD Metapool: USDV\", \"reserves_usd\": 6123.176472265218}, {\"pools_name\": \"Curve.fi Factory USD Metapool: USDi\", \"reserves_usd\": 31246.91939075345}, {\"pools_name\": \"Curve.fi Factory USD Metapool: Ubiquity Algorithmic Dollar\", \"reserves_usd\": 40685.78155139492}, {\"pools_name\": \"Curve.fi Factory USD Metapool: VUSD\", \"reserves_usd\": 22506.691824772806}, {\"pools_name\": \"Curve.fi Factory USD Metapool: Wasabi USD\", \"reserves_usd\": 1453.3996059703527}, {\"pools_name\": \"Curve.fi Factory USD Metapool: Zunami UZD/3CRV\", \"reserves_usd\": 39504.07126276152}, {\"pools_name\": \"Curve.fi Factory USD Metapool: baoUSD\", \"reserves_usd\": 279416.90823322133}, {\"pools_name\": \"Curve.fi Factory USD Metapool: dForce\", \"reserves_usd\": 318362.4380561468}, {\"pools_name\": \"Curve.fi Factory USD Metapool: fUSD-3pool\", \"reserves_usd\": 19.451994212988915}, {\"pools_name\": \"Curve.fi Factory USD Metapool: fiat\", \"reserves_usd\": 803.680974276498}, {\"pools_name\": \"Curve.fi Factory USD Metapool: flexUSD\", \"reserves_usd\": 411.33989733098997}, {\"pools_name\": \"Curve.fi Factory USD Metapool: home\", \"reserves_usd\": 393051.58508579794}, {\"pools_name\": \"Curve.fi Factory USD Metapool: kxUSDT\", \"reserves_usd\": 731.906877}, {\"pools_name\": \"Curve.fi Factory USD Metapool: noteUSD\", \"reserves_usd\": 31284.355530768487}, {\"pools_name\": \"Curve.fi Factory USD Metapool: rain\", \"reserves_usd\": 100.0}, {\"pools_name\": \"Curve.fi Factory USD Metapool: tusd-3pool\", \"reserves_usd\": 6.0}, {\"pools_name\": \"Curve.fi Factory USD Metapool: wormhole v2 UST-3Pool\", \"reserves_usd\": 9216.112676814702}, {\"pools_name\": \"Curve.fi Factory USD Metapool: xUSD1\", \"reserves_usd\": 19.999925356600432}, {\"pools_name\": \"Curve.fi Factory USD Metapool: xim\", \"reserves_usd\": 6052.486889067232}, {\"pools_name\": \"Curve.fi GUSD/3Crv\", \"reserves_usd\": 4680125.636385829}, {\"pools_name\": \"Curve.fi HUSD/3Crv\", \"reserves_usd\": 3863.2054154619004}, {\"pools_name\": \"Curve.fi LinkUSD/3Crv\", \"reserves_usd\": 20980.198517281064}, {\"pools_name\": \"Curve.fi MUSD/3Crv\", \"reserves_usd\": 1695026.8877515101}, {\"pools_name\": \"Curve.fi RSV/3Crv\", \"reserves_usd\": 5550.729691878408}, {\"pools_name\": \"Curve.fi USDK/3Crv\", \"reserves_usd\": 103259.79342070046}, {\"pools_name\": \"Curve.fi USDN/3Crv\", \"reserves_usd\": 2099520.016473404}, {\"pools_name\": \"Curve.fi USDP/3Crv\", \"reserves_usd\": 2529563.578340031}, {\"pools_name\": \"Curve.fi UST/3Crv\", \"reserves_usd\": 306.9552394623472}, {\"pools_name\": \"RAI3CRV\", \"reserves_usd\": 1481679.5183375846}]}}, {\"mode\": \"vega-lite\"});\n",
       "</script>"
      ],
      "text/plain": [
       "alt.Chart(...)"
      ]
     },
     "execution_count": 24,
     "metadata": {},
     "output_type": "execute_result"
    }
   ],
   "source": [
    "chart_tvl_breakdown(df_3pool, \"3Crv\")"
   ]
  }
 ],
 "metadata": {
  "kernelspec": {
   "display_name": "Python [conda env:flywheel]",
   "language": "python",
   "name": "conda-env-flywheel-py"
  },
  "language_info": {
   "codemirror_mode": {
    "name": "ipython",
    "version": 3
   },
   "file_extension": ".py",
   "mimetype": "text/x-python",
   "name": "python",
   "nbconvert_exporter": "python",
   "pygments_lexer": "ipython3",
   "version": "3.10.8"
  },
  "vscode": {
   "interpreter": {
    "hash": "d3914f5fb17e66baeb14c103313bc8c946345da85f5b2968ccefa93b7072e0df"
   }
  }
 },
 "nbformat": 4,
 "nbformat_minor": 5
}
