{
 "cells": [
  {
   "cell_type": "code",
   "execution_count": 1,
   "id": "1abbe31e-72e0-4933-9c80-527bf56f22f2",
   "metadata": {
    "tags": []
   },
   "outputs": [
    {
     "name": "stderr",
     "output_type": "stream",
     "text": [
      "/opt/miniconda3/envs/flywheel/lib/python3.10/site-packages/eth_utils/toolz.py:2: DeprecationWarning: The toolz.compatibility module is no longer needed in Python 3 and has been deprecated. Please import these utilities directly from the standard library. This module will be removed in a future release.\n",
      "  from cytoolz import (\n",
      "/opt/miniconda3/envs/flywheel/lib/python3.10/site-packages/web3/_utils/normalizers.py:231: DeprecationWarning: distutils Version classes are deprecated. Use packaging.version instead.\n",
      "  if LooseVersion(eth_abi.__version__) < LooseVersion(\"2\"):\n"
     ]
    },
    {
     "data": {
      "text/plain": [
       "DataTransformerRegistry.enable('default')"
      ]
     },
     "execution_count": 1,
     "metadata": {},
     "output_type": "execute_result"
    }
   ],
   "source": [
    "import json \n",
    "import os\n",
    "import logging \n",
    "import asyncio\n",
    "\n",
    "from typing import List\n",
    "from datetime import timedelta\n",
    "from pathlib import Path \n",
    "from pprint import PrettyPrinter\n",
    "\n",
    "from subgrounds import Subgrounds\n",
    "from web3 import Web3\n",
    "from pycoingecko import CoinGeckoAPI\n",
    "\n",
    "from prefect import task, flow \n",
    "from prefect.client import get_client\n",
    "from prefect.tasks import task_input_hash\n",
    "\n",
    "import pandas as pd \n",
    "import numpy as np \n",
    "import altair as alt \n",
    "import missingno as miss\n",
    "\n",
    "from subgrounds.pagination import ShallowStrategy\n",
    "\n",
    "from flywheel_util.constants import (\n",
    "    colors_24,\n",
    "    colors_28, \n",
    "    addresses, \n",
    "    url_infura, \n",
    "    url_snapshot, \n",
    "    url_subgraphs, \n",
    "    snapshot_api_max_records_per_request, \n",
    "    snapshot_api_max_skip,\n",
    ")\n",
    "from flywheel_util.tasks.general import df_to_sql\n",
    "from flywheel_util.utils.util import (\n",
    "    ddf, \n",
    "    first_row, \n",
    "    query_attrs,\n",
    "    recursive_index_merge, \n",
    "    remove_prefix,\n",
    "    df_cols_change_prefix, \n",
    "    df_cols_camel_to_snake, \n",
    ")\n",
    "\n",
    "# logging.basicConfig(level=logging.INFO)\n",
    "\n",
    "import logging\n",
    "logging.basicConfig(level=logging.DEBUG)\n",
    "\n",
    "pp = PrettyPrinter().pprint\n",
    "\n",
    "alt.data_transformers.disable_max_rows()"
   ]
  },
  {
   "cell_type": "code",
   "execution_count": 2,
   "id": "e02d8fcf-aeac-4d94-8da1-0e8db63c664e",
   "metadata": {
    "tags": []
   },
   "outputs": [],
   "source": [
    "# w3 = Web3(Web3.HTTPProvider(url_infura))"
   ]
  },
  {
   "cell_type": "code",
   "execution_count": 3,
   "id": "7737badc-bf84-4290-9f86-705031cd8882",
   "metadata": {
    "tags": []
   },
   "outputs": [],
   "source": [
    "sg = Subgrounds()\n",
    "sg_curve_vol = sg.load_subgraph(url_subgraphs.convex.curve_vol_mainnet)"
   ]
  },
  {
   "cell_type": "code",
   "execution_count": 4,
   "id": "9a8bcb97-4c36-4056-a7d6-b6def8ad84ad",
   "metadata": {},
   "outputs": [
    {
     "data": {
      "text/plain": [
       "'https://api.thegraph.com/subgraphs/name/convex-community/volume-mainnet'"
      ]
     },
     "execution_count": 4,
     "metadata": {},
     "output_type": "execute_result"
    }
   ],
   "source": [
    "url_subgraphs.convex.curve_vol_mainnet"
   ]
  },
  {
   "cell_type": "code",
   "execution_count": 63,
   "id": "f81ce684-d3f6-45ba-bc7f-9a1c257eeab7",
   "metadata": {},
   "outputs": [
    {
     "name": "stderr",
     "output_type": "stream",
     "text": [
      "/opt/miniconda3/envs/flywheel/lib/python3.10/site-packages/prefect/tasks.py:206: UserWarning: A task named 'query_pools' and defined at '/var/folders/5c/hf9_blgj3jbbxxvkw_s9snsw0000gn/T/ipykernel_94847/2663358337.py:1' conflicts with another task. Consider specifying a unique `name` parameter in the task definition:\n",
      "\n",
      " `@task(name='my_unique_name', ...)`\n",
      "  warnings.warn(\n",
      "/opt/miniconda3/envs/flywheel/lib/python3.10/site-packages/prefect/tasks.py:206: UserWarning: A task named 'process_pools' and defined at '/var/folders/5c/hf9_blgj3jbbxxvkw_s9snsw0000gn/T/ipykernel_94847/2663358337.py:15' conflicts with another task. Consider specifying a unique `name` parameter in the task definition:\n",
      "\n",
      " `@task(name='my_unique_name', ...)`\n",
      "  warnings.warn(\n",
      "/opt/miniconda3/envs/flywheel/lib/python3.10/site-packages/prefect/tasks.py:206: UserWarning: A task named 'query_pool_snaps' and defined at '/var/folders/5c/hf9_blgj3jbbxxvkw_s9snsw0000gn/T/ipykernel_94847/2663358337.py:22' conflicts with another task. Consider specifying a unique `name` parameter in the task definition:\n",
      "\n",
      " `@task(name='my_unique_name', ...)`\n",
      "  warnings.warn(\n",
      "/opt/miniconda3/envs/flywheel/lib/python3.10/site-packages/prefect/tasks.py:206: UserWarning: A task named 'process_pool_snaps' and defined at '/var/folders/5c/hf9_blgj3jbbxxvkw_s9snsw0000gn/T/ipykernel_94847/2663358337.py:35' conflicts with another task. Consider specifying a unique `name` parameter in the task definition:\n",
      "\n",
      " `@task(name='my_unique_name', ...)`\n",
      "  warnings.warn(\n",
      "/opt/miniconda3/envs/flywheel/lib/python3.10/site-packages/prefect/tasks.py:206: UserWarning: A task named 'query_pool_vol' and defined at '/var/folders/5c/hf9_blgj3jbbxxvkw_s9snsw0000gn/T/ipykernel_94847/2663358337.py:44' conflicts with another task. Consider specifying a unique `name` parameter in the task definition:\n",
      "\n",
      " `@task(name='my_unique_name', ...)`\n",
      "  warnings.warn(\n",
      "/opt/miniconda3/envs/flywheel/lib/python3.10/site-packages/prefect/tasks.py:206: UserWarning: A task named 'process_pool_vol' and defined at '/var/folders/5c/hf9_blgj3jbbxxvkw_s9snsw0000gn/T/ipykernel_94847/2663358337.py:56' conflicts with another task. Consider specifying a unique `name` parameter in the task definition:\n",
      "\n",
      " `@task(name='my_unique_name', ...)`\n",
      "  warnings.warn(\n",
      "/opt/miniconda3/envs/flywheel/lib/python3.10/site-packages/prefect/flows.py:205: UserWarning: A flow named 'flow-metapool' and defined at '/var/folders/5c/hf9_blgj3jbbxxvkw_s9snsw0000gn/T/ipykernel_94847/2663358337.py:63' conflicts with another flow. Consider specifying a unique `name` parameter in the flow definition:\n",
      "\n",
      " `@flow(name='my_unique_name', ...)`\n",
      "  warnings.warn(\n",
      "/opt/miniconda3/envs/flywheel/lib/python3.10/site-packages/prefect/flows.py:205: UserWarning: A flow named 'flow-fraxbp-vs-3pool' and defined at '/var/folders/5c/hf9_blgj3jbbxxvkw_s9snsw0000gn/T/ipykernel_94847/2663358337.py:94' conflicts with another flow. Consider specifying a unique `name` parameter in the flow definition:\n",
      "\n",
      " `@flow(name='my_unique_name', ...)`\n",
      "  warnings.warn(\n"
     ]
    }
   ],
   "source": [
    "@task(persist_result=True, cache_key_fn=task_input_hash, cache_expiration=timedelta(days=1), tags=[\"curve_subgraph\"])\n",
    "def query_pools(metapool_lp_token: str): \n",
    "    # Get all metapools for a particular pool \n",
    "    query_pools = sg_curve_vol.Query.pools(\n",
    "        first=1000, where={\"coins_contains\": [metapool_lp_token]}\n",
    "    )\n",
    "    dfs = sg.query_df([\n",
    "        query_pools.id, \n",
    "        query_pools.symbol, \n",
    "        query_pools.coins, \n",
    "        query_pools.coinNames, \n",
    "    ])\n",
    "    return dfs \n",
    "    \n",
    "@task \n",
    "def process_pools(dfs): \n",
    "    df_pool_coin = recursive_index_merge(dfs) \n",
    "    df_pool_coin = df_cols_change_prefix(df_pool_coin, \"pools_\", \"pool_\")\n",
    "    df_pool_coin = df_pool_coin.rename(columns={\"pool_coins\": \"coin\", \"pool_coinNames\": \"coin_name\"})\n",
    "    return df_pool_coin\n",
    "\n",
    "@task(persist_result=True, cache_key_fn=task_input_hash, cache_expiration=timedelta(days=1), tags=[\"curve_subgraph\"])\n",
    "def query_pool_snaps(pool_ids: List[str]): \n",
    "    query_snaps = sg_curve_vol.Query.dailyPoolSnapshots(\n",
    "        first=30000, orderBy=\"timestamp\", orderDirection=\"desc\", where={\"pool_in\": pool_ids}\n",
    "    )\n",
    "    dfs = sg.query_df([\n",
    "        query_snaps.pool.coins, \n",
    "        query_snaps.pool.id, \n",
    "        query_snaps.timestamp, \n",
    "        query_snaps.reservesUSD, \n",
    "    ], pagination_strategy=ShallowStrategy)\n",
    "    return dfs \n",
    "\n",
    "@task \n",
    "def process_pool_snaps(dfs): \n",
    "    df_pool_snaps = recursive_index_merge(dfs) \n",
    "    df_pool_snaps = remove_prefix(df_pool_snaps, \"dailyPoolSnapshots_\")\n",
    "    df_pool_snaps = df_cols_camel_to_snake(df_pool_snaps)\n",
    "    df_pool_snaps = df_pool_snaps.rename(columns={\"pool_coins\": \"coin\"})\n",
    "    df_pool_snaps.timestamp = pd.to_datetime(df_pool_snaps.timestamp, unit='s')\n",
    "    return df_pool_snaps\n",
    "\n",
    "@task(persist_result=True, cache_key_fn=task_input_hash, cache_expiration=timedelta(days=1), tags=[\"curve_subgraph\"])\n",
    "def query_pool_vol(pool_ids: List[str]): \n",
    "    query_vol = sg_curve_vol.Query.swapVolumeSnapshots(\n",
    "        first=30000, orderBy=\"timestamp\", orderDirection=\"desc\", where={\"period\": 86400, \"pool_in\": pool_ids}\n",
    "    )\n",
    "    df_pool_vol = sg.query_df([\n",
    "        query_vol.pool.id,\n",
    "        query_vol.timestamp, \n",
    "        query_vol.volumeUSD, \n",
    "    ], pagination_strategy=ShallowStrategy)\n",
    "    return df_pool_vol\n",
    "\n",
    "@task \n",
    "def process_pool_vol(df_pool_vol): \n",
    "    df_pool_vol = remove_prefix(df_pool_vol, \"swapVolumeSnapshots_\")\n",
    "    df_pool_vol = df_cols_camel_to_snake(df_pool_vol)\n",
    "    df_pool_vol.timestamp = pd.to_datetime(df_pool_vol.timestamp, unit='s')\n",
    "    return df_pool_vol\n",
    " \n",
    "@flow\n",
    "def flow_metapool(metapool_lp_token: str):\n",
    "\n",
    "    dfs_pool_coin = query_pools(metapool_lp_token)  \n",
    "    df_pool_coin = process_pools(dfs_pool_coin)\n",
    "    \n",
    "    pool_ids = df_pool_coin.pool_id.unique().tolist()\n",
    "    pool_batch_size = 4\n",
    "    i = 0 \n",
    "    futures_snaps = []\n",
    "    futures_vol = []\n",
    "    while i < len(pool_ids):\n",
    "        pool_id_batch = pool_ids[i:min(i+pool_batch_size, len(pool_ids))]\n",
    "        i += pool_batch_size\n",
    "        futures_snaps.append(query_pool_snaps.submit(pool_id_batch))\n",
    "        futures_vol.append(query_pool_vol.submit(pool_id_batch))\n",
    "    \n",
    "    dfs_snaps = [f.result() for f in futures_snaps]\n",
    "    dfs_vols = list(filter(lambda df: not df.empty, [f.result() for f in futures_vol]))\n",
    "    \n",
    "    dfs_snaps = list(map(lambda d: process_pool_snaps(d), dfs_snaps))\n",
    "    dfs_vols = list(map(lambda d: process_pool_vol(d), dfs_vols))\n",
    "            \n",
    "    df_pool_snaps = pd.concat(dfs_snaps)\n",
    "    df_pool_vol = pd.concat(dfs_vols)\n",
    "    \n",
    "    df_reserves = df_pool_coin.merge(df_pool_snaps, on=['pool_id', 'coin'])\n",
    "    df_volume = df_pool_coin[['pool_id', 'pool_symbol']].drop_duplicates().merge(df_pool_vol, on=['pool_id'])\n",
    "\n",
    "    return {\"reserves\": df_reserves, \"volume\": df_volume} \n",
    "    \n",
    "@flow \n",
    "def flow_fraxbp_vs_3pool(): \n",
    "    results = {}\n",
    "    for key in [\n",
    "        '3crv', \n",
    "        'crvfrax'\n",
    "    ]: \n",
    "        metapool_lp_token = addresses.token[key]\n",
    "        results[key] = flow_metapool(metapool_lp_token)\n",
    "    return results\n"
   ]
  },
  {
   "cell_type": "code",
   "execution_count": 64,
   "id": "7c34e1e2-9107-4f4c-9feb-5fdf0c1527b5",
   "metadata": {},
   "outputs": [
    {
     "data": {
      "text/html": [
       "<pre style=\"white-space:pre;overflow-x:auto;line-height:normal;font-family:Menlo,'DejaVu Sans Mono',consolas,'Courier New',monospace\">18:37:43.870 | <span style=\"color: #008080; text-decoration-color: #008080\">INFO</span>    | prefect.engine - Created flow run<span style=\"color: #800080; text-decoration-color: #800080\"> 'spirited-jellyfish'</span> for flow<span style=\"color: #800080; text-decoration-color: #800080; font-weight: bold\"> 'flow-fraxbp-vs-3pool'</span>\n",
       "</pre>\n"
      ],
      "text/plain": [
       "18:37:43.870 | \u001b[36mINFO\u001b[0m    | prefect.engine - Created flow run\u001b[35m 'spirited-jellyfish'\u001b[0m for flow\u001b[1;35m 'flow-fraxbp-vs-3pool'\u001b[0m\n"
      ]
     },
     "metadata": {},
     "output_type": "display_data"
    },
    {
     "name": "stderr",
     "output_type": "stream",
     "text": [
      "/opt/miniconda3/envs/flywheel/lib/python3.10/site-packages/prefect/tasks.py:206: UserWarning: A task named 'flow-metapool' and defined at '/var/folders/5c/hf9_blgj3jbbxxvkw_s9snsw0000gn/T/ipykernel_94847/2663358337.py:63' conflicts with another task. Consider specifying a unique `name` parameter in the task definition:\n",
      "\n",
      " `@task(name='my_unique_name', ...)`\n",
      "  warnings.warn(\n"
     ]
    },
    {
     "data": {
      "text/html": [
       "<pre style=\"white-space:pre;overflow-x:auto;line-height:normal;font-family:Menlo,'DejaVu Sans Mono',consolas,'Courier New',monospace\">18:37:44.205 | <span style=\"color: #008080; text-decoration-color: #008080\">INFO</span>    | Flow run<span style=\"color: #800080; text-decoration-color: #800080\"> 'spirited-jellyfish'</span> - Created subflow run<span style=\"color: #800080; text-decoration-color: #800080\"> 'big-barracuda'</span> for flow<span style=\"color: #800080; text-decoration-color: #800080; font-weight: bold\"> 'flow-metapool'</span>\n",
       "</pre>\n"
      ],
      "text/plain": [
       "18:37:44.205 | \u001b[36mINFO\u001b[0m    | Flow run\u001b[35m 'spirited-jellyfish'\u001b[0m - Created subflow run\u001b[35m 'big-barracuda'\u001b[0m for flow\u001b[1;35m 'flow-metapool'\u001b[0m\n"
      ]
     },
     "metadata": {},
     "output_type": "display_data"
    },
    {
     "data": {
      "text/html": [
       "<pre style=\"white-space:pre;overflow-x:auto;line-height:normal;font-family:Menlo,'DejaVu Sans Mono',consolas,'Courier New',monospace\">18:37:44.232 | <span style=\"color: #008080; text-decoration-color: #008080\">INFO</span>    | Flow run<span style=\"color: #800080; text-decoration-color: #800080\"> 'big-barracuda'</span> - Created task run 'query_pools-66de95c5-0' for task 'query_pools'\n",
       "</pre>\n"
      ],
      "text/plain": [
       "18:37:44.232 | \u001b[36mINFO\u001b[0m    | Flow run\u001b[35m 'big-barracuda'\u001b[0m - Created task run 'query_pools-66de95c5-0' for task 'query_pools'\n"
      ]
     },
     "metadata": {},
     "output_type": "display_data"
    },
    {
     "data": {
      "text/html": [
       "<pre style=\"white-space:pre;overflow-x:auto;line-height:normal;font-family:Menlo,'DejaVu Sans Mono',consolas,'Courier New',monospace\">18:37:44.232 | <span style=\"color: #008080; text-decoration-color: #008080\">INFO</span>    | Flow run<span style=\"color: #800080; text-decoration-color: #800080\"> 'big-barracuda'</span> - Executing 'query_pools-66de95c5-0' immediately...\n",
       "</pre>\n"
      ],
      "text/plain": [
       "18:37:44.232 | \u001b[36mINFO\u001b[0m    | Flow run\u001b[35m 'big-barracuda'\u001b[0m - Executing 'query_pools-66de95c5-0' immediately...\n"
      ]
     },
     "metadata": {},
     "output_type": "display_data"
    },
    {
     "data": {
      "text/html": [
       "<pre style=\"white-space:pre;overflow-x:auto;line-height:normal;font-family:Menlo,'DejaVu Sans Mono',consolas,'Courier New',monospace\">18:37:44.242 | <span style=\"color: #008080; text-decoration-color: #008080\">INFO</span>    | Task run 'query_pools-66de95c5-0' - Finished in state Cached(type=COMPLETED)\n",
       "</pre>\n"
      ],
      "text/plain": [
       "18:37:44.242 | \u001b[36mINFO\u001b[0m    | Task run 'query_pools-66de95c5-0' - Finished in state Cached(type=COMPLETED)\n"
      ]
     },
     "metadata": {},
     "output_type": "display_data"
    },
    {
     "data": {
      "text/html": [
       "<pre style=\"white-space:pre;overflow-x:auto;line-height:normal;font-family:Menlo,'DejaVu Sans Mono',consolas,'Courier New',monospace\">18:37:44.263 | <span style=\"color: #008080; text-decoration-color: #008080\">INFO</span>    | Flow run<span style=\"color: #800080; text-decoration-color: #800080\"> 'big-barracuda'</span> - Created task run 'process_pools-45529377-0' for task 'process_pools'\n",
       "</pre>\n"
      ],
      "text/plain": [
       "18:37:44.263 | \u001b[36mINFO\u001b[0m    | Flow run\u001b[35m 'big-barracuda'\u001b[0m - Created task run 'process_pools-45529377-0' for task 'process_pools'\n"
      ]
     },
     "metadata": {},
     "output_type": "display_data"
    },
    {
     "data": {
      "text/html": [
       "<pre style=\"white-space:pre;overflow-x:auto;line-height:normal;font-family:Menlo,'DejaVu Sans Mono',consolas,'Courier New',monospace\">18:37:44.264 | <span style=\"color: #008080; text-decoration-color: #008080\">INFO</span>    | Flow run<span style=\"color: #800080; text-decoration-color: #800080\"> 'big-barracuda'</span> - Executing 'process_pools-45529377-0' immediately...\n",
       "</pre>\n"
      ],
      "text/plain": [
       "18:37:44.264 | \u001b[36mINFO\u001b[0m    | Flow run\u001b[35m 'big-barracuda'\u001b[0m - Executing 'process_pools-45529377-0' immediately...\n"
      ]
     },
     "metadata": {},
     "output_type": "display_data"
    },
    {
     "data": {
      "text/html": [
       "<pre style=\"white-space:pre;overflow-x:auto;line-height:normal;font-family:Menlo,'DejaVu Sans Mono',consolas,'Courier New',monospace\">18:37:44.288 | <span style=\"color: #008080; text-decoration-color: #008080\">INFO</span>    | Task run 'process_pools-45529377-0' - Finished in state <span style=\"color: #008000; text-decoration-color: #008000\">Completed</span>()\n",
       "</pre>\n"
      ],
      "text/plain": [
       "18:37:44.288 | \u001b[36mINFO\u001b[0m    | Task run 'process_pools-45529377-0' - Finished in state \u001b[32mCompleted\u001b[0m()\n"
      ]
     },
     "metadata": {},
     "output_type": "display_data"
    },
    {
     "data": {
      "text/html": [
       "<pre style=\"white-space:pre;overflow-x:auto;line-height:normal;font-family:Menlo,'DejaVu Sans Mono',consolas,'Courier New',monospace\">18:37:44.372 | <span style=\"color: #008080; text-decoration-color: #008080\">INFO</span>    | Flow run<span style=\"color: #800080; text-decoration-color: #800080\"> 'big-barracuda'</span> - Created task run 'query_pool_snaps-60635b41-0' for task 'query_pool_snaps'\n",
       "</pre>\n"
      ],
      "text/plain": [
       "18:37:44.372 | \u001b[36mINFO\u001b[0m    | Flow run\u001b[35m 'big-barracuda'\u001b[0m - Created task run 'query_pool_snaps-60635b41-0' for task 'query_pool_snaps'\n"
      ]
     },
     "metadata": {},
     "output_type": "display_data"
    },
    {
     "data": {
      "text/html": [
       "<pre style=\"white-space:pre;overflow-x:auto;line-height:normal;font-family:Menlo,'DejaVu Sans Mono',consolas,'Courier New',monospace\">18:37:44.373 | <span style=\"color: #008080; text-decoration-color: #008080\">INFO</span>    | Flow run<span style=\"color: #800080; text-decoration-color: #800080\"> 'big-barracuda'</span> - Submitted task run 'query_pool_snaps-60635b41-0' for execution.\n",
       "</pre>\n"
      ],
      "text/plain": [
       "18:37:44.373 | \u001b[36mINFO\u001b[0m    | Flow run\u001b[35m 'big-barracuda'\u001b[0m - Submitted task run 'query_pool_snaps-60635b41-0' for execution.\n"
      ]
     },
     "metadata": {},
     "output_type": "display_data"
    },
    {
     "data": {
      "text/html": [
       "<pre style=\"white-space:pre;overflow-x:auto;line-height:normal;font-family:Menlo,'DejaVu Sans Mono',consolas,'Courier New',monospace\">18:37:44.427 | <span style=\"color: #008080; text-decoration-color: #008080\">INFO</span>    | Flow run<span style=\"color: #800080; text-decoration-color: #800080\"> 'big-barracuda'</span> - Created task run 'query_pool_snaps-60635b41-7' for task 'query_pool_snaps'\n",
       "</pre>\n"
      ],
      "text/plain": [
       "18:37:44.427 | \u001b[36mINFO\u001b[0m    | Flow run\u001b[35m 'big-barracuda'\u001b[0m - Created task run 'query_pool_snaps-60635b41-7' for task 'query_pool_snaps'\n"
      ]
     },
     "metadata": {},
     "output_type": "display_data"
    },
    {
     "data": {
      "text/html": [
       "<pre style=\"white-space:pre;overflow-x:auto;line-height:normal;font-family:Menlo,'DejaVu Sans Mono',consolas,'Courier New',monospace\">18:37:44.428 | <span style=\"color: #008080; text-decoration-color: #008080\">INFO</span>    | Flow run<span style=\"color: #800080; text-decoration-color: #800080\"> 'big-barracuda'</span> - Submitted task run 'query_pool_snaps-60635b41-7' for execution.\n",
       "</pre>\n"
      ],
      "text/plain": [
       "18:37:44.428 | \u001b[36mINFO\u001b[0m    | Flow run\u001b[35m 'big-barracuda'\u001b[0m - Submitted task run 'query_pool_snaps-60635b41-7' for execution.\n"
      ]
     },
     "metadata": {},
     "output_type": "display_data"
    },
    {
     "data": {
      "text/html": [
       "<pre style=\"white-space:pre;overflow-x:auto;line-height:normal;font-family:Menlo,'DejaVu Sans Mono',consolas,'Courier New',monospace\">18:37:44.485 | <span style=\"color: #008080; text-decoration-color: #008080\">INFO</span>    | Flow run<span style=\"color: #800080; text-decoration-color: #800080\"> 'big-barracuda'</span> - Created task run 'query_pool_vol-8bdd8db3-16' for task 'query_pool_vol'\n",
       "</pre>\n"
      ],
      "text/plain": [
       "18:37:44.485 | \u001b[36mINFO\u001b[0m    | Flow run\u001b[35m 'big-barracuda'\u001b[0m - Created task run 'query_pool_vol-8bdd8db3-16' for task 'query_pool_vol'\n"
      ]
     },
     "metadata": {},
     "output_type": "display_data"
    },
    {
     "data": {
      "text/html": [
       "<pre style=\"white-space:pre;overflow-x:auto;line-height:normal;font-family:Menlo,'DejaVu Sans Mono',consolas,'Courier New',monospace\">18:37:44.486 | <span style=\"color: #008080; text-decoration-color: #008080\">INFO</span>    | Flow run<span style=\"color: #800080; text-decoration-color: #800080\"> 'big-barracuda'</span> - Submitted task run 'query_pool_vol-8bdd8db3-16' for execution.\n",
       "</pre>\n"
      ],
      "text/plain": [
       "18:37:44.486 | \u001b[36mINFO\u001b[0m    | Flow run\u001b[35m 'big-barracuda'\u001b[0m - Submitted task run 'query_pool_vol-8bdd8db3-16' for execution.\n"
      ]
     },
     "metadata": {},
     "output_type": "display_data"
    },
    {
     "data": {
      "text/html": [
       "<pre style=\"white-space:pre;overflow-x:auto;line-height:normal;font-family:Menlo,'DejaVu Sans Mono',consolas,'Courier New',monospace\">18:37:44.536 | <span style=\"color: #008080; text-decoration-color: #008080\">INFO</span>    | Flow run<span style=\"color: #800080; text-decoration-color: #800080\"> 'big-barracuda'</span> - Created task run 'query_pool_snaps-60635b41-24' for task 'query_pool_snaps'\n",
       "</pre>\n"
      ],
      "text/plain": [
       "18:37:44.536 | \u001b[36mINFO\u001b[0m    | Flow run\u001b[35m 'big-barracuda'\u001b[0m - Created task run 'query_pool_snaps-60635b41-24' for task 'query_pool_snaps'\n"
      ]
     },
     "metadata": {},
     "output_type": "display_data"
    },
    {
     "data": {
      "text/html": [
       "<pre style=\"white-space:pre;overflow-x:auto;line-height:normal;font-family:Menlo,'DejaVu Sans Mono',consolas,'Courier New',monospace\">18:37:44.537 | <span style=\"color: #008080; text-decoration-color: #008080\">INFO</span>    | Flow run<span style=\"color: #800080; text-decoration-color: #800080\"> 'big-barracuda'</span> - Submitted task run 'query_pool_snaps-60635b41-24' for execution.\n",
       "</pre>\n"
      ],
      "text/plain": [
       "18:37:44.537 | \u001b[36mINFO\u001b[0m    | Flow run\u001b[35m 'big-barracuda'\u001b[0m - Submitted task run 'query_pool_snaps-60635b41-24' for execution.\n"
      ]
     },
     "metadata": {},
     "output_type": "display_data"
    },
    {
     "data": {
      "text/html": [
       "<pre style=\"white-space:pre;overflow-x:auto;line-height:normal;font-family:Menlo,'DejaVu Sans Mono',consolas,'Courier New',monospace\">18:37:44.587 | <span style=\"color: #008080; text-decoration-color: #008080\">INFO</span>    | Flow run<span style=\"color: #800080; text-decoration-color: #800080\"> 'big-barracuda'</span> - Created task run 'query_pool_snaps-60635b41-10' for task 'query_pool_snaps'\n",
       "</pre>\n"
      ],
      "text/plain": [
       "18:37:44.587 | \u001b[36mINFO\u001b[0m    | Flow run\u001b[35m 'big-barracuda'\u001b[0m - Created task run 'query_pool_snaps-60635b41-10' for task 'query_pool_snaps'\n"
      ]
     },
     "metadata": {},
     "output_type": "display_data"
    },
    {
     "data": {
      "text/html": [
       "<pre style=\"white-space:pre;overflow-x:auto;line-height:normal;font-family:Menlo,'DejaVu Sans Mono',consolas,'Courier New',monospace\">18:37:44.588 | <span style=\"color: #008080; text-decoration-color: #008080\">INFO</span>    | Flow run<span style=\"color: #800080; text-decoration-color: #800080\"> 'big-barracuda'</span> - Submitted task run 'query_pool_snaps-60635b41-10' for execution.\n",
       "</pre>\n"
      ],
      "text/plain": [
       "18:37:44.588 | \u001b[36mINFO\u001b[0m    | Flow run\u001b[35m 'big-barracuda'\u001b[0m - Submitted task run 'query_pool_snaps-60635b41-10' for execution.\n"
      ]
     },
     "metadata": {},
     "output_type": "display_data"
    },
    {
     "data": {
      "text/html": [
       "<pre style=\"white-space:pre;overflow-x:auto;line-height:normal;font-family:Menlo,'DejaVu Sans Mono',consolas,'Courier New',monospace\">18:37:44.645 | <span style=\"color: #008080; text-decoration-color: #008080\">INFO</span>    | Flow run<span style=\"color: #800080; text-decoration-color: #800080\"> 'big-barracuda'</span> - Created task run 'query_pool_vol-8bdd8db3-34' for task 'query_pool_vol'\n",
       "</pre>\n"
      ],
      "text/plain": [
       "18:37:44.645 | \u001b[36mINFO\u001b[0m    | Flow run\u001b[35m 'big-barracuda'\u001b[0m - Created task run 'query_pool_vol-8bdd8db3-34' for task 'query_pool_vol'\n"
      ]
     },
     "metadata": {},
     "output_type": "display_data"
    },
    {
     "data": {
      "text/html": [
       "<pre style=\"white-space:pre;overflow-x:auto;line-height:normal;font-family:Menlo,'DejaVu Sans Mono',consolas,'Courier New',monospace\">18:37:44.646 | <span style=\"color: #008080; text-decoration-color: #008080\">INFO</span>    | Flow run<span style=\"color: #800080; text-decoration-color: #800080\"> 'big-barracuda'</span> - Submitted task run 'query_pool_vol-8bdd8db3-34' for execution.\n",
       "</pre>\n"
      ],
      "text/plain": [
       "18:37:44.646 | \u001b[36mINFO\u001b[0m    | Flow run\u001b[35m 'big-barracuda'\u001b[0m - Submitted task run 'query_pool_vol-8bdd8db3-34' for execution.\n"
      ]
     },
     "metadata": {},
     "output_type": "display_data"
    },
    {
     "data": {
      "text/html": [
       "<pre style=\"white-space:pre;overflow-x:auto;line-height:normal;font-family:Menlo,'DejaVu Sans Mono',consolas,'Courier New',monospace\">18:37:44.688 | <span style=\"color: #008080; text-decoration-color: #008080\">INFO</span>    | Flow run<span style=\"color: #800080; text-decoration-color: #800080\"> 'big-barracuda'</span> - Created task run 'query_pool_vol-8bdd8db3-46' for task 'query_pool_vol'\n",
       "</pre>\n"
      ],
      "text/plain": [
       "18:37:44.688 | \u001b[36mINFO\u001b[0m    | Flow run\u001b[35m 'big-barracuda'\u001b[0m - Created task run 'query_pool_vol-8bdd8db3-46' for task 'query_pool_vol'\n"
      ]
     },
     "metadata": {},
     "output_type": "display_data"
    },
    {
     "data": {
      "text/html": [
       "<pre style=\"white-space:pre;overflow-x:auto;line-height:normal;font-family:Menlo,'DejaVu Sans Mono',consolas,'Courier New',monospace\">18:37:44.689 | <span style=\"color: #008080; text-decoration-color: #008080\">INFO</span>    | Flow run<span style=\"color: #800080; text-decoration-color: #800080\"> 'big-barracuda'</span> - Submitted task run 'query_pool_vol-8bdd8db3-46' for execution.\n",
       "</pre>\n"
      ],
      "text/plain": [
       "18:37:44.689 | \u001b[36mINFO\u001b[0m    | Flow run\u001b[35m 'big-barracuda'\u001b[0m - Submitted task run 'query_pool_vol-8bdd8db3-46' for execution.\n"
      ]
     },
     "metadata": {},
     "output_type": "display_data"
    },
    {
     "data": {
      "text/html": [
       "<pre style=\"white-space:pre;overflow-x:auto;line-height:normal;font-family:Menlo,'DejaVu Sans Mono',consolas,'Courier New',monospace\">18:37:44.710 | <span style=\"color: #008080; text-decoration-color: #008080\">INFO</span>    | Flow run<span style=\"color: #800080; text-decoration-color: #800080\"> 'big-barracuda'</span> - Created task run 'query_pool_vol-8bdd8db3-52' for task 'query_pool_vol'\n",
       "</pre>\n"
      ],
      "text/plain": [
       "18:37:44.710 | \u001b[36mINFO\u001b[0m    | Flow run\u001b[35m 'big-barracuda'\u001b[0m - Created task run 'query_pool_vol-8bdd8db3-52' for task 'query_pool_vol'\n"
      ]
     },
     "metadata": {},
     "output_type": "display_data"
    },
    {
     "data": {
      "text/html": [
       "<pre style=\"white-space:pre;overflow-x:auto;line-height:normal;font-family:Menlo,'DejaVu Sans Mono',consolas,'Courier New',monospace\">18:37:44.711 | <span style=\"color: #008080; text-decoration-color: #008080\">INFO</span>    | Flow run<span style=\"color: #800080; text-decoration-color: #800080\"> 'big-barracuda'</span> - Submitted task run 'query_pool_vol-8bdd8db3-52' for execution.\n",
       "</pre>\n"
      ],
      "text/plain": [
       "18:37:44.711 | \u001b[36mINFO\u001b[0m    | Flow run\u001b[35m 'big-barracuda'\u001b[0m - Submitted task run 'query_pool_vol-8bdd8db3-52' for execution.\n"
      ]
     },
     "metadata": {},
     "output_type": "display_data"
    },
    {
     "data": {
      "text/html": [
       "<pre style=\"white-space:pre;overflow-x:auto;line-height:normal;font-family:Menlo,'DejaVu Sans Mono',consolas,'Courier New',monospace\">18:37:44.720 | <span style=\"color: #008080; text-decoration-color: #008080\">INFO</span>    | Flow run<span style=\"color: #800080; text-decoration-color: #800080\"> 'big-barracuda'</span> - Created task run 'query_pool_vol-8bdd8db3-60' for task 'query_pool_vol'\n",
       "</pre>\n"
      ],
      "text/plain": [
       "18:37:44.720 | \u001b[36mINFO\u001b[0m    | Flow run\u001b[35m 'big-barracuda'\u001b[0m - Created task run 'query_pool_vol-8bdd8db3-60' for task 'query_pool_vol'\n"
      ]
     },
     "metadata": {},
     "output_type": "display_data"
    },
    {
     "data": {
      "text/html": [
       "<pre style=\"white-space:pre;overflow-x:auto;line-height:normal;font-family:Menlo,'DejaVu Sans Mono',consolas,'Courier New',monospace\">18:37:44.721 | <span style=\"color: #008080; text-decoration-color: #008080\">INFO</span>    | Flow run<span style=\"color: #800080; text-decoration-color: #800080\"> 'big-barracuda'</span> - Submitted task run 'query_pool_vol-8bdd8db3-60' for execution.\n",
       "</pre>\n"
      ],
      "text/plain": [
       "18:37:44.721 | \u001b[36mINFO\u001b[0m    | Flow run\u001b[35m 'big-barracuda'\u001b[0m - Submitted task run 'query_pool_vol-8bdd8db3-60' for execution.\n"
      ]
     },
     "metadata": {},
     "output_type": "display_data"
    },
    {
     "data": {
      "text/html": [
       "<pre style=\"white-space:pre;overflow-x:auto;line-height:normal;font-family:Menlo,'DejaVu Sans Mono',consolas,'Courier New',monospace\">18:37:44.732 | <span style=\"color: #008080; text-decoration-color: #008080\">INFO</span>    | Flow run<span style=\"color: #800080; text-decoration-color: #800080\"> 'big-barracuda'</span> - Created task run 'query_pool_snaps-60635b41-8' for task 'query_pool_snaps'\n",
       "</pre>\n"
      ],
      "text/plain": [
       "18:37:44.732 | \u001b[36mINFO\u001b[0m    | Flow run\u001b[35m 'big-barracuda'\u001b[0m - Created task run 'query_pool_snaps-60635b41-8' for task 'query_pool_snaps'\n"
      ]
     },
     "metadata": {},
     "output_type": "display_data"
    },
    {
     "data": {
      "text/html": [
       "<pre style=\"white-space:pre;overflow-x:auto;line-height:normal;font-family:Menlo,'DejaVu Sans Mono',consolas,'Courier New',monospace\">18:37:44.733 | <span style=\"color: #008080; text-decoration-color: #008080\">INFO</span>    | Flow run<span style=\"color: #800080; text-decoration-color: #800080\"> 'big-barracuda'</span> - Submitted task run 'query_pool_snaps-60635b41-8' for execution.\n",
       "</pre>\n"
      ],
      "text/plain": [
       "18:37:44.733 | \u001b[36mINFO\u001b[0m    | Flow run\u001b[35m 'big-barracuda'\u001b[0m - Submitted task run 'query_pool_snaps-60635b41-8' for execution.\n"
      ]
     },
     "metadata": {},
     "output_type": "display_data"
    },
    {
     "data": {
      "text/html": [
       "<pre style=\"white-space:pre;overflow-x:auto;line-height:normal;font-family:Menlo,'DejaVu Sans Mono',consolas,'Courier New',monospace\">18:37:44.743 | <span style=\"color: #008080; text-decoration-color: #008080\">INFO</span>    | Flow run<span style=\"color: #800080; text-decoration-color: #800080\"> 'big-barracuda'</span> - Created task run 'query_pool_snaps-60635b41-33' for task 'query_pool_snaps'\n",
       "</pre>\n"
      ],
      "text/plain": [
       "18:37:44.743 | \u001b[36mINFO\u001b[0m    | Flow run\u001b[35m 'big-barracuda'\u001b[0m - Created task run 'query_pool_snaps-60635b41-33' for task 'query_pool_snaps'\n"
      ]
     },
     "metadata": {},
     "output_type": "display_data"
    },
    {
     "data": {
      "text/html": [
       "<pre style=\"white-space:pre;overflow-x:auto;line-height:normal;font-family:Menlo,'DejaVu Sans Mono',consolas,'Courier New',monospace\">18:37:44.744 | <span style=\"color: #008080; text-decoration-color: #008080\">INFO</span>    | Flow run<span style=\"color: #800080; text-decoration-color: #800080\"> 'big-barracuda'</span> - Submitted task run 'query_pool_snaps-60635b41-33' for execution.\n",
       "</pre>\n"
      ],
      "text/plain": [
       "18:37:44.744 | \u001b[36mINFO\u001b[0m    | Flow run\u001b[35m 'big-barracuda'\u001b[0m - Submitted task run 'query_pool_snaps-60635b41-33' for execution.\n"
      ]
     },
     "metadata": {},
     "output_type": "display_data"
    },
    {
     "data": {
      "text/html": [
       "<pre style=\"white-space:pre;overflow-x:auto;line-height:normal;font-family:Menlo,'DejaVu Sans Mono',consolas,'Courier New',monospace\">18:37:44.752 | <span style=\"color: #008080; text-decoration-color: #008080\">INFO</span>    | Task run 'query_pool_vol-8bdd8db3-34' - Finished in state Cached(type=COMPLETED)\n",
       "</pre>\n"
      ],
      "text/plain": [
       "18:37:44.752 | \u001b[36mINFO\u001b[0m    | Task run 'query_pool_vol-8bdd8db3-34' - Finished in state Cached(type=COMPLETED)\n"
      ]
     },
     "metadata": {},
     "output_type": "display_data"
    },
    {
     "data": {
      "text/html": [
       "<pre style=\"white-space:pre;overflow-x:auto;line-height:normal;font-family:Menlo,'DejaVu Sans Mono',consolas,'Courier New',monospace\">18:37:44.760 | <span style=\"color: #008080; text-decoration-color: #008080\">INFO</span>    | Flow run<span style=\"color: #800080; text-decoration-color: #800080\"> 'big-barracuda'</span> - Created task run 'query_pool_vol-8bdd8db3-28' for task 'query_pool_vol'\n",
       "</pre>\n"
      ],
      "text/plain": [
       "18:37:44.760 | \u001b[36mINFO\u001b[0m    | Flow run\u001b[35m 'big-barracuda'\u001b[0m - Created task run 'query_pool_vol-8bdd8db3-28' for task 'query_pool_vol'\n"
      ]
     },
     "metadata": {},
     "output_type": "display_data"
    },
    {
     "data": {
      "text/html": [
       "<pre style=\"white-space:pre;overflow-x:auto;line-height:normal;font-family:Menlo,'DejaVu Sans Mono',consolas,'Courier New',monospace\">18:37:44.761 | <span style=\"color: #008080; text-decoration-color: #008080\">INFO</span>    | Flow run<span style=\"color: #800080; text-decoration-color: #800080\"> 'big-barracuda'</span> - Submitted task run 'query_pool_vol-8bdd8db3-28' for execution.\n",
       "</pre>\n"
      ],
      "text/plain": [
       "18:37:44.761 | \u001b[36mINFO\u001b[0m    | Flow run\u001b[35m 'big-barracuda'\u001b[0m - Submitted task run 'query_pool_vol-8bdd8db3-28' for execution.\n"
      ]
     },
     "metadata": {},
     "output_type": "display_data"
    },
    {
     "data": {
      "text/html": [
       "<pre style=\"white-space:pre;overflow-x:auto;line-height:normal;font-family:Menlo,'DejaVu Sans Mono',consolas,'Courier New',monospace\">18:37:44.770 | <span style=\"color: #008080; text-decoration-color: #008080\">INFO</span>    | Flow run<span style=\"color: #800080; text-decoration-color: #800080\"> 'big-barracuda'</span> - Created task run 'query_pool_snaps-60635b41-54' for task 'query_pool_snaps'\n",
       "</pre>\n"
      ],
      "text/plain": [
       "18:37:44.770 | \u001b[36mINFO\u001b[0m    | Flow run\u001b[35m 'big-barracuda'\u001b[0m - Created task run 'query_pool_snaps-60635b41-54' for task 'query_pool_snaps'\n"
      ]
     },
     "metadata": {},
     "output_type": "display_data"
    },
    {
     "data": {
      "text/html": [
       "<pre style=\"white-space:pre;overflow-x:auto;line-height:normal;font-family:Menlo,'DejaVu Sans Mono',consolas,'Courier New',monospace\">18:37:44.771 | <span style=\"color: #008080; text-decoration-color: #008080\">INFO</span>    | Flow run<span style=\"color: #800080; text-decoration-color: #800080\"> 'big-barracuda'</span> - Submitted task run 'query_pool_snaps-60635b41-54' for execution.\n",
       "</pre>\n"
      ],
      "text/plain": [
       "18:37:44.771 | \u001b[36mINFO\u001b[0m    | Flow run\u001b[35m 'big-barracuda'\u001b[0m - Submitted task run 'query_pool_snaps-60635b41-54' for execution.\n"
      ]
     },
     "metadata": {},
     "output_type": "display_data"
    },
    {
     "data": {
      "text/html": [
       "<pre style=\"white-space:pre;overflow-x:auto;line-height:normal;font-family:Menlo,'DejaVu Sans Mono',consolas,'Courier New',monospace\">18:37:44.781 | <span style=\"color: #008080; text-decoration-color: #008080\">INFO</span>    | Flow run<span style=\"color: #800080; text-decoration-color: #800080\"> 'big-barracuda'</span> - Created task run 'query_pool_vol-8bdd8db3-54' for task 'query_pool_vol'\n",
       "</pre>\n"
      ],
      "text/plain": [
       "18:37:44.781 | \u001b[36mINFO\u001b[0m    | Flow run\u001b[35m 'big-barracuda'\u001b[0m - Created task run 'query_pool_vol-8bdd8db3-54' for task 'query_pool_vol'\n"
      ]
     },
     "metadata": {},
     "output_type": "display_data"
    },
    {
     "data": {
      "text/html": [
       "<pre style=\"white-space:pre;overflow-x:auto;line-height:normal;font-family:Menlo,'DejaVu Sans Mono',consolas,'Courier New',monospace\">18:37:44.782 | <span style=\"color: #008080; text-decoration-color: #008080\">INFO</span>    | Flow run<span style=\"color: #800080; text-decoration-color: #800080\"> 'big-barracuda'</span> - Submitted task run 'query_pool_vol-8bdd8db3-54' for execution.\n",
       "</pre>\n"
      ],
      "text/plain": [
       "18:37:44.782 | \u001b[36mINFO\u001b[0m    | Flow run\u001b[35m 'big-barracuda'\u001b[0m - Submitted task run 'query_pool_vol-8bdd8db3-54' for execution.\n"
      ]
     },
     "metadata": {},
     "output_type": "display_data"
    },
    {
     "data": {
      "text/html": [
       "<pre style=\"white-space:pre;overflow-x:auto;line-height:normal;font-family:Menlo,'DejaVu Sans Mono',consolas,'Courier New',monospace\">18:37:44.791 | <span style=\"color: #008080; text-decoration-color: #008080\">INFO</span>    | Flow run<span style=\"color: #800080; text-decoration-color: #800080\"> 'big-barracuda'</span> - Created task run 'query_pool_snaps-60635b41-17' for task 'query_pool_snaps'\n",
       "</pre>\n"
      ],
      "text/plain": [
       "18:37:44.791 | \u001b[36mINFO\u001b[0m    | Flow run\u001b[35m 'big-barracuda'\u001b[0m - Created task run 'query_pool_snaps-60635b41-17' for task 'query_pool_snaps'\n"
      ]
     },
     "metadata": {},
     "output_type": "display_data"
    },
    {
     "data": {
      "text/html": [
       "<pre style=\"white-space:pre;overflow-x:auto;line-height:normal;font-family:Menlo,'DejaVu Sans Mono',consolas,'Courier New',monospace\">18:37:44.792 | <span style=\"color: #008080; text-decoration-color: #008080\">INFO</span>    | Flow run<span style=\"color: #800080; text-decoration-color: #800080\"> 'big-barracuda'</span> - Submitted task run 'query_pool_snaps-60635b41-17' for execution.\n",
       "</pre>\n"
      ],
      "text/plain": [
       "18:37:44.792 | \u001b[36mINFO\u001b[0m    | Flow run\u001b[35m 'big-barracuda'\u001b[0m - Submitted task run 'query_pool_snaps-60635b41-17' for execution.\n"
      ]
     },
     "metadata": {},
     "output_type": "display_data"
    },
    {
     "data": {
      "text/html": [
       "<pre style=\"white-space:pre;overflow-x:auto;line-height:normal;font-family:Menlo,'DejaVu Sans Mono',consolas,'Courier New',monospace\">18:37:44.799 | <span style=\"color: #008080; text-decoration-color: #008080\">INFO</span>    | Task run 'query_pool_vol-8bdd8db3-52' - Finished in state Cached(type=COMPLETED)\n",
       "</pre>\n"
      ],
      "text/plain": [
       "18:37:44.799 | \u001b[36mINFO\u001b[0m    | Task run 'query_pool_vol-8bdd8db3-52' - Finished in state Cached(type=COMPLETED)\n"
      ]
     },
     "metadata": {},
     "output_type": "display_data"
    },
    {
     "data": {
      "text/html": [
       "<pre style=\"white-space:pre;overflow-x:auto;line-height:normal;font-family:Menlo,'DejaVu Sans Mono',consolas,'Courier New',monospace\">18:37:44.807 | <span style=\"color: #008080; text-decoration-color: #008080\">INFO</span>    | Flow run<span style=\"color: #800080; text-decoration-color: #800080\"> 'big-barracuda'</span> - Created task run 'query_pool_snaps-60635b41-41' for task 'query_pool_snaps'\n",
       "</pre>\n"
      ],
      "text/plain": [
       "18:37:44.807 | \u001b[36mINFO\u001b[0m    | Flow run\u001b[35m 'big-barracuda'\u001b[0m - Created task run 'query_pool_snaps-60635b41-41' for task 'query_pool_snaps'\n"
      ]
     },
     "metadata": {},
     "output_type": "display_data"
    },
    {
     "data": {
      "text/html": [
       "<pre style=\"white-space:pre;overflow-x:auto;line-height:normal;font-family:Menlo,'DejaVu Sans Mono',consolas,'Courier New',monospace\">18:37:44.808 | <span style=\"color: #008080; text-decoration-color: #008080\">INFO</span>    | Flow run<span style=\"color: #800080; text-decoration-color: #800080\"> 'big-barracuda'</span> - Submitted task run 'query_pool_snaps-60635b41-41' for execution.\n",
       "</pre>\n"
      ],
      "text/plain": [
       "18:37:44.808 | \u001b[36mINFO\u001b[0m    | Flow run\u001b[35m 'big-barracuda'\u001b[0m - Submitted task run 'query_pool_snaps-60635b41-41' for execution.\n"
      ]
     },
     "metadata": {},
     "output_type": "display_data"
    },
    {
     "data": {
      "text/html": [
       "<pre style=\"white-space:pre;overflow-x:auto;line-height:normal;font-family:Menlo,'DejaVu Sans Mono',consolas,'Courier New',monospace\">18:37:44.813 | <span style=\"color: #008080; text-decoration-color: #008080\">INFO</span>    | Task run 'query_pool_vol-8bdd8db3-54' - Finished in state Cached(type=COMPLETED)\n",
       "</pre>\n"
      ],
      "text/plain": [
       "18:37:44.813 | \u001b[36mINFO\u001b[0m    | Task run 'query_pool_vol-8bdd8db3-54' - Finished in state Cached(type=COMPLETED)\n"
      ]
     },
     "metadata": {},
     "output_type": "display_data"
    },
    {
     "data": {
      "text/html": [
       "<pre style=\"white-space:pre;overflow-x:auto;line-height:normal;font-family:Menlo,'DejaVu Sans Mono',consolas,'Courier New',monospace\">18:37:44.819 | <span style=\"color: #008080; text-decoration-color: #008080\">INFO</span>    | Task run 'query_pool_snaps-60635b41-17' - Finished in state Cached(type=COMPLETED)\n",
       "</pre>\n"
      ],
      "text/plain": [
       "18:37:44.819 | \u001b[36mINFO\u001b[0m    | Task run 'query_pool_snaps-60635b41-17' - Finished in state Cached(type=COMPLETED)\n"
      ]
     },
     "metadata": {},
     "output_type": "display_data"
    },
    {
     "data": {
      "text/html": [
       "<pre style=\"white-space:pre;overflow-x:auto;line-height:normal;font-family:Menlo,'DejaVu Sans Mono',consolas,'Courier New',monospace\">18:37:44.825 | <span style=\"color: #008080; text-decoration-color: #008080\">INFO</span>    | Flow run<span style=\"color: #800080; text-decoration-color: #800080\"> 'big-barracuda'</span> - Created task run 'query_pool_vol-8bdd8db3-44' for task 'query_pool_vol'\n",
       "</pre>\n"
      ],
      "text/plain": [
       "18:37:44.825 | \u001b[36mINFO\u001b[0m    | Flow run\u001b[35m 'big-barracuda'\u001b[0m - Created task run 'query_pool_vol-8bdd8db3-44' for task 'query_pool_vol'\n"
      ]
     },
     "metadata": {},
     "output_type": "display_data"
    },
    {
     "data": {
      "text/html": [
       "<pre style=\"white-space:pre;overflow-x:auto;line-height:normal;font-family:Menlo,'DejaVu Sans Mono',consolas,'Courier New',monospace\">18:37:44.825 | <span style=\"color: #008080; text-decoration-color: #008080\">INFO</span>    | Flow run<span style=\"color: #800080; text-decoration-color: #800080\"> 'big-barracuda'</span> - Submitted task run 'query_pool_vol-8bdd8db3-44' for execution.\n",
       "</pre>\n"
      ],
      "text/plain": [
       "18:37:44.825 | \u001b[36mINFO\u001b[0m    | Flow run\u001b[35m 'big-barracuda'\u001b[0m - Submitted task run 'query_pool_vol-8bdd8db3-44' for execution.\n"
      ]
     },
     "metadata": {},
     "output_type": "display_data"
    },
    {
     "data": {
      "text/html": [
       "<pre style=\"white-space:pre;overflow-x:auto;line-height:normal;font-family:Menlo,'DejaVu Sans Mono',consolas,'Courier New',monospace\">18:37:44.833 | <span style=\"color: #008080; text-decoration-color: #008080\">INFO</span>    | Flow run<span style=\"color: #800080; text-decoration-color: #800080\"> 'big-barracuda'</span> - Created task run 'query_pool_vol-8bdd8db3-59' for task 'query_pool_vol'\n",
       "</pre>\n"
      ],
      "text/plain": [
       "18:37:44.833 | \u001b[36mINFO\u001b[0m    | Flow run\u001b[35m 'big-barracuda'\u001b[0m - Created task run 'query_pool_vol-8bdd8db3-59' for task 'query_pool_vol'\n"
      ]
     },
     "metadata": {},
     "output_type": "display_data"
    },
    {
     "data": {
      "text/html": [
       "<pre style=\"white-space:pre;overflow-x:auto;line-height:normal;font-family:Menlo,'DejaVu Sans Mono',consolas,'Courier New',monospace\">18:37:44.834 | <span style=\"color: #008080; text-decoration-color: #008080\">INFO</span>    | Flow run<span style=\"color: #800080; text-decoration-color: #800080\"> 'big-barracuda'</span> - Submitted task run 'query_pool_vol-8bdd8db3-59' for execution.\n",
       "</pre>\n"
      ],
      "text/plain": [
       "18:37:44.834 | \u001b[36mINFO\u001b[0m    | Flow run\u001b[35m 'big-barracuda'\u001b[0m - Submitted task run 'query_pool_vol-8bdd8db3-59' for execution.\n"
      ]
     },
     "metadata": {},
     "output_type": "display_data"
    },
    {
     "data": {
      "text/html": [
       "<pre style=\"white-space:pre;overflow-x:auto;line-height:normal;font-family:Menlo,'DejaVu Sans Mono',consolas,'Courier New',monospace\">18:37:44.845 | <span style=\"color: #008080; text-decoration-color: #008080\">INFO</span>    | Flow run<span style=\"color: #800080; text-decoration-color: #800080\"> 'big-barracuda'</span> - Created task run 'query_pool_snaps-60635b41-57' for task 'query_pool_snaps'\n",
       "</pre>\n"
      ],
      "text/plain": [
       "18:37:44.845 | \u001b[36mINFO\u001b[0m    | Flow run\u001b[35m 'big-barracuda'\u001b[0m - Created task run 'query_pool_snaps-60635b41-57' for task 'query_pool_snaps'\n"
      ]
     },
     "metadata": {},
     "output_type": "display_data"
    },
    {
     "data": {
      "text/html": [
       "<pre style=\"white-space:pre;overflow-x:auto;line-height:normal;font-family:Menlo,'DejaVu Sans Mono',consolas,'Courier New',monospace\">18:37:44.846 | <span style=\"color: #008080; text-decoration-color: #008080\">INFO</span>    | Flow run<span style=\"color: #800080; text-decoration-color: #800080\"> 'big-barracuda'</span> - Submitted task run 'query_pool_snaps-60635b41-57' for execution.\n",
       "</pre>\n"
      ],
      "text/plain": [
       "18:37:44.846 | \u001b[36mINFO\u001b[0m    | Flow run\u001b[35m 'big-barracuda'\u001b[0m - Submitted task run 'query_pool_snaps-60635b41-57' for execution.\n"
      ]
     },
     "metadata": {},
     "output_type": "display_data"
    },
    {
     "data": {
      "text/html": [
       "<pre style=\"white-space:pre;overflow-x:auto;line-height:normal;font-family:Menlo,'DejaVu Sans Mono',consolas,'Courier New',monospace\">18:37:44.853 | <span style=\"color: #008080; text-decoration-color: #008080\">INFO</span>    | Task run 'query_pool_vol-8bdd8db3-44' - Finished in state Cached(type=COMPLETED)\n",
       "</pre>\n"
      ],
      "text/plain": [
       "18:37:44.853 | \u001b[36mINFO\u001b[0m    | Task run 'query_pool_vol-8bdd8db3-44' - Finished in state Cached(type=COMPLETED)\n"
      ]
     },
     "metadata": {},
     "output_type": "display_data"
    },
    {
     "data": {
      "text/html": [
       "<pre style=\"white-space:pre;overflow-x:auto;line-height:normal;font-family:Menlo,'DejaVu Sans Mono',consolas,'Courier New',monospace\">18:37:44.858 | <span style=\"color: #008080; text-decoration-color: #008080\">INFO</span>    | Task run 'query_pool_vol-8bdd8db3-59' - Finished in state Cached(type=COMPLETED)\n",
       "</pre>\n"
      ],
      "text/plain": [
       "18:37:44.858 | \u001b[36mINFO\u001b[0m    | Task run 'query_pool_vol-8bdd8db3-59' - Finished in state Cached(type=COMPLETED)\n"
      ]
     },
     "metadata": {},
     "output_type": "display_data"
    },
    {
     "data": {
      "text/html": [
       "<pre style=\"white-space:pre;overflow-x:auto;line-height:normal;font-family:Menlo,'DejaVu Sans Mono',consolas,'Courier New',monospace\">18:37:44.864 | <span style=\"color: #008080; text-decoration-color: #008080\">INFO</span>    | Flow run<span style=\"color: #800080; text-decoration-color: #800080\"> 'big-barracuda'</span> - Created task run 'query_pool_snaps-60635b41-14' for task 'query_pool_snaps'\n",
       "</pre>\n"
      ],
      "text/plain": [
       "18:37:44.864 | \u001b[36mINFO\u001b[0m    | Flow run\u001b[35m 'big-barracuda'\u001b[0m - Created task run 'query_pool_snaps-60635b41-14' for task 'query_pool_snaps'\n"
      ]
     },
     "metadata": {},
     "output_type": "display_data"
    },
    {
     "data": {
      "text/html": [
       "<pre style=\"white-space:pre;overflow-x:auto;line-height:normal;font-family:Menlo,'DejaVu Sans Mono',consolas,'Courier New',monospace\">18:37:44.865 | <span style=\"color: #008080; text-decoration-color: #008080\">INFO</span>    | Flow run<span style=\"color: #800080; text-decoration-color: #800080\"> 'big-barracuda'</span> - Submitted task run 'query_pool_snaps-60635b41-14' for execution.\n",
       "</pre>\n"
      ],
      "text/plain": [
       "18:37:44.865 | \u001b[36mINFO\u001b[0m    | Flow run\u001b[35m 'big-barracuda'\u001b[0m - Submitted task run 'query_pool_snaps-60635b41-14' for execution.\n"
      ]
     },
     "metadata": {},
     "output_type": "display_data"
    },
    {
     "data": {
      "text/html": [
       "<pre style=\"white-space:pre;overflow-x:auto;line-height:normal;font-family:Menlo,'DejaVu Sans Mono',consolas,'Courier New',monospace\">18:37:44.874 | <span style=\"color: #008080; text-decoration-color: #008080\">INFO</span>    | Flow run<span style=\"color: #800080; text-decoration-color: #800080\"> 'big-barracuda'</span> - Created task run 'query_pool_snaps-60635b41-45' for task 'query_pool_snaps'\n",
       "</pre>\n"
      ],
      "text/plain": [
       "18:37:44.874 | \u001b[36mINFO\u001b[0m    | Flow run\u001b[35m 'big-barracuda'\u001b[0m - Created task run 'query_pool_snaps-60635b41-45' for task 'query_pool_snaps'\n"
      ]
     },
     "metadata": {},
     "output_type": "display_data"
    },
    {
     "data": {
      "text/html": [
       "<pre style=\"white-space:pre;overflow-x:auto;line-height:normal;font-family:Menlo,'DejaVu Sans Mono',consolas,'Courier New',monospace\">18:37:44.875 | <span style=\"color: #008080; text-decoration-color: #008080\">INFO</span>    | Flow run<span style=\"color: #800080; text-decoration-color: #800080\"> 'big-barracuda'</span> - Submitted task run 'query_pool_snaps-60635b41-45' for execution.\n",
       "</pre>\n"
      ],
      "text/plain": [
       "18:37:44.875 | \u001b[36mINFO\u001b[0m    | Flow run\u001b[35m 'big-barracuda'\u001b[0m - Submitted task run 'query_pool_snaps-60635b41-45' for execution.\n"
      ]
     },
     "metadata": {},
     "output_type": "display_data"
    },
    {
     "data": {
      "text/html": [
       "<pre style=\"white-space:pre;overflow-x:auto;line-height:normal;font-family:Menlo,'DejaVu Sans Mono',consolas,'Courier New',monospace\">18:37:44.884 | <span style=\"color: #008080; text-decoration-color: #008080\">INFO</span>    | Flow run<span style=\"color: #800080; text-decoration-color: #800080\"> 'big-barracuda'</span> - Created task run 'query_pool_snaps-60635b41-48' for task 'query_pool_snaps'\n",
       "</pre>\n"
      ],
      "text/plain": [
       "18:37:44.884 | \u001b[36mINFO\u001b[0m    | Flow run\u001b[35m 'big-barracuda'\u001b[0m - Created task run 'query_pool_snaps-60635b41-48' for task 'query_pool_snaps'\n"
      ]
     },
     "metadata": {},
     "output_type": "display_data"
    },
    {
     "data": {
      "text/html": [
       "<pre style=\"white-space:pre;overflow-x:auto;line-height:normal;font-family:Menlo,'DejaVu Sans Mono',consolas,'Courier New',monospace\">18:37:44.885 | <span style=\"color: #008080; text-decoration-color: #008080\">INFO</span>    | Flow run<span style=\"color: #800080; text-decoration-color: #800080\"> 'big-barracuda'</span> - Submitted task run 'query_pool_snaps-60635b41-48' for execution.\n",
       "</pre>\n"
      ],
      "text/plain": [
       "18:37:44.885 | \u001b[36mINFO\u001b[0m    | Flow run\u001b[35m 'big-barracuda'\u001b[0m - Submitted task run 'query_pool_snaps-60635b41-48' for execution.\n"
      ]
     },
     "metadata": {},
     "output_type": "display_data"
    },
    {
     "data": {
      "text/html": [
       "<pre style=\"white-space:pre;overflow-x:auto;line-height:normal;font-family:Menlo,'DejaVu Sans Mono',consolas,'Courier New',monospace\">18:37:44.894 | <span style=\"color: #008080; text-decoration-color: #008080\">INFO</span>    | Task run 'query_pool_vol-8bdd8db3-28' - Finished in state Cached(type=COMPLETED)\n",
       "</pre>\n"
      ],
      "text/plain": [
       "18:37:44.894 | \u001b[36mINFO\u001b[0m    | Task run 'query_pool_vol-8bdd8db3-28' - Finished in state Cached(type=COMPLETED)\n"
      ]
     },
     "metadata": {},
     "output_type": "display_data"
    },
    {
     "data": {
      "text/html": [
       "<pre style=\"white-space:pre;overflow-x:auto;line-height:normal;font-family:Menlo,'DejaVu Sans Mono',consolas,'Courier New',monospace\">18:37:44.901 | <span style=\"color: #008080; text-decoration-color: #008080\">INFO</span>    | Flow run<span style=\"color: #800080; text-decoration-color: #800080\"> 'big-barracuda'</span> - Created task run 'query_pool_vol-8bdd8db3-57' for task 'query_pool_vol'\n",
       "</pre>\n"
      ],
      "text/plain": [
       "18:37:44.901 | \u001b[36mINFO\u001b[0m    | Flow run\u001b[35m 'big-barracuda'\u001b[0m - Created task run 'query_pool_vol-8bdd8db3-57' for task 'query_pool_vol'\n"
      ]
     },
     "metadata": {},
     "output_type": "display_data"
    },
    {
     "data": {
      "text/html": [
       "<pre style=\"white-space:pre;overflow-x:auto;line-height:normal;font-family:Menlo,'DejaVu Sans Mono',consolas,'Courier New',monospace\">18:37:44.901 | <span style=\"color: #008080; text-decoration-color: #008080\">INFO</span>    | Flow run<span style=\"color: #800080; text-decoration-color: #800080\"> 'big-barracuda'</span> - Submitted task run 'query_pool_vol-8bdd8db3-57' for execution.\n",
       "</pre>\n"
      ],
      "text/plain": [
       "18:37:44.901 | \u001b[36mINFO\u001b[0m    | Flow run\u001b[35m 'big-barracuda'\u001b[0m - Submitted task run 'query_pool_vol-8bdd8db3-57' for execution.\n"
      ]
     },
     "metadata": {},
     "output_type": "display_data"
    },
    {
     "data": {
      "text/html": [
       "<pre style=\"white-space:pre;overflow-x:auto;line-height:normal;font-family:Menlo,'DejaVu Sans Mono',consolas,'Courier New',monospace\">18:37:44.907 | <span style=\"color: #008080; text-decoration-color: #008080\">INFO</span>    | Task run 'query_pool_snaps-60635b41-48' - Finished in state Cached(type=COMPLETED)\n",
       "</pre>\n"
      ],
      "text/plain": [
       "18:37:44.907 | \u001b[36mINFO\u001b[0m    | Task run 'query_pool_snaps-60635b41-48' - Finished in state Cached(type=COMPLETED)\n"
      ]
     },
     "metadata": {},
     "output_type": "display_data"
    },
    {
     "data": {
      "text/html": [
       "<pre style=\"white-space:pre;overflow-x:auto;line-height:normal;font-family:Menlo,'DejaVu Sans Mono',consolas,'Courier New',monospace\">18:37:44.914 | <span style=\"color: #008080; text-decoration-color: #008080\">INFO</span>    | Task run 'query_pool_snaps-60635b41-41' - Finished in state Cached(type=COMPLETED)\n",
       "</pre>\n"
      ],
      "text/plain": [
       "18:37:44.914 | \u001b[36mINFO\u001b[0m    | Task run 'query_pool_snaps-60635b41-41' - Finished in state Cached(type=COMPLETED)\n"
      ]
     },
     "metadata": {},
     "output_type": "display_data"
    },
    {
     "data": {
      "text/html": [
       "<pre style=\"white-space:pre;overflow-x:auto;line-height:normal;font-family:Menlo,'DejaVu Sans Mono',consolas,'Courier New',monospace\">18:37:44.919 | <span style=\"color: #008080; text-decoration-color: #008080\">INFO</span>    | Flow run<span style=\"color: #800080; text-decoration-color: #800080\"> 'big-barracuda'</span> - Created task run 'query_pool_snaps-60635b41-22' for task 'query_pool_snaps'\n",
       "</pre>\n"
      ],
      "text/plain": [
       "18:37:44.919 | \u001b[36mINFO\u001b[0m    | Flow run\u001b[35m 'big-barracuda'\u001b[0m - Created task run 'query_pool_snaps-60635b41-22' for task 'query_pool_snaps'\n"
      ]
     },
     "metadata": {},
     "output_type": "display_data"
    },
    {
     "data": {
      "text/html": [
       "<pre style=\"white-space:pre;overflow-x:auto;line-height:normal;font-family:Menlo,'DejaVu Sans Mono',consolas,'Courier New',monospace\">18:37:44.920 | <span style=\"color: #008080; text-decoration-color: #008080\">INFO</span>    | Flow run<span style=\"color: #800080; text-decoration-color: #800080\"> 'big-barracuda'</span> - Submitted task run 'query_pool_snaps-60635b41-22' for execution.\n",
       "</pre>\n"
      ],
      "text/plain": [
       "18:37:44.920 | \u001b[36mINFO\u001b[0m    | Flow run\u001b[35m 'big-barracuda'\u001b[0m - Submitted task run 'query_pool_snaps-60635b41-22' for execution.\n"
      ]
     },
     "metadata": {},
     "output_type": "display_data"
    },
    {
     "data": {
      "text/html": [
       "<pre style=\"white-space:pre;overflow-x:auto;line-height:normal;font-family:Menlo,'DejaVu Sans Mono',consolas,'Courier New',monospace\">18:37:44.928 | <span style=\"color: #008080; text-decoration-color: #008080\">INFO</span>    | Flow run<span style=\"color: #800080; text-decoration-color: #800080\"> 'big-barracuda'</span> - Created task run 'query_pool_snaps-60635b41-38' for task 'query_pool_snaps'\n",
       "</pre>\n"
      ],
      "text/plain": [
       "18:37:44.928 | \u001b[36mINFO\u001b[0m    | Flow run\u001b[35m 'big-barracuda'\u001b[0m - Created task run 'query_pool_snaps-60635b41-38' for task 'query_pool_snaps'\n"
      ]
     },
     "metadata": {},
     "output_type": "display_data"
    },
    {
     "data": {
      "text/html": [
       "<pre style=\"white-space:pre;overflow-x:auto;line-height:normal;font-family:Menlo,'DejaVu Sans Mono',consolas,'Courier New',monospace\">18:37:44.929 | <span style=\"color: #008080; text-decoration-color: #008080\">INFO</span>    | Flow run<span style=\"color: #800080; text-decoration-color: #800080\"> 'big-barracuda'</span> - Submitted task run 'query_pool_snaps-60635b41-38' for execution.\n",
       "</pre>\n"
      ],
      "text/plain": [
       "18:37:44.929 | \u001b[36mINFO\u001b[0m    | Flow run\u001b[35m 'big-barracuda'\u001b[0m - Submitted task run 'query_pool_snaps-60635b41-38' for execution.\n"
      ]
     },
     "metadata": {},
     "output_type": "display_data"
    },
    {
     "data": {
      "text/html": [
       "<pre style=\"white-space:pre;overflow-x:auto;line-height:normal;font-family:Menlo,'DejaVu Sans Mono',consolas,'Courier New',monospace\">18:37:44.939 | <span style=\"color: #008080; text-decoration-color: #008080\">INFO</span>    | Flow run<span style=\"color: #800080; text-decoration-color: #800080\"> 'big-barracuda'</span> - Created task run 'query_pool_vol-8bdd8db3-25' for task 'query_pool_vol'\n",
       "</pre>\n"
      ],
      "text/plain": [
       "18:37:44.939 | \u001b[36mINFO\u001b[0m    | Flow run\u001b[35m 'big-barracuda'\u001b[0m - Created task run 'query_pool_vol-8bdd8db3-25' for task 'query_pool_vol'\n"
      ]
     },
     "metadata": {},
     "output_type": "display_data"
    },
    {
     "data": {
      "text/html": [
       "<pre style=\"white-space:pre;overflow-x:auto;line-height:normal;font-family:Menlo,'DejaVu Sans Mono',consolas,'Courier New',monospace\">18:37:44.940 | <span style=\"color: #008080; text-decoration-color: #008080\">INFO</span>    | Flow run<span style=\"color: #800080; text-decoration-color: #800080\"> 'big-barracuda'</span> - Submitted task run 'query_pool_vol-8bdd8db3-25' for execution.\n",
       "</pre>\n"
      ],
      "text/plain": [
       "18:37:44.940 | \u001b[36mINFO\u001b[0m    | Flow run\u001b[35m 'big-barracuda'\u001b[0m - Submitted task run 'query_pool_vol-8bdd8db3-25' for execution.\n"
      ]
     },
     "metadata": {},
     "output_type": "display_data"
    },
    {
     "data": {
      "text/html": [
       "<pre style=\"white-space:pre;overflow-x:auto;line-height:normal;font-family:Menlo,'DejaVu Sans Mono',consolas,'Courier New',monospace\">18:37:44.951 | <span style=\"color: #008080; text-decoration-color: #008080\">INFO</span>    | Flow run<span style=\"color: #800080; text-decoration-color: #800080\"> 'big-barracuda'</span> - Created task run 'query_pool_snaps-60635b41-56' for task 'query_pool_snaps'\n",
       "</pre>\n"
      ],
      "text/plain": [
       "18:37:44.951 | \u001b[36mINFO\u001b[0m    | Flow run\u001b[35m 'big-barracuda'\u001b[0m - Created task run 'query_pool_snaps-60635b41-56' for task 'query_pool_snaps'\n"
      ]
     },
     "metadata": {},
     "output_type": "display_data"
    },
    {
     "data": {
      "text/html": [
       "<pre style=\"white-space:pre;overflow-x:auto;line-height:normal;font-family:Menlo,'DejaVu Sans Mono',consolas,'Courier New',monospace\">18:37:44.952 | <span style=\"color: #008080; text-decoration-color: #008080\">INFO</span>    | Flow run<span style=\"color: #800080; text-decoration-color: #800080\"> 'big-barracuda'</span> - Submitted task run 'query_pool_snaps-60635b41-56' for execution.\n",
       "</pre>\n"
      ],
      "text/plain": [
       "18:37:44.952 | \u001b[36mINFO\u001b[0m    | Flow run\u001b[35m 'big-barracuda'\u001b[0m - Submitted task run 'query_pool_snaps-60635b41-56' for execution.\n"
      ]
     },
     "metadata": {},
     "output_type": "display_data"
    },
    {
     "data": {
      "text/html": [
       "<pre style=\"white-space:pre;overflow-x:auto;line-height:normal;font-family:Menlo,'DejaVu Sans Mono',consolas,'Courier New',monospace\">18:37:44.961 | <span style=\"color: #008080; text-decoration-color: #008080\">INFO</span>    | Task run 'query_pool_vol-8bdd8db3-57' - Finished in state Cached(type=COMPLETED)\n",
       "</pre>\n"
      ],
      "text/plain": [
       "18:37:44.961 | \u001b[36mINFO\u001b[0m    | Task run 'query_pool_vol-8bdd8db3-57' - Finished in state Cached(type=COMPLETED)\n"
      ]
     },
     "metadata": {},
     "output_type": "display_data"
    },
    {
     "data": {
      "text/html": [
       "<pre style=\"white-space:pre;overflow-x:auto;line-height:normal;font-family:Menlo,'DejaVu Sans Mono',consolas,'Courier New',monospace\">18:37:44.962 | <span style=\"color: #008080; text-decoration-color: #008080\">INFO</span>    | Task run 'query_pool_snaps-60635b41-22' - Finished in state Cached(type=COMPLETED)\n",
       "</pre>\n"
      ],
      "text/plain": [
       "18:37:44.962 | \u001b[36mINFO\u001b[0m    | Task run 'query_pool_snaps-60635b41-22' - Finished in state Cached(type=COMPLETED)\n"
      ]
     },
     "metadata": {},
     "output_type": "display_data"
    },
    {
     "data": {
      "text/html": [
       "<pre style=\"white-space:pre;overflow-x:auto;line-height:normal;font-family:Menlo,'DejaVu Sans Mono',consolas,'Courier New',monospace\">18:37:44.972 | <span style=\"color: #008080; text-decoration-color: #008080\">INFO</span>    | Flow run<span style=\"color: #800080; text-decoration-color: #800080\"> 'big-barracuda'</span> - Created task run 'query_pool_vol-8bdd8db3-29' for task 'query_pool_vol'\n",
       "</pre>\n"
      ],
      "text/plain": [
       "18:37:44.972 | \u001b[36mINFO\u001b[0m    | Flow run\u001b[35m 'big-barracuda'\u001b[0m - Created task run 'query_pool_vol-8bdd8db3-29' for task 'query_pool_vol'\n"
      ]
     },
     "metadata": {},
     "output_type": "display_data"
    },
    {
     "data": {
      "text/html": [
       "<pre style=\"white-space:pre;overflow-x:auto;line-height:normal;font-family:Menlo,'DejaVu Sans Mono',consolas,'Courier New',monospace\">18:37:44.973 | <span style=\"color: #008080; text-decoration-color: #008080\">INFO</span>    | Flow run<span style=\"color: #800080; text-decoration-color: #800080\"> 'big-barracuda'</span> - Submitted task run 'query_pool_vol-8bdd8db3-29' for execution.\n",
       "</pre>\n"
      ],
      "text/plain": [
       "18:37:44.973 | \u001b[36mINFO\u001b[0m    | Flow run\u001b[35m 'big-barracuda'\u001b[0m - Submitted task run 'query_pool_vol-8bdd8db3-29' for execution.\n"
      ]
     },
     "metadata": {},
     "output_type": "display_data"
    },
    {
     "data": {
      "text/html": [
       "<pre style=\"white-space:pre;overflow-x:auto;line-height:normal;font-family:Menlo,'DejaVu Sans Mono',consolas,'Courier New',monospace\">18:37:44.978 | <span style=\"color: #008080; text-decoration-color: #008080\">INFO</span>    | Task run 'query_pool_snaps-60635b41-56' - Finished in state Cached(type=COMPLETED)\n",
       "</pre>\n"
      ],
      "text/plain": [
       "18:37:44.978 | \u001b[36mINFO\u001b[0m    | Task run 'query_pool_snaps-60635b41-56' - Finished in state Cached(type=COMPLETED)\n"
      ]
     },
     "metadata": {},
     "output_type": "display_data"
    },
    {
     "data": {
      "text/html": [
       "<pre style=\"white-space:pre;overflow-x:auto;line-height:normal;font-family:Menlo,'DejaVu Sans Mono',consolas,'Courier New',monospace\">18:37:44.983 | <span style=\"color: #008080; text-decoration-color: #008080\">INFO</span>    | Task run 'query_pool_vol-8bdd8db3-25' - Finished in state Cached(type=COMPLETED)\n",
       "</pre>\n"
      ],
      "text/plain": [
       "18:37:44.983 | \u001b[36mINFO\u001b[0m    | Task run 'query_pool_vol-8bdd8db3-25' - Finished in state Cached(type=COMPLETED)\n"
      ]
     },
     "metadata": {},
     "output_type": "display_data"
    },
    {
     "data": {
      "text/html": [
       "<pre style=\"white-space:pre;overflow-x:auto;line-height:normal;font-family:Menlo,'DejaVu Sans Mono',consolas,'Courier New',monospace\">18:37:44.989 | <span style=\"color: #008080; text-decoration-color: #008080\">INFO</span>    | Flow run<span style=\"color: #800080; text-decoration-color: #800080\"> 'big-barracuda'</span> - Created task run 'query_pool_snaps-60635b41-18' for task 'query_pool_snaps'\n",
       "</pre>\n"
      ],
      "text/plain": [
       "18:37:44.989 | \u001b[36mINFO\u001b[0m    | Flow run\u001b[35m 'big-barracuda'\u001b[0m - Created task run 'query_pool_snaps-60635b41-18' for task 'query_pool_snaps'\n"
      ]
     },
     "metadata": {},
     "output_type": "display_data"
    },
    {
     "data": {
      "text/html": [
       "<pre style=\"white-space:pre;overflow-x:auto;line-height:normal;font-family:Menlo,'DejaVu Sans Mono',consolas,'Courier New',monospace\">18:37:44.990 | <span style=\"color: #008080; text-decoration-color: #008080\">INFO</span>    | Flow run<span style=\"color: #800080; text-decoration-color: #800080\"> 'big-barracuda'</span> - Submitted task run 'query_pool_snaps-60635b41-18' for execution.\n",
       "</pre>\n"
      ],
      "text/plain": [
       "18:37:44.990 | \u001b[36mINFO\u001b[0m    | Flow run\u001b[35m 'big-barracuda'\u001b[0m - Submitted task run 'query_pool_snaps-60635b41-18' for execution.\n"
      ]
     },
     "metadata": {},
     "output_type": "display_data"
    },
    {
     "data": {
      "text/html": [
       "<pre style=\"white-space:pre;overflow-x:auto;line-height:normal;font-family:Menlo,'DejaVu Sans Mono',consolas,'Courier New',monospace\">18:37:44.996 | <span style=\"color: #008080; text-decoration-color: #008080\">INFO</span>    | Task run 'query_pool_snaps-60635b41-14' - Finished in state Cached(type=COMPLETED)\n",
       "</pre>\n"
      ],
      "text/plain": [
       "18:37:44.996 | \u001b[36mINFO\u001b[0m    | Task run 'query_pool_snaps-60635b41-14' - Finished in state Cached(type=COMPLETED)\n"
      ]
     },
     "metadata": {},
     "output_type": "display_data"
    },
    {
     "data": {
      "text/html": [
       "<pre style=\"white-space:pre;overflow-x:auto;line-height:normal;font-family:Menlo,'DejaVu Sans Mono',consolas,'Courier New',monospace\">18:37:45.000 | <span style=\"color: #008080; text-decoration-color: #008080\">INFO</span>    | Task run 'query_pool_snaps-60635b41-57' - Finished in state Cached(type=COMPLETED)\n",
       "</pre>\n"
      ],
      "text/plain": [
       "18:37:45.000 | \u001b[36mINFO\u001b[0m    | Task run 'query_pool_snaps-60635b41-57' - Finished in state Cached(type=COMPLETED)\n"
      ]
     },
     "metadata": {},
     "output_type": "display_data"
    },
    {
     "data": {
      "text/html": [
       "<pre style=\"white-space:pre;overflow-x:auto;line-height:normal;font-family:Menlo,'DejaVu Sans Mono',consolas,'Courier New',monospace\">18:37:45.006 | <span style=\"color: #008080; text-decoration-color: #008080\">INFO</span>    | Flow run<span style=\"color: #800080; text-decoration-color: #800080\"> 'big-barracuda'</span> - Created task run 'query_pool_vol-8bdd8db3-50' for task 'query_pool_vol'\n",
       "</pre>\n"
      ],
      "text/plain": [
       "18:37:45.006 | \u001b[36mINFO\u001b[0m    | Flow run\u001b[35m 'big-barracuda'\u001b[0m - Created task run 'query_pool_vol-8bdd8db3-50' for task 'query_pool_vol'\n"
      ]
     },
     "metadata": {},
     "output_type": "display_data"
    },
    {
     "data": {
      "text/html": [
       "<pre style=\"white-space:pre;overflow-x:auto;line-height:normal;font-family:Menlo,'DejaVu Sans Mono',consolas,'Courier New',monospace\">18:37:45.007 | <span style=\"color: #008080; text-decoration-color: #008080\">INFO</span>    | Flow run<span style=\"color: #800080; text-decoration-color: #800080\"> 'big-barracuda'</span> - Submitted task run 'query_pool_vol-8bdd8db3-50' for execution.\n",
       "</pre>\n"
      ],
      "text/plain": [
       "18:37:45.007 | \u001b[36mINFO\u001b[0m    | Flow run\u001b[35m 'big-barracuda'\u001b[0m - Submitted task run 'query_pool_vol-8bdd8db3-50' for execution.\n"
      ]
     },
     "metadata": {},
     "output_type": "display_data"
    },
    {
     "data": {
      "text/html": [
       "<pre style=\"white-space:pre;overflow-x:auto;line-height:normal;font-family:Menlo,'DejaVu Sans Mono',consolas,'Courier New',monospace\">18:37:45.013 | <span style=\"color: #008080; text-decoration-color: #008080\">INFO</span>    | Task run 'query_pool_snaps-60635b41-18' - Finished in state Cached(type=COMPLETED)\n",
       "</pre>\n"
      ],
      "text/plain": [
       "18:37:45.013 | \u001b[36mINFO\u001b[0m    | Task run 'query_pool_snaps-60635b41-18' - Finished in state Cached(type=COMPLETED)\n"
      ]
     },
     "metadata": {},
     "output_type": "display_data"
    },
    {
     "data": {
      "text/html": [
       "<pre style=\"white-space:pre;overflow-x:auto;line-height:normal;font-family:Menlo,'DejaVu Sans Mono',consolas,'Courier New',monospace\">18:37:45.020 | <span style=\"color: #008080; text-decoration-color: #008080\">INFO</span>    | Flow run<span style=\"color: #800080; text-decoration-color: #800080\"> 'big-barracuda'</span> - Created task run 'query_pool_snaps-60635b41-37' for task 'query_pool_snaps'\n",
       "</pre>\n"
      ],
      "text/plain": [
       "18:37:45.020 | \u001b[36mINFO\u001b[0m    | Flow run\u001b[35m 'big-barracuda'\u001b[0m - Created task run 'query_pool_snaps-60635b41-37' for task 'query_pool_snaps'\n"
      ]
     },
     "metadata": {},
     "output_type": "display_data"
    },
    {
     "data": {
      "text/html": [
       "<pre style=\"white-space:pre;overflow-x:auto;line-height:normal;font-family:Menlo,'DejaVu Sans Mono',consolas,'Courier New',monospace\">18:37:45.021 | <span style=\"color: #008080; text-decoration-color: #008080\">INFO</span>    | Flow run<span style=\"color: #800080; text-decoration-color: #800080\"> 'big-barracuda'</span> - Submitted task run 'query_pool_snaps-60635b41-37' for execution.\n",
       "</pre>\n"
      ],
      "text/plain": [
       "18:37:45.021 | \u001b[36mINFO\u001b[0m    | Flow run\u001b[35m 'big-barracuda'\u001b[0m - Submitted task run 'query_pool_snaps-60635b41-37' for execution.\n"
      ]
     },
     "metadata": {},
     "output_type": "display_data"
    },
    {
     "data": {
      "text/html": [
       "<pre style=\"white-space:pre;overflow-x:auto;line-height:normal;font-family:Menlo,'DejaVu Sans Mono',consolas,'Courier New',monospace\">18:37:45.029 | <span style=\"color: #008080; text-decoration-color: #008080\">INFO</span>    | Flow run<span style=\"color: #800080; text-decoration-color: #800080\"> 'big-barracuda'</span> - Created task run 'query_pool_snaps-60635b41-53' for task 'query_pool_snaps'\n",
       "</pre>\n"
      ],
      "text/plain": [
       "18:37:45.029 | \u001b[36mINFO\u001b[0m    | Flow run\u001b[35m 'big-barracuda'\u001b[0m - Created task run 'query_pool_snaps-60635b41-53' for task 'query_pool_snaps'\n"
      ]
     },
     "metadata": {},
     "output_type": "display_data"
    },
    {
     "data": {
      "text/html": [
       "<pre style=\"white-space:pre;overflow-x:auto;line-height:normal;font-family:Menlo,'DejaVu Sans Mono',consolas,'Courier New',monospace\">18:37:45.030 | <span style=\"color: #008080; text-decoration-color: #008080\">INFO</span>    | Flow run<span style=\"color: #800080; text-decoration-color: #800080\"> 'big-barracuda'</span> - Submitted task run 'query_pool_snaps-60635b41-53' for execution.\n",
       "</pre>\n"
      ],
      "text/plain": [
       "18:37:45.030 | \u001b[36mINFO\u001b[0m    | Flow run\u001b[35m 'big-barracuda'\u001b[0m - Submitted task run 'query_pool_snaps-60635b41-53' for execution.\n"
      ]
     },
     "metadata": {},
     "output_type": "display_data"
    },
    {
     "data": {
      "text/html": [
       "<pre style=\"white-space:pre;overflow-x:auto;line-height:normal;font-family:Menlo,'DejaVu Sans Mono',consolas,'Courier New',monospace\">18:37:45.041 | <span style=\"color: #008080; text-decoration-color: #008080\">INFO</span>    | Flow run<span style=\"color: #800080; text-decoration-color: #800080\"> 'big-barracuda'</span> - Created task run 'query_pool_vol-8bdd8db3-38' for task 'query_pool_vol'\n",
       "</pre>\n"
      ],
      "text/plain": [
       "18:37:45.041 | \u001b[36mINFO\u001b[0m    | Flow run\u001b[35m 'big-barracuda'\u001b[0m - Created task run 'query_pool_vol-8bdd8db3-38' for task 'query_pool_vol'\n"
      ]
     },
     "metadata": {},
     "output_type": "display_data"
    },
    {
     "data": {
      "text/html": [
       "<pre style=\"white-space:pre;overflow-x:auto;line-height:normal;font-family:Menlo,'DejaVu Sans Mono',consolas,'Courier New',monospace\">18:37:45.042 | <span style=\"color: #008080; text-decoration-color: #008080\">INFO</span>    | Flow run<span style=\"color: #800080; text-decoration-color: #800080\"> 'big-barracuda'</span> - Submitted task run 'query_pool_vol-8bdd8db3-38' for execution.\n",
       "</pre>\n"
      ],
      "text/plain": [
       "18:37:45.042 | \u001b[36mINFO\u001b[0m    | Flow run\u001b[35m 'big-barracuda'\u001b[0m - Submitted task run 'query_pool_vol-8bdd8db3-38' for execution.\n"
      ]
     },
     "metadata": {},
     "output_type": "display_data"
    },
    {
     "data": {
      "text/html": [
       "<pre style=\"white-space:pre;overflow-x:auto;line-height:normal;font-family:Menlo,'DejaVu Sans Mono',consolas,'Courier New',monospace\">18:37:45.051 | <span style=\"color: #008080; text-decoration-color: #008080\">INFO</span>    | Task run 'query_pool_snaps-60635b41-37' - Finished in state Cached(type=COMPLETED)\n",
       "</pre>\n"
      ],
      "text/plain": [
       "18:37:45.051 | \u001b[36mINFO\u001b[0m    | Task run 'query_pool_snaps-60635b41-37' - Finished in state Cached(type=COMPLETED)\n"
      ]
     },
     "metadata": {},
     "output_type": "display_data"
    },
    {
     "data": {
      "text/html": [
       "<pre style=\"white-space:pre;overflow-x:auto;line-height:normal;font-family:Menlo,'DejaVu Sans Mono',consolas,'Courier New',monospace\">18:37:45.058 | <span style=\"color: #008080; text-decoration-color: #008080\">INFO</span>    | Flow run<span style=\"color: #800080; text-decoration-color: #800080\"> 'big-barracuda'</span> - Created task run 'query_pool_snaps-60635b41-13' for task 'query_pool_snaps'\n",
       "</pre>\n"
      ],
      "text/plain": [
       "18:37:45.058 | \u001b[36mINFO\u001b[0m    | Flow run\u001b[35m 'big-barracuda'\u001b[0m - Created task run 'query_pool_snaps-60635b41-13' for task 'query_pool_snaps'\n"
      ]
     },
     "metadata": {},
     "output_type": "display_data"
    },
    {
     "data": {
      "text/html": [
       "<pre style=\"white-space:pre;overflow-x:auto;line-height:normal;font-family:Menlo,'DejaVu Sans Mono',consolas,'Courier New',monospace\">18:37:45.059 | <span style=\"color: #008080; text-decoration-color: #008080\">INFO</span>    | Flow run<span style=\"color: #800080; text-decoration-color: #800080\"> 'big-barracuda'</span> - Submitted task run 'query_pool_snaps-60635b41-13' for execution.\n",
       "</pre>\n"
      ],
      "text/plain": [
       "18:37:45.059 | \u001b[36mINFO\u001b[0m    | Flow run\u001b[35m 'big-barracuda'\u001b[0m - Submitted task run 'query_pool_snaps-60635b41-13' for execution.\n"
      ]
     },
     "metadata": {},
     "output_type": "display_data"
    },
    {
     "data": {
      "text/html": [
       "<pre style=\"white-space:pre;overflow-x:auto;line-height:normal;font-family:Menlo,'DejaVu Sans Mono',consolas,'Courier New',monospace\">18:37:45.064 | <span style=\"color: #008080; text-decoration-color: #008080\">INFO</span>    | Task run 'query_pool_vol-8bdd8db3-38' - Finished in state Cached(type=COMPLETED)\n",
       "</pre>\n"
      ],
      "text/plain": [
       "18:37:45.064 | \u001b[36mINFO\u001b[0m    | Task run 'query_pool_vol-8bdd8db3-38' - Finished in state Cached(type=COMPLETED)\n"
      ]
     },
     "metadata": {},
     "output_type": "display_data"
    },
    {
     "data": {
      "text/html": [
       "<pre style=\"white-space:pre;overflow-x:auto;line-height:normal;font-family:Menlo,'DejaVu Sans Mono',consolas,'Courier New',monospace\">18:37:45.071 | <span style=\"color: #008080; text-decoration-color: #008080\">INFO</span>    | Task run 'query_pool_snaps-60635b41-13' - Finished in state Cached(type=COMPLETED)\n",
       "</pre>\n"
      ],
      "text/plain": [
       "18:37:45.071 | \u001b[36mINFO\u001b[0m    | Task run 'query_pool_snaps-60635b41-13' - Finished in state Cached(type=COMPLETED)\n"
      ]
     },
     "metadata": {},
     "output_type": "display_data"
    },
    {
     "data": {
      "text/html": [
       "<pre style=\"white-space:pre;overflow-x:auto;line-height:normal;font-family:Menlo,'DejaVu Sans Mono',consolas,'Courier New',monospace\">18:37:45.076 | <span style=\"color: #008080; text-decoration-color: #008080\">INFO</span>    | Flow run<span style=\"color: #800080; text-decoration-color: #800080\"> 'big-barracuda'</span> - Created task run 'query_pool_snaps-60635b41-31' for task 'query_pool_snaps'\n",
       "</pre>\n"
      ],
      "text/plain": [
       "18:37:45.076 | \u001b[36mINFO\u001b[0m    | Flow run\u001b[35m 'big-barracuda'\u001b[0m - Created task run 'query_pool_snaps-60635b41-31' for task 'query_pool_snaps'\n"
      ]
     },
     "metadata": {},
     "output_type": "display_data"
    },
    {
     "data": {
      "text/html": [
       "<pre style=\"white-space:pre;overflow-x:auto;line-height:normal;font-family:Menlo,'DejaVu Sans Mono',consolas,'Courier New',monospace\">18:37:45.077 | <span style=\"color: #008080; text-decoration-color: #008080\">INFO</span>    | Flow run<span style=\"color: #800080; text-decoration-color: #800080\"> 'big-barracuda'</span> - Submitted task run 'query_pool_snaps-60635b41-31' for execution.\n",
       "</pre>\n"
      ],
      "text/plain": [
       "18:37:45.077 | \u001b[36mINFO\u001b[0m    | Flow run\u001b[35m 'big-barracuda'\u001b[0m - Submitted task run 'query_pool_snaps-60635b41-31' for execution.\n"
      ]
     },
     "metadata": {},
     "output_type": "display_data"
    },
    {
     "data": {
      "text/html": [
       "<pre style=\"white-space:pre;overflow-x:auto;line-height:normal;font-family:Menlo,'DejaVu Sans Mono',consolas,'Courier New',monospace\">18:37:45.085 | <span style=\"color: #008080; text-decoration-color: #008080\">INFO</span>    | Flow run<span style=\"color: #800080; text-decoration-color: #800080\"> 'big-barracuda'</span> - Created task run 'query_pool_snaps-60635b41-32' for task 'query_pool_snaps'\n",
       "</pre>\n"
      ],
      "text/plain": [
       "18:37:45.085 | \u001b[36mINFO\u001b[0m    | Flow run\u001b[35m 'big-barracuda'\u001b[0m - Created task run 'query_pool_snaps-60635b41-32' for task 'query_pool_snaps'\n"
      ]
     },
     "metadata": {},
     "output_type": "display_data"
    },
    {
     "data": {
      "text/html": [
       "<pre style=\"white-space:pre;overflow-x:auto;line-height:normal;font-family:Menlo,'DejaVu Sans Mono',consolas,'Courier New',monospace\">18:37:45.086 | <span style=\"color: #008080; text-decoration-color: #008080\">INFO</span>    | Flow run<span style=\"color: #800080; text-decoration-color: #800080\"> 'big-barracuda'</span> - Submitted task run 'query_pool_snaps-60635b41-32' for execution.\n",
       "</pre>\n"
      ],
      "text/plain": [
       "18:37:45.086 | \u001b[36mINFO\u001b[0m    | Flow run\u001b[35m 'big-barracuda'\u001b[0m - Submitted task run 'query_pool_snaps-60635b41-32' for execution.\n"
      ]
     },
     "metadata": {},
     "output_type": "display_data"
    },
    {
     "data": {
      "text/html": [
       "<pre style=\"white-space:pre;overflow-x:auto;line-height:normal;font-family:Menlo,'DejaVu Sans Mono',consolas,'Courier New',monospace\">18:37:45.093 | <span style=\"color: #008080; text-decoration-color: #008080\">INFO</span>    | Task run 'query_pool_snaps-60635b41-24' - Finished in state Cached(type=COMPLETED)\n",
       "</pre>\n"
      ],
      "text/plain": [
       "18:37:45.093 | \u001b[36mINFO\u001b[0m    | Task run 'query_pool_snaps-60635b41-24' - Finished in state Cached(type=COMPLETED)\n"
      ]
     },
     "metadata": {},
     "output_type": "display_data"
    },
    {
     "data": {
      "text/html": [
       "<pre style=\"white-space:pre;overflow-x:auto;line-height:normal;font-family:Menlo,'DejaVu Sans Mono',consolas,'Courier New',monospace\">18:37:45.100 | <span style=\"color: #008080; text-decoration-color: #008080\">INFO</span>    | Task run 'query_pool_snaps-60635b41-31' - Finished in state Cached(type=COMPLETED)\n",
       "</pre>\n"
      ],
      "text/plain": [
       "18:37:45.100 | \u001b[36mINFO\u001b[0m    | Task run 'query_pool_snaps-60635b41-31' - Finished in state Cached(type=COMPLETED)\n"
      ]
     },
     "metadata": {},
     "output_type": "display_data"
    },
    {
     "data": {
      "text/html": [
       "<pre style=\"white-space:pre;overflow-x:auto;line-height:normal;font-family:Menlo,'DejaVu Sans Mono',consolas,'Courier New',monospace\">18:37:45.104 | <span style=\"color: #008080; text-decoration-color: #008080\">INFO</span>    | Flow run<span style=\"color: #800080; text-decoration-color: #800080\"> 'big-barracuda'</span> - Created task run 'query_pool_snaps-60635b41-35' for task 'query_pool_snaps'\n",
       "</pre>\n"
      ],
      "text/plain": [
       "18:37:45.104 | \u001b[36mINFO\u001b[0m    | Flow run\u001b[35m 'big-barracuda'\u001b[0m - Created task run 'query_pool_snaps-60635b41-35' for task 'query_pool_snaps'\n"
      ]
     },
     "metadata": {},
     "output_type": "display_data"
    },
    {
     "data": {
      "text/html": [
       "<pre style=\"white-space:pre;overflow-x:auto;line-height:normal;font-family:Menlo,'DejaVu Sans Mono',consolas,'Courier New',monospace\">18:37:45.105 | <span style=\"color: #008080; text-decoration-color: #008080\">INFO</span>    | Flow run<span style=\"color: #800080; text-decoration-color: #800080\"> 'big-barracuda'</span> - Submitted task run 'query_pool_snaps-60635b41-35' for execution.\n",
       "</pre>\n"
      ],
      "text/plain": [
       "18:37:45.105 | \u001b[36mINFO\u001b[0m    | Flow run\u001b[35m 'big-barracuda'\u001b[0m - Submitted task run 'query_pool_snaps-60635b41-35' for execution.\n"
      ]
     },
     "metadata": {},
     "output_type": "display_data"
    },
    {
     "data": {
      "text/html": [
       "<pre style=\"white-space:pre;overflow-x:auto;line-height:normal;font-family:Menlo,'DejaVu Sans Mono',consolas,'Courier New',monospace\">18:37:45.113 | <span style=\"color: #008080; text-decoration-color: #008080\">INFO</span>    | Flow run<span style=\"color: #800080; text-decoration-color: #800080\"> 'big-barracuda'</span> - Created task run 'query_pool_snaps-60635b41-19' for task 'query_pool_snaps'\n",
       "</pre>\n"
      ],
      "text/plain": [
       "18:37:45.113 | \u001b[36mINFO\u001b[0m    | Flow run\u001b[35m 'big-barracuda'\u001b[0m - Created task run 'query_pool_snaps-60635b41-19' for task 'query_pool_snaps'\n"
      ]
     },
     "metadata": {},
     "output_type": "display_data"
    },
    {
     "data": {
      "text/html": [
       "<pre style=\"white-space:pre;overflow-x:auto;line-height:normal;font-family:Menlo,'DejaVu Sans Mono',consolas,'Courier New',monospace\">18:37:45.114 | <span style=\"color: #008080; text-decoration-color: #008080\">INFO</span>    | Flow run<span style=\"color: #800080; text-decoration-color: #800080\"> 'big-barracuda'</span> - Submitted task run 'query_pool_snaps-60635b41-19' for execution.\n",
       "</pre>\n"
      ],
      "text/plain": [
       "18:37:45.114 | \u001b[36mINFO\u001b[0m    | Flow run\u001b[35m 'big-barracuda'\u001b[0m - Submitted task run 'query_pool_snaps-60635b41-19' for execution.\n"
      ]
     },
     "metadata": {},
     "output_type": "display_data"
    },
    {
     "data": {
      "text/html": [
       "<pre style=\"white-space:pre;overflow-x:auto;line-height:normal;font-family:Menlo,'DejaVu Sans Mono',consolas,'Courier New',monospace\">18:37:45.122 | <span style=\"color: #008080; text-decoration-color: #008080\">INFO</span>    | Task run 'query_pool_snaps-60635b41-53' - Finished in state Cached(type=COMPLETED)\n",
       "</pre>\n"
      ],
      "text/plain": [
       "18:37:45.122 | \u001b[36mINFO\u001b[0m    | Task run 'query_pool_snaps-60635b41-53' - Finished in state Cached(type=COMPLETED)\n"
      ]
     },
     "metadata": {},
     "output_type": "display_data"
    },
    {
     "data": {
      "text/html": [
       "<pre style=\"white-space:pre;overflow-x:auto;line-height:normal;font-family:Menlo,'DejaVu Sans Mono',consolas,'Courier New',monospace\">18:37:45.126 | <span style=\"color: #008080; text-decoration-color: #008080\">INFO</span>    | Task run 'query_pool_snaps-60635b41-32' - Finished in state Cached(type=COMPLETED)\n",
       "</pre>\n"
      ],
      "text/plain": [
       "18:37:45.126 | \u001b[36mINFO\u001b[0m    | Task run 'query_pool_snaps-60635b41-32' - Finished in state Cached(type=COMPLETED)\n"
      ]
     },
     "metadata": {},
     "output_type": "display_data"
    },
    {
     "data": {
      "text/html": [
       "<pre style=\"white-space:pre;overflow-x:auto;line-height:normal;font-family:Menlo,'DejaVu Sans Mono',consolas,'Courier New',monospace\">18:37:45.132 | <span style=\"color: #008080; text-decoration-color: #008080\">INFO</span>    | Flow run<span style=\"color: #800080; text-decoration-color: #800080\"> 'big-barracuda'</span> - Created task run 'query_pool_snaps-60635b41-27' for task 'query_pool_snaps'\n",
       "</pre>\n"
      ],
      "text/plain": [
       "18:37:45.132 | \u001b[36mINFO\u001b[0m    | Flow run\u001b[35m 'big-barracuda'\u001b[0m - Created task run 'query_pool_snaps-60635b41-27' for task 'query_pool_snaps'\n"
      ]
     },
     "metadata": {},
     "output_type": "display_data"
    },
    {
     "data": {
      "text/html": [
       "<pre style=\"white-space:pre;overflow-x:auto;line-height:normal;font-family:Menlo,'DejaVu Sans Mono',consolas,'Courier New',monospace\">18:37:45.133 | <span style=\"color: #008080; text-decoration-color: #008080\">INFO</span>    | Flow run<span style=\"color: #800080; text-decoration-color: #800080\"> 'big-barracuda'</span> - Submitted task run 'query_pool_snaps-60635b41-27' for execution.\n",
       "</pre>\n"
      ],
      "text/plain": [
       "18:37:45.133 | \u001b[36mINFO\u001b[0m    | Flow run\u001b[35m 'big-barracuda'\u001b[0m - Submitted task run 'query_pool_snaps-60635b41-27' for execution.\n"
      ]
     },
     "metadata": {},
     "output_type": "display_data"
    },
    {
     "data": {
      "text/html": [
       "<pre style=\"white-space:pre;overflow-x:auto;line-height:normal;font-family:Menlo,'DejaVu Sans Mono',consolas,'Courier New',monospace\">18:37:45.139 | <span style=\"color: #008080; text-decoration-color: #008080\">INFO</span>    | Task run 'query_pool_snaps-60635b41-19' - Finished in state Cached(type=COMPLETED)\n",
       "</pre>\n"
      ],
      "text/plain": [
       "18:37:45.139 | \u001b[36mINFO\u001b[0m    | Task run 'query_pool_snaps-60635b41-19' - Finished in state Cached(type=COMPLETED)\n"
      ]
     },
     "metadata": {},
     "output_type": "display_data"
    },
    {
     "data": {
      "text/html": [
       "<pre style=\"white-space:pre;overflow-x:auto;line-height:normal;font-family:Menlo,'DejaVu Sans Mono',consolas,'Courier New',monospace\">18:37:45.146 | <span style=\"color: #008080; text-decoration-color: #008080\">INFO</span>    | Flow run<span style=\"color: #800080; text-decoration-color: #800080\"> 'big-barracuda'</span> - Created task run 'query_pool_snaps-60635b41-11' for task 'query_pool_snaps'\n",
       "</pre>\n"
      ],
      "text/plain": [
       "18:37:45.146 | \u001b[36mINFO\u001b[0m    | Flow run\u001b[35m 'big-barracuda'\u001b[0m - Created task run 'query_pool_snaps-60635b41-11' for task 'query_pool_snaps'\n"
      ]
     },
     "metadata": {},
     "output_type": "display_data"
    },
    {
     "data": {
      "text/html": [
       "<pre style=\"white-space:pre;overflow-x:auto;line-height:normal;font-family:Menlo,'DejaVu Sans Mono',consolas,'Courier New',monospace\">18:37:45.147 | <span style=\"color: #008080; text-decoration-color: #008080\">INFO</span>    | Flow run<span style=\"color: #800080; text-decoration-color: #800080\"> 'big-barracuda'</span> - Submitted task run 'query_pool_snaps-60635b41-11' for execution.\n",
       "</pre>\n"
      ],
      "text/plain": [
       "18:37:45.147 | \u001b[36mINFO\u001b[0m    | Flow run\u001b[35m 'big-barracuda'\u001b[0m - Submitted task run 'query_pool_snaps-60635b41-11' for execution.\n"
      ]
     },
     "metadata": {},
     "output_type": "display_data"
    },
    {
     "data": {
      "text/html": [
       "<pre style=\"white-space:pre;overflow-x:auto;line-height:normal;font-family:Menlo,'DejaVu Sans Mono',consolas,'Courier New',monospace\">18:37:45.155 | <span style=\"color: #008080; text-decoration-color: #008080\">INFO</span>    | Flow run<span style=\"color: #800080; text-decoration-color: #800080\"> 'big-barracuda'</span> - Created task run 'query_pool_snaps-60635b41-12' for task 'query_pool_snaps'\n",
       "</pre>\n"
      ],
      "text/plain": [
       "18:37:45.155 | \u001b[36mINFO\u001b[0m    | Flow run\u001b[35m 'big-barracuda'\u001b[0m - Created task run 'query_pool_snaps-60635b41-12' for task 'query_pool_snaps'\n"
      ]
     },
     "metadata": {},
     "output_type": "display_data"
    },
    {
     "data": {
      "text/html": [
       "<pre style=\"white-space:pre;overflow-x:auto;line-height:normal;font-family:Menlo,'DejaVu Sans Mono',consolas,'Courier New',monospace\">18:37:45.155 | <span style=\"color: #008080; text-decoration-color: #008080\">INFO</span>    | Flow run<span style=\"color: #800080; text-decoration-color: #800080\"> 'big-barracuda'</span> - Submitted task run 'query_pool_snaps-60635b41-12' for execution.\n",
       "</pre>\n"
      ],
      "text/plain": [
       "18:37:45.155 | \u001b[36mINFO\u001b[0m    | Flow run\u001b[35m 'big-barracuda'\u001b[0m - Submitted task run 'query_pool_snaps-60635b41-12' for execution.\n"
      ]
     },
     "metadata": {},
     "output_type": "display_data"
    },
    {
     "data": {
      "text/html": [
       "<pre style=\"white-space:pre;overflow-x:auto;line-height:normal;font-family:Menlo,'DejaVu Sans Mono',consolas,'Courier New',monospace\">18:37:45.167 | <span style=\"color: #008080; text-decoration-color: #008080\">INFO</span>    | Flow run<span style=\"color: #800080; text-decoration-color: #800080\"> 'big-barracuda'</span> - Created task run 'query_pool_vol-8bdd8db3-12' for task 'query_pool_vol'\n",
       "</pre>\n"
      ],
      "text/plain": [
       "18:37:45.167 | \u001b[36mINFO\u001b[0m    | Flow run\u001b[35m 'big-barracuda'\u001b[0m - Created task run 'query_pool_vol-8bdd8db3-12' for task 'query_pool_vol'\n"
      ]
     },
     "metadata": {},
     "output_type": "display_data"
    },
    {
     "data": {
      "text/html": [
       "<pre style=\"white-space:pre;overflow-x:auto;line-height:normal;font-family:Menlo,'DejaVu Sans Mono',consolas,'Courier New',monospace\">18:37:45.167 | <span style=\"color: #008080; text-decoration-color: #008080\">INFO</span>    | Flow run<span style=\"color: #800080; text-decoration-color: #800080\"> 'big-barracuda'</span> - Submitted task run 'query_pool_vol-8bdd8db3-12' for execution.\n",
       "</pre>\n"
      ],
      "text/plain": [
       "18:37:45.167 | \u001b[36mINFO\u001b[0m    | Flow run\u001b[35m 'big-barracuda'\u001b[0m - Submitted task run 'query_pool_vol-8bdd8db3-12' for execution.\n"
      ]
     },
     "metadata": {},
     "output_type": "display_data"
    },
    {
     "data": {
      "text/html": [
       "<pre style=\"white-space:pre;overflow-x:auto;line-height:normal;font-family:Menlo,'DejaVu Sans Mono',consolas,'Courier New',monospace\">18:37:45.175 | <span style=\"color: #008080; text-decoration-color: #008080\">INFO</span>    | Task run 'query_pool_snaps-60635b41-11' - Finished in state Cached(type=COMPLETED)\n",
       "</pre>\n"
      ],
      "text/plain": [
       "18:37:45.175 | \u001b[36mINFO\u001b[0m    | Task run 'query_pool_snaps-60635b41-11' - Finished in state Cached(type=COMPLETED)\n"
      ]
     },
     "metadata": {},
     "output_type": "display_data"
    },
    {
     "data": {
      "text/html": [
       "<pre style=\"white-space:pre;overflow-x:auto;line-height:normal;font-family:Menlo,'DejaVu Sans Mono',consolas,'Courier New',monospace\">18:37:45.178 | <span style=\"color: #008080; text-decoration-color: #008080\">INFO</span>    | Task run 'query_pool_snaps-60635b41-12' - Finished in state Cached(type=COMPLETED)\n",
       "</pre>\n"
      ],
      "text/plain": [
       "18:37:45.178 | \u001b[36mINFO\u001b[0m    | Task run 'query_pool_snaps-60635b41-12' - Finished in state Cached(type=COMPLETED)\n"
      ]
     },
     "metadata": {},
     "output_type": "display_data"
    },
    {
     "data": {
      "text/html": [
       "<pre style=\"white-space:pre;overflow-x:auto;line-height:normal;font-family:Menlo,'DejaVu Sans Mono',consolas,'Courier New',monospace\">18:37:45.185 | <span style=\"color: #008080; text-decoration-color: #008080\">INFO</span>    | Flow run<span style=\"color: #800080; text-decoration-color: #800080\"> 'big-barracuda'</span> - Created task run 'query_pool_vol-8bdd8db3-31' for task 'query_pool_vol'\n",
       "</pre>\n"
      ],
      "text/plain": [
       "18:37:45.185 | \u001b[36mINFO\u001b[0m    | Flow run\u001b[35m 'big-barracuda'\u001b[0m - Created task run 'query_pool_vol-8bdd8db3-31' for task 'query_pool_vol'\n"
      ]
     },
     "metadata": {},
     "output_type": "display_data"
    },
    {
     "data": {
      "text/html": [
       "<pre style=\"white-space:pre;overflow-x:auto;line-height:normal;font-family:Menlo,'DejaVu Sans Mono',consolas,'Courier New',monospace\">18:37:45.186 | <span style=\"color: #008080; text-decoration-color: #008080\">INFO</span>    | Flow run<span style=\"color: #800080; text-decoration-color: #800080\"> 'big-barracuda'</span> - Submitted task run 'query_pool_vol-8bdd8db3-31' for execution.\n",
       "</pre>\n"
      ],
      "text/plain": [
       "18:37:45.186 | \u001b[36mINFO\u001b[0m    | Flow run\u001b[35m 'big-barracuda'\u001b[0m - Submitted task run 'query_pool_vol-8bdd8db3-31' for execution.\n"
      ]
     },
     "metadata": {},
     "output_type": "display_data"
    },
    {
     "data": {
      "text/html": [
       "<pre style=\"white-space:pre;overflow-x:auto;line-height:normal;font-family:Menlo,'DejaVu Sans Mono',consolas,'Courier New',monospace\">18:37:45.192 | <span style=\"color: #008080; text-decoration-color: #008080\">INFO</span>    | Task run 'query_pool_vol-8bdd8db3-12' - Finished in state Cached(type=COMPLETED)\n",
       "</pre>\n"
      ],
      "text/plain": [
       "18:37:45.192 | \u001b[36mINFO\u001b[0m    | Task run 'query_pool_vol-8bdd8db3-12' - Finished in state Cached(type=COMPLETED)\n"
      ]
     },
     "metadata": {},
     "output_type": "display_data"
    },
    {
     "data": {
      "text/html": [
       "<pre style=\"white-space:pre;overflow-x:auto;line-height:normal;font-family:Menlo,'DejaVu Sans Mono',consolas,'Courier New',monospace\">18:37:45.199 | <span style=\"color: #008080; text-decoration-color: #008080\">INFO</span>    | Flow run<span style=\"color: #800080; text-decoration-color: #800080\"> 'big-barracuda'</span> - Created task run 'query_pool_snaps-60635b41-50' for task 'query_pool_snaps'\n",
       "</pre>\n"
      ],
      "text/plain": [
       "18:37:45.199 | \u001b[36mINFO\u001b[0m    | Flow run\u001b[35m 'big-barracuda'\u001b[0m - Created task run 'query_pool_snaps-60635b41-50' for task 'query_pool_snaps'\n"
      ]
     },
     "metadata": {},
     "output_type": "display_data"
    },
    {
     "data": {
      "text/html": [
       "<pre style=\"white-space:pre;overflow-x:auto;line-height:normal;font-family:Menlo,'DejaVu Sans Mono',consolas,'Courier New',monospace\">18:37:45.200 | <span style=\"color: #008080; text-decoration-color: #008080\">INFO</span>    | Flow run<span style=\"color: #800080; text-decoration-color: #800080\"> 'big-barracuda'</span> - Submitted task run 'query_pool_snaps-60635b41-50' for execution.\n",
       "</pre>\n"
      ],
      "text/plain": [
       "18:37:45.200 | \u001b[36mINFO\u001b[0m    | Flow run\u001b[35m 'big-barracuda'\u001b[0m - Submitted task run 'query_pool_snaps-60635b41-50' for execution.\n"
      ]
     },
     "metadata": {},
     "output_type": "display_data"
    },
    {
     "data": {
      "text/html": [
       "<pre style=\"white-space:pre;overflow-x:auto;line-height:normal;font-family:Menlo,'DejaVu Sans Mono',consolas,'Courier New',monospace\">18:37:45.206 | <span style=\"color: #008080; text-decoration-color: #008080\">INFO</span>    | Task run 'query_pool_vol-8bdd8db3-31' - Finished in state Cached(type=COMPLETED)\n",
       "</pre>\n"
      ],
      "text/plain": [
       "18:37:45.206 | \u001b[36mINFO\u001b[0m    | Task run 'query_pool_vol-8bdd8db3-31' - Finished in state Cached(type=COMPLETED)\n"
      ]
     },
     "metadata": {},
     "output_type": "display_data"
    },
    {
     "data": {
      "text/html": [
       "<pre style=\"white-space:pre;overflow-x:auto;line-height:normal;font-family:Menlo,'DejaVu Sans Mono',consolas,'Courier New',monospace\">18:37:45.213 | <span style=\"color: #008080; text-decoration-color: #008080\">INFO</span>    | Flow run<span style=\"color: #800080; text-decoration-color: #800080\"> 'big-barracuda'</span> - Created task run 'query_pool_vol-8bdd8db3-19' for task 'query_pool_vol'\n",
       "</pre>\n"
      ],
      "text/plain": [
       "18:37:45.213 | \u001b[36mINFO\u001b[0m    | Flow run\u001b[35m 'big-barracuda'\u001b[0m - Created task run 'query_pool_vol-8bdd8db3-19' for task 'query_pool_vol'\n"
      ]
     },
     "metadata": {},
     "output_type": "display_data"
    },
    {
     "data": {
      "text/html": [
       "<pre style=\"white-space:pre;overflow-x:auto;line-height:normal;font-family:Menlo,'DejaVu Sans Mono',consolas,'Courier New',monospace\">18:37:45.214 | <span style=\"color: #008080; text-decoration-color: #008080\">INFO</span>    | Flow run<span style=\"color: #800080; text-decoration-color: #800080\"> 'big-barracuda'</span> - Submitted task run 'query_pool_vol-8bdd8db3-19' for execution.\n",
       "</pre>\n"
      ],
      "text/plain": [
       "18:37:45.214 | \u001b[36mINFO\u001b[0m    | Flow run\u001b[35m 'big-barracuda'\u001b[0m - Submitted task run 'query_pool_vol-8bdd8db3-19' for execution.\n"
      ]
     },
     "metadata": {},
     "output_type": "display_data"
    },
    {
     "data": {
      "text/html": [
       "<pre style=\"white-space:pre;overflow-x:auto;line-height:normal;font-family:Menlo,'DejaVu Sans Mono',consolas,'Courier New',monospace\">18:37:45.219 | <span style=\"color: #008080; text-decoration-color: #008080\">INFO</span>    | Task run 'query_pool_snaps-60635b41-50' - Finished in state Cached(type=COMPLETED)\n",
       "</pre>\n"
      ],
      "text/plain": [
       "18:37:45.219 | \u001b[36mINFO\u001b[0m    | Task run 'query_pool_snaps-60635b41-50' - Finished in state Cached(type=COMPLETED)\n"
      ]
     },
     "metadata": {},
     "output_type": "display_data"
    },
    {
     "data": {
      "text/html": [
       "<pre style=\"white-space:pre;overflow-x:auto;line-height:normal;font-family:Menlo,'DejaVu Sans Mono',consolas,'Courier New',monospace\">18:37:45.226 | <span style=\"color: #008080; text-decoration-color: #008080\">INFO</span>    | Flow run<span style=\"color: #800080; text-decoration-color: #800080\"> 'big-barracuda'</span> - Created task run 'query_pool_snaps-60635b41-36' for task 'query_pool_snaps'\n",
       "</pre>\n"
      ],
      "text/plain": [
       "18:37:45.226 | \u001b[36mINFO\u001b[0m    | Flow run\u001b[35m 'big-barracuda'\u001b[0m - Created task run 'query_pool_snaps-60635b41-36' for task 'query_pool_snaps'\n"
      ]
     },
     "metadata": {},
     "output_type": "display_data"
    },
    {
     "data": {
      "text/html": [
       "<pre style=\"white-space:pre;overflow-x:auto;line-height:normal;font-family:Menlo,'DejaVu Sans Mono',consolas,'Courier New',monospace\">18:37:45.227 | <span style=\"color: #008080; text-decoration-color: #008080\">INFO</span>    | Flow run<span style=\"color: #800080; text-decoration-color: #800080\"> 'big-barracuda'</span> - Submitted task run 'query_pool_snaps-60635b41-36' for execution.\n",
       "</pre>\n"
      ],
      "text/plain": [
       "18:37:45.227 | \u001b[36mINFO\u001b[0m    | Flow run\u001b[35m 'big-barracuda'\u001b[0m - Submitted task run 'query_pool_snaps-60635b41-36' for execution.\n"
      ]
     },
     "metadata": {},
     "output_type": "display_data"
    },
    {
     "data": {
      "text/html": [
       "<pre style=\"white-space:pre;overflow-x:auto;line-height:normal;font-family:Menlo,'DejaVu Sans Mono',consolas,'Courier New',monospace\">18:37:45.233 | <span style=\"color: #008080; text-decoration-color: #008080\">INFO</span>    | Task run 'query_pool_vol-8bdd8db3-19' - Finished in state Cached(type=COMPLETED)\n",
       "</pre>\n"
      ],
      "text/plain": [
       "18:37:45.233 | \u001b[36mINFO\u001b[0m    | Task run 'query_pool_vol-8bdd8db3-19' - Finished in state Cached(type=COMPLETED)\n"
      ]
     },
     "metadata": {},
     "output_type": "display_data"
    },
    {
     "data": {
      "text/html": [
       "<pre style=\"white-space:pre;overflow-x:auto;line-height:normal;font-family:Menlo,'DejaVu Sans Mono',consolas,'Courier New',monospace\">18:37:45.239 | <span style=\"color: #008080; text-decoration-color: #008080\">INFO</span>    | Task run 'query_pool_snaps-60635b41-27' - Finished in state Cached(type=COMPLETED)\n",
       "</pre>\n"
      ],
      "text/plain": [
       "18:37:45.239 | \u001b[36mINFO\u001b[0m    | Task run 'query_pool_snaps-60635b41-27' - Finished in state Cached(type=COMPLETED)\n"
      ]
     },
     "metadata": {},
     "output_type": "display_data"
    },
    {
     "data": {
      "text/html": [
       "<pre style=\"white-space:pre;overflow-x:auto;line-height:normal;font-family:Menlo,'DejaVu Sans Mono',consolas,'Courier New',monospace\">18:37:45.245 | <span style=\"color: #008080; text-decoration-color: #008080\">INFO</span>    | Flow run<span style=\"color: #800080; text-decoration-color: #800080\"> 'big-barracuda'</span> - Created task run 'query_pool_vol-8bdd8db3-26' for task 'query_pool_vol'\n",
       "</pre>\n"
      ],
      "text/plain": [
       "18:37:45.245 | \u001b[36mINFO\u001b[0m    | Flow run\u001b[35m 'big-barracuda'\u001b[0m - Created task run 'query_pool_vol-8bdd8db3-26' for task 'query_pool_vol'\n"
      ]
     },
     "metadata": {},
     "output_type": "display_data"
    },
    {
     "data": {
      "text/html": [
       "<pre style=\"white-space:pre;overflow-x:auto;line-height:normal;font-family:Menlo,'DejaVu Sans Mono',consolas,'Courier New',monospace\">18:37:45.245 | <span style=\"color: #008080; text-decoration-color: #008080\">INFO</span>    | Flow run<span style=\"color: #800080; text-decoration-color: #800080\"> 'big-barracuda'</span> - Submitted task run 'query_pool_vol-8bdd8db3-26' for execution.\n",
       "</pre>\n"
      ],
      "text/plain": [
       "18:37:45.245 | \u001b[36mINFO\u001b[0m    | Flow run\u001b[35m 'big-barracuda'\u001b[0m - Submitted task run 'query_pool_vol-8bdd8db3-26' for execution.\n"
      ]
     },
     "metadata": {},
     "output_type": "display_data"
    },
    {
     "data": {
      "text/html": [
       "<pre style=\"white-space:pre;overflow-x:auto;line-height:normal;font-family:Menlo,'DejaVu Sans Mono',consolas,'Courier New',monospace\">18:37:45.254 | <span style=\"color: #008080; text-decoration-color: #008080\">INFO</span>    | Flow run<span style=\"color: #800080; text-decoration-color: #800080\"> 'big-barracuda'</span> - Created task run 'query_pool_snaps-60635b41-28' for task 'query_pool_snaps'\n",
       "</pre>\n"
      ],
      "text/plain": [
       "18:37:45.254 | \u001b[36mINFO\u001b[0m    | Flow run\u001b[35m 'big-barracuda'\u001b[0m - Created task run 'query_pool_snaps-60635b41-28' for task 'query_pool_snaps'\n"
      ]
     },
     "metadata": {},
     "output_type": "display_data"
    },
    {
     "data": {
      "text/html": [
       "<pre style=\"white-space:pre;overflow-x:auto;line-height:normal;font-family:Menlo,'DejaVu Sans Mono',consolas,'Courier New',monospace\">18:37:45.255 | <span style=\"color: #008080; text-decoration-color: #008080\">INFO</span>    | Flow run<span style=\"color: #800080; text-decoration-color: #800080\"> 'big-barracuda'</span> - Submitted task run 'query_pool_snaps-60635b41-28' for execution.\n",
       "</pre>\n"
      ],
      "text/plain": [
       "18:37:45.255 | \u001b[36mINFO\u001b[0m    | Flow run\u001b[35m 'big-barracuda'\u001b[0m - Submitted task run 'query_pool_snaps-60635b41-28' for execution.\n"
      ]
     },
     "metadata": {},
     "output_type": "display_data"
    },
    {
     "data": {
      "text/html": [
       "<pre style=\"white-space:pre;overflow-x:auto;line-height:normal;font-family:Menlo,'DejaVu Sans Mono',consolas,'Courier New',monospace\">18:37:45.265 | <span style=\"color: #008080; text-decoration-color: #008080\">INFO</span>    | Flow run<span style=\"color: #800080; text-decoration-color: #800080\"> 'big-barracuda'</span> - Created task run 'query_pool_vol-8bdd8db3-58' for task 'query_pool_vol'\n",
       "</pre>\n"
      ],
      "text/plain": [
       "18:37:45.265 | \u001b[36mINFO\u001b[0m    | Flow run\u001b[35m 'big-barracuda'\u001b[0m - Created task run 'query_pool_vol-8bdd8db3-58' for task 'query_pool_vol'\n"
      ]
     },
     "metadata": {},
     "output_type": "display_data"
    },
    {
     "data": {
      "text/html": [
       "<pre style=\"white-space:pre;overflow-x:auto;line-height:normal;font-family:Menlo,'DejaVu Sans Mono',consolas,'Courier New',monospace\">18:37:45.266 | <span style=\"color: #008080; text-decoration-color: #008080\">INFO</span>    | Flow run<span style=\"color: #800080; text-decoration-color: #800080\"> 'big-barracuda'</span> - Submitted task run 'query_pool_vol-8bdd8db3-58' for execution.\n",
       "</pre>\n"
      ],
      "text/plain": [
       "18:37:45.266 | \u001b[36mINFO\u001b[0m    | Flow run\u001b[35m 'big-barracuda'\u001b[0m - Submitted task run 'query_pool_vol-8bdd8db3-58' for execution.\n"
      ]
     },
     "metadata": {},
     "output_type": "display_data"
    },
    {
     "data": {
      "text/html": [
       "<pre style=\"white-space:pre;overflow-x:auto;line-height:normal;font-family:Menlo,'DejaVu Sans Mono',consolas,'Courier New',monospace\">18:37:45.276 | <span style=\"color: #008080; text-decoration-color: #008080\">INFO</span>    | Flow run<span style=\"color: #800080; text-decoration-color: #800080\"> 'big-barracuda'</span> - Created task run 'query_pool_snaps-60635b41-58' for task 'query_pool_snaps'\n",
       "</pre>\n"
      ],
      "text/plain": [
       "18:37:45.276 | \u001b[36mINFO\u001b[0m    | Flow run\u001b[35m 'big-barracuda'\u001b[0m - Created task run 'query_pool_snaps-60635b41-58' for task 'query_pool_snaps'\n"
      ]
     },
     "metadata": {},
     "output_type": "display_data"
    },
    {
     "data": {
      "text/html": [
       "<pre style=\"white-space:pre;overflow-x:auto;line-height:normal;font-family:Menlo,'DejaVu Sans Mono',consolas,'Courier New',monospace\">18:37:45.277 | <span style=\"color: #008080; text-decoration-color: #008080\">INFO</span>    | Flow run<span style=\"color: #800080; text-decoration-color: #800080\"> 'big-barracuda'</span> - Submitted task run 'query_pool_snaps-60635b41-58' for execution.\n",
       "</pre>\n"
      ],
      "text/plain": [
       "18:37:45.277 | \u001b[36mINFO\u001b[0m    | Flow run\u001b[35m 'big-barracuda'\u001b[0m - Submitted task run 'query_pool_snaps-60635b41-58' for execution.\n"
      ]
     },
     "metadata": {},
     "output_type": "display_data"
    },
    {
     "data": {
      "text/html": [
       "<pre style=\"white-space:pre;overflow-x:auto;line-height:normal;font-family:Menlo,'DejaVu Sans Mono',consolas,'Courier New',monospace\">18:37:45.289 | <span style=\"color: #008080; text-decoration-color: #008080\">INFO</span>    | Flow run<span style=\"color: #800080; text-decoration-color: #800080\"> 'big-barracuda'</span> - Created task run 'query_pool_vol-8bdd8db3-45' for task 'query_pool_vol'\n",
       "</pre>\n"
      ],
      "text/plain": [
       "18:37:45.289 | \u001b[36mINFO\u001b[0m    | Flow run\u001b[35m 'big-barracuda'\u001b[0m - Created task run 'query_pool_vol-8bdd8db3-45' for task 'query_pool_vol'\n"
      ]
     },
     "metadata": {},
     "output_type": "display_data"
    },
    {
     "data": {
      "text/html": [
       "<pre style=\"white-space:pre;overflow-x:auto;line-height:normal;font-family:Menlo,'DejaVu Sans Mono',consolas,'Courier New',monospace\">18:37:45.289 | <span style=\"color: #008080; text-decoration-color: #008080\">INFO</span>    | Flow run<span style=\"color: #800080; text-decoration-color: #800080\"> 'big-barracuda'</span> - Submitted task run 'query_pool_vol-8bdd8db3-45' for execution.\n",
       "</pre>\n"
      ],
      "text/plain": [
       "18:37:45.289 | \u001b[36mINFO\u001b[0m    | Flow run\u001b[35m 'big-barracuda'\u001b[0m - Submitted task run 'query_pool_vol-8bdd8db3-45' for execution.\n"
      ]
     },
     "metadata": {},
     "output_type": "display_data"
    },
    {
     "data": {
      "text/html": [
       "<pre style=\"white-space:pre;overflow-x:auto;line-height:normal;font-family:Menlo,'DejaVu Sans Mono',consolas,'Courier New',monospace\">18:37:45.294 | <span style=\"color: #008080; text-decoration-color: #008080\">INFO</span>    | Task run 'query_pool_vol-8bdd8db3-58' - Finished in state Cached(type=COMPLETED)\n",
       "</pre>\n"
      ],
      "text/plain": [
       "18:37:45.294 | \u001b[36mINFO\u001b[0m    | Task run 'query_pool_vol-8bdd8db3-58' - Finished in state Cached(type=COMPLETED)\n"
      ]
     },
     "metadata": {},
     "output_type": "display_data"
    },
    {
     "data": {
      "text/html": [
       "<pre style=\"white-space:pre;overflow-x:auto;line-height:normal;font-family:Menlo,'DejaVu Sans Mono',consolas,'Courier New',monospace\">18:37:45.300 | <span style=\"color: #008080; text-decoration-color: #008080\">INFO</span>    | Task run 'query_pool_vol-8bdd8db3-60' - Finished in state Cached(type=COMPLETED)\n",
       "</pre>\n"
      ],
      "text/plain": [
       "18:37:45.300 | \u001b[36mINFO\u001b[0m    | Task run 'query_pool_vol-8bdd8db3-60' - Finished in state Cached(type=COMPLETED)\n"
      ]
     },
     "metadata": {},
     "output_type": "display_data"
    },
    {
     "data": {
      "text/html": [
       "<pre style=\"white-space:pre;overflow-x:auto;line-height:normal;font-family:Menlo,'DejaVu Sans Mono',consolas,'Courier New',monospace\">18:37:45.304 | <span style=\"color: #008080; text-decoration-color: #008080\">INFO</span>    | Task run 'query_pool_snaps-60635b41-36' - Finished in state Cached(type=COMPLETED)\n",
       "</pre>\n"
      ],
      "text/plain": [
       "18:37:45.304 | \u001b[36mINFO\u001b[0m    | Task run 'query_pool_snaps-60635b41-36' - Finished in state Cached(type=COMPLETED)\n"
      ]
     },
     "metadata": {},
     "output_type": "display_data"
    },
    {
     "data": {
      "text/html": [
       "<pre style=\"white-space:pre;overflow-x:auto;line-height:normal;font-family:Menlo,'DejaVu Sans Mono',consolas,'Courier New',monospace\">18:37:45.309 | <span style=\"color: #008080; text-decoration-color: #008080\">INFO</span>    | Flow run<span style=\"color: #800080; text-decoration-color: #800080\"> 'big-barracuda'</span> - Created task run 'query_pool_snaps-60635b41-20' for task 'query_pool_snaps'\n",
       "</pre>\n"
      ],
      "text/plain": [
       "18:37:45.309 | \u001b[36mINFO\u001b[0m    | Flow run\u001b[35m 'big-barracuda'\u001b[0m - Created task run 'query_pool_snaps-60635b41-20' for task 'query_pool_snaps'\n"
      ]
     },
     "metadata": {},
     "output_type": "display_data"
    },
    {
     "data": {
      "text/html": [
       "<pre style=\"white-space:pre;overflow-x:auto;line-height:normal;font-family:Menlo,'DejaVu Sans Mono',consolas,'Courier New',monospace\">18:37:45.310 | <span style=\"color: #008080; text-decoration-color: #008080\">INFO</span>    | Flow run<span style=\"color: #800080; text-decoration-color: #800080\"> 'big-barracuda'</span> - Submitted task run 'query_pool_snaps-60635b41-20' for execution.\n",
       "</pre>\n"
      ],
      "text/plain": [
       "18:37:45.310 | \u001b[36mINFO\u001b[0m    | Flow run\u001b[35m 'big-barracuda'\u001b[0m - Submitted task run 'query_pool_snaps-60635b41-20' for execution.\n"
      ]
     },
     "metadata": {},
     "output_type": "display_data"
    },
    {
     "data": {
      "text/html": [
       "<pre style=\"white-space:pre;overflow-x:auto;line-height:normal;font-family:Menlo,'DejaVu Sans Mono',consolas,'Courier New',monospace\">18:37:45.318 | <span style=\"color: #008080; text-decoration-color: #008080\">INFO</span>    | Flow run<span style=\"color: #800080; text-decoration-color: #800080\"> 'big-barracuda'</span> - Created task run 'query_pool_vol-8bdd8db3-35' for task 'query_pool_vol'\n",
       "</pre>\n"
      ],
      "text/plain": [
       "18:37:45.318 | \u001b[36mINFO\u001b[0m    | Flow run\u001b[35m 'big-barracuda'\u001b[0m - Created task run 'query_pool_vol-8bdd8db3-35' for task 'query_pool_vol'\n"
      ]
     },
     "metadata": {},
     "output_type": "display_data"
    },
    {
     "data": {
      "text/html": [
       "<pre style=\"white-space:pre;overflow-x:auto;line-height:normal;font-family:Menlo,'DejaVu Sans Mono',consolas,'Courier New',monospace\">18:37:45.319 | <span style=\"color: #008080; text-decoration-color: #008080\">INFO</span>    | Flow run<span style=\"color: #800080; text-decoration-color: #800080\"> 'big-barracuda'</span> - Submitted task run 'query_pool_vol-8bdd8db3-35' for execution.\n",
       "</pre>\n"
      ],
      "text/plain": [
       "18:37:45.319 | \u001b[36mINFO\u001b[0m    | Flow run\u001b[35m 'big-barracuda'\u001b[0m - Submitted task run 'query_pool_vol-8bdd8db3-35' for execution.\n"
      ]
     },
     "metadata": {},
     "output_type": "display_data"
    },
    {
     "data": {
      "text/html": [
       "<pre style=\"white-space:pre;overflow-x:auto;line-height:normal;font-family:Menlo,'DejaVu Sans Mono',consolas,'Courier New',monospace\">18:37:45.327 | <span style=\"color: #008080; text-decoration-color: #008080\">INFO</span>    | Task run 'query_pool_snaps-60635b41-0' - Finished in state Cached(type=COMPLETED)\n",
       "</pre>\n"
      ],
      "text/plain": [
       "18:37:45.327 | \u001b[36mINFO\u001b[0m    | Task run 'query_pool_snaps-60635b41-0' - Finished in state Cached(type=COMPLETED)\n"
      ]
     },
     "metadata": {},
     "output_type": "display_data"
    },
    {
     "data": {
      "text/html": [
       "<pre style=\"white-space:pre;overflow-x:auto;line-height:normal;font-family:Menlo,'DejaVu Sans Mono',consolas,'Courier New',monospace\">18:37:45.334 | <span style=\"color: #008080; text-decoration-color: #008080\">INFO</span>    | Task run 'query_pool_snaps-60635b41-58' - Finished in state Cached(type=COMPLETED)\n",
       "</pre>\n"
      ],
      "text/plain": [
       "18:37:45.334 | \u001b[36mINFO\u001b[0m    | Task run 'query_pool_snaps-60635b41-58' - Finished in state Cached(type=COMPLETED)\n"
      ]
     },
     "metadata": {},
     "output_type": "display_data"
    },
    {
     "data": {
      "text/html": [
       "<pre style=\"white-space:pre;overflow-x:auto;line-height:normal;font-family:Menlo,'DejaVu Sans Mono',consolas,'Courier New',monospace\">18:37:45.344 | <span style=\"color: #008080; text-decoration-color: #008080\">INFO</span>    | Flow run<span style=\"color: #800080; text-decoration-color: #800080\"> 'big-barracuda'</span> - Created task run 'query_pool_snaps-60635b41-25' for task 'query_pool_snaps'\n",
       "</pre>\n"
      ],
      "text/plain": [
       "18:37:45.344 | \u001b[36mINFO\u001b[0m    | Flow run\u001b[35m 'big-barracuda'\u001b[0m - Created task run 'query_pool_snaps-60635b41-25' for task 'query_pool_snaps'\n"
      ]
     },
     "metadata": {},
     "output_type": "display_data"
    },
    {
     "data": {
      "text/html": [
       "<pre style=\"white-space:pre;overflow-x:auto;line-height:normal;font-family:Menlo,'DejaVu Sans Mono',consolas,'Courier New',monospace\">18:37:45.345 | <span style=\"color: #008080; text-decoration-color: #008080\">INFO</span>    | Flow run<span style=\"color: #800080; text-decoration-color: #800080\"> 'big-barracuda'</span> - Submitted task run 'query_pool_snaps-60635b41-25' for execution.\n",
       "</pre>\n"
      ],
      "text/plain": [
       "18:37:45.345 | \u001b[36mINFO\u001b[0m    | Flow run\u001b[35m 'big-barracuda'\u001b[0m - Submitted task run 'query_pool_snaps-60635b41-25' for execution.\n"
      ]
     },
     "metadata": {},
     "output_type": "display_data"
    },
    {
     "data": {
      "text/html": [
       "<pre style=\"white-space:pre;overflow-x:auto;line-height:normal;font-family:Menlo,'DejaVu Sans Mono',consolas,'Courier New',monospace\">18:37:45.353 | <span style=\"color: #008080; text-decoration-color: #008080\">INFO</span>    | Task run 'query_pool_vol-8bdd8db3-35' - Finished in state Cached(type=COMPLETED)\n",
       "</pre>\n"
      ],
      "text/plain": [
       "18:37:45.353 | \u001b[36mINFO\u001b[0m    | Task run 'query_pool_vol-8bdd8db3-35' - Finished in state Cached(type=COMPLETED)\n"
      ]
     },
     "metadata": {},
     "output_type": "display_data"
    },
    {
     "data": {
      "text/html": [
       "<pre style=\"white-space:pre;overflow-x:auto;line-height:normal;font-family:Menlo,'DejaVu Sans Mono',consolas,'Courier New',monospace\">18:37:45.360 | <span style=\"color: #008080; text-decoration-color: #008080\">INFO</span>    | Flow run<span style=\"color: #800080; text-decoration-color: #800080\"> 'big-barracuda'</span> - Created task run 'query_pool_snaps-60635b41-29' for task 'query_pool_snaps'\n",
       "</pre>\n"
      ],
      "text/plain": [
       "18:37:45.360 | \u001b[36mINFO\u001b[0m    | Flow run\u001b[35m 'big-barracuda'\u001b[0m - Created task run 'query_pool_snaps-60635b41-29' for task 'query_pool_snaps'\n"
      ]
     },
     "metadata": {},
     "output_type": "display_data"
    },
    {
     "data": {
      "text/html": [
       "<pre style=\"white-space:pre;overflow-x:auto;line-height:normal;font-family:Menlo,'DejaVu Sans Mono',consolas,'Courier New',monospace\">18:37:45.361 | <span style=\"color: #008080; text-decoration-color: #008080\">INFO</span>    | Flow run<span style=\"color: #800080; text-decoration-color: #800080\"> 'big-barracuda'</span> - Submitted task run 'query_pool_snaps-60635b41-29' for execution.\n",
       "</pre>\n"
      ],
      "text/plain": [
       "18:37:45.361 | \u001b[36mINFO\u001b[0m    | Flow run\u001b[35m 'big-barracuda'\u001b[0m - Submitted task run 'query_pool_snaps-60635b41-29' for execution.\n"
      ]
     },
     "metadata": {},
     "output_type": "display_data"
    },
    {
     "data": {
      "text/html": [
       "<pre style=\"white-space:pre;overflow-x:auto;line-height:normal;font-family:Menlo,'DejaVu Sans Mono',consolas,'Courier New',monospace\">18:37:45.369 | <span style=\"color: #008080; text-decoration-color: #008080\">INFO</span>    | Flow run<span style=\"color: #800080; text-decoration-color: #800080\"> 'big-barracuda'</span> - Created task run 'query_pool_vol-8bdd8db3-43' for task 'query_pool_vol'\n",
       "</pre>\n"
      ],
      "text/plain": [
       "18:37:45.369 | \u001b[36mINFO\u001b[0m    | Flow run\u001b[35m 'big-barracuda'\u001b[0m - Created task run 'query_pool_vol-8bdd8db3-43' for task 'query_pool_vol'\n"
      ]
     },
     "metadata": {},
     "output_type": "display_data"
    },
    {
     "data": {
      "text/html": [
       "<pre style=\"white-space:pre;overflow-x:auto;line-height:normal;font-family:Menlo,'DejaVu Sans Mono',consolas,'Courier New',monospace\">18:37:45.370 | <span style=\"color: #008080; text-decoration-color: #008080\">INFO</span>    | Flow run<span style=\"color: #800080; text-decoration-color: #800080\"> 'big-barracuda'</span> - Submitted task run 'query_pool_vol-8bdd8db3-43' for execution.\n",
       "</pre>\n"
      ],
      "text/plain": [
       "18:37:45.370 | \u001b[36mINFO\u001b[0m    | Flow run\u001b[35m 'big-barracuda'\u001b[0m - Submitted task run 'query_pool_vol-8bdd8db3-43' for execution.\n"
      ]
     },
     "metadata": {},
     "output_type": "display_data"
    },
    {
     "data": {
      "text/html": [
       "<pre style=\"white-space:pre;overflow-x:auto;line-height:normal;font-family:Menlo,'DejaVu Sans Mono',consolas,'Courier New',monospace\">18:37:45.378 | <span style=\"color: #008080; text-decoration-color: #008080\">INFO</span>    | Task run 'query_pool_snaps-60635b41-25' - Finished in state Cached(type=COMPLETED)\n",
       "</pre>\n"
      ],
      "text/plain": [
       "18:37:45.378 | \u001b[36mINFO\u001b[0m    | Task run 'query_pool_snaps-60635b41-25' - Finished in state Cached(type=COMPLETED)\n"
      ]
     },
     "metadata": {},
     "output_type": "display_data"
    },
    {
     "data": {
      "text/html": [
       "<pre style=\"white-space:pre;overflow-x:auto;line-height:normal;font-family:Menlo,'DejaVu Sans Mono',consolas,'Courier New',monospace\">18:37:45.383 | <span style=\"color: #008080; text-decoration-color: #008080\">INFO</span>    | Task run 'query_pool_snaps-60635b41-29' - Finished in state Cached(type=COMPLETED)\n",
       "</pre>\n"
      ],
      "text/plain": [
       "18:37:45.383 | \u001b[36mINFO\u001b[0m    | Task run 'query_pool_snaps-60635b41-29' - Finished in state Cached(type=COMPLETED)\n"
      ]
     },
     "metadata": {},
     "output_type": "display_data"
    },
    {
     "data": {
      "text/html": [
       "<pre style=\"white-space:pre;overflow-x:auto;line-height:normal;font-family:Menlo,'DejaVu Sans Mono',consolas,'Courier New',monospace\">18:37:45.389 | <span style=\"color: #008080; text-decoration-color: #008080\">INFO</span>    | Flow run<span style=\"color: #800080; text-decoration-color: #800080\"> 'big-barracuda'</span> - Created task run 'query_pool_vol-8bdd8db3-15' for task 'query_pool_vol'\n",
       "</pre>\n"
      ],
      "text/plain": [
       "18:37:45.389 | \u001b[36mINFO\u001b[0m    | Flow run\u001b[35m 'big-barracuda'\u001b[0m - Created task run 'query_pool_vol-8bdd8db3-15' for task 'query_pool_vol'\n"
      ]
     },
     "metadata": {},
     "output_type": "display_data"
    },
    {
     "data": {
      "text/html": [
       "<pre style=\"white-space:pre;overflow-x:auto;line-height:normal;font-family:Menlo,'DejaVu Sans Mono',consolas,'Courier New',monospace\">18:37:45.390 | <span style=\"color: #008080; text-decoration-color: #008080\">INFO</span>    | Flow run<span style=\"color: #800080; text-decoration-color: #800080\"> 'big-barracuda'</span> - Submitted task run 'query_pool_vol-8bdd8db3-15' for execution.\n",
       "</pre>\n"
      ],
      "text/plain": [
       "18:37:45.390 | \u001b[36mINFO\u001b[0m    | Flow run\u001b[35m 'big-barracuda'\u001b[0m - Submitted task run 'query_pool_vol-8bdd8db3-15' for execution.\n"
      ]
     },
     "metadata": {},
     "output_type": "display_data"
    },
    {
     "data": {
      "text/html": [
       "<pre style=\"white-space:pre;overflow-x:auto;line-height:normal;font-family:Menlo,'DejaVu Sans Mono',consolas,'Courier New',monospace\">18:37:45.395 | <span style=\"color: #008080; text-decoration-color: #008080\">INFO</span>    | Task run 'query_pool_vol-8bdd8db3-43' - Finished in state Cached(type=COMPLETED)\n",
       "</pre>\n"
      ],
      "text/plain": [
       "18:37:45.395 | \u001b[36mINFO\u001b[0m    | Task run 'query_pool_vol-8bdd8db3-43' - Finished in state Cached(type=COMPLETED)\n"
      ]
     },
     "metadata": {},
     "output_type": "display_data"
    },
    {
     "data": {
      "text/html": [
       "<pre style=\"white-space:pre;overflow-x:auto;line-height:normal;font-family:Menlo,'DejaVu Sans Mono',consolas,'Courier New',monospace\">18:37:45.404 | <span style=\"color: #008080; text-decoration-color: #008080\">INFO</span>    | Flow run<span style=\"color: #800080; text-decoration-color: #800080\"> 'big-barracuda'</span> - Created task run 'query_pool_snaps-60635b41-3' for task 'query_pool_snaps'\n",
       "</pre>\n"
      ],
      "text/plain": [
       "18:37:45.404 | \u001b[36mINFO\u001b[0m    | Flow run\u001b[35m 'big-barracuda'\u001b[0m - Created task run 'query_pool_snaps-60635b41-3' for task 'query_pool_snaps'\n"
      ]
     },
     "metadata": {},
     "output_type": "display_data"
    },
    {
     "data": {
      "text/html": [
       "<pre style=\"white-space:pre;overflow-x:auto;line-height:normal;font-family:Menlo,'DejaVu Sans Mono',consolas,'Courier New',monospace\">18:37:45.404 | <span style=\"color: #008080; text-decoration-color: #008080\">INFO</span>    | Flow run<span style=\"color: #800080; text-decoration-color: #800080\"> 'big-barracuda'</span> - Submitted task run 'query_pool_snaps-60635b41-3' for execution.\n",
       "</pre>\n"
      ],
      "text/plain": [
       "18:37:45.404 | \u001b[36mINFO\u001b[0m    | Flow run\u001b[35m 'big-barracuda'\u001b[0m - Submitted task run 'query_pool_snaps-60635b41-3' for execution.\n"
      ]
     },
     "metadata": {},
     "output_type": "display_data"
    },
    {
     "data": {
      "text/html": [
       "<pre style=\"white-space:pre;overflow-x:auto;line-height:normal;font-family:Menlo,'DejaVu Sans Mono',consolas,'Courier New',monospace\">18:37:45.410 | <span style=\"color: #008080; text-decoration-color: #008080\">INFO</span>    | Task run 'query_pool_vol-8bdd8db3-15' - Finished in state Cached(type=COMPLETED)\n",
       "</pre>\n"
      ],
      "text/plain": [
       "18:37:45.410 | \u001b[36mINFO\u001b[0m    | Task run 'query_pool_vol-8bdd8db3-15' - Finished in state Cached(type=COMPLETED)\n"
      ]
     },
     "metadata": {},
     "output_type": "display_data"
    },
    {
     "data": {
      "text/html": [
       "<pre style=\"white-space:pre;overflow-x:auto;line-height:normal;font-family:Menlo,'DejaVu Sans Mono',consolas,'Courier New',monospace\">18:37:45.416 | <span style=\"color: #008080; text-decoration-color: #008080\">INFO</span>    | Task run 'query_pool_snaps-60635b41-28' - Finished in state Cached(type=COMPLETED)\n",
       "</pre>\n"
      ],
      "text/plain": [
       "18:37:45.416 | \u001b[36mINFO\u001b[0m    | Task run 'query_pool_snaps-60635b41-28' - Finished in state Cached(type=COMPLETED)\n"
      ]
     },
     "metadata": {},
     "output_type": "display_data"
    },
    {
     "data": {
      "text/html": [
       "<pre style=\"white-space:pre;overflow-x:auto;line-height:normal;font-family:Menlo,'DejaVu Sans Mono',consolas,'Courier New',monospace\">18:37:45.421 | <span style=\"color: #008080; text-decoration-color: #008080\">INFO</span>    | Flow run<span style=\"color: #800080; text-decoration-color: #800080\"> 'big-barracuda'</span> - Created task run 'query_pool_snaps-60635b41-6' for task 'query_pool_snaps'\n",
       "</pre>\n"
      ],
      "text/plain": [
       "18:37:45.421 | \u001b[36mINFO\u001b[0m    | Flow run\u001b[35m 'big-barracuda'\u001b[0m - Created task run 'query_pool_snaps-60635b41-6' for task 'query_pool_snaps'\n"
      ]
     },
     "metadata": {},
     "output_type": "display_data"
    },
    {
     "data": {
      "text/html": [
       "<pre style=\"white-space:pre;overflow-x:auto;line-height:normal;font-family:Menlo,'DejaVu Sans Mono',consolas,'Courier New',monospace\">18:37:45.422 | <span style=\"color: #008080; text-decoration-color: #008080\">INFO</span>    | Flow run<span style=\"color: #800080; text-decoration-color: #800080\"> 'big-barracuda'</span> - Submitted task run 'query_pool_snaps-60635b41-6' for execution.\n",
       "</pre>\n"
      ],
      "text/plain": [
       "18:37:45.422 | \u001b[36mINFO\u001b[0m    | Flow run\u001b[35m 'big-barracuda'\u001b[0m - Submitted task run 'query_pool_snaps-60635b41-6' for execution.\n"
      ]
     },
     "metadata": {},
     "output_type": "display_data"
    },
    {
     "data": {
      "text/html": [
       "<pre style=\"white-space:pre;overflow-x:auto;line-height:normal;font-family:Menlo,'DejaVu Sans Mono',consolas,'Courier New',monospace\">18:37:45.429 | <span style=\"color: #008080; text-decoration-color: #008080\">INFO</span>    | Flow run<span style=\"color: #800080; text-decoration-color: #800080\"> 'big-barracuda'</span> - Created task run 'query_pool_vol-8bdd8db3-51' for task 'query_pool_vol'\n",
       "</pre>\n"
      ],
      "text/plain": [
       "18:37:45.429 | \u001b[36mINFO\u001b[0m    | Flow run\u001b[35m 'big-barracuda'\u001b[0m - Created task run 'query_pool_vol-8bdd8db3-51' for task 'query_pool_vol'\n"
      ]
     },
     "metadata": {},
     "output_type": "display_data"
    },
    {
     "data": {
      "text/html": [
       "<pre style=\"white-space:pre;overflow-x:auto;line-height:normal;font-family:Menlo,'DejaVu Sans Mono',consolas,'Courier New',monospace\">18:37:45.430 | <span style=\"color: #008080; text-decoration-color: #008080\">INFO</span>    | Flow run<span style=\"color: #800080; text-decoration-color: #800080\"> 'big-barracuda'</span> - Submitted task run 'query_pool_vol-8bdd8db3-51' for execution.\n",
       "</pre>\n"
      ],
      "text/plain": [
       "18:37:45.430 | \u001b[36mINFO\u001b[0m    | Flow run\u001b[35m 'big-barracuda'\u001b[0m - Submitted task run 'query_pool_vol-8bdd8db3-51' for execution.\n"
      ]
     },
     "metadata": {},
     "output_type": "display_data"
    },
    {
     "data": {
      "text/html": [
       "<pre style=\"white-space:pre;overflow-x:auto;line-height:normal;font-family:Menlo,'DejaVu Sans Mono',consolas,'Courier New',monospace\">18:37:45.439 | <span style=\"color: #008080; text-decoration-color: #008080\">INFO</span>    | Task run 'query_pool_snaps-60635b41-54' - Finished in state Cached(type=COMPLETED)\n",
       "</pre>\n"
      ],
      "text/plain": [
       "18:37:45.439 | \u001b[36mINFO\u001b[0m    | Task run 'query_pool_snaps-60635b41-54' - Finished in state Cached(type=COMPLETED)\n"
      ]
     },
     "metadata": {},
     "output_type": "display_data"
    },
    {
     "data": {
      "text/html": [
       "<pre style=\"white-space:pre;overflow-x:auto;line-height:normal;font-family:Menlo,'DejaVu Sans Mono',consolas,'Courier New',monospace\">18:37:45.445 | <span style=\"color: #008080; text-decoration-color: #008080\">INFO</span>    | Flow run<span style=\"color: #800080; text-decoration-color: #800080\"> 'big-barracuda'</span> - Created task run 'query_pool_snaps-60635b41-40' for task 'query_pool_snaps'\n",
       "</pre>\n"
      ],
      "text/plain": [
       "18:37:45.445 | \u001b[36mINFO\u001b[0m    | Flow run\u001b[35m 'big-barracuda'\u001b[0m - Created task run 'query_pool_snaps-60635b41-40' for task 'query_pool_snaps'\n"
      ]
     },
     "metadata": {},
     "output_type": "display_data"
    },
    {
     "data": {
      "text/html": [
       "<pre style=\"white-space:pre;overflow-x:auto;line-height:normal;font-family:Menlo,'DejaVu Sans Mono',consolas,'Courier New',monospace\">18:37:45.446 | <span style=\"color: #008080; text-decoration-color: #008080\">INFO</span>    | Flow run<span style=\"color: #800080; text-decoration-color: #800080\"> 'big-barracuda'</span> - Submitted task run 'query_pool_snaps-60635b41-40' for execution.\n",
       "</pre>\n"
      ],
      "text/plain": [
       "18:37:45.446 | \u001b[36mINFO\u001b[0m    | Flow run\u001b[35m 'big-barracuda'\u001b[0m - Submitted task run 'query_pool_snaps-60635b41-40' for execution.\n"
      ]
     },
     "metadata": {},
     "output_type": "display_data"
    },
    {
     "data": {
      "text/html": [
       "<pre style=\"white-space:pre;overflow-x:auto;line-height:normal;font-family:Menlo,'DejaVu Sans Mono',consolas,'Courier New',monospace\">18:37:45.452 | <span style=\"color: #008080; text-decoration-color: #008080\">INFO</span>    | Task run 'query_pool_vol-8bdd8db3-51' - Finished in state Cached(type=COMPLETED)\n",
       "</pre>\n"
      ],
      "text/plain": [
       "18:37:45.452 | \u001b[36mINFO\u001b[0m    | Task run 'query_pool_vol-8bdd8db3-51' - Finished in state Cached(type=COMPLETED)\n"
      ]
     },
     "metadata": {},
     "output_type": "display_data"
    },
    {
     "data": {
      "text/html": [
       "<pre style=\"white-space:pre;overflow-x:auto;line-height:normal;font-family:Menlo,'DejaVu Sans Mono',consolas,'Courier New',monospace\">18:37:45.458 | <span style=\"color: #008080; text-decoration-color: #008080\">INFO</span>    | Task run 'query_pool_snaps-60635b41-3' - Finished in state Cached(type=COMPLETED)\n",
       "</pre>\n"
      ],
      "text/plain": [
       "18:37:45.458 | \u001b[36mINFO\u001b[0m    | Task run 'query_pool_snaps-60635b41-3' - Finished in state Cached(type=COMPLETED)\n"
      ]
     },
     "metadata": {},
     "output_type": "display_data"
    },
    {
     "data": {
      "text/html": [
       "<pre style=\"white-space:pre;overflow-x:auto;line-height:normal;font-family:Menlo,'DejaVu Sans Mono',consolas,'Courier New',monospace\">18:37:45.461 | <span style=\"color: #008080; text-decoration-color: #008080\">INFO</span>    | Task run 'query_pool_snaps-60635b41-6' - Finished in state Cached(type=COMPLETED)\n",
       "</pre>\n"
      ],
      "text/plain": [
       "18:37:45.461 | \u001b[36mINFO\u001b[0m    | Task run 'query_pool_snaps-60635b41-6' - Finished in state Cached(type=COMPLETED)\n"
      ]
     },
     "metadata": {},
     "output_type": "display_data"
    },
    {
     "data": {
      "text/html": [
       "<pre style=\"white-space:pre;overflow-x:auto;line-height:normal;font-family:Menlo,'DejaVu Sans Mono',consolas,'Courier New',monospace\">18:37:45.467 | <span style=\"color: #008080; text-decoration-color: #008080\">INFO</span>    | Flow run<span style=\"color: #800080; text-decoration-color: #800080\"> 'big-barracuda'</span> - Created task run 'query_pool_vol-8bdd8db3-27' for task 'query_pool_vol'\n",
       "</pre>\n"
      ],
      "text/plain": [
       "18:37:45.467 | \u001b[36mINFO\u001b[0m    | Flow run\u001b[35m 'big-barracuda'\u001b[0m - Created task run 'query_pool_vol-8bdd8db3-27' for task 'query_pool_vol'\n"
      ]
     },
     "metadata": {},
     "output_type": "display_data"
    },
    {
     "data": {
      "text/html": [
       "<pre style=\"white-space:pre;overflow-x:auto;line-height:normal;font-family:Menlo,'DejaVu Sans Mono',consolas,'Courier New',monospace\">18:37:45.468 | <span style=\"color: #008080; text-decoration-color: #008080\">INFO</span>    | Flow run<span style=\"color: #800080; text-decoration-color: #800080\"> 'big-barracuda'</span> - Submitted task run 'query_pool_vol-8bdd8db3-27' for execution.\n",
       "</pre>\n"
      ],
      "text/plain": [
       "18:37:45.468 | \u001b[36mINFO\u001b[0m    | Flow run\u001b[35m 'big-barracuda'\u001b[0m - Submitted task run 'query_pool_vol-8bdd8db3-27' for execution.\n"
      ]
     },
     "metadata": {},
     "output_type": "display_data"
    },
    {
     "data": {
      "text/html": [
       "<pre style=\"white-space:pre;overflow-x:auto;line-height:normal;font-family:Menlo,'DejaVu Sans Mono',consolas,'Courier New',monospace\">18:37:45.473 | <span style=\"color: #008080; text-decoration-color: #008080\">INFO</span>    | Task run 'query_pool_vol-8bdd8db3-46' - Finished in state Cached(type=COMPLETED)\n",
       "</pre>\n"
      ],
      "text/plain": [
       "18:37:45.473 | \u001b[36mINFO\u001b[0m    | Task run 'query_pool_vol-8bdd8db3-46' - Finished in state Cached(type=COMPLETED)\n"
      ]
     },
     "metadata": {},
     "output_type": "display_data"
    },
    {
     "data": {
      "text/html": [
       "<pre style=\"white-space:pre;overflow-x:auto;line-height:normal;font-family:Menlo,'DejaVu Sans Mono',consolas,'Courier New',monospace\">18:37:45.481 | <span style=\"color: #008080; text-decoration-color: #008080\">INFO</span>    | Flow run<span style=\"color: #800080; text-decoration-color: #800080\"> 'big-barracuda'</span> - Created task run 'query_pool_snaps-60635b41-46' for task 'query_pool_snaps'\n",
       "</pre>\n"
      ],
      "text/plain": [
       "18:37:45.481 | \u001b[36mINFO\u001b[0m    | Flow run\u001b[35m 'big-barracuda'\u001b[0m - Created task run 'query_pool_snaps-60635b41-46' for task 'query_pool_snaps'\n"
      ]
     },
     "metadata": {},
     "output_type": "display_data"
    },
    {
     "data": {
      "text/html": [
       "<pre style=\"white-space:pre;overflow-x:auto;line-height:normal;font-family:Menlo,'DejaVu Sans Mono',consolas,'Courier New',monospace\">18:37:45.482 | <span style=\"color: #008080; text-decoration-color: #008080\">INFO</span>    | Flow run<span style=\"color: #800080; text-decoration-color: #800080\"> 'big-barracuda'</span> - Submitted task run 'query_pool_snaps-60635b41-46' for execution.\n",
       "</pre>\n"
      ],
      "text/plain": [
       "18:37:45.482 | \u001b[36mINFO\u001b[0m    | Flow run\u001b[35m 'big-barracuda'\u001b[0m - Submitted task run 'query_pool_snaps-60635b41-46' for execution.\n"
      ]
     },
     "metadata": {},
     "output_type": "display_data"
    },
    {
     "data": {
      "text/html": [
       "<pre style=\"white-space:pre;overflow-x:auto;line-height:normal;font-family:Menlo,'DejaVu Sans Mono',consolas,'Courier New',monospace\">18:37:45.487 | <span style=\"color: #008080; text-decoration-color: #008080\">INFO</span>    | Task run 'query_pool_vol-8bdd8db3-27' - Finished in state Cached(type=COMPLETED)\n",
       "</pre>\n"
      ],
      "text/plain": [
       "18:37:45.487 | \u001b[36mINFO\u001b[0m    | Task run 'query_pool_vol-8bdd8db3-27' - Finished in state Cached(type=COMPLETED)\n"
      ]
     },
     "metadata": {},
     "output_type": "display_data"
    },
    {
     "data": {
      "text/html": [
       "<pre style=\"white-space:pre;overflow-x:auto;line-height:normal;font-family:Menlo,'DejaVu Sans Mono',consolas,'Courier New',monospace\">18:37:45.496 | <span style=\"color: #008080; text-decoration-color: #008080\">INFO</span>    | Flow run<span style=\"color: #800080; text-decoration-color: #800080\"> 'big-barracuda'</span> - Created task run 'query_pool_vol-8bdd8db3-18' for task 'query_pool_vol'\n",
       "</pre>\n"
      ],
      "text/plain": [
       "18:37:45.496 | \u001b[36mINFO\u001b[0m    | Flow run\u001b[35m 'big-barracuda'\u001b[0m - Created task run 'query_pool_vol-8bdd8db3-18' for task 'query_pool_vol'\n"
      ]
     },
     "metadata": {},
     "output_type": "display_data"
    },
    {
     "data": {
      "text/html": [
       "<pre style=\"white-space:pre;overflow-x:auto;line-height:normal;font-family:Menlo,'DejaVu Sans Mono',consolas,'Courier New',monospace\">18:37:45.496 | <span style=\"color: #008080; text-decoration-color: #008080\">INFO</span>    | Flow run<span style=\"color: #800080; text-decoration-color: #800080\"> 'big-barracuda'</span> - Submitted task run 'query_pool_vol-8bdd8db3-18' for execution.\n",
       "</pre>\n"
      ],
      "text/plain": [
       "18:37:45.496 | \u001b[36mINFO\u001b[0m    | Flow run\u001b[35m 'big-barracuda'\u001b[0m - Submitted task run 'query_pool_vol-8bdd8db3-18' for execution.\n"
      ]
     },
     "metadata": {},
     "output_type": "display_data"
    },
    {
     "data": {
      "text/html": [
       "<pre style=\"white-space:pre;overflow-x:auto;line-height:normal;font-family:Menlo,'DejaVu Sans Mono',consolas,'Courier New',monospace\">18:37:45.504 | <span style=\"color: #008080; text-decoration-color: #008080\">INFO</span>    | Flow run<span style=\"color: #800080; text-decoration-color: #800080\"> 'big-barracuda'</span> - Created task run 'query_pool_vol-8bdd8db3-32' for task 'query_pool_vol'\n",
       "</pre>\n"
      ],
      "text/plain": [
       "18:37:45.504 | \u001b[36mINFO\u001b[0m    | Flow run\u001b[35m 'big-barracuda'\u001b[0m - Created task run 'query_pool_vol-8bdd8db3-32' for task 'query_pool_vol'\n"
      ]
     },
     "metadata": {},
     "output_type": "display_data"
    },
    {
     "data": {
      "text/html": [
       "<pre style=\"white-space:pre;overflow-x:auto;line-height:normal;font-family:Menlo,'DejaVu Sans Mono',consolas,'Courier New',monospace\">18:37:45.505 | <span style=\"color: #008080; text-decoration-color: #008080\">INFO</span>    | Flow run<span style=\"color: #800080; text-decoration-color: #800080\"> 'big-barracuda'</span> - Submitted task run 'query_pool_vol-8bdd8db3-32' for execution.\n",
       "</pre>\n"
      ],
      "text/plain": [
       "18:37:45.505 | \u001b[36mINFO\u001b[0m    | Flow run\u001b[35m 'big-barracuda'\u001b[0m - Submitted task run 'query_pool_vol-8bdd8db3-32' for execution.\n"
      ]
     },
     "metadata": {},
     "output_type": "display_data"
    },
    {
     "data": {
      "text/html": [
       "<pre style=\"white-space:pre;overflow-x:auto;line-height:normal;font-family:Menlo,'DejaVu Sans Mono',consolas,'Courier New',monospace\">18:37:45.516 | <span style=\"color: #008080; text-decoration-color: #008080\">INFO</span>    | Flow run<span style=\"color: #800080; text-decoration-color: #800080\"> 'big-barracuda'</span> - Created task run 'query_pool_vol-8bdd8db3-20' for task 'query_pool_vol'\n",
       "</pre>\n"
      ],
      "text/plain": [
       "18:37:45.516 | \u001b[36mINFO\u001b[0m    | Flow run\u001b[35m 'big-barracuda'\u001b[0m - Created task run 'query_pool_vol-8bdd8db3-20' for task 'query_pool_vol'\n"
      ]
     },
     "metadata": {},
     "output_type": "display_data"
    },
    {
     "data": {
      "text/html": [
       "<pre style=\"white-space:pre;overflow-x:auto;line-height:normal;font-family:Menlo,'DejaVu Sans Mono',consolas,'Courier New',monospace\">18:37:45.517 | <span style=\"color: #008080; text-decoration-color: #008080\">INFO</span>    | Flow run<span style=\"color: #800080; text-decoration-color: #800080\"> 'big-barracuda'</span> - Submitted task run 'query_pool_vol-8bdd8db3-20' for execution.\n",
       "</pre>\n"
      ],
      "text/plain": [
       "18:37:45.517 | \u001b[36mINFO\u001b[0m    | Flow run\u001b[35m 'big-barracuda'\u001b[0m - Submitted task run 'query_pool_vol-8bdd8db3-20' for execution.\n"
      ]
     },
     "metadata": {},
     "output_type": "display_data"
    },
    {
     "data": {
      "text/html": [
       "<pre style=\"white-space:pre;overflow-x:auto;line-height:normal;font-family:Menlo,'DejaVu Sans Mono',consolas,'Courier New',monospace\">18:37:45.524 | <span style=\"color: #008080; text-decoration-color: #008080\">INFO</span>    | Task run 'query_pool_vol-8bdd8db3-18' - Finished in state Cached(type=COMPLETED)\n",
       "</pre>\n"
      ],
      "text/plain": [
       "18:37:45.524 | \u001b[36mINFO\u001b[0m    | Task run 'query_pool_vol-8bdd8db3-18' - Finished in state Cached(type=COMPLETED)\n"
      ]
     },
     "metadata": {},
     "output_type": "display_data"
    },
    {
     "data": {
      "text/html": [
       "<pre style=\"white-space:pre;overflow-x:auto;line-height:normal;font-family:Menlo,'DejaVu Sans Mono',consolas,'Courier New',monospace\">18:37:45.529 | <span style=\"color: #008080; text-decoration-color: #008080\">INFO</span>    | Task run 'query_pool_vol-8bdd8db3-32' - Finished in state Cached(type=COMPLETED)\n",
       "</pre>\n"
      ],
      "text/plain": [
       "18:37:45.529 | \u001b[36mINFO\u001b[0m    | Task run 'query_pool_vol-8bdd8db3-32' - Finished in state Cached(type=COMPLETED)\n"
      ]
     },
     "metadata": {},
     "output_type": "display_data"
    },
    {
     "data": {
      "text/html": [
       "<pre style=\"white-space:pre;overflow-x:auto;line-height:normal;font-family:Menlo,'DejaVu Sans Mono',consolas,'Courier New',monospace\">18:37:45.533 | <span style=\"color: #008080; text-decoration-color: #008080\">INFO</span>    | Task run 'query_pool_snaps-60635b41-46' - Finished in state Cached(type=COMPLETED)\n",
       "</pre>\n"
      ],
      "text/plain": [
       "18:37:45.533 | \u001b[36mINFO\u001b[0m    | Task run 'query_pool_snaps-60635b41-46' - Finished in state Cached(type=COMPLETED)\n"
      ]
     },
     "metadata": {},
     "output_type": "display_data"
    },
    {
     "data": {
      "text/html": [
       "<pre style=\"white-space:pre;overflow-x:auto;line-height:normal;font-family:Menlo,'DejaVu Sans Mono',consolas,'Courier New',monospace\">18:37:45.536 | <span style=\"color: #008080; text-decoration-color: #008080\">INFO</span>    | Task run 'query_pool_vol-8bdd8db3-20' - Finished in state Cached(type=COMPLETED)\n",
       "</pre>\n"
      ],
      "text/plain": [
       "18:37:45.536 | \u001b[36mINFO\u001b[0m    | Task run 'query_pool_vol-8bdd8db3-20' - Finished in state Cached(type=COMPLETED)\n"
      ]
     },
     "metadata": {},
     "output_type": "display_data"
    },
    {
     "data": {
      "text/html": [
       "<pre style=\"white-space:pre;overflow-x:auto;line-height:normal;font-family:Menlo,'DejaVu Sans Mono',consolas,'Courier New',monospace\">18:37:45.540 | <span style=\"color: #008080; text-decoration-color: #008080\">INFO</span>    | Task run 'query_pool_vol-8bdd8db3-29' - Finished in state Cached(type=COMPLETED)\n",
       "</pre>\n"
      ],
      "text/plain": [
       "18:37:45.540 | \u001b[36mINFO\u001b[0m    | Task run 'query_pool_vol-8bdd8db3-29' - Finished in state Cached(type=COMPLETED)\n"
      ]
     },
     "metadata": {},
     "output_type": "display_data"
    },
    {
     "data": {
      "text/html": [
       "<pre style=\"white-space:pre;overflow-x:auto;line-height:normal;font-family:Menlo,'DejaVu Sans Mono',consolas,'Courier New',monospace\">18:37:45.545 | <span style=\"color: #008080; text-decoration-color: #008080\">INFO</span>    | Flow run<span style=\"color: #800080; text-decoration-color: #800080\"> 'big-barracuda'</span> - Created task run 'query_pool_vol-8bdd8db3-23' for task 'query_pool_vol'\n",
       "</pre>\n"
      ],
      "text/plain": [
       "18:37:45.545 | \u001b[36mINFO\u001b[0m    | Flow run\u001b[35m 'big-barracuda'\u001b[0m - Created task run 'query_pool_vol-8bdd8db3-23' for task 'query_pool_vol'\n"
      ]
     },
     "metadata": {},
     "output_type": "display_data"
    },
    {
     "data": {
      "text/html": [
       "<pre style=\"white-space:pre;overflow-x:auto;line-height:normal;font-family:Menlo,'DejaVu Sans Mono',consolas,'Courier New',monospace\">18:37:45.546 | <span style=\"color: #008080; text-decoration-color: #008080\">INFO</span>    | Flow run<span style=\"color: #800080; text-decoration-color: #800080\"> 'big-barracuda'</span> - Submitted task run 'query_pool_vol-8bdd8db3-23' for execution.\n",
       "</pre>\n"
      ],
      "text/plain": [
       "18:37:45.546 | \u001b[36mINFO\u001b[0m    | Flow run\u001b[35m 'big-barracuda'\u001b[0m - Submitted task run 'query_pool_vol-8bdd8db3-23' for execution.\n"
      ]
     },
     "metadata": {},
     "output_type": "display_data"
    },
    {
     "data": {
      "text/html": [
       "<pre style=\"white-space:pre;overflow-x:auto;line-height:normal;font-family:Menlo,'DejaVu Sans Mono',consolas,'Courier New',monospace\">18:37:45.554 | <span style=\"color: #008080; text-decoration-color: #008080\">INFO</span>    | Flow run<span style=\"color: #800080; text-decoration-color: #800080\"> 'big-barracuda'</span> - Created task run 'query_pool_vol-8bdd8db3-40' for task 'query_pool_vol'\n",
       "</pre>\n"
      ],
      "text/plain": [
       "18:37:45.554 | \u001b[36mINFO\u001b[0m    | Flow run\u001b[35m 'big-barracuda'\u001b[0m - Created task run 'query_pool_vol-8bdd8db3-40' for task 'query_pool_vol'\n"
      ]
     },
     "metadata": {},
     "output_type": "display_data"
    },
    {
     "data": {
      "text/html": [
       "<pre style=\"white-space:pre;overflow-x:auto;line-height:normal;font-family:Menlo,'DejaVu Sans Mono',consolas,'Courier New',monospace\">18:37:45.555 | <span style=\"color: #008080; text-decoration-color: #008080\">INFO</span>    | Flow run<span style=\"color: #800080; text-decoration-color: #800080\"> 'big-barracuda'</span> - Submitted task run 'query_pool_vol-8bdd8db3-40' for execution.\n",
       "</pre>\n"
      ],
      "text/plain": [
       "18:37:45.555 | \u001b[36mINFO\u001b[0m    | Flow run\u001b[35m 'big-barracuda'\u001b[0m - Submitted task run 'query_pool_vol-8bdd8db3-40' for execution.\n"
      ]
     },
     "metadata": {},
     "output_type": "display_data"
    },
    {
     "data": {
      "text/html": [
       "<pre style=\"white-space:pre;overflow-x:auto;line-height:normal;font-family:Menlo,'DejaVu Sans Mono',consolas,'Courier New',monospace\">18:37:45.566 | <span style=\"color: #008080; text-decoration-color: #008080\">INFO</span>    | Flow run<span style=\"color: #800080; text-decoration-color: #800080\"> 'big-barracuda'</span> - Created task run 'query_pool_vol-8bdd8db3-11' for task 'query_pool_vol'\n",
       "</pre>\n"
      ],
      "text/plain": [
       "18:37:45.566 | \u001b[36mINFO\u001b[0m    | Flow run\u001b[35m 'big-barracuda'\u001b[0m - Created task run 'query_pool_vol-8bdd8db3-11' for task 'query_pool_vol'\n"
      ]
     },
     "metadata": {},
     "output_type": "display_data"
    },
    {
     "data": {
      "text/html": [
       "<pre style=\"white-space:pre;overflow-x:auto;line-height:normal;font-family:Menlo,'DejaVu Sans Mono',consolas,'Courier New',monospace\">18:37:45.567 | <span style=\"color: #008080; text-decoration-color: #008080\">INFO</span>    | Flow run<span style=\"color: #800080; text-decoration-color: #800080\"> 'big-barracuda'</span> - Submitted task run 'query_pool_vol-8bdd8db3-11' for execution.\n",
       "</pre>\n"
      ],
      "text/plain": [
       "18:37:45.567 | \u001b[36mINFO\u001b[0m    | Flow run\u001b[35m 'big-barracuda'\u001b[0m - Submitted task run 'query_pool_vol-8bdd8db3-11' for execution.\n"
      ]
     },
     "metadata": {},
     "output_type": "display_data"
    },
    {
     "data": {
      "text/html": [
       "<pre style=\"white-space:pre;overflow-x:auto;line-height:normal;font-family:Menlo,'DejaVu Sans Mono',consolas,'Courier New',monospace\">18:37:45.573 | <span style=\"color: #008080; text-decoration-color: #008080\">INFO</span>    | Task run 'query_pool_snaps-60635b41-40' - Finished in state Cached(type=COMPLETED)\n",
       "</pre>\n"
      ],
      "text/plain": [
       "18:37:45.573 | \u001b[36mINFO\u001b[0m    | Task run 'query_pool_snaps-60635b41-40' - Finished in state Cached(type=COMPLETED)\n"
      ]
     },
     "metadata": {},
     "output_type": "display_data"
    },
    {
     "data": {
      "text/html": [
       "<pre style=\"white-space:pre;overflow-x:auto;line-height:normal;font-family:Menlo,'DejaVu Sans Mono',consolas,'Courier New',monospace\">18:37:45.580 | <span style=\"color: #008080; text-decoration-color: #008080\">INFO</span>    | Task run 'query_pool_vol-8bdd8db3-40' - Finished in state Cached(type=COMPLETED)\n",
       "</pre>\n"
      ],
      "text/plain": [
       "18:37:45.580 | \u001b[36mINFO\u001b[0m    | Task run 'query_pool_vol-8bdd8db3-40' - Finished in state Cached(type=COMPLETED)\n"
      ]
     },
     "metadata": {},
     "output_type": "display_data"
    },
    {
     "data": {
      "text/html": [
       "<pre style=\"white-space:pre;overflow-x:auto;line-height:normal;font-family:Menlo,'DejaVu Sans Mono',consolas,'Courier New',monospace\">18:37:45.585 | <span style=\"color: #008080; text-decoration-color: #008080\">INFO</span>    | Flow run<span style=\"color: #800080; text-decoration-color: #800080\"> 'big-barracuda'</span> - Created task run 'query_pool_vol-8bdd8db3-30' for task 'query_pool_vol'\n",
       "</pre>\n"
      ],
      "text/plain": [
       "18:37:45.585 | \u001b[36mINFO\u001b[0m    | Flow run\u001b[35m 'big-barracuda'\u001b[0m - Created task run 'query_pool_vol-8bdd8db3-30' for task 'query_pool_vol'\n"
      ]
     },
     "metadata": {},
     "output_type": "display_data"
    },
    {
     "data": {
      "text/html": [
       "<pre style=\"white-space:pre;overflow-x:auto;line-height:normal;font-family:Menlo,'DejaVu Sans Mono',consolas,'Courier New',monospace\">18:37:45.586 | <span style=\"color: #008080; text-decoration-color: #008080\">INFO</span>    | Flow run<span style=\"color: #800080; text-decoration-color: #800080\"> 'big-barracuda'</span> - Submitted task run 'query_pool_vol-8bdd8db3-30' for execution.\n",
       "</pre>\n"
      ],
      "text/plain": [
       "18:37:45.586 | \u001b[36mINFO\u001b[0m    | Flow run\u001b[35m 'big-barracuda'\u001b[0m - Submitted task run 'query_pool_vol-8bdd8db3-30' for execution.\n"
      ]
     },
     "metadata": {},
     "output_type": "display_data"
    },
    {
     "data": {
      "text/html": [
       "<pre style=\"white-space:pre;overflow-x:auto;line-height:normal;font-family:Menlo,'DejaVu Sans Mono',consolas,'Courier New',monospace\">18:37:45.594 | <span style=\"color: #008080; text-decoration-color: #008080\">INFO</span>    | Flow run<span style=\"color: #800080; text-decoration-color: #800080\"> 'big-barracuda'</span> - Created task run 'query_pool_snaps-60635b41-15' for task 'query_pool_snaps'\n",
       "</pre>\n"
      ],
      "text/plain": [
       "18:37:45.594 | \u001b[36mINFO\u001b[0m    | Flow run\u001b[35m 'big-barracuda'\u001b[0m - Created task run 'query_pool_snaps-60635b41-15' for task 'query_pool_snaps'\n"
      ]
     },
     "metadata": {},
     "output_type": "display_data"
    },
    {
     "data": {
      "text/html": [
       "<pre style=\"white-space:pre;overflow-x:auto;line-height:normal;font-family:Menlo,'DejaVu Sans Mono',consolas,'Courier New',monospace\">18:37:45.595 | <span style=\"color: #008080; text-decoration-color: #008080\">INFO</span>    | Flow run<span style=\"color: #800080; text-decoration-color: #800080\"> 'big-barracuda'</span> - Submitted task run 'query_pool_snaps-60635b41-15' for execution.\n",
       "</pre>\n"
      ],
      "text/plain": [
       "18:37:45.595 | \u001b[36mINFO\u001b[0m    | Flow run\u001b[35m 'big-barracuda'\u001b[0m - Submitted task run 'query_pool_snaps-60635b41-15' for execution.\n"
      ]
     },
     "metadata": {},
     "output_type": "display_data"
    },
    {
     "data": {
      "text/html": [
       "<pre style=\"white-space:pre;overflow-x:auto;line-height:normal;font-family:Menlo,'DejaVu Sans Mono',consolas,'Courier New',monospace\">18:37:45.605 | <span style=\"color: #008080; text-decoration-color: #008080\">INFO</span>    | Flow run<span style=\"color: #800080; text-decoration-color: #800080\"> 'big-barracuda'</span> - Created task run 'query_pool_vol-8bdd8db3-1' for task 'query_pool_vol'\n",
       "</pre>\n"
      ],
      "text/plain": [
       "18:37:45.605 | \u001b[36mINFO\u001b[0m    | Flow run\u001b[35m 'big-barracuda'\u001b[0m - Created task run 'query_pool_vol-8bdd8db3-1' for task 'query_pool_vol'\n"
      ]
     },
     "metadata": {},
     "output_type": "display_data"
    },
    {
     "data": {
      "text/html": [
       "<pre style=\"white-space:pre;overflow-x:auto;line-height:normal;font-family:Menlo,'DejaVu Sans Mono',consolas,'Courier New',monospace\">18:37:45.606 | <span style=\"color: #008080; text-decoration-color: #008080\">INFO</span>    | Flow run<span style=\"color: #800080; text-decoration-color: #800080\"> 'big-barracuda'</span> - Submitted task run 'query_pool_vol-8bdd8db3-1' for execution.\n",
       "</pre>\n"
      ],
      "text/plain": [
       "18:37:45.606 | \u001b[36mINFO\u001b[0m    | Flow run\u001b[35m 'big-barracuda'\u001b[0m - Submitted task run 'query_pool_vol-8bdd8db3-1' for execution.\n"
      ]
     },
     "metadata": {},
     "output_type": "display_data"
    },
    {
     "data": {
      "text/html": [
       "<pre style=\"white-space:pre;overflow-x:auto;line-height:normal;font-family:Menlo,'DejaVu Sans Mono',consolas,'Courier New',monospace\">18:37:45.615 | <span style=\"color: #008080; text-decoration-color: #008080\">INFO</span>    | Flow run<span style=\"color: #800080; text-decoration-color: #800080\"> 'big-barracuda'</span> - Created task run 'query_pool_snaps-60635b41-49' for task 'query_pool_snaps'\n",
       "</pre>\n"
      ],
      "text/plain": [
       "18:37:45.615 | \u001b[36mINFO\u001b[0m    | Flow run\u001b[35m 'big-barracuda'\u001b[0m - Created task run 'query_pool_snaps-60635b41-49' for task 'query_pool_snaps'\n"
      ]
     },
     "metadata": {},
     "output_type": "display_data"
    },
    {
     "data": {
      "text/html": [
       "<pre style=\"white-space:pre;overflow-x:auto;line-height:normal;font-family:Menlo,'DejaVu Sans Mono',consolas,'Courier New',monospace\">18:37:45.616 | <span style=\"color: #008080; text-decoration-color: #008080\">INFO</span>    | Flow run<span style=\"color: #800080; text-decoration-color: #800080\"> 'big-barracuda'</span> - Submitted task run 'query_pool_snaps-60635b41-49' for execution.\n",
       "</pre>\n"
      ],
      "text/plain": [
       "18:37:45.616 | \u001b[36mINFO\u001b[0m    | Flow run\u001b[35m 'big-barracuda'\u001b[0m - Submitted task run 'query_pool_snaps-60635b41-49' for execution.\n"
      ]
     },
     "metadata": {},
     "output_type": "display_data"
    },
    {
     "data": {
      "text/html": [
       "<pre style=\"white-space:pre;overflow-x:auto;line-height:normal;font-family:Menlo,'DejaVu Sans Mono',consolas,'Courier New',monospace\">18:37:45.624 | <span style=\"color: #008080; text-decoration-color: #008080\">INFO</span>    | Task run 'query_pool_snaps-60635b41-15' - Finished in state Cached(type=COMPLETED)\n",
       "</pre>\n"
      ],
      "text/plain": [
       "18:37:45.624 | \u001b[36mINFO\u001b[0m    | Task run 'query_pool_snaps-60635b41-15' - Finished in state Cached(type=COMPLETED)\n"
      ]
     },
     "metadata": {},
     "output_type": "display_data"
    },
    {
     "data": {
      "text/html": [
       "<pre style=\"white-space:pre;overflow-x:auto;line-height:normal;font-family:Menlo,'DejaVu Sans Mono',consolas,'Courier New',monospace\">18:37:45.627 | <span style=\"color: #008080; text-decoration-color: #008080\">INFO</span>    | Task run 'query_pool_vol-8bdd8db3-1' - Finished in state Cached(type=COMPLETED)\n",
       "</pre>\n"
      ],
      "text/plain": [
       "18:37:45.627 | \u001b[36mINFO\u001b[0m    | Task run 'query_pool_vol-8bdd8db3-1' - Finished in state Cached(type=COMPLETED)\n"
      ]
     },
     "metadata": {},
     "output_type": "display_data"
    },
    {
     "data": {
      "text/html": [
       "<pre style=\"white-space:pre;overflow-x:auto;line-height:normal;font-family:Menlo,'DejaVu Sans Mono',consolas,'Courier New',monospace\">18:37:45.634 | <span style=\"color: #008080; text-decoration-color: #008080\">INFO</span>    | Flow run<span style=\"color: #800080; text-decoration-color: #800080\"> 'big-barracuda'</span> - Created task run 'query_pool_vol-8bdd8db3-9' for task 'query_pool_vol'\n",
       "</pre>\n"
      ],
      "text/plain": [
       "18:37:45.634 | \u001b[36mINFO\u001b[0m    | Flow run\u001b[35m 'big-barracuda'\u001b[0m - Created task run 'query_pool_vol-8bdd8db3-9' for task 'query_pool_vol'\n"
      ]
     },
     "metadata": {},
     "output_type": "display_data"
    },
    {
     "data": {
      "text/html": [
       "<pre style=\"white-space:pre;overflow-x:auto;line-height:normal;font-family:Menlo,'DejaVu Sans Mono',consolas,'Courier New',monospace\">18:37:45.635 | <span style=\"color: #008080; text-decoration-color: #008080\">INFO</span>    | Flow run<span style=\"color: #800080; text-decoration-color: #800080\"> 'big-barracuda'</span> - Submitted task run 'query_pool_vol-8bdd8db3-9' for execution.\n",
       "</pre>\n"
      ],
      "text/plain": [
       "18:37:45.635 | \u001b[36mINFO\u001b[0m    | Flow run\u001b[35m 'big-barracuda'\u001b[0m - Submitted task run 'query_pool_vol-8bdd8db3-9' for execution.\n"
      ]
     },
     "metadata": {},
     "output_type": "display_data"
    },
    {
     "data": {
      "text/html": [
       "<pre style=\"white-space:pre;overflow-x:auto;line-height:normal;font-family:Menlo,'DejaVu Sans Mono',consolas,'Courier New',monospace\">18:37:45.641 | <span style=\"color: #008080; text-decoration-color: #008080\">INFO</span>    | Task run 'query_pool_snaps-60635b41-10' - Finished in state Cached(type=COMPLETED)\n",
       "</pre>\n"
      ],
      "text/plain": [
       "18:37:45.641 | \u001b[36mINFO\u001b[0m    | Task run 'query_pool_snaps-60635b41-10' - Finished in state Cached(type=COMPLETED)\n"
      ]
     },
     "metadata": {},
     "output_type": "display_data"
    },
    {
     "data": {
      "text/html": [
       "<pre style=\"white-space:pre;overflow-x:auto;line-height:normal;font-family:Menlo,'DejaVu Sans Mono',consolas,'Courier New',monospace\">18:37:45.645 | <span style=\"color: #008080; text-decoration-color: #008080\">INFO</span>    | Task run 'query_pool_vol-8bdd8db3-11' - Finished in state Cached(type=COMPLETED)\n",
       "</pre>\n"
      ],
      "text/plain": [
       "18:37:45.645 | \u001b[36mINFO\u001b[0m    | Task run 'query_pool_vol-8bdd8db3-11' - Finished in state Cached(type=COMPLETED)\n"
      ]
     },
     "metadata": {},
     "output_type": "display_data"
    },
    {
     "data": {
      "text/html": [
       "<pre style=\"white-space:pre;overflow-x:auto;line-height:normal;font-family:Menlo,'DejaVu Sans Mono',consolas,'Courier New',monospace\">18:37:45.650 | <span style=\"color: #008080; text-decoration-color: #008080\">INFO</span>    | Task run 'query_pool_vol-8bdd8db3-23' - Finished in state Cached(type=COMPLETED)\n",
       "</pre>\n"
      ],
      "text/plain": [
       "18:37:45.650 | \u001b[36mINFO\u001b[0m    | Task run 'query_pool_vol-8bdd8db3-23' - Finished in state Cached(type=COMPLETED)\n"
      ]
     },
     "metadata": {},
     "output_type": "display_data"
    },
    {
     "data": {
      "text/html": [
       "<pre style=\"white-space:pre;overflow-x:auto;line-height:normal;font-family:Menlo,'DejaVu Sans Mono',consolas,'Courier New',monospace\">18:37:45.653 | <span style=\"color: #008080; text-decoration-color: #008080\">INFO</span>    | Task run 'query_pool_vol-8bdd8db3-9' - Finished in state Cached(type=COMPLETED)\n",
       "</pre>\n"
      ],
      "text/plain": [
       "18:37:45.653 | \u001b[36mINFO\u001b[0m    | Task run 'query_pool_vol-8bdd8db3-9' - Finished in state Cached(type=COMPLETED)\n"
      ]
     },
     "metadata": {},
     "output_type": "display_data"
    },
    {
     "data": {
      "text/html": [
       "<pre style=\"white-space:pre;overflow-x:auto;line-height:normal;font-family:Menlo,'DejaVu Sans Mono',consolas,'Courier New',monospace\">18:37:45.656 | <span style=\"color: #008080; text-decoration-color: #008080\">INFO</span>    | Task run 'query_pool_vol-8bdd8db3-45' - Finished in state Cached(type=COMPLETED)\n",
       "</pre>\n"
      ],
      "text/plain": [
       "18:37:45.656 | \u001b[36mINFO\u001b[0m    | Task run 'query_pool_vol-8bdd8db3-45' - Finished in state Cached(type=COMPLETED)\n"
      ]
     },
     "metadata": {},
     "output_type": "display_data"
    },
    {
     "data": {
      "text/html": [
       "<pre style=\"white-space:pre;overflow-x:auto;line-height:normal;font-family:Menlo,'DejaVu Sans Mono',consolas,'Courier New',monospace\">18:37:45.660 | <span style=\"color: #008080; text-decoration-color: #008080\">INFO</span>    | Task run 'query_pool_vol-8bdd8db3-30' - Finished in state Cached(type=COMPLETED)\n",
       "</pre>\n"
      ],
      "text/plain": [
       "18:37:45.660 | \u001b[36mINFO\u001b[0m    | Task run 'query_pool_vol-8bdd8db3-30' - Finished in state Cached(type=COMPLETED)\n"
      ]
     },
     "metadata": {},
     "output_type": "display_data"
    },
    {
     "data": {
      "text/html": [
       "<pre style=\"white-space:pre;overflow-x:auto;line-height:normal;font-family:Menlo,'DejaVu Sans Mono',consolas,'Courier New',monospace\">18:37:45.667 | <span style=\"color: #008080; text-decoration-color: #008080\">INFO</span>    | Flow run<span style=\"color: #800080; text-decoration-color: #800080\"> 'big-barracuda'</span> - Created task run 'query_pool_snaps-60635b41-61' for task 'query_pool_snaps'\n",
       "</pre>\n"
      ],
      "text/plain": [
       "18:37:45.667 | \u001b[36mINFO\u001b[0m    | Flow run\u001b[35m 'big-barracuda'\u001b[0m - Created task run 'query_pool_snaps-60635b41-61' for task 'query_pool_snaps'\n"
      ]
     },
     "metadata": {},
     "output_type": "display_data"
    },
    {
     "data": {
      "text/html": [
       "<pre style=\"white-space:pre;overflow-x:auto;line-height:normal;font-family:Menlo,'DejaVu Sans Mono',consolas,'Courier New',monospace\">18:37:45.668 | <span style=\"color: #008080; text-decoration-color: #008080\">INFO</span>    | Flow run<span style=\"color: #800080; text-decoration-color: #800080\"> 'big-barracuda'</span> - Submitted task run 'query_pool_snaps-60635b41-61' for execution.\n",
       "</pre>\n"
      ],
      "text/plain": [
       "18:37:45.668 | \u001b[36mINFO\u001b[0m    | Flow run\u001b[35m 'big-barracuda'\u001b[0m - Submitted task run 'query_pool_snaps-60635b41-61' for execution.\n"
      ]
     },
     "metadata": {},
     "output_type": "display_data"
    },
    {
     "data": {
      "text/html": [
       "<pre style=\"white-space:pre;overflow-x:auto;line-height:normal;font-family:Menlo,'DejaVu Sans Mono',consolas,'Courier New',monospace\">18:37:45.674 | <span style=\"color: #008080; text-decoration-color: #008080\">INFO</span>    | Task run 'query_pool_snaps-60635b41-20' - Finished in state Cached(type=COMPLETED)\n",
       "</pre>\n"
      ],
      "text/plain": [
       "18:37:45.674 | \u001b[36mINFO\u001b[0m    | Task run 'query_pool_snaps-60635b41-20' - Finished in state Cached(type=COMPLETED)\n"
      ]
     },
     "metadata": {},
     "output_type": "display_data"
    },
    {
     "data": {
      "text/html": [
       "<pre style=\"white-space:pre;overflow-x:auto;line-height:normal;font-family:Menlo,'DejaVu Sans Mono',consolas,'Courier New',monospace\">18:37:45.679 | <span style=\"color: #008080; text-decoration-color: #008080\">INFO</span>    | Task run 'query_pool_vol-8bdd8db3-50' - Finished in state Cached(type=COMPLETED)\n",
       "</pre>\n"
      ],
      "text/plain": [
       "18:37:45.679 | \u001b[36mINFO\u001b[0m    | Task run 'query_pool_vol-8bdd8db3-50' - Finished in state Cached(type=COMPLETED)\n"
      ]
     },
     "metadata": {},
     "output_type": "display_data"
    },
    {
     "data": {
      "text/html": [
       "<pre style=\"white-space:pre;overflow-x:auto;line-height:normal;font-family:Menlo,'DejaVu Sans Mono',consolas,'Courier New',monospace\">18:37:45.683 | <span style=\"color: #008080; text-decoration-color: #008080\">INFO</span>    | Task run 'query_pool_snaps-60635b41-7' - Finished in state Cached(type=COMPLETED)\n",
       "</pre>\n"
      ],
      "text/plain": [
       "18:37:45.683 | \u001b[36mINFO\u001b[0m    | Task run 'query_pool_snaps-60635b41-7' - Finished in state Cached(type=COMPLETED)\n"
      ]
     },
     "metadata": {},
     "output_type": "display_data"
    },
    {
     "data": {
      "text/html": [
       "<pre style=\"white-space:pre;overflow-x:auto;line-height:normal;font-family:Menlo,'DejaVu Sans Mono',consolas,'Courier New',monospace\">18:37:45.688 | <span style=\"color: #008080; text-decoration-color: #008080\">INFO</span>    | Flow run<span style=\"color: #800080; text-decoration-color: #800080\"> 'big-barracuda'</span> - Created task run 'query_pool_vol-8bdd8db3-42' for task 'query_pool_vol'\n",
       "</pre>\n"
      ],
      "text/plain": [
       "18:37:45.688 | \u001b[36mINFO\u001b[0m    | Flow run\u001b[35m 'big-barracuda'\u001b[0m - Created task run 'query_pool_vol-8bdd8db3-42' for task 'query_pool_vol'\n"
      ]
     },
     "metadata": {},
     "output_type": "display_data"
    },
    {
     "data": {
      "text/html": [
       "<pre style=\"white-space:pre;overflow-x:auto;line-height:normal;font-family:Menlo,'DejaVu Sans Mono',consolas,'Courier New',monospace\">18:37:45.689 | <span style=\"color: #008080; text-decoration-color: #008080\">INFO</span>    | Flow run<span style=\"color: #800080; text-decoration-color: #800080\"> 'big-barracuda'</span> - Submitted task run 'query_pool_vol-8bdd8db3-42' for execution.\n",
       "</pre>\n"
      ],
      "text/plain": [
       "18:37:45.689 | \u001b[36mINFO\u001b[0m    | Flow run\u001b[35m 'big-barracuda'\u001b[0m - Submitted task run 'query_pool_vol-8bdd8db3-42' for execution.\n"
      ]
     },
     "metadata": {},
     "output_type": "display_data"
    },
    {
     "data": {
      "text/html": [
       "<pre style=\"white-space:pre;overflow-x:auto;line-height:normal;font-family:Menlo,'DejaVu Sans Mono',consolas,'Courier New',monospace\">18:37:45.695 | <span style=\"color: #008080; text-decoration-color: #008080\">INFO</span>    | Task run 'query_pool_snaps-60635b41-49' - Finished in state Cached(type=COMPLETED)\n",
       "</pre>\n"
      ],
      "text/plain": [
       "18:37:45.695 | \u001b[36mINFO\u001b[0m    | Task run 'query_pool_snaps-60635b41-49' - Finished in state Cached(type=COMPLETED)\n"
      ]
     },
     "metadata": {},
     "output_type": "display_data"
    },
    {
     "data": {
      "text/html": [
       "<pre style=\"white-space:pre;overflow-x:auto;line-height:normal;font-family:Menlo,'DejaVu Sans Mono',consolas,'Courier New',monospace\">18:37:45.701 | <span style=\"color: #008080; text-decoration-color: #008080\">INFO</span>    | Task run 'query_pool_snaps-60635b41-38' - Finished in state Cached(type=COMPLETED)\n",
       "</pre>\n"
      ],
      "text/plain": [
       "18:37:45.701 | \u001b[36mINFO\u001b[0m    | Task run 'query_pool_snaps-60635b41-38' - Finished in state Cached(type=COMPLETED)\n"
      ]
     },
     "metadata": {},
     "output_type": "display_data"
    },
    {
     "data": {
      "text/html": [
       "<pre style=\"white-space:pre;overflow-x:auto;line-height:normal;font-family:Menlo,'DejaVu Sans Mono',consolas,'Courier New',monospace\">18:37:45.706 | <span style=\"color: #008080; text-decoration-color: #008080\">INFO</span>    | Flow run<span style=\"color: #800080; text-decoration-color: #800080\"> 'big-barracuda'</span> - Created task run 'query_pool_snaps-60635b41-47' for task 'query_pool_snaps'\n",
       "</pre>\n"
      ],
      "text/plain": [
       "18:37:45.706 | \u001b[36mINFO\u001b[0m    | Flow run\u001b[35m 'big-barracuda'\u001b[0m - Created task run 'query_pool_snaps-60635b41-47' for task 'query_pool_snaps'\n"
      ]
     },
     "metadata": {},
     "output_type": "display_data"
    },
    {
     "data": {
      "text/html": [
       "<pre style=\"white-space:pre;overflow-x:auto;line-height:normal;font-family:Menlo,'DejaVu Sans Mono',consolas,'Courier New',monospace\">18:37:45.706 | <span style=\"color: #008080; text-decoration-color: #008080\">INFO</span>    | Flow run<span style=\"color: #800080; text-decoration-color: #800080\"> 'big-barracuda'</span> - Submitted task run 'query_pool_snaps-60635b41-47' for execution.\n",
       "</pre>\n"
      ],
      "text/plain": [
       "18:37:45.706 | \u001b[36mINFO\u001b[0m    | Flow run\u001b[35m 'big-barracuda'\u001b[0m - Submitted task run 'query_pool_snaps-60635b41-47' for execution.\n"
      ]
     },
     "metadata": {},
     "output_type": "display_data"
    },
    {
     "data": {
      "text/html": [
       "<pre style=\"white-space:pre;overflow-x:auto;line-height:normal;font-family:Menlo,'DejaVu Sans Mono',consolas,'Courier New',monospace\">18:37:45.714 | <span style=\"color: #008080; text-decoration-color: #008080\">INFO</span>    | Flow run<span style=\"color: #800080; text-decoration-color: #800080\"> 'big-barracuda'</span> - Created task run 'query_pool_snaps-60635b41-2' for task 'query_pool_snaps'\n",
       "</pre>\n"
      ],
      "text/plain": [
       "18:37:45.714 | \u001b[36mINFO\u001b[0m    | Flow run\u001b[35m 'big-barracuda'\u001b[0m - Created task run 'query_pool_snaps-60635b41-2' for task 'query_pool_snaps'\n"
      ]
     },
     "metadata": {},
     "output_type": "display_data"
    },
    {
     "data": {
      "text/html": [
       "<pre style=\"white-space:pre;overflow-x:auto;line-height:normal;font-family:Menlo,'DejaVu Sans Mono',consolas,'Courier New',monospace\">18:37:45.715 | <span style=\"color: #008080; text-decoration-color: #008080\">INFO</span>    | Flow run<span style=\"color: #800080; text-decoration-color: #800080\"> 'big-barracuda'</span> - Submitted task run 'query_pool_snaps-60635b41-2' for execution.\n",
       "</pre>\n"
      ],
      "text/plain": [
       "18:37:45.715 | \u001b[36mINFO\u001b[0m    | Flow run\u001b[35m 'big-barracuda'\u001b[0m - Submitted task run 'query_pool_snaps-60635b41-2' for execution.\n"
      ]
     },
     "metadata": {},
     "output_type": "display_data"
    },
    {
     "data": {
      "text/html": [
       "<pre style=\"white-space:pre;overflow-x:auto;line-height:normal;font-family:Menlo,'DejaVu Sans Mono',consolas,'Courier New',monospace\">18:37:45.725 | <span style=\"color: #008080; text-decoration-color: #008080\">INFO</span>    | Flow run<span style=\"color: #800080; text-decoration-color: #800080\"> 'big-barracuda'</span> - Created task run 'query_pool_vol-8bdd8db3-53' for task 'query_pool_vol'\n",
       "</pre>\n"
      ],
      "text/plain": [
       "18:37:45.725 | \u001b[36mINFO\u001b[0m    | Flow run\u001b[35m 'big-barracuda'\u001b[0m - Created task run 'query_pool_vol-8bdd8db3-53' for task 'query_pool_vol'\n"
      ]
     },
     "metadata": {},
     "output_type": "display_data"
    },
    {
     "data": {
      "text/html": [
       "<pre style=\"white-space:pre;overflow-x:auto;line-height:normal;font-family:Menlo,'DejaVu Sans Mono',consolas,'Courier New',monospace\">18:37:45.726 | <span style=\"color: #008080; text-decoration-color: #008080\">INFO</span>    | Flow run<span style=\"color: #800080; text-decoration-color: #800080\"> 'big-barracuda'</span> - Submitted task run 'query_pool_vol-8bdd8db3-53' for execution.\n",
       "</pre>\n"
      ],
      "text/plain": [
       "18:37:45.726 | \u001b[36mINFO\u001b[0m    | Flow run\u001b[35m 'big-barracuda'\u001b[0m - Submitted task run 'query_pool_vol-8bdd8db3-53' for execution.\n"
      ]
     },
     "metadata": {},
     "output_type": "display_data"
    },
    {
     "data": {
      "text/html": [
       "<pre style=\"white-space:pre;overflow-x:auto;line-height:normal;font-family:Menlo,'DejaVu Sans Mono',consolas,'Courier New',monospace\">18:37:45.734 | <span style=\"color: #008080; text-decoration-color: #008080\">INFO</span>    | Task run 'query_pool_snaps-60635b41-47' - Finished in state Cached(type=COMPLETED)\n",
       "</pre>\n"
      ],
      "text/plain": [
       "18:37:45.734 | \u001b[36mINFO\u001b[0m    | Task run 'query_pool_snaps-60635b41-47' - Finished in state Cached(type=COMPLETED)\n"
      ]
     },
     "metadata": {},
     "output_type": "display_data"
    },
    {
     "data": {
      "text/html": [
       "<pre style=\"white-space:pre;overflow-x:auto;line-height:normal;font-family:Menlo,'DejaVu Sans Mono',consolas,'Courier New',monospace\">18:37:45.739 | <span style=\"color: #008080; text-decoration-color: #008080\">INFO</span>    | Task run 'query_pool_snaps-60635b41-2' - Finished in state Cached(type=COMPLETED)\n",
       "</pre>\n"
      ],
      "text/plain": [
       "18:37:45.739 | \u001b[36mINFO\u001b[0m    | Task run 'query_pool_snaps-60635b41-2' - Finished in state Cached(type=COMPLETED)\n"
      ]
     },
     "metadata": {},
     "output_type": "display_data"
    },
    {
     "data": {
      "text/html": [
       "<pre style=\"white-space:pre;overflow-x:auto;line-height:normal;font-family:Menlo,'DejaVu Sans Mono',consolas,'Courier New',monospace\">18:37:45.745 | <span style=\"color: #008080; text-decoration-color: #008080\">INFO</span>    | Flow run<span style=\"color: #800080; text-decoration-color: #800080\"> 'big-barracuda'</span> - Created task run 'query_pool_vol-8bdd8db3-7' for task 'query_pool_vol'\n",
       "</pre>\n"
      ],
      "text/plain": [
       "18:37:45.745 | \u001b[36mINFO\u001b[0m    | Flow run\u001b[35m 'big-barracuda'\u001b[0m - Created task run 'query_pool_vol-8bdd8db3-7' for task 'query_pool_vol'\n"
      ]
     },
     "metadata": {},
     "output_type": "display_data"
    },
    {
     "data": {
      "text/html": [
       "<pre style=\"white-space:pre;overflow-x:auto;line-height:normal;font-family:Menlo,'DejaVu Sans Mono',consolas,'Courier New',monospace\">18:37:45.745 | <span style=\"color: #008080; text-decoration-color: #008080\">INFO</span>    | Flow run<span style=\"color: #800080; text-decoration-color: #800080\"> 'big-barracuda'</span> - Submitted task run 'query_pool_vol-8bdd8db3-7' for execution.\n",
       "</pre>\n"
      ],
      "text/plain": [
       "18:37:45.745 | \u001b[36mINFO\u001b[0m    | Flow run\u001b[35m 'big-barracuda'\u001b[0m - Submitted task run 'query_pool_vol-8bdd8db3-7' for execution.\n"
      ]
     },
     "metadata": {},
     "output_type": "display_data"
    },
    {
     "data": {
      "text/html": [
       "<pre style=\"white-space:pre;overflow-x:auto;line-height:normal;font-family:Menlo,'DejaVu Sans Mono',consolas,'Courier New',monospace\">18:37:45.760 | <span style=\"color: #008080; text-decoration-color: #008080\">INFO</span>    | Task run 'query_pool_vol-8bdd8db3-53' - Finished in state Cached(type=COMPLETED)\n",
       "</pre>\n"
      ],
      "text/plain": [
       "18:37:45.760 | \u001b[36mINFO\u001b[0m    | Task run 'query_pool_vol-8bdd8db3-53' - Finished in state Cached(type=COMPLETED)\n"
      ]
     },
     "metadata": {},
     "output_type": "display_data"
    },
    {
     "data": {
      "text/html": [
       "<pre style=\"white-space:pre;overflow-x:auto;line-height:normal;font-family:Menlo,'DejaVu Sans Mono',consolas,'Courier New',monospace\">18:37:45.766 | <span style=\"color: #008080; text-decoration-color: #008080\">INFO</span>    | Task run 'query_pool_vol-8bdd8db3-42' - Finished in state Cached(type=COMPLETED)\n",
       "</pre>\n"
      ],
      "text/plain": [
       "18:37:45.766 | \u001b[36mINFO\u001b[0m    | Task run 'query_pool_vol-8bdd8db3-42' - Finished in state Cached(type=COMPLETED)\n"
      ]
     },
     "metadata": {},
     "output_type": "display_data"
    },
    {
     "data": {
      "text/html": [
       "<pre style=\"white-space:pre;overflow-x:auto;line-height:normal;font-family:Menlo,'DejaVu Sans Mono',consolas,'Courier New',monospace\">18:37:45.788 | <span style=\"color: #008080; text-decoration-color: #008080\">INFO</span>    | Flow run<span style=\"color: #800080; text-decoration-color: #800080\"> 'big-barracuda'</span> - Created task run 'query_pool_snaps-60635b41-43' for task 'query_pool_snaps'\n",
       "</pre>\n"
      ],
      "text/plain": [
       "18:37:45.788 | \u001b[36mINFO\u001b[0m    | Flow run\u001b[35m 'big-barracuda'\u001b[0m - Created task run 'query_pool_snaps-60635b41-43' for task 'query_pool_snaps'\n"
      ]
     },
     "metadata": {},
     "output_type": "display_data"
    },
    {
     "data": {
      "text/html": [
       "<pre style=\"white-space:pre;overflow-x:auto;line-height:normal;font-family:Menlo,'DejaVu Sans Mono',consolas,'Courier New',monospace\">18:37:45.789 | <span style=\"color: #008080; text-decoration-color: #008080\">INFO</span>    | Flow run<span style=\"color: #800080; text-decoration-color: #800080\"> 'big-barracuda'</span> - Submitted task run 'query_pool_snaps-60635b41-43' for execution.\n",
       "</pre>\n"
      ],
      "text/plain": [
       "18:37:45.789 | \u001b[36mINFO\u001b[0m    | Flow run\u001b[35m 'big-barracuda'\u001b[0m - Submitted task run 'query_pool_snaps-60635b41-43' for execution.\n"
      ]
     },
     "metadata": {},
     "output_type": "display_data"
    },
    {
     "data": {
      "text/html": [
       "<pre style=\"white-space:pre;overflow-x:auto;line-height:normal;font-family:Menlo,'DejaVu Sans Mono',consolas,'Courier New',monospace\">18:37:45.795 | <span style=\"color: #008080; text-decoration-color: #008080\">INFO</span>    | Task run 'query_pool_vol-8bdd8db3-7' - Finished in state Cached(type=COMPLETED)\n",
       "</pre>\n"
      ],
      "text/plain": [
       "18:37:45.795 | \u001b[36mINFO\u001b[0m    | Task run 'query_pool_vol-8bdd8db3-7' - Finished in state Cached(type=COMPLETED)\n"
      ]
     },
     "metadata": {},
     "output_type": "display_data"
    },
    {
     "data": {
      "text/html": [
       "<pre style=\"white-space:pre;overflow-x:auto;line-height:normal;font-family:Menlo,'DejaVu Sans Mono',consolas,'Courier New',monospace\">18:37:45.803 | <span style=\"color: #008080; text-decoration-color: #008080\">INFO</span>    | Flow run<span style=\"color: #800080; text-decoration-color: #800080\"> 'big-barracuda'</span> - Created task run 'query_pool_vol-8bdd8db3-0' for task 'query_pool_vol'\n",
       "</pre>\n"
      ],
      "text/plain": [
       "18:37:45.803 | \u001b[36mINFO\u001b[0m    | Flow run\u001b[35m 'big-barracuda'\u001b[0m - Created task run 'query_pool_vol-8bdd8db3-0' for task 'query_pool_vol'\n"
      ]
     },
     "metadata": {},
     "output_type": "display_data"
    },
    {
     "data": {
      "text/html": [
       "<pre style=\"white-space:pre;overflow-x:auto;line-height:normal;font-family:Menlo,'DejaVu Sans Mono',consolas,'Courier New',monospace\">18:37:45.804 | <span style=\"color: #008080; text-decoration-color: #008080\">INFO</span>    | Flow run<span style=\"color: #800080; text-decoration-color: #800080\"> 'big-barracuda'</span> - Submitted task run 'query_pool_vol-8bdd8db3-0' for execution.\n",
       "</pre>\n"
      ],
      "text/plain": [
       "18:37:45.804 | \u001b[36mINFO\u001b[0m    | Flow run\u001b[35m 'big-barracuda'\u001b[0m - Submitted task run 'query_pool_vol-8bdd8db3-0' for execution.\n"
      ]
     },
     "metadata": {},
     "output_type": "display_data"
    },
    {
     "data": {
      "text/html": [
       "<pre style=\"white-space:pre;overflow-x:auto;line-height:normal;font-family:Menlo,'DejaVu Sans Mono',consolas,'Courier New',monospace\">18:37:45.810 | <span style=\"color: #008080; text-decoration-color: #008080\">INFO</span>    | Task run 'query_pool_snaps-60635b41-8' - Finished in state Cached(type=COMPLETED)\n",
       "</pre>\n"
      ],
      "text/plain": [
       "18:37:45.810 | \u001b[36mINFO\u001b[0m    | Task run 'query_pool_snaps-60635b41-8' - Finished in state Cached(type=COMPLETED)\n"
      ]
     },
     "metadata": {},
     "output_type": "display_data"
    },
    {
     "data": {
      "text/html": [
       "<pre style=\"white-space:pre;overflow-x:auto;line-height:normal;font-family:Menlo,'DejaVu Sans Mono',consolas,'Courier New',monospace\">18:37:45.817 | <span style=\"color: #008080; text-decoration-color: #008080\">INFO</span>    | Flow run<span style=\"color: #800080; text-decoration-color: #800080\"> 'big-barracuda'</span> - Created task run 'query_pool_vol-8bdd8db3-2' for task 'query_pool_vol'\n",
       "</pre>\n"
      ],
      "text/plain": [
       "18:37:45.817 | \u001b[36mINFO\u001b[0m    | Flow run\u001b[35m 'big-barracuda'\u001b[0m - Created task run 'query_pool_vol-8bdd8db3-2' for task 'query_pool_vol'\n"
      ]
     },
     "metadata": {},
     "output_type": "display_data"
    },
    {
     "data": {
      "text/html": [
       "<pre style=\"white-space:pre;overflow-x:auto;line-height:normal;font-family:Menlo,'DejaVu Sans Mono',consolas,'Courier New',monospace\">18:37:45.818 | <span style=\"color: #008080; text-decoration-color: #008080\">INFO</span>    | Flow run<span style=\"color: #800080; text-decoration-color: #800080\"> 'big-barracuda'</span> - Submitted task run 'query_pool_vol-8bdd8db3-2' for execution.\n",
       "</pre>\n"
      ],
      "text/plain": [
       "18:37:45.818 | \u001b[36mINFO\u001b[0m    | Flow run\u001b[35m 'big-barracuda'\u001b[0m - Submitted task run 'query_pool_vol-8bdd8db3-2' for execution.\n"
      ]
     },
     "metadata": {},
     "output_type": "display_data"
    },
    {
     "data": {
      "text/html": [
       "<pre style=\"white-space:pre;overflow-x:auto;line-height:normal;font-family:Menlo,'DejaVu Sans Mono',consolas,'Courier New',monospace\">18:37:45.824 | <span style=\"color: #008080; text-decoration-color: #008080\">INFO</span>    | Task run 'query_pool_vol-8bdd8db3-0' - Finished in state Cached(type=COMPLETED)\n",
       "</pre>\n"
      ],
      "text/plain": [
       "18:37:45.824 | \u001b[36mINFO\u001b[0m    | Task run 'query_pool_vol-8bdd8db3-0' - Finished in state Cached(type=COMPLETED)\n"
      ]
     },
     "metadata": {},
     "output_type": "display_data"
    },
    {
     "data": {
      "text/html": [
       "<pre style=\"white-space:pre;overflow-x:auto;line-height:normal;font-family:Menlo,'DejaVu Sans Mono',consolas,'Courier New',monospace\">18:37:45.833 | <span style=\"color: #008080; text-decoration-color: #008080\">INFO</span>    | Flow run<span style=\"color: #800080; text-decoration-color: #800080\"> 'big-barracuda'</span> - Created task run 'query_pool_vol-8bdd8db3-36' for task 'query_pool_vol'\n",
       "</pre>\n"
      ],
      "text/plain": [
       "18:37:45.833 | \u001b[36mINFO\u001b[0m    | Flow run\u001b[35m 'big-barracuda'\u001b[0m - Created task run 'query_pool_vol-8bdd8db3-36' for task 'query_pool_vol'\n"
      ]
     },
     "metadata": {},
     "output_type": "display_data"
    },
    {
     "data": {
      "text/html": [
       "<pre style=\"white-space:pre;overflow-x:auto;line-height:normal;font-family:Menlo,'DejaVu Sans Mono',consolas,'Courier New',monospace\">18:37:45.833 | <span style=\"color: #008080; text-decoration-color: #008080\">INFO</span>    | Flow run<span style=\"color: #800080; text-decoration-color: #800080\"> 'big-barracuda'</span> - Submitted task run 'query_pool_vol-8bdd8db3-36' for execution.\n",
       "</pre>\n"
      ],
      "text/plain": [
       "18:37:45.833 | \u001b[36mINFO\u001b[0m    | Flow run\u001b[35m 'big-barracuda'\u001b[0m - Submitted task run 'query_pool_vol-8bdd8db3-36' for execution.\n"
      ]
     },
     "metadata": {},
     "output_type": "display_data"
    },
    {
     "data": {
      "text/html": [
       "<pre style=\"white-space:pre;overflow-x:auto;line-height:normal;font-family:Menlo,'DejaVu Sans Mono',consolas,'Courier New',monospace\">18:37:45.839 | <span style=\"color: #008080; text-decoration-color: #008080\">INFO</span>    | Task run 'query_pool_vol-8bdd8db3-2' - Finished in state Cached(type=COMPLETED)\n",
       "</pre>\n"
      ],
      "text/plain": [
       "18:37:45.839 | \u001b[36mINFO\u001b[0m    | Task run 'query_pool_vol-8bdd8db3-2' - Finished in state Cached(type=COMPLETED)\n"
      ]
     },
     "metadata": {},
     "output_type": "display_data"
    },
    {
     "data": {
      "text/html": [
       "<pre style=\"white-space:pre;overflow-x:auto;line-height:normal;font-family:Menlo,'DejaVu Sans Mono',consolas,'Courier New',monospace\">18:37:45.847 | <span style=\"color: #008080; text-decoration-color: #008080\">INFO</span>    | Flow run<span style=\"color: #800080; text-decoration-color: #800080\"> 'big-barracuda'</span> - Created task run 'query_pool_vol-8bdd8db3-21' for task 'query_pool_vol'\n",
       "</pre>\n"
      ],
      "text/plain": [
       "18:37:45.847 | \u001b[36mINFO\u001b[0m    | Flow run\u001b[35m 'big-barracuda'\u001b[0m - Created task run 'query_pool_vol-8bdd8db3-21' for task 'query_pool_vol'\n"
      ]
     },
     "metadata": {},
     "output_type": "display_data"
    },
    {
     "data": {
      "text/html": [
       "<pre style=\"white-space:pre;overflow-x:auto;line-height:normal;font-family:Menlo,'DejaVu Sans Mono',consolas,'Courier New',monospace\">18:37:45.847 | <span style=\"color: #008080; text-decoration-color: #008080\">INFO</span>    | Flow run<span style=\"color: #800080; text-decoration-color: #800080\"> 'big-barracuda'</span> - Submitted task run 'query_pool_vol-8bdd8db3-21' for execution.\n",
       "</pre>\n"
      ],
      "text/plain": [
       "18:37:45.847 | \u001b[36mINFO\u001b[0m    | Flow run\u001b[35m 'big-barracuda'\u001b[0m - Submitted task run 'query_pool_vol-8bdd8db3-21' for execution.\n"
      ]
     },
     "metadata": {},
     "output_type": "display_data"
    },
    {
     "data": {
      "text/html": [
       "<pre style=\"white-space:pre;overflow-x:auto;line-height:normal;font-family:Menlo,'DejaVu Sans Mono',consolas,'Courier New',monospace\">18:37:45.854 | <span style=\"color: #008080; text-decoration-color: #008080\">INFO</span>    | Task run 'query_pool_vol-8bdd8db3-36' - Finished in state Cached(type=COMPLETED)\n",
       "</pre>\n"
      ],
      "text/plain": [
       "18:37:45.854 | \u001b[36mINFO\u001b[0m    | Task run 'query_pool_vol-8bdd8db3-36' - Finished in state Cached(type=COMPLETED)\n"
      ]
     },
     "metadata": {},
     "output_type": "display_data"
    },
    {
     "data": {
      "text/html": [
       "<pre style=\"white-space:pre;overflow-x:auto;line-height:normal;font-family:Menlo,'DejaVu Sans Mono',consolas,'Courier New',monospace\">18:37:45.862 | <span style=\"color: #008080; text-decoration-color: #008080\">INFO</span>    | Flow run<span style=\"color: #800080; text-decoration-color: #800080\"> 'big-barracuda'</span> - Created task run 'query_pool_vol-8bdd8db3-39' for task 'query_pool_vol'\n",
       "</pre>\n"
      ],
      "text/plain": [
       "18:37:45.862 | \u001b[36mINFO\u001b[0m    | Flow run\u001b[35m 'big-barracuda'\u001b[0m - Created task run 'query_pool_vol-8bdd8db3-39' for task 'query_pool_vol'\n"
      ]
     },
     "metadata": {},
     "output_type": "display_data"
    },
    {
     "data": {
      "text/html": [
       "<pre style=\"white-space:pre;overflow-x:auto;line-height:normal;font-family:Menlo,'DejaVu Sans Mono',consolas,'Courier New',monospace\">18:37:45.863 | <span style=\"color: #008080; text-decoration-color: #008080\">INFO</span>    | Flow run<span style=\"color: #800080; text-decoration-color: #800080\"> 'big-barracuda'</span> - Submitted task run 'query_pool_vol-8bdd8db3-39' for execution.\n",
       "</pre>\n"
      ],
      "text/plain": [
       "18:37:45.863 | \u001b[36mINFO\u001b[0m    | Flow run\u001b[35m 'big-barracuda'\u001b[0m - Submitted task run 'query_pool_vol-8bdd8db3-39' for execution.\n"
      ]
     },
     "metadata": {},
     "output_type": "display_data"
    },
    {
     "data": {
      "text/html": [
       "<pre style=\"white-space:pre;overflow-x:auto;line-height:normal;font-family:Menlo,'DejaVu Sans Mono',consolas,'Courier New',monospace\">18:37:45.869 | <span style=\"color: #008080; text-decoration-color: #008080\">INFO</span>    | Task run 'query_pool_vol-8bdd8db3-21' - Finished in state Cached(type=COMPLETED)\n",
       "</pre>\n"
      ],
      "text/plain": [
       "18:37:45.869 | \u001b[36mINFO\u001b[0m    | Task run 'query_pool_vol-8bdd8db3-21' - Finished in state Cached(type=COMPLETED)\n"
      ]
     },
     "metadata": {},
     "output_type": "display_data"
    },
    {
     "data": {
      "text/html": [
       "<pre style=\"white-space:pre;overflow-x:auto;line-height:normal;font-family:Menlo,'DejaVu Sans Mono',consolas,'Courier New',monospace\">18:37:45.877 | <span style=\"color: #008080; text-decoration-color: #008080\">INFO</span>    | Flow run<span style=\"color: #800080; text-decoration-color: #800080\"> 'big-barracuda'</span> - Created task run 'query_pool_vol-8bdd8db3-13' for task 'query_pool_vol'\n",
       "</pre>\n"
      ],
      "text/plain": [
       "18:37:45.877 | \u001b[36mINFO\u001b[0m    | Flow run\u001b[35m 'big-barracuda'\u001b[0m - Created task run 'query_pool_vol-8bdd8db3-13' for task 'query_pool_vol'\n"
      ]
     },
     "metadata": {},
     "output_type": "display_data"
    },
    {
     "data": {
      "text/html": [
       "<pre style=\"white-space:pre;overflow-x:auto;line-height:normal;font-family:Menlo,'DejaVu Sans Mono',consolas,'Courier New',monospace\">18:37:45.878 | <span style=\"color: #008080; text-decoration-color: #008080\">INFO</span>    | Flow run<span style=\"color: #800080; text-decoration-color: #800080\"> 'big-barracuda'</span> - Submitted task run 'query_pool_vol-8bdd8db3-13' for execution.\n",
       "</pre>\n"
      ],
      "text/plain": [
       "18:37:45.878 | \u001b[36mINFO\u001b[0m    | Flow run\u001b[35m 'big-barracuda'\u001b[0m - Submitted task run 'query_pool_vol-8bdd8db3-13' for execution.\n"
      ]
     },
     "metadata": {},
     "output_type": "display_data"
    },
    {
     "data": {
      "text/html": [
       "<pre style=\"white-space:pre;overflow-x:auto;line-height:normal;font-family:Menlo,'DejaVu Sans Mono',consolas,'Courier New',monospace\">18:37:45.883 | <span style=\"color: #008080; text-decoration-color: #008080\">INFO</span>    | Task run 'query_pool_vol-8bdd8db3-39' - Finished in state Cached(type=COMPLETED)\n",
       "</pre>\n"
      ],
      "text/plain": [
       "18:37:45.883 | \u001b[36mINFO\u001b[0m    | Task run 'query_pool_vol-8bdd8db3-39' - Finished in state Cached(type=COMPLETED)\n"
      ]
     },
     "metadata": {},
     "output_type": "display_data"
    },
    {
     "data": {
      "text/html": [
       "<pre style=\"white-space:pre;overflow-x:auto;line-height:normal;font-family:Menlo,'DejaVu Sans Mono',consolas,'Courier New',monospace\">18:37:45.890 | <span style=\"color: #008080; text-decoration-color: #008080\">INFO</span>    | Flow run<span style=\"color: #800080; text-decoration-color: #800080\"> 'big-barracuda'</span> - Created task run 'query_pool_snaps-60635b41-44' for task 'query_pool_snaps'\n",
       "</pre>\n"
      ],
      "text/plain": [
       "18:37:45.890 | \u001b[36mINFO\u001b[0m    | Flow run\u001b[35m 'big-barracuda'\u001b[0m - Created task run 'query_pool_snaps-60635b41-44' for task 'query_pool_snaps'\n"
      ]
     },
     "metadata": {},
     "output_type": "display_data"
    },
    {
     "data": {
      "text/html": [
       "<pre style=\"white-space:pre;overflow-x:auto;line-height:normal;font-family:Menlo,'DejaVu Sans Mono',consolas,'Courier New',monospace\">18:37:45.891 | <span style=\"color: #008080; text-decoration-color: #008080\">INFO</span>    | Flow run<span style=\"color: #800080; text-decoration-color: #800080\"> 'big-barracuda'</span> - Submitted task run 'query_pool_snaps-60635b41-44' for execution.\n",
       "</pre>\n"
      ],
      "text/plain": [
       "18:37:45.891 | \u001b[36mINFO\u001b[0m    | Flow run\u001b[35m 'big-barracuda'\u001b[0m - Submitted task run 'query_pool_snaps-60635b41-44' for execution.\n"
      ]
     },
     "metadata": {},
     "output_type": "display_data"
    },
    {
     "data": {
      "text/html": [
       "<pre style=\"white-space:pre;overflow-x:auto;line-height:normal;font-family:Menlo,'DejaVu Sans Mono',consolas,'Courier New',monospace\">18:37:45.898 | <span style=\"color: #008080; text-decoration-color: #008080\">INFO</span>    | Flow run<span style=\"color: #800080; text-decoration-color: #800080\"> 'big-barracuda'</span> - Created task run 'query_pool_snaps-60635b41-30' for task 'query_pool_snaps'\n",
       "</pre>\n"
      ],
      "text/plain": [
       "18:37:45.898 | \u001b[36mINFO\u001b[0m    | Flow run\u001b[35m 'big-barracuda'\u001b[0m - Created task run 'query_pool_snaps-60635b41-30' for task 'query_pool_snaps'\n"
      ]
     },
     "metadata": {},
     "output_type": "display_data"
    },
    {
     "data": {
      "text/html": [
       "<pre style=\"white-space:pre;overflow-x:auto;line-height:normal;font-family:Menlo,'DejaVu Sans Mono',consolas,'Courier New',monospace\">18:37:45.899 | <span style=\"color: #008080; text-decoration-color: #008080\">INFO</span>    | Flow run<span style=\"color: #800080; text-decoration-color: #800080\"> 'big-barracuda'</span> - Submitted task run 'query_pool_snaps-60635b41-30' for execution.\n",
       "</pre>\n"
      ],
      "text/plain": [
       "18:37:45.899 | \u001b[36mINFO\u001b[0m    | Flow run\u001b[35m 'big-barracuda'\u001b[0m - Submitted task run 'query_pool_snaps-60635b41-30' for execution.\n"
      ]
     },
     "metadata": {},
     "output_type": "display_data"
    },
    {
     "data": {
      "text/html": [
       "<pre style=\"white-space:pre;overflow-x:auto;line-height:normal;font-family:Menlo,'DejaVu Sans Mono',consolas,'Courier New',monospace\">18:37:45.908 | <span style=\"color: #008080; text-decoration-color: #008080\">INFO</span>    | Task run 'query_pool_vol-8bdd8db3-13' - Finished in state Cached(type=COMPLETED)\n",
       "</pre>\n"
      ],
      "text/plain": [
       "18:37:45.908 | \u001b[36mINFO\u001b[0m    | Task run 'query_pool_vol-8bdd8db3-13' - Finished in state Cached(type=COMPLETED)\n"
      ]
     },
     "metadata": {},
     "output_type": "display_data"
    },
    {
     "data": {
      "text/html": [
       "<pre style=\"white-space:pre;overflow-x:auto;line-height:normal;font-family:Menlo,'DejaVu Sans Mono',consolas,'Courier New',monospace\">18:37:45.913 | <span style=\"color: #008080; text-decoration-color: #008080\">INFO</span>    | Task run 'query_pool_snaps-60635b41-33' - Finished in state Cached(type=COMPLETED)\n",
       "</pre>\n"
      ],
      "text/plain": [
       "18:37:45.913 | \u001b[36mINFO\u001b[0m    | Task run 'query_pool_snaps-60635b41-33' - Finished in state Cached(type=COMPLETED)\n"
      ]
     },
     "metadata": {},
     "output_type": "display_data"
    },
    {
     "data": {
      "text/html": [
       "<pre style=\"white-space:pre;overflow-x:auto;line-height:normal;font-family:Menlo,'DejaVu Sans Mono',consolas,'Courier New',monospace\">18:37:45.921 | <span style=\"color: #008080; text-decoration-color: #008080\">INFO</span>    | Task run 'query_pool_snaps-60635b41-30' - Finished in state Cached(type=COMPLETED)\n",
       "</pre>\n"
      ],
      "text/plain": [
       "18:37:45.921 | \u001b[36mINFO\u001b[0m    | Task run 'query_pool_snaps-60635b41-30' - Finished in state Cached(type=COMPLETED)\n"
      ]
     },
     "metadata": {},
     "output_type": "display_data"
    },
    {
     "data": {
      "text/html": [
       "<pre style=\"white-space:pre;overflow-x:auto;line-height:normal;font-family:Menlo,'DejaVu Sans Mono',consolas,'Courier New',monospace\">18:37:45.924 | <span style=\"color: #008080; text-decoration-color: #008080\">INFO</span>    | Flow run<span style=\"color: #800080; text-decoration-color: #800080\"> 'big-barracuda'</span> - Created task run 'query_pool_vol-8bdd8db3-33' for task 'query_pool_vol'\n",
       "</pre>\n"
      ],
      "text/plain": [
       "18:37:45.924 | \u001b[36mINFO\u001b[0m    | Flow run\u001b[35m 'big-barracuda'\u001b[0m - Created task run 'query_pool_vol-8bdd8db3-33' for task 'query_pool_vol'\n"
      ]
     },
     "metadata": {},
     "output_type": "display_data"
    },
    {
     "data": {
      "text/html": [
       "<pre style=\"white-space:pre;overflow-x:auto;line-height:normal;font-family:Menlo,'DejaVu Sans Mono',consolas,'Courier New',monospace\">18:37:45.925 | <span style=\"color: #008080; text-decoration-color: #008080\">INFO</span>    | Flow run<span style=\"color: #800080; text-decoration-color: #800080\"> 'big-barracuda'</span> - Submitted task run 'query_pool_vol-8bdd8db3-33' for execution.\n",
       "</pre>\n"
      ],
      "text/plain": [
       "18:37:45.925 | \u001b[36mINFO\u001b[0m    | Flow run\u001b[35m 'big-barracuda'\u001b[0m - Submitted task run 'query_pool_vol-8bdd8db3-33' for execution.\n"
      ]
     },
     "metadata": {},
     "output_type": "display_data"
    },
    {
     "data": {
      "text/html": [
       "<pre style=\"white-space:pre;overflow-x:auto;line-height:normal;font-family:Menlo,'DejaVu Sans Mono',consolas,'Courier New',monospace\">18:37:45.932 | <span style=\"color: #008080; text-decoration-color: #008080\">INFO</span>    | Flow run<span style=\"color: #800080; text-decoration-color: #800080\"> 'big-barracuda'</span> - Created task run 'query_pool_snaps-60635b41-34' for task 'query_pool_snaps'\n",
       "</pre>\n"
      ],
      "text/plain": [
       "18:37:45.932 | \u001b[36mINFO\u001b[0m    | Flow run\u001b[35m 'big-barracuda'\u001b[0m - Created task run 'query_pool_snaps-60635b41-34' for task 'query_pool_snaps'\n"
      ]
     },
     "metadata": {},
     "output_type": "display_data"
    },
    {
     "data": {
      "text/html": [
       "<pre style=\"white-space:pre;overflow-x:auto;line-height:normal;font-family:Menlo,'DejaVu Sans Mono',consolas,'Courier New',monospace\">18:37:45.933 | <span style=\"color: #008080; text-decoration-color: #008080\">INFO</span>    | Flow run<span style=\"color: #800080; text-decoration-color: #800080\"> 'big-barracuda'</span> - Submitted task run 'query_pool_snaps-60635b41-34' for execution.\n",
       "</pre>\n"
      ],
      "text/plain": [
       "18:37:45.933 | \u001b[36mINFO\u001b[0m    | Flow run\u001b[35m 'big-barracuda'\u001b[0m - Submitted task run 'query_pool_snaps-60635b41-34' for execution.\n"
      ]
     },
     "metadata": {},
     "output_type": "display_data"
    },
    {
     "data": {
      "text/html": [
       "<pre style=\"white-space:pre;overflow-x:auto;line-height:normal;font-family:Menlo,'DejaVu Sans Mono',consolas,'Courier New',monospace\">18:37:45.944 | <span style=\"color: #008080; text-decoration-color: #008080\">INFO</span>    | Flow run<span style=\"color: #800080; text-decoration-color: #800080\"> 'big-barracuda'</span> - Created task run 'query_pool_snaps-60635b41-23' for task 'query_pool_snaps'\n",
       "</pre>\n"
      ],
      "text/plain": [
       "18:37:45.944 | \u001b[36mINFO\u001b[0m    | Flow run\u001b[35m 'big-barracuda'\u001b[0m - Created task run 'query_pool_snaps-60635b41-23' for task 'query_pool_snaps'\n"
      ]
     },
     "metadata": {},
     "output_type": "display_data"
    },
    {
     "data": {
      "text/html": [
       "<pre style=\"white-space:pre;overflow-x:auto;line-height:normal;font-family:Menlo,'DejaVu Sans Mono',consolas,'Courier New',monospace\">18:37:45.945 | <span style=\"color: #008080; text-decoration-color: #008080\">INFO</span>    | Flow run<span style=\"color: #800080; text-decoration-color: #800080\"> 'big-barracuda'</span> - Submitted task run 'query_pool_snaps-60635b41-23' for execution.\n",
       "</pre>\n"
      ],
      "text/plain": [
       "18:37:45.945 | \u001b[36mINFO\u001b[0m    | Flow run\u001b[35m 'big-barracuda'\u001b[0m - Submitted task run 'query_pool_snaps-60635b41-23' for execution.\n"
      ]
     },
     "metadata": {},
     "output_type": "display_data"
    },
    {
     "data": {
      "text/html": [
       "<pre style=\"white-space:pre;overflow-x:auto;line-height:normal;font-family:Menlo,'DejaVu Sans Mono',consolas,'Courier New',monospace\">18:37:45.952 | <span style=\"color: #008080; text-decoration-color: #008080\">INFO</span>    | Task run 'query_pool_vol-8bdd8db3-33' - Finished in state Cached(type=COMPLETED)\n",
       "</pre>\n"
      ],
      "text/plain": [
       "18:37:45.952 | \u001b[36mINFO\u001b[0m    | Task run 'query_pool_vol-8bdd8db3-33' - Finished in state Cached(type=COMPLETED)\n"
      ]
     },
     "metadata": {},
     "output_type": "display_data"
    },
    {
     "data": {
      "text/html": [
       "<pre style=\"white-space:pre;overflow-x:auto;line-height:normal;font-family:Menlo,'DejaVu Sans Mono',consolas,'Courier New',monospace\">18:37:45.958 | <span style=\"color: #008080; text-decoration-color: #008080\">INFO</span>    | Task run 'query_pool_snaps-60635b41-34' - Finished in state Cached(type=COMPLETED)\n",
       "</pre>\n"
      ],
      "text/plain": [
       "18:37:45.958 | \u001b[36mINFO\u001b[0m    | Task run 'query_pool_snaps-60635b41-34' - Finished in state Cached(type=COMPLETED)\n"
      ]
     },
     "metadata": {},
     "output_type": "display_data"
    },
    {
     "data": {
      "text/html": [
       "<pre style=\"white-space:pre;overflow-x:auto;line-height:normal;font-family:Menlo,'DejaVu Sans Mono',consolas,'Courier New',monospace\">18:37:45.962 | <span style=\"color: #008080; text-decoration-color: #008080\">INFO</span>    | Flow run<span style=\"color: #800080; text-decoration-color: #800080\"> 'big-barracuda'</span> - Created task run 'query_pool_vol-8bdd8db3-10' for task 'query_pool_vol'\n",
       "</pre>\n"
      ],
      "text/plain": [
       "18:37:45.962 | \u001b[36mINFO\u001b[0m    | Flow run\u001b[35m 'big-barracuda'\u001b[0m - Created task run 'query_pool_vol-8bdd8db3-10' for task 'query_pool_vol'\n"
      ]
     },
     "metadata": {},
     "output_type": "display_data"
    },
    {
     "data": {
      "text/html": [
       "<pre style=\"white-space:pre;overflow-x:auto;line-height:normal;font-family:Menlo,'DejaVu Sans Mono',consolas,'Courier New',monospace\">18:37:45.963 | <span style=\"color: #008080; text-decoration-color: #008080\">INFO</span>    | Flow run<span style=\"color: #800080; text-decoration-color: #800080\"> 'big-barracuda'</span> - Submitted task run 'query_pool_vol-8bdd8db3-10' for execution.\n",
       "</pre>\n"
      ],
      "text/plain": [
       "18:37:45.963 | \u001b[36mINFO\u001b[0m    | Flow run\u001b[35m 'big-barracuda'\u001b[0m - Submitted task run 'query_pool_vol-8bdd8db3-10' for execution.\n"
      ]
     },
     "metadata": {},
     "output_type": "display_data"
    },
    {
     "data": {
      "text/html": [
       "<pre style=\"white-space:pre;overflow-x:auto;line-height:normal;font-family:Menlo,'DejaVu Sans Mono',consolas,'Courier New',monospace\">18:37:45.969 | <span style=\"color: #008080; text-decoration-color: #008080\">INFO</span>    | Task run 'query_pool_snaps-60635b41-23' - Finished in state Cached(type=COMPLETED)\n",
       "</pre>\n"
      ],
      "text/plain": [
       "18:37:45.969 | \u001b[36mINFO\u001b[0m    | Task run 'query_pool_snaps-60635b41-23' - Finished in state Cached(type=COMPLETED)\n"
      ]
     },
     "metadata": {},
     "output_type": "display_data"
    },
    {
     "data": {
      "text/html": [
       "<pre style=\"white-space:pre;overflow-x:auto;line-height:normal;font-family:Menlo,'DejaVu Sans Mono',consolas,'Courier New',monospace\">18:37:45.977 | <span style=\"color: #008080; text-decoration-color: #008080\">INFO</span>    | Flow run<span style=\"color: #800080; text-decoration-color: #800080\"> 'big-barracuda'</span> - Created task run 'query_pool_snaps-60635b41-42' for task 'query_pool_snaps'\n",
       "</pre>\n"
      ],
      "text/plain": [
       "18:37:45.977 | \u001b[36mINFO\u001b[0m    | Flow run\u001b[35m 'big-barracuda'\u001b[0m - Created task run 'query_pool_snaps-60635b41-42' for task 'query_pool_snaps'\n"
      ]
     },
     "metadata": {},
     "output_type": "display_data"
    },
    {
     "data": {
      "text/html": [
       "<pre style=\"white-space:pre;overflow-x:auto;line-height:normal;font-family:Menlo,'DejaVu Sans Mono',consolas,'Courier New',monospace\">18:37:45.977 | <span style=\"color: #008080; text-decoration-color: #008080\">INFO</span>    | Flow run<span style=\"color: #800080; text-decoration-color: #800080\"> 'big-barracuda'</span> - Submitted task run 'query_pool_snaps-60635b41-42' for execution.\n",
       "</pre>\n"
      ],
      "text/plain": [
       "18:37:45.977 | \u001b[36mINFO\u001b[0m    | Flow run\u001b[35m 'big-barracuda'\u001b[0m - Submitted task run 'query_pool_snaps-60635b41-42' for execution.\n"
      ]
     },
     "metadata": {},
     "output_type": "display_data"
    },
    {
     "data": {
      "text/html": [
       "<pre style=\"white-space:pre;overflow-x:auto;line-height:normal;font-family:Menlo,'DejaVu Sans Mono',consolas,'Courier New',monospace\">18:37:45.985 | <span style=\"color: #008080; text-decoration-color: #008080\">INFO</span>    | Flow run<span style=\"color: #800080; text-decoration-color: #800080\"> 'big-barracuda'</span> - Created task run 'query_pool_vol-8bdd8db3-41' for task 'query_pool_vol'\n",
       "</pre>\n"
      ],
      "text/plain": [
       "18:37:45.985 | \u001b[36mINFO\u001b[0m    | Flow run\u001b[35m 'big-barracuda'\u001b[0m - Created task run 'query_pool_vol-8bdd8db3-41' for task 'query_pool_vol'\n"
      ]
     },
     "metadata": {},
     "output_type": "display_data"
    },
    {
     "data": {
      "text/html": [
       "<pre style=\"white-space:pre;overflow-x:auto;line-height:normal;font-family:Menlo,'DejaVu Sans Mono',consolas,'Courier New',monospace\">18:37:45.986 | <span style=\"color: #008080; text-decoration-color: #008080\">INFO</span>    | Flow run<span style=\"color: #800080; text-decoration-color: #800080\"> 'big-barracuda'</span> - Submitted task run 'query_pool_vol-8bdd8db3-41' for execution.\n",
       "</pre>\n"
      ],
      "text/plain": [
       "18:37:45.986 | \u001b[36mINFO\u001b[0m    | Flow run\u001b[35m 'big-barracuda'\u001b[0m - Submitted task run 'query_pool_vol-8bdd8db3-41' for execution.\n"
      ]
     },
     "metadata": {},
     "output_type": "display_data"
    },
    {
     "data": {
      "text/html": [
       "<pre style=\"white-space:pre;overflow-x:auto;line-height:normal;font-family:Menlo,'DejaVu Sans Mono',consolas,'Courier New',monospace\">18:37:45.996 | <span style=\"color: #008080; text-decoration-color: #008080\">INFO</span>    | Flow run<span style=\"color: #800080; text-decoration-color: #800080\"> 'big-barracuda'</span> - Created task run 'query_pool_vol-8bdd8db3-14' for task 'query_pool_vol'\n",
       "</pre>\n"
      ],
      "text/plain": [
       "18:37:45.996 | \u001b[36mINFO\u001b[0m    | Flow run\u001b[35m 'big-barracuda'\u001b[0m - Created task run 'query_pool_vol-8bdd8db3-14' for task 'query_pool_vol'\n"
      ]
     },
     "metadata": {},
     "output_type": "display_data"
    },
    {
     "data": {
      "text/html": [
       "<pre style=\"white-space:pre;overflow-x:auto;line-height:normal;font-family:Menlo,'DejaVu Sans Mono',consolas,'Courier New',monospace\">18:37:45.996 | <span style=\"color: #008080; text-decoration-color: #008080\">INFO</span>    | Flow run<span style=\"color: #800080; text-decoration-color: #800080\"> 'big-barracuda'</span> - Submitted task run 'query_pool_vol-8bdd8db3-14' for execution.\n",
       "</pre>\n"
      ],
      "text/plain": [
       "18:37:45.996 | \u001b[36mINFO\u001b[0m    | Flow run\u001b[35m 'big-barracuda'\u001b[0m - Submitted task run 'query_pool_vol-8bdd8db3-14' for execution.\n"
      ]
     },
     "metadata": {},
     "output_type": "display_data"
    },
    {
     "data": {
      "text/html": [
       "<pre style=\"white-space:pre;overflow-x:auto;line-height:normal;font-family:Menlo,'DejaVu Sans Mono',consolas,'Courier New',monospace\">18:37:46.004 | <span style=\"color: #008080; text-decoration-color: #008080\">INFO</span>    | Task run 'query_pool_snaps-60635b41-42' - Finished in state Cached(type=COMPLETED)\n",
       "</pre>\n"
      ],
      "text/plain": [
       "18:37:46.004 | \u001b[36mINFO\u001b[0m    | Task run 'query_pool_snaps-60635b41-42' - Finished in state Cached(type=COMPLETED)\n"
      ]
     },
     "metadata": {},
     "output_type": "display_data"
    },
    {
     "data": {
      "text/html": [
       "<pre style=\"white-space:pre;overflow-x:auto;line-height:normal;font-family:Menlo,'DejaVu Sans Mono',consolas,'Courier New',monospace\">18:37:46.011 | <span style=\"color: #008080; text-decoration-color: #008080\">INFO</span>    | Task run 'query_pool_vol-8bdd8db3-41' - Finished in state Cached(type=COMPLETED)\n",
       "</pre>\n"
      ],
      "text/plain": [
       "18:37:46.011 | \u001b[36mINFO\u001b[0m    | Task run 'query_pool_vol-8bdd8db3-41' - Finished in state Cached(type=COMPLETED)\n"
      ]
     },
     "metadata": {},
     "output_type": "display_data"
    },
    {
     "data": {
      "text/html": [
       "<pre style=\"white-space:pre;overflow-x:auto;line-height:normal;font-family:Menlo,'DejaVu Sans Mono',consolas,'Courier New',monospace\">18:37:46.019 | <span style=\"color: #008080; text-decoration-color: #008080\">INFO</span>    | Task run 'query_pool_vol-8bdd8db3-10' - Finished in state Cached(type=COMPLETED)\n",
       "</pre>\n"
      ],
      "text/plain": [
       "18:37:46.019 | \u001b[36mINFO\u001b[0m    | Task run 'query_pool_vol-8bdd8db3-10' - Finished in state Cached(type=COMPLETED)\n"
      ]
     },
     "metadata": {},
     "output_type": "display_data"
    },
    {
     "data": {
      "text/html": [
       "<pre style=\"white-space:pre;overflow-x:auto;line-height:normal;font-family:Menlo,'DejaVu Sans Mono',consolas,'Courier New',monospace\">18:37:46.025 | <span style=\"color: #008080; text-decoration-color: #008080\">INFO</span>    | Task run 'query_pool_vol-8bdd8db3-14' - Finished in state Cached(type=COMPLETED)\n",
       "</pre>\n"
      ],
      "text/plain": [
       "18:37:46.025 | \u001b[36mINFO\u001b[0m    | Task run 'query_pool_vol-8bdd8db3-14' - Finished in state Cached(type=COMPLETED)\n"
      ]
     },
     "metadata": {},
     "output_type": "display_data"
    },
    {
     "data": {
      "text/html": [
       "<pre style=\"white-space:pre;overflow-x:auto;line-height:normal;font-family:Menlo,'DejaVu Sans Mono',consolas,'Courier New',monospace\">18:37:46.034 | <span style=\"color: #008080; text-decoration-color: #008080\">INFO</span>    | Flow run<span style=\"color: #800080; text-decoration-color: #800080\"> 'big-barracuda'</span> - Created task run 'query_pool_snaps-60635b41-21' for task 'query_pool_snaps'\n",
       "</pre>\n"
      ],
      "text/plain": [
       "18:37:46.034 | \u001b[36mINFO\u001b[0m    | Flow run\u001b[35m 'big-barracuda'\u001b[0m - Created task run 'query_pool_snaps-60635b41-21' for task 'query_pool_snaps'\n"
      ]
     },
     "metadata": {},
     "output_type": "display_data"
    },
    {
     "data": {
      "text/html": [
       "<pre style=\"white-space:pre;overflow-x:auto;line-height:normal;font-family:Menlo,'DejaVu Sans Mono',consolas,'Courier New',monospace\">18:37:46.035 | <span style=\"color: #008080; text-decoration-color: #008080\">INFO</span>    | Flow run<span style=\"color: #800080; text-decoration-color: #800080\"> 'big-barracuda'</span> - Submitted task run 'query_pool_snaps-60635b41-21' for execution.\n",
       "</pre>\n"
      ],
      "text/plain": [
       "18:37:46.035 | \u001b[36mINFO\u001b[0m    | Flow run\u001b[35m 'big-barracuda'\u001b[0m - Submitted task run 'query_pool_snaps-60635b41-21' for execution.\n"
      ]
     },
     "metadata": {},
     "output_type": "display_data"
    },
    {
     "data": {
      "text/html": [
       "<pre style=\"white-space:pre;overflow-x:auto;line-height:normal;font-family:Menlo,'DejaVu Sans Mono',consolas,'Courier New',monospace\">18:37:46.043 | <span style=\"color: #008080; text-decoration-color: #008080\">INFO</span>    | Task run 'query_pool_snaps-60635b41-43' - Finished in state Cached(type=COMPLETED)\n",
       "</pre>\n"
      ],
      "text/plain": [
       "18:37:46.043 | \u001b[36mINFO\u001b[0m    | Task run 'query_pool_snaps-60635b41-43' - Finished in state Cached(type=COMPLETED)\n"
      ]
     },
     "metadata": {},
     "output_type": "display_data"
    },
    {
     "data": {
      "text/html": [
       "<pre style=\"white-space:pre;overflow-x:auto;line-height:normal;font-family:Menlo,'DejaVu Sans Mono',consolas,'Courier New',monospace\">18:37:46.050 | <span style=\"color: #008080; text-decoration-color: #008080\">INFO</span>    | Flow run<span style=\"color: #800080; text-decoration-color: #800080\"> 'big-barracuda'</span> - Created task run 'query_pool_vol-8bdd8db3-24' for task 'query_pool_vol'\n",
       "</pre>\n"
      ],
      "text/plain": [
       "18:37:46.050 | \u001b[36mINFO\u001b[0m    | Flow run\u001b[35m 'big-barracuda'\u001b[0m - Created task run 'query_pool_vol-8bdd8db3-24' for task 'query_pool_vol'\n"
      ]
     },
     "metadata": {},
     "output_type": "display_data"
    },
    {
     "data": {
      "text/html": [
       "<pre style=\"white-space:pre;overflow-x:auto;line-height:normal;font-family:Menlo,'DejaVu Sans Mono',consolas,'Courier New',monospace\">18:37:46.051 | <span style=\"color: #008080; text-decoration-color: #008080\">INFO</span>    | Flow run<span style=\"color: #800080; text-decoration-color: #800080\"> 'big-barracuda'</span> - Submitted task run 'query_pool_vol-8bdd8db3-24' for execution.\n",
       "</pre>\n"
      ],
      "text/plain": [
       "18:37:46.051 | \u001b[36mINFO\u001b[0m    | Flow run\u001b[35m 'big-barracuda'\u001b[0m - Submitted task run 'query_pool_vol-8bdd8db3-24' for execution.\n"
      ]
     },
     "metadata": {},
     "output_type": "display_data"
    },
    {
     "data": {
      "text/html": [
       "<pre style=\"white-space:pre;overflow-x:auto;line-height:normal;font-family:Menlo,'DejaVu Sans Mono',consolas,'Courier New',monospace\">18:37:46.058 | <span style=\"color: #008080; text-decoration-color: #008080\">INFO</span>    | Task run 'query_pool_snaps-60635b41-21' - Finished in state Cached(type=COMPLETED)\n",
       "</pre>\n"
      ],
      "text/plain": [
       "18:37:46.058 | \u001b[36mINFO\u001b[0m    | Task run 'query_pool_snaps-60635b41-21' - Finished in state Cached(type=COMPLETED)\n"
      ]
     },
     "metadata": {},
     "output_type": "display_data"
    },
    {
     "data": {
      "text/html": [
       "<pre style=\"white-space:pre;overflow-x:auto;line-height:normal;font-family:Menlo,'DejaVu Sans Mono',consolas,'Courier New',monospace\">18:37:46.066 | <span style=\"color: #008080; text-decoration-color: #008080\">INFO</span>    | Flow run<span style=\"color: #800080; text-decoration-color: #800080\"> 'big-barracuda'</span> - Created task run 'query_pool_snaps-60635b41-26' for task 'query_pool_snaps'\n",
       "</pre>\n"
      ],
      "text/plain": [
       "18:37:46.066 | \u001b[36mINFO\u001b[0m    | Flow run\u001b[35m 'big-barracuda'\u001b[0m - Created task run 'query_pool_snaps-60635b41-26' for task 'query_pool_snaps'\n"
      ]
     },
     "metadata": {},
     "output_type": "display_data"
    },
    {
     "data": {
      "text/html": [
       "<pre style=\"white-space:pre;overflow-x:auto;line-height:normal;font-family:Menlo,'DejaVu Sans Mono',consolas,'Courier New',monospace\">18:37:46.067 | <span style=\"color: #008080; text-decoration-color: #008080\">INFO</span>    | Flow run<span style=\"color: #800080; text-decoration-color: #800080\"> 'big-barracuda'</span> - Submitted task run 'query_pool_snaps-60635b41-26' for execution.\n",
       "</pre>\n"
      ],
      "text/plain": [
       "18:37:46.067 | \u001b[36mINFO\u001b[0m    | Flow run\u001b[35m 'big-barracuda'\u001b[0m - Submitted task run 'query_pool_snaps-60635b41-26' for execution.\n"
      ]
     },
     "metadata": {},
     "output_type": "display_data"
    },
    {
     "data": {
      "text/html": [
       "<pre style=\"white-space:pre;overflow-x:auto;line-height:normal;font-family:Menlo,'DejaVu Sans Mono',consolas,'Courier New',monospace\">18:37:46.072 | <span style=\"color: #008080; text-decoration-color: #008080\">INFO</span>    | Task run 'query_pool_vol-8bdd8db3-24' - Finished in state Cached(type=COMPLETED)\n",
       "</pre>\n"
      ],
      "text/plain": [
       "18:37:46.072 | \u001b[36mINFO\u001b[0m    | Task run 'query_pool_vol-8bdd8db3-24' - Finished in state Cached(type=COMPLETED)\n"
      ]
     },
     "metadata": {},
     "output_type": "display_data"
    },
    {
     "data": {
      "text/html": [
       "<pre style=\"white-space:pre;overflow-x:auto;line-height:normal;font-family:Menlo,'DejaVu Sans Mono',consolas,'Courier New',monospace\">18:37:46.080 | <span style=\"color: #008080; text-decoration-color: #008080\">INFO</span>    | Flow run<span style=\"color: #800080; text-decoration-color: #800080\"> 'big-barracuda'</span> - Created task run 'query_pool_vol-8bdd8db3-61' for task 'query_pool_vol'\n",
       "</pre>\n"
      ],
      "text/plain": [
       "18:37:46.080 | \u001b[36mINFO\u001b[0m    | Flow run\u001b[35m 'big-barracuda'\u001b[0m - Created task run 'query_pool_vol-8bdd8db3-61' for task 'query_pool_vol'\n"
      ]
     },
     "metadata": {},
     "output_type": "display_data"
    },
    {
     "data": {
      "text/html": [
       "<pre style=\"white-space:pre;overflow-x:auto;line-height:normal;font-family:Menlo,'DejaVu Sans Mono',consolas,'Courier New',monospace\">18:37:46.080 | <span style=\"color: #008080; text-decoration-color: #008080\">INFO</span>    | Flow run<span style=\"color: #800080; text-decoration-color: #800080\"> 'big-barracuda'</span> - Submitted task run 'query_pool_vol-8bdd8db3-61' for execution.\n",
       "</pre>\n"
      ],
      "text/plain": [
       "18:37:46.080 | \u001b[36mINFO\u001b[0m    | Flow run\u001b[35m 'big-barracuda'\u001b[0m - Submitted task run 'query_pool_vol-8bdd8db3-61' for execution.\n"
      ]
     },
     "metadata": {},
     "output_type": "display_data"
    },
    {
     "data": {
      "text/html": [
       "<pre style=\"white-space:pre;overflow-x:auto;line-height:normal;font-family:Menlo,'DejaVu Sans Mono',consolas,'Courier New',monospace\">18:37:46.086 | <span style=\"color: #008080; text-decoration-color: #008080\">INFO</span>    | Task run 'query_pool_snaps-60635b41-26' - Finished in state Cached(type=COMPLETED)\n",
       "</pre>\n"
      ],
      "text/plain": [
       "18:37:46.086 | \u001b[36mINFO\u001b[0m    | Task run 'query_pool_snaps-60635b41-26' - Finished in state Cached(type=COMPLETED)\n"
      ]
     },
     "metadata": {},
     "output_type": "display_data"
    },
    {
     "data": {
      "text/html": [
       "<pre style=\"white-space:pre;overflow-x:auto;line-height:normal;font-family:Menlo,'DejaVu Sans Mono',consolas,'Courier New',monospace\">18:37:46.094 | <span style=\"color: #008080; text-decoration-color: #008080\">INFO</span>    | Flow run<span style=\"color: #800080; text-decoration-color: #800080\"> 'big-barracuda'</span> - Created task run 'query_pool_snaps-60635b41-1' for task 'query_pool_snaps'\n",
       "</pre>\n"
      ],
      "text/plain": [
       "18:37:46.094 | \u001b[36mINFO\u001b[0m    | Flow run\u001b[35m 'big-barracuda'\u001b[0m - Created task run 'query_pool_snaps-60635b41-1' for task 'query_pool_snaps'\n"
      ]
     },
     "metadata": {},
     "output_type": "display_data"
    },
    {
     "data": {
      "text/html": [
       "<pre style=\"white-space:pre;overflow-x:auto;line-height:normal;font-family:Menlo,'DejaVu Sans Mono',consolas,'Courier New',monospace\">18:37:46.094 | <span style=\"color: #008080; text-decoration-color: #008080\">INFO</span>    | Flow run<span style=\"color: #800080; text-decoration-color: #800080\"> 'big-barracuda'</span> - Submitted task run 'query_pool_snaps-60635b41-1' for execution.\n",
       "</pre>\n"
      ],
      "text/plain": [
       "18:37:46.094 | \u001b[36mINFO\u001b[0m    | Flow run\u001b[35m 'big-barracuda'\u001b[0m - Submitted task run 'query_pool_snaps-60635b41-1' for execution.\n"
      ]
     },
     "metadata": {},
     "output_type": "display_data"
    },
    {
     "data": {
      "text/html": [
       "<pre style=\"white-space:pre;overflow-x:auto;line-height:normal;font-family:Menlo,'DejaVu Sans Mono',consolas,'Courier New',monospace\">18:37:46.100 | <span style=\"color: #008080; text-decoration-color: #008080\">INFO</span>    | Task run 'query_pool_vol-8bdd8db3-61' - Finished in state Cached(type=COMPLETED)\n",
       "</pre>\n"
      ],
      "text/plain": [
       "18:37:46.100 | \u001b[36mINFO\u001b[0m    | Task run 'query_pool_vol-8bdd8db3-61' - Finished in state Cached(type=COMPLETED)\n"
      ]
     },
     "metadata": {},
     "output_type": "display_data"
    },
    {
     "data": {
      "text/html": [
       "<pre style=\"white-space:pre;overflow-x:auto;line-height:normal;font-family:Menlo,'DejaVu Sans Mono',consolas,'Courier New',monospace\">18:37:46.105 | <span style=\"color: #008080; text-decoration-color: #008080\">INFO</span>    | Task run 'query_pool_snaps-60635b41-44' - Finished in state Cached(type=COMPLETED)\n",
       "</pre>\n"
      ],
      "text/plain": [
       "18:37:46.105 | \u001b[36mINFO\u001b[0m    | Task run 'query_pool_snaps-60635b41-44' - Finished in state Cached(type=COMPLETED)\n"
      ]
     },
     "metadata": {},
     "output_type": "display_data"
    },
    {
     "data": {
      "text/html": [
       "<pre style=\"white-space:pre;overflow-x:auto;line-height:normal;font-family:Menlo,'DejaVu Sans Mono',consolas,'Courier New',monospace\">18:37:46.110 | <span style=\"color: #008080; text-decoration-color: #008080\">INFO</span>    | Task run 'query_pool_snaps-60635b41-1' - Finished in state Cached(type=COMPLETED)\n",
       "</pre>\n"
      ],
      "text/plain": [
       "18:37:46.110 | \u001b[36mINFO\u001b[0m    | Task run 'query_pool_snaps-60635b41-1' - Finished in state Cached(type=COMPLETED)\n"
      ]
     },
     "metadata": {},
     "output_type": "display_data"
    },
    {
     "data": {
      "text/html": [
       "<pre style=\"white-space:pre;overflow-x:auto;line-height:normal;font-family:Menlo,'DejaVu Sans Mono',consolas,'Courier New',monospace\">18:37:46.119 | <span style=\"color: #008080; text-decoration-color: #008080\">INFO</span>    | Flow run<span style=\"color: #800080; text-decoration-color: #800080\"> 'big-barracuda'</span> - Created task run 'query_pool_vol-8bdd8db3-4' for task 'query_pool_vol'\n",
       "</pre>\n"
      ],
      "text/plain": [
       "18:37:46.119 | \u001b[36mINFO\u001b[0m    | Flow run\u001b[35m 'big-barracuda'\u001b[0m - Created task run 'query_pool_vol-8bdd8db3-4' for task 'query_pool_vol'\n"
      ]
     },
     "metadata": {},
     "output_type": "display_data"
    },
    {
     "data": {
      "text/html": [
       "<pre style=\"white-space:pre;overflow-x:auto;line-height:normal;font-family:Menlo,'DejaVu Sans Mono',consolas,'Courier New',monospace\">18:37:46.119 | <span style=\"color: #008080; text-decoration-color: #008080\">INFO</span>    | Flow run<span style=\"color: #800080; text-decoration-color: #800080\"> 'big-barracuda'</span> - Submitted task run 'query_pool_vol-8bdd8db3-4' for execution.\n",
       "</pre>\n"
      ],
      "text/plain": [
       "18:37:46.119 | \u001b[36mINFO\u001b[0m    | Flow run\u001b[35m 'big-barracuda'\u001b[0m - Submitted task run 'query_pool_vol-8bdd8db3-4' for execution.\n"
      ]
     },
     "metadata": {},
     "output_type": "display_data"
    },
    {
     "data": {
      "text/html": [
       "<pre style=\"white-space:pre;overflow-x:auto;line-height:normal;font-family:Menlo,'DejaVu Sans Mono',consolas,'Courier New',monospace\">18:37:46.133 | <span style=\"color: #008080; text-decoration-color: #008080\">INFO</span>    | Flow run<span style=\"color: #800080; text-decoration-color: #800080\"> 'big-barracuda'</span> - Created task run 'query_pool_snaps-60635b41-5' for task 'query_pool_snaps'\n",
       "</pre>\n"
      ],
      "text/plain": [
       "18:37:46.133 | \u001b[36mINFO\u001b[0m    | Flow run\u001b[35m 'big-barracuda'\u001b[0m - Created task run 'query_pool_snaps-60635b41-5' for task 'query_pool_snaps'\n"
      ]
     },
     "metadata": {},
     "output_type": "display_data"
    },
    {
     "data": {
      "text/html": [
       "<pre style=\"white-space:pre;overflow-x:auto;line-height:normal;font-family:Menlo,'DejaVu Sans Mono',consolas,'Courier New',monospace\">18:37:46.134 | <span style=\"color: #008080; text-decoration-color: #008080\">INFO</span>    | Flow run<span style=\"color: #800080; text-decoration-color: #800080\"> 'big-barracuda'</span> - Submitted task run 'query_pool_snaps-60635b41-5' for execution.\n",
       "</pre>\n"
      ],
      "text/plain": [
       "18:37:46.134 | \u001b[36mINFO\u001b[0m    | Flow run\u001b[35m 'big-barracuda'\u001b[0m - Submitted task run 'query_pool_snaps-60635b41-5' for execution.\n"
      ]
     },
     "metadata": {},
     "output_type": "display_data"
    },
    {
     "data": {
      "text/html": [
       "<pre style=\"white-space:pre;overflow-x:auto;line-height:normal;font-family:Menlo,'DejaVu Sans Mono',consolas,'Courier New',monospace\">18:37:46.145 | <span style=\"color: #008080; text-decoration-color: #008080\">INFO</span>    | Flow run<span style=\"color: #800080; text-decoration-color: #800080\"> 'big-barracuda'</span> - Created task run 'query_pool_snaps-60635b41-52' for task 'query_pool_snaps'\n",
       "</pre>\n"
      ],
      "text/plain": [
       "18:37:46.145 | \u001b[36mINFO\u001b[0m    | Flow run\u001b[35m 'big-barracuda'\u001b[0m - Created task run 'query_pool_snaps-60635b41-52' for task 'query_pool_snaps'\n"
      ]
     },
     "metadata": {},
     "output_type": "display_data"
    },
    {
     "data": {
      "text/html": [
       "<pre style=\"white-space:pre;overflow-x:auto;line-height:normal;font-family:Menlo,'DejaVu Sans Mono',consolas,'Courier New',monospace\">18:37:46.146 | <span style=\"color: #008080; text-decoration-color: #008080\">INFO</span>    | Flow run<span style=\"color: #800080; text-decoration-color: #800080\"> 'big-barracuda'</span> - Submitted task run 'query_pool_snaps-60635b41-52' for execution.\n",
       "</pre>\n"
      ],
      "text/plain": [
       "18:37:46.146 | \u001b[36mINFO\u001b[0m    | Flow run\u001b[35m 'big-barracuda'\u001b[0m - Submitted task run 'query_pool_snaps-60635b41-52' for execution.\n"
      ]
     },
     "metadata": {},
     "output_type": "display_data"
    },
    {
     "data": {
      "text/html": [
       "<pre style=\"white-space:pre;overflow-x:auto;line-height:normal;font-family:Menlo,'DejaVu Sans Mono',consolas,'Courier New',monospace\">18:37:46.157 | <span style=\"color: #008080; text-decoration-color: #008080\">INFO</span>    | Task run 'query_pool_vol-8bdd8db3-4' - Finished in state Cached(type=COMPLETED)\n",
       "</pre>\n"
      ],
      "text/plain": [
       "18:37:46.157 | \u001b[36mINFO\u001b[0m    | Task run 'query_pool_vol-8bdd8db3-4' - Finished in state Cached(type=COMPLETED)\n"
      ]
     },
     "metadata": {},
     "output_type": "display_data"
    },
    {
     "data": {
      "text/html": [
       "<pre style=\"white-space:pre;overflow-x:auto;line-height:normal;font-family:Menlo,'DejaVu Sans Mono',consolas,'Courier New',monospace\">18:37:46.169 | <span style=\"color: #008080; text-decoration-color: #008080\">INFO</span>    | Flow run<span style=\"color: #800080; text-decoration-color: #800080\"> 'big-barracuda'</span> - Created task run 'query_pool_vol-8bdd8db3-56' for task 'query_pool_vol'\n",
       "</pre>\n"
      ],
      "text/plain": [
       "18:37:46.169 | \u001b[36mINFO\u001b[0m    | Flow run\u001b[35m 'big-barracuda'\u001b[0m - Created task run 'query_pool_vol-8bdd8db3-56' for task 'query_pool_vol'\n"
      ]
     },
     "metadata": {},
     "output_type": "display_data"
    },
    {
     "data": {
      "text/html": [
       "<pre style=\"white-space:pre;overflow-x:auto;line-height:normal;font-family:Menlo,'DejaVu Sans Mono',consolas,'Courier New',monospace\">18:37:46.170 | <span style=\"color: #008080; text-decoration-color: #008080\">INFO</span>    | Flow run<span style=\"color: #800080; text-decoration-color: #800080\"> 'big-barracuda'</span> - Submitted task run 'query_pool_vol-8bdd8db3-56' for execution.\n",
       "</pre>\n"
      ],
      "text/plain": [
       "18:37:46.170 | \u001b[36mINFO\u001b[0m    | Flow run\u001b[35m 'big-barracuda'\u001b[0m - Submitted task run 'query_pool_vol-8bdd8db3-56' for execution.\n"
      ]
     },
     "metadata": {},
     "output_type": "display_data"
    },
    {
     "data": {
      "text/html": [
       "<pre style=\"white-space:pre;overflow-x:auto;line-height:normal;font-family:Menlo,'DejaVu Sans Mono',consolas,'Courier New',monospace\">18:37:46.179 | <span style=\"color: #008080; text-decoration-color: #008080\">INFO</span>    | Task run 'query_pool_snaps-60635b41-52' - Finished in state Cached(type=COMPLETED)\n",
       "</pre>\n"
      ],
      "text/plain": [
       "18:37:46.179 | \u001b[36mINFO\u001b[0m    | Task run 'query_pool_snaps-60635b41-52' - Finished in state Cached(type=COMPLETED)\n"
      ]
     },
     "metadata": {},
     "output_type": "display_data"
    },
    {
     "data": {
      "text/html": [
       "<pre style=\"white-space:pre;overflow-x:auto;line-height:normal;font-family:Menlo,'DejaVu Sans Mono',consolas,'Courier New',monospace\">18:37:46.186 | <span style=\"color: #008080; text-decoration-color: #008080\">INFO</span>    | Task run 'query_pool_snaps-60635b41-5' - Finished in state Cached(type=COMPLETED)\n",
       "</pre>\n"
      ],
      "text/plain": [
       "18:37:46.186 | \u001b[36mINFO\u001b[0m    | Task run 'query_pool_snaps-60635b41-5' - Finished in state Cached(type=COMPLETED)\n"
      ]
     },
     "metadata": {},
     "output_type": "display_data"
    },
    {
     "data": {
      "text/html": [
       "<pre style=\"white-space:pre;overflow-x:auto;line-height:normal;font-family:Menlo,'DejaVu Sans Mono',consolas,'Courier New',monospace\">18:37:46.191 | <span style=\"color: #008080; text-decoration-color: #008080\">INFO</span>    | Task run 'query_pool_vol-8bdd8db3-56' - Finished in state Cached(type=COMPLETED)\n",
       "</pre>\n"
      ],
      "text/plain": [
       "18:37:46.191 | \u001b[36mINFO\u001b[0m    | Task run 'query_pool_vol-8bdd8db3-56' - Finished in state Cached(type=COMPLETED)\n"
      ]
     },
     "metadata": {},
     "output_type": "display_data"
    },
    {
     "data": {
      "text/html": [
       "<pre style=\"white-space:pre;overflow-x:auto;line-height:normal;font-family:Menlo,'DejaVu Sans Mono',consolas,'Courier New',monospace\">18:37:46.196 | <span style=\"color: #008080; text-decoration-color: #008080\">INFO</span>    | Flow run<span style=\"color: #800080; text-decoration-color: #800080\"> 'big-barracuda'</span> - Created task run 'query_pool_snaps-60635b41-16' for task 'query_pool_snaps'\n",
       "</pre>\n"
      ],
      "text/plain": [
       "18:37:46.196 | \u001b[36mINFO\u001b[0m    | Flow run\u001b[35m 'big-barracuda'\u001b[0m - Created task run 'query_pool_snaps-60635b41-16' for task 'query_pool_snaps'\n"
      ]
     },
     "metadata": {},
     "output_type": "display_data"
    },
    {
     "data": {
      "text/html": [
       "<pre style=\"white-space:pre;overflow-x:auto;line-height:normal;font-family:Menlo,'DejaVu Sans Mono',consolas,'Courier New',monospace\">18:37:46.197 | <span style=\"color: #008080; text-decoration-color: #008080\">INFO</span>    | Flow run<span style=\"color: #800080; text-decoration-color: #800080\"> 'big-barracuda'</span> - Submitted task run 'query_pool_snaps-60635b41-16' for execution.\n",
       "</pre>\n"
      ],
      "text/plain": [
       "18:37:46.197 | \u001b[36mINFO\u001b[0m    | Flow run\u001b[35m 'big-barracuda'\u001b[0m - Submitted task run 'query_pool_snaps-60635b41-16' for execution.\n"
      ]
     },
     "metadata": {},
     "output_type": "display_data"
    },
    {
     "data": {
      "text/html": [
       "<pre style=\"white-space:pre;overflow-x:auto;line-height:normal;font-family:Menlo,'DejaVu Sans Mono',consolas,'Courier New',monospace\">18:37:46.205 | <span style=\"color: #008080; text-decoration-color: #008080\">INFO</span>    | Flow run<span style=\"color: #800080; text-decoration-color: #800080\"> 'big-barracuda'</span> - Created task run 'query_pool_vol-8bdd8db3-47' for task 'query_pool_vol'\n",
       "</pre>\n"
      ],
      "text/plain": [
       "18:37:46.205 | \u001b[36mINFO\u001b[0m    | Flow run\u001b[35m 'big-barracuda'\u001b[0m - Created task run 'query_pool_vol-8bdd8db3-47' for task 'query_pool_vol'\n"
      ]
     },
     "metadata": {},
     "output_type": "display_data"
    },
    {
     "data": {
      "text/html": [
       "<pre style=\"white-space:pre;overflow-x:auto;line-height:normal;font-family:Menlo,'DejaVu Sans Mono',consolas,'Courier New',monospace\">18:37:46.206 | <span style=\"color: #008080; text-decoration-color: #008080\">INFO</span>    | Flow run<span style=\"color: #800080; text-decoration-color: #800080\"> 'big-barracuda'</span> - Submitted task run 'query_pool_vol-8bdd8db3-47' for execution.\n",
       "</pre>\n"
      ],
      "text/plain": [
       "18:37:46.206 | \u001b[36mINFO\u001b[0m    | Flow run\u001b[35m 'big-barracuda'\u001b[0m - Submitted task run 'query_pool_vol-8bdd8db3-47' for execution.\n"
      ]
     },
     "metadata": {},
     "output_type": "display_data"
    },
    {
     "data": {
      "text/html": [
       "<pre style=\"white-space:pre;overflow-x:auto;line-height:normal;font-family:Menlo,'DejaVu Sans Mono',consolas,'Courier New',monospace\">18:37:46.216 | <span style=\"color: #008080; text-decoration-color: #008080\">INFO</span>    | Flow run<span style=\"color: #800080; text-decoration-color: #800080\"> 'big-barracuda'</span> - Created task run 'query_pool_vol-8bdd8db3-48' for task 'query_pool_vol'\n",
       "</pre>\n"
      ],
      "text/plain": [
       "18:37:46.216 | \u001b[36mINFO\u001b[0m    | Flow run\u001b[35m 'big-barracuda'\u001b[0m - Created task run 'query_pool_vol-8bdd8db3-48' for task 'query_pool_vol'\n"
      ]
     },
     "metadata": {},
     "output_type": "display_data"
    },
    {
     "data": {
      "text/html": [
       "<pre style=\"white-space:pre;overflow-x:auto;line-height:normal;font-family:Menlo,'DejaVu Sans Mono',consolas,'Courier New',monospace\">18:37:46.217 | <span style=\"color: #008080; text-decoration-color: #008080\">INFO</span>    | Flow run<span style=\"color: #800080; text-decoration-color: #800080\"> 'big-barracuda'</span> - Submitted task run 'query_pool_vol-8bdd8db3-48' for execution.\n",
       "</pre>\n"
      ],
      "text/plain": [
       "18:37:46.217 | \u001b[36mINFO\u001b[0m    | Flow run\u001b[35m 'big-barracuda'\u001b[0m - Submitted task run 'query_pool_vol-8bdd8db3-48' for execution.\n"
      ]
     },
     "metadata": {},
     "output_type": "display_data"
    },
    {
     "data": {
      "text/html": [
       "<pre style=\"white-space:pre;overflow-x:auto;line-height:normal;font-family:Menlo,'DejaVu Sans Mono',consolas,'Courier New',monospace\">18:37:46.227 | <span style=\"color: #008080; text-decoration-color: #008080\">INFO</span>    | Flow run<span style=\"color: #800080; text-decoration-color: #800080\"> 'big-barracuda'</span> - Created task run 'query_pool_snaps-60635b41-51' for task 'query_pool_snaps'\n",
       "</pre>\n"
      ],
      "text/plain": [
       "18:37:46.227 | \u001b[36mINFO\u001b[0m    | Flow run\u001b[35m 'big-barracuda'\u001b[0m - Created task run 'query_pool_snaps-60635b41-51' for task 'query_pool_snaps'\n"
      ]
     },
     "metadata": {},
     "output_type": "display_data"
    },
    {
     "data": {
      "text/html": [
       "<pre style=\"white-space:pre;overflow-x:auto;line-height:normal;font-family:Menlo,'DejaVu Sans Mono',consolas,'Courier New',monospace\">18:37:46.228 | <span style=\"color: #008080; text-decoration-color: #008080\">INFO</span>    | Flow run<span style=\"color: #800080; text-decoration-color: #800080\"> 'big-barracuda'</span> - Submitted task run 'query_pool_snaps-60635b41-51' for execution.\n",
       "</pre>\n"
      ],
      "text/plain": [
       "18:37:46.228 | \u001b[36mINFO\u001b[0m    | Flow run\u001b[35m 'big-barracuda'\u001b[0m - Submitted task run 'query_pool_snaps-60635b41-51' for execution.\n"
      ]
     },
     "metadata": {},
     "output_type": "display_data"
    },
    {
     "data": {
      "text/html": [
       "<pre style=\"white-space:pre;overflow-x:auto;line-height:normal;font-family:Menlo,'DejaVu Sans Mono',consolas,'Courier New',monospace\">18:37:46.235 | <span style=\"color: #008080; text-decoration-color: #008080\">INFO</span>    | Task run 'query_pool_vol-8bdd8db3-47' - Finished in state Cached(type=COMPLETED)\n",
       "</pre>\n"
      ],
      "text/plain": [
       "18:37:46.235 | \u001b[36mINFO\u001b[0m    | Task run 'query_pool_vol-8bdd8db3-47' - Finished in state Cached(type=COMPLETED)\n"
      ]
     },
     "metadata": {},
     "output_type": "display_data"
    },
    {
     "data": {
      "text/html": [
       "<pre style=\"white-space:pre;overflow-x:auto;line-height:normal;font-family:Menlo,'DejaVu Sans Mono',consolas,'Courier New',monospace\">18:37:46.239 | <span style=\"color: #008080; text-decoration-color: #008080\">INFO</span>    | Task run 'query_pool_vol-8bdd8db3-48' - Finished in state Cached(type=COMPLETED)\n",
       "</pre>\n"
      ],
      "text/plain": [
       "18:37:46.239 | \u001b[36mINFO\u001b[0m    | Task run 'query_pool_vol-8bdd8db3-48' - Finished in state Cached(type=COMPLETED)\n"
      ]
     },
     "metadata": {},
     "output_type": "display_data"
    },
    {
     "data": {
      "text/html": [
       "<pre style=\"white-space:pre;overflow-x:auto;line-height:normal;font-family:Menlo,'DejaVu Sans Mono',consolas,'Courier New',monospace\">18:37:46.245 | <span style=\"color: #008080; text-decoration-color: #008080\">INFO</span>    | Flow run<span style=\"color: #800080; text-decoration-color: #800080\"> 'big-barracuda'</span> - Created task run 'query_pool_vol-8bdd8db3-6' for task 'query_pool_vol'\n",
       "</pre>\n"
      ],
      "text/plain": [
       "18:37:46.245 | \u001b[36mINFO\u001b[0m    | Flow run\u001b[35m 'big-barracuda'\u001b[0m - Created task run 'query_pool_vol-8bdd8db3-6' for task 'query_pool_vol'\n"
      ]
     },
     "metadata": {},
     "output_type": "display_data"
    },
    {
     "data": {
      "text/html": [
       "<pre style=\"white-space:pre;overflow-x:auto;line-height:normal;font-family:Menlo,'DejaVu Sans Mono',consolas,'Courier New',monospace\">18:37:46.246 | <span style=\"color: #008080; text-decoration-color: #008080\">INFO</span>    | Flow run<span style=\"color: #800080; text-decoration-color: #800080\"> 'big-barracuda'</span> - Submitted task run 'query_pool_vol-8bdd8db3-6' for execution.\n",
       "</pre>\n"
      ],
      "text/plain": [
       "18:37:46.246 | \u001b[36mINFO\u001b[0m    | Flow run\u001b[35m 'big-barracuda'\u001b[0m - Submitted task run 'query_pool_vol-8bdd8db3-6' for execution.\n"
      ]
     },
     "metadata": {},
     "output_type": "display_data"
    },
    {
     "data": {
      "text/html": [
       "<pre style=\"white-space:pre;overflow-x:auto;line-height:normal;font-family:Menlo,'DejaVu Sans Mono',consolas,'Courier New',monospace\">18:37:46.253 | <span style=\"color: #008080; text-decoration-color: #008080\">INFO</span>    | Flow run<span style=\"color: #800080; text-decoration-color: #800080\"> 'big-barracuda'</span> - Created task run 'query_pool_vol-8bdd8db3-8' for task 'query_pool_vol'\n",
       "</pre>\n"
      ],
      "text/plain": [
       "18:37:46.253 | \u001b[36mINFO\u001b[0m    | Flow run\u001b[35m 'big-barracuda'\u001b[0m - Created task run 'query_pool_vol-8bdd8db3-8' for task 'query_pool_vol'\n"
      ]
     },
     "metadata": {},
     "output_type": "display_data"
    },
    {
     "data": {
      "text/html": [
       "<pre style=\"white-space:pre;overflow-x:auto;line-height:normal;font-family:Menlo,'DejaVu Sans Mono',consolas,'Courier New',monospace\">18:37:46.254 | <span style=\"color: #008080; text-decoration-color: #008080\">INFO</span>    | Flow run<span style=\"color: #800080; text-decoration-color: #800080\"> 'big-barracuda'</span> - Submitted task run 'query_pool_vol-8bdd8db3-8' for execution.\n",
       "</pre>\n"
      ],
      "text/plain": [
       "18:37:46.254 | \u001b[36mINFO\u001b[0m    | Flow run\u001b[35m 'big-barracuda'\u001b[0m - Submitted task run 'query_pool_vol-8bdd8db3-8' for execution.\n"
      ]
     },
     "metadata": {},
     "output_type": "display_data"
    },
    {
     "data": {
      "text/html": [
       "<pre style=\"white-space:pre;overflow-x:auto;line-height:normal;font-family:Menlo,'DejaVu Sans Mono',consolas,'Courier New',monospace\">18:37:46.263 | <span style=\"color: #008080; text-decoration-color: #008080\">INFO</span>    | Flow run<span style=\"color: #800080; text-decoration-color: #800080\"> 'big-barracuda'</span> - Created task run 'query_pool_snaps-60635b41-55' for task 'query_pool_snaps'\n",
       "</pre>\n"
      ],
      "text/plain": [
       "18:37:46.263 | \u001b[36mINFO\u001b[0m    | Flow run\u001b[35m 'big-barracuda'\u001b[0m - Created task run 'query_pool_snaps-60635b41-55' for task 'query_pool_snaps'\n"
      ]
     },
     "metadata": {},
     "output_type": "display_data"
    },
    {
     "data": {
      "text/html": [
       "<pre style=\"white-space:pre;overflow-x:auto;line-height:normal;font-family:Menlo,'DejaVu Sans Mono',consolas,'Courier New',monospace\">18:37:46.264 | <span style=\"color: #008080; text-decoration-color: #008080\">INFO</span>    | Flow run<span style=\"color: #800080; text-decoration-color: #800080\"> 'big-barracuda'</span> - Submitted task run 'query_pool_snaps-60635b41-55' for execution.\n",
       "</pre>\n"
      ],
      "text/plain": [
       "18:37:46.264 | \u001b[36mINFO\u001b[0m    | Flow run\u001b[35m 'big-barracuda'\u001b[0m - Submitted task run 'query_pool_snaps-60635b41-55' for execution.\n"
      ]
     },
     "metadata": {},
     "output_type": "display_data"
    },
    {
     "data": {
      "text/html": [
       "<pre style=\"white-space:pre;overflow-x:auto;line-height:normal;font-family:Menlo,'DejaVu Sans Mono',consolas,'Courier New',monospace\">18:37:46.272 | <span style=\"color: #008080; text-decoration-color: #008080\">INFO</span>    | Task run 'query_pool_vol-8bdd8db3-6' - Finished in state Cached(type=COMPLETED)\n",
       "</pre>\n"
      ],
      "text/plain": [
       "18:37:46.272 | \u001b[36mINFO\u001b[0m    | Task run 'query_pool_vol-8bdd8db3-6' - Finished in state Cached(type=COMPLETED)\n"
      ]
     },
     "metadata": {},
     "output_type": "display_data"
    },
    {
     "data": {
      "text/html": [
       "<pre style=\"white-space:pre;overflow-x:auto;line-height:normal;font-family:Menlo,'DejaVu Sans Mono',consolas,'Courier New',monospace\">18:37:46.279 | <span style=\"color: #008080; text-decoration-color: #008080\">INFO</span>    | Flow run<span style=\"color: #800080; text-decoration-color: #800080\"> 'big-barracuda'</span> - Created task run 'query_pool_snaps-60635b41-60' for task 'query_pool_snaps'\n",
       "</pre>\n"
      ],
      "text/plain": [
       "18:37:46.279 | \u001b[36mINFO\u001b[0m    | Flow run\u001b[35m 'big-barracuda'\u001b[0m - Created task run 'query_pool_snaps-60635b41-60' for task 'query_pool_snaps'\n"
      ]
     },
     "metadata": {},
     "output_type": "display_data"
    },
    {
     "data": {
      "text/html": [
       "<pre style=\"white-space:pre;overflow-x:auto;line-height:normal;font-family:Menlo,'DejaVu Sans Mono',consolas,'Courier New',monospace\">18:37:46.279 | <span style=\"color: #008080; text-decoration-color: #008080\">INFO</span>    | Flow run<span style=\"color: #800080; text-decoration-color: #800080\"> 'big-barracuda'</span> - Submitted task run 'query_pool_snaps-60635b41-60' for execution.\n",
       "</pre>\n"
      ],
      "text/plain": [
       "18:37:46.279 | \u001b[36mINFO\u001b[0m    | Flow run\u001b[35m 'big-barracuda'\u001b[0m - Submitted task run 'query_pool_snaps-60635b41-60' for execution.\n"
      ]
     },
     "metadata": {},
     "output_type": "display_data"
    },
    {
     "data": {
      "text/html": [
       "<pre style=\"white-space:pre;overflow-x:auto;line-height:normal;font-family:Menlo,'DejaVu Sans Mono',consolas,'Courier New',monospace\">18:37:46.285 | <span style=\"color: #008080; text-decoration-color: #008080\">INFO</span>    | Task run 'query_pool_snaps-60635b41-55' - Finished in state Cached(type=COMPLETED)\n",
       "</pre>\n"
      ],
      "text/plain": [
       "18:37:46.285 | \u001b[36mINFO\u001b[0m    | Task run 'query_pool_snaps-60635b41-55' - Finished in state Cached(type=COMPLETED)\n"
      ]
     },
     "metadata": {},
     "output_type": "display_data"
    },
    {
     "data": {
      "text/html": [
       "<pre style=\"white-space:pre;overflow-x:auto;line-height:normal;font-family:Menlo,'DejaVu Sans Mono',consolas,'Courier New',monospace\">18:37:46.291 | <span style=\"color: #008080; text-decoration-color: #008080\">INFO</span>    | Task run 'query_pool_snaps-60635b41-60' - Finished in state Cached(type=COMPLETED)\n",
       "</pre>\n"
      ],
      "text/plain": [
       "18:37:46.291 | \u001b[36mINFO\u001b[0m    | Task run 'query_pool_snaps-60635b41-60' - Finished in state Cached(type=COMPLETED)\n"
      ]
     },
     "metadata": {},
     "output_type": "display_data"
    },
    {
     "data": {
      "text/html": [
       "<pre style=\"white-space:pre;overflow-x:auto;line-height:normal;font-family:Menlo,'DejaVu Sans Mono',consolas,'Courier New',monospace\">18:37:46.294 | <span style=\"color: #008080; text-decoration-color: #008080\">INFO</span>    | Task run 'query_pool_vol-8bdd8db3-8' - Finished in state Cached(type=COMPLETED)\n",
       "</pre>\n"
      ],
      "text/plain": [
       "18:37:46.294 | \u001b[36mINFO\u001b[0m    | Task run 'query_pool_vol-8bdd8db3-8' - Finished in state Cached(type=COMPLETED)\n"
      ]
     },
     "metadata": {},
     "output_type": "display_data"
    },
    {
     "data": {
      "text/html": [
       "<pre style=\"white-space:pre;overflow-x:auto;line-height:normal;font-family:Menlo,'DejaVu Sans Mono',consolas,'Courier New',monospace\">18:37:46.306 | <span style=\"color: #008080; text-decoration-color: #008080\">INFO</span>    | Flow run<span style=\"color: #800080; text-decoration-color: #800080\"> 'big-barracuda'</span> - Created task run 'query_pool_vol-8bdd8db3-17' for task 'query_pool_vol'\n",
       "</pre>\n"
      ],
      "text/plain": [
       "18:37:46.306 | \u001b[36mINFO\u001b[0m    | Flow run\u001b[35m 'big-barracuda'\u001b[0m - Created task run 'query_pool_vol-8bdd8db3-17' for task 'query_pool_vol'\n"
      ]
     },
     "metadata": {},
     "output_type": "display_data"
    },
    {
     "data": {
      "text/html": [
       "<pre style=\"white-space:pre;overflow-x:auto;line-height:normal;font-family:Menlo,'DejaVu Sans Mono',consolas,'Courier New',monospace\">18:37:46.307 | <span style=\"color: #008080; text-decoration-color: #008080\">INFO</span>    | Flow run<span style=\"color: #800080; text-decoration-color: #800080\"> 'big-barracuda'</span> - Submitted task run 'query_pool_vol-8bdd8db3-17' for execution.\n",
       "</pre>\n"
      ],
      "text/plain": [
       "18:37:46.307 | \u001b[36mINFO\u001b[0m    | Flow run\u001b[35m 'big-barracuda'\u001b[0m - Submitted task run 'query_pool_vol-8bdd8db3-17' for execution.\n"
      ]
     },
     "metadata": {},
     "output_type": "display_data"
    },
    {
     "data": {
      "text/html": [
       "<pre style=\"white-space:pre;overflow-x:auto;line-height:normal;font-family:Menlo,'DejaVu Sans Mono',consolas,'Courier New',monospace\">18:37:46.312 | <span style=\"color: #008080; text-decoration-color: #008080\">INFO</span>    | Task run 'query_pool_snaps-60635b41-16' - Finished in state Cached(type=COMPLETED)\n",
       "</pre>\n"
      ],
      "text/plain": [
       "18:37:46.312 | \u001b[36mINFO\u001b[0m    | Task run 'query_pool_snaps-60635b41-16' - Finished in state Cached(type=COMPLETED)\n"
      ]
     },
     "metadata": {},
     "output_type": "display_data"
    },
    {
     "data": {
      "text/html": [
       "<pre style=\"white-space:pre;overflow-x:auto;line-height:normal;font-family:Menlo,'DejaVu Sans Mono',consolas,'Courier New',monospace\">18:37:46.320 | <span style=\"color: #008080; text-decoration-color: #008080\">INFO</span>    | Flow run<span style=\"color: #800080; text-decoration-color: #800080\"> 'big-barracuda'</span> - Created task run 'query_pool_vol-8bdd8db3-5' for task 'query_pool_vol'\n",
       "</pre>\n"
      ],
      "text/plain": [
       "18:37:46.320 | \u001b[36mINFO\u001b[0m    | Flow run\u001b[35m 'big-barracuda'\u001b[0m - Created task run 'query_pool_vol-8bdd8db3-5' for task 'query_pool_vol'\n"
      ]
     },
     "metadata": {},
     "output_type": "display_data"
    },
    {
     "data": {
      "text/html": [
       "<pre style=\"white-space:pre;overflow-x:auto;line-height:normal;font-family:Menlo,'DejaVu Sans Mono',consolas,'Courier New',monospace\">18:37:46.321 | <span style=\"color: #008080; text-decoration-color: #008080\">INFO</span>    | Flow run<span style=\"color: #800080; text-decoration-color: #800080\"> 'big-barracuda'</span> - Submitted task run 'query_pool_vol-8bdd8db3-5' for execution.\n",
       "</pre>\n"
      ],
      "text/plain": [
       "18:37:46.321 | \u001b[36mINFO\u001b[0m    | Flow run\u001b[35m 'big-barracuda'\u001b[0m - Submitted task run 'query_pool_vol-8bdd8db3-5' for execution.\n"
      ]
     },
     "metadata": {},
     "output_type": "display_data"
    },
    {
     "data": {
      "text/html": [
       "<pre style=\"white-space:pre;overflow-x:auto;line-height:normal;font-family:Menlo,'DejaVu Sans Mono',consolas,'Courier New',monospace\">18:37:46.326 | <span style=\"color: #008080; text-decoration-color: #008080\">INFO</span>    | Task run 'query_pool_vol-8bdd8db3-17' - Finished in state Cached(type=COMPLETED)\n",
       "</pre>\n"
      ],
      "text/plain": [
       "18:37:46.326 | \u001b[36mINFO\u001b[0m    | Task run 'query_pool_vol-8bdd8db3-17' - Finished in state Cached(type=COMPLETED)\n"
      ]
     },
     "metadata": {},
     "output_type": "display_data"
    },
    {
     "data": {
      "text/html": [
       "<pre style=\"white-space:pre;overflow-x:auto;line-height:normal;font-family:Menlo,'DejaVu Sans Mono',consolas,'Courier New',monospace\">18:37:46.335 | <span style=\"color: #008080; text-decoration-color: #008080\">INFO</span>    | Task run 'query_pool_snaps-60635b41-61' - Finished in state Cached(type=COMPLETED)\n",
       "</pre>\n"
      ],
      "text/plain": [
       "18:37:46.335 | \u001b[36mINFO\u001b[0m    | Task run 'query_pool_snaps-60635b41-61' - Finished in state Cached(type=COMPLETED)\n"
      ]
     },
     "metadata": {},
     "output_type": "display_data"
    },
    {
     "data": {
      "text/html": [
       "<pre style=\"white-space:pre;overflow-x:auto;line-height:normal;font-family:Menlo,'DejaVu Sans Mono',consolas,'Courier New',monospace\">18:37:46.338 | <span style=\"color: #008080; text-decoration-color: #008080\">INFO</span>    | Task run 'query_pool_vol-8bdd8db3-5' - Finished in state Cached(type=COMPLETED)\n",
       "</pre>\n"
      ],
      "text/plain": [
       "18:37:46.338 | \u001b[36mINFO\u001b[0m    | Task run 'query_pool_vol-8bdd8db3-5' - Finished in state Cached(type=COMPLETED)\n"
      ]
     },
     "metadata": {},
     "output_type": "display_data"
    },
    {
     "data": {
      "text/html": [
       "<pre style=\"white-space:pre;overflow-x:auto;line-height:normal;font-family:Menlo,'DejaVu Sans Mono',consolas,'Courier New',monospace\">18:37:46.353 | <span style=\"color: #008080; text-decoration-color: #008080\">INFO</span>    | Flow run<span style=\"color: #800080; text-decoration-color: #800080\"> 'big-barracuda'</span> - Created task run 'query_pool_vol-8bdd8db3-22' for task 'query_pool_vol'\n",
       "</pre>\n"
      ],
      "text/plain": [
       "18:37:46.353 | \u001b[36mINFO\u001b[0m    | Flow run\u001b[35m 'big-barracuda'\u001b[0m - Created task run 'query_pool_vol-8bdd8db3-22' for task 'query_pool_vol'\n"
      ]
     },
     "metadata": {},
     "output_type": "display_data"
    },
    {
     "data": {
      "text/html": [
       "<pre style=\"white-space:pre;overflow-x:auto;line-height:normal;font-family:Menlo,'DejaVu Sans Mono',consolas,'Courier New',monospace\">18:37:46.354 | <span style=\"color: #008080; text-decoration-color: #008080\">INFO</span>    | Flow run<span style=\"color: #800080; text-decoration-color: #800080\"> 'big-barracuda'</span> - Submitted task run 'query_pool_vol-8bdd8db3-22' for execution.\n",
       "</pre>\n"
      ],
      "text/plain": [
       "18:37:46.354 | \u001b[36mINFO\u001b[0m    | Flow run\u001b[35m 'big-barracuda'\u001b[0m - Submitted task run 'query_pool_vol-8bdd8db3-22' for execution.\n"
      ]
     },
     "metadata": {},
     "output_type": "display_data"
    },
    {
     "data": {
      "text/html": [
       "<pre style=\"white-space:pre;overflow-x:auto;line-height:normal;font-family:Menlo,'DejaVu Sans Mono',consolas,'Courier New',monospace\">18:37:46.360 | <span style=\"color: #008080; text-decoration-color: #008080\">INFO</span>    | Task run 'query_pool_vol-8bdd8db3-16' - Finished in state Cached(type=COMPLETED)\n",
       "</pre>\n"
      ],
      "text/plain": [
       "18:37:46.360 | \u001b[36mINFO\u001b[0m    | Task run 'query_pool_vol-8bdd8db3-16' - Finished in state Cached(type=COMPLETED)\n"
      ]
     },
     "metadata": {},
     "output_type": "display_data"
    },
    {
     "data": {
      "text/html": [
       "<pre style=\"white-space:pre;overflow-x:auto;line-height:normal;font-family:Menlo,'DejaVu Sans Mono',consolas,'Courier New',monospace\">18:37:46.365 | <span style=\"color: #008080; text-decoration-color: #008080\">INFO</span>    | Task run 'query_pool_snaps-60635b41-51' - Finished in state Cached(type=COMPLETED)\n",
       "</pre>\n"
      ],
      "text/plain": [
       "18:37:46.365 | \u001b[36mINFO\u001b[0m    | Task run 'query_pool_snaps-60635b41-51' - Finished in state Cached(type=COMPLETED)\n"
      ]
     },
     "metadata": {},
     "output_type": "display_data"
    },
    {
     "data": {
      "text/html": [
       "<pre style=\"white-space:pre;overflow-x:auto;line-height:normal;font-family:Menlo,'DejaVu Sans Mono',consolas,'Courier New',monospace\">18:37:46.369 | <span style=\"color: #008080; text-decoration-color: #008080\">INFO</span>    | Task run 'query_pool_vol-8bdd8db3-22' - Finished in state Cached(type=COMPLETED)\n",
       "</pre>\n"
      ],
      "text/plain": [
       "18:37:46.369 | \u001b[36mINFO\u001b[0m    | Task run 'query_pool_vol-8bdd8db3-22' - Finished in state Cached(type=COMPLETED)\n"
      ]
     },
     "metadata": {},
     "output_type": "display_data"
    },
    {
     "data": {
      "text/html": [
       "<pre style=\"white-space:pre;overflow-x:auto;line-height:normal;font-family:Menlo,'DejaVu Sans Mono',consolas,'Courier New',monospace\">18:37:46.384 | <span style=\"color: #008080; text-decoration-color: #008080\">INFO</span>    | Flow run<span style=\"color: #800080; text-decoration-color: #800080\"> 'big-barracuda'</span> - Created task run 'query_pool_snaps-60635b41-59' for task 'query_pool_snaps'\n",
       "</pre>\n"
      ],
      "text/plain": [
       "18:37:46.384 | \u001b[36mINFO\u001b[0m    | Flow run\u001b[35m 'big-barracuda'\u001b[0m - Created task run 'query_pool_snaps-60635b41-59' for task 'query_pool_snaps'\n"
      ]
     },
     "metadata": {},
     "output_type": "display_data"
    },
    {
     "data": {
      "text/html": [
       "<pre style=\"white-space:pre;overflow-x:auto;line-height:normal;font-family:Menlo,'DejaVu Sans Mono',consolas,'Courier New',monospace\">18:37:46.385 | <span style=\"color: #008080; text-decoration-color: #008080\">INFO</span>    | Flow run<span style=\"color: #800080; text-decoration-color: #800080\"> 'big-barracuda'</span> - Submitted task run 'query_pool_snaps-60635b41-59' for execution.\n",
       "</pre>\n"
      ],
      "text/plain": [
       "18:37:46.385 | \u001b[36mINFO\u001b[0m    | Flow run\u001b[35m 'big-barracuda'\u001b[0m - Submitted task run 'query_pool_snaps-60635b41-59' for execution.\n"
      ]
     },
     "metadata": {},
     "output_type": "display_data"
    },
    {
     "data": {
      "text/html": [
       "<pre style=\"white-space:pre;overflow-x:auto;line-height:normal;font-family:Menlo,'DejaVu Sans Mono',consolas,'Courier New',monospace\">18:37:46.391 | <span style=\"color: #008080; text-decoration-color: #008080\">INFO</span>    | Task run 'query_pool_snaps-60635b41-35' - Finished in state Cached(type=COMPLETED)\n",
       "</pre>\n"
      ],
      "text/plain": [
       "18:37:46.391 | \u001b[36mINFO\u001b[0m    | Task run 'query_pool_snaps-60635b41-35' - Finished in state Cached(type=COMPLETED)\n"
      ]
     },
     "metadata": {},
     "output_type": "display_data"
    },
    {
     "data": {
      "text/html": [
       "<pre style=\"white-space:pre;overflow-x:auto;line-height:normal;font-family:Menlo,'DejaVu Sans Mono',consolas,'Courier New',monospace\">18:37:46.397 | <span style=\"color: #008080; text-decoration-color: #008080\">INFO</span>    | Task run 'query_pool_snaps-60635b41-59' - Finished in state Cached(type=COMPLETED)\n",
       "</pre>\n"
      ],
      "text/plain": [
       "18:37:46.397 | \u001b[36mINFO\u001b[0m    | Task run 'query_pool_snaps-60635b41-59' - Finished in state Cached(type=COMPLETED)\n"
      ]
     },
     "metadata": {},
     "output_type": "display_data"
    },
    {
     "data": {
      "text/html": [
       "<pre style=\"white-space:pre;overflow-x:auto;line-height:normal;font-family:Menlo,'DejaVu Sans Mono',consolas,'Courier New',monospace\">18:37:46.425 | <span style=\"color: #008080; text-decoration-color: #008080\">INFO</span>    | Flow run<span style=\"color: #800080; text-decoration-color: #800080\"> 'big-barracuda'</span> - Created task run 'query_pool_vol-8bdd8db3-49' for task 'query_pool_vol'\n",
       "</pre>\n"
      ],
      "text/plain": [
       "18:37:46.425 | \u001b[36mINFO\u001b[0m    | Flow run\u001b[35m 'big-barracuda'\u001b[0m - Created task run 'query_pool_vol-8bdd8db3-49' for task 'query_pool_vol'\n"
      ]
     },
     "metadata": {},
     "output_type": "display_data"
    },
    {
     "data": {
      "text/html": [
       "<pre style=\"white-space:pre;overflow-x:auto;line-height:normal;font-family:Menlo,'DejaVu Sans Mono',consolas,'Courier New',monospace\">18:37:46.426 | <span style=\"color: #008080; text-decoration-color: #008080\">INFO</span>    | Flow run<span style=\"color: #800080; text-decoration-color: #800080\"> 'big-barracuda'</span> - Submitted task run 'query_pool_vol-8bdd8db3-49' for execution.\n",
       "</pre>\n"
      ],
      "text/plain": [
       "18:37:46.426 | \u001b[36mINFO\u001b[0m    | Flow run\u001b[35m 'big-barracuda'\u001b[0m - Submitted task run 'query_pool_vol-8bdd8db3-49' for execution.\n"
      ]
     },
     "metadata": {},
     "output_type": "display_data"
    },
    {
     "data": {
      "text/html": [
       "<pre style=\"white-space:pre;overflow-x:auto;line-height:normal;font-family:Menlo,'DejaVu Sans Mono',consolas,'Courier New',monospace\">18:37:46.432 | <span style=\"color: #008080; text-decoration-color: #008080\">INFO</span>    | Task run 'query_pool_vol-8bdd8db3-26' - Finished in state Cached(type=COMPLETED)\n",
       "</pre>\n"
      ],
      "text/plain": [
       "18:37:46.432 | \u001b[36mINFO\u001b[0m    | Task run 'query_pool_vol-8bdd8db3-26' - Finished in state Cached(type=COMPLETED)\n"
      ]
     },
     "metadata": {},
     "output_type": "display_data"
    },
    {
     "data": {
      "text/html": [
       "<pre style=\"white-space:pre;overflow-x:auto;line-height:normal;font-family:Menlo,'DejaVu Sans Mono',consolas,'Courier New',monospace\">18:37:46.438 | <span style=\"color: #008080; text-decoration-color: #008080\">INFO</span>    | Task run 'query_pool_vol-8bdd8db3-49' - Finished in state Cached(type=COMPLETED)\n",
       "</pre>\n"
      ],
      "text/plain": [
       "18:37:46.438 | \u001b[36mINFO\u001b[0m    | Task run 'query_pool_vol-8bdd8db3-49' - Finished in state Cached(type=COMPLETED)\n"
      ]
     },
     "metadata": {},
     "output_type": "display_data"
    },
    {
     "data": {
      "text/html": [
       "<pre style=\"white-space:pre;overflow-x:auto;line-height:normal;font-family:Menlo,'DejaVu Sans Mono',consolas,'Courier New',monospace\">18:37:46.444 | <span style=\"color: #008080; text-decoration-color: #008080\">INFO</span>    | Flow run<span style=\"color: #800080; text-decoration-color: #800080\"> 'big-barracuda'</span> - Created task run 'query_pool_vol-8bdd8db3-37' for task 'query_pool_vol'\n",
       "</pre>\n"
      ],
      "text/plain": [
       "18:37:46.444 | \u001b[36mINFO\u001b[0m    | Flow run\u001b[35m 'big-barracuda'\u001b[0m - Created task run 'query_pool_vol-8bdd8db3-37' for task 'query_pool_vol'\n"
      ]
     },
     "metadata": {},
     "output_type": "display_data"
    },
    {
     "data": {
      "text/html": [
       "<pre style=\"white-space:pre;overflow-x:auto;line-height:normal;font-family:Menlo,'DejaVu Sans Mono',consolas,'Courier New',monospace\">18:37:46.444 | <span style=\"color: #008080; text-decoration-color: #008080\">INFO</span>    | Flow run<span style=\"color: #800080; text-decoration-color: #800080\"> 'big-barracuda'</span> - Submitted task run 'query_pool_vol-8bdd8db3-37' for execution.\n",
       "</pre>\n"
      ],
      "text/plain": [
       "18:37:46.444 | \u001b[36mINFO\u001b[0m    | Flow run\u001b[35m 'big-barracuda'\u001b[0m - Submitted task run 'query_pool_vol-8bdd8db3-37' for execution.\n"
      ]
     },
     "metadata": {},
     "output_type": "display_data"
    },
    {
     "data": {
      "text/html": [
       "<pre style=\"white-space:pre;overflow-x:auto;line-height:normal;font-family:Menlo,'DejaVu Sans Mono',consolas,'Courier New',monospace\">18:37:46.453 | <span style=\"color: #008080; text-decoration-color: #008080\">INFO</span>    | Task run 'query_pool_vol-8bdd8db3-37' - Finished in state Cached(type=COMPLETED)\n",
       "</pre>\n"
      ],
      "text/plain": [
       "18:37:46.453 | \u001b[36mINFO\u001b[0m    | Task run 'query_pool_vol-8bdd8db3-37' - Finished in state Cached(type=COMPLETED)\n"
      ]
     },
     "metadata": {},
     "output_type": "display_data"
    },
    {
     "data": {
      "text/html": [
       "<pre style=\"white-space:pre;overflow-x:auto;line-height:normal;font-family:Menlo,'DejaVu Sans Mono',consolas,'Courier New',monospace\">18:37:46.460 | <span style=\"color: #008080; text-decoration-color: #008080\">INFO</span>    | Flow run<span style=\"color: #800080; text-decoration-color: #800080\"> 'big-barracuda'</span> - Created task run 'query_pool_snaps-60635b41-39' for task 'query_pool_snaps'\n",
       "</pre>\n"
      ],
      "text/plain": [
       "18:37:46.460 | \u001b[36mINFO\u001b[0m    | Flow run\u001b[35m 'big-barracuda'\u001b[0m - Created task run 'query_pool_snaps-60635b41-39' for task 'query_pool_snaps'\n"
      ]
     },
     "metadata": {},
     "output_type": "display_data"
    },
    {
     "data": {
      "text/html": [
       "<pre style=\"white-space:pre;overflow-x:auto;line-height:normal;font-family:Menlo,'DejaVu Sans Mono',consolas,'Courier New',monospace\">18:37:46.461 | <span style=\"color: #008080; text-decoration-color: #008080\">INFO</span>    | Flow run<span style=\"color: #800080; text-decoration-color: #800080\"> 'big-barracuda'</span> - Submitted task run 'query_pool_snaps-60635b41-39' for execution.\n",
       "</pre>\n"
      ],
      "text/plain": [
       "18:37:46.461 | \u001b[36mINFO\u001b[0m    | Flow run\u001b[35m 'big-barracuda'\u001b[0m - Submitted task run 'query_pool_snaps-60635b41-39' for execution.\n"
      ]
     },
     "metadata": {},
     "output_type": "display_data"
    },
    {
     "data": {
      "text/html": [
       "<pre style=\"white-space:pre;overflow-x:auto;line-height:normal;font-family:Menlo,'DejaVu Sans Mono',consolas,'Courier New',monospace\">18:37:46.467 | <span style=\"color: #008080; text-decoration-color: #008080\">INFO</span>    | Task run 'query_pool_snaps-60635b41-45' - Finished in state Cached(type=COMPLETED)\n",
       "</pre>\n"
      ],
      "text/plain": [
       "18:37:46.467 | \u001b[36mINFO\u001b[0m    | Task run 'query_pool_snaps-60635b41-45' - Finished in state Cached(type=COMPLETED)\n"
      ]
     },
     "metadata": {},
     "output_type": "display_data"
    },
    {
     "data": {
      "text/html": [
       "<pre style=\"white-space:pre;overflow-x:auto;line-height:normal;font-family:Menlo,'DejaVu Sans Mono',consolas,'Courier New',monospace\">18:37:46.473 | <span style=\"color: #008080; text-decoration-color: #008080\">INFO</span>    | Task run 'query_pool_snaps-60635b41-39' - Finished in state Cached(type=COMPLETED)\n",
       "</pre>\n"
      ],
      "text/plain": [
       "18:37:46.473 | \u001b[36mINFO\u001b[0m    | Task run 'query_pool_snaps-60635b41-39' - Finished in state Cached(type=COMPLETED)\n"
      ]
     },
     "metadata": {},
     "output_type": "display_data"
    },
    {
     "data": {
      "text/html": [
       "<pre style=\"white-space:pre;overflow-x:auto;line-height:normal;font-family:Menlo,'DejaVu Sans Mono',consolas,'Courier New',monospace\">18:37:46.532 | <span style=\"color: #008080; text-decoration-color: #008080\">INFO</span>    | Flow run<span style=\"color: #800080; text-decoration-color: #800080\"> 'big-barracuda'</span> - Created task run 'query_pool_vol-8bdd8db3-3' for task 'query_pool_vol'\n",
       "</pre>\n"
      ],
      "text/plain": [
       "18:37:46.532 | \u001b[36mINFO\u001b[0m    | Flow run\u001b[35m 'big-barracuda'\u001b[0m - Created task run 'query_pool_vol-8bdd8db3-3' for task 'query_pool_vol'\n"
      ]
     },
     "metadata": {},
     "output_type": "display_data"
    },
    {
     "data": {
      "text/html": [
       "<pre style=\"white-space:pre;overflow-x:auto;line-height:normal;font-family:Menlo,'DejaVu Sans Mono',consolas,'Courier New',monospace\">18:37:46.533 | <span style=\"color: #008080; text-decoration-color: #008080\">INFO</span>    | Flow run<span style=\"color: #800080; text-decoration-color: #800080\"> 'big-barracuda'</span> - Submitted task run 'query_pool_vol-8bdd8db3-3' for execution.\n",
       "</pre>\n"
      ],
      "text/plain": [
       "18:37:46.533 | \u001b[36mINFO\u001b[0m    | Flow run\u001b[35m 'big-barracuda'\u001b[0m - Submitted task run 'query_pool_vol-8bdd8db3-3' for execution.\n"
      ]
     },
     "metadata": {},
     "output_type": "display_data"
    },
    {
     "data": {
      "text/html": [
       "<pre style=\"white-space:pre;overflow-x:auto;line-height:normal;font-family:Menlo,'DejaVu Sans Mono',consolas,'Courier New',monospace\">18:37:46.543 | <span style=\"color: #008080; text-decoration-color: #008080\">INFO</span>    | Task run 'query_pool_vol-8bdd8db3-3' - Finished in state Cached(type=COMPLETED)\n",
       "</pre>\n"
      ],
      "text/plain": [
       "18:37:46.543 | \u001b[36mINFO\u001b[0m    | Task run 'query_pool_vol-8bdd8db3-3' - Finished in state Cached(type=COMPLETED)\n"
      ]
     },
     "metadata": {},
     "output_type": "display_data"
    },
    {
     "data": {
      "text/html": [
       "<pre style=\"white-space:pre;overflow-x:auto;line-height:normal;font-family:Menlo,'DejaVu Sans Mono',consolas,'Courier New',monospace\">18:37:46.567 | <span style=\"color: #008080; text-decoration-color: #008080\">INFO</span>    | Flow run<span style=\"color: #800080; text-decoration-color: #800080\"> 'big-barracuda'</span> - Created task run 'query_pool_snaps-60635b41-9' for task 'query_pool_snaps'\n",
       "</pre>\n"
      ],
      "text/plain": [
       "18:37:46.567 | \u001b[36mINFO\u001b[0m    | Flow run\u001b[35m 'big-barracuda'\u001b[0m - Created task run 'query_pool_snaps-60635b41-9' for task 'query_pool_snaps'\n"
      ]
     },
     "metadata": {},
     "output_type": "display_data"
    },
    {
     "data": {
      "text/html": [
       "<pre style=\"white-space:pre;overflow-x:auto;line-height:normal;font-family:Menlo,'DejaVu Sans Mono',consolas,'Courier New',monospace\">18:37:46.568 | <span style=\"color: #008080; text-decoration-color: #008080\">INFO</span>    | Flow run<span style=\"color: #800080; text-decoration-color: #800080\"> 'big-barracuda'</span> - Submitted task run 'query_pool_snaps-60635b41-9' for execution.\n",
       "</pre>\n"
      ],
      "text/plain": [
       "18:37:46.568 | \u001b[36mINFO\u001b[0m    | Flow run\u001b[35m 'big-barracuda'\u001b[0m - Submitted task run 'query_pool_snaps-60635b41-9' for execution.\n"
      ]
     },
     "metadata": {},
     "output_type": "display_data"
    },
    {
     "data": {
      "text/html": [
       "<pre style=\"white-space:pre;overflow-x:auto;line-height:normal;font-family:Menlo,'DejaVu Sans Mono',consolas,'Courier New',monospace\">18:37:46.576 | <span style=\"color: #008080; text-decoration-color: #008080\">INFO</span>    | Flow run<span style=\"color: #800080; text-decoration-color: #800080\"> 'big-barracuda'</span> - Created task run 'query_pool_vol-8bdd8db3-55' for task 'query_pool_vol'\n",
       "</pre>\n"
      ],
      "text/plain": [
       "18:37:46.576 | \u001b[36mINFO\u001b[0m    | Flow run\u001b[35m 'big-barracuda'\u001b[0m - Created task run 'query_pool_vol-8bdd8db3-55' for task 'query_pool_vol'\n"
      ]
     },
     "metadata": {},
     "output_type": "display_data"
    },
    {
     "data": {
      "text/html": [
       "<pre style=\"white-space:pre;overflow-x:auto;line-height:normal;font-family:Menlo,'DejaVu Sans Mono',consolas,'Courier New',monospace\">18:37:46.577 | <span style=\"color: #008080; text-decoration-color: #008080\">INFO</span>    | Flow run<span style=\"color: #800080; text-decoration-color: #800080\"> 'big-barracuda'</span> - Submitted task run 'query_pool_vol-8bdd8db3-55' for execution.\n",
       "</pre>\n"
      ],
      "text/plain": [
       "18:37:46.577 | \u001b[36mINFO\u001b[0m    | Flow run\u001b[35m 'big-barracuda'\u001b[0m - Submitted task run 'query_pool_vol-8bdd8db3-55' for execution.\n"
      ]
     },
     "metadata": {},
     "output_type": "display_data"
    },
    {
     "data": {
      "text/html": [
       "<pre style=\"white-space:pre;overflow-x:auto;line-height:normal;font-family:Menlo,'DejaVu Sans Mono',consolas,'Courier New',monospace\">18:37:46.586 | <span style=\"color: #008080; text-decoration-color: #008080\">INFO</span>    | Task run 'query_pool_snaps-60635b41-9' - Finished in state Cached(type=COMPLETED)\n",
       "</pre>\n"
      ],
      "text/plain": [
       "18:37:46.586 | \u001b[36mINFO\u001b[0m    | Task run 'query_pool_snaps-60635b41-9' - Finished in state Cached(type=COMPLETED)\n"
      ]
     },
     "metadata": {},
     "output_type": "display_data"
    },
    {
     "data": {
      "text/html": [
       "<pre style=\"white-space:pre;overflow-x:auto;line-height:normal;font-family:Menlo,'DejaVu Sans Mono',consolas,'Courier New',monospace\">18:37:46.591 | <span style=\"color: #008080; text-decoration-color: #008080\">INFO</span>    | Task run 'query_pool_vol-8bdd8db3-55' - Finished in state Cached(type=COMPLETED)\n",
       "</pre>\n"
      ],
      "text/plain": [
       "18:37:46.591 | \u001b[36mINFO\u001b[0m    | Task run 'query_pool_vol-8bdd8db3-55' - Finished in state Cached(type=COMPLETED)\n"
      ]
     },
     "metadata": {},
     "output_type": "display_data"
    },
    {
     "data": {
      "text/html": [
       "<pre style=\"white-space:pre;overflow-x:auto;line-height:normal;font-family:Menlo,'DejaVu Sans Mono',consolas,'Courier New',monospace\">18:37:46.644 | <span style=\"color: #008080; text-decoration-color: #008080\">INFO</span>    | Flow run<span style=\"color: #800080; text-decoration-color: #800080\"> 'big-barracuda'</span> - Created task run 'query_pool_snaps-60635b41-4' for task 'query_pool_snaps'\n",
       "</pre>\n"
      ],
      "text/plain": [
       "18:37:46.644 | \u001b[36mINFO\u001b[0m    | Flow run\u001b[35m 'big-barracuda'\u001b[0m - Created task run 'query_pool_snaps-60635b41-4' for task 'query_pool_snaps'\n"
      ]
     },
     "metadata": {},
     "output_type": "display_data"
    },
    {
     "data": {
      "text/html": [
       "<pre style=\"white-space:pre;overflow-x:auto;line-height:normal;font-family:Menlo,'DejaVu Sans Mono',consolas,'Courier New',monospace\">18:37:46.645 | <span style=\"color: #008080; text-decoration-color: #008080\">INFO</span>    | Flow run<span style=\"color: #800080; text-decoration-color: #800080\"> 'big-barracuda'</span> - Submitted task run 'query_pool_snaps-60635b41-4' for execution.\n",
       "</pre>\n"
      ],
      "text/plain": [
       "18:37:46.645 | \u001b[36mINFO\u001b[0m    | Flow run\u001b[35m 'big-barracuda'\u001b[0m - Submitted task run 'query_pool_snaps-60635b41-4' for execution.\n"
      ]
     },
     "metadata": {},
     "output_type": "display_data"
    },
    {
     "data": {
      "text/html": [
       "<pre style=\"white-space:pre;overflow-x:auto;line-height:normal;font-family:Menlo,'DejaVu Sans Mono',consolas,'Courier New',monospace\">18:37:46.657 | <span style=\"color: #008080; text-decoration-color: #008080\">INFO</span>    | Task run 'query_pool_snaps-60635b41-4' - Finished in state Cached(type=COMPLETED)\n",
       "</pre>\n"
      ],
      "text/plain": [
       "18:37:46.657 | \u001b[36mINFO\u001b[0m    | Task run 'query_pool_snaps-60635b41-4' - Finished in state Cached(type=COMPLETED)\n"
      ]
     },
     "metadata": {},
     "output_type": "display_data"
    },
    {
     "data": {
      "text/html": [
       "<pre style=\"white-space:pre;overflow-x:auto;line-height:normal;font-family:Menlo,'DejaVu Sans Mono',consolas,'Courier New',monospace\">18:37:47.620 | <span style=\"color: #008080; text-decoration-color: #008080\">INFO</span>    | Flow run<span style=\"color: #800080; text-decoration-color: #800080\"> 'big-barracuda'</span> - Created task run 'process_pool_snaps-bb91f77b-0' for task 'process_pool_snaps'\n",
       "</pre>\n"
      ],
      "text/plain": [
       "18:37:47.620 | \u001b[36mINFO\u001b[0m    | Flow run\u001b[35m 'big-barracuda'\u001b[0m - Created task run 'process_pool_snaps-bb91f77b-0' for task 'process_pool_snaps'\n"
      ]
     },
     "metadata": {},
     "output_type": "display_data"
    },
    {
     "data": {
      "text/html": [
       "<pre style=\"white-space:pre;overflow-x:auto;line-height:normal;font-family:Menlo,'DejaVu Sans Mono',consolas,'Courier New',monospace\">18:37:47.621 | <span style=\"color: #008080; text-decoration-color: #008080\">INFO</span>    | Flow run<span style=\"color: #800080; text-decoration-color: #800080\"> 'big-barracuda'</span> - Executing 'process_pool_snaps-bb91f77b-0' immediately...\n",
       "</pre>\n"
      ],
      "text/plain": [
       "18:37:47.621 | \u001b[36mINFO\u001b[0m    | Flow run\u001b[35m 'big-barracuda'\u001b[0m - Executing 'process_pool_snaps-bb91f77b-0' immediately...\n"
      ]
     },
     "metadata": {},
     "output_type": "display_data"
    },
    {
     "data": {
      "text/html": [
       "<pre style=\"white-space:pre;overflow-x:auto;line-height:normal;font-family:Menlo,'DejaVu Sans Mono',consolas,'Courier New',monospace\">18:37:47.644 | <span style=\"color: #008080; text-decoration-color: #008080\">INFO</span>    | Task run 'process_pool_snaps-bb91f77b-0' - Finished in state <span style=\"color: #008000; text-decoration-color: #008000\">Completed</span>()\n",
       "</pre>\n"
      ],
      "text/plain": [
       "18:37:47.644 | \u001b[36mINFO\u001b[0m    | Task run 'process_pool_snaps-bb91f77b-0' - Finished in state \u001b[32mCompleted\u001b[0m()\n"
      ]
     },
     "metadata": {},
     "output_type": "display_data"
    },
    {
     "data": {
      "text/html": [
       "<pre style=\"white-space:pre;overflow-x:auto;line-height:normal;font-family:Menlo,'DejaVu Sans Mono',consolas,'Courier New',monospace\">18:37:47.653 | <span style=\"color: #008080; text-decoration-color: #008080\">INFO</span>    | Flow run<span style=\"color: #800080; text-decoration-color: #800080\"> 'big-barracuda'</span> - Created task run 'process_pool_snaps-bb91f77b-1' for task 'process_pool_snaps'\n",
       "</pre>\n"
      ],
      "text/plain": [
       "18:37:47.653 | \u001b[36mINFO\u001b[0m    | Flow run\u001b[35m 'big-barracuda'\u001b[0m - Created task run 'process_pool_snaps-bb91f77b-1' for task 'process_pool_snaps'\n"
      ]
     },
     "metadata": {},
     "output_type": "display_data"
    },
    {
     "data": {
      "text/html": [
       "<pre style=\"white-space:pre;overflow-x:auto;line-height:normal;font-family:Menlo,'DejaVu Sans Mono',consolas,'Courier New',monospace\">18:37:47.653 | <span style=\"color: #008080; text-decoration-color: #008080\">INFO</span>    | Flow run<span style=\"color: #800080; text-decoration-color: #800080\"> 'big-barracuda'</span> - Executing 'process_pool_snaps-bb91f77b-1' immediately...\n",
       "</pre>\n"
      ],
      "text/plain": [
       "18:37:47.653 | \u001b[36mINFO\u001b[0m    | Flow run\u001b[35m 'big-barracuda'\u001b[0m - Executing 'process_pool_snaps-bb91f77b-1' immediately...\n"
      ]
     },
     "metadata": {},
     "output_type": "display_data"
    },
    {
     "data": {
      "text/html": [
       "<pre style=\"white-space:pre;overflow-x:auto;line-height:normal;font-family:Menlo,'DejaVu Sans Mono',consolas,'Courier New',monospace\">18:37:47.677 | <span style=\"color: #008080; text-decoration-color: #008080\">INFO</span>    | Task run 'process_pool_snaps-bb91f77b-1' - Finished in state <span style=\"color: #008000; text-decoration-color: #008000\">Completed</span>()\n",
       "</pre>\n"
      ],
      "text/plain": [
       "18:37:47.677 | \u001b[36mINFO\u001b[0m    | Task run 'process_pool_snaps-bb91f77b-1' - Finished in state \u001b[32mCompleted\u001b[0m()\n"
      ]
     },
     "metadata": {},
     "output_type": "display_data"
    },
    {
     "data": {
      "text/html": [
       "<pre style=\"white-space:pre;overflow-x:auto;line-height:normal;font-family:Menlo,'DejaVu Sans Mono',consolas,'Courier New',monospace\">18:37:47.688 | <span style=\"color: #008080; text-decoration-color: #008080\">INFO</span>    | Flow run<span style=\"color: #800080; text-decoration-color: #800080\"> 'big-barracuda'</span> - Created task run 'process_pool_snaps-bb91f77b-2' for task 'process_pool_snaps'\n",
       "</pre>\n"
      ],
      "text/plain": [
       "18:37:47.688 | \u001b[36mINFO\u001b[0m    | Flow run\u001b[35m 'big-barracuda'\u001b[0m - Created task run 'process_pool_snaps-bb91f77b-2' for task 'process_pool_snaps'\n"
      ]
     },
     "metadata": {},
     "output_type": "display_data"
    },
    {
     "data": {
      "text/html": [
       "<pre style=\"white-space:pre;overflow-x:auto;line-height:normal;font-family:Menlo,'DejaVu Sans Mono',consolas,'Courier New',monospace\">18:37:47.689 | <span style=\"color: #008080; text-decoration-color: #008080\">INFO</span>    | Flow run<span style=\"color: #800080; text-decoration-color: #800080\"> 'big-barracuda'</span> - Executing 'process_pool_snaps-bb91f77b-2' immediately...\n",
       "</pre>\n"
      ],
      "text/plain": [
       "18:37:47.689 | \u001b[36mINFO\u001b[0m    | Flow run\u001b[35m 'big-barracuda'\u001b[0m - Executing 'process_pool_snaps-bb91f77b-2' immediately...\n"
      ]
     },
     "metadata": {},
     "output_type": "display_data"
    },
    {
     "data": {
      "text/html": [
       "<pre style=\"white-space:pre;overflow-x:auto;line-height:normal;font-family:Menlo,'DejaVu Sans Mono',consolas,'Courier New',monospace\">18:37:47.715 | <span style=\"color: #008080; text-decoration-color: #008080\">INFO</span>    | Task run 'process_pool_snaps-bb91f77b-2' - Finished in state <span style=\"color: #008000; text-decoration-color: #008000\">Completed</span>()\n",
       "</pre>\n"
      ],
      "text/plain": [
       "18:37:47.715 | \u001b[36mINFO\u001b[0m    | Task run 'process_pool_snaps-bb91f77b-2' - Finished in state \u001b[32mCompleted\u001b[0m()\n"
      ]
     },
     "metadata": {},
     "output_type": "display_data"
    },
    {
     "data": {
      "text/html": [
       "<pre style=\"white-space:pre;overflow-x:auto;line-height:normal;font-family:Menlo,'DejaVu Sans Mono',consolas,'Courier New',monospace\">18:37:47.724 | <span style=\"color: #008080; text-decoration-color: #008080\">INFO</span>    | Flow run<span style=\"color: #800080; text-decoration-color: #800080\"> 'big-barracuda'</span> - Created task run 'process_pool_snaps-bb91f77b-3' for task 'process_pool_snaps'\n",
       "</pre>\n"
      ],
      "text/plain": [
       "18:37:47.724 | \u001b[36mINFO\u001b[0m    | Flow run\u001b[35m 'big-barracuda'\u001b[0m - Created task run 'process_pool_snaps-bb91f77b-3' for task 'process_pool_snaps'\n"
      ]
     },
     "metadata": {},
     "output_type": "display_data"
    },
    {
     "data": {
      "text/html": [
       "<pre style=\"white-space:pre;overflow-x:auto;line-height:normal;font-family:Menlo,'DejaVu Sans Mono',consolas,'Courier New',monospace\">18:37:47.725 | <span style=\"color: #008080; text-decoration-color: #008080\">INFO</span>    | Flow run<span style=\"color: #800080; text-decoration-color: #800080\"> 'big-barracuda'</span> - Executing 'process_pool_snaps-bb91f77b-3' immediately...\n",
       "</pre>\n"
      ],
      "text/plain": [
       "18:37:47.725 | \u001b[36mINFO\u001b[0m    | Flow run\u001b[35m 'big-barracuda'\u001b[0m - Executing 'process_pool_snaps-bb91f77b-3' immediately...\n"
      ]
     },
     "metadata": {},
     "output_type": "display_data"
    },
    {
     "data": {
      "text/html": [
       "<pre style=\"white-space:pre;overflow-x:auto;line-height:normal;font-family:Menlo,'DejaVu Sans Mono',consolas,'Courier New',monospace\">18:37:47.749 | <span style=\"color: #008080; text-decoration-color: #008080\">INFO</span>    | Task run 'process_pool_snaps-bb91f77b-3' - Finished in state <span style=\"color: #008000; text-decoration-color: #008000\">Completed</span>()\n",
       "</pre>\n"
      ],
      "text/plain": [
       "18:37:47.749 | \u001b[36mINFO\u001b[0m    | Task run 'process_pool_snaps-bb91f77b-3' - Finished in state \u001b[32mCompleted\u001b[0m()\n"
      ]
     },
     "metadata": {},
     "output_type": "display_data"
    },
    {
     "data": {
      "text/html": [
       "<pre style=\"white-space:pre;overflow-x:auto;line-height:normal;font-family:Menlo,'DejaVu Sans Mono',consolas,'Courier New',monospace\">18:37:47.759 | <span style=\"color: #008080; text-decoration-color: #008080\">INFO</span>    | Flow run<span style=\"color: #800080; text-decoration-color: #800080\"> 'big-barracuda'</span> - Created task run 'process_pool_snaps-bb91f77b-4' for task 'process_pool_snaps'\n",
       "</pre>\n"
      ],
      "text/plain": [
       "18:37:47.759 | \u001b[36mINFO\u001b[0m    | Flow run\u001b[35m 'big-barracuda'\u001b[0m - Created task run 'process_pool_snaps-bb91f77b-4' for task 'process_pool_snaps'\n"
      ]
     },
     "metadata": {},
     "output_type": "display_data"
    },
    {
     "data": {
      "text/html": [
       "<pre style=\"white-space:pre;overflow-x:auto;line-height:normal;font-family:Menlo,'DejaVu Sans Mono',consolas,'Courier New',monospace\">18:37:47.760 | <span style=\"color: #008080; text-decoration-color: #008080\">INFO</span>    | Flow run<span style=\"color: #800080; text-decoration-color: #800080\"> 'big-barracuda'</span> - Executing 'process_pool_snaps-bb91f77b-4' immediately...\n",
       "</pre>\n"
      ],
      "text/plain": [
       "18:37:47.760 | \u001b[36mINFO\u001b[0m    | Flow run\u001b[35m 'big-barracuda'\u001b[0m - Executing 'process_pool_snaps-bb91f77b-4' immediately...\n"
      ]
     },
     "metadata": {},
     "output_type": "display_data"
    },
    {
     "data": {
      "text/html": [
       "<pre style=\"white-space:pre;overflow-x:auto;line-height:normal;font-family:Menlo,'DejaVu Sans Mono',consolas,'Courier New',monospace\">18:37:47.784 | <span style=\"color: #008080; text-decoration-color: #008080\">INFO</span>    | Task run 'process_pool_snaps-bb91f77b-4' - Finished in state <span style=\"color: #008000; text-decoration-color: #008000\">Completed</span>()\n",
       "</pre>\n"
      ],
      "text/plain": [
       "18:37:47.784 | \u001b[36mINFO\u001b[0m    | Task run 'process_pool_snaps-bb91f77b-4' - Finished in state \u001b[32mCompleted\u001b[0m()\n"
      ]
     },
     "metadata": {},
     "output_type": "display_data"
    },
    {
     "data": {
      "text/html": [
       "<pre style=\"white-space:pre;overflow-x:auto;line-height:normal;font-family:Menlo,'DejaVu Sans Mono',consolas,'Courier New',monospace\">18:37:47.794 | <span style=\"color: #008080; text-decoration-color: #008080\">INFO</span>    | Flow run<span style=\"color: #800080; text-decoration-color: #800080\"> 'big-barracuda'</span> - Created task run 'process_pool_snaps-bb91f77b-5' for task 'process_pool_snaps'\n",
       "</pre>\n"
      ],
      "text/plain": [
       "18:37:47.794 | \u001b[36mINFO\u001b[0m    | Flow run\u001b[35m 'big-barracuda'\u001b[0m - Created task run 'process_pool_snaps-bb91f77b-5' for task 'process_pool_snaps'\n"
      ]
     },
     "metadata": {},
     "output_type": "display_data"
    },
    {
     "data": {
      "text/html": [
       "<pre style=\"white-space:pre;overflow-x:auto;line-height:normal;font-family:Menlo,'DejaVu Sans Mono',consolas,'Courier New',monospace\">18:37:47.795 | <span style=\"color: #008080; text-decoration-color: #008080\">INFO</span>    | Flow run<span style=\"color: #800080; text-decoration-color: #800080\"> 'big-barracuda'</span> - Executing 'process_pool_snaps-bb91f77b-5' immediately...\n",
       "</pre>\n"
      ],
      "text/plain": [
       "18:37:47.795 | \u001b[36mINFO\u001b[0m    | Flow run\u001b[35m 'big-barracuda'\u001b[0m - Executing 'process_pool_snaps-bb91f77b-5' immediately...\n"
      ]
     },
     "metadata": {},
     "output_type": "display_data"
    },
    {
     "data": {
      "text/html": [
       "<pre style=\"white-space:pre;overflow-x:auto;line-height:normal;font-family:Menlo,'DejaVu Sans Mono',consolas,'Courier New',monospace\">18:37:47.819 | <span style=\"color: #008080; text-decoration-color: #008080\">INFO</span>    | Task run 'process_pool_snaps-bb91f77b-5' - Finished in state <span style=\"color: #008000; text-decoration-color: #008000\">Completed</span>()\n",
       "</pre>\n"
      ],
      "text/plain": [
       "18:37:47.819 | \u001b[36mINFO\u001b[0m    | Task run 'process_pool_snaps-bb91f77b-5' - Finished in state \u001b[32mCompleted\u001b[0m()\n"
      ]
     },
     "metadata": {},
     "output_type": "display_data"
    },
    {
     "data": {
      "text/html": [
       "<pre style=\"white-space:pre;overflow-x:auto;line-height:normal;font-family:Menlo,'DejaVu Sans Mono',consolas,'Courier New',monospace\">18:37:47.829 | <span style=\"color: #008080; text-decoration-color: #008080\">INFO</span>    | Flow run<span style=\"color: #800080; text-decoration-color: #800080\"> 'big-barracuda'</span> - Created task run 'process_pool_snaps-bb91f77b-6' for task 'process_pool_snaps'\n",
       "</pre>\n"
      ],
      "text/plain": [
       "18:37:47.829 | \u001b[36mINFO\u001b[0m    | Flow run\u001b[35m 'big-barracuda'\u001b[0m - Created task run 'process_pool_snaps-bb91f77b-6' for task 'process_pool_snaps'\n"
      ]
     },
     "metadata": {},
     "output_type": "display_data"
    },
    {
     "data": {
      "text/html": [
       "<pre style=\"white-space:pre;overflow-x:auto;line-height:normal;font-family:Menlo,'DejaVu Sans Mono',consolas,'Courier New',monospace\">18:37:47.830 | <span style=\"color: #008080; text-decoration-color: #008080\">INFO</span>    | Flow run<span style=\"color: #800080; text-decoration-color: #800080\"> 'big-barracuda'</span> - Executing 'process_pool_snaps-bb91f77b-6' immediately...\n",
       "</pre>\n"
      ],
      "text/plain": [
       "18:37:47.830 | \u001b[36mINFO\u001b[0m    | Flow run\u001b[35m 'big-barracuda'\u001b[0m - Executing 'process_pool_snaps-bb91f77b-6' immediately...\n"
      ]
     },
     "metadata": {},
     "output_type": "display_data"
    },
    {
     "data": {
      "text/html": [
       "<pre style=\"white-space:pre;overflow-x:auto;line-height:normal;font-family:Menlo,'DejaVu Sans Mono',consolas,'Courier New',monospace\">18:37:47.855 | <span style=\"color: #008080; text-decoration-color: #008080\">INFO</span>    | Task run 'process_pool_snaps-bb91f77b-6' - Finished in state <span style=\"color: #008000; text-decoration-color: #008000\">Completed</span>()\n",
       "</pre>\n"
      ],
      "text/plain": [
       "18:37:47.855 | \u001b[36mINFO\u001b[0m    | Task run 'process_pool_snaps-bb91f77b-6' - Finished in state \u001b[32mCompleted\u001b[0m()\n"
      ]
     },
     "metadata": {},
     "output_type": "display_data"
    },
    {
     "data": {
      "text/html": [
       "<pre style=\"white-space:pre;overflow-x:auto;line-height:normal;font-family:Menlo,'DejaVu Sans Mono',consolas,'Courier New',monospace\">18:37:47.864 | <span style=\"color: #008080; text-decoration-color: #008080\">INFO</span>    | Flow run<span style=\"color: #800080; text-decoration-color: #800080\"> 'big-barracuda'</span> - Created task run 'process_pool_snaps-bb91f77b-7' for task 'process_pool_snaps'\n",
       "</pre>\n"
      ],
      "text/plain": [
       "18:37:47.864 | \u001b[36mINFO\u001b[0m    | Flow run\u001b[35m 'big-barracuda'\u001b[0m - Created task run 'process_pool_snaps-bb91f77b-7' for task 'process_pool_snaps'\n"
      ]
     },
     "metadata": {},
     "output_type": "display_data"
    },
    {
     "data": {
      "text/html": [
       "<pre style=\"white-space:pre;overflow-x:auto;line-height:normal;font-family:Menlo,'DejaVu Sans Mono',consolas,'Courier New',monospace\">18:37:47.865 | <span style=\"color: #008080; text-decoration-color: #008080\">INFO</span>    | Flow run<span style=\"color: #800080; text-decoration-color: #800080\"> 'big-barracuda'</span> - Executing 'process_pool_snaps-bb91f77b-7' immediately...\n",
       "</pre>\n"
      ],
      "text/plain": [
       "18:37:47.865 | \u001b[36mINFO\u001b[0m    | Flow run\u001b[35m 'big-barracuda'\u001b[0m - Executing 'process_pool_snaps-bb91f77b-7' immediately...\n"
      ]
     },
     "metadata": {},
     "output_type": "display_data"
    },
    {
     "data": {
      "text/html": [
       "<pre style=\"white-space:pre;overflow-x:auto;line-height:normal;font-family:Menlo,'DejaVu Sans Mono',consolas,'Courier New',monospace\">18:37:47.888 | <span style=\"color: #008080; text-decoration-color: #008080\">INFO</span>    | Task run 'process_pool_snaps-bb91f77b-7' - Finished in state <span style=\"color: #008000; text-decoration-color: #008000\">Completed</span>()\n",
       "</pre>\n"
      ],
      "text/plain": [
       "18:37:47.888 | \u001b[36mINFO\u001b[0m    | Task run 'process_pool_snaps-bb91f77b-7' - Finished in state \u001b[32mCompleted\u001b[0m()\n"
      ]
     },
     "metadata": {},
     "output_type": "display_data"
    },
    {
     "data": {
      "text/html": [
       "<pre style=\"white-space:pre;overflow-x:auto;line-height:normal;font-family:Menlo,'DejaVu Sans Mono',consolas,'Courier New',monospace\">18:37:47.897 | <span style=\"color: #008080; text-decoration-color: #008080\">INFO</span>    | Flow run<span style=\"color: #800080; text-decoration-color: #800080\"> 'big-barracuda'</span> - Created task run 'process_pool_snaps-bb91f77b-8' for task 'process_pool_snaps'\n",
       "</pre>\n"
      ],
      "text/plain": [
       "18:37:47.897 | \u001b[36mINFO\u001b[0m    | Flow run\u001b[35m 'big-barracuda'\u001b[0m - Created task run 'process_pool_snaps-bb91f77b-8' for task 'process_pool_snaps'\n"
      ]
     },
     "metadata": {},
     "output_type": "display_data"
    },
    {
     "data": {
      "text/html": [
       "<pre style=\"white-space:pre;overflow-x:auto;line-height:normal;font-family:Menlo,'DejaVu Sans Mono',consolas,'Courier New',monospace\">18:37:47.898 | <span style=\"color: #008080; text-decoration-color: #008080\">INFO</span>    | Flow run<span style=\"color: #800080; text-decoration-color: #800080\"> 'big-barracuda'</span> - Executing 'process_pool_snaps-bb91f77b-8' immediately...\n",
       "</pre>\n"
      ],
      "text/plain": [
       "18:37:47.898 | \u001b[36mINFO\u001b[0m    | Flow run\u001b[35m 'big-barracuda'\u001b[0m - Executing 'process_pool_snaps-bb91f77b-8' immediately...\n"
      ]
     },
     "metadata": {},
     "output_type": "display_data"
    },
    {
     "data": {
      "text/html": [
       "<pre style=\"white-space:pre;overflow-x:auto;line-height:normal;font-family:Menlo,'DejaVu Sans Mono',consolas,'Courier New',monospace\">18:37:47.922 | <span style=\"color: #008080; text-decoration-color: #008080\">INFO</span>    | Task run 'process_pool_snaps-bb91f77b-8' - Finished in state <span style=\"color: #008000; text-decoration-color: #008000\">Completed</span>()\n",
       "</pre>\n"
      ],
      "text/plain": [
       "18:37:47.922 | \u001b[36mINFO\u001b[0m    | Task run 'process_pool_snaps-bb91f77b-8' - Finished in state \u001b[32mCompleted\u001b[0m()\n"
      ]
     },
     "metadata": {},
     "output_type": "display_data"
    },
    {
     "data": {
      "text/html": [
       "<pre style=\"white-space:pre;overflow-x:auto;line-height:normal;font-family:Menlo,'DejaVu Sans Mono',consolas,'Courier New',monospace\">18:37:47.932 | <span style=\"color: #008080; text-decoration-color: #008080\">INFO</span>    | Flow run<span style=\"color: #800080; text-decoration-color: #800080\"> 'big-barracuda'</span> - Created task run 'process_pool_snaps-bb91f77b-9' for task 'process_pool_snaps'\n",
       "</pre>\n"
      ],
      "text/plain": [
       "18:37:47.932 | \u001b[36mINFO\u001b[0m    | Flow run\u001b[35m 'big-barracuda'\u001b[0m - Created task run 'process_pool_snaps-bb91f77b-9' for task 'process_pool_snaps'\n"
      ]
     },
     "metadata": {},
     "output_type": "display_data"
    },
    {
     "data": {
      "text/html": [
       "<pre style=\"white-space:pre;overflow-x:auto;line-height:normal;font-family:Menlo,'DejaVu Sans Mono',consolas,'Courier New',monospace\">18:37:47.932 | <span style=\"color: #008080; text-decoration-color: #008080\">INFO</span>    | Flow run<span style=\"color: #800080; text-decoration-color: #800080\"> 'big-barracuda'</span> - Executing 'process_pool_snaps-bb91f77b-9' immediately...\n",
       "</pre>\n"
      ],
      "text/plain": [
       "18:37:47.932 | \u001b[36mINFO\u001b[0m    | Flow run\u001b[35m 'big-barracuda'\u001b[0m - Executing 'process_pool_snaps-bb91f77b-9' immediately...\n"
      ]
     },
     "metadata": {},
     "output_type": "display_data"
    },
    {
     "data": {
      "text/html": [
       "<pre style=\"white-space:pre;overflow-x:auto;line-height:normal;font-family:Menlo,'DejaVu Sans Mono',consolas,'Courier New',monospace\">18:37:47.956 | <span style=\"color: #008080; text-decoration-color: #008080\">INFO</span>    | Task run 'process_pool_snaps-bb91f77b-9' - Finished in state <span style=\"color: #008000; text-decoration-color: #008000\">Completed</span>()\n",
       "</pre>\n"
      ],
      "text/plain": [
       "18:37:47.956 | \u001b[36mINFO\u001b[0m    | Task run 'process_pool_snaps-bb91f77b-9' - Finished in state \u001b[32mCompleted\u001b[0m()\n"
      ]
     },
     "metadata": {},
     "output_type": "display_data"
    },
    {
     "data": {
      "text/html": [
       "<pre style=\"white-space:pre;overflow-x:auto;line-height:normal;font-family:Menlo,'DejaVu Sans Mono',consolas,'Courier New',monospace\">18:37:47.965 | <span style=\"color: #008080; text-decoration-color: #008080\">INFO</span>    | Flow run<span style=\"color: #800080; text-decoration-color: #800080\"> 'big-barracuda'</span> - Created task run 'process_pool_snaps-bb91f77b-10' for task 'process_pool_snaps'\n",
       "</pre>\n"
      ],
      "text/plain": [
       "18:37:47.965 | \u001b[36mINFO\u001b[0m    | Flow run\u001b[35m 'big-barracuda'\u001b[0m - Created task run 'process_pool_snaps-bb91f77b-10' for task 'process_pool_snaps'\n"
      ]
     },
     "metadata": {},
     "output_type": "display_data"
    },
    {
     "data": {
      "text/html": [
       "<pre style=\"white-space:pre;overflow-x:auto;line-height:normal;font-family:Menlo,'DejaVu Sans Mono',consolas,'Courier New',monospace\">18:37:47.966 | <span style=\"color: #008080; text-decoration-color: #008080\">INFO</span>    | Flow run<span style=\"color: #800080; text-decoration-color: #800080\"> 'big-barracuda'</span> - Executing 'process_pool_snaps-bb91f77b-10' immediately...\n",
       "</pre>\n"
      ],
      "text/plain": [
       "18:37:47.966 | \u001b[36mINFO\u001b[0m    | Flow run\u001b[35m 'big-barracuda'\u001b[0m - Executing 'process_pool_snaps-bb91f77b-10' immediately...\n"
      ]
     },
     "metadata": {},
     "output_type": "display_data"
    },
    {
     "data": {
      "text/html": [
       "<pre style=\"white-space:pre;overflow-x:auto;line-height:normal;font-family:Menlo,'DejaVu Sans Mono',consolas,'Courier New',monospace\">18:37:47.990 | <span style=\"color: #008080; text-decoration-color: #008080\">INFO</span>    | Task run 'process_pool_snaps-bb91f77b-10' - Finished in state <span style=\"color: #008000; text-decoration-color: #008000\">Completed</span>()\n",
       "</pre>\n"
      ],
      "text/plain": [
       "18:37:47.990 | \u001b[36mINFO\u001b[0m    | Task run 'process_pool_snaps-bb91f77b-10' - Finished in state \u001b[32mCompleted\u001b[0m()\n"
      ]
     },
     "metadata": {},
     "output_type": "display_data"
    },
    {
     "data": {
      "text/html": [
       "<pre style=\"white-space:pre;overflow-x:auto;line-height:normal;font-family:Menlo,'DejaVu Sans Mono',consolas,'Courier New',monospace\">18:37:47.999 | <span style=\"color: #008080; text-decoration-color: #008080\">INFO</span>    | Flow run<span style=\"color: #800080; text-decoration-color: #800080\"> 'big-barracuda'</span> - Created task run 'process_pool_snaps-bb91f77b-11' for task 'process_pool_snaps'\n",
       "</pre>\n"
      ],
      "text/plain": [
       "18:37:47.999 | \u001b[36mINFO\u001b[0m    | Flow run\u001b[35m 'big-barracuda'\u001b[0m - Created task run 'process_pool_snaps-bb91f77b-11' for task 'process_pool_snaps'\n"
      ]
     },
     "metadata": {},
     "output_type": "display_data"
    },
    {
     "data": {
      "text/html": [
       "<pre style=\"white-space:pre;overflow-x:auto;line-height:normal;font-family:Menlo,'DejaVu Sans Mono',consolas,'Courier New',monospace\">18:37:48.000 | <span style=\"color: #008080; text-decoration-color: #008080\">INFO</span>    | Flow run<span style=\"color: #800080; text-decoration-color: #800080\"> 'big-barracuda'</span> - Executing 'process_pool_snaps-bb91f77b-11' immediately...\n",
       "</pre>\n"
      ],
      "text/plain": [
       "18:37:48.000 | \u001b[36mINFO\u001b[0m    | Flow run\u001b[35m 'big-barracuda'\u001b[0m - Executing 'process_pool_snaps-bb91f77b-11' immediately...\n"
      ]
     },
     "metadata": {},
     "output_type": "display_data"
    },
    {
     "data": {
      "text/html": [
       "<pre style=\"white-space:pre;overflow-x:auto;line-height:normal;font-family:Menlo,'DejaVu Sans Mono',consolas,'Courier New',monospace\">18:37:48.024 | <span style=\"color: #008080; text-decoration-color: #008080\">INFO</span>    | Task run 'process_pool_snaps-bb91f77b-11' - Finished in state <span style=\"color: #008000; text-decoration-color: #008000\">Completed</span>()\n",
       "</pre>\n"
      ],
      "text/plain": [
       "18:37:48.024 | \u001b[36mINFO\u001b[0m    | Task run 'process_pool_snaps-bb91f77b-11' - Finished in state \u001b[32mCompleted\u001b[0m()\n"
      ]
     },
     "metadata": {},
     "output_type": "display_data"
    },
    {
     "data": {
      "text/html": [
       "<pre style=\"white-space:pre;overflow-x:auto;line-height:normal;font-family:Menlo,'DejaVu Sans Mono',consolas,'Courier New',monospace\">18:37:48.033 | <span style=\"color: #008080; text-decoration-color: #008080\">INFO</span>    | Flow run<span style=\"color: #800080; text-decoration-color: #800080\"> 'big-barracuda'</span> - Created task run 'process_pool_snaps-bb91f77b-12' for task 'process_pool_snaps'\n",
       "</pre>\n"
      ],
      "text/plain": [
       "18:37:48.033 | \u001b[36mINFO\u001b[0m    | Flow run\u001b[35m 'big-barracuda'\u001b[0m - Created task run 'process_pool_snaps-bb91f77b-12' for task 'process_pool_snaps'\n"
      ]
     },
     "metadata": {},
     "output_type": "display_data"
    },
    {
     "data": {
      "text/html": [
       "<pre style=\"white-space:pre;overflow-x:auto;line-height:normal;font-family:Menlo,'DejaVu Sans Mono',consolas,'Courier New',monospace\">18:37:48.034 | <span style=\"color: #008080; text-decoration-color: #008080\">INFO</span>    | Flow run<span style=\"color: #800080; text-decoration-color: #800080\"> 'big-barracuda'</span> - Executing 'process_pool_snaps-bb91f77b-12' immediately...\n",
       "</pre>\n"
      ],
      "text/plain": [
       "18:37:48.034 | \u001b[36mINFO\u001b[0m    | Flow run\u001b[35m 'big-barracuda'\u001b[0m - Executing 'process_pool_snaps-bb91f77b-12' immediately...\n"
      ]
     },
     "metadata": {},
     "output_type": "display_data"
    },
    {
     "data": {
      "text/html": [
       "<pre style=\"white-space:pre;overflow-x:auto;line-height:normal;font-family:Menlo,'DejaVu Sans Mono',consolas,'Courier New',monospace\">18:37:48.057 | <span style=\"color: #008080; text-decoration-color: #008080\">INFO</span>    | Task run 'process_pool_snaps-bb91f77b-12' - Finished in state <span style=\"color: #008000; text-decoration-color: #008000\">Completed</span>()\n",
       "</pre>\n"
      ],
      "text/plain": [
       "18:37:48.057 | \u001b[36mINFO\u001b[0m    | Task run 'process_pool_snaps-bb91f77b-12' - Finished in state \u001b[32mCompleted\u001b[0m()\n"
      ]
     },
     "metadata": {},
     "output_type": "display_data"
    },
    {
     "data": {
      "text/html": [
       "<pre style=\"white-space:pre;overflow-x:auto;line-height:normal;font-family:Menlo,'DejaVu Sans Mono',consolas,'Courier New',monospace\">18:37:48.067 | <span style=\"color: #008080; text-decoration-color: #008080\">INFO</span>    | Flow run<span style=\"color: #800080; text-decoration-color: #800080\"> 'big-barracuda'</span> - Created task run 'process_pool_snaps-bb91f77b-13' for task 'process_pool_snaps'\n",
       "</pre>\n"
      ],
      "text/plain": [
       "18:37:48.067 | \u001b[36mINFO\u001b[0m    | Flow run\u001b[35m 'big-barracuda'\u001b[0m - Created task run 'process_pool_snaps-bb91f77b-13' for task 'process_pool_snaps'\n"
      ]
     },
     "metadata": {},
     "output_type": "display_data"
    },
    {
     "data": {
      "text/html": [
       "<pre style=\"white-space:pre;overflow-x:auto;line-height:normal;font-family:Menlo,'DejaVu Sans Mono',consolas,'Courier New',monospace\">18:37:48.067 | <span style=\"color: #008080; text-decoration-color: #008080\">INFO</span>    | Flow run<span style=\"color: #800080; text-decoration-color: #800080\"> 'big-barracuda'</span> - Executing 'process_pool_snaps-bb91f77b-13' immediately...\n",
       "</pre>\n"
      ],
      "text/plain": [
       "18:37:48.067 | \u001b[36mINFO\u001b[0m    | Flow run\u001b[35m 'big-barracuda'\u001b[0m - Executing 'process_pool_snaps-bb91f77b-13' immediately...\n"
      ]
     },
     "metadata": {},
     "output_type": "display_data"
    },
    {
     "data": {
      "text/html": [
       "<pre style=\"white-space:pre;overflow-x:auto;line-height:normal;font-family:Menlo,'DejaVu Sans Mono',consolas,'Courier New',monospace\">18:37:48.091 | <span style=\"color: #008080; text-decoration-color: #008080\">INFO</span>    | Task run 'process_pool_snaps-bb91f77b-13' - Finished in state <span style=\"color: #008000; text-decoration-color: #008000\">Completed</span>()\n",
       "</pre>\n"
      ],
      "text/plain": [
       "18:37:48.091 | \u001b[36mINFO\u001b[0m    | Task run 'process_pool_snaps-bb91f77b-13' - Finished in state \u001b[32mCompleted\u001b[0m()\n"
      ]
     },
     "metadata": {},
     "output_type": "display_data"
    },
    {
     "data": {
      "text/html": [
       "<pre style=\"white-space:pre;overflow-x:auto;line-height:normal;font-family:Menlo,'DejaVu Sans Mono',consolas,'Courier New',monospace\">18:37:48.100 | <span style=\"color: #008080; text-decoration-color: #008080\">INFO</span>    | Flow run<span style=\"color: #800080; text-decoration-color: #800080\"> 'big-barracuda'</span> - Created task run 'process_pool_snaps-bb91f77b-14' for task 'process_pool_snaps'\n",
       "</pre>\n"
      ],
      "text/plain": [
       "18:37:48.100 | \u001b[36mINFO\u001b[0m    | Flow run\u001b[35m 'big-barracuda'\u001b[0m - Created task run 'process_pool_snaps-bb91f77b-14' for task 'process_pool_snaps'\n"
      ]
     },
     "metadata": {},
     "output_type": "display_data"
    },
    {
     "data": {
      "text/html": [
       "<pre style=\"white-space:pre;overflow-x:auto;line-height:normal;font-family:Menlo,'DejaVu Sans Mono',consolas,'Courier New',monospace\">18:37:48.101 | <span style=\"color: #008080; text-decoration-color: #008080\">INFO</span>    | Flow run<span style=\"color: #800080; text-decoration-color: #800080\"> 'big-barracuda'</span> - Executing 'process_pool_snaps-bb91f77b-14' immediately...\n",
       "</pre>\n"
      ],
      "text/plain": [
       "18:37:48.101 | \u001b[36mINFO\u001b[0m    | Flow run\u001b[35m 'big-barracuda'\u001b[0m - Executing 'process_pool_snaps-bb91f77b-14' immediately...\n"
      ]
     },
     "metadata": {},
     "output_type": "display_data"
    },
    {
     "data": {
      "text/html": [
       "<pre style=\"white-space:pre;overflow-x:auto;line-height:normal;font-family:Menlo,'DejaVu Sans Mono',consolas,'Courier New',monospace\">18:37:48.124 | <span style=\"color: #008080; text-decoration-color: #008080\">INFO</span>    | Task run 'process_pool_snaps-bb91f77b-14' - Finished in state <span style=\"color: #008000; text-decoration-color: #008000\">Completed</span>()\n",
       "</pre>\n"
      ],
      "text/plain": [
       "18:37:48.124 | \u001b[36mINFO\u001b[0m    | Task run 'process_pool_snaps-bb91f77b-14' - Finished in state \u001b[32mCompleted\u001b[0m()\n"
      ]
     },
     "metadata": {},
     "output_type": "display_data"
    },
    {
     "data": {
      "text/html": [
       "<pre style=\"white-space:pre;overflow-x:auto;line-height:normal;font-family:Menlo,'DejaVu Sans Mono',consolas,'Courier New',monospace\">18:37:48.134 | <span style=\"color: #008080; text-decoration-color: #008080\">INFO</span>    | Flow run<span style=\"color: #800080; text-decoration-color: #800080\"> 'big-barracuda'</span> - Created task run 'process_pool_snaps-bb91f77b-15' for task 'process_pool_snaps'\n",
       "</pre>\n"
      ],
      "text/plain": [
       "18:37:48.134 | \u001b[36mINFO\u001b[0m    | Flow run\u001b[35m 'big-barracuda'\u001b[0m - Created task run 'process_pool_snaps-bb91f77b-15' for task 'process_pool_snaps'\n"
      ]
     },
     "metadata": {},
     "output_type": "display_data"
    },
    {
     "data": {
      "text/html": [
       "<pre style=\"white-space:pre;overflow-x:auto;line-height:normal;font-family:Menlo,'DejaVu Sans Mono',consolas,'Courier New',monospace\">18:37:48.134 | <span style=\"color: #008080; text-decoration-color: #008080\">INFO</span>    | Flow run<span style=\"color: #800080; text-decoration-color: #800080\"> 'big-barracuda'</span> - Executing 'process_pool_snaps-bb91f77b-15' immediately...\n",
       "</pre>\n"
      ],
      "text/plain": [
       "18:37:48.134 | \u001b[36mINFO\u001b[0m    | Flow run\u001b[35m 'big-barracuda'\u001b[0m - Executing 'process_pool_snaps-bb91f77b-15' immediately...\n"
      ]
     },
     "metadata": {},
     "output_type": "display_data"
    },
    {
     "data": {
      "text/html": [
       "<pre style=\"white-space:pre;overflow-x:auto;line-height:normal;font-family:Menlo,'DejaVu Sans Mono',consolas,'Courier New',monospace\">18:37:48.158 | <span style=\"color: #008080; text-decoration-color: #008080\">INFO</span>    | Task run 'process_pool_snaps-bb91f77b-15' - Finished in state <span style=\"color: #008000; text-decoration-color: #008000\">Completed</span>()\n",
       "</pre>\n"
      ],
      "text/plain": [
       "18:37:48.158 | \u001b[36mINFO\u001b[0m    | Task run 'process_pool_snaps-bb91f77b-15' - Finished in state \u001b[32mCompleted\u001b[0m()\n"
      ]
     },
     "metadata": {},
     "output_type": "display_data"
    },
    {
     "data": {
      "text/html": [
       "<pre style=\"white-space:pre;overflow-x:auto;line-height:normal;font-family:Menlo,'DejaVu Sans Mono',consolas,'Courier New',monospace\">18:37:48.168 | <span style=\"color: #008080; text-decoration-color: #008080\">INFO</span>    | Flow run<span style=\"color: #800080; text-decoration-color: #800080\"> 'big-barracuda'</span> - Created task run 'process_pool_snaps-bb91f77b-16' for task 'process_pool_snaps'\n",
       "</pre>\n"
      ],
      "text/plain": [
       "18:37:48.168 | \u001b[36mINFO\u001b[0m    | Flow run\u001b[35m 'big-barracuda'\u001b[0m - Created task run 'process_pool_snaps-bb91f77b-16' for task 'process_pool_snaps'\n"
      ]
     },
     "metadata": {},
     "output_type": "display_data"
    },
    {
     "data": {
      "text/html": [
       "<pre style=\"white-space:pre;overflow-x:auto;line-height:normal;font-family:Menlo,'DejaVu Sans Mono',consolas,'Courier New',monospace\">18:37:48.168 | <span style=\"color: #008080; text-decoration-color: #008080\">INFO</span>    | Flow run<span style=\"color: #800080; text-decoration-color: #800080\"> 'big-barracuda'</span> - Executing 'process_pool_snaps-bb91f77b-16' immediately...\n",
       "</pre>\n"
      ],
      "text/plain": [
       "18:37:48.168 | \u001b[36mINFO\u001b[0m    | Flow run\u001b[35m 'big-barracuda'\u001b[0m - Executing 'process_pool_snaps-bb91f77b-16' immediately...\n"
      ]
     },
     "metadata": {},
     "output_type": "display_data"
    },
    {
     "data": {
      "text/html": [
       "<pre style=\"white-space:pre;overflow-x:auto;line-height:normal;font-family:Menlo,'DejaVu Sans Mono',consolas,'Courier New',monospace\">18:37:48.192 | <span style=\"color: #008080; text-decoration-color: #008080\">INFO</span>    | Task run 'process_pool_snaps-bb91f77b-16' - Finished in state <span style=\"color: #008000; text-decoration-color: #008000\">Completed</span>()\n",
       "</pre>\n"
      ],
      "text/plain": [
       "18:37:48.192 | \u001b[36mINFO\u001b[0m    | Task run 'process_pool_snaps-bb91f77b-16' - Finished in state \u001b[32mCompleted\u001b[0m()\n"
      ]
     },
     "metadata": {},
     "output_type": "display_data"
    },
    {
     "data": {
      "text/html": [
       "<pre style=\"white-space:pre;overflow-x:auto;line-height:normal;font-family:Menlo,'DejaVu Sans Mono',consolas,'Courier New',monospace\">18:37:48.202 | <span style=\"color: #008080; text-decoration-color: #008080\">INFO</span>    | Flow run<span style=\"color: #800080; text-decoration-color: #800080\"> 'big-barracuda'</span> - Created task run 'process_pool_snaps-bb91f77b-17' for task 'process_pool_snaps'\n",
       "</pre>\n"
      ],
      "text/plain": [
       "18:37:48.202 | \u001b[36mINFO\u001b[0m    | Flow run\u001b[35m 'big-barracuda'\u001b[0m - Created task run 'process_pool_snaps-bb91f77b-17' for task 'process_pool_snaps'\n"
      ]
     },
     "metadata": {},
     "output_type": "display_data"
    },
    {
     "data": {
      "text/html": [
       "<pre style=\"white-space:pre;overflow-x:auto;line-height:normal;font-family:Menlo,'DejaVu Sans Mono',consolas,'Courier New',monospace\">18:37:48.203 | <span style=\"color: #008080; text-decoration-color: #008080\">INFO</span>    | Flow run<span style=\"color: #800080; text-decoration-color: #800080\"> 'big-barracuda'</span> - Executing 'process_pool_snaps-bb91f77b-17' immediately...\n",
       "</pre>\n"
      ],
      "text/plain": [
       "18:37:48.203 | \u001b[36mINFO\u001b[0m    | Flow run\u001b[35m 'big-barracuda'\u001b[0m - Executing 'process_pool_snaps-bb91f77b-17' immediately...\n"
      ]
     },
     "metadata": {},
     "output_type": "display_data"
    },
    {
     "data": {
      "text/html": [
       "<pre style=\"white-space:pre;overflow-x:auto;line-height:normal;font-family:Menlo,'DejaVu Sans Mono',consolas,'Courier New',monospace\">18:37:48.227 | <span style=\"color: #008080; text-decoration-color: #008080\">INFO</span>    | Task run 'process_pool_snaps-bb91f77b-17' - Finished in state <span style=\"color: #008000; text-decoration-color: #008000\">Completed</span>()\n",
       "</pre>\n"
      ],
      "text/plain": [
       "18:37:48.227 | \u001b[36mINFO\u001b[0m    | Task run 'process_pool_snaps-bb91f77b-17' - Finished in state \u001b[32mCompleted\u001b[0m()\n"
      ]
     },
     "metadata": {},
     "output_type": "display_data"
    },
    {
     "data": {
      "text/html": [
       "<pre style=\"white-space:pre;overflow-x:auto;line-height:normal;font-family:Menlo,'DejaVu Sans Mono',consolas,'Courier New',monospace\">18:37:48.236 | <span style=\"color: #008080; text-decoration-color: #008080\">INFO</span>    | Flow run<span style=\"color: #800080; text-decoration-color: #800080\"> 'big-barracuda'</span> - Created task run 'process_pool_snaps-bb91f77b-18' for task 'process_pool_snaps'\n",
       "</pre>\n"
      ],
      "text/plain": [
       "18:37:48.236 | \u001b[36mINFO\u001b[0m    | Flow run\u001b[35m 'big-barracuda'\u001b[0m - Created task run 'process_pool_snaps-bb91f77b-18' for task 'process_pool_snaps'\n"
      ]
     },
     "metadata": {},
     "output_type": "display_data"
    },
    {
     "data": {
      "text/html": [
       "<pre style=\"white-space:pre;overflow-x:auto;line-height:normal;font-family:Menlo,'DejaVu Sans Mono',consolas,'Courier New',monospace\">18:37:48.237 | <span style=\"color: #008080; text-decoration-color: #008080\">INFO</span>    | Flow run<span style=\"color: #800080; text-decoration-color: #800080\"> 'big-barracuda'</span> - Executing 'process_pool_snaps-bb91f77b-18' immediately...\n",
       "</pre>\n"
      ],
      "text/plain": [
       "18:37:48.237 | \u001b[36mINFO\u001b[0m    | Flow run\u001b[35m 'big-barracuda'\u001b[0m - Executing 'process_pool_snaps-bb91f77b-18' immediately...\n"
      ]
     },
     "metadata": {},
     "output_type": "display_data"
    },
    {
     "data": {
      "text/html": [
       "<pre style=\"white-space:pre;overflow-x:auto;line-height:normal;font-family:Menlo,'DejaVu Sans Mono',consolas,'Courier New',monospace\">18:37:48.262 | <span style=\"color: #008080; text-decoration-color: #008080\">INFO</span>    | Task run 'process_pool_snaps-bb91f77b-18' - Finished in state <span style=\"color: #008000; text-decoration-color: #008000\">Completed</span>()\n",
       "</pre>\n"
      ],
      "text/plain": [
       "18:37:48.262 | \u001b[36mINFO\u001b[0m    | Task run 'process_pool_snaps-bb91f77b-18' - Finished in state \u001b[32mCompleted\u001b[0m()\n"
      ]
     },
     "metadata": {},
     "output_type": "display_data"
    },
    {
     "data": {
      "text/html": [
       "<pre style=\"white-space:pre;overflow-x:auto;line-height:normal;font-family:Menlo,'DejaVu Sans Mono',consolas,'Courier New',monospace\">18:37:48.271 | <span style=\"color: #008080; text-decoration-color: #008080\">INFO</span>    | Flow run<span style=\"color: #800080; text-decoration-color: #800080\"> 'big-barracuda'</span> - Created task run 'process_pool_snaps-bb91f77b-19' for task 'process_pool_snaps'\n",
       "</pre>\n"
      ],
      "text/plain": [
       "18:37:48.271 | \u001b[36mINFO\u001b[0m    | Flow run\u001b[35m 'big-barracuda'\u001b[0m - Created task run 'process_pool_snaps-bb91f77b-19' for task 'process_pool_snaps'\n"
      ]
     },
     "metadata": {},
     "output_type": "display_data"
    },
    {
     "data": {
      "text/html": [
       "<pre style=\"white-space:pre;overflow-x:auto;line-height:normal;font-family:Menlo,'DejaVu Sans Mono',consolas,'Courier New',monospace\">18:37:48.271 | <span style=\"color: #008080; text-decoration-color: #008080\">INFO</span>    | Flow run<span style=\"color: #800080; text-decoration-color: #800080\"> 'big-barracuda'</span> - Executing 'process_pool_snaps-bb91f77b-19' immediately...\n",
       "</pre>\n"
      ],
      "text/plain": [
       "18:37:48.271 | \u001b[36mINFO\u001b[0m    | Flow run\u001b[35m 'big-barracuda'\u001b[0m - Executing 'process_pool_snaps-bb91f77b-19' immediately...\n"
      ]
     },
     "metadata": {},
     "output_type": "display_data"
    },
    {
     "data": {
      "text/html": [
       "<pre style=\"white-space:pre;overflow-x:auto;line-height:normal;font-family:Menlo,'DejaVu Sans Mono',consolas,'Courier New',monospace\">18:37:48.296 | <span style=\"color: #008080; text-decoration-color: #008080\">INFO</span>    | Task run 'process_pool_snaps-bb91f77b-19' - Finished in state <span style=\"color: #008000; text-decoration-color: #008000\">Completed</span>()\n",
       "</pre>\n"
      ],
      "text/plain": [
       "18:37:48.296 | \u001b[36mINFO\u001b[0m    | Task run 'process_pool_snaps-bb91f77b-19' - Finished in state \u001b[32mCompleted\u001b[0m()\n"
      ]
     },
     "metadata": {},
     "output_type": "display_data"
    },
    {
     "data": {
      "text/html": [
       "<pre style=\"white-space:pre;overflow-x:auto;line-height:normal;font-family:Menlo,'DejaVu Sans Mono',consolas,'Courier New',monospace\">18:37:48.306 | <span style=\"color: #008080; text-decoration-color: #008080\">INFO</span>    | Flow run<span style=\"color: #800080; text-decoration-color: #800080\"> 'big-barracuda'</span> - Created task run 'process_pool_snaps-bb91f77b-20' for task 'process_pool_snaps'\n",
       "</pre>\n"
      ],
      "text/plain": [
       "18:37:48.306 | \u001b[36mINFO\u001b[0m    | Flow run\u001b[35m 'big-barracuda'\u001b[0m - Created task run 'process_pool_snaps-bb91f77b-20' for task 'process_pool_snaps'\n"
      ]
     },
     "metadata": {},
     "output_type": "display_data"
    },
    {
     "data": {
      "text/html": [
       "<pre style=\"white-space:pre;overflow-x:auto;line-height:normal;font-family:Menlo,'DejaVu Sans Mono',consolas,'Courier New',monospace\">18:37:48.306 | <span style=\"color: #008080; text-decoration-color: #008080\">INFO</span>    | Flow run<span style=\"color: #800080; text-decoration-color: #800080\"> 'big-barracuda'</span> - Executing 'process_pool_snaps-bb91f77b-20' immediately...\n",
       "</pre>\n"
      ],
      "text/plain": [
       "18:37:48.306 | \u001b[36mINFO\u001b[0m    | Flow run\u001b[35m 'big-barracuda'\u001b[0m - Executing 'process_pool_snaps-bb91f77b-20' immediately...\n"
      ]
     },
     "metadata": {},
     "output_type": "display_data"
    },
    {
     "data": {
      "text/html": [
       "<pre style=\"white-space:pre;overflow-x:auto;line-height:normal;font-family:Menlo,'DejaVu Sans Mono',consolas,'Courier New',monospace\">18:37:48.330 | <span style=\"color: #008080; text-decoration-color: #008080\">INFO</span>    | Task run 'process_pool_snaps-bb91f77b-20' - Finished in state <span style=\"color: #008000; text-decoration-color: #008000\">Completed</span>()\n",
       "</pre>\n"
      ],
      "text/plain": [
       "18:37:48.330 | \u001b[36mINFO\u001b[0m    | Task run 'process_pool_snaps-bb91f77b-20' - Finished in state \u001b[32mCompleted\u001b[0m()\n"
      ]
     },
     "metadata": {},
     "output_type": "display_data"
    },
    {
     "data": {
      "text/html": [
       "<pre style=\"white-space:pre;overflow-x:auto;line-height:normal;font-family:Menlo,'DejaVu Sans Mono',consolas,'Courier New',monospace\">18:37:48.340 | <span style=\"color: #008080; text-decoration-color: #008080\">INFO</span>    | Flow run<span style=\"color: #800080; text-decoration-color: #800080\"> 'big-barracuda'</span> - Created task run 'process_pool_snaps-bb91f77b-21' for task 'process_pool_snaps'\n",
       "</pre>\n"
      ],
      "text/plain": [
       "18:37:48.340 | \u001b[36mINFO\u001b[0m    | Flow run\u001b[35m 'big-barracuda'\u001b[0m - Created task run 'process_pool_snaps-bb91f77b-21' for task 'process_pool_snaps'\n"
      ]
     },
     "metadata": {},
     "output_type": "display_data"
    },
    {
     "data": {
      "text/html": [
       "<pre style=\"white-space:pre;overflow-x:auto;line-height:normal;font-family:Menlo,'DejaVu Sans Mono',consolas,'Courier New',monospace\">18:37:48.346 | <span style=\"color: #008080; text-decoration-color: #008080\">INFO</span>    | Flow run<span style=\"color: #800080; text-decoration-color: #800080\"> 'big-barracuda'</span> - Executing 'process_pool_snaps-bb91f77b-21' immediately...\n",
       "</pre>\n"
      ],
      "text/plain": [
       "18:37:48.346 | \u001b[36mINFO\u001b[0m    | Flow run\u001b[35m 'big-barracuda'\u001b[0m - Executing 'process_pool_snaps-bb91f77b-21' immediately...\n"
      ]
     },
     "metadata": {},
     "output_type": "display_data"
    },
    {
     "data": {
      "text/html": [
       "<pre style=\"white-space:pre;overflow-x:auto;line-height:normal;font-family:Menlo,'DejaVu Sans Mono',consolas,'Courier New',monospace\">18:37:48.386 | <span style=\"color: #008080; text-decoration-color: #008080\">INFO</span>    | Task run 'process_pool_snaps-bb91f77b-21' - Finished in state <span style=\"color: #008000; text-decoration-color: #008000\">Completed</span>()\n",
       "</pre>\n"
      ],
      "text/plain": [
       "18:37:48.386 | \u001b[36mINFO\u001b[0m    | Task run 'process_pool_snaps-bb91f77b-21' - Finished in state \u001b[32mCompleted\u001b[0m()\n"
      ]
     },
     "metadata": {},
     "output_type": "display_data"
    },
    {
     "data": {
      "text/html": [
       "<pre style=\"white-space:pre;overflow-x:auto;line-height:normal;font-family:Menlo,'DejaVu Sans Mono',consolas,'Courier New',monospace\">18:37:48.395 | <span style=\"color: #008080; text-decoration-color: #008080\">INFO</span>    | Flow run<span style=\"color: #800080; text-decoration-color: #800080\"> 'big-barracuda'</span> - Created task run 'process_pool_snaps-bb91f77b-22' for task 'process_pool_snaps'\n",
       "</pre>\n"
      ],
      "text/plain": [
       "18:37:48.395 | \u001b[36mINFO\u001b[0m    | Flow run\u001b[35m 'big-barracuda'\u001b[0m - Created task run 'process_pool_snaps-bb91f77b-22' for task 'process_pool_snaps'\n"
      ]
     },
     "metadata": {},
     "output_type": "display_data"
    },
    {
     "data": {
      "text/html": [
       "<pre style=\"white-space:pre;overflow-x:auto;line-height:normal;font-family:Menlo,'DejaVu Sans Mono',consolas,'Courier New',monospace\">18:37:48.396 | <span style=\"color: #008080; text-decoration-color: #008080\">INFO</span>    | Flow run<span style=\"color: #800080; text-decoration-color: #800080\"> 'big-barracuda'</span> - Executing 'process_pool_snaps-bb91f77b-22' immediately...\n",
       "</pre>\n"
      ],
      "text/plain": [
       "18:37:48.396 | \u001b[36mINFO\u001b[0m    | Flow run\u001b[35m 'big-barracuda'\u001b[0m - Executing 'process_pool_snaps-bb91f77b-22' immediately...\n"
      ]
     },
     "metadata": {},
     "output_type": "display_data"
    },
    {
     "data": {
      "text/html": [
       "<pre style=\"white-space:pre;overflow-x:auto;line-height:normal;font-family:Menlo,'DejaVu Sans Mono',consolas,'Courier New',monospace\">18:37:48.425 | <span style=\"color: #008080; text-decoration-color: #008080\">INFO</span>    | Task run 'process_pool_snaps-bb91f77b-22' - Finished in state <span style=\"color: #008000; text-decoration-color: #008000\">Completed</span>()\n",
       "</pre>\n"
      ],
      "text/plain": [
       "18:37:48.425 | \u001b[36mINFO\u001b[0m    | Task run 'process_pool_snaps-bb91f77b-22' - Finished in state \u001b[32mCompleted\u001b[0m()\n"
      ]
     },
     "metadata": {},
     "output_type": "display_data"
    },
    {
     "data": {
      "text/html": [
       "<pre style=\"white-space:pre;overflow-x:auto;line-height:normal;font-family:Menlo,'DejaVu Sans Mono',consolas,'Courier New',monospace\">18:37:48.434 | <span style=\"color: #008080; text-decoration-color: #008080\">INFO</span>    | Flow run<span style=\"color: #800080; text-decoration-color: #800080\"> 'big-barracuda'</span> - Created task run 'process_pool_snaps-bb91f77b-23' for task 'process_pool_snaps'\n",
       "</pre>\n"
      ],
      "text/plain": [
       "18:37:48.434 | \u001b[36mINFO\u001b[0m    | Flow run\u001b[35m 'big-barracuda'\u001b[0m - Created task run 'process_pool_snaps-bb91f77b-23' for task 'process_pool_snaps'\n"
      ]
     },
     "metadata": {},
     "output_type": "display_data"
    },
    {
     "data": {
      "text/html": [
       "<pre style=\"white-space:pre;overflow-x:auto;line-height:normal;font-family:Menlo,'DejaVu Sans Mono',consolas,'Courier New',monospace\">18:37:48.435 | <span style=\"color: #008080; text-decoration-color: #008080\">INFO</span>    | Flow run<span style=\"color: #800080; text-decoration-color: #800080\"> 'big-barracuda'</span> - Executing 'process_pool_snaps-bb91f77b-23' immediately...\n",
       "</pre>\n"
      ],
      "text/plain": [
       "18:37:48.435 | \u001b[36mINFO\u001b[0m    | Flow run\u001b[35m 'big-barracuda'\u001b[0m - Executing 'process_pool_snaps-bb91f77b-23' immediately...\n"
      ]
     },
     "metadata": {},
     "output_type": "display_data"
    },
    {
     "data": {
      "text/html": [
       "<pre style=\"white-space:pre;overflow-x:auto;line-height:normal;font-family:Menlo,'DejaVu Sans Mono',consolas,'Courier New',monospace\">18:37:48.459 | <span style=\"color: #008080; text-decoration-color: #008080\">INFO</span>    | Task run 'process_pool_snaps-bb91f77b-23' - Finished in state <span style=\"color: #008000; text-decoration-color: #008000\">Completed</span>()\n",
       "</pre>\n"
      ],
      "text/plain": [
       "18:37:48.459 | \u001b[36mINFO\u001b[0m    | Task run 'process_pool_snaps-bb91f77b-23' - Finished in state \u001b[32mCompleted\u001b[0m()\n"
      ]
     },
     "metadata": {},
     "output_type": "display_data"
    },
    {
     "data": {
      "text/html": [
       "<pre style=\"white-space:pre;overflow-x:auto;line-height:normal;font-family:Menlo,'DejaVu Sans Mono',consolas,'Courier New',monospace\">18:37:48.467 | <span style=\"color: #008080; text-decoration-color: #008080\">INFO</span>    | Flow run<span style=\"color: #800080; text-decoration-color: #800080\"> 'big-barracuda'</span> - Created task run 'process_pool_snaps-bb91f77b-24' for task 'process_pool_snaps'\n",
       "</pre>\n"
      ],
      "text/plain": [
       "18:37:48.467 | \u001b[36mINFO\u001b[0m    | Flow run\u001b[35m 'big-barracuda'\u001b[0m - Created task run 'process_pool_snaps-bb91f77b-24' for task 'process_pool_snaps'\n"
      ]
     },
     "metadata": {},
     "output_type": "display_data"
    },
    {
     "data": {
      "text/html": [
       "<pre style=\"white-space:pre;overflow-x:auto;line-height:normal;font-family:Menlo,'DejaVu Sans Mono',consolas,'Courier New',monospace\">18:37:48.468 | <span style=\"color: #008080; text-decoration-color: #008080\">INFO</span>    | Flow run<span style=\"color: #800080; text-decoration-color: #800080\"> 'big-barracuda'</span> - Executing 'process_pool_snaps-bb91f77b-24' immediately...\n",
       "</pre>\n"
      ],
      "text/plain": [
       "18:37:48.468 | \u001b[36mINFO\u001b[0m    | Flow run\u001b[35m 'big-barracuda'\u001b[0m - Executing 'process_pool_snaps-bb91f77b-24' immediately...\n"
      ]
     },
     "metadata": {},
     "output_type": "display_data"
    },
    {
     "data": {
      "text/html": [
       "<pre style=\"white-space:pre;overflow-x:auto;line-height:normal;font-family:Menlo,'DejaVu Sans Mono',consolas,'Courier New',monospace\">18:37:48.492 | <span style=\"color: #008080; text-decoration-color: #008080\">INFO</span>    | Task run 'process_pool_snaps-bb91f77b-24' - Finished in state <span style=\"color: #008000; text-decoration-color: #008000\">Completed</span>()\n",
       "</pre>\n"
      ],
      "text/plain": [
       "18:37:48.492 | \u001b[36mINFO\u001b[0m    | Task run 'process_pool_snaps-bb91f77b-24' - Finished in state \u001b[32mCompleted\u001b[0m()\n"
      ]
     },
     "metadata": {},
     "output_type": "display_data"
    },
    {
     "data": {
      "text/html": [
       "<pre style=\"white-space:pre;overflow-x:auto;line-height:normal;font-family:Menlo,'DejaVu Sans Mono',consolas,'Courier New',monospace\">18:37:48.501 | <span style=\"color: #008080; text-decoration-color: #008080\">INFO</span>    | Flow run<span style=\"color: #800080; text-decoration-color: #800080\"> 'big-barracuda'</span> - Created task run 'process_pool_snaps-bb91f77b-25' for task 'process_pool_snaps'\n",
       "</pre>\n"
      ],
      "text/plain": [
       "18:37:48.501 | \u001b[36mINFO\u001b[0m    | Flow run\u001b[35m 'big-barracuda'\u001b[0m - Created task run 'process_pool_snaps-bb91f77b-25' for task 'process_pool_snaps'\n"
      ]
     },
     "metadata": {},
     "output_type": "display_data"
    },
    {
     "data": {
      "text/html": [
       "<pre style=\"white-space:pre;overflow-x:auto;line-height:normal;font-family:Menlo,'DejaVu Sans Mono',consolas,'Courier New',monospace\">18:37:48.502 | <span style=\"color: #008080; text-decoration-color: #008080\">INFO</span>    | Flow run<span style=\"color: #800080; text-decoration-color: #800080\"> 'big-barracuda'</span> - Executing 'process_pool_snaps-bb91f77b-25' immediately...\n",
       "</pre>\n"
      ],
      "text/plain": [
       "18:37:48.502 | \u001b[36mINFO\u001b[0m    | Flow run\u001b[35m 'big-barracuda'\u001b[0m - Executing 'process_pool_snaps-bb91f77b-25' immediately...\n"
      ]
     },
     "metadata": {},
     "output_type": "display_data"
    },
    {
     "data": {
      "text/html": [
       "<pre style=\"white-space:pre;overflow-x:auto;line-height:normal;font-family:Menlo,'DejaVu Sans Mono',consolas,'Courier New',monospace\">18:37:48.527 | <span style=\"color: #008080; text-decoration-color: #008080\">INFO</span>    | Task run 'process_pool_snaps-bb91f77b-25' - Finished in state <span style=\"color: #008000; text-decoration-color: #008000\">Completed</span>()\n",
       "</pre>\n"
      ],
      "text/plain": [
       "18:37:48.527 | \u001b[36mINFO\u001b[0m    | Task run 'process_pool_snaps-bb91f77b-25' - Finished in state \u001b[32mCompleted\u001b[0m()\n"
      ]
     },
     "metadata": {},
     "output_type": "display_data"
    },
    {
     "data": {
      "text/html": [
       "<pre style=\"white-space:pre;overflow-x:auto;line-height:normal;font-family:Menlo,'DejaVu Sans Mono',consolas,'Courier New',monospace\">18:37:48.537 | <span style=\"color: #008080; text-decoration-color: #008080\">INFO</span>    | Flow run<span style=\"color: #800080; text-decoration-color: #800080\"> 'big-barracuda'</span> - Created task run 'process_pool_snaps-bb91f77b-26' for task 'process_pool_snaps'\n",
       "</pre>\n"
      ],
      "text/plain": [
       "18:37:48.537 | \u001b[36mINFO\u001b[0m    | Flow run\u001b[35m 'big-barracuda'\u001b[0m - Created task run 'process_pool_snaps-bb91f77b-26' for task 'process_pool_snaps'\n"
      ]
     },
     "metadata": {},
     "output_type": "display_data"
    },
    {
     "data": {
      "text/html": [
       "<pre style=\"white-space:pre;overflow-x:auto;line-height:normal;font-family:Menlo,'DejaVu Sans Mono',consolas,'Courier New',monospace\">18:37:48.537 | <span style=\"color: #008080; text-decoration-color: #008080\">INFO</span>    | Flow run<span style=\"color: #800080; text-decoration-color: #800080\"> 'big-barracuda'</span> - Executing 'process_pool_snaps-bb91f77b-26' immediately...\n",
       "</pre>\n"
      ],
      "text/plain": [
       "18:37:48.537 | \u001b[36mINFO\u001b[0m    | Flow run\u001b[35m 'big-barracuda'\u001b[0m - Executing 'process_pool_snaps-bb91f77b-26' immediately...\n"
      ]
     },
     "metadata": {},
     "output_type": "display_data"
    },
    {
     "data": {
      "text/html": [
       "<pre style=\"white-space:pre;overflow-x:auto;line-height:normal;font-family:Menlo,'DejaVu Sans Mono',consolas,'Courier New',monospace\">18:37:48.562 | <span style=\"color: #008080; text-decoration-color: #008080\">INFO</span>    | Task run 'process_pool_snaps-bb91f77b-26' - Finished in state <span style=\"color: #008000; text-decoration-color: #008000\">Completed</span>()\n",
       "</pre>\n"
      ],
      "text/plain": [
       "18:37:48.562 | \u001b[36mINFO\u001b[0m    | Task run 'process_pool_snaps-bb91f77b-26' - Finished in state \u001b[32mCompleted\u001b[0m()\n"
      ]
     },
     "metadata": {},
     "output_type": "display_data"
    },
    {
     "data": {
      "text/html": [
       "<pre style=\"white-space:pre;overflow-x:auto;line-height:normal;font-family:Menlo,'DejaVu Sans Mono',consolas,'Courier New',monospace\">18:37:48.572 | <span style=\"color: #008080; text-decoration-color: #008080\">INFO</span>    | Flow run<span style=\"color: #800080; text-decoration-color: #800080\"> 'big-barracuda'</span> - Created task run 'process_pool_snaps-bb91f77b-27' for task 'process_pool_snaps'\n",
       "</pre>\n"
      ],
      "text/plain": [
       "18:37:48.572 | \u001b[36mINFO\u001b[0m    | Flow run\u001b[35m 'big-barracuda'\u001b[0m - Created task run 'process_pool_snaps-bb91f77b-27' for task 'process_pool_snaps'\n"
      ]
     },
     "metadata": {},
     "output_type": "display_data"
    },
    {
     "data": {
      "text/html": [
       "<pre style=\"white-space:pre;overflow-x:auto;line-height:normal;font-family:Menlo,'DejaVu Sans Mono',consolas,'Courier New',monospace\">18:37:48.572 | <span style=\"color: #008080; text-decoration-color: #008080\">INFO</span>    | Flow run<span style=\"color: #800080; text-decoration-color: #800080\"> 'big-barracuda'</span> - Executing 'process_pool_snaps-bb91f77b-27' immediately...\n",
       "</pre>\n"
      ],
      "text/plain": [
       "18:37:48.572 | \u001b[36mINFO\u001b[0m    | Flow run\u001b[35m 'big-barracuda'\u001b[0m - Executing 'process_pool_snaps-bb91f77b-27' immediately...\n"
      ]
     },
     "metadata": {},
     "output_type": "display_data"
    },
    {
     "data": {
      "text/html": [
       "<pre style=\"white-space:pre;overflow-x:auto;line-height:normal;font-family:Menlo,'DejaVu Sans Mono',consolas,'Courier New',monospace\">18:37:48.597 | <span style=\"color: #008080; text-decoration-color: #008080\">INFO</span>    | Task run 'process_pool_snaps-bb91f77b-27' - Finished in state <span style=\"color: #008000; text-decoration-color: #008000\">Completed</span>()\n",
       "</pre>\n"
      ],
      "text/plain": [
       "18:37:48.597 | \u001b[36mINFO\u001b[0m    | Task run 'process_pool_snaps-bb91f77b-27' - Finished in state \u001b[32mCompleted\u001b[0m()\n"
      ]
     },
     "metadata": {},
     "output_type": "display_data"
    },
    {
     "data": {
      "text/html": [
       "<pre style=\"white-space:pre;overflow-x:auto;line-height:normal;font-family:Menlo,'DejaVu Sans Mono',consolas,'Courier New',monospace\">18:37:48.607 | <span style=\"color: #008080; text-decoration-color: #008080\">INFO</span>    | Flow run<span style=\"color: #800080; text-decoration-color: #800080\"> 'big-barracuda'</span> - Created task run 'process_pool_snaps-bb91f77b-28' for task 'process_pool_snaps'\n",
       "</pre>\n"
      ],
      "text/plain": [
       "18:37:48.607 | \u001b[36mINFO\u001b[0m    | Flow run\u001b[35m 'big-barracuda'\u001b[0m - Created task run 'process_pool_snaps-bb91f77b-28' for task 'process_pool_snaps'\n"
      ]
     },
     "metadata": {},
     "output_type": "display_data"
    },
    {
     "data": {
      "text/html": [
       "<pre style=\"white-space:pre;overflow-x:auto;line-height:normal;font-family:Menlo,'DejaVu Sans Mono',consolas,'Courier New',monospace\">18:37:48.608 | <span style=\"color: #008080; text-decoration-color: #008080\">INFO</span>    | Flow run<span style=\"color: #800080; text-decoration-color: #800080\"> 'big-barracuda'</span> - Executing 'process_pool_snaps-bb91f77b-28' immediately...\n",
       "</pre>\n"
      ],
      "text/plain": [
       "18:37:48.608 | \u001b[36mINFO\u001b[0m    | Flow run\u001b[35m 'big-barracuda'\u001b[0m - Executing 'process_pool_snaps-bb91f77b-28' immediately...\n"
      ]
     },
     "metadata": {},
     "output_type": "display_data"
    },
    {
     "data": {
      "text/html": [
       "<pre style=\"white-space:pre;overflow-x:auto;line-height:normal;font-family:Menlo,'DejaVu Sans Mono',consolas,'Courier New',monospace\">18:37:48.632 | <span style=\"color: #008080; text-decoration-color: #008080\">INFO</span>    | Task run 'process_pool_snaps-bb91f77b-28' - Finished in state <span style=\"color: #008000; text-decoration-color: #008000\">Completed</span>()\n",
       "</pre>\n"
      ],
      "text/plain": [
       "18:37:48.632 | \u001b[36mINFO\u001b[0m    | Task run 'process_pool_snaps-bb91f77b-28' - Finished in state \u001b[32mCompleted\u001b[0m()\n"
      ]
     },
     "metadata": {},
     "output_type": "display_data"
    },
    {
     "data": {
      "text/html": [
       "<pre style=\"white-space:pre;overflow-x:auto;line-height:normal;font-family:Menlo,'DejaVu Sans Mono',consolas,'Courier New',monospace\">18:37:48.642 | <span style=\"color: #008080; text-decoration-color: #008080\">INFO</span>    | Flow run<span style=\"color: #800080; text-decoration-color: #800080\"> 'big-barracuda'</span> - Created task run 'process_pool_snaps-bb91f77b-29' for task 'process_pool_snaps'\n",
       "</pre>\n"
      ],
      "text/plain": [
       "18:37:48.642 | \u001b[36mINFO\u001b[0m    | Flow run\u001b[35m 'big-barracuda'\u001b[0m - Created task run 'process_pool_snaps-bb91f77b-29' for task 'process_pool_snaps'\n"
      ]
     },
     "metadata": {},
     "output_type": "display_data"
    },
    {
     "data": {
      "text/html": [
       "<pre style=\"white-space:pre;overflow-x:auto;line-height:normal;font-family:Menlo,'DejaVu Sans Mono',consolas,'Courier New',monospace\">18:37:48.643 | <span style=\"color: #008080; text-decoration-color: #008080\">INFO</span>    | Flow run<span style=\"color: #800080; text-decoration-color: #800080\"> 'big-barracuda'</span> - Executing 'process_pool_snaps-bb91f77b-29' immediately...\n",
       "</pre>\n"
      ],
      "text/plain": [
       "18:37:48.643 | \u001b[36mINFO\u001b[0m    | Flow run\u001b[35m 'big-barracuda'\u001b[0m - Executing 'process_pool_snaps-bb91f77b-29' immediately...\n"
      ]
     },
     "metadata": {},
     "output_type": "display_data"
    },
    {
     "data": {
      "text/html": [
       "<pre style=\"white-space:pre;overflow-x:auto;line-height:normal;font-family:Menlo,'DejaVu Sans Mono',consolas,'Courier New',monospace\">18:37:48.667 | <span style=\"color: #008080; text-decoration-color: #008080\">INFO</span>    | Task run 'process_pool_snaps-bb91f77b-29' - Finished in state <span style=\"color: #008000; text-decoration-color: #008000\">Completed</span>()\n",
       "</pre>\n"
      ],
      "text/plain": [
       "18:37:48.667 | \u001b[36mINFO\u001b[0m    | Task run 'process_pool_snaps-bb91f77b-29' - Finished in state \u001b[32mCompleted\u001b[0m()\n"
      ]
     },
     "metadata": {},
     "output_type": "display_data"
    },
    {
     "data": {
      "text/html": [
       "<pre style=\"white-space:pre;overflow-x:auto;line-height:normal;font-family:Menlo,'DejaVu Sans Mono',consolas,'Courier New',monospace\">18:37:48.677 | <span style=\"color: #008080; text-decoration-color: #008080\">INFO</span>    | Flow run<span style=\"color: #800080; text-decoration-color: #800080\"> 'big-barracuda'</span> - Created task run 'process_pool_snaps-bb91f77b-30' for task 'process_pool_snaps'\n",
       "</pre>\n"
      ],
      "text/plain": [
       "18:37:48.677 | \u001b[36mINFO\u001b[0m    | Flow run\u001b[35m 'big-barracuda'\u001b[0m - Created task run 'process_pool_snaps-bb91f77b-30' for task 'process_pool_snaps'\n"
      ]
     },
     "metadata": {},
     "output_type": "display_data"
    },
    {
     "data": {
      "text/html": [
       "<pre style=\"white-space:pre;overflow-x:auto;line-height:normal;font-family:Menlo,'DejaVu Sans Mono',consolas,'Courier New',monospace\">18:37:48.677 | <span style=\"color: #008080; text-decoration-color: #008080\">INFO</span>    | Flow run<span style=\"color: #800080; text-decoration-color: #800080\"> 'big-barracuda'</span> - Executing 'process_pool_snaps-bb91f77b-30' immediately...\n",
       "</pre>\n"
      ],
      "text/plain": [
       "18:37:48.677 | \u001b[36mINFO\u001b[0m    | Flow run\u001b[35m 'big-barracuda'\u001b[0m - Executing 'process_pool_snaps-bb91f77b-30' immediately...\n"
      ]
     },
     "metadata": {},
     "output_type": "display_data"
    },
    {
     "data": {
      "text/html": [
       "<pre style=\"white-space:pre;overflow-x:auto;line-height:normal;font-family:Menlo,'DejaVu Sans Mono',consolas,'Courier New',monospace\">18:37:48.702 | <span style=\"color: #008080; text-decoration-color: #008080\">INFO</span>    | Task run 'process_pool_snaps-bb91f77b-30' - Finished in state <span style=\"color: #008000; text-decoration-color: #008000\">Completed</span>()\n",
       "</pre>\n"
      ],
      "text/plain": [
       "18:37:48.702 | \u001b[36mINFO\u001b[0m    | Task run 'process_pool_snaps-bb91f77b-30' - Finished in state \u001b[32mCompleted\u001b[0m()\n"
      ]
     },
     "metadata": {},
     "output_type": "display_data"
    },
    {
     "data": {
      "text/html": [
       "<pre style=\"white-space:pre;overflow-x:auto;line-height:normal;font-family:Menlo,'DejaVu Sans Mono',consolas,'Courier New',monospace\">18:37:48.712 | <span style=\"color: #008080; text-decoration-color: #008080\">INFO</span>    | Flow run<span style=\"color: #800080; text-decoration-color: #800080\"> 'big-barracuda'</span> - Created task run 'process_pool_snaps-bb91f77b-31' for task 'process_pool_snaps'\n",
       "</pre>\n"
      ],
      "text/plain": [
       "18:37:48.712 | \u001b[36mINFO\u001b[0m    | Flow run\u001b[35m 'big-barracuda'\u001b[0m - Created task run 'process_pool_snaps-bb91f77b-31' for task 'process_pool_snaps'\n"
      ]
     },
     "metadata": {},
     "output_type": "display_data"
    },
    {
     "data": {
      "text/html": [
       "<pre style=\"white-space:pre;overflow-x:auto;line-height:normal;font-family:Menlo,'DejaVu Sans Mono',consolas,'Courier New',monospace\">18:37:48.712 | <span style=\"color: #008080; text-decoration-color: #008080\">INFO</span>    | Flow run<span style=\"color: #800080; text-decoration-color: #800080\"> 'big-barracuda'</span> - Executing 'process_pool_snaps-bb91f77b-31' immediately...\n",
       "</pre>\n"
      ],
      "text/plain": [
       "18:37:48.712 | \u001b[36mINFO\u001b[0m    | Flow run\u001b[35m 'big-barracuda'\u001b[0m - Executing 'process_pool_snaps-bb91f77b-31' immediately...\n"
      ]
     },
     "metadata": {},
     "output_type": "display_data"
    },
    {
     "data": {
      "text/html": [
       "<pre style=\"white-space:pre;overflow-x:auto;line-height:normal;font-family:Menlo,'DejaVu Sans Mono',consolas,'Courier New',monospace\">18:37:48.736 | <span style=\"color: #008080; text-decoration-color: #008080\">INFO</span>    | Task run 'process_pool_snaps-bb91f77b-31' - Finished in state <span style=\"color: #008000; text-decoration-color: #008000\">Completed</span>()\n",
       "</pre>\n"
      ],
      "text/plain": [
       "18:37:48.736 | \u001b[36mINFO\u001b[0m    | Task run 'process_pool_snaps-bb91f77b-31' - Finished in state \u001b[32mCompleted\u001b[0m()\n"
      ]
     },
     "metadata": {},
     "output_type": "display_data"
    },
    {
     "data": {
      "text/html": [
       "<pre style=\"white-space:pre;overflow-x:auto;line-height:normal;font-family:Menlo,'DejaVu Sans Mono',consolas,'Courier New',monospace\">18:37:48.746 | <span style=\"color: #008080; text-decoration-color: #008080\">INFO</span>    | Flow run<span style=\"color: #800080; text-decoration-color: #800080\"> 'big-barracuda'</span> - Created task run 'process_pool_snaps-bb91f77b-32' for task 'process_pool_snaps'\n",
       "</pre>\n"
      ],
      "text/plain": [
       "18:37:48.746 | \u001b[36mINFO\u001b[0m    | Flow run\u001b[35m 'big-barracuda'\u001b[0m - Created task run 'process_pool_snaps-bb91f77b-32' for task 'process_pool_snaps'\n"
      ]
     },
     "metadata": {},
     "output_type": "display_data"
    },
    {
     "data": {
      "text/html": [
       "<pre style=\"white-space:pre;overflow-x:auto;line-height:normal;font-family:Menlo,'DejaVu Sans Mono',consolas,'Courier New',monospace\">18:37:48.747 | <span style=\"color: #008080; text-decoration-color: #008080\">INFO</span>    | Flow run<span style=\"color: #800080; text-decoration-color: #800080\"> 'big-barracuda'</span> - Executing 'process_pool_snaps-bb91f77b-32' immediately...\n",
       "</pre>\n"
      ],
      "text/plain": [
       "18:37:48.747 | \u001b[36mINFO\u001b[0m    | Flow run\u001b[35m 'big-barracuda'\u001b[0m - Executing 'process_pool_snaps-bb91f77b-32' immediately...\n"
      ]
     },
     "metadata": {},
     "output_type": "display_data"
    },
    {
     "data": {
      "text/html": [
       "<pre style=\"white-space:pre;overflow-x:auto;line-height:normal;font-family:Menlo,'DejaVu Sans Mono',consolas,'Courier New',monospace\">18:37:48.770 | <span style=\"color: #008080; text-decoration-color: #008080\">INFO</span>    | Task run 'process_pool_snaps-bb91f77b-32' - Finished in state <span style=\"color: #008000; text-decoration-color: #008000\">Completed</span>()\n",
       "</pre>\n"
      ],
      "text/plain": [
       "18:37:48.770 | \u001b[36mINFO\u001b[0m    | Task run 'process_pool_snaps-bb91f77b-32' - Finished in state \u001b[32mCompleted\u001b[0m()\n"
      ]
     },
     "metadata": {},
     "output_type": "display_data"
    },
    {
     "data": {
      "text/html": [
       "<pre style=\"white-space:pre;overflow-x:auto;line-height:normal;font-family:Menlo,'DejaVu Sans Mono',consolas,'Courier New',monospace\">18:37:48.779 | <span style=\"color: #008080; text-decoration-color: #008080\">INFO</span>    | Flow run<span style=\"color: #800080; text-decoration-color: #800080\"> 'big-barracuda'</span> - Created task run 'process_pool_snaps-bb91f77b-33' for task 'process_pool_snaps'\n",
       "</pre>\n"
      ],
      "text/plain": [
       "18:37:48.779 | \u001b[36mINFO\u001b[0m    | Flow run\u001b[35m 'big-barracuda'\u001b[0m - Created task run 'process_pool_snaps-bb91f77b-33' for task 'process_pool_snaps'\n"
      ]
     },
     "metadata": {},
     "output_type": "display_data"
    },
    {
     "data": {
      "text/html": [
       "<pre style=\"white-space:pre;overflow-x:auto;line-height:normal;font-family:Menlo,'DejaVu Sans Mono',consolas,'Courier New',monospace\">18:37:48.780 | <span style=\"color: #008080; text-decoration-color: #008080\">INFO</span>    | Flow run<span style=\"color: #800080; text-decoration-color: #800080\"> 'big-barracuda'</span> - Executing 'process_pool_snaps-bb91f77b-33' immediately...\n",
       "</pre>\n"
      ],
      "text/plain": [
       "18:37:48.780 | \u001b[36mINFO\u001b[0m    | Flow run\u001b[35m 'big-barracuda'\u001b[0m - Executing 'process_pool_snaps-bb91f77b-33' immediately...\n"
      ]
     },
     "metadata": {},
     "output_type": "display_data"
    },
    {
     "data": {
      "text/html": [
       "<pre style=\"white-space:pre;overflow-x:auto;line-height:normal;font-family:Menlo,'DejaVu Sans Mono',consolas,'Courier New',monospace\">18:37:48.804 | <span style=\"color: #008080; text-decoration-color: #008080\">INFO</span>    | Task run 'process_pool_snaps-bb91f77b-33' - Finished in state <span style=\"color: #008000; text-decoration-color: #008000\">Completed</span>()\n",
       "</pre>\n"
      ],
      "text/plain": [
       "18:37:48.804 | \u001b[36mINFO\u001b[0m    | Task run 'process_pool_snaps-bb91f77b-33' - Finished in state \u001b[32mCompleted\u001b[0m()\n"
      ]
     },
     "metadata": {},
     "output_type": "display_data"
    },
    {
     "data": {
      "text/html": [
       "<pre style=\"white-space:pre;overflow-x:auto;line-height:normal;font-family:Menlo,'DejaVu Sans Mono',consolas,'Courier New',monospace\">18:37:48.813 | <span style=\"color: #008080; text-decoration-color: #008080\">INFO</span>    | Flow run<span style=\"color: #800080; text-decoration-color: #800080\"> 'big-barracuda'</span> - Created task run 'process_pool_snaps-bb91f77b-34' for task 'process_pool_snaps'\n",
       "</pre>\n"
      ],
      "text/plain": [
       "18:37:48.813 | \u001b[36mINFO\u001b[0m    | Flow run\u001b[35m 'big-barracuda'\u001b[0m - Created task run 'process_pool_snaps-bb91f77b-34' for task 'process_pool_snaps'\n"
      ]
     },
     "metadata": {},
     "output_type": "display_data"
    },
    {
     "data": {
      "text/html": [
       "<pre style=\"white-space:pre;overflow-x:auto;line-height:normal;font-family:Menlo,'DejaVu Sans Mono',consolas,'Courier New',monospace\">18:37:48.814 | <span style=\"color: #008080; text-decoration-color: #008080\">INFO</span>    | Flow run<span style=\"color: #800080; text-decoration-color: #800080\"> 'big-barracuda'</span> - Executing 'process_pool_snaps-bb91f77b-34' immediately...\n",
       "</pre>\n"
      ],
      "text/plain": [
       "18:37:48.814 | \u001b[36mINFO\u001b[0m    | Flow run\u001b[35m 'big-barracuda'\u001b[0m - Executing 'process_pool_snaps-bb91f77b-34' immediately...\n"
      ]
     },
     "metadata": {},
     "output_type": "display_data"
    },
    {
     "data": {
      "text/html": [
       "<pre style=\"white-space:pre;overflow-x:auto;line-height:normal;font-family:Menlo,'DejaVu Sans Mono',consolas,'Courier New',monospace\">18:37:48.838 | <span style=\"color: #008080; text-decoration-color: #008080\">INFO</span>    | Task run 'process_pool_snaps-bb91f77b-34' - Finished in state <span style=\"color: #008000; text-decoration-color: #008000\">Completed</span>()\n",
       "</pre>\n"
      ],
      "text/plain": [
       "18:37:48.838 | \u001b[36mINFO\u001b[0m    | Task run 'process_pool_snaps-bb91f77b-34' - Finished in state \u001b[32mCompleted\u001b[0m()\n"
      ]
     },
     "metadata": {},
     "output_type": "display_data"
    },
    {
     "data": {
      "text/html": [
       "<pre style=\"white-space:pre;overflow-x:auto;line-height:normal;font-family:Menlo,'DejaVu Sans Mono',consolas,'Courier New',monospace\">18:37:48.847 | <span style=\"color: #008080; text-decoration-color: #008080\">INFO</span>    | Flow run<span style=\"color: #800080; text-decoration-color: #800080\"> 'big-barracuda'</span> - Created task run 'process_pool_snaps-bb91f77b-35' for task 'process_pool_snaps'\n",
       "</pre>\n"
      ],
      "text/plain": [
       "18:37:48.847 | \u001b[36mINFO\u001b[0m    | Flow run\u001b[35m 'big-barracuda'\u001b[0m - Created task run 'process_pool_snaps-bb91f77b-35' for task 'process_pool_snaps'\n"
      ]
     },
     "metadata": {},
     "output_type": "display_data"
    },
    {
     "data": {
      "text/html": [
       "<pre style=\"white-space:pre;overflow-x:auto;line-height:normal;font-family:Menlo,'DejaVu Sans Mono',consolas,'Courier New',monospace\">18:37:48.848 | <span style=\"color: #008080; text-decoration-color: #008080\">INFO</span>    | Flow run<span style=\"color: #800080; text-decoration-color: #800080\"> 'big-barracuda'</span> - Executing 'process_pool_snaps-bb91f77b-35' immediately...\n",
       "</pre>\n"
      ],
      "text/plain": [
       "18:37:48.848 | \u001b[36mINFO\u001b[0m    | Flow run\u001b[35m 'big-barracuda'\u001b[0m - Executing 'process_pool_snaps-bb91f77b-35' immediately...\n"
      ]
     },
     "metadata": {},
     "output_type": "display_data"
    },
    {
     "data": {
      "text/html": [
       "<pre style=\"white-space:pre;overflow-x:auto;line-height:normal;font-family:Menlo,'DejaVu Sans Mono',consolas,'Courier New',monospace\">18:37:48.872 | <span style=\"color: #008080; text-decoration-color: #008080\">INFO</span>    | Task run 'process_pool_snaps-bb91f77b-35' - Finished in state <span style=\"color: #008000; text-decoration-color: #008000\">Completed</span>()\n",
       "</pre>\n"
      ],
      "text/plain": [
       "18:37:48.872 | \u001b[36mINFO\u001b[0m    | Task run 'process_pool_snaps-bb91f77b-35' - Finished in state \u001b[32mCompleted\u001b[0m()\n"
      ]
     },
     "metadata": {},
     "output_type": "display_data"
    },
    {
     "data": {
      "text/html": [
       "<pre style=\"white-space:pre;overflow-x:auto;line-height:normal;font-family:Menlo,'DejaVu Sans Mono',consolas,'Courier New',monospace\">18:37:48.881 | <span style=\"color: #008080; text-decoration-color: #008080\">INFO</span>    | Flow run<span style=\"color: #800080; text-decoration-color: #800080\"> 'big-barracuda'</span> - Created task run 'process_pool_snaps-bb91f77b-36' for task 'process_pool_snaps'\n",
       "</pre>\n"
      ],
      "text/plain": [
       "18:37:48.881 | \u001b[36mINFO\u001b[0m    | Flow run\u001b[35m 'big-barracuda'\u001b[0m - Created task run 'process_pool_snaps-bb91f77b-36' for task 'process_pool_snaps'\n"
      ]
     },
     "metadata": {},
     "output_type": "display_data"
    },
    {
     "data": {
      "text/html": [
       "<pre style=\"white-space:pre;overflow-x:auto;line-height:normal;font-family:Menlo,'DejaVu Sans Mono',consolas,'Courier New',monospace\">18:37:48.882 | <span style=\"color: #008080; text-decoration-color: #008080\">INFO</span>    | Flow run<span style=\"color: #800080; text-decoration-color: #800080\"> 'big-barracuda'</span> - Executing 'process_pool_snaps-bb91f77b-36' immediately...\n",
       "</pre>\n"
      ],
      "text/plain": [
       "18:37:48.882 | \u001b[36mINFO\u001b[0m    | Flow run\u001b[35m 'big-barracuda'\u001b[0m - Executing 'process_pool_snaps-bb91f77b-36' immediately...\n"
      ]
     },
     "metadata": {},
     "output_type": "display_data"
    },
    {
     "data": {
      "text/html": [
       "<pre style=\"white-space:pre;overflow-x:auto;line-height:normal;font-family:Menlo,'DejaVu Sans Mono',consolas,'Courier New',monospace\">18:37:48.906 | <span style=\"color: #008080; text-decoration-color: #008080\">INFO</span>    | Task run 'process_pool_snaps-bb91f77b-36' - Finished in state <span style=\"color: #008000; text-decoration-color: #008000\">Completed</span>()\n",
       "</pre>\n"
      ],
      "text/plain": [
       "18:37:48.906 | \u001b[36mINFO\u001b[0m    | Task run 'process_pool_snaps-bb91f77b-36' - Finished in state \u001b[32mCompleted\u001b[0m()\n"
      ]
     },
     "metadata": {},
     "output_type": "display_data"
    },
    {
     "data": {
      "text/html": [
       "<pre style=\"white-space:pre;overflow-x:auto;line-height:normal;font-family:Menlo,'DejaVu Sans Mono',consolas,'Courier New',monospace\">18:37:48.917 | <span style=\"color: #008080; text-decoration-color: #008080\">INFO</span>    | Flow run<span style=\"color: #800080; text-decoration-color: #800080\"> 'big-barracuda'</span> - Created task run 'process_pool_snaps-bb91f77b-37' for task 'process_pool_snaps'\n",
       "</pre>\n"
      ],
      "text/plain": [
       "18:37:48.917 | \u001b[36mINFO\u001b[0m    | Flow run\u001b[35m 'big-barracuda'\u001b[0m - Created task run 'process_pool_snaps-bb91f77b-37' for task 'process_pool_snaps'\n"
      ]
     },
     "metadata": {},
     "output_type": "display_data"
    },
    {
     "data": {
      "text/html": [
       "<pre style=\"white-space:pre;overflow-x:auto;line-height:normal;font-family:Menlo,'DejaVu Sans Mono',consolas,'Courier New',monospace\">18:37:48.917 | <span style=\"color: #008080; text-decoration-color: #008080\">INFO</span>    | Flow run<span style=\"color: #800080; text-decoration-color: #800080\"> 'big-barracuda'</span> - Executing 'process_pool_snaps-bb91f77b-37' immediately...\n",
       "</pre>\n"
      ],
      "text/plain": [
       "18:37:48.917 | \u001b[36mINFO\u001b[0m    | Flow run\u001b[35m 'big-barracuda'\u001b[0m - Executing 'process_pool_snaps-bb91f77b-37' immediately...\n"
      ]
     },
     "metadata": {},
     "output_type": "display_data"
    },
    {
     "data": {
      "text/html": [
       "<pre style=\"white-space:pre;overflow-x:auto;line-height:normal;font-family:Menlo,'DejaVu Sans Mono',consolas,'Courier New',monospace\">18:37:48.941 | <span style=\"color: #008080; text-decoration-color: #008080\">INFO</span>    | Task run 'process_pool_snaps-bb91f77b-37' - Finished in state <span style=\"color: #008000; text-decoration-color: #008000\">Completed</span>()\n",
       "</pre>\n"
      ],
      "text/plain": [
       "18:37:48.941 | \u001b[36mINFO\u001b[0m    | Task run 'process_pool_snaps-bb91f77b-37' - Finished in state \u001b[32mCompleted\u001b[0m()\n"
      ]
     },
     "metadata": {},
     "output_type": "display_data"
    },
    {
     "data": {
      "text/html": [
       "<pre style=\"white-space:pre;overflow-x:auto;line-height:normal;font-family:Menlo,'DejaVu Sans Mono',consolas,'Courier New',monospace\">18:37:48.951 | <span style=\"color: #008080; text-decoration-color: #008080\">INFO</span>    | Flow run<span style=\"color: #800080; text-decoration-color: #800080\"> 'big-barracuda'</span> - Created task run 'process_pool_snaps-bb91f77b-38' for task 'process_pool_snaps'\n",
       "</pre>\n"
      ],
      "text/plain": [
       "18:37:48.951 | \u001b[36mINFO\u001b[0m    | Flow run\u001b[35m 'big-barracuda'\u001b[0m - Created task run 'process_pool_snaps-bb91f77b-38' for task 'process_pool_snaps'\n"
      ]
     },
     "metadata": {},
     "output_type": "display_data"
    },
    {
     "data": {
      "text/html": [
       "<pre style=\"white-space:pre;overflow-x:auto;line-height:normal;font-family:Menlo,'DejaVu Sans Mono',consolas,'Courier New',monospace\">18:37:48.952 | <span style=\"color: #008080; text-decoration-color: #008080\">INFO</span>    | Flow run<span style=\"color: #800080; text-decoration-color: #800080\"> 'big-barracuda'</span> - Executing 'process_pool_snaps-bb91f77b-38' immediately...\n",
       "</pre>\n"
      ],
      "text/plain": [
       "18:37:48.952 | \u001b[36mINFO\u001b[0m    | Flow run\u001b[35m 'big-barracuda'\u001b[0m - Executing 'process_pool_snaps-bb91f77b-38' immediately...\n"
      ]
     },
     "metadata": {},
     "output_type": "display_data"
    },
    {
     "data": {
      "text/html": [
       "<pre style=\"white-space:pre;overflow-x:auto;line-height:normal;font-family:Menlo,'DejaVu Sans Mono',consolas,'Courier New',monospace\">18:37:48.975 | <span style=\"color: #008080; text-decoration-color: #008080\">INFO</span>    | Task run 'process_pool_snaps-bb91f77b-38' - Finished in state <span style=\"color: #008000; text-decoration-color: #008000\">Completed</span>()\n",
       "</pre>\n"
      ],
      "text/plain": [
       "18:37:48.975 | \u001b[36mINFO\u001b[0m    | Task run 'process_pool_snaps-bb91f77b-38' - Finished in state \u001b[32mCompleted\u001b[0m()\n"
      ]
     },
     "metadata": {},
     "output_type": "display_data"
    },
    {
     "data": {
      "text/html": [
       "<pre style=\"white-space:pre;overflow-x:auto;line-height:normal;font-family:Menlo,'DejaVu Sans Mono',consolas,'Courier New',monospace\">18:37:48.986 | <span style=\"color: #008080; text-decoration-color: #008080\">INFO</span>    | Flow run<span style=\"color: #800080; text-decoration-color: #800080\"> 'big-barracuda'</span> - Created task run 'process_pool_snaps-bb91f77b-39' for task 'process_pool_snaps'\n",
       "</pre>\n"
      ],
      "text/plain": [
       "18:37:48.986 | \u001b[36mINFO\u001b[0m    | Flow run\u001b[35m 'big-barracuda'\u001b[0m - Created task run 'process_pool_snaps-bb91f77b-39' for task 'process_pool_snaps'\n"
      ]
     },
     "metadata": {},
     "output_type": "display_data"
    },
    {
     "data": {
      "text/html": [
       "<pre style=\"white-space:pre;overflow-x:auto;line-height:normal;font-family:Menlo,'DejaVu Sans Mono',consolas,'Courier New',monospace\">18:37:48.986 | <span style=\"color: #008080; text-decoration-color: #008080\">INFO</span>    | Flow run<span style=\"color: #800080; text-decoration-color: #800080\"> 'big-barracuda'</span> - Executing 'process_pool_snaps-bb91f77b-39' immediately...\n",
       "</pre>\n"
      ],
      "text/plain": [
       "18:37:48.986 | \u001b[36mINFO\u001b[0m    | Flow run\u001b[35m 'big-barracuda'\u001b[0m - Executing 'process_pool_snaps-bb91f77b-39' immediately...\n"
      ]
     },
     "metadata": {},
     "output_type": "display_data"
    },
    {
     "data": {
      "text/html": [
       "<pre style=\"white-space:pre;overflow-x:auto;line-height:normal;font-family:Menlo,'DejaVu Sans Mono',consolas,'Courier New',monospace\">18:37:49.011 | <span style=\"color: #008080; text-decoration-color: #008080\">INFO</span>    | Task run 'process_pool_snaps-bb91f77b-39' - Finished in state <span style=\"color: #008000; text-decoration-color: #008000\">Completed</span>()\n",
       "</pre>\n"
      ],
      "text/plain": [
       "18:37:49.011 | \u001b[36mINFO\u001b[0m    | Task run 'process_pool_snaps-bb91f77b-39' - Finished in state \u001b[32mCompleted\u001b[0m()\n"
      ]
     },
     "metadata": {},
     "output_type": "display_data"
    },
    {
     "data": {
      "text/html": [
       "<pre style=\"white-space:pre;overflow-x:auto;line-height:normal;font-family:Menlo,'DejaVu Sans Mono',consolas,'Courier New',monospace\">18:37:49.020 | <span style=\"color: #008080; text-decoration-color: #008080\">INFO</span>    | Flow run<span style=\"color: #800080; text-decoration-color: #800080\"> 'big-barracuda'</span> - Created task run 'process_pool_snaps-bb91f77b-40' for task 'process_pool_snaps'\n",
       "</pre>\n"
      ],
      "text/plain": [
       "18:37:49.020 | \u001b[36mINFO\u001b[0m    | Flow run\u001b[35m 'big-barracuda'\u001b[0m - Created task run 'process_pool_snaps-bb91f77b-40' for task 'process_pool_snaps'\n"
      ]
     },
     "metadata": {},
     "output_type": "display_data"
    },
    {
     "data": {
      "text/html": [
       "<pre style=\"white-space:pre;overflow-x:auto;line-height:normal;font-family:Menlo,'DejaVu Sans Mono',consolas,'Courier New',monospace\">18:37:49.021 | <span style=\"color: #008080; text-decoration-color: #008080\">INFO</span>    | Flow run<span style=\"color: #800080; text-decoration-color: #800080\"> 'big-barracuda'</span> - Executing 'process_pool_snaps-bb91f77b-40' immediately...\n",
       "</pre>\n"
      ],
      "text/plain": [
       "18:37:49.021 | \u001b[36mINFO\u001b[0m    | Flow run\u001b[35m 'big-barracuda'\u001b[0m - Executing 'process_pool_snaps-bb91f77b-40' immediately...\n"
      ]
     },
     "metadata": {},
     "output_type": "display_data"
    },
    {
     "data": {
      "text/html": [
       "<pre style=\"white-space:pre;overflow-x:auto;line-height:normal;font-family:Menlo,'DejaVu Sans Mono',consolas,'Courier New',monospace\">18:37:49.046 | <span style=\"color: #008080; text-decoration-color: #008080\">INFO</span>    | Task run 'process_pool_snaps-bb91f77b-40' - Finished in state <span style=\"color: #008000; text-decoration-color: #008000\">Completed</span>()\n",
       "</pre>\n"
      ],
      "text/plain": [
       "18:37:49.046 | \u001b[36mINFO\u001b[0m    | Task run 'process_pool_snaps-bb91f77b-40' - Finished in state \u001b[32mCompleted\u001b[0m()\n"
      ]
     },
     "metadata": {},
     "output_type": "display_data"
    },
    {
     "data": {
      "text/html": [
       "<pre style=\"white-space:pre;overflow-x:auto;line-height:normal;font-family:Menlo,'DejaVu Sans Mono',consolas,'Courier New',monospace\">18:37:49.055 | <span style=\"color: #008080; text-decoration-color: #008080\">INFO</span>    | Flow run<span style=\"color: #800080; text-decoration-color: #800080\"> 'big-barracuda'</span> - Created task run 'process_pool_snaps-bb91f77b-41' for task 'process_pool_snaps'\n",
       "</pre>\n"
      ],
      "text/plain": [
       "18:37:49.055 | \u001b[36mINFO\u001b[0m    | Flow run\u001b[35m 'big-barracuda'\u001b[0m - Created task run 'process_pool_snaps-bb91f77b-41' for task 'process_pool_snaps'\n"
      ]
     },
     "metadata": {},
     "output_type": "display_data"
    },
    {
     "data": {
      "text/html": [
       "<pre style=\"white-space:pre;overflow-x:auto;line-height:normal;font-family:Menlo,'DejaVu Sans Mono',consolas,'Courier New',monospace\">18:37:49.056 | <span style=\"color: #008080; text-decoration-color: #008080\">INFO</span>    | Flow run<span style=\"color: #800080; text-decoration-color: #800080\"> 'big-barracuda'</span> - Executing 'process_pool_snaps-bb91f77b-41' immediately...\n",
       "</pre>\n"
      ],
      "text/plain": [
       "18:37:49.056 | \u001b[36mINFO\u001b[0m    | Flow run\u001b[35m 'big-barracuda'\u001b[0m - Executing 'process_pool_snaps-bb91f77b-41' immediately...\n"
      ]
     },
     "metadata": {},
     "output_type": "display_data"
    },
    {
     "data": {
      "text/html": [
       "<pre style=\"white-space:pre;overflow-x:auto;line-height:normal;font-family:Menlo,'DejaVu Sans Mono',consolas,'Courier New',monospace\">18:37:49.080 | <span style=\"color: #008080; text-decoration-color: #008080\">INFO</span>    | Task run 'process_pool_snaps-bb91f77b-41' - Finished in state <span style=\"color: #008000; text-decoration-color: #008000\">Completed</span>()\n",
       "</pre>\n"
      ],
      "text/plain": [
       "18:37:49.080 | \u001b[36mINFO\u001b[0m    | Task run 'process_pool_snaps-bb91f77b-41' - Finished in state \u001b[32mCompleted\u001b[0m()\n"
      ]
     },
     "metadata": {},
     "output_type": "display_data"
    },
    {
     "data": {
      "text/html": [
       "<pre style=\"white-space:pre;overflow-x:auto;line-height:normal;font-family:Menlo,'DejaVu Sans Mono',consolas,'Courier New',monospace\">18:37:49.091 | <span style=\"color: #008080; text-decoration-color: #008080\">INFO</span>    | Flow run<span style=\"color: #800080; text-decoration-color: #800080\"> 'big-barracuda'</span> - Created task run 'process_pool_snaps-bb91f77b-42' for task 'process_pool_snaps'\n",
       "</pre>\n"
      ],
      "text/plain": [
       "18:37:49.091 | \u001b[36mINFO\u001b[0m    | Flow run\u001b[35m 'big-barracuda'\u001b[0m - Created task run 'process_pool_snaps-bb91f77b-42' for task 'process_pool_snaps'\n"
      ]
     },
     "metadata": {},
     "output_type": "display_data"
    },
    {
     "data": {
      "text/html": [
       "<pre style=\"white-space:pre;overflow-x:auto;line-height:normal;font-family:Menlo,'DejaVu Sans Mono',consolas,'Courier New',monospace\">18:37:49.091 | <span style=\"color: #008080; text-decoration-color: #008080\">INFO</span>    | Flow run<span style=\"color: #800080; text-decoration-color: #800080\"> 'big-barracuda'</span> - Executing 'process_pool_snaps-bb91f77b-42' immediately...\n",
       "</pre>\n"
      ],
      "text/plain": [
       "18:37:49.091 | \u001b[36mINFO\u001b[0m    | Flow run\u001b[35m 'big-barracuda'\u001b[0m - Executing 'process_pool_snaps-bb91f77b-42' immediately...\n"
      ]
     },
     "metadata": {},
     "output_type": "display_data"
    },
    {
     "data": {
      "text/html": [
       "<pre style=\"white-space:pre;overflow-x:auto;line-height:normal;font-family:Menlo,'DejaVu Sans Mono',consolas,'Courier New',monospace\">18:37:49.116 | <span style=\"color: #008080; text-decoration-color: #008080\">INFO</span>    | Task run 'process_pool_snaps-bb91f77b-42' - Finished in state <span style=\"color: #008000; text-decoration-color: #008000\">Completed</span>()\n",
       "</pre>\n"
      ],
      "text/plain": [
       "18:37:49.116 | \u001b[36mINFO\u001b[0m    | Task run 'process_pool_snaps-bb91f77b-42' - Finished in state \u001b[32mCompleted\u001b[0m()\n"
      ]
     },
     "metadata": {},
     "output_type": "display_data"
    },
    {
     "data": {
      "text/html": [
       "<pre style=\"white-space:pre;overflow-x:auto;line-height:normal;font-family:Menlo,'DejaVu Sans Mono',consolas,'Courier New',monospace\">18:37:49.125 | <span style=\"color: #008080; text-decoration-color: #008080\">INFO</span>    | Flow run<span style=\"color: #800080; text-decoration-color: #800080\"> 'big-barracuda'</span> - Created task run 'process_pool_snaps-bb91f77b-43' for task 'process_pool_snaps'\n",
       "</pre>\n"
      ],
      "text/plain": [
       "18:37:49.125 | \u001b[36mINFO\u001b[0m    | Flow run\u001b[35m 'big-barracuda'\u001b[0m - Created task run 'process_pool_snaps-bb91f77b-43' for task 'process_pool_snaps'\n"
      ]
     },
     "metadata": {},
     "output_type": "display_data"
    },
    {
     "data": {
      "text/html": [
       "<pre style=\"white-space:pre;overflow-x:auto;line-height:normal;font-family:Menlo,'DejaVu Sans Mono',consolas,'Courier New',monospace\">18:37:49.126 | <span style=\"color: #008080; text-decoration-color: #008080\">INFO</span>    | Flow run<span style=\"color: #800080; text-decoration-color: #800080\"> 'big-barracuda'</span> - Executing 'process_pool_snaps-bb91f77b-43' immediately...\n",
       "</pre>\n"
      ],
      "text/plain": [
       "18:37:49.126 | \u001b[36mINFO\u001b[0m    | Flow run\u001b[35m 'big-barracuda'\u001b[0m - Executing 'process_pool_snaps-bb91f77b-43' immediately...\n"
      ]
     },
     "metadata": {},
     "output_type": "display_data"
    },
    {
     "data": {
      "text/html": [
       "<pre style=\"white-space:pre;overflow-x:auto;line-height:normal;font-family:Menlo,'DejaVu Sans Mono',consolas,'Courier New',monospace\">18:37:49.150 | <span style=\"color: #008080; text-decoration-color: #008080\">INFO</span>    | Task run 'process_pool_snaps-bb91f77b-43' - Finished in state <span style=\"color: #008000; text-decoration-color: #008000\">Completed</span>()\n",
       "</pre>\n"
      ],
      "text/plain": [
       "18:37:49.150 | \u001b[36mINFO\u001b[0m    | Task run 'process_pool_snaps-bb91f77b-43' - Finished in state \u001b[32mCompleted\u001b[0m()\n"
      ]
     },
     "metadata": {},
     "output_type": "display_data"
    },
    {
     "data": {
      "text/html": [
       "<pre style=\"white-space:pre;overflow-x:auto;line-height:normal;font-family:Menlo,'DejaVu Sans Mono',consolas,'Courier New',monospace\">18:37:49.160 | <span style=\"color: #008080; text-decoration-color: #008080\">INFO</span>    | Flow run<span style=\"color: #800080; text-decoration-color: #800080\"> 'big-barracuda'</span> - Created task run 'process_pool_snaps-bb91f77b-44' for task 'process_pool_snaps'\n",
       "</pre>\n"
      ],
      "text/plain": [
       "18:37:49.160 | \u001b[36mINFO\u001b[0m    | Flow run\u001b[35m 'big-barracuda'\u001b[0m - Created task run 'process_pool_snaps-bb91f77b-44' for task 'process_pool_snaps'\n"
      ]
     },
     "metadata": {},
     "output_type": "display_data"
    },
    {
     "data": {
      "text/html": [
       "<pre style=\"white-space:pre;overflow-x:auto;line-height:normal;font-family:Menlo,'DejaVu Sans Mono',consolas,'Courier New',monospace\">18:37:49.160 | <span style=\"color: #008080; text-decoration-color: #008080\">INFO</span>    | Flow run<span style=\"color: #800080; text-decoration-color: #800080\"> 'big-barracuda'</span> - Executing 'process_pool_snaps-bb91f77b-44' immediately...\n",
       "</pre>\n"
      ],
      "text/plain": [
       "18:37:49.160 | \u001b[36mINFO\u001b[0m    | Flow run\u001b[35m 'big-barracuda'\u001b[0m - Executing 'process_pool_snaps-bb91f77b-44' immediately...\n"
      ]
     },
     "metadata": {},
     "output_type": "display_data"
    },
    {
     "data": {
      "text/html": [
       "<pre style=\"white-space:pre;overflow-x:auto;line-height:normal;font-family:Menlo,'DejaVu Sans Mono',consolas,'Courier New',monospace\">18:37:49.184 | <span style=\"color: #008080; text-decoration-color: #008080\">INFO</span>    | Task run 'process_pool_snaps-bb91f77b-44' - Finished in state <span style=\"color: #008000; text-decoration-color: #008000\">Completed</span>()\n",
       "</pre>\n"
      ],
      "text/plain": [
       "18:37:49.184 | \u001b[36mINFO\u001b[0m    | Task run 'process_pool_snaps-bb91f77b-44' - Finished in state \u001b[32mCompleted\u001b[0m()\n"
      ]
     },
     "metadata": {},
     "output_type": "display_data"
    },
    {
     "data": {
      "text/html": [
       "<pre style=\"white-space:pre;overflow-x:auto;line-height:normal;font-family:Menlo,'DejaVu Sans Mono',consolas,'Courier New',monospace\">18:37:49.194 | <span style=\"color: #008080; text-decoration-color: #008080\">INFO</span>    | Flow run<span style=\"color: #800080; text-decoration-color: #800080\"> 'big-barracuda'</span> - Created task run 'process_pool_snaps-bb91f77b-45' for task 'process_pool_snaps'\n",
       "</pre>\n"
      ],
      "text/plain": [
       "18:37:49.194 | \u001b[36mINFO\u001b[0m    | Flow run\u001b[35m 'big-barracuda'\u001b[0m - Created task run 'process_pool_snaps-bb91f77b-45' for task 'process_pool_snaps'\n"
      ]
     },
     "metadata": {},
     "output_type": "display_data"
    },
    {
     "data": {
      "text/html": [
       "<pre style=\"white-space:pre;overflow-x:auto;line-height:normal;font-family:Menlo,'DejaVu Sans Mono',consolas,'Courier New',monospace\">18:37:49.195 | <span style=\"color: #008080; text-decoration-color: #008080\">INFO</span>    | Flow run<span style=\"color: #800080; text-decoration-color: #800080\"> 'big-barracuda'</span> - Executing 'process_pool_snaps-bb91f77b-45' immediately...\n",
       "</pre>\n"
      ],
      "text/plain": [
       "18:37:49.195 | \u001b[36mINFO\u001b[0m    | Flow run\u001b[35m 'big-barracuda'\u001b[0m - Executing 'process_pool_snaps-bb91f77b-45' immediately...\n"
      ]
     },
     "metadata": {},
     "output_type": "display_data"
    },
    {
     "data": {
      "text/html": [
       "<pre style=\"white-space:pre;overflow-x:auto;line-height:normal;font-family:Menlo,'DejaVu Sans Mono',consolas,'Courier New',monospace\">18:37:49.219 | <span style=\"color: #008080; text-decoration-color: #008080\">INFO</span>    | Task run 'process_pool_snaps-bb91f77b-45' - Finished in state <span style=\"color: #008000; text-decoration-color: #008000\">Completed</span>()\n",
       "</pre>\n"
      ],
      "text/plain": [
       "18:37:49.219 | \u001b[36mINFO\u001b[0m    | Task run 'process_pool_snaps-bb91f77b-45' - Finished in state \u001b[32mCompleted\u001b[0m()\n"
      ]
     },
     "metadata": {},
     "output_type": "display_data"
    },
    {
     "data": {
      "text/html": [
       "<pre style=\"white-space:pre;overflow-x:auto;line-height:normal;font-family:Menlo,'DejaVu Sans Mono',consolas,'Courier New',monospace\">18:37:49.229 | <span style=\"color: #008080; text-decoration-color: #008080\">INFO</span>    | Flow run<span style=\"color: #800080; text-decoration-color: #800080\"> 'big-barracuda'</span> - Created task run 'process_pool_snaps-bb91f77b-46' for task 'process_pool_snaps'\n",
       "</pre>\n"
      ],
      "text/plain": [
       "18:37:49.229 | \u001b[36mINFO\u001b[0m    | Flow run\u001b[35m 'big-barracuda'\u001b[0m - Created task run 'process_pool_snaps-bb91f77b-46' for task 'process_pool_snaps'\n"
      ]
     },
     "metadata": {},
     "output_type": "display_data"
    },
    {
     "data": {
      "text/html": [
       "<pre style=\"white-space:pre;overflow-x:auto;line-height:normal;font-family:Menlo,'DejaVu Sans Mono',consolas,'Courier New',monospace\">18:37:49.229 | <span style=\"color: #008080; text-decoration-color: #008080\">INFO</span>    | Flow run<span style=\"color: #800080; text-decoration-color: #800080\"> 'big-barracuda'</span> - Executing 'process_pool_snaps-bb91f77b-46' immediately...\n",
       "</pre>\n"
      ],
      "text/plain": [
       "18:37:49.229 | \u001b[36mINFO\u001b[0m    | Flow run\u001b[35m 'big-barracuda'\u001b[0m - Executing 'process_pool_snaps-bb91f77b-46' immediately...\n"
      ]
     },
     "metadata": {},
     "output_type": "display_data"
    },
    {
     "data": {
      "text/html": [
       "<pre style=\"white-space:pre;overflow-x:auto;line-height:normal;font-family:Menlo,'DejaVu Sans Mono',consolas,'Courier New',monospace\">18:37:49.254 | <span style=\"color: #008080; text-decoration-color: #008080\">INFO</span>    | Task run 'process_pool_snaps-bb91f77b-46' - Finished in state <span style=\"color: #008000; text-decoration-color: #008000\">Completed</span>()\n",
       "</pre>\n"
      ],
      "text/plain": [
       "18:37:49.254 | \u001b[36mINFO\u001b[0m    | Task run 'process_pool_snaps-bb91f77b-46' - Finished in state \u001b[32mCompleted\u001b[0m()\n"
      ]
     },
     "metadata": {},
     "output_type": "display_data"
    },
    {
     "data": {
      "text/html": [
       "<pre style=\"white-space:pre;overflow-x:auto;line-height:normal;font-family:Menlo,'DejaVu Sans Mono',consolas,'Courier New',monospace\">18:37:49.264 | <span style=\"color: #008080; text-decoration-color: #008080\">INFO</span>    | Flow run<span style=\"color: #800080; text-decoration-color: #800080\"> 'big-barracuda'</span> - Created task run 'process_pool_snaps-bb91f77b-47' for task 'process_pool_snaps'\n",
       "</pre>\n"
      ],
      "text/plain": [
       "18:37:49.264 | \u001b[36mINFO\u001b[0m    | Flow run\u001b[35m 'big-barracuda'\u001b[0m - Created task run 'process_pool_snaps-bb91f77b-47' for task 'process_pool_snaps'\n"
      ]
     },
     "metadata": {},
     "output_type": "display_data"
    },
    {
     "data": {
      "text/html": [
       "<pre style=\"white-space:pre;overflow-x:auto;line-height:normal;font-family:Menlo,'DejaVu Sans Mono',consolas,'Courier New',monospace\">18:37:49.265 | <span style=\"color: #008080; text-decoration-color: #008080\">INFO</span>    | Flow run<span style=\"color: #800080; text-decoration-color: #800080\"> 'big-barracuda'</span> - Executing 'process_pool_snaps-bb91f77b-47' immediately...\n",
       "</pre>\n"
      ],
      "text/plain": [
       "18:37:49.265 | \u001b[36mINFO\u001b[0m    | Flow run\u001b[35m 'big-barracuda'\u001b[0m - Executing 'process_pool_snaps-bb91f77b-47' immediately...\n"
      ]
     },
     "metadata": {},
     "output_type": "display_data"
    },
    {
     "data": {
      "text/html": [
       "<pre style=\"white-space:pre;overflow-x:auto;line-height:normal;font-family:Menlo,'DejaVu Sans Mono',consolas,'Courier New',monospace\">18:37:49.289 | <span style=\"color: #008080; text-decoration-color: #008080\">INFO</span>    | Task run 'process_pool_snaps-bb91f77b-47' - Finished in state <span style=\"color: #008000; text-decoration-color: #008000\">Completed</span>()\n",
       "</pre>\n"
      ],
      "text/plain": [
       "18:37:49.289 | \u001b[36mINFO\u001b[0m    | Task run 'process_pool_snaps-bb91f77b-47' - Finished in state \u001b[32mCompleted\u001b[0m()\n"
      ]
     },
     "metadata": {},
     "output_type": "display_data"
    },
    {
     "data": {
      "text/html": [
       "<pre style=\"white-space:pre;overflow-x:auto;line-height:normal;font-family:Menlo,'DejaVu Sans Mono',consolas,'Courier New',monospace\">18:37:49.298 | <span style=\"color: #008080; text-decoration-color: #008080\">INFO</span>    | Flow run<span style=\"color: #800080; text-decoration-color: #800080\"> 'big-barracuda'</span> - Created task run 'process_pool_snaps-bb91f77b-48' for task 'process_pool_snaps'\n",
       "</pre>\n"
      ],
      "text/plain": [
       "18:37:49.298 | \u001b[36mINFO\u001b[0m    | Flow run\u001b[35m 'big-barracuda'\u001b[0m - Created task run 'process_pool_snaps-bb91f77b-48' for task 'process_pool_snaps'\n"
      ]
     },
     "metadata": {},
     "output_type": "display_data"
    },
    {
     "data": {
      "text/html": [
       "<pre style=\"white-space:pre;overflow-x:auto;line-height:normal;font-family:Menlo,'DejaVu Sans Mono',consolas,'Courier New',monospace\">18:37:49.299 | <span style=\"color: #008080; text-decoration-color: #008080\">INFO</span>    | Flow run<span style=\"color: #800080; text-decoration-color: #800080\"> 'big-barracuda'</span> - Executing 'process_pool_snaps-bb91f77b-48' immediately...\n",
       "</pre>\n"
      ],
      "text/plain": [
       "18:37:49.299 | \u001b[36mINFO\u001b[0m    | Flow run\u001b[35m 'big-barracuda'\u001b[0m - Executing 'process_pool_snaps-bb91f77b-48' immediately...\n"
      ]
     },
     "metadata": {},
     "output_type": "display_data"
    },
    {
     "data": {
      "text/html": [
       "<pre style=\"white-space:pre;overflow-x:auto;line-height:normal;font-family:Menlo,'DejaVu Sans Mono',consolas,'Courier New',monospace\">18:37:49.324 | <span style=\"color: #008080; text-decoration-color: #008080\">INFO</span>    | Task run 'process_pool_snaps-bb91f77b-48' - Finished in state <span style=\"color: #008000; text-decoration-color: #008000\">Completed</span>()\n",
       "</pre>\n"
      ],
      "text/plain": [
       "18:37:49.324 | \u001b[36mINFO\u001b[0m    | Task run 'process_pool_snaps-bb91f77b-48' - Finished in state \u001b[32mCompleted\u001b[0m()\n"
      ]
     },
     "metadata": {},
     "output_type": "display_data"
    },
    {
     "data": {
      "text/html": [
       "<pre style=\"white-space:pre;overflow-x:auto;line-height:normal;font-family:Menlo,'DejaVu Sans Mono',consolas,'Courier New',monospace\">18:37:49.333 | <span style=\"color: #008080; text-decoration-color: #008080\">INFO</span>    | Flow run<span style=\"color: #800080; text-decoration-color: #800080\"> 'big-barracuda'</span> - Created task run 'process_pool_snaps-bb91f77b-49' for task 'process_pool_snaps'\n",
       "</pre>\n"
      ],
      "text/plain": [
       "18:37:49.333 | \u001b[36mINFO\u001b[0m    | Flow run\u001b[35m 'big-barracuda'\u001b[0m - Created task run 'process_pool_snaps-bb91f77b-49' for task 'process_pool_snaps'\n"
      ]
     },
     "metadata": {},
     "output_type": "display_data"
    },
    {
     "data": {
      "text/html": [
       "<pre style=\"white-space:pre;overflow-x:auto;line-height:normal;font-family:Menlo,'DejaVu Sans Mono',consolas,'Courier New',monospace\">18:37:49.334 | <span style=\"color: #008080; text-decoration-color: #008080\">INFO</span>    | Flow run<span style=\"color: #800080; text-decoration-color: #800080\"> 'big-barracuda'</span> - Executing 'process_pool_snaps-bb91f77b-49' immediately...\n",
       "</pre>\n"
      ],
      "text/plain": [
       "18:37:49.334 | \u001b[36mINFO\u001b[0m    | Flow run\u001b[35m 'big-barracuda'\u001b[0m - Executing 'process_pool_snaps-bb91f77b-49' immediately...\n"
      ]
     },
     "metadata": {},
     "output_type": "display_data"
    },
    {
     "data": {
      "text/html": [
       "<pre style=\"white-space:pre;overflow-x:auto;line-height:normal;font-family:Menlo,'DejaVu Sans Mono',consolas,'Courier New',monospace\">18:37:49.359 | <span style=\"color: #008080; text-decoration-color: #008080\">INFO</span>    | Task run 'process_pool_snaps-bb91f77b-49' - Finished in state <span style=\"color: #008000; text-decoration-color: #008000\">Completed</span>()\n",
       "</pre>\n"
      ],
      "text/plain": [
       "18:37:49.359 | \u001b[36mINFO\u001b[0m    | Task run 'process_pool_snaps-bb91f77b-49' - Finished in state \u001b[32mCompleted\u001b[0m()\n"
      ]
     },
     "metadata": {},
     "output_type": "display_data"
    },
    {
     "data": {
      "text/html": [
       "<pre style=\"white-space:pre;overflow-x:auto;line-height:normal;font-family:Menlo,'DejaVu Sans Mono',consolas,'Courier New',monospace\">18:37:49.368 | <span style=\"color: #008080; text-decoration-color: #008080\">INFO</span>    | Flow run<span style=\"color: #800080; text-decoration-color: #800080\"> 'big-barracuda'</span> - Created task run 'process_pool_snaps-bb91f77b-50' for task 'process_pool_snaps'\n",
       "</pre>\n"
      ],
      "text/plain": [
       "18:37:49.368 | \u001b[36mINFO\u001b[0m    | Flow run\u001b[35m 'big-barracuda'\u001b[0m - Created task run 'process_pool_snaps-bb91f77b-50' for task 'process_pool_snaps'\n"
      ]
     },
     "metadata": {},
     "output_type": "display_data"
    },
    {
     "data": {
      "text/html": [
       "<pre style=\"white-space:pre;overflow-x:auto;line-height:normal;font-family:Menlo,'DejaVu Sans Mono',consolas,'Courier New',monospace\">18:37:49.369 | <span style=\"color: #008080; text-decoration-color: #008080\">INFO</span>    | Flow run<span style=\"color: #800080; text-decoration-color: #800080\"> 'big-barracuda'</span> - Executing 'process_pool_snaps-bb91f77b-50' immediately...\n",
       "</pre>\n"
      ],
      "text/plain": [
       "18:37:49.369 | \u001b[36mINFO\u001b[0m    | Flow run\u001b[35m 'big-barracuda'\u001b[0m - Executing 'process_pool_snaps-bb91f77b-50' immediately...\n"
      ]
     },
     "metadata": {},
     "output_type": "display_data"
    },
    {
     "data": {
      "text/html": [
       "<pre style=\"white-space:pre;overflow-x:auto;line-height:normal;font-family:Menlo,'DejaVu Sans Mono',consolas,'Courier New',monospace\">18:37:49.394 | <span style=\"color: #008080; text-decoration-color: #008080\">INFO</span>    | Task run 'process_pool_snaps-bb91f77b-50' - Finished in state <span style=\"color: #008000; text-decoration-color: #008000\">Completed</span>()\n",
       "</pre>\n"
      ],
      "text/plain": [
       "18:37:49.394 | \u001b[36mINFO\u001b[0m    | Task run 'process_pool_snaps-bb91f77b-50' - Finished in state \u001b[32mCompleted\u001b[0m()\n"
      ]
     },
     "metadata": {},
     "output_type": "display_data"
    },
    {
     "data": {
      "text/html": [
       "<pre style=\"white-space:pre;overflow-x:auto;line-height:normal;font-family:Menlo,'DejaVu Sans Mono',consolas,'Courier New',monospace\">18:37:49.403 | <span style=\"color: #008080; text-decoration-color: #008080\">INFO</span>    | Flow run<span style=\"color: #800080; text-decoration-color: #800080\"> 'big-barracuda'</span> - Created task run 'process_pool_snaps-bb91f77b-51' for task 'process_pool_snaps'\n",
       "</pre>\n"
      ],
      "text/plain": [
       "18:37:49.403 | \u001b[36mINFO\u001b[0m    | Flow run\u001b[35m 'big-barracuda'\u001b[0m - Created task run 'process_pool_snaps-bb91f77b-51' for task 'process_pool_snaps'\n"
      ]
     },
     "metadata": {},
     "output_type": "display_data"
    },
    {
     "data": {
      "text/html": [
       "<pre style=\"white-space:pre;overflow-x:auto;line-height:normal;font-family:Menlo,'DejaVu Sans Mono',consolas,'Courier New',monospace\">18:37:49.404 | <span style=\"color: #008080; text-decoration-color: #008080\">INFO</span>    | Flow run<span style=\"color: #800080; text-decoration-color: #800080\"> 'big-barracuda'</span> - Executing 'process_pool_snaps-bb91f77b-51' immediately...\n",
       "</pre>\n"
      ],
      "text/plain": [
       "18:37:49.404 | \u001b[36mINFO\u001b[0m    | Flow run\u001b[35m 'big-barracuda'\u001b[0m - Executing 'process_pool_snaps-bb91f77b-51' immediately...\n"
      ]
     },
     "metadata": {},
     "output_type": "display_data"
    },
    {
     "data": {
      "text/html": [
       "<pre style=\"white-space:pre;overflow-x:auto;line-height:normal;font-family:Menlo,'DejaVu Sans Mono',consolas,'Courier New',monospace\">18:37:49.429 | <span style=\"color: #008080; text-decoration-color: #008080\">INFO</span>    | Task run 'process_pool_snaps-bb91f77b-51' - Finished in state <span style=\"color: #008000; text-decoration-color: #008000\">Completed</span>()\n",
       "</pre>\n"
      ],
      "text/plain": [
       "18:37:49.429 | \u001b[36mINFO\u001b[0m    | Task run 'process_pool_snaps-bb91f77b-51' - Finished in state \u001b[32mCompleted\u001b[0m()\n"
      ]
     },
     "metadata": {},
     "output_type": "display_data"
    },
    {
     "data": {
      "text/html": [
       "<pre style=\"white-space:pre;overflow-x:auto;line-height:normal;font-family:Menlo,'DejaVu Sans Mono',consolas,'Courier New',monospace\">18:37:49.438 | <span style=\"color: #008080; text-decoration-color: #008080\">INFO</span>    | Flow run<span style=\"color: #800080; text-decoration-color: #800080\"> 'big-barracuda'</span> - Created task run 'process_pool_snaps-bb91f77b-52' for task 'process_pool_snaps'\n",
       "</pre>\n"
      ],
      "text/plain": [
       "18:37:49.438 | \u001b[36mINFO\u001b[0m    | Flow run\u001b[35m 'big-barracuda'\u001b[0m - Created task run 'process_pool_snaps-bb91f77b-52' for task 'process_pool_snaps'\n"
      ]
     },
     "metadata": {},
     "output_type": "display_data"
    },
    {
     "data": {
      "text/html": [
       "<pre style=\"white-space:pre;overflow-x:auto;line-height:normal;font-family:Menlo,'DejaVu Sans Mono',consolas,'Courier New',monospace\">18:37:49.439 | <span style=\"color: #008080; text-decoration-color: #008080\">INFO</span>    | Flow run<span style=\"color: #800080; text-decoration-color: #800080\"> 'big-barracuda'</span> - Executing 'process_pool_snaps-bb91f77b-52' immediately...\n",
       "</pre>\n"
      ],
      "text/plain": [
       "18:37:49.439 | \u001b[36mINFO\u001b[0m    | Flow run\u001b[35m 'big-barracuda'\u001b[0m - Executing 'process_pool_snaps-bb91f77b-52' immediately...\n"
      ]
     },
     "metadata": {},
     "output_type": "display_data"
    },
    {
     "data": {
      "text/html": [
       "<pre style=\"white-space:pre;overflow-x:auto;line-height:normal;font-family:Menlo,'DejaVu Sans Mono',consolas,'Courier New',monospace\">18:37:49.463 | <span style=\"color: #008080; text-decoration-color: #008080\">INFO</span>    | Task run 'process_pool_snaps-bb91f77b-52' - Finished in state <span style=\"color: #008000; text-decoration-color: #008000\">Completed</span>()\n",
       "</pre>\n"
      ],
      "text/plain": [
       "18:37:49.463 | \u001b[36mINFO\u001b[0m    | Task run 'process_pool_snaps-bb91f77b-52' - Finished in state \u001b[32mCompleted\u001b[0m()\n"
      ]
     },
     "metadata": {},
     "output_type": "display_data"
    },
    {
     "data": {
      "text/html": [
       "<pre style=\"white-space:pre;overflow-x:auto;line-height:normal;font-family:Menlo,'DejaVu Sans Mono',consolas,'Courier New',monospace\">18:37:49.473 | <span style=\"color: #008080; text-decoration-color: #008080\">INFO</span>    | Flow run<span style=\"color: #800080; text-decoration-color: #800080\"> 'big-barracuda'</span> - Created task run 'process_pool_snaps-bb91f77b-53' for task 'process_pool_snaps'\n",
       "</pre>\n"
      ],
      "text/plain": [
       "18:37:49.473 | \u001b[36mINFO\u001b[0m    | Flow run\u001b[35m 'big-barracuda'\u001b[0m - Created task run 'process_pool_snaps-bb91f77b-53' for task 'process_pool_snaps'\n"
      ]
     },
     "metadata": {},
     "output_type": "display_data"
    },
    {
     "data": {
      "text/html": [
       "<pre style=\"white-space:pre;overflow-x:auto;line-height:normal;font-family:Menlo,'DejaVu Sans Mono',consolas,'Courier New',monospace\">18:37:49.474 | <span style=\"color: #008080; text-decoration-color: #008080\">INFO</span>    | Flow run<span style=\"color: #800080; text-decoration-color: #800080\"> 'big-barracuda'</span> - Executing 'process_pool_snaps-bb91f77b-53' immediately...\n",
       "</pre>\n"
      ],
      "text/plain": [
       "18:37:49.474 | \u001b[36mINFO\u001b[0m    | Flow run\u001b[35m 'big-barracuda'\u001b[0m - Executing 'process_pool_snaps-bb91f77b-53' immediately...\n"
      ]
     },
     "metadata": {},
     "output_type": "display_data"
    },
    {
     "data": {
      "text/html": [
       "<pre style=\"white-space:pre;overflow-x:auto;line-height:normal;font-family:Menlo,'DejaVu Sans Mono',consolas,'Courier New',monospace\">18:37:49.498 | <span style=\"color: #008080; text-decoration-color: #008080\">INFO</span>    | Task run 'process_pool_snaps-bb91f77b-53' - Finished in state <span style=\"color: #008000; text-decoration-color: #008000\">Completed</span>()\n",
       "</pre>\n"
      ],
      "text/plain": [
       "18:37:49.498 | \u001b[36mINFO\u001b[0m    | Task run 'process_pool_snaps-bb91f77b-53' - Finished in state \u001b[32mCompleted\u001b[0m()\n"
      ]
     },
     "metadata": {},
     "output_type": "display_data"
    },
    {
     "data": {
      "text/html": [
       "<pre style=\"white-space:pre;overflow-x:auto;line-height:normal;font-family:Menlo,'DejaVu Sans Mono',consolas,'Courier New',monospace\">18:37:49.507 | <span style=\"color: #008080; text-decoration-color: #008080\">INFO</span>    | Flow run<span style=\"color: #800080; text-decoration-color: #800080\"> 'big-barracuda'</span> - Created task run 'process_pool_snaps-bb91f77b-54' for task 'process_pool_snaps'\n",
       "</pre>\n"
      ],
      "text/plain": [
       "18:37:49.507 | \u001b[36mINFO\u001b[0m    | Flow run\u001b[35m 'big-barracuda'\u001b[0m - Created task run 'process_pool_snaps-bb91f77b-54' for task 'process_pool_snaps'\n"
      ]
     },
     "metadata": {},
     "output_type": "display_data"
    },
    {
     "data": {
      "text/html": [
       "<pre style=\"white-space:pre;overflow-x:auto;line-height:normal;font-family:Menlo,'DejaVu Sans Mono',consolas,'Courier New',monospace\">18:37:49.508 | <span style=\"color: #008080; text-decoration-color: #008080\">INFO</span>    | Flow run<span style=\"color: #800080; text-decoration-color: #800080\"> 'big-barracuda'</span> - Executing 'process_pool_snaps-bb91f77b-54' immediately...\n",
       "</pre>\n"
      ],
      "text/plain": [
       "18:37:49.508 | \u001b[36mINFO\u001b[0m    | Flow run\u001b[35m 'big-barracuda'\u001b[0m - Executing 'process_pool_snaps-bb91f77b-54' immediately...\n"
      ]
     },
     "metadata": {},
     "output_type": "display_data"
    },
    {
     "data": {
      "text/html": [
       "<pre style=\"white-space:pre;overflow-x:auto;line-height:normal;font-family:Menlo,'DejaVu Sans Mono',consolas,'Courier New',monospace\">18:37:49.532 | <span style=\"color: #008080; text-decoration-color: #008080\">INFO</span>    | Task run 'process_pool_snaps-bb91f77b-54' - Finished in state <span style=\"color: #008000; text-decoration-color: #008000\">Completed</span>()\n",
       "</pre>\n"
      ],
      "text/plain": [
       "18:37:49.532 | \u001b[36mINFO\u001b[0m    | Task run 'process_pool_snaps-bb91f77b-54' - Finished in state \u001b[32mCompleted\u001b[0m()\n"
      ]
     },
     "metadata": {},
     "output_type": "display_data"
    },
    {
     "data": {
      "text/html": [
       "<pre style=\"white-space:pre;overflow-x:auto;line-height:normal;font-family:Menlo,'DejaVu Sans Mono',consolas,'Courier New',monospace\">18:37:49.543 | <span style=\"color: #008080; text-decoration-color: #008080\">INFO</span>    | Flow run<span style=\"color: #800080; text-decoration-color: #800080\"> 'big-barracuda'</span> - Created task run 'process_pool_snaps-bb91f77b-55' for task 'process_pool_snaps'\n",
       "</pre>\n"
      ],
      "text/plain": [
       "18:37:49.543 | \u001b[36mINFO\u001b[0m    | Flow run\u001b[35m 'big-barracuda'\u001b[0m - Created task run 'process_pool_snaps-bb91f77b-55' for task 'process_pool_snaps'\n"
      ]
     },
     "metadata": {},
     "output_type": "display_data"
    },
    {
     "data": {
      "text/html": [
       "<pre style=\"white-space:pre;overflow-x:auto;line-height:normal;font-family:Menlo,'DejaVu Sans Mono',consolas,'Courier New',monospace\">18:37:49.544 | <span style=\"color: #008080; text-decoration-color: #008080\">INFO</span>    | Flow run<span style=\"color: #800080; text-decoration-color: #800080\"> 'big-barracuda'</span> - Executing 'process_pool_snaps-bb91f77b-55' immediately...\n",
       "</pre>\n"
      ],
      "text/plain": [
       "18:37:49.544 | \u001b[36mINFO\u001b[0m    | Flow run\u001b[35m 'big-barracuda'\u001b[0m - Executing 'process_pool_snaps-bb91f77b-55' immediately...\n"
      ]
     },
     "metadata": {},
     "output_type": "display_data"
    },
    {
     "data": {
      "text/html": [
       "<pre style=\"white-space:pre;overflow-x:auto;line-height:normal;font-family:Menlo,'DejaVu Sans Mono',consolas,'Courier New',monospace\">18:37:49.568 | <span style=\"color: #008080; text-decoration-color: #008080\">INFO</span>    | Task run 'process_pool_snaps-bb91f77b-55' - Finished in state <span style=\"color: #008000; text-decoration-color: #008000\">Completed</span>()\n",
       "</pre>\n"
      ],
      "text/plain": [
       "18:37:49.568 | \u001b[36mINFO\u001b[0m    | Task run 'process_pool_snaps-bb91f77b-55' - Finished in state \u001b[32mCompleted\u001b[0m()\n"
      ]
     },
     "metadata": {},
     "output_type": "display_data"
    },
    {
     "data": {
      "text/html": [
       "<pre style=\"white-space:pre;overflow-x:auto;line-height:normal;font-family:Menlo,'DejaVu Sans Mono',consolas,'Courier New',monospace\">18:37:49.579 | <span style=\"color: #008080; text-decoration-color: #008080\">INFO</span>    | Flow run<span style=\"color: #800080; text-decoration-color: #800080\"> 'big-barracuda'</span> - Created task run 'process_pool_snaps-bb91f77b-56' for task 'process_pool_snaps'\n",
       "</pre>\n"
      ],
      "text/plain": [
       "18:37:49.579 | \u001b[36mINFO\u001b[0m    | Flow run\u001b[35m 'big-barracuda'\u001b[0m - Created task run 'process_pool_snaps-bb91f77b-56' for task 'process_pool_snaps'\n"
      ]
     },
     "metadata": {},
     "output_type": "display_data"
    },
    {
     "data": {
      "text/html": [
       "<pre style=\"white-space:pre;overflow-x:auto;line-height:normal;font-family:Menlo,'DejaVu Sans Mono',consolas,'Courier New',monospace\">18:37:49.580 | <span style=\"color: #008080; text-decoration-color: #008080\">INFO</span>    | Flow run<span style=\"color: #800080; text-decoration-color: #800080\"> 'big-barracuda'</span> - Executing 'process_pool_snaps-bb91f77b-56' immediately...\n",
       "</pre>\n"
      ],
      "text/plain": [
       "18:37:49.580 | \u001b[36mINFO\u001b[0m    | Flow run\u001b[35m 'big-barracuda'\u001b[0m - Executing 'process_pool_snaps-bb91f77b-56' immediately...\n"
      ]
     },
     "metadata": {},
     "output_type": "display_data"
    },
    {
     "data": {
      "text/html": [
       "<pre style=\"white-space:pre;overflow-x:auto;line-height:normal;font-family:Menlo,'DejaVu Sans Mono',consolas,'Courier New',monospace\">18:37:49.605 | <span style=\"color: #008080; text-decoration-color: #008080\">INFO</span>    | Task run 'process_pool_snaps-bb91f77b-56' - Finished in state <span style=\"color: #008000; text-decoration-color: #008000\">Completed</span>()\n",
       "</pre>\n"
      ],
      "text/plain": [
       "18:37:49.605 | \u001b[36mINFO\u001b[0m    | Task run 'process_pool_snaps-bb91f77b-56' - Finished in state \u001b[32mCompleted\u001b[0m()\n"
      ]
     },
     "metadata": {},
     "output_type": "display_data"
    },
    {
     "data": {
      "text/html": [
       "<pre style=\"white-space:pre;overflow-x:auto;line-height:normal;font-family:Menlo,'DejaVu Sans Mono',consolas,'Courier New',monospace\">18:37:49.614 | <span style=\"color: #008080; text-decoration-color: #008080\">INFO</span>    | Flow run<span style=\"color: #800080; text-decoration-color: #800080\"> 'big-barracuda'</span> - Created task run 'process_pool_snaps-bb91f77b-57' for task 'process_pool_snaps'\n",
       "</pre>\n"
      ],
      "text/plain": [
       "18:37:49.614 | \u001b[36mINFO\u001b[0m    | Flow run\u001b[35m 'big-barracuda'\u001b[0m - Created task run 'process_pool_snaps-bb91f77b-57' for task 'process_pool_snaps'\n"
      ]
     },
     "metadata": {},
     "output_type": "display_data"
    },
    {
     "data": {
      "text/html": [
       "<pre style=\"white-space:pre;overflow-x:auto;line-height:normal;font-family:Menlo,'DejaVu Sans Mono',consolas,'Courier New',monospace\">18:37:49.615 | <span style=\"color: #008080; text-decoration-color: #008080\">INFO</span>    | Flow run<span style=\"color: #800080; text-decoration-color: #800080\"> 'big-barracuda'</span> - Executing 'process_pool_snaps-bb91f77b-57' immediately...\n",
       "</pre>\n"
      ],
      "text/plain": [
       "18:37:49.615 | \u001b[36mINFO\u001b[0m    | Flow run\u001b[35m 'big-barracuda'\u001b[0m - Executing 'process_pool_snaps-bb91f77b-57' immediately...\n"
      ]
     },
     "metadata": {},
     "output_type": "display_data"
    },
    {
     "data": {
      "text/html": [
       "<pre style=\"white-space:pre;overflow-x:auto;line-height:normal;font-family:Menlo,'DejaVu Sans Mono',consolas,'Courier New',monospace\">18:37:49.640 | <span style=\"color: #008080; text-decoration-color: #008080\">INFO</span>    | Task run 'process_pool_snaps-bb91f77b-57' - Finished in state <span style=\"color: #008000; text-decoration-color: #008000\">Completed</span>()\n",
       "</pre>\n"
      ],
      "text/plain": [
       "18:37:49.640 | \u001b[36mINFO\u001b[0m    | Task run 'process_pool_snaps-bb91f77b-57' - Finished in state \u001b[32mCompleted\u001b[0m()\n"
      ]
     },
     "metadata": {},
     "output_type": "display_data"
    },
    {
     "data": {
      "text/html": [
       "<pre style=\"white-space:pre;overflow-x:auto;line-height:normal;font-family:Menlo,'DejaVu Sans Mono',consolas,'Courier New',monospace\">18:37:49.650 | <span style=\"color: #008080; text-decoration-color: #008080\">INFO</span>    | Flow run<span style=\"color: #800080; text-decoration-color: #800080\"> 'big-barracuda'</span> - Created task run 'process_pool_snaps-bb91f77b-58' for task 'process_pool_snaps'\n",
       "</pre>\n"
      ],
      "text/plain": [
       "18:37:49.650 | \u001b[36mINFO\u001b[0m    | Flow run\u001b[35m 'big-barracuda'\u001b[0m - Created task run 'process_pool_snaps-bb91f77b-58' for task 'process_pool_snaps'\n"
      ]
     },
     "metadata": {},
     "output_type": "display_data"
    },
    {
     "data": {
      "text/html": [
       "<pre style=\"white-space:pre;overflow-x:auto;line-height:normal;font-family:Menlo,'DejaVu Sans Mono',consolas,'Courier New',monospace\">18:37:49.651 | <span style=\"color: #008080; text-decoration-color: #008080\">INFO</span>    | Flow run<span style=\"color: #800080; text-decoration-color: #800080\"> 'big-barracuda'</span> - Executing 'process_pool_snaps-bb91f77b-58' immediately...\n",
       "</pre>\n"
      ],
      "text/plain": [
       "18:37:49.651 | \u001b[36mINFO\u001b[0m    | Flow run\u001b[35m 'big-barracuda'\u001b[0m - Executing 'process_pool_snaps-bb91f77b-58' immediately...\n"
      ]
     },
     "metadata": {},
     "output_type": "display_data"
    },
    {
     "data": {
      "text/html": [
       "<pre style=\"white-space:pre;overflow-x:auto;line-height:normal;font-family:Menlo,'DejaVu Sans Mono',consolas,'Courier New',monospace\">18:37:49.675 | <span style=\"color: #008080; text-decoration-color: #008080\">INFO</span>    | Task run 'process_pool_snaps-bb91f77b-58' - Finished in state <span style=\"color: #008000; text-decoration-color: #008000\">Completed</span>()\n",
       "</pre>\n"
      ],
      "text/plain": [
       "18:37:49.675 | \u001b[36mINFO\u001b[0m    | Task run 'process_pool_snaps-bb91f77b-58' - Finished in state \u001b[32mCompleted\u001b[0m()\n"
      ]
     },
     "metadata": {},
     "output_type": "display_data"
    },
    {
     "data": {
      "text/html": [
       "<pre style=\"white-space:pre;overflow-x:auto;line-height:normal;font-family:Menlo,'DejaVu Sans Mono',consolas,'Courier New',monospace\">18:37:49.689 | <span style=\"color: #008080; text-decoration-color: #008080\">INFO</span>    | Flow run<span style=\"color: #800080; text-decoration-color: #800080\"> 'big-barracuda'</span> - Created task run 'process_pool_snaps-bb91f77b-59' for task 'process_pool_snaps'\n",
       "</pre>\n"
      ],
      "text/plain": [
       "18:37:49.689 | \u001b[36mINFO\u001b[0m    | Flow run\u001b[35m 'big-barracuda'\u001b[0m - Created task run 'process_pool_snaps-bb91f77b-59' for task 'process_pool_snaps'\n"
      ]
     },
     "metadata": {},
     "output_type": "display_data"
    },
    {
     "data": {
      "text/html": [
       "<pre style=\"white-space:pre;overflow-x:auto;line-height:normal;font-family:Menlo,'DejaVu Sans Mono',consolas,'Courier New',monospace\">18:37:49.691 | <span style=\"color: #008080; text-decoration-color: #008080\">INFO</span>    | Flow run<span style=\"color: #800080; text-decoration-color: #800080\"> 'big-barracuda'</span> - Executing 'process_pool_snaps-bb91f77b-59' immediately...\n",
       "</pre>\n"
      ],
      "text/plain": [
       "18:37:49.691 | \u001b[36mINFO\u001b[0m    | Flow run\u001b[35m 'big-barracuda'\u001b[0m - Executing 'process_pool_snaps-bb91f77b-59' immediately...\n"
      ]
     },
     "metadata": {},
     "output_type": "display_data"
    },
    {
     "data": {
      "text/html": [
       "<pre style=\"white-space:pre;overflow-x:auto;line-height:normal;font-family:Menlo,'DejaVu Sans Mono',consolas,'Courier New',monospace\">18:37:49.731 | <span style=\"color: #008080; text-decoration-color: #008080\">INFO</span>    | Task run 'process_pool_snaps-bb91f77b-59' - Finished in state <span style=\"color: #008000; text-decoration-color: #008000\">Completed</span>()\n",
       "</pre>\n"
      ],
      "text/plain": [
       "18:37:49.731 | \u001b[36mINFO\u001b[0m    | Task run 'process_pool_snaps-bb91f77b-59' - Finished in state \u001b[32mCompleted\u001b[0m()\n"
      ]
     },
     "metadata": {},
     "output_type": "display_data"
    },
    {
     "data": {
      "text/html": [
       "<pre style=\"white-space:pre;overflow-x:auto;line-height:normal;font-family:Menlo,'DejaVu Sans Mono',consolas,'Courier New',monospace\">18:37:49.743 | <span style=\"color: #008080; text-decoration-color: #008080\">INFO</span>    | Flow run<span style=\"color: #800080; text-decoration-color: #800080\"> 'big-barracuda'</span> - Created task run 'process_pool_snaps-bb91f77b-60' for task 'process_pool_snaps'\n",
       "</pre>\n"
      ],
      "text/plain": [
       "18:37:49.743 | \u001b[36mINFO\u001b[0m    | Flow run\u001b[35m 'big-barracuda'\u001b[0m - Created task run 'process_pool_snaps-bb91f77b-60' for task 'process_pool_snaps'\n"
      ]
     },
     "metadata": {},
     "output_type": "display_data"
    },
    {
     "data": {
      "text/html": [
       "<pre style=\"white-space:pre;overflow-x:auto;line-height:normal;font-family:Menlo,'DejaVu Sans Mono',consolas,'Courier New',monospace\">18:37:49.744 | <span style=\"color: #008080; text-decoration-color: #008080\">INFO</span>    | Flow run<span style=\"color: #800080; text-decoration-color: #800080\"> 'big-barracuda'</span> - Executing 'process_pool_snaps-bb91f77b-60' immediately...\n",
       "</pre>\n"
      ],
      "text/plain": [
       "18:37:49.744 | \u001b[36mINFO\u001b[0m    | Flow run\u001b[35m 'big-barracuda'\u001b[0m - Executing 'process_pool_snaps-bb91f77b-60' immediately...\n"
      ]
     },
     "metadata": {},
     "output_type": "display_data"
    },
    {
     "data": {
      "text/html": [
       "<pre style=\"white-space:pre;overflow-x:auto;line-height:normal;font-family:Menlo,'DejaVu Sans Mono',consolas,'Courier New',monospace\">18:37:49.768 | <span style=\"color: #008080; text-decoration-color: #008080\">INFO</span>    | Task run 'process_pool_snaps-bb91f77b-60' - Finished in state <span style=\"color: #008000; text-decoration-color: #008000\">Completed</span>()\n",
       "</pre>\n"
      ],
      "text/plain": [
       "18:37:49.768 | \u001b[36mINFO\u001b[0m    | Task run 'process_pool_snaps-bb91f77b-60' - Finished in state \u001b[32mCompleted\u001b[0m()\n"
      ]
     },
     "metadata": {},
     "output_type": "display_data"
    },
    {
     "data": {
      "text/html": [
       "<pre style=\"white-space:pre;overflow-x:auto;line-height:normal;font-family:Menlo,'DejaVu Sans Mono',consolas,'Courier New',monospace\">18:37:49.778 | <span style=\"color: #008080; text-decoration-color: #008080\">INFO</span>    | Flow run<span style=\"color: #800080; text-decoration-color: #800080\"> 'big-barracuda'</span> - Created task run 'process_pool_snaps-bb91f77b-61' for task 'process_pool_snaps'\n",
       "</pre>\n"
      ],
      "text/plain": [
       "18:37:49.778 | \u001b[36mINFO\u001b[0m    | Flow run\u001b[35m 'big-barracuda'\u001b[0m - Created task run 'process_pool_snaps-bb91f77b-61' for task 'process_pool_snaps'\n"
      ]
     },
     "metadata": {},
     "output_type": "display_data"
    },
    {
     "data": {
      "text/html": [
       "<pre style=\"white-space:pre;overflow-x:auto;line-height:normal;font-family:Menlo,'DejaVu Sans Mono',consolas,'Courier New',monospace\">18:37:49.779 | <span style=\"color: #008080; text-decoration-color: #008080\">INFO</span>    | Flow run<span style=\"color: #800080; text-decoration-color: #800080\"> 'big-barracuda'</span> - Executing 'process_pool_snaps-bb91f77b-61' immediately...\n",
       "</pre>\n"
      ],
      "text/plain": [
       "18:37:49.779 | \u001b[36mINFO\u001b[0m    | Flow run\u001b[35m 'big-barracuda'\u001b[0m - Executing 'process_pool_snaps-bb91f77b-61' immediately...\n"
      ]
     },
     "metadata": {},
     "output_type": "display_data"
    },
    {
     "data": {
      "text/html": [
       "<pre style=\"white-space:pre;overflow-x:auto;line-height:normal;font-family:Menlo,'DejaVu Sans Mono',consolas,'Courier New',monospace\">18:37:49.804 | <span style=\"color: #008080; text-decoration-color: #008080\">INFO</span>    | Task run 'process_pool_snaps-bb91f77b-61' - Finished in state <span style=\"color: #008000; text-decoration-color: #008000\">Completed</span>()\n",
       "</pre>\n"
      ],
      "text/plain": [
       "18:37:49.804 | \u001b[36mINFO\u001b[0m    | Task run 'process_pool_snaps-bb91f77b-61' - Finished in state \u001b[32mCompleted\u001b[0m()\n"
      ]
     },
     "metadata": {},
     "output_type": "display_data"
    },
    {
     "data": {
      "text/html": [
       "<pre style=\"white-space:pre;overflow-x:auto;line-height:normal;font-family:Menlo,'DejaVu Sans Mono',consolas,'Courier New',monospace\">18:37:49.814 | <span style=\"color: #008080; text-decoration-color: #008080\">INFO</span>    | Flow run<span style=\"color: #800080; text-decoration-color: #800080\"> 'big-barracuda'</span> - Created task run 'process_pool_vol-f3874c79-0' for task 'process_pool_vol'\n",
       "</pre>\n"
      ],
      "text/plain": [
       "18:37:49.814 | \u001b[36mINFO\u001b[0m    | Flow run\u001b[35m 'big-barracuda'\u001b[0m - Created task run 'process_pool_vol-f3874c79-0' for task 'process_pool_vol'\n"
      ]
     },
     "metadata": {},
     "output_type": "display_data"
    },
    {
     "data": {
      "text/html": [
       "<pre style=\"white-space:pre;overflow-x:auto;line-height:normal;font-family:Menlo,'DejaVu Sans Mono',consolas,'Courier New',monospace\">18:37:49.815 | <span style=\"color: #008080; text-decoration-color: #008080\">INFO</span>    | Flow run<span style=\"color: #800080; text-decoration-color: #800080\"> 'big-barracuda'</span> - Executing 'process_pool_vol-f3874c79-0' immediately...\n",
       "</pre>\n"
      ],
      "text/plain": [
       "18:37:49.815 | \u001b[36mINFO\u001b[0m    | Flow run\u001b[35m 'big-barracuda'\u001b[0m - Executing 'process_pool_vol-f3874c79-0' immediately...\n"
      ]
     },
     "metadata": {},
     "output_type": "display_data"
    },
    {
     "data": {
      "text/html": [
       "<pre style=\"white-space:pre;overflow-x:auto;line-height:normal;font-family:Menlo,'DejaVu Sans Mono',consolas,'Courier New',monospace\">18:37:49.838 | <span style=\"color: #008080; text-decoration-color: #008080\">INFO</span>    | Task run 'process_pool_vol-f3874c79-0' - Finished in state <span style=\"color: #008000; text-decoration-color: #008000\">Completed</span>()\n",
       "</pre>\n"
      ],
      "text/plain": [
       "18:37:49.838 | \u001b[36mINFO\u001b[0m    | Task run 'process_pool_vol-f3874c79-0' - Finished in state \u001b[32mCompleted\u001b[0m()\n"
      ]
     },
     "metadata": {},
     "output_type": "display_data"
    },
    {
     "data": {
      "text/html": [
       "<pre style=\"white-space:pre;overflow-x:auto;line-height:normal;font-family:Menlo,'DejaVu Sans Mono',consolas,'Courier New',monospace\">18:37:49.855 | <span style=\"color: #008080; text-decoration-color: #008080\">INFO</span>    | Flow run<span style=\"color: #800080; text-decoration-color: #800080\"> 'big-barracuda'</span> - Created task run 'process_pool_vol-f3874c79-1' for task 'process_pool_vol'\n",
       "</pre>\n"
      ],
      "text/plain": [
       "18:37:49.855 | \u001b[36mINFO\u001b[0m    | Flow run\u001b[35m 'big-barracuda'\u001b[0m - Created task run 'process_pool_vol-f3874c79-1' for task 'process_pool_vol'\n"
      ]
     },
     "metadata": {},
     "output_type": "display_data"
    },
    {
     "data": {
      "text/html": [
       "<pre style=\"white-space:pre;overflow-x:auto;line-height:normal;font-family:Menlo,'DejaVu Sans Mono',consolas,'Courier New',monospace\">18:37:49.855 | <span style=\"color: #008080; text-decoration-color: #008080\">INFO</span>    | Flow run<span style=\"color: #800080; text-decoration-color: #800080\"> 'big-barracuda'</span> - Executing 'process_pool_vol-f3874c79-1' immediately...\n",
       "</pre>\n"
      ],
      "text/plain": [
       "18:37:49.855 | \u001b[36mINFO\u001b[0m    | Flow run\u001b[35m 'big-barracuda'\u001b[0m - Executing 'process_pool_vol-f3874c79-1' immediately...\n"
      ]
     },
     "metadata": {},
     "output_type": "display_data"
    },
    {
     "data": {
      "text/html": [
       "<pre style=\"white-space:pre;overflow-x:auto;line-height:normal;font-family:Menlo,'DejaVu Sans Mono',consolas,'Courier New',monospace\">18:37:49.880 | <span style=\"color: #008080; text-decoration-color: #008080\">INFO</span>    | Task run 'process_pool_vol-f3874c79-1' - Finished in state <span style=\"color: #008000; text-decoration-color: #008000\">Completed</span>()\n",
       "</pre>\n"
      ],
      "text/plain": [
       "18:37:49.880 | \u001b[36mINFO\u001b[0m    | Task run 'process_pool_vol-f3874c79-1' - Finished in state \u001b[32mCompleted\u001b[0m()\n"
      ]
     },
     "metadata": {},
     "output_type": "display_data"
    },
    {
     "data": {
      "text/html": [
       "<pre style=\"white-space:pre;overflow-x:auto;line-height:normal;font-family:Menlo,'DejaVu Sans Mono',consolas,'Courier New',monospace\">18:37:49.890 | <span style=\"color: #008080; text-decoration-color: #008080\">INFO</span>    | Flow run<span style=\"color: #800080; text-decoration-color: #800080\"> 'big-barracuda'</span> - Created task run 'process_pool_vol-f3874c79-2' for task 'process_pool_vol'\n",
       "</pre>\n"
      ],
      "text/plain": [
       "18:37:49.890 | \u001b[36mINFO\u001b[0m    | Flow run\u001b[35m 'big-barracuda'\u001b[0m - Created task run 'process_pool_vol-f3874c79-2' for task 'process_pool_vol'\n"
      ]
     },
     "metadata": {},
     "output_type": "display_data"
    },
    {
     "data": {
      "text/html": [
       "<pre style=\"white-space:pre;overflow-x:auto;line-height:normal;font-family:Menlo,'DejaVu Sans Mono',consolas,'Courier New',monospace\">18:37:49.891 | <span style=\"color: #008080; text-decoration-color: #008080\">INFO</span>    | Flow run<span style=\"color: #800080; text-decoration-color: #800080\"> 'big-barracuda'</span> - Executing 'process_pool_vol-f3874c79-2' immediately...\n",
       "</pre>\n"
      ],
      "text/plain": [
       "18:37:49.891 | \u001b[36mINFO\u001b[0m    | Flow run\u001b[35m 'big-barracuda'\u001b[0m - Executing 'process_pool_vol-f3874c79-2' immediately...\n"
      ]
     },
     "metadata": {},
     "output_type": "display_data"
    },
    {
     "data": {
      "text/html": [
       "<pre style=\"white-space:pre;overflow-x:auto;line-height:normal;font-family:Menlo,'DejaVu Sans Mono',consolas,'Courier New',monospace\">18:37:49.917 | <span style=\"color: #008080; text-decoration-color: #008080\">INFO</span>    | Task run 'process_pool_vol-f3874c79-2' - Finished in state <span style=\"color: #008000; text-decoration-color: #008000\">Completed</span>()\n",
       "</pre>\n"
      ],
      "text/plain": [
       "18:37:49.917 | \u001b[36mINFO\u001b[0m    | Task run 'process_pool_vol-f3874c79-2' - Finished in state \u001b[32mCompleted\u001b[0m()\n"
      ]
     },
     "metadata": {},
     "output_type": "display_data"
    },
    {
     "data": {
      "text/html": [
       "<pre style=\"white-space:pre;overflow-x:auto;line-height:normal;font-family:Menlo,'DejaVu Sans Mono',consolas,'Courier New',monospace\">18:37:49.927 | <span style=\"color: #008080; text-decoration-color: #008080\">INFO</span>    | Flow run<span style=\"color: #800080; text-decoration-color: #800080\"> 'big-barracuda'</span> - Created task run 'process_pool_vol-f3874c79-3' for task 'process_pool_vol'\n",
       "</pre>\n"
      ],
      "text/plain": [
       "18:37:49.927 | \u001b[36mINFO\u001b[0m    | Flow run\u001b[35m 'big-barracuda'\u001b[0m - Created task run 'process_pool_vol-f3874c79-3' for task 'process_pool_vol'\n"
      ]
     },
     "metadata": {},
     "output_type": "display_data"
    },
    {
     "data": {
      "text/html": [
       "<pre style=\"white-space:pre;overflow-x:auto;line-height:normal;font-family:Menlo,'DejaVu Sans Mono',consolas,'Courier New',monospace\">18:37:49.928 | <span style=\"color: #008080; text-decoration-color: #008080\">INFO</span>    | Flow run<span style=\"color: #800080; text-decoration-color: #800080\"> 'big-barracuda'</span> - Executing 'process_pool_vol-f3874c79-3' immediately...\n",
       "</pre>\n"
      ],
      "text/plain": [
       "18:37:49.928 | \u001b[36mINFO\u001b[0m    | Flow run\u001b[35m 'big-barracuda'\u001b[0m - Executing 'process_pool_vol-f3874c79-3' immediately...\n"
      ]
     },
     "metadata": {},
     "output_type": "display_data"
    },
    {
     "data": {
      "text/html": [
       "<pre style=\"white-space:pre;overflow-x:auto;line-height:normal;font-family:Menlo,'DejaVu Sans Mono',consolas,'Courier New',monospace\">18:37:49.953 | <span style=\"color: #008080; text-decoration-color: #008080\">INFO</span>    | Task run 'process_pool_vol-f3874c79-3' - Finished in state <span style=\"color: #008000; text-decoration-color: #008000\">Completed</span>()\n",
       "</pre>\n"
      ],
      "text/plain": [
       "18:37:49.953 | \u001b[36mINFO\u001b[0m    | Task run 'process_pool_vol-f3874c79-3' - Finished in state \u001b[32mCompleted\u001b[0m()\n"
      ]
     },
     "metadata": {},
     "output_type": "display_data"
    },
    {
     "data": {
      "text/html": [
       "<pre style=\"white-space:pre;overflow-x:auto;line-height:normal;font-family:Menlo,'DejaVu Sans Mono',consolas,'Courier New',monospace\">18:37:49.962 | <span style=\"color: #008080; text-decoration-color: #008080\">INFO</span>    | Flow run<span style=\"color: #800080; text-decoration-color: #800080\"> 'big-barracuda'</span> - Created task run 'process_pool_vol-f3874c79-4' for task 'process_pool_vol'\n",
       "</pre>\n"
      ],
      "text/plain": [
       "18:37:49.962 | \u001b[36mINFO\u001b[0m    | Flow run\u001b[35m 'big-barracuda'\u001b[0m - Created task run 'process_pool_vol-f3874c79-4' for task 'process_pool_vol'\n"
      ]
     },
     "metadata": {},
     "output_type": "display_data"
    },
    {
     "data": {
      "text/html": [
       "<pre style=\"white-space:pre;overflow-x:auto;line-height:normal;font-family:Menlo,'DejaVu Sans Mono',consolas,'Courier New',monospace\">18:37:49.962 | <span style=\"color: #008080; text-decoration-color: #008080\">INFO</span>    | Flow run<span style=\"color: #800080; text-decoration-color: #800080\"> 'big-barracuda'</span> - Executing 'process_pool_vol-f3874c79-4' immediately...\n",
       "</pre>\n"
      ],
      "text/plain": [
       "18:37:49.962 | \u001b[36mINFO\u001b[0m    | Flow run\u001b[35m 'big-barracuda'\u001b[0m - Executing 'process_pool_vol-f3874c79-4' immediately...\n"
      ]
     },
     "metadata": {},
     "output_type": "display_data"
    },
    {
     "data": {
      "text/html": [
       "<pre style=\"white-space:pre;overflow-x:auto;line-height:normal;font-family:Menlo,'DejaVu Sans Mono',consolas,'Courier New',monospace\">18:37:49.985 | <span style=\"color: #008080; text-decoration-color: #008080\">INFO</span>    | Task run 'process_pool_vol-f3874c79-4' - Finished in state <span style=\"color: #008000; text-decoration-color: #008000\">Completed</span>()\n",
       "</pre>\n"
      ],
      "text/plain": [
       "18:37:49.985 | \u001b[36mINFO\u001b[0m    | Task run 'process_pool_vol-f3874c79-4' - Finished in state \u001b[32mCompleted\u001b[0m()\n"
      ]
     },
     "metadata": {},
     "output_type": "display_data"
    },
    {
     "data": {
      "text/html": [
       "<pre style=\"white-space:pre;overflow-x:auto;line-height:normal;font-family:Menlo,'DejaVu Sans Mono',consolas,'Courier New',monospace\">18:37:49.995 | <span style=\"color: #008080; text-decoration-color: #008080\">INFO</span>    | Flow run<span style=\"color: #800080; text-decoration-color: #800080\"> 'big-barracuda'</span> - Created task run 'process_pool_vol-f3874c79-5' for task 'process_pool_vol'\n",
       "</pre>\n"
      ],
      "text/plain": [
       "18:37:49.995 | \u001b[36mINFO\u001b[0m    | Flow run\u001b[35m 'big-barracuda'\u001b[0m - Created task run 'process_pool_vol-f3874c79-5' for task 'process_pool_vol'\n"
      ]
     },
     "metadata": {},
     "output_type": "display_data"
    },
    {
     "data": {
      "text/html": [
       "<pre style=\"white-space:pre;overflow-x:auto;line-height:normal;font-family:Menlo,'DejaVu Sans Mono',consolas,'Courier New',monospace\">18:37:49.995 | <span style=\"color: #008080; text-decoration-color: #008080\">INFO</span>    | Flow run<span style=\"color: #800080; text-decoration-color: #800080\"> 'big-barracuda'</span> - Executing 'process_pool_vol-f3874c79-5' immediately...\n",
       "</pre>\n"
      ],
      "text/plain": [
       "18:37:49.995 | \u001b[36mINFO\u001b[0m    | Flow run\u001b[35m 'big-barracuda'\u001b[0m - Executing 'process_pool_vol-f3874c79-5' immediately...\n"
      ]
     },
     "metadata": {},
     "output_type": "display_data"
    },
    {
     "data": {
      "text/html": [
       "<pre style=\"white-space:pre;overflow-x:auto;line-height:normal;font-family:Menlo,'DejaVu Sans Mono',consolas,'Courier New',monospace\">18:37:50.018 | <span style=\"color: #008080; text-decoration-color: #008080\">INFO</span>    | Task run 'process_pool_vol-f3874c79-5' - Finished in state <span style=\"color: #008000; text-decoration-color: #008000\">Completed</span>()\n",
       "</pre>\n"
      ],
      "text/plain": [
       "18:37:50.018 | \u001b[36mINFO\u001b[0m    | Task run 'process_pool_vol-f3874c79-5' - Finished in state \u001b[32mCompleted\u001b[0m()\n"
      ]
     },
     "metadata": {},
     "output_type": "display_data"
    },
    {
     "data": {
      "text/html": [
       "<pre style=\"white-space:pre;overflow-x:auto;line-height:normal;font-family:Menlo,'DejaVu Sans Mono',consolas,'Courier New',monospace\">18:37:50.028 | <span style=\"color: #008080; text-decoration-color: #008080\">INFO</span>    | Flow run<span style=\"color: #800080; text-decoration-color: #800080\"> 'big-barracuda'</span> - Created task run 'process_pool_vol-f3874c79-6' for task 'process_pool_vol'\n",
       "</pre>\n"
      ],
      "text/plain": [
       "18:37:50.028 | \u001b[36mINFO\u001b[0m    | Flow run\u001b[35m 'big-barracuda'\u001b[0m - Created task run 'process_pool_vol-f3874c79-6' for task 'process_pool_vol'\n"
      ]
     },
     "metadata": {},
     "output_type": "display_data"
    },
    {
     "data": {
      "text/html": [
       "<pre style=\"white-space:pre;overflow-x:auto;line-height:normal;font-family:Menlo,'DejaVu Sans Mono',consolas,'Courier New',monospace\">18:37:50.028 | <span style=\"color: #008080; text-decoration-color: #008080\">INFO</span>    | Flow run<span style=\"color: #800080; text-decoration-color: #800080\"> 'big-barracuda'</span> - Executing 'process_pool_vol-f3874c79-6' immediately...\n",
       "</pre>\n"
      ],
      "text/plain": [
       "18:37:50.028 | \u001b[36mINFO\u001b[0m    | Flow run\u001b[35m 'big-barracuda'\u001b[0m - Executing 'process_pool_vol-f3874c79-6' immediately...\n"
      ]
     },
     "metadata": {},
     "output_type": "display_data"
    },
    {
     "data": {
      "text/html": [
       "<pre style=\"white-space:pre;overflow-x:auto;line-height:normal;font-family:Menlo,'DejaVu Sans Mono',consolas,'Courier New',monospace\">18:37:50.052 | <span style=\"color: #008080; text-decoration-color: #008080\">INFO</span>    | Task run 'process_pool_vol-f3874c79-6' - Finished in state <span style=\"color: #008000; text-decoration-color: #008000\">Completed</span>()\n",
       "</pre>\n"
      ],
      "text/plain": [
       "18:37:50.052 | \u001b[36mINFO\u001b[0m    | Task run 'process_pool_vol-f3874c79-6' - Finished in state \u001b[32mCompleted\u001b[0m()\n"
      ]
     },
     "metadata": {},
     "output_type": "display_data"
    },
    {
     "data": {
      "text/html": [
       "<pre style=\"white-space:pre;overflow-x:auto;line-height:normal;font-family:Menlo,'DejaVu Sans Mono',consolas,'Courier New',monospace\">18:37:50.064 | <span style=\"color: #008080; text-decoration-color: #008080\">INFO</span>    | Flow run<span style=\"color: #800080; text-decoration-color: #800080\"> 'big-barracuda'</span> - Created task run 'process_pool_vol-f3874c79-7' for task 'process_pool_vol'\n",
       "</pre>\n"
      ],
      "text/plain": [
       "18:37:50.064 | \u001b[36mINFO\u001b[0m    | Flow run\u001b[35m 'big-barracuda'\u001b[0m - Created task run 'process_pool_vol-f3874c79-7' for task 'process_pool_vol'\n"
      ]
     },
     "metadata": {},
     "output_type": "display_data"
    },
    {
     "data": {
      "text/html": [
       "<pre style=\"white-space:pre;overflow-x:auto;line-height:normal;font-family:Menlo,'DejaVu Sans Mono',consolas,'Courier New',monospace\">18:37:50.065 | <span style=\"color: #008080; text-decoration-color: #008080\">INFO</span>    | Flow run<span style=\"color: #800080; text-decoration-color: #800080\"> 'big-barracuda'</span> - Executing 'process_pool_vol-f3874c79-7' immediately...\n",
       "</pre>\n"
      ],
      "text/plain": [
       "18:37:50.065 | \u001b[36mINFO\u001b[0m    | Flow run\u001b[35m 'big-barracuda'\u001b[0m - Executing 'process_pool_vol-f3874c79-7' immediately...\n"
      ]
     },
     "metadata": {},
     "output_type": "display_data"
    },
    {
     "data": {
      "text/html": [
       "<pre style=\"white-space:pre;overflow-x:auto;line-height:normal;font-family:Menlo,'DejaVu Sans Mono',consolas,'Courier New',monospace\">18:37:50.101 | <span style=\"color: #008080; text-decoration-color: #008080\">INFO</span>    | Task run 'process_pool_vol-f3874c79-7' - Finished in state <span style=\"color: #008000; text-decoration-color: #008000\">Completed</span>()\n",
       "</pre>\n"
      ],
      "text/plain": [
       "18:37:50.101 | \u001b[36mINFO\u001b[0m    | Task run 'process_pool_vol-f3874c79-7' - Finished in state \u001b[32mCompleted\u001b[0m()\n"
      ]
     },
     "metadata": {},
     "output_type": "display_data"
    },
    {
     "data": {
      "text/html": [
       "<pre style=\"white-space:pre;overflow-x:auto;line-height:normal;font-family:Menlo,'DejaVu Sans Mono',consolas,'Courier New',monospace\">18:37:50.111 | <span style=\"color: #008080; text-decoration-color: #008080\">INFO</span>    | Flow run<span style=\"color: #800080; text-decoration-color: #800080\"> 'big-barracuda'</span> - Created task run 'process_pool_vol-f3874c79-8' for task 'process_pool_vol'\n",
       "</pre>\n"
      ],
      "text/plain": [
       "18:37:50.111 | \u001b[36mINFO\u001b[0m    | Flow run\u001b[35m 'big-barracuda'\u001b[0m - Created task run 'process_pool_vol-f3874c79-8' for task 'process_pool_vol'\n"
      ]
     },
     "metadata": {},
     "output_type": "display_data"
    },
    {
     "data": {
      "text/html": [
       "<pre style=\"white-space:pre;overflow-x:auto;line-height:normal;font-family:Menlo,'DejaVu Sans Mono',consolas,'Courier New',monospace\">18:37:50.112 | <span style=\"color: #008080; text-decoration-color: #008080\">INFO</span>    | Flow run<span style=\"color: #800080; text-decoration-color: #800080\"> 'big-barracuda'</span> - Executing 'process_pool_vol-f3874c79-8' immediately...\n",
       "</pre>\n"
      ],
      "text/plain": [
       "18:37:50.112 | \u001b[36mINFO\u001b[0m    | Flow run\u001b[35m 'big-barracuda'\u001b[0m - Executing 'process_pool_vol-f3874c79-8' immediately...\n"
      ]
     },
     "metadata": {},
     "output_type": "display_data"
    },
    {
     "data": {
      "text/html": [
       "<pre style=\"white-space:pre;overflow-x:auto;line-height:normal;font-family:Menlo,'DejaVu Sans Mono',consolas,'Courier New',monospace\">18:37:50.136 | <span style=\"color: #008080; text-decoration-color: #008080\">INFO</span>    | Task run 'process_pool_vol-f3874c79-8' - Finished in state <span style=\"color: #008000; text-decoration-color: #008000\">Completed</span>()\n",
       "</pre>\n"
      ],
      "text/plain": [
       "18:37:50.136 | \u001b[36mINFO\u001b[0m    | Task run 'process_pool_vol-f3874c79-8' - Finished in state \u001b[32mCompleted\u001b[0m()\n"
      ]
     },
     "metadata": {},
     "output_type": "display_data"
    },
    {
     "data": {
      "text/html": [
       "<pre style=\"white-space:pre;overflow-x:auto;line-height:normal;font-family:Menlo,'DejaVu Sans Mono',consolas,'Courier New',monospace\">18:37:50.146 | <span style=\"color: #008080; text-decoration-color: #008080\">INFO</span>    | Flow run<span style=\"color: #800080; text-decoration-color: #800080\"> 'big-barracuda'</span> - Created task run 'process_pool_vol-f3874c79-9' for task 'process_pool_vol'\n",
       "</pre>\n"
      ],
      "text/plain": [
       "18:37:50.146 | \u001b[36mINFO\u001b[0m    | Flow run\u001b[35m 'big-barracuda'\u001b[0m - Created task run 'process_pool_vol-f3874c79-9' for task 'process_pool_vol'\n"
      ]
     },
     "metadata": {},
     "output_type": "display_data"
    },
    {
     "data": {
      "text/html": [
       "<pre style=\"white-space:pre;overflow-x:auto;line-height:normal;font-family:Menlo,'DejaVu Sans Mono',consolas,'Courier New',monospace\">18:37:50.146 | <span style=\"color: #008080; text-decoration-color: #008080\">INFO</span>    | Flow run<span style=\"color: #800080; text-decoration-color: #800080\"> 'big-barracuda'</span> - Executing 'process_pool_vol-f3874c79-9' immediately...\n",
       "</pre>\n"
      ],
      "text/plain": [
       "18:37:50.146 | \u001b[36mINFO\u001b[0m    | Flow run\u001b[35m 'big-barracuda'\u001b[0m - Executing 'process_pool_vol-f3874c79-9' immediately...\n"
      ]
     },
     "metadata": {},
     "output_type": "display_data"
    },
    {
     "data": {
      "text/html": [
       "<pre style=\"white-space:pre;overflow-x:auto;line-height:normal;font-family:Menlo,'DejaVu Sans Mono',consolas,'Courier New',monospace\">18:37:50.170 | <span style=\"color: #008080; text-decoration-color: #008080\">INFO</span>    | Task run 'process_pool_vol-f3874c79-9' - Finished in state <span style=\"color: #008000; text-decoration-color: #008000\">Completed</span>()\n",
       "</pre>\n"
      ],
      "text/plain": [
       "18:37:50.170 | \u001b[36mINFO\u001b[0m    | Task run 'process_pool_vol-f3874c79-9' - Finished in state \u001b[32mCompleted\u001b[0m()\n"
      ]
     },
     "metadata": {},
     "output_type": "display_data"
    },
    {
     "data": {
      "text/html": [
       "<pre style=\"white-space:pre;overflow-x:auto;line-height:normal;font-family:Menlo,'DejaVu Sans Mono',consolas,'Courier New',monospace\">18:37:50.180 | <span style=\"color: #008080; text-decoration-color: #008080\">INFO</span>    | Flow run<span style=\"color: #800080; text-decoration-color: #800080\"> 'big-barracuda'</span> - Created task run 'process_pool_vol-f3874c79-10' for task 'process_pool_vol'\n",
       "</pre>\n"
      ],
      "text/plain": [
       "18:37:50.180 | \u001b[36mINFO\u001b[0m    | Flow run\u001b[35m 'big-barracuda'\u001b[0m - Created task run 'process_pool_vol-f3874c79-10' for task 'process_pool_vol'\n"
      ]
     },
     "metadata": {},
     "output_type": "display_data"
    },
    {
     "data": {
      "text/html": [
       "<pre style=\"white-space:pre;overflow-x:auto;line-height:normal;font-family:Menlo,'DejaVu Sans Mono',consolas,'Courier New',monospace\">18:37:50.181 | <span style=\"color: #008080; text-decoration-color: #008080\">INFO</span>    | Flow run<span style=\"color: #800080; text-decoration-color: #800080\"> 'big-barracuda'</span> - Executing 'process_pool_vol-f3874c79-10' immediately...\n",
       "</pre>\n"
      ],
      "text/plain": [
       "18:37:50.181 | \u001b[36mINFO\u001b[0m    | Flow run\u001b[35m 'big-barracuda'\u001b[0m - Executing 'process_pool_vol-f3874c79-10' immediately...\n"
      ]
     },
     "metadata": {},
     "output_type": "display_data"
    },
    {
     "data": {
      "text/html": [
       "<pre style=\"white-space:pre;overflow-x:auto;line-height:normal;font-family:Menlo,'DejaVu Sans Mono',consolas,'Courier New',monospace\">18:37:50.204 | <span style=\"color: #008080; text-decoration-color: #008080\">INFO</span>    | Task run 'process_pool_vol-f3874c79-10' - Finished in state <span style=\"color: #008000; text-decoration-color: #008000\">Completed</span>()\n",
       "</pre>\n"
      ],
      "text/plain": [
       "18:37:50.204 | \u001b[36mINFO\u001b[0m    | Task run 'process_pool_vol-f3874c79-10' - Finished in state \u001b[32mCompleted\u001b[0m()\n"
      ]
     },
     "metadata": {},
     "output_type": "display_data"
    },
    {
     "data": {
      "text/html": [
       "<pre style=\"white-space:pre;overflow-x:auto;line-height:normal;font-family:Menlo,'DejaVu Sans Mono',consolas,'Courier New',monospace\">18:37:50.214 | <span style=\"color: #008080; text-decoration-color: #008080\">INFO</span>    | Flow run<span style=\"color: #800080; text-decoration-color: #800080\"> 'big-barracuda'</span> - Created task run 'process_pool_vol-f3874c79-11' for task 'process_pool_vol'\n",
       "</pre>\n"
      ],
      "text/plain": [
       "18:37:50.214 | \u001b[36mINFO\u001b[0m    | Flow run\u001b[35m 'big-barracuda'\u001b[0m - Created task run 'process_pool_vol-f3874c79-11' for task 'process_pool_vol'\n"
      ]
     },
     "metadata": {},
     "output_type": "display_data"
    },
    {
     "data": {
      "text/html": [
       "<pre style=\"white-space:pre;overflow-x:auto;line-height:normal;font-family:Menlo,'DejaVu Sans Mono',consolas,'Courier New',monospace\">18:37:50.214 | <span style=\"color: #008080; text-decoration-color: #008080\">INFO</span>    | Flow run<span style=\"color: #800080; text-decoration-color: #800080\"> 'big-barracuda'</span> - Executing 'process_pool_vol-f3874c79-11' immediately...\n",
       "</pre>\n"
      ],
      "text/plain": [
       "18:37:50.214 | \u001b[36mINFO\u001b[0m    | Flow run\u001b[35m 'big-barracuda'\u001b[0m - Executing 'process_pool_vol-f3874c79-11' immediately...\n"
      ]
     },
     "metadata": {},
     "output_type": "display_data"
    },
    {
     "data": {
      "text/html": [
       "<pre style=\"white-space:pre;overflow-x:auto;line-height:normal;font-family:Menlo,'DejaVu Sans Mono',consolas,'Courier New',monospace\">18:37:50.238 | <span style=\"color: #008080; text-decoration-color: #008080\">INFO</span>    | Task run 'process_pool_vol-f3874c79-11' - Finished in state <span style=\"color: #008000; text-decoration-color: #008000\">Completed</span>()\n",
       "</pre>\n"
      ],
      "text/plain": [
       "18:37:50.238 | \u001b[36mINFO\u001b[0m    | Task run 'process_pool_vol-f3874c79-11' - Finished in state \u001b[32mCompleted\u001b[0m()\n"
      ]
     },
     "metadata": {},
     "output_type": "display_data"
    },
    {
     "data": {
      "text/html": [
       "<pre style=\"white-space:pre;overflow-x:auto;line-height:normal;font-family:Menlo,'DejaVu Sans Mono',consolas,'Courier New',monospace\">18:37:50.247 | <span style=\"color: #008080; text-decoration-color: #008080\">INFO</span>    | Flow run<span style=\"color: #800080; text-decoration-color: #800080\"> 'big-barracuda'</span> - Created task run 'process_pool_vol-f3874c79-12' for task 'process_pool_vol'\n",
       "</pre>\n"
      ],
      "text/plain": [
       "18:37:50.247 | \u001b[36mINFO\u001b[0m    | Flow run\u001b[35m 'big-barracuda'\u001b[0m - Created task run 'process_pool_vol-f3874c79-12' for task 'process_pool_vol'\n"
      ]
     },
     "metadata": {},
     "output_type": "display_data"
    },
    {
     "data": {
      "text/html": [
       "<pre style=\"white-space:pre;overflow-x:auto;line-height:normal;font-family:Menlo,'DejaVu Sans Mono',consolas,'Courier New',monospace\">18:37:50.248 | <span style=\"color: #008080; text-decoration-color: #008080\">INFO</span>    | Flow run<span style=\"color: #800080; text-decoration-color: #800080\"> 'big-barracuda'</span> - Executing 'process_pool_vol-f3874c79-12' immediately...\n",
       "</pre>\n"
      ],
      "text/plain": [
       "18:37:50.248 | \u001b[36mINFO\u001b[0m    | Flow run\u001b[35m 'big-barracuda'\u001b[0m - Executing 'process_pool_vol-f3874c79-12' immediately...\n"
      ]
     },
     "metadata": {},
     "output_type": "display_data"
    },
    {
     "data": {
      "text/html": [
       "<pre style=\"white-space:pre;overflow-x:auto;line-height:normal;font-family:Menlo,'DejaVu Sans Mono',consolas,'Courier New',monospace\">18:37:50.272 | <span style=\"color: #008080; text-decoration-color: #008080\">INFO</span>    | Task run 'process_pool_vol-f3874c79-12' - Finished in state <span style=\"color: #008000; text-decoration-color: #008000\">Completed</span>()\n",
       "</pre>\n"
      ],
      "text/plain": [
       "18:37:50.272 | \u001b[36mINFO\u001b[0m    | Task run 'process_pool_vol-f3874c79-12' - Finished in state \u001b[32mCompleted\u001b[0m()\n"
      ]
     },
     "metadata": {},
     "output_type": "display_data"
    },
    {
     "data": {
      "text/html": [
       "<pre style=\"white-space:pre;overflow-x:auto;line-height:normal;font-family:Menlo,'DejaVu Sans Mono',consolas,'Courier New',monospace\">18:37:50.281 | <span style=\"color: #008080; text-decoration-color: #008080\">INFO</span>    | Flow run<span style=\"color: #800080; text-decoration-color: #800080\"> 'big-barracuda'</span> - Created task run 'process_pool_vol-f3874c79-13' for task 'process_pool_vol'\n",
       "</pre>\n"
      ],
      "text/plain": [
       "18:37:50.281 | \u001b[36mINFO\u001b[0m    | Flow run\u001b[35m 'big-barracuda'\u001b[0m - Created task run 'process_pool_vol-f3874c79-13' for task 'process_pool_vol'\n"
      ]
     },
     "metadata": {},
     "output_type": "display_data"
    },
    {
     "data": {
      "text/html": [
       "<pre style=\"white-space:pre;overflow-x:auto;line-height:normal;font-family:Menlo,'DejaVu Sans Mono',consolas,'Courier New',monospace\">18:37:50.282 | <span style=\"color: #008080; text-decoration-color: #008080\">INFO</span>    | Flow run<span style=\"color: #800080; text-decoration-color: #800080\"> 'big-barracuda'</span> - Executing 'process_pool_vol-f3874c79-13' immediately...\n",
       "</pre>\n"
      ],
      "text/plain": [
       "18:37:50.282 | \u001b[36mINFO\u001b[0m    | Flow run\u001b[35m 'big-barracuda'\u001b[0m - Executing 'process_pool_vol-f3874c79-13' immediately...\n"
      ]
     },
     "metadata": {},
     "output_type": "display_data"
    },
    {
     "data": {
      "text/html": [
       "<pre style=\"white-space:pre;overflow-x:auto;line-height:normal;font-family:Menlo,'DejaVu Sans Mono',consolas,'Courier New',monospace\">18:37:50.305 | <span style=\"color: #008080; text-decoration-color: #008080\">INFO</span>    | Task run 'process_pool_vol-f3874c79-13' - Finished in state <span style=\"color: #008000; text-decoration-color: #008000\">Completed</span>()\n",
       "</pre>\n"
      ],
      "text/plain": [
       "18:37:50.305 | \u001b[36mINFO\u001b[0m    | Task run 'process_pool_vol-f3874c79-13' - Finished in state \u001b[32mCompleted\u001b[0m()\n"
      ]
     },
     "metadata": {},
     "output_type": "display_data"
    },
    {
     "data": {
      "text/html": [
       "<pre style=\"white-space:pre;overflow-x:auto;line-height:normal;font-family:Menlo,'DejaVu Sans Mono',consolas,'Courier New',monospace\">18:37:50.315 | <span style=\"color: #008080; text-decoration-color: #008080\">INFO</span>    | Flow run<span style=\"color: #800080; text-decoration-color: #800080\"> 'big-barracuda'</span> - Created task run 'process_pool_vol-f3874c79-14' for task 'process_pool_vol'\n",
       "</pre>\n"
      ],
      "text/plain": [
       "18:37:50.315 | \u001b[36mINFO\u001b[0m    | Flow run\u001b[35m 'big-barracuda'\u001b[0m - Created task run 'process_pool_vol-f3874c79-14' for task 'process_pool_vol'\n"
      ]
     },
     "metadata": {},
     "output_type": "display_data"
    },
    {
     "data": {
      "text/html": [
       "<pre style=\"white-space:pre;overflow-x:auto;line-height:normal;font-family:Menlo,'DejaVu Sans Mono',consolas,'Courier New',monospace\">18:37:50.316 | <span style=\"color: #008080; text-decoration-color: #008080\">INFO</span>    | Flow run<span style=\"color: #800080; text-decoration-color: #800080\"> 'big-barracuda'</span> - Executing 'process_pool_vol-f3874c79-14' immediately...\n",
       "</pre>\n"
      ],
      "text/plain": [
       "18:37:50.316 | \u001b[36mINFO\u001b[0m    | Flow run\u001b[35m 'big-barracuda'\u001b[0m - Executing 'process_pool_vol-f3874c79-14' immediately...\n"
      ]
     },
     "metadata": {},
     "output_type": "display_data"
    },
    {
     "data": {
      "text/html": [
       "<pre style=\"white-space:pre;overflow-x:auto;line-height:normal;font-family:Menlo,'DejaVu Sans Mono',consolas,'Courier New',monospace\">18:37:50.339 | <span style=\"color: #008080; text-decoration-color: #008080\">INFO</span>    | Task run 'process_pool_vol-f3874c79-14' - Finished in state <span style=\"color: #008000; text-decoration-color: #008000\">Completed</span>()\n",
       "</pre>\n"
      ],
      "text/plain": [
       "18:37:50.339 | \u001b[36mINFO\u001b[0m    | Task run 'process_pool_vol-f3874c79-14' - Finished in state \u001b[32mCompleted\u001b[0m()\n"
      ]
     },
     "metadata": {},
     "output_type": "display_data"
    },
    {
     "data": {
      "text/html": [
       "<pre style=\"white-space:pre;overflow-x:auto;line-height:normal;font-family:Menlo,'DejaVu Sans Mono',consolas,'Courier New',monospace\">18:37:50.349 | <span style=\"color: #008080; text-decoration-color: #008080\">INFO</span>    | Flow run<span style=\"color: #800080; text-decoration-color: #800080\"> 'big-barracuda'</span> - Created task run 'process_pool_vol-f3874c79-15' for task 'process_pool_vol'\n",
       "</pre>\n"
      ],
      "text/plain": [
       "18:37:50.349 | \u001b[36mINFO\u001b[0m    | Flow run\u001b[35m 'big-barracuda'\u001b[0m - Created task run 'process_pool_vol-f3874c79-15' for task 'process_pool_vol'\n"
      ]
     },
     "metadata": {},
     "output_type": "display_data"
    },
    {
     "data": {
      "text/html": [
       "<pre style=\"white-space:pre;overflow-x:auto;line-height:normal;font-family:Menlo,'DejaVu Sans Mono',consolas,'Courier New',monospace\">18:37:50.349 | <span style=\"color: #008080; text-decoration-color: #008080\">INFO</span>    | Flow run<span style=\"color: #800080; text-decoration-color: #800080\"> 'big-barracuda'</span> - Executing 'process_pool_vol-f3874c79-15' immediately...\n",
       "</pre>\n"
      ],
      "text/plain": [
       "18:37:50.349 | \u001b[36mINFO\u001b[0m    | Flow run\u001b[35m 'big-barracuda'\u001b[0m - Executing 'process_pool_vol-f3874c79-15' immediately...\n"
      ]
     },
     "metadata": {},
     "output_type": "display_data"
    },
    {
     "data": {
      "text/html": [
       "<pre style=\"white-space:pre;overflow-x:auto;line-height:normal;font-family:Menlo,'DejaVu Sans Mono',consolas,'Courier New',monospace\">18:37:50.372 | <span style=\"color: #008080; text-decoration-color: #008080\">INFO</span>    | Task run 'process_pool_vol-f3874c79-15' - Finished in state <span style=\"color: #008000; text-decoration-color: #008000\">Completed</span>()\n",
       "</pre>\n"
      ],
      "text/plain": [
       "18:37:50.372 | \u001b[36mINFO\u001b[0m    | Task run 'process_pool_vol-f3874c79-15' - Finished in state \u001b[32mCompleted\u001b[0m()\n"
      ]
     },
     "metadata": {},
     "output_type": "display_data"
    },
    {
     "data": {
      "text/html": [
       "<pre style=\"white-space:pre;overflow-x:auto;line-height:normal;font-family:Menlo,'DejaVu Sans Mono',consolas,'Courier New',monospace\">18:37:50.382 | <span style=\"color: #008080; text-decoration-color: #008080\">INFO</span>    | Flow run<span style=\"color: #800080; text-decoration-color: #800080\"> 'big-barracuda'</span> - Created task run 'process_pool_vol-f3874c79-16' for task 'process_pool_vol'\n",
       "</pre>\n"
      ],
      "text/plain": [
       "18:37:50.382 | \u001b[36mINFO\u001b[0m    | Flow run\u001b[35m 'big-barracuda'\u001b[0m - Created task run 'process_pool_vol-f3874c79-16' for task 'process_pool_vol'\n"
      ]
     },
     "metadata": {},
     "output_type": "display_data"
    },
    {
     "data": {
      "text/html": [
       "<pre style=\"white-space:pre;overflow-x:auto;line-height:normal;font-family:Menlo,'DejaVu Sans Mono',consolas,'Courier New',monospace\">18:37:50.383 | <span style=\"color: #008080; text-decoration-color: #008080\">INFO</span>    | Flow run<span style=\"color: #800080; text-decoration-color: #800080\"> 'big-barracuda'</span> - Executing 'process_pool_vol-f3874c79-16' immediately...\n",
       "</pre>\n"
      ],
      "text/plain": [
       "18:37:50.383 | \u001b[36mINFO\u001b[0m    | Flow run\u001b[35m 'big-barracuda'\u001b[0m - Executing 'process_pool_vol-f3874c79-16' immediately...\n"
      ]
     },
     "metadata": {},
     "output_type": "display_data"
    },
    {
     "data": {
      "text/html": [
       "<pre style=\"white-space:pre;overflow-x:auto;line-height:normal;font-family:Menlo,'DejaVu Sans Mono',consolas,'Courier New',monospace\">18:37:50.406 | <span style=\"color: #008080; text-decoration-color: #008080\">INFO</span>    | Task run 'process_pool_vol-f3874c79-16' - Finished in state <span style=\"color: #008000; text-decoration-color: #008000\">Completed</span>()\n",
       "</pre>\n"
      ],
      "text/plain": [
       "18:37:50.406 | \u001b[36mINFO\u001b[0m    | Task run 'process_pool_vol-f3874c79-16' - Finished in state \u001b[32mCompleted\u001b[0m()\n"
      ]
     },
     "metadata": {},
     "output_type": "display_data"
    },
    {
     "data": {
      "text/html": [
       "<pre style=\"white-space:pre;overflow-x:auto;line-height:normal;font-family:Menlo,'DejaVu Sans Mono',consolas,'Courier New',monospace\">18:37:50.432 | <span style=\"color: #008080; text-decoration-color: #008080\">INFO</span>    | Flow run<span style=\"color: #800080; text-decoration-color: #800080\"> 'big-barracuda'</span> - Created task run 'process_pool_vol-f3874c79-17' for task 'process_pool_vol'\n",
       "</pre>\n"
      ],
      "text/plain": [
       "18:37:50.432 | \u001b[36mINFO\u001b[0m    | Flow run\u001b[35m 'big-barracuda'\u001b[0m - Created task run 'process_pool_vol-f3874c79-17' for task 'process_pool_vol'\n"
      ]
     },
     "metadata": {},
     "output_type": "display_data"
    },
    {
     "data": {
      "text/html": [
       "<pre style=\"white-space:pre;overflow-x:auto;line-height:normal;font-family:Menlo,'DejaVu Sans Mono',consolas,'Courier New',monospace\">18:37:50.433 | <span style=\"color: #008080; text-decoration-color: #008080\">INFO</span>    | Flow run<span style=\"color: #800080; text-decoration-color: #800080\"> 'big-barracuda'</span> - Executing 'process_pool_vol-f3874c79-17' immediately...\n",
       "</pre>\n"
      ],
      "text/plain": [
       "18:37:50.433 | \u001b[36mINFO\u001b[0m    | Flow run\u001b[35m 'big-barracuda'\u001b[0m - Executing 'process_pool_vol-f3874c79-17' immediately...\n"
      ]
     },
     "metadata": {},
     "output_type": "display_data"
    },
    {
     "data": {
      "text/html": [
       "<pre style=\"white-space:pre;overflow-x:auto;line-height:normal;font-family:Menlo,'DejaVu Sans Mono',consolas,'Courier New',monospace\">18:37:50.458 | <span style=\"color: #008080; text-decoration-color: #008080\">INFO</span>    | Task run 'process_pool_vol-f3874c79-17' - Finished in state <span style=\"color: #008000; text-decoration-color: #008000\">Completed</span>()\n",
       "</pre>\n"
      ],
      "text/plain": [
       "18:37:50.458 | \u001b[36mINFO\u001b[0m    | Task run 'process_pool_vol-f3874c79-17' - Finished in state \u001b[32mCompleted\u001b[0m()\n"
      ]
     },
     "metadata": {},
     "output_type": "display_data"
    },
    {
     "data": {
      "text/html": [
       "<pre style=\"white-space:pre;overflow-x:auto;line-height:normal;font-family:Menlo,'DejaVu Sans Mono',consolas,'Courier New',monospace\">18:37:50.469 | <span style=\"color: #008080; text-decoration-color: #008080\">INFO</span>    | Flow run<span style=\"color: #800080; text-decoration-color: #800080\"> 'big-barracuda'</span> - Created task run 'process_pool_vol-f3874c79-18' for task 'process_pool_vol'\n",
       "</pre>\n"
      ],
      "text/plain": [
       "18:37:50.469 | \u001b[36mINFO\u001b[0m    | Flow run\u001b[35m 'big-barracuda'\u001b[0m - Created task run 'process_pool_vol-f3874c79-18' for task 'process_pool_vol'\n"
      ]
     },
     "metadata": {},
     "output_type": "display_data"
    },
    {
     "data": {
      "text/html": [
       "<pre style=\"white-space:pre;overflow-x:auto;line-height:normal;font-family:Menlo,'DejaVu Sans Mono',consolas,'Courier New',monospace\">18:37:50.470 | <span style=\"color: #008080; text-decoration-color: #008080\">INFO</span>    | Flow run<span style=\"color: #800080; text-decoration-color: #800080\"> 'big-barracuda'</span> - Executing 'process_pool_vol-f3874c79-18' immediately...\n",
       "</pre>\n"
      ],
      "text/plain": [
       "18:37:50.470 | \u001b[36mINFO\u001b[0m    | Flow run\u001b[35m 'big-barracuda'\u001b[0m - Executing 'process_pool_vol-f3874c79-18' immediately...\n"
      ]
     },
     "metadata": {},
     "output_type": "display_data"
    },
    {
     "data": {
      "text/html": [
       "<pre style=\"white-space:pre;overflow-x:auto;line-height:normal;font-family:Menlo,'DejaVu Sans Mono',consolas,'Courier New',monospace\">18:37:50.494 | <span style=\"color: #008080; text-decoration-color: #008080\">INFO</span>    | Task run 'process_pool_vol-f3874c79-18' - Finished in state <span style=\"color: #008000; text-decoration-color: #008000\">Completed</span>()\n",
       "</pre>\n"
      ],
      "text/plain": [
       "18:37:50.494 | \u001b[36mINFO\u001b[0m    | Task run 'process_pool_vol-f3874c79-18' - Finished in state \u001b[32mCompleted\u001b[0m()\n"
      ]
     },
     "metadata": {},
     "output_type": "display_data"
    },
    {
     "data": {
      "text/html": [
       "<pre style=\"white-space:pre;overflow-x:auto;line-height:normal;font-family:Menlo,'DejaVu Sans Mono',consolas,'Courier New',monospace\">18:37:50.504 | <span style=\"color: #008080; text-decoration-color: #008080\">INFO</span>    | Flow run<span style=\"color: #800080; text-decoration-color: #800080\"> 'big-barracuda'</span> - Created task run 'process_pool_vol-f3874c79-19' for task 'process_pool_vol'\n",
       "</pre>\n"
      ],
      "text/plain": [
       "18:37:50.504 | \u001b[36mINFO\u001b[0m    | Flow run\u001b[35m 'big-barracuda'\u001b[0m - Created task run 'process_pool_vol-f3874c79-19' for task 'process_pool_vol'\n"
      ]
     },
     "metadata": {},
     "output_type": "display_data"
    },
    {
     "data": {
      "text/html": [
       "<pre style=\"white-space:pre;overflow-x:auto;line-height:normal;font-family:Menlo,'DejaVu Sans Mono',consolas,'Courier New',monospace\">18:37:50.504 | <span style=\"color: #008080; text-decoration-color: #008080\">INFO</span>    | Flow run<span style=\"color: #800080; text-decoration-color: #800080\"> 'big-barracuda'</span> - Executing 'process_pool_vol-f3874c79-19' immediately...\n",
       "</pre>\n"
      ],
      "text/plain": [
       "18:37:50.504 | \u001b[36mINFO\u001b[0m    | Flow run\u001b[35m 'big-barracuda'\u001b[0m - Executing 'process_pool_vol-f3874c79-19' immediately...\n"
      ]
     },
     "metadata": {},
     "output_type": "display_data"
    },
    {
     "data": {
      "text/html": [
       "<pre style=\"white-space:pre;overflow-x:auto;line-height:normal;font-family:Menlo,'DejaVu Sans Mono',consolas,'Courier New',monospace\">18:37:50.527 | <span style=\"color: #008080; text-decoration-color: #008080\">INFO</span>    | Task run 'process_pool_vol-f3874c79-19' - Finished in state <span style=\"color: #008000; text-decoration-color: #008000\">Completed</span>()\n",
       "</pre>\n"
      ],
      "text/plain": [
       "18:37:50.527 | \u001b[36mINFO\u001b[0m    | Task run 'process_pool_vol-f3874c79-19' - Finished in state \u001b[32mCompleted\u001b[0m()\n"
      ]
     },
     "metadata": {},
     "output_type": "display_data"
    },
    {
     "data": {
      "text/html": [
       "<pre style=\"white-space:pre;overflow-x:auto;line-height:normal;font-family:Menlo,'DejaVu Sans Mono',consolas,'Courier New',monospace\">18:37:50.537 | <span style=\"color: #008080; text-decoration-color: #008080\">INFO</span>    | Flow run<span style=\"color: #800080; text-decoration-color: #800080\"> 'big-barracuda'</span> - Created task run 'process_pool_vol-f3874c79-20' for task 'process_pool_vol'\n",
       "</pre>\n"
      ],
      "text/plain": [
       "18:37:50.537 | \u001b[36mINFO\u001b[0m    | Flow run\u001b[35m 'big-barracuda'\u001b[0m - Created task run 'process_pool_vol-f3874c79-20' for task 'process_pool_vol'\n"
      ]
     },
     "metadata": {},
     "output_type": "display_data"
    },
    {
     "data": {
      "text/html": [
       "<pre style=\"white-space:pre;overflow-x:auto;line-height:normal;font-family:Menlo,'DejaVu Sans Mono',consolas,'Courier New',monospace\">18:37:50.537 | <span style=\"color: #008080; text-decoration-color: #008080\">INFO</span>    | Flow run<span style=\"color: #800080; text-decoration-color: #800080\"> 'big-barracuda'</span> - Executing 'process_pool_vol-f3874c79-20' immediately...\n",
       "</pre>\n"
      ],
      "text/plain": [
       "18:37:50.537 | \u001b[36mINFO\u001b[0m    | Flow run\u001b[35m 'big-barracuda'\u001b[0m - Executing 'process_pool_vol-f3874c79-20' immediately...\n"
      ]
     },
     "metadata": {},
     "output_type": "display_data"
    },
    {
     "data": {
      "text/html": [
       "<pre style=\"white-space:pre;overflow-x:auto;line-height:normal;font-family:Menlo,'DejaVu Sans Mono',consolas,'Courier New',monospace\">18:37:50.561 | <span style=\"color: #008080; text-decoration-color: #008080\">INFO</span>    | Task run 'process_pool_vol-f3874c79-20' - Finished in state <span style=\"color: #008000; text-decoration-color: #008000\">Completed</span>()\n",
       "</pre>\n"
      ],
      "text/plain": [
       "18:37:50.561 | \u001b[36mINFO\u001b[0m    | Task run 'process_pool_vol-f3874c79-20' - Finished in state \u001b[32mCompleted\u001b[0m()\n"
      ]
     },
     "metadata": {},
     "output_type": "display_data"
    },
    {
     "data": {
      "text/html": [
       "<pre style=\"white-space:pre;overflow-x:auto;line-height:normal;font-family:Menlo,'DejaVu Sans Mono',consolas,'Courier New',monospace\">18:37:50.571 | <span style=\"color: #008080; text-decoration-color: #008080\">INFO</span>    | Flow run<span style=\"color: #800080; text-decoration-color: #800080\"> 'big-barracuda'</span> - Created task run 'process_pool_vol-f3874c79-21' for task 'process_pool_vol'\n",
       "</pre>\n"
      ],
      "text/plain": [
       "18:37:50.571 | \u001b[36mINFO\u001b[0m    | Flow run\u001b[35m 'big-barracuda'\u001b[0m - Created task run 'process_pool_vol-f3874c79-21' for task 'process_pool_vol'\n"
      ]
     },
     "metadata": {},
     "output_type": "display_data"
    },
    {
     "data": {
      "text/html": [
       "<pre style=\"white-space:pre;overflow-x:auto;line-height:normal;font-family:Menlo,'DejaVu Sans Mono',consolas,'Courier New',monospace\">18:37:50.572 | <span style=\"color: #008080; text-decoration-color: #008080\">INFO</span>    | Flow run<span style=\"color: #800080; text-decoration-color: #800080\"> 'big-barracuda'</span> - Executing 'process_pool_vol-f3874c79-21' immediately...\n",
       "</pre>\n"
      ],
      "text/plain": [
       "18:37:50.572 | \u001b[36mINFO\u001b[0m    | Flow run\u001b[35m 'big-barracuda'\u001b[0m - Executing 'process_pool_vol-f3874c79-21' immediately...\n"
      ]
     },
     "metadata": {},
     "output_type": "display_data"
    },
    {
     "data": {
      "text/html": [
       "<pre style=\"white-space:pre;overflow-x:auto;line-height:normal;font-family:Menlo,'DejaVu Sans Mono',consolas,'Courier New',monospace\">18:37:50.596 | <span style=\"color: #008080; text-decoration-color: #008080\">INFO</span>    | Task run 'process_pool_vol-f3874c79-21' - Finished in state <span style=\"color: #008000; text-decoration-color: #008000\">Completed</span>()\n",
       "</pre>\n"
      ],
      "text/plain": [
       "18:37:50.596 | \u001b[36mINFO\u001b[0m    | Task run 'process_pool_vol-f3874c79-21' - Finished in state \u001b[32mCompleted\u001b[0m()\n"
      ]
     },
     "metadata": {},
     "output_type": "display_data"
    },
    {
     "data": {
      "text/html": [
       "<pre style=\"white-space:pre;overflow-x:auto;line-height:normal;font-family:Menlo,'DejaVu Sans Mono',consolas,'Courier New',monospace\">18:37:50.605 | <span style=\"color: #008080; text-decoration-color: #008080\">INFO</span>    | Flow run<span style=\"color: #800080; text-decoration-color: #800080\"> 'big-barracuda'</span> - Created task run 'process_pool_vol-f3874c79-22' for task 'process_pool_vol'\n",
       "</pre>\n"
      ],
      "text/plain": [
       "18:37:50.605 | \u001b[36mINFO\u001b[0m    | Flow run\u001b[35m 'big-barracuda'\u001b[0m - Created task run 'process_pool_vol-f3874c79-22' for task 'process_pool_vol'\n"
      ]
     },
     "metadata": {},
     "output_type": "display_data"
    },
    {
     "data": {
      "text/html": [
       "<pre style=\"white-space:pre;overflow-x:auto;line-height:normal;font-family:Menlo,'DejaVu Sans Mono',consolas,'Courier New',monospace\">18:37:50.606 | <span style=\"color: #008080; text-decoration-color: #008080\">INFO</span>    | Flow run<span style=\"color: #800080; text-decoration-color: #800080\"> 'big-barracuda'</span> - Executing 'process_pool_vol-f3874c79-22' immediately...\n",
       "</pre>\n"
      ],
      "text/plain": [
       "18:37:50.606 | \u001b[36mINFO\u001b[0m    | Flow run\u001b[35m 'big-barracuda'\u001b[0m - Executing 'process_pool_vol-f3874c79-22' immediately...\n"
      ]
     },
     "metadata": {},
     "output_type": "display_data"
    },
    {
     "data": {
      "text/html": [
       "<pre style=\"white-space:pre;overflow-x:auto;line-height:normal;font-family:Menlo,'DejaVu Sans Mono',consolas,'Courier New',monospace\">18:37:50.629 | <span style=\"color: #008080; text-decoration-color: #008080\">INFO</span>    | Task run 'process_pool_vol-f3874c79-22' - Finished in state <span style=\"color: #008000; text-decoration-color: #008000\">Completed</span>()\n",
       "</pre>\n"
      ],
      "text/plain": [
       "18:37:50.629 | \u001b[36mINFO\u001b[0m    | Task run 'process_pool_vol-f3874c79-22' - Finished in state \u001b[32mCompleted\u001b[0m()\n"
      ]
     },
     "metadata": {},
     "output_type": "display_data"
    },
    {
     "data": {
      "text/html": [
       "<pre style=\"white-space:pre;overflow-x:auto;line-height:normal;font-family:Menlo,'DejaVu Sans Mono',consolas,'Courier New',monospace\">18:37:50.639 | <span style=\"color: #008080; text-decoration-color: #008080\">INFO</span>    | Flow run<span style=\"color: #800080; text-decoration-color: #800080\"> 'big-barracuda'</span> - Created task run 'process_pool_vol-f3874c79-23' for task 'process_pool_vol'\n",
       "</pre>\n"
      ],
      "text/plain": [
       "18:37:50.639 | \u001b[36mINFO\u001b[0m    | Flow run\u001b[35m 'big-barracuda'\u001b[0m - Created task run 'process_pool_vol-f3874c79-23' for task 'process_pool_vol'\n"
      ]
     },
     "metadata": {},
     "output_type": "display_data"
    },
    {
     "data": {
      "text/html": [
       "<pre style=\"white-space:pre;overflow-x:auto;line-height:normal;font-family:Menlo,'DejaVu Sans Mono',consolas,'Courier New',monospace\">18:37:50.640 | <span style=\"color: #008080; text-decoration-color: #008080\">INFO</span>    | Flow run<span style=\"color: #800080; text-decoration-color: #800080\"> 'big-barracuda'</span> - Executing 'process_pool_vol-f3874c79-23' immediately...\n",
       "</pre>\n"
      ],
      "text/plain": [
       "18:37:50.640 | \u001b[36mINFO\u001b[0m    | Flow run\u001b[35m 'big-barracuda'\u001b[0m - Executing 'process_pool_vol-f3874c79-23' immediately...\n"
      ]
     },
     "metadata": {},
     "output_type": "display_data"
    },
    {
     "data": {
      "text/html": [
       "<pre style=\"white-space:pre;overflow-x:auto;line-height:normal;font-family:Menlo,'DejaVu Sans Mono',consolas,'Courier New',monospace\">18:37:50.664 | <span style=\"color: #008080; text-decoration-color: #008080\">INFO</span>    | Task run 'process_pool_vol-f3874c79-23' - Finished in state <span style=\"color: #008000; text-decoration-color: #008000\">Completed</span>()\n",
       "</pre>\n"
      ],
      "text/plain": [
       "18:37:50.664 | \u001b[36mINFO\u001b[0m    | Task run 'process_pool_vol-f3874c79-23' - Finished in state \u001b[32mCompleted\u001b[0m()\n"
      ]
     },
     "metadata": {},
     "output_type": "display_data"
    },
    {
     "data": {
      "text/html": [
       "<pre style=\"white-space:pre;overflow-x:auto;line-height:normal;font-family:Menlo,'DejaVu Sans Mono',consolas,'Courier New',monospace\">18:37:50.674 | <span style=\"color: #008080; text-decoration-color: #008080\">INFO</span>    | Flow run<span style=\"color: #800080; text-decoration-color: #800080\"> 'big-barracuda'</span> - Created task run 'process_pool_vol-f3874c79-24' for task 'process_pool_vol'\n",
       "</pre>\n"
      ],
      "text/plain": [
       "18:37:50.674 | \u001b[36mINFO\u001b[0m    | Flow run\u001b[35m 'big-barracuda'\u001b[0m - Created task run 'process_pool_vol-f3874c79-24' for task 'process_pool_vol'\n"
      ]
     },
     "metadata": {},
     "output_type": "display_data"
    },
    {
     "data": {
      "text/html": [
       "<pre style=\"white-space:pre;overflow-x:auto;line-height:normal;font-family:Menlo,'DejaVu Sans Mono',consolas,'Courier New',monospace\">18:37:50.675 | <span style=\"color: #008080; text-decoration-color: #008080\">INFO</span>    | Flow run<span style=\"color: #800080; text-decoration-color: #800080\"> 'big-barracuda'</span> - Executing 'process_pool_vol-f3874c79-24' immediately...\n",
       "</pre>\n"
      ],
      "text/plain": [
       "18:37:50.675 | \u001b[36mINFO\u001b[0m    | Flow run\u001b[35m 'big-barracuda'\u001b[0m - Executing 'process_pool_vol-f3874c79-24' immediately...\n"
      ]
     },
     "metadata": {},
     "output_type": "display_data"
    },
    {
     "data": {
      "text/html": [
       "<pre style=\"white-space:pre;overflow-x:auto;line-height:normal;font-family:Menlo,'DejaVu Sans Mono',consolas,'Courier New',monospace\">18:37:50.698 | <span style=\"color: #008080; text-decoration-color: #008080\">INFO</span>    | Task run 'process_pool_vol-f3874c79-24' - Finished in state <span style=\"color: #008000; text-decoration-color: #008000\">Completed</span>()\n",
       "</pre>\n"
      ],
      "text/plain": [
       "18:37:50.698 | \u001b[36mINFO\u001b[0m    | Task run 'process_pool_vol-f3874c79-24' - Finished in state \u001b[32mCompleted\u001b[0m()\n"
      ]
     },
     "metadata": {},
     "output_type": "display_data"
    },
    {
     "data": {
      "text/html": [
       "<pre style=\"white-space:pre;overflow-x:auto;line-height:normal;font-family:Menlo,'DejaVu Sans Mono',consolas,'Courier New',monospace\">18:37:50.709 | <span style=\"color: #008080; text-decoration-color: #008080\">INFO</span>    | Flow run<span style=\"color: #800080; text-decoration-color: #800080\"> 'big-barracuda'</span> - Created task run 'process_pool_vol-f3874c79-25' for task 'process_pool_vol'\n",
       "</pre>\n"
      ],
      "text/plain": [
       "18:37:50.709 | \u001b[36mINFO\u001b[0m    | Flow run\u001b[35m 'big-barracuda'\u001b[0m - Created task run 'process_pool_vol-f3874c79-25' for task 'process_pool_vol'\n"
      ]
     },
     "metadata": {},
     "output_type": "display_data"
    },
    {
     "data": {
      "text/html": [
       "<pre style=\"white-space:pre;overflow-x:auto;line-height:normal;font-family:Menlo,'DejaVu Sans Mono',consolas,'Courier New',monospace\">18:37:50.709 | <span style=\"color: #008080; text-decoration-color: #008080\">INFO</span>    | Flow run<span style=\"color: #800080; text-decoration-color: #800080\"> 'big-barracuda'</span> - Executing 'process_pool_vol-f3874c79-25' immediately...\n",
       "</pre>\n"
      ],
      "text/plain": [
       "18:37:50.709 | \u001b[36mINFO\u001b[0m    | Flow run\u001b[35m 'big-barracuda'\u001b[0m - Executing 'process_pool_vol-f3874c79-25' immediately...\n"
      ]
     },
     "metadata": {},
     "output_type": "display_data"
    },
    {
     "data": {
      "text/html": [
       "<pre style=\"white-space:pre;overflow-x:auto;line-height:normal;font-family:Menlo,'DejaVu Sans Mono',consolas,'Courier New',monospace\">18:37:50.732 | <span style=\"color: #008080; text-decoration-color: #008080\">INFO</span>    | Task run 'process_pool_vol-f3874c79-25' - Finished in state <span style=\"color: #008000; text-decoration-color: #008000\">Completed</span>()\n",
       "</pre>\n"
      ],
      "text/plain": [
       "18:37:50.732 | \u001b[36mINFO\u001b[0m    | Task run 'process_pool_vol-f3874c79-25' - Finished in state \u001b[32mCompleted\u001b[0m()\n"
      ]
     },
     "metadata": {},
     "output_type": "display_data"
    },
    {
     "data": {
      "text/html": [
       "<pre style=\"white-space:pre;overflow-x:auto;line-height:normal;font-family:Menlo,'DejaVu Sans Mono',consolas,'Courier New',monospace\">18:37:50.742 | <span style=\"color: #008080; text-decoration-color: #008080\">INFO</span>    | Flow run<span style=\"color: #800080; text-decoration-color: #800080\"> 'big-barracuda'</span> - Created task run 'process_pool_vol-f3874c79-26' for task 'process_pool_vol'\n",
       "</pre>\n"
      ],
      "text/plain": [
       "18:37:50.742 | \u001b[36mINFO\u001b[0m    | Flow run\u001b[35m 'big-barracuda'\u001b[0m - Created task run 'process_pool_vol-f3874c79-26' for task 'process_pool_vol'\n"
      ]
     },
     "metadata": {},
     "output_type": "display_data"
    },
    {
     "data": {
      "text/html": [
       "<pre style=\"white-space:pre;overflow-x:auto;line-height:normal;font-family:Menlo,'DejaVu Sans Mono',consolas,'Courier New',monospace\">18:37:50.743 | <span style=\"color: #008080; text-decoration-color: #008080\">INFO</span>    | Flow run<span style=\"color: #800080; text-decoration-color: #800080\"> 'big-barracuda'</span> - Executing 'process_pool_vol-f3874c79-26' immediately...\n",
       "</pre>\n"
      ],
      "text/plain": [
       "18:37:50.743 | \u001b[36mINFO\u001b[0m    | Flow run\u001b[35m 'big-barracuda'\u001b[0m - Executing 'process_pool_vol-f3874c79-26' immediately...\n"
      ]
     },
     "metadata": {},
     "output_type": "display_data"
    },
    {
     "data": {
      "text/html": [
       "<pre style=\"white-space:pre;overflow-x:auto;line-height:normal;font-family:Menlo,'DejaVu Sans Mono',consolas,'Courier New',monospace\">18:37:50.767 | <span style=\"color: #008080; text-decoration-color: #008080\">INFO</span>    | Task run 'process_pool_vol-f3874c79-26' - Finished in state <span style=\"color: #008000; text-decoration-color: #008000\">Completed</span>()\n",
       "</pre>\n"
      ],
      "text/plain": [
       "18:37:50.767 | \u001b[36mINFO\u001b[0m    | Task run 'process_pool_vol-f3874c79-26' - Finished in state \u001b[32mCompleted\u001b[0m()\n"
      ]
     },
     "metadata": {},
     "output_type": "display_data"
    },
    {
     "data": {
      "text/html": [
       "<pre style=\"white-space:pre;overflow-x:auto;line-height:normal;font-family:Menlo,'DejaVu Sans Mono',consolas,'Courier New',monospace\">18:37:50.777 | <span style=\"color: #008080; text-decoration-color: #008080\">INFO</span>    | Flow run<span style=\"color: #800080; text-decoration-color: #800080\"> 'big-barracuda'</span> - Created task run 'process_pool_vol-f3874c79-27' for task 'process_pool_vol'\n",
       "</pre>\n"
      ],
      "text/plain": [
       "18:37:50.777 | \u001b[36mINFO\u001b[0m    | Flow run\u001b[35m 'big-barracuda'\u001b[0m - Created task run 'process_pool_vol-f3874c79-27' for task 'process_pool_vol'\n"
      ]
     },
     "metadata": {},
     "output_type": "display_data"
    },
    {
     "data": {
      "text/html": [
       "<pre style=\"white-space:pre;overflow-x:auto;line-height:normal;font-family:Menlo,'DejaVu Sans Mono',consolas,'Courier New',monospace\">18:37:50.778 | <span style=\"color: #008080; text-decoration-color: #008080\">INFO</span>    | Flow run<span style=\"color: #800080; text-decoration-color: #800080\"> 'big-barracuda'</span> - Executing 'process_pool_vol-f3874c79-27' immediately...\n",
       "</pre>\n"
      ],
      "text/plain": [
       "18:37:50.778 | \u001b[36mINFO\u001b[0m    | Flow run\u001b[35m 'big-barracuda'\u001b[0m - Executing 'process_pool_vol-f3874c79-27' immediately...\n"
      ]
     },
     "metadata": {},
     "output_type": "display_data"
    },
    {
     "data": {
      "text/html": [
       "<pre style=\"white-space:pre;overflow-x:auto;line-height:normal;font-family:Menlo,'DejaVu Sans Mono',consolas,'Courier New',monospace\">18:37:50.802 | <span style=\"color: #008080; text-decoration-color: #008080\">INFO</span>    | Task run 'process_pool_vol-f3874c79-27' - Finished in state <span style=\"color: #008000; text-decoration-color: #008000\">Completed</span>()\n",
       "</pre>\n"
      ],
      "text/plain": [
       "18:37:50.802 | \u001b[36mINFO\u001b[0m    | Task run 'process_pool_vol-f3874c79-27' - Finished in state \u001b[32mCompleted\u001b[0m()\n"
      ]
     },
     "metadata": {},
     "output_type": "display_data"
    },
    {
     "data": {
      "text/html": [
       "<pre style=\"white-space:pre;overflow-x:auto;line-height:normal;font-family:Menlo,'DejaVu Sans Mono',consolas,'Courier New',monospace\">18:37:50.812 | <span style=\"color: #008080; text-decoration-color: #008080\">INFO</span>    | Flow run<span style=\"color: #800080; text-decoration-color: #800080\"> 'big-barracuda'</span> - Created task run 'process_pool_vol-f3874c79-28' for task 'process_pool_vol'\n",
       "</pre>\n"
      ],
      "text/plain": [
       "18:37:50.812 | \u001b[36mINFO\u001b[0m    | Flow run\u001b[35m 'big-barracuda'\u001b[0m - Created task run 'process_pool_vol-f3874c79-28' for task 'process_pool_vol'\n"
      ]
     },
     "metadata": {},
     "output_type": "display_data"
    },
    {
     "data": {
      "text/html": [
       "<pre style=\"white-space:pre;overflow-x:auto;line-height:normal;font-family:Menlo,'DejaVu Sans Mono',consolas,'Courier New',monospace\">18:37:50.813 | <span style=\"color: #008080; text-decoration-color: #008080\">INFO</span>    | Flow run<span style=\"color: #800080; text-decoration-color: #800080\"> 'big-barracuda'</span> - Executing 'process_pool_vol-f3874c79-28' immediately...\n",
       "</pre>\n"
      ],
      "text/plain": [
       "18:37:50.813 | \u001b[36mINFO\u001b[0m    | Flow run\u001b[35m 'big-barracuda'\u001b[0m - Executing 'process_pool_vol-f3874c79-28' immediately...\n"
      ]
     },
     "metadata": {},
     "output_type": "display_data"
    },
    {
     "data": {
      "text/html": [
       "<pre style=\"white-space:pre;overflow-x:auto;line-height:normal;font-family:Menlo,'DejaVu Sans Mono',consolas,'Courier New',monospace\">18:37:50.849 | <span style=\"color: #008080; text-decoration-color: #008080\">INFO</span>    | Task run 'process_pool_vol-f3874c79-28' - Finished in state <span style=\"color: #008000; text-decoration-color: #008000\">Completed</span>()\n",
       "</pre>\n"
      ],
      "text/plain": [
       "18:37:50.849 | \u001b[36mINFO\u001b[0m    | Task run 'process_pool_vol-f3874c79-28' - Finished in state \u001b[32mCompleted\u001b[0m()\n"
      ]
     },
     "metadata": {},
     "output_type": "display_data"
    },
    {
     "data": {
      "text/html": [
       "<pre style=\"white-space:pre;overflow-x:auto;line-height:normal;font-family:Menlo,'DejaVu Sans Mono',consolas,'Courier New',monospace\">18:37:50.862 | <span style=\"color: #008080; text-decoration-color: #008080\">INFO</span>    | Flow run<span style=\"color: #800080; text-decoration-color: #800080\"> 'big-barracuda'</span> - Created task run 'process_pool_vol-f3874c79-29' for task 'process_pool_vol'\n",
       "</pre>\n"
      ],
      "text/plain": [
       "18:37:50.862 | \u001b[36mINFO\u001b[0m    | Flow run\u001b[35m 'big-barracuda'\u001b[0m - Created task run 'process_pool_vol-f3874c79-29' for task 'process_pool_vol'\n"
      ]
     },
     "metadata": {},
     "output_type": "display_data"
    },
    {
     "data": {
      "text/html": [
       "<pre style=\"white-space:pre;overflow-x:auto;line-height:normal;font-family:Menlo,'DejaVu Sans Mono',consolas,'Courier New',monospace\">18:37:50.863 | <span style=\"color: #008080; text-decoration-color: #008080\">INFO</span>    | Flow run<span style=\"color: #800080; text-decoration-color: #800080\"> 'big-barracuda'</span> - Executing 'process_pool_vol-f3874c79-29' immediately...\n",
       "</pre>\n"
      ],
      "text/plain": [
       "18:37:50.863 | \u001b[36mINFO\u001b[0m    | Flow run\u001b[35m 'big-barracuda'\u001b[0m - Executing 'process_pool_vol-f3874c79-29' immediately...\n"
      ]
     },
     "metadata": {},
     "output_type": "display_data"
    },
    {
     "data": {
      "text/html": [
       "<pre style=\"white-space:pre;overflow-x:auto;line-height:normal;font-family:Menlo,'DejaVu Sans Mono',consolas,'Courier New',monospace\">18:37:50.887 | <span style=\"color: #008080; text-decoration-color: #008080\">INFO</span>    | Task run 'process_pool_vol-f3874c79-29' - Finished in state <span style=\"color: #008000; text-decoration-color: #008000\">Completed</span>()\n",
       "</pre>\n"
      ],
      "text/plain": [
       "18:37:50.887 | \u001b[36mINFO\u001b[0m    | Task run 'process_pool_vol-f3874c79-29' - Finished in state \u001b[32mCompleted\u001b[0m()\n"
      ]
     },
     "metadata": {},
     "output_type": "display_data"
    },
    {
     "data": {
      "text/html": [
       "<pre style=\"white-space:pre;overflow-x:auto;line-height:normal;font-family:Menlo,'DejaVu Sans Mono',consolas,'Courier New',monospace\">18:37:50.897 | <span style=\"color: #008080; text-decoration-color: #008080\">INFO</span>    | Flow run<span style=\"color: #800080; text-decoration-color: #800080\"> 'big-barracuda'</span> - Created task run 'process_pool_vol-f3874c79-30' for task 'process_pool_vol'\n",
       "</pre>\n"
      ],
      "text/plain": [
       "18:37:50.897 | \u001b[36mINFO\u001b[0m    | Flow run\u001b[35m 'big-barracuda'\u001b[0m - Created task run 'process_pool_vol-f3874c79-30' for task 'process_pool_vol'\n"
      ]
     },
     "metadata": {},
     "output_type": "display_data"
    },
    {
     "data": {
      "text/html": [
       "<pre style=\"white-space:pre;overflow-x:auto;line-height:normal;font-family:Menlo,'DejaVu Sans Mono',consolas,'Courier New',monospace\">18:37:50.898 | <span style=\"color: #008080; text-decoration-color: #008080\">INFO</span>    | Flow run<span style=\"color: #800080; text-decoration-color: #800080\"> 'big-barracuda'</span> - Executing 'process_pool_vol-f3874c79-30' immediately...\n",
       "</pre>\n"
      ],
      "text/plain": [
       "18:37:50.898 | \u001b[36mINFO\u001b[0m    | Flow run\u001b[35m 'big-barracuda'\u001b[0m - Executing 'process_pool_vol-f3874c79-30' immediately...\n"
      ]
     },
     "metadata": {},
     "output_type": "display_data"
    },
    {
     "data": {
      "text/html": [
       "<pre style=\"white-space:pre;overflow-x:auto;line-height:normal;font-family:Menlo,'DejaVu Sans Mono',consolas,'Courier New',monospace\">18:37:50.922 | <span style=\"color: #008080; text-decoration-color: #008080\">INFO</span>    | Task run 'process_pool_vol-f3874c79-30' - Finished in state <span style=\"color: #008000; text-decoration-color: #008000\">Completed</span>()\n",
       "</pre>\n"
      ],
      "text/plain": [
       "18:37:50.922 | \u001b[36mINFO\u001b[0m    | Task run 'process_pool_vol-f3874c79-30' - Finished in state \u001b[32mCompleted\u001b[0m()\n"
      ]
     },
     "metadata": {},
     "output_type": "display_data"
    },
    {
     "data": {
      "text/html": [
       "<pre style=\"white-space:pre;overflow-x:auto;line-height:normal;font-family:Menlo,'DejaVu Sans Mono',consolas,'Courier New',monospace\">18:37:50.932 | <span style=\"color: #008080; text-decoration-color: #008080\">INFO</span>    | Flow run<span style=\"color: #800080; text-decoration-color: #800080\"> 'big-barracuda'</span> - Created task run 'process_pool_vol-f3874c79-31' for task 'process_pool_vol'\n",
       "</pre>\n"
      ],
      "text/plain": [
       "18:37:50.932 | \u001b[36mINFO\u001b[0m    | Flow run\u001b[35m 'big-barracuda'\u001b[0m - Created task run 'process_pool_vol-f3874c79-31' for task 'process_pool_vol'\n"
      ]
     },
     "metadata": {},
     "output_type": "display_data"
    },
    {
     "data": {
      "text/html": [
       "<pre style=\"white-space:pre;overflow-x:auto;line-height:normal;font-family:Menlo,'DejaVu Sans Mono',consolas,'Courier New',monospace\">18:37:50.932 | <span style=\"color: #008080; text-decoration-color: #008080\">INFO</span>    | Flow run<span style=\"color: #800080; text-decoration-color: #800080\"> 'big-barracuda'</span> - Executing 'process_pool_vol-f3874c79-31' immediately...\n",
       "</pre>\n"
      ],
      "text/plain": [
       "18:37:50.932 | \u001b[36mINFO\u001b[0m    | Flow run\u001b[35m 'big-barracuda'\u001b[0m - Executing 'process_pool_vol-f3874c79-31' immediately...\n"
      ]
     },
     "metadata": {},
     "output_type": "display_data"
    },
    {
     "data": {
      "text/html": [
       "<pre style=\"white-space:pre;overflow-x:auto;line-height:normal;font-family:Menlo,'DejaVu Sans Mono',consolas,'Courier New',monospace\">18:37:50.956 | <span style=\"color: #008080; text-decoration-color: #008080\">INFO</span>    | Task run 'process_pool_vol-f3874c79-31' - Finished in state <span style=\"color: #008000; text-decoration-color: #008000\">Completed</span>()\n",
       "</pre>\n"
      ],
      "text/plain": [
       "18:37:50.956 | \u001b[36mINFO\u001b[0m    | Task run 'process_pool_vol-f3874c79-31' - Finished in state \u001b[32mCompleted\u001b[0m()\n"
      ]
     },
     "metadata": {},
     "output_type": "display_data"
    },
    {
     "data": {
      "text/html": [
       "<pre style=\"white-space:pre;overflow-x:auto;line-height:normal;font-family:Menlo,'DejaVu Sans Mono',consolas,'Courier New',monospace\">18:37:50.966 | <span style=\"color: #008080; text-decoration-color: #008080\">INFO</span>    | Flow run<span style=\"color: #800080; text-decoration-color: #800080\"> 'big-barracuda'</span> - Created task run 'process_pool_vol-f3874c79-32' for task 'process_pool_vol'\n",
       "</pre>\n"
      ],
      "text/plain": [
       "18:37:50.966 | \u001b[36mINFO\u001b[0m    | Flow run\u001b[35m 'big-barracuda'\u001b[0m - Created task run 'process_pool_vol-f3874c79-32' for task 'process_pool_vol'\n"
      ]
     },
     "metadata": {},
     "output_type": "display_data"
    },
    {
     "data": {
      "text/html": [
       "<pre style=\"white-space:pre;overflow-x:auto;line-height:normal;font-family:Menlo,'DejaVu Sans Mono',consolas,'Courier New',monospace\">18:37:50.967 | <span style=\"color: #008080; text-decoration-color: #008080\">INFO</span>    | Flow run<span style=\"color: #800080; text-decoration-color: #800080\"> 'big-barracuda'</span> - Executing 'process_pool_vol-f3874c79-32' immediately...\n",
       "</pre>\n"
      ],
      "text/plain": [
       "18:37:50.967 | \u001b[36mINFO\u001b[0m    | Flow run\u001b[35m 'big-barracuda'\u001b[0m - Executing 'process_pool_vol-f3874c79-32' immediately...\n"
      ]
     },
     "metadata": {},
     "output_type": "display_data"
    },
    {
     "data": {
      "text/html": [
       "<pre style=\"white-space:pre;overflow-x:auto;line-height:normal;font-family:Menlo,'DejaVu Sans Mono',consolas,'Courier New',monospace\">18:37:50.990 | <span style=\"color: #008080; text-decoration-color: #008080\">INFO</span>    | Task run 'process_pool_vol-f3874c79-32' - Finished in state <span style=\"color: #008000; text-decoration-color: #008000\">Completed</span>()\n",
       "</pre>\n"
      ],
      "text/plain": [
       "18:37:50.990 | \u001b[36mINFO\u001b[0m    | Task run 'process_pool_vol-f3874c79-32' - Finished in state \u001b[32mCompleted\u001b[0m()\n"
      ]
     },
     "metadata": {},
     "output_type": "display_data"
    },
    {
     "data": {
      "text/html": [
       "<pre style=\"white-space:pre;overflow-x:auto;line-height:normal;font-family:Menlo,'DejaVu Sans Mono',consolas,'Courier New',monospace\">18:37:51.000 | <span style=\"color: #008080; text-decoration-color: #008080\">INFO</span>    | Flow run<span style=\"color: #800080; text-decoration-color: #800080\"> 'big-barracuda'</span> - Created task run 'process_pool_vol-f3874c79-33' for task 'process_pool_vol'\n",
       "</pre>\n"
      ],
      "text/plain": [
       "18:37:51.000 | \u001b[36mINFO\u001b[0m    | Flow run\u001b[35m 'big-barracuda'\u001b[0m - Created task run 'process_pool_vol-f3874c79-33' for task 'process_pool_vol'\n"
      ]
     },
     "metadata": {},
     "output_type": "display_data"
    },
    {
     "data": {
      "text/html": [
       "<pre style=\"white-space:pre;overflow-x:auto;line-height:normal;font-family:Menlo,'DejaVu Sans Mono',consolas,'Courier New',monospace\">18:37:51.000 | <span style=\"color: #008080; text-decoration-color: #008080\">INFO</span>    | Flow run<span style=\"color: #800080; text-decoration-color: #800080\"> 'big-barracuda'</span> - Executing 'process_pool_vol-f3874c79-33' immediately...\n",
       "</pre>\n"
      ],
      "text/plain": [
       "18:37:51.000 | \u001b[36mINFO\u001b[0m    | Flow run\u001b[35m 'big-barracuda'\u001b[0m - Executing 'process_pool_vol-f3874c79-33' immediately...\n"
      ]
     },
     "metadata": {},
     "output_type": "display_data"
    },
    {
     "data": {
      "text/html": [
       "<pre style=\"white-space:pre;overflow-x:auto;line-height:normal;font-family:Menlo,'DejaVu Sans Mono',consolas,'Courier New',monospace\">18:37:51.024 | <span style=\"color: #008080; text-decoration-color: #008080\">INFO</span>    | Task run 'process_pool_vol-f3874c79-33' - Finished in state <span style=\"color: #008000; text-decoration-color: #008000\">Completed</span>()\n",
       "</pre>\n"
      ],
      "text/plain": [
       "18:37:51.024 | \u001b[36mINFO\u001b[0m    | Task run 'process_pool_vol-f3874c79-33' - Finished in state \u001b[32mCompleted\u001b[0m()\n"
      ]
     },
     "metadata": {},
     "output_type": "display_data"
    },
    {
     "data": {
      "text/html": [
       "<pre style=\"white-space:pre;overflow-x:auto;line-height:normal;font-family:Menlo,'DejaVu Sans Mono',consolas,'Courier New',monospace\">18:37:51.033 | <span style=\"color: #008080; text-decoration-color: #008080\">INFO</span>    | Flow run<span style=\"color: #800080; text-decoration-color: #800080\"> 'big-barracuda'</span> - Created task run 'process_pool_vol-f3874c79-34' for task 'process_pool_vol'\n",
       "</pre>\n"
      ],
      "text/plain": [
       "18:37:51.033 | \u001b[36mINFO\u001b[0m    | Flow run\u001b[35m 'big-barracuda'\u001b[0m - Created task run 'process_pool_vol-f3874c79-34' for task 'process_pool_vol'\n"
      ]
     },
     "metadata": {},
     "output_type": "display_data"
    },
    {
     "data": {
      "text/html": [
       "<pre style=\"white-space:pre;overflow-x:auto;line-height:normal;font-family:Menlo,'DejaVu Sans Mono',consolas,'Courier New',monospace\">18:37:51.034 | <span style=\"color: #008080; text-decoration-color: #008080\">INFO</span>    | Flow run<span style=\"color: #800080; text-decoration-color: #800080\"> 'big-barracuda'</span> - Executing 'process_pool_vol-f3874c79-34' immediately...\n",
       "</pre>\n"
      ],
      "text/plain": [
       "18:37:51.034 | \u001b[36mINFO\u001b[0m    | Flow run\u001b[35m 'big-barracuda'\u001b[0m - Executing 'process_pool_vol-f3874c79-34' immediately...\n"
      ]
     },
     "metadata": {},
     "output_type": "display_data"
    },
    {
     "data": {
      "text/html": [
       "<pre style=\"white-space:pre;overflow-x:auto;line-height:normal;font-family:Menlo,'DejaVu Sans Mono',consolas,'Courier New',monospace\">18:37:51.057 | <span style=\"color: #008080; text-decoration-color: #008080\">INFO</span>    | Task run 'process_pool_vol-f3874c79-34' - Finished in state <span style=\"color: #008000; text-decoration-color: #008000\">Completed</span>()\n",
       "</pre>\n"
      ],
      "text/plain": [
       "18:37:51.057 | \u001b[36mINFO\u001b[0m    | Task run 'process_pool_vol-f3874c79-34' - Finished in state \u001b[32mCompleted\u001b[0m()\n"
      ]
     },
     "metadata": {},
     "output_type": "display_data"
    },
    {
     "data": {
      "text/html": [
       "<pre style=\"white-space:pre;overflow-x:auto;line-height:normal;font-family:Menlo,'DejaVu Sans Mono',consolas,'Courier New',monospace\">18:37:51.068 | <span style=\"color: #008080; text-decoration-color: #008080\">INFO</span>    | Flow run<span style=\"color: #800080; text-decoration-color: #800080\"> 'big-barracuda'</span> - Created task run 'process_pool_vol-f3874c79-35' for task 'process_pool_vol'\n",
       "</pre>\n"
      ],
      "text/plain": [
       "18:37:51.068 | \u001b[36mINFO\u001b[0m    | Flow run\u001b[35m 'big-barracuda'\u001b[0m - Created task run 'process_pool_vol-f3874c79-35' for task 'process_pool_vol'\n"
      ]
     },
     "metadata": {},
     "output_type": "display_data"
    },
    {
     "data": {
      "text/html": [
       "<pre style=\"white-space:pre;overflow-x:auto;line-height:normal;font-family:Menlo,'DejaVu Sans Mono',consolas,'Courier New',monospace\">18:37:51.068 | <span style=\"color: #008080; text-decoration-color: #008080\">INFO</span>    | Flow run<span style=\"color: #800080; text-decoration-color: #800080\"> 'big-barracuda'</span> - Executing 'process_pool_vol-f3874c79-35' immediately...\n",
       "</pre>\n"
      ],
      "text/plain": [
       "18:37:51.068 | \u001b[36mINFO\u001b[0m    | Flow run\u001b[35m 'big-barracuda'\u001b[0m - Executing 'process_pool_vol-f3874c79-35' immediately...\n"
      ]
     },
     "metadata": {},
     "output_type": "display_data"
    },
    {
     "data": {
      "text/html": [
       "<pre style=\"white-space:pre;overflow-x:auto;line-height:normal;font-family:Menlo,'DejaVu Sans Mono',consolas,'Courier New',monospace\">18:37:51.092 | <span style=\"color: #008080; text-decoration-color: #008080\">INFO</span>    | Task run 'process_pool_vol-f3874c79-35' - Finished in state <span style=\"color: #008000; text-decoration-color: #008000\">Completed</span>()\n",
       "</pre>\n"
      ],
      "text/plain": [
       "18:37:51.092 | \u001b[36mINFO\u001b[0m    | Task run 'process_pool_vol-f3874c79-35' - Finished in state \u001b[32mCompleted\u001b[0m()\n"
      ]
     },
     "metadata": {},
     "output_type": "display_data"
    },
    {
     "data": {
      "text/html": [
       "<pre style=\"white-space:pre;overflow-x:auto;line-height:normal;font-family:Menlo,'DejaVu Sans Mono',consolas,'Courier New',monospace\">18:37:51.102 | <span style=\"color: #008080; text-decoration-color: #008080\">INFO</span>    | Flow run<span style=\"color: #800080; text-decoration-color: #800080\"> 'big-barracuda'</span> - Created task run 'process_pool_vol-f3874c79-36' for task 'process_pool_vol'\n",
       "</pre>\n"
      ],
      "text/plain": [
       "18:37:51.102 | \u001b[36mINFO\u001b[0m    | Flow run\u001b[35m 'big-barracuda'\u001b[0m - Created task run 'process_pool_vol-f3874c79-36' for task 'process_pool_vol'\n"
      ]
     },
     "metadata": {},
     "output_type": "display_data"
    },
    {
     "data": {
      "text/html": [
       "<pre style=\"white-space:pre;overflow-x:auto;line-height:normal;font-family:Menlo,'DejaVu Sans Mono',consolas,'Courier New',monospace\">18:37:51.102 | <span style=\"color: #008080; text-decoration-color: #008080\">INFO</span>    | Flow run<span style=\"color: #800080; text-decoration-color: #800080\"> 'big-barracuda'</span> - Executing 'process_pool_vol-f3874c79-36' immediately...\n",
       "</pre>\n"
      ],
      "text/plain": [
       "18:37:51.102 | \u001b[36mINFO\u001b[0m    | Flow run\u001b[35m 'big-barracuda'\u001b[0m - Executing 'process_pool_vol-f3874c79-36' immediately...\n"
      ]
     },
     "metadata": {},
     "output_type": "display_data"
    },
    {
     "data": {
      "text/html": [
       "<pre style=\"white-space:pre;overflow-x:auto;line-height:normal;font-family:Menlo,'DejaVu Sans Mono',consolas,'Courier New',monospace\">18:37:51.127 | <span style=\"color: #008080; text-decoration-color: #008080\">INFO</span>    | Task run 'process_pool_vol-f3874c79-36' - Finished in state <span style=\"color: #008000; text-decoration-color: #008000\">Completed</span>()\n",
       "</pre>\n"
      ],
      "text/plain": [
       "18:37:51.127 | \u001b[36mINFO\u001b[0m    | Task run 'process_pool_vol-f3874c79-36' - Finished in state \u001b[32mCompleted\u001b[0m()\n"
      ]
     },
     "metadata": {},
     "output_type": "display_data"
    },
    {
     "data": {
      "text/html": [
       "<pre style=\"white-space:pre;overflow-x:auto;line-height:normal;font-family:Menlo,'DejaVu Sans Mono',consolas,'Courier New',monospace\">18:37:51.137 | <span style=\"color: #008080; text-decoration-color: #008080\">INFO</span>    | Flow run<span style=\"color: #800080; text-decoration-color: #800080\"> 'big-barracuda'</span> - Created task run 'process_pool_vol-f3874c79-37' for task 'process_pool_vol'\n",
       "</pre>\n"
      ],
      "text/plain": [
       "18:37:51.137 | \u001b[36mINFO\u001b[0m    | Flow run\u001b[35m 'big-barracuda'\u001b[0m - Created task run 'process_pool_vol-f3874c79-37' for task 'process_pool_vol'\n"
      ]
     },
     "metadata": {},
     "output_type": "display_data"
    },
    {
     "data": {
      "text/html": [
       "<pre style=\"white-space:pre;overflow-x:auto;line-height:normal;font-family:Menlo,'DejaVu Sans Mono',consolas,'Courier New',monospace\">18:37:51.138 | <span style=\"color: #008080; text-decoration-color: #008080\">INFO</span>    | Flow run<span style=\"color: #800080; text-decoration-color: #800080\"> 'big-barracuda'</span> - Executing 'process_pool_vol-f3874c79-37' immediately...\n",
       "</pre>\n"
      ],
      "text/plain": [
       "18:37:51.138 | \u001b[36mINFO\u001b[0m    | Flow run\u001b[35m 'big-barracuda'\u001b[0m - Executing 'process_pool_vol-f3874c79-37' immediately...\n"
      ]
     },
     "metadata": {},
     "output_type": "display_data"
    },
    {
     "data": {
      "text/html": [
       "<pre style=\"white-space:pre;overflow-x:auto;line-height:normal;font-family:Menlo,'DejaVu Sans Mono',consolas,'Courier New',monospace\">18:37:51.161 | <span style=\"color: #008080; text-decoration-color: #008080\">INFO</span>    | Task run 'process_pool_vol-f3874c79-37' - Finished in state <span style=\"color: #008000; text-decoration-color: #008000\">Completed</span>()\n",
       "</pre>\n"
      ],
      "text/plain": [
       "18:37:51.161 | \u001b[36mINFO\u001b[0m    | Task run 'process_pool_vol-f3874c79-37' - Finished in state \u001b[32mCompleted\u001b[0m()\n"
      ]
     },
     "metadata": {},
     "output_type": "display_data"
    },
    {
     "data": {
      "text/html": [
       "<pre style=\"white-space:pre;overflow-x:auto;line-height:normal;font-family:Menlo,'DejaVu Sans Mono',consolas,'Courier New',monospace\">18:37:51.171 | <span style=\"color: #008080; text-decoration-color: #008080\">INFO</span>    | Flow run<span style=\"color: #800080; text-decoration-color: #800080\"> 'big-barracuda'</span> - Created task run 'process_pool_vol-f3874c79-38' for task 'process_pool_vol'\n",
       "</pre>\n"
      ],
      "text/plain": [
       "18:37:51.171 | \u001b[36mINFO\u001b[0m    | Flow run\u001b[35m 'big-barracuda'\u001b[0m - Created task run 'process_pool_vol-f3874c79-38' for task 'process_pool_vol'\n"
      ]
     },
     "metadata": {},
     "output_type": "display_data"
    },
    {
     "data": {
      "text/html": [
       "<pre style=\"white-space:pre;overflow-x:auto;line-height:normal;font-family:Menlo,'DejaVu Sans Mono',consolas,'Courier New',monospace\">18:37:51.172 | <span style=\"color: #008080; text-decoration-color: #008080\">INFO</span>    | Flow run<span style=\"color: #800080; text-decoration-color: #800080\"> 'big-barracuda'</span> - Executing 'process_pool_vol-f3874c79-38' immediately...\n",
       "</pre>\n"
      ],
      "text/plain": [
       "18:37:51.172 | \u001b[36mINFO\u001b[0m    | Flow run\u001b[35m 'big-barracuda'\u001b[0m - Executing 'process_pool_vol-f3874c79-38' immediately...\n"
      ]
     },
     "metadata": {},
     "output_type": "display_data"
    },
    {
     "data": {
      "text/html": [
       "<pre style=\"white-space:pre;overflow-x:auto;line-height:normal;font-family:Menlo,'DejaVu Sans Mono',consolas,'Courier New',monospace\">18:37:51.195 | <span style=\"color: #008080; text-decoration-color: #008080\">INFO</span>    | Task run 'process_pool_vol-f3874c79-38' - Finished in state <span style=\"color: #008000; text-decoration-color: #008000\">Completed</span>()\n",
       "</pre>\n"
      ],
      "text/plain": [
       "18:37:51.195 | \u001b[36mINFO\u001b[0m    | Task run 'process_pool_vol-f3874c79-38' - Finished in state \u001b[32mCompleted\u001b[0m()\n"
      ]
     },
     "metadata": {},
     "output_type": "display_data"
    },
    {
     "data": {
      "text/html": [
       "<pre style=\"white-space:pre;overflow-x:auto;line-height:normal;font-family:Menlo,'DejaVu Sans Mono',consolas,'Courier New',monospace\">18:37:51.205 | <span style=\"color: #008080; text-decoration-color: #008080\">INFO</span>    | Flow run<span style=\"color: #800080; text-decoration-color: #800080\"> 'big-barracuda'</span> - Created task run 'process_pool_vol-f3874c79-39' for task 'process_pool_vol'\n",
       "</pre>\n"
      ],
      "text/plain": [
       "18:37:51.205 | \u001b[36mINFO\u001b[0m    | Flow run\u001b[35m 'big-barracuda'\u001b[0m - Created task run 'process_pool_vol-f3874c79-39' for task 'process_pool_vol'\n"
      ]
     },
     "metadata": {},
     "output_type": "display_data"
    },
    {
     "data": {
      "text/html": [
       "<pre style=\"white-space:pre;overflow-x:auto;line-height:normal;font-family:Menlo,'DejaVu Sans Mono',consolas,'Courier New',monospace\">18:37:51.205 | <span style=\"color: #008080; text-decoration-color: #008080\">INFO</span>    | Flow run<span style=\"color: #800080; text-decoration-color: #800080\"> 'big-barracuda'</span> - Executing 'process_pool_vol-f3874c79-39' immediately...\n",
       "</pre>\n"
      ],
      "text/plain": [
       "18:37:51.205 | \u001b[36mINFO\u001b[0m    | Flow run\u001b[35m 'big-barracuda'\u001b[0m - Executing 'process_pool_vol-f3874c79-39' immediately...\n"
      ]
     },
     "metadata": {},
     "output_type": "display_data"
    },
    {
     "data": {
      "text/html": [
       "<pre style=\"white-space:pre;overflow-x:auto;line-height:normal;font-family:Menlo,'DejaVu Sans Mono',consolas,'Courier New',monospace\">18:37:51.229 | <span style=\"color: #008080; text-decoration-color: #008080\">INFO</span>    | Task run 'process_pool_vol-f3874c79-39' - Finished in state <span style=\"color: #008000; text-decoration-color: #008000\">Completed</span>()\n",
       "</pre>\n"
      ],
      "text/plain": [
       "18:37:51.229 | \u001b[36mINFO\u001b[0m    | Task run 'process_pool_vol-f3874c79-39' - Finished in state \u001b[32mCompleted\u001b[0m()\n"
      ]
     },
     "metadata": {},
     "output_type": "display_data"
    },
    {
     "data": {
      "text/html": [
       "<pre style=\"white-space:pre;overflow-x:auto;line-height:normal;font-family:Menlo,'DejaVu Sans Mono',consolas,'Courier New',monospace\">18:37:51.238 | <span style=\"color: #008080; text-decoration-color: #008080\">INFO</span>    | Flow run<span style=\"color: #800080; text-decoration-color: #800080\"> 'big-barracuda'</span> - Created task run 'process_pool_vol-f3874c79-40' for task 'process_pool_vol'\n",
       "</pre>\n"
      ],
      "text/plain": [
       "18:37:51.238 | \u001b[36mINFO\u001b[0m    | Flow run\u001b[35m 'big-barracuda'\u001b[0m - Created task run 'process_pool_vol-f3874c79-40' for task 'process_pool_vol'\n"
      ]
     },
     "metadata": {},
     "output_type": "display_data"
    },
    {
     "data": {
      "text/html": [
       "<pre style=\"white-space:pre;overflow-x:auto;line-height:normal;font-family:Menlo,'DejaVu Sans Mono',consolas,'Courier New',monospace\">18:37:51.238 | <span style=\"color: #008080; text-decoration-color: #008080\">INFO</span>    | Flow run<span style=\"color: #800080; text-decoration-color: #800080\"> 'big-barracuda'</span> - Executing 'process_pool_vol-f3874c79-40' immediately...\n",
       "</pre>\n"
      ],
      "text/plain": [
       "18:37:51.238 | \u001b[36mINFO\u001b[0m    | Flow run\u001b[35m 'big-barracuda'\u001b[0m - Executing 'process_pool_vol-f3874c79-40' immediately...\n"
      ]
     },
     "metadata": {},
     "output_type": "display_data"
    },
    {
     "data": {
      "text/html": [
       "<pre style=\"white-space:pre;overflow-x:auto;line-height:normal;font-family:Menlo,'DejaVu Sans Mono',consolas,'Courier New',monospace\">18:37:51.261 | <span style=\"color: #008080; text-decoration-color: #008080\">INFO</span>    | Task run 'process_pool_vol-f3874c79-40' - Finished in state <span style=\"color: #008000; text-decoration-color: #008000\">Completed</span>()\n",
       "</pre>\n"
      ],
      "text/plain": [
       "18:37:51.261 | \u001b[36mINFO\u001b[0m    | Task run 'process_pool_vol-f3874c79-40' - Finished in state \u001b[32mCompleted\u001b[0m()\n"
      ]
     },
     "metadata": {},
     "output_type": "display_data"
    },
    {
     "data": {
      "text/html": [
       "<pre style=\"white-space:pre;overflow-x:auto;line-height:normal;font-family:Menlo,'DejaVu Sans Mono',consolas,'Courier New',monospace\">18:37:51.271 | <span style=\"color: #008080; text-decoration-color: #008080\">INFO</span>    | Flow run<span style=\"color: #800080; text-decoration-color: #800080\"> 'big-barracuda'</span> - Created task run 'process_pool_vol-f3874c79-41' for task 'process_pool_vol'\n",
       "</pre>\n"
      ],
      "text/plain": [
       "18:37:51.271 | \u001b[36mINFO\u001b[0m    | Flow run\u001b[35m 'big-barracuda'\u001b[0m - Created task run 'process_pool_vol-f3874c79-41' for task 'process_pool_vol'\n"
      ]
     },
     "metadata": {},
     "output_type": "display_data"
    },
    {
     "data": {
      "text/html": [
       "<pre style=\"white-space:pre;overflow-x:auto;line-height:normal;font-family:Menlo,'DejaVu Sans Mono',consolas,'Courier New',monospace\">18:37:51.271 | <span style=\"color: #008080; text-decoration-color: #008080\">INFO</span>    | Flow run<span style=\"color: #800080; text-decoration-color: #800080\"> 'big-barracuda'</span> - Executing 'process_pool_vol-f3874c79-41' immediately...\n",
       "</pre>\n"
      ],
      "text/plain": [
       "18:37:51.271 | \u001b[36mINFO\u001b[0m    | Flow run\u001b[35m 'big-barracuda'\u001b[0m - Executing 'process_pool_vol-f3874c79-41' immediately...\n"
      ]
     },
     "metadata": {},
     "output_type": "display_data"
    },
    {
     "data": {
      "text/html": [
       "<pre style=\"white-space:pre;overflow-x:auto;line-height:normal;font-family:Menlo,'DejaVu Sans Mono',consolas,'Courier New',monospace\">18:37:51.295 | <span style=\"color: #008080; text-decoration-color: #008080\">INFO</span>    | Task run 'process_pool_vol-f3874c79-41' - Finished in state <span style=\"color: #008000; text-decoration-color: #008000\">Completed</span>()\n",
       "</pre>\n"
      ],
      "text/plain": [
       "18:37:51.295 | \u001b[36mINFO\u001b[0m    | Task run 'process_pool_vol-f3874c79-41' - Finished in state \u001b[32mCompleted\u001b[0m()\n"
      ]
     },
     "metadata": {},
     "output_type": "display_data"
    },
    {
     "data": {
      "text/html": [
       "<pre style=\"white-space:pre;overflow-x:auto;line-height:normal;font-family:Menlo,'DejaVu Sans Mono',consolas,'Courier New',monospace\">18:37:51.304 | <span style=\"color: #008080; text-decoration-color: #008080\">INFO</span>    | Flow run<span style=\"color: #800080; text-decoration-color: #800080\"> 'big-barracuda'</span> - Created task run 'process_pool_vol-f3874c79-42' for task 'process_pool_vol'\n",
       "</pre>\n"
      ],
      "text/plain": [
       "18:37:51.304 | \u001b[36mINFO\u001b[0m    | Flow run\u001b[35m 'big-barracuda'\u001b[0m - Created task run 'process_pool_vol-f3874c79-42' for task 'process_pool_vol'\n"
      ]
     },
     "metadata": {},
     "output_type": "display_data"
    },
    {
     "data": {
      "text/html": [
       "<pre style=\"white-space:pre;overflow-x:auto;line-height:normal;font-family:Menlo,'DejaVu Sans Mono',consolas,'Courier New',monospace\">18:37:51.305 | <span style=\"color: #008080; text-decoration-color: #008080\">INFO</span>    | Flow run<span style=\"color: #800080; text-decoration-color: #800080\"> 'big-barracuda'</span> - Executing 'process_pool_vol-f3874c79-42' immediately...\n",
       "</pre>\n"
      ],
      "text/plain": [
       "18:37:51.305 | \u001b[36mINFO\u001b[0m    | Flow run\u001b[35m 'big-barracuda'\u001b[0m - Executing 'process_pool_vol-f3874c79-42' immediately...\n"
      ]
     },
     "metadata": {},
     "output_type": "display_data"
    },
    {
     "data": {
      "text/html": [
       "<pre style=\"white-space:pre;overflow-x:auto;line-height:normal;font-family:Menlo,'DejaVu Sans Mono',consolas,'Courier New',monospace\">18:37:51.329 | <span style=\"color: #008080; text-decoration-color: #008080\">INFO</span>    | Task run 'process_pool_vol-f3874c79-42' - Finished in state <span style=\"color: #008000; text-decoration-color: #008000\">Completed</span>()\n",
       "</pre>\n"
      ],
      "text/plain": [
       "18:37:51.329 | \u001b[36mINFO\u001b[0m    | Task run 'process_pool_vol-f3874c79-42' - Finished in state \u001b[32mCompleted\u001b[0m()\n"
      ]
     },
     "metadata": {},
     "output_type": "display_data"
    },
    {
     "data": {
      "text/html": [
       "<pre style=\"white-space:pre;overflow-x:auto;line-height:normal;font-family:Menlo,'DejaVu Sans Mono',consolas,'Courier New',monospace\">18:37:51.339 | <span style=\"color: #008080; text-decoration-color: #008080\">INFO</span>    | Flow run<span style=\"color: #800080; text-decoration-color: #800080\"> 'big-barracuda'</span> - Created task run 'process_pool_vol-f3874c79-43' for task 'process_pool_vol'\n",
       "</pre>\n"
      ],
      "text/plain": [
       "18:37:51.339 | \u001b[36mINFO\u001b[0m    | Flow run\u001b[35m 'big-barracuda'\u001b[0m - Created task run 'process_pool_vol-f3874c79-43' for task 'process_pool_vol'\n"
      ]
     },
     "metadata": {},
     "output_type": "display_data"
    },
    {
     "data": {
      "text/html": [
       "<pre style=\"white-space:pre;overflow-x:auto;line-height:normal;font-family:Menlo,'DejaVu Sans Mono',consolas,'Courier New',monospace\">18:37:51.339 | <span style=\"color: #008080; text-decoration-color: #008080\">INFO</span>    | Flow run<span style=\"color: #800080; text-decoration-color: #800080\"> 'big-barracuda'</span> - Executing 'process_pool_vol-f3874c79-43' immediately...\n",
       "</pre>\n"
      ],
      "text/plain": [
       "18:37:51.339 | \u001b[36mINFO\u001b[0m    | Flow run\u001b[35m 'big-barracuda'\u001b[0m - Executing 'process_pool_vol-f3874c79-43' immediately...\n"
      ]
     },
     "metadata": {},
     "output_type": "display_data"
    },
    {
     "data": {
      "text/html": [
       "<pre style=\"white-space:pre;overflow-x:auto;line-height:normal;font-family:Menlo,'DejaVu Sans Mono',consolas,'Courier New',monospace\">18:37:51.363 | <span style=\"color: #008080; text-decoration-color: #008080\">INFO</span>    | Task run 'process_pool_vol-f3874c79-43' - Finished in state <span style=\"color: #008000; text-decoration-color: #008000\">Completed</span>()\n",
       "</pre>\n"
      ],
      "text/plain": [
       "18:37:51.363 | \u001b[36mINFO\u001b[0m    | Task run 'process_pool_vol-f3874c79-43' - Finished in state \u001b[32mCompleted\u001b[0m()\n"
      ]
     },
     "metadata": {},
     "output_type": "display_data"
    },
    {
     "data": {
      "text/html": [
       "<pre style=\"white-space:pre;overflow-x:auto;line-height:normal;font-family:Menlo,'DejaVu Sans Mono',consolas,'Courier New',monospace\">18:37:51.372 | <span style=\"color: #008080; text-decoration-color: #008080\">INFO</span>    | Flow run<span style=\"color: #800080; text-decoration-color: #800080\"> 'big-barracuda'</span> - Created task run 'process_pool_vol-f3874c79-44' for task 'process_pool_vol'\n",
       "</pre>\n"
      ],
      "text/plain": [
       "18:37:51.372 | \u001b[36mINFO\u001b[0m    | Flow run\u001b[35m 'big-barracuda'\u001b[0m - Created task run 'process_pool_vol-f3874c79-44' for task 'process_pool_vol'\n"
      ]
     },
     "metadata": {},
     "output_type": "display_data"
    },
    {
     "data": {
      "text/html": [
       "<pre style=\"white-space:pre;overflow-x:auto;line-height:normal;font-family:Menlo,'DejaVu Sans Mono',consolas,'Courier New',monospace\">18:37:51.373 | <span style=\"color: #008080; text-decoration-color: #008080\">INFO</span>    | Flow run<span style=\"color: #800080; text-decoration-color: #800080\"> 'big-barracuda'</span> - Executing 'process_pool_vol-f3874c79-44' immediately...\n",
       "</pre>\n"
      ],
      "text/plain": [
       "18:37:51.373 | \u001b[36mINFO\u001b[0m    | Flow run\u001b[35m 'big-barracuda'\u001b[0m - Executing 'process_pool_vol-f3874c79-44' immediately...\n"
      ]
     },
     "metadata": {},
     "output_type": "display_data"
    },
    {
     "data": {
      "text/html": [
       "<pre style=\"white-space:pre;overflow-x:auto;line-height:normal;font-family:Menlo,'DejaVu Sans Mono',consolas,'Courier New',monospace\">18:37:51.396 | <span style=\"color: #008080; text-decoration-color: #008080\">INFO</span>    | Task run 'process_pool_vol-f3874c79-44' - Finished in state <span style=\"color: #008000; text-decoration-color: #008000\">Completed</span>()\n",
       "</pre>\n"
      ],
      "text/plain": [
       "18:37:51.396 | \u001b[36mINFO\u001b[0m    | Task run 'process_pool_vol-f3874c79-44' - Finished in state \u001b[32mCompleted\u001b[0m()\n"
      ]
     },
     "metadata": {},
     "output_type": "display_data"
    },
    {
     "data": {
      "text/html": [
       "<pre style=\"white-space:pre;overflow-x:auto;line-height:normal;font-family:Menlo,'DejaVu Sans Mono',consolas,'Courier New',monospace\">18:37:51.406 | <span style=\"color: #008080; text-decoration-color: #008080\">INFO</span>    | Flow run<span style=\"color: #800080; text-decoration-color: #800080\"> 'big-barracuda'</span> - Created task run 'process_pool_vol-f3874c79-45' for task 'process_pool_vol'\n",
       "</pre>\n"
      ],
      "text/plain": [
       "18:37:51.406 | \u001b[36mINFO\u001b[0m    | Flow run\u001b[35m 'big-barracuda'\u001b[0m - Created task run 'process_pool_vol-f3874c79-45' for task 'process_pool_vol'\n"
      ]
     },
     "metadata": {},
     "output_type": "display_data"
    },
    {
     "data": {
      "text/html": [
       "<pre style=\"white-space:pre;overflow-x:auto;line-height:normal;font-family:Menlo,'DejaVu Sans Mono',consolas,'Courier New',monospace\">18:37:51.407 | <span style=\"color: #008080; text-decoration-color: #008080\">INFO</span>    | Flow run<span style=\"color: #800080; text-decoration-color: #800080\"> 'big-barracuda'</span> - Executing 'process_pool_vol-f3874c79-45' immediately...\n",
       "</pre>\n"
      ],
      "text/plain": [
       "18:37:51.407 | \u001b[36mINFO\u001b[0m    | Flow run\u001b[35m 'big-barracuda'\u001b[0m - Executing 'process_pool_vol-f3874c79-45' immediately...\n"
      ]
     },
     "metadata": {},
     "output_type": "display_data"
    },
    {
     "data": {
      "text/html": [
       "<pre style=\"white-space:pre;overflow-x:auto;line-height:normal;font-family:Menlo,'DejaVu Sans Mono',consolas,'Courier New',monospace\">18:37:51.430 | <span style=\"color: #008080; text-decoration-color: #008080\">INFO</span>    | Task run 'process_pool_vol-f3874c79-45' - Finished in state <span style=\"color: #008000; text-decoration-color: #008000\">Completed</span>()\n",
       "</pre>\n"
      ],
      "text/plain": [
       "18:37:51.430 | \u001b[36mINFO\u001b[0m    | Task run 'process_pool_vol-f3874c79-45' - Finished in state \u001b[32mCompleted\u001b[0m()\n"
      ]
     },
     "metadata": {},
     "output_type": "display_data"
    },
    {
     "data": {
      "text/html": [
       "<pre style=\"white-space:pre;overflow-x:auto;line-height:normal;font-family:Menlo,'DejaVu Sans Mono',consolas,'Courier New',monospace\">18:37:51.440 | <span style=\"color: #008080; text-decoration-color: #008080\">INFO</span>    | Flow run<span style=\"color: #800080; text-decoration-color: #800080\"> 'big-barracuda'</span> - Created task run 'process_pool_vol-f3874c79-46' for task 'process_pool_vol'\n",
       "</pre>\n"
      ],
      "text/plain": [
       "18:37:51.440 | \u001b[36mINFO\u001b[0m    | Flow run\u001b[35m 'big-barracuda'\u001b[0m - Created task run 'process_pool_vol-f3874c79-46' for task 'process_pool_vol'\n"
      ]
     },
     "metadata": {},
     "output_type": "display_data"
    },
    {
     "data": {
      "text/html": [
       "<pre style=\"white-space:pre;overflow-x:auto;line-height:normal;font-family:Menlo,'DejaVu Sans Mono',consolas,'Courier New',monospace\">18:37:51.441 | <span style=\"color: #008080; text-decoration-color: #008080\">INFO</span>    | Flow run<span style=\"color: #800080; text-decoration-color: #800080\"> 'big-barracuda'</span> - Executing 'process_pool_vol-f3874c79-46' immediately...\n",
       "</pre>\n"
      ],
      "text/plain": [
       "18:37:51.441 | \u001b[36mINFO\u001b[0m    | Flow run\u001b[35m 'big-barracuda'\u001b[0m - Executing 'process_pool_vol-f3874c79-46' immediately...\n"
      ]
     },
     "metadata": {},
     "output_type": "display_data"
    },
    {
     "data": {
      "text/html": [
       "<pre style=\"white-space:pre;overflow-x:auto;line-height:normal;font-family:Menlo,'DejaVu Sans Mono',consolas,'Courier New',monospace\">18:37:51.464 | <span style=\"color: #008080; text-decoration-color: #008080\">INFO</span>    | Task run 'process_pool_vol-f3874c79-46' - Finished in state <span style=\"color: #008000; text-decoration-color: #008000\">Completed</span>()\n",
       "</pre>\n"
      ],
      "text/plain": [
       "18:37:51.464 | \u001b[36mINFO\u001b[0m    | Task run 'process_pool_vol-f3874c79-46' - Finished in state \u001b[32mCompleted\u001b[0m()\n"
      ]
     },
     "metadata": {},
     "output_type": "display_data"
    },
    {
     "data": {
      "text/html": [
       "<pre style=\"white-space:pre;overflow-x:auto;line-height:normal;font-family:Menlo,'DejaVu Sans Mono',consolas,'Courier New',monospace\">18:37:51.474 | <span style=\"color: #008080; text-decoration-color: #008080\">INFO</span>    | Flow run<span style=\"color: #800080; text-decoration-color: #800080\"> 'big-barracuda'</span> - Created task run 'process_pool_vol-f3874c79-47' for task 'process_pool_vol'\n",
       "</pre>\n"
      ],
      "text/plain": [
       "18:37:51.474 | \u001b[36mINFO\u001b[0m    | Flow run\u001b[35m 'big-barracuda'\u001b[0m - Created task run 'process_pool_vol-f3874c79-47' for task 'process_pool_vol'\n"
      ]
     },
     "metadata": {},
     "output_type": "display_data"
    },
    {
     "data": {
      "text/html": [
       "<pre style=\"white-space:pre;overflow-x:auto;line-height:normal;font-family:Menlo,'DejaVu Sans Mono',consolas,'Courier New',monospace\">18:37:51.475 | <span style=\"color: #008080; text-decoration-color: #008080\">INFO</span>    | Flow run<span style=\"color: #800080; text-decoration-color: #800080\"> 'big-barracuda'</span> - Executing 'process_pool_vol-f3874c79-47' immediately...\n",
       "</pre>\n"
      ],
      "text/plain": [
       "18:37:51.475 | \u001b[36mINFO\u001b[0m    | Flow run\u001b[35m 'big-barracuda'\u001b[0m - Executing 'process_pool_vol-f3874c79-47' immediately...\n"
      ]
     },
     "metadata": {},
     "output_type": "display_data"
    },
    {
     "data": {
      "text/html": [
       "<pre style=\"white-space:pre;overflow-x:auto;line-height:normal;font-family:Menlo,'DejaVu Sans Mono',consolas,'Courier New',monospace\">18:37:51.498 | <span style=\"color: #008080; text-decoration-color: #008080\">INFO</span>    | Task run 'process_pool_vol-f3874c79-47' - Finished in state <span style=\"color: #008000; text-decoration-color: #008000\">Completed</span>()\n",
       "</pre>\n"
      ],
      "text/plain": [
       "18:37:51.498 | \u001b[36mINFO\u001b[0m    | Task run 'process_pool_vol-f3874c79-47' - Finished in state \u001b[32mCompleted\u001b[0m()\n"
      ]
     },
     "metadata": {},
     "output_type": "display_data"
    },
    {
     "data": {
      "text/html": [
       "<pre style=\"white-space:pre;overflow-x:auto;line-height:normal;font-family:Menlo,'DejaVu Sans Mono',consolas,'Courier New',monospace\">18:37:51.509 | <span style=\"color: #008080; text-decoration-color: #008080\">INFO</span>    | Flow run<span style=\"color: #800080; text-decoration-color: #800080\"> 'big-barracuda'</span> - Created task run 'process_pool_vol-f3874c79-48' for task 'process_pool_vol'\n",
       "</pre>\n"
      ],
      "text/plain": [
       "18:37:51.509 | \u001b[36mINFO\u001b[0m    | Flow run\u001b[35m 'big-barracuda'\u001b[0m - Created task run 'process_pool_vol-f3874c79-48' for task 'process_pool_vol'\n"
      ]
     },
     "metadata": {},
     "output_type": "display_data"
    },
    {
     "data": {
      "text/html": [
       "<pre style=\"white-space:pre;overflow-x:auto;line-height:normal;font-family:Menlo,'DejaVu Sans Mono',consolas,'Courier New',monospace\">18:37:51.510 | <span style=\"color: #008080; text-decoration-color: #008080\">INFO</span>    | Flow run<span style=\"color: #800080; text-decoration-color: #800080\"> 'big-barracuda'</span> - Executing 'process_pool_vol-f3874c79-48' immediately...\n",
       "</pre>\n"
      ],
      "text/plain": [
       "18:37:51.510 | \u001b[36mINFO\u001b[0m    | Flow run\u001b[35m 'big-barracuda'\u001b[0m - Executing 'process_pool_vol-f3874c79-48' immediately...\n"
      ]
     },
     "metadata": {},
     "output_type": "display_data"
    },
    {
     "data": {
      "text/html": [
       "<pre style=\"white-space:pre;overflow-x:auto;line-height:normal;font-family:Menlo,'DejaVu Sans Mono',consolas,'Courier New',monospace\">18:37:51.533 | <span style=\"color: #008080; text-decoration-color: #008080\">INFO</span>    | Task run 'process_pool_vol-f3874c79-48' - Finished in state <span style=\"color: #008000; text-decoration-color: #008000\">Completed</span>()\n",
       "</pre>\n"
      ],
      "text/plain": [
       "18:37:51.533 | \u001b[36mINFO\u001b[0m    | Task run 'process_pool_vol-f3874c79-48' - Finished in state \u001b[32mCompleted\u001b[0m()\n"
      ]
     },
     "metadata": {},
     "output_type": "display_data"
    },
    {
     "data": {
      "text/html": [
       "<pre style=\"white-space:pre;overflow-x:auto;line-height:normal;font-family:Menlo,'DejaVu Sans Mono',consolas,'Courier New',monospace\">18:37:51.544 | <span style=\"color: #008080; text-decoration-color: #008080\">INFO</span>    | Flow run<span style=\"color: #800080; text-decoration-color: #800080\"> 'big-barracuda'</span> - Created task run 'process_pool_vol-f3874c79-49' for task 'process_pool_vol'\n",
       "</pre>\n"
      ],
      "text/plain": [
       "18:37:51.544 | \u001b[36mINFO\u001b[0m    | Flow run\u001b[35m 'big-barracuda'\u001b[0m - Created task run 'process_pool_vol-f3874c79-49' for task 'process_pool_vol'\n"
      ]
     },
     "metadata": {},
     "output_type": "display_data"
    },
    {
     "data": {
      "text/html": [
       "<pre style=\"white-space:pre;overflow-x:auto;line-height:normal;font-family:Menlo,'DejaVu Sans Mono',consolas,'Courier New',monospace\">18:37:51.545 | <span style=\"color: #008080; text-decoration-color: #008080\">INFO</span>    | Flow run<span style=\"color: #800080; text-decoration-color: #800080\"> 'big-barracuda'</span> - Executing 'process_pool_vol-f3874c79-49' immediately...\n",
       "</pre>\n"
      ],
      "text/plain": [
       "18:37:51.545 | \u001b[36mINFO\u001b[0m    | Flow run\u001b[35m 'big-barracuda'\u001b[0m - Executing 'process_pool_vol-f3874c79-49' immediately...\n"
      ]
     },
     "metadata": {},
     "output_type": "display_data"
    },
    {
     "data": {
      "text/html": [
       "<pre style=\"white-space:pre;overflow-x:auto;line-height:normal;font-family:Menlo,'DejaVu Sans Mono',consolas,'Courier New',monospace\">18:37:51.570 | <span style=\"color: #008080; text-decoration-color: #008080\">INFO</span>    | Task run 'process_pool_vol-f3874c79-49' - Finished in state <span style=\"color: #008000; text-decoration-color: #008000\">Completed</span>()\n",
       "</pre>\n"
      ],
      "text/plain": [
       "18:37:51.570 | \u001b[36mINFO\u001b[0m    | Task run 'process_pool_vol-f3874c79-49' - Finished in state \u001b[32mCompleted\u001b[0m()\n"
      ]
     },
     "metadata": {},
     "output_type": "display_data"
    },
    {
     "data": {
      "text/html": [
       "<pre style=\"white-space:pre;overflow-x:auto;line-height:normal;font-family:Menlo,'DejaVu Sans Mono',consolas,'Courier New',monospace\">18:37:51.580 | <span style=\"color: #008080; text-decoration-color: #008080\">INFO</span>    | Flow run<span style=\"color: #800080; text-decoration-color: #800080\"> 'big-barracuda'</span> - Created task run 'process_pool_vol-f3874c79-50' for task 'process_pool_vol'\n",
       "</pre>\n"
      ],
      "text/plain": [
       "18:37:51.580 | \u001b[36mINFO\u001b[0m    | Flow run\u001b[35m 'big-barracuda'\u001b[0m - Created task run 'process_pool_vol-f3874c79-50' for task 'process_pool_vol'\n"
      ]
     },
     "metadata": {},
     "output_type": "display_data"
    },
    {
     "data": {
      "text/html": [
       "<pre style=\"white-space:pre;overflow-x:auto;line-height:normal;font-family:Menlo,'DejaVu Sans Mono',consolas,'Courier New',monospace\">18:37:51.581 | <span style=\"color: #008080; text-decoration-color: #008080\">INFO</span>    | Flow run<span style=\"color: #800080; text-decoration-color: #800080\"> 'big-barracuda'</span> - Executing 'process_pool_vol-f3874c79-50' immediately...\n",
       "</pre>\n"
      ],
      "text/plain": [
       "18:37:51.581 | \u001b[36mINFO\u001b[0m    | Flow run\u001b[35m 'big-barracuda'\u001b[0m - Executing 'process_pool_vol-f3874c79-50' immediately...\n"
      ]
     },
     "metadata": {},
     "output_type": "display_data"
    },
    {
     "data": {
      "text/html": [
       "<pre style=\"white-space:pre;overflow-x:auto;line-height:normal;font-family:Menlo,'DejaVu Sans Mono',consolas,'Courier New',monospace\">18:37:51.605 | <span style=\"color: #008080; text-decoration-color: #008080\">INFO</span>    | Task run 'process_pool_vol-f3874c79-50' - Finished in state <span style=\"color: #008000; text-decoration-color: #008000\">Completed</span>()\n",
       "</pre>\n"
      ],
      "text/plain": [
       "18:37:51.605 | \u001b[36mINFO\u001b[0m    | Task run 'process_pool_vol-f3874c79-50' - Finished in state \u001b[32mCompleted\u001b[0m()\n"
      ]
     },
     "metadata": {},
     "output_type": "display_data"
    },
    {
     "data": {
      "text/html": [
       "<pre style=\"white-space:pre;overflow-x:auto;line-height:normal;font-family:Menlo,'DejaVu Sans Mono',consolas,'Courier New',monospace\">18:37:51.615 | <span style=\"color: #008080; text-decoration-color: #008080\">INFO</span>    | Flow run<span style=\"color: #800080; text-decoration-color: #800080\"> 'big-barracuda'</span> - Created task run 'process_pool_vol-f3874c79-51' for task 'process_pool_vol'\n",
       "</pre>\n"
      ],
      "text/plain": [
       "18:37:51.615 | \u001b[36mINFO\u001b[0m    | Flow run\u001b[35m 'big-barracuda'\u001b[0m - Created task run 'process_pool_vol-f3874c79-51' for task 'process_pool_vol'\n"
      ]
     },
     "metadata": {},
     "output_type": "display_data"
    },
    {
     "data": {
      "text/html": [
       "<pre style=\"white-space:pre;overflow-x:auto;line-height:normal;font-family:Menlo,'DejaVu Sans Mono',consolas,'Courier New',monospace\">18:37:51.616 | <span style=\"color: #008080; text-decoration-color: #008080\">INFO</span>    | Flow run<span style=\"color: #800080; text-decoration-color: #800080\"> 'big-barracuda'</span> - Executing 'process_pool_vol-f3874c79-51' immediately...\n",
       "</pre>\n"
      ],
      "text/plain": [
       "18:37:51.616 | \u001b[36mINFO\u001b[0m    | Flow run\u001b[35m 'big-barracuda'\u001b[0m - Executing 'process_pool_vol-f3874c79-51' immediately...\n"
      ]
     },
     "metadata": {},
     "output_type": "display_data"
    },
    {
     "data": {
      "text/html": [
       "<pre style=\"white-space:pre;overflow-x:auto;line-height:normal;font-family:Menlo,'DejaVu Sans Mono',consolas,'Courier New',monospace\">18:37:51.640 | <span style=\"color: #008080; text-decoration-color: #008080\">INFO</span>    | Task run 'process_pool_vol-f3874c79-51' - Finished in state <span style=\"color: #008000; text-decoration-color: #008000\">Completed</span>()\n",
       "</pre>\n"
      ],
      "text/plain": [
       "18:37:51.640 | \u001b[36mINFO\u001b[0m    | Task run 'process_pool_vol-f3874c79-51' - Finished in state \u001b[32mCompleted\u001b[0m()\n"
      ]
     },
     "metadata": {},
     "output_type": "display_data"
    },
    {
     "data": {
      "text/html": [
       "<pre style=\"white-space:pre;overflow-x:auto;line-height:normal;font-family:Menlo,'DejaVu Sans Mono',consolas,'Courier New',monospace\">18:37:51.651 | <span style=\"color: #008080; text-decoration-color: #008080\">INFO</span>    | Flow run<span style=\"color: #800080; text-decoration-color: #800080\"> 'big-barracuda'</span> - Created task run 'process_pool_vol-f3874c79-52' for task 'process_pool_vol'\n",
       "</pre>\n"
      ],
      "text/plain": [
       "18:37:51.651 | \u001b[36mINFO\u001b[0m    | Flow run\u001b[35m 'big-barracuda'\u001b[0m - Created task run 'process_pool_vol-f3874c79-52' for task 'process_pool_vol'\n"
      ]
     },
     "metadata": {},
     "output_type": "display_data"
    },
    {
     "data": {
      "text/html": [
       "<pre style=\"white-space:pre;overflow-x:auto;line-height:normal;font-family:Menlo,'DejaVu Sans Mono',consolas,'Courier New',monospace\">18:37:51.652 | <span style=\"color: #008080; text-decoration-color: #008080\">INFO</span>    | Flow run<span style=\"color: #800080; text-decoration-color: #800080\"> 'big-barracuda'</span> - Executing 'process_pool_vol-f3874c79-52' immediately...\n",
       "</pre>\n"
      ],
      "text/plain": [
       "18:37:51.652 | \u001b[36mINFO\u001b[0m    | Flow run\u001b[35m 'big-barracuda'\u001b[0m - Executing 'process_pool_vol-f3874c79-52' immediately...\n"
      ]
     },
     "metadata": {},
     "output_type": "display_data"
    },
    {
     "data": {
      "text/html": [
       "<pre style=\"white-space:pre;overflow-x:auto;line-height:normal;font-family:Menlo,'DejaVu Sans Mono',consolas,'Courier New',monospace\">18:37:51.675 | <span style=\"color: #008080; text-decoration-color: #008080\">INFO</span>    | Task run 'process_pool_vol-f3874c79-52' - Finished in state <span style=\"color: #008000; text-decoration-color: #008000\">Completed</span>()\n",
       "</pre>\n"
      ],
      "text/plain": [
       "18:37:51.675 | \u001b[36mINFO\u001b[0m    | Task run 'process_pool_vol-f3874c79-52' - Finished in state \u001b[32mCompleted\u001b[0m()\n"
      ]
     },
     "metadata": {},
     "output_type": "display_data"
    },
    {
     "data": {
      "text/html": [
       "<pre style=\"white-space:pre;overflow-x:auto;line-height:normal;font-family:Menlo,'DejaVu Sans Mono',consolas,'Courier New',monospace\">18:37:51.686 | <span style=\"color: #008080; text-decoration-color: #008080\">INFO</span>    | Flow run<span style=\"color: #800080; text-decoration-color: #800080\"> 'big-barracuda'</span> - Created task run 'process_pool_vol-f3874c79-53' for task 'process_pool_vol'\n",
       "</pre>\n"
      ],
      "text/plain": [
       "18:37:51.686 | \u001b[36mINFO\u001b[0m    | Flow run\u001b[35m 'big-barracuda'\u001b[0m - Created task run 'process_pool_vol-f3874c79-53' for task 'process_pool_vol'\n"
      ]
     },
     "metadata": {},
     "output_type": "display_data"
    },
    {
     "data": {
      "text/html": [
       "<pre style=\"white-space:pre;overflow-x:auto;line-height:normal;font-family:Menlo,'DejaVu Sans Mono',consolas,'Courier New',monospace\">18:37:51.687 | <span style=\"color: #008080; text-decoration-color: #008080\">INFO</span>    | Flow run<span style=\"color: #800080; text-decoration-color: #800080\"> 'big-barracuda'</span> - Executing 'process_pool_vol-f3874c79-53' immediately...\n",
       "</pre>\n"
      ],
      "text/plain": [
       "18:37:51.687 | \u001b[36mINFO\u001b[0m    | Flow run\u001b[35m 'big-barracuda'\u001b[0m - Executing 'process_pool_vol-f3874c79-53' immediately...\n"
      ]
     },
     "metadata": {},
     "output_type": "display_data"
    },
    {
     "data": {
      "text/html": [
       "<pre style=\"white-space:pre;overflow-x:auto;line-height:normal;font-family:Menlo,'DejaVu Sans Mono',consolas,'Courier New',monospace\">18:37:51.711 | <span style=\"color: #008080; text-decoration-color: #008080\">INFO</span>    | Task run 'process_pool_vol-f3874c79-53' - Finished in state <span style=\"color: #008000; text-decoration-color: #008000\">Completed</span>()\n",
       "</pre>\n"
      ],
      "text/plain": [
       "18:37:51.711 | \u001b[36mINFO\u001b[0m    | Task run 'process_pool_vol-f3874c79-53' - Finished in state \u001b[32mCompleted\u001b[0m()\n"
      ]
     },
     "metadata": {},
     "output_type": "display_data"
    },
    {
     "data": {
      "text/html": [
       "<pre style=\"white-space:pre;overflow-x:auto;line-height:normal;font-family:Menlo,'DejaVu Sans Mono',consolas,'Courier New',monospace\">18:37:51.722 | <span style=\"color: #008080; text-decoration-color: #008080\">INFO</span>    | Flow run<span style=\"color: #800080; text-decoration-color: #800080\"> 'big-barracuda'</span> - Created task run 'process_pool_vol-f3874c79-54' for task 'process_pool_vol'\n",
       "</pre>\n"
      ],
      "text/plain": [
       "18:37:51.722 | \u001b[36mINFO\u001b[0m    | Flow run\u001b[35m 'big-barracuda'\u001b[0m - Created task run 'process_pool_vol-f3874c79-54' for task 'process_pool_vol'\n"
      ]
     },
     "metadata": {},
     "output_type": "display_data"
    },
    {
     "data": {
      "text/html": [
       "<pre style=\"white-space:pre;overflow-x:auto;line-height:normal;font-family:Menlo,'DejaVu Sans Mono',consolas,'Courier New',monospace\">18:37:51.722 | <span style=\"color: #008080; text-decoration-color: #008080\">INFO</span>    | Flow run<span style=\"color: #800080; text-decoration-color: #800080\"> 'big-barracuda'</span> - Executing 'process_pool_vol-f3874c79-54' immediately...\n",
       "</pre>\n"
      ],
      "text/plain": [
       "18:37:51.722 | \u001b[36mINFO\u001b[0m    | Flow run\u001b[35m 'big-barracuda'\u001b[0m - Executing 'process_pool_vol-f3874c79-54' immediately...\n"
      ]
     },
     "metadata": {},
     "output_type": "display_data"
    },
    {
     "data": {
      "text/html": [
       "<pre style=\"white-space:pre;overflow-x:auto;line-height:normal;font-family:Menlo,'DejaVu Sans Mono',consolas,'Courier New',monospace\">18:37:51.748 | <span style=\"color: #008080; text-decoration-color: #008080\">INFO</span>    | Task run 'process_pool_vol-f3874c79-54' - Finished in state <span style=\"color: #008000; text-decoration-color: #008000\">Completed</span>()\n",
       "</pre>\n"
      ],
      "text/plain": [
       "18:37:51.748 | \u001b[36mINFO\u001b[0m    | Task run 'process_pool_vol-f3874c79-54' - Finished in state \u001b[32mCompleted\u001b[0m()\n"
      ]
     },
     "metadata": {},
     "output_type": "display_data"
    },
    {
     "data": {
      "text/html": [
       "<pre style=\"white-space:pre;overflow-x:auto;line-height:normal;font-family:Menlo,'DejaVu Sans Mono',consolas,'Courier New',monospace\">18:37:51.758 | <span style=\"color: #008080; text-decoration-color: #008080\">INFO</span>    | Flow run<span style=\"color: #800080; text-decoration-color: #800080\"> 'big-barracuda'</span> - Created task run 'process_pool_vol-f3874c79-55' for task 'process_pool_vol'\n",
       "</pre>\n"
      ],
      "text/plain": [
       "18:37:51.758 | \u001b[36mINFO\u001b[0m    | Flow run\u001b[35m 'big-barracuda'\u001b[0m - Created task run 'process_pool_vol-f3874c79-55' for task 'process_pool_vol'\n"
      ]
     },
     "metadata": {},
     "output_type": "display_data"
    },
    {
     "data": {
      "text/html": [
       "<pre style=\"white-space:pre;overflow-x:auto;line-height:normal;font-family:Menlo,'DejaVu Sans Mono',consolas,'Courier New',monospace\">18:37:51.759 | <span style=\"color: #008080; text-decoration-color: #008080\">INFO</span>    | Flow run<span style=\"color: #800080; text-decoration-color: #800080\"> 'big-barracuda'</span> - Executing 'process_pool_vol-f3874c79-55' immediately...\n",
       "</pre>\n"
      ],
      "text/plain": [
       "18:37:51.759 | \u001b[36mINFO\u001b[0m    | Flow run\u001b[35m 'big-barracuda'\u001b[0m - Executing 'process_pool_vol-f3874c79-55' immediately...\n"
      ]
     },
     "metadata": {},
     "output_type": "display_data"
    },
    {
     "data": {
      "text/html": [
       "<pre style=\"white-space:pre;overflow-x:auto;line-height:normal;font-family:Menlo,'DejaVu Sans Mono',consolas,'Courier New',monospace\">18:37:51.783 | <span style=\"color: #008080; text-decoration-color: #008080\">INFO</span>    | Task run 'process_pool_vol-f3874c79-55' - Finished in state <span style=\"color: #008000; text-decoration-color: #008000\">Completed</span>()\n",
       "</pre>\n"
      ],
      "text/plain": [
       "18:37:51.783 | \u001b[36mINFO\u001b[0m    | Task run 'process_pool_vol-f3874c79-55' - Finished in state \u001b[32mCompleted\u001b[0m()\n"
      ]
     },
     "metadata": {},
     "output_type": "display_data"
    },
    {
     "data": {
      "text/html": [
       "<pre style=\"white-space:pre;overflow-x:auto;line-height:normal;font-family:Menlo,'DejaVu Sans Mono',consolas,'Courier New',monospace\">18:37:51.794 | <span style=\"color: #008080; text-decoration-color: #008080\">INFO</span>    | Flow run<span style=\"color: #800080; text-decoration-color: #800080\"> 'big-barracuda'</span> - Created task run 'process_pool_vol-f3874c79-56' for task 'process_pool_vol'\n",
       "</pre>\n"
      ],
      "text/plain": [
       "18:37:51.794 | \u001b[36mINFO\u001b[0m    | Flow run\u001b[35m 'big-barracuda'\u001b[0m - Created task run 'process_pool_vol-f3874c79-56' for task 'process_pool_vol'\n"
      ]
     },
     "metadata": {},
     "output_type": "display_data"
    },
    {
     "data": {
      "text/html": [
       "<pre style=\"white-space:pre;overflow-x:auto;line-height:normal;font-family:Menlo,'DejaVu Sans Mono',consolas,'Courier New',monospace\">18:37:51.794 | <span style=\"color: #008080; text-decoration-color: #008080\">INFO</span>    | Flow run<span style=\"color: #800080; text-decoration-color: #800080\"> 'big-barracuda'</span> - Executing 'process_pool_vol-f3874c79-56' immediately...\n",
       "</pre>\n"
      ],
      "text/plain": [
       "18:37:51.794 | \u001b[36mINFO\u001b[0m    | Flow run\u001b[35m 'big-barracuda'\u001b[0m - Executing 'process_pool_vol-f3874c79-56' immediately...\n"
      ]
     },
     "metadata": {},
     "output_type": "display_data"
    },
    {
     "data": {
      "text/html": [
       "<pre style=\"white-space:pre;overflow-x:auto;line-height:normal;font-family:Menlo,'DejaVu Sans Mono',consolas,'Courier New',monospace\">18:37:51.818 | <span style=\"color: #008080; text-decoration-color: #008080\">INFO</span>    | Task run 'process_pool_vol-f3874c79-56' - Finished in state <span style=\"color: #008000; text-decoration-color: #008000\">Completed</span>()\n",
       "</pre>\n"
      ],
      "text/plain": [
       "18:37:51.818 | \u001b[36mINFO\u001b[0m    | Task run 'process_pool_vol-f3874c79-56' - Finished in state \u001b[32mCompleted\u001b[0m()\n"
      ]
     },
     "metadata": {},
     "output_type": "display_data"
    },
    {
     "data": {
      "text/html": [
       "<pre style=\"white-space:pre;overflow-x:auto;line-height:normal;font-family:Menlo,'DejaVu Sans Mono',consolas,'Courier New',monospace\">18:37:51.829 | <span style=\"color: #008080; text-decoration-color: #008080\">INFO</span>    | Flow run<span style=\"color: #800080; text-decoration-color: #800080\"> 'big-barracuda'</span> - Created task run 'process_pool_vol-f3874c79-57' for task 'process_pool_vol'\n",
       "</pre>\n"
      ],
      "text/plain": [
       "18:37:51.829 | \u001b[36mINFO\u001b[0m    | Flow run\u001b[35m 'big-barracuda'\u001b[0m - Created task run 'process_pool_vol-f3874c79-57' for task 'process_pool_vol'\n"
      ]
     },
     "metadata": {},
     "output_type": "display_data"
    },
    {
     "data": {
      "text/html": [
       "<pre style=\"white-space:pre;overflow-x:auto;line-height:normal;font-family:Menlo,'DejaVu Sans Mono',consolas,'Courier New',monospace\">18:37:51.830 | <span style=\"color: #008080; text-decoration-color: #008080\">INFO</span>    | Flow run<span style=\"color: #800080; text-decoration-color: #800080\"> 'big-barracuda'</span> - Executing 'process_pool_vol-f3874c79-57' immediately...\n",
       "</pre>\n"
      ],
      "text/plain": [
       "18:37:51.830 | \u001b[36mINFO\u001b[0m    | Flow run\u001b[35m 'big-barracuda'\u001b[0m - Executing 'process_pool_vol-f3874c79-57' immediately...\n"
      ]
     },
     "metadata": {},
     "output_type": "display_data"
    },
    {
     "data": {
      "text/html": [
       "<pre style=\"white-space:pre;overflow-x:auto;line-height:normal;font-family:Menlo,'DejaVu Sans Mono',consolas,'Courier New',monospace\">18:37:51.854 | <span style=\"color: #008080; text-decoration-color: #008080\">INFO</span>    | Task run 'process_pool_vol-f3874c79-57' - Finished in state <span style=\"color: #008000; text-decoration-color: #008000\">Completed</span>()\n",
       "</pre>\n"
      ],
      "text/plain": [
       "18:37:51.854 | \u001b[36mINFO\u001b[0m    | Task run 'process_pool_vol-f3874c79-57' - Finished in state \u001b[32mCompleted\u001b[0m()\n"
      ]
     },
     "metadata": {},
     "output_type": "display_data"
    },
    {
     "data": {
      "text/html": [
       "<pre style=\"white-space:pre;overflow-x:auto;line-height:normal;font-family:Menlo,'DejaVu Sans Mono',consolas,'Courier New',monospace\">18:37:51.864 | <span style=\"color: #008080; text-decoration-color: #008080\">INFO</span>    | Flow run<span style=\"color: #800080; text-decoration-color: #800080\"> 'big-barracuda'</span> - Created task run 'process_pool_vol-f3874c79-58' for task 'process_pool_vol'\n",
       "</pre>\n"
      ],
      "text/plain": [
       "18:37:51.864 | \u001b[36mINFO\u001b[0m    | Flow run\u001b[35m 'big-barracuda'\u001b[0m - Created task run 'process_pool_vol-f3874c79-58' for task 'process_pool_vol'\n"
      ]
     },
     "metadata": {},
     "output_type": "display_data"
    },
    {
     "data": {
      "text/html": [
       "<pre style=\"white-space:pre;overflow-x:auto;line-height:normal;font-family:Menlo,'DejaVu Sans Mono',consolas,'Courier New',monospace\">18:37:51.865 | <span style=\"color: #008080; text-decoration-color: #008080\">INFO</span>    | Flow run<span style=\"color: #800080; text-decoration-color: #800080\"> 'big-barracuda'</span> - Executing 'process_pool_vol-f3874c79-58' immediately...\n",
       "</pre>\n"
      ],
      "text/plain": [
       "18:37:51.865 | \u001b[36mINFO\u001b[0m    | Flow run\u001b[35m 'big-barracuda'\u001b[0m - Executing 'process_pool_vol-f3874c79-58' immediately...\n"
      ]
     },
     "metadata": {},
     "output_type": "display_data"
    },
    {
     "data": {
      "text/html": [
       "<pre style=\"white-space:pre;overflow-x:auto;line-height:normal;font-family:Menlo,'DejaVu Sans Mono',consolas,'Courier New',monospace\">18:37:51.890 | <span style=\"color: #008080; text-decoration-color: #008080\">INFO</span>    | Task run 'process_pool_vol-f3874c79-58' - Finished in state <span style=\"color: #008000; text-decoration-color: #008000\">Completed</span>()\n",
       "</pre>\n"
      ],
      "text/plain": [
       "18:37:51.890 | \u001b[36mINFO\u001b[0m    | Task run 'process_pool_vol-f3874c79-58' - Finished in state \u001b[32mCompleted\u001b[0m()\n"
      ]
     },
     "metadata": {},
     "output_type": "display_data"
    },
    {
     "data": {
      "text/html": [
       "<pre style=\"white-space:pre;overflow-x:auto;line-height:normal;font-family:Menlo,'DejaVu Sans Mono',consolas,'Courier New',monospace\">18:37:51.962 | <span style=\"color: #008080; text-decoration-color: #008080\">INFO</span>    | Flow run<span style=\"color: #800080; text-decoration-color: #800080\"> 'big-barracuda'</span> - Finished in state <span style=\"color: #008000; text-decoration-color: #008000\">Completed</span>()\n",
       "</pre>\n"
      ],
      "text/plain": [
       "18:37:51.962 | \u001b[36mINFO\u001b[0m    | Flow run\u001b[35m 'big-barracuda'\u001b[0m - Finished in state \u001b[32mCompleted\u001b[0m()\n"
      ]
     },
     "metadata": {},
     "output_type": "display_data"
    },
    {
     "name": "stderr",
     "output_type": "stream",
     "text": [
      "/opt/miniconda3/envs/flywheel/lib/python3.10/site-packages/prefect/tasks.py:206: UserWarning: A task named 'flow-metapool' and defined at '/var/folders/5c/hf9_blgj3jbbxxvkw_s9snsw0000gn/T/ipykernel_94847/2663358337.py:63' conflicts with another task. Consider specifying a unique `name` parameter in the task definition:\n",
      "\n",
      " `@task(name='my_unique_name', ...)`\n",
      "  warnings.warn(\n"
     ]
    },
    {
     "data": {
      "text/html": [
       "<pre style=\"white-space:pre;overflow-x:auto;line-height:normal;font-family:Menlo,'DejaVu Sans Mono',consolas,'Courier New',monospace\">18:37:51.993 | <span style=\"color: #008080; text-decoration-color: #008080\">INFO</span>    | Flow run<span style=\"color: #800080; text-decoration-color: #800080\"> 'spirited-jellyfish'</span> - Created subflow run<span style=\"color: #800080; text-decoration-color: #800080\"> 'finicky-swallow'</span> for flow<span style=\"color: #800080; text-decoration-color: #800080; font-weight: bold\"> 'flow-metapool'</span>\n",
       "</pre>\n"
      ],
      "text/plain": [
       "18:37:51.993 | \u001b[36mINFO\u001b[0m    | Flow run\u001b[35m 'spirited-jellyfish'\u001b[0m - Created subflow run\u001b[35m 'finicky-swallow'\u001b[0m for flow\u001b[1;35m 'flow-metapool'\u001b[0m\n"
      ]
     },
     "metadata": {},
     "output_type": "display_data"
    },
    {
     "data": {
      "text/html": [
       "<pre style=\"white-space:pre;overflow-x:auto;line-height:normal;font-family:Menlo,'DejaVu Sans Mono',consolas,'Courier New',monospace\">18:37:52.020 | <span style=\"color: #008080; text-decoration-color: #008080\">INFO</span>    | Flow run<span style=\"color: #800080; text-decoration-color: #800080\"> 'finicky-swallow'</span> - Created task run 'query_pools-66de95c5-0' for task 'query_pools'\n",
       "</pre>\n"
      ],
      "text/plain": [
       "18:37:52.020 | \u001b[36mINFO\u001b[0m    | Flow run\u001b[35m 'finicky-swallow'\u001b[0m - Created task run 'query_pools-66de95c5-0' for task 'query_pools'\n"
      ]
     },
     "metadata": {},
     "output_type": "display_data"
    },
    {
     "data": {
      "text/html": [
       "<pre style=\"white-space:pre;overflow-x:auto;line-height:normal;font-family:Menlo,'DejaVu Sans Mono',consolas,'Courier New',monospace\">18:37:52.021 | <span style=\"color: #008080; text-decoration-color: #008080\">INFO</span>    | Flow run<span style=\"color: #800080; text-decoration-color: #800080\"> 'finicky-swallow'</span> - Executing 'query_pools-66de95c5-0' immediately...\n",
       "</pre>\n"
      ],
      "text/plain": [
       "18:37:52.021 | \u001b[36mINFO\u001b[0m    | Flow run\u001b[35m 'finicky-swallow'\u001b[0m - Executing 'query_pools-66de95c5-0' immediately...\n"
      ]
     },
     "metadata": {},
     "output_type": "display_data"
    },
    {
     "data": {
      "text/html": [
       "<pre style=\"white-space:pre;overflow-x:auto;line-height:normal;font-family:Menlo,'DejaVu Sans Mono',consolas,'Courier New',monospace\">18:37:52.030 | <span style=\"color: #008080; text-decoration-color: #008080\">INFO</span>    | Task run 'query_pools-66de95c5-0' - Finished in state Cached(type=COMPLETED)\n",
       "</pre>\n"
      ],
      "text/plain": [
       "18:37:52.030 | \u001b[36mINFO\u001b[0m    | Task run 'query_pools-66de95c5-0' - Finished in state Cached(type=COMPLETED)\n"
      ]
     },
     "metadata": {},
     "output_type": "display_data"
    },
    {
     "data": {
      "text/html": [
       "<pre style=\"white-space:pre;overflow-x:auto;line-height:normal;font-family:Menlo,'DejaVu Sans Mono',consolas,'Courier New',monospace\">18:37:52.050 | <span style=\"color: #008080; text-decoration-color: #008080\">INFO</span>    | Flow run<span style=\"color: #800080; text-decoration-color: #800080\"> 'finicky-swallow'</span> - Created task run 'process_pools-45529377-0' for task 'process_pools'\n",
       "</pre>\n"
      ],
      "text/plain": [
       "18:37:52.050 | \u001b[36mINFO\u001b[0m    | Flow run\u001b[35m 'finicky-swallow'\u001b[0m - Created task run 'process_pools-45529377-0' for task 'process_pools'\n"
      ]
     },
     "metadata": {},
     "output_type": "display_data"
    },
    {
     "data": {
      "text/html": [
       "<pre style=\"white-space:pre;overflow-x:auto;line-height:normal;font-family:Menlo,'DejaVu Sans Mono',consolas,'Courier New',monospace\">18:37:52.051 | <span style=\"color: #008080; text-decoration-color: #008080\">INFO</span>    | Flow run<span style=\"color: #800080; text-decoration-color: #800080\"> 'finicky-swallow'</span> - Executing 'process_pools-45529377-0' immediately...\n",
       "</pre>\n"
      ],
      "text/plain": [
       "18:37:52.051 | \u001b[36mINFO\u001b[0m    | Flow run\u001b[35m 'finicky-swallow'\u001b[0m - Executing 'process_pools-45529377-0' immediately...\n"
      ]
     },
     "metadata": {},
     "output_type": "display_data"
    },
    {
     "data": {
      "text/html": [
       "<pre style=\"white-space:pre;overflow-x:auto;line-height:normal;font-family:Menlo,'DejaVu Sans Mono',consolas,'Courier New',monospace\">18:37:52.075 | <span style=\"color: #008080; text-decoration-color: #008080\">INFO</span>    | Task run 'process_pools-45529377-0' - Finished in state <span style=\"color: #008000; text-decoration-color: #008000\">Completed</span>()\n",
       "</pre>\n"
      ],
      "text/plain": [
       "18:37:52.075 | \u001b[36mINFO\u001b[0m    | Task run 'process_pools-45529377-0' - Finished in state \u001b[32mCompleted\u001b[0m()\n"
      ]
     },
     "metadata": {},
     "output_type": "display_data"
    },
    {
     "data": {
      "text/html": [
       "<pre style=\"white-space:pre;overflow-x:auto;line-height:normal;font-family:Menlo,'DejaVu Sans Mono',consolas,'Courier New',monospace\">18:37:52.151 | <span style=\"color: #008080; text-decoration-color: #008080\">INFO</span>    | Flow run<span style=\"color: #800080; text-decoration-color: #800080\"> 'finicky-swallow'</span> - Created task run 'query_pool_snaps-60635b41-0' for task 'query_pool_snaps'\n",
       "</pre>\n"
      ],
      "text/plain": [
       "18:37:52.151 | \u001b[36mINFO\u001b[0m    | Flow run\u001b[35m 'finicky-swallow'\u001b[0m - Created task run 'query_pool_snaps-60635b41-0' for task 'query_pool_snaps'\n"
      ]
     },
     "metadata": {},
     "output_type": "display_data"
    },
    {
     "data": {
      "text/html": [
       "<pre style=\"white-space:pre;overflow-x:auto;line-height:normal;font-family:Menlo,'DejaVu Sans Mono',consolas,'Courier New',monospace\">18:37:52.152 | <span style=\"color: #008080; text-decoration-color: #008080\">INFO</span>    | Flow run<span style=\"color: #800080; text-decoration-color: #800080\"> 'finicky-swallow'</span> - Submitted task run 'query_pool_snaps-60635b41-0' for execution.\n",
       "</pre>\n"
      ],
      "text/plain": [
       "18:37:52.152 | \u001b[36mINFO\u001b[0m    | Flow run\u001b[35m 'finicky-swallow'\u001b[0m - Submitted task run 'query_pool_snaps-60635b41-0' for execution.\n"
      ]
     },
     "metadata": {},
     "output_type": "display_data"
    },
    {
     "data": {
      "text/html": [
       "<pre style=\"white-space:pre;overflow-x:auto;line-height:normal;font-family:Menlo,'DejaVu Sans Mono',consolas,'Courier New',monospace\">18:37:52.171 | <span style=\"color: #008080; text-decoration-color: #008080\">INFO</span>    | Flow run<span style=\"color: #800080; text-decoration-color: #800080\"> 'finicky-swallow'</span> - Created task run 'query_pool_snaps-60635b41-5' for task 'query_pool_snaps'\n",
       "</pre>\n"
      ],
      "text/plain": [
       "18:37:52.171 | \u001b[36mINFO\u001b[0m    | Flow run\u001b[35m 'finicky-swallow'\u001b[0m - Created task run 'query_pool_snaps-60635b41-5' for task 'query_pool_snaps'\n"
      ]
     },
     "metadata": {},
     "output_type": "display_data"
    },
    {
     "data": {
      "text/html": [
       "<pre style=\"white-space:pre;overflow-x:auto;line-height:normal;font-family:Menlo,'DejaVu Sans Mono',consolas,'Courier New',monospace\">18:37:52.172 | <span style=\"color: #008080; text-decoration-color: #008080\">INFO</span>    | Flow run<span style=\"color: #800080; text-decoration-color: #800080\"> 'finicky-swallow'</span> - Submitted task run 'query_pool_snaps-60635b41-5' for execution.\n",
       "</pre>\n"
      ],
      "text/plain": [
       "18:37:52.172 | \u001b[36mINFO\u001b[0m    | Flow run\u001b[35m 'finicky-swallow'\u001b[0m - Submitted task run 'query_pool_snaps-60635b41-5' for execution.\n"
      ]
     },
     "metadata": {},
     "output_type": "display_data"
    },
    {
     "data": {
      "text/html": [
       "<pre style=\"white-space:pre;overflow-x:auto;line-height:normal;font-family:Menlo,'DejaVu Sans Mono',consolas,'Courier New',monospace\">18:37:52.180 | <span style=\"color: #008080; text-decoration-color: #008080\">INFO</span>    | Flow run<span style=\"color: #800080; text-decoration-color: #800080\"> 'finicky-swallow'</span> - Created task run 'query_pool_vol-8bdd8db3-12' for task 'query_pool_vol'\n",
       "</pre>\n"
      ],
      "text/plain": [
       "18:37:52.180 | \u001b[36mINFO\u001b[0m    | Flow run\u001b[35m 'finicky-swallow'\u001b[0m - Created task run 'query_pool_vol-8bdd8db3-12' for task 'query_pool_vol'\n"
      ]
     },
     "metadata": {},
     "output_type": "display_data"
    },
    {
     "data": {
      "text/html": [
       "<pre style=\"white-space:pre;overflow-x:auto;line-height:normal;font-family:Menlo,'DejaVu Sans Mono',consolas,'Courier New',monospace\">18:37:52.180 | <span style=\"color: #008080; text-decoration-color: #008080\">INFO</span>    | Flow run<span style=\"color: #800080; text-decoration-color: #800080\"> 'finicky-swallow'</span> - Submitted task run 'query_pool_vol-8bdd8db3-12' for execution.\n",
       "</pre>\n"
      ],
      "text/plain": [
       "18:37:52.180 | \u001b[36mINFO\u001b[0m    | Flow run\u001b[35m 'finicky-swallow'\u001b[0m - Submitted task run 'query_pool_vol-8bdd8db3-12' for execution.\n"
      ]
     },
     "metadata": {},
     "output_type": "display_data"
    },
    {
     "data": {
      "text/html": [
       "<pre style=\"white-space:pre;overflow-x:auto;line-height:normal;font-family:Menlo,'DejaVu Sans Mono',consolas,'Courier New',monospace\">18:37:52.191 | <span style=\"color: #008080; text-decoration-color: #008080\">INFO</span>    | Flow run<span style=\"color: #800080; text-decoration-color: #800080\"> 'finicky-swallow'</span> - Created task run 'query_pool_snaps-60635b41-10' for task 'query_pool_snaps'\n",
       "</pre>\n"
      ],
      "text/plain": [
       "18:37:52.191 | \u001b[36mINFO\u001b[0m    | Flow run\u001b[35m 'finicky-swallow'\u001b[0m - Created task run 'query_pool_snaps-60635b41-10' for task 'query_pool_snaps'\n"
      ]
     },
     "metadata": {},
     "output_type": "display_data"
    },
    {
     "data": {
      "text/html": [
       "<pre style=\"white-space:pre;overflow-x:auto;line-height:normal;font-family:Menlo,'DejaVu Sans Mono',consolas,'Courier New',monospace\">18:37:52.192 | <span style=\"color: #008080; text-decoration-color: #008080\">INFO</span>    | Flow run<span style=\"color: #800080; text-decoration-color: #800080\"> 'finicky-swallow'</span> - Submitted task run 'query_pool_snaps-60635b41-10' for execution.\n",
       "</pre>\n"
      ],
      "text/plain": [
       "18:37:52.192 | \u001b[36mINFO\u001b[0m    | Flow run\u001b[35m 'finicky-swallow'\u001b[0m - Submitted task run 'query_pool_snaps-60635b41-10' for execution.\n"
      ]
     },
     "metadata": {},
     "output_type": "display_data"
    },
    {
     "data": {
      "text/html": [
       "<pre style=\"white-space:pre;overflow-x:auto;line-height:normal;font-family:Menlo,'DejaVu Sans Mono',consolas,'Courier New',monospace\">18:37:52.205 | <span style=\"color: #008080; text-decoration-color: #008080\">INFO</span>    | Flow run<span style=\"color: #800080; text-decoration-color: #800080\"> 'finicky-swallow'</span> - Created task run 'query_pool_vol-8bdd8db3-4' for task 'query_pool_vol'\n",
       "</pre>\n"
      ],
      "text/plain": [
       "18:37:52.205 | \u001b[36mINFO\u001b[0m    | Flow run\u001b[35m 'finicky-swallow'\u001b[0m - Created task run 'query_pool_vol-8bdd8db3-4' for task 'query_pool_vol'\n"
      ]
     },
     "metadata": {},
     "output_type": "display_data"
    },
    {
     "data": {
      "text/html": [
       "<pre style=\"white-space:pre;overflow-x:auto;line-height:normal;font-family:Menlo,'DejaVu Sans Mono',consolas,'Courier New',monospace\">18:37:52.206 | <span style=\"color: #008080; text-decoration-color: #008080\">INFO</span>    | Flow run<span style=\"color: #800080; text-decoration-color: #800080\"> 'finicky-swallow'</span> - Submitted task run 'query_pool_vol-8bdd8db3-4' for execution.\n",
       "</pre>\n"
      ],
      "text/plain": [
       "18:37:52.206 | \u001b[36mINFO\u001b[0m    | Flow run\u001b[35m 'finicky-swallow'\u001b[0m - Submitted task run 'query_pool_vol-8bdd8db3-4' for execution.\n"
      ]
     },
     "metadata": {},
     "output_type": "display_data"
    },
    {
     "data": {
      "text/html": [
       "<pre style=\"white-space:pre;overflow-x:auto;line-height:normal;font-family:Menlo,'DejaVu Sans Mono',consolas,'Courier New',monospace\">18:37:52.212 | <span style=\"color: #008080; text-decoration-color: #008080\">INFO</span>    | Task run 'query_pool_vol-8bdd8db3-12' - Finished in state Cached(type=COMPLETED)\n",
       "</pre>\n"
      ],
      "text/plain": [
       "18:37:52.212 | \u001b[36mINFO\u001b[0m    | Task run 'query_pool_vol-8bdd8db3-12' - Finished in state Cached(type=COMPLETED)\n"
      ]
     },
     "metadata": {},
     "output_type": "display_data"
    },
    {
     "data": {
      "text/html": [
       "<pre style=\"white-space:pre;overflow-x:auto;line-height:normal;font-family:Menlo,'DejaVu Sans Mono',consolas,'Courier New',monospace\">18:37:52.216 | <span style=\"color: #008080; text-decoration-color: #008080\">INFO</span>    | Task run 'query_pool_snaps-60635b41-10' - Finished in state Cached(type=COMPLETED)\n",
       "</pre>\n"
      ],
      "text/plain": [
       "18:37:52.216 | \u001b[36mINFO\u001b[0m    | Task run 'query_pool_snaps-60635b41-10' - Finished in state Cached(type=COMPLETED)\n"
      ]
     },
     "metadata": {},
     "output_type": "display_data"
    },
    {
     "data": {
      "text/html": [
       "<pre style=\"white-space:pre;overflow-x:auto;line-height:normal;font-family:Menlo,'DejaVu Sans Mono',consolas,'Courier New',monospace\">18:37:52.224 | <span style=\"color: #008080; text-decoration-color: #008080\">INFO</span>    | Flow run<span style=\"color: #800080; text-decoration-color: #800080\"> 'finicky-swallow'</span> - Created task run 'query_pool_vol-8bdd8db3-9' for task 'query_pool_vol'\n",
       "</pre>\n"
      ],
      "text/plain": [
       "18:37:52.224 | \u001b[36mINFO\u001b[0m    | Flow run\u001b[35m 'finicky-swallow'\u001b[0m - Created task run 'query_pool_vol-8bdd8db3-9' for task 'query_pool_vol'\n"
      ]
     },
     "metadata": {},
     "output_type": "display_data"
    },
    {
     "data": {
      "text/html": [
       "<pre style=\"white-space:pre;overflow-x:auto;line-height:normal;font-family:Menlo,'DejaVu Sans Mono',consolas,'Courier New',monospace\">18:37:52.225 | <span style=\"color: #008080; text-decoration-color: #008080\">INFO</span>    | Flow run<span style=\"color: #800080; text-decoration-color: #800080\"> 'finicky-swallow'</span> - Submitted task run 'query_pool_vol-8bdd8db3-9' for execution.\n",
       "</pre>\n"
      ],
      "text/plain": [
       "18:37:52.225 | \u001b[36mINFO\u001b[0m    | Flow run\u001b[35m 'finicky-swallow'\u001b[0m - Submitted task run 'query_pool_vol-8bdd8db3-9' for execution.\n"
      ]
     },
     "metadata": {},
     "output_type": "display_data"
    },
    {
     "data": {
      "text/html": [
       "<pre style=\"white-space:pre;overflow-x:auto;line-height:normal;font-family:Menlo,'DejaVu Sans Mono',consolas,'Courier New',monospace\">18:37:52.231 | <span style=\"color: #008080; text-decoration-color: #008080\">INFO</span>    | Task run 'query_pool_vol-8bdd8db3-4' - Finished in state Cached(type=COMPLETED)\n",
       "</pre>\n"
      ],
      "text/plain": [
       "18:37:52.231 | \u001b[36mINFO\u001b[0m    | Task run 'query_pool_vol-8bdd8db3-4' - Finished in state Cached(type=COMPLETED)\n"
      ]
     },
     "metadata": {},
     "output_type": "display_data"
    },
    {
     "data": {
      "text/html": [
       "<pre style=\"white-space:pre;overflow-x:auto;line-height:normal;font-family:Menlo,'DejaVu Sans Mono',consolas,'Courier New',monospace\">18:37:52.240 | <span style=\"color: #008080; text-decoration-color: #008080\">INFO</span>    | Flow run<span style=\"color: #800080; text-decoration-color: #800080\"> 'finicky-swallow'</span> - Created task run 'query_pool_vol-8bdd8db3-7' for task 'query_pool_vol'\n",
       "</pre>\n"
      ],
      "text/plain": [
       "18:37:52.240 | \u001b[36mINFO\u001b[0m    | Flow run\u001b[35m 'finicky-swallow'\u001b[0m - Created task run 'query_pool_vol-8bdd8db3-7' for task 'query_pool_vol'\n"
      ]
     },
     "metadata": {},
     "output_type": "display_data"
    },
    {
     "data": {
      "text/html": [
       "<pre style=\"white-space:pre;overflow-x:auto;line-height:normal;font-family:Menlo,'DejaVu Sans Mono',consolas,'Courier New',monospace\">18:37:52.241 | <span style=\"color: #008080; text-decoration-color: #008080\">INFO</span>    | Flow run<span style=\"color: #800080; text-decoration-color: #800080\"> 'finicky-swallow'</span> - Submitted task run 'query_pool_vol-8bdd8db3-7' for execution.\n",
       "</pre>\n"
      ],
      "text/plain": [
       "18:37:52.241 | \u001b[36mINFO\u001b[0m    | Flow run\u001b[35m 'finicky-swallow'\u001b[0m - Submitted task run 'query_pool_vol-8bdd8db3-7' for execution.\n"
      ]
     },
     "metadata": {},
     "output_type": "display_data"
    },
    {
     "data": {
      "text/html": [
       "<pre style=\"white-space:pre;overflow-x:auto;line-height:normal;font-family:Menlo,'DejaVu Sans Mono',consolas,'Courier New',monospace\">18:37:52.248 | <span style=\"color: #008080; text-decoration-color: #008080\">INFO</span>    | Flow run<span style=\"color: #800080; text-decoration-color: #800080\"> 'finicky-swallow'</span> - Created task run 'query_pool_snaps-60635b41-4' for task 'query_pool_snaps'\n",
       "</pre>\n"
      ],
      "text/plain": [
       "18:37:52.248 | \u001b[36mINFO\u001b[0m    | Flow run\u001b[35m 'finicky-swallow'\u001b[0m - Created task run 'query_pool_snaps-60635b41-4' for task 'query_pool_snaps'\n"
      ]
     },
     "metadata": {},
     "output_type": "display_data"
    },
    {
     "data": {
      "text/html": [
       "<pre style=\"white-space:pre;overflow-x:auto;line-height:normal;font-family:Menlo,'DejaVu Sans Mono',consolas,'Courier New',monospace\">18:37:52.249 | <span style=\"color: #008080; text-decoration-color: #008080\">INFO</span>    | Flow run<span style=\"color: #800080; text-decoration-color: #800080\"> 'finicky-swallow'</span> - Submitted task run 'query_pool_snaps-60635b41-4' for execution.\n",
       "</pre>\n"
      ],
      "text/plain": [
       "18:37:52.249 | \u001b[36mINFO\u001b[0m    | Flow run\u001b[35m 'finicky-swallow'\u001b[0m - Submitted task run 'query_pool_snaps-60635b41-4' for execution.\n"
      ]
     },
     "metadata": {},
     "output_type": "display_data"
    },
    {
     "data": {
      "text/html": [
       "<pre style=\"white-space:pre;overflow-x:auto;line-height:normal;font-family:Menlo,'DejaVu Sans Mono',consolas,'Courier New',monospace\">18:37:52.260 | <span style=\"color: #008080; text-decoration-color: #008080\">INFO</span>    | Flow run<span style=\"color: #800080; text-decoration-color: #800080\"> 'finicky-swallow'</span> - Created task run 'query_pool_vol-8bdd8db3-1' for task 'query_pool_vol'\n",
       "</pre>\n"
      ],
      "text/plain": [
       "18:37:52.260 | \u001b[36mINFO\u001b[0m    | Flow run\u001b[35m 'finicky-swallow'\u001b[0m - Created task run 'query_pool_vol-8bdd8db3-1' for task 'query_pool_vol'\n"
      ]
     },
     "metadata": {},
     "output_type": "display_data"
    },
    {
     "data": {
      "text/html": [
       "<pre style=\"white-space:pre;overflow-x:auto;line-height:normal;font-family:Menlo,'DejaVu Sans Mono',consolas,'Courier New',monospace\">18:37:52.261 | <span style=\"color: #008080; text-decoration-color: #008080\">INFO</span>    | Flow run<span style=\"color: #800080; text-decoration-color: #800080\"> 'finicky-swallow'</span> - Submitted task run 'query_pool_vol-8bdd8db3-1' for execution.\n",
       "</pre>\n"
      ],
      "text/plain": [
       "18:37:52.261 | \u001b[36mINFO\u001b[0m    | Flow run\u001b[35m 'finicky-swallow'\u001b[0m - Submitted task run 'query_pool_vol-8bdd8db3-1' for execution.\n"
      ]
     },
     "metadata": {},
     "output_type": "display_data"
    },
    {
     "data": {
      "text/html": [
       "<pre style=\"white-space:pre;overflow-x:auto;line-height:normal;font-family:Menlo,'DejaVu Sans Mono',consolas,'Courier New',monospace\">18:37:52.271 | <span style=\"color: #008080; text-decoration-color: #008080\">INFO</span>    | Flow run<span style=\"color: #800080; text-decoration-color: #800080\"> 'finicky-swallow'</span> - Created task run 'query_pool_snaps-60635b41-7' for task 'query_pool_snaps'\n",
       "</pre>\n"
      ],
      "text/plain": [
       "18:37:52.271 | \u001b[36mINFO\u001b[0m    | Flow run\u001b[35m 'finicky-swallow'\u001b[0m - Created task run 'query_pool_snaps-60635b41-7' for task 'query_pool_snaps'\n"
      ]
     },
     "metadata": {},
     "output_type": "display_data"
    },
    {
     "data": {
      "text/html": [
       "<pre style=\"white-space:pre;overflow-x:auto;line-height:normal;font-family:Menlo,'DejaVu Sans Mono',consolas,'Courier New',monospace\">18:37:52.272 | <span style=\"color: #008080; text-decoration-color: #008080\">INFO</span>    | Flow run<span style=\"color: #800080; text-decoration-color: #800080\"> 'finicky-swallow'</span> - Submitted task run 'query_pool_snaps-60635b41-7' for execution.\n",
       "</pre>\n"
      ],
      "text/plain": [
       "18:37:52.272 | \u001b[36mINFO\u001b[0m    | Flow run\u001b[35m 'finicky-swallow'\u001b[0m - Submitted task run 'query_pool_snaps-60635b41-7' for execution.\n"
      ]
     },
     "metadata": {},
     "output_type": "display_data"
    },
    {
     "data": {
      "text/html": [
       "<pre style=\"white-space:pre;overflow-x:auto;line-height:normal;font-family:Menlo,'DejaVu Sans Mono',consolas,'Courier New',monospace\">18:37:52.281 | <span style=\"color: #008080; text-decoration-color: #008080\">INFO</span>    | Task run 'query_pool_snaps-60635b41-5' - Finished in state Cached(type=COMPLETED)\n",
       "</pre>\n"
      ],
      "text/plain": [
       "18:37:52.281 | \u001b[36mINFO\u001b[0m    | Task run 'query_pool_snaps-60635b41-5' - Finished in state Cached(type=COMPLETED)\n"
      ]
     },
     "metadata": {},
     "output_type": "display_data"
    },
    {
     "data": {
      "text/html": [
       "<pre style=\"white-space:pre;overflow-x:auto;line-height:normal;font-family:Menlo,'DejaVu Sans Mono',consolas,'Courier New',monospace\">18:37:52.286 | <span style=\"color: #008080; text-decoration-color: #008080\">INFO</span>    | Task run 'query_pool_vol-8bdd8db3-1' - Finished in state Cached(type=COMPLETED)\n",
       "</pre>\n"
      ],
      "text/plain": [
       "18:37:52.286 | \u001b[36mINFO\u001b[0m    | Task run 'query_pool_vol-8bdd8db3-1' - Finished in state Cached(type=COMPLETED)\n"
      ]
     },
     "metadata": {},
     "output_type": "display_data"
    },
    {
     "data": {
      "text/html": [
       "<pre style=\"white-space:pre;overflow-x:auto;line-height:normal;font-family:Menlo,'DejaVu Sans Mono',consolas,'Courier New',monospace\">18:37:52.292 | <span style=\"color: #008080; text-decoration-color: #008080\">INFO</span>    | Flow run<span style=\"color: #800080; text-decoration-color: #800080\"> 'finicky-swallow'</span> - Created task run 'query_pool_snaps-60635b41-6' for task 'query_pool_snaps'\n",
       "</pre>\n"
      ],
      "text/plain": [
       "18:37:52.292 | \u001b[36mINFO\u001b[0m    | Flow run\u001b[35m 'finicky-swallow'\u001b[0m - Created task run 'query_pool_snaps-60635b41-6' for task 'query_pool_snaps'\n"
      ]
     },
     "metadata": {},
     "output_type": "display_data"
    },
    {
     "data": {
      "text/html": [
       "<pre style=\"white-space:pre;overflow-x:auto;line-height:normal;font-family:Menlo,'DejaVu Sans Mono',consolas,'Courier New',monospace\">18:37:52.293 | <span style=\"color: #008080; text-decoration-color: #008080\">INFO</span>    | Flow run<span style=\"color: #800080; text-decoration-color: #800080\"> 'finicky-swallow'</span> - Submitted task run 'query_pool_snaps-60635b41-6' for execution.\n",
       "</pre>\n"
      ],
      "text/plain": [
       "18:37:52.293 | \u001b[36mINFO\u001b[0m    | Flow run\u001b[35m 'finicky-swallow'\u001b[0m - Submitted task run 'query_pool_snaps-60635b41-6' for execution.\n"
      ]
     },
     "metadata": {},
     "output_type": "display_data"
    },
    {
     "data": {
      "text/html": [
       "<pre style=\"white-space:pre;overflow-x:auto;line-height:normal;font-family:Menlo,'DejaVu Sans Mono',consolas,'Courier New',monospace\">18:37:52.299 | <span style=\"color: #008080; text-decoration-color: #008080\">INFO</span>    | Task run 'query_pool_snaps-60635b41-7' - Finished in state Cached(type=COMPLETED)\n",
       "</pre>\n"
      ],
      "text/plain": [
       "18:37:52.299 | \u001b[36mINFO\u001b[0m    | Task run 'query_pool_snaps-60635b41-7' - Finished in state Cached(type=COMPLETED)\n"
      ]
     },
     "metadata": {},
     "output_type": "display_data"
    },
    {
     "data": {
      "text/html": [
       "<pre style=\"white-space:pre;overflow-x:auto;line-height:normal;font-family:Menlo,'DejaVu Sans Mono',consolas,'Courier New',monospace\">18:37:52.307 | <span style=\"color: #008080; text-decoration-color: #008080\">INFO</span>    | Flow run<span style=\"color: #800080; text-decoration-color: #800080\"> 'finicky-swallow'</span> - Created task run 'query_pool_vol-8bdd8db3-8' for task 'query_pool_vol'\n",
       "</pre>\n"
      ],
      "text/plain": [
       "18:37:52.307 | \u001b[36mINFO\u001b[0m    | Flow run\u001b[35m 'finicky-swallow'\u001b[0m - Created task run 'query_pool_vol-8bdd8db3-8' for task 'query_pool_vol'\n"
      ]
     },
     "metadata": {},
     "output_type": "display_data"
    },
    {
     "data": {
      "text/html": [
       "<pre style=\"white-space:pre;overflow-x:auto;line-height:normal;font-family:Menlo,'DejaVu Sans Mono',consolas,'Courier New',monospace\">18:37:52.308 | <span style=\"color: #008080; text-decoration-color: #008080\">INFO</span>    | Flow run<span style=\"color: #800080; text-decoration-color: #800080\"> 'finicky-swallow'</span> - Submitted task run 'query_pool_vol-8bdd8db3-8' for execution.\n",
       "</pre>\n"
      ],
      "text/plain": [
       "18:37:52.308 | \u001b[36mINFO\u001b[0m    | Flow run\u001b[35m 'finicky-swallow'\u001b[0m - Submitted task run 'query_pool_vol-8bdd8db3-8' for execution.\n"
      ]
     },
     "metadata": {},
     "output_type": "display_data"
    },
    {
     "data": {
      "text/html": [
       "<pre style=\"white-space:pre;overflow-x:auto;line-height:normal;font-family:Menlo,'DejaVu Sans Mono',consolas,'Courier New',monospace\">18:37:52.314 | <span style=\"color: #008080; text-decoration-color: #008080\">INFO</span>    | Task run 'query_pool_snaps-60635b41-6' - Finished in state Cached(type=COMPLETED)\n",
       "</pre>\n"
      ],
      "text/plain": [
       "18:37:52.314 | \u001b[36mINFO\u001b[0m    | Task run 'query_pool_snaps-60635b41-6' - Finished in state Cached(type=COMPLETED)\n"
      ]
     },
     "metadata": {},
     "output_type": "display_data"
    },
    {
     "data": {
      "text/html": [
       "<pre style=\"white-space:pre;overflow-x:auto;line-height:normal;font-family:Menlo,'DejaVu Sans Mono',consolas,'Courier New',monospace\">18:37:52.320 | <span style=\"color: #008080; text-decoration-color: #008080\">INFO</span>    | Task run 'query_pool_snaps-60635b41-0' - Finished in state Cached(type=COMPLETED)\n",
       "</pre>\n"
      ],
      "text/plain": [
       "18:37:52.320 | \u001b[36mINFO\u001b[0m    | Task run 'query_pool_snaps-60635b41-0' - Finished in state Cached(type=COMPLETED)\n"
      ]
     },
     "metadata": {},
     "output_type": "display_data"
    },
    {
     "data": {
      "text/html": [
       "<pre style=\"white-space:pre;overflow-x:auto;line-height:normal;font-family:Menlo,'DejaVu Sans Mono',consolas,'Courier New',monospace\">18:37:52.326 | <span style=\"color: #008080; text-decoration-color: #008080\">INFO</span>    | Task run 'query_pool_vol-8bdd8db3-8' - Finished in state Cached(type=COMPLETED)\n",
       "</pre>\n"
      ],
      "text/plain": [
       "18:37:52.326 | \u001b[36mINFO\u001b[0m    | Task run 'query_pool_vol-8bdd8db3-8' - Finished in state Cached(type=COMPLETED)\n"
      ]
     },
     "metadata": {},
     "output_type": "display_data"
    },
    {
     "data": {
      "text/html": [
       "<pre style=\"white-space:pre;overflow-x:auto;line-height:normal;font-family:Menlo,'DejaVu Sans Mono',consolas,'Courier New',monospace\">18:37:52.334 | <span style=\"color: #008080; text-decoration-color: #008080\">INFO</span>    | Task run 'query_pool_snaps-60635b41-4' - Finished in state Cached(type=COMPLETED)\n",
       "</pre>\n"
      ],
      "text/plain": [
       "18:37:52.334 | \u001b[36mINFO\u001b[0m    | Task run 'query_pool_snaps-60635b41-4' - Finished in state Cached(type=COMPLETED)\n"
      ]
     },
     "metadata": {},
     "output_type": "display_data"
    },
    {
     "data": {
      "text/html": [
       "<pre style=\"white-space:pre;overflow-x:auto;line-height:normal;font-family:Menlo,'DejaVu Sans Mono',consolas,'Courier New',monospace\">18:37:52.346 | <span style=\"color: #008080; text-decoration-color: #008080\">INFO</span>    | Flow run<span style=\"color: #800080; text-decoration-color: #800080\"> 'finicky-swallow'</span> - Created task run 'query_pool_vol-8bdd8db3-6' for task 'query_pool_vol'\n",
       "</pre>\n"
      ],
      "text/plain": [
       "18:37:52.346 | \u001b[36mINFO\u001b[0m    | Flow run\u001b[35m 'finicky-swallow'\u001b[0m - Created task run 'query_pool_vol-8bdd8db3-6' for task 'query_pool_vol'\n"
      ]
     },
     "metadata": {},
     "output_type": "display_data"
    },
    {
     "data": {
      "text/html": [
       "<pre style=\"white-space:pre;overflow-x:auto;line-height:normal;font-family:Menlo,'DejaVu Sans Mono',consolas,'Courier New',monospace\">18:37:52.347 | <span style=\"color: #008080; text-decoration-color: #008080\">INFO</span>    | Flow run<span style=\"color: #800080; text-decoration-color: #800080\"> 'finicky-swallow'</span> - Submitted task run 'query_pool_vol-8bdd8db3-6' for execution.\n",
       "</pre>\n"
      ],
      "text/plain": [
       "18:37:52.347 | \u001b[36mINFO\u001b[0m    | Flow run\u001b[35m 'finicky-swallow'\u001b[0m - Submitted task run 'query_pool_vol-8bdd8db3-6' for execution.\n"
      ]
     },
     "metadata": {},
     "output_type": "display_data"
    },
    {
     "data": {
      "text/html": [
       "<pre style=\"white-space:pre;overflow-x:auto;line-height:normal;font-family:Menlo,'DejaVu Sans Mono',consolas,'Courier New',monospace\">18:37:52.354 | <span style=\"color: #008080; text-decoration-color: #008080\">INFO</span>    | Flow run<span style=\"color: #800080; text-decoration-color: #800080\"> 'finicky-swallow'</span> - Created task run 'query_pool_snaps-60635b41-8' for task 'query_pool_snaps'\n",
       "</pre>\n"
      ],
      "text/plain": [
       "18:37:52.354 | \u001b[36mINFO\u001b[0m    | Flow run\u001b[35m 'finicky-swallow'\u001b[0m - Created task run 'query_pool_snaps-60635b41-8' for task 'query_pool_snaps'\n"
      ]
     },
     "metadata": {},
     "output_type": "display_data"
    },
    {
     "data": {
      "text/html": [
       "<pre style=\"white-space:pre;overflow-x:auto;line-height:normal;font-family:Menlo,'DejaVu Sans Mono',consolas,'Courier New',monospace\">18:37:52.355 | <span style=\"color: #008080; text-decoration-color: #008080\">INFO</span>    | Flow run<span style=\"color: #800080; text-decoration-color: #800080\"> 'finicky-swallow'</span> - Submitted task run 'query_pool_snaps-60635b41-8' for execution.\n",
       "</pre>\n"
      ],
      "text/plain": [
       "18:37:52.355 | \u001b[36mINFO\u001b[0m    | Flow run\u001b[35m 'finicky-swallow'\u001b[0m - Submitted task run 'query_pool_snaps-60635b41-8' for execution.\n"
      ]
     },
     "metadata": {},
     "output_type": "display_data"
    },
    {
     "data": {
      "text/html": [
       "<pre style=\"white-space:pre;overflow-x:auto;line-height:normal;font-family:Menlo,'DejaVu Sans Mono',consolas,'Courier New',monospace\">18:37:52.366 | <span style=\"color: #008080; text-decoration-color: #008080\">INFO</span>    | Flow run<span style=\"color: #800080; text-decoration-color: #800080\"> 'finicky-swallow'</span> - Created task run 'query_pool_snaps-60635b41-1' for task 'query_pool_snaps'\n",
       "</pre>\n"
      ],
      "text/plain": [
       "18:37:52.366 | \u001b[36mINFO\u001b[0m    | Flow run\u001b[35m 'finicky-swallow'\u001b[0m - Created task run 'query_pool_snaps-60635b41-1' for task 'query_pool_snaps'\n"
      ]
     },
     "metadata": {},
     "output_type": "display_data"
    },
    {
     "data": {
      "text/html": [
       "<pre style=\"white-space:pre;overflow-x:auto;line-height:normal;font-family:Menlo,'DejaVu Sans Mono',consolas,'Courier New',monospace\">18:37:52.367 | <span style=\"color: #008080; text-decoration-color: #008080\">INFO</span>    | Flow run<span style=\"color: #800080; text-decoration-color: #800080\"> 'finicky-swallow'</span> - Submitted task run 'query_pool_snaps-60635b41-1' for execution.\n",
       "</pre>\n"
      ],
      "text/plain": [
       "18:37:52.367 | \u001b[36mINFO\u001b[0m    | Flow run\u001b[35m 'finicky-swallow'\u001b[0m - Submitted task run 'query_pool_snaps-60635b41-1' for execution.\n"
      ]
     },
     "metadata": {},
     "output_type": "display_data"
    },
    {
     "data": {
      "text/html": [
       "<pre style=\"white-space:pre;overflow-x:auto;line-height:normal;font-family:Menlo,'DejaVu Sans Mono',consolas,'Courier New',monospace\">18:37:52.377 | <span style=\"color: #008080; text-decoration-color: #008080\">INFO</span>    | Flow run<span style=\"color: #800080; text-decoration-color: #800080\"> 'finicky-swallow'</span> - Created task run 'query_pool_vol-8bdd8db3-13' for task 'query_pool_vol'\n",
       "</pre>\n"
      ],
      "text/plain": [
       "18:37:52.377 | \u001b[36mINFO\u001b[0m    | Flow run\u001b[35m 'finicky-swallow'\u001b[0m - Created task run 'query_pool_vol-8bdd8db3-13' for task 'query_pool_vol'\n"
      ]
     },
     "metadata": {},
     "output_type": "display_data"
    },
    {
     "data": {
      "text/html": [
       "<pre style=\"white-space:pre;overflow-x:auto;line-height:normal;font-family:Menlo,'DejaVu Sans Mono',consolas,'Courier New',monospace\">18:37:52.378 | <span style=\"color: #008080; text-decoration-color: #008080\">INFO</span>    | Flow run<span style=\"color: #800080; text-decoration-color: #800080\"> 'finicky-swallow'</span> - Submitted task run 'query_pool_vol-8bdd8db3-13' for execution.\n",
       "</pre>\n"
      ],
      "text/plain": [
       "18:37:52.378 | \u001b[36mINFO\u001b[0m    | Flow run\u001b[35m 'finicky-swallow'\u001b[0m - Submitted task run 'query_pool_vol-8bdd8db3-13' for execution.\n"
      ]
     },
     "metadata": {},
     "output_type": "display_data"
    },
    {
     "data": {
      "text/html": [
       "<pre style=\"white-space:pre;overflow-x:auto;line-height:normal;font-family:Menlo,'DejaVu Sans Mono',consolas,'Courier New',monospace\">18:37:52.387 | <span style=\"color: #008080; text-decoration-color: #008080\">INFO</span>    | Task run 'query_pool_snaps-60635b41-8' - Finished in state Cached(type=COMPLETED)\n",
       "</pre>\n"
      ],
      "text/plain": [
       "18:37:52.387 | \u001b[36mINFO\u001b[0m    | Task run 'query_pool_snaps-60635b41-8' - Finished in state Cached(type=COMPLETED)\n"
      ]
     },
     "metadata": {},
     "output_type": "display_data"
    },
    {
     "data": {
      "text/html": [
       "<pre style=\"white-space:pre;overflow-x:auto;line-height:normal;font-family:Menlo,'DejaVu Sans Mono',consolas,'Courier New',monospace\">18:37:52.393 | <span style=\"color: #008080; text-decoration-color: #008080\">INFO</span>    | Task run 'query_pool_vol-8bdd8db3-6' - Finished in state Cached(type=COMPLETED)\n",
       "</pre>\n"
      ],
      "text/plain": [
       "18:37:52.393 | \u001b[36mINFO\u001b[0m    | Task run 'query_pool_vol-8bdd8db3-6' - Finished in state Cached(type=COMPLETED)\n"
      ]
     },
     "metadata": {},
     "output_type": "display_data"
    },
    {
     "data": {
      "text/html": [
       "<pre style=\"white-space:pre;overflow-x:auto;line-height:normal;font-family:Menlo,'DejaVu Sans Mono',consolas,'Courier New',monospace\">18:37:52.396 | <span style=\"color: #008080; text-decoration-color: #008080\">INFO</span>    | Task run 'query_pool_snaps-60635b41-1' - Finished in state Cached(type=COMPLETED)\n",
       "</pre>\n"
      ],
      "text/plain": [
       "18:37:52.396 | \u001b[36mINFO\u001b[0m    | Task run 'query_pool_snaps-60635b41-1' - Finished in state Cached(type=COMPLETED)\n"
      ]
     },
     "metadata": {},
     "output_type": "display_data"
    },
    {
     "data": {
      "text/html": [
       "<pre style=\"white-space:pre;overflow-x:auto;line-height:normal;font-family:Menlo,'DejaVu Sans Mono',consolas,'Courier New',monospace\">18:37:52.401 | <span style=\"color: #008080; text-decoration-color: #008080\">INFO</span>    | Task run 'query_pool_vol-8bdd8db3-13' - Finished in state Cached(type=COMPLETED)\n",
       "</pre>\n"
      ],
      "text/plain": [
       "18:37:52.401 | \u001b[36mINFO\u001b[0m    | Task run 'query_pool_vol-8bdd8db3-13' - Finished in state Cached(type=COMPLETED)\n"
      ]
     },
     "metadata": {},
     "output_type": "display_data"
    },
    {
     "data": {
      "text/html": [
       "<pre style=\"white-space:pre;overflow-x:auto;line-height:normal;font-family:Menlo,'DejaVu Sans Mono',consolas,'Courier New',monospace\">18:37:52.408 | <span style=\"color: #008080; text-decoration-color: #008080\">INFO</span>    | Task run 'query_pool_vol-8bdd8db3-7' - Finished in state Cached(type=COMPLETED)\n",
       "</pre>\n"
      ],
      "text/plain": [
       "18:37:52.408 | \u001b[36mINFO\u001b[0m    | Task run 'query_pool_vol-8bdd8db3-7' - Finished in state Cached(type=COMPLETED)\n"
      ]
     },
     "metadata": {},
     "output_type": "display_data"
    },
    {
     "data": {
      "text/html": [
       "<pre style=\"white-space:pre;overflow-x:auto;line-height:normal;font-family:Menlo,'DejaVu Sans Mono',consolas,'Courier New',monospace\">18:37:52.416 | <span style=\"color: #008080; text-decoration-color: #008080\">INFO</span>    | Flow run<span style=\"color: #800080; text-decoration-color: #800080\"> 'finicky-swallow'</span> - Created task run 'query_pool_snaps-60635b41-11' for task 'query_pool_snaps'\n",
       "</pre>\n"
      ],
      "text/plain": [
       "18:37:52.416 | \u001b[36mINFO\u001b[0m    | Flow run\u001b[35m 'finicky-swallow'\u001b[0m - Created task run 'query_pool_snaps-60635b41-11' for task 'query_pool_snaps'\n"
      ]
     },
     "metadata": {},
     "output_type": "display_data"
    },
    {
     "data": {
      "text/html": [
       "<pre style=\"white-space:pre;overflow-x:auto;line-height:normal;font-family:Menlo,'DejaVu Sans Mono',consolas,'Courier New',monospace\">18:37:52.417 | <span style=\"color: #008080; text-decoration-color: #008080\">INFO</span>    | Flow run<span style=\"color: #800080; text-decoration-color: #800080\"> 'finicky-swallow'</span> - Submitted task run 'query_pool_snaps-60635b41-11' for execution.\n",
       "</pre>\n"
      ],
      "text/plain": [
       "18:37:52.417 | \u001b[36mINFO\u001b[0m    | Flow run\u001b[35m 'finicky-swallow'\u001b[0m - Submitted task run 'query_pool_snaps-60635b41-11' for execution.\n"
      ]
     },
     "metadata": {},
     "output_type": "display_data"
    },
    {
     "data": {
      "text/html": [
       "<pre style=\"white-space:pre;overflow-x:auto;line-height:normal;font-family:Menlo,'DejaVu Sans Mono',consolas,'Courier New',monospace\">18:37:52.426 | <span style=\"color: #008080; text-decoration-color: #008080\">INFO</span>    | Task run 'query_pool_snaps-60635b41-11' - Finished in state Cached(type=COMPLETED)\n",
       "</pre>\n"
      ],
      "text/plain": [
       "18:37:52.426 | \u001b[36mINFO\u001b[0m    | Task run 'query_pool_snaps-60635b41-11' - Finished in state Cached(type=COMPLETED)\n"
      ]
     },
     "metadata": {},
     "output_type": "display_data"
    },
    {
     "data": {
      "text/html": [
       "<pre style=\"white-space:pre;overflow-x:auto;line-height:normal;font-family:Menlo,'DejaVu Sans Mono',consolas,'Courier New',monospace\">18:37:52.431 | <span style=\"color: #008080; text-decoration-color: #008080\">INFO</span>    | Task run 'query_pool_vol-8bdd8db3-9' - Finished in state Cached(type=COMPLETED)\n",
       "</pre>\n"
      ],
      "text/plain": [
       "18:37:52.431 | \u001b[36mINFO\u001b[0m    | Task run 'query_pool_vol-8bdd8db3-9' - Finished in state Cached(type=COMPLETED)\n"
      ]
     },
     "metadata": {},
     "output_type": "display_data"
    },
    {
     "data": {
      "text/html": [
       "<pre style=\"white-space:pre;overflow-x:auto;line-height:normal;font-family:Menlo,'DejaVu Sans Mono',consolas,'Courier New',monospace\">18:37:52.483 | <span style=\"color: #008080; text-decoration-color: #008080\">INFO</span>    | Flow run<span style=\"color: #800080; text-decoration-color: #800080\"> 'finicky-swallow'</span> - Created task run 'query_pool_snaps-60635b41-2' for task 'query_pool_snaps'\n",
       "</pre>\n"
      ],
      "text/plain": [
       "18:37:52.483 | \u001b[36mINFO\u001b[0m    | Flow run\u001b[35m 'finicky-swallow'\u001b[0m - Created task run 'query_pool_snaps-60635b41-2' for task 'query_pool_snaps'\n"
      ]
     },
     "metadata": {},
     "output_type": "display_data"
    },
    {
     "data": {
      "text/html": [
       "<pre style=\"white-space:pre;overflow-x:auto;line-height:normal;font-family:Menlo,'DejaVu Sans Mono',consolas,'Courier New',monospace\">18:37:52.484 | <span style=\"color: #008080; text-decoration-color: #008080\">INFO</span>    | Flow run<span style=\"color: #800080; text-decoration-color: #800080\"> 'finicky-swallow'</span> - Submitted task run 'query_pool_snaps-60635b41-2' for execution.\n",
       "</pre>\n"
      ],
      "text/plain": [
       "18:37:52.484 | \u001b[36mINFO\u001b[0m    | Flow run\u001b[35m 'finicky-swallow'\u001b[0m - Submitted task run 'query_pool_snaps-60635b41-2' for execution.\n"
      ]
     },
     "metadata": {},
     "output_type": "display_data"
    },
    {
     "data": {
      "text/html": [
       "<pre style=\"white-space:pre;overflow-x:auto;line-height:normal;font-family:Menlo,'DejaVu Sans Mono',consolas,'Courier New',monospace\">18:37:52.491 | <span style=\"color: #008080; text-decoration-color: #008080\">INFO</span>    | Flow run<span style=\"color: #800080; text-decoration-color: #800080\"> 'finicky-swallow'</span> - Created task run 'query_pool_vol-8bdd8db3-5' for task 'query_pool_vol'\n",
       "</pre>\n"
      ],
      "text/plain": [
       "18:37:52.491 | \u001b[36mINFO\u001b[0m    | Flow run\u001b[35m 'finicky-swallow'\u001b[0m - Created task run 'query_pool_vol-8bdd8db3-5' for task 'query_pool_vol'\n"
      ]
     },
     "metadata": {},
     "output_type": "display_data"
    },
    {
     "data": {
      "text/html": [
       "<pre style=\"white-space:pre;overflow-x:auto;line-height:normal;font-family:Menlo,'DejaVu Sans Mono',consolas,'Courier New',monospace\">18:37:52.492 | <span style=\"color: #008080; text-decoration-color: #008080\">INFO</span>    | Flow run<span style=\"color: #800080; text-decoration-color: #800080\"> 'finicky-swallow'</span> - Submitted task run 'query_pool_vol-8bdd8db3-5' for execution.\n",
       "</pre>\n"
      ],
      "text/plain": [
       "18:37:52.492 | \u001b[36mINFO\u001b[0m    | Flow run\u001b[35m 'finicky-swallow'\u001b[0m - Submitted task run 'query_pool_vol-8bdd8db3-5' for execution.\n"
      ]
     },
     "metadata": {},
     "output_type": "display_data"
    },
    {
     "data": {
      "text/html": [
       "<pre style=\"white-space:pre;overflow-x:auto;line-height:normal;font-family:Menlo,'DejaVu Sans Mono',consolas,'Courier New',monospace\">18:37:52.507 | <span style=\"color: #008080; text-decoration-color: #008080\">INFO</span>    | Flow run<span style=\"color: #800080; text-decoration-color: #800080\"> 'finicky-swallow'</span> - Created task run 'query_pool_snaps-60635b41-9' for task 'query_pool_snaps'\n",
       "</pre>\n"
      ],
      "text/plain": [
       "18:37:52.507 | \u001b[36mINFO\u001b[0m    | Flow run\u001b[35m 'finicky-swallow'\u001b[0m - Created task run 'query_pool_snaps-60635b41-9' for task 'query_pool_snaps'\n"
      ]
     },
     "metadata": {},
     "output_type": "display_data"
    },
    {
     "data": {
      "text/html": [
       "<pre style=\"white-space:pre;overflow-x:auto;line-height:normal;font-family:Menlo,'DejaVu Sans Mono',consolas,'Courier New',monospace\">18:37:52.508 | <span style=\"color: #008080; text-decoration-color: #008080\">INFO</span>    | Flow run<span style=\"color: #800080; text-decoration-color: #800080\"> 'finicky-swallow'</span> - Submitted task run 'query_pool_snaps-60635b41-9' for execution.\n",
       "</pre>\n"
      ],
      "text/plain": [
       "18:37:52.508 | \u001b[36mINFO\u001b[0m    | Flow run\u001b[35m 'finicky-swallow'\u001b[0m - Submitted task run 'query_pool_snaps-60635b41-9' for execution.\n"
      ]
     },
     "metadata": {},
     "output_type": "display_data"
    },
    {
     "data": {
      "text/html": [
       "<pre style=\"white-space:pre;overflow-x:auto;line-height:normal;font-family:Menlo,'DejaVu Sans Mono',consolas,'Courier New',monospace\">18:37:52.515 | <span style=\"color: #008080; text-decoration-color: #008080\">INFO</span>    | Task run 'query_pool_vol-8bdd8db3-5' - Finished in state Cached(type=COMPLETED)\n",
       "</pre>\n"
      ],
      "text/plain": [
       "18:37:52.515 | \u001b[36mINFO\u001b[0m    | Task run 'query_pool_vol-8bdd8db3-5' - Finished in state Cached(type=COMPLETED)\n"
      ]
     },
     "metadata": {},
     "output_type": "display_data"
    },
    {
     "data": {
      "text/html": [
       "<pre style=\"white-space:pre;overflow-x:auto;line-height:normal;font-family:Menlo,'DejaVu Sans Mono',consolas,'Courier New',monospace\">18:37:52.523 | <span style=\"color: #008080; text-decoration-color: #008080\">INFO</span>    | Flow run<span style=\"color: #800080; text-decoration-color: #800080\"> 'finicky-swallow'</span> - Created task run 'query_pool_snaps-60635b41-12' for task 'query_pool_snaps'\n",
       "</pre>\n"
      ],
      "text/plain": [
       "18:37:52.523 | \u001b[36mINFO\u001b[0m    | Flow run\u001b[35m 'finicky-swallow'\u001b[0m - Created task run 'query_pool_snaps-60635b41-12' for task 'query_pool_snaps'\n"
      ]
     },
     "metadata": {},
     "output_type": "display_data"
    },
    {
     "data": {
      "text/html": [
       "<pre style=\"white-space:pre;overflow-x:auto;line-height:normal;font-family:Menlo,'DejaVu Sans Mono',consolas,'Courier New',monospace\">18:37:52.524 | <span style=\"color: #008080; text-decoration-color: #008080\">INFO</span>    | Flow run<span style=\"color: #800080; text-decoration-color: #800080\"> 'finicky-swallow'</span> - Submitted task run 'query_pool_snaps-60635b41-12' for execution.\n",
       "</pre>\n"
      ],
      "text/plain": [
       "18:37:52.524 | \u001b[36mINFO\u001b[0m    | Flow run\u001b[35m 'finicky-swallow'\u001b[0m - Submitted task run 'query_pool_snaps-60635b41-12' for execution.\n"
      ]
     },
     "metadata": {},
     "output_type": "display_data"
    },
    {
     "data": {
      "text/html": [
       "<pre style=\"white-space:pre;overflow-x:auto;line-height:normal;font-family:Menlo,'DejaVu Sans Mono',consolas,'Courier New',monospace\">18:37:52.535 | <span style=\"color: #008080; text-decoration-color: #008080\">INFO</span>    | Task run 'query_pool_snaps-60635b41-9' - Finished in state Cached(type=COMPLETED)\n",
       "</pre>\n"
      ],
      "text/plain": [
       "18:37:52.535 | \u001b[36mINFO\u001b[0m    | Task run 'query_pool_snaps-60635b41-9' - Finished in state Cached(type=COMPLETED)\n"
      ]
     },
     "metadata": {},
     "output_type": "display_data"
    },
    {
     "data": {
      "text/html": [
       "<pre style=\"white-space:pre;overflow-x:auto;line-height:normal;font-family:Menlo,'DejaVu Sans Mono',consolas,'Courier New',monospace\">18:37:52.539 | <span style=\"color: #008080; text-decoration-color: #008080\">INFO</span>    | Task run 'query_pool_snaps-60635b41-2' - Finished in state Cached(type=COMPLETED)\n",
       "</pre>\n"
      ],
      "text/plain": [
       "18:37:52.539 | \u001b[36mINFO\u001b[0m    | Task run 'query_pool_snaps-60635b41-2' - Finished in state Cached(type=COMPLETED)\n"
      ]
     },
     "metadata": {},
     "output_type": "display_data"
    },
    {
     "data": {
      "text/html": [
       "<pre style=\"white-space:pre;overflow-x:auto;line-height:normal;font-family:Menlo,'DejaVu Sans Mono',consolas,'Courier New',monospace\">18:37:52.545 | <span style=\"color: #008080; text-decoration-color: #008080\">INFO</span>    | Task run 'query_pool_snaps-60635b41-12' - Finished in state Cached(type=COMPLETED)\n",
       "</pre>\n"
      ],
      "text/plain": [
       "18:37:52.545 | \u001b[36mINFO\u001b[0m    | Task run 'query_pool_snaps-60635b41-12' - Finished in state Cached(type=COMPLETED)\n"
      ]
     },
     "metadata": {},
     "output_type": "display_data"
    },
    {
     "data": {
      "text/html": [
       "<pre style=\"white-space:pre;overflow-x:auto;line-height:normal;font-family:Menlo,'DejaVu Sans Mono',consolas,'Courier New',monospace\">18:37:52.569 | <span style=\"color: #008080; text-decoration-color: #008080\">INFO</span>    | Flow run<span style=\"color: #800080; text-decoration-color: #800080\"> 'finicky-swallow'</span> - Created task run 'query_pool_vol-8bdd8db3-0' for task 'query_pool_vol'\n",
       "</pre>\n"
      ],
      "text/plain": [
       "18:37:52.569 | \u001b[36mINFO\u001b[0m    | Flow run\u001b[35m 'finicky-swallow'\u001b[0m - Created task run 'query_pool_vol-8bdd8db3-0' for task 'query_pool_vol'\n"
      ]
     },
     "metadata": {},
     "output_type": "display_data"
    },
    {
     "data": {
      "text/html": [
       "<pre style=\"white-space:pre;overflow-x:auto;line-height:normal;font-family:Menlo,'DejaVu Sans Mono',consolas,'Courier New',monospace\">18:37:52.570 | <span style=\"color: #008080; text-decoration-color: #008080\">INFO</span>    | Flow run<span style=\"color: #800080; text-decoration-color: #800080\"> 'finicky-swallow'</span> - Submitted task run 'query_pool_vol-8bdd8db3-0' for execution.\n",
       "</pre>\n"
      ],
      "text/plain": [
       "18:37:52.570 | \u001b[36mINFO\u001b[0m    | Flow run\u001b[35m 'finicky-swallow'\u001b[0m - Submitted task run 'query_pool_vol-8bdd8db3-0' for execution.\n"
      ]
     },
     "metadata": {},
     "output_type": "display_data"
    },
    {
     "data": {
      "text/html": [
       "<pre style=\"white-space:pre;overflow-x:auto;line-height:normal;font-family:Menlo,'DejaVu Sans Mono',consolas,'Courier New',monospace\">18:37:52.578 | <span style=\"color: #008080; text-decoration-color: #008080\">INFO</span>    | Flow run<span style=\"color: #800080; text-decoration-color: #800080\"> 'finicky-swallow'</span> - Created task run 'query_pool_snaps-60635b41-3' for task 'query_pool_snaps'\n",
       "</pre>\n"
      ],
      "text/plain": [
       "18:37:52.578 | \u001b[36mINFO\u001b[0m    | Flow run\u001b[35m 'finicky-swallow'\u001b[0m - Created task run 'query_pool_snaps-60635b41-3' for task 'query_pool_snaps'\n"
      ]
     },
     "metadata": {},
     "output_type": "display_data"
    },
    {
     "data": {
      "text/html": [
       "<pre style=\"white-space:pre;overflow-x:auto;line-height:normal;font-family:Menlo,'DejaVu Sans Mono',consolas,'Courier New',monospace\">18:37:52.578 | <span style=\"color: #008080; text-decoration-color: #008080\">INFO</span>    | Flow run<span style=\"color: #800080; text-decoration-color: #800080\"> 'finicky-swallow'</span> - Submitted task run 'query_pool_snaps-60635b41-3' for execution.\n",
       "</pre>\n"
      ],
      "text/plain": [
       "18:37:52.578 | \u001b[36mINFO\u001b[0m    | Flow run\u001b[35m 'finicky-swallow'\u001b[0m - Submitted task run 'query_pool_snaps-60635b41-3' for execution.\n"
      ]
     },
     "metadata": {},
     "output_type": "display_data"
    },
    {
     "data": {
      "text/html": [
       "<pre style=\"white-space:pre;overflow-x:auto;line-height:normal;font-family:Menlo,'DejaVu Sans Mono',consolas,'Courier New',monospace\">18:37:52.590 | <span style=\"color: #008080; text-decoration-color: #008080\">INFO</span>    | Flow run<span style=\"color: #800080; text-decoration-color: #800080\"> 'finicky-swallow'</span> - Created task run 'query_pool_vol-8bdd8db3-3' for task 'query_pool_vol'\n",
       "</pre>\n"
      ],
      "text/plain": [
       "18:37:52.590 | \u001b[36mINFO\u001b[0m    | Flow run\u001b[35m 'finicky-swallow'\u001b[0m - Created task run 'query_pool_vol-8bdd8db3-3' for task 'query_pool_vol'\n"
      ]
     },
     "metadata": {},
     "output_type": "display_data"
    },
    {
     "data": {
      "text/html": [
       "<pre style=\"white-space:pre;overflow-x:auto;line-height:normal;font-family:Menlo,'DejaVu Sans Mono',consolas,'Courier New',monospace\">18:37:52.591 | <span style=\"color: #008080; text-decoration-color: #008080\">INFO</span>    | Flow run<span style=\"color: #800080; text-decoration-color: #800080\"> 'finicky-swallow'</span> - Submitted task run 'query_pool_vol-8bdd8db3-3' for execution.\n",
       "</pre>\n"
      ],
      "text/plain": [
       "18:37:52.591 | \u001b[36mINFO\u001b[0m    | Flow run\u001b[35m 'finicky-swallow'\u001b[0m - Submitted task run 'query_pool_vol-8bdd8db3-3' for execution.\n"
      ]
     },
     "metadata": {},
     "output_type": "display_data"
    },
    {
     "data": {
      "text/html": [
       "<pre style=\"white-space:pre;overflow-x:auto;line-height:normal;font-family:Menlo,'DejaVu Sans Mono',consolas,'Courier New',monospace\">18:37:52.599 | <span style=\"color: #008080; text-decoration-color: #008080\">INFO</span>    | Task run 'query_pool_vol-8bdd8db3-0' - Finished in state Cached(type=COMPLETED)\n",
       "</pre>\n"
      ],
      "text/plain": [
       "18:37:52.599 | \u001b[36mINFO\u001b[0m    | Task run 'query_pool_vol-8bdd8db3-0' - Finished in state Cached(type=COMPLETED)\n"
      ]
     },
     "metadata": {},
     "output_type": "display_data"
    },
    {
     "data": {
      "text/html": [
       "<pre style=\"white-space:pre;overflow-x:auto;line-height:normal;font-family:Menlo,'DejaVu Sans Mono',consolas,'Courier New',monospace\">18:37:52.605 | <span style=\"color: #008080; text-decoration-color: #008080\">INFO</span>    | Task run 'query_pool_snaps-60635b41-3' - Finished in state Cached(type=COMPLETED)\n",
       "</pre>\n"
      ],
      "text/plain": [
       "18:37:52.605 | \u001b[36mINFO\u001b[0m    | Task run 'query_pool_snaps-60635b41-3' - Finished in state Cached(type=COMPLETED)\n"
      ]
     },
     "metadata": {},
     "output_type": "display_data"
    },
    {
     "data": {
      "text/html": [
       "<pre style=\"white-space:pre;overflow-x:auto;line-height:normal;font-family:Menlo,'DejaVu Sans Mono',consolas,'Courier New',monospace\">18:37:52.610 | <span style=\"color: #008080; text-decoration-color: #008080\">INFO</span>    | Task run 'query_pool_vol-8bdd8db3-3' - Finished in state Cached(type=COMPLETED)\n",
       "</pre>\n"
      ],
      "text/plain": [
       "18:37:52.610 | \u001b[36mINFO\u001b[0m    | Task run 'query_pool_vol-8bdd8db3-3' - Finished in state Cached(type=COMPLETED)\n"
      ]
     },
     "metadata": {},
     "output_type": "display_data"
    },
    {
     "data": {
      "text/html": [
       "<pre style=\"white-space:pre;overflow-x:auto;line-height:normal;font-family:Menlo,'DejaVu Sans Mono',consolas,'Courier New',monospace\">18:37:52.618 | <span style=\"color: #008080; text-decoration-color: #008080\">INFO</span>    | Flow run<span style=\"color: #800080; text-decoration-color: #800080\"> 'finicky-swallow'</span> - Created task run 'query_pool_snaps-60635b41-13' for task 'query_pool_snaps'\n",
       "</pre>\n"
      ],
      "text/plain": [
       "18:37:52.618 | \u001b[36mINFO\u001b[0m    | Flow run\u001b[35m 'finicky-swallow'\u001b[0m - Created task run 'query_pool_snaps-60635b41-13' for task 'query_pool_snaps'\n"
      ]
     },
     "metadata": {},
     "output_type": "display_data"
    },
    {
     "data": {
      "text/html": [
       "<pre style=\"white-space:pre;overflow-x:auto;line-height:normal;font-family:Menlo,'DejaVu Sans Mono',consolas,'Courier New',monospace\">18:37:52.619 | <span style=\"color: #008080; text-decoration-color: #008080\">INFO</span>    | Flow run<span style=\"color: #800080; text-decoration-color: #800080\"> 'finicky-swallow'</span> - Submitted task run 'query_pool_snaps-60635b41-13' for execution.\n",
       "</pre>\n"
      ],
      "text/plain": [
       "18:37:52.619 | \u001b[36mINFO\u001b[0m    | Flow run\u001b[35m 'finicky-swallow'\u001b[0m - Submitted task run 'query_pool_snaps-60635b41-13' for execution.\n"
      ]
     },
     "metadata": {},
     "output_type": "display_data"
    },
    {
     "data": {
      "text/html": [
       "<pre style=\"white-space:pre;overflow-x:auto;line-height:normal;font-family:Menlo,'DejaVu Sans Mono',consolas,'Courier New',monospace\">18:37:52.637 | <span style=\"color: #008080; text-decoration-color: #008080\">INFO</span>    | Task run 'query_pool_snaps-60635b41-13' - Finished in state Cached(type=COMPLETED)\n",
       "</pre>\n"
      ],
      "text/plain": [
       "18:37:52.637 | \u001b[36mINFO\u001b[0m    | Task run 'query_pool_snaps-60635b41-13' - Finished in state Cached(type=COMPLETED)\n"
      ]
     },
     "metadata": {},
     "output_type": "display_data"
    },
    {
     "data": {
      "text/html": [
       "<pre style=\"white-space:pre;overflow-x:auto;line-height:normal;font-family:Menlo,'DejaVu Sans Mono',consolas,'Courier New',monospace\">18:37:52.685 | <span style=\"color: #008080; text-decoration-color: #008080\">INFO</span>    | Flow run<span style=\"color: #800080; text-decoration-color: #800080\"> 'finicky-swallow'</span> - Created task run 'query_pool_vol-8bdd8db3-2' for task 'query_pool_vol'\n",
       "</pre>\n"
      ],
      "text/plain": [
       "18:37:52.685 | \u001b[36mINFO\u001b[0m    | Flow run\u001b[35m 'finicky-swallow'\u001b[0m - Created task run 'query_pool_vol-8bdd8db3-2' for task 'query_pool_vol'\n"
      ]
     },
     "metadata": {},
     "output_type": "display_data"
    },
    {
     "data": {
      "text/html": [
       "<pre style=\"white-space:pre;overflow-x:auto;line-height:normal;font-family:Menlo,'DejaVu Sans Mono',consolas,'Courier New',monospace\">18:37:52.686 | <span style=\"color: #008080; text-decoration-color: #008080\">INFO</span>    | Flow run<span style=\"color: #800080; text-decoration-color: #800080\"> 'finicky-swallow'</span> - Submitted task run 'query_pool_vol-8bdd8db3-2' for execution.\n",
       "</pre>\n"
      ],
      "text/plain": [
       "18:37:52.686 | \u001b[36mINFO\u001b[0m    | Flow run\u001b[35m 'finicky-swallow'\u001b[0m - Submitted task run 'query_pool_vol-8bdd8db3-2' for execution.\n"
      ]
     },
     "metadata": {},
     "output_type": "display_data"
    },
    {
     "data": {
      "text/html": [
       "<pre style=\"white-space:pre;overflow-x:auto;line-height:normal;font-family:Menlo,'DejaVu Sans Mono',consolas,'Courier New',monospace\">18:37:52.702 | <span style=\"color: #008080; text-decoration-color: #008080\">INFO</span>    | Task run 'query_pool_vol-8bdd8db3-2' - Finished in state Cached(type=COMPLETED)\n",
       "</pre>\n"
      ],
      "text/plain": [
       "18:37:52.702 | \u001b[36mINFO\u001b[0m    | Task run 'query_pool_vol-8bdd8db3-2' - Finished in state Cached(type=COMPLETED)\n"
      ]
     },
     "metadata": {},
     "output_type": "display_data"
    },
    {
     "data": {
      "text/html": [
       "<pre style=\"white-space:pre;overflow-x:auto;line-height:normal;font-family:Menlo,'DejaVu Sans Mono',consolas,'Courier New',monospace\">18:37:52.709 | <span style=\"color: #008080; text-decoration-color: #008080\">INFO</span>    | Flow run<span style=\"color: #800080; text-decoration-color: #800080\"> 'finicky-swallow'</span> - Created task run 'query_pool_vol-8bdd8db3-10' for task 'query_pool_vol'\n",
       "</pre>\n"
      ],
      "text/plain": [
       "18:37:52.709 | \u001b[36mINFO\u001b[0m    | Flow run\u001b[35m 'finicky-swallow'\u001b[0m - Created task run 'query_pool_vol-8bdd8db3-10' for task 'query_pool_vol'\n"
      ]
     },
     "metadata": {},
     "output_type": "display_data"
    },
    {
     "data": {
      "text/html": [
       "<pre style=\"white-space:pre;overflow-x:auto;line-height:normal;font-family:Menlo,'DejaVu Sans Mono',consolas,'Courier New',monospace\">18:37:52.710 | <span style=\"color: #008080; text-decoration-color: #008080\">INFO</span>    | Flow run<span style=\"color: #800080; text-decoration-color: #800080\"> 'finicky-swallow'</span> - Submitted task run 'query_pool_vol-8bdd8db3-10' for execution.\n",
       "</pre>\n"
      ],
      "text/plain": [
       "18:37:52.710 | \u001b[36mINFO\u001b[0m    | Flow run\u001b[35m 'finicky-swallow'\u001b[0m - Submitted task run 'query_pool_vol-8bdd8db3-10' for execution.\n"
      ]
     },
     "metadata": {},
     "output_type": "display_data"
    },
    {
     "data": {
      "text/html": [
       "<pre style=\"white-space:pre;overflow-x:auto;line-height:normal;font-family:Menlo,'DejaVu Sans Mono',consolas,'Courier New',monospace\">18:37:52.724 | <span style=\"color: #008080; text-decoration-color: #008080\">INFO</span>    | Flow run<span style=\"color: #800080; text-decoration-color: #800080\"> 'finicky-swallow'</span> - Created task run 'query_pool_vol-8bdd8db3-11' for task 'query_pool_vol'\n",
       "</pre>\n"
      ],
      "text/plain": [
       "18:37:52.724 | \u001b[36mINFO\u001b[0m    | Flow run\u001b[35m 'finicky-swallow'\u001b[0m - Created task run 'query_pool_vol-8bdd8db3-11' for task 'query_pool_vol'\n"
      ]
     },
     "metadata": {},
     "output_type": "display_data"
    },
    {
     "data": {
      "text/html": [
       "<pre style=\"white-space:pre;overflow-x:auto;line-height:normal;font-family:Menlo,'DejaVu Sans Mono',consolas,'Courier New',monospace\">18:37:52.724 | <span style=\"color: #008080; text-decoration-color: #008080\">INFO</span>    | Flow run<span style=\"color: #800080; text-decoration-color: #800080\"> 'finicky-swallow'</span> - Submitted task run 'query_pool_vol-8bdd8db3-11' for execution.\n",
       "</pre>\n"
      ],
      "text/plain": [
       "18:37:52.724 | \u001b[36mINFO\u001b[0m    | Flow run\u001b[35m 'finicky-swallow'\u001b[0m - Submitted task run 'query_pool_vol-8bdd8db3-11' for execution.\n"
      ]
     },
     "metadata": {},
     "output_type": "display_data"
    },
    {
     "data": {
      "text/html": [
       "<pre style=\"white-space:pre;overflow-x:auto;line-height:normal;font-family:Menlo,'DejaVu Sans Mono',consolas,'Courier New',monospace\">18:37:52.735 | <span style=\"color: #008080; text-decoration-color: #008080\">INFO</span>    | Task run 'query_pool_vol-8bdd8db3-10' - Finished in state Cached(type=COMPLETED)\n",
       "</pre>\n"
      ],
      "text/plain": [
       "18:37:52.735 | \u001b[36mINFO\u001b[0m    | Task run 'query_pool_vol-8bdd8db3-10' - Finished in state Cached(type=COMPLETED)\n"
      ]
     },
     "metadata": {},
     "output_type": "display_data"
    },
    {
     "data": {
      "text/html": [
       "<pre style=\"white-space:pre;overflow-x:auto;line-height:normal;font-family:Menlo,'DejaVu Sans Mono',consolas,'Courier New',monospace\">18:37:52.746 | <span style=\"color: #008080; text-decoration-color: #008080\">INFO</span>    | Task run 'query_pool_vol-8bdd8db3-11' - Finished in state Cached(type=COMPLETED)\n",
       "</pre>\n"
      ],
      "text/plain": [
       "18:37:52.746 | \u001b[36mINFO\u001b[0m    | Task run 'query_pool_vol-8bdd8db3-11' - Finished in state Cached(type=COMPLETED)\n"
      ]
     },
     "metadata": {},
     "output_type": "display_data"
    },
    {
     "data": {
      "text/html": [
       "<pre style=\"white-space:pre;overflow-x:auto;line-height:normal;font-family:Menlo,'DejaVu Sans Mono',consolas,'Courier New',monospace\">18:37:52.870 | <span style=\"color: #008080; text-decoration-color: #008080\">INFO</span>    | Flow run<span style=\"color: #800080; text-decoration-color: #800080\"> 'finicky-swallow'</span> - Created task run 'process_pool_snaps-bb91f77b-0' for task 'process_pool_snaps'\n",
       "</pre>\n"
      ],
      "text/plain": [
       "18:37:52.870 | \u001b[36mINFO\u001b[0m    | Flow run\u001b[35m 'finicky-swallow'\u001b[0m - Created task run 'process_pool_snaps-bb91f77b-0' for task 'process_pool_snaps'\n"
      ]
     },
     "metadata": {},
     "output_type": "display_data"
    },
    {
     "data": {
      "text/html": [
       "<pre style=\"white-space:pre;overflow-x:auto;line-height:normal;font-family:Menlo,'DejaVu Sans Mono',consolas,'Courier New',monospace\">18:37:52.871 | <span style=\"color: #008080; text-decoration-color: #008080\">INFO</span>    | Flow run<span style=\"color: #800080; text-decoration-color: #800080\"> 'finicky-swallow'</span> - Executing 'process_pool_snaps-bb91f77b-0' immediately...\n",
       "</pre>\n"
      ],
      "text/plain": [
       "18:37:52.871 | \u001b[36mINFO\u001b[0m    | Flow run\u001b[35m 'finicky-swallow'\u001b[0m - Executing 'process_pool_snaps-bb91f77b-0' immediately...\n"
      ]
     },
     "metadata": {},
     "output_type": "display_data"
    },
    {
     "data": {
      "text/html": [
       "<pre style=\"white-space:pre;overflow-x:auto;line-height:normal;font-family:Menlo,'DejaVu Sans Mono',consolas,'Courier New',monospace\">18:37:52.893 | <span style=\"color: #008080; text-decoration-color: #008080\">INFO</span>    | Task run 'process_pool_snaps-bb91f77b-0' - Finished in state <span style=\"color: #008000; text-decoration-color: #008000\">Completed</span>()\n",
       "</pre>\n"
      ],
      "text/plain": [
       "18:37:52.893 | \u001b[36mINFO\u001b[0m    | Task run 'process_pool_snaps-bb91f77b-0' - Finished in state \u001b[32mCompleted\u001b[0m()\n"
      ]
     },
     "metadata": {},
     "output_type": "display_data"
    },
    {
     "data": {
      "text/html": [
       "<pre style=\"white-space:pre;overflow-x:auto;line-height:normal;font-family:Menlo,'DejaVu Sans Mono',consolas,'Courier New',monospace\">18:37:52.903 | <span style=\"color: #008080; text-decoration-color: #008080\">INFO</span>    | Flow run<span style=\"color: #800080; text-decoration-color: #800080\"> 'finicky-swallow'</span> - Created task run 'process_pool_snaps-bb91f77b-1' for task 'process_pool_snaps'\n",
       "</pre>\n"
      ],
      "text/plain": [
       "18:37:52.903 | \u001b[36mINFO\u001b[0m    | Flow run\u001b[35m 'finicky-swallow'\u001b[0m - Created task run 'process_pool_snaps-bb91f77b-1' for task 'process_pool_snaps'\n"
      ]
     },
     "metadata": {},
     "output_type": "display_data"
    },
    {
     "data": {
      "text/html": [
       "<pre style=\"white-space:pre;overflow-x:auto;line-height:normal;font-family:Menlo,'DejaVu Sans Mono',consolas,'Courier New',monospace\">18:37:52.904 | <span style=\"color: #008080; text-decoration-color: #008080\">INFO</span>    | Flow run<span style=\"color: #800080; text-decoration-color: #800080\"> 'finicky-swallow'</span> - Executing 'process_pool_snaps-bb91f77b-1' immediately...\n",
       "</pre>\n"
      ],
      "text/plain": [
       "18:37:52.904 | \u001b[36mINFO\u001b[0m    | Flow run\u001b[35m 'finicky-swallow'\u001b[0m - Executing 'process_pool_snaps-bb91f77b-1' immediately...\n"
      ]
     },
     "metadata": {},
     "output_type": "display_data"
    },
    {
     "data": {
      "text/html": [
       "<pre style=\"white-space:pre;overflow-x:auto;line-height:normal;font-family:Menlo,'DejaVu Sans Mono',consolas,'Courier New',monospace\">18:37:52.929 | <span style=\"color: #008080; text-decoration-color: #008080\">INFO</span>    | Task run 'process_pool_snaps-bb91f77b-1' - Finished in state <span style=\"color: #008000; text-decoration-color: #008000\">Completed</span>()\n",
       "</pre>\n"
      ],
      "text/plain": [
       "18:37:52.929 | \u001b[36mINFO\u001b[0m    | Task run 'process_pool_snaps-bb91f77b-1' - Finished in state \u001b[32mCompleted\u001b[0m()\n"
      ]
     },
     "metadata": {},
     "output_type": "display_data"
    },
    {
     "data": {
      "text/html": [
       "<pre style=\"white-space:pre;overflow-x:auto;line-height:normal;font-family:Menlo,'DejaVu Sans Mono',consolas,'Courier New',monospace\">18:37:52.939 | <span style=\"color: #008080; text-decoration-color: #008080\">INFO</span>    | Flow run<span style=\"color: #800080; text-decoration-color: #800080\"> 'finicky-swallow'</span> - Created task run 'process_pool_snaps-bb91f77b-2' for task 'process_pool_snaps'\n",
       "</pre>\n"
      ],
      "text/plain": [
       "18:37:52.939 | \u001b[36mINFO\u001b[0m    | Flow run\u001b[35m 'finicky-swallow'\u001b[0m - Created task run 'process_pool_snaps-bb91f77b-2' for task 'process_pool_snaps'\n"
      ]
     },
     "metadata": {},
     "output_type": "display_data"
    },
    {
     "data": {
      "text/html": [
       "<pre style=\"white-space:pre;overflow-x:auto;line-height:normal;font-family:Menlo,'DejaVu Sans Mono',consolas,'Courier New',monospace\">18:37:52.940 | <span style=\"color: #008080; text-decoration-color: #008080\">INFO</span>    | Flow run<span style=\"color: #800080; text-decoration-color: #800080\"> 'finicky-swallow'</span> - Executing 'process_pool_snaps-bb91f77b-2' immediately...\n",
       "</pre>\n"
      ],
      "text/plain": [
       "18:37:52.940 | \u001b[36mINFO\u001b[0m    | Flow run\u001b[35m 'finicky-swallow'\u001b[0m - Executing 'process_pool_snaps-bb91f77b-2' immediately...\n"
      ]
     },
     "metadata": {},
     "output_type": "display_data"
    },
    {
     "data": {
      "text/html": [
       "<pre style=\"white-space:pre;overflow-x:auto;line-height:normal;font-family:Menlo,'DejaVu Sans Mono',consolas,'Courier New',monospace\">18:37:52.965 | <span style=\"color: #008080; text-decoration-color: #008080\">INFO</span>    | Task run 'process_pool_snaps-bb91f77b-2' - Finished in state <span style=\"color: #008000; text-decoration-color: #008000\">Completed</span>()\n",
       "</pre>\n"
      ],
      "text/plain": [
       "18:37:52.965 | \u001b[36mINFO\u001b[0m    | Task run 'process_pool_snaps-bb91f77b-2' - Finished in state \u001b[32mCompleted\u001b[0m()\n"
      ]
     },
     "metadata": {},
     "output_type": "display_data"
    },
    {
     "data": {
      "text/html": [
       "<pre style=\"white-space:pre;overflow-x:auto;line-height:normal;font-family:Menlo,'DejaVu Sans Mono',consolas,'Courier New',monospace\">18:37:52.975 | <span style=\"color: #008080; text-decoration-color: #008080\">INFO</span>    | Flow run<span style=\"color: #800080; text-decoration-color: #800080\"> 'finicky-swallow'</span> - Created task run 'process_pool_snaps-bb91f77b-3' for task 'process_pool_snaps'\n",
       "</pre>\n"
      ],
      "text/plain": [
       "18:37:52.975 | \u001b[36mINFO\u001b[0m    | Flow run\u001b[35m 'finicky-swallow'\u001b[0m - Created task run 'process_pool_snaps-bb91f77b-3' for task 'process_pool_snaps'\n"
      ]
     },
     "metadata": {},
     "output_type": "display_data"
    },
    {
     "data": {
      "text/html": [
       "<pre style=\"white-space:pre;overflow-x:auto;line-height:normal;font-family:Menlo,'DejaVu Sans Mono',consolas,'Courier New',monospace\">18:37:52.976 | <span style=\"color: #008080; text-decoration-color: #008080\">INFO</span>    | Flow run<span style=\"color: #800080; text-decoration-color: #800080\"> 'finicky-swallow'</span> - Executing 'process_pool_snaps-bb91f77b-3' immediately...\n",
       "</pre>\n"
      ],
      "text/plain": [
       "18:37:52.976 | \u001b[36mINFO\u001b[0m    | Flow run\u001b[35m 'finicky-swallow'\u001b[0m - Executing 'process_pool_snaps-bb91f77b-3' immediately...\n"
      ]
     },
     "metadata": {},
     "output_type": "display_data"
    },
    {
     "data": {
      "text/html": [
       "<pre style=\"white-space:pre;overflow-x:auto;line-height:normal;font-family:Menlo,'DejaVu Sans Mono',consolas,'Courier New',monospace\">18:37:53.000 | <span style=\"color: #008080; text-decoration-color: #008080\">INFO</span>    | Task run 'process_pool_snaps-bb91f77b-3' - Finished in state <span style=\"color: #008000; text-decoration-color: #008000\">Completed</span>()\n",
       "</pre>\n"
      ],
      "text/plain": [
       "18:37:53.000 | \u001b[36mINFO\u001b[0m    | Task run 'process_pool_snaps-bb91f77b-3' - Finished in state \u001b[32mCompleted\u001b[0m()\n"
      ]
     },
     "metadata": {},
     "output_type": "display_data"
    },
    {
     "data": {
      "text/html": [
       "<pre style=\"white-space:pre;overflow-x:auto;line-height:normal;font-family:Menlo,'DejaVu Sans Mono',consolas,'Courier New',monospace\">18:37:53.011 | <span style=\"color: #008080; text-decoration-color: #008080\">INFO</span>    | Flow run<span style=\"color: #800080; text-decoration-color: #800080\"> 'finicky-swallow'</span> - Created task run 'process_pool_snaps-bb91f77b-4' for task 'process_pool_snaps'\n",
       "</pre>\n"
      ],
      "text/plain": [
       "18:37:53.011 | \u001b[36mINFO\u001b[0m    | Flow run\u001b[35m 'finicky-swallow'\u001b[0m - Created task run 'process_pool_snaps-bb91f77b-4' for task 'process_pool_snaps'\n"
      ]
     },
     "metadata": {},
     "output_type": "display_data"
    },
    {
     "data": {
      "text/html": [
       "<pre style=\"white-space:pre;overflow-x:auto;line-height:normal;font-family:Menlo,'DejaVu Sans Mono',consolas,'Courier New',monospace\">18:37:53.012 | <span style=\"color: #008080; text-decoration-color: #008080\">INFO</span>    | Flow run<span style=\"color: #800080; text-decoration-color: #800080\"> 'finicky-swallow'</span> - Executing 'process_pool_snaps-bb91f77b-4' immediately...\n",
       "</pre>\n"
      ],
      "text/plain": [
       "18:37:53.012 | \u001b[36mINFO\u001b[0m    | Flow run\u001b[35m 'finicky-swallow'\u001b[0m - Executing 'process_pool_snaps-bb91f77b-4' immediately...\n"
      ]
     },
     "metadata": {},
     "output_type": "display_data"
    },
    {
     "data": {
      "text/html": [
       "<pre style=\"white-space:pre;overflow-x:auto;line-height:normal;font-family:Menlo,'DejaVu Sans Mono',consolas,'Courier New',monospace\">18:37:53.037 | <span style=\"color: #008080; text-decoration-color: #008080\">INFO</span>    | Task run 'process_pool_snaps-bb91f77b-4' - Finished in state <span style=\"color: #008000; text-decoration-color: #008000\">Completed</span>()\n",
       "</pre>\n"
      ],
      "text/plain": [
       "18:37:53.037 | \u001b[36mINFO\u001b[0m    | Task run 'process_pool_snaps-bb91f77b-4' - Finished in state \u001b[32mCompleted\u001b[0m()\n"
      ]
     },
     "metadata": {},
     "output_type": "display_data"
    },
    {
     "data": {
      "text/html": [
       "<pre style=\"white-space:pre;overflow-x:auto;line-height:normal;font-family:Menlo,'DejaVu Sans Mono',consolas,'Courier New',monospace\">18:37:53.047 | <span style=\"color: #008080; text-decoration-color: #008080\">INFO</span>    | Flow run<span style=\"color: #800080; text-decoration-color: #800080\"> 'finicky-swallow'</span> - Created task run 'process_pool_snaps-bb91f77b-5' for task 'process_pool_snaps'\n",
       "</pre>\n"
      ],
      "text/plain": [
       "18:37:53.047 | \u001b[36mINFO\u001b[0m    | Flow run\u001b[35m 'finicky-swallow'\u001b[0m - Created task run 'process_pool_snaps-bb91f77b-5' for task 'process_pool_snaps'\n"
      ]
     },
     "metadata": {},
     "output_type": "display_data"
    },
    {
     "data": {
      "text/html": [
       "<pre style=\"white-space:pre;overflow-x:auto;line-height:normal;font-family:Menlo,'DejaVu Sans Mono',consolas,'Courier New',monospace\">18:37:53.047 | <span style=\"color: #008080; text-decoration-color: #008080\">INFO</span>    | Flow run<span style=\"color: #800080; text-decoration-color: #800080\"> 'finicky-swallow'</span> - Executing 'process_pool_snaps-bb91f77b-5' immediately...\n",
       "</pre>\n"
      ],
      "text/plain": [
       "18:37:53.047 | \u001b[36mINFO\u001b[0m    | Flow run\u001b[35m 'finicky-swallow'\u001b[0m - Executing 'process_pool_snaps-bb91f77b-5' immediately...\n"
      ]
     },
     "metadata": {},
     "output_type": "display_data"
    },
    {
     "data": {
      "text/html": [
       "<pre style=\"white-space:pre;overflow-x:auto;line-height:normal;font-family:Menlo,'DejaVu Sans Mono',consolas,'Courier New',monospace\">18:37:53.073 | <span style=\"color: #008080; text-decoration-color: #008080\">INFO</span>    | Task run 'process_pool_snaps-bb91f77b-5' - Finished in state <span style=\"color: #008000; text-decoration-color: #008000\">Completed</span>()\n",
       "</pre>\n"
      ],
      "text/plain": [
       "18:37:53.073 | \u001b[36mINFO\u001b[0m    | Task run 'process_pool_snaps-bb91f77b-5' - Finished in state \u001b[32mCompleted\u001b[0m()\n"
      ]
     },
     "metadata": {},
     "output_type": "display_data"
    },
    {
     "data": {
      "text/html": [
       "<pre style=\"white-space:pre;overflow-x:auto;line-height:normal;font-family:Menlo,'DejaVu Sans Mono',consolas,'Courier New',monospace\">18:37:53.082 | <span style=\"color: #008080; text-decoration-color: #008080\">INFO</span>    | Flow run<span style=\"color: #800080; text-decoration-color: #800080\"> 'finicky-swallow'</span> - Created task run 'process_pool_snaps-bb91f77b-6' for task 'process_pool_snaps'\n",
       "</pre>\n"
      ],
      "text/plain": [
       "18:37:53.082 | \u001b[36mINFO\u001b[0m    | Flow run\u001b[35m 'finicky-swallow'\u001b[0m - Created task run 'process_pool_snaps-bb91f77b-6' for task 'process_pool_snaps'\n"
      ]
     },
     "metadata": {},
     "output_type": "display_data"
    },
    {
     "data": {
      "text/html": [
       "<pre style=\"white-space:pre;overflow-x:auto;line-height:normal;font-family:Menlo,'DejaVu Sans Mono',consolas,'Courier New',monospace\">18:37:53.083 | <span style=\"color: #008080; text-decoration-color: #008080\">INFO</span>    | Flow run<span style=\"color: #800080; text-decoration-color: #800080\"> 'finicky-swallow'</span> - Executing 'process_pool_snaps-bb91f77b-6' immediately...\n",
       "</pre>\n"
      ],
      "text/plain": [
       "18:37:53.083 | \u001b[36mINFO\u001b[0m    | Flow run\u001b[35m 'finicky-swallow'\u001b[0m - Executing 'process_pool_snaps-bb91f77b-6' immediately...\n"
      ]
     },
     "metadata": {},
     "output_type": "display_data"
    },
    {
     "data": {
      "text/html": [
       "<pre style=\"white-space:pre;overflow-x:auto;line-height:normal;font-family:Menlo,'DejaVu Sans Mono',consolas,'Courier New',monospace\">18:37:53.107 | <span style=\"color: #008080; text-decoration-color: #008080\">INFO</span>    | Task run 'process_pool_snaps-bb91f77b-6' - Finished in state <span style=\"color: #008000; text-decoration-color: #008000\">Completed</span>()\n",
       "</pre>\n"
      ],
      "text/plain": [
       "18:37:53.107 | \u001b[36mINFO\u001b[0m    | Task run 'process_pool_snaps-bb91f77b-6' - Finished in state \u001b[32mCompleted\u001b[0m()\n"
      ]
     },
     "metadata": {},
     "output_type": "display_data"
    },
    {
     "data": {
      "text/html": [
       "<pre style=\"white-space:pre;overflow-x:auto;line-height:normal;font-family:Menlo,'DejaVu Sans Mono',consolas,'Courier New',monospace\">18:37:53.118 | <span style=\"color: #008080; text-decoration-color: #008080\">INFO</span>    | Flow run<span style=\"color: #800080; text-decoration-color: #800080\"> 'finicky-swallow'</span> - Created task run 'process_pool_snaps-bb91f77b-7' for task 'process_pool_snaps'\n",
       "</pre>\n"
      ],
      "text/plain": [
       "18:37:53.118 | \u001b[36mINFO\u001b[0m    | Flow run\u001b[35m 'finicky-swallow'\u001b[0m - Created task run 'process_pool_snaps-bb91f77b-7' for task 'process_pool_snaps'\n"
      ]
     },
     "metadata": {},
     "output_type": "display_data"
    },
    {
     "data": {
      "text/html": [
       "<pre style=\"white-space:pre;overflow-x:auto;line-height:normal;font-family:Menlo,'DejaVu Sans Mono',consolas,'Courier New',monospace\">18:37:53.119 | <span style=\"color: #008080; text-decoration-color: #008080\">INFO</span>    | Flow run<span style=\"color: #800080; text-decoration-color: #800080\"> 'finicky-swallow'</span> - Executing 'process_pool_snaps-bb91f77b-7' immediately...\n",
       "</pre>\n"
      ],
      "text/plain": [
       "18:37:53.119 | \u001b[36mINFO\u001b[0m    | Flow run\u001b[35m 'finicky-swallow'\u001b[0m - Executing 'process_pool_snaps-bb91f77b-7' immediately...\n"
      ]
     },
     "metadata": {},
     "output_type": "display_data"
    },
    {
     "data": {
      "text/html": [
       "<pre style=\"white-space:pre;overflow-x:auto;line-height:normal;font-family:Menlo,'DejaVu Sans Mono',consolas,'Courier New',monospace\">18:37:53.144 | <span style=\"color: #008080; text-decoration-color: #008080\">INFO</span>    | Task run 'process_pool_snaps-bb91f77b-7' - Finished in state <span style=\"color: #008000; text-decoration-color: #008000\">Completed</span>()\n",
       "</pre>\n"
      ],
      "text/plain": [
       "18:37:53.144 | \u001b[36mINFO\u001b[0m    | Task run 'process_pool_snaps-bb91f77b-7' - Finished in state \u001b[32mCompleted\u001b[0m()\n"
      ]
     },
     "metadata": {},
     "output_type": "display_data"
    },
    {
     "data": {
      "text/html": [
       "<pre style=\"white-space:pre;overflow-x:auto;line-height:normal;font-family:Menlo,'DejaVu Sans Mono',consolas,'Courier New',monospace\">18:37:53.153 | <span style=\"color: #008080; text-decoration-color: #008080\">INFO</span>    | Flow run<span style=\"color: #800080; text-decoration-color: #800080\"> 'finicky-swallow'</span> - Created task run 'process_pool_snaps-bb91f77b-8' for task 'process_pool_snaps'\n",
       "</pre>\n"
      ],
      "text/plain": [
       "18:37:53.153 | \u001b[36mINFO\u001b[0m    | Flow run\u001b[35m 'finicky-swallow'\u001b[0m - Created task run 'process_pool_snaps-bb91f77b-8' for task 'process_pool_snaps'\n"
      ]
     },
     "metadata": {},
     "output_type": "display_data"
    },
    {
     "data": {
      "text/html": [
       "<pre style=\"white-space:pre;overflow-x:auto;line-height:normal;font-family:Menlo,'DejaVu Sans Mono',consolas,'Courier New',monospace\">18:37:53.154 | <span style=\"color: #008080; text-decoration-color: #008080\">INFO</span>    | Flow run<span style=\"color: #800080; text-decoration-color: #800080\"> 'finicky-swallow'</span> - Executing 'process_pool_snaps-bb91f77b-8' immediately...\n",
       "</pre>\n"
      ],
      "text/plain": [
       "18:37:53.154 | \u001b[36mINFO\u001b[0m    | Flow run\u001b[35m 'finicky-swallow'\u001b[0m - Executing 'process_pool_snaps-bb91f77b-8' immediately...\n"
      ]
     },
     "metadata": {},
     "output_type": "display_data"
    },
    {
     "data": {
      "text/html": [
       "<pre style=\"white-space:pre;overflow-x:auto;line-height:normal;font-family:Menlo,'DejaVu Sans Mono',consolas,'Courier New',monospace\">18:37:53.179 | <span style=\"color: #008080; text-decoration-color: #008080\">INFO</span>    | Task run 'process_pool_snaps-bb91f77b-8' - Finished in state <span style=\"color: #008000; text-decoration-color: #008000\">Completed</span>()\n",
       "</pre>\n"
      ],
      "text/plain": [
       "18:37:53.179 | \u001b[36mINFO\u001b[0m    | Task run 'process_pool_snaps-bb91f77b-8' - Finished in state \u001b[32mCompleted\u001b[0m()\n"
      ]
     },
     "metadata": {},
     "output_type": "display_data"
    },
    {
     "data": {
      "text/html": [
       "<pre style=\"white-space:pre;overflow-x:auto;line-height:normal;font-family:Menlo,'DejaVu Sans Mono',consolas,'Courier New',monospace\">18:37:53.189 | <span style=\"color: #008080; text-decoration-color: #008080\">INFO</span>    | Flow run<span style=\"color: #800080; text-decoration-color: #800080\"> 'finicky-swallow'</span> - Created task run 'process_pool_snaps-bb91f77b-9' for task 'process_pool_snaps'\n",
       "</pre>\n"
      ],
      "text/plain": [
       "18:37:53.189 | \u001b[36mINFO\u001b[0m    | Flow run\u001b[35m 'finicky-swallow'\u001b[0m - Created task run 'process_pool_snaps-bb91f77b-9' for task 'process_pool_snaps'\n"
      ]
     },
     "metadata": {},
     "output_type": "display_data"
    },
    {
     "data": {
      "text/html": [
       "<pre style=\"white-space:pre;overflow-x:auto;line-height:normal;font-family:Menlo,'DejaVu Sans Mono',consolas,'Courier New',monospace\">18:37:53.190 | <span style=\"color: #008080; text-decoration-color: #008080\">INFO</span>    | Flow run<span style=\"color: #800080; text-decoration-color: #800080\"> 'finicky-swallow'</span> - Executing 'process_pool_snaps-bb91f77b-9' immediately...\n",
       "</pre>\n"
      ],
      "text/plain": [
       "18:37:53.190 | \u001b[36mINFO\u001b[0m    | Flow run\u001b[35m 'finicky-swallow'\u001b[0m - Executing 'process_pool_snaps-bb91f77b-9' immediately...\n"
      ]
     },
     "metadata": {},
     "output_type": "display_data"
    },
    {
     "data": {
      "text/html": [
       "<pre style=\"white-space:pre;overflow-x:auto;line-height:normal;font-family:Menlo,'DejaVu Sans Mono',consolas,'Courier New',monospace\">18:37:53.216 | <span style=\"color: #008080; text-decoration-color: #008080\">INFO</span>    | Task run 'process_pool_snaps-bb91f77b-9' - Finished in state <span style=\"color: #008000; text-decoration-color: #008000\">Completed</span>()\n",
       "</pre>\n"
      ],
      "text/plain": [
       "18:37:53.216 | \u001b[36mINFO\u001b[0m    | Task run 'process_pool_snaps-bb91f77b-9' - Finished in state \u001b[32mCompleted\u001b[0m()\n"
      ]
     },
     "metadata": {},
     "output_type": "display_data"
    },
    {
     "data": {
      "text/html": [
       "<pre style=\"white-space:pre;overflow-x:auto;line-height:normal;font-family:Menlo,'DejaVu Sans Mono',consolas,'Courier New',monospace\">18:37:53.226 | <span style=\"color: #008080; text-decoration-color: #008080\">INFO</span>    | Flow run<span style=\"color: #800080; text-decoration-color: #800080\"> 'finicky-swallow'</span> - Created task run 'process_pool_snaps-bb91f77b-10' for task 'process_pool_snaps'\n",
       "</pre>\n"
      ],
      "text/plain": [
       "18:37:53.226 | \u001b[36mINFO\u001b[0m    | Flow run\u001b[35m 'finicky-swallow'\u001b[0m - Created task run 'process_pool_snaps-bb91f77b-10' for task 'process_pool_snaps'\n"
      ]
     },
     "metadata": {},
     "output_type": "display_data"
    },
    {
     "data": {
      "text/html": [
       "<pre style=\"white-space:pre;overflow-x:auto;line-height:normal;font-family:Menlo,'DejaVu Sans Mono',consolas,'Courier New',monospace\">18:37:53.227 | <span style=\"color: #008080; text-decoration-color: #008080\">INFO</span>    | Flow run<span style=\"color: #800080; text-decoration-color: #800080\"> 'finicky-swallow'</span> - Executing 'process_pool_snaps-bb91f77b-10' immediately...\n",
       "</pre>\n"
      ],
      "text/plain": [
       "18:37:53.227 | \u001b[36mINFO\u001b[0m    | Flow run\u001b[35m 'finicky-swallow'\u001b[0m - Executing 'process_pool_snaps-bb91f77b-10' immediately...\n"
      ]
     },
     "metadata": {},
     "output_type": "display_data"
    },
    {
     "data": {
      "text/html": [
       "<pre style=\"white-space:pre;overflow-x:auto;line-height:normal;font-family:Menlo,'DejaVu Sans Mono',consolas,'Courier New',monospace\">18:37:53.252 | <span style=\"color: #008080; text-decoration-color: #008080\">INFO</span>    | Task run 'process_pool_snaps-bb91f77b-10' - Finished in state <span style=\"color: #008000; text-decoration-color: #008000\">Completed</span>()\n",
       "</pre>\n"
      ],
      "text/plain": [
       "18:37:53.252 | \u001b[36mINFO\u001b[0m    | Task run 'process_pool_snaps-bb91f77b-10' - Finished in state \u001b[32mCompleted\u001b[0m()\n"
      ]
     },
     "metadata": {},
     "output_type": "display_data"
    },
    {
     "data": {
      "text/html": [
       "<pre style=\"white-space:pre;overflow-x:auto;line-height:normal;font-family:Menlo,'DejaVu Sans Mono',consolas,'Courier New',monospace\">18:37:53.262 | <span style=\"color: #008080; text-decoration-color: #008080\">INFO</span>    | Flow run<span style=\"color: #800080; text-decoration-color: #800080\"> 'finicky-swallow'</span> - Created task run 'process_pool_snaps-bb91f77b-11' for task 'process_pool_snaps'\n",
       "</pre>\n"
      ],
      "text/plain": [
       "18:37:53.262 | \u001b[36mINFO\u001b[0m    | Flow run\u001b[35m 'finicky-swallow'\u001b[0m - Created task run 'process_pool_snaps-bb91f77b-11' for task 'process_pool_snaps'\n"
      ]
     },
     "metadata": {},
     "output_type": "display_data"
    },
    {
     "data": {
      "text/html": [
       "<pre style=\"white-space:pre;overflow-x:auto;line-height:normal;font-family:Menlo,'DejaVu Sans Mono',consolas,'Courier New',monospace\">18:37:53.263 | <span style=\"color: #008080; text-decoration-color: #008080\">INFO</span>    | Flow run<span style=\"color: #800080; text-decoration-color: #800080\"> 'finicky-swallow'</span> - Executing 'process_pool_snaps-bb91f77b-11' immediately...\n",
       "</pre>\n"
      ],
      "text/plain": [
       "18:37:53.263 | \u001b[36mINFO\u001b[0m    | Flow run\u001b[35m 'finicky-swallow'\u001b[0m - Executing 'process_pool_snaps-bb91f77b-11' immediately...\n"
      ]
     },
     "metadata": {},
     "output_type": "display_data"
    },
    {
     "data": {
      "text/html": [
       "<pre style=\"white-space:pre;overflow-x:auto;line-height:normal;font-family:Menlo,'DejaVu Sans Mono',consolas,'Courier New',monospace\">18:37:53.288 | <span style=\"color: #008080; text-decoration-color: #008080\">INFO</span>    | Task run 'process_pool_snaps-bb91f77b-11' - Finished in state <span style=\"color: #008000; text-decoration-color: #008000\">Completed</span>()\n",
       "</pre>\n"
      ],
      "text/plain": [
       "18:37:53.288 | \u001b[36mINFO\u001b[0m    | Task run 'process_pool_snaps-bb91f77b-11' - Finished in state \u001b[32mCompleted\u001b[0m()\n"
      ]
     },
     "metadata": {},
     "output_type": "display_data"
    },
    {
     "data": {
      "text/html": [
       "<pre style=\"white-space:pre;overflow-x:auto;line-height:normal;font-family:Menlo,'DejaVu Sans Mono',consolas,'Courier New',monospace\">18:37:53.297 | <span style=\"color: #008080; text-decoration-color: #008080\">INFO</span>    | Flow run<span style=\"color: #800080; text-decoration-color: #800080\"> 'finicky-swallow'</span> - Created task run 'process_pool_snaps-bb91f77b-12' for task 'process_pool_snaps'\n",
       "</pre>\n"
      ],
      "text/plain": [
       "18:37:53.297 | \u001b[36mINFO\u001b[0m    | Flow run\u001b[35m 'finicky-swallow'\u001b[0m - Created task run 'process_pool_snaps-bb91f77b-12' for task 'process_pool_snaps'\n"
      ]
     },
     "metadata": {},
     "output_type": "display_data"
    },
    {
     "data": {
      "text/html": [
       "<pre style=\"white-space:pre;overflow-x:auto;line-height:normal;font-family:Menlo,'DejaVu Sans Mono',consolas,'Courier New',monospace\">18:37:53.298 | <span style=\"color: #008080; text-decoration-color: #008080\">INFO</span>    | Flow run<span style=\"color: #800080; text-decoration-color: #800080\"> 'finicky-swallow'</span> - Executing 'process_pool_snaps-bb91f77b-12' immediately...\n",
       "</pre>\n"
      ],
      "text/plain": [
       "18:37:53.298 | \u001b[36mINFO\u001b[0m    | Flow run\u001b[35m 'finicky-swallow'\u001b[0m - Executing 'process_pool_snaps-bb91f77b-12' immediately...\n"
      ]
     },
     "metadata": {},
     "output_type": "display_data"
    },
    {
     "data": {
      "text/html": [
       "<pre style=\"white-space:pre;overflow-x:auto;line-height:normal;font-family:Menlo,'DejaVu Sans Mono',consolas,'Courier New',monospace\">18:37:53.323 | <span style=\"color: #008080; text-decoration-color: #008080\">INFO</span>    | Task run 'process_pool_snaps-bb91f77b-12' - Finished in state <span style=\"color: #008000; text-decoration-color: #008000\">Completed</span>()\n",
       "</pre>\n"
      ],
      "text/plain": [
       "18:37:53.323 | \u001b[36mINFO\u001b[0m    | Task run 'process_pool_snaps-bb91f77b-12' - Finished in state \u001b[32mCompleted\u001b[0m()\n"
      ]
     },
     "metadata": {},
     "output_type": "display_data"
    },
    {
     "data": {
      "text/html": [
       "<pre style=\"white-space:pre;overflow-x:auto;line-height:normal;font-family:Menlo,'DejaVu Sans Mono',consolas,'Courier New',monospace\">18:37:53.333 | <span style=\"color: #008080; text-decoration-color: #008080\">INFO</span>    | Flow run<span style=\"color: #800080; text-decoration-color: #800080\"> 'finicky-swallow'</span> - Created task run 'process_pool_snaps-bb91f77b-13' for task 'process_pool_snaps'\n",
       "</pre>\n"
      ],
      "text/plain": [
       "18:37:53.333 | \u001b[36mINFO\u001b[0m    | Flow run\u001b[35m 'finicky-swallow'\u001b[0m - Created task run 'process_pool_snaps-bb91f77b-13' for task 'process_pool_snaps'\n"
      ]
     },
     "metadata": {},
     "output_type": "display_data"
    },
    {
     "data": {
      "text/html": [
       "<pre style=\"white-space:pre;overflow-x:auto;line-height:normal;font-family:Menlo,'DejaVu Sans Mono',consolas,'Courier New',monospace\">18:37:53.334 | <span style=\"color: #008080; text-decoration-color: #008080\">INFO</span>    | Flow run<span style=\"color: #800080; text-decoration-color: #800080\"> 'finicky-swallow'</span> - Executing 'process_pool_snaps-bb91f77b-13' immediately...\n",
       "</pre>\n"
      ],
      "text/plain": [
       "18:37:53.334 | \u001b[36mINFO\u001b[0m    | Flow run\u001b[35m 'finicky-swallow'\u001b[0m - Executing 'process_pool_snaps-bb91f77b-13' immediately...\n"
      ]
     },
     "metadata": {},
     "output_type": "display_data"
    },
    {
     "data": {
      "text/html": [
       "<pre style=\"white-space:pre;overflow-x:auto;line-height:normal;font-family:Menlo,'DejaVu Sans Mono',consolas,'Courier New',monospace\">18:37:53.359 | <span style=\"color: #008080; text-decoration-color: #008080\">INFO</span>    | Task run 'process_pool_snaps-bb91f77b-13' - Finished in state <span style=\"color: #008000; text-decoration-color: #008000\">Completed</span>()\n",
       "</pre>\n"
      ],
      "text/plain": [
       "18:37:53.359 | \u001b[36mINFO\u001b[0m    | Task run 'process_pool_snaps-bb91f77b-13' - Finished in state \u001b[32mCompleted\u001b[0m()\n"
      ]
     },
     "metadata": {},
     "output_type": "display_data"
    },
    {
     "data": {
      "text/html": [
       "<pre style=\"white-space:pre;overflow-x:auto;line-height:normal;font-family:Menlo,'DejaVu Sans Mono',consolas,'Courier New',monospace\">18:37:53.369 | <span style=\"color: #008080; text-decoration-color: #008080\">INFO</span>    | Flow run<span style=\"color: #800080; text-decoration-color: #800080\"> 'finicky-swallow'</span> - Created task run 'process_pool_vol-f3874c79-0' for task 'process_pool_vol'\n",
       "</pre>\n"
      ],
      "text/plain": [
       "18:37:53.369 | \u001b[36mINFO\u001b[0m    | Flow run\u001b[35m 'finicky-swallow'\u001b[0m - Created task run 'process_pool_vol-f3874c79-0' for task 'process_pool_vol'\n"
      ]
     },
     "metadata": {},
     "output_type": "display_data"
    },
    {
     "data": {
      "text/html": [
       "<pre style=\"white-space:pre;overflow-x:auto;line-height:normal;font-family:Menlo,'DejaVu Sans Mono',consolas,'Courier New',monospace\">18:37:53.370 | <span style=\"color: #008080; text-decoration-color: #008080\">INFO</span>    | Flow run<span style=\"color: #800080; text-decoration-color: #800080\"> 'finicky-swallow'</span> - Executing 'process_pool_vol-f3874c79-0' immediately...\n",
       "</pre>\n"
      ],
      "text/plain": [
       "18:37:53.370 | \u001b[36mINFO\u001b[0m    | Flow run\u001b[35m 'finicky-swallow'\u001b[0m - Executing 'process_pool_vol-f3874c79-0' immediately...\n"
      ]
     },
     "metadata": {},
     "output_type": "display_data"
    },
    {
     "data": {
      "text/html": [
       "<pre style=\"white-space:pre;overflow-x:auto;line-height:normal;font-family:Menlo,'DejaVu Sans Mono',consolas,'Courier New',monospace\">18:37:53.393 | <span style=\"color: #008080; text-decoration-color: #008080\">INFO</span>    | Task run 'process_pool_vol-f3874c79-0' - Finished in state <span style=\"color: #008000; text-decoration-color: #008000\">Completed</span>()\n",
       "</pre>\n"
      ],
      "text/plain": [
       "18:37:53.393 | \u001b[36mINFO\u001b[0m    | Task run 'process_pool_vol-f3874c79-0' - Finished in state \u001b[32mCompleted\u001b[0m()\n"
      ]
     },
     "metadata": {},
     "output_type": "display_data"
    },
    {
     "data": {
      "text/html": [
       "<pre style=\"white-space:pre;overflow-x:auto;line-height:normal;font-family:Menlo,'DejaVu Sans Mono',consolas,'Courier New',monospace\">18:37:53.403 | <span style=\"color: #008080; text-decoration-color: #008080\">INFO</span>    | Flow run<span style=\"color: #800080; text-decoration-color: #800080\"> 'finicky-swallow'</span> - Created task run 'process_pool_vol-f3874c79-1' for task 'process_pool_vol'\n",
       "</pre>\n"
      ],
      "text/plain": [
       "18:37:53.403 | \u001b[36mINFO\u001b[0m    | Flow run\u001b[35m 'finicky-swallow'\u001b[0m - Created task run 'process_pool_vol-f3874c79-1' for task 'process_pool_vol'\n"
      ]
     },
     "metadata": {},
     "output_type": "display_data"
    },
    {
     "data": {
      "text/html": [
       "<pre style=\"white-space:pre;overflow-x:auto;line-height:normal;font-family:Menlo,'DejaVu Sans Mono',consolas,'Courier New',monospace\">18:37:53.404 | <span style=\"color: #008080; text-decoration-color: #008080\">INFO</span>    | Flow run<span style=\"color: #800080; text-decoration-color: #800080\"> 'finicky-swallow'</span> - Executing 'process_pool_vol-f3874c79-1' immediately...\n",
       "</pre>\n"
      ],
      "text/plain": [
       "18:37:53.404 | \u001b[36mINFO\u001b[0m    | Flow run\u001b[35m 'finicky-swallow'\u001b[0m - Executing 'process_pool_vol-f3874c79-1' immediately...\n"
      ]
     },
     "metadata": {},
     "output_type": "display_data"
    },
    {
     "data": {
      "text/html": [
       "<pre style=\"white-space:pre;overflow-x:auto;line-height:normal;font-family:Menlo,'DejaVu Sans Mono',consolas,'Courier New',monospace\">18:37:53.427 | <span style=\"color: #008080; text-decoration-color: #008080\">INFO</span>    | Task run 'process_pool_vol-f3874c79-1' - Finished in state <span style=\"color: #008000; text-decoration-color: #008000\">Completed</span>()\n",
       "</pre>\n"
      ],
      "text/plain": [
       "18:37:53.427 | \u001b[36mINFO\u001b[0m    | Task run 'process_pool_vol-f3874c79-1' - Finished in state \u001b[32mCompleted\u001b[0m()\n"
      ]
     },
     "metadata": {},
     "output_type": "display_data"
    },
    {
     "data": {
      "text/html": [
       "<pre style=\"white-space:pre;overflow-x:auto;line-height:normal;font-family:Menlo,'DejaVu Sans Mono',consolas,'Courier New',monospace\">18:37:53.437 | <span style=\"color: #008080; text-decoration-color: #008080\">INFO</span>    | Flow run<span style=\"color: #800080; text-decoration-color: #800080\"> 'finicky-swallow'</span> - Created task run 'process_pool_vol-f3874c79-2' for task 'process_pool_vol'\n",
       "</pre>\n"
      ],
      "text/plain": [
       "18:37:53.437 | \u001b[36mINFO\u001b[0m    | Flow run\u001b[35m 'finicky-swallow'\u001b[0m - Created task run 'process_pool_vol-f3874c79-2' for task 'process_pool_vol'\n"
      ]
     },
     "metadata": {},
     "output_type": "display_data"
    },
    {
     "data": {
      "text/html": [
       "<pre style=\"white-space:pre;overflow-x:auto;line-height:normal;font-family:Menlo,'DejaVu Sans Mono',consolas,'Courier New',monospace\">18:37:53.437 | <span style=\"color: #008080; text-decoration-color: #008080\">INFO</span>    | Flow run<span style=\"color: #800080; text-decoration-color: #800080\"> 'finicky-swallow'</span> - Executing 'process_pool_vol-f3874c79-2' immediately...\n",
       "</pre>\n"
      ],
      "text/plain": [
       "18:37:53.437 | \u001b[36mINFO\u001b[0m    | Flow run\u001b[35m 'finicky-swallow'\u001b[0m - Executing 'process_pool_vol-f3874c79-2' immediately...\n"
      ]
     },
     "metadata": {},
     "output_type": "display_data"
    },
    {
     "data": {
      "text/html": [
       "<pre style=\"white-space:pre;overflow-x:auto;line-height:normal;font-family:Menlo,'DejaVu Sans Mono',consolas,'Courier New',monospace\">18:37:53.462 | <span style=\"color: #008080; text-decoration-color: #008080\">INFO</span>    | Task run 'process_pool_vol-f3874c79-2' - Finished in state <span style=\"color: #008000; text-decoration-color: #008000\">Completed</span>()\n",
       "</pre>\n"
      ],
      "text/plain": [
       "18:37:53.462 | \u001b[36mINFO\u001b[0m    | Task run 'process_pool_vol-f3874c79-2' - Finished in state \u001b[32mCompleted\u001b[0m()\n"
      ]
     },
     "metadata": {},
     "output_type": "display_data"
    },
    {
     "data": {
      "text/html": [
       "<pre style=\"white-space:pre;overflow-x:auto;line-height:normal;font-family:Menlo,'DejaVu Sans Mono',consolas,'Courier New',monospace\">18:37:53.471 | <span style=\"color: #008080; text-decoration-color: #008080\">INFO</span>    | Flow run<span style=\"color: #800080; text-decoration-color: #800080\"> 'finicky-swallow'</span> - Created task run 'process_pool_vol-f3874c79-3' for task 'process_pool_vol'\n",
       "</pre>\n"
      ],
      "text/plain": [
       "18:37:53.471 | \u001b[36mINFO\u001b[0m    | Flow run\u001b[35m 'finicky-swallow'\u001b[0m - Created task run 'process_pool_vol-f3874c79-3' for task 'process_pool_vol'\n"
      ]
     },
     "metadata": {},
     "output_type": "display_data"
    },
    {
     "data": {
      "text/html": [
       "<pre style=\"white-space:pre;overflow-x:auto;line-height:normal;font-family:Menlo,'DejaVu Sans Mono',consolas,'Courier New',monospace\">18:37:53.472 | <span style=\"color: #008080; text-decoration-color: #008080\">INFO</span>    | Flow run<span style=\"color: #800080; text-decoration-color: #800080\"> 'finicky-swallow'</span> - Executing 'process_pool_vol-f3874c79-3' immediately...\n",
       "</pre>\n"
      ],
      "text/plain": [
       "18:37:53.472 | \u001b[36mINFO\u001b[0m    | Flow run\u001b[35m 'finicky-swallow'\u001b[0m - Executing 'process_pool_vol-f3874c79-3' immediately...\n"
      ]
     },
     "metadata": {},
     "output_type": "display_data"
    },
    {
     "data": {
      "text/html": [
       "<pre style=\"white-space:pre;overflow-x:auto;line-height:normal;font-family:Menlo,'DejaVu Sans Mono',consolas,'Courier New',monospace\">18:37:53.496 | <span style=\"color: #008080; text-decoration-color: #008080\">INFO</span>    | Task run 'process_pool_vol-f3874c79-3' - Finished in state <span style=\"color: #008000; text-decoration-color: #008000\">Completed</span>()\n",
       "</pre>\n"
      ],
      "text/plain": [
       "18:37:53.496 | \u001b[36mINFO\u001b[0m    | Task run 'process_pool_vol-f3874c79-3' - Finished in state \u001b[32mCompleted\u001b[0m()\n"
      ]
     },
     "metadata": {},
     "output_type": "display_data"
    },
    {
     "data": {
      "text/html": [
       "<pre style=\"white-space:pre;overflow-x:auto;line-height:normal;font-family:Menlo,'DejaVu Sans Mono',consolas,'Courier New',monospace\">18:37:53.505 | <span style=\"color: #008080; text-decoration-color: #008080\">INFO</span>    | Flow run<span style=\"color: #800080; text-decoration-color: #800080\"> 'finicky-swallow'</span> - Created task run 'process_pool_vol-f3874c79-4' for task 'process_pool_vol'\n",
       "</pre>\n"
      ],
      "text/plain": [
       "18:37:53.505 | \u001b[36mINFO\u001b[0m    | Flow run\u001b[35m 'finicky-swallow'\u001b[0m - Created task run 'process_pool_vol-f3874c79-4' for task 'process_pool_vol'\n"
      ]
     },
     "metadata": {},
     "output_type": "display_data"
    },
    {
     "data": {
      "text/html": [
       "<pre style=\"white-space:pre;overflow-x:auto;line-height:normal;font-family:Menlo,'DejaVu Sans Mono',consolas,'Courier New',monospace\">18:37:53.506 | <span style=\"color: #008080; text-decoration-color: #008080\">INFO</span>    | Flow run<span style=\"color: #800080; text-decoration-color: #800080\"> 'finicky-swallow'</span> - Executing 'process_pool_vol-f3874c79-4' immediately...\n",
       "</pre>\n"
      ],
      "text/plain": [
       "18:37:53.506 | \u001b[36mINFO\u001b[0m    | Flow run\u001b[35m 'finicky-swallow'\u001b[0m - Executing 'process_pool_vol-f3874c79-4' immediately...\n"
      ]
     },
     "metadata": {},
     "output_type": "display_data"
    },
    {
     "data": {
      "text/html": [
       "<pre style=\"white-space:pre;overflow-x:auto;line-height:normal;font-family:Menlo,'DejaVu Sans Mono',consolas,'Courier New',monospace\">18:37:53.530 | <span style=\"color: #008080; text-decoration-color: #008080\">INFO</span>    | Task run 'process_pool_vol-f3874c79-4' - Finished in state <span style=\"color: #008000; text-decoration-color: #008000\">Completed</span>()\n",
       "</pre>\n"
      ],
      "text/plain": [
       "18:37:53.530 | \u001b[36mINFO\u001b[0m    | Task run 'process_pool_vol-f3874c79-4' - Finished in state \u001b[32mCompleted\u001b[0m()\n"
      ]
     },
     "metadata": {},
     "output_type": "display_data"
    },
    {
     "data": {
      "text/html": [
       "<pre style=\"white-space:pre;overflow-x:auto;line-height:normal;font-family:Menlo,'DejaVu Sans Mono',consolas,'Courier New',monospace\">18:37:53.541 | <span style=\"color: #008080; text-decoration-color: #008080\">INFO</span>    | Flow run<span style=\"color: #800080; text-decoration-color: #800080\"> 'finicky-swallow'</span> - Created task run 'process_pool_vol-f3874c79-5' for task 'process_pool_vol'\n",
       "</pre>\n"
      ],
      "text/plain": [
       "18:37:53.541 | \u001b[36mINFO\u001b[0m    | Flow run\u001b[35m 'finicky-swallow'\u001b[0m - Created task run 'process_pool_vol-f3874c79-5' for task 'process_pool_vol'\n"
      ]
     },
     "metadata": {},
     "output_type": "display_data"
    },
    {
     "data": {
      "text/html": [
       "<pre style=\"white-space:pre;overflow-x:auto;line-height:normal;font-family:Menlo,'DejaVu Sans Mono',consolas,'Courier New',monospace\">18:37:53.542 | <span style=\"color: #008080; text-decoration-color: #008080\">INFO</span>    | Flow run<span style=\"color: #800080; text-decoration-color: #800080\"> 'finicky-swallow'</span> - Executing 'process_pool_vol-f3874c79-5' immediately...\n",
       "</pre>\n"
      ],
      "text/plain": [
       "18:37:53.542 | \u001b[36mINFO\u001b[0m    | Flow run\u001b[35m 'finicky-swallow'\u001b[0m - Executing 'process_pool_vol-f3874c79-5' immediately...\n"
      ]
     },
     "metadata": {},
     "output_type": "display_data"
    },
    {
     "data": {
      "text/html": [
       "<pre style=\"white-space:pre;overflow-x:auto;line-height:normal;font-family:Menlo,'DejaVu Sans Mono',consolas,'Courier New',monospace\">18:37:53.568 | <span style=\"color: #008080; text-decoration-color: #008080\">INFO</span>    | Task run 'process_pool_vol-f3874c79-5' - Finished in state <span style=\"color: #008000; text-decoration-color: #008000\">Completed</span>()\n",
       "</pre>\n"
      ],
      "text/plain": [
       "18:37:53.568 | \u001b[36mINFO\u001b[0m    | Task run 'process_pool_vol-f3874c79-5' - Finished in state \u001b[32mCompleted\u001b[0m()\n"
      ]
     },
     "metadata": {},
     "output_type": "display_data"
    },
    {
     "data": {
      "text/html": [
       "<pre style=\"white-space:pre;overflow-x:auto;line-height:normal;font-family:Menlo,'DejaVu Sans Mono',consolas,'Courier New',monospace\">18:37:53.580 | <span style=\"color: #008080; text-decoration-color: #008080\">INFO</span>    | Flow run<span style=\"color: #800080; text-decoration-color: #800080\"> 'finicky-swallow'</span> - Created task run 'process_pool_vol-f3874c79-6' for task 'process_pool_vol'\n",
       "</pre>\n"
      ],
      "text/plain": [
       "18:37:53.580 | \u001b[36mINFO\u001b[0m    | Flow run\u001b[35m 'finicky-swallow'\u001b[0m - Created task run 'process_pool_vol-f3874c79-6' for task 'process_pool_vol'\n"
      ]
     },
     "metadata": {},
     "output_type": "display_data"
    },
    {
     "data": {
      "text/html": [
       "<pre style=\"white-space:pre;overflow-x:auto;line-height:normal;font-family:Menlo,'DejaVu Sans Mono',consolas,'Courier New',monospace\">18:37:53.580 | <span style=\"color: #008080; text-decoration-color: #008080\">INFO</span>    | Flow run<span style=\"color: #800080; text-decoration-color: #800080\"> 'finicky-swallow'</span> - Executing 'process_pool_vol-f3874c79-6' immediately...\n",
       "</pre>\n"
      ],
      "text/plain": [
       "18:37:53.580 | \u001b[36mINFO\u001b[0m    | Flow run\u001b[35m 'finicky-swallow'\u001b[0m - Executing 'process_pool_vol-f3874c79-6' immediately...\n"
      ]
     },
     "metadata": {},
     "output_type": "display_data"
    },
    {
     "data": {
      "text/html": [
       "<pre style=\"white-space:pre;overflow-x:auto;line-height:normal;font-family:Menlo,'DejaVu Sans Mono',consolas,'Courier New',monospace\">18:37:53.606 | <span style=\"color: #008080; text-decoration-color: #008080\">INFO</span>    | Task run 'process_pool_vol-f3874c79-6' - Finished in state <span style=\"color: #008000; text-decoration-color: #008000\">Completed</span>()\n",
       "</pre>\n"
      ],
      "text/plain": [
       "18:37:53.606 | \u001b[36mINFO\u001b[0m    | Task run 'process_pool_vol-f3874c79-6' - Finished in state \u001b[32mCompleted\u001b[0m()\n"
      ]
     },
     "metadata": {},
     "output_type": "display_data"
    },
    {
     "data": {
      "text/html": [
       "<pre style=\"white-space:pre;overflow-x:auto;line-height:normal;font-family:Menlo,'DejaVu Sans Mono',consolas,'Courier New',monospace\">18:37:53.616 | <span style=\"color: #008080; text-decoration-color: #008080\">INFO</span>    | Flow run<span style=\"color: #800080; text-decoration-color: #800080\"> 'finicky-swallow'</span> - Created task run 'process_pool_vol-f3874c79-7' for task 'process_pool_vol'\n",
       "</pre>\n"
      ],
      "text/plain": [
       "18:37:53.616 | \u001b[36mINFO\u001b[0m    | Flow run\u001b[35m 'finicky-swallow'\u001b[0m - Created task run 'process_pool_vol-f3874c79-7' for task 'process_pool_vol'\n"
      ]
     },
     "metadata": {},
     "output_type": "display_data"
    },
    {
     "data": {
      "text/html": [
       "<pre style=\"white-space:pre;overflow-x:auto;line-height:normal;font-family:Menlo,'DejaVu Sans Mono',consolas,'Courier New',monospace\">18:37:53.617 | <span style=\"color: #008080; text-decoration-color: #008080\">INFO</span>    | Flow run<span style=\"color: #800080; text-decoration-color: #800080\"> 'finicky-swallow'</span> - Executing 'process_pool_vol-f3874c79-7' immediately...\n",
       "</pre>\n"
      ],
      "text/plain": [
       "18:37:53.617 | \u001b[36mINFO\u001b[0m    | Flow run\u001b[35m 'finicky-swallow'\u001b[0m - Executing 'process_pool_vol-f3874c79-7' immediately...\n"
      ]
     },
     "metadata": {},
     "output_type": "display_data"
    },
    {
     "data": {
      "text/html": [
       "<pre style=\"white-space:pre;overflow-x:auto;line-height:normal;font-family:Menlo,'DejaVu Sans Mono',consolas,'Courier New',monospace\">18:37:53.642 | <span style=\"color: #008080; text-decoration-color: #008080\">INFO</span>    | Task run 'process_pool_vol-f3874c79-7' - Finished in state <span style=\"color: #008000; text-decoration-color: #008000\">Completed</span>()\n",
       "</pre>\n"
      ],
      "text/plain": [
       "18:37:53.642 | \u001b[36mINFO\u001b[0m    | Task run 'process_pool_vol-f3874c79-7' - Finished in state \u001b[32mCompleted\u001b[0m()\n"
      ]
     },
     "metadata": {},
     "output_type": "display_data"
    },
    {
     "data": {
      "text/html": [
       "<pre style=\"white-space:pre;overflow-x:auto;line-height:normal;font-family:Menlo,'DejaVu Sans Mono',consolas,'Courier New',monospace\">18:37:53.653 | <span style=\"color: #008080; text-decoration-color: #008080\">INFO</span>    | Flow run<span style=\"color: #800080; text-decoration-color: #800080\"> 'finicky-swallow'</span> - Created task run 'process_pool_vol-f3874c79-8' for task 'process_pool_vol'\n",
       "</pre>\n"
      ],
      "text/plain": [
       "18:37:53.653 | \u001b[36mINFO\u001b[0m    | Flow run\u001b[35m 'finicky-swallow'\u001b[0m - Created task run 'process_pool_vol-f3874c79-8' for task 'process_pool_vol'\n"
      ]
     },
     "metadata": {},
     "output_type": "display_data"
    },
    {
     "data": {
      "text/html": [
       "<pre style=\"white-space:pre;overflow-x:auto;line-height:normal;font-family:Menlo,'DejaVu Sans Mono',consolas,'Courier New',monospace\">18:37:53.653 | <span style=\"color: #008080; text-decoration-color: #008080\">INFO</span>    | Flow run<span style=\"color: #800080; text-decoration-color: #800080\"> 'finicky-swallow'</span> - Executing 'process_pool_vol-f3874c79-8' immediately...\n",
       "</pre>\n"
      ],
      "text/plain": [
       "18:37:53.653 | \u001b[36mINFO\u001b[0m    | Flow run\u001b[35m 'finicky-swallow'\u001b[0m - Executing 'process_pool_vol-f3874c79-8' immediately...\n"
      ]
     },
     "metadata": {},
     "output_type": "display_data"
    },
    {
     "data": {
      "text/html": [
       "<pre style=\"white-space:pre;overflow-x:auto;line-height:normal;font-family:Menlo,'DejaVu Sans Mono',consolas,'Courier New',monospace\">18:37:53.679 | <span style=\"color: #008080; text-decoration-color: #008080\">INFO</span>    | Task run 'process_pool_vol-f3874c79-8' - Finished in state <span style=\"color: #008000; text-decoration-color: #008000\">Completed</span>()\n",
       "</pre>\n"
      ],
      "text/plain": [
       "18:37:53.679 | \u001b[36mINFO\u001b[0m    | Task run 'process_pool_vol-f3874c79-8' - Finished in state \u001b[32mCompleted\u001b[0m()\n"
      ]
     },
     "metadata": {},
     "output_type": "display_data"
    },
    {
     "data": {
      "text/html": [
       "<pre style=\"white-space:pre;overflow-x:auto;line-height:normal;font-family:Menlo,'DejaVu Sans Mono',consolas,'Courier New',monospace\">18:37:53.689 | <span style=\"color: #008080; text-decoration-color: #008080\">INFO</span>    | Flow run<span style=\"color: #800080; text-decoration-color: #800080\"> 'finicky-swallow'</span> - Created task run 'process_pool_vol-f3874c79-9' for task 'process_pool_vol'\n",
       "</pre>\n"
      ],
      "text/plain": [
       "18:37:53.689 | \u001b[36mINFO\u001b[0m    | Flow run\u001b[35m 'finicky-swallow'\u001b[0m - Created task run 'process_pool_vol-f3874c79-9' for task 'process_pool_vol'\n"
      ]
     },
     "metadata": {},
     "output_type": "display_data"
    },
    {
     "data": {
      "text/html": [
       "<pre style=\"white-space:pre;overflow-x:auto;line-height:normal;font-family:Menlo,'DejaVu Sans Mono',consolas,'Courier New',monospace\">18:37:53.690 | <span style=\"color: #008080; text-decoration-color: #008080\">INFO</span>    | Flow run<span style=\"color: #800080; text-decoration-color: #800080\"> 'finicky-swallow'</span> - Executing 'process_pool_vol-f3874c79-9' immediately...\n",
       "</pre>\n"
      ],
      "text/plain": [
       "18:37:53.690 | \u001b[36mINFO\u001b[0m    | Flow run\u001b[35m 'finicky-swallow'\u001b[0m - Executing 'process_pool_vol-f3874c79-9' immediately...\n"
      ]
     },
     "metadata": {},
     "output_type": "display_data"
    },
    {
     "data": {
      "text/html": [
       "<pre style=\"white-space:pre;overflow-x:auto;line-height:normal;font-family:Menlo,'DejaVu Sans Mono',consolas,'Courier New',monospace\">18:37:53.717 | <span style=\"color: #008080; text-decoration-color: #008080\">INFO</span>    | Task run 'process_pool_vol-f3874c79-9' - Finished in state <span style=\"color: #008000; text-decoration-color: #008000\">Completed</span>()\n",
       "</pre>\n"
      ],
      "text/plain": [
       "18:37:53.717 | \u001b[36mINFO\u001b[0m    | Task run 'process_pool_vol-f3874c79-9' - Finished in state \u001b[32mCompleted\u001b[0m()\n"
      ]
     },
     "metadata": {},
     "output_type": "display_data"
    },
    {
     "data": {
      "text/html": [
       "<pre style=\"white-space:pre;overflow-x:auto;line-height:normal;font-family:Menlo,'DejaVu Sans Mono',consolas,'Courier New',monospace\">18:37:53.728 | <span style=\"color: #008080; text-decoration-color: #008080\">INFO</span>    | Flow run<span style=\"color: #800080; text-decoration-color: #800080\"> 'finicky-swallow'</span> - Created task run 'process_pool_vol-f3874c79-10' for task 'process_pool_vol'\n",
       "</pre>\n"
      ],
      "text/plain": [
       "18:37:53.728 | \u001b[36mINFO\u001b[0m    | Flow run\u001b[35m 'finicky-swallow'\u001b[0m - Created task run 'process_pool_vol-f3874c79-10' for task 'process_pool_vol'\n"
      ]
     },
     "metadata": {},
     "output_type": "display_data"
    },
    {
     "data": {
      "text/html": [
       "<pre style=\"white-space:pre;overflow-x:auto;line-height:normal;font-family:Menlo,'DejaVu Sans Mono',consolas,'Courier New',monospace\">18:37:53.729 | <span style=\"color: #008080; text-decoration-color: #008080\">INFO</span>    | Flow run<span style=\"color: #800080; text-decoration-color: #800080\"> 'finicky-swallow'</span> - Executing 'process_pool_vol-f3874c79-10' immediately...\n",
       "</pre>\n"
      ],
      "text/plain": [
       "18:37:53.729 | \u001b[36mINFO\u001b[0m    | Flow run\u001b[35m 'finicky-swallow'\u001b[0m - Executing 'process_pool_vol-f3874c79-10' immediately...\n"
      ]
     },
     "metadata": {},
     "output_type": "display_data"
    },
    {
     "data": {
      "text/html": [
       "<pre style=\"white-space:pre;overflow-x:auto;line-height:normal;font-family:Menlo,'DejaVu Sans Mono',consolas,'Courier New',monospace\">18:37:53.753 | <span style=\"color: #008080; text-decoration-color: #008080\">INFO</span>    | Task run 'process_pool_vol-f3874c79-10' - Finished in state <span style=\"color: #008000; text-decoration-color: #008000\">Completed</span>()\n",
       "</pre>\n"
      ],
      "text/plain": [
       "18:37:53.753 | \u001b[36mINFO\u001b[0m    | Task run 'process_pool_vol-f3874c79-10' - Finished in state \u001b[32mCompleted\u001b[0m()\n"
      ]
     },
     "metadata": {},
     "output_type": "display_data"
    },
    {
     "data": {
      "text/html": [
       "<pre style=\"white-space:pre;overflow-x:auto;line-height:normal;font-family:Menlo,'DejaVu Sans Mono',consolas,'Courier New',monospace\">18:37:53.763 | <span style=\"color: #008080; text-decoration-color: #008080\">INFO</span>    | Flow run<span style=\"color: #800080; text-decoration-color: #800080\"> 'finicky-swallow'</span> - Created task run 'process_pool_vol-f3874c79-11' for task 'process_pool_vol'\n",
       "</pre>\n"
      ],
      "text/plain": [
       "18:37:53.763 | \u001b[36mINFO\u001b[0m    | Flow run\u001b[35m 'finicky-swallow'\u001b[0m - Created task run 'process_pool_vol-f3874c79-11' for task 'process_pool_vol'\n"
      ]
     },
     "metadata": {},
     "output_type": "display_data"
    },
    {
     "data": {
      "text/html": [
       "<pre style=\"white-space:pre;overflow-x:auto;line-height:normal;font-family:Menlo,'DejaVu Sans Mono',consolas,'Courier New',monospace\">18:37:53.764 | <span style=\"color: #008080; text-decoration-color: #008080\">INFO</span>    | Flow run<span style=\"color: #800080; text-decoration-color: #800080\"> 'finicky-swallow'</span> - Executing 'process_pool_vol-f3874c79-11' immediately...\n",
       "</pre>\n"
      ],
      "text/plain": [
       "18:37:53.764 | \u001b[36mINFO\u001b[0m    | Flow run\u001b[35m 'finicky-swallow'\u001b[0m - Executing 'process_pool_vol-f3874c79-11' immediately...\n"
      ]
     },
     "metadata": {},
     "output_type": "display_data"
    },
    {
     "data": {
      "text/html": [
       "<pre style=\"white-space:pre;overflow-x:auto;line-height:normal;font-family:Menlo,'DejaVu Sans Mono',consolas,'Courier New',monospace\">18:37:53.789 | <span style=\"color: #008080; text-decoration-color: #008080\">INFO</span>    | Task run 'process_pool_vol-f3874c79-11' - Finished in state <span style=\"color: #008000; text-decoration-color: #008000\">Completed</span>()\n",
       "</pre>\n"
      ],
      "text/plain": [
       "18:37:53.789 | \u001b[36mINFO\u001b[0m    | Task run 'process_pool_vol-f3874c79-11' - Finished in state \u001b[32mCompleted\u001b[0m()\n"
      ]
     },
     "metadata": {},
     "output_type": "display_data"
    },
    {
     "data": {
      "text/html": [
       "<pre style=\"white-space:pre;overflow-x:auto;line-height:normal;font-family:Menlo,'DejaVu Sans Mono',consolas,'Courier New',monospace\">18:37:53.799 | <span style=\"color: #008080; text-decoration-color: #008080\">INFO</span>    | Flow run<span style=\"color: #800080; text-decoration-color: #800080\"> 'finicky-swallow'</span> - Created task run 'process_pool_vol-f3874c79-12' for task 'process_pool_vol'\n",
       "</pre>\n"
      ],
      "text/plain": [
       "18:37:53.799 | \u001b[36mINFO\u001b[0m    | Flow run\u001b[35m 'finicky-swallow'\u001b[0m - Created task run 'process_pool_vol-f3874c79-12' for task 'process_pool_vol'\n"
      ]
     },
     "metadata": {},
     "output_type": "display_data"
    },
    {
     "data": {
      "text/html": [
       "<pre style=\"white-space:pre;overflow-x:auto;line-height:normal;font-family:Menlo,'DejaVu Sans Mono',consolas,'Courier New',monospace\">18:37:53.799 | <span style=\"color: #008080; text-decoration-color: #008080\">INFO</span>    | Flow run<span style=\"color: #800080; text-decoration-color: #800080\"> 'finicky-swallow'</span> - Executing 'process_pool_vol-f3874c79-12' immediately...\n",
       "</pre>\n"
      ],
      "text/plain": [
       "18:37:53.799 | \u001b[36mINFO\u001b[0m    | Flow run\u001b[35m 'finicky-swallow'\u001b[0m - Executing 'process_pool_vol-f3874c79-12' immediately...\n"
      ]
     },
     "metadata": {},
     "output_type": "display_data"
    },
    {
     "data": {
      "text/html": [
       "<pre style=\"white-space:pre;overflow-x:auto;line-height:normal;font-family:Menlo,'DejaVu Sans Mono',consolas,'Courier New',monospace\">18:37:53.835 | <span style=\"color: #008080; text-decoration-color: #008080\">INFO</span>    | Task run 'process_pool_vol-f3874c79-12' - Finished in state <span style=\"color: #008000; text-decoration-color: #008000\">Completed</span>()\n",
       "</pre>\n"
      ],
      "text/plain": [
       "18:37:53.835 | \u001b[36mINFO\u001b[0m    | Task run 'process_pool_vol-f3874c79-12' - Finished in state \u001b[32mCompleted\u001b[0m()\n"
      ]
     },
     "metadata": {},
     "output_type": "display_data"
    },
    {
     "data": {
      "text/html": [
       "<pre style=\"white-space:pre;overflow-x:auto;line-height:normal;font-family:Menlo,'DejaVu Sans Mono',consolas,'Courier New',monospace\">18:37:53.858 | <span style=\"color: #008080; text-decoration-color: #008080\">INFO</span>    | Flow run<span style=\"color: #800080; text-decoration-color: #800080\"> 'finicky-swallow'</span> - Finished in state <span style=\"color: #008000; text-decoration-color: #008000\">Completed</span>()\n",
       "</pre>\n"
      ],
      "text/plain": [
       "18:37:53.858 | \u001b[36mINFO\u001b[0m    | Flow run\u001b[35m 'finicky-swallow'\u001b[0m - Finished in state \u001b[32mCompleted\u001b[0m()\n"
      ]
     },
     "metadata": {},
     "output_type": "display_data"
    },
    {
     "data": {
      "text/html": [
       "<pre style=\"white-space:pre;overflow-x:auto;line-height:normal;font-family:Menlo,'DejaVu Sans Mono',consolas,'Courier New',monospace\">18:37:53.868 | <span style=\"color: #008080; text-decoration-color: #008080\">INFO</span>    | Flow run<span style=\"color: #800080; text-decoration-color: #800080\"> 'spirited-jellyfish'</span> - Finished in state <span style=\"color: #008000; text-decoration-color: #008000\">Completed</span>()\n",
       "</pre>\n"
      ],
      "text/plain": [
       "18:37:53.868 | \u001b[36mINFO\u001b[0m    | Flow run\u001b[35m 'spirited-jellyfish'\u001b[0m - Finished in state \u001b[32mCompleted\u001b[0m()\n"
      ]
     },
     "metadata": {},
     "output_type": "display_data"
    },
    {
     "name": "stderr",
     "output_type": "stream",
     "text": [
      "sys:1: ResourceWarning: Unclosed socket <zmq.Socket(zmq.PUSH) at 0x2b6f3d0c0>\n",
      "ResourceWarning: Enable tracemalloc to get the object allocation traceback\n"
     ]
    }
   ],
   "source": [
    "async with get_client() as client:\n",
    "    # set a concurrency limit of 10 on the 'small_instance' tag\n",
    "    limit_id = await client.create_concurrency_limit(tag=\"curve_subgraph\", concurrency_limit=16)\n",
    "\n",
    "data = flow_fraxbp_vs_3pool()"
   ]
  },
  {
   "cell_type": "code",
   "execution_count": 52,
   "id": "6814cd4b-bfbc-4cc9-b876-7ea01fa59898",
   "metadata": {},
   "outputs": [],
   "source": [
    "data_3pool = data['3crv']\n",
    "df_3pool_reserves = data_3pool['reserves']\n",
    "df_3pool_volume = data_3pool['volume']\n",
    "\n",
    "data_fraxbp = data['crvfrax'] \n",
    "df_fraxbp_reserves = data_fraxbp['reserves']\n",
    "df_fraxbp_volume = data_fraxbp['volume']"
   ]
  },
  {
   "cell_type": "code",
   "execution_count": 53,
   "id": "21ddbc16-8df0-4d1f-921f-672619f7ed4a",
   "metadata": {},
   "outputs": [],
   "source": [
    "def chart_metapool_lp_against_paired_asset(df, coin_name):\n",
    "    df_mp = df.loc[df.coin_name == coin_name].groupby(\"timestamp\")['reserves_usd'].sum().reset_index()\n",
    "    df_mp['segment'] = coin_name\n",
    "    df_mp_paired = df.loc[df.coin_name != coin_name].groupby(\"timestamp\")['reserves_usd'].sum().reset_index()\n",
    "    df_mp_paired['segment'] = 'paired asset'\n",
    "    df_full = pd.concat([df_mp, df_mp_paired])\n",
    "    return (\n",
    "        alt.Chart(df_full)\n",
    "        .mark_area()\n",
    "        .encode(\n",
    "            x=\"timestamp:T\", \n",
    "            y=\"reserves_usd:Q\", \n",
    "            color=\"segment:N\", \n",
    "            tooltip=[\"timestamp\", \"reserves_usd\", \"segment\"]\n",
    "        )\n",
    "    )"
   ]
  },
  {
   "cell_type": "code",
   "execution_count": 54,
   "id": "d4b576f7-5fc7-4669-9b22-15947db8384d",
   "metadata": {},
   "outputs": [],
   "source": [
    "# df_fraxbp_last = df_fraxbp.copy()\n",
    "# df_fraxbp_last['max_timestamp'] = df_fraxbp_last.groupby(['pool_symbol'])['timestamp'].transform(\"max\")\n",
    "# df_fraxbp_last = df_fraxbp_last.loc[df_fraxbp_last.timestamp == df_fraxbp_last.max_timestamp]\n",
    "\n",
    "# df_3pool_last = df_3pool.copy()\n",
    "# df_3pool_last['max_timestamp'] = df_3pool_last.groupby(['pool_symbol'])['timestamp'].transform(\"max\")\n",
    "# df_3pool_last = df_3pool_last.loc[df_3pool_last.timestamp == df_3pool_last.max_timestamp]\n",
    "\n",
    "# ddf(df_fraxbp_last.sort_values('reserves_usd', ascending=False))"
   ]
  },
  {
   "cell_type": "code",
   "execution_count": 55,
   "id": "a3cdbad0-b2c0-4ad6-908a-f3fb6a364f47",
   "metadata": {},
   "outputs": [],
   "source": [
    "# len(df_3pool_last)\n",
    "# ddf(df_3pool_last.sort_values('reserves_usd', ascending=False))"
   ]
  },
  {
   "cell_type": "code",
   "execution_count": 58,
   "id": "5a989e1b-ac7a-4759-a0f6-e7b2a7123b34",
   "metadata": {},
   "outputs": [],
   "source": [
    "# first_row(df_fraxbp_reserves)\n",
    "\n",
    "# df_fraxbp_reserves.loc[df_fraxbp_reserves.coin_name == 'crvFRAX'].groupby(['pool_id', 'timestamp']).cumcount().unique()"
   ]
  },
  {
   "cell_type": "code",
   "execution_count": 59,
   "id": "7d37320b-90a3-4c35-a5e8-f8e2ac1747f9",
   "metadata": {},
   "outputs": [],
   "source": [
    "# df_fraxbp_reserves.loc[df_fraxbp_reserves.timestamp == pd.Timestamp('2022-09-03')]"
   ]
  },
  {
   "cell_type": "code",
   "execution_count": 60,
   "id": "e1126f11-885d-4d59-8863-039335128557",
   "metadata": {},
   "outputs": [],
   "source": [
    "# def fn(df, coin_name): \n",
    "#     df_mp = df.loc[df.coin_name == coin_name].groupby(\"timestamp\")['reserves_usd'].sum().reset_index()\n",
    "#     df_mp['segment'] = coin_name\n",
    "#     df_mp_paired = df.loc[df.coin_name != coin_name].groupby(\"timestamp\")['reserves_usd'].sum().reset_index()\n",
    "#     df_mp_paired['segment'] = 'paired asset'\n",
    "#     df_full = pd.concat([df_mp, df_mp_paired])\n",
    "#     return df_full \n",
    "\n",
    "# ddf(fn(df_fraxbp_reserves, 'crvFRAX').sort_values('timestamp').head(140).tail(15))"
   ]
  },
  {
   "cell_type": "code",
   "execution_count": null,
   "id": "418074bf-8d07-4040-8ea0-8d8f74cd14ed",
   "metadata": {},
   "outputs": [],
   "source": []
  },
  {
   "cell_type": "code",
   "execution_count": 62,
   "id": "71134712-1b9f-4068-9b34-8fe39fce00e1",
   "metadata": {},
   "outputs": [
    {
     "name": "stderr",
     "output_type": "stream",
     "text": [
      "/opt/miniconda3/envs/flywheel/lib/python3.10/site-packages/altair/utils/core.py:317: FutureWarning: iteritems is deprecated and will be removed in a future version. Use .items instead.\n",
      "  for col_name, dtype in df.dtypes.iteritems():\n"
     ]
    },
    {
     "data": {
      "text/html": [
       "\n",
       "<div id=\"altair-viz-441e7616e8ee4ab49a84b04947609d88\"></div>\n",
       "<script type=\"text/javascript\">\n",
       "  var VEGA_DEBUG = (typeof VEGA_DEBUG == \"undefined\") ? {} : VEGA_DEBUG;\n",
       "  (function(spec, embedOpt){\n",
       "    let outputDiv = document.currentScript.previousElementSibling;\n",
       "    if (outputDiv.id !== \"altair-viz-441e7616e8ee4ab49a84b04947609d88\") {\n",
       "      outputDiv = document.getElementById(\"altair-viz-441e7616e8ee4ab49a84b04947609d88\");\n",
       "    }\n",
       "    const paths = {\n",
       "      \"vega\": \"https://cdn.jsdelivr.net/npm//vega@5?noext\",\n",
       "      \"vega-lib\": \"https://cdn.jsdelivr.net/npm//vega-lib?noext\",\n",
       "      \"vega-lite\": \"https://cdn.jsdelivr.net/npm//vega-lite@4.17.0?noext\",\n",
       "      \"vega-embed\": \"https://cdn.jsdelivr.net/npm//vega-embed@6?noext\",\n",
       "    };\n",
       "\n",
       "    function maybeLoadScript(lib, version) {\n",
       "      var key = `${lib.replace(\"-\", \"\")}_version`;\n",
       "      return (VEGA_DEBUG[key] == version) ?\n",
       "        Promise.resolve(paths[lib]) :\n",
       "        new Promise(function(resolve, reject) {\n",
       "          var s = document.createElement('script');\n",
       "          document.getElementsByTagName(\"head\")[0].appendChild(s);\n",
       "          s.async = true;\n",
       "          s.onload = () => {\n",
       "            VEGA_DEBUG[key] = version;\n",
       "            return resolve(paths[lib]);\n",
       "          };\n",
       "          s.onerror = () => reject(`Error loading script: ${paths[lib]}`);\n",
       "          s.src = paths[lib];\n",
       "        });\n",
       "    }\n",
       "\n",
       "    function showError(err) {\n",
       "      outputDiv.innerHTML = `<div class=\"error\" style=\"color:red;\">${err}</div>`;\n",
       "      throw err;\n",
       "    }\n",
       "\n",
       "    function displayChart(vegaEmbed) {\n",
       "      vegaEmbed(outputDiv, spec, embedOpt)\n",
       "        .catch(err => showError(`Javascript Error: ${err.message}<br>This usually means there's a typo in your chart specification. See the javascript console for the full traceback.`));\n",
       "    }\n",
       "\n",
       "    if(typeof define === \"function\" && define.amd) {\n",
       "      requirejs.config({paths});\n",
       "      require([\"vega-embed\"], displayChart, err => showError(`Error loading script: ${err.message}`));\n",
       "    } else {\n",
       "      maybeLoadScript(\"vega\", \"5\")\n",
       "        .then(() => maybeLoadScript(\"vega-lite\", \"4.17.0\"))\n",
       "        .then(() => maybeLoadScript(\"vega-embed\", \"6\"))\n",
       "        .catch(showError)\n",
       "        .then(() => displayChart(vegaEmbed));\n",
       "    }\n",
       "  })({\"config\": {\"view\": {\"continuousWidth\": 400, \"continuousHeight\": 300}}, \"hconcat\": [{\"data\": {\"name\": \"data-c25b03cc29404db6a68c75862b40a2cd\"}, \"mark\": \"area\", \"encoding\": {\"color\": {\"field\": \"segment\", \"type\": \"nominal\"}, \"tooltip\": [{\"field\": \"timestamp\", \"type\": \"temporal\"}, {\"field\": \"reserves_usd\", \"type\": \"quantitative\"}, {\"field\": \"segment\", \"type\": \"nominal\"}], \"x\": {\"field\": \"timestamp\", \"type\": \"temporal\"}, \"y\": {\"field\": \"reserves_usd\", \"type\": \"quantitative\"}}, \"title\": \"FraxBP Metapools\"}, {\"data\": {\"name\": \"data-077bb1b8ff36150a5c8e7b623780a5da\"}, \"mark\": \"area\", \"encoding\": {\"color\": {\"field\": \"segment\", \"type\": \"nominal\"}, \"tooltip\": [{\"field\": \"timestamp\", \"type\": \"temporal\"}, {\"field\": \"reserves_usd\", \"type\": \"quantitative\"}, {\"field\": \"segment\", \"type\": \"nominal\"}], \"x\": {\"field\": \"timestamp\", \"type\": \"temporal\"}, \"y\": {\"field\": \"reserves_usd\", \"type\": \"quantitative\"}}, \"title\": \"3Pool Metapools\"}], \"$schema\": \"https://vega.github.io/schema/vega-lite/v4.17.0.json\", \"datasets\": {\"data-c25b03cc29404db6a68c75862b40a2cd\": [{\"timestamp\": \"2022-06-30T00:00:00\", \"reserves_usd\": 0.0, \"segment\": \"crvFRAX\"}, {\"timestamp\": \"2022-07-01T00:00:00\", \"reserves_usd\": 0.0, \"segment\": \"crvFRAX\"}, {\"timestamp\": \"2022-07-02T00:00:00\", \"reserves_usd\": 8169503.562444324, \"segment\": \"crvFRAX\"}, {\"timestamp\": \"2022-07-03T00:00:00\", \"reserves_usd\": 7921609.785487978, \"segment\": \"crvFRAX\"}, {\"timestamp\": \"2022-07-04T00:00:00\", \"reserves_usd\": 8179200.3371362975, \"segment\": \"crvFRAX\"}, {\"timestamp\": \"2022-07-05T00:00:00\", \"reserves_usd\": 8567751.33652323, \"segment\": \"crvFRAX\"}, {\"timestamp\": \"2022-07-06T00:00:00\", \"reserves_usd\": 8555728.859133597, \"segment\": \"crvFRAX\"}, {\"timestamp\": \"2022-07-07T00:00:00\", \"reserves_usd\": 8666547.091651907, \"segment\": \"crvFRAX\"}, {\"timestamp\": \"2022-07-08T00:00:00\", \"reserves_usd\": 8569638.315627117, \"segment\": \"crvFRAX\"}, {\"timestamp\": \"2022-07-09T00:00:00\", \"reserves_usd\": 8885442.099596458, \"segment\": \"crvFRAX\"}, {\"timestamp\": \"2022-07-10T00:00:00\", \"reserves_usd\": 8961450.954933729, \"segment\": \"crvFRAX\"}, {\"timestamp\": \"2022-07-11T00:00:00\", \"reserves_usd\": 8892555.087019335, \"segment\": \"crvFRAX\"}, {\"timestamp\": \"2022-07-12T00:00:00\", \"reserves_usd\": 8844839.678920684, \"segment\": \"crvFRAX\"}, {\"timestamp\": \"2022-07-13T00:00:00\", \"reserves_usd\": 8895134.0951887, \"segment\": \"crvFRAX\"}, {\"timestamp\": \"2022-07-14T00:00:00\", \"reserves_usd\": 9076868.521140248, \"segment\": \"crvFRAX\"}, {\"timestamp\": \"2022-07-15T00:00:00\", \"reserves_usd\": 8991530.299274165, \"segment\": \"crvFRAX\"}, {\"timestamp\": \"2022-07-16T00:00:00\", \"reserves_usd\": 8943998.185449272, \"segment\": \"crvFRAX\"}, {\"timestamp\": \"2022-07-17T00:00:00\", \"reserves_usd\": 9017313.938456729, \"segment\": \"crvFRAX\"}, {\"timestamp\": \"2022-07-18T00:00:00\", \"reserves_usd\": 9014843.639966935, \"segment\": \"crvFRAX\"}, {\"timestamp\": \"2022-07-19T00:00:00\", \"reserves_usd\": 8967772.353557996, \"segment\": \"crvFRAX\"}, {\"timestamp\": \"2022-07-20T00:00:00\", \"reserves_usd\": 8965275.877716087, \"segment\": \"crvFRAX\"}, {\"timestamp\": \"2022-07-21T00:00:00\", \"reserves_usd\": 8971954.001651632, \"segment\": \"crvFRAX\"}, {\"timestamp\": \"2022-07-22T00:00:00\", \"reserves_usd\": 8899973.962250292, \"segment\": \"crvFRAX\"}, {\"timestamp\": \"2022-07-23T00:00:00\", \"reserves_usd\": 8870319.233275661, \"segment\": \"crvFRAX\"}, {\"timestamp\": \"2022-07-24T00:00:00\", \"reserves_usd\": 8906024.630215174, \"segment\": \"crvFRAX\"}, {\"timestamp\": \"2022-07-25T00:00:00\", \"reserves_usd\": 8806956.385617778, \"segment\": \"crvFRAX\"}, {\"timestamp\": \"2022-07-26T00:00:00\", \"reserves_usd\": 8692603.405409561, \"segment\": \"crvFRAX\"}, {\"timestamp\": \"2022-07-27T00:00:00\", \"reserves_usd\": 8718106.521342922, \"segment\": \"crvFRAX\"}, {\"timestamp\": \"2022-07-28T00:00:00\", \"reserves_usd\": 8795803.177752346, \"segment\": \"crvFRAX\"}, {\"timestamp\": \"2022-07-29T00:00:00\", \"reserves_usd\": 12585594.356894761, \"segment\": \"crvFRAX\"}, {\"timestamp\": \"2022-07-30T00:00:00\", \"reserves_usd\": 15886527.662436113, \"segment\": \"crvFRAX\"}, {\"timestamp\": \"2022-07-31T00:00:00\", \"reserves_usd\": 15460896.838959724, \"segment\": \"crvFRAX\"}, {\"timestamp\": \"2022-08-01T00:00:00\", \"reserves_usd\": 17160249.424259398, \"segment\": \"crvFRAX\"}, {\"timestamp\": \"2022-08-02T00:00:00\", \"reserves_usd\": 18753444.452247985, \"segment\": \"crvFRAX\"}, {\"timestamp\": \"2022-08-03T00:00:00\", \"reserves_usd\": 19758884.76950303, \"segment\": \"crvFRAX\"}, {\"timestamp\": \"2022-08-04T00:00:00\", \"reserves_usd\": 20534767.585274298, \"segment\": \"crvFRAX\"}, {\"timestamp\": \"2022-08-05T00:00:00\", \"reserves_usd\": 21291976.00242664, \"segment\": \"crvFRAX\"}, {\"timestamp\": \"2022-08-06T00:00:00\", \"reserves_usd\": 23794637.798345618, \"segment\": \"crvFRAX\"}, {\"timestamp\": \"2022-08-07T00:00:00\", \"reserves_usd\": 24543769.07310206, \"segment\": \"crvFRAX\"}, {\"timestamp\": \"2022-08-08T00:00:00\", \"reserves_usd\": 23942993.51493675, \"segment\": \"crvFRAX\"}, {\"timestamp\": \"2022-08-09T00:00:00\", \"reserves_usd\": 24549583.809524626, \"segment\": \"crvFRAX\"}, {\"timestamp\": \"2022-08-10T00:00:00\", \"reserves_usd\": 28119738.542576946, \"segment\": \"crvFRAX\"}, {\"timestamp\": \"2022-08-11T00:00:00\", \"reserves_usd\": 29248999.505861133, \"segment\": \"crvFRAX\"}, {\"timestamp\": \"2022-08-12T00:00:00\", \"reserves_usd\": 31098663.646777805, \"segment\": \"crvFRAX\"}, {\"timestamp\": \"2022-08-13T00:00:00\", \"reserves_usd\": 32311582.925266974, \"segment\": \"crvFRAX\"}, {\"timestamp\": \"2022-08-14T00:00:00\", \"reserves_usd\": 31583758.248966895, \"segment\": \"crvFRAX\"}, {\"timestamp\": \"2022-08-15T00:00:00\", \"reserves_usd\": 31448200.08835275, \"segment\": \"crvFRAX\"}, {\"timestamp\": \"2022-08-16T00:00:00\", \"reserves_usd\": 31769926.75847234, \"segment\": \"crvFRAX\"}, {\"timestamp\": \"2022-08-17T00:00:00\", \"reserves_usd\": 33393306.42193775, \"segment\": \"crvFRAX\"}, {\"timestamp\": \"2022-08-18T00:00:00\", \"reserves_usd\": 50515577.82632239, \"segment\": \"crvFRAX\"}, {\"timestamp\": \"2022-08-19T00:00:00\", \"reserves_usd\": 50384023.31329102, \"segment\": \"crvFRAX\"}, {\"timestamp\": \"2022-08-20T00:00:00\", \"reserves_usd\": 49103247.81407383, \"segment\": \"crvFRAX\"}, {\"timestamp\": \"2022-08-21T00:00:00\", \"reserves_usd\": 48183650.310082644, \"segment\": \"crvFRAX\"}, {\"timestamp\": \"2022-08-22T00:00:00\", \"reserves_usd\": 50742586.654491335, \"segment\": \"crvFRAX\"}, {\"timestamp\": \"2022-08-23T00:00:00\", \"reserves_usd\": 49451076.65883599, \"segment\": \"crvFRAX\"}, {\"timestamp\": \"2022-08-24T00:00:00\", \"reserves_usd\": 49592300.56531403, \"segment\": \"crvFRAX\"}, {\"timestamp\": \"2022-08-25T00:00:00\", \"reserves_usd\": 49376624.167885505, \"segment\": \"crvFRAX\"}, {\"timestamp\": \"2022-08-26T00:00:00\", \"reserves_usd\": 51029329.895453334, \"segment\": \"crvFRAX\"}, {\"timestamp\": \"2022-08-27T00:00:00\", \"reserves_usd\": 52864165.53539538, \"segment\": \"crvFRAX\"}, {\"timestamp\": \"2022-08-28T00:00:00\", \"reserves_usd\": 52775312.420669116, \"segment\": \"crvFRAX\"}, {\"timestamp\": \"2022-08-29T00:00:00\", \"reserves_usd\": 50161241.42970666, \"segment\": \"crvFRAX\"}, {\"timestamp\": \"2022-08-30T00:00:00\", \"reserves_usd\": 49186458.43054578, \"segment\": \"crvFRAX\"}, {\"timestamp\": \"2022-08-31T00:00:00\", \"reserves_usd\": 49713469.1105896, \"segment\": \"crvFRAX\"}, {\"timestamp\": \"2022-09-01T00:00:00\", \"reserves_usd\": 49827971.910006374, \"segment\": \"crvFRAX\"}, {\"timestamp\": \"2022-09-02T00:00:00\", \"reserves_usd\": 51490829.64218303, \"segment\": \"crvFRAX\"}, {\"timestamp\": \"2022-09-03T00:00:00\", \"reserves_usd\": 52529048.01897725, \"segment\": \"crvFRAX\"}, {\"timestamp\": \"2022-09-04T00:00:00\", \"reserves_usd\": 53057542.16381239, \"segment\": \"crvFRAX\"}, {\"timestamp\": \"2022-09-05T00:00:00\", \"reserves_usd\": 53181556.751987845, \"segment\": \"crvFRAX\"}, {\"timestamp\": \"2022-09-06T00:00:00\", \"reserves_usd\": 52463487.8266507, \"segment\": \"crvFRAX\"}, {\"timestamp\": \"2022-09-07T00:00:00\", \"reserves_usd\": 52440366.11926872, \"segment\": \"crvFRAX\"}, {\"timestamp\": \"2022-09-08T00:00:00\", \"reserves_usd\": 50601701.160455994, \"segment\": \"crvFRAX\"}, {\"timestamp\": \"2022-09-09T00:00:00\", \"reserves_usd\": 57122483.77492539, \"segment\": \"crvFRAX\"}, {\"timestamp\": \"2022-09-10T00:00:00\", \"reserves_usd\": 58420077.3212657, \"segment\": \"crvFRAX\"}, {\"timestamp\": \"2022-09-11T00:00:00\", \"reserves_usd\": 59222057.66127549, \"segment\": \"crvFRAX\"}, {\"timestamp\": \"2022-09-12T00:00:00\", \"reserves_usd\": 60345399.11671852, \"segment\": \"crvFRAX\"}, {\"timestamp\": \"2022-09-13T00:00:00\", \"reserves_usd\": 60400948.25361455, \"segment\": \"crvFRAX\"}, {\"timestamp\": \"2022-09-14T00:00:00\", \"reserves_usd\": 61060903.805383846, \"segment\": \"crvFRAX\"}, {\"timestamp\": \"2022-09-15T00:00:00\", \"reserves_usd\": 58926276.56492998, \"segment\": \"crvFRAX\"}, {\"timestamp\": \"2022-09-16T00:00:00\", \"reserves_usd\": 61281168.20544682, \"segment\": \"crvFRAX\"}, {\"timestamp\": \"2022-09-17T00:00:00\", \"reserves_usd\": 61538201.67436792, \"segment\": \"crvFRAX\"}, {\"timestamp\": \"2022-09-18T00:00:00\", \"reserves_usd\": 64141919.45425944, \"segment\": \"crvFRAX\"}, {\"timestamp\": \"2022-09-19T00:00:00\", \"reserves_usd\": 64365393.955293834, \"segment\": \"crvFRAX\"}, {\"timestamp\": \"2022-09-20T00:00:00\", \"reserves_usd\": 62280148.29443927, \"segment\": \"crvFRAX\"}, {\"timestamp\": \"2022-09-21T00:00:00\", \"reserves_usd\": 61613459.61735435, \"segment\": \"crvFRAX\"}, {\"timestamp\": \"2022-09-22T00:00:00\", \"reserves_usd\": 61782687.87226564, \"segment\": \"crvFRAX\"}, {\"timestamp\": \"2022-09-23T00:00:00\", \"reserves_usd\": 64806344.267192364, \"segment\": \"crvFRAX\"}, {\"timestamp\": \"2022-09-24T00:00:00\", \"reserves_usd\": 65792816.959245205, \"segment\": \"crvFRAX\"}, {\"timestamp\": \"2022-09-25T00:00:00\", \"reserves_usd\": 66393405.86787629, \"segment\": \"crvFRAX\"}, {\"timestamp\": \"2022-09-26T00:00:00\", \"reserves_usd\": 68813694.6077195, \"segment\": \"crvFRAX\"}, {\"timestamp\": \"2022-09-27T00:00:00\", \"reserves_usd\": 70066110.21089146, \"segment\": \"crvFRAX\"}, {\"timestamp\": \"2022-09-28T00:00:00\", \"reserves_usd\": 70868866.07412353, \"segment\": \"crvFRAX\"}, {\"timestamp\": \"2022-09-29T00:00:00\", \"reserves_usd\": 67165104.63504826, \"segment\": \"crvFRAX\"}, {\"timestamp\": \"2022-09-30T00:00:00\", \"reserves_usd\": 69479106.14709601, \"segment\": \"crvFRAX\"}, {\"timestamp\": \"2022-10-01T00:00:00\", \"reserves_usd\": 73218700.36351034, \"segment\": \"crvFRAX\"}, {\"timestamp\": \"2022-10-02T00:00:00\", \"reserves_usd\": 73599798.18100895, \"segment\": \"crvFRAX\"}, {\"timestamp\": \"2022-10-03T00:00:00\", \"reserves_usd\": 73240530.52237122, \"segment\": \"crvFRAX\"}, {\"timestamp\": \"2022-10-04T00:00:00\", \"reserves_usd\": 73667457.33098932, \"segment\": \"crvFRAX\"}, {\"timestamp\": \"2022-10-05T00:00:00\", \"reserves_usd\": 75048354.46848948, \"segment\": \"crvFRAX\"}, {\"timestamp\": \"2022-10-06T00:00:00\", \"reserves_usd\": 76876067.33903909, \"segment\": \"crvFRAX\"}, {\"timestamp\": \"2022-10-07T00:00:00\", \"reserves_usd\": 74356271.16675118, \"segment\": \"crvFRAX\"}, {\"timestamp\": \"2022-10-08T00:00:00\", \"reserves_usd\": 79259816.58899511, \"segment\": \"crvFRAX\"}, {\"timestamp\": \"2022-10-09T00:00:00\", \"reserves_usd\": 80159482.77996327, \"segment\": \"crvFRAX\"}, {\"timestamp\": \"2022-10-10T00:00:00\", \"reserves_usd\": 78180989.2491408, \"segment\": \"crvFRAX\"}, {\"timestamp\": \"2022-10-11T00:00:00\", \"reserves_usd\": 80174058.02590504, \"segment\": \"crvFRAX\"}, {\"timestamp\": \"2022-10-12T00:00:00\", \"reserves_usd\": 79099746.41245005, \"segment\": \"crvFRAX\"}, {\"timestamp\": \"2022-10-13T00:00:00\", \"reserves_usd\": 83141492.36412095, \"segment\": \"crvFRAX\"}, {\"timestamp\": \"2022-10-14T00:00:00\", \"reserves_usd\": 86264272.71260034, \"segment\": \"crvFRAX\"}, {\"timestamp\": \"2022-10-15T00:00:00\", \"reserves_usd\": 79715469.45055367, \"segment\": \"crvFRAX\"}, {\"timestamp\": \"2022-10-16T00:00:00\", \"reserves_usd\": 79151534.98648652, \"segment\": \"crvFRAX\"}, {\"timestamp\": \"2022-10-17T00:00:00\", \"reserves_usd\": 80033757.6118728, \"segment\": \"crvFRAX\"}, {\"timestamp\": \"2022-10-18T00:00:00\", \"reserves_usd\": 80360973.33306453, \"segment\": \"crvFRAX\"}, {\"timestamp\": \"2022-10-19T00:00:00\", \"reserves_usd\": 81627162.14339429, \"segment\": \"crvFRAX\"}, {\"timestamp\": \"2022-10-20T00:00:00\", \"reserves_usd\": 83487766.72588894, \"segment\": \"crvFRAX\"}, {\"timestamp\": \"2022-10-21T00:00:00\", \"reserves_usd\": 82288879.64084114, \"segment\": \"crvFRAX\"}, {\"timestamp\": \"2022-10-22T00:00:00\", \"reserves_usd\": 88164737.79644667, \"segment\": \"crvFRAX\"}, {\"timestamp\": \"2022-10-23T00:00:00\", \"reserves_usd\": 91109132.9689619, \"segment\": \"crvFRAX\"}, {\"timestamp\": \"2022-10-24T00:00:00\", \"reserves_usd\": 90927187.20464824, \"segment\": \"crvFRAX\"}, {\"timestamp\": \"2022-10-25T00:00:00\", \"reserves_usd\": 91141045.01368573, \"segment\": \"crvFRAX\"}, {\"timestamp\": \"2022-10-26T00:00:00\", \"reserves_usd\": 91750178.10794576, \"segment\": \"crvFRAX\"}, {\"timestamp\": \"2022-10-27T00:00:00\", \"reserves_usd\": 91224592.13550681, \"segment\": \"crvFRAX\"}, {\"timestamp\": \"2022-10-28T00:00:00\", \"reserves_usd\": 93608653.99483769, \"segment\": \"crvFRAX\"}, {\"timestamp\": \"2022-10-29T00:00:00\", \"reserves_usd\": 105695734.11016639, \"segment\": \"crvFRAX\"}, {\"timestamp\": \"2022-10-30T00:00:00\", \"reserves_usd\": 106905365.40990043, \"segment\": \"crvFRAX\"}, {\"timestamp\": \"2022-10-31T00:00:00\", \"reserves_usd\": 107234033.58102268, \"segment\": \"crvFRAX\"}, {\"timestamp\": \"2022-11-01T00:00:00\", \"reserves_usd\": 109074430.53507797, \"segment\": \"crvFRAX\"}, {\"timestamp\": \"2022-11-02T00:00:00\", \"reserves_usd\": 113590335.73055552, \"segment\": \"crvFRAX\"}, {\"timestamp\": \"2022-11-03T00:00:00\", \"reserves_usd\": 114234531.8920292, \"segment\": \"crvFRAX\"}, {\"timestamp\": \"2022-11-04T00:00:00\", \"reserves_usd\": 116669865.46802196, \"segment\": \"crvFRAX\"}, {\"timestamp\": \"2022-11-05T00:00:00\", \"reserves_usd\": 119181341.33399451, \"segment\": \"crvFRAX\"}, {\"timestamp\": \"2022-11-06T00:00:00\", \"reserves_usd\": 114810284.10033163, \"segment\": \"crvFRAX\"}, {\"timestamp\": \"2022-11-07T00:00:00\", \"reserves_usd\": 110956476.4273684, \"segment\": \"crvFRAX\"}, {\"timestamp\": \"2022-11-08T00:00:00\", \"reserves_usd\": 111789508.00771196, \"segment\": \"crvFRAX\"}, {\"timestamp\": \"2022-11-09T00:00:00\", \"reserves_usd\": 104143215.23312019, \"segment\": \"crvFRAX\"}, {\"timestamp\": \"2022-11-10T00:00:00\", \"reserves_usd\": 89111971.31982301, \"segment\": \"crvFRAX\"}, {\"timestamp\": \"2022-11-11T00:00:00\", \"reserves_usd\": 82952414.94601844, \"segment\": \"crvFRAX\"}, {\"timestamp\": \"2022-11-12T00:00:00\", \"reserves_usd\": 82525744.13476531, \"segment\": \"crvFRAX\"}, {\"timestamp\": \"2022-11-13T00:00:00\", \"reserves_usd\": 83860566.04741237, \"segment\": \"crvFRAX\"}, {\"timestamp\": \"2022-11-14T00:00:00\", \"reserves_usd\": 75581146.45247595, \"segment\": \"crvFRAX\"}, {\"timestamp\": \"2022-11-15T00:00:00\", \"reserves_usd\": 72339927.7792804, \"segment\": \"crvFRAX\"}, {\"timestamp\": \"2022-11-16T00:00:00\", \"reserves_usd\": 72114060.18248934, \"segment\": \"crvFRAX\"}, {\"timestamp\": \"2022-11-17T00:00:00\", \"reserves_usd\": 70361172.06875971, \"segment\": \"crvFRAX\"}, {\"timestamp\": \"2022-11-18T00:00:00\", \"reserves_usd\": 65813209.84592739, \"segment\": \"crvFRAX\"}, {\"timestamp\": \"2022-11-19T00:00:00\", \"reserves_usd\": 65706011.53106061, \"segment\": \"crvFRAX\"}, {\"timestamp\": \"2022-11-20T00:00:00\", \"reserves_usd\": 66150490.93536655, \"segment\": \"crvFRAX\"}, {\"timestamp\": \"2022-11-21T00:00:00\", \"reserves_usd\": 65569349.08466535, \"segment\": \"crvFRAX\"}, {\"timestamp\": \"2022-11-22T00:00:00\", \"reserves_usd\": 62577653.30172376, \"segment\": \"crvFRAX\"}, {\"timestamp\": \"2022-11-23T00:00:00\", \"reserves_usd\": 53932731.13987376, \"segment\": \"crvFRAX\"}, {\"timestamp\": \"2022-11-24T00:00:00\", \"reserves_usd\": 56389535.65644228, \"segment\": \"crvFRAX\"}, {\"timestamp\": \"2022-11-25T00:00:00\", \"reserves_usd\": 58748784.7349704, \"segment\": \"crvFRAX\"}, {\"timestamp\": \"2022-11-26T00:00:00\", \"reserves_usd\": 58348825.33422875, \"segment\": \"crvFRAX\"}, {\"timestamp\": \"2022-11-27T00:00:00\", \"reserves_usd\": 58515392.59913282, \"segment\": \"crvFRAX\"}, {\"timestamp\": \"2022-11-28T00:00:00\", \"reserves_usd\": 58756205.56798623, \"segment\": \"crvFRAX\"}, {\"timestamp\": \"2022-11-29T00:00:00\", \"reserves_usd\": 58390625.29624032, \"segment\": \"crvFRAX\"}, {\"timestamp\": \"2022-11-30T00:00:00\", \"reserves_usd\": 58987371.508774795, \"segment\": \"crvFRAX\"}, {\"timestamp\": \"2022-12-01T00:00:00\", \"reserves_usd\": 58601098.123351984, \"segment\": \"crvFRAX\"}, {\"timestamp\": \"2022-12-02T00:00:00\", \"reserves_usd\": 63880334.416902326, \"segment\": \"crvFRAX\"}, {\"timestamp\": \"2022-12-03T00:00:00\", \"reserves_usd\": 65681562.27836067, \"segment\": \"crvFRAX\"}, {\"timestamp\": \"2022-12-04T00:00:00\", \"reserves_usd\": 66848690.62021494, \"segment\": \"crvFRAX\"}, {\"timestamp\": \"2022-12-05T00:00:00\", \"reserves_usd\": 66599076.28059409, \"segment\": \"crvFRAX\"}, {\"timestamp\": \"2022-12-06T00:00:00\", \"reserves_usd\": 63835283.40314325, \"segment\": \"crvFRAX\"}, {\"timestamp\": \"2022-12-07T00:00:00\", \"reserves_usd\": 62921466.483762346, \"segment\": \"crvFRAX\"}, {\"timestamp\": \"2022-12-08T00:00:00\", \"reserves_usd\": 61490160.72706611, \"segment\": \"crvFRAX\"}, {\"timestamp\": \"2022-12-09T00:00:00\", \"reserves_usd\": 61524607.864935964, \"segment\": \"crvFRAX\"}, {\"timestamp\": \"2022-12-10T00:00:00\", \"reserves_usd\": 61112213.45566546, \"segment\": \"crvFRAX\"}, {\"timestamp\": \"2022-12-11T00:00:00\", \"reserves_usd\": 61769141.564923316, \"segment\": \"crvFRAX\"}, {\"timestamp\": \"2022-12-12T00:00:00\", \"reserves_usd\": 60875410.75274462, \"segment\": \"crvFRAX\"}, {\"timestamp\": \"2022-12-13T00:00:00\", \"reserves_usd\": 59623071.19169136, \"segment\": \"crvFRAX\"}, {\"timestamp\": \"2022-12-14T00:00:00\", \"reserves_usd\": 58778161.333917804, \"segment\": \"crvFRAX\"}, {\"timestamp\": \"2022-12-15T00:00:00\", \"reserves_usd\": 59068487.05690647, \"segment\": \"crvFRAX\"}, {\"timestamp\": \"2022-12-16T00:00:00\", \"reserves_usd\": 59663488.73007247, \"segment\": \"crvFRAX\"}, {\"timestamp\": \"2022-12-17T00:00:00\", \"reserves_usd\": 58870260.05399047, \"segment\": \"crvFRAX\"}, {\"timestamp\": \"2022-12-18T00:00:00\", \"reserves_usd\": 58227067.52180031, \"segment\": \"crvFRAX\"}, {\"timestamp\": \"2022-12-19T00:00:00\", \"reserves_usd\": 58709244.15758326, \"segment\": \"crvFRAX\"}, {\"timestamp\": \"2022-12-20T00:00:00\", \"reserves_usd\": 55912064.14389621, \"segment\": \"crvFRAX\"}, {\"timestamp\": \"2022-12-21T00:00:00\", \"reserves_usd\": 55042623.68816449, \"segment\": \"crvFRAX\"}, {\"timestamp\": \"2022-12-22T00:00:00\", \"reserves_usd\": 55980105.77584466, \"segment\": \"crvFRAX\"}, {\"timestamp\": \"2022-12-23T00:00:00\", \"reserves_usd\": 54628988.80357528, \"segment\": \"crvFRAX\"}, {\"timestamp\": \"2022-12-24T00:00:00\", \"reserves_usd\": 54295693.20841144, \"segment\": \"crvFRAX\"}, {\"timestamp\": \"2022-12-25T00:00:00\", \"reserves_usd\": 54494296.5197336, \"segment\": \"crvFRAX\"}, {\"timestamp\": \"2022-12-26T00:00:00\", \"reserves_usd\": 54358180.39756139, \"segment\": \"crvFRAX\"}, {\"timestamp\": \"2022-12-27T00:00:00\", \"reserves_usd\": 53722738.636316836, \"segment\": \"crvFRAX\"}, {\"timestamp\": \"2022-12-28T00:00:00\", \"reserves_usd\": 53196930.43233368, \"segment\": \"crvFRAX\"}, {\"timestamp\": \"2022-12-29T00:00:00\", \"reserves_usd\": 54394471.72368355, \"segment\": \"crvFRAX\"}, {\"timestamp\": \"2022-12-30T00:00:00\", \"reserves_usd\": 54408963.34855896, \"segment\": \"crvFRAX\"}, {\"timestamp\": \"2022-12-31T00:00:00\", \"reserves_usd\": 54759941.06318226, \"segment\": \"crvFRAX\"}, {\"timestamp\": \"2023-01-01T00:00:00\", \"reserves_usd\": 55087867.34505183, \"segment\": \"crvFRAX\"}, {\"timestamp\": \"2023-01-02T00:00:00\", \"reserves_usd\": 54974215.99162428, \"segment\": \"crvFRAX\"}, {\"timestamp\": \"2023-01-03T00:00:00\", \"reserves_usd\": 55853607.03331952, \"segment\": \"crvFRAX\"}, {\"timestamp\": \"2023-01-04T00:00:00\", \"reserves_usd\": 57729170.148083635, \"segment\": \"crvFRAX\"}, {\"timestamp\": \"2023-01-05T00:00:00\", \"reserves_usd\": 59842987.87613199, \"segment\": \"crvFRAX\"}, {\"timestamp\": \"2023-01-06T00:00:00\", \"reserves_usd\": 62919883.39853831, \"segment\": \"crvFRAX\"}, {\"timestamp\": \"2023-01-07T00:00:00\", \"reserves_usd\": 64372898.42295842, \"segment\": \"crvFRAX\"}, {\"timestamp\": \"2023-01-08T00:00:00\", \"reserves_usd\": 60697131.71667291, \"segment\": \"crvFRAX\"}, {\"timestamp\": \"2023-01-09T00:00:00\", \"reserves_usd\": 61559974.37229167, \"segment\": \"crvFRAX\"}, {\"timestamp\": \"2023-01-10T00:00:00\", \"reserves_usd\": 62007666.54788089, \"segment\": \"crvFRAX\"}, {\"timestamp\": \"2023-01-11T00:00:00\", \"reserves_usd\": 64314858.32250283, \"segment\": \"crvFRAX\"}, {\"timestamp\": \"2023-01-12T00:00:00\", \"reserves_usd\": 63972550.67308691, \"segment\": \"crvFRAX\"}, {\"timestamp\": \"2023-01-13T00:00:00\", \"reserves_usd\": 64355688.26616843, \"segment\": \"crvFRAX\"}, {\"timestamp\": \"2022-06-30T00:00:00\", \"reserves_usd\": 0.0, \"segment\": \"paired asset\"}, {\"timestamp\": \"2022-07-01T00:00:00\", \"reserves_usd\": 0.0, \"segment\": \"paired asset\"}, {\"timestamp\": \"2022-07-02T00:00:00\", \"reserves_usd\": 4894944.918187581, \"segment\": \"paired asset\"}, {\"timestamp\": \"2022-07-03T00:00:00\", \"reserves_usd\": 5209902.801759227, \"segment\": \"paired asset\"}, {\"timestamp\": \"2022-07-04T00:00:00\", \"reserves_usd\": 4952209.801507773, \"segment\": \"paired asset\"}, {\"timestamp\": \"2022-07-05T00:00:00\", \"reserves_usd\": 4564123.489041099, \"segment\": \"paired asset\"}, {\"timestamp\": \"2022-07-06T00:00:00\", \"reserves_usd\": 4576151.817690726, \"segment\": \"paired asset\"}, {\"timestamp\": \"2022-07-07T00:00:00\", \"reserves_usd\": 4466700.666300654, \"segment\": \"paired asset\"}, {\"timestamp\": \"2022-07-08T00:00:00\", \"reserves_usd\": 4564932.373579938, \"segment\": \"paired asset\"}, {\"timestamp\": \"2022-07-09T00:00:00\", \"reserves_usd\": 4689684.54901615, \"segment\": \"paired asset\"}, {\"timestamp\": \"2022-07-10T00:00:00\", \"reserves_usd\": 4621768.618735668, \"segment\": \"paired asset\"}, {\"timestamp\": \"2022-07-11T00:00:00\", \"reserves_usd\": 4691831.70573394, \"segment\": \"paired asset\"}, {\"timestamp\": \"2022-07-12T00:00:00\", \"reserves_usd\": 4766217.223150616, \"segment\": \"paired asset\"}, {\"timestamp\": \"2022-07-13T00:00:00\", \"reserves_usd\": 4750562.328831399, \"segment\": \"paired asset\"}, {\"timestamp\": \"2022-07-14T00:00:00\", \"reserves_usd\": 4569090.527853513, \"segment\": \"paired asset\"}, {\"timestamp\": \"2022-07-15T00:00:00\", \"reserves_usd\": 4654316.253890205, \"segment\": \"paired asset\"}, {\"timestamp\": \"2022-07-16T00:00:00\", \"reserves_usd\": 4701907.218774946, \"segment\": \"paired asset\"}, {\"timestamp\": \"2022-07-17T00:00:00\", \"reserves_usd\": 4628696.439311011, \"segment\": \"paired asset\"}, {\"timestamp\": \"2022-07-18T00:00:00\", \"reserves_usd\": 4631203.765761695, \"segment\": \"paired asset\"}, {\"timestamp\": \"2022-07-19T00:00:00\", \"reserves_usd\": 4679693.518481655, \"segment\": \"paired asset\"}, {\"timestamp\": \"2022-07-20T00:00:00\", \"reserves_usd\": 4682793.283164337, \"segment\": \"paired asset\"}, {\"timestamp\": \"2022-07-21T00:00:00\", \"reserves_usd\": 4877254.713353335, \"segment\": \"paired asset\"}, {\"timestamp\": \"2022-07-22T00:00:00\", \"reserves_usd\": 4944587.262155063, \"segment\": \"paired asset\"}, {\"timestamp\": \"2022-07-23T00:00:00\", \"reserves_usd\": 4973788.519395042, \"segment\": \"paired asset\"}, {\"timestamp\": \"2022-07-24T00:00:00\", \"reserves_usd\": 5037519.964880792, \"segment\": \"paired asset\"}, {\"timestamp\": \"2022-07-25T00:00:00\", \"reserves_usd\": 5136766.61680462, \"segment\": \"paired asset\"}, {\"timestamp\": \"2022-07-26T00:00:00\", \"reserves_usd\": 5192669.552114174, \"segment\": \"paired asset\"}, {\"timestamp\": \"2022-07-27T00:00:00\", \"reserves_usd\": 5167248.759257192, \"segment\": \"paired asset\"}, {\"timestamp\": \"2022-07-28T00:00:00\", \"reserves_usd\": 5088364.710161798, \"segment\": \"paired asset\"}, {\"timestamp\": \"2022-07-29T00:00:00\", \"reserves_usd\": 10085835.499231922, \"segment\": \"paired asset\"}, {\"timestamp\": \"2022-07-30T00:00:00\", \"reserves_usd\": 13121929.873478876, \"segment\": \"paired asset\"}, {\"timestamp\": \"2022-07-31T00:00:00\", \"reserves_usd\": 12846880.825354893, \"segment\": \"paired asset\"}, {\"timestamp\": \"2022-08-01T00:00:00\", \"reserves_usd\": 13271983.36614839, \"segment\": \"paired asset\"}, {\"timestamp\": \"2022-08-02T00:00:00\", \"reserves_usd\": 14759791.948795093, \"segment\": \"paired asset\"}, {\"timestamp\": \"2022-08-03T00:00:00\", \"reserves_usd\": 15571185.43995809, \"segment\": \"paired asset\"}, {\"timestamp\": \"2022-08-04T00:00:00\", \"reserves_usd\": 15809846.003877332, \"segment\": \"paired asset\"}, {\"timestamp\": \"2022-08-05T00:00:00\", \"reserves_usd\": 15925449.438856393, \"segment\": \"paired asset\"}, {\"timestamp\": \"2022-08-06T00:00:00\", \"reserves_usd\": 16557488.357933482, \"segment\": \"paired asset\"}, {\"timestamp\": \"2022-08-07T00:00:00\", \"reserves_usd\": 17370015.52798819, \"segment\": \"paired asset\"}, {\"timestamp\": \"2022-08-08T00:00:00\", \"reserves_usd\": 17969599.90590238, \"segment\": \"paired asset\"}, {\"timestamp\": \"2022-08-09T00:00:00\", \"reserves_usd\": 18029309.05596361, \"segment\": \"paired asset\"}, {\"timestamp\": \"2022-08-10T00:00:00\", \"reserves_usd\": 20102073.338144872, \"segment\": \"paired asset\"}, {\"timestamp\": \"2022-08-11T00:00:00\", \"reserves_usd\": 22713896.125331048, \"segment\": \"paired asset\"}, {\"timestamp\": \"2022-08-12T00:00:00\", \"reserves_usd\": 24025861.87220335, \"segment\": \"paired asset\"}, {\"timestamp\": \"2022-08-13T00:00:00\", \"reserves_usd\": 24232809.40534202, \"segment\": \"paired asset\"}, {\"timestamp\": \"2022-08-14T00:00:00\", \"reserves_usd\": 22742630.516847447, \"segment\": \"paired asset\"}, {\"timestamp\": \"2022-08-15T00:00:00\", \"reserves_usd\": 23470289.057561018, \"segment\": \"paired asset\"}, {\"timestamp\": \"2022-08-16T00:00:00\", \"reserves_usd\": 23925512.10066391, \"segment\": \"paired asset\"}, {\"timestamp\": \"2022-08-17T00:00:00\", \"reserves_usd\": 25253288.84359221, \"segment\": \"paired asset\"}, {\"timestamp\": \"2022-08-18T00:00:00\", \"reserves_usd\": 39646860.74709744, \"segment\": \"paired asset\"}, {\"timestamp\": \"2022-08-19T00:00:00\", \"reserves_usd\": 39936558.872400805, \"segment\": \"paired asset\"}, {\"timestamp\": \"2022-08-20T00:00:00\", \"reserves_usd\": 38954302.87986342, \"segment\": \"paired asset\"}, {\"timestamp\": \"2022-08-21T00:00:00\", \"reserves_usd\": 38968795.51171121, \"segment\": \"paired asset\"}, {\"timestamp\": \"2022-08-22T00:00:00\", \"reserves_usd\": 39342527.532489054, \"segment\": \"paired asset\"}, {\"timestamp\": \"2022-08-23T00:00:00\", \"reserves_usd\": 39432872.93525797, \"segment\": \"paired asset\"}, {\"timestamp\": \"2022-08-24T00:00:00\", \"reserves_usd\": 39286705.39219937, \"segment\": \"paired asset\"}, {\"timestamp\": \"2022-08-25T00:00:00\", \"reserves_usd\": 39489355.91840266, \"segment\": \"paired asset\"}, {\"timestamp\": \"2022-08-26T00:00:00\", \"reserves_usd\": 38580067.699436426, \"segment\": \"paired asset\"}, {\"timestamp\": \"2022-08-27T00:00:00\", \"reserves_usd\": 39169628.3236331, \"segment\": \"paired asset\"}, {\"timestamp\": \"2022-08-28T00:00:00\", \"reserves_usd\": 40614472.99781668, \"segment\": \"paired asset\"}, {\"timestamp\": \"2022-08-29T00:00:00\", \"reserves_usd\": 38281176.64392939, \"segment\": \"paired asset\"}, {\"timestamp\": \"2022-08-30T00:00:00\", \"reserves_usd\": 39754311.462712295, \"segment\": \"paired asset\"}, {\"timestamp\": \"2022-08-31T00:00:00\", \"reserves_usd\": 41202586.20233259, \"segment\": \"paired asset\"}, {\"timestamp\": \"2022-09-01T00:00:00\", \"reserves_usd\": 41128477.7374506, \"segment\": \"paired asset\"}, {\"timestamp\": \"2022-09-02T00:00:00\", \"reserves_usd\": 40514958.900111385, \"segment\": \"paired asset\"}, {\"timestamp\": \"2022-09-03T00:00:00\", \"reserves_usd\": 42529448.0144073, \"segment\": \"paired asset\"}, {\"timestamp\": \"2022-09-04T00:00:00\", \"reserves_usd\": 43121800.08448449, \"segment\": \"paired asset\"}, {\"timestamp\": \"2022-09-05T00:00:00\", \"reserves_usd\": 43405841.89490472, \"segment\": \"paired asset\"}, {\"timestamp\": \"2022-09-06T00:00:00\", \"reserves_usd\": 43112661.27807698, \"segment\": \"paired asset\"}, {\"timestamp\": \"2022-09-07T00:00:00\", \"reserves_usd\": 43376796.077481814, \"segment\": \"paired asset\"}, {\"timestamp\": \"2022-09-08T00:00:00\", \"reserves_usd\": 41046243.159139514, \"segment\": \"paired asset\"}, {\"timestamp\": \"2022-09-09T00:00:00\", \"reserves_usd\": 44847221.25034831, \"segment\": \"paired asset\"}, {\"timestamp\": \"2022-09-10T00:00:00\", \"reserves_usd\": 45549419.61687455, \"segment\": \"paired asset\"}, {\"timestamp\": \"2022-09-11T00:00:00\", \"reserves_usd\": 45712920.746399365, \"segment\": \"paired asset\"}, {\"timestamp\": \"2022-09-12T00:00:00\", \"reserves_usd\": 46106968.125403576, \"segment\": \"paired asset\"}, {\"timestamp\": \"2022-09-13T00:00:00\", \"reserves_usd\": 46918765.58538546, \"segment\": \"paired asset\"}, {\"timestamp\": \"2022-09-14T00:00:00\", \"reserves_usd\": 47839739.331587516, \"segment\": \"paired asset\"}, {\"timestamp\": \"2022-09-15T00:00:00\", \"reserves_usd\": 47944805.11829141, \"segment\": \"paired asset\"}, {\"timestamp\": \"2022-09-16T00:00:00\", \"reserves_usd\": 48690738.45148061, \"segment\": \"paired asset\"}, {\"timestamp\": \"2022-09-17T00:00:00\", \"reserves_usd\": 49270620.167348236, \"segment\": \"paired asset\"}, {\"timestamp\": \"2022-09-18T00:00:00\", \"reserves_usd\": 49396843.592592165, \"segment\": \"paired asset\"}, {\"timestamp\": \"2022-09-19T00:00:00\", \"reserves_usd\": 49809204.083328605, \"segment\": \"paired asset\"}, {\"timestamp\": \"2022-09-20T00:00:00\", \"reserves_usd\": 49860286.14873358, \"segment\": \"paired asset\"}, {\"timestamp\": \"2022-09-21T00:00:00\", \"reserves_usd\": 49725850.85257154, \"segment\": \"paired asset\"}, {\"timestamp\": \"2022-09-22T00:00:00\", \"reserves_usd\": 48948362.73033782, \"segment\": \"paired asset\"}, {\"timestamp\": \"2022-09-23T00:00:00\", \"reserves_usd\": 51805927.09397316, \"segment\": \"paired asset\"}, {\"timestamp\": \"2022-09-24T00:00:00\", \"reserves_usd\": 53171588.05798142, \"segment\": \"paired asset\"}, {\"timestamp\": \"2022-09-25T00:00:00\", \"reserves_usd\": 53243400.41121208, \"segment\": \"paired asset\"}, {\"timestamp\": \"2022-09-26T00:00:00\", \"reserves_usd\": 53972614.24529451, \"segment\": \"paired asset\"}, {\"timestamp\": \"2022-09-27T00:00:00\", \"reserves_usd\": 57044425.626146466, \"segment\": \"paired asset\"}, {\"timestamp\": \"2022-09-28T00:00:00\", \"reserves_usd\": 59734271.05789597, \"segment\": \"paired asset\"}, {\"timestamp\": \"2022-09-29T00:00:00\", \"reserves_usd\": 60536650.090717256, \"segment\": \"paired asset\"}, {\"timestamp\": \"2022-09-30T00:00:00\", \"reserves_usd\": 62984557.93454421, \"segment\": \"paired asset\"}, {\"timestamp\": \"2022-10-01T00:00:00\", \"reserves_usd\": 65311079.23408888, \"segment\": \"paired asset\"}, {\"timestamp\": \"2022-10-02T00:00:00\", \"reserves_usd\": 67535706.52486138, \"segment\": \"paired asset\"}, {\"timestamp\": \"2022-10-03T00:00:00\", \"reserves_usd\": 67661661.73118532, \"segment\": \"paired asset\"}, {\"timestamp\": \"2022-10-04T00:00:00\", \"reserves_usd\": 67734563.95167702, \"segment\": \"paired asset\"}, {\"timestamp\": \"2022-10-05T00:00:00\", \"reserves_usd\": 68147658.64619915, \"segment\": \"paired asset\"}, {\"timestamp\": \"2022-10-06T00:00:00\", \"reserves_usd\": 68193661.30687393, \"segment\": \"paired asset\"}, {\"timestamp\": \"2022-10-07T00:00:00\", \"reserves_usd\": 68076404.70594321, \"segment\": \"paired asset\"}, {\"timestamp\": \"2022-10-08T00:00:00\", \"reserves_usd\": 70895602.68754943, \"segment\": \"paired asset\"}, {\"timestamp\": \"2022-10-09T00:00:00\", \"reserves_usd\": 72198914.58930552, \"segment\": \"paired asset\"}, {\"timestamp\": \"2022-10-10T00:00:00\", \"reserves_usd\": 72140861.9867236, \"segment\": \"paired asset\"}, {\"timestamp\": \"2022-10-11T00:00:00\", \"reserves_usd\": 72715496.01175769, \"segment\": \"paired asset\"}, {\"timestamp\": \"2022-10-12T00:00:00\", \"reserves_usd\": 72717024.56558903, \"segment\": \"paired asset\"}, {\"timestamp\": \"2022-10-13T00:00:00\", \"reserves_usd\": 73628507.60024445, \"segment\": \"paired asset\"}, {\"timestamp\": \"2022-10-14T00:00:00\", \"reserves_usd\": 75456842.71550502, \"segment\": \"paired asset\"}, {\"timestamp\": \"2022-10-15T00:00:00\", \"reserves_usd\": 73530402.97579184, \"segment\": \"paired asset\"}, {\"timestamp\": \"2022-10-16T00:00:00\", \"reserves_usd\": 73411522.93837057, \"segment\": \"paired asset\"}, {\"timestamp\": \"2022-10-17T00:00:00\", \"reserves_usd\": 74041171.60852666, \"segment\": \"paired asset\"}, {\"timestamp\": \"2022-10-18T00:00:00\", \"reserves_usd\": 73998327.45996466, \"segment\": \"paired asset\"}, {\"timestamp\": \"2022-10-19T00:00:00\", \"reserves_usd\": 76488493.23497255, \"segment\": \"paired asset\"}, {\"timestamp\": \"2022-10-20T00:00:00\", \"reserves_usd\": 77866756.3230992, \"segment\": \"paired asset\"}, {\"timestamp\": \"2022-10-21T00:00:00\", \"reserves_usd\": 79612555.87301882, \"segment\": \"paired asset\"}, {\"timestamp\": \"2022-10-22T00:00:00\", \"reserves_usd\": 79354004.954236, \"segment\": \"paired asset\"}, {\"timestamp\": \"2022-10-23T00:00:00\", \"reserves_usd\": 80932367.0966057, \"segment\": \"paired asset\"}, {\"timestamp\": \"2022-10-24T00:00:00\", \"reserves_usd\": 82377247.15156257, \"segment\": \"paired asset\"}, {\"timestamp\": \"2022-10-25T00:00:00\", \"reserves_usd\": 81584638.50009075, \"segment\": \"paired asset\"}, {\"timestamp\": \"2022-10-26T00:00:00\", \"reserves_usd\": 83357172.26788194, \"segment\": \"paired asset\"}, {\"timestamp\": \"2022-10-27T00:00:00\", \"reserves_usd\": 83281223.80645292, \"segment\": \"paired asset\"}, {\"timestamp\": \"2022-10-28T00:00:00\", \"reserves_usd\": 83127370.85577983, \"segment\": \"paired asset\"}, {\"timestamp\": \"2022-10-29T00:00:00\", \"reserves_usd\": 87473752.8433407, \"segment\": \"paired asset\"}, {\"timestamp\": \"2022-10-30T00:00:00\", \"reserves_usd\": 94135396.72130448, \"segment\": \"paired asset\"}, {\"timestamp\": \"2022-10-31T00:00:00\", \"reserves_usd\": 95878651.81248987, \"segment\": \"paired asset\"}, {\"timestamp\": \"2022-11-01T00:00:00\", \"reserves_usd\": 99016002.23395617, \"segment\": \"paired asset\"}, {\"timestamp\": \"2022-11-02T00:00:00\", \"reserves_usd\": 102600676.50504827, \"segment\": \"paired asset\"}, {\"timestamp\": \"2022-11-03T00:00:00\", \"reserves_usd\": 104271595.97327189, \"segment\": \"paired asset\"}, {\"timestamp\": \"2022-11-04T00:00:00\", \"reserves_usd\": 108002743.09078856, \"segment\": \"paired asset\"}, {\"timestamp\": \"2022-11-05T00:00:00\", \"reserves_usd\": 114966278.30569027, \"segment\": \"paired asset\"}, {\"timestamp\": \"2022-11-06T00:00:00\", \"reserves_usd\": 111555209.35655755, \"segment\": \"paired asset\"}, {\"timestamp\": \"2022-11-07T00:00:00\", \"reserves_usd\": 112168394.55140772, \"segment\": \"paired asset\"}, {\"timestamp\": \"2022-11-08T00:00:00\", \"reserves_usd\": 112764376.4856607, \"segment\": \"paired asset\"}, {\"timestamp\": \"2022-11-09T00:00:00\", \"reserves_usd\": 102373600.3870576, \"segment\": \"paired asset\"}, {\"timestamp\": \"2022-11-10T00:00:00\", \"reserves_usd\": 74768385.62267078, \"segment\": \"paired asset\"}, {\"timestamp\": \"2022-11-11T00:00:00\", \"reserves_usd\": 64088401.59459244, \"segment\": \"paired asset\"}, {\"timestamp\": \"2022-11-12T00:00:00\", \"reserves_usd\": 66855453.68936935, \"segment\": \"paired asset\"}, {\"timestamp\": \"2022-11-13T00:00:00\", \"reserves_usd\": 63430473.18408314, \"segment\": \"paired asset\"}, {\"timestamp\": \"2022-11-14T00:00:00\", \"reserves_usd\": 60781080.44506091, \"segment\": \"paired asset\"}, {\"timestamp\": \"2022-11-15T00:00:00\", \"reserves_usd\": 63614189.32376402, \"segment\": \"paired asset\"}, {\"timestamp\": \"2022-11-16T00:00:00\", \"reserves_usd\": 63593125.41528133, \"segment\": \"paired asset\"}, {\"timestamp\": \"2022-11-17T00:00:00\", \"reserves_usd\": 65509063.42774, \"segment\": \"paired asset\"}, {\"timestamp\": \"2022-11-18T00:00:00\", \"reserves_usd\": 58192949.80955021, \"segment\": \"paired asset\"}, {\"timestamp\": \"2022-11-19T00:00:00\", \"reserves_usd\": 57632166.29407957, \"segment\": \"paired asset\"}, {\"timestamp\": \"2022-11-20T00:00:00\", \"reserves_usd\": 58555050.15929993, \"segment\": \"paired asset\"}, {\"timestamp\": \"2022-11-21T00:00:00\", \"reserves_usd\": 58280540.96061199, \"segment\": \"paired asset\"}, {\"timestamp\": \"2022-11-22T00:00:00\", \"reserves_usd\": 55252287.62059808, \"segment\": \"paired asset\"}, {\"timestamp\": \"2022-11-23T00:00:00\", \"reserves_usd\": 48641103.17942247, \"segment\": \"paired asset\"}, {\"timestamp\": \"2022-11-24T00:00:00\", \"reserves_usd\": 48653548.890129566, \"segment\": \"paired asset\"}, {\"timestamp\": \"2022-11-25T00:00:00\", \"reserves_usd\": 50875407.654403634, \"segment\": \"paired asset\"}, {\"timestamp\": \"2022-11-26T00:00:00\", \"reserves_usd\": 50732576.172066525, \"segment\": \"paired asset\"}, {\"timestamp\": \"2022-11-27T00:00:00\", \"reserves_usd\": 50707872.65238731, \"segment\": \"paired asset\"}, {\"timestamp\": \"2022-11-28T00:00:00\", \"reserves_usd\": 51451444.81013063, \"segment\": \"paired asset\"}, {\"timestamp\": \"2022-11-29T00:00:00\", \"reserves_usd\": 50995722.427044675, \"segment\": \"paired asset\"}, {\"timestamp\": \"2022-11-30T00:00:00\", \"reserves_usd\": 51168012.70454924, \"segment\": \"paired asset\"}, {\"timestamp\": \"2022-12-01T00:00:00\", \"reserves_usd\": 50697699.07370521, \"segment\": \"paired asset\"}, {\"timestamp\": \"2022-12-02T00:00:00\", \"reserves_usd\": 52454538.54004116, \"segment\": \"paired asset\"}, {\"timestamp\": \"2022-12-03T00:00:00\", \"reserves_usd\": 52922807.92386417, \"segment\": \"paired asset\"}, {\"timestamp\": \"2022-12-04T00:00:00\", \"reserves_usd\": 56354222.487182625, \"segment\": \"paired asset\"}, {\"timestamp\": \"2022-12-05T00:00:00\", \"reserves_usd\": 57957048.60447967, \"segment\": \"paired asset\"}, {\"timestamp\": \"2022-12-06T00:00:00\", \"reserves_usd\": 57245177.0562903, \"segment\": \"paired asset\"}, {\"timestamp\": \"2022-12-07T00:00:00\", \"reserves_usd\": 57158036.03284176, \"segment\": \"paired asset\"}, {\"timestamp\": \"2022-12-08T00:00:00\", \"reserves_usd\": 58266332.84375948, \"segment\": \"paired asset\"}, {\"timestamp\": \"2022-12-09T00:00:00\", \"reserves_usd\": 57441217.058656015, \"segment\": \"paired asset\"}, {\"timestamp\": \"2022-12-10T00:00:00\", \"reserves_usd\": 57477478.99714854, \"segment\": \"paired asset\"}, {\"timestamp\": \"2022-12-11T00:00:00\", \"reserves_usd\": 57281904.00754798, \"segment\": \"paired asset\"}, {\"timestamp\": \"2022-12-12T00:00:00\", \"reserves_usd\": 55034638.98387465, \"segment\": \"paired asset\"}, {\"timestamp\": \"2022-12-13T00:00:00\", \"reserves_usd\": 56961630.7410743, \"segment\": \"paired asset\"}, {\"timestamp\": \"2022-12-14T00:00:00\", \"reserves_usd\": 64311200.34531858, \"segment\": \"paired asset\"}, {\"timestamp\": \"2022-12-15T00:00:00\", \"reserves_usd\": 63409036.44109541, \"segment\": \"paired asset\"}, {\"timestamp\": \"2022-12-16T00:00:00\", \"reserves_usd\": 65240054.57204011, \"segment\": \"paired asset\"}, {\"timestamp\": \"2022-12-17T00:00:00\", \"reserves_usd\": 63175281.19938612, \"segment\": \"paired asset\"}, {\"timestamp\": \"2022-12-18T00:00:00\", \"reserves_usd\": 62988814.80046689, \"segment\": \"paired asset\"}, {\"timestamp\": \"2022-12-19T00:00:00\", \"reserves_usd\": 61723226.848848894, \"segment\": \"paired asset\"}, {\"timestamp\": \"2022-12-20T00:00:00\", \"reserves_usd\": 60957102.60075038, \"segment\": \"paired asset\"}, {\"timestamp\": \"2022-12-21T00:00:00\", \"reserves_usd\": 61916269.71498079, \"segment\": \"paired asset\"}, {\"timestamp\": \"2022-12-22T00:00:00\", \"reserves_usd\": 61909807.81578058, \"segment\": \"paired asset\"}, {\"timestamp\": \"2022-12-23T00:00:00\", \"reserves_usd\": 60191770.122231066, \"segment\": \"paired asset\"}, {\"timestamp\": \"2022-12-24T00:00:00\", \"reserves_usd\": 60202124.05317713, \"segment\": \"paired asset\"}, {\"timestamp\": \"2022-12-25T00:00:00\", \"reserves_usd\": 59972454.07981072, \"segment\": \"paired asset\"}, {\"timestamp\": \"2022-12-26T00:00:00\", \"reserves_usd\": 59595768.015971005, \"segment\": \"paired asset\"}, {\"timestamp\": \"2022-12-27T00:00:00\", \"reserves_usd\": 59335657.632633924, \"segment\": \"paired asset\"}, {\"timestamp\": \"2022-12-28T00:00:00\", \"reserves_usd\": 59152572.450966656, \"segment\": \"paired asset\"}, {\"timestamp\": \"2022-12-29T00:00:00\", \"reserves_usd\": 57786746.985888734, \"segment\": \"paired asset\"}, {\"timestamp\": \"2022-12-30T00:00:00\", \"reserves_usd\": 58090636.37826219, \"segment\": \"paired asset\"}, {\"timestamp\": \"2022-12-31T00:00:00\", \"reserves_usd\": 57676812.63720451, \"segment\": \"paired asset\"}, {\"timestamp\": \"2023-01-01T00:00:00\", \"reserves_usd\": 57644056.32502096, \"segment\": \"paired asset\"}, {\"timestamp\": \"2023-01-02T00:00:00\", \"reserves_usd\": 57890811.39398564, \"segment\": \"paired asset\"}, {\"timestamp\": \"2023-01-03T00:00:00\", \"reserves_usd\": 57987997.415416345, \"segment\": \"paired asset\"}, {\"timestamp\": \"2023-01-04T00:00:00\", \"reserves_usd\": 59455188.140221715, \"segment\": \"paired asset\"}, {\"timestamp\": \"2023-01-05T00:00:00\", \"reserves_usd\": 61259947.41472567, \"segment\": \"paired asset\"}, {\"timestamp\": \"2023-01-06T00:00:00\", \"reserves_usd\": 60085849.93698784, \"segment\": \"paired asset\"}, {\"timestamp\": \"2023-01-07T00:00:00\", \"reserves_usd\": 59685511.04585165, \"segment\": \"paired asset\"}, {\"timestamp\": \"2023-01-08T00:00:00\", \"reserves_usd\": 59635355.99280885, \"segment\": \"paired asset\"}, {\"timestamp\": \"2023-01-09T00:00:00\", \"reserves_usd\": 60486714.59541261, \"segment\": \"paired asset\"}, {\"timestamp\": \"2023-01-10T00:00:00\", \"reserves_usd\": 57279901.190559715, \"segment\": \"paired asset\"}, {\"timestamp\": \"2023-01-11T00:00:00\", \"reserves_usd\": 58032926.36656188, \"segment\": \"paired asset\"}, {\"timestamp\": \"2023-01-12T00:00:00\", \"reserves_usd\": 59797445.29270303, \"segment\": \"paired asset\"}, {\"timestamp\": \"2023-01-13T00:00:00\", \"reserves_usd\": 60588100.35280922, \"segment\": \"paired asset\"}], \"data-077bb1b8ff36150a5c8e7b623780a5da\": [{\"timestamp\": \"2020-10-30T00:00:00\", \"reserves_usd\": 19955870.048907787, \"segment\": \"3Crv\"}, {\"timestamp\": \"2020-10-31T00:00:00\", \"reserves_usd\": 16931263.79915133, \"segment\": \"3Crv\"}, {\"timestamp\": \"2020-11-01T00:00:00\", \"reserves_usd\": 16941514.284011047, \"segment\": \"3Crv\"}, {\"timestamp\": \"2020-11-02T00:00:00\", \"reserves_usd\": 17422343.709546, \"segment\": \"3Crv\"}, {\"timestamp\": \"2020-11-03T00:00:00\", \"reserves_usd\": 19047492.07755068, \"segment\": \"3Crv\"}, {\"timestamp\": \"2020-11-04T00:00:00\", \"reserves_usd\": 18688212.467465598, \"segment\": \"3Crv\"}, {\"timestamp\": \"2020-11-05T00:00:00\", \"reserves_usd\": 18593912.613258317, \"segment\": \"3Crv\"}, {\"timestamp\": \"2020-11-06T00:00:00\", \"reserves_usd\": 19204750.663713384, \"segment\": \"3Crv\"}, {\"timestamp\": \"2020-11-07T00:00:00\", \"reserves_usd\": 20490486.635449648, \"segment\": \"3Crv\"}, {\"timestamp\": \"2020-11-08T00:00:00\", \"reserves_usd\": 33412372.910764344, \"segment\": \"3Crv\"}, {\"timestamp\": \"2020-11-09T00:00:00\", \"reserves_usd\": 33947053.648725644, \"segment\": \"3Crv\"}, {\"timestamp\": \"2020-11-10T00:00:00\", \"reserves_usd\": 34473634.87302124, \"segment\": \"3Crv\"}, {\"timestamp\": \"2020-11-11T00:00:00\", \"reserves_usd\": 33667798.15829368, \"segment\": \"3Crv\"}, {\"timestamp\": \"2020-11-12T00:00:00\", \"reserves_usd\": 34623577.88674337, \"segment\": \"3Crv\"}, {\"timestamp\": \"2020-11-13T00:00:00\", \"reserves_usd\": 35840796.04238891, \"segment\": \"3Crv\"}, {\"timestamp\": \"2020-11-14T00:00:00\", \"reserves_usd\": 35995021.10842761, \"segment\": \"3Crv\"}, {\"timestamp\": \"2020-11-15T00:00:00\", \"reserves_usd\": 48443837.15989992, \"segment\": \"3Crv\"}, {\"timestamp\": \"2020-11-16T00:00:00\", \"reserves_usd\": 50186348.80972313, \"segment\": \"3Crv\"}, {\"timestamp\": \"2020-11-17T00:00:00\", \"reserves_usd\": 52359264.69068691, \"segment\": \"3Crv\"}, {\"timestamp\": \"2020-11-18T00:00:00\", \"reserves_usd\": 53567193.07125742, \"segment\": \"3Crv\"}, {\"timestamp\": \"2020-11-19T00:00:00\", \"reserves_usd\": 56292779.032884836, \"segment\": \"3Crv\"}, {\"timestamp\": \"2020-11-20T00:00:00\", \"reserves_usd\": 69853740.1714181, \"segment\": \"3Crv\"}, {\"timestamp\": \"2020-11-21T00:00:00\", \"reserves_usd\": 83825074.06310207, \"segment\": \"3Crv\"}, {\"timestamp\": \"2020-11-22T00:00:00\", \"reserves_usd\": 87788089.18207426, \"segment\": \"3Crv\"}, {\"timestamp\": \"2020-11-23T00:00:00\", \"reserves_usd\": 81588073.13294652, \"segment\": \"3Crv\"}, {\"timestamp\": \"2020-11-24T00:00:00\", \"reserves_usd\": 74413101.71962792, \"segment\": \"3Crv\"}, {\"timestamp\": \"2020-11-25T00:00:00\", \"reserves_usd\": 69317086.52000862, \"segment\": \"3Crv\"}, {\"timestamp\": \"2020-11-26T00:00:00\", \"reserves_usd\": 69772217.19568613, \"segment\": \"3Crv\"}, {\"timestamp\": \"2020-11-27T00:00:00\", \"reserves_usd\": 68493655.65340811, \"segment\": \"3Crv\"}, {\"timestamp\": \"2020-11-28T00:00:00\", \"reserves_usd\": 62073343.38611881, \"segment\": \"3Crv\"}, {\"timestamp\": \"2020-11-29T00:00:00\", \"reserves_usd\": 77505482.45823395, \"segment\": \"3Crv\"}, {\"timestamp\": \"2020-11-30T00:00:00\", \"reserves_usd\": 76768102.01256302, \"segment\": \"3Crv\"}, {\"timestamp\": \"2020-12-01T00:00:00\", \"reserves_usd\": 72021764.32158276, \"segment\": \"3Crv\"}, {\"timestamp\": \"2020-12-02T00:00:00\", \"reserves_usd\": 68630370.53597204, \"segment\": \"3Crv\"}, {\"timestamp\": \"2020-12-03T00:00:00\", \"reserves_usd\": 66697425.356472716, \"segment\": \"3Crv\"}, {\"timestamp\": \"2020-12-04T00:00:00\", \"reserves_usd\": 75985889.47216427, \"segment\": \"3Crv\"}, {\"timestamp\": \"2020-12-05T00:00:00\", \"reserves_usd\": 79221039.44268572, \"segment\": \"3Crv\"}, {\"timestamp\": \"2020-12-06T00:00:00\", \"reserves_usd\": 81001866.97906858, \"segment\": \"3Crv\"}, {\"timestamp\": \"2020-12-07T00:00:00\", \"reserves_usd\": 74829189.21788646, \"segment\": \"3Crv\"}, {\"timestamp\": \"2020-12-08T00:00:00\", \"reserves_usd\": 74631222.53612801, \"segment\": \"3Crv\"}, {\"timestamp\": \"2020-12-09T00:00:00\", \"reserves_usd\": 70789584.77800994, \"segment\": \"3Crv\"}, {\"timestamp\": \"2020-12-10T00:00:00\", \"reserves_usd\": 65822563.28955609, \"segment\": \"3Crv\"}, {\"timestamp\": \"2020-12-11T00:00:00\", \"reserves_usd\": 66075518.3179101, \"segment\": \"3Crv\"}, {\"timestamp\": \"2020-12-12T00:00:00\", \"reserves_usd\": 63733164.35784834, \"segment\": \"3Crv\"}, {\"timestamp\": \"2020-12-13T00:00:00\", \"reserves_usd\": 65891910.20207642, \"segment\": \"3Crv\"}, {\"timestamp\": \"2020-12-14T00:00:00\", \"reserves_usd\": 63426392.10470823, \"segment\": \"3Crv\"}, {\"timestamp\": \"2020-12-15T00:00:00\", \"reserves_usd\": 65219758.7484012, \"segment\": \"3Crv\"}, {\"timestamp\": \"2020-12-16T00:00:00\", \"reserves_usd\": 65501815.038327456, \"segment\": \"3Crv\"}, {\"timestamp\": \"2020-12-17T00:00:00\", \"reserves_usd\": 63031579.53640202, \"segment\": \"3Crv\"}, {\"timestamp\": \"2020-12-18T00:00:00\", \"reserves_usd\": 59183045.40599259, \"segment\": \"3Crv\"}, {\"timestamp\": \"2020-12-19T00:00:00\", \"reserves_usd\": 40677216.822194114, \"segment\": \"3Crv\"}, {\"timestamp\": \"2020-12-20T00:00:00\", \"reserves_usd\": 42423394.6350729, \"segment\": \"3Crv\"}, {\"timestamp\": \"2020-12-21T00:00:00\", \"reserves_usd\": 48042047.70543677, \"segment\": \"3Crv\"}, {\"timestamp\": \"2020-12-22T00:00:00\", \"reserves_usd\": 45638812.38722173, \"segment\": \"3Crv\"}, {\"timestamp\": \"2020-12-23T00:00:00\", \"reserves_usd\": 45894589.490088925, \"segment\": \"3Crv\"}, {\"timestamp\": \"2020-12-24T00:00:00\", \"reserves_usd\": 47713596.890090674, \"segment\": \"3Crv\"}, {\"timestamp\": \"2020-12-25T00:00:00\", \"reserves_usd\": 54994606.69747753, \"segment\": \"3Crv\"}, {\"timestamp\": \"2020-12-26T00:00:00\", \"reserves_usd\": 59361330.88918689, \"segment\": \"3Crv\"}, {\"timestamp\": \"2020-12-27T00:00:00\", \"reserves_usd\": 68531438.61052252, \"segment\": \"3Crv\"}, {\"timestamp\": \"2020-12-28T00:00:00\", \"reserves_usd\": 65600858.95417509, \"segment\": \"3Crv\"}, {\"timestamp\": \"2020-12-29T00:00:00\", \"reserves_usd\": 66362984.68688094, \"segment\": \"3Crv\"}, {\"timestamp\": \"2020-12-30T00:00:00\", \"reserves_usd\": 64466192.48965009, \"segment\": \"3Crv\"}, {\"timestamp\": \"2020-12-31T00:00:00\", \"reserves_usd\": 31702546.924174324, \"segment\": \"3Crv\"}, {\"timestamp\": \"2021-01-01T00:00:00\", \"reserves_usd\": 39244454.87715085, \"segment\": \"3Crv\"}, {\"timestamp\": \"2021-01-02T00:00:00\", \"reserves_usd\": 41316834.0208558, \"segment\": \"3Crv\"}, {\"timestamp\": \"2021-01-03T00:00:00\", \"reserves_usd\": 42147602.42192654, \"segment\": \"3Crv\"}, {\"timestamp\": \"2021-01-04T00:00:00\", \"reserves_usd\": 45978491.38380857, \"segment\": \"3Crv\"}, {\"timestamp\": \"2021-01-05T00:00:00\", \"reserves_usd\": 49853349.634649284, \"segment\": \"3Crv\"}, {\"timestamp\": \"2021-01-06T00:00:00\", \"reserves_usd\": 53681580.68320265, \"segment\": \"3Crv\"}, {\"timestamp\": \"2021-01-07T00:00:00\", \"reserves_usd\": 56422911.22361217, \"segment\": \"3Crv\"}, {\"timestamp\": \"2021-01-08T00:00:00\", \"reserves_usd\": 59250887.51809665, \"segment\": \"3Crv\"}, {\"timestamp\": \"2021-01-09T00:00:00\", \"reserves_usd\": 59817066.77929687, \"segment\": \"3Crv\"}, {\"timestamp\": \"2021-01-10T00:00:00\", \"reserves_usd\": 60875592.489599295, \"segment\": \"3Crv\"}, {\"timestamp\": \"2021-01-11T00:00:00\", \"reserves_usd\": 63008090.39757662, \"segment\": \"3Crv\"}, {\"timestamp\": \"2021-01-12T00:00:00\", \"reserves_usd\": 59967055.316143475, \"segment\": \"3Crv\"}, {\"timestamp\": \"2021-01-13T00:00:00\", \"reserves_usd\": 59932817.10806815, \"segment\": \"3Crv\"}, {\"timestamp\": \"2021-01-14T00:00:00\", \"reserves_usd\": 57155964.83436366, \"segment\": \"3Crv\"}, {\"timestamp\": \"2021-01-15T00:00:00\", \"reserves_usd\": 59517474.993546896, \"segment\": \"3Crv\"}, {\"timestamp\": \"2021-01-16T00:00:00\", \"reserves_usd\": 74315625.53794095, \"segment\": \"3Crv\"}, {\"timestamp\": \"2021-01-17T00:00:00\", \"reserves_usd\": 88065397.26963332, \"segment\": \"3Crv\"}, {\"timestamp\": \"2021-01-18T00:00:00\", \"reserves_usd\": 100085588.91719325, \"segment\": \"3Crv\"}, {\"timestamp\": \"2021-01-19T00:00:00\", \"reserves_usd\": 107544113.35614748, \"segment\": \"3Crv\"}, {\"timestamp\": \"2021-01-20T00:00:00\", \"reserves_usd\": 97682907.18058726, \"segment\": \"3Crv\"}, {\"timestamp\": \"2021-01-21T00:00:00\", \"reserves_usd\": 103419522.75357993, \"segment\": \"3Crv\"}, {\"timestamp\": \"2021-01-22T00:00:00\", \"reserves_usd\": 129538693.93040517, \"segment\": \"3Crv\"}, {\"timestamp\": \"2021-01-23T00:00:00\", \"reserves_usd\": 148961267.8833743, \"segment\": \"3Crv\"}, {\"timestamp\": \"2021-01-24T00:00:00\", \"reserves_usd\": 162241666.06510222, \"segment\": \"3Crv\"}, {\"timestamp\": \"2021-01-25T00:00:00\", \"reserves_usd\": 162605730.14301166, \"segment\": \"3Crv\"}, {\"timestamp\": \"2021-01-26T00:00:00\", \"reserves_usd\": 167948045.2678066, \"segment\": \"3Crv\"}, {\"timestamp\": \"2021-01-27T00:00:00\", \"reserves_usd\": 169255884.61162102, \"segment\": \"3Crv\"}, {\"timestamp\": \"2021-01-28T00:00:00\", \"reserves_usd\": 169720872.67398617, \"segment\": \"3Crv\"}, {\"timestamp\": \"2021-01-29T00:00:00\", \"reserves_usd\": 178209092.6344172, \"segment\": \"3Crv\"}, {\"timestamp\": \"2021-01-30T00:00:00\", \"reserves_usd\": 184275387.33905137, \"segment\": \"3Crv\"}, {\"timestamp\": \"2021-01-31T00:00:00\", \"reserves_usd\": 184794162.95162806, \"segment\": \"3Crv\"}, {\"timestamp\": \"2021-02-01T00:00:00\", \"reserves_usd\": 189178750.59921852, \"segment\": \"3Crv\"}, {\"timestamp\": \"2021-02-02T00:00:00\", \"reserves_usd\": 199416493.17214292, \"segment\": \"3Crv\"}, {\"timestamp\": \"2021-02-03T00:00:00\", \"reserves_usd\": 199320813.69621104, \"segment\": \"3Crv\"}, {\"timestamp\": \"2021-02-04T00:00:00\", \"reserves_usd\": 203211703.80762357, \"segment\": \"3Crv\"}, {\"timestamp\": \"2021-02-05T00:00:00\", \"reserves_usd\": 197897726.81950137, \"segment\": \"3Crv\"}, {\"timestamp\": \"2021-02-06T00:00:00\", \"reserves_usd\": 227847639.35600773, \"segment\": \"3Crv\"}, {\"timestamp\": \"2021-02-07T00:00:00\", \"reserves_usd\": 242908863.2577905, \"segment\": \"3Crv\"}, {\"timestamp\": \"2021-02-08T00:00:00\", \"reserves_usd\": 252052578.0895751, \"segment\": \"3Crv\"}, {\"timestamp\": \"2021-02-09T00:00:00\", \"reserves_usd\": 237263632.5057755, \"segment\": \"3Crv\"}, {\"timestamp\": \"2021-02-10T00:00:00\", \"reserves_usd\": 228647628.63730767, \"segment\": \"3Crv\"}, {\"timestamp\": \"2021-02-11T00:00:00\", \"reserves_usd\": 224488816.40462732, \"segment\": \"3Crv\"}, {\"timestamp\": \"2021-02-12T00:00:00\", \"reserves_usd\": 237578921.47255054, \"segment\": \"3Crv\"}, {\"timestamp\": \"2021-02-13T00:00:00\", \"reserves_usd\": 249342916.05712694, \"segment\": \"3Crv\"}, {\"timestamp\": \"2021-02-14T00:00:00\", \"reserves_usd\": 266432722.3359695, \"segment\": \"3Crv\"}, {\"timestamp\": \"2021-02-15T00:00:00\", \"reserves_usd\": 259234690.65611446, \"segment\": \"3Crv\"}, {\"timestamp\": \"2021-02-16T00:00:00\", \"reserves_usd\": 269112415.6812383, \"segment\": \"3Crv\"}, {\"timestamp\": \"2021-02-17T00:00:00\", \"reserves_usd\": 273412171.5654844, \"segment\": \"3Crv\"}, {\"timestamp\": \"2021-02-18T00:00:00\", \"reserves_usd\": 276127140.0108716, \"segment\": \"3Crv\"}, {\"timestamp\": \"2021-02-19T00:00:00\", \"reserves_usd\": 274670850.0296961, \"segment\": \"3Crv\"}, {\"timestamp\": \"2021-02-20T00:00:00\", \"reserves_usd\": 269352970.49100506, \"segment\": \"3Crv\"}, {\"timestamp\": \"2021-02-21T00:00:00\", \"reserves_usd\": 275708979.0215622, \"segment\": \"3Crv\"}, {\"timestamp\": \"2021-02-22T00:00:00\", \"reserves_usd\": 279064642.4399858, \"segment\": \"3Crv\"}, {\"timestamp\": \"2021-02-23T00:00:00\", \"reserves_usd\": 274415433.7540342, \"segment\": \"3Crv\"}, {\"timestamp\": \"2021-02-24T00:00:00\", \"reserves_usd\": 250331922.3778618, \"segment\": \"3Crv\"}, {\"timestamp\": \"2021-02-25T00:00:00\", \"reserves_usd\": 259490240.82857907, \"segment\": \"3Crv\"}, {\"timestamp\": \"2021-02-26T00:00:00\", \"reserves_usd\": 264163086.92933735, \"segment\": \"3Crv\"}, {\"timestamp\": \"2021-02-27T00:00:00\", \"reserves_usd\": 250194379.92453325, \"segment\": \"3Crv\"}, {\"timestamp\": \"2021-02-28T00:00:00\", \"reserves_usd\": 248832033.90443003, \"segment\": \"3Crv\"}, {\"timestamp\": \"2021-03-01T00:00:00\", \"reserves_usd\": 240536785.1436386, \"segment\": \"3Crv\"}, {\"timestamp\": \"2021-03-02T00:00:00\", \"reserves_usd\": 250123985.05093586, \"segment\": \"3Crv\"}, {\"timestamp\": \"2021-03-03T00:00:00\", \"reserves_usd\": 265076716.62221467, \"segment\": \"3Crv\"}, {\"timestamp\": \"2021-03-04T00:00:00\", \"reserves_usd\": 277407424.64834124, \"segment\": \"3Crv\"}, {\"timestamp\": \"2021-03-05T00:00:00\", \"reserves_usd\": 298029220.1497691, \"segment\": \"3Crv\"}, {\"timestamp\": \"2021-03-06T00:00:00\", \"reserves_usd\": 313347909.99743515, \"segment\": \"3Crv\"}, {\"timestamp\": \"2021-03-07T00:00:00\", \"reserves_usd\": 306295131.43705016, \"segment\": \"3Crv\"}, {\"timestamp\": \"2021-03-08T00:00:00\", \"reserves_usd\": 258117676.70863542, \"segment\": \"3Crv\"}, {\"timestamp\": \"2021-03-09T00:00:00\", \"reserves_usd\": 421275093.69014484, \"segment\": \"3Crv\"}, {\"timestamp\": \"2021-03-10T00:00:00\", \"reserves_usd\": 435741251.15479624, \"segment\": \"3Crv\"}, {\"timestamp\": \"2021-03-11T00:00:00\", \"reserves_usd\": 441564461.9952635, \"segment\": \"3Crv\"}, {\"timestamp\": \"2021-03-12T00:00:00\", \"reserves_usd\": 441904942.4750273, \"segment\": \"3Crv\"}, {\"timestamp\": \"2021-03-13T00:00:00\", \"reserves_usd\": 469553160.42829126, \"segment\": \"3Crv\"}, {\"timestamp\": \"2021-03-14T00:00:00\", \"reserves_usd\": 478644937.998203, \"segment\": \"3Crv\"}, {\"timestamp\": \"2021-03-15T00:00:00\", \"reserves_usd\": 489036333.15199584, \"segment\": \"3Crv\"}, {\"timestamp\": \"2021-03-16T00:00:00\", \"reserves_usd\": 500082566.42900217, \"segment\": \"3Crv\"}, {\"timestamp\": \"2021-03-17T00:00:00\", \"reserves_usd\": 522135801.0508407, \"segment\": \"3Crv\"}, {\"timestamp\": \"2021-03-18T00:00:00\", \"reserves_usd\": 528351083.7524617, \"segment\": \"3Crv\"}, {\"timestamp\": \"2021-03-19T00:00:00\", \"reserves_usd\": 532846659.457271, \"segment\": \"3Crv\"}, {\"timestamp\": \"2021-03-20T00:00:00\", \"reserves_usd\": 551461069.5582248, \"segment\": \"3Crv\"}, {\"timestamp\": \"2021-03-21T00:00:00\", \"reserves_usd\": 561213026.9522063, \"segment\": \"3Crv\"}, {\"timestamp\": \"2021-03-22T00:00:00\", \"reserves_usd\": 552813977.4893496, \"segment\": \"3Crv\"}, {\"timestamp\": \"2021-03-23T00:00:00\", \"reserves_usd\": 578546221.4201105, \"segment\": \"3Crv\"}, {\"timestamp\": \"2021-03-24T00:00:00\", \"reserves_usd\": 570972824.5178441, \"segment\": \"3Crv\"}, {\"timestamp\": \"2021-03-25T00:00:00\", \"reserves_usd\": 557189220.4209923, \"segment\": \"3Crv\"}, {\"timestamp\": \"2021-03-26T00:00:00\", \"reserves_usd\": 552336722.8658326, \"segment\": \"3Crv\"}, {\"timestamp\": \"2021-03-27T00:00:00\", \"reserves_usd\": 557120660.4447027, \"segment\": \"3Crv\"}, {\"timestamp\": \"2021-03-28T00:00:00\", \"reserves_usd\": 576499550.9352165, \"segment\": \"3Crv\"}, {\"timestamp\": \"2021-03-29T00:00:00\", \"reserves_usd\": 585507775.6381781, \"segment\": \"3Crv\"}, {\"timestamp\": \"2021-03-30T00:00:00\", \"reserves_usd\": 578352557.5514491, \"segment\": \"3Crv\"}, {\"timestamp\": \"2021-03-31T00:00:00\", \"reserves_usd\": 584215337.7433909, \"segment\": \"3Crv\"}, {\"timestamp\": \"2021-04-01T00:00:00\", \"reserves_usd\": 608123254.0232577, \"segment\": \"3Crv\"}, {\"timestamp\": \"2021-04-02T00:00:00\", \"reserves_usd\": 597095338.5137624, \"segment\": \"3Crv\"}, {\"timestamp\": \"2021-04-03T00:00:00\", \"reserves_usd\": 617545451.9049296, \"segment\": \"3Crv\"}, {\"timestamp\": \"2021-04-04T00:00:00\", \"reserves_usd\": 635120382.7213523, \"segment\": \"3Crv\"}, {\"timestamp\": \"2021-04-05T00:00:00\", \"reserves_usd\": 640856482.5609733, \"segment\": \"3Crv\"}, {\"timestamp\": \"2021-04-06T00:00:00\", \"reserves_usd\": 643134699.0262318, \"segment\": \"3Crv\"}, {\"timestamp\": \"2021-04-07T00:00:00\", \"reserves_usd\": 635625603.514895, \"segment\": \"3Crv\"}, {\"timestamp\": \"2021-04-08T00:00:00\", \"reserves_usd\": 634104854.6428968, \"segment\": \"3Crv\"}, {\"timestamp\": \"2021-04-09T00:00:00\", \"reserves_usd\": 611783670.4835777, \"segment\": \"3Crv\"}, {\"timestamp\": \"2021-04-10T00:00:00\", \"reserves_usd\": 602117168.0305904, \"segment\": \"3Crv\"}, {\"timestamp\": \"2021-04-11T00:00:00\", \"reserves_usd\": 573830676.2304014, \"segment\": \"3Crv\"}, {\"timestamp\": \"2021-04-12T00:00:00\", \"reserves_usd\": 566265900.3458155, \"segment\": \"3Crv\"}, {\"timestamp\": \"2021-04-13T00:00:00\", \"reserves_usd\": 602236407.6167312, \"segment\": \"3Crv\"}, {\"timestamp\": \"2021-04-14T00:00:00\", \"reserves_usd\": 599444758.763327, \"segment\": \"3Crv\"}, {\"timestamp\": \"2021-04-15T00:00:00\", \"reserves_usd\": 580102529.7936828, \"segment\": \"3Crv\"}, {\"timestamp\": \"2021-04-16T00:00:00\", \"reserves_usd\": 627969417.0113758, \"segment\": \"3Crv\"}, {\"timestamp\": \"2021-04-17T00:00:00\", \"reserves_usd\": 646632495.8736229, \"segment\": \"3Crv\"}, {\"timestamp\": \"2021-04-18T00:00:00\", \"reserves_usd\": 655708372.5791001, \"segment\": \"3Crv\"}, {\"timestamp\": \"2021-04-19T00:00:00\", \"reserves_usd\": 622700934.5674559, \"segment\": \"3Crv\"}, {\"timestamp\": \"2021-04-20T00:00:00\", \"reserves_usd\": 659521588.1445464, \"segment\": \"3Crv\"}, {\"timestamp\": \"2021-04-21T00:00:00\", \"reserves_usd\": 663672329.4120431, \"segment\": \"3Crv\"}, {\"timestamp\": \"2021-04-22T00:00:00\", \"reserves_usd\": 677659743.9611987, \"segment\": \"3Crv\"}, {\"timestamp\": \"2021-04-23T00:00:00\", \"reserves_usd\": 705388403.9362254, \"segment\": \"3Crv\"}, {\"timestamp\": \"2021-04-24T00:00:00\", \"reserves_usd\": 695689167.8570533, \"segment\": \"3Crv\"}, {\"timestamp\": \"2021-04-25T00:00:00\", \"reserves_usd\": 705280491.6895299, \"segment\": \"3Crv\"}, {\"timestamp\": \"2021-04-26T00:00:00\", \"reserves_usd\": 699416178.2720798, \"segment\": \"3Crv\"}, {\"timestamp\": \"2021-04-27T00:00:00\", \"reserves_usd\": 670415395.3488514, \"segment\": \"3Crv\"}, {\"timestamp\": \"2021-04-28T00:00:00\", \"reserves_usd\": 666327649.1510639, \"segment\": \"3Crv\"}, {\"timestamp\": \"2021-04-29T00:00:00\", \"reserves_usd\": 674750629.9298215, \"segment\": \"3Crv\"}, {\"timestamp\": \"2021-04-30T00:00:00\", \"reserves_usd\": 720686874.5894876, \"segment\": \"3Crv\"}, {\"timestamp\": \"2021-05-01T00:00:00\", \"reserves_usd\": 731248388.6258554, \"segment\": \"3Crv\"}, {\"timestamp\": \"2021-05-02T00:00:00\", \"reserves_usd\": 728976540.0820534, \"segment\": \"3Crv\"}, {\"timestamp\": \"2021-05-03T00:00:00\", \"reserves_usd\": 744695072.4889842, \"segment\": \"3Crv\"}, {\"timestamp\": \"2021-05-04T00:00:00\", \"reserves_usd\": 765975587.741802, \"segment\": \"3Crv\"}, {\"timestamp\": \"2021-05-05T00:00:00\", \"reserves_usd\": 774013726.141982, \"segment\": \"3Crv\"}, {\"timestamp\": \"2021-05-06T00:00:00\", \"reserves_usd\": 798228808.4038537, \"segment\": \"3Crv\"}, {\"timestamp\": \"2021-05-07T00:00:00\", \"reserves_usd\": 780680625.6402644, \"segment\": \"3Crv\"}, {\"timestamp\": \"2021-05-08T00:00:00\", \"reserves_usd\": 818686982.7460262, \"segment\": \"3Crv\"}, {\"timestamp\": \"2021-05-09T00:00:00\", \"reserves_usd\": 849027085.7179859, \"segment\": \"3Crv\"}, {\"timestamp\": \"2021-05-10T00:00:00\", \"reserves_usd\": 847003248.7814637, \"segment\": \"3Crv\"}, {\"timestamp\": \"2021-05-11T00:00:00\", \"reserves_usd\": 843282039.2665545, \"segment\": \"3Crv\"}, {\"timestamp\": \"2021-05-12T00:00:00\", \"reserves_usd\": 853098939.3486706, \"segment\": \"3Crv\"}, {\"timestamp\": \"2021-05-13T00:00:00\", \"reserves_usd\": 839225272.8155104, \"segment\": \"3Crv\"}, {\"timestamp\": \"2021-05-14T00:00:00\", \"reserves_usd\": 779323814.773138, \"segment\": \"3Crv\"}, {\"timestamp\": \"2021-05-15T00:00:00\", \"reserves_usd\": 782667782.7886151, \"segment\": \"3Crv\"}, {\"timestamp\": \"2021-05-16T00:00:00\", \"reserves_usd\": 796324671.8925316, \"segment\": \"3Crv\"}, {\"timestamp\": \"2021-05-17T00:00:00\", \"reserves_usd\": 748993672.4570503, \"segment\": \"3Crv\"}, {\"timestamp\": \"2021-05-18T00:00:00\", \"reserves_usd\": 736604517.7164108, \"segment\": \"3Crv\"}, {\"timestamp\": \"2021-05-19T00:00:00\", \"reserves_usd\": 757393486.7812853, \"segment\": \"3Crv\"}, {\"timestamp\": \"2021-05-20T00:00:00\", \"reserves_usd\": 524752567.92841, \"segment\": \"3Crv\"}, {\"timestamp\": \"2021-05-21T00:00:00\", \"reserves_usd\": 590070901.443987, \"segment\": \"3Crv\"}, {\"timestamp\": \"2021-05-22T00:00:00\", \"reserves_usd\": 590598194.8050597, \"segment\": \"3Crv\"}, {\"timestamp\": \"2021-05-23T00:00:00\", \"reserves_usd\": 603296145.7568234, \"segment\": \"3Crv\"}, {\"timestamp\": \"2021-05-24T00:00:00\", \"reserves_usd\": 543333613.1069709, \"segment\": \"3Crv\"}, {\"timestamp\": \"2021-05-25T00:00:00\", \"reserves_usd\": 557899675.9359721, \"segment\": \"3Crv\"}, {\"timestamp\": \"2021-05-26T00:00:00\", \"reserves_usd\": 618870001.1806806, \"segment\": \"3Crv\"}, {\"timestamp\": \"2021-05-27T00:00:00\", \"reserves_usd\": 692680847.9658587, \"segment\": \"3Crv\"}, {\"timestamp\": \"2021-05-28T00:00:00\", \"reserves_usd\": 693278764.7663898, \"segment\": \"3Crv\"}, {\"timestamp\": \"2021-05-29T00:00:00\", \"reserves_usd\": 697542588.6556481, \"segment\": \"3Crv\"}, {\"timestamp\": \"2021-05-30T00:00:00\", \"reserves_usd\": 699030768.1093557, \"segment\": \"3Crv\"}, {\"timestamp\": \"2021-05-31T00:00:00\", \"reserves_usd\": 710578805.9059982, \"segment\": \"3Crv\"}, {\"timestamp\": \"2021-06-01T00:00:00\", \"reserves_usd\": 749411166.8476752, \"segment\": \"3Crv\"}, {\"timestamp\": \"2021-06-02T00:00:00\", \"reserves_usd\": 817696909.7518837, \"segment\": \"3Crv\"}, {\"timestamp\": \"2021-06-03T00:00:00\", \"reserves_usd\": 999425920.7392105, \"segment\": \"3Crv\"}, {\"timestamp\": \"2021-06-04T00:00:00\", \"reserves_usd\": 1087873437.3495815, \"segment\": \"3Crv\"}, {\"timestamp\": \"2021-06-05T00:00:00\", \"reserves_usd\": 1130914365.0120203, \"segment\": \"3Crv\"}, {\"timestamp\": \"2021-06-06T00:00:00\", \"reserves_usd\": 1201527328.864324, \"segment\": \"3Crv\"}, {\"timestamp\": \"2021-06-07T00:00:00\", \"reserves_usd\": 1246400749.0679433, \"segment\": \"3Crv\"}, {\"timestamp\": \"2021-06-08T00:00:00\", \"reserves_usd\": 1297953679.6406288, \"segment\": \"3Crv\"}, {\"timestamp\": \"2021-06-09T00:00:00\", \"reserves_usd\": 1235860825.663558, \"segment\": \"3Crv\"}, {\"timestamp\": \"2021-06-10T00:00:00\", \"reserves_usd\": 1294333172.5896223, \"segment\": \"3Crv\"}, {\"timestamp\": \"2021-06-11T00:00:00\", \"reserves_usd\": 1355398971.5064237, \"segment\": \"3Crv\"}, {\"timestamp\": \"2021-06-12T00:00:00\", \"reserves_usd\": 1370482595.8593276, \"segment\": \"3Crv\"}, {\"timestamp\": \"2021-06-13T00:00:00\", \"reserves_usd\": 1367968880.7219594, \"segment\": \"3Crv\"}, {\"timestamp\": \"2021-06-14T00:00:00\", \"reserves_usd\": 1376894665.5902822, \"segment\": \"3Crv\"}, {\"timestamp\": \"2021-06-15T00:00:00\", \"reserves_usd\": 1463840159.262038, \"segment\": \"3Crv\"}, {\"timestamp\": \"2021-06-16T00:00:00\", \"reserves_usd\": 1491551432.074121, \"segment\": \"3Crv\"}, {\"timestamp\": \"2021-06-17T00:00:00\", \"reserves_usd\": 1445451368.2531753, \"segment\": \"3Crv\"}, {\"timestamp\": \"2021-06-18T00:00:00\", \"reserves_usd\": 1498319045.62677, \"segment\": \"3Crv\"}, {\"timestamp\": \"2021-06-19T00:00:00\", \"reserves_usd\": 1469284124.2867615, \"segment\": \"3Crv\"}, {\"timestamp\": \"2021-06-20T00:00:00\", \"reserves_usd\": 1459318683.1257868, \"segment\": \"3Crv\"}, {\"timestamp\": \"2021-06-21T00:00:00\", \"reserves_usd\": 1443380988.4842663, \"segment\": \"3Crv\"}, {\"timestamp\": \"2021-06-22T00:00:00\", \"reserves_usd\": 1124596031.259432, \"segment\": \"3Crv\"}, {\"timestamp\": \"2021-06-23T00:00:00\", \"reserves_usd\": 1104320044.262739, \"segment\": \"3Crv\"}, {\"timestamp\": \"2021-06-24T00:00:00\", \"reserves_usd\": 1261117527.6397643, \"segment\": \"3Crv\"}, {\"timestamp\": \"2021-06-25T00:00:00\", \"reserves_usd\": 1241940307.5166757, \"segment\": \"3Crv\"}, {\"timestamp\": \"2021-06-26T00:00:00\", \"reserves_usd\": 1207422652.1706612, \"segment\": \"3Crv\"}, {\"timestamp\": \"2021-06-27T00:00:00\", \"reserves_usd\": 1223363030.3364642, \"segment\": \"3Crv\"}, {\"timestamp\": \"2021-06-28T00:00:00\", \"reserves_usd\": 1230466621.2524033, \"segment\": \"3Crv\"}, {\"timestamp\": \"2021-06-29T00:00:00\", \"reserves_usd\": 1228606537.172107, \"segment\": \"3Crv\"}, {\"timestamp\": \"2021-06-30T00:00:00\", \"reserves_usd\": 1268386727.0255787, \"segment\": \"3Crv\"}, {\"timestamp\": \"2021-07-01T00:00:00\", \"reserves_usd\": 1272367234.7090404, \"segment\": \"3Crv\"}, {\"timestamp\": \"2021-07-02T00:00:00\", \"reserves_usd\": 1282777224.1686707, \"segment\": \"3Crv\"}, {\"timestamp\": \"2021-07-03T00:00:00\", \"reserves_usd\": 1297115330.7231305, \"segment\": \"3Crv\"}, {\"timestamp\": \"2021-07-04T00:00:00\", \"reserves_usd\": 1317259937.3928907, \"segment\": \"3Crv\"}, {\"timestamp\": \"2021-07-05T00:00:00\", \"reserves_usd\": 1313545924.6862216, \"segment\": \"3Crv\"}, {\"timestamp\": \"2021-07-06T00:00:00\", \"reserves_usd\": 1316133446.2449815, \"segment\": \"3Crv\"}, {\"timestamp\": \"2021-07-07T00:00:00\", \"reserves_usd\": 1243270380.0441775, \"segment\": \"3Crv\"}, {\"timestamp\": \"2021-07-08T00:00:00\", \"reserves_usd\": 1231218724.347455, \"segment\": \"3Crv\"}, {\"timestamp\": \"2021-07-09T00:00:00\", \"reserves_usd\": 1233146090.4702697, \"segment\": \"3Crv\"}, {\"timestamp\": \"2021-07-10T00:00:00\", \"reserves_usd\": 1210038785.2843823, \"segment\": \"3Crv\"}, {\"timestamp\": \"2021-07-11T00:00:00\", \"reserves_usd\": 1205882001.1458178, \"segment\": \"3Crv\"}, {\"timestamp\": \"2021-07-12T00:00:00\", \"reserves_usd\": 1222132229.1885774, \"segment\": \"3Crv\"}, {\"timestamp\": \"2021-07-13T00:00:00\", \"reserves_usd\": 1181334157.8055654, \"segment\": \"3Crv\"}, {\"timestamp\": \"2021-07-14T00:00:00\", \"reserves_usd\": 1170958929.6644888, \"segment\": \"3Crv\"}, {\"timestamp\": \"2021-07-15T00:00:00\", \"reserves_usd\": 1173964451.307697, \"segment\": \"3Crv\"}, {\"timestamp\": \"2021-07-16T00:00:00\", \"reserves_usd\": 1183369603.1566021, \"segment\": \"3Crv\"}, {\"timestamp\": \"2021-07-17T00:00:00\", \"reserves_usd\": 1168129805.146465, \"segment\": \"3Crv\"}, {\"timestamp\": \"2021-07-18T00:00:00\", \"reserves_usd\": 1108029514.3509817, \"segment\": \"3Crv\"}, {\"timestamp\": \"2021-07-19T00:00:00\", \"reserves_usd\": 1095949369.6828675, \"segment\": \"3Crv\"}, {\"timestamp\": \"2021-07-20T00:00:00\", \"reserves_usd\": 1100390689.4277215, \"segment\": \"3Crv\"}, {\"timestamp\": \"2021-07-21T00:00:00\", \"reserves_usd\": 1098100016.2824357, \"segment\": \"3Crv\"}, {\"timestamp\": \"2021-07-22T00:00:00\", \"reserves_usd\": 1097880169.675652, \"segment\": \"3Crv\"}, {\"timestamp\": \"2021-07-23T00:00:00\", \"reserves_usd\": 1125839379.6326375, \"segment\": \"3Crv\"}, {\"timestamp\": \"2021-07-24T00:00:00\", \"reserves_usd\": 1125365081.3666244, \"segment\": \"3Crv\"}, {\"timestamp\": \"2021-07-25T00:00:00\", \"reserves_usd\": 1170165517.8771167, \"segment\": \"3Crv\"}, {\"timestamp\": \"2021-07-26T00:00:00\", \"reserves_usd\": 1166286663.196275, \"segment\": \"3Crv\"}, {\"timestamp\": \"2021-07-27T00:00:00\", \"reserves_usd\": 1247196721.3407574, \"segment\": \"3Crv\"}, {\"timestamp\": \"2021-07-28T00:00:00\", \"reserves_usd\": 1227576267.102535, \"segment\": \"3Crv\"}, {\"timestamp\": \"2021-07-29T00:00:00\", \"reserves_usd\": 1196776595.7584405, \"segment\": \"3Crv\"}, {\"timestamp\": \"2021-07-30T00:00:00\", \"reserves_usd\": 1195845296.9816744, \"segment\": \"3Crv\"}, {\"timestamp\": \"2021-07-31T00:00:00\", \"reserves_usd\": 1166722267.0520542, \"segment\": \"3Crv\"}, {\"timestamp\": \"2021-08-01T00:00:00\", \"reserves_usd\": 1123904021.8161774, \"segment\": \"3Crv\"}, {\"timestamp\": \"2021-08-02T00:00:00\", \"reserves_usd\": 1130758806.5634246, \"segment\": \"3Crv\"}, {\"timestamp\": \"2021-08-03T00:00:00\", \"reserves_usd\": 1171587768.2461271, \"segment\": \"3Crv\"}, {\"timestamp\": \"2021-08-04T00:00:00\", \"reserves_usd\": 1179485874.0229375, \"segment\": \"3Crv\"}, {\"timestamp\": \"2021-08-05T00:00:00\", \"reserves_usd\": 1184950799.8202605, \"segment\": \"3Crv\"}, {\"timestamp\": \"2021-08-06T00:00:00\", \"reserves_usd\": 1188369916.6683788, \"segment\": \"3Crv\"}, {\"timestamp\": \"2021-08-07T00:00:00\", \"reserves_usd\": 1163217375.0819385, \"segment\": \"3Crv\"}, {\"timestamp\": \"2021-08-08T00:00:00\", \"reserves_usd\": 1173850360.9609003, \"segment\": \"3Crv\"}, {\"timestamp\": \"2021-08-09T00:00:00\", \"reserves_usd\": 1206477252.8078957, \"segment\": \"3Crv\"}, {\"timestamp\": \"2021-08-10T00:00:00\", \"reserves_usd\": 1215377067.3400803, \"segment\": \"3Crv\"}, {\"timestamp\": \"2021-08-11T00:00:00\", \"reserves_usd\": 1226679371.7666469, \"segment\": \"3Crv\"}, {\"timestamp\": \"2021-08-12T00:00:00\", \"reserves_usd\": 1205482576.5437837, \"segment\": \"3Crv\"}, {\"timestamp\": \"2021-08-13T00:00:00\", \"reserves_usd\": 1243114068.0695899, \"segment\": \"3Crv\"}, {\"timestamp\": \"2021-08-14T00:00:00\", \"reserves_usd\": 1236768605.4372287, \"segment\": \"3Crv\"}, {\"timestamp\": \"2021-08-15T00:00:00\", \"reserves_usd\": 1233315947.601963, \"segment\": \"3Crv\"}, {\"timestamp\": \"2021-08-16T00:00:00\", \"reserves_usd\": 1230492606.0091097, \"segment\": \"3Crv\"}, {\"timestamp\": \"2021-08-17T00:00:00\", \"reserves_usd\": 1205929294.7723804, \"segment\": \"3Crv\"}, {\"timestamp\": \"2021-08-18T00:00:00\", \"reserves_usd\": 1181627796.8396957, \"segment\": \"3Crv\"}, {\"timestamp\": \"2021-08-19T00:00:00\", \"reserves_usd\": 1181869779.3746245, \"segment\": \"3Crv\"}, {\"timestamp\": \"2021-08-20T00:00:00\", \"reserves_usd\": 1180629965.9266677, \"segment\": \"3Crv\"}, {\"timestamp\": \"2021-08-21T00:00:00\", \"reserves_usd\": 1158987419.3637848, \"segment\": \"3Crv\"}, {\"timestamp\": \"2021-08-22T00:00:00\", \"reserves_usd\": 1159751110.4573717, \"segment\": \"3Crv\"}, {\"timestamp\": \"2021-08-23T00:00:00\", \"reserves_usd\": 1157338245.6631126, \"segment\": \"3Crv\"}, {\"timestamp\": \"2021-08-24T00:00:00\", \"reserves_usd\": 1177043544.9570682, \"segment\": \"3Crv\"}, {\"timestamp\": \"2021-08-25T00:00:00\", \"reserves_usd\": 1148181932.8252711, \"segment\": \"3Crv\"}, {\"timestamp\": \"2021-08-26T00:00:00\", \"reserves_usd\": 1143487720.1227498, \"segment\": \"3Crv\"}, {\"timestamp\": \"2021-08-27T00:00:00\", \"reserves_usd\": 1136787613.1418152, \"segment\": \"3Crv\"}, {\"timestamp\": \"2021-08-28T00:00:00\", \"reserves_usd\": 1136041288.7545934, \"segment\": \"3Crv\"}, {\"timestamp\": \"2021-08-29T00:00:00\", \"reserves_usd\": 1120973307.8082983, \"segment\": \"3Crv\"}, {\"timestamp\": \"2021-08-30T00:00:00\", \"reserves_usd\": 1124182186.5684464, \"segment\": \"3Crv\"}, {\"timestamp\": \"2021-08-31T00:00:00\", \"reserves_usd\": 1104062213.690721, \"segment\": \"3Crv\"}, {\"timestamp\": \"2021-09-01T00:00:00\", \"reserves_usd\": 1027350927.0412617, \"segment\": \"3Crv\"}, {\"timestamp\": \"2021-09-02T00:00:00\", \"reserves_usd\": 1088434897.2249596, \"segment\": \"3Crv\"}, {\"timestamp\": \"2021-09-03T00:00:00\", \"reserves_usd\": 1131372577.2236202, \"segment\": \"3Crv\"}, {\"timestamp\": \"2021-09-04T00:00:00\", \"reserves_usd\": 1122385469.04598, \"segment\": \"3Crv\"}, {\"timestamp\": \"2021-09-05T00:00:00\", \"reserves_usd\": 1135479500.0839016, \"segment\": \"3Crv\"}, {\"timestamp\": \"2021-09-06T00:00:00\", \"reserves_usd\": 1152842575.4135177, \"segment\": \"3Crv\"}, {\"timestamp\": \"2021-09-07T00:00:00\", \"reserves_usd\": 1180362289.1403675, \"segment\": \"3Crv\"}, {\"timestamp\": \"2021-09-08T00:00:00\", \"reserves_usd\": 1195167381.8095403, \"segment\": \"3Crv\"}, {\"timestamp\": \"2021-09-09T00:00:00\", \"reserves_usd\": 1215252695.57591, \"segment\": \"3Crv\"}, {\"timestamp\": \"2021-09-10T00:00:00\", \"reserves_usd\": 1230839512.3147864, \"segment\": \"3Crv\"}, {\"timestamp\": \"2021-09-11T00:00:00\", \"reserves_usd\": 1185325954.4869761, \"segment\": \"3Crv\"}, {\"timestamp\": \"2021-09-12T00:00:00\", \"reserves_usd\": 1202154608.6401148, \"segment\": \"3Crv\"}, {\"timestamp\": \"2021-09-13T00:00:00\", \"reserves_usd\": 1193725367.420639, \"segment\": \"3Crv\"}, {\"timestamp\": \"2021-09-14T00:00:00\", \"reserves_usd\": 1213661201.6275096, \"segment\": \"3Crv\"}, {\"timestamp\": \"2021-09-15T00:00:00\", \"reserves_usd\": 1253445494.5968535, \"segment\": \"3Crv\"}, {\"timestamp\": \"2021-09-16T00:00:00\", \"reserves_usd\": 1295443711.5790043, \"segment\": \"3Crv\"}, {\"timestamp\": \"2021-09-17T00:00:00\", \"reserves_usd\": 1402351456.6781986, \"segment\": \"3Crv\"}, {\"timestamp\": \"2021-09-18T00:00:00\", \"reserves_usd\": 1415620364.901441, \"segment\": \"3Crv\"}, {\"timestamp\": \"2021-09-19T00:00:00\", \"reserves_usd\": 1399608778.3520105, \"segment\": \"3Crv\"}, {\"timestamp\": \"2021-09-20T00:00:00\", \"reserves_usd\": 1382008488.6995437, \"segment\": \"3Crv\"}, {\"timestamp\": \"2021-09-21T00:00:00\", \"reserves_usd\": 1319847442.5055199, \"segment\": \"3Crv\"}, {\"timestamp\": \"2021-09-22T00:00:00\", \"reserves_usd\": 1310003565.6939328, \"segment\": \"3Crv\"}, {\"timestamp\": \"2021-09-23T00:00:00\", \"reserves_usd\": 1345651482.7910454, \"segment\": \"3Crv\"}, {\"timestamp\": \"2021-09-24T00:00:00\", \"reserves_usd\": 1458809555.8679214, \"segment\": \"3Crv\"}, {\"timestamp\": \"2021-09-25T00:00:00\", \"reserves_usd\": 1417421088.912229, \"segment\": \"3Crv\"}, {\"timestamp\": \"2021-09-26T00:00:00\", \"reserves_usd\": 1404001721.1709187, \"segment\": \"3Crv\"}, {\"timestamp\": \"2021-09-27T00:00:00\", \"reserves_usd\": 1394493397.1684744, \"segment\": \"3Crv\"}, {\"timestamp\": \"2021-09-28T00:00:00\", \"reserves_usd\": 1404452842.539942, \"segment\": \"3Crv\"}, {\"timestamp\": \"2021-09-29T00:00:00\", \"reserves_usd\": 1381796463.988155, \"segment\": \"3Crv\"}, {\"timestamp\": \"2021-09-30T00:00:00\", \"reserves_usd\": 1381140322.809915, \"segment\": \"3Crv\"}, {\"timestamp\": \"2021-10-01T00:00:00\", \"reserves_usd\": 1459995823.5679164, \"segment\": \"3Crv\"}, {\"timestamp\": \"2021-10-02T00:00:00\", \"reserves_usd\": 1529033374.7036352, \"segment\": \"3Crv\"}, {\"timestamp\": \"2021-10-03T00:00:00\", \"reserves_usd\": 1570500690.3576293, \"segment\": \"3Crv\"}, {\"timestamp\": \"2021-10-04T00:00:00\", \"reserves_usd\": 1651684952.3066628, \"segment\": \"3Crv\"}, {\"timestamp\": \"2021-10-05T00:00:00\", \"reserves_usd\": 1701484687.458099, \"segment\": \"3Crv\"}, {\"timestamp\": \"2021-10-06T00:00:00\", \"reserves_usd\": 1854539070.8915558, \"segment\": \"3Crv\"}, {\"timestamp\": \"2021-10-07T00:00:00\", \"reserves_usd\": 1808592876.5454257, \"segment\": \"3Crv\"}, {\"timestamp\": \"2021-10-08T00:00:00\", \"reserves_usd\": 1839060834.0426862, \"segment\": \"3Crv\"}, {\"timestamp\": \"2021-10-09T00:00:00\", \"reserves_usd\": 1881958844.0751438, \"segment\": \"3Crv\"}, {\"timestamp\": \"2021-10-10T00:00:00\", \"reserves_usd\": 1955828144.4702585, \"segment\": \"3Crv\"}, {\"timestamp\": \"2021-10-11T00:00:00\", \"reserves_usd\": 2055887436.5195146, \"segment\": \"3Crv\"}, {\"timestamp\": \"2021-10-12T00:00:00\", \"reserves_usd\": 2119244763.6320028, \"segment\": \"3Crv\"}, {\"timestamp\": \"2021-10-13T00:00:00\", \"reserves_usd\": 2102553898.809803, \"segment\": \"3Crv\"}, {\"timestamp\": \"2021-10-14T00:00:00\", \"reserves_usd\": 2298162928.5046644, \"segment\": \"3Crv\"}, {\"timestamp\": \"2021-10-15T00:00:00\", \"reserves_usd\": 2260219486.4051666, \"segment\": \"3Crv\"}, {\"timestamp\": \"2021-10-16T00:00:00\", \"reserves_usd\": 2270584041.218103, \"segment\": \"3Crv\"}, {\"timestamp\": \"2021-10-17T00:00:00\", \"reserves_usd\": 2206235678.485829, \"segment\": \"3Crv\"}, {\"timestamp\": \"2021-10-18T00:00:00\", \"reserves_usd\": 2224027501.303097, \"segment\": \"3Crv\"}, {\"timestamp\": \"2021-10-19T00:00:00\", \"reserves_usd\": 2195956998.79057, \"segment\": \"3Crv\"}, {\"timestamp\": \"2021-10-20T00:00:00\", \"reserves_usd\": 2193357765.090736, \"segment\": \"3Crv\"}, {\"timestamp\": \"2021-10-21T00:00:00\", \"reserves_usd\": 2074894756.5011349, \"segment\": \"3Crv\"}, {\"timestamp\": \"2021-10-22T00:00:00\", \"reserves_usd\": 2073899006.2773726, \"segment\": \"3Crv\"}, {\"timestamp\": \"2021-10-23T00:00:00\", \"reserves_usd\": 2062460306.7214336, \"segment\": \"3Crv\"}, {\"timestamp\": \"2021-10-24T00:00:00\", \"reserves_usd\": 2101860003.7532551, \"segment\": \"3Crv\"}, {\"timestamp\": \"2021-10-25T00:00:00\", \"reserves_usd\": 2133082916.4064767, \"segment\": \"3Crv\"}, {\"timestamp\": \"2021-10-26T00:00:00\", \"reserves_usd\": 2256926647.2440624, \"segment\": \"3Crv\"}, {\"timestamp\": \"2021-10-27T00:00:00\", \"reserves_usd\": 2302037753.1173873, \"segment\": \"3Crv\"}, {\"timestamp\": \"2021-10-28T00:00:00\", \"reserves_usd\": 2378851188.3027964, \"segment\": \"3Crv\"}, {\"timestamp\": \"2021-10-29T00:00:00\", \"reserves_usd\": 2408918820.9210196, \"segment\": \"3Crv\"}, {\"timestamp\": \"2021-10-30T00:00:00\", \"reserves_usd\": 2477101822.6758366, \"segment\": \"3Crv\"}, {\"timestamp\": \"2021-10-31T00:00:00\", \"reserves_usd\": 2473586982.573931, \"segment\": \"3Crv\"}, {\"timestamp\": \"2021-11-01T00:00:00\", \"reserves_usd\": 2579208127.840114, \"segment\": \"3Crv\"}, {\"timestamp\": \"2021-11-02T00:00:00\", \"reserves_usd\": 2664822697.3942795, \"segment\": \"3Crv\"}, {\"timestamp\": \"2021-11-03T00:00:00\", \"reserves_usd\": 2721728817.4164214, \"segment\": \"3Crv\"}, {\"timestamp\": \"2021-11-04T00:00:00\", \"reserves_usd\": 2725250547.2487745, \"segment\": \"3Crv\"}, {\"timestamp\": \"2021-11-05T00:00:00\", \"reserves_usd\": 2787085291.9630327, \"segment\": \"3Crv\"}, {\"timestamp\": \"2021-11-06T00:00:00\", \"reserves_usd\": 2788400755.900728, \"segment\": \"3Crv\"}, {\"timestamp\": \"2021-11-07T00:00:00\", \"reserves_usd\": 2792939240.5692067, \"segment\": \"3Crv\"}, {\"timestamp\": \"2021-11-08T00:00:00\", \"reserves_usd\": 2962906588.4841166, \"segment\": \"3Crv\"}, {\"timestamp\": \"2021-11-09T00:00:00\", \"reserves_usd\": 2949523314.4425488, \"segment\": \"3Crv\"}, {\"timestamp\": \"2021-11-10T00:00:00\", \"reserves_usd\": 2973868604.718602, \"segment\": \"3Crv\"}, {\"timestamp\": \"2021-11-11T00:00:00\", \"reserves_usd\": 2912336732.811252, \"segment\": \"3Crv\"}, {\"timestamp\": \"2021-11-12T00:00:00\", \"reserves_usd\": 2806170346.629864, \"segment\": \"3Crv\"}, {\"timestamp\": \"2021-11-13T00:00:00\", \"reserves_usd\": 2841316668.953485, \"segment\": \"3Crv\"}, {\"timestamp\": \"2021-11-14T00:00:00\", \"reserves_usd\": 3022592939.125683, \"segment\": \"3Crv\"}, {\"timestamp\": \"2021-11-15T00:00:00\", \"reserves_usd\": 3024916332.930918, \"segment\": \"3Crv\"}, {\"timestamp\": \"2021-11-16T00:00:00\", \"reserves_usd\": 3047614272.994601, \"segment\": \"3Crv\"}, {\"timestamp\": \"2021-11-17T00:00:00\", \"reserves_usd\": 2981356199.4154863, \"segment\": \"3Crv\"}, {\"timestamp\": \"2021-11-18T00:00:00\", \"reserves_usd\": 2764793389.9298544, \"segment\": \"3Crv\"}, {\"timestamp\": \"2021-11-19T00:00:00\", \"reserves_usd\": 2838020468.8641906, \"segment\": \"3Crv\"}, {\"timestamp\": \"2021-11-20T00:00:00\", \"reserves_usd\": 2819204983.4738035, \"segment\": \"3Crv\"}, {\"timestamp\": \"2021-11-21T00:00:00\", \"reserves_usd\": 2784873345.1834745, \"segment\": \"3Crv\"}, {\"timestamp\": \"2021-11-22T00:00:00\", \"reserves_usd\": 2797359544.7468224, \"segment\": \"3Crv\"}, {\"timestamp\": \"2021-11-23T00:00:00\", \"reserves_usd\": 2791168568.135773, \"segment\": \"3Crv\"}, {\"timestamp\": \"2021-11-24T00:00:00\", \"reserves_usd\": 2800346741.4742637, \"segment\": \"3Crv\"}, {\"timestamp\": \"2021-11-25T00:00:00\", \"reserves_usd\": 2831534951.5127378, \"segment\": \"3Crv\"}, {\"timestamp\": \"2021-11-26T00:00:00\", \"reserves_usd\": 2824849613.1674247, \"segment\": \"3Crv\"}, {\"timestamp\": \"2021-11-27T00:00:00\", \"reserves_usd\": 2674610531.4377913, \"segment\": \"3Crv\"}, {\"timestamp\": \"2021-11-28T00:00:00\", \"reserves_usd\": 2729139102.956832, \"segment\": \"3Crv\"}, {\"timestamp\": \"2021-11-29T00:00:00\", \"reserves_usd\": 2717701211.6202693, \"segment\": \"3Crv\"}, {\"timestamp\": \"2021-11-30T00:00:00\", \"reserves_usd\": 2893811717.5520086, \"segment\": \"3Crv\"}, {\"timestamp\": \"2021-12-01T00:00:00\", \"reserves_usd\": 2966684840.1934533, \"segment\": \"3Crv\"}, {\"timestamp\": \"2021-12-02T00:00:00\", \"reserves_usd\": 2776795570.399873, \"segment\": \"3Crv\"}, {\"timestamp\": \"2021-12-03T00:00:00\", \"reserves_usd\": 2843515180.806224, \"segment\": \"3Crv\"}, {\"timestamp\": \"2021-12-04T00:00:00\", \"reserves_usd\": 2794988403.0263534, \"segment\": \"3Crv\"}, {\"timestamp\": \"2021-12-05T00:00:00\", \"reserves_usd\": 2807772657.9033537, \"segment\": \"3Crv\"}, {\"timestamp\": \"2021-12-06T00:00:00\", \"reserves_usd\": 2852015838.6598415, \"segment\": \"3Crv\"}, {\"timestamp\": \"2021-12-07T00:00:00\", \"reserves_usd\": 2941189625.053336, \"segment\": \"3Crv\"}, {\"timestamp\": \"2021-12-08T00:00:00\", \"reserves_usd\": 2949094248.993789, \"segment\": \"3Crv\"}, {\"timestamp\": \"2021-12-09T00:00:00\", \"reserves_usd\": 3012946455.9316034, \"segment\": \"3Crv\"}, {\"timestamp\": \"2021-12-10T00:00:00\", \"reserves_usd\": 3032624123.314363, \"segment\": \"3Crv\"}, {\"timestamp\": \"2021-12-11T00:00:00\", \"reserves_usd\": 3017968742.749723, \"segment\": \"3Crv\"}, {\"timestamp\": \"2021-12-12T00:00:00\", \"reserves_usd\": 3058392140.529245, \"segment\": \"3Crv\"}, {\"timestamp\": \"2021-12-13T00:00:00\", \"reserves_usd\": 3104816791.189474, \"segment\": \"3Crv\"}, {\"timestamp\": \"2021-12-14T00:00:00\", \"reserves_usd\": 3070454786.182747, \"segment\": \"3Crv\"}, {\"timestamp\": \"2021-12-15T00:00:00\", \"reserves_usd\": 3066671359.889177, \"segment\": \"3Crv\"}, {\"timestamp\": \"2021-12-16T00:00:00\", \"reserves_usd\": 3127863070.122614, \"segment\": \"3Crv\"}, {\"timestamp\": \"2021-12-17T00:00:00\", \"reserves_usd\": 3217368941.0288754, \"segment\": \"3Crv\"}, {\"timestamp\": \"2021-12-18T00:00:00\", \"reserves_usd\": 3309358520.804822, \"segment\": \"3Crv\"}, {\"timestamp\": \"2021-12-19T00:00:00\", \"reserves_usd\": 3267415568.168541, \"segment\": \"3Crv\"}, {\"timestamp\": \"2021-12-20T00:00:00\", \"reserves_usd\": 3336797799.5669236, \"segment\": \"3Crv\"}, {\"timestamp\": \"2021-12-21T00:00:00\", \"reserves_usd\": 3261247879.2054687, \"segment\": \"3Crv\"}, {\"timestamp\": \"2021-12-22T00:00:00\", \"reserves_usd\": 3172474650.0643296, \"segment\": \"3Crv\"}, {\"timestamp\": \"2021-12-23T00:00:00\", \"reserves_usd\": 3164830351.0500975, \"segment\": \"3Crv\"}, {\"timestamp\": \"2021-12-24T00:00:00\", \"reserves_usd\": 3100304865.080893, \"segment\": \"3Crv\"}, {\"timestamp\": \"2021-12-25T00:00:00\", \"reserves_usd\": 3118696315.227668, \"segment\": \"3Crv\"}, {\"timestamp\": \"2021-12-26T00:00:00\", \"reserves_usd\": 3453498431.020508, \"segment\": \"3Crv\"}, {\"timestamp\": \"2021-12-27T00:00:00\", \"reserves_usd\": 3589324695.746287, \"segment\": \"3Crv\"}, {\"timestamp\": \"2021-12-28T00:00:00\", \"reserves_usd\": 3595115184.6783705, \"segment\": \"3Crv\"}, {\"timestamp\": \"2021-12-29T00:00:00\", \"reserves_usd\": 3606337078.5323367, \"segment\": \"3Crv\"}, {\"timestamp\": \"2021-12-30T00:00:00\", \"reserves_usd\": 3665017913.354577, \"segment\": \"3Crv\"}, {\"timestamp\": \"2021-12-31T00:00:00\", \"reserves_usd\": 3680355486.431795, \"segment\": \"3Crv\"}, {\"timestamp\": \"2022-01-01T00:00:00\", \"reserves_usd\": 3723541179.348738, \"segment\": \"3Crv\"}, {\"timestamp\": \"2022-01-02T00:00:00\", \"reserves_usd\": 3940491753.285144, \"segment\": \"3Crv\"}, {\"timestamp\": \"2022-01-03T00:00:00\", \"reserves_usd\": 4077091256.272669, \"segment\": \"3Crv\"}, {\"timestamp\": \"2022-01-04T00:00:00\", \"reserves_usd\": 4203755566.361366, \"segment\": \"3Crv\"}, {\"timestamp\": \"2022-01-05T00:00:00\", \"reserves_usd\": 4186845315.3019657, \"segment\": \"3Crv\"}, {\"timestamp\": \"2022-01-06T00:00:00\", \"reserves_usd\": 4255092710.807551, \"segment\": \"3Crv\"}, {\"timestamp\": \"2022-01-07T00:00:00\", \"reserves_usd\": 4245638287.8971186, \"segment\": \"3Crv\"}, {\"timestamp\": \"2022-01-08T00:00:00\", \"reserves_usd\": 4150570217.08889, \"segment\": \"3Crv\"}, {\"timestamp\": \"2022-01-09T00:00:00\", \"reserves_usd\": 4174087081.3658314, \"segment\": \"3Crv\"}, {\"timestamp\": \"2022-01-10T00:00:00\", \"reserves_usd\": 4175807825.8607965, \"segment\": \"3Crv\"}, {\"timestamp\": \"2022-01-11T00:00:00\", \"reserves_usd\": 4326506174.829471, \"segment\": \"3Crv\"}, {\"timestamp\": \"2022-01-12T00:00:00\", \"reserves_usd\": 4292608988.0348854, \"segment\": \"3Crv\"}, {\"timestamp\": \"2022-01-13T00:00:00\", \"reserves_usd\": 4291451492.358721, \"segment\": \"3Crv\"}, {\"timestamp\": \"2022-01-14T00:00:00\", \"reserves_usd\": 4351644737.243217, \"segment\": \"3Crv\"}, {\"timestamp\": \"2022-01-15T00:00:00\", \"reserves_usd\": 4286202414.845325, \"segment\": \"3Crv\"}, {\"timestamp\": \"2022-01-16T00:00:00\", \"reserves_usd\": 4384831976.662842, \"segment\": \"3Crv\"}, {\"timestamp\": \"2022-01-17T00:00:00\", \"reserves_usd\": 4421014689.868977, \"segment\": \"3Crv\"}, {\"timestamp\": \"2022-01-18T00:00:00\", \"reserves_usd\": 4430659405.7373085, \"segment\": \"3Crv\"}, {\"timestamp\": \"2022-01-19T00:00:00\", \"reserves_usd\": 4537830517.684214, \"segment\": \"3Crv\"}, {\"timestamp\": \"2022-01-20T00:00:00\", \"reserves_usd\": 4537820159.280974, \"segment\": \"3Crv\"}, {\"timestamp\": \"2022-01-21T00:00:00\", \"reserves_usd\": 4617268855.299519, \"segment\": \"3Crv\"}, {\"timestamp\": \"2022-01-22T00:00:00\", \"reserves_usd\": 4609234998.403234, \"segment\": \"3Crv\"}, {\"timestamp\": \"2022-01-23T00:00:00\", \"reserves_usd\": 4020888627.7728553, \"segment\": \"3Crv\"}, {\"timestamp\": \"2022-01-24T00:00:00\", \"reserves_usd\": 4024635064.57401, \"segment\": \"3Crv\"}, {\"timestamp\": \"2022-01-25T00:00:00\", \"reserves_usd\": 3894771667.3492255, \"segment\": \"3Crv\"}, {\"timestamp\": \"2022-01-26T00:00:00\", \"reserves_usd\": 3996793221.091953, \"segment\": \"3Crv\"}, {\"timestamp\": \"2022-01-27T00:00:00\", \"reserves_usd\": 3952025851.2300053, \"segment\": \"3Crv\"}, {\"timestamp\": \"2022-01-28T00:00:00\", \"reserves_usd\": 2610533952.82192, \"segment\": \"3Crv\"}, {\"timestamp\": \"2022-01-29T00:00:00\", \"reserves_usd\": 2568536195.0268106, \"segment\": \"3Crv\"}, {\"timestamp\": \"2022-01-30T00:00:00\", \"reserves_usd\": 2651666677.801524, \"segment\": \"3Crv\"}, {\"timestamp\": \"2022-01-31T00:00:00\", \"reserves_usd\": 2708244617.602458, \"segment\": \"3Crv\"}, {\"timestamp\": \"2022-02-01T00:00:00\", \"reserves_usd\": 2722941747.868654, \"segment\": \"3Crv\"}, {\"timestamp\": \"2022-02-02T00:00:00\", \"reserves_usd\": 2783285157.756267, \"segment\": \"3Crv\"}, {\"timestamp\": \"2022-02-03T00:00:00\", \"reserves_usd\": 2777534241.5133705, \"segment\": \"3Crv\"}, {\"timestamp\": \"2022-02-04T00:00:00\", \"reserves_usd\": 2884612413.992428, \"segment\": \"3Crv\"}, {\"timestamp\": \"2022-02-05T00:00:00\", \"reserves_usd\": 2890936298.7887187, \"segment\": \"3Crv\"}, {\"timestamp\": \"2022-02-06T00:00:00\", \"reserves_usd\": 2911172552.4994607, \"segment\": \"3Crv\"}, {\"timestamp\": \"2022-02-07T00:00:00\", \"reserves_usd\": 2994262926.772454, \"segment\": \"3Crv\"}, {\"timestamp\": \"2022-02-08T00:00:00\", \"reserves_usd\": 2896073070.892978, \"segment\": \"3Crv\"}, {\"timestamp\": \"2022-02-09T00:00:00\", \"reserves_usd\": 2972107874.655844, \"segment\": \"3Crv\"}, {\"timestamp\": \"2022-02-10T00:00:00\", \"reserves_usd\": 3075173111.115337, \"segment\": \"3Crv\"}, {\"timestamp\": \"2022-02-11T00:00:00\", \"reserves_usd\": 3134258657.003639, \"segment\": \"3Crv\"}, {\"timestamp\": \"2022-02-12T00:00:00\", \"reserves_usd\": 3160252964.4404163, \"segment\": \"3Crv\"}, {\"timestamp\": \"2022-02-13T00:00:00\", \"reserves_usd\": 3179690358.608335, \"segment\": \"3Crv\"}, {\"timestamp\": \"2022-02-14T00:00:00\", \"reserves_usd\": 3138176495.821366, \"segment\": \"3Crv\"}, {\"timestamp\": \"2022-02-15T00:00:00\", \"reserves_usd\": 3071277104.308636, \"segment\": \"3Crv\"}, {\"timestamp\": \"2022-02-16T00:00:00\", \"reserves_usd\": 3089281738.6674404, \"segment\": \"3Crv\"}, {\"timestamp\": \"2022-02-17T00:00:00\", \"reserves_usd\": 3130187546.129746, \"segment\": \"3Crv\"}, {\"timestamp\": \"2022-02-18T00:00:00\", \"reserves_usd\": 3254690115.9415526, \"segment\": \"3Crv\"}, {\"timestamp\": \"2022-02-19T00:00:00\", \"reserves_usd\": 3234246401.284643, \"segment\": \"3Crv\"}, {\"timestamp\": \"2022-02-20T00:00:00\", \"reserves_usd\": 3265415006.988708, \"segment\": \"3Crv\"}, {\"timestamp\": \"2022-02-21T00:00:00\", \"reserves_usd\": 3234415323.435692, \"segment\": \"3Crv\"}, {\"timestamp\": \"2022-02-22T00:00:00\", \"reserves_usd\": 3209363605.601992, \"segment\": \"3Crv\"}, {\"timestamp\": \"2022-02-23T00:00:00\", \"reserves_usd\": 3208938880.8669825, \"segment\": \"3Crv\"}, {\"timestamp\": \"2022-02-24T00:00:00\", \"reserves_usd\": 3235921967.7016582, \"segment\": \"3Crv\"}, {\"timestamp\": \"2022-02-25T00:00:00\", \"reserves_usd\": 3172933610.79444, \"segment\": \"3Crv\"}, {\"timestamp\": \"2022-02-26T00:00:00\", \"reserves_usd\": 3237412788.993508, \"segment\": \"3Crv\"}, {\"timestamp\": \"2022-02-27T00:00:00\", \"reserves_usd\": 3299311392.5748863, \"segment\": \"3Crv\"}, {\"timestamp\": \"2022-02-28T00:00:00\", \"reserves_usd\": 3249069787.609662, \"segment\": \"3Crv\"}, {\"timestamp\": \"2022-03-01T00:00:00\", \"reserves_usd\": 3232433208.2906013, \"segment\": \"3Crv\"}, {\"timestamp\": \"2022-03-02T00:00:00\", \"reserves_usd\": 3311412868.3385415, \"segment\": \"3Crv\"}, {\"timestamp\": \"2022-03-03T00:00:00\", \"reserves_usd\": 3424803217.9578686, \"segment\": \"3Crv\"}, {\"timestamp\": \"2022-03-04T00:00:00\", \"reserves_usd\": 3511127371.5049405, \"segment\": \"3Crv\"}, {\"timestamp\": \"2022-03-05T00:00:00\", \"reserves_usd\": 3514241918.666359, \"segment\": \"3Crv\"}, {\"timestamp\": \"2022-03-06T00:00:00\", \"reserves_usd\": 3461202496.7382765, \"segment\": \"3Crv\"}, {\"timestamp\": \"2022-03-07T00:00:00\", \"reserves_usd\": 3332640304.2977333, \"segment\": \"3Crv\"}, {\"timestamp\": \"2022-03-08T00:00:00\", \"reserves_usd\": 3309194291.035448, \"segment\": \"3Crv\"}, {\"timestamp\": \"2022-03-09T00:00:00\", \"reserves_usd\": 3267274124.6494813, \"segment\": \"3Crv\"}, {\"timestamp\": \"2022-03-10T00:00:00\", \"reserves_usd\": 3237817765.954301, \"segment\": \"3Crv\"}, {\"timestamp\": \"2022-03-11T00:00:00\", \"reserves_usd\": 3192308030.3395762, \"segment\": \"3Crv\"}, {\"timestamp\": \"2022-03-12T00:00:00\", \"reserves_usd\": 3210075725.70194, \"segment\": \"3Crv\"}, {\"timestamp\": \"2022-03-13T00:00:00\", \"reserves_usd\": 3144887714.8261952, \"segment\": \"3Crv\"}, {\"timestamp\": \"2022-03-14T00:00:00\", \"reserves_usd\": 3214506313.7830434, \"segment\": \"3Crv\"}, {\"timestamp\": \"2022-03-15T00:00:00\", \"reserves_usd\": 3260206756.147941, \"segment\": \"3Crv\"}, {\"timestamp\": \"2022-03-16T00:00:00\", \"reserves_usd\": 3217991290.9189343, \"segment\": \"3Crv\"}, {\"timestamp\": \"2022-03-17T00:00:00\", \"reserves_usd\": 3189054186.6886864, \"segment\": \"3Crv\"}, {\"timestamp\": \"2022-03-18T00:00:00\", \"reserves_usd\": 3129799970.4566336, \"segment\": \"3Crv\"}, {\"timestamp\": \"2022-03-19T00:00:00\", \"reserves_usd\": 3095302562.248658, \"segment\": \"3Crv\"}, {\"timestamp\": \"2022-03-20T00:00:00\", \"reserves_usd\": 3071449924.674377, \"segment\": \"3Crv\"}, {\"timestamp\": \"2022-03-21T00:00:00\", \"reserves_usd\": 3037324137.17339, \"segment\": \"3Crv\"}, {\"timestamp\": \"2022-03-22T00:00:00\", \"reserves_usd\": 3006632058.9995837, \"segment\": \"3Crv\"}, {\"timestamp\": \"2022-03-23T00:00:00\", \"reserves_usd\": 2973725392.328431, \"segment\": \"3Crv\"}, {\"timestamp\": \"2022-03-24T00:00:00\", \"reserves_usd\": 2888662813.418525, \"segment\": \"3Crv\"}, {\"timestamp\": \"2022-03-25T00:00:00\", \"reserves_usd\": 2696960000.3710375, \"segment\": \"3Crv\"}, {\"timestamp\": \"2022-03-26T00:00:00\", \"reserves_usd\": 2631623020.4407644, \"segment\": \"3Crv\"}, {\"timestamp\": \"2022-03-27T00:00:00\", \"reserves_usd\": 2698012446.5306215, \"segment\": \"3Crv\"}, {\"timestamp\": \"2022-03-28T00:00:00\", \"reserves_usd\": 2652793285.680892, \"segment\": \"3Crv\"}, {\"timestamp\": \"2022-03-29T00:00:00\", \"reserves_usd\": 2650940109.269758, \"segment\": \"3Crv\"}, {\"timestamp\": \"2022-03-30T00:00:00\", \"reserves_usd\": 2737078132.1466317, \"segment\": \"3Crv\"}, {\"timestamp\": \"2022-03-31T00:00:00\", \"reserves_usd\": 2727332196.8230834, \"segment\": \"3Crv\"}, {\"timestamp\": \"2022-04-01T00:00:00\", \"reserves_usd\": 2769681424.1404934, \"segment\": \"3Crv\"}, {\"timestamp\": \"2022-04-02T00:00:00\", \"reserves_usd\": 2800080582.5718336, \"segment\": \"3Crv\"}, {\"timestamp\": \"2022-04-03T00:00:00\", \"reserves_usd\": 2686917372.734412, \"segment\": \"3Crv\"}, {\"timestamp\": \"2022-04-04T00:00:00\", \"reserves_usd\": 2668072853.898018, \"segment\": \"3Crv\"}, {\"timestamp\": \"2022-04-05T00:00:00\", \"reserves_usd\": 2635257836.613139, \"segment\": \"3Crv\"}, {\"timestamp\": \"2022-04-06T00:00:00\", \"reserves_usd\": 2671457151.2308764, \"segment\": \"3Crv\"}, {\"timestamp\": \"2022-04-07T00:00:00\", \"reserves_usd\": 2712731588.9193616, \"segment\": \"3Crv\"}, {\"timestamp\": \"2022-04-08T00:00:00\", \"reserves_usd\": 2718873206.8932137, \"segment\": \"3Crv\"}, {\"timestamp\": \"2022-04-09T00:00:00\", \"reserves_usd\": 2715794641.534628, \"segment\": \"3Crv\"}, {\"timestamp\": \"2022-04-10T00:00:00\", \"reserves_usd\": 2752522622.7100086, \"segment\": \"3Crv\"}, {\"timestamp\": \"2022-04-11T00:00:00\", \"reserves_usd\": 2824408762.807597, \"segment\": \"3Crv\"}, {\"timestamp\": \"2022-04-12T00:00:00\", \"reserves_usd\": 2956963145.9372973, \"segment\": \"3Crv\"}, {\"timestamp\": \"2022-04-13T00:00:00\", \"reserves_usd\": 2859838107.788248, \"segment\": \"3Crv\"}, {\"timestamp\": \"2022-04-14T00:00:00\", \"reserves_usd\": 2960010228.495403, \"segment\": \"3Crv\"}, {\"timestamp\": \"2022-04-15T00:00:00\", \"reserves_usd\": 2967352374.6043916, \"segment\": \"3Crv\"}, {\"timestamp\": \"2022-04-16T00:00:00\", \"reserves_usd\": 3000281830.2061887, \"segment\": \"3Crv\"}, {\"timestamp\": \"2022-04-17T00:00:00\", \"reserves_usd\": 3026337635.336446, \"segment\": \"3Crv\"}, {\"timestamp\": \"2022-04-18T00:00:00\", \"reserves_usd\": 2986494261.8651485, \"segment\": \"3Crv\"}, {\"timestamp\": \"2022-04-19T00:00:00\", \"reserves_usd\": 3008042702.5468173, \"segment\": \"3Crv\"}, {\"timestamp\": \"2022-04-20T00:00:00\", \"reserves_usd\": 3024379439.296659, \"segment\": \"3Crv\"}, {\"timestamp\": \"2022-04-21T00:00:00\", \"reserves_usd\": 2990377694.5773435, \"segment\": \"3Crv\"}, {\"timestamp\": \"2022-04-22T00:00:00\", \"reserves_usd\": 2915750089.693708, \"segment\": \"3Crv\"}, {\"timestamp\": \"2022-04-23T00:00:00\", \"reserves_usd\": 2769503149.664223, \"segment\": \"3Crv\"}, {\"timestamp\": \"2022-04-24T00:00:00\", \"reserves_usd\": 2708929606.2435117, \"segment\": \"3Crv\"}, {\"timestamp\": \"2022-04-25T00:00:00\", \"reserves_usd\": 2731883676.6083193, \"segment\": \"3Crv\"}, {\"timestamp\": \"2022-04-26T00:00:00\", \"reserves_usd\": 2727624035.170607, \"segment\": \"3Crv\"}, {\"timestamp\": \"2022-04-27T00:00:00\", \"reserves_usd\": 2648673005.320735, \"segment\": \"3Crv\"}, {\"timestamp\": \"2022-04-28T00:00:00\", \"reserves_usd\": 2634281606.3348155, \"segment\": \"3Crv\"}, {\"timestamp\": \"2022-04-29T00:00:00\", \"reserves_usd\": 2634807673.7735095, \"segment\": \"3Crv\"}, {\"timestamp\": \"2022-04-30T00:00:00\", \"reserves_usd\": 2639924602.9260054, \"segment\": \"3Crv\"}, {\"timestamp\": \"2022-05-01T00:00:00\", \"reserves_usd\": 2434585750.0243154, \"segment\": \"3Crv\"}, {\"timestamp\": \"2022-05-02T00:00:00\", \"reserves_usd\": 2425209148.7833366, \"segment\": \"3Crv\"}, {\"timestamp\": \"2022-05-03T00:00:00\", \"reserves_usd\": 2328423260.159793, \"segment\": \"3Crv\"}, {\"timestamp\": \"2022-05-04T00:00:00\", \"reserves_usd\": 2344182687.6599636, \"segment\": \"3Crv\"}, {\"timestamp\": \"2022-05-05T00:00:00\", \"reserves_usd\": 2373897156.380762, \"segment\": \"3Crv\"}, {\"timestamp\": \"2022-05-06T00:00:00\", \"reserves_usd\": 2433433105.309436, \"segment\": \"3Crv\"}, {\"timestamp\": \"2022-05-07T00:00:00\", \"reserves_usd\": 2441280739.7114882, \"segment\": \"3Crv\"}, {\"timestamp\": \"2022-05-08T00:00:00\", \"reserves_usd\": 2084065130.9817176, \"segment\": \"3Crv\"}, {\"timestamp\": \"2022-05-09T00:00:00\", \"reserves_usd\": 2069004242.230876, \"segment\": \"3Crv\"}, {\"timestamp\": \"2022-05-10T00:00:00\", \"reserves_usd\": 1825465848.8753052, \"segment\": \"3Crv\"}, {\"timestamp\": \"2022-05-11T00:00:00\", \"reserves_usd\": 1796085097.4099288, \"segment\": \"3Crv\"}, {\"timestamp\": \"2022-05-12T00:00:00\", \"reserves_usd\": 1315217501.8291721, \"segment\": \"3Crv\"}, {\"timestamp\": \"2022-05-13T00:00:00\", \"reserves_usd\": 1014150565.771545, \"segment\": \"3Crv\"}, {\"timestamp\": \"2022-05-14T00:00:00\", \"reserves_usd\": 956369058.282441, \"segment\": \"3Crv\"}, {\"timestamp\": \"2022-05-15T00:00:00\", \"reserves_usd\": 941138671.3716589, \"segment\": \"3Crv\"}, {\"timestamp\": \"2022-05-16T00:00:00\", \"reserves_usd\": 988494138.4819434, \"segment\": \"3Crv\"}, {\"timestamp\": \"2022-05-17T00:00:00\", \"reserves_usd\": 1027289698.4619373, \"segment\": \"3Crv\"}, {\"timestamp\": \"2022-05-18T00:00:00\", \"reserves_usd\": 1036964086.9341028, \"segment\": \"3Crv\"}, {\"timestamp\": \"2022-05-19T00:00:00\", \"reserves_usd\": 1025294834.7519748, \"segment\": \"3Crv\"}, {\"timestamp\": \"2022-05-20T00:00:00\", \"reserves_usd\": 1028343901.1618589, \"segment\": \"3Crv\"}, {\"timestamp\": \"2022-05-21T00:00:00\", \"reserves_usd\": 1046317143.2997388, \"segment\": \"3Crv\"}, {\"timestamp\": \"2022-05-22T00:00:00\", \"reserves_usd\": 1088632422.1898966, \"segment\": \"3Crv\"}, {\"timestamp\": \"2022-05-23T00:00:00\", \"reserves_usd\": 1102229231.4617631, \"segment\": \"3Crv\"}, {\"timestamp\": \"2022-05-24T00:00:00\", \"reserves_usd\": 1132687953.1961932, \"segment\": \"3Crv\"}, {\"timestamp\": \"2022-05-25T00:00:00\", \"reserves_usd\": 1151043597.2451017, \"segment\": \"3Crv\"}, {\"timestamp\": \"2022-05-26T00:00:00\", \"reserves_usd\": 1186199939.008817, \"segment\": \"3Crv\"}, {\"timestamp\": \"2022-05-27T00:00:00\", \"reserves_usd\": 1210198613.6391504, \"segment\": \"3Crv\"}, {\"timestamp\": \"2022-05-28T00:00:00\", \"reserves_usd\": 1203353604.9882061, \"segment\": \"3Crv\"}, {\"timestamp\": \"2022-05-29T00:00:00\", \"reserves_usd\": 1220852565.2963953, \"segment\": \"3Crv\"}, {\"timestamp\": \"2022-05-30T00:00:00\", \"reserves_usd\": 1217025521.6576033, \"segment\": \"3Crv\"}, {\"timestamp\": \"2022-05-31T00:00:00\", \"reserves_usd\": 1235296035.890584, \"segment\": \"3Crv\"}, {\"timestamp\": \"2022-06-01T00:00:00\", \"reserves_usd\": 1260797005.9177074, \"segment\": \"3Crv\"}, {\"timestamp\": \"2022-06-02T00:00:00\", \"reserves_usd\": 1340311332.8381836, \"segment\": \"3Crv\"}, {\"timestamp\": \"2022-06-03T00:00:00\", \"reserves_usd\": 1337662278.380707, \"segment\": \"3Crv\"}, {\"timestamp\": \"2022-06-04T00:00:00\", \"reserves_usd\": 1354557694.5400832, \"segment\": \"3Crv\"}, {\"timestamp\": \"2022-06-05T00:00:00\", \"reserves_usd\": 1350468836.9276483, \"segment\": \"3Crv\"}, {\"timestamp\": \"2022-06-06T00:00:00\", \"reserves_usd\": 1364468991.2327883, \"segment\": \"3Crv\"}, {\"timestamp\": \"2022-06-07T00:00:00\", \"reserves_usd\": 1388499640.1185977, \"segment\": \"3Crv\"}, {\"timestamp\": \"2022-06-08T00:00:00\", \"reserves_usd\": 1395514173.2092886, \"segment\": \"3Crv\"}, {\"timestamp\": \"2022-06-09T00:00:00\", \"reserves_usd\": 1398081194.7719746, \"segment\": \"3Crv\"}, {\"timestamp\": \"2022-06-10T00:00:00\", \"reserves_usd\": 1403655858.190244, \"segment\": \"3Crv\"}, {\"timestamp\": \"2022-06-11T00:00:00\", \"reserves_usd\": 1409525031.3313432, \"segment\": \"3Crv\"}, {\"timestamp\": \"2022-06-12T00:00:00\", \"reserves_usd\": 1409007712.6143541, \"segment\": \"3Crv\"}, {\"timestamp\": \"2022-06-13T00:00:00\", \"reserves_usd\": 1398817516.5709014, \"segment\": \"3Crv\"}, {\"timestamp\": \"2022-06-14T00:00:00\", \"reserves_usd\": 1214319080.4367468, \"segment\": \"3Crv\"}, {\"timestamp\": \"2022-06-15T00:00:00\", \"reserves_usd\": 967032002.0976249, \"segment\": \"3Crv\"}, {\"timestamp\": \"2022-06-16T00:00:00\", \"reserves_usd\": 895707039.0897337, \"segment\": \"3Crv\"}, {\"timestamp\": \"2022-06-17T00:00:00\", \"reserves_usd\": 893465001.0779943, \"segment\": \"3Crv\"}, {\"timestamp\": \"2022-06-18T00:00:00\", \"reserves_usd\": 830642070.4165676, \"segment\": \"3Crv\"}, {\"timestamp\": \"2022-06-19T00:00:00\", \"reserves_usd\": 794048026.4179372, \"segment\": \"3Crv\"}, {\"timestamp\": \"2022-06-20T00:00:00\", \"reserves_usd\": 782026523.0530281, \"segment\": \"3Crv\"}, {\"timestamp\": \"2022-06-21T00:00:00\", \"reserves_usd\": 776015685.8715475, \"segment\": \"3Crv\"}, {\"timestamp\": \"2022-06-22T00:00:00\", \"reserves_usd\": 777377680.084396, \"segment\": \"3Crv\"}, {\"timestamp\": \"2022-06-23T00:00:00\", \"reserves_usd\": 771793873.6973673, \"segment\": \"3Crv\"}, {\"timestamp\": \"2022-06-24T00:00:00\", \"reserves_usd\": 769907010.5758137, \"segment\": \"3Crv\"}, {\"timestamp\": \"2022-06-25T00:00:00\", \"reserves_usd\": 774747005.8191787, \"segment\": \"3Crv\"}, {\"timestamp\": \"2022-06-26T00:00:00\", \"reserves_usd\": 778874188.528988, \"segment\": \"3Crv\"}, {\"timestamp\": \"2022-06-27T00:00:00\", \"reserves_usd\": 789785271.1614312, \"segment\": \"3Crv\"}, {\"timestamp\": \"2022-06-28T00:00:00\", \"reserves_usd\": 797099676.3604515, \"segment\": \"3Crv\"}, {\"timestamp\": \"2022-06-29T00:00:00\", \"reserves_usd\": 805240940.5086403, \"segment\": \"3Crv\"}, {\"timestamp\": \"2022-06-30T00:00:00\", \"reserves_usd\": 793049867.0378027, \"segment\": \"3Crv\"}, {\"timestamp\": \"2022-07-01T00:00:00\", \"reserves_usd\": 781223493.7242362, \"segment\": \"3Crv\"}, {\"timestamp\": \"2022-07-02T00:00:00\", \"reserves_usd\": 777884838.7412815, \"segment\": \"3Crv\"}, {\"timestamp\": \"2022-07-03T00:00:00\", \"reserves_usd\": 769000467.0314851, \"segment\": \"3Crv\"}, {\"timestamp\": \"2022-07-04T00:00:00\", \"reserves_usd\": 766738727.2126871, \"segment\": \"3Crv\"}, {\"timestamp\": \"2022-07-05T00:00:00\", \"reserves_usd\": 736369260.8186848, \"segment\": \"3Crv\"}, {\"timestamp\": \"2022-07-06T00:00:00\", \"reserves_usd\": 731210104.1934326, \"segment\": \"3Crv\"}, {\"timestamp\": \"2022-07-07T00:00:00\", \"reserves_usd\": 755846917.9017665, \"segment\": \"3Crv\"}, {\"timestamp\": \"2022-07-08T00:00:00\", \"reserves_usd\": 749330244.9122314, \"segment\": \"3Crv\"}, {\"timestamp\": \"2022-07-09T00:00:00\", \"reserves_usd\": 750488816.776584, \"segment\": \"3Crv\"}, {\"timestamp\": \"2022-07-10T00:00:00\", \"reserves_usd\": 755267525.1144017, \"segment\": \"3Crv\"}, {\"timestamp\": \"2022-07-11T00:00:00\", \"reserves_usd\": 749980582.8198904, \"segment\": \"3Crv\"}, {\"timestamp\": \"2022-07-12T00:00:00\", \"reserves_usd\": 753832916.0744259, \"segment\": \"3Crv\"}, {\"timestamp\": \"2022-07-13T00:00:00\", \"reserves_usd\": 750336973.8434639, \"segment\": \"3Crv\"}, {\"timestamp\": \"2022-07-14T00:00:00\", \"reserves_usd\": 750218086.7985171, \"segment\": \"3Crv\"}, {\"timestamp\": \"2022-07-15T00:00:00\", \"reserves_usd\": 755482467.1122398, \"segment\": \"3Crv\"}, {\"timestamp\": \"2022-07-16T00:00:00\", \"reserves_usd\": 756510701.1914084, \"segment\": \"3Crv\"}, {\"timestamp\": \"2022-07-17T00:00:00\", \"reserves_usd\": 759898239.9725578, \"segment\": \"3Crv\"}, {\"timestamp\": \"2022-07-18T00:00:00\", \"reserves_usd\": 761436033.5294641, \"segment\": \"3Crv\"}, {\"timestamp\": \"2022-07-19T00:00:00\", \"reserves_usd\": 769612184.8167621, \"segment\": \"3Crv\"}, {\"timestamp\": \"2022-07-20T00:00:00\", \"reserves_usd\": 771901150.1229576, \"segment\": \"3Crv\"}, {\"timestamp\": \"2022-07-21T00:00:00\", \"reserves_usd\": 789305403.4549772, \"segment\": \"3Crv\"}, {\"timestamp\": \"2022-07-22T00:00:00\", \"reserves_usd\": 784843470.9651502, \"segment\": \"3Crv\"}, {\"timestamp\": \"2022-07-23T00:00:00\", \"reserves_usd\": 785901900.199717, \"segment\": \"3Crv\"}, {\"timestamp\": \"2022-07-24T00:00:00\", \"reserves_usd\": 794340981.4343202, \"segment\": \"3Crv\"}, {\"timestamp\": \"2022-07-25T00:00:00\", \"reserves_usd\": 796660900.8079219, \"segment\": \"3Crv\"}, {\"timestamp\": \"2022-07-26T00:00:00\", \"reserves_usd\": 797151195.2084624, \"segment\": \"3Crv\"}, {\"timestamp\": \"2022-07-27T00:00:00\", \"reserves_usd\": 780017367.8336382, \"segment\": \"3Crv\"}, {\"timestamp\": \"2022-07-28T00:00:00\", \"reserves_usd\": 790204930.6061801, \"segment\": \"3Crv\"}, {\"timestamp\": \"2022-07-29T00:00:00\", \"reserves_usd\": 798695333.9488173, \"segment\": \"3Crv\"}, {\"timestamp\": \"2022-07-30T00:00:00\", \"reserves_usd\": 806417705.1301304, \"segment\": \"3Crv\"}, {\"timestamp\": \"2022-07-31T00:00:00\", \"reserves_usd\": 799364410.1100712, \"segment\": \"3Crv\"}, {\"timestamp\": \"2022-08-01T00:00:00\", \"reserves_usd\": 800830612.3541327, \"segment\": \"3Crv\"}, {\"timestamp\": \"2022-08-02T00:00:00\", \"reserves_usd\": 806527954.6367065, \"segment\": \"3Crv\"}, {\"timestamp\": \"2022-08-03T00:00:00\", \"reserves_usd\": 803360869.9868145, \"segment\": \"3Crv\"}, {\"timestamp\": \"2022-08-04T00:00:00\", \"reserves_usd\": 803678366.542802, \"segment\": \"3Crv\"}, {\"timestamp\": \"2022-08-05T00:00:00\", \"reserves_usd\": 802603003.3391191, \"segment\": \"3Crv\"}, {\"timestamp\": \"2022-08-06T00:00:00\", \"reserves_usd\": 818979980.7789497, \"segment\": \"3Crv\"}, {\"timestamp\": \"2022-08-07T00:00:00\", \"reserves_usd\": 825534106.8408872, \"segment\": \"3Crv\"}, {\"timestamp\": \"2022-08-08T00:00:00\", \"reserves_usd\": 826022497.2142565, \"segment\": \"3Crv\"}, {\"timestamp\": \"2022-08-09T00:00:00\", \"reserves_usd\": 828040036.6484035, \"segment\": \"3Crv\"}, {\"timestamp\": \"2022-08-10T00:00:00\", \"reserves_usd\": 825207633.8499781, \"segment\": \"3Crv\"}, {\"timestamp\": \"2022-08-11T00:00:00\", \"reserves_usd\": 821621599.223453, \"segment\": \"3Crv\"}, {\"timestamp\": \"2022-08-12T00:00:00\", \"reserves_usd\": 817740630.9561632, \"segment\": \"3Crv\"}, {\"timestamp\": \"2022-08-13T00:00:00\", \"reserves_usd\": 802486208.1326444, \"segment\": \"3Crv\"}, {\"timestamp\": \"2022-08-14T00:00:00\", \"reserves_usd\": 807210279.5718086, \"segment\": \"3Crv\"}, {\"timestamp\": \"2022-08-15T00:00:00\", \"reserves_usd\": 801211739.0298737, \"segment\": \"3Crv\"}, {\"timestamp\": \"2022-08-16T00:00:00\", \"reserves_usd\": 803934097.6358962, \"segment\": \"3Crv\"}, {\"timestamp\": \"2022-08-17T00:00:00\", \"reserves_usd\": 815774447.9577433, \"segment\": \"3Crv\"}, {\"timestamp\": \"2022-08-18T00:00:00\", \"reserves_usd\": 831397128.8255446, \"segment\": \"3Crv\"}, {\"timestamp\": \"2022-08-19T00:00:00\", \"reserves_usd\": 828011886.3232127, \"segment\": \"3Crv\"}, {\"timestamp\": \"2022-08-20T00:00:00\", \"reserves_usd\": 813642371.1744134, \"segment\": \"3Crv\"}, {\"timestamp\": \"2022-08-21T00:00:00\", \"reserves_usd\": 810499993.0903888, \"segment\": \"3Crv\"}, {\"timestamp\": \"2022-08-22T00:00:00\", \"reserves_usd\": 811644429.2127031, \"segment\": \"3Crv\"}, {\"timestamp\": \"2022-08-23T00:00:00\", \"reserves_usd\": 774413026.3636972, \"segment\": \"3Crv\"}, {\"timestamp\": \"2022-08-24T00:00:00\", \"reserves_usd\": 766106148.4042027, \"segment\": \"3Crv\"}, {\"timestamp\": \"2022-08-25T00:00:00\", \"reserves_usd\": 761238079.1360036, \"segment\": \"3Crv\"}, {\"timestamp\": \"2022-08-26T00:00:00\", \"reserves_usd\": 761665774.0914664, \"segment\": \"3Crv\"}, {\"timestamp\": \"2022-08-27T00:00:00\", \"reserves_usd\": 750748884.7093796, \"segment\": \"3Crv\"}, {\"timestamp\": \"2022-08-28T00:00:00\", \"reserves_usd\": 752350785.8285254, \"segment\": \"3Crv\"}, {\"timestamp\": \"2022-08-29T00:00:00\", \"reserves_usd\": 748623034.7046461, \"segment\": \"3Crv\"}, {\"timestamp\": \"2022-08-30T00:00:00\", \"reserves_usd\": 742775598.4186748, \"segment\": \"3Crv\"}, {\"timestamp\": \"2022-08-31T00:00:00\", \"reserves_usd\": 736489026.5531787, \"segment\": \"3Crv\"}, {\"timestamp\": \"2022-09-01T00:00:00\", \"reserves_usd\": 739078859.3419905, \"segment\": \"3Crv\"}, {\"timestamp\": \"2022-09-02T00:00:00\", \"reserves_usd\": 735944627.5093997, \"segment\": \"3Crv\"}, {\"timestamp\": \"2022-09-03T00:00:00\", \"reserves_usd\": 736216760.8489281, \"segment\": \"3Crv\"}, {\"timestamp\": \"2022-09-04T00:00:00\", \"reserves_usd\": 729624696.1680474, \"segment\": \"3Crv\"}, {\"timestamp\": \"2022-09-05T00:00:00\", \"reserves_usd\": 726056750.3978606, \"segment\": \"3Crv\"}, {\"timestamp\": \"2022-09-06T00:00:00\", \"reserves_usd\": 682927121.4359506, \"segment\": \"3Crv\"}, {\"timestamp\": \"2022-09-07T00:00:00\", \"reserves_usd\": 660788425.9046335, \"segment\": \"3Crv\"}, {\"timestamp\": \"2022-09-08T00:00:00\", \"reserves_usd\": 653153939.0010644, \"segment\": \"3Crv\"}, {\"timestamp\": \"2022-09-09T00:00:00\", \"reserves_usd\": 647427366.5543587, \"segment\": \"3Crv\"}, {\"timestamp\": \"2022-09-10T00:00:00\", \"reserves_usd\": 643222510.4334023, \"segment\": \"3Crv\"}, {\"timestamp\": \"2022-09-11T00:00:00\", \"reserves_usd\": 641550095.1017481, \"segment\": \"3Crv\"}, {\"timestamp\": \"2022-09-12T00:00:00\", \"reserves_usd\": 634275665.6588529, \"segment\": \"3Crv\"}, {\"timestamp\": \"2022-09-13T00:00:00\", \"reserves_usd\": 633160848.8181592, \"segment\": \"3Crv\"}, {\"timestamp\": \"2022-09-14T00:00:00\", \"reserves_usd\": 620039052.7469045, \"segment\": \"3Crv\"}, {\"timestamp\": \"2022-09-15T00:00:00\", \"reserves_usd\": 589707581.9666013, \"segment\": \"3Crv\"}, {\"timestamp\": \"2022-09-16T00:00:00\", \"reserves_usd\": 581926539.7479587, \"segment\": \"3Crv\"}, {\"timestamp\": \"2022-09-17T00:00:00\", \"reserves_usd\": 602714123.4453611, \"segment\": \"3Crv\"}, {\"timestamp\": \"2022-09-18T00:00:00\", \"reserves_usd\": 603615813.2804081, \"segment\": \"3Crv\"}, {\"timestamp\": \"2022-09-19T00:00:00\", \"reserves_usd\": 602499051.1132607, \"segment\": \"3Crv\"}, {\"timestamp\": \"2022-09-20T00:00:00\", \"reserves_usd\": 604839591.1064295, \"segment\": \"3Crv\"}, {\"timestamp\": \"2022-09-21T00:00:00\", \"reserves_usd\": 587769080.1104169, \"segment\": \"3Crv\"}, {\"timestamp\": \"2022-09-22T00:00:00\", \"reserves_usd\": 576853380.7408438, \"segment\": \"3Crv\"}, {\"timestamp\": \"2022-09-23T00:00:00\", \"reserves_usd\": 577194763.8940378, \"segment\": \"3Crv\"}, {\"timestamp\": \"2022-09-24T00:00:00\", \"reserves_usd\": 575288025.7909632, \"segment\": \"3Crv\"}, {\"timestamp\": \"2022-09-25T00:00:00\", \"reserves_usd\": 581116203.3273442, \"segment\": \"3Crv\"}, {\"timestamp\": \"2022-09-26T00:00:00\", \"reserves_usd\": 577824411.5912622, \"segment\": \"3Crv\"}, {\"timestamp\": \"2022-09-27T00:00:00\", \"reserves_usd\": 581375668.1372707, \"segment\": \"3Crv\"}, {\"timestamp\": \"2022-09-28T00:00:00\", \"reserves_usd\": 585879629.2398456, \"segment\": \"3Crv\"}, {\"timestamp\": \"2022-09-29T00:00:00\", \"reserves_usd\": 587935134.8051597, \"segment\": \"3Crv\"}, {\"timestamp\": \"2022-09-30T00:00:00\", \"reserves_usd\": 589753308.7083894, \"segment\": \"3Crv\"}, {\"timestamp\": \"2022-10-01T00:00:00\", \"reserves_usd\": 570014638.5691096, \"segment\": \"3Crv\"}, {\"timestamp\": \"2022-10-02T00:00:00\", \"reserves_usd\": 589186851.178222, \"segment\": \"3Crv\"}, {\"timestamp\": \"2022-10-03T00:00:00\", \"reserves_usd\": 589860054.2316624, \"segment\": \"3Crv\"}, {\"timestamp\": \"2022-10-04T00:00:00\", \"reserves_usd\": 587994341.2756206, \"segment\": \"3Crv\"}, {\"timestamp\": \"2022-10-05T00:00:00\", \"reserves_usd\": 580326624.4780316, \"segment\": \"3Crv\"}, {\"timestamp\": \"2022-10-06T00:00:00\", \"reserves_usd\": 577062537.1637475, \"segment\": \"3Crv\"}, {\"timestamp\": \"2022-10-07T00:00:00\", \"reserves_usd\": 580221522.8251086, \"segment\": \"3Crv\"}, {\"timestamp\": \"2022-10-08T00:00:00\", \"reserves_usd\": 576317942.2069857, \"segment\": \"3Crv\"}, {\"timestamp\": \"2022-10-09T00:00:00\", \"reserves_usd\": 577049927.6499727, \"segment\": \"3Crv\"}, {\"timestamp\": \"2022-10-10T00:00:00\", \"reserves_usd\": 578035877.5478638, \"segment\": \"3Crv\"}, {\"timestamp\": \"2022-10-11T00:00:00\", \"reserves_usd\": 577997719.0081748, \"segment\": \"3Crv\"}, {\"timestamp\": \"2022-10-12T00:00:00\", \"reserves_usd\": 575855056.7173945, \"segment\": \"3Crv\"}, {\"timestamp\": \"2022-10-13T00:00:00\", \"reserves_usd\": 572292751.1994894, \"segment\": \"3Crv\"}, {\"timestamp\": \"2022-10-14T00:00:00\", \"reserves_usd\": 570872585.929514, \"segment\": \"3Crv\"}, {\"timestamp\": \"2022-10-15T00:00:00\", \"reserves_usd\": 568704234.620642, \"segment\": \"3Crv\"}, {\"timestamp\": \"2022-10-16T00:00:00\", \"reserves_usd\": 568845786.5483382, \"segment\": \"3Crv\"}, {\"timestamp\": \"2022-10-17T00:00:00\", \"reserves_usd\": 570756678.600078, \"segment\": \"3Crv\"}, {\"timestamp\": \"2022-10-18T00:00:00\", \"reserves_usd\": 566262747.4030038, \"segment\": \"3Crv\"}, {\"timestamp\": \"2022-10-19T00:00:00\", \"reserves_usd\": 561518735.3141186, \"segment\": \"3Crv\"}, {\"timestamp\": \"2022-10-20T00:00:00\", \"reserves_usd\": 558506563.1978505, \"segment\": \"3Crv\"}, {\"timestamp\": \"2022-10-21T00:00:00\", \"reserves_usd\": 540260455.8548477, \"segment\": \"3Crv\"}, {\"timestamp\": \"2022-10-22T00:00:00\", \"reserves_usd\": 507395574.03977245, \"segment\": \"3Crv\"}, {\"timestamp\": \"2022-10-23T00:00:00\", \"reserves_usd\": 509149155.03541917, \"segment\": \"3Crv\"}, {\"timestamp\": \"2022-10-24T00:00:00\", \"reserves_usd\": 511664960.0463919, \"segment\": \"3Crv\"}, {\"timestamp\": \"2022-10-25T00:00:00\", \"reserves_usd\": 505852294.3623009, \"segment\": \"3Crv\"}, {\"timestamp\": \"2022-10-26T00:00:00\", \"reserves_usd\": 497454490.04476005, \"segment\": \"3Crv\"}, {\"timestamp\": \"2022-10-27T00:00:00\", \"reserves_usd\": 485706116.9402077, \"segment\": \"3Crv\"}, {\"timestamp\": \"2022-10-28T00:00:00\", \"reserves_usd\": 486164419.36813986, \"segment\": \"3Crv\"}, {\"timestamp\": \"2022-10-29T00:00:00\", \"reserves_usd\": 489950923.82853603, \"segment\": \"3Crv\"}, {\"timestamp\": \"2022-10-30T00:00:00\", \"reserves_usd\": 495515373.8641012, \"segment\": \"3Crv\"}, {\"timestamp\": \"2022-10-31T00:00:00\", \"reserves_usd\": 490555454.1871704, \"segment\": \"3Crv\"}, {\"timestamp\": \"2022-11-01T00:00:00\", \"reserves_usd\": 497269236.2067015, \"segment\": \"3Crv\"}, {\"timestamp\": \"2022-11-02T00:00:00\", \"reserves_usd\": 505758115.272566, \"segment\": \"3Crv\"}, {\"timestamp\": \"2022-11-03T00:00:00\", \"reserves_usd\": 510293178.87114954, \"segment\": \"3Crv\"}, {\"timestamp\": \"2022-11-04T00:00:00\", \"reserves_usd\": 503635658.5112056, \"segment\": \"3Crv\"}, {\"timestamp\": \"2022-11-05T00:00:00\", \"reserves_usd\": 502199406.84748304, \"segment\": \"3Crv\"}, {\"timestamp\": \"2022-11-06T00:00:00\", \"reserves_usd\": 502111128.56189567, \"segment\": \"3Crv\"}, {\"timestamp\": \"2022-11-07T00:00:00\", \"reserves_usd\": 509029415.63986295, \"segment\": \"3Crv\"}, {\"timestamp\": \"2022-11-08T00:00:00\", \"reserves_usd\": 505541063.31459314, \"segment\": \"3Crv\"}, {\"timestamp\": \"2022-11-09T00:00:00\", \"reserves_usd\": 498355932.90719134, \"segment\": \"3Crv\"}, {\"timestamp\": \"2022-11-10T00:00:00\", \"reserves_usd\": 492279482.4322499, \"segment\": \"3Crv\"}, {\"timestamp\": \"2022-11-11T00:00:00\", \"reserves_usd\": 402452687.469578, \"segment\": \"3Crv\"}, {\"timestamp\": \"2022-11-12T00:00:00\", \"reserves_usd\": 390348915.57100147, \"segment\": \"3Crv\"}, {\"timestamp\": \"2022-11-13T00:00:00\", \"reserves_usd\": 377855130.7401183, \"segment\": \"3Crv\"}, {\"timestamp\": \"2022-11-14T00:00:00\", \"reserves_usd\": 369512702.7499115, \"segment\": \"3Crv\"}, {\"timestamp\": \"2022-11-15T00:00:00\", \"reserves_usd\": 360250349.18736744, \"segment\": \"3Crv\"}, {\"timestamp\": \"2022-11-16T00:00:00\", \"reserves_usd\": 357668181.6853242, \"segment\": \"3Crv\"}, {\"timestamp\": \"2022-11-17T00:00:00\", \"reserves_usd\": 355138944.89433336, \"segment\": \"3Crv\"}, {\"timestamp\": \"2022-11-18T00:00:00\", \"reserves_usd\": 352064696.5207977, \"segment\": \"3Crv\"}, {\"timestamp\": \"2022-11-19T00:00:00\", \"reserves_usd\": 373839169.9222518, \"segment\": \"3Crv\"}, {\"timestamp\": \"2022-11-20T00:00:00\", \"reserves_usd\": 402454418.83728904, \"segment\": \"3Crv\"}, {\"timestamp\": \"2022-11-21T00:00:00\", \"reserves_usd\": 395988094.02429837, \"segment\": \"3Crv\"}, {\"timestamp\": \"2022-11-22T00:00:00\", \"reserves_usd\": 421106016.62672687, \"segment\": \"3Crv\"}, {\"timestamp\": \"2022-11-23T00:00:00\", \"reserves_usd\": 434673788.798613, \"segment\": \"3Crv\"}, {\"timestamp\": \"2022-11-24T00:00:00\", \"reserves_usd\": 433684055.26633966, \"segment\": \"3Crv\"}, {\"timestamp\": \"2022-11-25T00:00:00\", \"reserves_usd\": 438435986.49166745, \"segment\": \"3Crv\"}, {\"timestamp\": \"2022-11-26T00:00:00\", \"reserves_usd\": 440039021.235231, \"segment\": \"3Crv\"}, {\"timestamp\": \"2022-11-27T00:00:00\", \"reserves_usd\": 437745172.0231816, \"segment\": \"3Crv\"}, {\"timestamp\": \"2022-11-28T00:00:00\", \"reserves_usd\": 434301162.1521163, \"segment\": \"3Crv\"}, {\"timestamp\": \"2022-11-29T00:00:00\", \"reserves_usd\": 452970707.77539665, \"segment\": \"3Crv\"}, {\"timestamp\": \"2022-11-30T00:00:00\", \"reserves_usd\": 452841784.41088986, \"segment\": \"3Crv\"}, {\"timestamp\": \"2022-12-01T00:00:00\", \"reserves_usd\": 453124590.3480927, \"segment\": \"3Crv\"}, {\"timestamp\": \"2022-12-02T00:00:00\", \"reserves_usd\": 445964933.97068775, \"segment\": \"3Crv\"}, {\"timestamp\": \"2022-12-03T00:00:00\", \"reserves_usd\": 439890407.8570653, \"segment\": \"3Crv\"}, {\"timestamp\": \"2022-12-04T00:00:00\", \"reserves_usd\": 438053654.32761246, \"segment\": \"3Crv\"}, {\"timestamp\": \"2022-12-05T00:00:00\", \"reserves_usd\": 432125584.5305093, \"segment\": \"3Crv\"}, {\"timestamp\": \"2022-12-06T00:00:00\", \"reserves_usd\": 429397842.1611479, \"segment\": \"3Crv\"}, {\"timestamp\": \"2022-12-07T00:00:00\", \"reserves_usd\": 422355684.12510467, \"segment\": \"3Crv\"}, {\"timestamp\": \"2022-12-08T00:00:00\", \"reserves_usd\": 417197308.06068045, \"segment\": \"3Crv\"}, {\"timestamp\": \"2022-12-09T00:00:00\", \"reserves_usd\": 415660538.6206446, \"segment\": \"3Crv\"}, {\"timestamp\": \"2022-12-10T00:00:00\", \"reserves_usd\": 415813462.79710096, \"segment\": \"3Crv\"}, {\"timestamp\": \"2022-12-11T00:00:00\", \"reserves_usd\": 414185854.3988457, \"segment\": \"3Crv\"}, {\"timestamp\": \"2022-12-12T00:00:00\", \"reserves_usd\": 409728793.84039813, \"segment\": \"3Crv\"}, {\"timestamp\": \"2022-12-13T00:00:00\", \"reserves_usd\": 400753222.41287273, \"segment\": \"3Crv\"}, {\"timestamp\": \"2022-12-14T00:00:00\", \"reserves_usd\": 387058634.03975105, \"segment\": \"3Crv\"}, {\"timestamp\": \"2022-12-15T00:00:00\", \"reserves_usd\": 388227073.8169928, \"segment\": \"3Crv\"}, {\"timestamp\": \"2022-12-16T00:00:00\", \"reserves_usd\": 386851429.3663029, \"segment\": \"3Crv\"}, {\"timestamp\": \"2022-12-17T00:00:00\", \"reserves_usd\": 384511616.3644963, \"segment\": \"3Crv\"}, {\"timestamp\": \"2022-12-18T00:00:00\", \"reserves_usd\": 382673246.0866939, \"segment\": \"3Crv\"}, {\"timestamp\": \"2022-12-19T00:00:00\", \"reserves_usd\": 383888190.3649753, \"segment\": \"3Crv\"}, {\"timestamp\": \"2022-12-20T00:00:00\", \"reserves_usd\": 383463517.7878011, \"segment\": \"3Crv\"}, {\"timestamp\": \"2022-12-21T00:00:00\", \"reserves_usd\": 384040348.696591, \"segment\": \"3Crv\"}, {\"timestamp\": \"2022-12-22T00:00:00\", \"reserves_usd\": 380081864.0500232, \"segment\": \"3Crv\"}, {\"timestamp\": \"2022-12-23T00:00:00\", \"reserves_usd\": 380203704.19713396, \"segment\": \"3Crv\"}, {\"timestamp\": \"2022-12-24T00:00:00\", \"reserves_usd\": 383864814.74533194, \"segment\": \"3Crv\"}, {\"timestamp\": \"2022-12-25T00:00:00\", \"reserves_usd\": 384902152.1874923, \"segment\": \"3Crv\"}, {\"timestamp\": \"2022-12-26T00:00:00\", \"reserves_usd\": 384766162.28508496, \"segment\": \"3Crv\"}, {\"timestamp\": \"2022-12-27T00:00:00\", \"reserves_usd\": 385656884.17123765, \"segment\": \"3Crv\"}, {\"timestamp\": \"2022-12-28T00:00:00\", \"reserves_usd\": 381190741.18025523, \"segment\": \"3Crv\"}, {\"timestamp\": \"2022-12-29T00:00:00\", \"reserves_usd\": 385143530.6620833, \"segment\": \"3Crv\"}, {\"timestamp\": \"2022-12-30T00:00:00\", \"reserves_usd\": 381525850.88667786, \"segment\": \"3Crv\"}, {\"timestamp\": \"2022-12-31T00:00:00\", \"reserves_usd\": 382144017.8089997, \"segment\": \"3Crv\"}, {\"timestamp\": \"2023-01-01T00:00:00\", \"reserves_usd\": 382720392.0073909, \"segment\": \"3Crv\"}, {\"timestamp\": \"2023-01-02T00:00:00\", \"reserves_usd\": 383714759.1076759, \"segment\": \"3Crv\"}, {\"timestamp\": \"2023-01-03T00:00:00\", \"reserves_usd\": 385064951.0764426, \"segment\": \"3Crv\"}, {\"timestamp\": \"2023-01-04T00:00:00\", \"reserves_usd\": 380087732.9554764, \"segment\": \"3Crv\"}, {\"timestamp\": \"2023-01-05T00:00:00\", \"reserves_usd\": 379656138.87469983, \"segment\": \"3Crv\"}, {\"timestamp\": \"2023-01-06T00:00:00\", \"reserves_usd\": 377192667.8594417, \"segment\": \"3Crv\"}, {\"timestamp\": \"2023-01-07T00:00:00\", \"reserves_usd\": 373850469.2092884, \"segment\": \"3Crv\"}, {\"timestamp\": \"2023-01-08T00:00:00\", \"reserves_usd\": 376175874.7063233, \"segment\": \"3Crv\"}, {\"timestamp\": \"2023-01-09T00:00:00\", \"reserves_usd\": 376372025.8916551, \"segment\": \"3Crv\"}, {\"timestamp\": \"2023-01-10T00:00:00\", \"reserves_usd\": 378631014.2286698, \"segment\": \"3Crv\"}, {\"timestamp\": \"2023-01-11T00:00:00\", \"reserves_usd\": 377301300.0327635, \"segment\": \"3Crv\"}, {\"timestamp\": \"2023-01-12T00:00:00\", \"reserves_usd\": 377697358.69081247, \"segment\": \"3Crv\"}, {\"timestamp\": \"2023-01-13T00:00:00\", \"reserves_usd\": 376030025.0507344, \"segment\": \"3Crv\"}, {\"timestamp\": \"2020-10-30T00:00:00\", \"reserves_usd\": 25923659.384555135, \"segment\": \"paired asset\"}, {\"timestamp\": \"2020-10-31T00:00:00\", \"reserves_usd\": 27783383.793575726, \"segment\": \"paired asset\"}, {\"timestamp\": \"2020-11-01T00:00:00\", \"reserves_usd\": 28502647.72267104, \"segment\": \"paired asset\"}, {\"timestamp\": \"2020-11-02T00:00:00\", \"reserves_usd\": 28879088.512962937, \"segment\": \"paired asset\"}, {\"timestamp\": \"2020-11-03T00:00:00\", \"reserves_usd\": 28795929.683950905, \"segment\": \"paired asset\"}, {\"timestamp\": \"2020-11-04T00:00:00\", \"reserves_usd\": 29717117.02598252, \"segment\": \"paired asset\"}, {\"timestamp\": \"2020-11-05T00:00:00\", \"reserves_usd\": 30369944.81483717, \"segment\": \"paired asset\"}, {\"timestamp\": \"2020-11-06T00:00:00\", \"reserves_usd\": 30016345.53238006, \"segment\": \"paired asset\"}, {\"timestamp\": \"2020-11-07T00:00:00\", \"reserves_usd\": 31752294.43901856, \"segment\": \"paired asset\"}, {\"timestamp\": \"2020-11-08T00:00:00\", \"reserves_usd\": 44261036.956130326, \"segment\": \"paired asset\"}, {\"timestamp\": \"2020-11-09T00:00:00\", \"reserves_usd\": 45500056.42742042, \"segment\": \"paired asset\"}, {\"timestamp\": \"2020-11-10T00:00:00\", \"reserves_usd\": 49535775.30072221, \"segment\": \"paired asset\"}, {\"timestamp\": \"2020-11-11T00:00:00\", \"reserves_usd\": 49964285.23919003, \"segment\": \"paired asset\"}, {\"timestamp\": \"2020-11-12T00:00:00\", \"reserves_usd\": 50409221.21582763, \"segment\": \"paired asset\"}, {\"timestamp\": \"2020-11-13T00:00:00\", \"reserves_usd\": 51606429.50624405, \"segment\": \"paired asset\"}, {\"timestamp\": \"2020-11-14T00:00:00\", \"reserves_usd\": 52970275.862448744, \"segment\": \"paired asset\"}, {\"timestamp\": \"2020-11-15T00:00:00\", \"reserves_usd\": 58473397.58631818, \"segment\": \"paired asset\"}, {\"timestamp\": \"2020-11-16T00:00:00\", \"reserves_usd\": 60746379.32806368, \"segment\": \"paired asset\"}, {\"timestamp\": \"2020-11-17T00:00:00\", \"reserves_usd\": 63235630.587371945, \"segment\": \"paired asset\"}, {\"timestamp\": \"2020-11-18T00:00:00\", \"reserves_usd\": 63308485.36053157, \"segment\": \"paired asset\"}, {\"timestamp\": \"2020-11-19T00:00:00\", \"reserves_usd\": 60802714.09949608, \"segment\": \"paired asset\"}, {\"timestamp\": \"2020-11-20T00:00:00\", \"reserves_usd\": 66561159.585232936, \"segment\": \"paired asset\"}, {\"timestamp\": \"2020-11-21T00:00:00\", \"reserves_usd\": 69496266.32863113, \"segment\": \"paired asset\"}, {\"timestamp\": \"2020-11-22T00:00:00\", \"reserves_usd\": 70463996.29750697, \"segment\": \"paired asset\"}, {\"timestamp\": \"2020-11-23T00:00:00\", \"reserves_usd\": 76073853.37857474, \"segment\": \"paired asset\"}, {\"timestamp\": \"2020-11-24T00:00:00\", \"reserves_usd\": 80576024.94653763, \"segment\": \"paired asset\"}, {\"timestamp\": \"2020-11-25T00:00:00\", \"reserves_usd\": 83090270.19435687, \"segment\": \"paired asset\"}, {\"timestamp\": \"2020-11-26T00:00:00\", \"reserves_usd\": 85083196.28200398, \"segment\": \"paired asset\"}, {\"timestamp\": \"2020-11-27T00:00:00\", \"reserves_usd\": 87773456.59457582, \"segment\": \"paired asset\"}, {\"timestamp\": \"2020-11-28T00:00:00\", \"reserves_usd\": 88712424.18198326, \"segment\": \"paired asset\"}, {\"timestamp\": \"2020-11-29T00:00:00\", \"reserves_usd\": 89588059.63826805, \"segment\": \"paired asset\"}, {\"timestamp\": \"2020-11-30T00:00:00\", \"reserves_usd\": 90915678.84990783, \"segment\": \"paired asset\"}, {\"timestamp\": \"2020-12-01T00:00:00\", \"reserves_usd\": 91732107.8913281, \"segment\": \"paired asset\"}, {\"timestamp\": \"2020-12-02T00:00:00\", \"reserves_usd\": 93185267.85117435, \"segment\": \"paired asset\"}, {\"timestamp\": \"2020-12-03T00:00:00\", \"reserves_usd\": 94872523.89664689, \"segment\": \"paired asset\"}, {\"timestamp\": \"2020-12-04T00:00:00\", \"reserves_usd\": 97819493.95098737, \"segment\": \"paired asset\"}, {\"timestamp\": \"2020-12-05T00:00:00\", \"reserves_usd\": 100255722.81469575, \"segment\": \"paired asset\"}, {\"timestamp\": \"2020-12-06T00:00:00\", \"reserves_usd\": 103347681.00397074, \"segment\": \"paired asset\"}, {\"timestamp\": \"2020-12-07T00:00:00\", \"reserves_usd\": 103764052.71267483, \"segment\": \"paired asset\"}, {\"timestamp\": \"2020-12-08T00:00:00\", \"reserves_usd\": 104757241.18248194, \"segment\": \"paired asset\"}, {\"timestamp\": \"2020-12-09T00:00:00\", \"reserves_usd\": 106392740.43503694, \"segment\": \"paired asset\"}, {\"timestamp\": \"2020-12-10T00:00:00\", \"reserves_usd\": 107956847.69959307, \"segment\": \"paired asset\"}, {\"timestamp\": \"2020-12-11T00:00:00\", \"reserves_usd\": 107662465.92211121, \"segment\": \"paired asset\"}, {\"timestamp\": \"2020-12-12T00:00:00\", \"reserves_usd\": 108234420.39778617, \"segment\": \"paired asset\"}, {\"timestamp\": \"2020-12-13T00:00:00\", \"reserves_usd\": 108283963.97588906, \"segment\": \"paired asset\"}, {\"timestamp\": \"2020-12-14T00:00:00\", \"reserves_usd\": 107510317.54998454, \"segment\": \"paired asset\"}, {\"timestamp\": \"2020-12-15T00:00:00\", \"reserves_usd\": 108952353.32816824, \"segment\": \"paired asset\"}, {\"timestamp\": \"2020-12-16T00:00:00\", \"reserves_usd\": 109874508.69356498, \"segment\": \"paired asset\"}, {\"timestamp\": \"2020-12-17T00:00:00\", \"reserves_usd\": 110312364.39523157, \"segment\": \"paired asset\"}, {\"timestamp\": \"2020-12-18T00:00:00\", \"reserves_usd\": 109505897.67284532, \"segment\": \"paired asset\"}, {\"timestamp\": \"2020-12-19T00:00:00\", \"reserves_usd\": 96963206.26926744, \"segment\": \"paired asset\"}, {\"timestamp\": \"2020-12-20T00:00:00\", \"reserves_usd\": 97170353.12622266, \"segment\": \"paired asset\"}, {\"timestamp\": \"2020-12-21T00:00:00\", \"reserves_usd\": 99193033.9794484, \"segment\": \"paired asset\"}, {\"timestamp\": \"2020-12-22T00:00:00\", \"reserves_usd\": 102470384.63576847, \"segment\": \"paired asset\"}, {\"timestamp\": \"2020-12-23T00:00:00\", \"reserves_usd\": 103608714.7192334, \"segment\": \"paired asset\"}, {\"timestamp\": \"2020-12-24T00:00:00\", \"reserves_usd\": 102927524.98063591, \"segment\": \"paired asset\"}, {\"timestamp\": \"2020-12-25T00:00:00\", \"reserves_usd\": 104754630.5855614, \"segment\": \"paired asset\"}, {\"timestamp\": \"2020-12-26T00:00:00\", \"reserves_usd\": 105743228.72502497, \"segment\": \"paired asset\"}, {\"timestamp\": \"2020-12-27T00:00:00\", \"reserves_usd\": 107354804.81546669, \"segment\": \"paired asset\"}, {\"timestamp\": \"2020-12-28T00:00:00\", \"reserves_usd\": 107798139.99849504, \"segment\": \"paired asset\"}, {\"timestamp\": \"2020-12-29T00:00:00\", \"reserves_usd\": 110683231.4628252, \"segment\": \"paired asset\"}, {\"timestamp\": \"2020-12-30T00:00:00\", \"reserves_usd\": 111363889.02353211, \"segment\": \"paired asset\"}, {\"timestamp\": \"2020-12-31T00:00:00\", \"reserves_usd\": 101608259.46145734, \"segment\": \"paired asset\"}, {\"timestamp\": \"2021-01-01T00:00:00\", \"reserves_usd\": 99345616.90743239, \"segment\": \"paired asset\"}, {\"timestamp\": \"2021-01-02T00:00:00\", \"reserves_usd\": 98305425.90689132, \"segment\": \"paired asset\"}, {\"timestamp\": \"2021-01-03T00:00:00\", \"reserves_usd\": 97179897.01832011, \"segment\": \"paired asset\"}, {\"timestamp\": \"2021-01-04T00:00:00\", \"reserves_usd\": 94734819.50392744, \"segment\": \"paired asset\"}, {\"timestamp\": \"2021-01-05T00:00:00\", \"reserves_usd\": 97094080.09829055, \"segment\": \"paired asset\"}, {\"timestamp\": \"2021-01-06T00:00:00\", \"reserves_usd\": 96522046.56139648, \"segment\": \"paired asset\"}, {\"timestamp\": \"2021-01-07T00:00:00\", \"reserves_usd\": 99927303.15267532, \"segment\": \"paired asset\"}, {\"timestamp\": \"2021-01-08T00:00:00\", \"reserves_usd\": 99858808.72092147, \"segment\": \"paired asset\"}, {\"timestamp\": \"2021-01-09T00:00:00\", \"reserves_usd\": 101811098.40925366, \"segment\": \"paired asset\"}, {\"timestamp\": \"2021-01-10T00:00:00\", \"reserves_usd\": 102407621.03186758, \"segment\": \"paired asset\"}, {\"timestamp\": \"2021-01-11T00:00:00\", \"reserves_usd\": 102612412.32294375, \"segment\": \"paired asset\"}, {\"timestamp\": \"2021-01-12T00:00:00\", \"reserves_usd\": 101083969.42558998, \"segment\": \"paired asset\"}, {\"timestamp\": \"2021-01-13T00:00:00\", \"reserves_usd\": 100964634.49055415, \"segment\": \"paired asset\"}, {\"timestamp\": \"2021-01-14T00:00:00\", \"reserves_usd\": 100895729.93370783, \"segment\": \"paired asset\"}, {\"timestamp\": \"2021-01-15T00:00:00\", \"reserves_usd\": 100012012.42443708, \"segment\": \"paired asset\"}, {\"timestamp\": \"2021-01-16T00:00:00\", \"reserves_usd\": 100178712.41811839, \"segment\": \"paired asset\"}, {\"timestamp\": \"2021-01-17T00:00:00\", \"reserves_usd\": 101867164.5244567, \"segment\": \"paired asset\"}, {\"timestamp\": \"2021-01-18T00:00:00\", \"reserves_usd\": 110947024.67855932, \"segment\": \"paired asset\"}, {\"timestamp\": \"2021-01-19T00:00:00\", \"reserves_usd\": 113097021.9425194, \"segment\": \"paired asset\"}, {\"timestamp\": \"2021-01-20T00:00:00\", \"reserves_usd\": 127331948.02549078, \"segment\": \"paired asset\"}, {\"timestamp\": \"2021-01-21T00:00:00\", \"reserves_usd\": 131313298.686187, \"segment\": \"paired asset\"}, {\"timestamp\": \"2021-01-22T00:00:00\", \"reserves_usd\": 134048105.07404435, \"segment\": \"paired asset\"}, {\"timestamp\": \"2021-01-23T00:00:00\", \"reserves_usd\": 134983272.69177014, \"segment\": \"paired asset\"}, {\"timestamp\": \"2021-01-24T00:00:00\", \"reserves_usd\": 135638052.63127178, \"segment\": \"paired asset\"}, {\"timestamp\": \"2021-01-25T00:00:00\", \"reserves_usd\": 140907388.68427336, \"segment\": \"paired asset\"}, {\"timestamp\": \"2021-01-26T00:00:00\", \"reserves_usd\": 145244461.0520357, \"segment\": \"paired asset\"}, {\"timestamp\": \"2021-01-27T00:00:00\", \"reserves_usd\": 150393058.12295607, \"segment\": \"paired asset\"}, {\"timestamp\": \"2021-01-28T00:00:00\", \"reserves_usd\": 152276467.96514416, \"segment\": \"paired asset\"}, {\"timestamp\": \"2021-01-29T00:00:00\", \"reserves_usd\": 155828229.48661774, \"segment\": \"paired asset\"}, {\"timestamp\": \"2021-01-30T00:00:00\", \"reserves_usd\": 158847895.92446002, \"segment\": \"paired asset\"}, {\"timestamp\": \"2021-01-31T00:00:00\", \"reserves_usd\": 160375364.3728942, \"segment\": \"paired asset\"}, {\"timestamp\": \"2021-02-01T00:00:00\", \"reserves_usd\": 162073714.7507652, \"segment\": \"paired asset\"}, {\"timestamp\": \"2021-02-02T00:00:00\", \"reserves_usd\": 162317175.33580053, \"segment\": \"paired asset\"}, {\"timestamp\": \"2021-02-03T00:00:00\", \"reserves_usd\": 163473122.5069685, \"segment\": \"paired asset\"}, {\"timestamp\": \"2021-02-04T00:00:00\", \"reserves_usd\": 170251349.69862998, \"segment\": \"paired asset\"}, {\"timestamp\": \"2021-02-05T00:00:00\", \"reserves_usd\": 174576000.25800863, \"segment\": \"paired asset\"}, {\"timestamp\": \"2021-02-06T00:00:00\", \"reserves_usd\": 182014320.0399508, \"segment\": \"paired asset\"}, {\"timestamp\": \"2021-02-07T00:00:00\", \"reserves_usd\": 186951359.89918202, \"segment\": \"paired asset\"}, {\"timestamp\": \"2021-02-08T00:00:00\", \"reserves_usd\": 191819969.2677272, \"segment\": \"paired asset\"}, {\"timestamp\": \"2021-02-09T00:00:00\", \"reserves_usd\": 196533121.23590794, \"segment\": \"paired asset\"}, {\"timestamp\": \"2021-02-10T00:00:00\", \"reserves_usd\": 208815858.0655636, \"segment\": \"paired asset\"}, {\"timestamp\": \"2021-02-11T00:00:00\", \"reserves_usd\": 214439810.8574018, \"segment\": \"paired asset\"}, {\"timestamp\": \"2021-02-12T00:00:00\", \"reserves_usd\": 214848920.5475617, \"segment\": \"paired asset\"}, {\"timestamp\": \"2021-02-13T00:00:00\", \"reserves_usd\": 217139180.48628098, \"segment\": \"paired asset\"}, {\"timestamp\": \"2021-02-14T00:00:00\", \"reserves_usd\": 221162746.3634352, \"segment\": \"paired asset\"}, {\"timestamp\": \"2021-02-15T00:00:00\", \"reserves_usd\": 227121920.0686212, \"segment\": \"paired asset\"}, {\"timestamp\": \"2021-02-16T00:00:00\", \"reserves_usd\": 235891692.28289178, \"segment\": \"paired asset\"}, {\"timestamp\": \"2021-02-17T00:00:00\", \"reserves_usd\": 237135500.6383368, \"segment\": \"paired asset\"}, {\"timestamp\": \"2021-02-18T00:00:00\", \"reserves_usd\": 249836056.64177373, \"segment\": \"paired asset\"}, {\"timestamp\": \"2021-02-19T00:00:00\", \"reserves_usd\": 252908786.97302487, \"segment\": \"paired asset\"}, {\"timestamp\": \"2021-02-20T00:00:00\", \"reserves_usd\": 256498565.72411048, \"segment\": \"paired asset\"}, {\"timestamp\": \"2021-02-21T00:00:00\", \"reserves_usd\": 258707779.54728535, \"segment\": \"paired asset\"}, {\"timestamp\": \"2021-02-22T00:00:00\", \"reserves_usd\": 260155355.01224887, \"segment\": \"paired asset\"}, {\"timestamp\": \"2021-02-23T00:00:00\", \"reserves_usd\": 263750909.81852478, \"segment\": \"paired asset\"}, {\"timestamp\": \"2021-02-24T00:00:00\", \"reserves_usd\": 265000113.23781133, \"segment\": \"paired asset\"}, {\"timestamp\": \"2021-02-25T00:00:00\", \"reserves_usd\": 263877280.6761049, \"segment\": \"paired asset\"}, {\"timestamp\": \"2021-02-26T00:00:00\", \"reserves_usd\": 271019556.3061414, \"segment\": \"paired asset\"}, {\"timestamp\": \"2021-02-27T00:00:00\", \"reserves_usd\": 266100783.61115292, \"segment\": \"paired asset\"}, {\"timestamp\": \"2021-02-28T00:00:00\", \"reserves_usd\": 266766482.00399572, \"segment\": \"paired asset\"}, {\"timestamp\": \"2021-03-01T00:00:00\", \"reserves_usd\": 270323074.18252754, \"segment\": \"paired asset\"}, {\"timestamp\": \"2021-03-02T00:00:00\", \"reserves_usd\": 264806815.53855735, \"segment\": \"paired asset\"}, {\"timestamp\": \"2021-03-03T00:00:00\", \"reserves_usd\": 266576983.11812833, \"segment\": \"paired asset\"}, {\"timestamp\": \"2021-03-04T00:00:00\", \"reserves_usd\": 281575740.37500125, \"segment\": \"paired asset\"}, {\"timestamp\": \"2021-03-05T00:00:00\", \"reserves_usd\": 301304003.2637097, \"segment\": \"paired asset\"}, {\"timestamp\": \"2021-03-06T00:00:00\", \"reserves_usd\": 310895036.00029594, \"segment\": \"paired asset\"}, {\"timestamp\": \"2021-03-07T00:00:00\", \"reserves_usd\": 313721886.28948843, \"segment\": \"paired asset\"}, {\"timestamp\": \"2021-03-08T00:00:00\", \"reserves_usd\": 311258762.5807901, \"segment\": \"paired asset\"}, {\"timestamp\": \"2021-03-09T00:00:00\", \"reserves_usd\": 439442249.08579946, \"segment\": \"paired asset\"}, {\"timestamp\": \"2021-03-10T00:00:00\", \"reserves_usd\": 453488424.41449136, \"segment\": \"paired asset\"}, {\"timestamp\": \"2021-03-11T00:00:00\", \"reserves_usd\": 457558417.0598905, \"segment\": \"paired asset\"}, {\"timestamp\": \"2021-03-12T00:00:00\", \"reserves_usd\": 453279390.7649461, \"segment\": \"paired asset\"}, {\"timestamp\": \"2021-03-13T00:00:00\", \"reserves_usd\": 458021373.2436303, \"segment\": \"paired asset\"}, {\"timestamp\": \"2021-03-14T00:00:00\", \"reserves_usd\": 458708643.6791081, \"segment\": \"paired asset\"}, {\"timestamp\": \"2021-03-15T00:00:00\", \"reserves_usd\": 470043366.18802243, \"segment\": \"paired asset\"}, {\"timestamp\": \"2021-03-16T00:00:00\", \"reserves_usd\": 479201434.0829919, \"segment\": \"paired asset\"}, {\"timestamp\": \"2021-03-17T00:00:00\", \"reserves_usd\": 482884807.9779041, \"segment\": \"paired asset\"}, {\"timestamp\": \"2021-03-18T00:00:00\", \"reserves_usd\": 500944530.6193379, \"segment\": \"paired asset\"}, {\"timestamp\": \"2021-03-19T00:00:00\", \"reserves_usd\": 518226248.35806036, \"segment\": \"paired asset\"}, {\"timestamp\": \"2021-03-20T00:00:00\", \"reserves_usd\": 530156912.85555446, \"segment\": \"paired asset\"}, {\"timestamp\": \"2021-03-21T00:00:00\", \"reserves_usd\": 538358176.3654656, \"segment\": \"paired asset\"}, {\"timestamp\": \"2021-03-22T00:00:00\", \"reserves_usd\": 539166424.2757267, \"segment\": \"paired asset\"}, {\"timestamp\": \"2021-03-23T00:00:00\", \"reserves_usd\": 542118360.6137135, \"segment\": \"paired asset\"}, {\"timestamp\": \"2021-03-24T00:00:00\", \"reserves_usd\": 542383605.1623043, \"segment\": \"paired asset\"}, {\"timestamp\": \"2021-03-25T00:00:00\", \"reserves_usd\": 536270769.8385423, \"segment\": \"paired asset\"}, {\"timestamp\": \"2021-03-26T00:00:00\", \"reserves_usd\": 535339651.8201269, \"segment\": \"paired asset\"}, {\"timestamp\": \"2021-03-27T00:00:00\", \"reserves_usd\": 539094611.0622839, \"segment\": \"paired asset\"}, {\"timestamp\": \"2021-03-28T00:00:00\", \"reserves_usd\": 537010432.4903818, \"segment\": \"paired asset\"}, {\"timestamp\": \"2021-03-29T00:00:00\", \"reserves_usd\": 554346472.0193269, \"segment\": \"paired asset\"}, {\"timestamp\": \"2021-03-30T00:00:00\", \"reserves_usd\": 565123528.2989175, \"segment\": \"paired asset\"}, {\"timestamp\": \"2021-03-31T00:00:00\", \"reserves_usd\": 572897457.0790771, \"segment\": \"paired asset\"}, {\"timestamp\": \"2021-04-01T00:00:00\", \"reserves_usd\": 573288279.801086, \"segment\": \"paired asset\"}, {\"timestamp\": \"2021-04-02T00:00:00\", \"reserves_usd\": 585180051.3073258, \"segment\": \"paired asset\"}, {\"timestamp\": \"2021-04-03T00:00:00\", \"reserves_usd\": 610911202.2386923, \"segment\": \"paired asset\"}, {\"timestamp\": \"2021-04-04T00:00:00\", \"reserves_usd\": 627457301.1045583, \"segment\": \"paired asset\"}, {\"timestamp\": \"2021-04-05T00:00:00\", \"reserves_usd\": 633878352.8848515, \"segment\": \"paired asset\"}, {\"timestamp\": \"2021-04-06T00:00:00\", \"reserves_usd\": 638262449.4710221, \"segment\": \"paired asset\"}, {\"timestamp\": \"2021-04-07T00:00:00\", \"reserves_usd\": 645823546.0875776, \"segment\": \"paired asset\"}, {\"timestamp\": \"2021-04-08T00:00:00\", \"reserves_usd\": 661577539.2503722, \"segment\": \"paired asset\"}, {\"timestamp\": \"2021-04-09T00:00:00\", \"reserves_usd\": 655751655.9034966, \"segment\": \"paired asset\"}, {\"timestamp\": \"2021-04-10T00:00:00\", \"reserves_usd\": 668266135.7469836, \"segment\": \"paired asset\"}, {\"timestamp\": \"2021-04-11T00:00:00\", \"reserves_usd\": 668249702.6538181, \"segment\": \"paired asset\"}, {\"timestamp\": \"2021-04-12T00:00:00\", \"reserves_usd\": 617827729.0450871, \"segment\": \"paired asset\"}, {\"timestamp\": \"2021-04-13T00:00:00\", \"reserves_usd\": 629513817.6895865, \"segment\": \"paired asset\"}, {\"timestamp\": \"2021-04-14T00:00:00\", \"reserves_usd\": 620747244.3249698, \"segment\": \"paired asset\"}, {\"timestamp\": \"2021-04-15T00:00:00\", \"reserves_usd\": 628100399.0736389, \"segment\": \"paired asset\"}, {\"timestamp\": \"2021-04-16T00:00:00\", \"reserves_usd\": 641771576.3781568, \"segment\": \"paired asset\"}, {\"timestamp\": \"2021-04-17T00:00:00\", \"reserves_usd\": 659526985.5085025, \"segment\": \"paired asset\"}, {\"timestamp\": \"2021-04-18T00:00:00\", \"reserves_usd\": 665231767.819957, \"segment\": \"paired asset\"}, {\"timestamp\": \"2021-04-19T00:00:00\", \"reserves_usd\": 672941733.6112984, \"segment\": \"paired asset\"}, {\"timestamp\": \"2021-04-20T00:00:00\", \"reserves_usd\": 682805456.7045083, \"segment\": \"paired asset\"}, {\"timestamp\": \"2021-04-21T00:00:00\", \"reserves_usd\": 681582257.3622048, \"segment\": \"paired asset\"}, {\"timestamp\": \"2021-04-22T00:00:00\", \"reserves_usd\": 718468397.4073472, \"segment\": \"paired asset\"}, {\"timestamp\": \"2021-04-23T00:00:00\", \"reserves_usd\": 726511659.9688337, \"segment\": \"paired asset\"}, {\"timestamp\": \"2021-04-24T00:00:00\", \"reserves_usd\": 725523365.6839138, \"segment\": \"paired asset\"}, {\"timestamp\": \"2021-04-25T00:00:00\", \"reserves_usd\": 739372163.7940296, \"segment\": \"paired asset\"}, {\"timestamp\": \"2021-04-26T00:00:00\", \"reserves_usd\": 748413056.2494726, \"segment\": \"paired asset\"}, {\"timestamp\": \"2021-04-27T00:00:00\", \"reserves_usd\": 703019218.2976856, \"segment\": \"paired asset\"}, {\"timestamp\": \"2021-04-28T00:00:00\", \"reserves_usd\": 701214597.2616473, \"segment\": \"paired asset\"}, {\"timestamp\": \"2021-04-29T00:00:00\", \"reserves_usd\": 726881748.1608701, \"segment\": \"paired asset\"}, {\"timestamp\": \"2021-04-30T00:00:00\", \"reserves_usd\": 736212192.4976703, \"segment\": \"paired asset\"}, {\"timestamp\": \"2021-05-01T00:00:00\", \"reserves_usd\": 744505354.7837383, \"segment\": \"paired asset\"}, {\"timestamp\": \"2021-05-02T00:00:00\", \"reserves_usd\": 769968937.3576523, \"segment\": \"paired asset\"}, {\"timestamp\": \"2021-05-03T00:00:00\", \"reserves_usd\": 775743700.858559, \"segment\": \"paired asset\"}, {\"timestamp\": \"2021-05-04T00:00:00\", \"reserves_usd\": 783921271.1506782, \"segment\": \"paired asset\"}, {\"timestamp\": \"2021-05-05T00:00:00\", \"reserves_usd\": 819639653.5359056, \"segment\": \"paired asset\"}, {\"timestamp\": \"2021-05-06T00:00:00\", \"reserves_usd\": 829445031.8870786, \"segment\": \"paired asset\"}, {\"timestamp\": \"2021-05-07T00:00:00\", \"reserves_usd\": 828694590.9945706, \"segment\": \"paired asset\"}, {\"timestamp\": \"2021-05-08T00:00:00\", \"reserves_usd\": 862183212.7737951, \"segment\": \"paired asset\"}, {\"timestamp\": \"2021-05-09T00:00:00\", \"reserves_usd\": 878216060.5465337, \"segment\": \"paired asset\"}, {\"timestamp\": \"2021-05-10T00:00:00\", \"reserves_usd\": 925389891.2076998, \"segment\": \"paired asset\"}, {\"timestamp\": \"2021-05-11T00:00:00\", \"reserves_usd\": 938515872.0195731, \"segment\": \"paired asset\"}, {\"timestamp\": \"2021-05-12T00:00:00\", \"reserves_usd\": 952073617.29072, \"segment\": \"paired asset\"}, {\"timestamp\": \"2021-05-13T00:00:00\", \"reserves_usd\": 960875578.7703815, \"segment\": \"paired asset\"}, {\"timestamp\": \"2021-05-14T00:00:00\", \"reserves_usd\": 953820871.2864345, \"segment\": \"paired asset\"}, {\"timestamp\": \"2021-05-15T00:00:00\", \"reserves_usd\": 967976365.403785, \"segment\": \"paired asset\"}, {\"timestamp\": \"2021-05-16T00:00:00\", \"reserves_usd\": 943737079.6716014, \"segment\": \"paired asset\"}, {\"timestamp\": \"2021-05-17T00:00:00\", \"reserves_usd\": 938714062.556369, \"segment\": \"paired asset\"}, {\"timestamp\": \"2021-05-18T00:00:00\", \"reserves_usd\": 952283134.0246443, \"segment\": \"paired asset\"}, {\"timestamp\": \"2021-05-19T00:00:00\", \"reserves_usd\": 941704984.5550709, \"segment\": \"paired asset\"}, {\"timestamp\": \"2021-05-20T00:00:00\", \"reserves_usd\": 792773760.8489861, \"segment\": \"paired asset\"}, {\"timestamp\": \"2021-05-21T00:00:00\", \"reserves_usd\": 801852492.8804344, \"segment\": \"paired asset\"}, {\"timestamp\": \"2021-05-22T00:00:00\", \"reserves_usd\": 788282284.1912442, \"segment\": \"paired asset\"}, {\"timestamp\": \"2021-05-23T00:00:00\", \"reserves_usd\": 766918047.4849576, \"segment\": \"paired asset\"}, {\"timestamp\": \"2021-05-24T00:00:00\", \"reserves_usd\": 686128474.5994167, \"segment\": \"paired asset\"}, {\"timestamp\": \"2021-05-25T00:00:00\", \"reserves_usd\": 673668236.9050481, \"segment\": \"paired asset\"}, {\"timestamp\": \"2021-05-26T00:00:00\", \"reserves_usd\": 651825780.5735171, \"segment\": \"paired asset\"}, {\"timestamp\": \"2021-05-27T00:00:00\", \"reserves_usd\": 673638632.6430414, \"segment\": \"paired asset\"}, {\"timestamp\": \"2021-05-28T00:00:00\", \"reserves_usd\": 679065520.6856745, \"segment\": \"paired asset\"}, {\"timestamp\": \"2021-05-29T00:00:00\", \"reserves_usd\": 701265306.0912969, \"segment\": \"paired asset\"}, {\"timestamp\": \"2021-05-30T00:00:00\", \"reserves_usd\": 690699752.3538368, \"segment\": \"paired asset\"}, {\"timestamp\": \"2021-05-31T00:00:00\", \"reserves_usd\": 690376448.5532397, \"segment\": \"paired asset\"}, {\"timestamp\": \"2021-06-01T00:00:00\", \"reserves_usd\": 698460325.824298, \"segment\": \"paired asset\"}, {\"timestamp\": \"2021-06-02T00:00:00\", \"reserves_usd\": 702063138.4841315, \"segment\": \"paired asset\"}, {\"timestamp\": \"2021-06-03T00:00:00\", \"reserves_usd\": 733846871.2765962, \"segment\": \"paired asset\"}, {\"timestamp\": \"2021-06-04T00:00:00\", \"reserves_usd\": 808170952.5838009, \"segment\": \"paired asset\"}, {\"timestamp\": \"2021-06-05T00:00:00\", \"reserves_usd\": 842318629.0682088, \"segment\": \"paired asset\"}, {\"timestamp\": \"2021-06-06T00:00:00\", \"reserves_usd\": 924413701.1632458, \"segment\": \"paired asset\"}, {\"timestamp\": \"2021-06-07T00:00:00\", \"reserves_usd\": 965223188.9283371, \"segment\": \"paired asset\"}, {\"timestamp\": \"2021-06-08T00:00:00\", \"reserves_usd\": 1016169549.0638444, \"segment\": \"paired asset\"}, {\"timestamp\": \"2021-06-09T00:00:00\", \"reserves_usd\": 1013216340.8524505, \"segment\": \"paired asset\"}, {\"timestamp\": \"2021-06-10T00:00:00\", \"reserves_usd\": 1008181205.3566142, \"segment\": \"paired asset\"}, {\"timestamp\": \"2021-06-11T00:00:00\", \"reserves_usd\": 1074431462.9452412, \"segment\": \"paired asset\"}, {\"timestamp\": \"2021-06-12T00:00:00\", \"reserves_usd\": 1077112595.671748, \"segment\": \"paired asset\"}, {\"timestamp\": \"2021-06-13T00:00:00\", \"reserves_usd\": 1102601068.7305431, \"segment\": \"paired asset\"}, {\"timestamp\": \"2021-06-14T00:00:00\", \"reserves_usd\": 1146268924.66266, \"segment\": \"paired asset\"}, {\"timestamp\": \"2021-06-15T00:00:00\", \"reserves_usd\": 1207897236.1683085, \"segment\": \"paired asset\"}, {\"timestamp\": \"2021-06-16T00:00:00\", \"reserves_usd\": 1275257645.779773, \"segment\": \"paired asset\"}, {\"timestamp\": \"2021-06-17T00:00:00\", \"reserves_usd\": 1262440865.7961044, \"segment\": \"paired asset\"}, {\"timestamp\": \"2021-06-18T00:00:00\", \"reserves_usd\": 1266769648.2867627, \"segment\": \"paired asset\"}, {\"timestamp\": \"2021-06-19T00:00:00\", \"reserves_usd\": 1235757808.159107, \"segment\": \"paired asset\"}, {\"timestamp\": \"2021-06-20T00:00:00\", \"reserves_usd\": 1226569351.8809814, \"segment\": \"paired asset\"}, {\"timestamp\": \"2021-06-21T00:00:00\", \"reserves_usd\": 1233225751.694907, \"segment\": \"paired asset\"}, {\"timestamp\": \"2021-06-22T00:00:00\", \"reserves_usd\": 1028715416.0539662, \"segment\": \"paired asset\"}, {\"timestamp\": \"2021-06-23T00:00:00\", \"reserves_usd\": 976469093.8389914, \"segment\": \"paired asset\"}, {\"timestamp\": \"2021-06-24T00:00:00\", \"reserves_usd\": 1040640112.9700075, \"segment\": \"paired asset\"}, {\"timestamp\": \"2021-06-25T00:00:00\", \"reserves_usd\": 1038405707.8342277, \"segment\": \"paired asset\"}, {\"timestamp\": \"2021-06-26T00:00:00\", \"reserves_usd\": 1057223672.8162333, \"segment\": \"paired asset\"}, {\"timestamp\": \"2021-06-27T00:00:00\", \"reserves_usd\": 1063004706.80232, \"segment\": \"paired asset\"}, {\"timestamp\": \"2021-06-28T00:00:00\", \"reserves_usd\": 1057798040.1069982, \"segment\": \"paired asset\"}, {\"timestamp\": \"2021-06-29T00:00:00\", \"reserves_usd\": 1075268530.597392, \"segment\": \"paired asset\"}, {\"timestamp\": \"2021-06-30T00:00:00\", \"reserves_usd\": 1026914876.890776, \"segment\": \"paired asset\"}, {\"timestamp\": \"2021-07-01T00:00:00\", \"reserves_usd\": 1042080565.2495044, \"segment\": \"paired asset\"}, {\"timestamp\": \"2021-07-02T00:00:00\", \"reserves_usd\": 1093284799.8438792, \"segment\": \"paired asset\"}, {\"timestamp\": \"2021-07-03T00:00:00\", \"reserves_usd\": 1097818332.0718186, \"segment\": \"paired asset\"}, {\"timestamp\": \"2021-07-04T00:00:00\", \"reserves_usd\": 1105313352.935762, \"segment\": \"paired asset\"}, {\"timestamp\": \"2021-07-05T00:00:00\", \"reserves_usd\": 1115811965.4118469, \"segment\": \"paired asset\"}, {\"timestamp\": \"2021-07-06T00:00:00\", \"reserves_usd\": 1116297761.5849345, \"segment\": \"paired asset\"}, {\"timestamp\": \"2021-07-07T00:00:00\", \"reserves_usd\": 1121376831.9327762, \"segment\": \"paired asset\"}, {\"timestamp\": \"2021-07-08T00:00:00\", \"reserves_usd\": 1120088628.0822651, \"segment\": \"paired asset\"}, {\"timestamp\": \"2021-07-09T00:00:00\", \"reserves_usd\": 1124048542.1468303, \"segment\": \"paired asset\"}, {\"timestamp\": \"2021-07-10T00:00:00\", \"reserves_usd\": 1126935675.2881353, \"segment\": \"paired asset\"}, {\"timestamp\": \"2021-07-11T00:00:00\", \"reserves_usd\": 1119575734.4493835, \"segment\": \"paired asset\"}, {\"timestamp\": \"2021-07-12T00:00:00\", \"reserves_usd\": 1126055147.0871332, \"segment\": \"paired asset\"}, {\"timestamp\": \"2021-07-13T00:00:00\", \"reserves_usd\": 1128376452.392406, \"segment\": \"paired asset\"}, {\"timestamp\": \"2021-07-14T00:00:00\", \"reserves_usd\": 1120637299.7240763, \"segment\": \"paired asset\"}, {\"timestamp\": \"2021-07-15T00:00:00\", \"reserves_usd\": 1108428516.1024895, \"segment\": \"paired asset\"}, {\"timestamp\": \"2021-07-16T00:00:00\", \"reserves_usd\": 1108040808.5499578, \"segment\": \"paired asset\"}, {\"timestamp\": \"2021-07-17T00:00:00\", \"reserves_usd\": 1114912633.5162792, \"segment\": \"paired asset\"}, {\"timestamp\": \"2021-07-18T00:00:00\", \"reserves_usd\": 1062510994.945368, \"segment\": \"paired asset\"}, {\"timestamp\": \"2021-07-19T00:00:00\", \"reserves_usd\": 1058556522.6535809, \"segment\": \"paired asset\"}, {\"timestamp\": \"2021-07-20T00:00:00\", \"reserves_usd\": 1055991221.0654439, \"segment\": \"paired asset\"}, {\"timestamp\": \"2021-07-21T00:00:00\", \"reserves_usd\": 1050051388.8318818, \"segment\": \"paired asset\"}, {\"timestamp\": \"2021-07-22T00:00:00\", \"reserves_usd\": 1053893101.3124063, \"segment\": \"paired asset\"}, {\"timestamp\": \"2021-07-23T00:00:00\", \"reserves_usd\": 1051115229.7889289, \"segment\": \"paired asset\"}, {\"timestamp\": \"2021-07-24T00:00:00\", \"reserves_usd\": 1066001578.1326638, \"segment\": \"paired asset\"}, {\"timestamp\": \"2021-07-25T00:00:00\", \"reserves_usd\": 1096203034.9830987, \"segment\": \"paired asset\"}, {\"timestamp\": \"2021-07-26T00:00:00\", \"reserves_usd\": 1096746313.9902372, \"segment\": \"paired asset\"}, {\"timestamp\": \"2021-07-27T00:00:00\", \"reserves_usd\": 1128891842.9189901, \"segment\": \"paired asset\"}, {\"timestamp\": \"2021-07-28T00:00:00\", \"reserves_usd\": 1134931252.6203933, \"segment\": \"paired asset\"}, {\"timestamp\": \"2021-07-29T00:00:00\", \"reserves_usd\": 1154787605.437467, \"segment\": \"paired asset\"}, {\"timestamp\": \"2021-07-30T00:00:00\", \"reserves_usd\": 1154814551.4786348, \"segment\": \"paired asset\"}, {\"timestamp\": \"2021-07-31T00:00:00\", \"reserves_usd\": 1159742654.411596, \"segment\": \"paired asset\"}, {\"timestamp\": \"2021-08-01T00:00:00\", \"reserves_usd\": 1148787787.3505075, \"segment\": \"paired asset\"}, {\"timestamp\": \"2021-08-02T00:00:00\", \"reserves_usd\": 1163406359.6736739, \"segment\": \"paired asset\"}, {\"timestamp\": \"2021-08-03T00:00:00\", \"reserves_usd\": 1189793174.743191, \"segment\": \"paired asset\"}, {\"timestamp\": \"2021-08-04T00:00:00\", \"reserves_usd\": 1184711973.696829, \"segment\": \"paired asset\"}, {\"timestamp\": \"2021-08-05T00:00:00\", \"reserves_usd\": 1160992877.9375045, \"segment\": \"paired asset\"}, {\"timestamp\": \"2021-08-06T00:00:00\", \"reserves_usd\": 1163892550.426258, \"segment\": \"paired asset\"}, {\"timestamp\": \"2021-08-07T00:00:00\", \"reserves_usd\": 1170684055.3532317, \"segment\": \"paired asset\"}, {\"timestamp\": \"2021-08-08T00:00:00\", \"reserves_usd\": 1189619644.2165072, \"segment\": \"paired asset\"}, {\"timestamp\": \"2021-08-09T00:00:00\", \"reserves_usd\": 1193078674.7557483, \"segment\": \"paired asset\"}, {\"timestamp\": \"2021-08-10T00:00:00\", \"reserves_usd\": 1175385499.114472, \"segment\": \"paired asset\"}, {\"timestamp\": \"2021-08-11T00:00:00\", \"reserves_usd\": 1179087879.2802432, \"segment\": \"paired asset\"}, {\"timestamp\": \"2021-08-12T00:00:00\", \"reserves_usd\": 1176111340.3216178, \"segment\": \"paired asset\"}, {\"timestamp\": \"2021-08-13T00:00:00\", \"reserves_usd\": 1204310096.0973477, \"segment\": \"paired asset\"}, {\"timestamp\": \"2021-08-14T00:00:00\", \"reserves_usd\": 1204553221.6788533, \"segment\": \"paired asset\"}, {\"timestamp\": \"2021-08-15T00:00:00\", \"reserves_usd\": 1198552619.345929, \"segment\": \"paired asset\"}, {\"timestamp\": \"2021-08-16T00:00:00\", \"reserves_usd\": 1226930799.9982815, \"segment\": \"paired asset\"}, {\"timestamp\": \"2021-08-17T00:00:00\", \"reserves_usd\": 1247801197.6806161, \"segment\": \"paired asset\"}, {\"timestamp\": \"2021-08-18T00:00:00\", \"reserves_usd\": 1243580271.8683655, \"segment\": \"paired asset\"}, {\"timestamp\": \"2021-08-19T00:00:00\", \"reserves_usd\": 1245917816.2004383, \"segment\": \"paired asset\"}, {\"timestamp\": \"2021-08-20T00:00:00\", \"reserves_usd\": 1235412721.834755, \"segment\": \"paired asset\"}, {\"timestamp\": \"2021-08-21T00:00:00\", \"reserves_usd\": 1241506200.6064615, \"segment\": \"paired asset\"}, {\"timestamp\": \"2021-08-22T00:00:00\", \"reserves_usd\": 1234396738.4751258, \"segment\": \"paired asset\"}, {\"timestamp\": \"2021-08-23T00:00:00\", \"reserves_usd\": 1234705090.7502985, \"segment\": \"paired asset\"}, {\"timestamp\": \"2021-08-24T00:00:00\", \"reserves_usd\": 1248481414.5195487, \"segment\": \"paired asset\"}, {\"timestamp\": \"2021-08-25T00:00:00\", \"reserves_usd\": 1256900686.0639827, \"segment\": \"paired asset\"}, {\"timestamp\": \"2021-08-26T00:00:00\", \"reserves_usd\": 1264215952.3204978, \"segment\": \"paired asset\"}, {\"timestamp\": \"2021-08-27T00:00:00\", \"reserves_usd\": 1272906927.156775, \"segment\": \"paired asset\"}, {\"timestamp\": \"2021-08-28T00:00:00\", \"reserves_usd\": 1274756027.860786, \"segment\": \"paired asset\"}, {\"timestamp\": \"2021-08-29T00:00:00\", \"reserves_usd\": 1282090131.3153832, \"segment\": \"paired asset\"}, {\"timestamp\": \"2021-08-30T00:00:00\", \"reserves_usd\": 1282102712.7184677, \"segment\": \"paired asset\"}, {\"timestamp\": \"2021-08-31T00:00:00\", \"reserves_usd\": 1289109395.4379776, \"segment\": \"paired asset\"}, {\"timestamp\": \"2021-09-01T00:00:00\", \"reserves_usd\": 1296789268.8529375, \"segment\": \"paired asset\"}, {\"timestamp\": \"2021-09-02T00:00:00\", \"reserves_usd\": 1296455286.0109274, \"segment\": \"paired asset\"}, {\"timestamp\": \"2021-09-03T00:00:00\", \"reserves_usd\": 1291153788.9477663, \"segment\": \"paired asset\"}, {\"timestamp\": \"2021-09-04T00:00:00\", \"reserves_usd\": 1297575428.3231223, \"segment\": \"paired asset\"}, {\"timestamp\": \"2021-09-05T00:00:00\", \"reserves_usd\": 1290716730.9140558, \"segment\": \"paired asset\"}, {\"timestamp\": \"2021-09-06T00:00:00\", \"reserves_usd\": 1301790720.1808882, \"segment\": \"paired asset\"}, {\"timestamp\": \"2021-09-07T00:00:00\", \"reserves_usd\": 1350872759.4726806, \"segment\": \"paired asset\"}, {\"timestamp\": \"2021-09-08T00:00:00\", \"reserves_usd\": 1372208737.5064893, \"segment\": \"paired asset\"}, {\"timestamp\": \"2021-09-09T00:00:00\", \"reserves_usd\": 1400743692.2849023, \"segment\": \"paired asset\"}, {\"timestamp\": \"2021-09-10T00:00:00\", \"reserves_usd\": 1396616326.4208047, \"segment\": \"paired asset\"}, {\"timestamp\": \"2021-09-11T00:00:00\", \"reserves_usd\": 1413195207.8921697, \"segment\": \"paired asset\"}, {\"timestamp\": \"2021-09-12T00:00:00\", \"reserves_usd\": 1424494440.1964483, \"segment\": \"paired asset\"}, {\"timestamp\": \"2021-09-13T00:00:00\", \"reserves_usd\": 1419303968.0807056, \"segment\": \"paired asset\"}, {\"timestamp\": \"2021-09-14T00:00:00\", \"reserves_usd\": 1441788316.1453805, \"segment\": \"paired asset\"}, {\"timestamp\": \"2021-09-15T00:00:00\", \"reserves_usd\": 1465740932.9481297, \"segment\": \"paired asset\"}, {\"timestamp\": \"2021-09-16T00:00:00\", \"reserves_usd\": 1473561859.0555134, \"segment\": \"paired asset\"}, {\"timestamp\": \"2021-09-17T00:00:00\", \"reserves_usd\": 1477793092.006533, \"segment\": \"paired asset\"}, {\"timestamp\": \"2021-09-18T00:00:00\", \"reserves_usd\": 1517641206.3435962, \"segment\": \"paired asset\"}, {\"timestamp\": \"2021-09-19T00:00:00\", \"reserves_usd\": 1496440995.29816, \"segment\": \"paired asset\"}, {\"timestamp\": \"2021-09-20T00:00:00\", \"reserves_usd\": 1527817617.9080696, \"segment\": \"paired asset\"}, {\"timestamp\": \"2021-09-21T00:00:00\", \"reserves_usd\": 1512638520.1104689, \"segment\": \"paired asset\"}, {\"timestamp\": \"2021-09-22T00:00:00\", \"reserves_usd\": 1516601500.8964942, \"segment\": \"paired asset\"}, {\"timestamp\": \"2021-09-23T00:00:00\", \"reserves_usd\": 1527475360.628712, \"segment\": \"paired asset\"}, {\"timestamp\": \"2021-09-24T00:00:00\", \"reserves_usd\": 1532419949.9620585, \"segment\": \"paired asset\"}, {\"timestamp\": \"2021-09-25T00:00:00\", \"reserves_usd\": 1520019350.1627023, \"segment\": \"paired asset\"}, {\"timestamp\": \"2021-09-26T00:00:00\", \"reserves_usd\": 1538221186.8288682, \"segment\": \"paired asset\"}, {\"timestamp\": \"2021-09-27T00:00:00\", \"reserves_usd\": 1566687758.668488, \"segment\": \"paired asset\"}, {\"timestamp\": \"2021-09-28T00:00:00\", \"reserves_usd\": 1580214050.8811605, \"segment\": \"paired asset\"}, {\"timestamp\": \"2021-09-29T00:00:00\", \"reserves_usd\": 1605007148.9397588, \"segment\": \"paired asset\"}, {\"timestamp\": \"2021-09-30T00:00:00\", \"reserves_usd\": 1615877796.5510044, \"segment\": \"paired asset\"}, {\"timestamp\": \"2021-10-01T00:00:00\", \"reserves_usd\": 1589054246.3500044, \"segment\": \"paired asset\"}, {\"timestamp\": \"2021-10-02T00:00:00\", \"reserves_usd\": 1588349546.4406245, \"segment\": \"paired asset\"}, {\"timestamp\": \"2021-10-03T00:00:00\", \"reserves_usd\": 1590859992.5337536, \"segment\": \"paired asset\"}, {\"timestamp\": \"2021-10-04T00:00:00\", \"reserves_usd\": 1606312190.449641, \"segment\": \"paired asset\"}, {\"timestamp\": \"2021-10-05T00:00:00\", \"reserves_usd\": 1630628447.877525, \"segment\": \"paired asset\"}, {\"timestamp\": \"2021-10-06T00:00:00\", \"reserves_usd\": 1652186521.5897954, \"segment\": \"paired asset\"}, {\"timestamp\": \"2021-10-07T00:00:00\", \"reserves_usd\": 1705198308.3225906, \"segment\": \"paired asset\"}, {\"timestamp\": \"2021-10-08T00:00:00\", \"reserves_usd\": 1724255713.1587138, \"segment\": \"paired asset\"}, {\"timestamp\": \"2021-10-09T00:00:00\", \"reserves_usd\": 1768942681.9747229, \"segment\": \"paired asset\"}, {\"timestamp\": \"2021-10-10T00:00:00\", \"reserves_usd\": 1789067104.770558, \"segment\": \"paired asset\"}, {\"timestamp\": \"2021-10-11T00:00:00\", \"reserves_usd\": 1765411996.5826159, \"segment\": \"paired asset\"}, {\"timestamp\": \"2021-10-12T00:00:00\", \"reserves_usd\": 1759163810.5218964, \"segment\": \"paired asset\"}, {\"timestamp\": \"2021-10-13T00:00:00\", \"reserves_usd\": 1784418677.1738613, \"segment\": \"paired asset\"}, {\"timestamp\": \"2021-10-14T00:00:00\", \"reserves_usd\": 1765905613.4425814, \"segment\": \"paired asset\"}, {\"timestamp\": \"2021-10-15T00:00:00\", \"reserves_usd\": 1894731751.0215664, \"segment\": \"paired asset\"}, {\"timestamp\": \"2021-10-16T00:00:00\", \"reserves_usd\": 1935907991.0003383, \"segment\": \"paired asset\"}, {\"timestamp\": \"2021-10-17T00:00:00\", \"reserves_usd\": 1934194941.2852097, \"segment\": \"paired asset\"}, {\"timestamp\": \"2021-10-18T00:00:00\", \"reserves_usd\": 1953754897.1268153, \"segment\": \"paired asset\"}, {\"timestamp\": \"2021-10-19T00:00:00\", \"reserves_usd\": 1971070445.0767145, \"segment\": \"paired asset\"}, {\"timestamp\": \"2021-10-20T00:00:00\", \"reserves_usd\": 2015886245.2225547, \"segment\": \"paired asset\"}, {\"timestamp\": \"2021-10-21T00:00:00\", \"reserves_usd\": 2150543460.6051836, \"segment\": \"paired asset\"}, {\"timestamp\": \"2021-10-22T00:00:00\", \"reserves_usd\": 2158895677.6341133, \"segment\": \"paired asset\"}, {\"timestamp\": \"2021-10-23T00:00:00\", \"reserves_usd\": 2185584711.4201055, \"segment\": \"paired asset\"}, {\"timestamp\": \"2021-10-24T00:00:00\", \"reserves_usd\": 2207860618.724867, \"segment\": \"paired asset\"}, {\"timestamp\": \"2021-10-25T00:00:00\", \"reserves_usd\": 2198053714.311122, \"segment\": \"paired asset\"}, {\"timestamp\": \"2021-10-26T00:00:00\", \"reserves_usd\": 2214410116.8856177, \"segment\": \"paired asset\"}, {\"timestamp\": \"2021-10-27T00:00:00\", \"reserves_usd\": 2238355997.0404572, \"segment\": \"paired asset\"}, {\"timestamp\": \"2021-10-28T00:00:00\", \"reserves_usd\": 2319336652.540385, \"segment\": \"paired asset\"}, {\"timestamp\": \"2021-10-29T00:00:00\", \"reserves_usd\": 2392597738.35932, \"segment\": \"paired asset\"}, {\"timestamp\": \"2021-10-30T00:00:00\", \"reserves_usd\": 2415012546.9153743, \"segment\": \"paired asset\"}, {\"timestamp\": \"2021-10-31T00:00:00\", \"reserves_usd\": 2474375503.006131, \"segment\": \"paired asset\"}, {\"timestamp\": \"2021-11-01T00:00:00\", \"reserves_usd\": 2460916264.730038, \"segment\": \"paired asset\"}, {\"timestamp\": \"2021-11-02T00:00:00\", \"reserves_usd\": 2499844393.1138005, \"segment\": \"paired asset\"}, {\"timestamp\": \"2021-11-03T00:00:00\", \"reserves_usd\": 2488075531.182555, \"segment\": \"paired asset\"}, {\"timestamp\": \"2021-11-04T00:00:00\", \"reserves_usd\": 2518489717.662294, \"segment\": \"paired asset\"}, {\"timestamp\": \"2021-11-05T00:00:00\", \"reserves_usd\": 2446365416.1381526, \"segment\": \"paired asset\"}, {\"timestamp\": \"2021-11-06T00:00:00\", \"reserves_usd\": 2473383409.784745, \"segment\": \"paired asset\"}, {\"timestamp\": \"2021-11-07T00:00:00\", \"reserves_usd\": 2472949400.02769, \"segment\": \"paired asset\"}, {\"timestamp\": \"2021-11-08T00:00:00\", \"reserves_usd\": 2518872628.1119275, \"segment\": \"paired asset\"}, {\"timestamp\": \"2021-11-09T00:00:00\", \"reserves_usd\": 2517275389.6507006, \"segment\": \"paired asset\"}, {\"timestamp\": \"2021-11-10T00:00:00\", \"reserves_usd\": 2537718603.33412, \"segment\": \"paired asset\"}, {\"timestamp\": \"2021-11-11T00:00:00\", \"reserves_usd\": 2637011991.0761113, \"segment\": \"paired asset\"}, {\"timestamp\": \"2021-11-12T00:00:00\", \"reserves_usd\": 2562997855.9001393, \"segment\": \"paired asset\"}, {\"timestamp\": \"2021-11-13T00:00:00\", \"reserves_usd\": 2568483577.4143023, \"segment\": \"paired asset\"}, {\"timestamp\": \"2021-11-14T00:00:00\", \"reserves_usd\": 2663382804.7251515, \"segment\": \"paired asset\"}, {\"timestamp\": \"2021-11-15T00:00:00\", \"reserves_usd\": 2642168887.537424, \"segment\": \"paired asset\"}, {\"timestamp\": \"2021-11-16T00:00:00\", \"reserves_usd\": 2692023758.295066, \"segment\": \"paired asset\"}, {\"timestamp\": \"2021-11-17T00:00:00\", \"reserves_usd\": 2629341545.648978, \"segment\": \"paired asset\"}, {\"timestamp\": \"2021-11-18T00:00:00\", \"reserves_usd\": 2811377262.2411356, \"segment\": \"paired asset\"}, {\"timestamp\": \"2021-11-19T00:00:00\", \"reserves_usd\": 2839856287.2000513, \"segment\": \"paired asset\"}, {\"timestamp\": \"2021-11-20T00:00:00\", \"reserves_usd\": 2844590846.442769, \"segment\": \"paired asset\"}, {\"timestamp\": \"2021-11-21T00:00:00\", \"reserves_usd\": 2872323289.4905787, \"segment\": \"paired asset\"}, {\"timestamp\": \"2021-11-22T00:00:00\", \"reserves_usd\": 2863311737.923822, \"segment\": \"paired asset\"}, {\"timestamp\": \"2021-11-23T00:00:00\", \"reserves_usd\": 2863104767.47793, \"segment\": \"paired asset\"}, {\"timestamp\": \"2021-11-24T00:00:00\", \"reserves_usd\": 2857541560.962228, \"segment\": \"paired asset\"}, {\"timestamp\": \"2021-11-25T00:00:00\", \"reserves_usd\": 2874891132.001473, \"segment\": \"paired asset\"}, {\"timestamp\": \"2021-11-26T00:00:00\", \"reserves_usd\": 2912452239.985714, \"segment\": \"paired asset\"}, {\"timestamp\": \"2021-11-27T00:00:00\", \"reserves_usd\": 2967477551.4059024, \"segment\": \"paired asset\"}, {\"timestamp\": \"2021-11-28T00:00:00\", \"reserves_usd\": 2983070299.3660994, \"segment\": \"paired asset\"}, {\"timestamp\": \"2021-11-29T00:00:00\", \"reserves_usd\": 3022450270.5724845, \"segment\": \"paired asset\"}, {\"timestamp\": \"2021-11-30T00:00:00\", \"reserves_usd\": 3024860336.611104, \"segment\": \"paired asset\"}, {\"timestamp\": \"2021-12-01T00:00:00\", \"reserves_usd\": 3064420805.0216665, \"segment\": \"paired asset\"}, {\"timestamp\": \"2021-12-02T00:00:00\", \"reserves_usd\": 3249154928.9614577, \"segment\": \"paired asset\"}, {\"timestamp\": \"2021-12-03T00:00:00\", \"reserves_usd\": 3228524140.6744757, \"segment\": \"paired asset\"}, {\"timestamp\": \"2021-12-04T00:00:00\", \"reserves_usd\": 3269915338.034226, \"segment\": \"paired asset\"}, {\"timestamp\": \"2021-12-05T00:00:00\", \"reserves_usd\": 3061023745.111175, \"segment\": \"paired asset\"}, {\"timestamp\": \"2021-12-06T00:00:00\", \"reserves_usd\": 3040086552.6854544, \"segment\": \"paired asset\"}, {\"timestamp\": \"2021-12-07T00:00:00\", \"reserves_usd\": 3136735029.21735, \"segment\": \"paired asset\"}, {\"timestamp\": \"2021-12-08T00:00:00\", \"reserves_usd\": 3193394875.2121377, \"segment\": \"paired asset\"}, {\"timestamp\": \"2021-12-09T00:00:00\", \"reserves_usd\": 3219127810.598387, \"segment\": \"paired asset\"}, {\"timestamp\": \"2021-12-10T00:00:00\", \"reserves_usd\": 3254981962.4246173, \"segment\": \"paired asset\"}, {\"timestamp\": \"2021-12-11T00:00:00\", \"reserves_usd\": 3239691815.141602, \"segment\": \"paired asset\"}, {\"timestamp\": \"2021-12-12T00:00:00\", \"reserves_usd\": 3302187992.5476766, \"segment\": \"paired asset\"}, {\"timestamp\": \"2021-12-13T00:00:00\", \"reserves_usd\": 3327534285.045441, \"segment\": \"paired asset\"}, {\"timestamp\": \"2021-12-14T00:00:00\", \"reserves_usd\": 3342768742.859019, \"segment\": \"paired asset\"}, {\"timestamp\": \"2021-12-15T00:00:00\", \"reserves_usd\": 3302872785.512435, \"segment\": \"paired asset\"}, {\"timestamp\": \"2021-12-16T00:00:00\", \"reserves_usd\": 3326907601.4115787, \"segment\": \"paired asset\"}, {\"timestamp\": \"2021-12-17T00:00:00\", \"reserves_usd\": 3259538027.5343976, \"segment\": \"paired asset\"}, {\"timestamp\": \"2021-12-18T00:00:00\", \"reserves_usd\": 3214407979.9689884, \"segment\": \"paired asset\"}, {\"timestamp\": \"2021-12-19T00:00:00\", \"reserves_usd\": 3439470445.901204, \"segment\": \"paired asset\"}, {\"timestamp\": \"2021-12-20T00:00:00\", \"reserves_usd\": 3450503707.5509944, \"segment\": \"paired asset\"}, {\"timestamp\": \"2021-12-21T00:00:00\", \"reserves_usd\": 3530467208.9613743, \"segment\": \"paired asset\"}, {\"timestamp\": \"2021-12-22T00:00:00\", \"reserves_usd\": 3637627120.29458, \"segment\": \"paired asset\"}, {\"timestamp\": \"2021-12-23T00:00:00\", \"reserves_usd\": 3738045736.1170483, \"segment\": \"paired asset\"}, {\"timestamp\": \"2021-12-24T00:00:00\", \"reserves_usd\": 3974192409.057169, \"segment\": \"paired asset\"}, {\"timestamp\": \"2021-12-25T00:00:00\", \"reserves_usd\": 4034065781.770238, \"segment\": \"paired asset\"}, {\"timestamp\": \"2021-12-26T00:00:00\", \"reserves_usd\": 4052786646.46717, \"segment\": \"paired asset\"}, {\"timestamp\": \"2021-12-27T00:00:00\", \"reserves_usd\": 4037504074.360416, \"segment\": \"paired asset\"}, {\"timestamp\": \"2021-12-28T00:00:00\", \"reserves_usd\": 4126814890.4801183, \"segment\": \"paired asset\"}, {\"timestamp\": \"2021-12-29T00:00:00\", \"reserves_usd\": 4157845466.854867, \"segment\": \"paired asset\"}, {\"timestamp\": \"2021-12-30T00:00:00\", \"reserves_usd\": 4195786685.2944565, \"segment\": \"paired asset\"}, {\"timestamp\": \"2021-12-31T00:00:00\", \"reserves_usd\": 4182125406.543927, \"segment\": \"paired asset\"}, {\"timestamp\": \"2022-01-01T00:00:00\", \"reserves_usd\": 4180886008.2984357, \"segment\": \"paired asset\"}, {\"timestamp\": \"2022-01-02T00:00:00\", \"reserves_usd\": 4143732223.540892, \"segment\": \"paired asset\"}, {\"timestamp\": \"2022-01-03T00:00:00\", \"reserves_usd\": 4159298827.800669, \"segment\": \"paired asset\"}, {\"timestamp\": \"2022-01-04T00:00:00\", \"reserves_usd\": 4133484212.1243405, \"segment\": \"paired asset\"}, {\"timestamp\": \"2022-01-05T00:00:00\", \"reserves_usd\": 4312326202.920737, \"segment\": \"paired asset\"}, {\"timestamp\": \"2022-01-06T00:00:00\", \"reserves_usd\": 4376745790.348588, \"segment\": \"paired asset\"}, {\"timestamp\": \"2022-01-07T00:00:00\", \"reserves_usd\": 4330902143.778823, \"segment\": \"paired asset\"}, {\"timestamp\": \"2022-01-08T00:00:00\", \"reserves_usd\": 4305304046.867758, \"segment\": \"paired asset\"}, {\"timestamp\": \"2022-01-09T00:00:00\", \"reserves_usd\": 4269444760.457031, \"segment\": \"paired asset\"}, {\"timestamp\": \"2022-01-10T00:00:00\", \"reserves_usd\": 4266796331.7765284, \"segment\": \"paired asset\"}, {\"timestamp\": \"2022-01-11T00:00:00\", \"reserves_usd\": 4289823707.6501317, \"segment\": \"paired asset\"}, {\"timestamp\": \"2022-01-12T00:00:00\", \"reserves_usd\": 4362603734.946196, \"segment\": \"paired asset\"}, {\"timestamp\": \"2022-01-13T00:00:00\", \"reserves_usd\": 4392740385.493969, \"segment\": \"paired asset\"}, {\"timestamp\": \"2022-01-14T00:00:00\", \"reserves_usd\": 4413501904.140384, \"segment\": \"paired asset\"}, {\"timestamp\": \"2022-01-15T00:00:00\", \"reserves_usd\": 4402340406.089965, \"segment\": \"paired asset\"}, {\"timestamp\": \"2022-01-16T00:00:00\", \"reserves_usd\": 4394648776.475736, \"segment\": \"paired asset\"}, {\"timestamp\": \"2022-01-17T00:00:00\", \"reserves_usd\": 4398919182.907421, \"segment\": \"paired asset\"}, {\"timestamp\": \"2022-01-18T00:00:00\", \"reserves_usd\": 4424256692.552779, \"segment\": \"paired asset\"}, {\"timestamp\": \"2022-01-19T00:00:00\", \"reserves_usd\": 4367893894.018933, \"segment\": \"paired asset\"}, {\"timestamp\": \"2022-01-20T00:00:00\", \"reserves_usd\": 4382152684.049311, \"segment\": \"paired asset\"}, {\"timestamp\": \"2022-01-21T00:00:00\", \"reserves_usd\": 4385405963.635872, \"segment\": \"paired asset\"}, {\"timestamp\": \"2022-01-22T00:00:00\", \"reserves_usd\": 4222637999.4942865, \"segment\": \"paired asset\"}, {\"timestamp\": \"2022-01-23T00:00:00\", \"reserves_usd\": 3969337644.664744, \"segment\": \"paired asset\"}, {\"timestamp\": \"2022-01-24T00:00:00\", \"reserves_usd\": 3935344690.411242, \"segment\": \"paired asset\"}, {\"timestamp\": \"2022-01-25T00:00:00\", \"reserves_usd\": 3946018228.607837, \"segment\": \"paired asset\"}, {\"timestamp\": \"2022-01-26T00:00:00\", \"reserves_usd\": 4129845898.81849, \"segment\": \"paired asset\"}, {\"timestamp\": \"2022-01-27T00:00:00\", \"reserves_usd\": 4139498981.0750093, \"segment\": \"paired asset\"}, {\"timestamp\": \"2022-01-28T00:00:00\", \"reserves_usd\": 3895114678.3133435, \"segment\": \"paired asset\"}, {\"timestamp\": \"2022-01-29T00:00:00\", \"reserves_usd\": 3484483874.7485785, \"segment\": \"paired asset\"}, {\"timestamp\": \"2022-01-30T00:00:00\", \"reserves_usd\": 3432359873.320315, \"segment\": \"paired asset\"}, {\"timestamp\": \"2022-01-31T00:00:00\", \"reserves_usd\": 3508756086.843633, \"segment\": \"paired asset\"}, {\"timestamp\": \"2022-02-01T00:00:00\", \"reserves_usd\": 3637833101.318418, \"segment\": \"paired asset\"}, {\"timestamp\": \"2022-02-02T00:00:00\", \"reserves_usd\": 3644816499.2573395, \"segment\": \"paired asset\"}, {\"timestamp\": \"2022-02-03T00:00:00\", \"reserves_usd\": 3702775640.3395457, \"segment\": \"paired asset\"}, {\"timestamp\": \"2022-02-04T00:00:00\", \"reserves_usd\": 3742019402.618338, \"segment\": \"paired asset\"}, {\"timestamp\": \"2022-02-05T00:00:00\", \"reserves_usd\": 3807184291.194129, \"segment\": \"paired asset\"}, {\"timestamp\": \"2022-02-06T00:00:00\", \"reserves_usd\": 3845156022.144858, \"segment\": \"paired asset\"}, {\"timestamp\": \"2022-02-07T00:00:00\", \"reserves_usd\": 3833177528.924573, \"segment\": \"paired asset\"}, {\"timestamp\": \"2022-02-08T00:00:00\", \"reserves_usd\": 3854467424.0583935, \"segment\": \"paired asset\"}, {\"timestamp\": \"2022-02-09T00:00:00\", \"reserves_usd\": 3899933591.7013893, \"segment\": \"paired asset\"}, {\"timestamp\": \"2022-02-10T00:00:00\", \"reserves_usd\": 3898016556.285161, \"segment\": \"paired asset\"}, {\"timestamp\": \"2022-02-11T00:00:00\", \"reserves_usd\": 3929849210.410451, \"segment\": \"paired asset\"}, {\"timestamp\": \"2022-02-12T00:00:00\", \"reserves_usd\": 3972115269.430863, \"segment\": \"paired asset\"}, {\"timestamp\": \"2022-02-13T00:00:00\", \"reserves_usd\": 3957015126.778621, \"segment\": \"paired asset\"}, {\"timestamp\": \"2022-02-14T00:00:00\", \"reserves_usd\": 3973744848.500199, \"segment\": \"paired asset\"}, {\"timestamp\": \"2022-02-15T00:00:00\", \"reserves_usd\": 3891236573.219237, \"segment\": \"paired asset\"}, {\"timestamp\": \"2022-02-16T00:00:00\", \"reserves_usd\": 3917711721.9402084, \"segment\": \"paired asset\"}, {\"timestamp\": \"2022-02-17T00:00:00\", \"reserves_usd\": 3935512654.4283133, \"segment\": \"paired asset\"}, {\"timestamp\": \"2022-02-18T00:00:00\", \"reserves_usd\": 3963227342.610812, \"segment\": \"paired asset\"}, {\"timestamp\": \"2022-02-19T00:00:00\", \"reserves_usd\": 3953943166.0444074, \"segment\": \"paired asset\"}, {\"timestamp\": \"2022-02-20T00:00:00\", \"reserves_usd\": 3918923568.540723, \"segment\": \"paired asset\"}, {\"timestamp\": \"2022-02-21T00:00:00\", \"reserves_usd\": 3882964372.3311195, \"segment\": \"paired asset\"}, {\"timestamp\": \"2022-02-22T00:00:00\", \"reserves_usd\": 3870578386.2115393, \"segment\": \"paired asset\"}, {\"timestamp\": \"2022-02-23T00:00:00\", \"reserves_usd\": 3807346751.894499, \"segment\": \"paired asset\"}, {\"timestamp\": \"2022-02-24T00:00:00\", \"reserves_usd\": 3773876355.004085, \"segment\": \"paired asset\"}, {\"timestamp\": \"2022-02-25T00:00:00\", \"reserves_usd\": 3647590581.543142, \"segment\": \"paired asset\"}, {\"timestamp\": \"2022-02-26T00:00:00\", \"reserves_usd\": 3420943648.221947, \"segment\": \"paired asset\"}, {\"timestamp\": \"2022-02-27T00:00:00\", \"reserves_usd\": 3343666879.0542216, \"segment\": \"paired asset\"}, {\"timestamp\": \"2022-02-28T00:00:00\", \"reserves_usd\": 3298409456.9608994, \"segment\": \"paired asset\"}, {\"timestamp\": \"2022-03-01T00:00:00\", \"reserves_usd\": 3311742264.822047, \"segment\": \"paired asset\"}, {\"timestamp\": \"2022-03-02T00:00:00\", \"reserves_usd\": 3253205726.857667, \"segment\": \"paired asset\"}, {\"timestamp\": \"2022-03-03T00:00:00\", \"reserves_usd\": 3453192850.973592, \"segment\": \"paired asset\"}, {\"timestamp\": \"2022-03-04T00:00:00\", \"reserves_usd\": 3578941176.610675, \"segment\": \"paired asset\"}, {\"timestamp\": \"2022-03-05T00:00:00\", \"reserves_usd\": 3637764270.5854535, \"segment\": \"paired asset\"}, {\"timestamp\": \"2022-03-06T00:00:00\", \"reserves_usd\": 3701366803.1639476, \"segment\": \"paired asset\"}, {\"timestamp\": \"2022-03-07T00:00:00\", \"reserves_usd\": 3826966871.618266, \"segment\": \"paired asset\"}, {\"timestamp\": \"2022-03-08T00:00:00\", \"reserves_usd\": 3803935020.8667665, \"segment\": \"paired asset\"}, {\"timestamp\": \"2022-03-09T00:00:00\", \"reserves_usd\": 3818161729.075944, \"segment\": \"paired asset\"}, {\"timestamp\": \"2022-03-10T00:00:00\", \"reserves_usd\": 3811939764.0997515, \"segment\": \"paired asset\"}, {\"timestamp\": \"2022-03-11T00:00:00\", \"reserves_usd\": 3842415088.65559, \"segment\": \"paired asset\"}, {\"timestamp\": \"2022-03-12T00:00:00\", \"reserves_usd\": 3863544042.472291, \"segment\": \"paired asset\"}, {\"timestamp\": \"2022-03-13T00:00:00\", \"reserves_usd\": 3881046698.4490056, \"segment\": \"paired asset\"}, {\"timestamp\": \"2022-03-14T00:00:00\", \"reserves_usd\": 3818972716.305544, \"segment\": \"paired asset\"}, {\"timestamp\": \"2022-03-15T00:00:00\", \"reserves_usd\": 3781374519.760642, \"segment\": \"paired asset\"}, {\"timestamp\": \"2022-03-16T00:00:00\", \"reserves_usd\": 3785918812.9015155, \"segment\": \"paired asset\"}, {\"timestamp\": \"2022-03-17T00:00:00\", \"reserves_usd\": 3796118938.382734, \"segment\": \"paired asset\"}, {\"timestamp\": \"2022-03-18T00:00:00\", \"reserves_usd\": 3838449952.799995, \"segment\": \"paired asset\"}, {\"timestamp\": \"2022-03-19T00:00:00\", \"reserves_usd\": 3858082421.182754, \"segment\": \"paired asset\"}, {\"timestamp\": \"2022-03-20T00:00:00\", \"reserves_usd\": 3842821235.402008, \"segment\": \"paired asset\"}, {\"timestamp\": \"2022-03-21T00:00:00\", \"reserves_usd\": 3847495823.4790616, \"segment\": \"paired asset\"}, {\"timestamp\": \"2022-03-22T00:00:00\", \"reserves_usd\": 3844734659.6535935, \"segment\": \"paired asset\"}, {\"timestamp\": \"2022-03-23T00:00:00\", \"reserves_usd\": 3870172627.790494, \"segment\": \"paired asset\"}, {\"timestamp\": \"2022-03-24T00:00:00\", \"reserves_usd\": 3921405869.064319, \"segment\": \"paired asset\"}, {\"timestamp\": \"2022-03-25T00:00:00\", \"reserves_usd\": 4000957613.5407376, \"segment\": \"paired asset\"}, {\"timestamp\": \"2022-03-26T00:00:00\", \"reserves_usd\": 4005612206.0622473, \"segment\": \"paired asset\"}, {\"timestamp\": \"2022-03-27T00:00:00\", \"reserves_usd\": 3935545826.3326163, \"segment\": \"paired asset\"}, {\"timestamp\": \"2022-03-28T00:00:00\", \"reserves_usd\": 4005657714.1523547, \"segment\": \"paired asset\"}, {\"timestamp\": \"2022-03-29T00:00:00\", \"reserves_usd\": 3942018990.9411483, \"segment\": \"paired asset\"}, {\"timestamp\": \"2022-03-30T00:00:00\", \"reserves_usd\": 3943484856.5862374, \"segment\": \"paired asset\"}, {\"timestamp\": \"2022-03-31T00:00:00\", \"reserves_usd\": 3924018122.239826, \"segment\": \"paired asset\"}, {\"timestamp\": \"2022-04-01T00:00:00\", \"reserves_usd\": 3813671037.2224646, \"segment\": \"paired asset\"}, {\"timestamp\": \"2022-04-02T00:00:00\", \"reserves_usd\": 3827083640.9597554, \"segment\": \"paired asset\"}, {\"timestamp\": \"2022-04-03T00:00:00\", \"reserves_usd\": 3782067608.5286674, \"segment\": \"paired asset\"}, {\"timestamp\": \"2022-04-04T00:00:00\", \"reserves_usd\": 3768227625.7471986, \"segment\": \"paired asset\"}, {\"timestamp\": \"2022-04-05T00:00:00\", \"reserves_usd\": 3740139727.9555626, \"segment\": \"paired asset\"}, {\"timestamp\": \"2022-04-06T00:00:00\", \"reserves_usd\": 3724895635.3325543, \"segment\": \"paired asset\"}, {\"timestamp\": \"2022-04-07T00:00:00\", \"reserves_usd\": 3700462974.2203064, \"segment\": \"paired asset\"}, {\"timestamp\": \"2022-04-08T00:00:00\", \"reserves_usd\": 3666644288.2679524, \"segment\": \"paired asset\"}, {\"timestamp\": \"2022-04-09T00:00:00\", \"reserves_usd\": 3648090098.437561, \"segment\": \"paired asset\"}, {\"timestamp\": \"2022-04-10T00:00:00\", \"reserves_usd\": 3631363056.83507, \"segment\": \"paired asset\"}, {\"timestamp\": \"2022-04-11T00:00:00\", \"reserves_usd\": 3607410545.172477, \"segment\": \"paired asset\"}, {\"timestamp\": \"2022-04-12T00:00:00\", \"reserves_usd\": 3569055014.0016646, \"segment\": \"paired asset\"}, {\"timestamp\": \"2022-04-13T00:00:00\", \"reserves_usd\": 3485368536.035952, \"segment\": \"paired asset\"}, {\"timestamp\": \"2022-04-14T00:00:00\", \"reserves_usd\": 3547694904.0002036, \"segment\": \"paired asset\"}, {\"timestamp\": \"2022-04-15T00:00:00\", \"reserves_usd\": 3535551547.4194465, \"segment\": \"paired asset\"}, {\"timestamp\": \"2022-04-16T00:00:00\", \"reserves_usd\": 3511075365.9325933, \"segment\": \"paired asset\"}, {\"timestamp\": \"2022-04-17T00:00:00\", \"reserves_usd\": 3488475715.392539, \"segment\": \"paired asset\"}, {\"timestamp\": \"2022-04-18T00:00:00\", \"reserves_usd\": 3437247139.7903666, \"segment\": \"paired asset\"}, {\"timestamp\": \"2022-04-19T00:00:00\", \"reserves_usd\": 3408239818.353502, \"segment\": \"paired asset\"}, {\"timestamp\": \"2022-04-20T00:00:00\", \"reserves_usd\": 3408279921.967401, \"segment\": \"paired asset\"}, {\"timestamp\": \"2022-04-21T00:00:00\", \"reserves_usd\": 3372581729.7952843, \"segment\": \"paired asset\"}, {\"timestamp\": \"2022-04-22T00:00:00\", \"reserves_usd\": 3433055309.837711, \"segment\": \"paired asset\"}, {\"timestamp\": \"2022-04-23T00:00:00\", \"reserves_usd\": 3455972659.109217, \"segment\": \"paired asset\"}, {\"timestamp\": \"2022-04-24T00:00:00\", \"reserves_usd\": 3499426176.9006176, \"segment\": \"paired asset\"}, {\"timestamp\": \"2022-04-25T00:00:00\", \"reserves_usd\": 3519179885.493889, \"segment\": \"paired asset\"}, {\"timestamp\": \"2022-04-26T00:00:00\", \"reserves_usd\": 3527999850.29805, \"segment\": \"paired asset\"}, {\"timestamp\": \"2022-04-27T00:00:00\", \"reserves_usd\": 3538681935.3778825, \"segment\": \"paired asset\"}, {\"timestamp\": \"2022-04-28T00:00:00\", \"reserves_usd\": 3547306926.2663183, \"segment\": \"paired asset\"}, {\"timestamp\": \"2022-04-29T00:00:00\", \"reserves_usd\": 3571134885.1956506, \"segment\": \"paired asset\"}, {\"timestamp\": \"2022-04-30T00:00:00\", \"reserves_usd\": 3576496338.13594, \"segment\": \"paired asset\"}, {\"timestamp\": \"2022-05-01T00:00:00\", \"reserves_usd\": 3520197230.8257794, \"segment\": \"paired asset\"}, {\"timestamp\": \"2022-05-02T00:00:00\", \"reserves_usd\": 3593803923.897797, \"segment\": \"paired asset\"}, {\"timestamp\": \"2022-05-03T00:00:00\", \"reserves_usd\": 3570341342.5366983, \"segment\": \"paired asset\"}, {\"timestamp\": \"2022-05-04T00:00:00\", \"reserves_usd\": 3581895842.9017553, \"segment\": \"paired asset\"}, {\"timestamp\": \"2022-05-05T00:00:00\", \"reserves_usd\": 3567170764.6653414, \"segment\": \"paired asset\"}, {\"timestamp\": \"2022-05-06T00:00:00\", \"reserves_usd\": 3536087009.298507, \"segment\": \"paired asset\"}, {\"timestamp\": \"2022-05-07T00:00:00\", \"reserves_usd\": 3554996190.1593227, \"segment\": \"paired asset\"}, {\"timestamp\": \"2022-05-08T00:00:00\", \"reserves_usd\": 3506092693.682594, \"segment\": \"paired asset\"}, {\"timestamp\": \"2022-05-09T00:00:00\", \"reserves_usd\": 3283117561.330949, \"segment\": \"paired asset\"}, {\"timestamp\": \"2022-05-10T00:00:00\", \"reserves_usd\": 3315081548.7231073, \"segment\": \"paired asset\"}, {\"timestamp\": \"2022-05-11T00:00:00\", \"reserves_usd\": 3102499780.860643, \"segment\": \"paired asset\"}, {\"timestamp\": \"2022-05-12T00:00:00\", \"reserves_usd\": 2210316037.980623, \"segment\": \"paired asset\"}, {\"timestamp\": \"2022-05-13T00:00:00\", \"reserves_usd\": 1605741402.4287798, \"segment\": \"paired asset\"}, {\"timestamp\": \"2022-05-14T00:00:00\", \"reserves_usd\": 1355369123.0104299, \"segment\": \"paired asset\"}, {\"timestamp\": \"2022-05-15T00:00:00\", \"reserves_usd\": 1344301390.845665, \"segment\": \"paired asset\"}, {\"timestamp\": \"2022-05-16T00:00:00\", \"reserves_usd\": 1363758273.2530499, \"segment\": \"paired asset\"}, {\"timestamp\": \"2022-05-17T00:00:00\", \"reserves_usd\": 1351028324.5418236, \"segment\": \"paired asset\"}, {\"timestamp\": \"2022-05-18T00:00:00\", \"reserves_usd\": 1353384915.1505272, \"segment\": \"paired asset\"}, {\"timestamp\": \"2022-05-19T00:00:00\", \"reserves_usd\": 1317317884.7162716, \"segment\": \"paired asset\"}, {\"timestamp\": \"2022-05-20T00:00:00\", \"reserves_usd\": 1332584965.785605, \"segment\": \"paired asset\"}, {\"timestamp\": \"2022-05-21T00:00:00\", \"reserves_usd\": 1325429895.448653, \"segment\": \"paired asset\"}, {\"timestamp\": \"2022-05-22T00:00:00\", \"reserves_usd\": 1309848640.5617325, \"segment\": \"paired asset\"}, {\"timestamp\": \"2022-05-23T00:00:00\", \"reserves_usd\": 1305350271.9494667, \"segment\": \"paired asset\"}, {\"timestamp\": \"2022-05-24T00:00:00\", \"reserves_usd\": 1294740907.799935, \"segment\": \"paired asset\"}, {\"timestamp\": \"2022-05-25T00:00:00\", \"reserves_usd\": 1308858066.904489, \"segment\": \"paired asset\"}, {\"timestamp\": \"2022-05-26T00:00:00\", \"reserves_usd\": 1313431249.1336899, \"segment\": \"paired asset\"}, {\"timestamp\": \"2022-05-27T00:00:00\", \"reserves_usd\": 1316592028.1853523, \"segment\": \"paired asset\"}, {\"timestamp\": \"2022-05-28T00:00:00\", \"reserves_usd\": 1307394931.446445, \"segment\": \"paired asset\"}, {\"timestamp\": \"2022-05-29T00:00:00\", \"reserves_usd\": 1310668663.1646945, \"segment\": \"paired asset\"}, {\"timestamp\": \"2022-05-30T00:00:00\", \"reserves_usd\": 1313294485.1059036, \"segment\": \"paired asset\"}, {\"timestamp\": \"2022-05-31T00:00:00\", \"reserves_usd\": 1318781591.842341, \"segment\": \"paired asset\"}, {\"timestamp\": \"2022-06-01T00:00:00\", \"reserves_usd\": 1320915429.5665407, \"segment\": \"paired asset\"}, {\"timestamp\": \"2022-06-02T00:00:00\", \"reserves_usd\": 1315348141.0526862, \"segment\": \"paired asset\"}, {\"timestamp\": \"2022-06-03T00:00:00\", \"reserves_usd\": 1315690400.899719, \"segment\": \"paired asset\"}, {\"timestamp\": \"2022-06-04T00:00:00\", \"reserves_usd\": 1363554907.0265565, \"segment\": \"paired asset\"}, {\"timestamp\": \"2022-06-05T00:00:00\", \"reserves_usd\": 1374757377.1357017, \"segment\": \"paired asset\"}, {\"timestamp\": \"2022-06-06T00:00:00\", \"reserves_usd\": 1384944725.1742725, \"segment\": \"paired asset\"}, {\"timestamp\": \"2022-06-07T00:00:00\", \"reserves_usd\": 1398958334.808836, \"segment\": \"paired asset\"}, {\"timestamp\": \"2022-06-08T00:00:00\", \"reserves_usd\": 1419525769.534802, \"segment\": \"paired asset\"}, {\"timestamp\": \"2022-06-09T00:00:00\", \"reserves_usd\": 1418149595.7230158, \"segment\": \"paired asset\"}, {\"timestamp\": \"2022-06-10T00:00:00\", \"reserves_usd\": 1413069507.8843763, \"segment\": \"paired asset\"}, {\"timestamp\": \"2022-06-11T00:00:00\", \"reserves_usd\": 1419041861.448231, \"segment\": \"paired asset\"}, {\"timestamp\": \"2022-06-12T00:00:00\", \"reserves_usd\": 1406584137.024909, \"segment\": \"paired asset\"}, {\"timestamp\": \"2022-06-13T00:00:00\", \"reserves_usd\": 1386904633.9287755, \"segment\": \"paired asset\"}, {\"timestamp\": \"2022-06-14T00:00:00\", \"reserves_usd\": 1320551776.1933627, \"segment\": \"paired asset\"}, {\"timestamp\": \"2022-06-15T00:00:00\", \"reserves_usd\": 1284623247.4598215, \"segment\": \"paired asset\"}, {\"timestamp\": \"2022-06-16T00:00:00\", \"reserves_usd\": 1247632299.000754, \"segment\": \"paired asset\"}, {\"timestamp\": \"2022-06-17T00:00:00\", \"reserves_usd\": 1217693089.3896852, \"segment\": \"paired asset\"}, {\"timestamp\": \"2022-06-18T00:00:00\", \"reserves_usd\": 1209073340.068911, \"segment\": \"paired asset\"}, {\"timestamp\": \"2022-06-19T00:00:00\", \"reserves_usd\": 1060143894.0139312, \"segment\": \"paired asset\"}, {\"timestamp\": \"2022-06-20T00:00:00\", \"reserves_usd\": 1070116202.1942306, \"segment\": \"paired asset\"}, {\"timestamp\": \"2022-06-21T00:00:00\", \"reserves_usd\": 1067369183.4527503, \"segment\": \"paired asset\"}, {\"timestamp\": \"2022-06-22T00:00:00\", \"reserves_usd\": 1065754177.3881233, \"segment\": \"paired asset\"}, {\"timestamp\": \"2022-06-23T00:00:00\", \"reserves_usd\": 1073002130.0667646, \"segment\": \"paired asset\"}, {\"timestamp\": \"2022-06-24T00:00:00\", \"reserves_usd\": 1079724856.638492, \"segment\": \"paired asset\"}, {\"timestamp\": \"2022-06-25T00:00:00\", \"reserves_usd\": 1077565097.483489, \"segment\": \"paired asset\"}, {\"timestamp\": \"2022-06-26T00:00:00\", \"reserves_usd\": 1080621489.427732, \"segment\": \"paired asset\"}, {\"timestamp\": \"2022-06-27T00:00:00\", \"reserves_usd\": 1081285511.0380456, \"segment\": \"paired asset\"}, {\"timestamp\": \"2022-06-28T00:00:00\", \"reserves_usd\": 1095955534.660109, \"segment\": \"paired asset\"}, {\"timestamp\": \"2022-06-29T00:00:00\", \"reserves_usd\": 1093143199.2723866, \"segment\": \"paired asset\"}, {\"timestamp\": \"2022-06-30T00:00:00\", \"reserves_usd\": 1098515629.9320102, \"segment\": \"paired asset\"}, {\"timestamp\": \"2022-07-01T00:00:00\", \"reserves_usd\": 1101394954.5636356, \"segment\": \"paired asset\"}, {\"timestamp\": \"2022-07-02T00:00:00\", \"reserves_usd\": 1090505228.9342105, \"segment\": \"paired asset\"}, {\"timestamp\": \"2022-07-03T00:00:00\", \"reserves_usd\": 1079262855.533874, \"segment\": \"paired asset\"}, {\"timestamp\": \"2022-07-04T00:00:00\", \"reserves_usd\": 1082726609.0480788, \"segment\": \"paired asset\"}, {\"timestamp\": \"2022-07-05T00:00:00\", \"reserves_usd\": 1040181476.5969741, \"segment\": \"paired asset\"}, {\"timestamp\": \"2022-07-06T00:00:00\", \"reserves_usd\": 1037389662.3776579, \"segment\": \"paired asset\"}, {\"timestamp\": \"2022-07-07T00:00:00\", \"reserves_usd\": 1036056708.3561919, \"segment\": \"paired asset\"}, {\"timestamp\": \"2022-07-08T00:00:00\", \"reserves_usd\": 1038993246.9321796, \"segment\": \"paired asset\"}, {\"timestamp\": \"2022-07-09T00:00:00\", \"reserves_usd\": 1036220116.2918458, \"segment\": \"paired asset\"}, {\"timestamp\": \"2022-07-10T00:00:00\", \"reserves_usd\": 1040769586.5383891, \"segment\": \"paired asset\"}, {\"timestamp\": \"2022-07-11T00:00:00\", \"reserves_usd\": 1036601319.0235212, \"segment\": \"paired asset\"}, {\"timestamp\": \"2022-07-12T00:00:00\", \"reserves_usd\": 1035325608.3860455, \"segment\": \"paired asset\"}, {\"timestamp\": \"2022-07-13T00:00:00\", \"reserves_usd\": 1038093402.2196813, \"segment\": \"paired asset\"}, {\"timestamp\": \"2022-07-14T00:00:00\", \"reserves_usd\": 1034035937.7503021, \"segment\": \"paired asset\"}, {\"timestamp\": \"2022-07-15T00:00:00\", \"reserves_usd\": 1042097999.77876, \"segment\": \"paired asset\"}, {\"timestamp\": \"2022-07-16T00:00:00\", \"reserves_usd\": 1047023075.3873612, \"segment\": \"paired asset\"}, {\"timestamp\": \"2022-07-17T00:00:00\", \"reserves_usd\": 1045871794.7301111, \"segment\": \"paired asset\"}, {\"timestamp\": \"2022-07-18T00:00:00\", \"reserves_usd\": 1051183404.1083766, \"segment\": \"paired asset\"}, {\"timestamp\": \"2022-07-19T00:00:00\", \"reserves_usd\": 1055366949.5107963, \"segment\": \"paired asset\"}, {\"timestamp\": \"2022-07-20T00:00:00\", \"reserves_usd\": 1061402114.1319742, \"segment\": \"paired asset\"}, {\"timestamp\": \"2022-07-21T00:00:00\", \"reserves_usd\": 1021729634.0839727, \"segment\": \"paired asset\"}, {\"timestamp\": \"2022-07-22T00:00:00\", \"reserves_usd\": 1014743342.4278253, \"segment\": \"paired asset\"}, {\"timestamp\": \"2022-07-23T00:00:00\", \"reserves_usd\": 1014370425.8855666, \"segment\": \"paired asset\"}, {\"timestamp\": \"2022-07-24T00:00:00\", \"reserves_usd\": 1013461527.1064607, \"segment\": \"paired asset\"}, {\"timestamp\": \"2022-07-25T00:00:00\", \"reserves_usd\": 1014721503.7616695, \"segment\": \"paired asset\"}, {\"timestamp\": \"2022-07-26T00:00:00\", \"reserves_usd\": 1018722911.1565436, \"segment\": \"paired asset\"}, {\"timestamp\": \"2022-07-27T00:00:00\", \"reserves_usd\": 1018910137.7265865, \"segment\": \"paired asset\"}, {\"timestamp\": \"2022-07-28T00:00:00\", \"reserves_usd\": 1021171712.3506204, \"segment\": \"paired asset\"}, {\"timestamp\": \"2022-07-29T00:00:00\", \"reserves_usd\": 1014697624.1092287, \"segment\": \"paired asset\"}, {\"timestamp\": \"2022-07-30T00:00:00\", \"reserves_usd\": 1016567334.4115227, \"segment\": \"paired asset\"}, {\"timestamp\": \"2022-07-31T00:00:00\", \"reserves_usd\": 1037261059.4332956, \"segment\": \"paired asset\"}, {\"timestamp\": \"2022-08-01T00:00:00\", \"reserves_usd\": 1035471222.4005767, \"segment\": \"paired asset\"}, {\"timestamp\": \"2022-08-02T00:00:00\", \"reserves_usd\": 1036803461.8636101, \"segment\": \"paired asset\"}, {\"timestamp\": \"2022-08-03T00:00:00\", \"reserves_usd\": 1046300261.6632644, \"segment\": \"paired asset\"}, {\"timestamp\": \"2022-08-04T00:00:00\", \"reserves_usd\": 1040550468.3951731, \"segment\": \"paired asset\"}, {\"timestamp\": \"2022-08-05T00:00:00\", \"reserves_usd\": 1041387260.5515195, \"segment\": \"paired asset\"}, {\"timestamp\": \"2022-08-06T00:00:00\", \"reserves_usd\": 1058797110.553069, \"segment\": \"paired asset\"}, {\"timestamp\": \"2022-08-07T00:00:00\", \"reserves_usd\": 1058614550.9227163, \"segment\": \"paired asset\"}, {\"timestamp\": \"2022-08-08T00:00:00\", \"reserves_usd\": 1064270970.9850992, \"segment\": \"paired asset\"}, {\"timestamp\": \"2022-08-09T00:00:00\", \"reserves_usd\": 1056536763.5128692, \"segment\": \"paired asset\"}, {\"timestamp\": \"2022-08-10T00:00:00\", \"reserves_usd\": 1052827102.2524264, \"segment\": \"paired asset\"}, {\"timestamp\": \"2022-08-11T00:00:00\", \"reserves_usd\": 1046975930.8826064, \"segment\": \"paired asset\"}, {\"timestamp\": \"2022-08-12T00:00:00\", \"reserves_usd\": 1039449790.7267143, \"segment\": \"paired asset\"}, {\"timestamp\": \"2022-08-13T00:00:00\", \"reserves_usd\": 1038740026.354225, \"segment\": \"paired asset\"}, {\"timestamp\": \"2022-08-14T00:00:00\", \"reserves_usd\": 1028330569.0414468, \"segment\": \"paired asset\"}, {\"timestamp\": \"2022-08-15T00:00:00\", \"reserves_usd\": 1026686829.5748904, \"segment\": \"paired asset\"}, {\"timestamp\": \"2022-08-16T00:00:00\", \"reserves_usd\": 1029767355.305203, \"segment\": \"paired asset\"}, {\"timestamp\": \"2022-08-17T00:00:00\", \"reserves_usd\": 1030222028.0423244, \"segment\": \"paired asset\"}, {\"timestamp\": \"2022-08-18T00:00:00\", \"reserves_usd\": 976728619.8014088, \"segment\": \"paired asset\"}, {\"timestamp\": \"2022-08-19T00:00:00\", \"reserves_usd\": 983160967.2307538, \"segment\": \"paired asset\"}, {\"timestamp\": \"2022-08-20T00:00:00\", \"reserves_usd\": 983728695.3178364, \"segment\": \"paired asset\"}, {\"timestamp\": \"2022-08-21T00:00:00\", \"reserves_usd\": 988334698.8283767, \"segment\": \"paired asset\"}, {\"timestamp\": \"2022-08-22T00:00:00\", \"reserves_usd\": 988081828.5620254, \"segment\": \"paired asset\"}, {\"timestamp\": \"2022-08-23T00:00:00\", \"reserves_usd\": 933018718.4402868, \"segment\": \"paired asset\"}, {\"timestamp\": \"2022-08-24T00:00:00\", \"reserves_usd\": 925488821.7480996, \"segment\": \"paired asset\"}, {\"timestamp\": \"2022-08-25T00:00:00\", \"reserves_usd\": 927761024.9261101, \"segment\": \"paired asset\"}, {\"timestamp\": \"2022-08-26T00:00:00\", \"reserves_usd\": 927180534.453883, \"segment\": \"paired asset\"}, {\"timestamp\": \"2022-08-27T00:00:00\", \"reserves_usd\": 925097199.7807856, \"segment\": \"paired asset\"}, {\"timestamp\": \"2022-08-28T00:00:00\", \"reserves_usd\": 927411686.4173639, \"segment\": \"paired asset\"}, {\"timestamp\": \"2022-08-29T00:00:00\", \"reserves_usd\": 929596604.6054696, \"segment\": \"paired asset\"}, {\"timestamp\": \"2022-08-30T00:00:00\", \"reserves_usd\": 936151206.1235564, \"segment\": \"paired asset\"}, {\"timestamp\": \"2022-08-31T00:00:00\", \"reserves_usd\": 941483950.7357843, \"segment\": \"paired asset\"}, {\"timestamp\": \"2022-09-01T00:00:00\", \"reserves_usd\": 945585760.9044994, \"segment\": \"paired asset\"}, {\"timestamp\": \"2022-09-02T00:00:00\", \"reserves_usd\": 947981414.5727563, \"segment\": \"paired asset\"}, {\"timestamp\": \"2022-09-03T00:00:00\", \"reserves_usd\": 948314072.9734478, \"segment\": \"paired asset\"}, {\"timestamp\": \"2022-09-04T00:00:00\", \"reserves_usd\": 946649918.0276498, \"segment\": \"paired asset\"}, {\"timestamp\": \"2022-09-05T00:00:00\", \"reserves_usd\": 946334503.8002726, \"segment\": \"paired asset\"}, {\"timestamp\": \"2022-09-06T00:00:00\", \"reserves_usd\": 872202893.0808634, \"segment\": \"paired asset\"}, {\"timestamp\": \"2022-09-07T00:00:00\", \"reserves_usd\": 861642428.999563, \"segment\": \"paired asset\"}, {\"timestamp\": \"2022-09-08T00:00:00\", \"reserves_usd\": 862561539.0451039, \"segment\": \"paired asset\"}, {\"timestamp\": \"2022-09-09T00:00:00\", \"reserves_usd\": 851776403.5693582, \"segment\": \"paired asset\"}, {\"timestamp\": \"2022-09-10T00:00:00\", \"reserves_usd\": 853188014.4151627, \"segment\": \"paired asset\"}, {\"timestamp\": \"2022-09-11T00:00:00\", \"reserves_usd\": 854695174.7361354, \"segment\": \"paired asset\"}, {\"timestamp\": \"2022-09-12T00:00:00\", \"reserves_usd\": 855945254.1205252, \"segment\": \"paired asset\"}, {\"timestamp\": \"2022-09-13T00:00:00\", \"reserves_usd\": 856838917.1691428, \"segment\": \"paired asset\"}, {\"timestamp\": \"2022-09-14T00:00:00\", \"reserves_usd\": 853532892.7853563, \"segment\": \"paired asset\"}, {\"timestamp\": \"2022-09-15T00:00:00\", \"reserves_usd\": 823750284.1998565, \"segment\": \"paired asset\"}, {\"timestamp\": \"2022-09-16T00:00:00\", \"reserves_usd\": 826469984.4822446, \"segment\": \"paired asset\"}, {\"timestamp\": \"2022-09-17T00:00:00\", \"reserves_usd\": 825908185.2346327, \"segment\": \"paired asset\"}, {\"timestamp\": \"2022-09-18T00:00:00\", \"reserves_usd\": 824796794.9483641, \"segment\": \"paired asset\"}, {\"timestamp\": \"2022-09-19T00:00:00\", \"reserves_usd\": 822098291.8783613, \"segment\": \"paired asset\"}, {\"timestamp\": \"2022-09-20T00:00:00\", \"reserves_usd\": 765924623.1375346, \"segment\": \"paired asset\"}, {\"timestamp\": \"2022-09-21T00:00:00\", \"reserves_usd\": 781850848.5608542, \"segment\": \"paired asset\"}, {\"timestamp\": \"2022-09-22T00:00:00\", \"reserves_usd\": 784805226.9298217, \"segment\": \"paired asset\"}, {\"timestamp\": \"2022-09-23T00:00:00\", \"reserves_usd\": 779322726.2850095, \"segment\": \"paired asset\"}, {\"timestamp\": \"2022-09-24T00:00:00\", \"reserves_usd\": 785178977.3002274, \"segment\": \"paired asset\"}, {\"timestamp\": \"2022-09-25T00:00:00\", \"reserves_usd\": 788705845.2122548, \"segment\": \"paired asset\"}, {\"timestamp\": \"2022-09-26T00:00:00\", \"reserves_usd\": 786904185.9696681, \"segment\": \"paired asset\"}, {\"timestamp\": \"2022-09-27T00:00:00\", \"reserves_usd\": 787344554.9114691, \"segment\": \"paired asset\"}, {\"timestamp\": \"2022-09-28T00:00:00\", \"reserves_usd\": 790567582.0930592, \"segment\": \"paired asset\"}, {\"timestamp\": \"2022-09-29T00:00:00\", \"reserves_usd\": 792438425.2999457, \"segment\": \"paired asset\"}, {\"timestamp\": \"2022-09-30T00:00:00\", \"reserves_usd\": 794542863.2085408, \"segment\": \"paired asset\"}, {\"timestamp\": \"2022-10-01T00:00:00\", \"reserves_usd\": 791476382.8998065, \"segment\": \"paired asset\"}, {\"timestamp\": \"2022-10-02T00:00:00\", \"reserves_usd\": 788878262.7573309, \"segment\": \"paired asset\"}, {\"timestamp\": \"2022-10-03T00:00:00\", \"reserves_usd\": 791936883.3149834, \"segment\": \"paired asset\"}, {\"timestamp\": \"2022-10-04T00:00:00\", \"reserves_usd\": 793485654.7418264, \"segment\": \"paired asset\"}, {\"timestamp\": \"2022-10-05T00:00:00\", \"reserves_usd\": 797372837.6673355, \"segment\": \"paired asset\"}, {\"timestamp\": \"2022-10-06T00:00:00\", \"reserves_usd\": 800467863.2317888, \"segment\": \"paired asset\"}, {\"timestamp\": \"2022-10-07T00:00:00\", \"reserves_usd\": 801438581.4638752, \"segment\": \"paired asset\"}, {\"timestamp\": \"2022-10-08T00:00:00\", \"reserves_usd\": 802381258.2351722, \"segment\": \"paired asset\"}, {\"timestamp\": \"2022-10-09T00:00:00\", \"reserves_usd\": 800520296.6070046, \"segment\": \"paired asset\"}, {\"timestamp\": \"2022-10-10T00:00:00\", \"reserves_usd\": 801216327.9168603, \"segment\": \"paired asset\"}, {\"timestamp\": \"2022-10-11T00:00:00\", \"reserves_usd\": 802764911.0721009, \"segment\": \"paired asset\"}, {\"timestamp\": \"2022-10-12T00:00:00\", \"reserves_usd\": 798886632.4468384, \"segment\": \"paired asset\"}, {\"timestamp\": \"2022-10-13T00:00:00\", \"reserves_usd\": 801912432.1488087, \"segment\": \"paired asset\"}, {\"timestamp\": \"2022-10-14T00:00:00\", \"reserves_usd\": 802037233.4873307, \"segment\": \"paired asset\"}, {\"timestamp\": \"2022-10-15T00:00:00\", \"reserves_usd\": 809616027.4137475, \"segment\": \"paired asset\"}, {\"timestamp\": \"2022-10-16T00:00:00\", \"reserves_usd\": 808532179.1391968, \"segment\": \"paired asset\"}, {\"timestamp\": \"2022-10-17T00:00:00\", \"reserves_usd\": 809453856.7177377, \"segment\": \"paired asset\"}, {\"timestamp\": \"2022-10-18T00:00:00\", \"reserves_usd\": 810053007.5828292, \"segment\": \"paired asset\"}, {\"timestamp\": \"2022-10-19T00:00:00\", \"reserves_usd\": 815159320.9141179, \"segment\": \"paired asset\"}, {\"timestamp\": \"2022-10-20T00:00:00\", \"reserves_usd\": 821240131.9611703, \"segment\": \"paired asset\"}, {\"timestamp\": \"2022-10-21T00:00:00\", \"reserves_usd\": 814614109.6846999, \"segment\": \"paired asset\"}, {\"timestamp\": \"2022-10-22T00:00:00\", \"reserves_usd\": 782085985.3393337, \"segment\": \"paired asset\"}, {\"timestamp\": \"2022-10-23T00:00:00\", \"reserves_usd\": 778248998.2615957, \"segment\": \"paired asset\"}, {\"timestamp\": \"2022-10-24T00:00:00\", \"reserves_usd\": 776041991.3986729, \"segment\": \"paired asset\"}, {\"timestamp\": \"2022-10-25T00:00:00\", \"reserves_usd\": 732405469.8872967, \"segment\": \"paired asset\"}, {\"timestamp\": \"2022-10-26T00:00:00\", \"reserves_usd\": 729477442.2911369, \"segment\": \"paired asset\"}, {\"timestamp\": \"2022-10-27T00:00:00\", \"reserves_usd\": 729012643.3737022, \"segment\": \"paired asset\"}, {\"timestamp\": \"2022-10-28T00:00:00\", \"reserves_usd\": 720517788.5758264, \"segment\": \"paired asset\"}, {\"timestamp\": \"2022-10-29T00:00:00\", \"reserves_usd\": 711048553.8752602, \"segment\": \"paired asset\"}, {\"timestamp\": \"2022-10-30T00:00:00\", \"reserves_usd\": 705567859.8556559, \"segment\": \"paired asset\"}, {\"timestamp\": \"2022-10-31T00:00:00\", \"reserves_usd\": 706588319.938094, \"segment\": \"paired asset\"}, {\"timestamp\": \"2022-11-01T00:00:00\", \"reserves_usd\": 702531723.8918531, \"segment\": \"paired asset\"}, {\"timestamp\": \"2022-11-02T00:00:00\", \"reserves_usd\": 699624220.5116541, \"segment\": \"paired asset\"}, {\"timestamp\": \"2022-11-03T00:00:00\", \"reserves_usd\": 699663205.875346, \"segment\": \"paired asset\"}, {\"timestamp\": \"2022-11-04T00:00:00\", \"reserves_usd\": 694590632.6850123, \"segment\": \"paired asset\"}, {\"timestamp\": \"2022-11-05T00:00:00\", \"reserves_usd\": 687480836.5583462, \"segment\": \"paired asset\"}, {\"timestamp\": \"2022-11-06T00:00:00\", \"reserves_usd\": 671937278.1947447, \"segment\": \"paired asset\"}, {\"timestamp\": \"2022-11-07T00:00:00\", \"reserves_usd\": 667805405.4073201, \"segment\": \"paired asset\"}, {\"timestamp\": \"2022-11-08T00:00:00\", \"reserves_usd\": 673410943.4533939, \"segment\": \"paired asset\"}, {\"timestamp\": \"2022-11-09T00:00:00\", \"reserves_usd\": 635160914.7786677, \"segment\": \"paired asset\"}, {\"timestamp\": \"2022-11-10T00:00:00\", \"reserves_usd\": 590938423.5725943, \"segment\": \"paired asset\"}, {\"timestamp\": \"2022-11-11T00:00:00\", \"reserves_usd\": 430705513.3906983, \"segment\": \"paired asset\"}, {\"timestamp\": \"2022-11-12T00:00:00\", \"reserves_usd\": 437244451.8100157, \"segment\": \"paired asset\"}, {\"timestamp\": \"2022-11-13T00:00:00\", \"reserves_usd\": 448287276.4508976, \"segment\": \"paired asset\"}, {\"timestamp\": \"2022-11-14T00:00:00\", \"reserves_usd\": 454605998.6383501, \"segment\": \"paired asset\"}, {\"timestamp\": \"2022-11-15T00:00:00\", \"reserves_usd\": 455030045.30957896, \"segment\": \"paired asset\"}, {\"timestamp\": \"2022-11-16T00:00:00\", \"reserves_usd\": 457027113.2336847, \"segment\": \"paired asset\"}, {\"timestamp\": \"2022-11-17T00:00:00\", \"reserves_usd\": 464036692.2251019, \"segment\": \"paired asset\"}, {\"timestamp\": \"2022-11-18T00:00:00\", \"reserves_usd\": 472907321.0114326, \"segment\": \"paired asset\"}, {\"timestamp\": \"2022-11-19T00:00:00\", \"reserves_usd\": 473741221.9870343, \"segment\": \"paired asset\"}, {\"timestamp\": \"2022-11-20T00:00:00\", \"reserves_usd\": 474803860.0224762, \"segment\": \"paired asset\"}, {\"timestamp\": \"2022-11-21T00:00:00\", \"reserves_usd\": 464019178.32949394, \"segment\": \"paired asset\"}, {\"timestamp\": \"2022-11-22T00:00:00\", \"reserves_usd\": 466055865.2520585, \"segment\": \"paired asset\"}, {\"timestamp\": \"2022-11-23T00:00:00\", \"reserves_usd\": 477928834.8233792, \"segment\": \"paired asset\"}, {\"timestamp\": \"2022-11-24T00:00:00\", \"reserves_usd\": 477414439.0917854, \"segment\": \"paired asset\"}, {\"timestamp\": \"2022-11-25T00:00:00\", \"reserves_usd\": 480841355.54874915, \"segment\": \"paired asset\"}, {\"timestamp\": \"2022-11-26T00:00:00\", \"reserves_usd\": 490993891.50310683, \"segment\": \"paired asset\"}, {\"timestamp\": \"2022-11-27T00:00:00\", \"reserves_usd\": 495145464.93305594, \"segment\": \"paired asset\"}, {\"timestamp\": \"2022-11-28T00:00:00\", \"reserves_usd\": 494016876.1495323, \"segment\": \"paired asset\"}, {\"timestamp\": \"2022-11-29T00:00:00\", \"reserves_usd\": 497011450.1439509, \"segment\": \"paired asset\"}, {\"timestamp\": \"2022-11-30T00:00:00\", \"reserves_usd\": 505793150.0889044, \"segment\": \"paired asset\"}, {\"timestamp\": \"2022-12-01T00:00:00\", \"reserves_usd\": 513065537.0015857, \"segment\": \"paired asset\"}, {\"timestamp\": \"2022-12-02T00:00:00\", \"reserves_usd\": 513135942.7559095, \"segment\": \"paired asset\"}, {\"timestamp\": \"2022-12-03T00:00:00\", \"reserves_usd\": 517126542.2067699, \"segment\": \"paired asset\"}, {\"timestamp\": \"2022-12-04T00:00:00\", \"reserves_usd\": 518303587.0881392, \"segment\": \"paired asset\"}, {\"timestamp\": \"2022-12-05T00:00:00\", \"reserves_usd\": 519716840.7356218, \"segment\": \"paired asset\"}, {\"timestamp\": \"2022-12-06T00:00:00\", \"reserves_usd\": 520432588.82431847, \"segment\": \"paired asset\"}, {\"timestamp\": \"2022-12-07T00:00:00\", \"reserves_usd\": 520248958.9298986, \"segment\": \"paired asset\"}, {\"timestamp\": \"2022-12-08T00:00:00\", \"reserves_usd\": 522255134.54204446, \"segment\": \"paired asset\"}, {\"timestamp\": \"2022-12-09T00:00:00\", \"reserves_usd\": 518363049.9911763, \"segment\": \"paired asset\"}, {\"timestamp\": \"2022-12-10T00:00:00\", \"reserves_usd\": 518637561.1449671, \"segment\": \"paired asset\"}, {\"timestamp\": \"2022-12-11T00:00:00\", \"reserves_usd\": 520043852.8932807, \"segment\": \"paired asset\"}, {\"timestamp\": \"2022-12-12T00:00:00\", \"reserves_usd\": 519702239.1587585, \"segment\": \"paired asset\"}, {\"timestamp\": \"2022-12-13T00:00:00\", \"reserves_usd\": 516917205.7728261, \"segment\": \"paired asset\"}, {\"timestamp\": \"2022-12-14T00:00:00\", \"reserves_usd\": 514482416.1740843, \"segment\": \"paired asset\"}, {\"timestamp\": \"2022-12-15T00:00:00\", \"reserves_usd\": 518521447.25713366, \"segment\": \"paired asset\"}, {\"timestamp\": \"2022-12-16T00:00:00\", \"reserves_usd\": 520361615.3212058, \"segment\": \"paired asset\"}, {\"timestamp\": \"2022-12-17T00:00:00\", \"reserves_usd\": 524864308.027353, \"segment\": \"paired asset\"}, {\"timestamp\": \"2022-12-18T00:00:00\", \"reserves_usd\": 525706278.87014246, \"segment\": \"paired asset\"}, {\"timestamp\": \"2022-12-19T00:00:00\", \"reserves_usd\": 525928526.8459607, \"segment\": \"paired asset\"}, {\"timestamp\": \"2022-12-20T00:00:00\", \"reserves_usd\": 528867124.8370376, \"segment\": \"paired asset\"}, {\"timestamp\": \"2022-12-21T00:00:00\", \"reserves_usd\": 530358604.6103366, \"segment\": \"paired asset\"}, {\"timestamp\": \"2022-12-22T00:00:00\", \"reserves_usd\": 534614516.0566959, \"segment\": \"paired asset\"}, {\"timestamp\": \"2022-12-23T00:00:00\", \"reserves_usd\": 534973139.1467819, \"segment\": \"paired asset\"}, {\"timestamp\": \"2022-12-24T00:00:00\", \"reserves_usd\": 534702948.6228889, \"segment\": \"paired asset\"}, {\"timestamp\": \"2022-12-25T00:00:00\", \"reserves_usd\": 534547854.5281121, \"segment\": \"paired asset\"}, {\"timestamp\": \"2022-12-26T00:00:00\", \"reserves_usd\": 534296962.030243, \"segment\": \"paired asset\"}, {\"timestamp\": \"2022-12-27T00:00:00\", \"reserves_usd\": 533056075.11559314, \"segment\": \"paired asset\"}, {\"timestamp\": \"2022-12-28T00:00:00\", \"reserves_usd\": 528688410.72736686, \"segment\": \"paired asset\"}, {\"timestamp\": \"2022-12-29T00:00:00\", \"reserves_usd\": 521036480.83765054, \"segment\": \"paired asset\"}, {\"timestamp\": \"2022-12-30T00:00:00\", \"reserves_usd\": 518879799.7514114, \"segment\": \"paired asset\"}, {\"timestamp\": \"2022-12-31T00:00:00\", \"reserves_usd\": 520229712.0827397, \"segment\": \"paired asset\"}, {\"timestamp\": \"2023-01-01T00:00:00\", \"reserves_usd\": 517287814.74333817, \"segment\": \"paired asset\"}, {\"timestamp\": \"2023-01-02T00:00:00\", \"reserves_usd\": 515438207.0536203, \"segment\": \"paired asset\"}, {\"timestamp\": \"2023-01-03T00:00:00\", \"reserves_usd\": 512772980.881594, \"segment\": \"paired asset\"}, {\"timestamp\": \"2023-01-04T00:00:00\", \"reserves_usd\": 507601791.6536232, \"segment\": \"paired asset\"}, {\"timestamp\": \"2023-01-05T00:00:00\", \"reserves_usd\": 507064011.8944064, \"segment\": \"paired asset\"}, {\"timestamp\": \"2023-01-06T00:00:00\", \"reserves_usd\": 482385486.9359235, \"segment\": \"paired asset\"}, {\"timestamp\": \"2023-01-07T00:00:00\", \"reserves_usd\": 488114354.62814283, \"segment\": \"paired asset\"}, {\"timestamp\": \"2023-01-08T00:00:00\", \"reserves_usd\": 490478257.68993247, \"segment\": \"paired asset\"}, {\"timestamp\": \"2023-01-09T00:00:00\", \"reserves_usd\": 491083532.1699711, \"segment\": \"paired asset\"}, {\"timestamp\": \"2023-01-10T00:00:00\", \"reserves_usd\": 490932519.08740765, \"segment\": \"paired asset\"}, {\"timestamp\": \"2023-01-11T00:00:00\", \"reserves_usd\": 493449247.2210942, \"segment\": \"paired asset\"}, {\"timestamp\": \"2023-01-12T00:00:00\", \"reserves_usd\": 493890025.55898184, \"segment\": \"paired asset\"}, {\"timestamp\": \"2023-01-13T00:00:00\", \"reserves_usd\": 495274130.2046587, \"segment\": \"paired asset\"}]}}, {\"mode\": \"vega-lite\"});\n",
       "</script>"
      ],
      "text/plain": [
       "alt.HConcatChart(...)"
      ]
     },
     "execution_count": 62,
     "metadata": {},
     "output_type": "execute_result"
    }
   ],
   "source": [
    "(\n",
    "    chart_metapool_lp_against_paired_asset(df_fraxbp_reserves, 'crvFRAX').properties(title=\"FraxBP Metapools\")  \n",
    "    | chart_metapool_lp_against_paired_asset(df_3pool_reserves, '3Crv').properties(title=\"3Pool Metapools\")\n",
    ")"
   ]
  },
  {
   "cell_type": "code",
   "execution_count": null,
   "id": "8cd6a38c-b0aa-4181-af4b-8c769c083cad",
   "metadata": {},
   "outputs": [],
   "source": [
    "def chart_tvl_breakdown(df, asset_name): \n",
    "    print(f\"Total tvl ($) paired against {asset_name} in Metapools: ${df.reserves_usd.sum():,}\")\n",
    "    return (\n",
    "        alt.Chart(df)\n",
    "        .mark_arc()\n",
    "        .encode(\n",
    "            theta=\"reserves_usd\", \n",
    "            color=\"pools_name\", \n",
    "            tooltip=[\"pools_name\", alt.Tooltip(\"reserves_usd\", format=\",d\")]\n",
    "        )\n",
    "        .properties(title=f\"Breakdown of TVL paired against {asset_name} in Metapools\")\n",
    "    ) \n"
   ]
  },
  {
   "cell_type": "code",
   "execution_count": null,
   "id": "54cd8de3-dc8e-4928-b071-a8f4c4e97997",
   "metadata": {},
   "outputs": [],
   "source": [
    "chart_tvl_breakdown(df_fraxbp, \"crvFRAX\")"
   ]
  },
  {
   "cell_type": "code",
   "execution_count": null,
   "id": "ece5e457-d303-4019-aa0f-6e4ae7c85295",
   "metadata": {},
   "outputs": [],
   "source": [
    "chart_tvl_breakdown(df_3pool, \"3Crv\")"
   ]
  },
  {
   "cell_type": "code",
   "execution_count": null,
   "id": "b58ce15a-a761-4ef3-aea7-ef699ca9ea91",
   "metadata": {},
   "outputs": [],
   "source": []
  },
  {
   "cell_type": "code",
   "execution_count": null,
   "id": "181ff302-db54-4a67-980b-89c89bfcff40",
   "metadata": {},
   "outputs": [],
   "source": []
  }
 ],
 "metadata": {
  "kernelspec": {
   "display_name": "Python [conda env:flywheel]",
   "language": "python",
   "name": "conda-env-flywheel-py"
  },
  "language_info": {
   "codemirror_mode": {
    "name": "ipython",
    "version": 3
   },
   "file_extension": ".py",
   "mimetype": "text/x-python",
   "name": "python",
   "nbconvert_exporter": "python",
   "pygments_lexer": "ipython3",
   "version": "3.10.8"
  },
  "vscode": {
   "interpreter": {
    "hash": "d3914f5fb17e66baeb14c103313bc8c946345da85f5b2968ccefa93b7072e0df"
   }
  }
 },
 "nbformat": 4,
 "nbformat_minor": 5
}
