{
 "cells": [
  {
   "cell_type": "markdown",
   "id": "b7150049-5d0a-4c70-b683-b6568f8e3047",
   "metadata": {},
   "source": [
    "# Comparing Volume and Liquidity Between 3Pool and FraxBP Curve Metapools\n",
    "\n",
    "This analysis dynamically locates all metapools for the 3pool and fraxbp on curve, then performs an analysis of their TVL (segmented by whether or not liquidity is in the base pool lp token or the paired asset) and monthly volume."
   ]
  },
  {
   "cell_type": "code",
   "execution_count": 147,
   "id": "1abbe31e-72e0-4933-9c80-527bf56f22f2",
   "metadata": {
    "tags": []
   },
   "outputs": [
    {
     "data": {
      "text/plain": [
       "DataTransformerRegistry.enable('default')"
      ]
     },
     "execution_count": 147,
     "metadata": {},
     "output_type": "execute_result"
    }
   ],
   "source": [
    "import json \n",
    "import os\n",
    "import logging \n",
    "import asyncio\n",
    "import logging\n",
    "\n",
    "from typing import List\n",
    "from datetime import timedelta\n",
    "from pathlib import Path \n",
    "from pprint import PrettyPrinter\n",
    "\n",
    "from subgrounds import Subgrounds\n",
    "from web3 import Web3\n",
    "from pycoingecko import CoinGeckoAPI\n",
    "\n",
    "from prefect import task, flow \n",
    "from prefect.client import get_client\n",
    "from prefect.tasks import task_input_hash\n",
    "\n",
    "import pandas as pd \n",
    "import numpy as np \n",
    "import altair as alt \n",
    "import missingno as miss\n",
    "\n",
    "from subgrounds.pagination import ShallowStrategy\n",
    "\n",
    "from flywheel_util.constants import (\n",
    "    colors_24,\n",
    "    colors_28, \n",
    "    addresses, \n",
    "    url_infura, \n",
    "    url_snapshot, \n",
    "    url_subgraphs, \n",
    "    snapshot_api_max_records_per_request, \n",
    "    snapshot_api_max_skip,\n",
    ")\n",
    "from flywheel_util.tasks.general import df_to_sql\n",
    "from flywheel_util.utils.util import (\n",
    "    ddf, \n",
    "    first_row, \n",
    "    query_attrs,\n",
    "    recursive_index_merge, \n",
    "    remove_prefix,\n",
    "    df_cols_change_prefix, \n",
    "    df_cols_camel_to_snake, \n",
    ")\n",
    "\n",
    "# logging.basicConfig(level=logging.DEBUG)\n",
    "\n",
    "pp = PrettyPrinter().pprint\n",
    "\n",
    "# alt.data_transformers.disable_max_rows()"
   ]
  },
  {
   "cell_type": "code",
   "execution_count": 148,
   "id": "e02d8fcf-aeac-4d94-8da1-0e8db63c664e",
   "metadata": {
    "tags": []
   },
   "outputs": [],
   "source": [
    "# w3 = Web3(Web3.HTTPProvider(url_infura))"
   ]
  },
  {
   "cell_type": "code",
   "execution_count": 149,
   "id": "7737badc-bf84-4290-9f86-705031cd8882",
   "metadata": {
    "tags": []
   },
   "outputs": [],
   "source": [
    "sg = Subgrounds()\n",
    "sg_curve_vol = sg.load_subgraph(url_subgraphs.convex.curve_vol_mainnet)"
   ]
  },
  {
   "cell_type": "code",
   "execution_count": 150,
   "id": "9a8bcb97-4c36-4056-a7d6-b6def8ad84ad",
   "metadata": {},
   "outputs": [
    {
     "data": {
      "text/plain": [
       "'https://api.thegraph.com/subgraphs/name/convex-community/volume-mainnet'"
      ]
     },
     "execution_count": 150,
     "metadata": {},
     "output_type": "execute_result"
    }
   ],
   "source": [
    "url_subgraphs.convex.curve_vol_mainnet"
   ]
  },
  {
   "cell_type": "code",
   "execution_count": 151,
   "id": "f81ce684-d3f6-45ba-bc7f-9a1c257eeab7",
   "metadata": {},
   "outputs": [
    {
     "name": "stderr",
     "output_type": "stream",
     "text": [
      "/opt/miniconda3/envs/flywheel/lib/python3.10/site-packages/prefect/tasks.py:206: UserWarning: A task named 'query_pools' and defined at '/var/folders/5c/hf9_blgj3jbbxxvkw_s9snsw0000gn/T/ipykernel_94847/2663358337.py:1' conflicts with another task. Consider specifying a unique `name` parameter in the task definition:\n",
      "\n",
      " `@task(name='my_unique_name', ...)`\n",
      "  warnings.warn(\n",
      "/opt/miniconda3/envs/flywheel/lib/python3.10/site-packages/prefect/tasks.py:206: UserWarning: A task named 'process_pools' and defined at '/var/folders/5c/hf9_blgj3jbbxxvkw_s9snsw0000gn/T/ipykernel_94847/2663358337.py:15' conflicts with another task. Consider specifying a unique `name` parameter in the task definition:\n",
      "\n",
      " `@task(name='my_unique_name', ...)`\n",
      "  warnings.warn(\n",
      "/opt/miniconda3/envs/flywheel/lib/python3.10/site-packages/prefect/tasks.py:206: UserWarning: A task named 'query_pool_snaps' and defined at '/var/folders/5c/hf9_blgj3jbbxxvkw_s9snsw0000gn/T/ipykernel_94847/2663358337.py:22' conflicts with another task. Consider specifying a unique `name` parameter in the task definition:\n",
      "\n",
      " `@task(name='my_unique_name', ...)`\n",
      "  warnings.warn(\n",
      "/opt/miniconda3/envs/flywheel/lib/python3.10/site-packages/prefect/tasks.py:206: UserWarning: A task named 'process_pool_snaps' and defined at '/var/folders/5c/hf9_blgj3jbbxxvkw_s9snsw0000gn/T/ipykernel_94847/2663358337.py:35' conflicts with another task. Consider specifying a unique `name` parameter in the task definition:\n",
      "\n",
      " `@task(name='my_unique_name', ...)`\n",
      "  warnings.warn(\n",
      "/opt/miniconda3/envs/flywheel/lib/python3.10/site-packages/prefect/tasks.py:206: UserWarning: A task named 'query_pool_vol' and defined at '/var/folders/5c/hf9_blgj3jbbxxvkw_s9snsw0000gn/T/ipykernel_94847/2663358337.py:44' conflicts with another task. Consider specifying a unique `name` parameter in the task definition:\n",
      "\n",
      " `@task(name='my_unique_name', ...)`\n",
      "  warnings.warn(\n",
      "/opt/miniconda3/envs/flywheel/lib/python3.10/site-packages/prefect/tasks.py:206: UserWarning: A task named 'process_pool_vol' and defined at '/var/folders/5c/hf9_blgj3jbbxxvkw_s9snsw0000gn/T/ipykernel_94847/2663358337.py:56' conflicts with another task. Consider specifying a unique `name` parameter in the task definition:\n",
      "\n",
      " `@task(name='my_unique_name', ...)`\n",
      "  warnings.warn(\n",
      "/opt/miniconda3/envs/flywheel/lib/python3.10/site-packages/prefect/flows.py:205: UserWarning: A flow named 'flow-metapool' and defined at '/var/folders/5c/hf9_blgj3jbbxxvkw_s9snsw0000gn/T/ipykernel_94847/2663358337.py:63' conflicts with another flow. Consider specifying a unique `name` parameter in the flow definition:\n",
      "\n",
      " `@flow(name='my_unique_name', ...)`\n",
      "  warnings.warn(\n",
      "/opt/miniconda3/envs/flywheel/lib/python3.10/site-packages/prefect/flows.py:205: UserWarning: A flow named 'flow-fraxbp-vs-3pool' and defined at '/var/folders/5c/hf9_blgj3jbbxxvkw_s9snsw0000gn/T/ipykernel_94847/2663358337.py:94' conflicts with another flow. Consider specifying a unique `name` parameter in the flow definition:\n",
      "\n",
      " `@flow(name='my_unique_name', ...)`\n",
      "  warnings.warn(\n"
     ]
    }
   ],
   "source": [
    "@task(persist_result=True, cache_key_fn=task_input_hash, cache_expiration=timedelta(days=1), tags=[\"curve_subgraph\"])\n",
    "def query_pools(metapool_lp_token: str): \n",
    "    # Get all metapools for a particular pool \n",
    "    query_pools = sg_curve_vol.Query.pools(\n",
    "        first=1000, where={\"coins_contains\": [metapool_lp_token]}\n",
    "    )\n",
    "    dfs = sg.query_df([\n",
    "        query_pools.id, \n",
    "        query_pools.symbol, \n",
    "        query_pools.coins, \n",
    "        query_pools.coinNames, \n",
    "    ])\n",
    "    return dfs \n",
    "    \n",
    "@task \n",
    "def process_pools(dfs): \n",
    "    df_pool_coin = recursive_index_merge(dfs) \n",
    "    df_pool_coin = df_cols_change_prefix(df_pool_coin, \"pools_\", \"pool_\")\n",
    "    df_pool_coin = df_pool_coin.rename(columns={\"pool_coins\": \"coin\", \"pool_coinNames\": \"coin_name\"})\n",
    "    return df_pool_coin\n",
    "\n",
    "@task(persist_result=True, cache_key_fn=task_input_hash, cache_expiration=timedelta(days=1), tags=[\"curve_subgraph\"])\n",
    "def query_pool_snaps(pool_ids: List[str]): \n",
    "    query_snaps = sg_curve_vol.Query.dailyPoolSnapshots(\n",
    "        first=30000, orderBy=\"timestamp\", orderDirection=\"desc\", where={\"pool_in\": pool_ids}\n",
    "    )\n",
    "    dfs = sg.query_df([\n",
    "        query_snaps.pool.coins, \n",
    "        query_snaps.pool.id, \n",
    "        query_snaps.timestamp, \n",
    "        query_snaps.reservesUSD, \n",
    "    ], pagination_strategy=ShallowStrategy)\n",
    "    return dfs \n",
    "\n",
    "@task \n",
    "def process_pool_snaps(dfs): \n",
    "    df_pool_snaps = recursive_index_merge(dfs) \n",
    "    df_pool_snaps = remove_prefix(df_pool_snaps, \"dailyPoolSnapshots_\")\n",
    "    df_pool_snaps = df_cols_camel_to_snake(df_pool_snaps)\n",
    "    df_pool_snaps = df_pool_snaps.rename(columns={\"pool_coins\": \"coin\"})\n",
    "    df_pool_snaps.timestamp = pd.to_datetime(df_pool_snaps.timestamp, unit='s')\n",
    "    return df_pool_snaps\n",
    "\n",
    "@task(persist_result=True, cache_key_fn=task_input_hash, cache_expiration=timedelta(days=1), tags=[\"curve_subgraph\"])\n",
    "def query_pool_vol(pool_ids: List[str]): \n",
    "    query_vol = sg_curve_vol.Query.swapVolumeSnapshots(\n",
    "        first=30000, orderBy=\"timestamp\", orderDirection=\"desc\", where={\"period\": 86400, \"pool_in\": pool_ids}\n",
    "    )\n",
    "    df_pool_vol = sg.query_df([\n",
    "        query_vol.pool.id,\n",
    "        query_vol.timestamp, \n",
    "        query_vol.volumeUSD, \n",
    "    ], pagination_strategy=ShallowStrategy)\n",
    "    return df_pool_vol\n",
    "\n",
    "@task \n",
    "def process_pool_vol(df_pool_vol): \n",
    "    df_pool_vol = remove_prefix(df_pool_vol, \"swapVolumeSnapshots_\")\n",
    "    df_pool_vol = df_cols_camel_to_snake(df_pool_vol)\n",
    "    df_pool_vol.timestamp = pd.to_datetime(df_pool_vol.timestamp, unit='s')\n",
    "    return df_pool_vol\n",
    " \n",
    "@flow\n",
    "def flow_metapool(metapool_lp_token: str):\n",
    "\n",
    "    dfs_pool_coin = query_pools(metapool_lp_token)  \n",
    "    df_pool_coin = process_pools(dfs_pool_coin)\n",
    "    \n",
    "    pool_ids = df_pool_coin.pool_id.unique().tolist()\n",
    "    pool_batch_size = 4\n",
    "    i = 0 \n",
    "    futures_snaps = []\n",
    "    futures_vol = []\n",
    "    while i < len(pool_ids):\n",
    "        pool_id_batch = pool_ids[i:min(i+pool_batch_size, len(pool_ids))]\n",
    "        i += pool_batch_size\n",
    "        futures_snaps.append(query_pool_snaps.submit(pool_id_batch))\n",
    "        futures_vol.append(query_pool_vol.submit(pool_id_batch))\n",
    "    \n",
    "    dfs_snaps = [f.result() for f in futures_snaps]\n",
    "    dfs_vols = list(filter(lambda df: not df.empty, [f.result() for f in futures_vol]))\n",
    "    \n",
    "    dfs_snaps = list(map(lambda d: process_pool_snaps(d), dfs_snaps))\n",
    "    dfs_vols = list(map(lambda d: process_pool_vol(d), dfs_vols))\n",
    "            \n",
    "    df_pool_snaps = pd.concat(dfs_snaps)\n",
    "    df_pool_vol = pd.concat(dfs_vols)\n",
    "    \n",
    "    df_reserves = df_pool_coin.merge(df_pool_snaps, on=['pool_id', 'coin'])\n",
    "    df_volume = df_pool_coin[['pool_id', 'pool_symbol']].drop_duplicates().merge(df_pool_vol, on=['pool_id'])\n",
    "\n",
    "    return {\"reserves\": df_reserves, \"volume\": df_volume} \n",
    "    \n",
    "@flow \n",
    "def flow_fraxbp_vs_3pool(): \n",
    "    results = {}\n",
    "    for key in [\n",
    "        '3crv', \n",
    "        'crvfrax'\n",
    "    ]: \n",
    "        metapool_lp_token = addresses.token[key]\n",
    "        results[key] = flow_metapool(metapool_lp_token)\n",
    "    return results\n"
   ]
  },
  {
   "cell_type": "code",
   "execution_count": 152,
   "id": "7c34e1e2-9107-4f4c-9feb-5fdf0c1527b5",
   "metadata": {},
   "outputs": [
    {
     "data": {
      "text/html": [
       "<pre style=\"white-space:pre;overflow-x:auto;line-height:normal;font-family:Menlo,'DejaVu Sans Mono',consolas,'Courier New',monospace\">10:29:00.453 | <span style=\"color: #008080; text-decoration-color: #008080\">INFO</span>    | prefect.engine - Created flow run<span style=\"color: #800080; text-decoration-color: #800080\"> 'snobbish-collie'</span> for flow<span style=\"color: #800080; text-decoration-color: #800080; font-weight: bold\"> 'flow-fraxbp-vs-3pool'</span>\n",
       "</pre>\n"
      ],
      "text/plain": [
       "10:29:00.453 | \u001b[36mINFO\u001b[0m    | prefect.engine - Created flow run\u001b[35m 'snobbish-collie'\u001b[0m for flow\u001b[1;35m 'flow-fraxbp-vs-3pool'\u001b[0m\n"
      ]
     },
     "metadata": {},
     "output_type": "display_data"
    },
    {
     "name": "stderr",
     "output_type": "stream",
     "text": [
      "/opt/miniconda3/envs/flywheel/lib/python3.10/site-packages/prefect/tasks.py:206: UserWarning: A task named 'flow-metapool' and defined at '/var/folders/5c/hf9_blgj3jbbxxvkw_s9snsw0000gn/T/ipykernel_94847/2663358337.py:63' conflicts with another task. Consider specifying a unique `name` parameter in the task definition:\n",
      "\n",
      " `@task(name='my_unique_name', ...)`\n",
      "  warnings.warn(\n"
     ]
    },
    {
     "data": {
      "text/html": [
       "<pre style=\"white-space:pre;overflow-x:auto;line-height:normal;font-family:Menlo,'DejaVu Sans Mono',consolas,'Courier New',monospace\">10:29:00.532 | <span style=\"color: #008080; text-decoration-color: #008080\">INFO</span>    | Flow run<span style=\"color: #800080; text-decoration-color: #800080\"> 'snobbish-collie'</span> - Created subflow run<span style=\"color: #800080; text-decoration-color: #800080\"> 'magnificent-leopard'</span> for flow<span style=\"color: #800080; text-decoration-color: #800080; font-weight: bold\"> 'flow-metapool'</span>\n",
       "</pre>\n"
      ],
      "text/plain": [
       "10:29:00.532 | \u001b[36mINFO\u001b[0m    | Flow run\u001b[35m 'snobbish-collie'\u001b[0m - Created subflow run\u001b[35m 'magnificent-leopard'\u001b[0m for flow\u001b[1;35m 'flow-metapool'\u001b[0m\n"
      ]
     },
     "metadata": {},
     "output_type": "display_data"
    },
    {
     "data": {
      "text/html": [
       "<pre style=\"white-space:pre;overflow-x:auto;line-height:normal;font-family:Menlo,'DejaVu Sans Mono',consolas,'Courier New',monospace\">10:29:00.557 | <span style=\"color: #008080; text-decoration-color: #008080\">INFO</span>    | Flow run<span style=\"color: #800080; text-decoration-color: #800080\"> 'magnificent-leopard'</span> - Created task run 'query_pools-66de95c5-0' for task 'query_pools'\n",
       "</pre>\n"
      ],
      "text/plain": [
       "10:29:00.557 | \u001b[36mINFO\u001b[0m    | Flow run\u001b[35m 'magnificent-leopard'\u001b[0m - Created task run 'query_pools-66de95c5-0' for task 'query_pools'\n"
      ]
     },
     "metadata": {},
     "output_type": "display_data"
    },
    {
     "data": {
      "text/html": [
       "<pre style=\"white-space:pre;overflow-x:auto;line-height:normal;font-family:Menlo,'DejaVu Sans Mono',consolas,'Courier New',monospace\">10:29:00.558 | <span style=\"color: #008080; text-decoration-color: #008080\">INFO</span>    | Flow run<span style=\"color: #800080; text-decoration-color: #800080\"> 'magnificent-leopard'</span> - Executing 'query_pools-66de95c5-0' immediately...\n",
       "</pre>\n"
      ],
      "text/plain": [
       "10:29:00.558 | \u001b[36mINFO\u001b[0m    | Flow run\u001b[35m 'magnificent-leopard'\u001b[0m - Executing 'query_pools-66de95c5-0' immediately...\n"
      ]
     },
     "metadata": {},
     "output_type": "display_data"
    },
    {
     "data": {
      "text/html": [
       "<pre style=\"white-space:pre;overflow-x:auto;line-height:normal;font-family:Menlo,'DejaVu Sans Mono',consolas,'Courier New',monospace\">10:29:01.021 | <span style=\"color: #008080; text-decoration-color: #008080\">INFO</span>    | Task run 'query_pools-66de95c5-0' - Finished in state <span style=\"color: #008000; text-decoration-color: #008000\">Completed</span>()\n",
       "</pre>\n"
      ],
      "text/plain": [
       "10:29:01.021 | \u001b[36mINFO\u001b[0m    | Task run 'query_pools-66de95c5-0' - Finished in state \u001b[32mCompleted\u001b[0m()\n"
      ]
     },
     "metadata": {},
     "output_type": "display_data"
    },
    {
     "data": {
      "text/html": [
       "<pre style=\"white-space:pre;overflow-x:auto;line-height:normal;font-family:Menlo,'DejaVu Sans Mono',consolas,'Courier New',monospace\">10:29:01.037 | <span style=\"color: #008080; text-decoration-color: #008080\">INFO</span>    | Flow run<span style=\"color: #800080; text-decoration-color: #800080\"> 'magnificent-leopard'</span> - Created task run 'process_pools-45529377-0' for task 'process_pools'\n",
       "</pre>\n"
      ],
      "text/plain": [
       "10:29:01.037 | \u001b[36mINFO\u001b[0m    | Flow run\u001b[35m 'magnificent-leopard'\u001b[0m - Created task run 'process_pools-45529377-0' for task 'process_pools'\n"
      ]
     },
     "metadata": {},
     "output_type": "display_data"
    },
    {
     "data": {
      "text/html": [
       "<pre style=\"white-space:pre;overflow-x:auto;line-height:normal;font-family:Menlo,'DejaVu Sans Mono',consolas,'Courier New',monospace\">10:29:01.038 | <span style=\"color: #008080; text-decoration-color: #008080\">INFO</span>    | Flow run<span style=\"color: #800080; text-decoration-color: #800080\"> 'magnificent-leopard'</span> - Executing 'process_pools-45529377-0' immediately...\n",
       "</pre>\n"
      ],
      "text/plain": [
       "10:29:01.038 | \u001b[36mINFO\u001b[0m    | Flow run\u001b[35m 'magnificent-leopard'\u001b[0m - Executing 'process_pools-45529377-0' immediately...\n"
      ]
     },
     "metadata": {},
     "output_type": "display_data"
    },
    {
     "data": {
      "text/html": [
       "<pre style=\"white-space:pre;overflow-x:auto;line-height:normal;font-family:Menlo,'DejaVu Sans Mono',consolas,'Courier New',monospace\">10:29:01.066 | <span style=\"color: #008080; text-decoration-color: #008080\">INFO</span>    | Task run 'process_pools-45529377-0' - Finished in state <span style=\"color: #008000; text-decoration-color: #008000\">Completed</span>()\n",
       "</pre>\n"
      ],
      "text/plain": [
       "10:29:01.066 | \u001b[36mINFO\u001b[0m    | Task run 'process_pools-45529377-0' - Finished in state \u001b[32mCompleted\u001b[0m()\n"
      ]
     },
     "metadata": {},
     "output_type": "display_data"
    },
    {
     "data": {
      "text/html": [
       "<pre style=\"white-space:pre;overflow-x:auto;line-height:normal;font-family:Menlo,'DejaVu Sans Mono',consolas,'Courier New',monospace\">10:29:01.146 | <span style=\"color: #008080; text-decoration-color: #008080\">INFO</span>    | Flow run<span style=\"color: #800080; text-decoration-color: #800080\"> 'magnificent-leopard'</span> - Created task run 'query_pool_snaps-60635b41-0' for task 'query_pool_snaps'\n",
       "</pre>\n"
      ],
      "text/plain": [
       "10:29:01.146 | \u001b[36mINFO\u001b[0m    | Flow run\u001b[35m 'magnificent-leopard'\u001b[0m - Created task run 'query_pool_snaps-60635b41-0' for task 'query_pool_snaps'\n"
      ]
     },
     "metadata": {},
     "output_type": "display_data"
    },
    {
     "data": {
      "text/html": [
       "<pre style=\"white-space:pre;overflow-x:auto;line-height:normal;font-family:Menlo,'DejaVu Sans Mono',consolas,'Courier New',monospace\">10:29:01.147 | <span style=\"color: #008080; text-decoration-color: #008080\">INFO</span>    | Flow run<span style=\"color: #800080; text-decoration-color: #800080\"> 'magnificent-leopard'</span> - Submitted task run 'query_pool_snaps-60635b41-0' for execution.\n",
       "</pre>\n"
      ],
      "text/plain": [
       "10:29:01.147 | \u001b[36mINFO\u001b[0m    | Flow run\u001b[35m 'magnificent-leopard'\u001b[0m - Submitted task run 'query_pool_snaps-60635b41-0' for execution.\n"
      ]
     },
     "metadata": {},
     "output_type": "display_data"
    },
    {
     "data": {
      "text/html": [
       "<pre style=\"white-space:pre;overflow-x:auto;line-height:normal;font-family:Menlo,'DejaVu Sans Mono',consolas,'Courier New',monospace\">10:29:01.192 | <span style=\"color: #008080; text-decoration-color: #008080\">INFO</span>    | Flow run<span style=\"color: #800080; text-decoration-color: #800080\"> 'magnificent-leopard'</span> - Created task run 'query_pool_vol-8bdd8db3-4' for task 'query_pool_vol'\n",
       "</pre>\n"
      ],
      "text/plain": [
       "10:29:01.192 | \u001b[36mINFO\u001b[0m    | Flow run\u001b[35m 'magnificent-leopard'\u001b[0m - Created task run 'query_pool_vol-8bdd8db3-4' for task 'query_pool_vol'\n"
      ]
     },
     "metadata": {},
     "output_type": "display_data"
    },
    {
     "data": {
      "text/html": [
       "<pre style=\"white-space:pre;overflow-x:auto;line-height:normal;font-family:Menlo,'DejaVu Sans Mono',consolas,'Courier New',monospace\">10:29:01.193 | <span style=\"color: #008080; text-decoration-color: #008080\">INFO</span>    | Flow run<span style=\"color: #800080; text-decoration-color: #800080\"> 'magnificent-leopard'</span> - Submitted task run 'query_pool_vol-8bdd8db3-4' for execution.\n",
       "</pre>\n"
      ],
      "text/plain": [
       "10:29:01.193 | \u001b[36mINFO\u001b[0m    | Flow run\u001b[35m 'magnificent-leopard'\u001b[0m - Submitted task run 'query_pool_vol-8bdd8db3-4' for execution.\n"
      ]
     },
     "metadata": {},
     "output_type": "display_data"
    },
    {
     "data": {
      "text/html": [
       "<pre style=\"white-space:pre;overflow-x:auto;line-height:normal;font-family:Menlo,'DejaVu Sans Mono',consolas,'Courier New',monospace\">10:29:01.254 | <span style=\"color: #008080; text-decoration-color: #008080\">INFO</span>    | Flow run<span style=\"color: #800080; text-decoration-color: #800080\"> 'magnificent-leopard'</span> - Created task run 'query_pool_vol-8bdd8db3-13' for task 'query_pool_vol'\n",
       "</pre>\n"
      ],
      "text/plain": [
       "10:29:01.254 | \u001b[36mINFO\u001b[0m    | Flow run\u001b[35m 'magnificent-leopard'\u001b[0m - Created task run 'query_pool_vol-8bdd8db3-13' for task 'query_pool_vol'\n"
      ]
     },
     "metadata": {},
     "output_type": "display_data"
    },
    {
     "data": {
      "text/html": [
       "<pre style=\"white-space:pre;overflow-x:auto;line-height:normal;font-family:Menlo,'DejaVu Sans Mono',consolas,'Courier New',monospace\">10:29:01.255 | <span style=\"color: #008080; text-decoration-color: #008080\">INFO</span>    | Flow run<span style=\"color: #800080; text-decoration-color: #800080\"> 'magnificent-leopard'</span> - Submitted task run 'query_pool_vol-8bdd8db3-13' for execution.\n",
       "</pre>\n"
      ],
      "text/plain": [
       "10:29:01.255 | \u001b[36mINFO\u001b[0m    | Flow run\u001b[35m 'magnificent-leopard'\u001b[0m - Submitted task run 'query_pool_vol-8bdd8db3-13' for execution.\n"
      ]
     },
     "metadata": {},
     "output_type": "display_data"
    },
    {
     "data": {
      "text/html": [
       "<pre style=\"white-space:pre;overflow-x:auto;line-height:normal;font-family:Menlo,'DejaVu Sans Mono',consolas,'Courier New',monospace\">10:29:01.308 | <span style=\"color: #008080; text-decoration-color: #008080\">INFO</span>    | Flow run<span style=\"color: #800080; text-decoration-color: #800080\"> 'magnificent-leopard'</span> - Created task run 'query_pool_snaps-60635b41-23' for task 'query_pool_snaps'\n",
       "</pre>\n"
      ],
      "text/plain": [
       "10:29:01.308 | \u001b[36mINFO\u001b[0m    | Flow run\u001b[35m 'magnificent-leopard'\u001b[0m - Created task run 'query_pool_snaps-60635b41-23' for task 'query_pool_snaps'\n"
      ]
     },
     "metadata": {},
     "output_type": "display_data"
    },
    {
     "data": {
      "text/html": [
       "<pre style=\"white-space:pre;overflow-x:auto;line-height:normal;font-family:Menlo,'DejaVu Sans Mono',consolas,'Courier New',monospace\">10:29:01.309 | <span style=\"color: #008080; text-decoration-color: #008080\">INFO</span>    | Flow run<span style=\"color: #800080; text-decoration-color: #800080\"> 'magnificent-leopard'</span> - Submitted task run 'query_pool_snaps-60635b41-23' for execution.\n",
       "</pre>\n"
      ],
      "text/plain": [
       "10:29:01.309 | \u001b[36mINFO\u001b[0m    | Flow run\u001b[35m 'magnificent-leopard'\u001b[0m - Submitted task run 'query_pool_snaps-60635b41-23' for execution.\n"
      ]
     },
     "metadata": {},
     "output_type": "display_data"
    },
    {
     "data": {
      "text/html": [
       "<pre style=\"white-space:pre;overflow-x:auto;line-height:normal;font-family:Menlo,'DejaVu Sans Mono',consolas,'Courier New',monospace\">10:29:01.359 | <span style=\"color: #008080; text-decoration-color: #008080\">INFO</span>    | Flow run<span style=\"color: #800080; text-decoration-color: #800080\"> 'magnificent-leopard'</span> - Created task run 'query_pool_vol-8bdd8db3-28' for task 'query_pool_vol'\n",
       "</pre>\n"
      ],
      "text/plain": [
       "10:29:01.359 | \u001b[36mINFO\u001b[0m    | Flow run\u001b[35m 'magnificent-leopard'\u001b[0m - Created task run 'query_pool_vol-8bdd8db3-28' for task 'query_pool_vol'\n"
      ]
     },
     "metadata": {},
     "output_type": "display_data"
    },
    {
     "data": {
      "text/html": [
       "<pre style=\"white-space:pre;overflow-x:auto;line-height:normal;font-family:Menlo,'DejaVu Sans Mono',consolas,'Courier New',monospace\">10:29:01.360 | <span style=\"color: #008080; text-decoration-color: #008080\">INFO</span>    | Flow run<span style=\"color: #800080; text-decoration-color: #800080\"> 'magnificent-leopard'</span> - Submitted task run 'query_pool_vol-8bdd8db3-28' for execution.\n",
       "</pre>\n"
      ],
      "text/plain": [
       "10:29:01.360 | \u001b[36mINFO\u001b[0m    | Flow run\u001b[35m 'magnificent-leopard'\u001b[0m - Submitted task run 'query_pool_vol-8bdd8db3-28' for execution.\n"
      ]
     },
     "metadata": {},
     "output_type": "display_data"
    },
    {
     "data": {
      "text/html": [
       "<pre style=\"white-space:pre;overflow-x:auto;line-height:normal;font-family:Menlo,'DejaVu Sans Mono',consolas,'Courier New',monospace\">10:29:01.410 | <span style=\"color: #008080; text-decoration-color: #008080\">INFO</span>    | Flow run<span style=\"color: #800080; text-decoration-color: #800080\"> 'magnificent-leopard'</span> - Created task run 'query_pool_snaps-60635b41-35' for task 'query_pool_snaps'\n",
       "</pre>\n"
      ],
      "text/plain": [
       "10:29:01.410 | \u001b[36mINFO\u001b[0m    | Flow run\u001b[35m 'magnificent-leopard'\u001b[0m - Created task run 'query_pool_snaps-60635b41-35' for task 'query_pool_snaps'\n"
      ]
     },
     "metadata": {},
     "output_type": "display_data"
    },
    {
     "data": {
      "text/html": [
       "<pre style=\"white-space:pre;overflow-x:auto;line-height:normal;font-family:Menlo,'DejaVu Sans Mono',consolas,'Courier New',monospace\">10:29:01.411 | <span style=\"color: #008080; text-decoration-color: #008080\">INFO</span>    | Flow run<span style=\"color: #800080; text-decoration-color: #800080\"> 'magnificent-leopard'</span> - Submitted task run 'query_pool_snaps-60635b41-35' for execution.\n",
       "</pre>\n"
      ],
      "text/plain": [
       "10:29:01.411 | \u001b[36mINFO\u001b[0m    | Flow run\u001b[35m 'magnificent-leopard'\u001b[0m - Submitted task run 'query_pool_snaps-60635b41-35' for execution.\n"
      ]
     },
     "metadata": {},
     "output_type": "display_data"
    },
    {
     "data": {
      "text/html": [
       "<pre style=\"white-space:pre;overflow-x:auto;line-height:normal;font-family:Menlo,'DejaVu Sans Mono',consolas,'Courier New',monospace\">10:29:01.491 | <span style=\"color: #008080; text-decoration-color: #008080\">INFO</span>    | Flow run<span style=\"color: #800080; text-decoration-color: #800080\"> 'magnificent-leopard'</span> - Created task run 'query_pool_snaps-60635b41-57' for task 'query_pool_snaps'\n",
       "</pre>\n"
      ],
      "text/plain": [
       "10:29:01.491 | \u001b[36mINFO\u001b[0m    | Flow run\u001b[35m 'magnificent-leopard'\u001b[0m - Created task run 'query_pool_snaps-60635b41-57' for task 'query_pool_snaps'\n"
      ]
     },
     "metadata": {},
     "output_type": "display_data"
    },
    {
     "data": {
      "text/html": [
       "<pre style=\"white-space:pre;overflow-x:auto;line-height:normal;font-family:Menlo,'DejaVu Sans Mono',consolas,'Courier New',monospace\">10:29:01.492 | <span style=\"color: #008080; text-decoration-color: #008080\">INFO</span>    | Flow run<span style=\"color: #800080; text-decoration-color: #800080\"> 'magnificent-leopard'</span> - Submitted task run 'query_pool_snaps-60635b41-57' for execution.\n",
       "</pre>\n"
      ],
      "text/plain": [
       "10:29:01.492 | \u001b[36mINFO\u001b[0m    | Flow run\u001b[35m 'magnificent-leopard'\u001b[0m - Submitted task run 'query_pool_snaps-60635b41-57' for execution.\n"
      ]
     },
     "metadata": {},
     "output_type": "display_data"
    },
    {
     "data": {
      "text/html": [
       "<pre style=\"white-space:pre;overflow-x:auto;line-height:normal;font-family:Menlo,'DejaVu Sans Mono',consolas,'Courier New',monospace\">10:29:01.506 | <span style=\"color: #008080; text-decoration-color: #008080\">INFO</span>    | Flow run<span style=\"color: #800080; text-decoration-color: #800080\"> 'magnificent-leopard'</span> - Created task run 'query_pool_vol-8bdd8db3-61' for task 'query_pool_vol'\n",
       "</pre>\n"
      ],
      "text/plain": [
       "10:29:01.506 | \u001b[36mINFO\u001b[0m    | Flow run\u001b[35m 'magnificent-leopard'\u001b[0m - Created task run 'query_pool_vol-8bdd8db3-61' for task 'query_pool_vol'\n"
      ]
     },
     "metadata": {},
     "output_type": "display_data"
    },
    {
     "data": {
      "text/html": [
       "<pre style=\"white-space:pre;overflow-x:auto;line-height:normal;font-family:Menlo,'DejaVu Sans Mono',consolas,'Courier New',monospace\">10:29:01.507 | <span style=\"color: #008080; text-decoration-color: #008080\">INFO</span>    | Flow run<span style=\"color: #800080; text-decoration-color: #800080\"> 'magnificent-leopard'</span> - Submitted task run 'query_pool_vol-8bdd8db3-61' for execution.\n",
       "</pre>\n"
      ],
      "text/plain": [
       "10:29:01.507 | \u001b[36mINFO\u001b[0m    | Flow run\u001b[35m 'magnificent-leopard'\u001b[0m - Submitted task run 'query_pool_vol-8bdd8db3-61' for execution.\n"
      ]
     },
     "metadata": {},
     "output_type": "display_data"
    },
    {
     "data": {
      "text/html": [
       "<pre style=\"white-space:pre;overflow-x:auto;line-height:normal;font-family:Menlo,'DejaVu Sans Mono',consolas,'Courier New',monospace\">10:29:01.518 | <span style=\"color: #008080; text-decoration-color: #008080\">INFO</span>    | Flow run<span style=\"color: #800080; text-decoration-color: #800080\"> 'magnificent-leopard'</span> - Created task run 'query_pool_snaps-60635b41-32' for task 'query_pool_snaps'\n",
       "</pre>\n"
      ],
      "text/plain": [
       "10:29:01.518 | \u001b[36mINFO\u001b[0m    | Flow run\u001b[35m 'magnificent-leopard'\u001b[0m - Created task run 'query_pool_snaps-60635b41-32' for task 'query_pool_snaps'\n"
      ]
     },
     "metadata": {},
     "output_type": "display_data"
    },
    {
     "data": {
      "text/html": [
       "<pre style=\"white-space:pre;overflow-x:auto;line-height:normal;font-family:Menlo,'DejaVu Sans Mono',consolas,'Courier New',monospace\">10:29:01.519 | <span style=\"color: #008080; text-decoration-color: #008080\">INFO</span>    | Flow run<span style=\"color: #800080; text-decoration-color: #800080\"> 'magnificent-leopard'</span> - Submitted task run 'query_pool_snaps-60635b41-32' for execution.\n",
       "</pre>\n"
      ],
      "text/plain": [
       "10:29:01.519 | \u001b[36mINFO\u001b[0m    | Flow run\u001b[35m 'magnificent-leopard'\u001b[0m - Submitted task run 'query_pool_snaps-60635b41-32' for execution.\n"
      ]
     },
     "metadata": {},
     "output_type": "display_data"
    },
    {
     "data": {
      "text/html": [
       "<pre style=\"white-space:pre;overflow-x:auto;line-height:normal;font-family:Menlo,'DejaVu Sans Mono',consolas,'Courier New',monospace\">10:29:01.549 | <span style=\"color: #008080; text-decoration-color: #008080\">INFO</span>    | Flow run<span style=\"color: #800080; text-decoration-color: #800080\"> 'magnificent-leopard'</span> - Created task run 'query_pool_vol-8bdd8db3-57' for task 'query_pool_vol'\n",
       "</pre>\n"
      ],
      "text/plain": [
       "10:29:01.549 | \u001b[36mINFO\u001b[0m    | Flow run\u001b[35m 'magnificent-leopard'\u001b[0m - Created task run 'query_pool_vol-8bdd8db3-57' for task 'query_pool_vol'\n"
      ]
     },
     "metadata": {},
     "output_type": "display_data"
    },
    {
     "data": {
      "text/html": [
       "<pre style=\"white-space:pre;overflow-x:auto;line-height:normal;font-family:Menlo,'DejaVu Sans Mono',consolas,'Courier New',monospace\">10:29:01.549 | <span style=\"color: #008080; text-decoration-color: #008080\">INFO</span>    | Flow run<span style=\"color: #800080; text-decoration-color: #800080\"> 'magnificent-leopard'</span> - Submitted task run 'query_pool_vol-8bdd8db3-57' for execution.\n",
       "</pre>\n"
      ],
      "text/plain": [
       "10:29:01.549 | \u001b[36mINFO\u001b[0m    | Flow run\u001b[35m 'magnificent-leopard'\u001b[0m - Submitted task run 'query_pool_vol-8bdd8db3-57' for execution.\n"
      ]
     },
     "metadata": {},
     "output_type": "display_data"
    },
    {
     "data": {
      "text/html": [
       "<pre style=\"white-space:pre;overflow-x:auto;line-height:normal;font-family:Menlo,'DejaVu Sans Mono',consolas,'Courier New',monospace\">10:29:01.561 | <span style=\"color: #008080; text-decoration-color: #008080\">INFO</span>    | Flow run<span style=\"color: #800080; text-decoration-color: #800080\"> 'magnificent-leopard'</span> - Created task run 'query_pool_snaps-60635b41-1' for task 'query_pool_snaps'\n",
       "</pre>\n"
      ],
      "text/plain": [
       "10:29:01.561 | \u001b[36mINFO\u001b[0m    | Flow run\u001b[35m 'magnificent-leopard'\u001b[0m - Created task run 'query_pool_snaps-60635b41-1' for task 'query_pool_snaps'\n"
      ]
     },
     "metadata": {},
     "output_type": "display_data"
    },
    {
     "data": {
      "text/html": [
       "<pre style=\"white-space:pre;overflow-x:auto;line-height:normal;font-family:Menlo,'DejaVu Sans Mono',consolas,'Courier New',monospace\">10:29:01.562 | <span style=\"color: #008080; text-decoration-color: #008080\">INFO</span>    | Flow run<span style=\"color: #800080; text-decoration-color: #800080\"> 'magnificent-leopard'</span> - Submitted task run 'query_pool_snaps-60635b41-1' for execution.\n",
       "</pre>\n"
      ],
      "text/plain": [
       "10:29:01.562 | \u001b[36mINFO\u001b[0m    | Flow run\u001b[35m 'magnificent-leopard'\u001b[0m - Submitted task run 'query_pool_snaps-60635b41-1' for execution.\n"
      ]
     },
     "metadata": {},
     "output_type": "display_data"
    },
    {
     "data": {
      "text/html": [
       "<pre style=\"white-space:pre;overflow-x:auto;line-height:normal;font-family:Menlo,'DejaVu Sans Mono',consolas,'Courier New',monospace\">10:29:01.573 | <span style=\"color: #008080; text-decoration-color: #008080\">INFO</span>    | Flow run<span style=\"color: #800080; text-decoration-color: #800080\"> 'magnificent-leopard'</span> - Created task run 'query_pool_snaps-60635b41-51' for task 'query_pool_snaps'\n",
       "</pre>\n"
      ],
      "text/plain": [
       "10:29:01.573 | \u001b[36mINFO\u001b[0m    | Flow run\u001b[35m 'magnificent-leopard'\u001b[0m - Created task run 'query_pool_snaps-60635b41-51' for task 'query_pool_snaps'\n"
      ]
     },
     "metadata": {},
     "output_type": "display_data"
    },
    {
     "data": {
      "text/html": [
       "<pre style=\"white-space:pre;overflow-x:auto;line-height:normal;font-family:Menlo,'DejaVu Sans Mono',consolas,'Courier New',monospace\">10:29:01.574 | <span style=\"color: #008080; text-decoration-color: #008080\">INFO</span>    | Flow run<span style=\"color: #800080; text-decoration-color: #800080\"> 'magnificent-leopard'</span> - Submitted task run 'query_pool_snaps-60635b41-51' for execution.\n",
       "</pre>\n"
      ],
      "text/plain": [
       "10:29:01.574 | \u001b[36mINFO\u001b[0m    | Flow run\u001b[35m 'magnificent-leopard'\u001b[0m - Submitted task run 'query_pool_snaps-60635b41-51' for execution.\n"
      ]
     },
     "metadata": {},
     "output_type": "display_data"
    },
    {
     "data": {
      "text/html": [
       "<pre style=\"white-space:pre;overflow-x:auto;line-height:normal;font-family:Menlo,'DejaVu Sans Mono',consolas,'Courier New',monospace\">10:29:01.621 | <span style=\"color: #008080; text-decoration-color: #008080\">INFO</span>    | Flow run<span style=\"color: #800080; text-decoration-color: #800080\"> 'magnificent-leopard'</span> - Created task run 'query_pool_snaps-60635b41-56' for task 'query_pool_snaps'\n",
       "</pre>\n"
      ],
      "text/plain": [
       "10:29:01.621 | \u001b[36mINFO\u001b[0m    | Flow run\u001b[35m 'magnificent-leopard'\u001b[0m - Created task run 'query_pool_snaps-60635b41-56' for task 'query_pool_snaps'\n"
      ]
     },
     "metadata": {},
     "output_type": "display_data"
    },
    {
     "data": {
      "text/html": [
       "<pre style=\"white-space:pre;overflow-x:auto;line-height:normal;font-family:Menlo,'DejaVu Sans Mono',consolas,'Courier New',monospace\">10:29:01.622 | <span style=\"color: #008080; text-decoration-color: #008080\">INFO</span>    | Flow run<span style=\"color: #800080; text-decoration-color: #800080\"> 'magnificent-leopard'</span> - Submitted task run 'query_pool_snaps-60635b41-56' for execution.\n",
       "</pre>\n"
      ],
      "text/plain": [
       "10:29:01.622 | \u001b[36mINFO\u001b[0m    | Flow run\u001b[35m 'magnificent-leopard'\u001b[0m - Submitted task run 'query_pool_snaps-60635b41-56' for execution.\n"
      ]
     },
     "metadata": {},
     "output_type": "display_data"
    },
    {
     "data": {
      "text/html": [
       "<pre style=\"white-space:pre;overflow-x:auto;line-height:normal;font-family:Menlo,'DejaVu Sans Mono',consolas,'Courier New',monospace\">10:29:01.660 | <span style=\"color: #008080; text-decoration-color: #008080\">INFO</span>    | Flow run<span style=\"color: #800080; text-decoration-color: #800080\"> 'magnificent-leopard'</span> - Created task run 'query_pool_vol-8bdd8db3-17' for task 'query_pool_vol'\n",
       "</pre>\n"
      ],
      "text/plain": [
       "10:29:01.660 | \u001b[36mINFO\u001b[0m    | Flow run\u001b[35m 'magnificent-leopard'\u001b[0m - Created task run 'query_pool_vol-8bdd8db3-17' for task 'query_pool_vol'\n"
      ]
     },
     "metadata": {},
     "output_type": "display_data"
    },
    {
     "data": {
      "text/html": [
       "<pre style=\"white-space:pre;overflow-x:auto;line-height:normal;font-family:Menlo,'DejaVu Sans Mono',consolas,'Courier New',monospace\">10:29:01.661 | <span style=\"color: #008080; text-decoration-color: #008080\">INFO</span>    | Flow run<span style=\"color: #800080; text-decoration-color: #800080\"> 'magnificent-leopard'</span> - Submitted task run 'query_pool_vol-8bdd8db3-17' for execution.\n",
       "</pre>\n"
      ],
      "text/plain": [
       "10:29:01.661 | \u001b[36mINFO\u001b[0m    | Flow run\u001b[35m 'magnificent-leopard'\u001b[0m - Submitted task run 'query_pool_vol-8bdd8db3-17' for execution.\n"
      ]
     },
     "metadata": {},
     "output_type": "display_data"
    },
    {
     "data": {
      "text/html": [
       "<pre style=\"white-space:pre;overflow-x:auto;line-height:normal;font-family:Menlo,'DejaVu Sans Mono',consolas,'Courier New',monospace\">10:29:01.674 | <span style=\"color: #008080; text-decoration-color: #008080\">INFO</span>    | Flow run<span style=\"color: #800080; text-decoration-color: #800080\"> 'magnificent-leopard'</span> - Created task run 'query_pool_vol-8bdd8db3-1' for task 'query_pool_vol'\n",
       "</pre>\n"
      ],
      "text/plain": [
       "10:29:01.674 | \u001b[36mINFO\u001b[0m    | Flow run\u001b[35m 'magnificent-leopard'\u001b[0m - Created task run 'query_pool_vol-8bdd8db3-1' for task 'query_pool_vol'\n"
      ]
     },
     "metadata": {},
     "output_type": "display_data"
    },
    {
     "data": {
      "text/html": [
       "<pre style=\"white-space:pre;overflow-x:auto;line-height:normal;font-family:Menlo,'DejaVu Sans Mono',consolas,'Courier New',monospace\">10:29:01.675 | <span style=\"color: #008080; text-decoration-color: #008080\">INFO</span>    | Flow run<span style=\"color: #800080; text-decoration-color: #800080\"> 'magnificent-leopard'</span> - Submitted task run 'query_pool_vol-8bdd8db3-1' for execution.\n",
       "</pre>\n"
      ],
      "text/plain": [
       "10:29:01.675 | \u001b[36mINFO\u001b[0m    | Flow run\u001b[35m 'magnificent-leopard'\u001b[0m - Submitted task run 'query_pool_vol-8bdd8db3-1' for execution.\n"
      ]
     },
     "metadata": {},
     "output_type": "display_data"
    },
    {
     "data": {
      "text/html": [
       "<pre style=\"white-space:pre;overflow-x:auto;line-height:normal;font-family:Menlo,'DejaVu Sans Mono',consolas,'Courier New',monospace\">10:29:01.686 | <span style=\"color: #008080; text-decoration-color: #008080\">INFO</span>    | Flow run<span style=\"color: #800080; text-decoration-color: #800080\"> 'magnificent-leopard'</span> - Created task run 'query_pool_vol-8bdd8db3-58' for task 'query_pool_vol'\n",
       "</pre>\n"
      ],
      "text/plain": [
       "10:29:01.686 | \u001b[36mINFO\u001b[0m    | Flow run\u001b[35m 'magnificent-leopard'\u001b[0m - Created task run 'query_pool_vol-8bdd8db3-58' for task 'query_pool_vol'\n"
      ]
     },
     "metadata": {},
     "output_type": "display_data"
    },
    {
     "data": {
      "text/html": [
       "<pre style=\"white-space:pre;overflow-x:auto;line-height:normal;font-family:Menlo,'DejaVu Sans Mono',consolas,'Courier New',monospace\">10:29:01.687 | <span style=\"color: #008080; text-decoration-color: #008080\">INFO</span>    | Flow run<span style=\"color: #800080; text-decoration-color: #800080\"> 'magnificent-leopard'</span> - Submitted task run 'query_pool_vol-8bdd8db3-58' for execution.\n",
       "</pre>\n"
      ],
      "text/plain": [
       "10:29:01.687 | \u001b[36mINFO\u001b[0m    | Flow run\u001b[35m 'magnificent-leopard'\u001b[0m - Submitted task run 'query_pool_vol-8bdd8db3-58' for execution.\n"
      ]
     },
     "metadata": {},
     "output_type": "display_data"
    },
    {
     "data": {
      "text/html": [
       "<pre style=\"white-space:pre;overflow-x:auto;line-height:normal;font-family:Menlo,'DejaVu Sans Mono',consolas,'Courier New',monospace\">10:29:01.706 | <span style=\"color: #008080; text-decoration-color: #008080\">INFO</span>    | Flow run<span style=\"color: #800080; text-decoration-color: #800080\"> 'magnificent-leopard'</span> - Created task run 'query_pool_vol-8bdd8db3-37' for task 'query_pool_vol'\n",
       "</pre>\n"
      ],
      "text/plain": [
       "10:29:01.706 | \u001b[36mINFO\u001b[0m    | Flow run\u001b[35m 'magnificent-leopard'\u001b[0m - Created task run 'query_pool_vol-8bdd8db3-37' for task 'query_pool_vol'\n"
      ]
     },
     "metadata": {},
     "output_type": "display_data"
    },
    {
     "data": {
      "text/html": [
       "<pre style=\"white-space:pre;overflow-x:auto;line-height:normal;font-family:Menlo,'DejaVu Sans Mono',consolas,'Courier New',monospace\">10:29:01.707 | <span style=\"color: #008080; text-decoration-color: #008080\">INFO</span>    | Flow run<span style=\"color: #800080; text-decoration-color: #800080\"> 'magnificent-leopard'</span> - Submitted task run 'query_pool_vol-8bdd8db3-37' for execution.\n",
       "</pre>\n"
      ],
      "text/plain": [
       "10:29:01.707 | \u001b[36mINFO\u001b[0m    | Flow run\u001b[35m 'magnificent-leopard'\u001b[0m - Submitted task run 'query_pool_vol-8bdd8db3-37' for execution.\n"
      ]
     },
     "metadata": {},
     "output_type": "display_data"
    },
    {
     "data": {
      "text/html": [
       "<pre style=\"white-space:pre;overflow-x:auto;line-height:normal;font-family:Menlo,'DejaVu Sans Mono',consolas,'Courier New',monospace\">10:29:01.728 | <span style=\"color: #008080; text-decoration-color: #008080\">INFO</span>    | Flow run<span style=\"color: #800080; text-decoration-color: #800080\"> 'magnificent-leopard'</span> - Created task run 'query_pool_vol-8bdd8db3-24' for task 'query_pool_vol'\n",
       "</pre>\n"
      ],
      "text/plain": [
       "10:29:01.728 | \u001b[36mINFO\u001b[0m    | Flow run\u001b[35m 'magnificent-leopard'\u001b[0m - Created task run 'query_pool_vol-8bdd8db3-24' for task 'query_pool_vol'\n"
      ]
     },
     "metadata": {},
     "output_type": "display_data"
    },
    {
     "data": {
      "text/html": [
       "<pre style=\"white-space:pre;overflow-x:auto;line-height:normal;font-family:Menlo,'DejaVu Sans Mono',consolas,'Courier New',monospace\">10:29:01.729 | <span style=\"color: #008080; text-decoration-color: #008080\">INFO</span>    | Flow run<span style=\"color: #800080; text-decoration-color: #800080\"> 'magnificent-leopard'</span> - Submitted task run 'query_pool_vol-8bdd8db3-24' for execution.\n",
       "</pre>\n"
      ],
      "text/plain": [
       "10:29:01.729 | \u001b[36mINFO\u001b[0m    | Flow run\u001b[35m 'magnificent-leopard'\u001b[0m - Submitted task run 'query_pool_vol-8bdd8db3-24' for execution.\n"
      ]
     },
     "metadata": {},
     "output_type": "display_data"
    },
    {
     "data": {
      "text/html": [
       "<pre style=\"white-space:pre;overflow-x:auto;line-height:normal;font-family:Menlo,'DejaVu Sans Mono',consolas,'Courier New',monospace\">10:29:01.753 | <span style=\"color: #008080; text-decoration-color: #008080\">INFO</span>    | Flow run<span style=\"color: #800080; text-decoration-color: #800080\"> 'magnificent-leopard'</span> - Created task run 'query_pool_vol-8bdd8db3-43' for task 'query_pool_vol'\n",
       "</pre>\n"
      ],
      "text/plain": [
       "10:29:01.753 | \u001b[36mINFO\u001b[0m    | Flow run\u001b[35m 'magnificent-leopard'\u001b[0m - Created task run 'query_pool_vol-8bdd8db3-43' for task 'query_pool_vol'\n"
      ]
     },
     "metadata": {},
     "output_type": "display_data"
    },
    {
     "data": {
      "text/html": [
       "<pre style=\"white-space:pre;overflow-x:auto;line-height:normal;font-family:Menlo,'DejaVu Sans Mono',consolas,'Courier New',monospace\">10:29:01.753 | <span style=\"color: #008080; text-decoration-color: #008080\">INFO</span>    | Flow run<span style=\"color: #800080; text-decoration-color: #800080\"> 'magnificent-leopard'</span> - Submitted task run 'query_pool_vol-8bdd8db3-43' for execution.\n",
       "</pre>\n"
      ],
      "text/plain": [
       "10:29:01.753 | \u001b[36mINFO\u001b[0m    | Flow run\u001b[35m 'magnificent-leopard'\u001b[0m - Submitted task run 'query_pool_vol-8bdd8db3-43' for execution.\n"
      ]
     },
     "metadata": {},
     "output_type": "display_data"
    },
    {
     "data": {
      "text/html": [
       "<pre style=\"white-space:pre;overflow-x:auto;line-height:normal;font-family:Menlo,'DejaVu Sans Mono',consolas,'Courier New',monospace\">10:29:01.764 | <span style=\"color: #008080; text-decoration-color: #008080\">INFO</span>    | Flow run<span style=\"color: #800080; text-decoration-color: #800080\"> 'magnificent-leopard'</span> - Created task run 'query_pool_vol-8bdd8db3-44' for task 'query_pool_vol'\n",
       "</pre>\n"
      ],
      "text/plain": [
       "10:29:01.764 | \u001b[36mINFO\u001b[0m    | Flow run\u001b[35m 'magnificent-leopard'\u001b[0m - Created task run 'query_pool_vol-8bdd8db3-44' for task 'query_pool_vol'\n"
      ]
     },
     "metadata": {},
     "output_type": "display_data"
    },
    {
     "data": {
      "text/html": [
       "<pre style=\"white-space:pre;overflow-x:auto;line-height:normal;font-family:Menlo,'DejaVu Sans Mono',consolas,'Courier New',monospace\">10:29:01.765 | <span style=\"color: #008080; text-decoration-color: #008080\">INFO</span>    | Flow run<span style=\"color: #800080; text-decoration-color: #800080\"> 'magnificent-leopard'</span> - Submitted task run 'query_pool_vol-8bdd8db3-44' for execution.\n",
       "</pre>\n"
      ],
      "text/plain": [
       "10:29:01.765 | \u001b[36mINFO\u001b[0m    | Flow run\u001b[35m 'magnificent-leopard'\u001b[0m - Submitted task run 'query_pool_vol-8bdd8db3-44' for execution.\n"
      ]
     },
     "metadata": {},
     "output_type": "display_data"
    },
    {
     "data": {
      "text/html": [
       "<pre style=\"white-space:pre;overflow-x:auto;line-height:normal;font-family:Menlo,'DejaVu Sans Mono',consolas,'Courier New',monospace\">10:29:01.775 | <span style=\"color: #008080; text-decoration-color: #008080\">INFO</span>    | Flow run<span style=\"color: #800080; text-decoration-color: #800080\"> 'magnificent-leopard'</span> - Created task run 'query_pool_vol-8bdd8db3-31' for task 'query_pool_vol'\n",
       "</pre>\n"
      ],
      "text/plain": [
       "10:29:01.775 | \u001b[36mINFO\u001b[0m    | Flow run\u001b[35m 'magnificent-leopard'\u001b[0m - Created task run 'query_pool_vol-8bdd8db3-31' for task 'query_pool_vol'\n"
      ]
     },
     "metadata": {},
     "output_type": "display_data"
    },
    {
     "data": {
      "text/html": [
       "<pre style=\"white-space:pre;overflow-x:auto;line-height:normal;font-family:Menlo,'DejaVu Sans Mono',consolas,'Courier New',monospace\">10:29:01.776 | <span style=\"color: #008080; text-decoration-color: #008080\">INFO</span>    | Flow run<span style=\"color: #800080; text-decoration-color: #800080\"> 'magnificent-leopard'</span> - Submitted task run 'query_pool_vol-8bdd8db3-31' for execution.\n",
       "</pre>\n"
      ],
      "text/plain": [
       "10:29:01.776 | \u001b[36mINFO\u001b[0m    | Flow run\u001b[35m 'magnificent-leopard'\u001b[0m - Submitted task run 'query_pool_vol-8bdd8db3-31' for execution.\n"
      ]
     },
     "metadata": {},
     "output_type": "display_data"
    },
    {
     "data": {
      "text/html": [
       "<pre style=\"white-space:pre;overflow-x:auto;line-height:normal;font-family:Menlo,'DejaVu Sans Mono',consolas,'Courier New',monospace\">10:29:01.788 | <span style=\"color: #008080; text-decoration-color: #008080\">INFO</span>    | Flow run<span style=\"color: #800080; text-decoration-color: #800080\"> 'magnificent-leopard'</span> - Created task run 'query_pool_snaps-60635b41-50' for task 'query_pool_snaps'\n",
       "</pre>\n"
      ],
      "text/plain": [
       "10:29:01.788 | \u001b[36mINFO\u001b[0m    | Flow run\u001b[35m 'magnificent-leopard'\u001b[0m - Created task run 'query_pool_snaps-60635b41-50' for task 'query_pool_snaps'\n"
      ]
     },
     "metadata": {},
     "output_type": "display_data"
    },
    {
     "data": {
      "text/html": [
       "<pre style=\"white-space:pre;overflow-x:auto;line-height:normal;font-family:Menlo,'DejaVu Sans Mono',consolas,'Courier New',monospace\">10:29:01.789 | <span style=\"color: #008080; text-decoration-color: #008080\">INFO</span>    | Flow run<span style=\"color: #800080; text-decoration-color: #800080\"> 'magnificent-leopard'</span> - Submitted task run 'query_pool_snaps-60635b41-50' for execution.\n",
       "</pre>\n"
      ],
      "text/plain": [
       "10:29:01.789 | \u001b[36mINFO\u001b[0m    | Flow run\u001b[35m 'magnificent-leopard'\u001b[0m - Submitted task run 'query_pool_snaps-60635b41-50' for execution.\n"
      ]
     },
     "metadata": {},
     "output_type": "display_data"
    },
    {
     "data": {
      "text/html": [
       "<pre style=\"white-space:pre;overflow-x:auto;line-height:normal;font-family:Menlo,'DejaVu Sans Mono',consolas,'Courier New',monospace\">10:29:01.808 | <span style=\"color: #008080; text-decoration-color: #008080\">INFO</span>    | Flow run<span style=\"color: #800080; text-decoration-color: #800080\"> 'magnificent-leopard'</span> - Created task run 'query_pool_snaps-60635b41-22' for task 'query_pool_snaps'\n",
       "</pre>\n"
      ],
      "text/plain": [
       "10:29:01.808 | \u001b[36mINFO\u001b[0m    | Flow run\u001b[35m 'magnificent-leopard'\u001b[0m - Created task run 'query_pool_snaps-60635b41-22' for task 'query_pool_snaps'\n"
      ]
     },
     "metadata": {},
     "output_type": "display_data"
    },
    {
     "data": {
      "text/html": [
       "<pre style=\"white-space:pre;overflow-x:auto;line-height:normal;font-family:Menlo,'DejaVu Sans Mono',consolas,'Courier New',monospace\">10:29:01.809 | <span style=\"color: #008080; text-decoration-color: #008080\">INFO</span>    | Flow run<span style=\"color: #800080; text-decoration-color: #800080\"> 'magnificent-leopard'</span> - Submitted task run 'query_pool_snaps-60635b41-22' for execution.\n",
       "</pre>\n"
      ],
      "text/plain": [
       "10:29:01.809 | \u001b[36mINFO\u001b[0m    | Flow run\u001b[35m 'magnificent-leopard'\u001b[0m - Submitted task run 'query_pool_snaps-60635b41-22' for execution.\n"
      ]
     },
     "metadata": {},
     "output_type": "display_data"
    },
    {
     "data": {
      "text/html": [
       "<pre style=\"white-space:pre;overflow-x:auto;line-height:normal;font-family:Menlo,'DejaVu Sans Mono',consolas,'Courier New',monospace\">10:29:01.820 | <span style=\"color: #008080; text-decoration-color: #008080\">INFO</span>    | Flow run<span style=\"color: #800080; text-decoration-color: #800080\"> 'magnificent-leopard'</span> - Created task run 'query_pool_snaps-60635b41-39' for task 'query_pool_snaps'\n",
       "</pre>\n"
      ],
      "text/plain": [
       "10:29:01.820 | \u001b[36mINFO\u001b[0m    | Flow run\u001b[35m 'magnificent-leopard'\u001b[0m - Created task run 'query_pool_snaps-60635b41-39' for task 'query_pool_snaps'\n"
      ]
     },
     "metadata": {},
     "output_type": "display_data"
    },
    {
     "data": {
      "text/html": [
       "<pre style=\"white-space:pre;overflow-x:auto;line-height:normal;font-family:Menlo,'DejaVu Sans Mono',consolas,'Courier New',monospace\">10:29:01.820 | <span style=\"color: #008080; text-decoration-color: #008080\">INFO</span>    | Flow run<span style=\"color: #800080; text-decoration-color: #800080\"> 'magnificent-leopard'</span> - Submitted task run 'query_pool_snaps-60635b41-39' for execution.\n",
       "</pre>\n"
      ],
      "text/plain": [
       "10:29:01.820 | \u001b[36mINFO\u001b[0m    | Flow run\u001b[35m 'magnificent-leopard'\u001b[0m - Submitted task run 'query_pool_snaps-60635b41-39' for execution.\n"
      ]
     },
     "metadata": {},
     "output_type": "display_data"
    },
    {
     "data": {
      "text/html": [
       "<pre style=\"white-space:pre;overflow-x:auto;line-height:normal;font-family:Menlo,'DejaVu Sans Mono',consolas,'Courier New',monospace\">10:29:01.831 | <span style=\"color: #008080; text-decoration-color: #008080\">INFO</span>    | Flow run<span style=\"color: #800080; text-decoration-color: #800080\"> 'magnificent-leopard'</span> - Created task run 'query_pool_snaps-60635b41-41' for task 'query_pool_snaps'\n",
       "</pre>\n"
      ],
      "text/plain": [
       "10:29:01.831 | \u001b[36mINFO\u001b[0m    | Flow run\u001b[35m 'magnificent-leopard'\u001b[0m - Created task run 'query_pool_snaps-60635b41-41' for task 'query_pool_snaps'\n"
      ]
     },
     "metadata": {},
     "output_type": "display_data"
    },
    {
     "data": {
      "text/html": [
       "<pre style=\"white-space:pre;overflow-x:auto;line-height:normal;font-family:Menlo,'DejaVu Sans Mono',consolas,'Courier New',monospace\">10:29:01.831 | <span style=\"color: #008080; text-decoration-color: #008080\">INFO</span>    | Flow run<span style=\"color: #800080; text-decoration-color: #800080\"> 'magnificent-leopard'</span> - Submitted task run 'query_pool_snaps-60635b41-41' for execution.\n",
       "</pre>\n"
      ],
      "text/plain": [
       "10:29:01.831 | \u001b[36mINFO\u001b[0m    | Flow run\u001b[35m 'magnificent-leopard'\u001b[0m - Submitted task run 'query_pool_snaps-60635b41-41' for execution.\n"
      ]
     },
     "metadata": {},
     "output_type": "display_data"
    },
    {
     "data": {
      "text/html": [
       "<pre style=\"white-space:pre;overflow-x:auto;line-height:normal;font-family:Menlo,'DejaVu Sans Mono',consolas,'Courier New',monospace\">10:29:01.841 | <span style=\"color: #008080; text-decoration-color: #008080\">INFO</span>    | Flow run<span style=\"color: #800080; text-decoration-color: #800080\"> 'magnificent-leopard'</span> - Created task run 'query_pool_snaps-60635b41-61' for task 'query_pool_snaps'\n",
       "</pre>\n"
      ],
      "text/plain": [
       "10:29:01.841 | \u001b[36mINFO\u001b[0m    | Flow run\u001b[35m 'magnificent-leopard'\u001b[0m - Created task run 'query_pool_snaps-60635b41-61' for task 'query_pool_snaps'\n"
      ]
     },
     "metadata": {},
     "output_type": "display_data"
    },
    {
     "data": {
      "text/html": [
       "<pre style=\"white-space:pre;overflow-x:auto;line-height:normal;font-family:Menlo,'DejaVu Sans Mono',consolas,'Courier New',monospace\">10:29:01.842 | <span style=\"color: #008080; text-decoration-color: #008080\">INFO</span>    | Flow run<span style=\"color: #800080; text-decoration-color: #800080\"> 'magnificent-leopard'</span> - Submitted task run 'query_pool_snaps-60635b41-61' for execution.\n",
       "</pre>\n"
      ],
      "text/plain": [
       "10:29:01.842 | \u001b[36mINFO\u001b[0m    | Flow run\u001b[35m 'magnificent-leopard'\u001b[0m - Submitted task run 'query_pool_snaps-60635b41-61' for execution.\n"
      ]
     },
     "metadata": {},
     "output_type": "display_data"
    },
    {
     "data": {
      "text/html": [
       "<pre style=\"white-space:pre;overflow-x:auto;line-height:normal;font-family:Menlo,'DejaVu Sans Mono',consolas,'Courier New',monospace\">10:29:01.870 | <span style=\"color: #008080; text-decoration-color: #008080\">INFO</span>    | Flow run<span style=\"color: #800080; text-decoration-color: #800080\"> 'magnificent-leopard'</span> - Created task run 'query_pool_snaps-60635b41-31' for task 'query_pool_snaps'\n",
       "</pre>\n"
      ],
      "text/plain": [
       "10:29:01.870 | \u001b[36mINFO\u001b[0m    | Flow run\u001b[35m 'magnificent-leopard'\u001b[0m - Created task run 'query_pool_snaps-60635b41-31' for task 'query_pool_snaps'\n"
      ]
     },
     "metadata": {},
     "output_type": "display_data"
    },
    {
     "data": {
      "text/html": [
       "<pre style=\"white-space:pre;overflow-x:auto;line-height:normal;font-family:Menlo,'DejaVu Sans Mono',consolas,'Courier New',monospace\">10:29:01.871 | <span style=\"color: #008080; text-decoration-color: #008080\">INFO</span>    | Flow run<span style=\"color: #800080; text-decoration-color: #800080\"> 'magnificent-leopard'</span> - Submitted task run 'query_pool_snaps-60635b41-31' for execution.\n",
       "</pre>\n"
      ],
      "text/plain": [
       "10:29:01.871 | \u001b[36mINFO\u001b[0m    | Flow run\u001b[35m 'magnificent-leopard'\u001b[0m - Submitted task run 'query_pool_snaps-60635b41-31' for execution.\n"
      ]
     },
     "metadata": {},
     "output_type": "display_data"
    },
    {
     "data": {
      "text/html": [
       "<pre style=\"white-space:pre;overflow-x:auto;line-height:normal;font-family:Menlo,'DejaVu Sans Mono',consolas,'Courier New',monospace\">10:29:01.893 | <span style=\"color: #008080; text-decoration-color: #008080\">INFO</span>    | Flow run<span style=\"color: #800080; text-decoration-color: #800080\"> 'magnificent-leopard'</span> - Created task run 'query_pool_vol-8bdd8db3-18' for task 'query_pool_vol'\n",
       "</pre>\n"
      ],
      "text/plain": [
       "10:29:01.893 | \u001b[36mINFO\u001b[0m    | Flow run\u001b[35m 'magnificent-leopard'\u001b[0m - Created task run 'query_pool_vol-8bdd8db3-18' for task 'query_pool_vol'\n"
      ]
     },
     "metadata": {},
     "output_type": "display_data"
    },
    {
     "data": {
      "text/html": [
       "<pre style=\"white-space:pre;overflow-x:auto;line-height:normal;font-family:Menlo,'DejaVu Sans Mono',consolas,'Courier New',monospace\">10:29:01.894 | <span style=\"color: #008080; text-decoration-color: #008080\">INFO</span>    | Flow run<span style=\"color: #800080; text-decoration-color: #800080\"> 'magnificent-leopard'</span> - Submitted task run 'query_pool_vol-8bdd8db3-18' for execution.\n",
       "</pre>\n"
      ],
      "text/plain": [
       "10:29:01.894 | \u001b[36mINFO\u001b[0m    | Flow run\u001b[35m 'magnificent-leopard'\u001b[0m - Submitted task run 'query_pool_vol-8bdd8db3-18' for execution.\n"
      ]
     },
     "metadata": {},
     "output_type": "display_data"
    },
    {
     "data": {
      "text/html": [
       "<pre style=\"white-space:pre;overflow-x:auto;line-height:normal;font-family:Menlo,'DejaVu Sans Mono',consolas,'Courier New',monospace\">10:29:01.904 | <span style=\"color: #008080; text-decoration-color: #008080\">INFO</span>    | Flow run<span style=\"color: #800080; text-decoration-color: #800080\"> 'magnificent-leopard'</span> - Created task run 'query_pool_vol-8bdd8db3-35' for task 'query_pool_vol'\n",
       "</pre>\n"
      ],
      "text/plain": [
       "10:29:01.904 | \u001b[36mINFO\u001b[0m    | Flow run\u001b[35m 'magnificent-leopard'\u001b[0m - Created task run 'query_pool_vol-8bdd8db3-35' for task 'query_pool_vol'\n"
      ]
     },
     "metadata": {},
     "output_type": "display_data"
    },
    {
     "data": {
      "text/html": [
       "<pre style=\"white-space:pre;overflow-x:auto;line-height:normal;font-family:Menlo,'DejaVu Sans Mono',consolas,'Courier New',monospace\">10:29:01.905 | <span style=\"color: #008080; text-decoration-color: #008080\">INFO</span>    | Flow run<span style=\"color: #800080; text-decoration-color: #800080\"> 'magnificent-leopard'</span> - Submitted task run 'query_pool_vol-8bdd8db3-35' for execution.\n",
       "</pre>\n"
      ],
      "text/plain": [
       "10:29:01.905 | \u001b[36mINFO\u001b[0m    | Flow run\u001b[35m 'magnificent-leopard'\u001b[0m - Submitted task run 'query_pool_vol-8bdd8db3-35' for execution.\n"
      ]
     },
     "metadata": {},
     "output_type": "display_data"
    },
    {
     "data": {
      "text/html": [
       "<pre style=\"white-space:pre;overflow-x:auto;line-height:normal;font-family:Menlo,'DejaVu Sans Mono',consolas,'Courier New',monospace\">10:29:01.916 | <span style=\"color: #008080; text-decoration-color: #008080\">INFO</span>    | Flow run<span style=\"color: #800080; text-decoration-color: #800080\"> 'magnificent-leopard'</span> - Created task run 'query_pool_vol-8bdd8db3-53' for task 'query_pool_vol'\n",
       "</pre>\n"
      ],
      "text/plain": [
       "10:29:01.916 | \u001b[36mINFO\u001b[0m    | Flow run\u001b[35m 'magnificent-leopard'\u001b[0m - Created task run 'query_pool_vol-8bdd8db3-53' for task 'query_pool_vol'\n"
      ]
     },
     "metadata": {},
     "output_type": "display_data"
    },
    {
     "data": {
      "text/html": [
       "<pre style=\"white-space:pre;overflow-x:auto;line-height:normal;font-family:Menlo,'DejaVu Sans Mono',consolas,'Courier New',monospace\">10:29:01.917 | <span style=\"color: #008080; text-decoration-color: #008080\">INFO</span>    | Flow run<span style=\"color: #800080; text-decoration-color: #800080\"> 'magnificent-leopard'</span> - Submitted task run 'query_pool_vol-8bdd8db3-53' for execution.\n",
       "</pre>\n"
      ],
      "text/plain": [
       "10:29:01.917 | \u001b[36mINFO\u001b[0m    | Flow run\u001b[35m 'magnificent-leopard'\u001b[0m - Submitted task run 'query_pool_vol-8bdd8db3-53' for execution.\n"
      ]
     },
     "metadata": {},
     "output_type": "display_data"
    },
    {
     "data": {
      "text/html": [
       "<pre style=\"white-space:pre;overflow-x:auto;line-height:normal;font-family:Menlo,'DejaVu Sans Mono',consolas,'Courier New',monospace\">10:29:01.927 | <span style=\"color: #008080; text-decoration-color: #008080\">INFO</span>    | Flow run<span style=\"color: #800080; text-decoration-color: #800080\"> 'magnificent-leopard'</span> - Created task run 'query_pool_vol-8bdd8db3-9' for task 'query_pool_vol'\n",
       "</pre>\n"
      ],
      "text/plain": [
       "10:29:01.927 | \u001b[36mINFO\u001b[0m    | Flow run\u001b[35m 'magnificent-leopard'\u001b[0m - Created task run 'query_pool_vol-8bdd8db3-9' for task 'query_pool_vol'\n"
      ]
     },
     "metadata": {},
     "output_type": "display_data"
    },
    {
     "data": {
      "text/html": [
       "<pre style=\"white-space:pre;overflow-x:auto;line-height:normal;font-family:Menlo,'DejaVu Sans Mono',consolas,'Courier New',monospace\">10:29:01.928 | <span style=\"color: #008080; text-decoration-color: #008080\">INFO</span>    | Flow run<span style=\"color: #800080; text-decoration-color: #800080\"> 'magnificent-leopard'</span> - Submitted task run 'query_pool_vol-8bdd8db3-9' for execution.\n",
       "</pre>\n"
      ],
      "text/plain": [
       "10:29:01.928 | \u001b[36mINFO\u001b[0m    | Flow run\u001b[35m 'magnificent-leopard'\u001b[0m - Submitted task run 'query_pool_vol-8bdd8db3-9' for execution.\n"
      ]
     },
     "metadata": {},
     "output_type": "display_data"
    },
    {
     "data": {
      "text/html": [
       "<pre style=\"white-space:pre;overflow-x:auto;line-height:normal;font-family:Menlo,'DejaVu Sans Mono',consolas,'Courier New',monospace\">10:29:01.965 | <span style=\"color: #008080; text-decoration-color: #008080\">INFO</span>    | Flow run<span style=\"color: #800080; text-decoration-color: #800080\"> 'magnificent-leopard'</span> - Created task run 'query_pool_snaps-60635b41-43' for task 'query_pool_snaps'\n",
       "</pre>\n"
      ],
      "text/plain": [
       "10:29:01.965 | \u001b[36mINFO\u001b[0m    | Flow run\u001b[35m 'magnificent-leopard'\u001b[0m - Created task run 'query_pool_snaps-60635b41-43' for task 'query_pool_snaps'\n"
      ]
     },
     "metadata": {},
     "output_type": "display_data"
    },
    {
     "data": {
      "text/html": [
       "<pre style=\"white-space:pre;overflow-x:auto;line-height:normal;font-family:Menlo,'DejaVu Sans Mono',consolas,'Courier New',monospace\">10:29:01.966 | <span style=\"color: #008080; text-decoration-color: #008080\">INFO</span>    | Flow run<span style=\"color: #800080; text-decoration-color: #800080\"> 'magnificent-leopard'</span> - Submitted task run 'query_pool_snaps-60635b41-43' for execution.\n",
       "</pre>\n"
      ],
      "text/plain": [
       "10:29:01.966 | \u001b[36mINFO\u001b[0m    | Flow run\u001b[35m 'magnificent-leopard'\u001b[0m - Submitted task run 'query_pool_snaps-60635b41-43' for execution.\n"
      ]
     },
     "metadata": {},
     "output_type": "display_data"
    },
    {
     "data": {
      "text/html": [
       "<pre style=\"white-space:pre;overflow-x:auto;line-height:normal;font-family:Menlo,'DejaVu Sans Mono',consolas,'Courier New',monospace\">10:29:01.980 | <span style=\"color: #008080; text-decoration-color: #008080\">INFO</span>    | Task run 'query_pool_vol-8bdd8db3-58' - Finished in state <span style=\"color: #008000; text-decoration-color: #008000\">Completed</span>()\n",
       "</pre>\n"
      ],
      "text/plain": [
       "10:29:01.980 | \u001b[36mINFO\u001b[0m    | Task run 'query_pool_vol-8bdd8db3-58' - Finished in state \u001b[32mCompleted\u001b[0m()\n"
      ]
     },
     "metadata": {},
     "output_type": "display_data"
    },
    {
     "data": {
      "text/html": [
       "<pre style=\"white-space:pre;overflow-x:auto;line-height:normal;font-family:Menlo,'DejaVu Sans Mono',consolas,'Courier New',monospace\">10:29:01.986 | <span style=\"color: #008080; text-decoration-color: #008080\">INFO</span>    | Task run 'query_pool_vol-8bdd8db3-17' - Finished in state <span style=\"color: #008000; text-decoration-color: #008000\">Completed</span>()\n",
       "</pre>\n"
      ],
      "text/plain": [
       "10:29:01.986 | \u001b[36mINFO\u001b[0m    | Task run 'query_pool_vol-8bdd8db3-17' - Finished in state \u001b[32mCompleted\u001b[0m()\n"
      ]
     },
     "metadata": {},
     "output_type": "display_data"
    },
    {
     "data": {
      "text/html": [
       "<pre style=\"white-space:pre;overflow-x:auto;line-height:normal;font-family:Menlo,'DejaVu Sans Mono',consolas,'Courier New',monospace\">10:29:01.994 | <span style=\"color: #008080; text-decoration-color: #008080\">INFO</span>    | Flow run<span style=\"color: #800080; text-decoration-color: #800080\"> 'magnificent-leopard'</span> - Created task run 'query_pool_snaps-60635b41-48' for task 'query_pool_snaps'\n",
       "</pre>\n"
      ],
      "text/plain": [
       "10:29:01.994 | \u001b[36mINFO\u001b[0m    | Flow run\u001b[35m 'magnificent-leopard'\u001b[0m - Created task run 'query_pool_snaps-60635b41-48' for task 'query_pool_snaps'\n"
      ]
     },
     "metadata": {},
     "output_type": "display_data"
    },
    {
     "data": {
      "text/html": [
       "<pre style=\"white-space:pre;overflow-x:auto;line-height:normal;font-family:Menlo,'DejaVu Sans Mono',consolas,'Courier New',monospace\">10:29:01.994 | <span style=\"color: #008080; text-decoration-color: #008080\">INFO</span>    | Flow run<span style=\"color: #800080; text-decoration-color: #800080\"> 'magnificent-leopard'</span> - Submitted task run 'query_pool_snaps-60635b41-48' for execution.\n",
       "</pre>\n"
      ],
      "text/plain": [
       "10:29:01.994 | \u001b[36mINFO\u001b[0m    | Flow run\u001b[35m 'magnificent-leopard'\u001b[0m - Submitted task run 'query_pool_snaps-60635b41-48' for execution.\n"
      ]
     },
     "metadata": {},
     "output_type": "display_data"
    },
    {
     "data": {
      "text/html": [
       "<pre style=\"white-space:pre;overflow-x:auto;line-height:normal;font-family:Menlo,'DejaVu Sans Mono',consolas,'Courier New',monospace\">10:29:02.000 | <span style=\"color: #008080; text-decoration-color: #008080\">INFO</span>    | Flow run<span style=\"color: #800080; text-decoration-color: #800080\"> 'magnificent-leopard'</span> - Created task run 'query_pool_snaps-60635b41-37' for task 'query_pool_snaps'\n",
       "</pre>\n"
      ],
      "text/plain": [
       "10:29:02.000 | \u001b[36mINFO\u001b[0m    | Flow run\u001b[35m 'magnificent-leopard'\u001b[0m - Created task run 'query_pool_snaps-60635b41-37' for task 'query_pool_snaps'\n"
      ]
     },
     "metadata": {},
     "output_type": "display_data"
    },
    {
     "data": {
      "text/html": [
       "<pre style=\"white-space:pre;overflow-x:auto;line-height:normal;font-family:Menlo,'DejaVu Sans Mono',consolas,'Courier New',monospace\">10:29:02.000 | <span style=\"color: #008080; text-decoration-color: #008080\">INFO</span>    | Flow run<span style=\"color: #800080; text-decoration-color: #800080\"> 'magnificent-leopard'</span> - Submitted task run 'query_pool_snaps-60635b41-37' for execution.\n",
       "</pre>\n"
      ],
      "text/plain": [
       "10:29:02.000 | \u001b[36mINFO\u001b[0m    | Flow run\u001b[35m 'magnificent-leopard'\u001b[0m - Submitted task run 'query_pool_snaps-60635b41-37' for execution.\n"
      ]
     },
     "metadata": {},
     "output_type": "display_data"
    },
    {
     "data": {
      "text/html": [
       "<pre style=\"white-space:pre;overflow-x:auto;line-height:normal;font-family:Menlo,'DejaVu Sans Mono',consolas,'Courier New',monospace\">10:29:02.037 | <span style=\"color: #008080; text-decoration-color: #008080\">INFO</span>    | Flow run<span style=\"color: #800080; text-decoration-color: #800080\"> 'magnificent-leopard'</span> - Created task run 'query_pool_snaps-60635b41-58' for task 'query_pool_snaps'\n",
       "</pre>\n"
      ],
      "text/plain": [
       "10:29:02.037 | \u001b[36mINFO\u001b[0m    | Flow run\u001b[35m 'magnificent-leopard'\u001b[0m - Created task run 'query_pool_snaps-60635b41-58' for task 'query_pool_snaps'\n"
      ]
     },
     "metadata": {},
     "output_type": "display_data"
    },
    {
     "data": {
      "text/html": [
       "<pre style=\"white-space:pre;overflow-x:auto;line-height:normal;font-family:Menlo,'DejaVu Sans Mono',consolas,'Courier New',monospace\">10:29:02.038 | <span style=\"color: #008080; text-decoration-color: #008080\">INFO</span>    | Flow run<span style=\"color: #800080; text-decoration-color: #800080\"> 'magnificent-leopard'</span> - Submitted task run 'query_pool_snaps-60635b41-58' for execution.\n",
       "</pre>\n"
      ],
      "text/plain": [
       "10:29:02.038 | \u001b[36mINFO\u001b[0m    | Flow run\u001b[35m 'magnificent-leopard'\u001b[0m - Submitted task run 'query_pool_snaps-60635b41-58' for execution.\n"
      ]
     },
     "metadata": {},
     "output_type": "display_data"
    },
    {
     "data": {
      "text/html": [
       "<pre style=\"white-space:pre;overflow-x:auto;line-height:normal;font-family:Menlo,'DejaVu Sans Mono',consolas,'Courier New',monospace\">10:29:02.066 | <span style=\"color: #008080; text-decoration-color: #008080\">INFO</span>    | Flow run<span style=\"color: #800080; text-decoration-color: #800080\"> 'magnificent-leopard'</span> - Created task run 'query_pool_vol-8bdd8db3-45' for task 'query_pool_vol'\n",
       "</pre>\n"
      ],
      "text/plain": [
       "10:29:02.066 | \u001b[36mINFO\u001b[0m    | Flow run\u001b[35m 'magnificent-leopard'\u001b[0m - Created task run 'query_pool_vol-8bdd8db3-45' for task 'query_pool_vol'\n"
      ]
     },
     "metadata": {},
     "output_type": "display_data"
    },
    {
     "data": {
      "text/html": [
       "<pre style=\"white-space:pre;overflow-x:auto;line-height:normal;font-family:Menlo,'DejaVu Sans Mono',consolas,'Courier New',monospace\">10:29:02.067 | <span style=\"color: #008080; text-decoration-color: #008080\">INFO</span>    | Flow run<span style=\"color: #800080; text-decoration-color: #800080\"> 'magnificent-leopard'</span> - Submitted task run 'query_pool_vol-8bdd8db3-45' for execution.\n",
       "</pre>\n"
      ],
      "text/plain": [
       "10:29:02.067 | \u001b[36mINFO\u001b[0m    | Flow run\u001b[35m 'magnificent-leopard'\u001b[0m - Submitted task run 'query_pool_vol-8bdd8db3-45' for execution.\n"
      ]
     },
     "metadata": {},
     "output_type": "display_data"
    },
    {
     "data": {
      "text/html": [
       "<pre style=\"white-space:pre;overflow-x:auto;line-height:normal;font-family:Menlo,'DejaVu Sans Mono',consolas,'Courier New',monospace\">10:29:02.078 | <span style=\"color: #008080; text-decoration-color: #008080\">INFO</span>    | Flow run<span style=\"color: #800080; text-decoration-color: #800080\"> 'magnificent-leopard'</span> - Created task run 'query_pool_snaps-60635b41-4' for task 'query_pool_snaps'\n",
       "</pre>\n"
      ],
      "text/plain": [
       "10:29:02.078 | \u001b[36mINFO\u001b[0m    | Flow run\u001b[35m 'magnificent-leopard'\u001b[0m - Created task run 'query_pool_snaps-60635b41-4' for task 'query_pool_snaps'\n"
      ]
     },
     "metadata": {},
     "output_type": "display_data"
    },
    {
     "data": {
      "text/html": [
       "<pre style=\"white-space:pre;overflow-x:auto;line-height:normal;font-family:Menlo,'DejaVu Sans Mono',consolas,'Courier New',monospace\">10:29:02.083 | <span style=\"color: #008080; text-decoration-color: #008080\">INFO</span>    | Flow run<span style=\"color: #800080; text-decoration-color: #800080\"> 'magnificent-leopard'</span> - Submitted task run 'query_pool_snaps-60635b41-4' for execution.\n",
       "</pre>\n"
      ],
      "text/plain": [
       "10:29:02.083 | \u001b[36mINFO\u001b[0m    | Flow run\u001b[35m 'magnificent-leopard'\u001b[0m - Submitted task run 'query_pool_snaps-60635b41-4' for execution.\n"
      ]
     },
     "metadata": {},
     "output_type": "display_data"
    },
    {
     "data": {
      "text/html": [
       "<pre style=\"white-space:pre;overflow-x:auto;line-height:normal;font-family:Menlo,'DejaVu Sans Mono',consolas,'Courier New',monospace\">10:29:02.113 | <span style=\"color: #008080; text-decoration-color: #008080\">INFO</span>    | Flow run<span style=\"color: #800080; text-decoration-color: #800080\"> 'magnificent-leopard'</span> - Created task run 'query_pool_vol-8bdd8db3-38' for task 'query_pool_vol'\n",
       "</pre>\n"
      ],
      "text/plain": [
       "10:29:02.113 | \u001b[36mINFO\u001b[0m    | Flow run\u001b[35m 'magnificent-leopard'\u001b[0m - Created task run 'query_pool_vol-8bdd8db3-38' for task 'query_pool_vol'\n"
      ]
     },
     "metadata": {},
     "output_type": "display_data"
    },
    {
     "data": {
      "text/html": [
       "<pre style=\"white-space:pre;overflow-x:auto;line-height:normal;font-family:Menlo,'DejaVu Sans Mono',consolas,'Courier New',monospace\">10:29:02.114 | <span style=\"color: #008080; text-decoration-color: #008080\">INFO</span>    | Flow run<span style=\"color: #800080; text-decoration-color: #800080\"> 'magnificent-leopard'</span> - Submitted task run 'query_pool_vol-8bdd8db3-38' for execution.\n",
       "</pre>\n"
      ],
      "text/plain": [
       "10:29:02.114 | \u001b[36mINFO\u001b[0m    | Flow run\u001b[35m 'magnificent-leopard'\u001b[0m - Submitted task run 'query_pool_vol-8bdd8db3-38' for execution.\n"
      ]
     },
     "metadata": {},
     "output_type": "display_data"
    },
    {
     "data": {
      "text/html": [
       "<pre style=\"white-space:pre;overflow-x:auto;line-height:normal;font-family:Menlo,'DejaVu Sans Mono',consolas,'Courier New',monospace\">10:29:02.126 | <span style=\"color: #008080; text-decoration-color: #008080\">INFO</span>    | Flow run<span style=\"color: #800080; text-decoration-color: #800080\"> 'magnificent-leopard'</span> - Created task run 'query_pool_snaps-60635b41-9' for task 'query_pool_snaps'\n",
       "</pre>\n"
      ],
      "text/plain": [
       "10:29:02.126 | \u001b[36mINFO\u001b[0m    | Flow run\u001b[35m 'magnificent-leopard'\u001b[0m - Created task run 'query_pool_snaps-60635b41-9' for task 'query_pool_snaps'\n"
      ]
     },
     "metadata": {},
     "output_type": "display_data"
    },
    {
     "data": {
      "text/html": [
       "<pre style=\"white-space:pre;overflow-x:auto;line-height:normal;font-family:Menlo,'DejaVu Sans Mono',consolas,'Courier New',monospace\">10:29:02.126 | <span style=\"color: #008080; text-decoration-color: #008080\">INFO</span>    | Flow run<span style=\"color: #800080; text-decoration-color: #800080\"> 'magnificent-leopard'</span> - Submitted task run 'query_pool_snaps-60635b41-9' for execution.\n",
       "</pre>\n"
      ],
      "text/plain": [
       "10:29:02.126 | \u001b[36mINFO\u001b[0m    | Flow run\u001b[35m 'magnificent-leopard'\u001b[0m - Submitted task run 'query_pool_snaps-60635b41-9' for execution.\n"
      ]
     },
     "metadata": {},
     "output_type": "display_data"
    },
    {
     "data": {
      "text/html": [
       "<pre style=\"white-space:pre;overflow-x:auto;line-height:normal;font-family:Menlo,'DejaVu Sans Mono',consolas,'Courier New',monospace\">10:29:02.137 | <span style=\"color: #008080; text-decoration-color: #008080\">INFO</span>    | Flow run<span style=\"color: #800080; text-decoration-color: #800080\"> 'magnificent-leopard'</span> - Created task run 'query_pool_snaps-60635b41-11' for task 'query_pool_snaps'\n",
       "</pre>\n"
      ],
      "text/plain": [
       "10:29:02.137 | \u001b[36mINFO\u001b[0m    | Flow run\u001b[35m 'magnificent-leopard'\u001b[0m - Created task run 'query_pool_snaps-60635b41-11' for task 'query_pool_snaps'\n"
      ]
     },
     "metadata": {},
     "output_type": "display_data"
    },
    {
     "data": {
      "text/html": [
       "<pre style=\"white-space:pre;overflow-x:auto;line-height:normal;font-family:Menlo,'DejaVu Sans Mono',consolas,'Courier New',monospace\">10:29:02.138 | <span style=\"color: #008080; text-decoration-color: #008080\">INFO</span>    | Flow run<span style=\"color: #800080; text-decoration-color: #800080\"> 'magnificent-leopard'</span> - Submitted task run 'query_pool_snaps-60635b41-11' for execution.\n",
       "</pre>\n"
      ],
      "text/plain": [
       "10:29:02.138 | \u001b[36mINFO\u001b[0m    | Flow run\u001b[35m 'magnificent-leopard'\u001b[0m - Submitted task run 'query_pool_snaps-60635b41-11' for execution.\n"
      ]
     },
     "metadata": {},
     "output_type": "display_data"
    },
    {
     "data": {
      "text/html": [
       "<pre style=\"white-space:pre;overflow-x:auto;line-height:normal;font-family:Menlo,'DejaVu Sans Mono',consolas,'Courier New',monospace\">10:29:02.147 | <span style=\"color: #008080; text-decoration-color: #008080\">INFO</span>    | Flow run<span style=\"color: #800080; text-decoration-color: #800080\"> 'magnificent-leopard'</span> - Created task run 'query_pool_snaps-60635b41-28' for task 'query_pool_snaps'\n",
       "</pre>\n"
      ],
      "text/plain": [
       "10:29:02.147 | \u001b[36mINFO\u001b[0m    | Flow run\u001b[35m 'magnificent-leopard'\u001b[0m - Created task run 'query_pool_snaps-60635b41-28' for task 'query_pool_snaps'\n"
      ]
     },
     "metadata": {},
     "output_type": "display_data"
    },
    {
     "data": {
      "text/html": [
       "<pre style=\"white-space:pre;overflow-x:auto;line-height:normal;font-family:Menlo,'DejaVu Sans Mono',consolas,'Courier New',monospace\">10:29:02.147 | <span style=\"color: #008080; text-decoration-color: #008080\">INFO</span>    | Flow run<span style=\"color: #800080; text-decoration-color: #800080\"> 'magnificent-leopard'</span> - Submitted task run 'query_pool_snaps-60635b41-28' for execution.\n",
       "</pre>\n"
      ],
      "text/plain": [
       "10:29:02.147 | \u001b[36mINFO\u001b[0m    | Flow run\u001b[35m 'magnificent-leopard'\u001b[0m - Submitted task run 'query_pool_snaps-60635b41-28' for execution.\n"
      ]
     },
     "metadata": {},
     "output_type": "display_data"
    },
    {
     "data": {
      "text/html": [
       "<pre style=\"white-space:pre;overflow-x:auto;line-height:normal;font-family:Menlo,'DejaVu Sans Mono',consolas,'Courier New',monospace\">10:29:02.185 | <span style=\"color: #008080; text-decoration-color: #008080\">INFO</span>    | Flow run<span style=\"color: #800080; text-decoration-color: #800080\"> 'magnificent-leopard'</span> - Created task run 'query_pool_vol-8bdd8db3-2' for task 'query_pool_vol'\n",
       "</pre>\n"
      ],
      "text/plain": [
       "10:29:02.185 | \u001b[36mINFO\u001b[0m    | Flow run\u001b[35m 'magnificent-leopard'\u001b[0m - Created task run 'query_pool_vol-8bdd8db3-2' for task 'query_pool_vol'\n"
      ]
     },
     "metadata": {},
     "output_type": "display_data"
    },
    {
     "data": {
      "text/html": [
       "<pre style=\"white-space:pre;overflow-x:auto;line-height:normal;font-family:Menlo,'DejaVu Sans Mono',consolas,'Courier New',monospace\">10:29:02.186 | <span style=\"color: #008080; text-decoration-color: #008080\">INFO</span>    | Flow run<span style=\"color: #800080; text-decoration-color: #800080\"> 'magnificent-leopard'</span> - Submitted task run 'query_pool_vol-8bdd8db3-2' for execution.\n",
       "</pre>\n"
      ],
      "text/plain": [
       "10:29:02.186 | \u001b[36mINFO\u001b[0m    | Flow run\u001b[35m 'magnificent-leopard'\u001b[0m - Submitted task run 'query_pool_vol-8bdd8db3-2' for execution.\n"
      ]
     },
     "metadata": {},
     "output_type": "display_data"
    },
    {
     "data": {
      "text/html": [
       "<pre style=\"white-space:pre;overflow-x:auto;line-height:normal;font-family:Menlo,'DejaVu Sans Mono',consolas,'Courier New',monospace\">10:29:02.196 | <span style=\"color: #008080; text-decoration-color: #008080\">INFO</span>    | Flow run<span style=\"color: #800080; text-decoration-color: #800080\"> 'magnificent-leopard'</span> - Created task run 'query_pool_snaps-60635b41-33' for task 'query_pool_snaps'\n",
       "</pre>\n"
      ],
      "text/plain": [
       "10:29:02.196 | \u001b[36mINFO\u001b[0m    | Flow run\u001b[35m 'magnificent-leopard'\u001b[0m - Created task run 'query_pool_snaps-60635b41-33' for task 'query_pool_snaps'\n"
      ]
     },
     "metadata": {},
     "output_type": "display_data"
    },
    {
     "data": {
      "text/html": [
       "<pre style=\"white-space:pre;overflow-x:auto;line-height:normal;font-family:Menlo,'DejaVu Sans Mono',consolas,'Courier New',monospace\">10:29:02.197 | <span style=\"color: #008080; text-decoration-color: #008080\">INFO</span>    | Flow run<span style=\"color: #800080; text-decoration-color: #800080\"> 'magnificent-leopard'</span> - Submitted task run 'query_pool_snaps-60635b41-33' for execution.\n",
       "</pre>\n"
      ],
      "text/plain": [
       "10:29:02.197 | \u001b[36mINFO\u001b[0m    | Flow run\u001b[35m 'magnificent-leopard'\u001b[0m - Submitted task run 'query_pool_snaps-60635b41-33' for execution.\n"
      ]
     },
     "metadata": {},
     "output_type": "display_data"
    },
    {
     "data": {
      "text/html": [
       "<pre style=\"white-space:pre;overflow-x:auto;line-height:normal;font-family:Menlo,'DejaVu Sans Mono',consolas,'Courier New',monospace\">10:29:02.215 | <span style=\"color: #008080; text-decoration-color: #008080\">INFO</span>    | Flow run<span style=\"color: #800080; text-decoration-color: #800080\"> 'magnificent-leopard'</span> - Created task run 'query_pool_vol-8bdd8db3-8' for task 'query_pool_vol'\n",
       "</pre>\n"
      ],
      "text/plain": [
       "10:29:02.215 | \u001b[36mINFO\u001b[0m    | Flow run\u001b[35m 'magnificent-leopard'\u001b[0m - Created task run 'query_pool_vol-8bdd8db3-8' for task 'query_pool_vol'\n"
      ]
     },
     "metadata": {},
     "output_type": "display_data"
    },
    {
     "data": {
      "text/html": [
       "<pre style=\"white-space:pre;overflow-x:auto;line-height:normal;font-family:Menlo,'DejaVu Sans Mono',consolas,'Courier New',monospace\">10:29:02.215 | <span style=\"color: #008080; text-decoration-color: #008080\">INFO</span>    | Flow run<span style=\"color: #800080; text-decoration-color: #800080\"> 'magnificent-leopard'</span> - Submitted task run 'query_pool_vol-8bdd8db3-8' for execution.\n",
       "</pre>\n"
      ],
      "text/plain": [
       "10:29:02.215 | \u001b[36mINFO\u001b[0m    | Flow run\u001b[35m 'magnificent-leopard'\u001b[0m - Submitted task run 'query_pool_vol-8bdd8db3-8' for execution.\n"
      ]
     },
     "metadata": {},
     "output_type": "display_data"
    },
    {
     "data": {
      "text/html": [
       "<pre style=\"white-space:pre;overflow-x:auto;line-height:normal;font-family:Menlo,'DejaVu Sans Mono',consolas,'Courier New',monospace\">10:29:02.261 | <span style=\"color: #008080; text-decoration-color: #008080\">INFO</span>    | Flow run<span style=\"color: #800080; text-decoration-color: #800080\"> 'magnificent-leopard'</span> - Created task run 'query_pool_snaps-60635b41-29' for task 'query_pool_snaps'\n",
       "</pre>\n"
      ],
      "text/plain": [
       "10:29:02.261 | \u001b[36mINFO\u001b[0m    | Flow run\u001b[35m 'magnificent-leopard'\u001b[0m - Created task run 'query_pool_snaps-60635b41-29' for task 'query_pool_snaps'\n"
      ]
     },
     "metadata": {},
     "output_type": "display_data"
    },
    {
     "data": {
      "text/html": [
       "<pre style=\"white-space:pre;overflow-x:auto;line-height:normal;font-family:Menlo,'DejaVu Sans Mono',consolas,'Courier New',monospace\">10:29:02.262 | <span style=\"color: #008080; text-decoration-color: #008080\">INFO</span>    | Flow run<span style=\"color: #800080; text-decoration-color: #800080\"> 'magnificent-leopard'</span> - Submitted task run 'query_pool_snaps-60635b41-29' for execution.\n",
       "</pre>\n"
      ],
      "text/plain": [
       "10:29:02.262 | \u001b[36mINFO\u001b[0m    | Flow run\u001b[35m 'magnificent-leopard'\u001b[0m - Submitted task run 'query_pool_snaps-60635b41-29' for execution.\n"
      ]
     },
     "metadata": {},
     "output_type": "display_data"
    },
    {
     "data": {
      "text/html": [
       "<pre style=\"white-space:pre;overflow-x:auto;line-height:normal;font-family:Menlo,'DejaVu Sans Mono',consolas,'Courier New',monospace\">10:29:02.289 | <span style=\"color: #008080; text-decoration-color: #008080\">INFO</span>    | Flow run<span style=\"color: #800080; text-decoration-color: #800080\"> 'magnificent-leopard'</span> - Created task run 'query_pool_vol-8bdd8db3-32' for task 'query_pool_vol'\n",
       "</pre>\n"
      ],
      "text/plain": [
       "10:29:02.289 | \u001b[36mINFO\u001b[0m    | Flow run\u001b[35m 'magnificent-leopard'\u001b[0m - Created task run 'query_pool_vol-8bdd8db3-32' for task 'query_pool_vol'\n"
      ]
     },
     "metadata": {},
     "output_type": "display_data"
    },
    {
     "data": {
      "text/html": [
       "<pre style=\"white-space:pre;overflow-x:auto;line-height:normal;font-family:Menlo,'DejaVu Sans Mono',consolas,'Courier New',monospace\">10:29:02.290 | <span style=\"color: #008080; text-decoration-color: #008080\">INFO</span>    | Flow run<span style=\"color: #800080; text-decoration-color: #800080\"> 'magnificent-leopard'</span> - Submitted task run 'query_pool_vol-8bdd8db3-32' for execution.\n",
       "</pre>\n"
      ],
      "text/plain": [
       "10:29:02.290 | \u001b[36mINFO\u001b[0m    | Flow run\u001b[35m 'magnificent-leopard'\u001b[0m - Submitted task run 'query_pool_vol-8bdd8db3-32' for execution.\n"
      ]
     },
     "metadata": {},
     "output_type": "display_data"
    },
    {
     "data": {
      "text/html": [
       "<pre style=\"white-space:pre;overflow-x:auto;line-height:normal;font-family:Menlo,'DejaVu Sans Mono',consolas,'Courier New',monospace\">10:29:02.309 | <span style=\"color: #008080; text-decoration-color: #008080\">INFO</span>    | Flow run<span style=\"color: #800080; text-decoration-color: #800080\"> 'magnificent-leopard'</span> - Created task run 'query_pool_vol-8bdd8db3-20' for task 'query_pool_vol'\n",
       "</pre>\n"
      ],
      "text/plain": [
       "10:29:02.309 | \u001b[36mINFO\u001b[0m    | Flow run\u001b[35m 'magnificent-leopard'\u001b[0m - Created task run 'query_pool_vol-8bdd8db3-20' for task 'query_pool_vol'\n"
      ]
     },
     "metadata": {},
     "output_type": "display_data"
    },
    {
     "data": {
      "text/html": [
       "<pre style=\"white-space:pre;overflow-x:auto;line-height:normal;font-family:Menlo,'DejaVu Sans Mono',consolas,'Courier New',monospace\">10:29:02.311 | <span style=\"color: #008080; text-decoration-color: #008080\">INFO</span>    | Flow run<span style=\"color: #800080; text-decoration-color: #800080\"> 'magnificent-leopard'</span> - Submitted task run 'query_pool_vol-8bdd8db3-20' for execution.\n",
       "</pre>\n"
      ],
      "text/plain": [
       "10:29:02.311 | \u001b[36mINFO\u001b[0m    | Flow run\u001b[35m 'magnificent-leopard'\u001b[0m - Submitted task run 'query_pool_vol-8bdd8db3-20' for execution.\n"
      ]
     },
     "metadata": {},
     "output_type": "display_data"
    },
    {
     "data": {
      "text/html": [
       "<pre style=\"white-space:pre;overflow-x:auto;line-height:normal;font-family:Menlo,'DejaVu Sans Mono',consolas,'Courier New',monospace\">10:29:02.323 | <span style=\"color: #008080; text-decoration-color: #008080\">INFO</span>    | Task run 'query_pool_vol-8bdd8db3-37' - Finished in state <span style=\"color: #008000; text-decoration-color: #008000\">Completed</span>()\n",
       "</pre>\n"
      ],
      "text/plain": [
       "10:29:02.323 | \u001b[36mINFO\u001b[0m    | Task run 'query_pool_vol-8bdd8db3-37' - Finished in state \u001b[32mCompleted\u001b[0m()\n"
      ]
     },
     "metadata": {},
     "output_type": "display_data"
    },
    {
     "data": {
      "text/html": [
       "<pre style=\"white-space:pre;overflow-x:auto;line-height:normal;font-family:Menlo,'DejaVu Sans Mono',consolas,'Courier New',monospace\">10:29:02.331 | <span style=\"color: #008080; text-decoration-color: #008080\">INFO</span>    | Flow run<span style=\"color: #800080; text-decoration-color: #800080\"> 'magnificent-leopard'</span> - Created task run 'query_pool_vol-8bdd8db3-54' for task 'query_pool_vol'\n",
       "</pre>\n"
      ],
      "text/plain": [
       "10:29:02.331 | \u001b[36mINFO\u001b[0m    | Flow run\u001b[35m 'magnificent-leopard'\u001b[0m - Created task run 'query_pool_vol-8bdd8db3-54' for task 'query_pool_vol'\n"
      ]
     },
     "metadata": {},
     "output_type": "display_data"
    },
    {
     "data": {
      "text/html": [
       "<pre style=\"white-space:pre;overflow-x:auto;line-height:normal;font-family:Menlo,'DejaVu Sans Mono',consolas,'Courier New',monospace\">10:29:02.331 | <span style=\"color: #008080; text-decoration-color: #008080\">INFO</span>    | Flow run<span style=\"color: #800080; text-decoration-color: #800080\"> 'magnificent-leopard'</span> - Submitted task run 'query_pool_vol-8bdd8db3-54' for execution.\n",
       "</pre>\n"
      ],
      "text/plain": [
       "10:29:02.331 | \u001b[36mINFO\u001b[0m    | Flow run\u001b[35m 'magnificent-leopard'\u001b[0m - Submitted task run 'query_pool_vol-8bdd8db3-54' for execution.\n"
      ]
     },
     "metadata": {},
     "output_type": "display_data"
    },
    {
     "data": {
      "text/html": [
       "<pre style=\"white-space:pre;overflow-x:auto;line-height:normal;font-family:Menlo,'DejaVu Sans Mono',consolas,'Courier New',monospace\">10:29:02.357 | <span style=\"color: #008080; text-decoration-color: #008080\">INFO</span>    | Flow run<span style=\"color: #800080; text-decoration-color: #800080\"> 'magnificent-leopard'</span> - Created task run 'query_pool_snaps-60635b41-26' for task 'query_pool_snaps'\n",
       "</pre>\n"
      ],
      "text/plain": [
       "10:29:02.357 | \u001b[36mINFO\u001b[0m    | Flow run\u001b[35m 'magnificent-leopard'\u001b[0m - Created task run 'query_pool_snaps-60635b41-26' for task 'query_pool_snaps'\n"
      ]
     },
     "metadata": {},
     "output_type": "display_data"
    },
    {
     "data": {
      "text/html": [
       "<pre style=\"white-space:pre;overflow-x:auto;line-height:normal;font-family:Menlo,'DejaVu Sans Mono',consolas,'Courier New',monospace\">10:29:02.361 | <span style=\"color: #008080; text-decoration-color: #008080\">INFO</span>    | Flow run<span style=\"color: #800080; text-decoration-color: #800080\"> 'magnificent-leopard'</span> - Submitted task run 'query_pool_snaps-60635b41-26' for execution.\n",
       "</pre>\n"
      ],
      "text/plain": [
       "10:29:02.361 | \u001b[36mINFO\u001b[0m    | Flow run\u001b[35m 'magnificent-leopard'\u001b[0m - Submitted task run 'query_pool_snaps-60635b41-26' for execution.\n"
      ]
     },
     "metadata": {},
     "output_type": "display_data"
    },
    {
     "data": {
      "text/html": [
       "<pre style=\"white-space:pre;overflow-x:auto;line-height:normal;font-family:Menlo,'DejaVu Sans Mono',consolas,'Courier New',monospace\">10:29:02.388 | <span style=\"color: #008080; text-decoration-color: #008080\">INFO</span>    | Task run 'query_pool_vol-8bdd8db3-18' - Finished in state <span style=\"color: #008000; text-decoration-color: #008000\">Completed</span>()\n",
       "</pre>\n"
      ],
      "text/plain": [
       "10:29:02.388 | \u001b[36mINFO\u001b[0m    | Task run 'query_pool_vol-8bdd8db3-18' - Finished in state \u001b[32mCompleted\u001b[0m()\n"
      ]
     },
     "metadata": {},
     "output_type": "display_data"
    },
    {
     "data": {
      "text/html": [
       "<pre style=\"white-space:pre;overflow-x:auto;line-height:normal;font-family:Menlo,'DejaVu Sans Mono',consolas,'Courier New',monospace\">10:29:02.396 | <span style=\"color: #008080; text-decoration-color: #008080\">INFO</span>    | Flow run<span style=\"color: #800080; text-decoration-color: #800080\"> 'magnificent-leopard'</span> - Created task run 'query_pool_vol-8bdd8db3-33' for task 'query_pool_vol'\n",
       "</pre>\n"
      ],
      "text/plain": [
       "10:29:02.396 | \u001b[36mINFO\u001b[0m    | Flow run\u001b[35m 'magnificent-leopard'\u001b[0m - Created task run 'query_pool_vol-8bdd8db3-33' for task 'query_pool_vol'\n"
      ]
     },
     "metadata": {},
     "output_type": "display_data"
    },
    {
     "data": {
      "text/html": [
       "<pre style=\"white-space:pre;overflow-x:auto;line-height:normal;font-family:Menlo,'DejaVu Sans Mono',consolas,'Courier New',monospace\">10:29:02.397 | <span style=\"color: #008080; text-decoration-color: #008080\">INFO</span>    | Flow run<span style=\"color: #800080; text-decoration-color: #800080\"> 'magnificent-leopard'</span> - Submitted task run 'query_pool_vol-8bdd8db3-33' for execution.\n",
       "</pre>\n"
      ],
      "text/plain": [
       "10:29:02.397 | \u001b[36mINFO\u001b[0m    | Flow run\u001b[35m 'magnificent-leopard'\u001b[0m - Submitted task run 'query_pool_vol-8bdd8db3-33' for execution.\n"
      ]
     },
     "metadata": {},
     "output_type": "display_data"
    },
    {
     "data": {
      "text/html": [
       "<pre style=\"white-space:pre;overflow-x:auto;line-height:normal;font-family:Menlo,'DejaVu Sans Mono',consolas,'Courier New',monospace\">10:29:02.404 | <span style=\"color: #008080; text-decoration-color: #008080\">INFO</span>    | Flow run<span style=\"color: #800080; text-decoration-color: #800080\"> 'magnificent-leopard'</span> - Created task run 'query_pool_vol-8bdd8db3-49' for task 'query_pool_vol'\n",
       "</pre>\n"
      ],
      "text/plain": [
       "10:29:02.404 | \u001b[36mINFO\u001b[0m    | Flow run\u001b[35m 'magnificent-leopard'\u001b[0m - Created task run 'query_pool_vol-8bdd8db3-49' for task 'query_pool_vol'\n"
      ]
     },
     "metadata": {},
     "output_type": "display_data"
    },
    {
     "data": {
      "text/html": [
       "<pre style=\"white-space:pre;overflow-x:auto;line-height:normal;font-family:Menlo,'DejaVu Sans Mono',consolas,'Courier New',monospace\">10:29:02.404 | <span style=\"color: #008080; text-decoration-color: #008080\">INFO</span>    | Flow run<span style=\"color: #800080; text-decoration-color: #800080\"> 'magnificent-leopard'</span> - Submitted task run 'query_pool_vol-8bdd8db3-49' for execution.\n",
       "</pre>\n"
      ],
      "text/plain": [
       "10:29:02.404 | \u001b[36mINFO\u001b[0m    | Flow run\u001b[35m 'magnificent-leopard'\u001b[0m - Submitted task run 'query_pool_vol-8bdd8db3-49' for execution.\n"
      ]
     },
     "metadata": {},
     "output_type": "display_data"
    },
    {
     "data": {
      "text/html": [
       "<pre style=\"white-space:pre;overflow-x:auto;line-height:normal;font-family:Menlo,'DejaVu Sans Mono',consolas,'Courier New',monospace\">10:29:02.442 | <span style=\"color: #008080; text-decoration-color: #008080\">INFO</span>    | Flow run<span style=\"color: #800080; text-decoration-color: #800080\"> 'magnificent-leopard'</span> - Created task run 'query_pool_vol-8bdd8db3-59' for task 'query_pool_vol'\n",
       "</pre>\n"
      ],
      "text/plain": [
       "10:29:02.442 | \u001b[36mINFO\u001b[0m    | Flow run\u001b[35m 'magnificent-leopard'\u001b[0m - Created task run 'query_pool_vol-8bdd8db3-59' for task 'query_pool_vol'\n"
      ]
     },
     "metadata": {},
     "output_type": "display_data"
    },
    {
     "data": {
      "text/html": [
       "<pre style=\"white-space:pre;overflow-x:auto;line-height:normal;font-family:Menlo,'DejaVu Sans Mono',consolas,'Courier New',monospace\">10:29:02.442 | <span style=\"color: #008080; text-decoration-color: #008080\">INFO</span>    | Flow run<span style=\"color: #800080; text-decoration-color: #800080\"> 'magnificent-leopard'</span> - Submitted task run 'query_pool_vol-8bdd8db3-59' for execution.\n",
       "</pre>\n"
      ],
      "text/plain": [
       "10:29:02.442 | \u001b[36mINFO\u001b[0m    | Flow run\u001b[35m 'magnificent-leopard'\u001b[0m - Submitted task run 'query_pool_vol-8bdd8db3-59' for execution.\n"
      ]
     },
     "metadata": {},
     "output_type": "display_data"
    },
    {
     "data": {
      "text/html": [
       "<pre style=\"white-space:pre;overflow-x:auto;line-height:normal;font-family:Menlo,'DejaVu Sans Mono',consolas,'Courier New',monospace\">10:29:02.453 | <span style=\"color: #008080; text-decoration-color: #008080\">INFO</span>    | Flow run<span style=\"color: #800080; text-decoration-color: #800080\"> 'magnificent-leopard'</span> - Created task run 'query_pool_vol-8bdd8db3-23' for task 'query_pool_vol'\n",
       "</pre>\n"
      ],
      "text/plain": [
       "10:29:02.453 | \u001b[36mINFO\u001b[0m    | Flow run\u001b[35m 'magnificent-leopard'\u001b[0m - Created task run 'query_pool_vol-8bdd8db3-23' for task 'query_pool_vol'\n"
      ]
     },
     "metadata": {},
     "output_type": "display_data"
    },
    {
     "data": {
      "text/html": [
       "<pre style=\"white-space:pre;overflow-x:auto;line-height:normal;font-family:Menlo,'DejaVu Sans Mono',consolas,'Courier New',monospace\">10:29:02.454 | <span style=\"color: #008080; text-decoration-color: #008080\">INFO</span>    | Flow run<span style=\"color: #800080; text-decoration-color: #800080\"> 'magnificent-leopard'</span> - Submitted task run 'query_pool_vol-8bdd8db3-23' for execution.\n",
       "</pre>\n"
      ],
      "text/plain": [
       "10:29:02.454 | \u001b[36mINFO\u001b[0m    | Flow run\u001b[35m 'magnificent-leopard'\u001b[0m - Submitted task run 'query_pool_vol-8bdd8db3-23' for execution.\n"
      ]
     },
     "metadata": {},
     "output_type": "display_data"
    },
    {
     "data": {
      "text/html": [
       "<pre style=\"white-space:pre;overflow-x:auto;line-height:normal;font-family:Menlo,'DejaVu Sans Mono',consolas,'Courier New',monospace\">10:29:02.480 | <span style=\"color: #008080; text-decoration-color: #008080\">INFO</span>    | Flow run<span style=\"color: #800080; text-decoration-color: #800080\"> 'magnificent-leopard'</span> - Created task run 'query_pool_snaps-60635b41-30' for task 'query_pool_snaps'\n",
       "</pre>\n"
      ],
      "text/plain": [
       "10:29:02.480 | \u001b[36mINFO\u001b[0m    | Flow run\u001b[35m 'magnificent-leopard'\u001b[0m - Created task run 'query_pool_snaps-60635b41-30' for task 'query_pool_snaps'\n"
      ]
     },
     "metadata": {},
     "output_type": "display_data"
    },
    {
     "data": {
      "text/html": [
       "<pre style=\"white-space:pre;overflow-x:auto;line-height:normal;font-family:Menlo,'DejaVu Sans Mono',consolas,'Courier New',monospace\">10:29:02.481 | <span style=\"color: #008080; text-decoration-color: #008080\">INFO</span>    | Flow run<span style=\"color: #800080; text-decoration-color: #800080\"> 'magnificent-leopard'</span> - Submitted task run 'query_pool_snaps-60635b41-30' for execution.\n",
       "</pre>\n"
      ],
      "text/plain": [
       "10:29:02.481 | \u001b[36mINFO\u001b[0m    | Flow run\u001b[35m 'magnificent-leopard'\u001b[0m - Submitted task run 'query_pool_snaps-60635b41-30' for execution.\n"
      ]
     },
     "metadata": {},
     "output_type": "display_data"
    },
    {
     "data": {
      "text/html": [
       "<pre style=\"white-space:pre;overflow-x:auto;line-height:normal;font-family:Menlo,'DejaVu Sans Mono',consolas,'Courier New',monospace\">10:29:02.492 | <span style=\"color: #008080; text-decoration-color: #008080\">INFO</span>    | Flow run<span style=\"color: #800080; text-decoration-color: #800080\"> 'magnificent-leopard'</span> - Created task run 'query_pool_snaps-60635b41-16' for task 'query_pool_snaps'\n",
       "</pre>\n"
      ],
      "text/plain": [
       "10:29:02.492 | \u001b[36mINFO\u001b[0m    | Flow run\u001b[35m 'magnificent-leopard'\u001b[0m - Created task run 'query_pool_snaps-60635b41-16' for task 'query_pool_snaps'\n"
      ]
     },
     "metadata": {},
     "output_type": "display_data"
    },
    {
     "data": {
      "text/html": [
       "<pre style=\"white-space:pre;overflow-x:auto;line-height:normal;font-family:Menlo,'DejaVu Sans Mono',consolas,'Courier New',monospace\">10:29:02.493 | <span style=\"color: #008080; text-decoration-color: #008080\">INFO</span>    | Flow run<span style=\"color: #800080; text-decoration-color: #800080\"> 'magnificent-leopard'</span> - Submitted task run 'query_pool_snaps-60635b41-16' for execution.\n",
       "</pre>\n"
      ],
      "text/plain": [
       "10:29:02.493 | \u001b[36mINFO\u001b[0m    | Flow run\u001b[35m 'magnificent-leopard'\u001b[0m - Submitted task run 'query_pool_snaps-60635b41-16' for execution.\n"
      ]
     },
     "metadata": {},
     "output_type": "display_data"
    },
    {
     "data": {
      "text/html": [
       "<pre style=\"white-space:pre;overflow-x:auto;line-height:normal;font-family:Menlo,'DejaVu Sans Mono',consolas,'Courier New',monospace\">10:29:02.501 | <span style=\"color: #008080; text-decoration-color: #008080\">INFO</span>    | Flow run<span style=\"color: #800080; text-decoration-color: #800080\"> 'magnificent-leopard'</span> - Created task run 'query_pool_snaps-60635b41-6' for task 'query_pool_snaps'\n",
       "</pre>\n"
      ],
      "text/plain": [
       "10:29:02.501 | \u001b[36mINFO\u001b[0m    | Flow run\u001b[35m 'magnificent-leopard'\u001b[0m - Created task run 'query_pool_snaps-60635b41-6' for task 'query_pool_snaps'\n"
      ]
     },
     "metadata": {},
     "output_type": "display_data"
    },
    {
     "data": {
      "text/html": [
       "<pre style=\"white-space:pre;overflow-x:auto;line-height:normal;font-family:Menlo,'DejaVu Sans Mono',consolas,'Courier New',monospace\">10:29:02.502 | <span style=\"color: #008080; text-decoration-color: #008080\">INFO</span>    | Flow run<span style=\"color: #800080; text-decoration-color: #800080\"> 'magnificent-leopard'</span> - Submitted task run 'query_pool_snaps-60635b41-6' for execution.\n",
       "</pre>\n"
      ],
      "text/plain": [
       "10:29:02.502 | \u001b[36mINFO\u001b[0m    | Flow run\u001b[35m 'magnificent-leopard'\u001b[0m - Submitted task run 'query_pool_snaps-60635b41-6' for execution.\n"
      ]
     },
     "metadata": {},
     "output_type": "display_data"
    },
    {
     "data": {
      "text/html": [
       "<pre style=\"white-space:pre;overflow-x:auto;line-height:normal;font-family:Menlo,'DejaVu Sans Mono',consolas,'Courier New',monospace\">10:29:02.527 | <span style=\"color: #008080; text-decoration-color: #008080\">INFO</span>    | Flow run<span style=\"color: #800080; text-decoration-color: #800080\"> 'magnificent-leopard'</span> - Created task run 'query_pool_snaps-60635b41-53' for task 'query_pool_snaps'\n",
       "</pre>\n"
      ],
      "text/plain": [
       "10:29:02.527 | \u001b[36mINFO\u001b[0m    | Flow run\u001b[35m 'magnificent-leopard'\u001b[0m - Created task run 'query_pool_snaps-60635b41-53' for task 'query_pool_snaps'\n"
      ]
     },
     "metadata": {},
     "output_type": "display_data"
    },
    {
     "data": {
      "text/html": [
       "<pre style=\"white-space:pre;overflow-x:auto;line-height:normal;font-family:Menlo,'DejaVu Sans Mono',consolas,'Courier New',monospace\">10:29:02.528 | <span style=\"color: #008080; text-decoration-color: #008080\">INFO</span>    | Flow run<span style=\"color: #800080; text-decoration-color: #800080\"> 'magnificent-leopard'</span> - Submitted task run 'query_pool_snaps-60635b41-53' for execution.\n",
       "</pre>\n"
      ],
      "text/plain": [
       "10:29:02.528 | \u001b[36mINFO\u001b[0m    | Flow run\u001b[35m 'magnificent-leopard'\u001b[0m - Submitted task run 'query_pool_snaps-60635b41-53' for execution.\n"
      ]
     },
     "metadata": {},
     "output_type": "display_data"
    },
    {
     "data": {
      "text/html": [
       "<pre style=\"white-space:pre;overflow-x:auto;line-height:normal;font-family:Menlo,'DejaVu Sans Mono',consolas,'Courier New',monospace\">10:29:02.697 | <span style=\"color: #008080; text-decoration-color: #008080\">INFO</span>    | Flow run<span style=\"color: #800080; text-decoration-color: #800080\"> 'magnificent-leopard'</span> - Created task run 'query_pool_vol-8bdd8db3-30' for task 'query_pool_vol'\n",
       "</pre>\n"
      ],
      "text/plain": [
       "10:29:02.697 | \u001b[36mINFO\u001b[0m    | Flow run\u001b[35m 'magnificent-leopard'\u001b[0m - Created task run 'query_pool_vol-8bdd8db3-30' for task 'query_pool_vol'\n"
      ]
     },
     "metadata": {},
     "output_type": "display_data"
    },
    {
     "data": {
      "text/html": [
       "<pre style=\"white-space:pre;overflow-x:auto;line-height:normal;font-family:Menlo,'DejaVu Sans Mono',consolas,'Courier New',monospace\">10:29:02.698 | <span style=\"color: #008080; text-decoration-color: #008080\">INFO</span>    | Flow run<span style=\"color: #800080; text-decoration-color: #800080\"> 'magnificent-leopard'</span> - Submitted task run 'query_pool_vol-8bdd8db3-30' for execution.\n",
       "</pre>\n"
      ],
      "text/plain": [
       "10:29:02.698 | \u001b[36mINFO\u001b[0m    | Flow run\u001b[35m 'magnificent-leopard'\u001b[0m - Submitted task run 'query_pool_vol-8bdd8db3-30' for execution.\n"
      ]
     },
     "metadata": {},
     "output_type": "display_data"
    },
    {
     "data": {
      "text/html": [
       "<pre style=\"white-space:pre;overflow-x:auto;line-height:normal;font-family:Menlo,'DejaVu Sans Mono',consolas,'Courier New',monospace\">10:29:02.708 | <span style=\"color: #008080; text-decoration-color: #008080\">INFO</span>    | Task run 'query_pool_vol-8bdd8db3-2' - Finished in state <span style=\"color: #008000; text-decoration-color: #008000\">Completed</span>()\n",
       "</pre>\n"
      ],
      "text/plain": [
       "10:29:02.708 | \u001b[36mINFO\u001b[0m    | Task run 'query_pool_vol-8bdd8db3-2' - Finished in state \u001b[32mCompleted\u001b[0m()\n"
      ]
     },
     "metadata": {},
     "output_type": "display_data"
    },
    {
     "data": {
      "text/html": [
       "<pre style=\"white-space:pre;overflow-x:auto;line-height:normal;font-family:Menlo,'DejaVu Sans Mono',consolas,'Courier New',monospace\">10:29:02.721 | <span style=\"color: #008080; text-decoration-color: #008080\">INFO</span>    | Flow run<span style=\"color: #800080; text-decoration-color: #800080\"> 'magnificent-leopard'</span> - Created task run 'query_pool_vol-8bdd8db3-50' for task 'query_pool_vol'\n",
       "</pre>\n"
      ],
      "text/plain": [
       "10:29:02.721 | \u001b[36mINFO\u001b[0m    | Flow run\u001b[35m 'magnificent-leopard'\u001b[0m - Created task run 'query_pool_vol-8bdd8db3-50' for task 'query_pool_vol'\n"
      ]
     },
     "metadata": {},
     "output_type": "display_data"
    },
    {
     "data": {
      "text/html": [
       "<pre style=\"white-space:pre;overflow-x:auto;line-height:normal;font-family:Menlo,'DejaVu Sans Mono',consolas,'Courier New',monospace\">10:29:02.723 | <span style=\"color: #008080; text-decoration-color: #008080\">INFO</span>    | Flow run<span style=\"color: #800080; text-decoration-color: #800080\"> 'magnificent-leopard'</span> - Submitted task run 'query_pool_vol-8bdd8db3-50' for execution.\n",
       "</pre>\n"
      ],
      "text/plain": [
       "10:29:02.723 | \u001b[36mINFO\u001b[0m    | Flow run\u001b[35m 'magnificent-leopard'\u001b[0m - Submitted task run 'query_pool_vol-8bdd8db3-50' for execution.\n"
      ]
     },
     "metadata": {},
     "output_type": "display_data"
    },
    {
     "data": {
      "text/html": [
       "<pre style=\"white-space:pre;overflow-x:auto;line-height:normal;font-family:Menlo,'DejaVu Sans Mono',consolas,'Courier New',monospace\">10:29:03.361 | <span style=\"color: #008080; text-decoration-color: #008080\">INFO</span>    | Flow run<span style=\"color: #800080; text-decoration-color: #800080\"> 'magnificent-leopard'</span> - Created task run 'query_pool_snaps-60635b41-36' for task 'query_pool_snaps'\n",
       "</pre>\n"
      ],
      "text/plain": [
       "10:29:03.361 | \u001b[36mINFO\u001b[0m    | Flow run\u001b[35m 'magnificent-leopard'\u001b[0m - Created task run 'query_pool_snaps-60635b41-36' for task 'query_pool_snaps'\n"
      ]
     },
     "metadata": {},
     "output_type": "display_data"
    },
    {
     "data": {
      "text/html": [
       "<pre style=\"white-space:pre;overflow-x:auto;line-height:normal;font-family:Menlo,'DejaVu Sans Mono',consolas,'Courier New',monospace\">10:29:03.363 | <span style=\"color: #008080; text-decoration-color: #008080\">INFO</span>    | Flow run<span style=\"color: #800080; text-decoration-color: #800080\"> 'magnificent-leopard'</span> - Submitted task run 'query_pool_snaps-60635b41-36' for execution.\n",
       "</pre>\n"
      ],
      "text/plain": [
       "10:29:03.363 | \u001b[36mINFO\u001b[0m    | Flow run\u001b[35m 'magnificent-leopard'\u001b[0m - Submitted task run 'query_pool_snaps-60635b41-36' for execution.\n"
      ]
     },
     "metadata": {},
     "output_type": "display_data"
    },
    {
     "data": {
      "text/html": [
       "<pre style=\"white-space:pre;overflow-x:auto;line-height:normal;font-family:Menlo,'DejaVu Sans Mono',consolas,'Courier New',monospace\">10:29:03.388 | <span style=\"color: #008080; text-decoration-color: #008080\">INFO</span>    | Task run 'query_pool_vol-8bdd8db3-45' - Finished in state <span style=\"color: #008000; text-decoration-color: #008000\">Completed</span>()\n",
       "</pre>\n"
      ],
      "text/plain": [
       "10:29:03.388 | \u001b[36mINFO\u001b[0m    | Task run 'query_pool_vol-8bdd8db3-45' - Finished in state \u001b[32mCompleted\u001b[0m()\n"
      ]
     },
     "metadata": {},
     "output_type": "display_data"
    },
    {
     "data": {
      "text/html": [
       "<pre style=\"white-space:pre;overflow-x:auto;line-height:normal;font-family:Menlo,'DejaVu Sans Mono',consolas,'Courier New',monospace\">10:29:03.394 | <span style=\"color: #008080; text-decoration-color: #008080\">INFO</span>    | Task run 'query_pool_snaps-60635b41-1' - Finished in state <span style=\"color: #008000; text-decoration-color: #008000\">Completed</span>()\n",
       "</pre>\n"
      ],
      "text/plain": [
       "10:29:03.394 | \u001b[36mINFO\u001b[0m    | Task run 'query_pool_snaps-60635b41-1' - Finished in state \u001b[32mCompleted\u001b[0m()\n"
      ]
     },
     "metadata": {},
     "output_type": "display_data"
    },
    {
     "data": {
      "text/html": [
       "<pre style=\"white-space:pre;overflow-x:auto;line-height:normal;font-family:Menlo,'DejaVu Sans Mono',consolas,'Courier New',monospace\">10:29:03.417 | <span style=\"color: #008080; text-decoration-color: #008080\">INFO</span>    | Flow run<span style=\"color: #800080; text-decoration-color: #800080\"> 'magnificent-leopard'</span> - Created task run 'query_pool_vol-8bdd8db3-3' for task 'query_pool_vol'\n",
       "</pre>\n"
      ],
      "text/plain": [
       "10:29:03.417 | \u001b[36mINFO\u001b[0m    | Flow run\u001b[35m 'magnificent-leopard'\u001b[0m - Created task run 'query_pool_vol-8bdd8db3-3' for task 'query_pool_vol'\n"
      ]
     },
     "metadata": {},
     "output_type": "display_data"
    },
    {
     "data": {
      "text/html": [
       "<pre style=\"white-space:pre;overflow-x:auto;line-height:normal;font-family:Menlo,'DejaVu Sans Mono',consolas,'Courier New',monospace\">10:29:03.418 | <span style=\"color: #008080; text-decoration-color: #008080\">INFO</span>    | Flow run<span style=\"color: #800080; text-decoration-color: #800080\"> 'magnificent-leopard'</span> - Submitted task run 'query_pool_vol-8bdd8db3-3' for execution.\n",
       "</pre>\n"
      ],
      "text/plain": [
       "10:29:03.418 | \u001b[36mINFO\u001b[0m    | Flow run\u001b[35m 'magnificent-leopard'\u001b[0m - Submitted task run 'query_pool_vol-8bdd8db3-3' for execution.\n"
      ]
     },
     "metadata": {},
     "output_type": "display_data"
    },
    {
     "data": {
      "text/html": [
       "<pre style=\"white-space:pre;overflow-x:auto;line-height:normal;font-family:Menlo,'DejaVu Sans Mono',consolas,'Courier New',monospace\">10:29:03.440 | <span style=\"color: #008080; text-decoration-color: #008080\">INFO</span>    | Flow run<span style=\"color: #800080; text-decoration-color: #800080\"> 'magnificent-leopard'</span> - Created task run 'query_pool_vol-8bdd8db3-36' for task 'query_pool_vol'\n",
       "</pre>\n"
      ],
      "text/plain": [
       "10:29:03.440 | \u001b[36mINFO\u001b[0m    | Flow run\u001b[35m 'magnificent-leopard'\u001b[0m - Created task run 'query_pool_vol-8bdd8db3-36' for task 'query_pool_vol'\n"
      ]
     },
     "metadata": {},
     "output_type": "display_data"
    },
    {
     "data": {
      "text/html": [
       "<pre style=\"white-space:pre;overflow-x:auto;line-height:normal;font-family:Menlo,'DejaVu Sans Mono',consolas,'Courier New',monospace\">10:29:03.441 | <span style=\"color: #008080; text-decoration-color: #008080\">INFO</span>    | Flow run<span style=\"color: #800080; text-decoration-color: #800080\"> 'magnificent-leopard'</span> - Submitted task run 'query_pool_vol-8bdd8db3-36' for execution.\n",
       "</pre>\n"
      ],
      "text/plain": [
       "10:29:03.441 | \u001b[36mINFO\u001b[0m    | Flow run\u001b[35m 'magnificent-leopard'\u001b[0m - Submitted task run 'query_pool_vol-8bdd8db3-36' for execution.\n"
      ]
     },
     "metadata": {},
     "output_type": "display_data"
    },
    {
     "data": {
      "text/html": [
       "<pre style=\"white-space:pre;overflow-x:auto;line-height:normal;font-family:Menlo,'DejaVu Sans Mono',consolas,'Courier New',monospace\">10:29:03.452 | <span style=\"color: #008080; text-decoration-color: #008080\">INFO</span>    | Flow run<span style=\"color: #800080; text-decoration-color: #800080\"> 'magnificent-leopard'</span> - Created task run 'query_pool_vol-8bdd8db3-22' for task 'query_pool_vol'\n",
       "</pre>\n"
      ],
      "text/plain": [
       "10:29:03.452 | \u001b[36mINFO\u001b[0m    | Flow run\u001b[35m 'magnificent-leopard'\u001b[0m - Created task run 'query_pool_vol-8bdd8db3-22' for task 'query_pool_vol'\n"
      ]
     },
     "metadata": {},
     "output_type": "display_data"
    },
    {
     "data": {
      "text/html": [
       "<pre style=\"white-space:pre;overflow-x:auto;line-height:normal;font-family:Menlo,'DejaVu Sans Mono',consolas,'Courier New',monospace\">10:29:03.453 | <span style=\"color: #008080; text-decoration-color: #008080\">INFO</span>    | Flow run<span style=\"color: #800080; text-decoration-color: #800080\"> 'magnificent-leopard'</span> - Submitted task run 'query_pool_vol-8bdd8db3-22' for execution.\n",
       "</pre>\n"
      ],
      "text/plain": [
       "10:29:03.453 | \u001b[36mINFO\u001b[0m    | Flow run\u001b[35m 'magnificent-leopard'\u001b[0m - Submitted task run 'query_pool_vol-8bdd8db3-22' for execution.\n"
      ]
     },
     "metadata": {},
     "output_type": "display_data"
    },
    {
     "data": {
      "text/html": [
       "<pre style=\"white-space:pre;overflow-x:auto;line-height:normal;font-family:Menlo,'DejaVu Sans Mono',consolas,'Courier New',monospace\">10:29:03.480 | <span style=\"color: #008080; text-decoration-color: #008080\">INFO</span>    | Flow run<span style=\"color: #800080; text-decoration-color: #800080\"> 'magnificent-leopard'</span> - Created task run 'query_pool_vol-8bdd8db3-10' for task 'query_pool_vol'\n",
       "</pre>\n"
      ],
      "text/plain": [
       "10:29:03.480 | \u001b[36mINFO\u001b[0m    | Flow run\u001b[35m 'magnificent-leopard'\u001b[0m - Created task run 'query_pool_vol-8bdd8db3-10' for task 'query_pool_vol'\n"
      ]
     },
     "metadata": {},
     "output_type": "display_data"
    },
    {
     "data": {
      "text/html": [
       "<pre style=\"white-space:pre;overflow-x:auto;line-height:normal;font-family:Menlo,'DejaVu Sans Mono',consolas,'Courier New',monospace\">10:29:03.481 | <span style=\"color: #008080; text-decoration-color: #008080\">INFO</span>    | Flow run<span style=\"color: #800080; text-decoration-color: #800080\"> 'magnificent-leopard'</span> - Submitted task run 'query_pool_vol-8bdd8db3-10' for execution.\n",
       "</pre>\n"
      ],
      "text/plain": [
       "10:29:03.481 | \u001b[36mINFO\u001b[0m    | Flow run\u001b[35m 'magnificent-leopard'\u001b[0m - Submitted task run 'query_pool_vol-8bdd8db3-10' for execution.\n"
      ]
     },
     "metadata": {},
     "output_type": "display_data"
    },
    {
     "data": {
      "text/html": [
       "<pre style=\"white-space:pre;overflow-x:auto;line-height:normal;font-family:Menlo,'DejaVu Sans Mono',consolas,'Courier New',monospace\">10:29:03.493 | <span style=\"color: #008080; text-decoration-color: #008080\">INFO</span>    | Task run 'query_pool_snaps-60635b41-30' - Finished in state <span style=\"color: #008000; text-decoration-color: #008000\">Completed</span>()\n",
       "</pre>\n"
      ],
      "text/plain": [
       "10:29:03.493 | \u001b[36mINFO\u001b[0m    | Task run 'query_pool_snaps-60635b41-30' - Finished in state \u001b[32mCompleted\u001b[0m()\n"
      ]
     },
     "metadata": {},
     "output_type": "display_data"
    },
    {
     "data": {
      "text/html": [
       "<pre style=\"white-space:pre;overflow-x:auto;line-height:normal;font-family:Menlo,'DejaVu Sans Mono',consolas,'Courier New',monospace\">10:29:03.499 | <span style=\"color: #008080; text-decoration-color: #008080\">INFO</span>    | Task run 'query_pool_vol-8bdd8db3-8' - Finished in state <span style=\"color: #008000; text-decoration-color: #008000\">Completed</span>()\n",
       "</pre>\n"
      ],
      "text/plain": [
       "10:29:03.499 | \u001b[36mINFO\u001b[0m    | Task run 'query_pool_vol-8bdd8db3-8' - Finished in state \u001b[32mCompleted\u001b[0m()\n"
      ]
     },
     "metadata": {},
     "output_type": "display_data"
    },
    {
     "data": {
      "text/html": [
       "<pre style=\"white-space:pre;overflow-x:auto;line-height:normal;font-family:Menlo,'DejaVu Sans Mono',consolas,'Courier New',monospace\">10:29:03.514 | <span style=\"color: #008080; text-decoration-color: #008080\">INFO</span>    | Flow run<span style=\"color: #800080; text-decoration-color: #800080\"> 'magnificent-leopard'</span> - Created task run 'query_pool_snaps-60635b41-17' for task 'query_pool_snaps'\n",
       "</pre>\n"
      ],
      "text/plain": [
       "10:29:03.514 | \u001b[36mINFO\u001b[0m    | Flow run\u001b[35m 'magnificent-leopard'\u001b[0m - Created task run 'query_pool_snaps-60635b41-17' for task 'query_pool_snaps'\n"
      ]
     },
     "metadata": {},
     "output_type": "display_data"
    },
    {
     "data": {
      "text/html": [
       "<pre style=\"white-space:pre;overflow-x:auto;line-height:normal;font-family:Menlo,'DejaVu Sans Mono',consolas,'Courier New',monospace\">10:29:03.515 | <span style=\"color: #008080; text-decoration-color: #008080\">INFO</span>    | Flow run<span style=\"color: #800080; text-decoration-color: #800080\"> 'magnificent-leopard'</span> - Submitted task run 'query_pool_snaps-60635b41-17' for execution.\n",
       "</pre>\n"
      ],
      "text/plain": [
       "10:29:03.515 | \u001b[36mINFO\u001b[0m    | Flow run\u001b[35m 'magnificent-leopard'\u001b[0m - Submitted task run 'query_pool_snaps-60635b41-17' for execution.\n"
      ]
     },
     "metadata": {},
     "output_type": "display_data"
    },
    {
     "data": {
      "text/html": [
       "<pre style=\"white-space:pre;overflow-x:auto;line-height:normal;font-family:Menlo,'DejaVu Sans Mono',consolas,'Courier New',monospace\">10:29:03.523 | <span style=\"color: #008080; text-decoration-color: #008080\">INFO</span>    | Flow run<span style=\"color: #800080; text-decoration-color: #800080\"> 'magnificent-leopard'</span> - Created task run 'query_pool_vol-8bdd8db3-47' for task 'query_pool_vol'\n",
       "</pre>\n"
      ],
      "text/plain": [
       "10:29:03.523 | \u001b[36mINFO\u001b[0m    | Flow run\u001b[35m 'magnificent-leopard'\u001b[0m - Created task run 'query_pool_vol-8bdd8db3-47' for task 'query_pool_vol'\n"
      ]
     },
     "metadata": {},
     "output_type": "display_data"
    },
    {
     "data": {
      "text/html": [
       "<pre style=\"white-space:pre;overflow-x:auto;line-height:normal;font-family:Menlo,'DejaVu Sans Mono',consolas,'Courier New',monospace\">10:29:03.524 | <span style=\"color: #008080; text-decoration-color: #008080\">INFO</span>    | Flow run<span style=\"color: #800080; text-decoration-color: #800080\"> 'magnificent-leopard'</span> - Submitted task run 'query_pool_vol-8bdd8db3-47' for execution.\n",
       "</pre>\n"
      ],
      "text/plain": [
       "10:29:03.524 | \u001b[36mINFO\u001b[0m    | Flow run\u001b[35m 'magnificent-leopard'\u001b[0m - Submitted task run 'query_pool_vol-8bdd8db3-47' for execution.\n"
      ]
     },
     "metadata": {},
     "output_type": "display_data"
    },
    {
     "data": {
      "text/html": [
       "<pre style=\"white-space:pre;overflow-x:auto;line-height:normal;font-family:Menlo,'DejaVu Sans Mono',consolas,'Courier New',monospace\">10:29:03.533 | <span style=\"color: #008080; text-decoration-color: #008080\">INFO</span>    | Flow run<span style=\"color: #800080; text-decoration-color: #800080\"> 'magnificent-leopard'</span> - Created task run 'query_pool_vol-8bdd8db3-48' for task 'query_pool_vol'\n",
       "</pre>\n"
      ],
      "text/plain": [
       "10:29:03.533 | \u001b[36mINFO\u001b[0m    | Flow run\u001b[35m 'magnificent-leopard'\u001b[0m - Created task run 'query_pool_vol-8bdd8db3-48' for task 'query_pool_vol'\n"
      ]
     },
     "metadata": {},
     "output_type": "display_data"
    },
    {
     "data": {
      "text/html": [
       "<pre style=\"white-space:pre;overflow-x:auto;line-height:normal;font-family:Menlo,'DejaVu Sans Mono',consolas,'Courier New',monospace\">10:29:03.534 | <span style=\"color: #008080; text-decoration-color: #008080\">INFO</span>    | Flow run<span style=\"color: #800080; text-decoration-color: #800080\"> 'magnificent-leopard'</span> - Submitted task run 'query_pool_vol-8bdd8db3-48' for execution.\n",
       "</pre>\n"
      ],
      "text/plain": [
       "10:29:03.534 | \u001b[36mINFO\u001b[0m    | Flow run\u001b[35m 'magnificent-leopard'\u001b[0m - Submitted task run 'query_pool_vol-8bdd8db3-48' for execution.\n"
      ]
     },
     "metadata": {},
     "output_type": "display_data"
    },
    {
     "data": {
      "text/html": [
       "<pre style=\"white-space:pre;overflow-x:auto;line-height:normal;font-family:Menlo,'DejaVu Sans Mono',consolas,'Courier New',monospace\">10:29:03.543 | <span style=\"color: #008080; text-decoration-color: #008080\">INFO</span>    | Flow run<span style=\"color: #800080; text-decoration-color: #800080\"> 'magnificent-leopard'</span> - Created task run 'query_pool_snaps-60635b41-7' for task 'query_pool_snaps'\n",
       "</pre>\n"
      ],
      "text/plain": [
       "10:29:03.543 | \u001b[36mINFO\u001b[0m    | Flow run\u001b[35m 'magnificent-leopard'\u001b[0m - Created task run 'query_pool_snaps-60635b41-7' for task 'query_pool_snaps'\n"
      ]
     },
     "metadata": {},
     "output_type": "display_data"
    },
    {
     "data": {
      "text/html": [
       "<pre style=\"white-space:pre;overflow-x:auto;line-height:normal;font-family:Menlo,'DejaVu Sans Mono',consolas,'Courier New',monospace\">10:29:03.543 | <span style=\"color: #008080; text-decoration-color: #008080\">INFO</span>    | Flow run<span style=\"color: #800080; text-decoration-color: #800080\"> 'magnificent-leopard'</span> - Submitted task run 'query_pool_snaps-60635b41-7' for execution.\n",
       "</pre>\n"
      ],
      "text/plain": [
       "10:29:03.543 | \u001b[36mINFO\u001b[0m    | Flow run\u001b[35m 'magnificent-leopard'\u001b[0m - Submitted task run 'query_pool_snaps-60635b41-7' for execution.\n"
      ]
     },
     "metadata": {},
     "output_type": "display_data"
    },
    {
     "data": {
      "text/html": [
       "<pre style=\"white-space:pre;overflow-x:auto;line-height:normal;font-family:Menlo,'DejaVu Sans Mono',consolas,'Courier New',monospace\">10:29:04.457 | <span style=\"color: #008080; text-decoration-color: #008080\">INFO</span>    | Flow run<span style=\"color: #800080; text-decoration-color: #800080\"> 'magnificent-leopard'</span> - Created task run 'query_pool_vol-8bdd8db3-29' for task 'query_pool_vol'\n",
       "</pre>\n"
      ],
      "text/plain": [
       "10:29:04.457 | \u001b[36mINFO\u001b[0m    | Flow run\u001b[35m 'magnificent-leopard'\u001b[0m - Created task run 'query_pool_vol-8bdd8db3-29' for task 'query_pool_vol'\n"
      ]
     },
     "metadata": {},
     "output_type": "display_data"
    },
    {
     "data": {
      "text/html": [
       "<pre style=\"white-space:pre;overflow-x:auto;line-height:normal;font-family:Menlo,'DejaVu Sans Mono',consolas,'Courier New',monospace\">10:29:04.458 | <span style=\"color: #008080; text-decoration-color: #008080\">INFO</span>    | Flow run<span style=\"color: #800080; text-decoration-color: #800080\"> 'magnificent-leopard'</span> - Submitted task run 'query_pool_vol-8bdd8db3-29' for execution.\n",
       "</pre>\n"
      ],
      "text/plain": [
       "10:29:04.458 | \u001b[36mINFO\u001b[0m    | Flow run\u001b[35m 'magnificent-leopard'\u001b[0m - Submitted task run 'query_pool_vol-8bdd8db3-29' for execution.\n"
      ]
     },
     "metadata": {},
     "output_type": "display_data"
    },
    {
     "data": {
      "text/html": [
       "<pre style=\"white-space:pre;overflow-x:auto;line-height:normal;font-family:Menlo,'DejaVu Sans Mono',consolas,'Courier New',monospace\">10:29:04.504 | <span style=\"color: #008080; text-decoration-color: #008080\">INFO</span>    | Task run 'query_pool_vol-8bdd8db3-59' - Finished in state <span style=\"color: #008000; text-decoration-color: #008000\">Completed</span>()\n",
       "</pre>\n"
      ],
      "text/plain": [
       "10:29:04.504 | \u001b[36mINFO\u001b[0m    | Task run 'query_pool_vol-8bdd8db3-59' - Finished in state \u001b[32mCompleted\u001b[0m()\n"
      ]
     },
     "metadata": {},
     "output_type": "display_data"
    },
    {
     "data": {
      "text/html": [
       "<pre style=\"white-space:pre;overflow-x:auto;line-height:normal;font-family:Menlo,'DejaVu Sans Mono',consolas,'Courier New',monospace\">10:29:04.510 | <span style=\"color: #008080; text-decoration-color: #008080\">INFO</span>    | Task run 'query_pool_snaps-60635b41-28' - Finished in state <span style=\"color: #008000; text-decoration-color: #008000\">Completed</span>()\n",
       "</pre>\n"
      ],
      "text/plain": [
       "10:29:04.510 | \u001b[36mINFO\u001b[0m    | Task run 'query_pool_snaps-60635b41-28' - Finished in state \u001b[32mCompleted\u001b[0m()\n"
      ]
     },
     "metadata": {},
     "output_type": "display_data"
    },
    {
     "data": {
      "text/html": [
       "<pre style=\"white-space:pre;overflow-x:auto;line-height:normal;font-family:Menlo,'DejaVu Sans Mono',consolas,'Courier New',monospace\">10:29:04.515 | <span style=\"color: #008080; text-decoration-color: #008080\">INFO</span>    | Task run 'query_pool_snaps-60635b41-16' - Finished in state <span style=\"color: #008000; text-decoration-color: #008000\">Completed</span>()\n",
       "</pre>\n"
      ],
      "text/plain": [
       "10:29:04.515 | \u001b[36mINFO\u001b[0m    | Task run 'query_pool_snaps-60635b41-16' - Finished in state \u001b[32mCompleted\u001b[0m()\n"
      ]
     },
     "metadata": {},
     "output_type": "display_data"
    },
    {
     "data": {
      "text/html": [
       "<pre style=\"white-space:pre;overflow-x:auto;line-height:normal;font-family:Menlo,'DejaVu Sans Mono',consolas,'Courier New',monospace\">10:29:04.520 | <span style=\"color: #008080; text-decoration-color: #008080\">INFO</span>    | Task run 'query_pool_vol-8bdd8db3-47' - Finished in state <span style=\"color: #008000; text-decoration-color: #008000\">Completed</span>()\n",
       "</pre>\n"
      ],
      "text/plain": [
       "10:29:04.520 | \u001b[36mINFO\u001b[0m    | Task run 'query_pool_vol-8bdd8db3-47' - Finished in state \u001b[32mCompleted\u001b[0m()\n"
      ]
     },
     "metadata": {},
     "output_type": "display_data"
    },
    {
     "data": {
      "text/html": [
       "<pre style=\"white-space:pre;overflow-x:auto;line-height:normal;font-family:Menlo,'DejaVu Sans Mono',consolas,'Courier New',monospace\">10:29:04.525 | <span style=\"color: #008080; text-decoration-color: #008080\">INFO</span>    | Task run 'query_pool_vol-8bdd8db3-30' - Finished in state <span style=\"color: #008000; text-decoration-color: #008000\">Completed</span>()\n",
       "</pre>\n"
      ],
      "text/plain": [
       "10:29:04.525 | \u001b[36mINFO\u001b[0m    | Task run 'query_pool_vol-8bdd8db3-30' - Finished in state \u001b[32mCompleted\u001b[0m()\n"
      ]
     },
     "metadata": {},
     "output_type": "display_data"
    },
    {
     "data": {
      "text/html": [
       "<pre style=\"white-space:pre;overflow-x:auto;line-height:normal;font-family:Menlo,'DejaVu Sans Mono',consolas,'Courier New',monospace\">10:29:04.530 | <span style=\"color: #008080; text-decoration-color: #008080\">INFO</span>    | Task run 'query_pool_vol-8bdd8db3-28' - Finished in state <span style=\"color: #008000; text-decoration-color: #008000\">Completed</span>()\n",
       "</pre>\n"
      ],
      "text/plain": [
       "10:29:04.530 | \u001b[36mINFO\u001b[0m    | Task run 'query_pool_vol-8bdd8db3-28' - Finished in state \u001b[32mCompleted\u001b[0m()\n"
      ]
     },
     "metadata": {},
     "output_type": "display_data"
    },
    {
     "data": {
      "text/html": [
       "<pre style=\"white-space:pre;overflow-x:auto;line-height:normal;font-family:Menlo,'DejaVu Sans Mono',consolas,'Courier New',monospace\">10:29:04.534 | <span style=\"color: #008080; text-decoration-color: #008080\">INFO</span>    | Task run 'query_pool_snaps-60635b41-51' - Finished in state <span style=\"color: #008000; text-decoration-color: #008000\">Completed</span>()\n",
       "</pre>\n"
      ],
      "text/plain": [
       "10:29:04.534 | \u001b[36mINFO\u001b[0m    | Task run 'query_pool_snaps-60635b41-51' - Finished in state \u001b[32mCompleted\u001b[0m()\n"
      ]
     },
     "metadata": {},
     "output_type": "display_data"
    },
    {
     "data": {
      "text/html": [
       "<pre style=\"white-space:pre;overflow-x:auto;line-height:normal;font-family:Menlo,'DejaVu Sans Mono',consolas,'Courier New',monospace\">10:29:04.539 | <span style=\"color: #008080; text-decoration-color: #008080\">INFO</span>    | Flow run<span style=\"color: #800080; text-decoration-color: #800080\"> 'magnificent-leopard'</span> - Created task run 'query_pool_vol-8bdd8db3-0' for task 'query_pool_vol'\n",
       "</pre>\n"
      ],
      "text/plain": [
       "10:29:04.539 | \u001b[36mINFO\u001b[0m    | Flow run\u001b[35m 'magnificent-leopard'\u001b[0m - Created task run 'query_pool_vol-8bdd8db3-0' for task 'query_pool_vol'\n"
      ]
     },
     "metadata": {},
     "output_type": "display_data"
    },
    {
     "data": {
      "text/html": [
       "<pre style=\"white-space:pre;overflow-x:auto;line-height:normal;font-family:Menlo,'DejaVu Sans Mono',consolas,'Courier New',monospace\">10:29:04.540 | <span style=\"color: #008080; text-decoration-color: #008080\">INFO</span>    | Flow run<span style=\"color: #800080; text-decoration-color: #800080\"> 'magnificent-leopard'</span> - Submitted task run 'query_pool_vol-8bdd8db3-0' for execution.\n",
       "</pre>\n"
      ],
      "text/plain": [
       "10:29:04.540 | \u001b[36mINFO\u001b[0m    | Flow run\u001b[35m 'magnificent-leopard'\u001b[0m - Submitted task run 'query_pool_vol-8bdd8db3-0' for execution.\n"
      ]
     },
     "metadata": {},
     "output_type": "display_data"
    },
    {
     "data": {
      "text/html": [
       "<pre style=\"white-space:pre;overflow-x:auto;line-height:normal;font-family:Menlo,'DejaVu Sans Mono',consolas,'Courier New',monospace\">10:29:04.547 | <span style=\"color: #008080; text-decoration-color: #008080\">INFO</span>    | Flow run<span style=\"color: #800080; text-decoration-color: #800080\"> 'magnificent-leopard'</span> - Created task run 'query_pool_snaps-60635b41-15' for task 'query_pool_snaps'\n",
       "</pre>\n"
      ],
      "text/plain": [
       "10:29:04.547 | \u001b[36mINFO\u001b[0m    | Flow run\u001b[35m 'magnificent-leopard'\u001b[0m - Created task run 'query_pool_snaps-60635b41-15' for task 'query_pool_snaps'\n"
      ]
     },
     "metadata": {},
     "output_type": "display_data"
    },
    {
     "data": {
      "text/html": [
       "<pre style=\"white-space:pre;overflow-x:auto;line-height:normal;font-family:Menlo,'DejaVu Sans Mono',consolas,'Courier New',monospace\">10:29:04.547 | <span style=\"color: #008080; text-decoration-color: #008080\">INFO</span>    | Flow run<span style=\"color: #800080; text-decoration-color: #800080\"> 'magnificent-leopard'</span> - Submitted task run 'query_pool_snaps-60635b41-15' for execution.\n",
       "</pre>\n"
      ],
      "text/plain": [
       "10:29:04.547 | \u001b[36mINFO\u001b[0m    | Flow run\u001b[35m 'magnificent-leopard'\u001b[0m - Submitted task run 'query_pool_snaps-60635b41-15' for execution.\n"
      ]
     },
     "metadata": {},
     "output_type": "display_data"
    },
    {
     "data": {
      "text/html": [
       "<pre style=\"white-space:pre;overflow-x:auto;line-height:normal;font-family:Menlo,'DejaVu Sans Mono',consolas,'Courier New',monospace\">10:29:04.558 | <span style=\"color: #008080; text-decoration-color: #008080\">INFO</span>    | Task run 'query_pool_snaps-60635b41-56' - Finished in state <span style=\"color: #008000; text-decoration-color: #008000\">Completed</span>()\n",
       "</pre>\n"
      ],
      "text/plain": [
       "10:29:04.558 | \u001b[36mINFO\u001b[0m    | Task run 'query_pool_snaps-60635b41-56' - Finished in state \u001b[32mCompleted\u001b[0m()\n"
      ]
     },
     "metadata": {},
     "output_type": "display_data"
    },
    {
     "data": {
      "text/html": [
       "<pre style=\"white-space:pre;overflow-x:auto;line-height:normal;font-family:Menlo,'DejaVu Sans Mono',consolas,'Courier New',monospace\">10:29:04.590 | <span style=\"color: #008080; text-decoration-color: #008080\">INFO</span>    | Flow run<span style=\"color: #800080; text-decoration-color: #800080\"> 'magnificent-leopard'</span> - Created task run 'query_pool_snaps-60635b41-55' for task 'query_pool_snaps'\n",
       "</pre>\n"
      ],
      "text/plain": [
       "10:29:04.590 | \u001b[36mINFO\u001b[0m    | Flow run\u001b[35m 'magnificent-leopard'\u001b[0m - Created task run 'query_pool_snaps-60635b41-55' for task 'query_pool_snaps'\n"
      ]
     },
     "metadata": {},
     "output_type": "display_data"
    },
    {
     "data": {
      "text/html": [
       "<pre style=\"white-space:pre;overflow-x:auto;line-height:normal;font-family:Menlo,'DejaVu Sans Mono',consolas,'Courier New',monospace\">10:29:04.591 | <span style=\"color: #008080; text-decoration-color: #008080\">INFO</span>    | Flow run<span style=\"color: #800080; text-decoration-color: #800080\"> 'magnificent-leopard'</span> - Submitted task run 'query_pool_snaps-60635b41-55' for execution.\n",
       "</pre>\n"
      ],
      "text/plain": [
       "10:29:04.591 | \u001b[36mINFO\u001b[0m    | Flow run\u001b[35m 'magnificent-leopard'\u001b[0m - Submitted task run 'query_pool_snaps-60635b41-55' for execution.\n"
      ]
     },
     "metadata": {},
     "output_type": "display_data"
    },
    {
     "data": {
      "text/html": [
       "<pre style=\"white-space:pre;overflow-x:auto;line-height:normal;font-family:Menlo,'DejaVu Sans Mono',consolas,'Courier New',monospace\">10:29:04.602 | <span style=\"color: #008080; text-decoration-color: #008080\">INFO</span>    | Task run 'query_pool_snaps-60635b41-41' - Finished in state <span style=\"color: #008000; text-decoration-color: #008000\">Completed</span>()\n",
       "</pre>\n"
      ],
      "text/plain": [
       "10:29:04.602 | \u001b[36mINFO\u001b[0m    | Task run 'query_pool_snaps-60635b41-41' - Finished in state \u001b[32mCompleted\u001b[0m()\n"
      ]
     },
     "metadata": {},
     "output_type": "display_data"
    },
    {
     "data": {
      "text/html": [
       "<pre style=\"white-space:pre;overflow-x:auto;line-height:normal;font-family:Menlo,'DejaVu Sans Mono',consolas,'Courier New',monospace\">10:29:04.609 | <span style=\"color: #008080; text-decoration-color: #008080\">INFO</span>    | Flow run<span style=\"color: #800080; text-decoration-color: #800080\"> 'magnificent-leopard'</span> - Created task run 'query_pool_vol-8bdd8db3-25' for task 'query_pool_vol'\n",
       "</pre>\n"
      ],
      "text/plain": [
       "10:29:04.609 | \u001b[36mINFO\u001b[0m    | Flow run\u001b[35m 'magnificent-leopard'\u001b[0m - Created task run 'query_pool_vol-8bdd8db3-25' for task 'query_pool_vol'\n"
      ]
     },
     "metadata": {},
     "output_type": "display_data"
    },
    {
     "data": {
      "text/html": [
       "<pre style=\"white-space:pre;overflow-x:auto;line-height:normal;font-family:Menlo,'DejaVu Sans Mono',consolas,'Courier New',monospace\">10:29:04.609 | <span style=\"color: #008080; text-decoration-color: #008080\">INFO</span>    | Flow run<span style=\"color: #800080; text-decoration-color: #800080\"> 'magnificent-leopard'</span> - Submitted task run 'query_pool_vol-8bdd8db3-25' for execution.\n",
       "</pre>\n"
      ],
      "text/plain": [
       "10:29:04.609 | \u001b[36mINFO\u001b[0m    | Flow run\u001b[35m 'magnificent-leopard'\u001b[0m - Submitted task run 'query_pool_vol-8bdd8db3-25' for execution.\n"
      ]
     },
     "metadata": {},
     "output_type": "display_data"
    },
    {
     "data": {
      "text/html": [
       "<pre style=\"white-space:pre;overflow-x:auto;line-height:normal;font-family:Menlo,'DejaVu Sans Mono',consolas,'Courier New',monospace\">10:29:04.629 | <span style=\"color: #008080; text-decoration-color: #008080\">INFO</span>    | Task run 'query_pool_snaps-60635b41-29' - Finished in state <span style=\"color: #008000; text-decoration-color: #008000\">Completed</span>()\n",
       "</pre>\n"
      ],
      "text/plain": [
       "10:29:04.629 | \u001b[36mINFO\u001b[0m    | Task run 'query_pool_snaps-60635b41-29' - Finished in state \u001b[32mCompleted\u001b[0m()\n"
      ]
     },
     "metadata": {},
     "output_type": "display_data"
    },
    {
     "data": {
      "text/html": [
       "<pre style=\"white-space:pre;overflow-x:auto;line-height:normal;font-family:Menlo,'DejaVu Sans Mono',consolas,'Courier New',monospace\">10:29:05.216 | <span style=\"color: #008080; text-decoration-color: #008080\">INFO</span>    | Task run 'query_pool_vol-8bdd8db3-35' - Finished in state <span style=\"color: #008000; text-decoration-color: #008000\">Completed</span>()\n",
       "</pre>\n"
      ],
      "text/plain": [
       "10:29:05.216 | \u001b[36mINFO\u001b[0m    | Task run 'query_pool_vol-8bdd8db3-35' - Finished in state \u001b[32mCompleted\u001b[0m()\n"
      ]
     },
     "metadata": {},
     "output_type": "display_data"
    },
    {
     "data": {
      "text/html": [
       "<pre style=\"white-space:pre;overflow-x:auto;line-height:normal;font-family:Menlo,'DejaVu Sans Mono',consolas,'Courier New',monospace\">10:29:05.229 | <span style=\"color: #008080; text-decoration-color: #008080\">INFO</span>    | Flow run<span style=\"color: #800080; text-decoration-color: #800080\"> 'magnificent-leopard'</span> - Created task run 'query_pool_snaps-60635b41-24' for task 'query_pool_snaps'\n",
       "</pre>\n"
      ],
      "text/plain": [
       "10:29:05.229 | \u001b[36mINFO\u001b[0m    | Flow run\u001b[35m 'magnificent-leopard'\u001b[0m - Created task run 'query_pool_snaps-60635b41-24' for task 'query_pool_snaps'\n"
      ]
     },
     "metadata": {},
     "output_type": "display_data"
    },
    {
     "data": {
      "text/html": [
       "<pre style=\"white-space:pre;overflow-x:auto;line-height:normal;font-family:Menlo,'DejaVu Sans Mono',consolas,'Courier New',monospace\">10:29:05.230 | <span style=\"color: #008080; text-decoration-color: #008080\">INFO</span>    | Flow run<span style=\"color: #800080; text-decoration-color: #800080\"> 'magnificent-leopard'</span> - Submitted task run 'query_pool_snaps-60635b41-24' for execution.\n",
       "</pre>\n"
      ],
      "text/plain": [
       "10:29:05.230 | \u001b[36mINFO\u001b[0m    | Flow run\u001b[35m 'magnificent-leopard'\u001b[0m - Submitted task run 'query_pool_snaps-60635b41-24' for execution.\n"
      ]
     },
     "metadata": {},
     "output_type": "display_data"
    },
    {
     "data": {
      "text/html": [
       "<pre style=\"white-space:pre;overflow-x:auto;line-height:normal;font-family:Menlo,'DejaVu Sans Mono',consolas,'Courier New',monospace\">10:29:05.237 | <span style=\"color: #008080; text-decoration-color: #008080\">INFO</span>    | Task run 'query_pool_snaps-60635b41-36' - Finished in state <span style=\"color: #008000; text-decoration-color: #008000\">Completed</span>()\n",
       "</pre>\n"
      ],
      "text/plain": [
       "10:29:05.237 | \u001b[36mINFO\u001b[0m    | Task run 'query_pool_snaps-60635b41-36' - Finished in state \u001b[32mCompleted\u001b[0m()\n"
      ]
     },
     "metadata": {},
     "output_type": "display_data"
    },
    {
     "data": {
      "text/html": [
       "<pre style=\"white-space:pre;overflow-x:auto;line-height:normal;font-family:Menlo,'DejaVu Sans Mono',consolas,'Courier New',monospace\">10:29:05.244 | <span style=\"color: #008080; text-decoration-color: #008080\">INFO</span>    | Task run 'query_pool_snaps-60635b41-0' - Finished in state <span style=\"color: #008000; text-decoration-color: #008000\">Completed</span>()\n",
       "</pre>\n"
      ],
      "text/plain": [
       "10:29:05.244 | \u001b[36mINFO\u001b[0m    | Task run 'query_pool_snaps-60635b41-0' - Finished in state \u001b[32mCompleted\u001b[0m()\n"
      ]
     },
     "metadata": {},
     "output_type": "display_data"
    },
    {
     "data": {
      "text/html": [
       "<pre style=\"white-space:pre;overflow-x:auto;line-height:normal;font-family:Menlo,'DejaVu Sans Mono',consolas,'Courier New',monospace\">10:29:05.259 | <span style=\"color: #008080; text-decoration-color: #008080\">INFO</span>    | Task run 'query_pool_snaps-60635b41-57' - Finished in state <span style=\"color: #008000; text-decoration-color: #008000\">Completed</span>()\n",
       "</pre>\n"
      ],
      "text/plain": [
       "10:29:05.259 | \u001b[36mINFO\u001b[0m    | Task run 'query_pool_snaps-60635b41-57' - Finished in state \u001b[32mCompleted\u001b[0m()\n"
      ]
     },
     "metadata": {},
     "output_type": "display_data"
    },
    {
     "data": {
      "text/html": [
       "<pre style=\"white-space:pre;overflow-x:auto;line-height:normal;font-family:Menlo,'DejaVu Sans Mono',consolas,'Courier New',monospace\">10:29:05.267 | <span style=\"color: #008080; text-decoration-color: #008080\">INFO</span>    | Flow run<span style=\"color: #800080; text-decoration-color: #800080\"> 'magnificent-leopard'</span> - Created task run 'query_pool_snaps-60635b41-2' for task 'query_pool_snaps'\n",
       "</pre>\n"
      ],
      "text/plain": [
       "10:29:05.267 | \u001b[36mINFO\u001b[0m    | Flow run\u001b[35m 'magnificent-leopard'\u001b[0m - Created task run 'query_pool_snaps-60635b41-2' for task 'query_pool_snaps'\n"
      ]
     },
     "metadata": {},
     "output_type": "display_data"
    },
    {
     "data": {
      "text/html": [
       "<pre style=\"white-space:pre;overflow-x:auto;line-height:normal;font-family:Menlo,'DejaVu Sans Mono',consolas,'Courier New',monospace\">10:29:05.268 | <span style=\"color: #008080; text-decoration-color: #008080\">INFO</span>    | Flow run<span style=\"color: #800080; text-decoration-color: #800080\"> 'magnificent-leopard'</span> - Submitted task run 'query_pool_snaps-60635b41-2' for execution.\n",
       "</pre>\n"
      ],
      "text/plain": [
       "10:29:05.268 | \u001b[36mINFO\u001b[0m    | Flow run\u001b[35m 'magnificent-leopard'\u001b[0m - Submitted task run 'query_pool_snaps-60635b41-2' for execution.\n"
      ]
     },
     "metadata": {},
     "output_type": "display_data"
    },
    {
     "data": {
      "text/html": [
       "<pre style=\"white-space:pre;overflow-x:auto;line-height:normal;font-family:Menlo,'DejaVu Sans Mono',consolas,'Courier New',monospace\">10:29:05.282 | <span style=\"color: #008080; text-decoration-color: #008080\">INFO</span>    | Task run 'query_pool_snaps-60635b41-9' - Finished in state <span style=\"color: #008000; text-decoration-color: #008000\">Completed</span>()\n",
       "</pre>\n"
      ],
      "text/plain": [
       "10:29:05.282 | \u001b[36mINFO\u001b[0m    | Task run 'query_pool_snaps-60635b41-9' - Finished in state \u001b[32mCompleted\u001b[0m()\n"
      ]
     },
     "metadata": {},
     "output_type": "display_data"
    },
    {
     "data": {
      "text/html": [
       "<pre style=\"white-space:pre;overflow-x:auto;line-height:normal;font-family:Menlo,'DejaVu Sans Mono',consolas,'Courier New',monospace\">10:29:05.294 | <span style=\"color: #008080; text-decoration-color: #008080\">INFO</span>    | Flow run<span style=\"color: #800080; text-decoration-color: #800080\"> 'magnificent-leopard'</span> - Created task run 'query_pool_vol-8bdd8db3-6' for task 'query_pool_vol'\n",
       "</pre>\n"
      ],
      "text/plain": [
       "10:29:05.294 | \u001b[36mINFO\u001b[0m    | Flow run\u001b[35m 'magnificent-leopard'\u001b[0m - Created task run 'query_pool_vol-8bdd8db3-6' for task 'query_pool_vol'\n"
      ]
     },
     "metadata": {},
     "output_type": "display_data"
    },
    {
     "data": {
      "text/html": [
       "<pre style=\"white-space:pre;overflow-x:auto;line-height:normal;font-family:Menlo,'DejaVu Sans Mono',consolas,'Courier New',monospace\">10:29:05.295 | <span style=\"color: #008080; text-decoration-color: #008080\">INFO</span>    | Flow run<span style=\"color: #800080; text-decoration-color: #800080\"> 'magnificent-leopard'</span> - Submitted task run 'query_pool_vol-8bdd8db3-6' for execution.\n",
       "</pre>\n"
      ],
      "text/plain": [
       "10:29:05.295 | \u001b[36mINFO\u001b[0m    | Flow run\u001b[35m 'magnificent-leopard'\u001b[0m - Submitted task run 'query_pool_vol-8bdd8db3-6' for execution.\n"
      ]
     },
     "metadata": {},
     "output_type": "display_data"
    },
    {
     "data": {
      "text/html": [
       "<pre style=\"white-space:pre;overflow-x:auto;line-height:normal;font-family:Menlo,'DejaVu Sans Mono',consolas,'Courier New',monospace\">10:29:05.302 | <span style=\"color: #008080; text-decoration-color: #008080\">INFO</span>    | Task run 'query_pool_snaps-60635b41-33' - Finished in state <span style=\"color: #008000; text-decoration-color: #008000\">Completed</span>()\n",
       "</pre>\n"
      ],
      "text/plain": [
       "10:29:05.302 | \u001b[36mINFO\u001b[0m    | Task run 'query_pool_snaps-60635b41-33' - Finished in state \u001b[32mCompleted\u001b[0m()\n"
      ]
     },
     "metadata": {},
     "output_type": "display_data"
    },
    {
     "data": {
      "text/html": [
       "<pre style=\"white-space:pre;overflow-x:auto;line-height:normal;font-family:Menlo,'DejaVu Sans Mono',consolas,'Courier New',monospace\">10:29:05.308 | <span style=\"color: #008080; text-decoration-color: #008080\">INFO</span>    | Task run 'query_pool_vol-8bdd8db3-10' - Finished in state <span style=\"color: #008000; text-decoration-color: #008000\">Completed</span>()\n",
       "</pre>\n"
      ],
      "text/plain": [
       "10:29:05.308 | \u001b[36mINFO\u001b[0m    | Task run 'query_pool_vol-8bdd8db3-10' - Finished in state \u001b[32mCompleted\u001b[0m()\n"
      ]
     },
     "metadata": {},
     "output_type": "display_data"
    },
    {
     "data": {
      "text/html": [
       "<pre style=\"white-space:pre;overflow-x:auto;line-height:normal;font-family:Menlo,'DejaVu Sans Mono',consolas,'Courier New',monospace\">10:29:05.328 | <span style=\"color: #008080; text-decoration-color: #008080\">INFO</span>    | Flow run<span style=\"color: #800080; text-decoration-color: #800080\"> 'magnificent-leopard'</span> - Created task run 'query_pool_vol-8bdd8db3-56' for task 'query_pool_vol'\n",
       "</pre>\n"
      ],
      "text/plain": [
       "10:29:05.328 | \u001b[36mINFO\u001b[0m    | Flow run\u001b[35m 'magnificent-leopard'\u001b[0m - Created task run 'query_pool_vol-8bdd8db3-56' for task 'query_pool_vol'\n"
      ]
     },
     "metadata": {},
     "output_type": "display_data"
    },
    {
     "data": {
      "text/html": [
       "<pre style=\"white-space:pre;overflow-x:auto;line-height:normal;font-family:Menlo,'DejaVu Sans Mono',consolas,'Courier New',monospace\">10:29:05.329 | <span style=\"color: #008080; text-decoration-color: #008080\">INFO</span>    | Flow run<span style=\"color: #800080; text-decoration-color: #800080\"> 'magnificent-leopard'</span> - Submitted task run 'query_pool_vol-8bdd8db3-56' for execution.\n",
       "</pre>\n"
      ],
      "text/plain": [
       "10:29:05.329 | \u001b[36mINFO\u001b[0m    | Flow run\u001b[35m 'magnificent-leopard'\u001b[0m - Submitted task run 'query_pool_vol-8bdd8db3-56' for execution.\n"
      ]
     },
     "metadata": {},
     "output_type": "display_data"
    },
    {
     "data": {
      "text/html": [
       "<pre style=\"white-space:pre;overflow-x:auto;line-height:normal;font-family:Menlo,'DejaVu Sans Mono',consolas,'Courier New',monospace\">10:29:05.360 | <span style=\"color: #008080; text-decoration-color: #008080\">INFO</span>    | Task run 'query_pool_vol-8bdd8db3-36' - Finished in state <span style=\"color: #008000; text-decoration-color: #008000\">Completed</span>()\n",
       "</pre>\n"
      ],
      "text/plain": [
       "10:29:05.360 | \u001b[36mINFO\u001b[0m    | Task run 'query_pool_vol-8bdd8db3-36' - Finished in state \u001b[32mCompleted\u001b[0m()\n"
      ]
     },
     "metadata": {},
     "output_type": "display_data"
    },
    {
     "data": {
      "text/html": [
       "<pre style=\"white-space:pre;overflow-x:auto;line-height:normal;font-family:Menlo,'DejaVu Sans Mono',consolas,'Courier New',monospace\">10:29:05.375 | <span style=\"color: #008080; text-decoration-color: #008080\">INFO</span>    | Flow run<span style=\"color: #800080; text-decoration-color: #800080\"> 'magnificent-leopard'</span> - Created task run 'query_pool_snaps-60635b41-19' for task 'query_pool_snaps'\n",
       "</pre>\n"
      ],
      "text/plain": [
       "10:29:05.375 | \u001b[36mINFO\u001b[0m    | Flow run\u001b[35m 'magnificent-leopard'\u001b[0m - Created task run 'query_pool_snaps-60635b41-19' for task 'query_pool_snaps'\n"
      ]
     },
     "metadata": {},
     "output_type": "display_data"
    },
    {
     "data": {
      "text/html": [
       "<pre style=\"white-space:pre;overflow-x:auto;line-height:normal;font-family:Menlo,'DejaVu Sans Mono',consolas,'Courier New',monospace\">10:29:05.376 | <span style=\"color: #008080; text-decoration-color: #008080\">INFO</span>    | Flow run<span style=\"color: #800080; text-decoration-color: #800080\"> 'magnificent-leopard'</span> - Submitted task run 'query_pool_snaps-60635b41-19' for execution.\n",
       "</pre>\n"
      ],
      "text/plain": [
       "10:29:05.376 | \u001b[36mINFO\u001b[0m    | Flow run\u001b[35m 'magnificent-leopard'\u001b[0m - Submitted task run 'query_pool_snaps-60635b41-19' for execution.\n"
      ]
     },
     "metadata": {},
     "output_type": "display_data"
    },
    {
     "data": {
      "text/html": [
       "<pre style=\"white-space:pre;overflow-x:auto;line-height:normal;font-family:Menlo,'DejaVu Sans Mono',consolas,'Courier New',monospace\">10:29:05.401 | <span style=\"color: #008080; text-decoration-color: #008080\">INFO</span>    | Task run 'query_pool_snaps-60635b41-4' - Finished in state <span style=\"color: #008000; text-decoration-color: #008000\">Completed</span>()\n",
       "</pre>\n"
      ],
      "text/plain": [
       "10:29:05.401 | \u001b[36mINFO\u001b[0m    | Task run 'query_pool_snaps-60635b41-4' - Finished in state \u001b[32mCompleted\u001b[0m()\n"
      ]
     },
     "metadata": {},
     "output_type": "display_data"
    },
    {
     "data": {
      "text/html": [
       "<pre style=\"white-space:pre;overflow-x:auto;line-height:normal;font-family:Menlo,'DejaVu Sans Mono',consolas,'Courier New',monospace\">10:29:05.406 | <span style=\"color: #008080; text-decoration-color: #008080\">INFO</span>    | Task run 'query_pool_vol-8bdd8db3-13' - Finished in state <span style=\"color: #008000; text-decoration-color: #008000\">Completed</span>()\n",
       "</pre>\n"
      ],
      "text/plain": [
       "10:29:05.406 | \u001b[36mINFO\u001b[0m    | Task run 'query_pool_vol-8bdd8db3-13' - Finished in state \u001b[32mCompleted\u001b[0m()\n"
      ]
     },
     "metadata": {},
     "output_type": "display_data"
    },
    {
     "data": {
      "text/html": [
       "<pre style=\"white-space:pre;overflow-x:auto;line-height:normal;font-family:Menlo,'DejaVu Sans Mono',consolas,'Courier New',monospace\">10:29:05.411 | <span style=\"color: #008080; text-decoration-color: #008080\">INFO</span>    | Flow run<span style=\"color: #800080; text-decoration-color: #800080\"> 'magnificent-leopard'</span> - Created task run 'query_pool_vol-8bdd8db3-21' for task 'query_pool_vol'\n",
       "</pre>\n"
      ],
      "text/plain": [
       "10:29:05.411 | \u001b[36mINFO\u001b[0m    | Flow run\u001b[35m 'magnificent-leopard'\u001b[0m - Created task run 'query_pool_vol-8bdd8db3-21' for task 'query_pool_vol'\n"
      ]
     },
     "metadata": {},
     "output_type": "display_data"
    },
    {
     "data": {
      "text/html": [
       "<pre style=\"white-space:pre;overflow-x:auto;line-height:normal;font-family:Menlo,'DejaVu Sans Mono',consolas,'Courier New',monospace\">10:29:05.411 | <span style=\"color: #008080; text-decoration-color: #008080\">INFO</span>    | Flow run<span style=\"color: #800080; text-decoration-color: #800080\"> 'magnificent-leopard'</span> - Submitted task run 'query_pool_vol-8bdd8db3-21' for execution.\n",
       "</pre>\n"
      ],
      "text/plain": [
       "10:29:05.411 | \u001b[36mINFO\u001b[0m    | Flow run\u001b[35m 'magnificent-leopard'\u001b[0m - Submitted task run 'query_pool_vol-8bdd8db3-21' for execution.\n"
      ]
     },
     "metadata": {},
     "output_type": "display_data"
    },
    {
     "data": {
      "text/html": [
       "<pre style=\"white-space:pre;overflow-x:auto;line-height:normal;font-family:Menlo,'DejaVu Sans Mono',consolas,'Courier New',monospace\">10:29:05.426 | <span style=\"color: #008080; text-decoration-color: #008080\">INFO</span>    | Flow run<span style=\"color: #800080; text-decoration-color: #800080\"> 'magnificent-leopard'</span> - Created task run 'query_pool_vol-8bdd8db3-11' for task 'query_pool_vol'\n",
       "</pre>\n"
      ],
      "text/plain": [
       "10:29:05.426 | \u001b[36mINFO\u001b[0m    | Flow run\u001b[35m 'magnificent-leopard'\u001b[0m - Created task run 'query_pool_vol-8bdd8db3-11' for task 'query_pool_vol'\n"
      ]
     },
     "metadata": {},
     "output_type": "display_data"
    },
    {
     "data": {
      "text/html": [
       "<pre style=\"white-space:pre;overflow-x:auto;line-height:normal;font-family:Menlo,'DejaVu Sans Mono',consolas,'Courier New',monospace\">10:29:05.426 | <span style=\"color: #008080; text-decoration-color: #008080\">INFO</span>    | Flow run<span style=\"color: #800080; text-decoration-color: #800080\"> 'magnificent-leopard'</span> - Submitted task run 'query_pool_vol-8bdd8db3-11' for execution.\n",
       "</pre>\n"
      ],
      "text/plain": [
       "10:29:05.426 | \u001b[36mINFO\u001b[0m    | Flow run\u001b[35m 'magnificent-leopard'\u001b[0m - Submitted task run 'query_pool_vol-8bdd8db3-11' for execution.\n"
      ]
     },
     "metadata": {},
     "output_type": "display_data"
    },
    {
     "data": {
      "text/html": [
       "<pre style=\"white-space:pre;overflow-x:auto;line-height:normal;font-family:Menlo,'DejaVu Sans Mono',consolas,'Courier New',monospace\">10:29:05.462 | <span style=\"color: #008080; text-decoration-color: #008080\">INFO</span>    | Flow run<span style=\"color: #800080; text-decoration-color: #800080\"> 'magnificent-leopard'</span> - Created task run 'query_pool_snaps-60635b41-13' for task 'query_pool_snaps'\n",
       "</pre>\n"
      ],
      "text/plain": [
       "10:29:05.462 | \u001b[36mINFO\u001b[0m    | Flow run\u001b[35m 'magnificent-leopard'\u001b[0m - Created task run 'query_pool_snaps-60635b41-13' for task 'query_pool_snaps'\n"
      ]
     },
     "metadata": {},
     "output_type": "display_data"
    },
    {
     "data": {
      "text/html": [
       "<pre style=\"white-space:pre;overflow-x:auto;line-height:normal;font-family:Menlo,'DejaVu Sans Mono',consolas,'Courier New',monospace\">10:29:05.463 | <span style=\"color: #008080; text-decoration-color: #008080\">INFO</span>    | Flow run<span style=\"color: #800080; text-decoration-color: #800080\"> 'magnificent-leopard'</span> - Submitted task run 'query_pool_snaps-60635b41-13' for execution.\n",
       "</pre>\n"
      ],
      "text/plain": [
       "10:29:05.463 | \u001b[36mINFO\u001b[0m    | Flow run\u001b[35m 'magnificent-leopard'\u001b[0m - Submitted task run 'query_pool_snaps-60635b41-13' for execution.\n"
      ]
     },
     "metadata": {},
     "output_type": "display_data"
    },
    {
     "data": {
      "text/html": [
       "<pre style=\"white-space:pre;overflow-x:auto;line-height:normal;font-family:Menlo,'DejaVu Sans Mono',consolas,'Courier New',monospace\">10:29:05.478 | <span style=\"color: #008080; text-decoration-color: #008080\">INFO</span>    | Task run 'query_pool_vol-8bdd8db3-0' - Finished in state <span style=\"color: #008000; text-decoration-color: #008000\">Completed</span>()\n",
       "</pre>\n"
      ],
      "text/plain": [
       "10:29:05.478 | \u001b[36mINFO\u001b[0m    | Task run 'query_pool_vol-8bdd8db3-0' - Finished in state \u001b[32mCompleted\u001b[0m()\n"
      ]
     },
     "metadata": {},
     "output_type": "display_data"
    },
    {
     "data": {
      "text/html": [
       "<pre style=\"white-space:pre;overflow-x:auto;line-height:normal;font-family:Menlo,'DejaVu Sans Mono',consolas,'Courier New',monospace\">10:29:05.504 | <span style=\"color: #008080; text-decoration-color: #008080\">INFO</span>    | Flow run<span style=\"color: #800080; text-decoration-color: #800080\"> 'magnificent-leopard'</span> - Created task run 'query_pool_vol-8bdd8db3-7' for task 'query_pool_vol'\n",
       "</pre>\n"
      ],
      "text/plain": [
       "10:29:05.504 | \u001b[36mINFO\u001b[0m    | Flow run\u001b[35m 'magnificent-leopard'\u001b[0m - Created task run 'query_pool_vol-8bdd8db3-7' for task 'query_pool_vol'\n"
      ]
     },
     "metadata": {},
     "output_type": "display_data"
    },
    {
     "data": {
      "text/html": [
       "<pre style=\"white-space:pre;overflow-x:auto;line-height:normal;font-family:Menlo,'DejaVu Sans Mono',consolas,'Courier New',monospace\">10:29:05.505 | <span style=\"color: #008080; text-decoration-color: #008080\">INFO</span>    | Flow run<span style=\"color: #800080; text-decoration-color: #800080\"> 'magnificent-leopard'</span> - Submitted task run 'query_pool_vol-8bdd8db3-7' for execution.\n",
       "</pre>\n"
      ],
      "text/plain": [
       "10:29:05.505 | \u001b[36mINFO\u001b[0m    | Flow run\u001b[35m 'magnificent-leopard'\u001b[0m - Submitted task run 'query_pool_vol-8bdd8db3-7' for execution.\n"
      ]
     },
     "metadata": {},
     "output_type": "display_data"
    },
    {
     "data": {
      "text/html": [
       "<pre style=\"white-space:pre;overflow-x:auto;line-height:normal;font-family:Menlo,'DejaVu Sans Mono',consolas,'Courier New',monospace\">10:29:05.530 | <span style=\"color: #008080; text-decoration-color: #008080\">INFO</span>    | Task run 'query_pool_snaps-60635b41-32' - Finished in state <span style=\"color: #008000; text-decoration-color: #008000\">Completed</span>()\n",
       "</pre>\n"
      ],
      "text/plain": [
       "10:29:05.530 | \u001b[36mINFO\u001b[0m    | Task run 'query_pool_snaps-60635b41-32' - Finished in state \u001b[32mCompleted\u001b[0m()\n"
      ]
     },
     "metadata": {},
     "output_type": "display_data"
    },
    {
     "data": {
      "text/html": [
       "<pre style=\"white-space:pre;overflow-x:auto;line-height:normal;font-family:Menlo,'DejaVu Sans Mono',consolas,'Courier New',monospace\">10:29:05.541 | <span style=\"color: #008080; text-decoration-color: #008080\">INFO</span>    | Flow run<span style=\"color: #800080; text-decoration-color: #800080\"> 'magnificent-leopard'</span> - Created task run 'query_pool_snaps-60635b41-42' for task 'query_pool_snaps'\n",
       "</pre>\n"
      ],
      "text/plain": [
       "10:29:05.541 | \u001b[36mINFO\u001b[0m    | Flow run\u001b[35m 'magnificent-leopard'\u001b[0m - Created task run 'query_pool_snaps-60635b41-42' for task 'query_pool_snaps'\n"
      ]
     },
     "metadata": {},
     "output_type": "display_data"
    },
    {
     "data": {
      "text/html": [
       "<pre style=\"white-space:pre;overflow-x:auto;line-height:normal;font-family:Menlo,'DejaVu Sans Mono',consolas,'Courier New',monospace\">10:29:05.541 | <span style=\"color: #008080; text-decoration-color: #008080\">INFO</span>    | Flow run<span style=\"color: #800080; text-decoration-color: #800080\"> 'magnificent-leopard'</span> - Submitted task run 'query_pool_snaps-60635b41-42' for execution.\n",
       "</pre>\n"
      ],
      "text/plain": [
       "10:29:05.541 | \u001b[36mINFO\u001b[0m    | Flow run\u001b[35m 'magnificent-leopard'\u001b[0m - Submitted task run 'query_pool_snaps-60635b41-42' for execution.\n"
      ]
     },
     "metadata": {},
     "output_type": "display_data"
    },
    {
     "data": {
      "text/html": [
       "<pre style=\"white-space:pre;overflow-x:auto;line-height:normal;font-family:Menlo,'DejaVu Sans Mono',consolas,'Courier New',monospace\">10:29:05.549 | <span style=\"color: #008080; text-decoration-color: #008080\">INFO</span>    | Flow run<span style=\"color: #800080; text-decoration-color: #800080\"> 'magnificent-leopard'</span> - Created task run 'query_pool_vol-8bdd8db3-14' for task 'query_pool_vol'\n",
       "</pre>\n"
      ],
      "text/plain": [
       "10:29:05.549 | \u001b[36mINFO\u001b[0m    | Flow run\u001b[35m 'magnificent-leopard'\u001b[0m - Created task run 'query_pool_vol-8bdd8db3-14' for task 'query_pool_vol'\n"
      ]
     },
     "metadata": {},
     "output_type": "display_data"
    },
    {
     "data": {
      "text/html": [
       "<pre style=\"white-space:pre;overflow-x:auto;line-height:normal;font-family:Menlo,'DejaVu Sans Mono',consolas,'Courier New',monospace\">10:29:05.550 | <span style=\"color: #008080; text-decoration-color: #008080\">INFO</span>    | Flow run<span style=\"color: #800080; text-decoration-color: #800080\"> 'magnificent-leopard'</span> - Submitted task run 'query_pool_vol-8bdd8db3-14' for execution.\n",
       "</pre>\n"
      ],
      "text/plain": [
       "10:29:05.550 | \u001b[36mINFO\u001b[0m    | Flow run\u001b[35m 'magnificent-leopard'\u001b[0m - Submitted task run 'query_pool_vol-8bdd8db3-14' for execution.\n"
      ]
     },
     "metadata": {},
     "output_type": "display_data"
    },
    {
     "data": {
      "text/html": [
       "<pre style=\"white-space:pre;overflow-x:auto;line-height:normal;font-family:Menlo,'DejaVu Sans Mono',consolas,'Courier New',monospace\">10:29:05.560 | <span style=\"color: #008080; text-decoration-color: #008080\">INFO</span>    | Flow run<span style=\"color: #800080; text-decoration-color: #800080\"> 'magnificent-leopard'</span> - Created task run 'query_pool_snaps-60635b41-14' for task 'query_pool_snaps'\n",
       "</pre>\n"
      ],
      "text/plain": [
       "10:29:05.560 | \u001b[36mINFO\u001b[0m    | Flow run\u001b[35m 'magnificent-leopard'\u001b[0m - Created task run 'query_pool_snaps-60635b41-14' for task 'query_pool_snaps'\n"
      ]
     },
     "metadata": {},
     "output_type": "display_data"
    },
    {
     "data": {
      "text/html": [
       "<pre style=\"white-space:pre;overflow-x:auto;line-height:normal;font-family:Menlo,'DejaVu Sans Mono',consolas,'Courier New',monospace\">10:29:05.561 | <span style=\"color: #008080; text-decoration-color: #008080\">INFO</span>    | Flow run<span style=\"color: #800080; text-decoration-color: #800080\"> 'magnificent-leopard'</span> - Submitted task run 'query_pool_snaps-60635b41-14' for execution.\n",
       "</pre>\n"
      ],
      "text/plain": [
       "10:29:05.561 | \u001b[36mINFO\u001b[0m    | Flow run\u001b[35m 'magnificent-leopard'\u001b[0m - Submitted task run 'query_pool_snaps-60635b41-14' for execution.\n"
      ]
     },
     "metadata": {},
     "output_type": "display_data"
    },
    {
     "data": {
      "text/html": [
       "<pre style=\"white-space:pre;overflow-x:auto;line-height:normal;font-family:Menlo,'DejaVu Sans Mono',consolas,'Courier New',monospace\">10:29:05.589 | <span style=\"color: #008080; text-decoration-color: #008080\">INFO</span>    | Flow run<span style=\"color: #800080; text-decoration-color: #800080\"> 'magnificent-leopard'</span> - Created task run 'query_pool_snaps-60635b41-18' for task 'query_pool_snaps'\n",
       "</pre>\n"
      ],
      "text/plain": [
       "10:29:05.589 | \u001b[36mINFO\u001b[0m    | Flow run\u001b[35m 'magnificent-leopard'\u001b[0m - Created task run 'query_pool_snaps-60635b41-18' for task 'query_pool_snaps'\n"
      ]
     },
     "metadata": {},
     "output_type": "display_data"
    },
    {
     "data": {
      "text/html": [
       "<pre style=\"white-space:pre;overflow-x:auto;line-height:normal;font-family:Menlo,'DejaVu Sans Mono',consolas,'Courier New',monospace\">10:29:05.590 | <span style=\"color: #008080; text-decoration-color: #008080\">INFO</span>    | Flow run<span style=\"color: #800080; text-decoration-color: #800080\"> 'magnificent-leopard'</span> - Submitted task run 'query_pool_snaps-60635b41-18' for execution.\n",
       "</pre>\n"
      ],
      "text/plain": [
       "10:29:05.590 | \u001b[36mINFO\u001b[0m    | Flow run\u001b[35m 'magnificent-leopard'\u001b[0m - Submitted task run 'query_pool_snaps-60635b41-18' for execution.\n"
      ]
     },
     "metadata": {},
     "output_type": "display_data"
    },
    {
     "data": {
      "text/html": [
       "<pre style=\"white-space:pre;overflow-x:auto;line-height:normal;font-family:Menlo,'DejaVu Sans Mono',consolas,'Courier New',monospace\">10:29:05.601 | <span style=\"color: #008080; text-decoration-color: #008080\">INFO</span>    | Flow run<span style=\"color: #800080; text-decoration-color: #800080\"> 'magnificent-leopard'</span> - Created task run 'query_pool_snaps-60635b41-20' for task 'query_pool_snaps'\n",
       "</pre>\n"
      ],
      "text/plain": [
       "10:29:05.601 | \u001b[36mINFO\u001b[0m    | Flow run\u001b[35m 'magnificent-leopard'\u001b[0m - Created task run 'query_pool_snaps-60635b41-20' for task 'query_pool_snaps'\n"
      ]
     },
     "metadata": {},
     "output_type": "display_data"
    },
    {
     "data": {
      "text/html": [
       "<pre style=\"white-space:pre;overflow-x:auto;line-height:normal;font-family:Menlo,'DejaVu Sans Mono',consolas,'Courier New',monospace\">10:29:05.602 | <span style=\"color: #008080; text-decoration-color: #008080\">INFO</span>    | Flow run<span style=\"color: #800080; text-decoration-color: #800080\"> 'magnificent-leopard'</span> - Submitted task run 'query_pool_snaps-60635b41-20' for execution.\n",
       "</pre>\n"
      ],
      "text/plain": [
       "10:29:05.602 | \u001b[36mINFO\u001b[0m    | Flow run\u001b[35m 'magnificent-leopard'\u001b[0m - Submitted task run 'query_pool_snaps-60635b41-20' for execution.\n"
      ]
     },
     "metadata": {},
     "output_type": "display_data"
    },
    {
     "data": {
      "text/html": [
       "<pre style=\"white-space:pre;overflow-x:auto;line-height:normal;font-family:Menlo,'DejaVu Sans Mono',consolas,'Courier New',monospace\">10:29:05.612 | <span style=\"color: #008080; text-decoration-color: #008080\">INFO</span>    | Flow run<span style=\"color: #800080; text-decoration-color: #800080\"> 'magnificent-leopard'</span> - Created task run 'query_pool_vol-8bdd8db3-52' for task 'query_pool_vol'\n",
       "</pre>\n"
      ],
      "text/plain": [
       "10:29:05.612 | \u001b[36mINFO\u001b[0m    | Flow run\u001b[35m 'magnificent-leopard'\u001b[0m - Created task run 'query_pool_vol-8bdd8db3-52' for task 'query_pool_vol'\n"
      ]
     },
     "metadata": {},
     "output_type": "display_data"
    },
    {
     "data": {
      "text/html": [
       "<pre style=\"white-space:pre;overflow-x:auto;line-height:normal;font-family:Menlo,'DejaVu Sans Mono',consolas,'Courier New',monospace\">10:29:05.613 | <span style=\"color: #008080; text-decoration-color: #008080\">INFO</span>    | Flow run<span style=\"color: #800080; text-decoration-color: #800080\"> 'magnificent-leopard'</span> - Submitted task run 'query_pool_vol-8bdd8db3-52' for execution.\n",
       "</pre>\n"
      ],
      "text/plain": [
       "10:29:05.613 | \u001b[36mINFO\u001b[0m    | Flow run\u001b[35m 'magnificent-leopard'\u001b[0m - Submitted task run 'query_pool_vol-8bdd8db3-52' for execution.\n"
      ]
     },
     "metadata": {},
     "output_type": "display_data"
    },
    {
     "data": {
      "text/html": [
       "<pre style=\"white-space:pre;overflow-x:auto;line-height:normal;font-family:Menlo,'DejaVu Sans Mono',consolas,'Courier New',monospace\">10:29:05.622 | <span style=\"color: #008080; text-decoration-color: #008080\">INFO</span>    | Flow run<span style=\"color: #800080; text-decoration-color: #800080\"> 'magnificent-leopard'</span> - Created task run 'query_pool_snaps-60635b41-54' for task 'query_pool_snaps'\n",
       "</pre>\n"
      ],
      "text/plain": [
       "10:29:05.622 | \u001b[36mINFO\u001b[0m    | Flow run\u001b[35m 'magnificent-leopard'\u001b[0m - Created task run 'query_pool_snaps-60635b41-54' for task 'query_pool_snaps'\n"
      ]
     },
     "metadata": {},
     "output_type": "display_data"
    },
    {
     "data": {
      "text/html": [
       "<pre style=\"white-space:pre;overflow-x:auto;line-height:normal;font-family:Menlo,'DejaVu Sans Mono',consolas,'Courier New',monospace\">10:29:05.623 | <span style=\"color: #008080; text-decoration-color: #008080\">INFO</span>    | Flow run<span style=\"color: #800080; text-decoration-color: #800080\"> 'magnificent-leopard'</span> - Submitted task run 'query_pool_snaps-60635b41-54' for execution.\n",
       "</pre>\n"
      ],
      "text/plain": [
       "10:29:05.623 | \u001b[36mINFO\u001b[0m    | Flow run\u001b[35m 'magnificent-leopard'\u001b[0m - Submitted task run 'query_pool_snaps-60635b41-54' for execution.\n"
      ]
     },
     "metadata": {},
     "output_type": "display_data"
    },
    {
     "data": {
      "text/html": [
       "<pre style=\"white-space:pre;overflow-x:auto;line-height:normal;font-family:Menlo,'DejaVu Sans Mono',consolas,'Courier New',monospace\">10:29:05.651 | <span style=\"color: #008080; text-decoration-color: #008080\">INFO</span>    | Flow run<span style=\"color: #800080; text-decoration-color: #800080\"> 'magnificent-leopard'</span> - Created task run 'query_pool_snaps-60635b41-10' for task 'query_pool_snaps'\n",
       "</pre>\n"
      ],
      "text/plain": [
       "10:29:05.651 | \u001b[36mINFO\u001b[0m    | Flow run\u001b[35m 'magnificent-leopard'\u001b[0m - Created task run 'query_pool_snaps-60635b41-10' for task 'query_pool_snaps'\n"
      ]
     },
     "metadata": {},
     "output_type": "display_data"
    },
    {
     "data": {
      "text/html": [
       "<pre style=\"white-space:pre;overflow-x:auto;line-height:normal;font-family:Menlo,'DejaVu Sans Mono',consolas,'Courier New',monospace\">10:29:05.652 | <span style=\"color: #008080; text-decoration-color: #008080\">INFO</span>    | Flow run<span style=\"color: #800080; text-decoration-color: #800080\"> 'magnificent-leopard'</span> - Submitted task run 'query_pool_snaps-60635b41-10' for execution.\n",
       "</pre>\n"
      ],
      "text/plain": [
       "10:29:05.652 | \u001b[36mINFO\u001b[0m    | Flow run\u001b[35m 'magnificent-leopard'\u001b[0m - Submitted task run 'query_pool_snaps-60635b41-10' for execution.\n"
      ]
     },
     "metadata": {},
     "output_type": "display_data"
    },
    {
     "data": {
      "text/html": [
       "<pre style=\"white-space:pre;overflow-x:auto;line-height:normal;font-family:Menlo,'DejaVu Sans Mono',consolas,'Courier New',monospace\">10:29:05.663 | <span style=\"color: #008080; text-decoration-color: #008080\">INFO</span>    | Flow run<span style=\"color: #800080; text-decoration-color: #800080\"> 'magnificent-leopard'</span> - Created task run 'query_pool_vol-8bdd8db3-46' for task 'query_pool_vol'\n",
       "</pre>\n"
      ],
      "text/plain": [
       "10:29:05.663 | \u001b[36mINFO\u001b[0m    | Flow run\u001b[35m 'magnificent-leopard'\u001b[0m - Created task run 'query_pool_vol-8bdd8db3-46' for task 'query_pool_vol'\n"
      ]
     },
     "metadata": {},
     "output_type": "display_data"
    },
    {
     "data": {
      "text/html": [
       "<pre style=\"white-space:pre;overflow-x:auto;line-height:normal;font-family:Menlo,'DejaVu Sans Mono',consolas,'Courier New',monospace\">10:29:05.664 | <span style=\"color: #008080; text-decoration-color: #008080\">INFO</span>    | Flow run<span style=\"color: #800080; text-decoration-color: #800080\"> 'magnificent-leopard'</span> - Submitted task run 'query_pool_vol-8bdd8db3-46' for execution.\n",
       "</pre>\n"
      ],
      "text/plain": [
       "10:29:05.664 | \u001b[36mINFO\u001b[0m    | Flow run\u001b[35m 'magnificent-leopard'\u001b[0m - Submitted task run 'query_pool_vol-8bdd8db3-46' for execution.\n"
      ]
     },
     "metadata": {},
     "output_type": "display_data"
    },
    {
     "data": {
      "text/html": [
       "<pre style=\"white-space:pre;overflow-x:auto;line-height:normal;font-family:Menlo,'DejaVu Sans Mono',consolas,'Courier New',monospace\">10:29:05.682 | <span style=\"color: #008080; text-decoration-color: #008080\">INFO</span>    | Task run 'query_pool_snaps-60635b41-61' - Finished in state <span style=\"color: #008000; text-decoration-color: #008000\">Completed</span>()\n",
       "</pre>\n"
      ],
      "text/plain": [
       "10:29:05.682 | \u001b[36mINFO\u001b[0m    | Task run 'query_pool_snaps-60635b41-61' - Finished in state \u001b[32mCompleted\u001b[0m()\n"
      ]
     },
     "metadata": {},
     "output_type": "display_data"
    },
    {
     "data": {
      "text/html": [
       "<pre style=\"white-space:pre;overflow-x:auto;line-height:normal;font-family:Menlo,'DejaVu Sans Mono',consolas,'Courier New',monospace\">10:29:06.001 | <span style=\"color: #008080; text-decoration-color: #008080\">INFO</span>    | Flow run<span style=\"color: #800080; text-decoration-color: #800080\"> 'magnificent-leopard'</span> - Created task run 'query_pool_vol-8bdd8db3-51' for task 'query_pool_vol'\n",
       "</pre>\n"
      ],
      "text/plain": [
       "10:29:06.001 | \u001b[36mINFO\u001b[0m    | Flow run\u001b[35m 'magnificent-leopard'\u001b[0m - Created task run 'query_pool_vol-8bdd8db3-51' for task 'query_pool_vol'\n"
      ]
     },
     "metadata": {},
     "output_type": "display_data"
    },
    {
     "data": {
      "text/html": [
       "<pre style=\"white-space:pre;overflow-x:auto;line-height:normal;font-family:Menlo,'DejaVu Sans Mono',consolas,'Courier New',monospace\">10:29:06.002 | <span style=\"color: #008080; text-decoration-color: #008080\">INFO</span>    | Flow run<span style=\"color: #800080; text-decoration-color: #800080\"> 'magnificent-leopard'</span> - Submitted task run 'query_pool_vol-8bdd8db3-51' for execution.\n",
       "</pre>\n"
      ],
      "text/plain": [
       "10:29:06.002 | \u001b[36mINFO\u001b[0m    | Flow run\u001b[35m 'magnificent-leopard'\u001b[0m - Submitted task run 'query_pool_vol-8bdd8db3-51' for execution.\n"
      ]
     },
     "metadata": {},
     "output_type": "display_data"
    },
    {
     "data": {
      "text/html": [
       "<pre style=\"white-space:pre;overflow-x:auto;line-height:normal;font-family:Menlo,'DejaVu Sans Mono',consolas,'Courier New',monospace\">10:29:06.027 | <span style=\"color: #008080; text-decoration-color: #008080\">INFO</span>    | Flow run<span style=\"color: #800080; text-decoration-color: #800080\"> 'magnificent-leopard'</span> - Created task run 'query_pool_snaps-60635b41-8' for task 'query_pool_snaps'\n",
       "</pre>\n"
      ],
      "text/plain": [
       "10:29:06.027 | \u001b[36mINFO\u001b[0m    | Flow run\u001b[35m 'magnificent-leopard'\u001b[0m - Created task run 'query_pool_snaps-60635b41-8' for task 'query_pool_snaps'\n"
      ]
     },
     "metadata": {},
     "output_type": "display_data"
    },
    {
     "data": {
      "text/html": [
       "<pre style=\"white-space:pre;overflow-x:auto;line-height:normal;font-family:Menlo,'DejaVu Sans Mono',consolas,'Courier New',monospace\">10:29:06.028 | <span style=\"color: #008080; text-decoration-color: #008080\">INFO</span>    | Flow run<span style=\"color: #800080; text-decoration-color: #800080\"> 'magnificent-leopard'</span> - Submitted task run 'query_pool_snaps-60635b41-8' for execution.\n",
       "</pre>\n"
      ],
      "text/plain": [
       "10:29:06.028 | \u001b[36mINFO\u001b[0m    | Flow run\u001b[35m 'magnificent-leopard'\u001b[0m - Submitted task run 'query_pool_snaps-60635b41-8' for execution.\n"
      ]
     },
     "metadata": {},
     "output_type": "display_data"
    },
    {
     "data": {
      "text/html": [
       "<pre style=\"white-space:pre;overflow-x:auto;line-height:normal;font-family:Menlo,'DejaVu Sans Mono',consolas,'Courier New',monospace\">10:29:06.040 | <span style=\"color: #008080; text-decoration-color: #008080\">INFO</span>    | Task run 'query_pool_snaps-60635b41-43' - Finished in state <span style=\"color: #008000; text-decoration-color: #008000\">Completed</span>()\n",
       "</pre>\n"
      ],
      "text/plain": [
       "10:29:06.040 | \u001b[36mINFO\u001b[0m    | Task run 'query_pool_snaps-60635b41-43' - Finished in state \u001b[32mCompleted\u001b[0m()\n"
      ]
     },
     "metadata": {},
     "output_type": "display_data"
    },
    {
     "data": {
      "text/html": [
       "<pre style=\"white-space:pre;overflow-x:auto;line-height:normal;font-family:Menlo,'DejaVu Sans Mono',consolas,'Courier New',monospace\">10:29:06.053 | <span style=\"color: #008080; text-decoration-color: #008080\">INFO</span>    | Flow run<span style=\"color: #800080; text-decoration-color: #800080\"> 'magnificent-leopard'</span> - Created task run 'query_pool_vol-8bdd8db3-26' for task 'query_pool_vol'\n",
       "</pre>\n"
      ],
      "text/plain": [
       "10:29:06.053 | \u001b[36mINFO\u001b[0m    | Flow run\u001b[35m 'magnificent-leopard'\u001b[0m - Created task run 'query_pool_vol-8bdd8db3-26' for task 'query_pool_vol'\n"
      ]
     },
     "metadata": {},
     "output_type": "display_data"
    },
    {
     "data": {
      "text/html": [
       "<pre style=\"white-space:pre;overflow-x:auto;line-height:normal;font-family:Menlo,'DejaVu Sans Mono',consolas,'Courier New',monospace\">10:29:06.054 | <span style=\"color: #008080; text-decoration-color: #008080\">INFO</span>    | Flow run<span style=\"color: #800080; text-decoration-color: #800080\"> 'magnificent-leopard'</span> - Submitted task run 'query_pool_vol-8bdd8db3-26' for execution.\n",
       "</pre>\n"
      ],
      "text/plain": [
       "10:29:06.054 | \u001b[36mINFO\u001b[0m    | Flow run\u001b[35m 'magnificent-leopard'\u001b[0m - Submitted task run 'query_pool_vol-8bdd8db3-26' for execution.\n"
      ]
     },
     "metadata": {},
     "output_type": "display_data"
    },
    {
     "data": {
      "text/html": [
       "<pre style=\"white-space:pre;overflow-x:auto;line-height:normal;font-family:Menlo,'DejaVu Sans Mono',consolas,'Courier New',monospace\">10:29:06.066 | <span style=\"color: #008080; text-decoration-color: #008080\">INFO</span>    | Task run 'query_pool_vol-8bdd8db3-11' - Finished in state <span style=\"color: #008000; text-decoration-color: #008000\">Completed</span>()\n",
       "</pre>\n"
      ],
      "text/plain": [
       "10:29:06.066 | \u001b[36mINFO\u001b[0m    | Task run 'query_pool_vol-8bdd8db3-11' - Finished in state \u001b[32mCompleted\u001b[0m()\n"
      ]
     },
     "metadata": {},
     "output_type": "display_data"
    },
    {
     "data": {
      "text/html": [
       "<pre style=\"white-space:pre;overflow-x:auto;line-height:normal;font-family:Menlo,'DejaVu Sans Mono',consolas,'Courier New',monospace\">10:29:06.073 | <span style=\"color: #008080; text-decoration-color: #008080\">INFO</span>    | Task run 'query_pool_vol-8bdd8db3-6' - Finished in state <span style=\"color: #008000; text-decoration-color: #008000\">Completed</span>()\n",
       "</pre>\n"
      ],
      "text/plain": [
       "10:29:06.073 | \u001b[36mINFO\u001b[0m    | Task run 'query_pool_vol-8bdd8db3-6' - Finished in state \u001b[32mCompleted\u001b[0m()\n"
      ]
     },
     "metadata": {},
     "output_type": "display_data"
    },
    {
     "data": {
      "text/html": [
       "<pre style=\"white-space:pre;overflow-x:auto;line-height:normal;font-family:Menlo,'DejaVu Sans Mono',consolas,'Courier New',monospace\">10:29:06.079 | <span style=\"color: #008080; text-decoration-color: #008080\">INFO</span>    | Task run 'query_pool_snaps-60635b41-31' - Finished in state <span style=\"color: #008000; text-decoration-color: #008000\">Completed</span>()\n",
       "</pre>\n"
      ],
      "text/plain": [
       "10:29:06.079 | \u001b[36mINFO\u001b[0m    | Task run 'query_pool_snaps-60635b41-31' - Finished in state \u001b[32mCompleted\u001b[0m()\n"
      ]
     },
     "metadata": {},
     "output_type": "display_data"
    },
    {
     "data": {
      "text/html": [
       "<pre style=\"white-space:pre;overflow-x:auto;line-height:normal;font-family:Menlo,'DejaVu Sans Mono',consolas,'Courier New',monospace\">10:29:06.083 | <span style=\"color: #008080; text-decoration-color: #008080\">INFO</span>    | Flow run<span style=\"color: #800080; text-decoration-color: #800080\"> 'magnificent-leopard'</span> - Created task run 'query_pool_vol-8bdd8db3-34' for task 'query_pool_vol'\n",
       "</pre>\n"
      ],
      "text/plain": [
       "10:29:06.083 | \u001b[36mINFO\u001b[0m    | Flow run\u001b[35m 'magnificent-leopard'\u001b[0m - Created task run 'query_pool_vol-8bdd8db3-34' for task 'query_pool_vol'\n"
      ]
     },
     "metadata": {},
     "output_type": "display_data"
    },
    {
     "data": {
      "text/html": [
       "<pre style=\"white-space:pre;overflow-x:auto;line-height:normal;font-family:Menlo,'DejaVu Sans Mono',consolas,'Courier New',monospace\">10:29:06.084 | <span style=\"color: #008080; text-decoration-color: #008080\">INFO</span>    | Flow run<span style=\"color: #800080; text-decoration-color: #800080\"> 'magnificent-leopard'</span> - Submitted task run 'query_pool_vol-8bdd8db3-34' for execution.\n",
       "</pre>\n"
      ],
      "text/plain": [
       "10:29:06.084 | \u001b[36mINFO\u001b[0m    | Flow run\u001b[35m 'magnificent-leopard'\u001b[0m - Submitted task run 'query_pool_vol-8bdd8db3-34' for execution.\n"
      ]
     },
     "metadata": {},
     "output_type": "display_data"
    },
    {
     "data": {
      "text/html": [
       "<pre style=\"white-space:pre;overflow-x:auto;line-height:normal;font-family:Menlo,'DejaVu Sans Mono',consolas,'Courier New',monospace\">10:29:06.092 | <span style=\"color: #008080; text-decoration-color: #008080\">INFO</span>    | Flow run<span style=\"color: #800080; text-decoration-color: #800080\"> 'magnificent-leopard'</span> - Created task run 'query_pool_snaps-60635b41-49' for task 'query_pool_snaps'\n",
       "</pre>\n"
      ],
      "text/plain": [
       "10:29:06.092 | \u001b[36mINFO\u001b[0m    | Flow run\u001b[35m 'magnificent-leopard'\u001b[0m - Created task run 'query_pool_snaps-60635b41-49' for task 'query_pool_snaps'\n"
      ]
     },
     "metadata": {},
     "output_type": "display_data"
    },
    {
     "data": {
      "text/html": [
       "<pre style=\"white-space:pre;overflow-x:auto;line-height:normal;font-family:Menlo,'DejaVu Sans Mono',consolas,'Courier New',monospace\">10:29:06.092 | <span style=\"color: #008080; text-decoration-color: #008080\">INFO</span>    | Flow run<span style=\"color: #800080; text-decoration-color: #800080\"> 'magnificent-leopard'</span> - Submitted task run 'query_pool_snaps-60635b41-49' for execution.\n",
       "</pre>\n"
      ],
      "text/plain": [
       "10:29:06.092 | \u001b[36mINFO\u001b[0m    | Flow run\u001b[35m 'magnificent-leopard'\u001b[0m - Submitted task run 'query_pool_snaps-60635b41-49' for execution.\n"
      ]
     },
     "metadata": {},
     "output_type": "display_data"
    },
    {
     "data": {
      "text/html": [
       "<pre style=\"white-space:pre;overflow-x:auto;line-height:normal;font-family:Menlo,'DejaVu Sans Mono',consolas,'Courier New',monospace\">10:29:06.110 | <span style=\"color: #008080; text-decoration-color: #008080\">INFO</span>    | Task run 'query_pool_snaps-60635b41-55' - Finished in state <span style=\"color: #008000; text-decoration-color: #008000\">Completed</span>()\n",
       "</pre>\n"
      ],
      "text/plain": [
       "10:29:06.110 | \u001b[36mINFO\u001b[0m    | Task run 'query_pool_snaps-60635b41-55' - Finished in state \u001b[32mCompleted\u001b[0m()\n"
      ]
     },
     "metadata": {},
     "output_type": "display_data"
    },
    {
     "data": {
      "text/html": [
       "<pre style=\"white-space:pre;overflow-x:auto;line-height:normal;font-family:Menlo,'DejaVu Sans Mono',consolas,'Courier New',monospace\">10:29:06.120 | <span style=\"color: #008080; text-decoration-color: #008080\">INFO</span>    | Task run 'query_pool_vol-8bdd8db3-44' - Finished in state <span style=\"color: #008000; text-decoration-color: #008000\">Completed</span>()\n",
       "</pre>\n"
      ],
      "text/plain": [
       "10:29:06.120 | \u001b[36mINFO\u001b[0m    | Task run 'query_pool_vol-8bdd8db3-44' - Finished in state \u001b[32mCompleted\u001b[0m()\n"
      ]
     },
     "metadata": {},
     "output_type": "display_data"
    },
    {
     "data": {
      "text/html": [
       "<pre style=\"white-space:pre;overflow-x:auto;line-height:normal;font-family:Menlo,'DejaVu Sans Mono',consolas,'Courier New',monospace\">10:29:06.153 | <span style=\"color: #008080; text-decoration-color: #008080\">INFO</span>    | Flow run<span style=\"color: #800080; text-decoration-color: #800080\"> 'magnificent-leopard'</span> - Created task run 'query_pool_vol-8bdd8db3-27' for task 'query_pool_vol'\n",
       "</pre>\n"
      ],
      "text/plain": [
       "10:29:06.153 | \u001b[36mINFO\u001b[0m    | Flow run\u001b[35m 'magnificent-leopard'\u001b[0m - Created task run 'query_pool_vol-8bdd8db3-27' for task 'query_pool_vol'\n"
      ]
     },
     "metadata": {},
     "output_type": "display_data"
    },
    {
     "data": {
      "text/html": [
       "<pre style=\"white-space:pre;overflow-x:auto;line-height:normal;font-family:Menlo,'DejaVu Sans Mono',consolas,'Courier New',monospace\">10:29:06.154 | <span style=\"color: #008080; text-decoration-color: #008080\">INFO</span>    | Flow run<span style=\"color: #800080; text-decoration-color: #800080\"> 'magnificent-leopard'</span> - Submitted task run 'query_pool_vol-8bdd8db3-27' for execution.\n",
       "</pre>\n"
      ],
      "text/plain": [
       "10:29:06.154 | \u001b[36mINFO\u001b[0m    | Flow run\u001b[35m 'magnificent-leopard'\u001b[0m - Submitted task run 'query_pool_vol-8bdd8db3-27' for execution.\n"
      ]
     },
     "metadata": {},
     "output_type": "display_data"
    },
    {
     "data": {
      "text/html": [
       "<pre style=\"white-space:pre;overflow-x:auto;line-height:normal;font-family:Menlo,'DejaVu Sans Mono',consolas,'Courier New',monospace\">10:29:06.165 | <span style=\"color: #008080; text-decoration-color: #008080\">INFO</span>    | Flow run<span style=\"color: #800080; text-decoration-color: #800080\"> 'magnificent-leopard'</span> - Created task run 'query_pool_vol-8bdd8db3-40' for task 'query_pool_vol'\n",
       "</pre>\n"
      ],
      "text/plain": [
       "10:29:06.165 | \u001b[36mINFO\u001b[0m    | Flow run\u001b[35m 'magnificent-leopard'\u001b[0m - Created task run 'query_pool_vol-8bdd8db3-40' for task 'query_pool_vol'\n"
      ]
     },
     "metadata": {},
     "output_type": "display_data"
    },
    {
     "data": {
      "text/html": [
       "<pre style=\"white-space:pre;overflow-x:auto;line-height:normal;font-family:Menlo,'DejaVu Sans Mono',consolas,'Courier New',monospace\">10:29:06.165 | <span style=\"color: #008080; text-decoration-color: #008080\">INFO</span>    | Flow run<span style=\"color: #800080; text-decoration-color: #800080\"> 'magnificent-leopard'</span> - Submitted task run 'query_pool_vol-8bdd8db3-40' for execution.\n",
       "</pre>\n"
      ],
      "text/plain": [
       "10:29:06.165 | \u001b[36mINFO\u001b[0m    | Flow run\u001b[35m 'magnificent-leopard'\u001b[0m - Submitted task run 'query_pool_vol-8bdd8db3-40' for execution.\n"
      ]
     },
     "metadata": {},
     "output_type": "display_data"
    },
    {
     "data": {
      "text/html": [
       "<pre style=\"white-space:pre;overflow-x:auto;line-height:normal;font-family:Menlo,'DejaVu Sans Mono',consolas,'Courier New',monospace\">10:29:06.177 | <span style=\"color: #008080; text-decoration-color: #008080\">INFO</span>    | Flow run<span style=\"color: #800080; text-decoration-color: #800080\"> 'magnificent-leopard'</span> - Created task run 'query_pool_snaps-60635b41-25' for task 'query_pool_snaps'\n",
       "</pre>\n"
      ],
      "text/plain": [
       "10:29:06.177 | \u001b[36mINFO\u001b[0m    | Flow run\u001b[35m 'magnificent-leopard'\u001b[0m - Created task run 'query_pool_snaps-60635b41-25' for task 'query_pool_snaps'\n"
      ]
     },
     "metadata": {},
     "output_type": "display_data"
    },
    {
     "data": {
      "text/html": [
       "<pre style=\"white-space:pre;overflow-x:auto;line-height:normal;font-family:Menlo,'DejaVu Sans Mono',consolas,'Courier New',monospace\">10:29:06.177 | <span style=\"color: #008080; text-decoration-color: #008080\">INFO</span>    | Flow run<span style=\"color: #800080; text-decoration-color: #800080\"> 'magnificent-leopard'</span> - Submitted task run 'query_pool_snaps-60635b41-25' for execution.\n",
       "</pre>\n"
      ],
      "text/plain": [
       "10:29:06.177 | \u001b[36mINFO\u001b[0m    | Flow run\u001b[35m 'magnificent-leopard'\u001b[0m - Submitted task run 'query_pool_snaps-60635b41-25' for execution.\n"
      ]
     },
     "metadata": {},
     "output_type": "display_data"
    },
    {
     "data": {
      "text/html": [
       "<pre style=\"white-space:pre;overflow-x:auto;line-height:normal;font-family:Menlo,'DejaVu Sans Mono',consolas,'Courier New',monospace\">10:29:06.186 | <span style=\"color: #008080; text-decoration-color: #008080\">INFO</span>    | Flow run<span style=\"color: #800080; text-decoration-color: #800080\"> 'magnificent-leopard'</span> - Created task run 'query_pool_snaps-60635b41-3' for task 'query_pool_snaps'\n",
       "</pre>\n"
      ],
      "text/plain": [
       "10:29:06.186 | \u001b[36mINFO\u001b[0m    | Flow run\u001b[35m 'magnificent-leopard'\u001b[0m - Created task run 'query_pool_snaps-60635b41-3' for task 'query_pool_snaps'\n"
      ]
     },
     "metadata": {},
     "output_type": "display_data"
    },
    {
     "data": {
      "text/html": [
       "<pre style=\"white-space:pre;overflow-x:auto;line-height:normal;font-family:Menlo,'DejaVu Sans Mono',consolas,'Courier New',monospace\">10:29:06.187 | <span style=\"color: #008080; text-decoration-color: #008080\">INFO</span>    | Flow run<span style=\"color: #800080; text-decoration-color: #800080\"> 'magnificent-leopard'</span> - Submitted task run 'query_pool_snaps-60635b41-3' for execution.\n",
       "</pre>\n"
      ],
      "text/plain": [
       "10:29:06.187 | \u001b[36mINFO\u001b[0m    | Flow run\u001b[35m 'magnificent-leopard'\u001b[0m - Submitted task run 'query_pool_snaps-60635b41-3' for execution.\n"
      ]
     },
     "metadata": {},
     "output_type": "display_data"
    },
    {
     "data": {
      "text/html": [
       "<pre style=\"white-space:pre;overflow-x:auto;line-height:normal;font-family:Menlo,'DejaVu Sans Mono',consolas,'Courier New',monospace\">10:29:06.230 | <span style=\"color: #008080; text-decoration-color: #008080\">INFO</span>    | Flow run<span style=\"color: #800080; text-decoration-color: #800080\"> 'magnificent-leopard'</span> - Created task run 'query_pool_vol-8bdd8db3-5' for task 'query_pool_vol'\n",
       "</pre>\n"
      ],
      "text/plain": [
       "10:29:06.230 | \u001b[36mINFO\u001b[0m    | Flow run\u001b[35m 'magnificent-leopard'\u001b[0m - Created task run 'query_pool_vol-8bdd8db3-5' for task 'query_pool_vol'\n"
      ]
     },
     "metadata": {},
     "output_type": "display_data"
    },
    {
     "data": {
      "text/html": [
       "<pre style=\"white-space:pre;overflow-x:auto;line-height:normal;font-family:Menlo,'DejaVu Sans Mono',consolas,'Courier New',monospace\">10:29:06.231 | <span style=\"color: #008080; text-decoration-color: #008080\">INFO</span>    | Flow run<span style=\"color: #800080; text-decoration-color: #800080\"> 'magnificent-leopard'</span> - Submitted task run 'query_pool_vol-8bdd8db3-5' for execution.\n",
       "</pre>\n"
      ],
      "text/plain": [
       "10:29:06.231 | \u001b[36mINFO\u001b[0m    | Flow run\u001b[35m 'magnificent-leopard'\u001b[0m - Submitted task run 'query_pool_vol-8bdd8db3-5' for execution.\n"
      ]
     },
     "metadata": {},
     "output_type": "display_data"
    },
    {
     "data": {
      "text/html": [
       "<pre style=\"white-space:pre;overflow-x:auto;line-height:normal;font-family:Menlo,'DejaVu Sans Mono',consolas,'Courier New',monospace\">10:29:06.238 | <span style=\"color: #008080; text-decoration-color: #008080\">INFO</span>    | Flow run<span style=\"color: #800080; text-decoration-color: #800080\"> 'magnificent-leopard'</span> - Created task run 'query_pool_vol-8bdd8db3-39' for task 'query_pool_vol'\n",
       "</pre>\n"
      ],
      "text/plain": [
       "10:29:06.238 | \u001b[36mINFO\u001b[0m    | Flow run\u001b[35m 'magnificent-leopard'\u001b[0m - Created task run 'query_pool_vol-8bdd8db3-39' for task 'query_pool_vol'\n"
      ]
     },
     "metadata": {},
     "output_type": "display_data"
    },
    {
     "data": {
      "text/html": [
       "<pre style=\"white-space:pre;overflow-x:auto;line-height:normal;font-family:Menlo,'DejaVu Sans Mono',consolas,'Courier New',monospace\">10:29:06.239 | <span style=\"color: #008080; text-decoration-color: #008080\">INFO</span>    | Flow run<span style=\"color: #800080; text-decoration-color: #800080\"> 'magnificent-leopard'</span> - Submitted task run 'query_pool_vol-8bdd8db3-39' for execution.\n",
       "</pre>\n"
      ],
      "text/plain": [
       "10:29:06.239 | \u001b[36mINFO\u001b[0m    | Flow run\u001b[35m 'magnificent-leopard'\u001b[0m - Submitted task run 'query_pool_vol-8bdd8db3-39' for execution.\n"
      ]
     },
     "metadata": {},
     "output_type": "display_data"
    },
    {
     "data": {
      "text/html": [
       "<pre style=\"white-space:pre;overflow-x:auto;line-height:normal;font-family:Menlo,'DejaVu Sans Mono',consolas,'Courier New',monospace\">10:29:06.489 | <span style=\"color: #008080; text-decoration-color: #008080\">INFO</span>    | Task run 'query_pool_vol-8bdd8db3-51' - Finished in state <span style=\"color: #008000; text-decoration-color: #008000\">Completed</span>()\n",
       "</pre>\n"
      ],
      "text/plain": [
       "10:29:06.489 | \u001b[36mINFO\u001b[0m    | Task run 'query_pool_vol-8bdd8db3-51' - Finished in state \u001b[32mCompleted\u001b[0m()\n"
      ]
     },
     "metadata": {},
     "output_type": "display_data"
    },
    {
     "data": {
      "text/html": [
       "<pre style=\"white-space:pre;overflow-x:auto;line-height:normal;font-family:Menlo,'DejaVu Sans Mono',consolas,'Courier New',monospace\">10:29:06.511 | <span style=\"color: #008080; text-decoration-color: #008080\">INFO</span>    | Task run 'query_pool_vol-8bdd8db3-26' - Finished in state <span style=\"color: #008000; text-decoration-color: #008000\">Completed</span>()\n",
       "</pre>\n"
      ],
      "text/plain": [
       "10:29:06.511 | \u001b[36mINFO\u001b[0m    | Task run 'query_pool_vol-8bdd8db3-26' - Finished in state \u001b[32mCompleted\u001b[0m()\n"
      ]
     },
     "metadata": {},
     "output_type": "display_data"
    },
    {
     "data": {
      "text/html": [
       "<pre style=\"white-space:pre;overflow-x:auto;line-height:normal;font-family:Menlo,'DejaVu Sans Mono',consolas,'Courier New',monospace\">10:29:06.567 | <span style=\"color: #008080; text-decoration-color: #008080\">INFO</span>    | Task run 'query_pool_snaps-60635b41-15' - Finished in state <span style=\"color: #008000; text-decoration-color: #008000\">Completed</span>()\n",
       "</pre>\n"
      ],
      "text/plain": [
       "10:29:06.567 | \u001b[36mINFO\u001b[0m    | Task run 'query_pool_snaps-60635b41-15' - Finished in state \u001b[32mCompleted\u001b[0m()\n"
      ]
     },
     "metadata": {},
     "output_type": "display_data"
    },
    {
     "data": {
      "text/html": [
       "<pre style=\"white-space:pre;overflow-x:auto;line-height:normal;font-family:Menlo,'DejaVu Sans Mono',consolas,'Courier New',monospace\">10:29:06.575 | <span style=\"color: #008080; text-decoration-color: #008080\">INFO</span>    | Flow run<span style=\"color: #800080; text-decoration-color: #800080\"> 'magnificent-leopard'</span> - Created task run 'query_pool_vol-8bdd8db3-12' for task 'query_pool_vol'\n",
       "</pre>\n"
      ],
      "text/plain": [
       "10:29:06.575 | \u001b[36mINFO\u001b[0m    | Flow run\u001b[35m 'magnificent-leopard'\u001b[0m - Created task run 'query_pool_vol-8bdd8db3-12' for task 'query_pool_vol'\n"
      ]
     },
     "metadata": {},
     "output_type": "display_data"
    },
    {
     "data": {
      "text/html": [
       "<pre style=\"white-space:pre;overflow-x:auto;line-height:normal;font-family:Menlo,'DejaVu Sans Mono',consolas,'Courier New',monospace\">10:29:06.576 | <span style=\"color: #008080; text-decoration-color: #008080\">INFO</span>    | Flow run<span style=\"color: #800080; text-decoration-color: #800080\"> 'magnificent-leopard'</span> - Submitted task run 'query_pool_vol-8bdd8db3-12' for execution.\n",
       "</pre>\n"
      ],
      "text/plain": [
       "10:29:06.576 | \u001b[36mINFO\u001b[0m    | Flow run\u001b[35m 'magnificent-leopard'\u001b[0m - Submitted task run 'query_pool_vol-8bdd8db3-12' for execution.\n"
      ]
     },
     "metadata": {},
     "output_type": "display_data"
    },
    {
     "data": {
      "text/html": [
       "<pre style=\"white-space:pre;overflow-x:auto;line-height:normal;font-family:Menlo,'DejaVu Sans Mono',consolas,'Courier New',monospace\">10:29:06.586 | <span style=\"color: #008080; text-decoration-color: #008080\">INFO</span>    | Flow run<span style=\"color: #800080; text-decoration-color: #800080\"> 'magnificent-leopard'</span> - Created task run 'query_pool_vol-8bdd8db3-42' for task 'query_pool_vol'\n",
       "</pre>\n"
      ],
      "text/plain": [
       "10:29:06.586 | \u001b[36mINFO\u001b[0m    | Flow run\u001b[35m 'magnificent-leopard'\u001b[0m - Created task run 'query_pool_vol-8bdd8db3-42' for task 'query_pool_vol'\n"
      ]
     },
     "metadata": {},
     "output_type": "display_data"
    },
    {
     "data": {
      "text/html": [
       "<pre style=\"white-space:pre;overflow-x:auto;line-height:normal;font-family:Menlo,'DejaVu Sans Mono',consolas,'Courier New',monospace\">10:29:06.586 | <span style=\"color: #008080; text-decoration-color: #008080\">INFO</span>    | Flow run<span style=\"color: #800080; text-decoration-color: #800080\"> 'magnificent-leopard'</span> - Submitted task run 'query_pool_vol-8bdd8db3-42' for execution.\n",
       "</pre>\n"
      ],
      "text/plain": [
       "10:29:06.586 | \u001b[36mINFO\u001b[0m    | Flow run\u001b[35m 'magnificent-leopard'\u001b[0m - Submitted task run 'query_pool_vol-8bdd8db3-42' for execution.\n"
      ]
     },
     "metadata": {},
     "output_type": "display_data"
    },
    {
     "data": {
      "text/html": [
       "<pre style=\"white-space:pre;overflow-x:auto;line-height:normal;font-family:Menlo,'DejaVu Sans Mono',consolas,'Courier New',monospace\">10:29:06.596 | <span style=\"color: #008080; text-decoration-color: #008080\">INFO</span>    | Task run 'query_pool_vol-8bdd8db3-21' - Finished in state <span style=\"color: #008000; text-decoration-color: #008000\">Completed</span>()\n",
       "</pre>\n"
      ],
      "text/plain": [
       "10:29:06.596 | \u001b[36mINFO\u001b[0m    | Task run 'query_pool_vol-8bdd8db3-21' - Finished in state \u001b[32mCompleted\u001b[0m()\n"
      ]
     },
     "metadata": {},
     "output_type": "display_data"
    },
    {
     "data": {
      "text/html": [
       "<pre style=\"white-space:pre;overflow-x:auto;line-height:normal;font-family:Menlo,'DejaVu Sans Mono',consolas,'Courier New',monospace\">10:29:06.621 | <span style=\"color: #008080; text-decoration-color: #008080\">INFO</span>    | Task run 'query_pool_vol-8bdd8db3-33' - Finished in state <span style=\"color: #008000; text-decoration-color: #008000\">Completed</span>()\n",
       "</pre>\n"
      ],
      "text/plain": [
       "10:29:06.621 | \u001b[36mINFO\u001b[0m    | Task run 'query_pool_vol-8bdd8db3-33' - Finished in state \u001b[32mCompleted\u001b[0m()\n"
      ]
     },
     "metadata": {},
     "output_type": "display_data"
    },
    {
     "data": {
      "text/html": [
       "<pre style=\"white-space:pre;overflow-x:auto;line-height:normal;font-family:Menlo,'DejaVu Sans Mono',consolas,'Courier New',monospace\">10:29:06.626 | <span style=\"color: #008080; text-decoration-color: #008080\">INFO</span>    | Flow run<span style=\"color: #800080; text-decoration-color: #800080\"> 'magnificent-leopard'</span> - Created task run 'query_pool_snaps-60635b41-34' for task 'query_pool_snaps'\n",
       "</pre>\n"
      ],
      "text/plain": [
       "10:29:06.626 | \u001b[36mINFO\u001b[0m    | Flow run\u001b[35m 'magnificent-leopard'\u001b[0m - Created task run 'query_pool_snaps-60635b41-34' for task 'query_pool_snaps'\n"
      ]
     },
     "metadata": {},
     "output_type": "display_data"
    },
    {
     "data": {
      "text/html": [
       "<pre style=\"white-space:pre;overflow-x:auto;line-height:normal;font-family:Menlo,'DejaVu Sans Mono',consolas,'Courier New',monospace\">10:29:06.627 | <span style=\"color: #008080; text-decoration-color: #008080\">INFO</span>    | Flow run<span style=\"color: #800080; text-decoration-color: #800080\"> 'magnificent-leopard'</span> - Submitted task run 'query_pool_snaps-60635b41-34' for execution.\n",
       "</pre>\n"
      ],
      "text/plain": [
       "10:29:06.627 | \u001b[36mINFO\u001b[0m    | Flow run\u001b[35m 'magnificent-leopard'\u001b[0m - Submitted task run 'query_pool_snaps-60635b41-34' for execution.\n"
      ]
     },
     "metadata": {},
     "output_type": "display_data"
    },
    {
     "data": {
      "text/html": [
       "<pre style=\"white-space:pre;overflow-x:auto;line-height:normal;font-family:Menlo,'DejaVu Sans Mono',consolas,'Courier New',monospace\">10:29:06.636 | <span style=\"color: #008080; text-decoration-color: #008080\">INFO</span>    | Task run 'query_pool_vol-8bdd8db3-7' - Finished in state <span style=\"color: #008000; text-decoration-color: #008000\">Completed</span>()\n",
       "</pre>\n"
      ],
      "text/plain": [
       "10:29:06.636 | \u001b[36mINFO\u001b[0m    | Task run 'query_pool_vol-8bdd8db3-7' - Finished in state \u001b[32mCompleted\u001b[0m()\n"
      ]
     },
     "metadata": {},
     "output_type": "display_data"
    },
    {
     "data": {
      "text/html": [
       "<pre style=\"white-space:pre;overflow-x:auto;line-height:normal;font-family:Menlo,'DejaVu Sans Mono',consolas,'Courier New',monospace\">10:29:06.653 | <span style=\"color: #008080; text-decoration-color: #008080\">INFO</span>    | Task run 'query_pool_vol-8bdd8db3-4' - Finished in state <span style=\"color: #008000; text-decoration-color: #008000\">Completed</span>()\n",
       "</pre>\n"
      ],
      "text/plain": [
       "10:29:06.653 | \u001b[36mINFO\u001b[0m    | Task run 'query_pool_vol-8bdd8db3-4' - Finished in state \u001b[32mCompleted\u001b[0m()\n"
      ]
     },
     "metadata": {},
     "output_type": "display_data"
    },
    {
     "data": {
      "text/html": [
       "<pre style=\"white-space:pre;overflow-x:auto;line-height:normal;font-family:Menlo,'DejaVu Sans Mono',consolas,'Courier New',monospace\">10:29:06.662 | <span style=\"color: #008080; text-decoration-color: #008080\">INFO</span>    | Flow run<span style=\"color: #800080; text-decoration-color: #800080\"> 'magnificent-leopard'</span> - Created task run 'query_pool_snaps-60635b41-40' for task 'query_pool_snaps'\n",
       "</pre>\n"
      ],
      "text/plain": [
       "10:29:06.662 | \u001b[36mINFO\u001b[0m    | Flow run\u001b[35m 'magnificent-leopard'\u001b[0m - Created task run 'query_pool_snaps-60635b41-40' for task 'query_pool_snaps'\n"
      ]
     },
     "metadata": {},
     "output_type": "display_data"
    },
    {
     "data": {
      "text/html": [
       "<pre style=\"white-space:pre;overflow-x:auto;line-height:normal;font-family:Menlo,'DejaVu Sans Mono',consolas,'Courier New',monospace\">10:29:06.663 | <span style=\"color: #008080; text-decoration-color: #008080\">INFO</span>    | Flow run<span style=\"color: #800080; text-decoration-color: #800080\"> 'magnificent-leopard'</span> - Submitted task run 'query_pool_snaps-60635b41-40' for execution.\n",
       "</pre>\n"
      ],
      "text/plain": [
       "10:29:06.663 | \u001b[36mINFO\u001b[0m    | Flow run\u001b[35m 'magnificent-leopard'\u001b[0m - Submitted task run 'query_pool_snaps-60635b41-40' for execution.\n"
      ]
     },
     "metadata": {},
     "output_type": "display_data"
    },
    {
     "data": {
      "text/html": [
       "<pre style=\"white-space:pre;overflow-x:auto;line-height:normal;font-family:Menlo,'DejaVu Sans Mono',consolas,'Courier New',monospace\">10:29:06.672 | <span style=\"color: #008080; text-decoration-color: #008080\">INFO</span>    | Task run 'query_pool_vol-8bdd8db3-24' - Finished in state <span style=\"color: #008000; text-decoration-color: #008000\">Completed</span>()\n",
       "</pre>\n"
      ],
      "text/plain": [
       "10:29:06.672 | \u001b[36mINFO\u001b[0m    | Task run 'query_pool_vol-8bdd8db3-24' - Finished in state \u001b[32mCompleted\u001b[0m()\n"
      ]
     },
     "metadata": {},
     "output_type": "display_data"
    },
    {
     "data": {
      "text/html": [
       "<pre style=\"white-space:pre;overflow-x:auto;line-height:normal;font-family:Menlo,'DejaVu Sans Mono',consolas,'Courier New',monospace\">10:29:06.677 | <span style=\"color: #008080; text-decoration-color: #008080\">INFO</span>    | Flow run<span style=\"color: #800080; text-decoration-color: #800080\"> 'magnificent-leopard'</span> - Created task run 'query_pool_vol-8bdd8db3-15' for task 'query_pool_vol'\n",
       "</pre>\n"
      ],
      "text/plain": [
       "10:29:06.677 | \u001b[36mINFO\u001b[0m    | Flow run\u001b[35m 'magnificent-leopard'\u001b[0m - Created task run 'query_pool_vol-8bdd8db3-15' for task 'query_pool_vol'\n"
      ]
     },
     "metadata": {},
     "output_type": "display_data"
    },
    {
     "data": {
      "text/html": [
       "<pre style=\"white-space:pre;overflow-x:auto;line-height:normal;font-family:Menlo,'DejaVu Sans Mono',consolas,'Courier New',monospace\">10:29:06.678 | <span style=\"color: #008080; text-decoration-color: #008080\">INFO</span>    | Flow run<span style=\"color: #800080; text-decoration-color: #800080\"> 'magnificent-leopard'</span> - Submitted task run 'query_pool_vol-8bdd8db3-15' for execution.\n",
       "</pre>\n"
      ],
      "text/plain": [
       "10:29:06.678 | \u001b[36mINFO\u001b[0m    | Flow run\u001b[35m 'magnificent-leopard'\u001b[0m - Submitted task run 'query_pool_vol-8bdd8db3-15' for execution.\n"
      ]
     },
     "metadata": {},
     "output_type": "display_data"
    },
    {
     "data": {
      "text/html": [
       "<pre style=\"white-space:pre;overflow-x:auto;line-height:normal;font-family:Menlo,'DejaVu Sans Mono',consolas,'Courier New',monospace\">10:29:06.704 | <span style=\"color: #008080; text-decoration-color: #008080\">INFO</span>    | Task run 'query_pool_vol-8bdd8db3-38' - Finished in state <span style=\"color: #008000; text-decoration-color: #008000\">Completed</span>()\n",
       "</pre>\n"
      ],
      "text/plain": [
       "10:29:06.704 | \u001b[36mINFO\u001b[0m    | Task run 'query_pool_vol-8bdd8db3-38' - Finished in state \u001b[32mCompleted\u001b[0m()\n"
      ]
     },
     "metadata": {},
     "output_type": "display_data"
    },
    {
     "data": {
      "text/html": [
       "<pre style=\"white-space:pre;overflow-x:auto;line-height:normal;font-family:Menlo,'DejaVu Sans Mono',consolas,'Courier New',monospace\">10:29:06.736 | <span style=\"color: #008080; text-decoration-color: #008080\">INFO</span>    | Task run 'query_pool_vol-8bdd8db3-25' - Finished in state <span style=\"color: #008000; text-decoration-color: #008000\">Completed</span>()\n",
       "</pre>\n"
      ],
      "text/plain": [
       "10:29:06.736 | \u001b[36mINFO\u001b[0m    | Task run 'query_pool_vol-8bdd8db3-25' - Finished in state \u001b[32mCompleted\u001b[0m()\n"
      ]
     },
     "metadata": {},
     "output_type": "display_data"
    },
    {
     "data": {
      "text/html": [
       "<pre style=\"white-space:pre;overflow-x:auto;line-height:normal;font-family:Menlo,'DejaVu Sans Mono',consolas,'Courier New',monospace\">10:29:06.746 | <span style=\"color: #008080; text-decoration-color: #008080\">INFO</span>    | Task run 'query_pool_vol-8bdd8db3-9' - Finished in state <span style=\"color: #008000; text-decoration-color: #008000\">Completed</span>()\n",
       "</pre>\n"
      ],
      "text/plain": [
       "10:29:06.746 | \u001b[36mINFO\u001b[0m    | Task run 'query_pool_vol-8bdd8db3-9' - Finished in state \u001b[32mCompleted\u001b[0m()\n"
      ]
     },
     "metadata": {},
     "output_type": "display_data"
    },
    {
     "data": {
      "text/html": [
       "<pre style=\"white-space:pre;overflow-x:auto;line-height:normal;font-family:Menlo,'DejaVu Sans Mono',consolas,'Courier New',monospace\">10:29:06.751 | <span style=\"color: #008080; text-decoration-color: #008080\">INFO</span>    | Task run 'query_pool_vol-8bdd8db3-52' - Finished in state <span style=\"color: #008000; text-decoration-color: #008000\">Completed</span>()\n",
       "</pre>\n"
      ],
      "text/plain": [
       "10:29:06.751 | \u001b[36mINFO\u001b[0m    | Task run 'query_pool_vol-8bdd8db3-52' - Finished in state \u001b[32mCompleted\u001b[0m()\n"
      ]
     },
     "metadata": {},
     "output_type": "display_data"
    },
    {
     "data": {
      "text/html": [
       "<pre style=\"white-space:pre;overflow-x:auto;line-height:normal;font-family:Menlo,'DejaVu Sans Mono',consolas,'Courier New',monospace\">10:29:06.771 | <span style=\"color: #008080; text-decoration-color: #008080\">INFO</span>    | Task run 'query_pool_snaps-60635b41-23' - Finished in state <span style=\"color: #008000; text-decoration-color: #008000\">Completed</span>()\n",
       "</pre>\n"
      ],
      "text/plain": [
       "10:29:06.771 | \u001b[36mINFO\u001b[0m    | Task run 'query_pool_snaps-60635b41-23' - Finished in state \u001b[32mCompleted\u001b[0m()\n"
      ]
     },
     "metadata": {},
     "output_type": "display_data"
    },
    {
     "data": {
      "text/html": [
       "<pre style=\"white-space:pre;overflow-x:auto;line-height:normal;font-family:Menlo,'DejaVu Sans Mono',consolas,'Courier New',monospace\">10:29:06.782 | <span style=\"color: #008080; text-decoration-color: #008080\">INFO</span>    | Task run 'query_pool_snaps-60635b41-7' - Finished in state <span style=\"color: #008000; text-decoration-color: #008000\">Completed</span>()\n",
       "</pre>\n"
      ],
      "text/plain": [
       "10:29:06.782 | \u001b[36mINFO\u001b[0m    | Task run 'query_pool_snaps-60635b41-7' - Finished in state \u001b[32mCompleted\u001b[0m()\n"
      ]
     },
     "metadata": {},
     "output_type": "display_data"
    },
    {
     "data": {
      "text/html": [
       "<pre style=\"white-space:pre;overflow-x:auto;line-height:normal;font-family:Menlo,'DejaVu Sans Mono',consolas,'Courier New',monospace\">10:29:06.788 | <span style=\"color: #008080; text-decoration-color: #008080\">INFO</span>    | Flow run<span style=\"color: #800080; text-decoration-color: #800080\"> 'magnificent-leopard'</span> - Created task run 'query_pool_snaps-60635b41-45' for task 'query_pool_snaps'\n",
       "</pre>\n"
      ],
      "text/plain": [
       "10:29:06.788 | \u001b[36mINFO\u001b[0m    | Flow run\u001b[35m 'magnificent-leopard'\u001b[0m - Created task run 'query_pool_snaps-60635b41-45' for task 'query_pool_snaps'\n"
      ]
     },
     "metadata": {},
     "output_type": "display_data"
    },
    {
     "data": {
      "text/html": [
       "<pre style=\"white-space:pre;overflow-x:auto;line-height:normal;font-family:Menlo,'DejaVu Sans Mono',consolas,'Courier New',monospace\">10:29:06.789 | <span style=\"color: #008080; text-decoration-color: #008080\">INFO</span>    | Flow run<span style=\"color: #800080; text-decoration-color: #800080\"> 'magnificent-leopard'</span> - Submitted task run 'query_pool_snaps-60635b41-45' for execution.\n",
       "</pre>\n"
      ],
      "text/plain": [
       "10:29:06.789 | \u001b[36mINFO\u001b[0m    | Flow run\u001b[35m 'magnificent-leopard'\u001b[0m - Submitted task run 'query_pool_snaps-60635b41-45' for execution.\n"
      ]
     },
     "metadata": {},
     "output_type": "display_data"
    },
    {
     "data": {
      "text/html": [
       "<pre style=\"white-space:pre;overflow-x:auto;line-height:normal;font-family:Menlo,'DejaVu Sans Mono',consolas,'Courier New',monospace\">10:29:06.801 | <span style=\"color: #008080; text-decoration-color: #008080\">INFO</span>    | Task run 'query_pool_vol-8bdd8db3-20' - Finished in state <span style=\"color: #008000; text-decoration-color: #008000\">Completed</span>()\n",
       "</pre>\n"
      ],
      "text/plain": [
       "10:29:06.801 | \u001b[36mINFO\u001b[0m    | Task run 'query_pool_vol-8bdd8db3-20' - Finished in state \u001b[32mCompleted\u001b[0m()\n"
      ]
     },
     "metadata": {},
     "output_type": "display_data"
    },
    {
     "data": {
      "text/html": [
       "<pre style=\"white-space:pre;overflow-x:auto;line-height:normal;font-family:Menlo,'DejaVu Sans Mono',consolas,'Courier New',monospace\">10:29:06.809 | <span style=\"color: #008080; text-decoration-color: #008080\">INFO</span>    | Task run 'query_pool_vol-8bdd8db3-49' - Finished in state <span style=\"color: #008000; text-decoration-color: #008000\">Completed</span>()\n",
       "</pre>\n"
      ],
      "text/plain": [
       "10:29:06.809 | \u001b[36mINFO\u001b[0m    | Task run 'query_pool_vol-8bdd8db3-49' - Finished in state \u001b[32mCompleted\u001b[0m()\n"
      ]
     },
     "metadata": {},
     "output_type": "display_data"
    },
    {
     "data": {
      "text/html": [
       "<pre style=\"white-space:pre;overflow-x:auto;line-height:normal;font-family:Menlo,'DejaVu Sans Mono',consolas,'Courier New',monospace\">10:29:06.941 | <span style=\"color: #008080; text-decoration-color: #008080\">INFO</span>    | Task run 'query_pool_vol-8bdd8db3-53' - Finished in state <span style=\"color: #008000; text-decoration-color: #008000\">Completed</span>()\n",
       "</pre>\n"
      ],
      "text/plain": [
       "10:29:06.941 | \u001b[36mINFO\u001b[0m    | Task run 'query_pool_vol-8bdd8db3-53' - Finished in state \u001b[32mCompleted\u001b[0m()\n"
      ]
     },
     "metadata": {},
     "output_type": "display_data"
    },
    {
     "data": {
      "text/html": [
       "<pre style=\"white-space:pre;overflow-x:auto;line-height:normal;font-family:Menlo,'DejaVu Sans Mono',consolas,'Courier New',monospace\">10:29:06.951 | <span style=\"color: #008080; text-decoration-color: #008080\">INFO</span>    | Task run 'query_pool_snaps-60635b41-24' - Finished in state <span style=\"color: #008000; text-decoration-color: #008000\">Completed</span>()\n",
       "</pre>\n"
      ],
      "text/plain": [
       "10:29:06.951 | \u001b[36mINFO\u001b[0m    | Task run 'query_pool_snaps-60635b41-24' - Finished in state \u001b[32mCompleted\u001b[0m()\n"
      ]
     },
     "metadata": {},
     "output_type": "display_data"
    },
    {
     "data": {
      "text/html": [
       "<pre style=\"white-space:pre;overflow-x:auto;line-height:normal;font-family:Menlo,'DejaVu Sans Mono',consolas,'Courier New',monospace\">10:29:06.956 | <span style=\"color: #008080; text-decoration-color: #008080\">INFO</span>    | Task run 'query_pool_snaps-60635b41-19' - Finished in state <span style=\"color: #008000; text-decoration-color: #008000\">Completed</span>()\n",
       "</pre>\n"
      ],
      "text/plain": [
       "10:29:06.956 | \u001b[36mINFO\u001b[0m    | Task run 'query_pool_snaps-60635b41-19' - Finished in state \u001b[32mCompleted\u001b[0m()\n"
      ]
     },
     "metadata": {},
     "output_type": "display_data"
    },
    {
     "data": {
      "text/html": [
       "<pre style=\"white-space:pre;overflow-x:auto;line-height:normal;font-family:Menlo,'DejaVu Sans Mono',consolas,'Courier New',monospace\">10:29:06.961 | <span style=\"color: #008080; text-decoration-color: #008080\">INFO</span>    | Task run 'query_pool_snaps-60635b41-39' - Finished in state <span style=\"color: #008000; text-decoration-color: #008000\">Completed</span>()\n",
       "</pre>\n"
      ],
      "text/plain": [
       "10:29:06.961 | \u001b[36mINFO\u001b[0m    | Task run 'query_pool_snaps-60635b41-39' - Finished in state \u001b[32mCompleted\u001b[0m()\n"
      ]
     },
     "metadata": {},
     "output_type": "display_data"
    },
    {
     "data": {
      "text/html": [
       "<pre style=\"white-space:pre;overflow-x:auto;line-height:normal;font-family:Menlo,'DejaVu Sans Mono',consolas,'Courier New',monospace\">10:29:06.966 | <span style=\"color: #008080; text-decoration-color: #008080\">INFO</span>    | Flow run<span style=\"color: #800080; text-decoration-color: #800080\"> 'magnificent-leopard'</span> - Created task run 'query_pool_snaps-60635b41-59' for task 'query_pool_snaps'\n",
       "</pre>\n"
      ],
      "text/plain": [
       "10:29:06.966 | \u001b[36mINFO\u001b[0m    | Flow run\u001b[35m 'magnificent-leopard'\u001b[0m - Created task run 'query_pool_snaps-60635b41-59' for task 'query_pool_snaps'\n"
      ]
     },
     "metadata": {},
     "output_type": "display_data"
    },
    {
     "data": {
      "text/html": [
       "<pre style=\"white-space:pre;overflow-x:auto;line-height:normal;font-family:Menlo,'DejaVu Sans Mono',consolas,'Courier New',monospace\">10:29:06.966 | <span style=\"color: #008080; text-decoration-color: #008080\">INFO</span>    | Flow run<span style=\"color: #800080; text-decoration-color: #800080\"> 'magnificent-leopard'</span> - Submitted task run 'query_pool_snaps-60635b41-59' for execution.\n",
       "</pre>\n"
      ],
      "text/plain": [
       "10:29:06.966 | \u001b[36mINFO\u001b[0m    | Flow run\u001b[35m 'magnificent-leopard'\u001b[0m - Submitted task run 'query_pool_snaps-60635b41-59' for execution.\n"
      ]
     },
     "metadata": {},
     "output_type": "display_data"
    },
    {
     "data": {
      "text/html": [
       "<pre style=\"white-space:pre;overflow-x:auto;line-height:normal;font-family:Menlo,'DejaVu Sans Mono',consolas,'Courier New',monospace\">10:29:07.075 | <span style=\"color: #008080; text-decoration-color: #008080\">INFO</span>    | Task run 'query_pool_vol-8bdd8db3-42' - Finished in state <span style=\"color: #008000; text-decoration-color: #008000\">Completed</span>()\n",
       "</pre>\n"
      ],
      "text/plain": [
       "10:29:07.075 | \u001b[36mINFO\u001b[0m    | Task run 'query_pool_vol-8bdd8db3-42' - Finished in state \u001b[32mCompleted\u001b[0m()\n"
      ]
     },
     "metadata": {},
     "output_type": "display_data"
    },
    {
     "data": {
      "text/html": [
       "<pre style=\"white-space:pre;overflow-x:auto;line-height:normal;font-family:Menlo,'DejaVu Sans Mono',consolas,'Courier New',monospace\">10:29:07.096 | <span style=\"color: #008080; text-decoration-color: #008080\">INFO</span>    | Flow run<span style=\"color: #800080; text-decoration-color: #800080\"> 'magnificent-leopard'</span> - Created task run 'query_pool_vol-8bdd8db3-41' for task 'query_pool_vol'\n",
       "</pre>\n"
      ],
      "text/plain": [
       "10:29:07.096 | \u001b[36mINFO\u001b[0m    | Flow run\u001b[35m 'magnificent-leopard'\u001b[0m - Created task run 'query_pool_vol-8bdd8db3-41' for task 'query_pool_vol'\n"
      ]
     },
     "metadata": {},
     "output_type": "display_data"
    },
    {
     "data": {
      "text/html": [
       "<pre style=\"white-space:pre;overflow-x:auto;line-height:normal;font-family:Menlo,'DejaVu Sans Mono',consolas,'Courier New',monospace\">10:29:07.097 | <span style=\"color: #008080; text-decoration-color: #008080\">INFO</span>    | Flow run<span style=\"color: #800080; text-decoration-color: #800080\"> 'magnificent-leopard'</span> - Submitted task run 'query_pool_vol-8bdd8db3-41' for execution.\n",
       "</pre>\n"
      ],
      "text/plain": [
       "10:29:07.097 | \u001b[36mINFO\u001b[0m    | Flow run\u001b[35m 'magnificent-leopard'\u001b[0m - Submitted task run 'query_pool_vol-8bdd8db3-41' for execution.\n"
      ]
     },
     "metadata": {},
     "output_type": "display_data"
    },
    {
     "data": {
      "text/html": [
       "<pre style=\"white-space:pre;overflow-x:auto;line-height:normal;font-family:Menlo,'DejaVu Sans Mono',consolas,'Courier New',monospace\">10:29:07.110 | <span style=\"color: #008080; text-decoration-color: #008080\">INFO</span>    | Task run 'query_pool_snaps-60635b41-20' - Finished in state <span style=\"color: #008000; text-decoration-color: #008000\">Completed</span>()\n",
       "</pre>\n"
      ],
      "text/plain": [
       "10:29:07.110 | \u001b[36mINFO\u001b[0m    | Task run 'query_pool_snaps-60635b41-20' - Finished in state \u001b[32mCompleted\u001b[0m()\n"
      ]
     },
     "metadata": {},
     "output_type": "display_data"
    },
    {
     "data": {
      "text/html": [
       "<pre style=\"white-space:pre;overflow-x:auto;line-height:normal;font-family:Menlo,'DejaVu Sans Mono',consolas,'Courier New',monospace\">10:29:07.140 | <span style=\"color: #008080; text-decoration-color: #008080\">INFO</span>    | Flow run<span style=\"color: #800080; text-decoration-color: #800080\"> 'magnificent-leopard'</span> - Created task run 'query_pool_snaps-60635b41-38' for task 'query_pool_snaps'\n",
       "</pre>\n"
      ],
      "text/plain": [
       "10:29:07.140 | \u001b[36mINFO\u001b[0m    | Flow run\u001b[35m 'magnificent-leopard'\u001b[0m - Created task run 'query_pool_snaps-60635b41-38' for task 'query_pool_snaps'\n"
      ]
     },
     "metadata": {},
     "output_type": "display_data"
    },
    {
     "data": {
      "text/html": [
       "<pre style=\"white-space:pre;overflow-x:auto;line-height:normal;font-family:Menlo,'DejaVu Sans Mono',consolas,'Courier New',monospace\">10:29:07.140 | <span style=\"color: #008080; text-decoration-color: #008080\">INFO</span>    | Flow run<span style=\"color: #800080; text-decoration-color: #800080\"> 'magnificent-leopard'</span> - Submitted task run 'query_pool_snaps-60635b41-38' for execution.\n",
       "</pre>\n"
      ],
      "text/plain": [
       "10:29:07.140 | \u001b[36mINFO\u001b[0m    | Flow run\u001b[35m 'magnificent-leopard'\u001b[0m - Submitted task run 'query_pool_snaps-60635b41-38' for execution.\n"
      ]
     },
     "metadata": {},
     "output_type": "display_data"
    },
    {
     "data": {
      "text/html": [
       "<pre style=\"white-space:pre;overflow-x:auto;line-height:normal;font-family:Menlo,'DejaVu Sans Mono',consolas,'Courier New',monospace\">10:29:07.149 | <span style=\"color: #008080; text-decoration-color: #008080\">INFO</span>    | Task run 'query_pool_vol-8bdd8db3-15' - Finished in state <span style=\"color: #008000; text-decoration-color: #008000\">Completed</span>()\n",
       "</pre>\n"
      ],
      "text/plain": [
       "10:29:07.149 | \u001b[36mINFO\u001b[0m    | Task run 'query_pool_vol-8bdd8db3-15' - Finished in state \u001b[32mCompleted\u001b[0m()\n"
      ]
     },
     "metadata": {},
     "output_type": "display_data"
    },
    {
     "data": {
      "text/html": [
       "<pre style=\"white-space:pre;overflow-x:auto;line-height:normal;font-family:Menlo,'DejaVu Sans Mono',consolas,'Courier New',monospace\">10:29:07.167 | <span style=\"color: #008080; text-decoration-color: #008080\">INFO</span>    | Task run 'query_pool_vol-8bdd8db3-12' - Finished in state <span style=\"color: #008000; text-decoration-color: #008000\">Completed</span>()\n",
       "</pre>\n"
      ],
      "text/plain": [
       "10:29:07.167 | \u001b[36mINFO\u001b[0m    | Task run 'query_pool_vol-8bdd8db3-12' - Finished in state \u001b[32mCompleted\u001b[0m()\n"
      ]
     },
     "metadata": {},
     "output_type": "display_data"
    },
    {
     "data": {
      "text/html": [
       "<pre style=\"white-space:pre;overflow-x:auto;line-height:normal;font-family:Menlo,'DejaVu Sans Mono',consolas,'Courier New',monospace\">10:29:07.181 | <span style=\"color: #008080; text-decoration-color: #008080\">INFO</span>    | Flow run<span style=\"color: #800080; text-decoration-color: #800080\"> 'magnificent-leopard'</span> - Created task run 'query_pool_snaps-60635b41-52' for task 'query_pool_snaps'\n",
       "</pre>\n"
      ],
      "text/plain": [
       "10:29:07.181 | \u001b[36mINFO\u001b[0m    | Flow run\u001b[35m 'magnificent-leopard'\u001b[0m - Created task run 'query_pool_snaps-60635b41-52' for task 'query_pool_snaps'\n"
      ]
     },
     "metadata": {},
     "output_type": "display_data"
    },
    {
     "data": {
      "text/html": [
       "<pre style=\"white-space:pre;overflow-x:auto;line-height:normal;font-family:Menlo,'DejaVu Sans Mono',consolas,'Courier New',monospace\">10:29:07.181 | <span style=\"color: #008080; text-decoration-color: #008080\">INFO</span>    | Flow run<span style=\"color: #800080; text-decoration-color: #800080\"> 'magnificent-leopard'</span> - Submitted task run 'query_pool_snaps-60635b41-52' for execution.\n",
       "</pre>\n"
      ],
      "text/plain": [
       "10:29:07.181 | \u001b[36mINFO\u001b[0m    | Flow run\u001b[35m 'magnificent-leopard'\u001b[0m - Submitted task run 'query_pool_snaps-60635b41-52' for execution.\n"
      ]
     },
     "metadata": {},
     "output_type": "display_data"
    },
    {
     "data": {
      "text/html": [
       "<pre style=\"white-space:pre;overflow-x:auto;line-height:normal;font-family:Menlo,'DejaVu Sans Mono',consolas,'Courier New',monospace\">10:29:07.188 | <span style=\"color: #008080; text-decoration-color: #008080\">INFO</span>    | Flow run<span style=\"color: #800080; text-decoration-color: #800080\"> 'magnificent-leopard'</span> - Created task run 'query_pool_vol-8bdd8db3-60' for task 'query_pool_vol'\n",
       "</pre>\n"
      ],
      "text/plain": [
       "10:29:07.188 | \u001b[36mINFO\u001b[0m    | Flow run\u001b[35m 'magnificent-leopard'\u001b[0m - Created task run 'query_pool_vol-8bdd8db3-60' for task 'query_pool_vol'\n"
      ]
     },
     "metadata": {},
     "output_type": "display_data"
    },
    {
     "data": {
      "text/html": [
       "<pre style=\"white-space:pre;overflow-x:auto;line-height:normal;font-family:Menlo,'DejaVu Sans Mono',consolas,'Courier New',monospace\">10:29:07.189 | <span style=\"color: #008080; text-decoration-color: #008080\">INFO</span>    | Flow run<span style=\"color: #800080; text-decoration-color: #800080\"> 'magnificent-leopard'</span> - Submitted task run 'query_pool_vol-8bdd8db3-60' for execution.\n",
       "</pre>\n"
      ],
      "text/plain": [
       "10:29:07.189 | \u001b[36mINFO\u001b[0m    | Flow run\u001b[35m 'magnificent-leopard'\u001b[0m - Submitted task run 'query_pool_vol-8bdd8db3-60' for execution.\n"
      ]
     },
     "metadata": {},
     "output_type": "display_data"
    },
    {
     "data": {
      "text/html": [
       "<pre style=\"white-space:pre;overflow-x:auto;line-height:normal;font-family:Menlo,'DejaVu Sans Mono',consolas,'Courier New',monospace\">10:29:07.199 | <span style=\"color: #008080; text-decoration-color: #008080\">INFO</span>    | Task run 'query_pool_snaps-60635b41-53' - Finished in state <span style=\"color: #008000; text-decoration-color: #008000\">Completed</span>()\n",
       "</pre>\n"
      ],
      "text/plain": [
       "10:29:07.199 | \u001b[36mINFO\u001b[0m    | Task run 'query_pool_snaps-60635b41-53' - Finished in state \u001b[32mCompleted\u001b[0m()\n"
      ]
     },
     "metadata": {},
     "output_type": "display_data"
    },
    {
     "data": {
      "text/html": [
       "<pre style=\"white-space:pre;overflow-x:auto;line-height:normal;font-family:Menlo,'DejaVu Sans Mono',consolas,'Courier New',monospace\">10:29:07.320 | <span style=\"color: #008080; text-decoration-color: #008080\">INFO</span>    | Task run 'query_pool_vol-8bdd8db3-1' - Finished in state <span style=\"color: #008000; text-decoration-color: #008000\">Completed</span>()\n",
       "</pre>\n"
      ],
      "text/plain": [
       "10:29:07.320 | \u001b[36mINFO\u001b[0m    | Task run 'query_pool_vol-8bdd8db3-1' - Finished in state \u001b[32mCompleted\u001b[0m()\n"
      ]
     },
     "metadata": {},
     "output_type": "display_data"
    },
    {
     "data": {
      "text/html": [
       "<pre style=\"white-space:pre;overflow-x:auto;line-height:normal;font-family:Menlo,'DejaVu Sans Mono',consolas,'Courier New',monospace\">10:29:07.332 | <span style=\"color: #008080; text-decoration-color: #008080\">INFO</span>    | Task run 'query_pool_vol-8bdd8db3-48' - Finished in state <span style=\"color: #008000; text-decoration-color: #008000\">Completed</span>()\n",
       "</pre>\n"
      ],
      "text/plain": [
       "10:29:07.332 | \u001b[36mINFO\u001b[0m    | Task run 'query_pool_vol-8bdd8db3-48' - Finished in state \u001b[32mCompleted\u001b[0m()\n"
      ]
     },
     "metadata": {},
     "output_type": "display_data"
    },
    {
     "data": {
      "text/html": [
       "<pre style=\"white-space:pre;overflow-x:auto;line-height:normal;font-family:Menlo,'DejaVu Sans Mono',consolas,'Courier New',monospace\">10:29:08.212 | <span style=\"color: #008080; text-decoration-color: #008080\">INFO</span>    | Flow run<span style=\"color: #800080; text-decoration-color: #800080\"> 'magnificent-leopard'</span> - Created task run 'query_pool_snaps-60635b41-5' for task 'query_pool_snaps'\n",
       "</pre>\n"
      ],
      "text/plain": [
       "10:29:08.212 | \u001b[36mINFO\u001b[0m    | Flow run\u001b[35m 'magnificent-leopard'\u001b[0m - Created task run 'query_pool_snaps-60635b41-5' for task 'query_pool_snaps'\n"
      ]
     },
     "metadata": {},
     "output_type": "display_data"
    },
    {
     "data": {
      "text/html": [
       "<pre style=\"white-space:pre;overflow-x:auto;line-height:normal;font-family:Menlo,'DejaVu Sans Mono',consolas,'Courier New',monospace\">10:29:08.213 | <span style=\"color: #008080; text-decoration-color: #008080\">INFO</span>    | Flow run<span style=\"color: #800080; text-decoration-color: #800080\"> 'magnificent-leopard'</span> - Submitted task run 'query_pool_snaps-60635b41-5' for execution.\n",
       "</pre>\n"
      ],
      "text/plain": [
       "10:29:08.213 | \u001b[36mINFO\u001b[0m    | Flow run\u001b[35m 'magnificent-leopard'\u001b[0m - Submitted task run 'query_pool_snaps-60635b41-5' for execution.\n"
      ]
     },
     "metadata": {},
     "output_type": "display_data"
    },
    {
     "data": {
      "text/html": [
       "<pre style=\"white-space:pre;overflow-x:auto;line-height:normal;font-family:Menlo,'DejaVu Sans Mono',consolas,'Courier New',monospace\">10:29:08.241 | <span style=\"color: #008080; text-decoration-color: #008080\">INFO</span>    | Task run 'query_pool_vol-8bdd8db3-56' - Finished in state <span style=\"color: #008000; text-decoration-color: #008000\">Completed</span>()\n",
       "</pre>\n"
      ],
      "text/plain": [
       "10:29:08.241 | \u001b[36mINFO\u001b[0m    | Task run 'query_pool_vol-8bdd8db3-56' - Finished in state \u001b[32mCompleted\u001b[0m()\n"
      ]
     },
     "metadata": {},
     "output_type": "display_data"
    },
    {
     "data": {
      "text/html": [
       "<pre style=\"white-space:pre;overflow-x:auto;line-height:normal;font-family:Menlo,'DejaVu Sans Mono',consolas,'Courier New',monospace\">10:29:08.323 | <span style=\"color: #008080; text-decoration-color: #008080\">INFO</span>    | Task run 'query_pool_vol-8bdd8db3-39' - Finished in state <span style=\"color: #008000; text-decoration-color: #008000\">Completed</span>()\n",
       "</pre>\n"
      ],
      "text/plain": [
       "10:29:08.323 | \u001b[36mINFO\u001b[0m    | Task run 'query_pool_vol-8bdd8db3-39' - Finished in state \u001b[32mCompleted\u001b[0m()\n"
      ]
     },
     "metadata": {},
     "output_type": "display_data"
    },
    {
     "data": {
      "text/html": [
       "<pre style=\"white-space:pre;overflow-x:auto;line-height:normal;font-family:Menlo,'DejaVu Sans Mono',consolas,'Courier New',monospace\">10:29:08.394 | <span style=\"color: #008080; text-decoration-color: #008080\">INFO</span>    | Task run 'query_pool_vol-8bdd8db3-40' - Finished in state <span style=\"color: #008000; text-decoration-color: #008000\">Completed</span>()\n",
       "</pre>\n"
      ],
      "text/plain": [
       "10:29:08.394 | \u001b[36mINFO\u001b[0m    | Task run 'query_pool_vol-8bdd8db3-40' - Finished in state \u001b[32mCompleted\u001b[0m()\n"
      ]
     },
     "metadata": {},
     "output_type": "display_data"
    },
    {
     "data": {
      "text/html": [
       "<pre style=\"white-space:pre;overflow-x:auto;line-height:normal;font-family:Menlo,'DejaVu Sans Mono',consolas,'Courier New',monospace\">10:29:08.414 | <span style=\"color: #008080; text-decoration-color: #008080\">INFO</span>    | Task run 'query_pool_snaps-60635b41-34' - Finished in state <span style=\"color: #008000; text-decoration-color: #008000\">Completed</span>()\n",
       "</pre>\n"
      ],
      "text/plain": [
       "10:29:08.414 | \u001b[36mINFO\u001b[0m    | Task run 'query_pool_snaps-60635b41-34' - Finished in state \u001b[32mCompleted\u001b[0m()\n"
      ]
     },
     "metadata": {},
     "output_type": "display_data"
    },
    {
     "data": {
      "text/html": [
       "<pre style=\"white-space:pre;overflow-x:auto;line-height:normal;font-family:Menlo,'DejaVu Sans Mono',consolas,'Courier New',monospace\">10:29:08.419 | <span style=\"color: #008080; text-decoration-color: #008080\">INFO</span>    | Flow run<span style=\"color: #800080; text-decoration-color: #800080\"> 'magnificent-leopard'</span> - Created task run 'query_pool_snaps-60635b41-12' for task 'query_pool_snaps'\n",
       "</pre>\n"
      ],
      "text/plain": [
       "10:29:08.419 | \u001b[36mINFO\u001b[0m    | Flow run\u001b[35m 'magnificent-leopard'\u001b[0m - Created task run 'query_pool_snaps-60635b41-12' for task 'query_pool_snaps'\n"
      ]
     },
     "metadata": {},
     "output_type": "display_data"
    },
    {
     "data": {
      "text/html": [
       "<pre style=\"white-space:pre;overflow-x:auto;line-height:normal;font-family:Menlo,'DejaVu Sans Mono',consolas,'Courier New',monospace\">10:29:08.419 | <span style=\"color: #008080; text-decoration-color: #008080\">INFO</span>    | Flow run<span style=\"color: #800080; text-decoration-color: #800080\"> 'magnificent-leopard'</span> - Submitted task run 'query_pool_snaps-60635b41-12' for execution.\n",
       "</pre>\n"
      ],
      "text/plain": [
       "10:29:08.419 | \u001b[36mINFO\u001b[0m    | Flow run\u001b[35m 'magnificent-leopard'\u001b[0m - Submitted task run 'query_pool_snaps-60635b41-12' for execution.\n"
      ]
     },
     "metadata": {},
     "output_type": "display_data"
    },
    {
     "data": {
      "text/html": [
       "<pre style=\"white-space:pre;overflow-x:auto;line-height:normal;font-family:Menlo,'DejaVu Sans Mono',consolas,'Courier New',monospace\">10:29:08.427 | <span style=\"color: #008080; text-decoration-color: #008080\">INFO</span>    | Flow run<span style=\"color: #800080; text-decoration-color: #800080\"> 'magnificent-leopard'</span> - Created task run 'query_pool_vol-8bdd8db3-55' for task 'query_pool_vol'\n",
       "</pre>\n"
      ],
      "text/plain": [
       "10:29:08.427 | \u001b[36mINFO\u001b[0m    | Flow run\u001b[35m 'magnificent-leopard'\u001b[0m - Created task run 'query_pool_vol-8bdd8db3-55' for task 'query_pool_vol'\n"
      ]
     },
     "metadata": {},
     "output_type": "display_data"
    },
    {
     "data": {
      "text/html": [
       "<pre style=\"white-space:pre;overflow-x:auto;line-height:normal;font-family:Menlo,'DejaVu Sans Mono',consolas,'Courier New',monospace\">10:29:08.427 | <span style=\"color: #008080; text-decoration-color: #008080\">INFO</span>    | Flow run<span style=\"color: #800080; text-decoration-color: #800080\"> 'magnificent-leopard'</span> - Submitted task run 'query_pool_vol-8bdd8db3-55' for execution.\n",
       "</pre>\n"
      ],
      "text/plain": [
       "10:29:08.427 | \u001b[36mINFO\u001b[0m    | Flow run\u001b[35m 'magnificent-leopard'\u001b[0m - Submitted task run 'query_pool_vol-8bdd8db3-55' for execution.\n"
      ]
     },
     "metadata": {},
     "output_type": "display_data"
    },
    {
     "data": {
      "text/html": [
       "<pre style=\"white-space:pre;overflow-x:auto;line-height:normal;font-family:Menlo,'DejaVu Sans Mono',consolas,'Courier New',monospace\">10:29:08.438 | <span style=\"color: #008080; text-decoration-color: #008080\">INFO</span>    | Task run 'query_pool_vol-8bdd8db3-54' - Finished in state <span style=\"color: #008000; text-decoration-color: #008000\">Completed</span>()\n",
       "</pre>\n"
      ],
      "text/plain": [
       "10:29:08.438 | \u001b[36mINFO\u001b[0m    | Task run 'query_pool_vol-8bdd8db3-54' - Finished in state \u001b[32mCompleted\u001b[0m()\n"
      ]
     },
     "metadata": {},
     "output_type": "display_data"
    },
    {
     "data": {
      "text/html": [
       "<pre style=\"white-space:pre;overflow-x:auto;line-height:normal;font-family:Menlo,'DejaVu Sans Mono',consolas,'Courier New',monospace\">10:29:08.620 | <span style=\"color: #008080; text-decoration-color: #008080\">INFO</span>    | Flow run<span style=\"color: #800080; text-decoration-color: #800080\"> 'magnificent-leopard'</span> - Created task run 'query_pool_vol-8bdd8db3-16' for task 'query_pool_vol'\n",
       "</pre>\n"
      ],
      "text/plain": [
       "10:29:08.620 | \u001b[36mINFO\u001b[0m    | Flow run\u001b[35m 'magnificent-leopard'\u001b[0m - Created task run 'query_pool_vol-8bdd8db3-16' for task 'query_pool_vol'\n"
      ]
     },
     "metadata": {},
     "output_type": "display_data"
    },
    {
     "data": {
      "text/html": [
       "<pre style=\"white-space:pre;overflow-x:auto;line-height:normal;font-family:Menlo,'DejaVu Sans Mono',consolas,'Courier New',monospace\">10:29:08.621 | <span style=\"color: #008080; text-decoration-color: #008080\">INFO</span>    | Flow run<span style=\"color: #800080; text-decoration-color: #800080\"> 'magnificent-leopard'</span> - Submitted task run 'query_pool_vol-8bdd8db3-16' for execution.\n",
       "</pre>\n"
      ],
      "text/plain": [
       "10:29:08.621 | \u001b[36mINFO\u001b[0m    | Flow run\u001b[35m 'magnificent-leopard'\u001b[0m - Submitted task run 'query_pool_vol-8bdd8db3-16' for execution.\n"
      ]
     },
     "metadata": {},
     "output_type": "display_data"
    },
    {
     "data": {
      "text/html": [
       "<pre style=\"white-space:pre;overflow-x:auto;line-height:normal;font-family:Menlo,'DejaVu Sans Mono',consolas,'Courier New',monospace\">10:29:08.718 | <span style=\"color: #008080; text-decoration-color: #008080\">INFO</span>    | Flow run<span style=\"color: #800080; text-decoration-color: #800080\"> 'magnificent-leopard'</span> - Created task run 'query_pool_snaps-60635b41-60' for task 'query_pool_snaps'\n",
       "</pre>\n"
      ],
      "text/plain": [
       "10:29:08.718 | \u001b[36mINFO\u001b[0m    | Flow run\u001b[35m 'magnificent-leopard'\u001b[0m - Created task run 'query_pool_snaps-60635b41-60' for task 'query_pool_snaps'\n"
      ]
     },
     "metadata": {},
     "output_type": "display_data"
    },
    {
     "data": {
      "text/html": [
       "<pre style=\"white-space:pre;overflow-x:auto;line-height:normal;font-family:Menlo,'DejaVu Sans Mono',consolas,'Courier New',monospace\">10:29:08.719 | <span style=\"color: #008080; text-decoration-color: #008080\">INFO</span>    | Flow run<span style=\"color: #800080; text-decoration-color: #800080\"> 'magnificent-leopard'</span> - Submitted task run 'query_pool_snaps-60635b41-60' for execution.\n",
       "</pre>\n"
      ],
      "text/plain": [
       "10:29:08.719 | \u001b[36mINFO\u001b[0m    | Flow run\u001b[35m 'magnificent-leopard'\u001b[0m - Submitted task run 'query_pool_snaps-60635b41-60' for execution.\n"
      ]
     },
     "metadata": {},
     "output_type": "display_data"
    },
    {
     "data": {
      "text/html": [
       "<pre style=\"white-space:pre;overflow-x:auto;line-height:normal;font-family:Menlo,'DejaVu Sans Mono',consolas,'Courier New',monospace\">10:29:08.734 | <span style=\"color: #008080; text-decoration-color: #008080\">INFO</span>    | Task run 'query_pool_snaps-60635b41-42' - Finished in state <span style=\"color: #008000; text-decoration-color: #008000\">Completed</span>()\n",
       "</pre>\n"
      ],
      "text/plain": [
       "10:29:08.734 | \u001b[36mINFO\u001b[0m    | Task run 'query_pool_snaps-60635b41-42' - Finished in state \u001b[32mCompleted\u001b[0m()\n"
      ]
     },
     "metadata": {},
     "output_type": "display_data"
    },
    {
     "data": {
      "text/html": [
       "<pre style=\"white-space:pre;overflow-x:auto;line-height:normal;font-family:Menlo,'DejaVu Sans Mono',consolas,'Courier New',monospace\">10:29:08.742 | <span style=\"color: #008080; text-decoration-color: #008080\">INFO</span>    | Task run 'query_pool_vol-8bdd8db3-22' - Finished in state <span style=\"color: #008000; text-decoration-color: #008000\">Completed</span>()\n",
       "</pre>\n"
      ],
      "text/plain": [
       "10:29:08.742 | \u001b[36mINFO\u001b[0m    | Task run 'query_pool_vol-8bdd8db3-22' - Finished in state \u001b[32mCompleted\u001b[0m()\n"
      ]
     },
     "metadata": {},
     "output_type": "display_data"
    },
    {
     "data": {
      "text/html": [
       "<pre style=\"white-space:pre;overflow-x:auto;line-height:normal;font-family:Menlo,'DejaVu Sans Mono',consolas,'Courier New',monospace\">10:29:08.753 | <span style=\"color: #008080; text-decoration-color: #008080\">INFO</span>    | Task run 'query_pool_vol-8bdd8db3-3' - Finished in state <span style=\"color: #008000; text-decoration-color: #008000\">Completed</span>()\n",
       "</pre>\n"
      ],
      "text/plain": [
       "10:29:08.753 | \u001b[36mINFO\u001b[0m    | Task run 'query_pool_vol-8bdd8db3-3' - Finished in state \u001b[32mCompleted\u001b[0m()\n"
      ]
     },
     "metadata": {},
     "output_type": "display_data"
    },
    {
     "data": {
      "text/html": [
       "<pre style=\"white-space:pre;overflow-x:auto;line-height:normal;font-family:Menlo,'DejaVu Sans Mono',consolas,'Courier New',monospace\">10:29:08.777 | <span style=\"color: #008080; text-decoration-color: #008080\">INFO</span>    | Task run 'query_pool_snaps-60635b41-58' - Finished in state <span style=\"color: #008000; text-decoration-color: #008000\">Completed</span>()\n",
       "</pre>\n"
      ],
      "text/plain": [
       "10:29:08.777 | \u001b[36mINFO\u001b[0m    | Task run 'query_pool_snaps-60635b41-58' - Finished in state \u001b[32mCompleted\u001b[0m()\n"
      ]
     },
     "metadata": {},
     "output_type": "display_data"
    },
    {
     "data": {
      "text/html": [
       "<pre style=\"white-space:pre;overflow-x:auto;line-height:normal;font-family:Menlo,'DejaVu Sans Mono',consolas,'Courier New',monospace\">10:29:08.926 | <span style=\"color: #008080; text-decoration-color: #008080\">INFO</span>    | Task run 'query_pool_snaps-60635b41-25' - Finished in state <span style=\"color: #008000; text-decoration-color: #008000\">Completed</span>()\n",
       "</pre>\n"
      ],
      "text/plain": [
       "10:29:08.926 | \u001b[36mINFO\u001b[0m    | Task run 'query_pool_snaps-60635b41-25' - Finished in state \u001b[32mCompleted\u001b[0m()\n"
      ]
     },
     "metadata": {},
     "output_type": "display_data"
    },
    {
     "data": {
      "text/html": [
       "<pre style=\"white-space:pre;overflow-x:auto;line-height:normal;font-family:Menlo,'DejaVu Sans Mono',consolas,'Courier New',monospace\">10:29:08.936 | <span style=\"color: #008080; text-decoration-color: #008080\">INFO</span>    | Task run 'query_pool_snaps-60635b41-5' - Finished in state <span style=\"color: #008000; text-decoration-color: #008000\">Completed</span>()\n",
       "</pre>\n"
      ],
      "text/plain": [
       "10:29:08.936 | \u001b[36mINFO\u001b[0m    | Task run 'query_pool_snaps-60635b41-5' - Finished in state \u001b[32mCompleted\u001b[0m()\n"
      ]
     },
     "metadata": {},
     "output_type": "display_data"
    },
    {
     "data": {
      "text/html": [
       "<pre style=\"white-space:pre;overflow-x:auto;line-height:normal;font-family:Menlo,'DejaVu Sans Mono',consolas,'Courier New',monospace\">10:29:08.941 | <span style=\"color: #008080; text-decoration-color: #008080\">INFO</span>    | Task run 'query_pool_snaps-60635b41-52' - Finished in state <span style=\"color: #008000; text-decoration-color: #008000\">Completed</span>()\n",
       "</pre>\n"
      ],
      "text/plain": [
       "10:29:08.941 | \u001b[36mINFO\u001b[0m    | Task run 'query_pool_snaps-60635b41-52' - Finished in state \u001b[32mCompleted\u001b[0m()\n"
      ]
     },
     "metadata": {},
     "output_type": "display_data"
    },
    {
     "data": {
      "text/html": [
       "<pre style=\"white-space:pre;overflow-x:auto;line-height:normal;font-family:Menlo,'DejaVu Sans Mono',consolas,'Courier New',monospace\">10:29:08.947 | <span style=\"color: #008080; text-decoration-color: #008080\">INFO</span>    | Task run 'query_pool_snaps-60635b41-6' - Finished in state <span style=\"color: #008000; text-decoration-color: #008000\">Completed</span>()\n",
       "</pre>\n"
      ],
      "text/plain": [
       "10:29:08.947 | \u001b[36mINFO\u001b[0m    | Task run 'query_pool_snaps-60635b41-6' - Finished in state \u001b[32mCompleted\u001b[0m()\n"
      ]
     },
     "metadata": {},
     "output_type": "display_data"
    },
    {
     "data": {
      "text/html": [
       "<pre style=\"white-space:pre;overflow-x:auto;line-height:normal;font-family:Menlo,'DejaVu Sans Mono',consolas,'Courier New',monospace\">10:29:08.959 | <span style=\"color: #008080; text-decoration-color: #008080\">INFO</span>    | Task run 'query_pool_snaps-60635b41-50' - Finished in state <span style=\"color: #008000; text-decoration-color: #008000\">Completed</span>()\n",
       "</pre>\n"
      ],
      "text/plain": [
       "10:29:08.959 | \u001b[36mINFO\u001b[0m    | Task run 'query_pool_snaps-60635b41-50' - Finished in state \u001b[32mCompleted\u001b[0m()\n"
      ]
     },
     "metadata": {},
     "output_type": "display_data"
    },
    {
     "data": {
      "text/html": [
       "<pre style=\"white-space:pre;overflow-x:auto;line-height:normal;font-family:Menlo,'DejaVu Sans Mono',consolas,'Courier New',monospace\">10:29:08.967 | <span style=\"color: #008080; text-decoration-color: #008080\">INFO</span>    | Task run 'query_pool_snaps-60635b41-48' - Finished in state <span style=\"color: #008000; text-decoration-color: #008000\">Completed</span>()\n",
       "</pre>\n"
      ],
      "text/plain": [
       "10:29:08.967 | \u001b[36mINFO\u001b[0m    | Task run 'query_pool_snaps-60635b41-48' - Finished in state \u001b[32mCompleted\u001b[0m()\n"
      ]
     },
     "metadata": {},
     "output_type": "display_data"
    },
    {
     "data": {
      "text/html": [
       "<pre style=\"white-space:pre;overflow-x:auto;line-height:normal;font-family:Menlo,'DejaVu Sans Mono',consolas,'Courier New',monospace\">10:29:08.988 | <span style=\"color: #008080; text-decoration-color: #008080\">INFO</span>    | Flow run<span style=\"color: #800080; text-decoration-color: #800080\"> 'magnificent-leopard'</span> - Created task run 'query_pool_vol-8bdd8db3-19' for task 'query_pool_vol'\n",
       "</pre>\n"
      ],
      "text/plain": [
       "10:29:08.988 | \u001b[36mINFO\u001b[0m    | Flow run\u001b[35m 'magnificent-leopard'\u001b[0m - Created task run 'query_pool_vol-8bdd8db3-19' for task 'query_pool_vol'\n"
      ]
     },
     "metadata": {},
     "output_type": "display_data"
    },
    {
     "data": {
      "text/html": [
       "<pre style=\"white-space:pre;overflow-x:auto;line-height:normal;font-family:Menlo,'DejaVu Sans Mono',consolas,'Courier New',monospace\">10:29:08.989 | <span style=\"color: #008080; text-decoration-color: #008080\">INFO</span>    | Flow run<span style=\"color: #800080; text-decoration-color: #800080\"> 'magnificent-leopard'</span> - Submitted task run 'query_pool_vol-8bdd8db3-19' for execution.\n",
       "</pre>\n"
      ],
      "text/plain": [
       "10:29:08.989 | \u001b[36mINFO\u001b[0m    | Flow run\u001b[35m 'magnificent-leopard'\u001b[0m - Submitted task run 'query_pool_vol-8bdd8db3-19' for execution.\n"
      ]
     },
     "metadata": {},
     "output_type": "display_data"
    },
    {
     "data": {
      "text/html": [
       "<pre style=\"white-space:pre;overflow-x:auto;line-height:normal;font-family:Menlo,'DejaVu Sans Mono',consolas,'Courier New',monospace\">10:29:09.008 | <span style=\"color: #008080; text-decoration-color: #008080\">INFO</span>    | Task run 'query_pool_snaps-60635b41-10' - Finished in state <span style=\"color: #008000; text-decoration-color: #008000\">Completed</span>()\n",
       "</pre>\n"
      ],
      "text/plain": [
       "10:29:09.008 | \u001b[36mINFO\u001b[0m    | Task run 'query_pool_snaps-60635b41-10' - Finished in state \u001b[32mCompleted\u001b[0m()\n"
      ]
     },
     "metadata": {},
     "output_type": "display_data"
    },
    {
     "data": {
      "text/html": [
       "<pre style=\"white-space:pre;overflow-x:auto;line-height:normal;font-family:Menlo,'DejaVu Sans Mono',consolas,'Courier New',monospace\">10:29:09.027 | <span style=\"color: #008080; text-decoration-color: #008080\">INFO</span>    | Task run 'query_pool_snaps-60635b41-59' - Finished in state <span style=\"color: #008000; text-decoration-color: #008000\">Completed</span>()\n",
       "</pre>\n"
      ],
      "text/plain": [
       "10:29:09.027 | \u001b[36mINFO\u001b[0m    | Task run 'query_pool_snaps-60635b41-59' - Finished in state \u001b[32mCompleted\u001b[0m()\n"
      ]
     },
     "metadata": {},
     "output_type": "display_data"
    },
    {
     "data": {
      "text/html": [
       "<pre style=\"white-space:pre;overflow-x:auto;line-height:normal;font-family:Menlo,'DejaVu Sans Mono',consolas,'Courier New',monospace\">10:29:09.035 | <span style=\"color: #008080; text-decoration-color: #008080\">INFO</span>    | Flow run<span style=\"color: #800080; text-decoration-color: #800080\"> 'magnificent-leopard'</span> - Created task run 'query_pool_snaps-60635b41-27' for task 'query_pool_snaps'\n",
       "</pre>\n"
      ],
      "text/plain": [
       "10:29:09.035 | \u001b[36mINFO\u001b[0m    | Flow run\u001b[35m 'magnificent-leopard'\u001b[0m - Created task run 'query_pool_snaps-60635b41-27' for task 'query_pool_snaps'\n"
      ]
     },
     "metadata": {},
     "output_type": "display_data"
    },
    {
     "data": {
      "text/html": [
       "<pre style=\"white-space:pre;overflow-x:auto;line-height:normal;font-family:Menlo,'DejaVu Sans Mono',consolas,'Courier New',monospace\">10:29:09.036 | <span style=\"color: #008080; text-decoration-color: #008080\">INFO</span>    | Flow run<span style=\"color: #800080; text-decoration-color: #800080\"> 'magnificent-leopard'</span> - Submitted task run 'query_pool_snaps-60635b41-27' for execution.\n",
       "</pre>\n"
      ],
      "text/plain": [
       "10:29:09.036 | \u001b[36mINFO\u001b[0m    | Flow run\u001b[35m 'magnificent-leopard'\u001b[0m - Submitted task run 'query_pool_snaps-60635b41-27' for execution.\n"
      ]
     },
     "metadata": {},
     "output_type": "display_data"
    },
    {
     "data": {
      "text/html": [
       "<pre style=\"white-space:pre;overflow-x:auto;line-height:normal;font-family:Menlo,'DejaVu Sans Mono',consolas,'Courier New',monospace\">10:29:09.045 | <span style=\"color: #008080; text-decoration-color: #008080\">INFO</span>    | Flow run<span style=\"color: #800080; text-decoration-color: #800080\"> 'magnificent-leopard'</span> - Created task run 'query_pool_snaps-60635b41-47' for task 'query_pool_snaps'\n",
       "</pre>\n"
      ],
      "text/plain": [
       "10:29:09.045 | \u001b[36mINFO\u001b[0m    | Flow run\u001b[35m 'magnificent-leopard'\u001b[0m - Created task run 'query_pool_snaps-60635b41-47' for task 'query_pool_snaps'\n"
      ]
     },
     "metadata": {},
     "output_type": "display_data"
    },
    {
     "data": {
      "text/html": [
       "<pre style=\"white-space:pre;overflow-x:auto;line-height:normal;font-family:Menlo,'DejaVu Sans Mono',consolas,'Courier New',monospace\">10:29:09.046 | <span style=\"color: #008080; text-decoration-color: #008080\">INFO</span>    | Flow run<span style=\"color: #800080; text-decoration-color: #800080\"> 'magnificent-leopard'</span> - Submitted task run 'query_pool_snaps-60635b41-47' for execution.\n",
       "</pre>\n"
      ],
      "text/plain": [
       "10:29:09.046 | \u001b[36mINFO\u001b[0m    | Flow run\u001b[35m 'magnificent-leopard'\u001b[0m - Submitted task run 'query_pool_snaps-60635b41-47' for execution.\n"
      ]
     },
     "metadata": {},
     "output_type": "display_data"
    },
    {
     "data": {
      "text/html": [
       "<pre style=\"white-space:pre;overflow-x:auto;line-height:normal;font-family:Menlo,'DejaVu Sans Mono',consolas,'Courier New',monospace\">10:29:09.056 | <span style=\"color: #008080; text-decoration-color: #008080\">INFO</span>    | Task run 'query_pool_vol-8bdd8db3-61' - Finished in state <span style=\"color: #008000; text-decoration-color: #008000\">Completed</span>()\n",
       "</pre>\n"
      ],
      "text/plain": [
       "10:29:09.056 | \u001b[36mINFO\u001b[0m    | Task run 'query_pool_vol-8bdd8db3-61' - Finished in state \u001b[32mCompleted\u001b[0m()\n"
      ]
     },
     "metadata": {},
     "output_type": "display_data"
    },
    {
     "data": {
      "text/html": [
       "<pre style=\"white-space:pre;overflow-x:auto;line-height:normal;font-family:Menlo,'DejaVu Sans Mono',consolas,'Courier New',monospace\">10:29:09.092 | <span style=\"color: #008080; text-decoration-color: #008080\">INFO</span>    | Task run 'query_pool_vol-8bdd8db3-60' - Finished in state <span style=\"color: #008000; text-decoration-color: #008000\">Completed</span>()\n",
       "</pre>\n"
      ],
      "text/plain": [
       "10:29:09.092 | \u001b[36mINFO\u001b[0m    | Task run 'query_pool_vol-8bdd8db3-60' - Finished in state \u001b[32mCompleted\u001b[0m()\n"
      ]
     },
     "metadata": {},
     "output_type": "display_data"
    },
    {
     "data": {
      "text/html": [
       "<pre style=\"white-space:pre;overflow-x:auto;line-height:normal;font-family:Menlo,'DejaVu Sans Mono',consolas,'Courier New',monospace\">10:29:09.110 | <span style=\"color: #008080; text-decoration-color: #008080\">INFO</span>    | Task run 'query_pool_snaps-60635b41-14' - Finished in state <span style=\"color: #008000; text-decoration-color: #008000\">Completed</span>()\n",
       "</pre>\n"
      ],
      "text/plain": [
       "10:29:09.110 | \u001b[36mINFO\u001b[0m    | Task run 'query_pool_snaps-60635b41-14' - Finished in state \u001b[32mCompleted\u001b[0m()\n"
      ]
     },
     "metadata": {},
     "output_type": "display_data"
    },
    {
     "data": {
      "text/html": [
       "<pre style=\"white-space:pre;overflow-x:auto;line-height:normal;font-family:Menlo,'DejaVu Sans Mono',consolas,'Courier New',monospace\">10:29:09.265 | <span style=\"color: #008080; text-decoration-color: #008080\">INFO</span>    | Flow run<span style=\"color: #800080; text-decoration-color: #800080\"> 'magnificent-leopard'</span> - Created task run 'query_pool_snaps-60635b41-44' for task 'query_pool_snaps'\n",
       "</pre>\n"
      ],
      "text/plain": [
       "10:29:09.265 | \u001b[36mINFO\u001b[0m    | Flow run\u001b[35m 'magnificent-leopard'\u001b[0m - Created task run 'query_pool_snaps-60635b41-44' for task 'query_pool_snaps'\n"
      ]
     },
     "metadata": {},
     "output_type": "display_data"
    },
    {
     "data": {
      "text/html": [
       "<pre style=\"white-space:pre;overflow-x:auto;line-height:normal;font-family:Menlo,'DejaVu Sans Mono',consolas,'Courier New',monospace\">10:29:09.266 | <span style=\"color: #008080; text-decoration-color: #008080\">INFO</span>    | Flow run<span style=\"color: #800080; text-decoration-color: #800080\"> 'magnificent-leopard'</span> - Submitted task run 'query_pool_snaps-60635b41-44' for execution.\n",
       "</pre>\n"
      ],
      "text/plain": [
       "10:29:09.266 | \u001b[36mINFO\u001b[0m    | Flow run\u001b[35m 'magnificent-leopard'\u001b[0m - Submitted task run 'query_pool_snaps-60635b41-44' for execution.\n"
      ]
     },
     "metadata": {},
     "output_type": "display_data"
    },
    {
     "data": {
      "text/html": [
       "<pre style=\"white-space:pre;overflow-x:auto;line-height:normal;font-family:Menlo,'DejaVu Sans Mono',consolas,'Courier New',monospace\">10:29:09.287 | <span style=\"color: #008080; text-decoration-color: #008080\">INFO</span>    | Task run 'query_pool_snaps-60635b41-22' - Finished in state <span style=\"color: #008000; text-decoration-color: #008000\">Completed</span>()\n",
       "</pre>\n"
      ],
      "text/plain": [
       "10:29:09.287 | \u001b[36mINFO\u001b[0m    | Task run 'query_pool_snaps-60635b41-22' - Finished in state \u001b[32mCompleted\u001b[0m()\n"
      ]
     },
     "metadata": {},
     "output_type": "display_data"
    },
    {
     "data": {
      "text/html": [
       "<pre style=\"white-space:pre;overflow-x:auto;line-height:normal;font-family:Menlo,'DejaVu Sans Mono',consolas,'Courier New',monospace\">10:29:09.293 | <span style=\"color: #008080; text-decoration-color: #008080\">INFO</span>    | Task run 'query_pool_vol-8bdd8db3-55' - Finished in state <span style=\"color: #008000; text-decoration-color: #008000\">Completed</span>()\n",
       "</pre>\n"
      ],
      "text/plain": [
       "10:29:09.293 | \u001b[36mINFO\u001b[0m    | Task run 'query_pool_vol-8bdd8db3-55' - Finished in state \u001b[32mCompleted\u001b[0m()\n"
      ]
     },
     "metadata": {},
     "output_type": "display_data"
    },
    {
     "data": {
      "text/html": [
       "<pre style=\"white-space:pre;overflow-x:auto;line-height:normal;font-family:Menlo,'DejaVu Sans Mono',consolas,'Courier New',monospace\">10:29:09.312 | <span style=\"color: #008080; text-decoration-color: #008080\">INFO</span>    | Task run 'query_pool_snaps-60635b41-3' - Finished in state <span style=\"color: #008000; text-decoration-color: #008000\">Completed</span>()\n",
       "</pre>\n"
      ],
      "text/plain": [
       "10:29:09.312 | \u001b[36mINFO\u001b[0m    | Task run 'query_pool_snaps-60635b41-3' - Finished in state \u001b[32mCompleted\u001b[0m()\n"
      ]
     },
     "metadata": {},
     "output_type": "display_data"
    },
    {
     "data": {
      "text/html": [
       "<pre style=\"white-space:pre;overflow-x:auto;line-height:normal;font-family:Menlo,'DejaVu Sans Mono',consolas,'Courier New',monospace\">10:29:09.324 | <span style=\"color: #008080; text-decoration-color: #008080\">INFO</span>    | Task run 'query_pool_snaps-60635b41-54' - Finished in state <span style=\"color: #008000; text-decoration-color: #008000\">Completed</span>()\n",
       "</pre>\n"
      ],
      "text/plain": [
       "10:29:09.324 | \u001b[36mINFO\u001b[0m    | Task run 'query_pool_snaps-60635b41-54' - Finished in state \u001b[32mCompleted\u001b[0m()\n"
      ]
     },
     "metadata": {},
     "output_type": "display_data"
    },
    {
     "data": {
      "text/html": [
       "<pre style=\"white-space:pre;overflow-x:auto;line-height:normal;font-family:Menlo,'DejaVu Sans Mono',consolas,'Courier New',monospace\">10:29:09.330 | <span style=\"color: #008080; text-decoration-color: #008080\">INFO</span>    | Task run 'query_pool_vol-8bdd8db3-5' - Finished in state <span style=\"color: #008000; text-decoration-color: #008000\">Completed</span>()\n",
       "</pre>\n"
      ],
      "text/plain": [
       "10:29:09.330 | \u001b[36mINFO\u001b[0m    | Task run 'query_pool_vol-8bdd8db3-5' - Finished in state \u001b[32mCompleted\u001b[0m()\n"
      ]
     },
     "metadata": {},
     "output_type": "display_data"
    },
    {
     "data": {
      "text/html": [
       "<pre style=\"white-space:pre;overflow-x:auto;line-height:normal;font-family:Menlo,'DejaVu Sans Mono',consolas,'Courier New',monospace\">10:29:09.385 | <span style=\"color: #008080; text-decoration-color: #008080\">INFO</span>    | Task run 'query_pool_snaps-60635b41-11' - Finished in state <span style=\"color: #008000; text-decoration-color: #008000\">Completed</span>()\n",
       "</pre>\n"
      ],
      "text/plain": [
       "10:29:09.385 | \u001b[36mINFO\u001b[0m    | Task run 'query_pool_snaps-60635b41-11' - Finished in state \u001b[32mCompleted\u001b[0m()\n"
      ]
     },
     "metadata": {},
     "output_type": "display_data"
    },
    {
     "data": {
      "text/html": [
       "<pre style=\"white-space:pre;overflow-x:auto;line-height:normal;font-family:Menlo,'DejaVu Sans Mono',consolas,'Courier New',monospace\">10:29:09.407 | <span style=\"color: #008080; text-decoration-color: #008080\">INFO</span>    | Task run 'query_pool_snaps-60635b41-49' - Finished in state <span style=\"color: #008000; text-decoration-color: #008000\">Completed</span>()\n",
       "</pre>\n"
      ],
      "text/plain": [
       "10:29:09.407 | \u001b[36mINFO\u001b[0m    | Task run 'query_pool_snaps-60635b41-49' - Finished in state \u001b[32mCompleted\u001b[0m()\n"
      ]
     },
     "metadata": {},
     "output_type": "display_data"
    },
    {
     "data": {
      "text/html": [
       "<pre style=\"white-space:pre;overflow-x:auto;line-height:normal;font-family:Menlo,'DejaVu Sans Mono',consolas,'Courier New',monospace\">10:29:09.412 | <span style=\"color: #008080; text-decoration-color: #008080\">INFO</span>    | Task run 'query_pool_snaps-60635b41-40' - Finished in state <span style=\"color: #008000; text-decoration-color: #008000\">Completed</span>()\n",
       "</pre>\n"
      ],
      "text/plain": [
       "10:29:09.412 | \u001b[36mINFO\u001b[0m    | Task run 'query_pool_snaps-60635b41-40' - Finished in state \u001b[32mCompleted\u001b[0m()\n"
      ]
     },
     "metadata": {},
     "output_type": "display_data"
    },
    {
     "data": {
      "text/html": [
       "<pre style=\"white-space:pre;overflow-x:auto;line-height:normal;font-family:Menlo,'DejaVu Sans Mono',consolas,'Courier New',monospace\">10:29:09.424 | <span style=\"color: #008080; text-decoration-color: #008080\">INFO</span>    | Task run 'query_pool_snaps-60635b41-26' - Finished in state <span style=\"color: #008000; text-decoration-color: #008000\">Completed</span>()\n",
       "</pre>\n"
      ],
      "text/plain": [
       "10:29:09.424 | \u001b[36mINFO\u001b[0m    | Task run 'query_pool_snaps-60635b41-26' - Finished in state \u001b[32mCompleted\u001b[0m()\n"
      ]
     },
     "metadata": {},
     "output_type": "display_data"
    },
    {
     "data": {
      "text/html": [
       "<pre style=\"white-space:pre;overflow-x:auto;line-height:normal;font-family:Menlo,'DejaVu Sans Mono',consolas,'Courier New',monospace\">10:29:09.432 | <span style=\"color: #008080; text-decoration-color: #008080\">INFO</span>    | Task run 'query_pool_snaps-60635b41-2' - Finished in state <span style=\"color: #008000; text-decoration-color: #008000\">Completed</span>()\n",
       "</pre>\n"
      ],
      "text/plain": [
       "10:29:09.432 | \u001b[36mINFO\u001b[0m    | Task run 'query_pool_snaps-60635b41-2' - Finished in state \u001b[32mCompleted\u001b[0m()\n"
      ]
     },
     "metadata": {},
     "output_type": "display_data"
    },
    {
     "data": {
      "text/html": [
       "<pre style=\"white-space:pre;overflow-x:auto;line-height:normal;font-family:Menlo,'DejaVu Sans Mono',consolas,'Courier New',monospace\">10:29:09.470 | <span style=\"color: #008080; text-decoration-color: #008080\">INFO</span>    | Task run 'query_pool_vol-8bdd8db3-32' - Finished in state <span style=\"color: #008000; text-decoration-color: #008000\">Completed</span>()\n",
       "</pre>\n"
      ],
      "text/plain": [
       "10:29:09.470 | \u001b[36mINFO\u001b[0m    | Task run 'query_pool_vol-8bdd8db3-32' - Finished in state \u001b[32mCompleted\u001b[0m()\n"
      ]
     },
     "metadata": {},
     "output_type": "display_data"
    },
    {
     "data": {
      "text/html": [
       "<pre style=\"white-space:pre;overflow-x:auto;line-height:normal;font-family:Menlo,'DejaVu Sans Mono',consolas,'Courier New',monospace\">10:29:09.492 | <span style=\"color: #008080; text-decoration-color: #008080\">INFO</span>    | Flow run<span style=\"color: #800080; text-decoration-color: #800080\"> 'magnificent-leopard'</span> - Created task run 'query_pool_snaps-60635b41-46' for task 'query_pool_snaps'\n",
       "</pre>\n"
      ],
      "text/plain": [
       "10:29:09.492 | \u001b[36mINFO\u001b[0m    | Flow run\u001b[35m 'magnificent-leopard'\u001b[0m - Created task run 'query_pool_snaps-60635b41-46' for task 'query_pool_snaps'\n"
      ]
     },
     "metadata": {},
     "output_type": "display_data"
    },
    {
     "data": {
      "text/html": [
       "<pre style=\"white-space:pre;overflow-x:auto;line-height:normal;font-family:Menlo,'DejaVu Sans Mono',consolas,'Courier New',monospace\">10:29:09.492 | <span style=\"color: #008080; text-decoration-color: #008080\">INFO</span>    | Flow run<span style=\"color: #800080; text-decoration-color: #800080\"> 'magnificent-leopard'</span> - Submitted task run 'query_pool_snaps-60635b41-46' for execution.\n",
       "</pre>\n"
      ],
      "text/plain": [
       "10:29:09.492 | \u001b[36mINFO\u001b[0m    | Flow run\u001b[35m 'magnificent-leopard'\u001b[0m - Submitted task run 'query_pool_snaps-60635b41-46' for execution.\n"
      ]
     },
     "metadata": {},
     "output_type": "display_data"
    },
    {
     "data": {
      "text/html": [
       "<pre style=\"white-space:pre;overflow-x:auto;line-height:normal;font-family:Menlo,'DejaVu Sans Mono',consolas,'Courier New',monospace\">10:29:09.513 | <span style=\"color: #008080; text-decoration-color: #008080\">INFO</span>    | Task run 'query_pool_vol-8bdd8db3-41' - Finished in state <span style=\"color: #008000; text-decoration-color: #008000\">Completed</span>()\n",
       "</pre>\n"
      ],
      "text/plain": [
       "10:29:09.513 | \u001b[36mINFO\u001b[0m    | Task run 'query_pool_vol-8bdd8db3-41' - Finished in state \u001b[32mCompleted\u001b[0m()\n"
      ]
     },
     "metadata": {},
     "output_type": "display_data"
    },
    {
     "data": {
      "text/html": [
       "<pre style=\"white-space:pre;overflow-x:auto;line-height:normal;font-family:Menlo,'DejaVu Sans Mono',consolas,'Courier New',monospace\">10:29:09.518 | <span style=\"color: #008080; text-decoration-color: #008080\">INFO</span>    | Task run 'query_pool_vol-8bdd8db3-34' - Finished in state <span style=\"color: #008000; text-decoration-color: #008000\">Completed</span>()\n",
       "</pre>\n"
      ],
      "text/plain": [
       "10:29:09.518 | \u001b[36mINFO\u001b[0m    | Task run 'query_pool_vol-8bdd8db3-34' - Finished in state \u001b[32mCompleted\u001b[0m()\n"
      ]
     },
     "metadata": {},
     "output_type": "display_data"
    },
    {
     "data": {
      "text/html": [
       "<pre style=\"white-space:pre;overflow-x:auto;line-height:normal;font-family:Menlo,'DejaVu Sans Mono',consolas,'Courier New',monospace\">10:29:09.558 | <span style=\"color: #008080; text-decoration-color: #008080\">INFO</span>    | Task run 'query_pool_vol-8bdd8db3-50' - Finished in state <span style=\"color: #008000; text-decoration-color: #008000\">Completed</span>()\n",
       "</pre>\n"
      ],
      "text/plain": [
       "10:29:09.558 | \u001b[36mINFO\u001b[0m    | Task run 'query_pool_vol-8bdd8db3-50' - Finished in state \u001b[32mCompleted\u001b[0m()\n"
      ]
     },
     "metadata": {},
     "output_type": "display_data"
    },
    {
     "data": {
      "text/html": [
       "<pre style=\"white-space:pre;overflow-x:auto;line-height:normal;font-family:Menlo,'DejaVu Sans Mono',consolas,'Courier New',monospace\">10:29:09.573 | <span style=\"color: #008080; text-decoration-color: #008080\">INFO</span>    | Task run 'query_pool_vol-8bdd8db3-43' - Finished in state <span style=\"color: #008000; text-decoration-color: #008000\">Completed</span>()\n",
       "</pre>\n"
      ],
      "text/plain": [
       "10:29:09.573 | \u001b[36mINFO\u001b[0m    | Task run 'query_pool_vol-8bdd8db3-43' - Finished in state \u001b[32mCompleted\u001b[0m()\n"
      ]
     },
     "metadata": {},
     "output_type": "display_data"
    },
    {
     "data": {
      "text/html": [
       "<pre style=\"white-space:pre;overflow-x:auto;line-height:normal;font-family:Menlo,'DejaVu Sans Mono',consolas,'Courier New',monospace\">10:29:09.625 | <span style=\"color: #008080; text-decoration-color: #008080\">INFO</span>    | Flow run<span style=\"color: #800080; text-decoration-color: #800080\"> 'magnificent-leopard'</span> - Created task run 'query_pool_snaps-60635b41-21' for task 'query_pool_snaps'\n",
       "</pre>\n"
      ],
      "text/plain": [
       "10:29:09.625 | \u001b[36mINFO\u001b[0m    | Flow run\u001b[35m 'magnificent-leopard'\u001b[0m - Created task run 'query_pool_snaps-60635b41-21' for task 'query_pool_snaps'\n"
      ]
     },
     "metadata": {},
     "output_type": "display_data"
    },
    {
     "data": {
      "text/html": [
       "<pre style=\"white-space:pre;overflow-x:auto;line-height:normal;font-family:Menlo,'DejaVu Sans Mono',consolas,'Courier New',monospace\">10:29:09.626 | <span style=\"color: #008080; text-decoration-color: #008080\">INFO</span>    | Flow run<span style=\"color: #800080; text-decoration-color: #800080\"> 'magnificent-leopard'</span> - Submitted task run 'query_pool_snaps-60635b41-21' for execution.\n",
       "</pre>\n"
      ],
      "text/plain": [
       "10:29:09.626 | \u001b[36mINFO\u001b[0m    | Flow run\u001b[35m 'magnificent-leopard'\u001b[0m - Submitted task run 'query_pool_snaps-60635b41-21' for execution.\n"
      ]
     },
     "metadata": {},
     "output_type": "display_data"
    },
    {
     "data": {
      "text/html": [
       "<pre style=\"white-space:pre;overflow-x:auto;line-height:normal;font-family:Menlo,'DejaVu Sans Mono',consolas,'Courier New',monospace\">10:29:09.671 | <span style=\"color: #008080; text-decoration-color: #008080\">INFO</span>    | Task run 'query_pool_snaps-60635b41-8' - Finished in state <span style=\"color: #008000; text-decoration-color: #008000\">Completed</span>()\n",
       "</pre>\n"
      ],
      "text/plain": [
       "10:29:09.671 | \u001b[36mINFO\u001b[0m    | Task run 'query_pool_snaps-60635b41-8' - Finished in state \u001b[32mCompleted\u001b[0m()\n"
      ]
     },
     "metadata": {},
     "output_type": "display_data"
    },
    {
     "data": {
      "text/html": [
       "<pre style=\"white-space:pre;overflow-x:auto;line-height:normal;font-family:Menlo,'DejaVu Sans Mono',consolas,'Courier New',monospace\">10:29:09.687 | <span style=\"color: #008080; text-decoration-color: #008080\">INFO</span>    | Task run 'query_pool_vol-8bdd8db3-14' - Finished in state <span style=\"color: #008000; text-decoration-color: #008000\">Completed</span>()\n",
       "</pre>\n"
      ],
      "text/plain": [
       "10:29:09.687 | \u001b[36mINFO\u001b[0m    | Task run 'query_pool_vol-8bdd8db3-14' - Finished in state \u001b[32mCompleted\u001b[0m()\n"
      ]
     },
     "metadata": {},
     "output_type": "display_data"
    },
    {
     "data": {
      "text/html": [
       "<pre style=\"white-space:pre;overflow-x:auto;line-height:normal;font-family:Menlo,'DejaVu Sans Mono',consolas,'Courier New',monospace\">10:29:09.692 | <span style=\"color: #008080; text-decoration-color: #008080\">INFO</span>    | Task run 'query_pool_vol-8bdd8db3-27' - Finished in state <span style=\"color: #008000; text-decoration-color: #008000\">Completed</span>()\n",
       "</pre>\n"
      ],
      "text/plain": [
       "10:29:09.692 | \u001b[36mINFO\u001b[0m    | Task run 'query_pool_vol-8bdd8db3-27' - Finished in state \u001b[32mCompleted\u001b[0m()\n"
      ]
     },
     "metadata": {},
     "output_type": "display_data"
    },
    {
     "data": {
      "text/html": [
       "<pre style=\"white-space:pre;overflow-x:auto;line-height:normal;font-family:Menlo,'DejaVu Sans Mono',consolas,'Courier New',monospace\">10:29:09.720 | <span style=\"color: #008080; text-decoration-color: #008080\">INFO</span>    | Task run 'query_pool_snaps-60635b41-18' - Finished in state <span style=\"color: #008000; text-decoration-color: #008000\">Completed</span>()\n",
       "</pre>\n"
      ],
      "text/plain": [
       "10:29:09.720 | \u001b[36mINFO\u001b[0m    | Task run 'query_pool_snaps-60635b41-18' - Finished in state \u001b[32mCompleted\u001b[0m()\n"
      ]
     },
     "metadata": {},
     "output_type": "display_data"
    },
    {
     "data": {
      "text/html": [
       "<pre style=\"white-space:pre;overflow-x:auto;line-height:normal;font-family:Menlo,'DejaVu Sans Mono',consolas,'Courier New',monospace\">10:29:09.728 | <span style=\"color: #008080; text-decoration-color: #008080\">INFO</span>    | Task run 'query_pool_snaps-60635b41-45' - Finished in state <span style=\"color: #008000; text-decoration-color: #008000\">Completed</span>()\n",
       "</pre>\n"
      ],
      "text/plain": [
       "10:29:09.728 | \u001b[36mINFO\u001b[0m    | Task run 'query_pool_snaps-60635b41-45' - Finished in state \u001b[32mCompleted\u001b[0m()\n"
      ]
     },
     "metadata": {},
     "output_type": "display_data"
    },
    {
     "data": {
      "text/html": [
       "<pre style=\"white-space:pre;overflow-x:auto;line-height:normal;font-family:Menlo,'DejaVu Sans Mono',consolas,'Courier New',monospace\">10:29:09.756 | <span style=\"color: #008080; text-decoration-color: #008080\">INFO</span>    | Task run 'query_pool_vol-8bdd8db3-23' - Finished in state <span style=\"color: #008000; text-decoration-color: #008000\">Completed</span>()\n",
       "</pre>\n"
      ],
      "text/plain": [
       "10:29:09.756 | \u001b[36mINFO\u001b[0m    | Task run 'query_pool_vol-8bdd8db3-23' - Finished in state \u001b[32mCompleted\u001b[0m()\n"
      ]
     },
     "metadata": {},
     "output_type": "display_data"
    },
    {
     "data": {
      "text/html": [
       "<pre style=\"white-space:pre;overflow-x:auto;line-height:normal;font-family:Menlo,'DejaVu Sans Mono',consolas,'Courier New',monospace\">10:29:09.826 | <span style=\"color: #008080; text-decoration-color: #008080\">INFO</span>    | Task run 'query_pool_snaps-60635b41-13' - Finished in state <span style=\"color: #008000; text-decoration-color: #008000\">Completed</span>()\n",
       "</pre>\n"
      ],
      "text/plain": [
       "10:29:09.826 | \u001b[36mINFO\u001b[0m    | Task run 'query_pool_snaps-60635b41-13' - Finished in state \u001b[32mCompleted\u001b[0m()\n"
      ]
     },
     "metadata": {},
     "output_type": "display_data"
    },
    {
     "data": {
      "text/html": [
       "<pre style=\"white-space:pre;overflow-x:auto;line-height:normal;font-family:Menlo,'DejaVu Sans Mono',consolas,'Courier New',monospace\">10:29:09.926 | <span style=\"color: #008080; text-decoration-color: #008080\">INFO</span>    | Task run 'query_pool_snaps-60635b41-38' - Finished in state <span style=\"color: #008000; text-decoration-color: #008000\">Completed</span>()\n",
       "</pre>\n"
      ],
      "text/plain": [
       "10:29:09.926 | \u001b[36mINFO\u001b[0m    | Task run 'query_pool_snaps-60635b41-38' - Finished in state \u001b[32mCompleted\u001b[0m()\n"
      ]
     },
     "metadata": {},
     "output_type": "display_data"
    },
    {
     "data": {
      "text/html": [
       "<pre style=\"white-space:pre;overflow-x:auto;line-height:normal;font-family:Menlo,'DejaVu Sans Mono',consolas,'Courier New',monospace\">10:29:10.033 | <span style=\"color: #008080; text-decoration-color: #008080\">INFO</span>    | Task run 'query_pool_vol-8bdd8db3-29' - Finished in state <span style=\"color: #008000; text-decoration-color: #008000\">Completed</span>()\n",
       "</pre>\n"
      ],
      "text/plain": [
       "10:29:10.033 | \u001b[36mINFO\u001b[0m    | Task run 'query_pool_vol-8bdd8db3-29' - Finished in state \u001b[32mCompleted\u001b[0m()\n"
      ]
     },
     "metadata": {},
     "output_type": "display_data"
    },
    {
     "data": {
      "text/html": [
       "<pre style=\"white-space:pre;overflow-x:auto;line-height:normal;font-family:Menlo,'DejaVu Sans Mono',consolas,'Courier New',monospace\">10:29:10.108 | <span style=\"color: #008080; text-decoration-color: #008080\">INFO</span>    | Task run 'query_pool_vol-8bdd8db3-46' - Finished in state <span style=\"color: #008000; text-decoration-color: #008000\">Completed</span>()\n",
       "</pre>\n"
      ],
      "text/plain": [
       "10:29:10.108 | \u001b[36mINFO\u001b[0m    | Task run 'query_pool_vol-8bdd8db3-46' - Finished in state \u001b[32mCompleted\u001b[0m()\n"
      ]
     },
     "metadata": {},
     "output_type": "display_data"
    },
    {
     "data": {
      "text/html": [
       "<pre style=\"white-space:pre;overflow-x:auto;line-height:normal;font-family:Menlo,'DejaVu Sans Mono',consolas,'Courier New',monospace\">10:29:10.423 | <span style=\"color: #008080; text-decoration-color: #008080\">INFO</span>    | Task run 'query_pool_snaps-60635b41-35' - Finished in state <span style=\"color: #008000; text-decoration-color: #008000\">Completed</span>()\n",
       "</pre>\n"
      ],
      "text/plain": [
       "10:29:10.423 | \u001b[36mINFO\u001b[0m    | Task run 'query_pool_snaps-60635b41-35' - Finished in state \u001b[32mCompleted\u001b[0m()\n"
      ]
     },
     "metadata": {},
     "output_type": "display_data"
    },
    {
     "data": {
      "text/html": [
       "<pre style=\"white-space:pre;overflow-x:auto;line-height:normal;font-family:Menlo,'DejaVu Sans Mono',consolas,'Courier New',monospace\">10:29:10.428 | <span style=\"color: #008080; text-decoration-color: #008080\">INFO</span>    | Task run 'query_pool_vol-8bdd8db3-57' - Finished in state <span style=\"color: #008000; text-decoration-color: #008000\">Completed</span>()\n",
       "</pre>\n"
      ],
      "text/plain": [
       "10:29:10.428 | \u001b[36mINFO\u001b[0m    | Task run 'query_pool_vol-8bdd8db3-57' - Finished in state \u001b[32mCompleted\u001b[0m()\n"
      ]
     },
     "metadata": {},
     "output_type": "display_data"
    },
    {
     "data": {
      "text/html": [
       "<pre style=\"white-space:pre;overflow-x:auto;line-height:normal;font-family:Menlo,'DejaVu Sans Mono',consolas,'Courier New',monospace\">10:29:10.435 | <span style=\"color: #008080; text-decoration-color: #008080\">INFO</span>    | Task run 'query_pool_snaps-60635b41-17' - Finished in state <span style=\"color: #008000; text-decoration-color: #008000\">Completed</span>()\n",
       "</pre>\n"
      ],
      "text/plain": [
       "10:29:10.435 | \u001b[36mINFO\u001b[0m    | Task run 'query_pool_snaps-60635b41-17' - Finished in state \u001b[32mCompleted\u001b[0m()\n"
      ]
     },
     "metadata": {},
     "output_type": "display_data"
    },
    {
     "data": {
      "text/html": [
       "<pre style=\"white-space:pre;overflow-x:auto;line-height:normal;font-family:Menlo,'DejaVu Sans Mono',consolas,'Courier New',monospace\">10:29:10.643 | <span style=\"color: #008080; text-decoration-color: #008080\">INFO</span>    | Task run 'query_pool_snaps-60635b41-27' - Finished in state <span style=\"color: #008000; text-decoration-color: #008000\">Completed</span>()\n",
       "</pre>\n"
      ],
      "text/plain": [
       "10:29:10.643 | \u001b[36mINFO\u001b[0m    | Task run 'query_pool_snaps-60635b41-27' - Finished in state \u001b[32mCompleted\u001b[0m()\n"
      ]
     },
     "metadata": {},
     "output_type": "display_data"
    },
    {
     "data": {
      "text/html": [
       "<pre style=\"white-space:pre;overflow-x:auto;line-height:normal;font-family:Menlo,'DejaVu Sans Mono',consolas,'Courier New',monospace\">10:29:10.648 | <span style=\"color: #008080; text-decoration-color: #008080\">INFO</span>    | Task run 'query_pool_snaps-60635b41-47' - Finished in state <span style=\"color: #008000; text-decoration-color: #008000\">Completed</span>()\n",
       "</pre>\n"
      ],
      "text/plain": [
       "10:29:10.648 | \u001b[36mINFO\u001b[0m    | Task run 'query_pool_snaps-60635b41-47' - Finished in state \u001b[32mCompleted\u001b[0m()\n"
      ]
     },
     "metadata": {},
     "output_type": "display_data"
    },
    {
     "data": {
      "text/html": [
       "<pre style=\"white-space:pre;overflow-x:auto;line-height:normal;font-family:Menlo,'DejaVu Sans Mono',consolas,'Courier New',monospace\">10:29:10.889 | <span style=\"color: #008080; text-decoration-color: #008080\">INFO</span>    | Task run 'query_pool_snaps-60635b41-21' - Finished in state <span style=\"color: #008000; text-decoration-color: #008000\">Completed</span>()\n",
       "</pre>\n"
      ],
      "text/plain": [
       "10:29:10.889 | \u001b[36mINFO\u001b[0m    | Task run 'query_pool_snaps-60635b41-21' - Finished in state \u001b[32mCompleted\u001b[0m()\n"
      ]
     },
     "metadata": {},
     "output_type": "display_data"
    },
    {
     "data": {
      "text/html": [
       "<pre style=\"white-space:pre;overflow-x:auto;line-height:normal;font-family:Menlo,'DejaVu Sans Mono',consolas,'Courier New',monospace\">10:29:11.095 | <span style=\"color: #008080; text-decoration-color: #008080\">INFO</span>    | Task run 'query_pool_snaps-60635b41-44' - Finished in state <span style=\"color: #008000; text-decoration-color: #008000\">Completed</span>()\n",
       "</pre>\n"
      ],
      "text/plain": [
       "10:29:11.095 | \u001b[36mINFO\u001b[0m    | Task run 'query_pool_snaps-60635b41-44' - Finished in state \u001b[32mCompleted\u001b[0m()\n"
      ]
     },
     "metadata": {},
     "output_type": "display_data"
    },
    {
     "data": {
      "text/html": [
       "<pre style=\"white-space:pre;overflow-x:auto;line-height:normal;font-family:Menlo,'DejaVu Sans Mono',consolas,'Courier New',monospace\">10:29:11.102 | <span style=\"color: #008080; text-decoration-color: #008080\">INFO</span>    | Task run 'query_pool_snaps-60635b41-37' - Finished in state <span style=\"color: #008000; text-decoration-color: #008000\">Completed</span>()\n",
       "</pre>\n"
      ],
      "text/plain": [
       "10:29:11.102 | \u001b[36mINFO\u001b[0m    | Task run 'query_pool_snaps-60635b41-37' - Finished in state \u001b[32mCompleted\u001b[0m()\n"
      ]
     },
     "metadata": {},
     "output_type": "display_data"
    },
    {
     "data": {
      "text/html": [
       "<pre style=\"white-space:pre;overflow-x:auto;line-height:normal;font-family:Menlo,'DejaVu Sans Mono',consolas,'Courier New',monospace\">10:29:11.109 | <span style=\"color: #008080; text-decoration-color: #008080\">INFO</span>    | Task run 'query_pool_snaps-60635b41-46' - Finished in state <span style=\"color: #008000; text-decoration-color: #008000\">Completed</span>()\n",
       "</pre>\n"
      ],
      "text/plain": [
       "10:29:11.109 | \u001b[36mINFO\u001b[0m    | Task run 'query_pool_snaps-60635b41-46' - Finished in state \u001b[32mCompleted\u001b[0m()\n"
      ]
     },
     "metadata": {},
     "output_type": "display_data"
    },
    {
     "data": {
      "text/html": [
       "<pre style=\"white-space:pre;overflow-x:auto;line-height:normal;font-family:Menlo,'DejaVu Sans Mono',consolas,'Courier New',monospace\">10:29:12.754 | <span style=\"color: #008080; text-decoration-color: #008080\">INFO</span>    | Task run 'query_pool_vol-8bdd8db3-19' - Finished in state <span style=\"color: #008000; text-decoration-color: #008000\">Completed</span>()\n",
       "</pre>\n"
      ],
      "text/plain": [
       "10:29:12.754 | \u001b[36mINFO\u001b[0m    | Task run 'query_pool_vol-8bdd8db3-19' - Finished in state \u001b[32mCompleted\u001b[0m()\n"
      ]
     },
     "metadata": {},
     "output_type": "display_data"
    },
    {
     "data": {
      "text/html": [
       "<pre style=\"white-space:pre;overflow-x:auto;line-height:normal;font-family:Menlo,'DejaVu Sans Mono',consolas,'Courier New',monospace\">10:29:12.760 | <span style=\"color: #008080; text-decoration-color: #008080\">INFO</span>    | Task run 'query_pool_vol-8bdd8db3-31' - Finished in state <span style=\"color: #008000; text-decoration-color: #008000\">Completed</span>()\n",
       "</pre>\n"
      ],
      "text/plain": [
       "10:29:12.760 | \u001b[36mINFO\u001b[0m    | Task run 'query_pool_vol-8bdd8db3-31' - Finished in state \u001b[32mCompleted\u001b[0m()\n"
      ]
     },
     "metadata": {},
     "output_type": "display_data"
    },
    {
     "data": {
      "text/html": [
       "<pre style=\"white-space:pre;overflow-x:auto;line-height:normal;font-family:Menlo,'DejaVu Sans Mono',consolas,'Courier New',monospace\">10:29:39.504 | <span style=\"color: #008080; text-decoration-color: #008080\">INFO</span>    | Task run 'query_pool_snaps-60635b41-12' - Finished in state <span style=\"color: #008000; text-decoration-color: #008000\">Completed</span>()\n",
       "</pre>\n"
      ],
      "text/plain": [
       "10:29:39.504 | \u001b[36mINFO\u001b[0m    | Task run 'query_pool_snaps-60635b41-12' - Finished in state \u001b[32mCompleted\u001b[0m()\n"
      ]
     },
     "metadata": {},
     "output_type": "display_data"
    },
    {
     "data": {
      "text/html": [
       "<pre style=\"white-space:pre;overflow-x:auto;line-height:normal;font-family:Menlo,'DejaVu Sans Mono',consolas,'Courier New',monospace\">10:29:40.550 | <span style=\"color: #008080; text-decoration-color: #008080\">INFO</span>    | Task run 'query_pool_snaps-60635b41-60' - Finished in state <span style=\"color: #008000; text-decoration-color: #008000\">Completed</span>()\n",
       "</pre>\n"
      ],
      "text/plain": [
       "10:29:40.550 | \u001b[36mINFO\u001b[0m    | Task run 'query_pool_snaps-60635b41-60' - Finished in state \u001b[32mCompleted\u001b[0m()\n"
      ]
     },
     "metadata": {},
     "output_type": "display_data"
    },
    {
     "data": {
      "text/html": [
       "<pre style=\"white-space:pre;overflow-x:auto;line-height:normal;font-family:Menlo,'DejaVu Sans Mono',consolas,'Courier New',monospace\">10:29:41.336 | <span style=\"color: #008080; text-decoration-color: #008080\">INFO</span>    | Task run 'query_pool_vol-8bdd8db3-16' - Finished in state <span style=\"color: #008000; text-decoration-color: #008000\">Completed</span>()\n",
       "</pre>\n"
      ],
      "text/plain": [
       "10:29:41.336 | \u001b[36mINFO\u001b[0m    | Task run 'query_pool_vol-8bdd8db3-16' - Finished in state \u001b[32mCompleted\u001b[0m()\n"
      ]
     },
     "metadata": {},
     "output_type": "display_data"
    },
    {
     "data": {
      "text/html": [
       "<pre style=\"white-space:pre;overflow-x:auto;line-height:normal;font-family:Menlo,'DejaVu Sans Mono',consolas,'Courier New',monospace\">10:29:41.349 | <span style=\"color: #008080; text-decoration-color: #008080\">INFO</span>    | Flow run<span style=\"color: #800080; text-decoration-color: #800080\"> 'magnificent-leopard'</span> - Created task run 'process_pool_snaps-bb91f77b-0' for task 'process_pool_snaps'\n",
       "</pre>\n"
      ],
      "text/plain": [
       "10:29:41.349 | \u001b[36mINFO\u001b[0m    | Flow run\u001b[35m 'magnificent-leopard'\u001b[0m - Created task run 'process_pool_snaps-bb91f77b-0' for task 'process_pool_snaps'\n"
      ]
     },
     "metadata": {},
     "output_type": "display_data"
    },
    {
     "data": {
      "text/html": [
       "<pre style=\"white-space:pre;overflow-x:auto;line-height:normal;font-family:Menlo,'DejaVu Sans Mono',consolas,'Courier New',monospace\">10:29:41.350 | <span style=\"color: #008080; text-decoration-color: #008080\">INFO</span>    | Flow run<span style=\"color: #800080; text-decoration-color: #800080\"> 'magnificent-leopard'</span> - Executing 'process_pool_snaps-bb91f77b-0' immediately...\n",
       "</pre>\n"
      ],
      "text/plain": [
       "10:29:41.350 | \u001b[36mINFO\u001b[0m    | Flow run\u001b[35m 'magnificent-leopard'\u001b[0m - Executing 'process_pool_snaps-bb91f77b-0' immediately...\n"
      ]
     },
     "metadata": {},
     "output_type": "display_data"
    },
    {
     "data": {
      "text/html": [
       "<pre style=\"white-space:pre;overflow-x:auto;line-height:normal;font-family:Menlo,'DejaVu Sans Mono',consolas,'Courier New',monospace\">10:29:41.371 | <span style=\"color: #008080; text-decoration-color: #008080\">INFO</span>    | Task run 'process_pool_snaps-bb91f77b-0' - Finished in state <span style=\"color: #008000; text-decoration-color: #008000\">Completed</span>()\n",
       "</pre>\n"
      ],
      "text/plain": [
       "10:29:41.371 | \u001b[36mINFO\u001b[0m    | Task run 'process_pool_snaps-bb91f77b-0' - Finished in state \u001b[32mCompleted\u001b[0m()\n"
      ]
     },
     "metadata": {},
     "output_type": "display_data"
    },
    {
     "data": {
      "text/html": [
       "<pre style=\"white-space:pre;overflow-x:auto;line-height:normal;font-family:Menlo,'DejaVu Sans Mono',consolas,'Courier New',monospace\">10:29:41.380 | <span style=\"color: #008080; text-decoration-color: #008080\">INFO</span>    | Flow run<span style=\"color: #800080; text-decoration-color: #800080\"> 'magnificent-leopard'</span> - Created task run 'process_pool_snaps-bb91f77b-1' for task 'process_pool_snaps'\n",
       "</pre>\n"
      ],
      "text/plain": [
       "10:29:41.380 | \u001b[36mINFO\u001b[0m    | Flow run\u001b[35m 'magnificent-leopard'\u001b[0m - Created task run 'process_pool_snaps-bb91f77b-1' for task 'process_pool_snaps'\n"
      ]
     },
     "metadata": {},
     "output_type": "display_data"
    },
    {
     "data": {
      "text/html": [
       "<pre style=\"white-space:pre;overflow-x:auto;line-height:normal;font-family:Menlo,'DejaVu Sans Mono',consolas,'Courier New',monospace\">10:29:41.381 | <span style=\"color: #008080; text-decoration-color: #008080\">INFO</span>    | Flow run<span style=\"color: #800080; text-decoration-color: #800080\"> 'magnificent-leopard'</span> - Executing 'process_pool_snaps-bb91f77b-1' immediately...\n",
       "</pre>\n"
      ],
      "text/plain": [
       "10:29:41.381 | \u001b[36mINFO\u001b[0m    | Flow run\u001b[35m 'magnificent-leopard'\u001b[0m - Executing 'process_pool_snaps-bb91f77b-1' immediately...\n"
      ]
     },
     "metadata": {},
     "output_type": "display_data"
    },
    {
     "data": {
      "text/html": [
       "<pre style=\"white-space:pre;overflow-x:auto;line-height:normal;font-family:Menlo,'DejaVu Sans Mono',consolas,'Courier New',monospace\">10:29:41.403 | <span style=\"color: #008080; text-decoration-color: #008080\">INFO</span>    | Task run 'process_pool_snaps-bb91f77b-1' - Finished in state <span style=\"color: #008000; text-decoration-color: #008000\">Completed</span>()\n",
       "</pre>\n"
      ],
      "text/plain": [
       "10:29:41.403 | \u001b[36mINFO\u001b[0m    | Task run 'process_pool_snaps-bb91f77b-1' - Finished in state \u001b[32mCompleted\u001b[0m()\n"
      ]
     },
     "metadata": {},
     "output_type": "display_data"
    },
    {
     "data": {
      "text/html": [
       "<pre style=\"white-space:pre;overflow-x:auto;line-height:normal;font-family:Menlo,'DejaVu Sans Mono',consolas,'Courier New',monospace\">10:29:41.412 | <span style=\"color: #008080; text-decoration-color: #008080\">INFO</span>    | Flow run<span style=\"color: #800080; text-decoration-color: #800080\"> 'magnificent-leopard'</span> - Created task run 'process_pool_snaps-bb91f77b-2' for task 'process_pool_snaps'\n",
       "</pre>\n"
      ],
      "text/plain": [
       "10:29:41.412 | \u001b[36mINFO\u001b[0m    | Flow run\u001b[35m 'magnificent-leopard'\u001b[0m - Created task run 'process_pool_snaps-bb91f77b-2' for task 'process_pool_snaps'\n"
      ]
     },
     "metadata": {},
     "output_type": "display_data"
    },
    {
     "data": {
      "text/html": [
       "<pre style=\"white-space:pre;overflow-x:auto;line-height:normal;font-family:Menlo,'DejaVu Sans Mono',consolas,'Courier New',monospace\">10:29:41.413 | <span style=\"color: #008080; text-decoration-color: #008080\">INFO</span>    | Flow run<span style=\"color: #800080; text-decoration-color: #800080\"> 'magnificent-leopard'</span> - Executing 'process_pool_snaps-bb91f77b-2' immediately...\n",
       "</pre>\n"
      ],
      "text/plain": [
       "10:29:41.413 | \u001b[36mINFO\u001b[0m    | Flow run\u001b[35m 'magnificent-leopard'\u001b[0m - Executing 'process_pool_snaps-bb91f77b-2' immediately...\n"
      ]
     },
     "metadata": {},
     "output_type": "display_data"
    },
    {
     "data": {
      "text/html": [
       "<pre style=\"white-space:pre;overflow-x:auto;line-height:normal;font-family:Menlo,'DejaVu Sans Mono',consolas,'Courier New',monospace\">10:29:41.437 | <span style=\"color: #008080; text-decoration-color: #008080\">INFO</span>    | Task run 'process_pool_snaps-bb91f77b-2' - Finished in state <span style=\"color: #008000; text-decoration-color: #008000\">Completed</span>()\n",
       "</pre>\n"
      ],
      "text/plain": [
       "10:29:41.437 | \u001b[36mINFO\u001b[0m    | Task run 'process_pool_snaps-bb91f77b-2' - Finished in state \u001b[32mCompleted\u001b[0m()\n"
      ]
     },
     "metadata": {},
     "output_type": "display_data"
    },
    {
     "data": {
      "text/html": [
       "<pre style=\"white-space:pre;overflow-x:auto;line-height:normal;font-family:Menlo,'DejaVu Sans Mono',consolas,'Courier New',monospace\">10:29:41.448 | <span style=\"color: #008080; text-decoration-color: #008080\">INFO</span>    | Flow run<span style=\"color: #800080; text-decoration-color: #800080\"> 'magnificent-leopard'</span> - Created task run 'process_pool_snaps-bb91f77b-3' for task 'process_pool_snaps'\n",
       "</pre>\n"
      ],
      "text/plain": [
       "10:29:41.448 | \u001b[36mINFO\u001b[0m    | Flow run\u001b[35m 'magnificent-leopard'\u001b[0m - Created task run 'process_pool_snaps-bb91f77b-3' for task 'process_pool_snaps'\n"
      ]
     },
     "metadata": {},
     "output_type": "display_data"
    },
    {
     "data": {
      "text/html": [
       "<pre style=\"white-space:pre;overflow-x:auto;line-height:normal;font-family:Menlo,'DejaVu Sans Mono',consolas,'Courier New',monospace\">10:29:41.448 | <span style=\"color: #008080; text-decoration-color: #008080\">INFO</span>    | Flow run<span style=\"color: #800080; text-decoration-color: #800080\"> 'magnificent-leopard'</span> - Executing 'process_pool_snaps-bb91f77b-3' immediately...\n",
       "</pre>\n"
      ],
      "text/plain": [
       "10:29:41.448 | \u001b[36mINFO\u001b[0m    | Flow run\u001b[35m 'magnificent-leopard'\u001b[0m - Executing 'process_pool_snaps-bb91f77b-3' immediately...\n"
      ]
     },
     "metadata": {},
     "output_type": "display_data"
    },
    {
     "data": {
      "text/html": [
       "<pre style=\"white-space:pre;overflow-x:auto;line-height:normal;font-family:Menlo,'DejaVu Sans Mono',consolas,'Courier New',monospace\">10:29:41.476 | <span style=\"color: #008080; text-decoration-color: #008080\">INFO</span>    | Task run 'process_pool_snaps-bb91f77b-3' - Finished in state <span style=\"color: #008000; text-decoration-color: #008000\">Completed</span>()\n",
       "</pre>\n"
      ],
      "text/plain": [
       "10:29:41.476 | \u001b[36mINFO\u001b[0m    | Task run 'process_pool_snaps-bb91f77b-3' - Finished in state \u001b[32mCompleted\u001b[0m()\n"
      ]
     },
     "metadata": {},
     "output_type": "display_data"
    },
    {
     "data": {
      "text/html": [
       "<pre style=\"white-space:pre;overflow-x:auto;line-height:normal;font-family:Menlo,'DejaVu Sans Mono',consolas,'Courier New',monospace\">10:29:41.485 | <span style=\"color: #008080; text-decoration-color: #008080\">INFO</span>    | Flow run<span style=\"color: #800080; text-decoration-color: #800080\"> 'magnificent-leopard'</span> - Created task run 'process_pool_snaps-bb91f77b-4' for task 'process_pool_snaps'\n",
       "</pre>\n"
      ],
      "text/plain": [
       "10:29:41.485 | \u001b[36mINFO\u001b[0m    | Flow run\u001b[35m 'magnificent-leopard'\u001b[0m - Created task run 'process_pool_snaps-bb91f77b-4' for task 'process_pool_snaps'\n"
      ]
     },
     "metadata": {},
     "output_type": "display_data"
    },
    {
     "data": {
      "text/html": [
       "<pre style=\"white-space:pre;overflow-x:auto;line-height:normal;font-family:Menlo,'DejaVu Sans Mono',consolas,'Courier New',monospace\">10:29:41.486 | <span style=\"color: #008080; text-decoration-color: #008080\">INFO</span>    | Flow run<span style=\"color: #800080; text-decoration-color: #800080\"> 'magnificent-leopard'</span> - Executing 'process_pool_snaps-bb91f77b-4' immediately...\n",
       "</pre>\n"
      ],
      "text/plain": [
       "10:29:41.486 | \u001b[36mINFO\u001b[0m    | Flow run\u001b[35m 'magnificent-leopard'\u001b[0m - Executing 'process_pool_snaps-bb91f77b-4' immediately...\n"
      ]
     },
     "metadata": {},
     "output_type": "display_data"
    },
    {
     "data": {
      "text/html": [
       "<pre style=\"white-space:pre;overflow-x:auto;line-height:normal;font-family:Menlo,'DejaVu Sans Mono',consolas,'Courier New',monospace\">10:29:41.508 | <span style=\"color: #008080; text-decoration-color: #008080\">INFO</span>    | Task run 'process_pool_snaps-bb91f77b-4' - Finished in state <span style=\"color: #008000; text-decoration-color: #008000\">Completed</span>()\n",
       "</pre>\n"
      ],
      "text/plain": [
       "10:29:41.508 | \u001b[36mINFO\u001b[0m    | Task run 'process_pool_snaps-bb91f77b-4' - Finished in state \u001b[32mCompleted\u001b[0m()\n"
      ]
     },
     "metadata": {},
     "output_type": "display_data"
    },
    {
     "data": {
      "text/html": [
       "<pre style=\"white-space:pre;overflow-x:auto;line-height:normal;font-family:Menlo,'DejaVu Sans Mono',consolas,'Courier New',monospace\">10:29:41.517 | <span style=\"color: #008080; text-decoration-color: #008080\">INFO</span>    | Flow run<span style=\"color: #800080; text-decoration-color: #800080\"> 'magnificent-leopard'</span> - Created task run 'process_pool_snaps-bb91f77b-5' for task 'process_pool_snaps'\n",
       "</pre>\n"
      ],
      "text/plain": [
       "10:29:41.517 | \u001b[36mINFO\u001b[0m    | Flow run\u001b[35m 'magnificent-leopard'\u001b[0m - Created task run 'process_pool_snaps-bb91f77b-5' for task 'process_pool_snaps'\n"
      ]
     },
     "metadata": {},
     "output_type": "display_data"
    },
    {
     "data": {
      "text/html": [
       "<pre style=\"white-space:pre;overflow-x:auto;line-height:normal;font-family:Menlo,'DejaVu Sans Mono',consolas,'Courier New',monospace\">10:29:41.517 | <span style=\"color: #008080; text-decoration-color: #008080\">INFO</span>    | Flow run<span style=\"color: #800080; text-decoration-color: #800080\"> 'magnificent-leopard'</span> - Executing 'process_pool_snaps-bb91f77b-5' immediately...\n",
       "</pre>\n"
      ],
      "text/plain": [
       "10:29:41.517 | \u001b[36mINFO\u001b[0m    | Flow run\u001b[35m 'magnificent-leopard'\u001b[0m - Executing 'process_pool_snaps-bb91f77b-5' immediately...\n"
      ]
     },
     "metadata": {},
     "output_type": "display_data"
    },
    {
     "data": {
      "text/html": [
       "<pre style=\"white-space:pre;overflow-x:auto;line-height:normal;font-family:Menlo,'DejaVu Sans Mono',consolas,'Courier New',monospace\">10:29:41.539 | <span style=\"color: #008080; text-decoration-color: #008080\">INFO</span>    | Task run 'process_pool_snaps-bb91f77b-5' - Finished in state <span style=\"color: #008000; text-decoration-color: #008000\">Completed</span>()\n",
       "</pre>\n"
      ],
      "text/plain": [
       "10:29:41.539 | \u001b[36mINFO\u001b[0m    | Task run 'process_pool_snaps-bb91f77b-5' - Finished in state \u001b[32mCompleted\u001b[0m()\n"
      ]
     },
     "metadata": {},
     "output_type": "display_data"
    },
    {
     "data": {
      "text/html": [
       "<pre style=\"white-space:pre;overflow-x:auto;line-height:normal;font-family:Menlo,'DejaVu Sans Mono',consolas,'Courier New',monospace\">10:29:41.547 | <span style=\"color: #008080; text-decoration-color: #008080\">INFO</span>    | Flow run<span style=\"color: #800080; text-decoration-color: #800080\"> 'magnificent-leopard'</span> - Created task run 'process_pool_snaps-bb91f77b-6' for task 'process_pool_snaps'\n",
       "</pre>\n"
      ],
      "text/plain": [
       "10:29:41.547 | \u001b[36mINFO\u001b[0m    | Flow run\u001b[35m 'magnificent-leopard'\u001b[0m - Created task run 'process_pool_snaps-bb91f77b-6' for task 'process_pool_snaps'\n"
      ]
     },
     "metadata": {},
     "output_type": "display_data"
    },
    {
     "data": {
      "text/html": [
       "<pre style=\"white-space:pre;overflow-x:auto;line-height:normal;font-family:Menlo,'DejaVu Sans Mono',consolas,'Courier New',monospace\">10:29:41.548 | <span style=\"color: #008080; text-decoration-color: #008080\">INFO</span>    | Flow run<span style=\"color: #800080; text-decoration-color: #800080\"> 'magnificent-leopard'</span> - Executing 'process_pool_snaps-bb91f77b-6' immediately...\n",
       "</pre>\n"
      ],
      "text/plain": [
       "10:29:41.548 | \u001b[36mINFO\u001b[0m    | Flow run\u001b[35m 'magnificent-leopard'\u001b[0m - Executing 'process_pool_snaps-bb91f77b-6' immediately...\n"
      ]
     },
     "metadata": {},
     "output_type": "display_data"
    },
    {
     "data": {
      "text/html": [
       "<pre style=\"white-space:pre;overflow-x:auto;line-height:normal;font-family:Menlo,'DejaVu Sans Mono',consolas,'Courier New',monospace\">10:29:41.570 | <span style=\"color: #008080; text-decoration-color: #008080\">INFO</span>    | Task run 'process_pool_snaps-bb91f77b-6' - Finished in state <span style=\"color: #008000; text-decoration-color: #008000\">Completed</span>()\n",
       "</pre>\n"
      ],
      "text/plain": [
       "10:29:41.570 | \u001b[36mINFO\u001b[0m    | Task run 'process_pool_snaps-bb91f77b-6' - Finished in state \u001b[32mCompleted\u001b[0m()\n"
      ]
     },
     "metadata": {},
     "output_type": "display_data"
    },
    {
     "data": {
      "text/html": [
       "<pre style=\"white-space:pre;overflow-x:auto;line-height:normal;font-family:Menlo,'DejaVu Sans Mono',consolas,'Courier New',monospace\">10:29:41.578 | <span style=\"color: #008080; text-decoration-color: #008080\">INFO</span>    | Flow run<span style=\"color: #800080; text-decoration-color: #800080\"> 'magnificent-leopard'</span> - Created task run 'process_pool_snaps-bb91f77b-7' for task 'process_pool_snaps'\n",
       "</pre>\n"
      ],
      "text/plain": [
       "10:29:41.578 | \u001b[36mINFO\u001b[0m    | Flow run\u001b[35m 'magnificent-leopard'\u001b[0m - Created task run 'process_pool_snaps-bb91f77b-7' for task 'process_pool_snaps'\n"
      ]
     },
     "metadata": {},
     "output_type": "display_data"
    },
    {
     "data": {
      "text/html": [
       "<pre style=\"white-space:pre;overflow-x:auto;line-height:normal;font-family:Menlo,'DejaVu Sans Mono',consolas,'Courier New',monospace\">10:29:41.579 | <span style=\"color: #008080; text-decoration-color: #008080\">INFO</span>    | Flow run<span style=\"color: #800080; text-decoration-color: #800080\"> 'magnificent-leopard'</span> - Executing 'process_pool_snaps-bb91f77b-7' immediately...\n",
       "</pre>\n"
      ],
      "text/plain": [
       "10:29:41.579 | \u001b[36mINFO\u001b[0m    | Flow run\u001b[35m 'magnificent-leopard'\u001b[0m - Executing 'process_pool_snaps-bb91f77b-7' immediately...\n"
      ]
     },
     "metadata": {},
     "output_type": "display_data"
    },
    {
     "data": {
      "text/html": [
       "<pre style=\"white-space:pre;overflow-x:auto;line-height:normal;font-family:Menlo,'DejaVu Sans Mono',consolas,'Courier New',monospace\">10:29:41.601 | <span style=\"color: #008080; text-decoration-color: #008080\">INFO</span>    | Task run 'process_pool_snaps-bb91f77b-7' - Finished in state <span style=\"color: #008000; text-decoration-color: #008000\">Completed</span>()\n",
       "</pre>\n"
      ],
      "text/plain": [
       "10:29:41.601 | \u001b[36mINFO\u001b[0m    | Task run 'process_pool_snaps-bb91f77b-7' - Finished in state \u001b[32mCompleted\u001b[0m()\n"
      ]
     },
     "metadata": {},
     "output_type": "display_data"
    },
    {
     "data": {
      "text/html": [
       "<pre style=\"white-space:pre;overflow-x:auto;line-height:normal;font-family:Menlo,'DejaVu Sans Mono',consolas,'Courier New',monospace\">10:29:41.609 | <span style=\"color: #008080; text-decoration-color: #008080\">INFO</span>    | Flow run<span style=\"color: #800080; text-decoration-color: #800080\"> 'magnificent-leopard'</span> - Created task run 'process_pool_snaps-bb91f77b-8' for task 'process_pool_snaps'\n",
       "</pre>\n"
      ],
      "text/plain": [
       "10:29:41.609 | \u001b[36mINFO\u001b[0m    | Flow run\u001b[35m 'magnificent-leopard'\u001b[0m - Created task run 'process_pool_snaps-bb91f77b-8' for task 'process_pool_snaps'\n"
      ]
     },
     "metadata": {},
     "output_type": "display_data"
    },
    {
     "data": {
      "text/html": [
       "<pre style=\"white-space:pre;overflow-x:auto;line-height:normal;font-family:Menlo,'DejaVu Sans Mono',consolas,'Courier New',monospace\">10:29:41.610 | <span style=\"color: #008080; text-decoration-color: #008080\">INFO</span>    | Flow run<span style=\"color: #800080; text-decoration-color: #800080\"> 'magnificent-leopard'</span> - Executing 'process_pool_snaps-bb91f77b-8' immediately...\n",
       "</pre>\n"
      ],
      "text/plain": [
       "10:29:41.610 | \u001b[36mINFO\u001b[0m    | Flow run\u001b[35m 'magnificent-leopard'\u001b[0m - Executing 'process_pool_snaps-bb91f77b-8' immediately...\n"
      ]
     },
     "metadata": {},
     "output_type": "display_data"
    },
    {
     "data": {
      "text/html": [
       "<pre style=\"white-space:pre;overflow-x:auto;line-height:normal;font-family:Menlo,'DejaVu Sans Mono',consolas,'Courier New',monospace\">10:29:41.631 | <span style=\"color: #008080; text-decoration-color: #008080\">INFO</span>    | Task run 'process_pool_snaps-bb91f77b-8' - Finished in state <span style=\"color: #008000; text-decoration-color: #008000\">Completed</span>()\n",
       "</pre>\n"
      ],
      "text/plain": [
       "10:29:41.631 | \u001b[36mINFO\u001b[0m    | Task run 'process_pool_snaps-bb91f77b-8' - Finished in state \u001b[32mCompleted\u001b[0m()\n"
      ]
     },
     "metadata": {},
     "output_type": "display_data"
    },
    {
     "data": {
      "text/html": [
       "<pre style=\"white-space:pre;overflow-x:auto;line-height:normal;font-family:Menlo,'DejaVu Sans Mono',consolas,'Courier New',monospace\">10:29:41.639 | <span style=\"color: #008080; text-decoration-color: #008080\">INFO</span>    | Flow run<span style=\"color: #800080; text-decoration-color: #800080\"> 'magnificent-leopard'</span> - Created task run 'process_pool_snaps-bb91f77b-9' for task 'process_pool_snaps'\n",
       "</pre>\n"
      ],
      "text/plain": [
       "10:29:41.639 | \u001b[36mINFO\u001b[0m    | Flow run\u001b[35m 'magnificent-leopard'\u001b[0m - Created task run 'process_pool_snaps-bb91f77b-9' for task 'process_pool_snaps'\n"
      ]
     },
     "metadata": {},
     "output_type": "display_data"
    },
    {
     "data": {
      "text/html": [
       "<pre style=\"white-space:pre;overflow-x:auto;line-height:normal;font-family:Menlo,'DejaVu Sans Mono',consolas,'Courier New',monospace\">10:29:41.640 | <span style=\"color: #008080; text-decoration-color: #008080\">INFO</span>    | Flow run<span style=\"color: #800080; text-decoration-color: #800080\"> 'magnificent-leopard'</span> - Executing 'process_pool_snaps-bb91f77b-9' immediately...\n",
       "</pre>\n"
      ],
      "text/plain": [
       "10:29:41.640 | \u001b[36mINFO\u001b[0m    | Flow run\u001b[35m 'magnificent-leopard'\u001b[0m - Executing 'process_pool_snaps-bb91f77b-9' immediately...\n"
      ]
     },
     "metadata": {},
     "output_type": "display_data"
    },
    {
     "data": {
      "text/html": [
       "<pre style=\"white-space:pre;overflow-x:auto;line-height:normal;font-family:Menlo,'DejaVu Sans Mono',consolas,'Courier New',monospace\">10:29:41.661 | <span style=\"color: #008080; text-decoration-color: #008080\">INFO</span>    | Task run 'process_pool_snaps-bb91f77b-9' - Finished in state <span style=\"color: #008000; text-decoration-color: #008000\">Completed</span>()\n",
       "</pre>\n"
      ],
      "text/plain": [
       "10:29:41.661 | \u001b[36mINFO\u001b[0m    | Task run 'process_pool_snaps-bb91f77b-9' - Finished in state \u001b[32mCompleted\u001b[0m()\n"
      ]
     },
     "metadata": {},
     "output_type": "display_data"
    },
    {
     "data": {
      "text/html": [
       "<pre style=\"white-space:pre;overflow-x:auto;line-height:normal;font-family:Menlo,'DejaVu Sans Mono',consolas,'Courier New',monospace\">10:29:41.669 | <span style=\"color: #008080; text-decoration-color: #008080\">INFO</span>    | Flow run<span style=\"color: #800080; text-decoration-color: #800080\"> 'magnificent-leopard'</span> - Created task run 'process_pool_snaps-bb91f77b-10' for task 'process_pool_snaps'\n",
       "</pre>\n"
      ],
      "text/plain": [
       "10:29:41.669 | \u001b[36mINFO\u001b[0m    | Flow run\u001b[35m 'magnificent-leopard'\u001b[0m - Created task run 'process_pool_snaps-bb91f77b-10' for task 'process_pool_snaps'\n"
      ]
     },
     "metadata": {},
     "output_type": "display_data"
    },
    {
     "data": {
      "text/html": [
       "<pre style=\"white-space:pre;overflow-x:auto;line-height:normal;font-family:Menlo,'DejaVu Sans Mono',consolas,'Courier New',monospace\">10:29:41.670 | <span style=\"color: #008080; text-decoration-color: #008080\">INFO</span>    | Flow run<span style=\"color: #800080; text-decoration-color: #800080\"> 'magnificent-leopard'</span> - Executing 'process_pool_snaps-bb91f77b-10' immediately...\n",
       "</pre>\n"
      ],
      "text/plain": [
       "10:29:41.670 | \u001b[36mINFO\u001b[0m    | Flow run\u001b[35m 'magnificent-leopard'\u001b[0m - Executing 'process_pool_snaps-bb91f77b-10' immediately...\n"
      ]
     },
     "metadata": {},
     "output_type": "display_data"
    },
    {
     "data": {
      "text/html": [
       "<pre style=\"white-space:pre;overflow-x:auto;line-height:normal;font-family:Menlo,'DejaVu Sans Mono',consolas,'Courier New',monospace\">10:29:41.691 | <span style=\"color: #008080; text-decoration-color: #008080\">INFO</span>    | Task run 'process_pool_snaps-bb91f77b-10' - Finished in state <span style=\"color: #008000; text-decoration-color: #008000\">Completed</span>()\n",
       "</pre>\n"
      ],
      "text/plain": [
       "10:29:41.691 | \u001b[36mINFO\u001b[0m    | Task run 'process_pool_snaps-bb91f77b-10' - Finished in state \u001b[32mCompleted\u001b[0m()\n"
      ]
     },
     "metadata": {},
     "output_type": "display_data"
    },
    {
     "data": {
      "text/html": [
       "<pre style=\"white-space:pre;overflow-x:auto;line-height:normal;font-family:Menlo,'DejaVu Sans Mono',consolas,'Courier New',monospace\">10:29:41.700 | <span style=\"color: #008080; text-decoration-color: #008080\">INFO</span>    | Flow run<span style=\"color: #800080; text-decoration-color: #800080\"> 'magnificent-leopard'</span> - Created task run 'process_pool_snaps-bb91f77b-11' for task 'process_pool_snaps'\n",
       "</pre>\n"
      ],
      "text/plain": [
       "10:29:41.700 | \u001b[36mINFO\u001b[0m    | Flow run\u001b[35m 'magnificent-leopard'\u001b[0m - Created task run 'process_pool_snaps-bb91f77b-11' for task 'process_pool_snaps'\n"
      ]
     },
     "metadata": {},
     "output_type": "display_data"
    },
    {
     "data": {
      "text/html": [
       "<pre style=\"white-space:pre;overflow-x:auto;line-height:normal;font-family:Menlo,'DejaVu Sans Mono',consolas,'Courier New',monospace\">10:29:41.700 | <span style=\"color: #008080; text-decoration-color: #008080\">INFO</span>    | Flow run<span style=\"color: #800080; text-decoration-color: #800080\"> 'magnificent-leopard'</span> - Executing 'process_pool_snaps-bb91f77b-11' immediately...\n",
       "</pre>\n"
      ],
      "text/plain": [
       "10:29:41.700 | \u001b[36mINFO\u001b[0m    | Flow run\u001b[35m 'magnificent-leopard'\u001b[0m - Executing 'process_pool_snaps-bb91f77b-11' immediately...\n"
      ]
     },
     "metadata": {},
     "output_type": "display_data"
    },
    {
     "data": {
      "text/html": [
       "<pre style=\"white-space:pre;overflow-x:auto;line-height:normal;font-family:Menlo,'DejaVu Sans Mono',consolas,'Courier New',monospace\">10:29:41.721 | <span style=\"color: #008080; text-decoration-color: #008080\">INFO</span>    | Task run 'process_pool_snaps-bb91f77b-11' - Finished in state <span style=\"color: #008000; text-decoration-color: #008000\">Completed</span>()\n",
       "</pre>\n"
      ],
      "text/plain": [
       "10:29:41.721 | \u001b[36mINFO\u001b[0m    | Task run 'process_pool_snaps-bb91f77b-11' - Finished in state \u001b[32mCompleted\u001b[0m()\n"
      ]
     },
     "metadata": {},
     "output_type": "display_data"
    },
    {
     "data": {
      "text/html": [
       "<pre style=\"white-space:pre;overflow-x:auto;line-height:normal;font-family:Menlo,'DejaVu Sans Mono',consolas,'Courier New',monospace\">10:29:41.730 | <span style=\"color: #008080; text-decoration-color: #008080\">INFO</span>    | Flow run<span style=\"color: #800080; text-decoration-color: #800080\"> 'magnificent-leopard'</span> - Created task run 'process_pool_snaps-bb91f77b-12' for task 'process_pool_snaps'\n",
       "</pre>\n"
      ],
      "text/plain": [
       "10:29:41.730 | \u001b[36mINFO\u001b[0m    | Flow run\u001b[35m 'magnificent-leopard'\u001b[0m - Created task run 'process_pool_snaps-bb91f77b-12' for task 'process_pool_snaps'\n"
      ]
     },
     "metadata": {},
     "output_type": "display_data"
    },
    {
     "data": {
      "text/html": [
       "<pre style=\"white-space:pre;overflow-x:auto;line-height:normal;font-family:Menlo,'DejaVu Sans Mono',consolas,'Courier New',monospace\">10:29:41.730 | <span style=\"color: #008080; text-decoration-color: #008080\">INFO</span>    | Flow run<span style=\"color: #800080; text-decoration-color: #800080\"> 'magnificent-leopard'</span> - Executing 'process_pool_snaps-bb91f77b-12' immediately...\n",
       "</pre>\n"
      ],
      "text/plain": [
       "10:29:41.730 | \u001b[36mINFO\u001b[0m    | Flow run\u001b[35m 'magnificent-leopard'\u001b[0m - Executing 'process_pool_snaps-bb91f77b-12' immediately...\n"
      ]
     },
     "metadata": {},
     "output_type": "display_data"
    },
    {
     "data": {
      "text/html": [
       "<pre style=\"white-space:pre;overflow-x:auto;line-height:normal;font-family:Menlo,'DejaVu Sans Mono',consolas,'Courier New',monospace\">10:29:41.752 | <span style=\"color: #008080; text-decoration-color: #008080\">INFO</span>    | Task run 'process_pool_snaps-bb91f77b-12' - Finished in state <span style=\"color: #008000; text-decoration-color: #008000\">Completed</span>()\n",
       "</pre>\n"
      ],
      "text/plain": [
       "10:29:41.752 | \u001b[36mINFO\u001b[0m    | Task run 'process_pool_snaps-bb91f77b-12' - Finished in state \u001b[32mCompleted\u001b[0m()\n"
      ]
     },
     "metadata": {},
     "output_type": "display_data"
    },
    {
     "data": {
      "text/html": [
       "<pre style=\"white-space:pre;overflow-x:auto;line-height:normal;font-family:Menlo,'DejaVu Sans Mono',consolas,'Courier New',monospace\">10:29:41.760 | <span style=\"color: #008080; text-decoration-color: #008080\">INFO</span>    | Flow run<span style=\"color: #800080; text-decoration-color: #800080\"> 'magnificent-leopard'</span> - Created task run 'process_pool_snaps-bb91f77b-13' for task 'process_pool_snaps'\n",
       "</pre>\n"
      ],
      "text/plain": [
       "10:29:41.760 | \u001b[36mINFO\u001b[0m    | Flow run\u001b[35m 'magnificent-leopard'\u001b[0m - Created task run 'process_pool_snaps-bb91f77b-13' for task 'process_pool_snaps'\n"
      ]
     },
     "metadata": {},
     "output_type": "display_data"
    },
    {
     "data": {
      "text/html": [
       "<pre style=\"white-space:pre;overflow-x:auto;line-height:normal;font-family:Menlo,'DejaVu Sans Mono',consolas,'Courier New',monospace\">10:29:41.760 | <span style=\"color: #008080; text-decoration-color: #008080\">INFO</span>    | Flow run<span style=\"color: #800080; text-decoration-color: #800080\"> 'magnificent-leopard'</span> - Executing 'process_pool_snaps-bb91f77b-13' immediately...\n",
       "</pre>\n"
      ],
      "text/plain": [
       "10:29:41.760 | \u001b[36mINFO\u001b[0m    | Flow run\u001b[35m 'magnificent-leopard'\u001b[0m - Executing 'process_pool_snaps-bb91f77b-13' immediately...\n"
      ]
     },
     "metadata": {},
     "output_type": "display_data"
    },
    {
     "data": {
      "text/html": [
       "<pre style=\"white-space:pre;overflow-x:auto;line-height:normal;font-family:Menlo,'DejaVu Sans Mono',consolas,'Courier New',monospace\">10:29:41.782 | <span style=\"color: #008080; text-decoration-color: #008080\">INFO</span>    | Task run 'process_pool_snaps-bb91f77b-13' - Finished in state <span style=\"color: #008000; text-decoration-color: #008000\">Completed</span>()\n",
       "</pre>\n"
      ],
      "text/plain": [
       "10:29:41.782 | \u001b[36mINFO\u001b[0m    | Task run 'process_pool_snaps-bb91f77b-13' - Finished in state \u001b[32mCompleted\u001b[0m()\n"
      ]
     },
     "metadata": {},
     "output_type": "display_data"
    },
    {
     "data": {
      "text/html": [
       "<pre style=\"white-space:pre;overflow-x:auto;line-height:normal;font-family:Menlo,'DejaVu Sans Mono',consolas,'Courier New',monospace\">10:29:41.791 | <span style=\"color: #008080; text-decoration-color: #008080\">INFO</span>    | Flow run<span style=\"color: #800080; text-decoration-color: #800080\"> 'magnificent-leopard'</span> - Created task run 'process_pool_snaps-bb91f77b-14' for task 'process_pool_snaps'\n",
       "</pre>\n"
      ],
      "text/plain": [
       "10:29:41.791 | \u001b[36mINFO\u001b[0m    | Flow run\u001b[35m 'magnificent-leopard'\u001b[0m - Created task run 'process_pool_snaps-bb91f77b-14' for task 'process_pool_snaps'\n"
      ]
     },
     "metadata": {},
     "output_type": "display_data"
    },
    {
     "data": {
      "text/html": [
       "<pre style=\"white-space:pre;overflow-x:auto;line-height:normal;font-family:Menlo,'DejaVu Sans Mono',consolas,'Courier New',monospace\">10:29:41.792 | <span style=\"color: #008080; text-decoration-color: #008080\">INFO</span>    | Flow run<span style=\"color: #800080; text-decoration-color: #800080\"> 'magnificent-leopard'</span> - Executing 'process_pool_snaps-bb91f77b-14' immediately...\n",
       "</pre>\n"
      ],
      "text/plain": [
       "10:29:41.792 | \u001b[36mINFO\u001b[0m    | Flow run\u001b[35m 'magnificent-leopard'\u001b[0m - Executing 'process_pool_snaps-bb91f77b-14' immediately...\n"
      ]
     },
     "metadata": {},
     "output_type": "display_data"
    },
    {
     "data": {
      "text/html": [
       "<pre style=\"white-space:pre;overflow-x:auto;line-height:normal;font-family:Menlo,'DejaVu Sans Mono',consolas,'Courier New',monospace\">10:29:41.814 | <span style=\"color: #008080; text-decoration-color: #008080\">INFO</span>    | Task run 'process_pool_snaps-bb91f77b-14' - Finished in state <span style=\"color: #008000; text-decoration-color: #008000\">Completed</span>()\n",
       "</pre>\n"
      ],
      "text/plain": [
       "10:29:41.814 | \u001b[36mINFO\u001b[0m    | Task run 'process_pool_snaps-bb91f77b-14' - Finished in state \u001b[32mCompleted\u001b[0m()\n"
      ]
     },
     "metadata": {},
     "output_type": "display_data"
    },
    {
     "data": {
      "text/html": [
       "<pre style=\"white-space:pre;overflow-x:auto;line-height:normal;font-family:Menlo,'DejaVu Sans Mono',consolas,'Courier New',monospace\">10:29:41.823 | <span style=\"color: #008080; text-decoration-color: #008080\">INFO</span>    | Flow run<span style=\"color: #800080; text-decoration-color: #800080\"> 'magnificent-leopard'</span> - Created task run 'process_pool_snaps-bb91f77b-15' for task 'process_pool_snaps'\n",
       "</pre>\n"
      ],
      "text/plain": [
       "10:29:41.823 | \u001b[36mINFO\u001b[0m    | Flow run\u001b[35m 'magnificent-leopard'\u001b[0m - Created task run 'process_pool_snaps-bb91f77b-15' for task 'process_pool_snaps'\n"
      ]
     },
     "metadata": {},
     "output_type": "display_data"
    },
    {
     "data": {
      "text/html": [
       "<pre style=\"white-space:pre;overflow-x:auto;line-height:normal;font-family:Menlo,'DejaVu Sans Mono',consolas,'Courier New',monospace\">10:29:41.823 | <span style=\"color: #008080; text-decoration-color: #008080\">INFO</span>    | Flow run<span style=\"color: #800080; text-decoration-color: #800080\"> 'magnificent-leopard'</span> - Executing 'process_pool_snaps-bb91f77b-15' immediately...\n",
       "</pre>\n"
      ],
      "text/plain": [
       "10:29:41.823 | \u001b[36mINFO\u001b[0m    | Flow run\u001b[35m 'magnificent-leopard'\u001b[0m - Executing 'process_pool_snaps-bb91f77b-15' immediately...\n"
      ]
     },
     "metadata": {},
     "output_type": "display_data"
    },
    {
     "data": {
      "text/html": [
       "<pre style=\"white-space:pre;overflow-x:auto;line-height:normal;font-family:Menlo,'DejaVu Sans Mono',consolas,'Courier New',monospace\">10:29:41.845 | <span style=\"color: #008080; text-decoration-color: #008080\">INFO</span>    | Task run 'process_pool_snaps-bb91f77b-15' - Finished in state <span style=\"color: #008000; text-decoration-color: #008000\">Completed</span>()\n",
       "</pre>\n"
      ],
      "text/plain": [
       "10:29:41.845 | \u001b[36mINFO\u001b[0m    | Task run 'process_pool_snaps-bb91f77b-15' - Finished in state \u001b[32mCompleted\u001b[0m()\n"
      ]
     },
     "metadata": {},
     "output_type": "display_data"
    },
    {
     "data": {
      "text/html": [
       "<pre style=\"white-space:pre;overflow-x:auto;line-height:normal;font-family:Menlo,'DejaVu Sans Mono',consolas,'Courier New',monospace\">10:29:41.854 | <span style=\"color: #008080; text-decoration-color: #008080\">INFO</span>    | Flow run<span style=\"color: #800080; text-decoration-color: #800080\"> 'magnificent-leopard'</span> - Created task run 'process_pool_snaps-bb91f77b-16' for task 'process_pool_snaps'\n",
       "</pre>\n"
      ],
      "text/plain": [
       "10:29:41.854 | \u001b[36mINFO\u001b[0m    | Flow run\u001b[35m 'magnificent-leopard'\u001b[0m - Created task run 'process_pool_snaps-bb91f77b-16' for task 'process_pool_snaps'\n"
      ]
     },
     "metadata": {},
     "output_type": "display_data"
    },
    {
     "data": {
      "text/html": [
       "<pre style=\"white-space:pre;overflow-x:auto;line-height:normal;font-family:Menlo,'DejaVu Sans Mono',consolas,'Courier New',monospace\">10:29:41.854 | <span style=\"color: #008080; text-decoration-color: #008080\">INFO</span>    | Flow run<span style=\"color: #800080; text-decoration-color: #800080\"> 'magnificent-leopard'</span> - Executing 'process_pool_snaps-bb91f77b-16' immediately...\n",
       "</pre>\n"
      ],
      "text/plain": [
       "10:29:41.854 | \u001b[36mINFO\u001b[0m    | Flow run\u001b[35m 'magnificent-leopard'\u001b[0m - Executing 'process_pool_snaps-bb91f77b-16' immediately...\n"
      ]
     },
     "metadata": {},
     "output_type": "display_data"
    },
    {
     "data": {
      "text/html": [
       "<pre style=\"white-space:pre;overflow-x:auto;line-height:normal;font-family:Menlo,'DejaVu Sans Mono',consolas,'Courier New',monospace\">10:29:41.876 | <span style=\"color: #008080; text-decoration-color: #008080\">INFO</span>    | Task run 'process_pool_snaps-bb91f77b-16' - Finished in state <span style=\"color: #008000; text-decoration-color: #008000\">Completed</span>()\n",
       "</pre>\n"
      ],
      "text/plain": [
       "10:29:41.876 | \u001b[36mINFO\u001b[0m    | Task run 'process_pool_snaps-bb91f77b-16' - Finished in state \u001b[32mCompleted\u001b[0m()\n"
      ]
     },
     "metadata": {},
     "output_type": "display_data"
    },
    {
     "data": {
      "text/html": [
       "<pre style=\"white-space:pre;overflow-x:auto;line-height:normal;font-family:Menlo,'DejaVu Sans Mono',consolas,'Courier New',monospace\">10:29:41.884 | <span style=\"color: #008080; text-decoration-color: #008080\">INFO</span>    | Flow run<span style=\"color: #800080; text-decoration-color: #800080\"> 'magnificent-leopard'</span> - Created task run 'process_pool_snaps-bb91f77b-17' for task 'process_pool_snaps'\n",
       "</pre>\n"
      ],
      "text/plain": [
       "10:29:41.884 | \u001b[36mINFO\u001b[0m    | Flow run\u001b[35m 'magnificent-leopard'\u001b[0m - Created task run 'process_pool_snaps-bb91f77b-17' for task 'process_pool_snaps'\n"
      ]
     },
     "metadata": {},
     "output_type": "display_data"
    },
    {
     "data": {
      "text/html": [
       "<pre style=\"white-space:pre;overflow-x:auto;line-height:normal;font-family:Menlo,'DejaVu Sans Mono',consolas,'Courier New',monospace\">10:29:41.885 | <span style=\"color: #008080; text-decoration-color: #008080\">INFO</span>    | Flow run<span style=\"color: #800080; text-decoration-color: #800080\"> 'magnificent-leopard'</span> - Executing 'process_pool_snaps-bb91f77b-17' immediately...\n",
       "</pre>\n"
      ],
      "text/plain": [
       "10:29:41.885 | \u001b[36mINFO\u001b[0m    | Flow run\u001b[35m 'magnificent-leopard'\u001b[0m - Executing 'process_pool_snaps-bb91f77b-17' immediately...\n"
      ]
     },
     "metadata": {},
     "output_type": "display_data"
    },
    {
     "data": {
      "text/html": [
       "<pre style=\"white-space:pre;overflow-x:auto;line-height:normal;font-family:Menlo,'DejaVu Sans Mono',consolas,'Courier New',monospace\">10:29:41.906 | <span style=\"color: #008080; text-decoration-color: #008080\">INFO</span>    | Task run 'process_pool_snaps-bb91f77b-17' - Finished in state <span style=\"color: #008000; text-decoration-color: #008000\">Completed</span>()\n",
       "</pre>\n"
      ],
      "text/plain": [
       "10:29:41.906 | \u001b[36mINFO\u001b[0m    | Task run 'process_pool_snaps-bb91f77b-17' - Finished in state \u001b[32mCompleted\u001b[0m()\n"
      ]
     },
     "metadata": {},
     "output_type": "display_data"
    },
    {
     "data": {
      "text/html": [
       "<pre style=\"white-space:pre;overflow-x:auto;line-height:normal;font-family:Menlo,'DejaVu Sans Mono',consolas,'Courier New',monospace\">10:29:41.915 | <span style=\"color: #008080; text-decoration-color: #008080\">INFO</span>    | Flow run<span style=\"color: #800080; text-decoration-color: #800080\"> 'magnificent-leopard'</span> - Created task run 'process_pool_snaps-bb91f77b-18' for task 'process_pool_snaps'\n",
       "</pre>\n"
      ],
      "text/plain": [
       "10:29:41.915 | \u001b[36mINFO\u001b[0m    | Flow run\u001b[35m 'magnificent-leopard'\u001b[0m - Created task run 'process_pool_snaps-bb91f77b-18' for task 'process_pool_snaps'\n"
      ]
     },
     "metadata": {},
     "output_type": "display_data"
    },
    {
     "data": {
      "text/html": [
       "<pre style=\"white-space:pre;overflow-x:auto;line-height:normal;font-family:Menlo,'DejaVu Sans Mono',consolas,'Courier New',monospace\">10:29:41.915 | <span style=\"color: #008080; text-decoration-color: #008080\">INFO</span>    | Flow run<span style=\"color: #800080; text-decoration-color: #800080\"> 'magnificent-leopard'</span> - Executing 'process_pool_snaps-bb91f77b-18' immediately...\n",
       "</pre>\n"
      ],
      "text/plain": [
       "10:29:41.915 | \u001b[36mINFO\u001b[0m    | Flow run\u001b[35m 'magnificent-leopard'\u001b[0m - Executing 'process_pool_snaps-bb91f77b-18' immediately...\n"
      ]
     },
     "metadata": {},
     "output_type": "display_data"
    },
    {
     "data": {
      "text/html": [
       "<pre style=\"white-space:pre;overflow-x:auto;line-height:normal;font-family:Menlo,'DejaVu Sans Mono',consolas,'Courier New',monospace\">10:29:41.936 | <span style=\"color: #008080; text-decoration-color: #008080\">INFO</span>    | Task run 'process_pool_snaps-bb91f77b-18' - Finished in state <span style=\"color: #008000; text-decoration-color: #008000\">Completed</span>()\n",
       "</pre>\n"
      ],
      "text/plain": [
       "10:29:41.936 | \u001b[36mINFO\u001b[0m    | Task run 'process_pool_snaps-bb91f77b-18' - Finished in state \u001b[32mCompleted\u001b[0m()\n"
      ]
     },
     "metadata": {},
     "output_type": "display_data"
    },
    {
     "data": {
      "text/html": [
       "<pre style=\"white-space:pre;overflow-x:auto;line-height:normal;font-family:Menlo,'DejaVu Sans Mono',consolas,'Courier New',monospace\">10:29:41.945 | <span style=\"color: #008080; text-decoration-color: #008080\">INFO</span>    | Flow run<span style=\"color: #800080; text-decoration-color: #800080\"> 'magnificent-leopard'</span> - Created task run 'process_pool_snaps-bb91f77b-19' for task 'process_pool_snaps'\n",
       "</pre>\n"
      ],
      "text/plain": [
       "10:29:41.945 | \u001b[36mINFO\u001b[0m    | Flow run\u001b[35m 'magnificent-leopard'\u001b[0m - Created task run 'process_pool_snaps-bb91f77b-19' for task 'process_pool_snaps'\n"
      ]
     },
     "metadata": {},
     "output_type": "display_data"
    },
    {
     "data": {
      "text/html": [
       "<pre style=\"white-space:pre;overflow-x:auto;line-height:normal;font-family:Menlo,'DejaVu Sans Mono',consolas,'Courier New',monospace\">10:29:41.945 | <span style=\"color: #008080; text-decoration-color: #008080\">INFO</span>    | Flow run<span style=\"color: #800080; text-decoration-color: #800080\"> 'magnificent-leopard'</span> - Executing 'process_pool_snaps-bb91f77b-19' immediately...\n",
       "</pre>\n"
      ],
      "text/plain": [
       "10:29:41.945 | \u001b[36mINFO\u001b[0m    | Flow run\u001b[35m 'magnificent-leopard'\u001b[0m - Executing 'process_pool_snaps-bb91f77b-19' immediately...\n"
      ]
     },
     "metadata": {},
     "output_type": "display_data"
    },
    {
     "data": {
      "text/html": [
       "<pre style=\"white-space:pre;overflow-x:auto;line-height:normal;font-family:Menlo,'DejaVu Sans Mono',consolas,'Courier New',monospace\">10:29:41.967 | <span style=\"color: #008080; text-decoration-color: #008080\">INFO</span>    | Task run 'process_pool_snaps-bb91f77b-19' - Finished in state <span style=\"color: #008000; text-decoration-color: #008000\">Completed</span>()\n",
       "</pre>\n"
      ],
      "text/plain": [
       "10:29:41.967 | \u001b[36mINFO\u001b[0m    | Task run 'process_pool_snaps-bb91f77b-19' - Finished in state \u001b[32mCompleted\u001b[0m()\n"
      ]
     },
     "metadata": {},
     "output_type": "display_data"
    },
    {
     "data": {
      "text/html": [
       "<pre style=\"white-space:pre;overflow-x:auto;line-height:normal;font-family:Menlo,'DejaVu Sans Mono',consolas,'Courier New',monospace\">10:29:41.975 | <span style=\"color: #008080; text-decoration-color: #008080\">INFO</span>    | Flow run<span style=\"color: #800080; text-decoration-color: #800080\"> 'magnificent-leopard'</span> - Created task run 'process_pool_snaps-bb91f77b-20' for task 'process_pool_snaps'\n",
       "</pre>\n"
      ],
      "text/plain": [
       "10:29:41.975 | \u001b[36mINFO\u001b[0m    | Flow run\u001b[35m 'magnificent-leopard'\u001b[0m - Created task run 'process_pool_snaps-bb91f77b-20' for task 'process_pool_snaps'\n"
      ]
     },
     "metadata": {},
     "output_type": "display_data"
    },
    {
     "data": {
      "text/html": [
       "<pre style=\"white-space:pre;overflow-x:auto;line-height:normal;font-family:Menlo,'DejaVu Sans Mono',consolas,'Courier New',monospace\">10:29:41.976 | <span style=\"color: #008080; text-decoration-color: #008080\">INFO</span>    | Flow run<span style=\"color: #800080; text-decoration-color: #800080\"> 'magnificent-leopard'</span> - Executing 'process_pool_snaps-bb91f77b-20' immediately...\n",
       "</pre>\n"
      ],
      "text/plain": [
       "10:29:41.976 | \u001b[36mINFO\u001b[0m    | Flow run\u001b[35m 'magnificent-leopard'\u001b[0m - Executing 'process_pool_snaps-bb91f77b-20' immediately...\n"
      ]
     },
     "metadata": {},
     "output_type": "display_data"
    },
    {
     "data": {
      "text/html": [
       "<pre style=\"white-space:pre;overflow-x:auto;line-height:normal;font-family:Menlo,'DejaVu Sans Mono',consolas,'Courier New',monospace\">10:29:42.005 | <span style=\"color: #008080; text-decoration-color: #008080\">INFO</span>    | Task run 'process_pool_snaps-bb91f77b-20' - Finished in state <span style=\"color: #008000; text-decoration-color: #008000\">Completed</span>()\n",
       "</pre>\n"
      ],
      "text/plain": [
       "10:29:42.005 | \u001b[36mINFO\u001b[0m    | Task run 'process_pool_snaps-bb91f77b-20' - Finished in state \u001b[32mCompleted\u001b[0m()\n"
      ]
     },
     "metadata": {},
     "output_type": "display_data"
    },
    {
     "data": {
      "text/html": [
       "<pre style=\"white-space:pre;overflow-x:auto;line-height:normal;font-family:Menlo,'DejaVu Sans Mono',consolas,'Courier New',monospace\">10:29:42.017 | <span style=\"color: #008080; text-decoration-color: #008080\">INFO</span>    | Flow run<span style=\"color: #800080; text-decoration-color: #800080\"> 'magnificent-leopard'</span> - Created task run 'process_pool_snaps-bb91f77b-21' for task 'process_pool_snaps'\n",
       "</pre>\n"
      ],
      "text/plain": [
       "10:29:42.017 | \u001b[36mINFO\u001b[0m    | Flow run\u001b[35m 'magnificent-leopard'\u001b[0m - Created task run 'process_pool_snaps-bb91f77b-21' for task 'process_pool_snaps'\n"
      ]
     },
     "metadata": {},
     "output_type": "display_data"
    },
    {
     "data": {
      "text/html": [
       "<pre style=\"white-space:pre;overflow-x:auto;line-height:normal;font-family:Menlo,'DejaVu Sans Mono',consolas,'Courier New',monospace\">10:29:42.017 | <span style=\"color: #008080; text-decoration-color: #008080\">INFO</span>    | Flow run<span style=\"color: #800080; text-decoration-color: #800080\"> 'magnificent-leopard'</span> - Executing 'process_pool_snaps-bb91f77b-21' immediately...\n",
       "</pre>\n"
      ],
      "text/plain": [
       "10:29:42.017 | \u001b[36mINFO\u001b[0m    | Flow run\u001b[35m 'magnificent-leopard'\u001b[0m - Executing 'process_pool_snaps-bb91f77b-21' immediately...\n"
      ]
     },
     "metadata": {},
     "output_type": "display_data"
    },
    {
     "data": {
      "text/html": [
       "<pre style=\"white-space:pre;overflow-x:auto;line-height:normal;font-family:Menlo,'DejaVu Sans Mono',consolas,'Courier New',monospace\">10:29:42.042 | <span style=\"color: #008080; text-decoration-color: #008080\">INFO</span>    | Task run 'process_pool_snaps-bb91f77b-21' - Finished in state <span style=\"color: #008000; text-decoration-color: #008000\">Completed</span>()\n",
       "</pre>\n"
      ],
      "text/plain": [
       "10:29:42.042 | \u001b[36mINFO\u001b[0m    | Task run 'process_pool_snaps-bb91f77b-21' - Finished in state \u001b[32mCompleted\u001b[0m()\n"
      ]
     },
     "metadata": {},
     "output_type": "display_data"
    },
    {
     "data": {
      "text/html": [
       "<pre style=\"white-space:pre;overflow-x:auto;line-height:normal;font-family:Menlo,'DejaVu Sans Mono',consolas,'Courier New',monospace\">10:29:42.052 | <span style=\"color: #008080; text-decoration-color: #008080\">INFO</span>    | Flow run<span style=\"color: #800080; text-decoration-color: #800080\"> 'magnificent-leopard'</span> - Created task run 'process_pool_snaps-bb91f77b-22' for task 'process_pool_snaps'\n",
       "</pre>\n"
      ],
      "text/plain": [
       "10:29:42.052 | \u001b[36mINFO\u001b[0m    | Flow run\u001b[35m 'magnificent-leopard'\u001b[0m - Created task run 'process_pool_snaps-bb91f77b-22' for task 'process_pool_snaps'\n"
      ]
     },
     "metadata": {},
     "output_type": "display_data"
    },
    {
     "data": {
      "text/html": [
       "<pre style=\"white-space:pre;overflow-x:auto;line-height:normal;font-family:Menlo,'DejaVu Sans Mono',consolas,'Courier New',monospace\">10:29:42.053 | <span style=\"color: #008080; text-decoration-color: #008080\">INFO</span>    | Flow run<span style=\"color: #800080; text-decoration-color: #800080\"> 'magnificent-leopard'</span> - Executing 'process_pool_snaps-bb91f77b-22' immediately...\n",
       "</pre>\n"
      ],
      "text/plain": [
       "10:29:42.053 | \u001b[36mINFO\u001b[0m    | Flow run\u001b[35m 'magnificent-leopard'\u001b[0m - Executing 'process_pool_snaps-bb91f77b-22' immediately...\n"
      ]
     },
     "metadata": {},
     "output_type": "display_data"
    },
    {
     "data": {
      "text/html": [
       "<pre style=\"white-space:pre;overflow-x:auto;line-height:normal;font-family:Menlo,'DejaVu Sans Mono',consolas,'Courier New',monospace\">10:29:42.084 | <span style=\"color: #008080; text-decoration-color: #008080\">INFO</span>    | Task run 'process_pool_snaps-bb91f77b-22' - Finished in state <span style=\"color: #008000; text-decoration-color: #008000\">Completed</span>()\n",
       "</pre>\n"
      ],
      "text/plain": [
       "10:29:42.084 | \u001b[36mINFO\u001b[0m    | Task run 'process_pool_snaps-bb91f77b-22' - Finished in state \u001b[32mCompleted\u001b[0m()\n"
      ]
     },
     "metadata": {},
     "output_type": "display_data"
    },
    {
     "data": {
      "text/html": [
       "<pre style=\"white-space:pre;overflow-x:auto;line-height:normal;font-family:Menlo,'DejaVu Sans Mono',consolas,'Courier New',monospace\">10:29:42.094 | <span style=\"color: #008080; text-decoration-color: #008080\">INFO</span>    | Flow run<span style=\"color: #800080; text-decoration-color: #800080\"> 'magnificent-leopard'</span> - Created task run 'process_pool_snaps-bb91f77b-23' for task 'process_pool_snaps'\n",
       "</pre>\n"
      ],
      "text/plain": [
       "10:29:42.094 | \u001b[36mINFO\u001b[0m    | Flow run\u001b[35m 'magnificent-leopard'\u001b[0m - Created task run 'process_pool_snaps-bb91f77b-23' for task 'process_pool_snaps'\n"
      ]
     },
     "metadata": {},
     "output_type": "display_data"
    },
    {
     "data": {
      "text/html": [
       "<pre style=\"white-space:pre;overflow-x:auto;line-height:normal;font-family:Menlo,'DejaVu Sans Mono',consolas,'Courier New',monospace\">10:29:42.094 | <span style=\"color: #008080; text-decoration-color: #008080\">INFO</span>    | Flow run<span style=\"color: #800080; text-decoration-color: #800080\"> 'magnificent-leopard'</span> - Executing 'process_pool_snaps-bb91f77b-23' immediately...\n",
       "</pre>\n"
      ],
      "text/plain": [
       "10:29:42.094 | \u001b[36mINFO\u001b[0m    | Flow run\u001b[35m 'magnificent-leopard'\u001b[0m - Executing 'process_pool_snaps-bb91f77b-23' immediately...\n"
      ]
     },
     "metadata": {},
     "output_type": "display_data"
    },
    {
     "data": {
      "text/html": [
       "<pre style=\"white-space:pre;overflow-x:auto;line-height:normal;font-family:Menlo,'DejaVu Sans Mono',consolas,'Courier New',monospace\">10:29:42.119 | <span style=\"color: #008080; text-decoration-color: #008080\">INFO</span>    | Task run 'process_pool_snaps-bb91f77b-23' - Finished in state <span style=\"color: #008000; text-decoration-color: #008000\">Completed</span>()\n",
       "</pre>\n"
      ],
      "text/plain": [
       "10:29:42.119 | \u001b[36mINFO\u001b[0m    | Task run 'process_pool_snaps-bb91f77b-23' - Finished in state \u001b[32mCompleted\u001b[0m()\n"
      ]
     },
     "metadata": {},
     "output_type": "display_data"
    },
    {
     "data": {
      "text/html": [
       "<pre style=\"white-space:pre;overflow-x:auto;line-height:normal;font-family:Menlo,'DejaVu Sans Mono',consolas,'Courier New',monospace\">10:29:42.128 | <span style=\"color: #008080; text-decoration-color: #008080\">INFO</span>    | Flow run<span style=\"color: #800080; text-decoration-color: #800080\"> 'magnificent-leopard'</span> - Created task run 'process_pool_snaps-bb91f77b-24' for task 'process_pool_snaps'\n",
       "</pre>\n"
      ],
      "text/plain": [
       "10:29:42.128 | \u001b[36mINFO\u001b[0m    | Flow run\u001b[35m 'magnificent-leopard'\u001b[0m - Created task run 'process_pool_snaps-bb91f77b-24' for task 'process_pool_snaps'\n"
      ]
     },
     "metadata": {},
     "output_type": "display_data"
    },
    {
     "data": {
      "text/html": [
       "<pre style=\"white-space:pre;overflow-x:auto;line-height:normal;font-family:Menlo,'DejaVu Sans Mono',consolas,'Courier New',monospace\">10:29:42.129 | <span style=\"color: #008080; text-decoration-color: #008080\">INFO</span>    | Flow run<span style=\"color: #800080; text-decoration-color: #800080\"> 'magnificent-leopard'</span> - Executing 'process_pool_snaps-bb91f77b-24' immediately...\n",
       "</pre>\n"
      ],
      "text/plain": [
       "10:29:42.129 | \u001b[36mINFO\u001b[0m    | Flow run\u001b[35m 'magnificent-leopard'\u001b[0m - Executing 'process_pool_snaps-bb91f77b-24' immediately...\n"
      ]
     },
     "metadata": {},
     "output_type": "display_data"
    },
    {
     "data": {
      "text/html": [
       "<pre style=\"white-space:pre;overflow-x:auto;line-height:normal;font-family:Menlo,'DejaVu Sans Mono',consolas,'Courier New',monospace\">10:29:42.153 | <span style=\"color: #008080; text-decoration-color: #008080\">INFO</span>    | Task run 'process_pool_snaps-bb91f77b-24' - Finished in state <span style=\"color: #008000; text-decoration-color: #008000\">Completed</span>()\n",
       "</pre>\n"
      ],
      "text/plain": [
       "10:29:42.153 | \u001b[36mINFO\u001b[0m    | Task run 'process_pool_snaps-bb91f77b-24' - Finished in state \u001b[32mCompleted\u001b[0m()\n"
      ]
     },
     "metadata": {},
     "output_type": "display_data"
    },
    {
     "data": {
      "text/html": [
       "<pre style=\"white-space:pre;overflow-x:auto;line-height:normal;font-family:Menlo,'DejaVu Sans Mono',consolas,'Courier New',monospace\">10:29:42.162 | <span style=\"color: #008080; text-decoration-color: #008080\">INFO</span>    | Flow run<span style=\"color: #800080; text-decoration-color: #800080\"> 'magnificent-leopard'</span> - Created task run 'process_pool_snaps-bb91f77b-25' for task 'process_pool_snaps'\n",
       "</pre>\n"
      ],
      "text/plain": [
       "10:29:42.162 | \u001b[36mINFO\u001b[0m    | Flow run\u001b[35m 'magnificent-leopard'\u001b[0m - Created task run 'process_pool_snaps-bb91f77b-25' for task 'process_pool_snaps'\n"
      ]
     },
     "metadata": {},
     "output_type": "display_data"
    },
    {
     "data": {
      "text/html": [
       "<pre style=\"white-space:pre;overflow-x:auto;line-height:normal;font-family:Menlo,'DejaVu Sans Mono',consolas,'Courier New',monospace\">10:29:42.163 | <span style=\"color: #008080; text-decoration-color: #008080\">INFO</span>    | Flow run<span style=\"color: #800080; text-decoration-color: #800080\"> 'magnificent-leopard'</span> - Executing 'process_pool_snaps-bb91f77b-25' immediately...\n",
       "</pre>\n"
      ],
      "text/plain": [
       "10:29:42.163 | \u001b[36mINFO\u001b[0m    | Flow run\u001b[35m 'magnificent-leopard'\u001b[0m - Executing 'process_pool_snaps-bb91f77b-25' immediately...\n"
      ]
     },
     "metadata": {},
     "output_type": "display_data"
    },
    {
     "data": {
      "text/html": [
       "<pre style=\"white-space:pre;overflow-x:auto;line-height:normal;font-family:Menlo,'DejaVu Sans Mono',consolas,'Courier New',monospace\">10:29:42.188 | <span style=\"color: #008080; text-decoration-color: #008080\">INFO</span>    | Task run 'process_pool_snaps-bb91f77b-25' - Finished in state <span style=\"color: #008000; text-decoration-color: #008000\">Completed</span>()\n",
       "</pre>\n"
      ],
      "text/plain": [
       "10:29:42.188 | \u001b[36mINFO\u001b[0m    | Task run 'process_pool_snaps-bb91f77b-25' - Finished in state \u001b[32mCompleted\u001b[0m()\n"
      ]
     },
     "metadata": {},
     "output_type": "display_data"
    },
    {
     "data": {
      "text/html": [
       "<pre style=\"white-space:pre;overflow-x:auto;line-height:normal;font-family:Menlo,'DejaVu Sans Mono',consolas,'Courier New',monospace\">10:29:42.197 | <span style=\"color: #008080; text-decoration-color: #008080\">INFO</span>    | Flow run<span style=\"color: #800080; text-decoration-color: #800080\"> 'magnificent-leopard'</span> - Created task run 'process_pool_snaps-bb91f77b-26' for task 'process_pool_snaps'\n",
       "</pre>\n"
      ],
      "text/plain": [
       "10:29:42.197 | \u001b[36mINFO\u001b[0m    | Flow run\u001b[35m 'magnificent-leopard'\u001b[0m - Created task run 'process_pool_snaps-bb91f77b-26' for task 'process_pool_snaps'\n"
      ]
     },
     "metadata": {},
     "output_type": "display_data"
    },
    {
     "data": {
      "text/html": [
       "<pre style=\"white-space:pre;overflow-x:auto;line-height:normal;font-family:Menlo,'DejaVu Sans Mono',consolas,'Courier New',monospace\">10:29:42.198 | <span style=\"color: #008080; text-decoration-color: #008080\">INFO</span>    | Flow run<span style=\"color: #800080; text-decoration-color: #800080\"> 'magnificent-leopard'</span> - Executing 'process_pool_snaps-bb91f77b-26' immediately...\n",
       "</pre>\n"
      ],
      "text/plain": [
       "10:29:42.198 | \u001b[36mINFO\u001b[0m    | Flow run\u001b[35m 'magnificent-leopard'\u001b[0m - Executing 'process_pool_snaps-bb91f77b-26' immediately...\n"
      ]
     },
     "metadata": {},
     "output_type": "display_data"
    },
    {
     "data": {
      "text/html": [
       "<pre style=\"white-space:pre;overflow-x:auto;line-height:normal;font-family:Menlo,'DejaVu Sans Mono',consolas,'Courier New',monospace\">10:29:42.221 | <span style=\"color: #008080; text-decoration-color: #008080\">INFO</span>    | Task run 'process_pool_snaps-bb91f77b-26' - Finished in state <span style=\"color: #008000; text-decoration-color: #008000\">Completed</span>()\n",
       "</pre>\n"
      ],
      "text/plain": [
       "10:29:42.221 | \u001b[36mINFO\u001b[0m    | Task run 'process_pool_snaps-bb91f77b-26' - Finished in state \u001b[32mCompleted\u001b[0m()\n"
      ]
     },
     "metadata": {},
     "output_type": "display_data"
    },
    {
     "data": {
      "text/html": [
       "<pre style=\"white-space:pre;overflow-x:auto;line-height:normal;font-family:Menlo,'DejaVu Sans Mono',consolas,'Courier New',monospace\">10:29:42.231 | <span style=\"color: #008080; text-decoration-color: #008080\">INFO</span>    | Flow run<span style=\"color: #800080; text-decoration-color: #800080\"> 'magnificent-leopard'</span> - Created task run 'process_pool_snaps-bb91f77b-27' for task 'process_pool_snaps'\n",
       "</pre>\n"
      ],
      "text/plain": [
       "10:29:42.231 | \u001b[36mINFO\u001b[0m    | Flow run\u001b[35m 'magnificent-leopard'\u001b[0m - Created task run 'process_pool_snaps-bb91f77b-27' for task 'process_pool_snaps'\n"
      ]
     },
     "metadata": {},
     "output_type": "display_data"
    },
    {
     "data": {
      "text/html": [
       "<pre style=\"white-space:pre;overflow-x:auto;line-height:normal;font-family:Menlo,'DejaVu Sans Mono',consolas,'Courier New',monospace\">10:29:42.232 | <span style=\"color: #008080; text-decoration-color: #008080\">INFO</span>    | Flow run<span style=\"color: #800080; text-decoration-color: #800080\"> 'magnificent-leopard'</span> - Executing 'process_pool_snaps-bb91f77b-27' immediately...\n",
       "</pre>\n"
      ],
      "text/plain": [
       "10:29:42.232 | \u001b[36mINFO\u001b[0m    | Flow run\u001b[35m 'magnificent-leopard'\u001b[0m - Executing 'process_pool_snaps-bb91f77b-27' immediately...\n"
      ]
     },
     "metadata": {},
     "output_type": "display_data"
    },
    {
     "data": {
      "text/html": [
       "<pre style=\"white-space:pre;overflow-x:auto;line-height:normal;font-family:Menlo,'DejaVu Sans Mono',consolas,'Courier New',monospace\">10:29:42.255 | <span style=\"color: #008080; text-decoration-color: #008080\">INFO</span>    | Task run 'process_pool_snaps-bb91f77b-27' - Finished in state <span style=\"color: #008000; text-decoration-color: #008000\">Completed</span>()\n",
       "</pre>\n"
      ],
      "text/plain": [
       "10:29:42.255 | \u001b[36mINFO\u001b[0m    | Task run 'process_pool_snaps-bb91f77b-27' - Finished in state \u001b[32mCompleted\u001b[0m()\n"
      ]
     },
     "metadata": {},
     "output_type": "display_data"
    },
    {
     "data": {
      "text/html": [
       "<pre style=\"white-space:pre;overflow-x:auto;line-height:normal;font-family:Menlo,'DejaVu Sans Mono',consolas,'Courier New',monospace\">10:29:42.264 | <span style=\"color: #008080; text-decoration-color: #008080\">INFO</span>    | Flow run<span style=\"color: #800080; text-decoration-color: #800080\"> 'magnificent-leopard'</span> - Created task run 'process_pool_snaps-bb91f77b-28' for task 'process_pool_snaps'\n",
       "</pre>\n"
      ],
      "text/plain": [
       "10:29:42.264 | \u001b[36mINFO\u001b[0m    | Flow run\u001b[35m 'magnificent-leopard'\u001b[0m - Created task run 'process_pool_snaps-bb91f77b-28' for task 'process_pool_snaps'\n"
      ]
     },
     "metadata": {},
     "output_type": "display_data"
    },
    {
     "data": {
      "text/html": [
       "<pre style=\"white-space:pre;overflow-x:auto;line-height:normal;font-family:Menlo,'DejaVu Sans Mono',consolas,'Courier New',monospace\">10:29:42.265 | <span style=\"color: #008080; text-decoration-color: #008080\">INFO</span>    | Flow run<span style=\"color: #800080; text-decoration-color: #800080\"> 'magnificent-leopard'</span> - Executing 'process_pool_snaps-bb91f77b-28' immediately...\n",
       "</pre>\n"
      ],
      "text/plain": [
       "10:29:42.265 | \u001b[36mINFO\u001b[0m    | Flow run\u001b[35m 'magnificent-leopard'\u001b[0m - Executing 'process_pool_snaps-bb91f77b-28' immediately...\n"
      ]
     },
     "metadata": {},
     "output_type": "display_data"
    },
    {
     "data": {
      "text/html": [
       "<pre style=\"white-space:pre;overflow-x:auto;line-height:normal;font-family:Menlo,'DejaVu Sans Mono',consolas,'Courier New',monospace\">10:29:42.288 | <span style=\"color: #008080; text-decoration-color: #008080\">INFO</span>    | Task run 'process_pool_snaps-bb91f77b-28' - Finished in state <span style=\"color: #008000; text-decoration-color: #008000\">Completed</span>()\n",
       "</pre>\n"
      ],
      "text/plain": [
       "10:29:42.288 | \u001b[36mINFO\u001b[0m    | Task run 'process_pool_snaps-bb91f77b-28' - Finished in state \u001b[32mCompleted\u001b[0m()\n"
      ]
     },
     "metadata": {},
     "output_type": "display_data"
    },
    {
     "data": {
      "text/html": [
       "<pre style=\"white-space:pre;overflow-x:auto;line-height:normal;font-family:Menlo,'DejaVu Sans Mono',consolas,'Courier New',monospace\">10:29:42.297 | <span style=\"color: #008080; text-decoration-color: #008080\">INFO</span>    | Flow run<span style=\"color: #800080; text-decoration-color: #800080\"> 'magnificent-leopard'</span> - Created task run 'process_pool_snaps-bb91f77b-29' for task 'process_pool_snaps'\n",
       "</pre>\n"
      ],
      "text/plain": [
       "10:29:42.297 | \u001b[36mINFO\u001b[0m    | Flow run\u001b[35m 'magnificent-leopard'\u001b[0m - Created task run 'process_pool_snaps-bb91f77b-29' for task 'process_pool_snaps'\n"
      ]
     },
     "metadata": {},
     "output_type": "display_data"
    },
    {
     "data": {
      "text/html": [
       "<pre style=\"white-space:pre;overflow-x:auto;line-height:normal;font-family:Menlo,'DejaVu Sans Mono',consolas,'Courier New',monospace\">10:29:42.298 | <span style=\"color: #008080; text-decoration-color: #008080\">INFO</span>    | Flow run<span style=\"color: #800080; text-decoration-color: #800080\"> 'magnificent-leopard'</span> - Executing 'process_pool_snaps-bb91f77b-29' immediately...\n",
       "</pre>\n"
      ],
      "text/plain": [
       "10:29:42.298 | \u001b[36mINFO\u001b[0m    | Flow run\u001b[35m 'magnificent-leopard'\u001b[0m - Executing 'process_pool_snaps-bb91f77b-29' immediately...\n"
      ]
     },
     "metadata": {},
     "output_type": "display_data"
    },
    {
     "data": {
      "text/html": [
       "<pre style=\"white-space:pre;overflow-x:auto;line-height:normal;font-family:Menlo,'DejaVu Sans Mono',consolas,'Courier New',monospace\">10:29:42.322 | <span style=\"color: #008080; text-decoration-color: #008080\">INFO</span>    | Task run 'process_pool_snaps-bb91f77b-29' - Finished in state <span style=\"color: #008000; text-decoration-color: #008000\">Completed</span>()\n",
       "</pre>\n"
      ],
      "text/plain": [
       "10:29:42.322 | \u001b[36mINFO\u001b[0m    | Task run 'process_pool_snaps-bb91f77b-29' - Finished in state \u001b[32mCompleted\u001b[0m()\n"
      ]
     },
     "metadata": {},
     "output_type": "display_data"
    },
    {
     "data": {
      "text/html": [
       "<pre style=\"white-space:pre;overflow-x:auto;line-height:normal;font-family:Menlo,'DejaVu Sans Mono',consolas,'Courier New',monospace\">10:29:42.331 | <span style=\"color: #008080; text-decoration-color: #008080\">INFO</span>    | Flow run<span style=\"color: #800080; text-decoration-color: #800080\"> 'magnificent-leopard'</span> - Created task run 'process_pool_snaps-bb91f77b-30' for task 'process_pool_snaps'\n",
       "</pre>\n"
      ],
      "text/plain": [
       "10:29:42.331 | \u001b[36mINFO\u001b[0m    | Flow run\u001b[35m 'magnificent-leopard'\u001b[0m - Created task run 'process_pool_snaps-bb91f77b-30' for task 'process_pool_snaps'\n"
      ]
     },
     "metadata": {},
     "output_type": "display_data"
    },
    {
     "data": {
      "text/html": [
       "<pre style=\"white-space:pre;overflow-x:auto;line-height:normal;font-family:Menlo,'DejaVu Sans Mono',consolas,'Courier New',monospace\">10:29:42.332 | <span style=\"color: #008080; text-decoration-color: #008080\">INFO</span>    | Flow run<span style=\"color: #800080; text-decoration-color: #800080\"> 'magnificent-leopard'</span> - Executing 'process_pool_snaps-bb91f77b-30' immediately...\n",
       "</pre>\n"
      ],
      "text/plain": [
       "10:29:42.332 | \u001b[36mINFO\u001b[0m    | Flow run\u001b[35m 'magnificent-leopard'\u001b[0m - Executing 'process_pool_snaps-bb91f77b-30' immediately...\n"
      ]
     },
     "metadata": {},
     "output_type": "display_data"
    },
    {
     "data": {
      "text/html": [
       "<pre style=\"white-space:pre;overflow-x:auto;line-height:normal;font-family:Menlo,'DejaVu Sans Mono',consolas,'Courier New',monospace\">10:29:42.355 | <span style=\"color: #008080; text-decoration-color: #008080\">INFO</span>    | Task run 'process_pool_snaps-bb91f77b-30' - Finished in state <span style=\"color: #008000; text-decoration-color: #008000\">Completed</span>()\n",
       "</pre>\n"
      ],
      "text/plain": [
       "10:29:42.355 | \u001b[36mINFO\u001b[0m    | Task run 'process_pool_snaps-bb91f77b-30' - Finished in state \u001b[32mCompleted\u001b[0m()\n"
      ]
     },
     "metadata": {},
     "output_type": "display_data"
    },
    {
     "data": {
      "text/html": [
       "<pre style=\"white-space:pre;overflow-x:auto;line-height:normal;font-family:Menlo,'DejaVu Sans Mono',consolas,'Courier New',monospace\">10:29:42.365 | <span style=\"color: #008080; text-decoration-color: #008080\">INFO</span>    | Flow run<span style=\"color: #800080; text-decoration-color: #800080\"> 'magnificent-leopard'</span> - Created task run 'process_pool_snaps-bb91f77b-31' for task 'process_pool_snaps'\n",
       "</pre>\n"
      ],
      "text/plain": [
       "10:29:42.365 | \u001b[36mINFO\u001b[0m    | Flow run\u001b[35m 'magnificent-leopard'\u001b[0m - Created task run 'process_pool_snaps-bb91f77b-31' for task 'process_pool_snaps'\n"
      ]
     },
     "metadata": {},
     "output_type": "display_data"
    },
    {
     "data": {
      "text/html": [
       "<pre style=\"white-space:pre;overflow-x:auto;line-height:normal;font-family:Menlo,'DejaVu Sans Mono',consolas,'Courier New',monospace\">10:29:42.366 | <span style=\"color: #008080; text-decoration-color: #008080\">INFO</span>    | Flow run<span style=\"color: #800080; text-decoration-color: #800080\"> 'magnificent-leopard'</span> - Executing 'process_pool_snaps-bb91f77b-31' immediately...\n",
       "</pre>\n"
      ],
      "text/plain": [
       "10:29:42.366 | \u001b[36mINFO\u001b[0m    | Flow run\u001b[35m 'magnificent-leopard'\u001b[0m - Executing 'process_pool_snaps-bb91f77b-31' immediately...\n"
      ]
     },
     "metadata": {},
     "output_type": "display_data"
    },
    {
     "data": {
      "text/html": [
       "<pre style=\"white-space:pre;overflow-x:auto;line-height:normal;font-family:Menlo,'DejaVu Sans Mono',consolas,'Courier New',monospace\">10:29:42.389 | <span style=\"color: #008080; text-decoration-color: #008080\">INFO</span>    | Task run 'process_pool_snaps-bb91f77b-31' - Finished in state <span style=\"color: #008000; text-decoration-color: #008000\">Completed</span>()\n",
       "</pre>\n"
      ],
      "text/plain": [
       "10:29:42.389 | \u001b[36mINFO\u001b[0m    | Task run 'process_pool_snaps-bb91f77b-31' - Finished in state \u001b[32mCompleted\u001b[0m()\n"
      ]
     },
     "metadata": {},
     "output_type": "display_data"
    },
    {
     "data": {
      "text/html": [
       "<pre style=\"white-space:pre;overflow-x:auto;line-height:normal;font-family:Menlo,'DejaVu Sans Mono',consolas,'Courier New',monospace\">10:29:42.399 | <span style=\"color: #008080; text-decoration-color: #008080\">INFO</span>    | Flow run<span style=\"color: #800080; text-decoration-color: #800080\"> 'magnificent-leopard'</span> - Created task run 'process_pool_snaps-bb91f77b-32' for task 'process_pool_snaps'\n",
       "</pre>\n"
      ],
      "text/plain": [
       "10:29:42.399 | \u001b[36mINFO\u001b[0m    | Flow run\u001b[35m 'magnificent-leopard'\u001b[0m - Created task run 'process_pool_snaps-bb91f77b-32' for task 'process_pool_snaps'\n"
      ]
     },
     "metadata": {},
     "output_type": "display_data"
    },
    {
     "data": {
      "text/html": [
       "<pre style=\"white-space:pre;overflow-x:auto;line-height:normal;font-family:Menlo,'DejaVu Sans Mono',consolas,'Courier New',monospace\">10:29:42.400 | <span style=\"color: #008080; text-decoration-color: #008080\">INFO</span>    | Flow run<span style=\"color: #800080; text-decoration-color: #800080\"> 'magnificent-leopard'</span> - Executing 'process_pool_snaps-bb91f77b-32' immediately...\n",
       "</pre>\n"
      ],
      "text/plain": [
       "10:29:42.400 | \u001b[36mINFO\u001b[0m    | Flow run\u001b[35m 'magnificent-leopard'\u001b[0m - Executing 'process_pool_snaps-bb91f77b-32' immediately...\n"
      ]
     },
     "metadata": {},
     "output_type": "display_data"
    },
    {
     "data": {
      "text/html": [
       "<pre style=\"white-space:pre;overflow-x:auto;line-height:normal;font-family:Menlo,'DejaVu Sans Mono',consolas,'Courier New',monospace\">10:29:42.422 | <span style=\"color: #008080; text-decoration-color: #008080\">INFO</span>    | Task run 'process_pool_snaps-bb91f77b-32' - Finished in state <span style=\"color: #008000; text-decoration-color: #008000\">Completed</span>()\n",
       "</pre>\n"
      ],
      "text/plain": [
       "10:29:42.422 | \u001b[36mINFO\u001b[0m    | Task run 'process_pool_snaps-bb91f77b-32' - Finished in state \u001b[32mCompleted\u001b[0m()\n"
      ]
     },
     "metadata": {},
     "output_type": "display_data"
    },
    {
     "data": {
      "text/html": [
       "<pre style=\"white-space:pre;overflow-x:auto;line-height:normal;font-family:Menlo,'DejaVu Sans Mono',consolas,'Courier New',monospace\">10:29:42.431 | <span style=\"color: #008080; text-decoration-color: #008080\">INFO</span>    | Flow run<span style=\"color: #800080; text-decoration-color: #800080\"> 'magnificent-leopard'</span> - Created task run 'process_pool_snaps-bb91f77b-33' for task 'process_pool_snaps'\n",
       "</pre>\n"
      ],
      "text/plain": [
       "10:29:42.431 | \u001b[36mINFO\u001b[0m    | Flow run\u001b[35m 'magnificent-leopard'\u001b[0m - Created task run 'process_pool_snaps-bb91f77b-33' for task 'process_pool_snaps'\n"
      ]
     },
     "metadata": {},
     "output_type": "display_data"
    },
    {
     "data": {
      "text/html": [
       "<pre style=\"white-space:pre;overflow-x:auto;line-height:normal;font-family:Menlo,'DejaVu Sans Mono',consolas,'Courier New',monospace\">10:29:42.432 | <span style=\"color: #008080; text-decoration-color: #008080\">INFO</span>    | Flow run<span style=\"color: #800080; text-decoration-color: #800080\"> 'magnificent-leopard'</span> - Executing 'process_pool_snaps-bb91f77b-33' immediately...\n",
       "</pre>\n"
      ],
      "text/plain": [
       "10:29:42.432 | \u001b[36mINFO\u001b[0m    | Flow run\u001b[35m 'magnificent-leopard'\u001b[0m - Executing 'process_pool_snaps-bb91f77b-33' immediately...\n"
      ]
     },
     "metadata": {},
     "output_type": "display_data"
    },
    {
     "data": {
      "text/html": [
       "<pre style=\"white-space:pre;overflow-x:auto;line-height:normal;font-family:Menlo,'DejaVu Sans Mono',consolas,'Courier New',monospace\">10:29:42.454 | <span style=\"color: #008080; text-decoration-color: #008080\">INFO</span>    | Task run 'process_pool_snaps-bb91f77b-33' - Finished in state <span style=\"color: #008000; text-decoration-color: #008000\">Completed</span>()\n",
       "</pre>\n"
      ],
      "text/plain": [
       "10:29:42.454 | \u001b[36mINFO\u001b[0m    | Task run 'process_pool_snaps-bb91f77b-33' - Finished in state \u001b[32mCompleted\u001b[0m()\n"
      ]
     },
     "metadata": {},
     "output_type": "display_data"
    },
    {
     "data": {
      "text/html": [
       "<pre style=\"white-space:pre;overflow-x:auto;line-height:normal;font-family:Menlo,'DejaVu Sans Mono',consolas,'Courier New',monospace\">10:29:42.462 | <span style=\"color: #008080; text-decoration-color: #008080\">INFO</span>    | Flow run<span style=\"color: #800080; text-decoration-color: #800080\"> 'magnificent-leopard'</span> - Created task run 'process_pool_snaps-bb91f77b-34' for task 'process_pool_snaps'\n",
       "</pre>\n"
      ],
      "text/plain": [
       "10:29:42.462 | \u001b[36mINFO\u001b[0m    | Flow run\u001b[35m 'magnificent-leopard'\u001b[0m - Created task run 'process_pool_snaps-bb91f77b-34' for task 'process_pool_snaps'\n"
      ]
     },
     "metadata": {},
     "output_type": "display_data"
    },
    {
     "data": {
      "text/html": [
       "<pre style=\"white-space:pre;overflow-x:auto;line-height:normal;font-family:Menlo,'DejaVu Sans Mono',consolas,'Courier New',monospace\">10:29:42.463 | <span style=\"color: #008080; text-decoration-color: #008080\">INFO</span>    | Flow run<span style=\"color: #800080; text-decoration-color: #800080\"> 'magnificent-leopard'</span> - Executing 'process_pool_snaps-bb91f77b-34' immediately...\n",
       "</pre>\n"
      ],
      "text/plain": [
       "10:29:42.463 | \u001b[36mINFO\u001b[0m    | Flow run\u001b[35m 'magnificent-leopard'\u001b[0m - Executing 'process_pool_snaps-bb91f77b-34' immediately...\n"
      ]
     },
     "metadata": {},
     "output_type": "display_data"
    },
    {
     "data": {
      "text/html": [
       "<pre style=\"white-space:pre;overflow-x:auto;line-height:normal;font-family:Menlo,'DejaVu Sans Mono',consolas,'Courier New',monospace\">10:29:42.485 | <span style=\"color: #008080; text-decoration-color: #008080\">INFO</span>    | Task run 'process_pool_snaps-bb91f77b-34' - Finished in state <span style=\"color: #008000; text-decoration-color: #008000\">Completed</span>()\n",
       "</pre>\n"
      ],
      "text/plain": [
       "10:29:42.485 | \u001b[36mINFO\u001b[0m    | Task run 'process_pool_snaps-bb91f77b-34' - Finished in state \u001b[32mCompleted\u001b[0m()\n"
      ]
     },
     "metadata": {},
     "output_type": "display_data"
    },
    {
     "data": {
      "text/html": [
       "<pre style=\"white-space:pre;overflow-x:auto;line-height:normal;font-family:Menlo,'DejaVu Sans Mono',consolas,'Courier New',monospace\">10:29:42.494 | <span style=\"color: #008080; text-decoration-color: #008080\">INFO</span>    | Flow run<span style=\"color: #800080; text-decoration-color: #800080\"> 'magnificent-leopard'</span> - Created task run 'process_pool_snaps-bb91f77b-35' for task 'process_pool_snaps'\n",
       "</pre>\n"
      ],
      "text/plain": [
       "10:29:42.494 | \u001b[36mINFO\u001b[0m    | Flow run\u001b[35m 'magnificent-leopard'\u001b[0m - Created task run 'process_pool_snaps-bb91f77b-35' for task 'process_pool_snaps'\n"
      ]
     },
     "metadata": {},
     "output_type": "display_data"
    },
    {
     "data": {
      "text/html": [
       "<pre style=\"white-space:pre;overflow-x:auto;line-height:normal;font-family:Menlo,'DejaVu Sans Mono',consolas,'Courier New',monospace\">10:29:42.494 | <span style=\"color: #008080; text-decoration-color: #008080\">INFO</span>    | Flow run<span style=\"color: #800080; text-decoration-color: #800080\"> 'magnificent-leopard'</span> - Executing 'process_pool_snaps-bb91f77b-35' immediately...\n",
       "</pre>\n"
      ],
      "text/plain": [
       "10:29:42.494 | \u001b[36mINFO\u001b[0m    | Flow run\u001b[35m 'magnificent-leopard'\u001b[0m - Executing 'process_pool_snaps-bb91f77b-35' immediately...\n"
      ]
     },
     "metadata": {},
     "output_type": "display_data"
    },
    {
     "data": {
      "text/html": [
       "<pre style=\"white-space:pre;overflow-x:auto;line-height:normal;font-family:Menlo,'DejaVu Sans Mono',consolas,'Courier New',monospace\">10:29:42.516 | <span style=\"color: #008080; text-decoration-color: #008080\">INFO</span>    | Task run 'process_pool_snaps-bb91f77b-35' - Finished in state <span style=\"color: #008000; text-decoration-color: #008000\">Completed</span>()\n",
       "</pre>\n"
      ],
      "text/plain": [
       "10:29:42.516 | \u001b[36mINFO\u001b[0m    | Task run 'process_pool_snaps-bb91f77b-35' - Finished in state \u001b[32mCompleted\u001b[0m()\n"
      ]
     },
     "metadata": {},
     "output_type": "display_data"
    },
    {
     "data": {
      "text/html": [
       "<pre style=\"white-space:pre;overflow-x:auto;line-height:normal;font-family:Menlo,'DejaVu Sans Mono',consolas,'Courier New',monospace\">10:29:42.524 | <span style=\"color: #008080; text-decoration-color: #008080\">INFO</span>    | Flow run<span style=\"color: #800080; text-decoration-color: #800080\"> 'magnificent-leopard'</span> - Created task run 'process_pool_snaps-bb91f77b-36' for task 'process_pool_snaps'\n",
       "</pre>\n"
      ],
      "text/plain": [
       "10:29:42.524 | \u001b[36mINFO\u001b[0m    | Flow run\u001b[35m 'magnificent-leopard'\u001b[0m - Created task run 'process_pool_snaps-bb91f77b-36' for task 'process_pool_snaps'\n"
      ]
     },
     "metadata": {},
     "output_type": "display_data"
    },
    {
     "data": {
      "text/html": [
       "<pre style=\"white-space:pre;overflow-x:auto;line-height:normal;font-family:Menlo,'DejaVu Sans Mono',consolas,'Courier New',monospace\">10:29:42.525 | <span style=\"color: #008080; text-decoration-color: #008080\">INFO</span>    | Flow run<span style=\"color: #800080; text-decoration-color: #800080\"> 'magnificent-leopard'</span> - Executing 'process_pool_snaps-bb91f77b-36' immediately...\n",
       "</pre>\n"
      ],
      "text/plain": [
       "10:29:42.525 | \u001b[36mINFO\u001b[0m    | Flow run\u001b[35m 'magnificent-leopard'\u001b[0m - Executing 'process_pool_snaps-bb91f77b-36' immediately...\n"
      ]
     },
     "metadata": {},
     "output_type": "display_data"
    },
    {
     "data": {
      "text/html": [
       "<pre style=\"white-space:pre;overflow-x:auto;line-height:normal;font-family:Menlo,'DejaVu Sans Mono',consolas,'Courier New',monospace\">10:29:42.547 | <span style=\"color: #008080; text-decoration-color: #008080\">INFO</span>    | Task run 'process_pool_snaps-bb91f77b-36' - Finished in state <span style=\"color: #008000; text-decoration-color: #008000\">Completed</span>()\n",
       "</pre>\n"
      ],
      "text/plain": [
       "10:29:42.547 | \u001b[36mINFO\u001b[0m    | Task run 'process_pool_snaps-bb91f77b-36' - Finished in state \u001b[32mCompleted\u001b[0m()\n"
      ]
     },
     "metadata": {},
     "output_type": "display_data"
    },
    {
     "data": {
      "text/html": [
       "<pre style=\"white-space:pre;overflow-x:auto;line-height:normal;font-family:Menlo,'DejaVu Sans Mono',consolas,'Courier New',monospace\">10:29:42.556 | <span style=\"color: #008080; text-decoration-color: #008080\">INFO</span>    | Flow run<span style=\"color: #800080; text-decoration-color: #800080\"> 'magnificent-leopard'</span> - Created task run 'process_pool_snaps-bb91f77b-37' for task 'process_pool_snaps'\n",
       "</pre>\n"
      ],
      "text/plain": [
       "10:29:42.556 | \u001b[36mINFO\u001b[0m    | Flow run\u001b[35m 'magnificent-leopard'\u001b[0m - Created task run 'process_pool_snaps-bb91f77b-37' for task 'process_pool_snaps'\n"
      ]
     },
     "metadata": {},
     "output_type": "display_data"
    },
    {
     "data": {
      "text/html": [
       "<pre style=\"white-space:pre;overflow-x:auto;line-height:normal;font-family:Menlo,'DejaVu Sans Mono',consolas,'Courier New',monospace\">10:29:42.557 | <span style=\"color: #008080; text-decoration-color: #008080\">INFO</span>    | Flow run<span style=\"color: #800080; text-decoration-color: #800080\"> 'magnificent-leopard'</span> - Executing 'process_pool_snaps-bb91f77b-37' immediately...\n",
       "</pre>\n"
      ],
      "text/plain": [
       "10:29:42.557 | \u001b[36mINFO\u001b[0m    | Flow run\u001b[35m 'magnificent-leopard'\u001b[0m - Executing 'process_pool_snaps-bb91f77b-37' immediately...\n"
      ]
     },
     "metadata": {},
     "output_type": "display_data"
    },
    {
     "data": {
      "text/html": [
       "<pre style=\"white-space:pre;overflow-x:auto;line-height:normal;font-family:Menlo,'DejaVu Sans Mono',consolas,'Courier New',monospace\">10:29:42.580 | <span style=\"color: #008080; text-decoration-color: #008080\">INFO</span>    | Task run 'process_pool_snaps-bb91f77b-37' - Finished in state <span style=\"color: #008000; text-decoration-color: #008000\">Completed</span>()\n",
       "</pre>\n"
      ],
      "text/plain": [
       "10:29:42.580 | \u001b[36mINFO\u001b[0m    | Task run 'process_pool_snaps-bb91f77b-37' - Finished in state \u001b[32mCompleted\u001b[0m()\n"
      ]
     },
     "metadata": {},
     "output_type": "display_data"
    },
    {
     "data": {
      "text/html": [
       "<pre style=\"white-space:pre;overflow-x:auto;line-height:normal;font-family:Menlo,'DejaVu Sans Mono',consolas,'Courier New',monospace\">10:29:42.588 | <span style=\"color: #008080; text-decoration-color: #008080\">INFO</span>    | Flow run<span style=\"color: #800080; text-decoration-color: #800080\"> 'magnificent-leopard'</span> - Created task run 'process_pool_snaps-bb91f77b-38' for task 'process_pool_snaps'\n",
       "</pre>\n"
      ],
      "text/plain": [
       "10:29:42.588 | \u001b[36mINFO\u001b[0m    | Flow run\u001b[35m 'magnificent-leopard'\u001b[0m - Created task run 'process_pool_snaps-bb91f77b-38' for task 'process_pool_snaps'\n"
      ]
     },
     "metadata": {},
     "output_type": "display_data"
    },
    {
     "data": {
      "text/html": [
       "<pre style=\"white-space:pre;overflow-x:auto;line-height:normal;font-family:Menlo,'DejaVu Sans Mono',consolas,'Courier New',monospace\">10:29:42.589 | <span style=\"color: #008080; text-decoration-color: #008080\">INFO</span>    | Flow run<span style=\"color: #800080; text-decoration-color: #800080\"> 'magnificent-leopard'</span> - Executing 'process_pool_snaps-bb91f77b-38' immediately...\n",
       "</pre>\n"
      ],
      "text/plain": [
       "10:29:42.589 | \u001b[36mINFO\u001b[0m    | Flow run\u001b[35m 'magnificent-leopard'\u001b[0m - Executing 'process_pool_snaps-bb91f77b-38' immediately...\n"
      ]
     },
     "metadata": {},
     "output_type": "display_data"
    },
    {
     "data": {
      "text/html": [
       "<pre style=\"white-space:pre;overflow-x:auto;line-height:normal;font-family:Menlo,'DejaVu Sans Mono',consolas,'Courier New',monospace\">10:29:42.611 | <span style=\"color: #008080; text-decoration-color: #008080\">INFO</span>    | Task run 'process_pool_snaps-bb91f77b-38' - Finished in state <span style=\"color: #008000; text-decoration-color: #008000\">Completed</span>()\n",
       "</pre>\n"
      ],
      "text/plain": [
       "10:29:42.611 | \u001b[36mINFO\u001b[0m    | Task run 'process_pool_snaps-bb91f77b-38' - Finished in state \u001b[32mCompleted\u001b[0m()\n"
      ]
     },
     "metadata": {},
     "output_type": "display_data"
    },
    {
     "data": {
      "text/html": [
       "<pre style=\"white-space:pre;overflow-x:auto;line-height:normal;font-family:Menlo,'DejaVu Sans Mono',consolas,'Courier New',monospace\">10:29:42.620 | <span style=\"color: #008080; text-decoration-color: #008080\">INFO</span>    | Flow run<span style=\"color: #800080; text-decoration-color: #800080\"> 'magnificent-leopard'</span> - Created task run 'process_pool_snaps-bb91f77b-39' for task 'process_pool_snaps'\n",
       "</pre>\n"
      ],
      "text/plain": [
       "10:29:42.620 | \u001b[36mINFO\u001b[0m    | Flow run\u001b[35m 'magnificent-leopard'\u001b[0m - Created task run 'process_pool_snaps-bb91f77b-39' for task 'process_pool_snaps'\n"
      ]
     },
     "metadata": {},
     "output_type": "display_data"
    },
    {
     "data": {
      "text/html": [
       "<pre style=\"white-space:pre;overflow-x:auto;line-height:normal;font-family:Menlo,'DejaVu Sans Mono',consolas,'Courier New',monospace\">10:29:42.620 | <span style=\"color: #008080; text-decoration-color: #008080\">INFO</span>    | Flow run<span style=\"color: #800080; text-decoration-color: #800080\"> 'magnificent-leopard'</span> - Executing 'process_pool_snaps-bb91f77b-39' immediately...\n",
       "</pre>\n"
      ],
      "text/plain": [
       "10:29:42.620 | \u001b[36mINFO\u001b[0m    | Flow run\u001b[35m 'magnificent-leopard'\u001b[0m - Executing 'process_pool_snaps-bb91f77b-39' immediately...\n"
      ]
     },
     "metadata": {},
     "output_type": "display_data"
    },
    {
     "data": {
      "text/html": [
       "<pre style=\"white-space:pre;overflow-x:auto;line-height:normal;font-family:Menlo,'DejaVu Sans Mono',consolas,'Courier New',monospace\">10:29:42.642 | <span style=\"color: #008080; text-decoration-color: #008080\">INFO</span>    | Task run 'process_pool_snaps-bb91f77b-39' - Finished in state <span style=\"color: #008000; text-decoration-color: #008000\">Completed</span>()\n",
       "</pre>\n"
      ],
      "text/plain": [
       "10:29:42.642 | \u001b[36mINFO\u001b[0m    | Task run 'process_pool_snaps-bb91f77b-39' - Finished in state \u001b[32mCompleted\u001b[0m()\n"
      ]
     },
     "metadata": {},
     "output_type": "display_data"
    },
    {
     "data": {
      "text/html": [
       "<pre style=\"white-space:pre;overflow-x:auto;line-height:normal;font-family:Menlo,'DejaVu Sans Mono',consolas,'Courier New',monospace\">10:29:42.651 | <span style=\"color: #008080; text-decoration-color: #008080\">INFO</span>    | Flow run<span style=\"color: #800080; text-decoration-color: #800080\"> 'magnificent-leopard'</span> - Created task run 'process_pool_snaps-bb91f77b-40' for task 'process_pool_snaps'\n",
       "</pre>\n"
      ],
      "text/plain": [
       "10:29:42.651 | \u001b[36mINFO\u001b[0m    | Flow run\u001b[35m 'magnificent-leopard'\u001b[0m - Created task run 'process_pool_snaps-bb91f77b-40' for task 'process_pool_snaps'\n"
      ]
     },
     "metadata": {},
     "output_type": "display_data"
    },
    {
     "data": {
      "text/html": [
       "<pre style=\"white-space:pre;overflow-x:auto;line-height:normal;font-family:Menlo,'DejaVu Sans Mono',consolas,'Courier New',monospace\">10:29:42.651 | <span style=\"color: #008080; text-decoration-color: #008080\">INFO</span>    | Flow run<span style=\"color: #800080; text-decoration-color: #800080\"> 'magnificent-leopard'</span> - Executing 'process_pool_snaps-bb91f77b-40' immediately...\n",
       "</pre>\n"
      ],
      "text/plain": [
       "10:29:42.651 | \u001b[36mINFO\u001b[0m    | Flow run\u001b[35m 'magnificent-leopard'\u001b[0m - Executing 'process_pool_snaps-bb91f77b-40' immediately...\n"
      ]
     },
     "metadata": {},
     "output_type": "display_data"
    },
    {
     "data": {
      "text/html": [
       "<pre style=\"white-space:pre;overflow-x:auto;line-height:normal;font-family:Menlo,'DejaVu Sans Mono',consolas,'Courier New',monospace\">10:29:42.673 | <span style=\"color: #008080; text-decoration-color: #008080\">INFO</span>    | Task run 'process_pool_snaps-bb91f77b-40' - Finished in state <span style=\"color: #008000; text-decoration-color: #008000\">Completed</span>()\n",
       "</pre>\n"
      ],
      "text/plain": [
       "10:29:42.673 | \u001b[36mINFO\u001b[0m    | Task run 'process_pool_snaps-bb91f77b-40' - Finished in state \u001b[32mCompleted\u001b[0m()\n"
      ]
     },
     "metadata": {},
     "output_type": "display_data"
    },
    {
     "data": {
      "text/html": [
       "<pre style=\"white-space:pre;overflow-x:auto;line-height:normal;font-family:Menlo,'DejaVu Sans Mono',consolas,'Courier New',monospace\">10:29:42.682 | <span style=\"color: #008080; text-decoration-color: #008080\">INFO</span>    | Flow run<span style=\"color: #800080; text-decoration-color: #800080\"> 'magnificent-leopard'</span> - Created task run 'process_pool_snaps-bb91f77b-41' for task 'process_pool_snaps'\n",
       "</pre>\n"
      ],
      "text/plain": [
       "10:29:42.682 | \u001b[36mINFO\u001b[0m    | Flow run\u001b[35m 'magnificent-leopard'\u001b[0m - Created task run 'process_pool_snaps-bb91f77b-41' for task 'process_pool_snaps'\n"
      ]
     },
     "metadata": {},
     "output_type": "display_data"
    },
    {
     "data": {
      "text/html": [
       "<pre style=\"white-space:pre;overflow-x:auto;line-height:normal;font-family:Menlo,'DejaVu Sans Mono',consolas,'Courier New',monospace\">10:29:42.682 | <span style=\"color: #008080; text-decoration-color: #008080\">INFO</span>    | Flow run<span style=\"color: #800080; text-decoration-color: #800080\"> 'magnificent-leopard'</span> - Executing 'process_pool_snaps-bb91f77b-41' immediately...\n",
       "</pre>\n"
      ],
      "text/plain": [
       "10:29:42.682 | \u001b[36mINFO\u001b[0m    | Flow run\u001b[35m 'magnificent-leopard'\u001b[0m - Executing 'process_pool_snaps-bb91f77b-41' immediately...\n"
      ]
     },
     "metadata": {},
     "output_type": "display_data"
    },
    {
     "data": {
      "text/html": [
       "<pre style=\"white-space:pre;overflow-x:auto;line-height:normal;font-family:Menlo,'DejaVu Sans Mono',consolas,'Courier New',monospace\">10:29:42.705 | <span style=\"color: #008080; text-decoration-color: #008080\">INFO</span>    | Task run 'process_pool_snaps-bb91f77b-41' - Finished in state <span style=\"color: #008000; text-decoration-color: #008000\">Completed</span>()\n",
       "</pre>\n"
      ],
      "text/plain": [
       "10:29:42.705 | \u001b[36mINFO\u001b[0m    | Task run 'process_pool_snaps-bb91f77b-41' - Finished in state \u001b[32mCompleted\u001b[0m()\n"
      ]
     },
     "metadata": {},
     "output_type": "display_data"
    },
    {
     "data": {
      "text/html": [
       "<pre style=\"white-space:pre;overflow-x:auto;line-height:normal;font-family:Menlo,'DejaVu Sans Mono',consolas,'Courier New',monospace\">10:29:42.714 | <span style=\"color: #008080; text-decoration-color: #008080\">INFO</span>    | Flow run<span style=\"color: #800080; text-decoration-color: #800080\"> 'magnificent-leopard'</span> - Created task run 'process_pool_snaps-bb91f77b-42' for task 'process_pool_snaps'\n",
       "</pre>\n"
      ],
      "text/plain": [
       "10:29:42.714 | \u001b[36mINFO\u001b[0m    | Flow run\u001b[35m 'magnificent-leopard'\u001b[0m - Created task run 'process_pool_snaps-bb91f77b-42' for task 'process_pool_snaps'\n"
      ]
     },
     "metadata": {},
     "output_type": "display_data"
    },
    {
     "data": {
      "text/html": [
       "<pre style=\"white-space:pre;overflow-x:auto;line-height:normal;font-family:Menlo,'DejaVu Sans Mono',consolas,'Courier New',monospace\">10:29:42.714 | <span style=\"color: #008080; text-decoration-color: #008080\">INFO</span>    | Flow run<span style=\"color: #800080; text-decoration-color: #800080\"> 'magnificent-leopard'</span> - Executing 'process_pool_snaps-bb91f77b-42' immediately...\n",
       "</pre>\n"
      ],
      "text/plain": [
       "10:29:42.714 | \u001b[36mINFO\u001b[0m    | Flow run\u001b[35m 'magnificent-leopard'\u001b[0m - Executing 'process_pool_snaps-bb91f77b-42' immediately...\n"
      ]
     },
     "metadata": {},
     "output_type": "display_data"
    },
    {
     "data": {
      "text/html": [
       "<pre style=\"white-space:pre;overflow-x:auto;line-height:normal;font-family:Menlo,'DejaVu Sans Mono',consolas,'Courier New',monospace\">10:29:42.736 | <span style=\"color: #008080; text-decoration-color: #008080\">INFO</span>    | Task run 'process_pool_snaps-bb91f77b-42' - Finished in state <span style=\"color: #008000; text-decoration-color: #008000\">Completed</span>()\n",
       "</pre>\n"
      ],
      "text/plain": [
       "10:29:42.736 | \u001b[36mINFO\u001b[0m    | Task run 'process_pool_snaps-bb91f77b-42' - Finished in state \u001b[32mCompleted\u001b[0m()\n"
      ]
     },
     "metadata": {},
     "output_type": "display_data"
    },
    {
     "data": {
      "text/html": [
       "<pre style=\"white-space:pre;overflow-x:auto;line-height:normal;font-family:Menlo,'DejaVu Sans Mono',consolas,'Courier New',monospace\">10:29:42.745 | <span style=\"color: #008080; text-decoration-color: #008080\">INFO</span>    | Flow run<span style=\"color: #800080; text-decoration-color: #800080\"> 'magnificent-leopard'</span> - Created task run 'process_pool_snaps-bb91f77b-43' for task 'process_pool_snaps'\n",
       "</pre>\n"
      ],
      "text/plain": [
       "10:29:42.745 | \u001b[36mINFO\u001b[0m    | Flow run\u001b[35m 'magnificent-leopard'\u001b[0m - Created task run 'process_pool_snaps-bb91f77b-43' for task 'process_pool_snaps'\n"
      ]
     },
     "metadata": {},
     "output_type": "display_data"
    },
    {
     "data": {
      "text/html": [
       "<pre style=\"white-space:pre;overflow-x:auto;line-height:normal;font-family:Menlo,'DejaVu Sans Mono',consolas,'Courier New',monospace\">10:29:42.746 | <span style=\"color: #008080; text-decoration-color: #008080\">INFO</span>    | Flow run<span style=\"color: #800080; text-decoration-color: #800080\"> 'magnificent-leopard'</span> - Executing 'process_pool_snaps-bb91f77b-43' immediately...\n",
       "</pre>\n"
      ],
      "text/plain": [
       "10:29:42.746 | \u001b[36mINFO\u001b[0m    | Flow run\u001b[35m 'magnificent-leopard'\u001b[0m - Executing 'process_pool_snaps-bb91f77b-43' immediately...\n"
      ]
     },
     "metadata": {},
     "output_type": "display_data"
    },
    {
     "data": {
      "text/html": [
       "<pre style=\"white-space:pre;overflow-x:auto;line-height:normal;font-family:Menlo,'DejaVu Sans Mono',consolas,'Courier New',monospace\">10:29:42.767 | <span style=\"color: #008080; text-decoration-color: #008080\">INFO</span>    | Task run 'process_pool_snaps-bb91f77b-43' - Finished in state <span style=\"color: #008000; text-decoration-color: #008000\">Completed</span>()\n",
       "</pre>\n"
      ],
      "text/plain": [
       "10:29:42.767 | \u001b[36mINFO\u001b[0m    | Task run 'process_pool_snaps-bb91f77b-43' - Finished in state \u001b[32mCompleted\u001b[0m()\n"
      ]
     },
     "metadata": {},
     "output_type": "display_data"
    },
    {
     "data": {
      "text/html": [
       "<pre style=\"white-space:pre;overflow-x:auto;line-height:normal;font-family:Menlo,'DejaVu Sans Mono',consolas,'Courier New',monospace\">10:29:42.776 | <span style=\"color: #008080; text-decoration-color: #008080\">INFO</span>    | Flow run<span style=\"color: #800080; text-decoration-color: #800080\"> 'magnificent-leopard'</span> - Created task run 'process_pool_snaps-bb91f77b-44' for task 'process_pool_snaps'\n",
       "</pre>\n"
      ],
      "text/plain": [
       "10:29:42.776 | \u001b[36mINFO\u001b[0m    | Flow run\u001b[35m 'magnificent-leopard'\u001b[0m - Created task run 'process_pool_snaps-bb91f77b-44' for task 'process_pool_snaps'\n"
      ]
     },
     "metadata": {},
     "output_type": "display_data"
    },
    {
     "data": {
      "text/html": [
       "<pre style=\"white-space:pre;overflow-x:auto;line-height:normal;font-family:Menlo,'DejaVu Sans Mono',consolas,'Courier New',monospace\">10:29:42.777 | <span style=\"color: #008080; text-decoration-color: #008080\">INFO</span>    | Flow run<span style=\"color: #800080; text-decoration-color: #800080\"> 'magnificent-leopard'</span> - Executing 'process_pool_snaps-bb91f77b-44' immediately...\n",
       "</pre>\n"
      ],
      "text/plain": [
       "10:29:42.777 | \u001b[36mINFO\u001b[0m    | Flow run\u001b[35m 'magnificent-leopard'\u001b[0m - Executing 'process_pool_snaps-bb91f77b-44' immediately...\n"
      ]
     },
     "metadata": {},
     "output_type": "display_data"
    },
    {
     "data": {
      "text/html": [
       "<pre style=\"white-space:pre;overflow-x:auto;line-height:normal;font-family:Menlo,'DejaVu Sans Mono',consolas,'Courier New',monospace\">10:29:42.798 | <span style=\"color: #008080; text-decoration-color: #008080\">INFO</span>    | Task run 'process_pool_snaps-bb91f77b-44' - Finished in state <span style=\"color: #008000; text-decoration-color: #008000\">Completed</span>()\n",
       "</pre>\n"
      ],
      "text/plain": [
       "10:29:42.798 | \u001b[36mINFO\u001b[0m    | Task run 'process_pool_snaps-bb91f77b-44' - Finished in state \u001b[32mCompleted\u001b[0m()\n"
      ]
     },
     "metadata": {},
     "output_type": "display_data"
    },
    {
     "data": {
      "text/html": [
       "<pre style=\"white-space:pre;overflow-x:auto;line-height:normal;font-family:Menlo,'DejaVu Sans Mono',consolas,'Courier New',monospace\">10:29:42.807 | <span style=\"color: #008080; text-decoration-color: #008080\">INFO</span>    | Flow run<span style=\"color: #800080; text-decoration-color: #800080\"> 'magnificent-leopard'</span> - Created task run 'process_pool_snaps-bb91f77b-45' for task 'process_pool_snaps'\n",
       "</pre>\n"
      ],
      "text/plain": [
       "10:29:42.807 | \u001b[36mINFO\u001b[0m    | Flow run\u001b[35m 'magnificent-leopard'\u001b[0m - Created task run 'process_pool_snaps-bb91f77b-45' for task 'process_pool_snaps'\n"
      ]
     },
     "metadata": {},
     "output_type": "display_data"
    },
    {
     "data": {
      "text/html": [
       "<pre style=\"white-space:pre;overflow-x:auto;line-height:normal;font-family:Menlo,'DejaVu Sans Mono',consolas,'Courier New',monospace\">10:29:42.808 | <span style=\"color: #008080; text-decoration-color: #008080\">INFO</span>    | Flow run<span style=\"color: #800080; text-decoration-color: #800080\"> 'magnificent-leopard'</span> - Executing 'process_pool_snaps-bb91f77b-45' immediately...\n",
       "</pre>\n"
      ],
      "text/plain": [
       "10:29:42.808 | \u001b[36mINFO\u001b[0m    | Flow run\u001b[35m 'magnificent-leopard'\u001b[0m - Executing 'process_pool_snaps-bb91f77b-45' immediately...\n"
      ]
     },
     "metadata": {},
     "output_type": "display_data"
    },
    {
     "data": {
      "text/html": [
       "<pre style=\"white-space:pre;overflow-x:auto;line-height:normal;font-family:Menlo,'DejaVu Sans Mono',consolas,'Courier New',monospace\">10:29:42.830 | <span style=\"color: #008080; text-decoration-color: #008080\">INFO</span>    | Task run 'process_pool_snaps-bb91f77b-45' - Finished in state <span style=\"color: #008000; text-decoration-color: #008000\">Completed</span>()\n",
       "</pre>\n"
      ],
      "text/plain": [
       "10:29:42.830 | \u001b[36mINFO\u001b[0m    | Task run 'process_pool_snaps-bb91f77b-45' - Finished in state \u001b[32mCompleted\u001b[0m()\n"
      ]
     },
     "metadata": {},
     "output_type": "display_data"
    },
    {
     "data": {
      "text/html": [
       "<pre style=\"white-space:pre;overflow-x:auto;line-height:normal;font-family:Menlo,'DejaVu Sans Mono',consolas,'Courier New',monospace\">10:29:42.853 | <span style=\"color: #008080; text-decoration-color: #008080\">INFO</span>    | Flow run<span style=\"color: #800080; text-decoration-color: #800080\"> 'magnificent-leopard'</span> - Created task run 'process_pool_snaps-bb91f77b-46' for task 'process_pool_snaps'\n",
       "</pre>\n"
      ],
      "text/plain": [
       "10:29:42.853 | \u001b[36mINFO\u001b[0m    | Flow run\u001b[35m 'magnificent-leopard'\u001b[0m - Created task run 'process_pool_snaps-bb91f77b-46' for task 'process_pool_snaps'\n"
      ]
     },
     "metadata": {},
     "output_type": "display_data"
    },
    {
     "data": {
      "text/html": [
       "<pre style=\"white-space:pre;overflow-x:auto;line-height:normal;font-family:Menlo,'DejaVu Sans Mono',consolas,'Courier New',monospace\">10:29:42.854 | <span style=\"color: #008080; text-decoration-color: #008080\">INFO</span>    | Flow run<span style=\"color: #800080; text-decoration-color: #800080\"> 'magnificent-leopard'</span> - Executing 'process_pool_snaps-bb91f77b-46' immediately...\n",
       "</pre>\n"
      ],
      "text/plain": [
       "10:29:42.854 | \u001b[36mINFO\u001b[0m    | Flow run\u001b[35m 'magnificent-leopard'\u001b[0m - Executing 'process_pool_snaps-bb91f77b-46' immediately...\n"
      ]
     },
     "metadata": {},
     "output_type": "display_data"
    },
    {
     "data": {
      "text/html": [
       "<pre style=\"white-space:pre;overflow-x:auto;line-height:normal;font-family:Menlo,'DejaVu Sans Mono',consolas,'Courier New',monospace\">10:29:42.880 | <span style=\"color: #008080; text-decoration-color: #008080\">INFO</span>    | Task run 'process_pool_snaps-bb91f77b-46' - Finished in state <span style=\"color: #008000; text-decoration-color: #008000\">Completed</span>()\n",
       "</pre>\n"
      ],
      "text/plain": [
       "10:29:42.880 | \u001b[36mINFO\u001b[0m    | Task run 'process_pool_snaps-bb91f77b-46' - Finished in state \u001b[32mCompleted\u001b[0m()\n"
      ]
     },
     "metadata": {},
     "output_type": "display_data"
    },
    {
     "data": {
      "text/html": [
       "<pre style=\"white-space:pre;overflow-x:auto;line-height:normal;font-family:Menlo,'DejaVu Sans Mono',consolas,'Courier New',monospace\">10:29:42.888 | <span style=\"color: #008080; text-decoration-color: #008080\">INFO</span>    | Flow run<span style=\"color: #800080; text-decoration-color: #800080\"> 'magnificent-leopard'</span> - Created task run 'process_pool_snaps-bb91f77b-47' for task 'process_pool_snaps'\n",
       "</pre>\n"
      ],
      "text/plain": [
       "10:29:42.888 | \u001b[36mINFO\u001b[0m    | Flow run\u001b[35m 'magnificent-leopard'\u001b[0m - Created task run 'process_pool_snaps-bb91f77b-47' for task 'process_pool_snaps'\n"
      ]
     },
     "metadata": {},
     "output_type": "display_data"
    },
    {
     "data": {
      "text/html": [
       "<pre style=\"white-space:pre;overflow-x:auto;line-height:normal;font-family:Menlo,'DejaVu Sans Mono',consolas,'Courier New',monospace\">10:29:42.889 | <span style=\"color: #008080; text-decoration-color: #008080\">INFO</span>    | Flow run<span style=\"color: #800080; text-decoration-color: #800080\"> 'magnificent-leopard'</span> - Executing 'process_pool_snaps-bb91f77b-47' immediately...\n",
       "</pre>\n"
      ],
      "text/plain": [
       "10:29:42.889 | \u001b[36mINFO\u001b[0m    | Flow run\u001b[35m 'magnificent-leopard'\u001b[0m - Executing 'process_pool_snaps-bb91f77b-47' immediately...\n"
      ]
     },
     "metadata": {},
     "output_type": "display_data"
    },
    {
     "data": {
      "text/html": [
       "<pre style=\"white-space:pre;overflow-x:auto;line-height:normal;font-family:Menlo,'DejaVu Sans Mono',consolas,'Courier New',monospace\">10:29:42.911 | <span style=\"color: #008080; text-decoration-color: #008080\">INFO</span>    | Task run 'process_pool_snaps-bb91f77b-47' - Finished in state <span style=\"color: #008000; text-decoration-color: #008000\">Completed</span>()\n",
       "</pre>\n"
      ],
      "text/plain": [
       "10:29:42.911 | \u001b[36mINFO\u001b[0m    | Task run 'process_pool_snaps-bb91f77b-47' - Finished in state \u001b[32mCompleted\u001b[0m()\n"
      ]
     },
     "metadata": {},
     "output_type": "display_data"
    },
    {
     "data": {
      "text/html": [
       "<pre style=\"white-space:pre;overflow-x:auto;line-height:normal;font-family:Menlo,'DejaVu Sans Mono',consolas,'Courier New',monospace\">10:29:42.921 | <span style=\"color: #008080; text-decoration-color: #008080\">INFO</span>    | Flow run<span style=\"color: #800080; text-decoration-color: #800080\"> 'magnificent-leopard'</span> - Created task run 'process_pool_snaps-bb91f77b-48' for task 'process_pool_snaps'\n",
       "</pre>\n"
      ],
      "text/plain": [
       "10:29:42.921 | \u001b[36mINFO\u001b[0m    | Flow run\u001b[35m 'magnificent-leopard'\u001b[0m - Created task run 'process_pool_snaps-bb91f77b-48' for task 'process_pool_snaps'\n"
      ]
     },
     "metadata": {},
     "output_type": "display_data"
    },
    {
     "data": {
      "text/html": [
       "<pre style=\"white-space:pre;overflow-x:auto;line-height:normal;font-family:Menlo,'DejaVu Sans Mono',consolas,'Courier New',monospace\">10:29:42.922 | <span style=\"color: #008080; text-decoration-color: #008080\">INFO</span>    | Flow run<span style=\"color: #800080; text-decoration-color: #800080\"> 'magnificent-leopard'</span> - Executing 'process_pool_snaps-bb91f77b-48' immediately...\n",
       "</pre>\n"
      ],
      "text/plain": [
       "10:29:42.922 | \u001b[36mINFO\u001b[0m    | Flow run\u001b[35m 'magnificent-leopard'\u001b[0m - Executing 'process_pool_snaps-bb91f77b-48' immediately...\n"
      ]
     },
     "metadata": {},
     "output_type": "display_data"
    },
    {
     "data": {
      "text/html": [
       "<pre style=\"white-space:pre;overflow-x:auto;line-height:normal;font-family:Menlo,'DejaVu Sans Mono',consolas,'Courier New',monospace\">10:29:42.957 | <span style=\"color: #008080; text-decoration-color: #008080\">INFO</span>    | Task run 'process_pool_snaps-bb91f77b-48' - Finished in state <span style=\"color: #008000; text-decoration-color: #008000\">Completed</span>()\n",
       "</pre>\n"
      ],
      "text/plain": [
       "10:29:42.957 | \u001b[36mINFO\u001b[0m    | Task run 'process_pool_snaps-bb91f77b-48' - Finished in state \u001b[32mCompleted\u001b[0m()\n"
      ]
     },
     "metadata": {},
     "output_type": "display_data"
    },
    {
     "data": {
      "text/html": [
       "<pre style=\"white-space:pre;overflow-x:auto;line-height:normal;font-family:Menlo,'DejaVu Sans Mono',consolas,'Courier New',monospace\">10:29:42.969 | <span style=\"color: #008080; text-decoration-color: #008080\">INFO</span>    | Flow run<span style=\"color: #800080; text-decoration-color: #800080\"> 'magnificent-leopard'</span> - Created task run 'process_pool_snaps-bb91f77b-49' for task 'process_pool_snaps'\n",
       "</pre>\n"
      ],
      "text/plain": [
       "10:29:42.969 | \u001b[36mINFO\u001b[0m    | Flow run\u001b[35m 'magnificent-leopard'\u001b[0m - Created task run 'process_pool_snaps-bb91f77b-49' for task 'process_pool_snaps'\n"
      ]
     },
     "metadata": {},
     "output_type": "display_data"
    },
    {
     "data": {
      "text/html": [
       "<pre style=\"white-space:pre;overflow-x:auto;line-height:normal;font-family:Menlo,'DejaVu Sans Mono',consolas,'Courier New',monospace\">10:29:42.970 | <span style=\"color: #008080; text-decoration-color: #008080\">INFO</span>    | Flow run<span style=\"color: #800080; text-decoration-color: #800080\"> 'magnificent-leopard'</span> - Executing 'process_pool_snaps-bb91f77b-49' immediately...\n",
       "</pre>\n"
      ],
      "text/plain": [
       "10:29:42.970 | \u001b[36mINFO\u001b[0m    | Flow run\u001b[35m 'magnificent-leopard'\u001b[0m - Executing 'process_pool_snaps-bb91f77b-49' immediately...\n"
      ]
     },
     "metadata": {},
     "output_type": "display_data"
    },
    {
     "data": {
      "text/html": [
       "<pre style=\"white-space:pre;overflow-x:auto;line-height:normal;font-family:Menlo,'DejaVu Sans Mono',consolas,'Courier New',monospace\">10:29:42.993 | <span style=\"color: #008080; text-decoration-color: #008080\">INFO</span>    | Task run 'process_pool_snaps-bb91f77b-49' - Finished in state <span style=\"color: #008000; text-decoration-color: #008000\">Completed</span>()\n",
       "</pre>\n"
      ],
      "text/plain": [
       "10:29:42.993 | \u001b[36mINFO\u001b[0m    | Task run 'process_pool_snaps-bb91f77b-49' - Finished in state \u001b[32mCompleted\u001b[0m()\n"
      ]
     },
     "metadata": {},
     "output_type": "display_data"
    },
    {
     "data": {
      "text/html": [
       "<pre style=\"white-space:pre;overflow-x:auto;line-height:normal;font-family:Menlo,'DejaVu Sans Mono',consolas,'Courier New',monospace\">10:29:43.002 | <span style=\"color: #008080; text-decoration-color: #008080\">INFO</span>    | Flow run<span style=\"color: #800080; text-decoration-color: #800080\"> 'magnificent-leopard'</span> - Created task run 'process_pool_snaps-bb91f77b-50' for task 'process_pool_snaps'\n",
       "</pre>\n"
      ],
      "text/plain": [
       "10:29:43.002 | \u001b[36mINFO\u001b[0m    | Flow run\u001b[35m 'magnificent-leopard'\u001b[0m - Created task run 'process_pool_snaps-bb91f77b-50' for task 'process_pool_snaps'\n"
      ]
     },
     "metadata": {},
     "output_type": "display_data"
    },
    {
     "data": {
      "text/html": [
       "<pre style=\"white-space:pre;overflow-x:auto;line-height:normal;font-family:Menlo,'DejaVu Sans Mono',consolas,'Courier New',monospace\">10:29:43.003 | <span style=\"color: #008080; text-decoration-color: #008080\">INFO</span>    | Flow run<span style=\"color: #800080; text-decoration-color: #800080\"> 'magnificent-leopard'</span> - Executing 'process_pool_snaps-bb91f77b-50' immediately...\n",
       "</pre>\n"
      ],
      "text/plain": [
       "10:29:43.003 | \u001b[36mINFO\u001b[0m    | Flow run\u001b[35m 'magnificent-leopard'\u001b[0m - Executing 'process_pool_snaps-bb91f77b-50' immediately...\n"
      ]
     },
     "metadata": {},
     "output_type": "display_data"
    },
    {
     "data": {
      "text/html": [
       "<pre style=\"white-space:pre;overflow-x:auto;line-height:normal;font-family:Menlo,'DejaVu Sans Mono',consolas,'Courier New',monospace\">10:29:43.025 | <span style=\"color: #008080; text-decoration-color: #008080\">INFO</span>    | Task run 'process_pool_snaps-bb91f77b-50' - Finished in state <span style=\"color: #008000; text-decoration-color: #008000\">Completed</span>()\n",
       "</pre>\n"
      ],
      "text/plain": [
       "10:29:43.025 | \u001b[36mINFO\u001b[0m    | Task run 'process_pool_snaps-bb91f77b-50' - Finished in state \u001b[32mCompleted\u001b[0m()\n"
      ]
     },
     "metadata": {},
     "output_type": "display_data"
    },
    {
     "data": {
      "text/html": [
       "<pre style=\"white-space:pre;overflow-x:auto;line-height:normal;font-family:Menlo,'DejaVu Sans Mono',consolas,'Courier New',monospace\">10:29:43.034 | <span style=\"color: #008080; text-decoration-color: #008080\">INFO</span>    | Flow run<span style=\"color: #800080; text-decoration-color: #800080\"> 'magnificent-leopard'</span> - Created task run 'process_pool_snaps-bb91f77b-51' for task 'process_pool_snaps'\n",
       "</pre>\n"
      ],
      "text/plain": [
       "10:29:43.034 | \u001b[36mINFO\u001b[0m    | Flow run\u001b[35m 'magnificent-leopard'\u001b[0m - Created task run 'process_pool_snaps-bb91f77b-51' for task 'process_pool_snaps'\n"
      ]
     },
     "metadata": {},
     "output_type": "display_data"
    },
    {
     "data": {
      "text/html": [
       "<pre style=\"white-space:pre;overflow-x:auto;line-height:normal;font-family:Menlo,'DejaVu Sans Mono',consolas,'Courier New',monospace\">10:29:43.034 | <span style=\"color: #008080; text-decoration-color: #008080\">INFO</span>    | Flow run<span style=\"color: #800080; text-decoration-color: #800080\"> 'magnificent-leopard'</span> - Executing 'process_pool_snaps-bb91f77b-51' immediately...\n",
       "</pre>\n"
      ],
      "text/plain": [
       "10:29:43.034 | \u001b[36mINFO\u001b[0m    | Flow run\u001b[35m 'magnificent-leopard'\u001b[0m - Executing 'process_pool_snaps-bb91f77b-51' immediately...\n"
      ]
     },
     "metadata": {},
     "output_type": "display_data"
    },
    {
     "data": {
      "text/html": [
       "<pre style=\"white-space:pre;overflow-x:auto;line-height:normal;font-family:Menlo,'DejaVu Sans Mono',consolas,'Courier New',monospace\">10:29:43.057 | <span style=\"color: #008080; text-decoration-color: #008080\">INFO</span>    | Task run 'process_pool_snaps-bb91f77b-51' - Finished in state <span style=\"color: #008000; text-decoration-color: #008000\">Completed</span>()\n",
       "</pre>\n"
      ],
      "text/plain": [
       "10:29:43.057 | \u001b[36mINFO\u001b[0m    | Task run 'process_pool_snaps-bb91f77b-51' - Finished in state \u001b[32mCompleted\u001b[0m()\n"
      ]
     },
     "metadata": {},
     "output_type": "display_data"
    },
    {
     "data": {
      "text/html": [
       "<pre style=\"white-space:pre;overflow-x:auto;line-height:normal;font-family:Menlo,'DejaVu Sans Mono',consolas,'Courier New',monospace\">10:29:43.066 | <span style=\"color: #008080; text-decoration-color: #008080\">INFO</span>    | Flow run<span style=\"color: #800080; text-decoration-color: #800080\"> 'magnificent-leopard'</span> - Created task run 'process_pool_snaps-bb91f77b-52' for task 'process_pool_snaps'\n",
       "</pre>\n"
      ],
      "text/plain": [
       "10:29:43.066 | \u001b[36mINFO\u001b[0m    | Flow run\u001b[35m 'magnificent-leopard'\u001b[0m - Created task run 'process_pool_snaps-bb91f77b-52' for task 'process_pool_snaps'\n"
      ]
     },
     "metadata": {},
     "output_type": "display_data"
    },
    {
     "data": {
      "text/html": [
       "<pre style=\"white-space:pre;overflow-x:auto;line-height:normal;font-family:Menlo,'DejaVu Sans Mono',consolas,'Courier New',monospace\">10:29:43.066 | <span style=\"color: #008080; text-decoration-color: #008080\">INFO</span>    | Flow run<span style=\"color: #800080; text-decoration-color: #800080\"> 'magnificent-leopard'</span> - Executing 'process_pool_snaps-bb91f77b-52' immediately...\n",
       "</pre>\n"
      ],
      "text/plain": [
       "10:29:43.066 | \u001b[36mINFO\u001b[0m    | Flow run\u001b[35m 'magnificent-leopard'\u001b[0m - Executing 'process_pool_snaps-bb91f77b-52' immediately...\n"
      ]
     },
     "metadata": {},
     "output_type": "display_data"
    },
    {
     "data": {
      "text/html": [
       "<pre style=\"white-space:pre;overflow-x:auto;line-height:normal;font-family:Menlo,'DejaVu Sans Mono',consolas,'Courier New',monospace\">10:29:43.089 | <span style=\"color: #008080; text-decoration-color: #008080\">INFO</span>    | Task run 'process_pool_snaps-bb91f77b-52' - Finished in state <span style=\"color: #008000; text-decoration-color: #008000\">Completed</span>()\n",
       "</pre>\n"
      ],
      "text/plain": [
       "10:29:43.089 | \u001b[36mINFO\u001b[0m    | Task run 'process_pool_snaps-bb91f77b-52' - Finished in state \u001b[32mCompleted\u001b[0m()\n"
      ]
     },
     "metadata": {},
     "output_type": "display_data"
    },
    {
     "data": {
      "text/html": [
       "<pre style=\"white-space:pre;overflow-x:auto;line-height:normal;font-family:Menlo,'DejaVu Sans Mono',consolas,'Courier New',monospace\">10:29:43.097 | <span style=\"color: #008080; text-decoration-color: #008080\">INFO</span>    | Flow run<span style=\"color: #800080; text-decoration-color: #800080\"> 'magnificent-leopard'</span> - Created task run 'process_pool_snaps-bb91f77b-53' for task 'process_pool_snaps'\n",
       "</pre>\n"
      ],
      "text/plain": [
       "10:29:43.097 | \u001b[36mINFO\u001b[0m    | Flow run\u001b[35m 'magnificent-leopard'\u001b[0m - Created task run 'process_pool_snaps-bb91f77b-53' for task 'process_pool_snaps'\n"
      ]
     },
     "metadata": {},
     "output_type": "display_data"
    },
    {
     "data": {
      "text/html": [
       "<pre style=\"white-space:pre;overflow-x:auto;line-height:normal;font-family:Menlo,'DejaVu Sans Mono',consolas,'Courier New',monospace\">10:29:43.098 | <span style=\"color: #008080; text-decoration-color: #008080\">INFO</span>    | Flow run<span style=\"color: #800080; text-decoration-color: #800080\"> 'magnificent-leopard'</span> - Executing 'process_pool_snaps-bb91f77b-53' immediately...\n",
       "</pre>\n"
      ],
      "text/plain": [
       "10:29:43.098 | \u001b[36mINFO\u001b[0m    | Flow run\u001b[35m 'magnificent-leopard'\u001b[0m - Executing 'process_pool_snaps-bb91f77b-53' immediately...\n"
      ]
     },
     "metadata": {},
     "output_type": "display_data"
    },
    {
     "data": {
      "text/html": [
       "<pre style=\"white-space:pre;overflow-x:auto;line-height:normal;font-family:Menlo,'DejaVu Sans Mono',consolas,'Courier New',monospace\">10:29:43.120 | <span style=\"color: #008080; text-decoration-color: #008080\">INFO</span>    | Task run 'process_pool_snaps-bb91f77b-53' - Finished in state <span style=\"color: #008000; text-decoration-color: #008000\">Completed</span>()\n",
       "</pre>\n"
      ],
      "text/plain": [
       "10:29:43.120 | \u001b[36mINFO\u001b[0m    | Task run 'process_pool_snaps-bb91f77b-53' - Finished in state \u001b[32mCompleted\u001b[0m()\n"
      ]
     },
     "metadata": {},
     "output_type": "display_data"
    },
    {
     "data": {
      "text/html": [
       "<pre style=\"white-space:pre;overflow-x:auto;line-height:normal;font-family:Menlo,'DejaVu Sans Mono',consolas,'Courier New',monospace\">10:29:43.128 | <span style=\"color: #008080; text-decoration-color: #008080\">INFO</span>    | Flow run<span style=\"color: #800080; text-decoration-color: #800080\"> 'magnificent-leopard'</span> - Created task run 'process_pool_snaps-bb91f77b-54' for task 'process_pool_snaps'\n",
       "</pre>\n"
      ],
      "text/plain": [
       "10:29:43.128 | \u001b[36mINFO\u001b[0m    | Flow run\u001b[35m 'magnificent-leopard'\u001b[0m - Created task run 'process_pool_snaps-bb91f77b-54' for task 'process_pool_snaps'\n"
      ]
     },
     "metadata": {},
     "output_type": "display_data"
    },
    {
     "data": {
      "text/html": [
       "<pre style=\"white-space:pre;overflow-x:auto;line-height:normal;font-family:Menlo,'DejaVu Sans Mono',consolas,'Courier New',monospace\">10:29:43.129 | <span style=\"color: #008080; text-decoration-color: #008080\">INFO</span>    | Flow run<span style=\"color: #800080; text-decoration-color: #800080\"> 'magnificent-leopard'</span> - Executing 'process_pool_snaps-bb91f77b-54' immediately...\n",
       "</pre>\n"
      ],
      "text/plain": [
       "10:29:43.129 | \u001b[36mINFO\u001b[0m    | Flow run\u001b[35m 'magnificent-leopard'\u001b[0m - Executing 'process_pool_snaps-bb91f77b-54' immediately...\n"
      ]
     },
     "metadata": {},
     "output_type": "display_data"
    },
    {
     "data": {
      "text/html": [
       "<pre style=\"white-space:pre;overflow-x:auto;line-height:normal;font-family:Menlo,'DejaVu Sans Mono',consolas,'Courier New',monospace\">10:29:43.150 | <span style=\"color: #008080; text-decoration-color: #008080\">INFO</span>    | Task run 'process_pool_snaps-bb91f77b-54' - Finished in state <span style=\"color: #008000; text-decoration-color: #008000\">Completed</span>()\n",
       "</pre>\n"
      ],
      "text/plain": [
       "10:29:43.150 | \u001b[36mINFO\u001b[0m    | Task run 'process_pool_snaps-bb91f77b-54' - Finished in state \u001b[32mCompleted\u001b[0m()\n"
      ]
     },
     "metadata": {},
     "output_type": "display_data"
    },
    {
     "data": {
      "text/html": [
       "<pre style=\"white-space:pre;overflow-x:auto;line-height:normal;font-family:Menlo,'DejaVu Sans Mono',consolas,'Courier New',monospace\">10:29:43.159 | <span style=\"color: #008080; text-decoration-color: #008080\">INFO</span>    | Flow run<span style=\"color: #800080; text-decoration-color: #800080\"> 'magnificent-leopard'</span> - Created task run 'process_pool_snaps-bb91f77b-55' for task 'process_pool_snaps'\n",
       "</pre>\n"
      ],
      "text/plain": [
       "10:29:43.159 | \u001b[36mINFO\u001b[0m    | Flow run\u001b[35m 'magnificent-leopard'\u001b[0m - Created task run 'process_pool_snaps-bb91f77b-55' for task 'process_pool_snaps'\n"
      ]
     },
     "metadata": {},
     "output_type": "display_data"
    },
    {
     "data": {
      "text/html": [
       "<pre style=\"white-space:pre;overflow-x:auto;line-height:normal;font-family:Menlo,'DejaVu Sans Mono',consolas,'Courier New',monospace\">10:29:43.159 | <span style=\"color: #008080; text-decoration-color: #008080\">INFO</span>    | Flow run<span style=\"color: #800080; text-decoration-color: #800080\"> 'magnificent-leopard'</span> - Executing 'process_pool_snaps-bb91f77b-55' immediately...\n",
       "</pre>\n"
      ],
      "text/plain": [
       "10:29:43.159 | \u001b[36mINFO\u001b[0m    | Flow run\u001b[35m 'magnificent-leopard'\u001b[0m - Executing 'process_pool_snaps-bb91f77b-55' immediately...\n"
      ]
     },
     "metadata": {},
     "output_type": "display_data"
    },
    {
     "data": {
      "text/html": [
       "<pre style=\"white-space:pre;overflow-x:auto;line-height:normal;font-family:Menlo,'DejaVu Sans Mono',consolas,'Courier New',monospace\">10:29:43.181 | <span style=\"color: #008080; text-decoration-color: #008080\">INFO</span>    | Task run 'process_pool_snaps-bb91f77b-55' - Finished in state <span style=\"color: #008000; text-decoration-color: #008000\">Completed</span>()\n",
       "</pre>\n"
      ],
      "text/plain": [
       "10:29:43.181 | \u001b[36mINFO\u001b[0m    | Task run 'process_pool_snaps-bb91f77b-55' - Finished in state \u001b[32mCompleted\u001b[0m()\n"
      ]
     },
     "metadata": {},
     "output_type": "display_data"
    },
    {
     "data": {
      "text/html": [
       "<pre style=\"white-space:pre;overflow-x:auto;line-height:normal;font-family:Menlo,'DejaVu Sans Mono',consolas,'Courier New',monospace\">10:29:43.190 | <span style=\"color: #008080; text-decoration-color: #008080\">INFO</span>    | Flow run<span style=\"color: #800080; text-decoration-color: #800080\"> 'magnificent-leopard'</span> - Created task run 'process_pool_snaps-bb91f77b-56' for task 'process_pool_snaps'\n",
       "</pre>\n"
      ],
      "text/plain": [
       "10:29:43.190 | \u001b[36mINFO\u001b[0m    | Flow run\u001b[35m 'magnificent-leopard'\u001b[0m - Created task run 'process_pool_snaps-bb91f77b-56' for task 'process_pool_snaps'\n"
      ]
     },
     "metadata": {},
     "output_type": "display_data"
    },
    {
     "data": {
      "text/html": [
       "<pre style=\"white-space:pre;overflow-x:auto;line-height:normal;font-family:Menlo,'DejaVu Sans Mono',consolas,'Courier New',monospace\">10:29:43.190 | <span style=\"color: #008080; text-decoration-color: #008080\">INFO</span>    | Flow run<span style=\"color: #800080; text-decoration-color: #800080\"> 'magnificent-leopard'</span> - Executing 'process_pool_snaps-bb91f77b-56' immediately...\n",
       "</pre>\n"
      ],
      "text/plain": [
       "10:29:43.190 | \u001b[36mINFO\u001b[0m    | Flow run\u001b[35m 'magnificent-leopard'\u001b[0m - Executing 'process_pool_snaps-bb91f77b-56' immediately...\n"
      ]
     },
     "metadata": {},
     "output_type": "display_data"
    },
    {
     "data": {
      "text/html": [
       "<pre style=\"white-space:pre;overflow-x:auto;line-height:normal;font-family:Menlo,'DejaVu Sans Mono',consolas,'Courier New',monospace\">10:29:43.212 | <span style=\"color: #008080; text-decoration-color: #008080\">INFO</span>    | Task run 'process_pool_snaps-bb91f77b-56' - Finished in state <span style=\"color: #008000; text-decoration-color: #008000\">Completed</span>()\n",
       "</pre>\n"
      ],
      "text/plain": [
       "10:29:43.212 | \u001b[36mINFO\u001b[0m    | Task run 'process_pool_snaps-bb91f77b-56' - Finished in state \u001b[32mCompleted\u001b[0m()\n"
      ]
     },
     "metadata": {},
     "output_type": "display_data"
    },
    {
     "data": {
      "text/html": [
       "<pre style=\"white-space:pre;overflow-x:auto;line-height:normal;font-family:Menlo,'DejaVu Sans Mono',consolas,'Courier New',monospace\">10:29:43.220 | <span style=\"color: #008080; text-decoration-color: #008080\">INFO</span>    | Flow run<span style=\"color: #800080; text-decoration-color: #800080\"> 'magnificent-leopard'</span> - Created task run 'process_pool_snaps-bb91f77b-57' for task 'process_pool_snaps'\n",
       "</pre>\n"
      ],
      "text/plain": [
       "10:29:43.220 | \u001b[36mINFO\u001b[0m    | Flow run\u001b[35m 'magnificent-leopard'\u001b[0m - Created task run 'process_pool_snaps-bb91f77b-57' for task 'process_pool_snaps'\n"
      ]
     },
     "metadata": {},
     "output_type": "display_data"
    },
    {
     "data": {
      "text/html": [
       "<pre style=\"white-space:pre;overflow-x:auto;line-height:normal;font-family:Menlo,'DejaVu Sans Mono',consolas,'Courier New',monospace\">10:29:43.221 | <span style=\"color: #008080; text-decoration-color: #008080\">INFO</span>    | Flow run<span style=\"color: #800080; text-decoration-color: #800080\"> 'magnificent-leopard'</span> - Executing 'process_pool_snaps-bb91f77b-57' immediately...\n",
       "</pre>\n"
      ],
      "text/plain": [
       "10:29:43.221 | \u001b[36mINFO\u001b[0m    | Flow run\u001b[35m 'magnificent-leopard'\u001b[0m - Executing 'process_pool_snaps-bb91f77b-57' immediately...\n"
      ]
     },
     "metadata": {},
     "output_type": "display_data"
    },
    {
     "data": {
      "text/html": [
       "<pre style=\"white-space:pre;overflow-x:auto;line-height:normal;font-family:Menlo,'DejaVu Sans Mono',consolas,'Courier New',monospace\">10:29:43.242 | <span style=\"color: #008080; text-decoration-color: #008080\">INFO</span>    | Task run 'process_pool_snaps-bb91f77b-57' - Finished in state <span style=\"color: #008000; text-decoration-color: #008000\">Completed</span>()\n",
       "</pre>\n"
      ],
      "text/plain": [
       "10:29:43.242 | \u001b[36mINFO\u001b[0m    | Task run 'process_pool_snaps-bb91f77b-57' - Finished in state \u001b[32mCompleted\u001b[0m()\n"
      ]
     },
     "metadata": {},
     "output_type": "display_data"
    },
    {
     "data": {
      "text/html": [
       "<pre style=\"white-space:pre;overflow-x:auto;line-height:normal;font-family:Menlo,'DejaVu Sans Mono',consolas,'Courier New',monospace\">10:29:43.251 | <span style=\"color: #008080; text-decoration-color: #008080\">INFO</span>    | Flow run<span style=\"color: #800080; text-decoration-color: #800080\"> 'magnificent-leopard'</span> - Created task run 'process_pool_snaps-bb91f77b-58' for task 'process_pool_snaps'\n",
       "</pre>\n"
      ],
      "text/plain": [
       "10:29:43.251 | \u001b[36mINFO\u001b[0m    | Flow run\u001b[35m 'magnificent-leopard'\u001b[0m - Created task run 'process_pool_snaps-bb91f77b-58' for task 'process_pool_snaps'\n"
      ]
     },
     "metadata": {},
     "output_type": "display_data"
    },
    {
     "data": {
      "text/html": [
       "<pre style=\"white-space:pre;overflow-x:auto;line-height:normal;font-family:Menlo,'DejaVu Sans Mono',consolas,'Courier New',monospace\">10:29:43.251 | <span style=\"color: #008080; text-decoration-color: #008080\">INFO</span>    | Flow run<span style=\"color: #800080; text-decoration-color: #800080\"> 'magnificent-leopard'</span> - Executing 'process_pool_snaps-bb91f77b-58' immediately...\n",
       "</pre>\n"
      ],
      "text/plain": [
       "10:29:43.251 | \u001b[36mINFO\u001b[0m    | Flow run\u001b[35m 'magnificent-leopard'\u001b[0m - Executing 'process_pool_snaps-bb91f77b-58' immediately...\n"
      ]
     },
     "metadata": {},
     "output_type": "display_data"
    },
    {
     "data": {
      "text/html": [
       "<pre style=\"white-space:pre;overflow-x:auto;line-height:normal;font-family:Menlo,'DejaVu Sans Mono',consolas,'Courier New',monospace\">10:29:43.273 | <span style=\"color: #008080; text-decoration-color: #008080\">INFO</span>    | Task run 'process_pool_snaps-bb91f77b-58' - Finished in state <span style=\"color: #008000; text-decoration-color: #008000\">Completed</span>()\n",
       "</pre>\n"
      ],
      "text/plain": [
       "10:29:43.273 | \u001b[36mINFO\u001b[0m    | Task run 'process_pool_snaps-bb91f77b-58' - Finished in state \u001b[32mCompleted\u001b[0m()\n"
      ]
     },
     "metadata": {},
     "output_type": "display_data"
    },
    {
     "data": {
      "text/html": [
       "<pre style=\"white-space:pre;overflow-x:auto;line-height:normal;font-family:Menlo,'DejaVu Sans Mono',consolas,'Courier New',monospace\">10:29:43.281 | <span style=\"color: #008080; text-decoration-color: #008080\">INFO</span>    | Flow run<span style=\"color: #800080; text-decoration-color: #800080\"> 'magnificent-leopard'</span> - Created task run 'process_pool_snaps-bb91f77b-59' for task 'process_pool_snaps'\n",
       "</pre>\n"
      ],
      "text/plain": [
       "10:29:43.281 | \u001b[36mINFO\u001b[0m    | Flow run\u001b[35m 'magnificent-leopard'\u001b[0m - Created task run 'process_pool_snaps-bb91f77b-59' for task 'process_pool_snaps'\n"
      ]
     },
     "metadata": {},
     "output_type": "display_data"
    },
    {
     "data": {
      "text/html": [
       "<pre style=\"white-space:pre;overflow-x:auto;line-height:normal;font-family:Menlo,'DejaVu Sans Mono',consolas,'Courier New',monospace\">10:29:43.282 | <span style=\"color: #008080; text-decoration-color: #008080\">INFO</span>    | Flow run<span style=\"color: #800080; text-decoration-color: #800080\"> 'magnificent-leopard'</span> - Executing 'process_pool_snaps-bb91f77b-59' immediately...\n",
       "</pre>\n"
      ],
      "text/plain": [
       "10:29:43.282 | \u001b[36mINFO\u001b[0m    | Flow run\u001b[35m 'magnificent-leopard'\u001b[0m - Executing 'process_pool_snaps-bb91f77b-59' immediately...\n"
      ]
     },
     "metadata": {},
     "output_type": "display_data"
    },
    {
     "data": {
      "text/html": [
       "<pre style=\"white-space:pre;overflow-x:auto;line-height:normal;font-family:Menlo,'DejaVu Sans Mono',consolas,'Courier New',monospace\">10:29:43.303 | <span style=\"color: #008080; text-decoration-color: #008080\">INFO</span>    | Task run 'process_pool_snaps-bb91f77b-59' - Finished in state <span style=\"color: #008000; text-decoration-color: #008000\">Completed</span>()\n",
       "</pre>\n"
      ],
      "text/plain": [
       "10:29:43.303 | \u001b[36mINFO\u001b[0m    | Task run 'process_pool_snaps-bb91f77b-59' - Finished in state \u001b[32mCompleted\u001b[0m()\n"
      ]
     },
     "metadata": {},
     "output_type": "display_data"
    },
    {
     "data": {
      "text/html": [
       "<pre style=\"white-space:pre;overflow-x:auto;line-height:normal;font-family:Menlo,'DejaVu Sans Mono',consolas,'Courier New',monospace\">10:29:43.312 | <span style=\"color: #008080; text-decoration-color: #008080\">INFO</span>    | Flow run<span style=\"color: #800080; text-decoration-color: #800080\"> 'magnificent-leopard'</span> - Created task run 'process_pool_snaps-bb91f77b-60' for task 'process_pool_snaps'\n",
       "</pre>\n"
      ],
      "text/plain": [
       "10:29:43.312 | \u001b[36mINFO\u001b[0m    | Flow run\u001b[35m 'magnificent-leopard'\u001b[0m - Created task run 'process_pool_snaps-bb91f77b-60' for task 'process_pool_snaps'\n"
      ]
     },
     "metadata": {},
     "output_type": "display_data"
    },
    {
     "data": {
      "text/html": [
       "<pre style=\"white-space:pre;overflow-x:auto;line-height:normal;font-family:Menlo,'DejaVu Sans Mono',consolas,'Courier New',monospace\">10:29:43.312 | <span style=\"color: #008080; text-decoration-color: #008080\">INFO</span>    | Flow run<span style=\"color: #800080; text-decoration-color: #800080\"> 'magnificent-leopard'</span> - Executing 'process_pool_snaps-bb91f77b-60' immediately...\n",
       "</pre>\n"
      ],
      "text/plain": [
       "10:29:43.312 | \u001b[36mINFO\u001b[0m    | Flow run\u001b[35m 'magnificent-leopard'\u001b[0m - Executing 'process_pool_snaps-bb91f77b-60' immediately...\n"
      ]
     },
     "metadata": {},
     "output_type": "display_data"
    },
    {
     "data": {
      "text/html": [
       "<pre style=\"white-space:pre;overflow-x:auto;line-height:normal;font-family:Menlo,'DejaVu Sans Mono',consolas,'Courier New',monospace\">10:29:43.334 | <span style=\"color: #008080; text-decoration-color: #008080\">INFO</span>    | Task run 'process_pool_snaps-bb91f77b-60' - Finished in state <span style=\"color: #008000; text-decoration-color: #008000\">Completed</span>()\n",
       "</pre>\n"
      ],
      "text/plain": [
       "10:29:43.334 | \u001b[36mINFO\u001b[0m    | Task run 'process_pool_snaps-bb91f77b-60' - Finished in state \u001b[32mCompleted\u001b[0m()\n"
      ]
     },
     "metadata": {},
     "output_type": "display_data"
    },
    {
     "data": {
      "text/html": [
       "<pre style=\"white-space:pre;overflow-x:auto;line-height:normal;font-family:Menlo,'DejaVu Sans Mono',consolas,'Courier New',monospace\">10:29:43.342 | <span style=\"color: #008080; text-decoration-color: #008080\">INFO</span>    | Flow run<span style=\"color: #800080; text-decoration-color: #800080\"> 'magnificent-leopard'</span> - Created task run 'process_pool_snaps-bb91f77b-61' for task 'process_pool_snaps'\n",
       "</pre>\n"
      ],
      "text/plain": [
       "10:29:43.342 | \u001b[36mINFO\u001b[0m    | Flow run\u001b[35m 'magnificent-leopard'\u001b[0m - Created task run 'process_pool_snaps-bb91f77b-61' for task 'process_pool_snaps'\n"
      ]
     },
     "metadata": {},
     "output_type": "display_data"
    },
    {
     "data": {
      "text/html": [
       "<pre style=\"white-space:pre;overflow-x:auto;line-height:normal;font-family:Menlo,'DejaVu Sans Mono',consolas,'Courier New',monospace\">10:29:43.343 | <span style=\"color: #008080; text-decoration-color: #008080\">INFO</span>    | Flow run<span style=\"color: #800080; text-decoration-color: #800080\"> 'magnificent-leopard'</span> - Executing 'process_pool_snaps-bb91f77b-61' immediately...\n",
       "</pre>\n"
      ],
      "text/plain": [
       "10:29:43.343 | \u001b[36mINFO\u001b[0m    | Flow run\u001b[35m 'magnificent-leopard'\u001b[0m - Executing 'process_pool_snaps-bb91f77b-61' immediately...\n"
      ]
     },
     "metadata": {},
     "output_type": "display_data"
    },
    {
     "data": {
      "text/html": [
       "<pre style=\"white-space:pre;overflow-x:auto;line-height:normal;font-family:Menlo,'DejaVu Sans Mono',consolas,'Courier New',monospace\">10:29:43.364 | <span style=\"color: #008080; text-decoration-color: #008080\">INFO</span>    | Task run 'process_pool_snaps-bb91f77b-61' - Finished in state <span style=\"color: #008000; text-decoration-color: #008000\">Completed</span>()\n",
       "</pre>\n"
      ],
      "text/plain": [
       "10:29:43.364 | \u001b[36mINFO\u001b[0m    | Task run 'process_pool_snaps-bb91f77b-61' - Finished in state \u001b[32mCompleted\u001b[0m()\n"
      ]
     },
     "metadata": {},
     "output_type": "display_data"
    },
    {
     "data": {
      "text/html": [
       "<pre style=\"white-space:pre;overflow-x:auto;line-height:normal;font-family:Menlo,'DejaVu Sans Mono',consolas,'Courier New',monospace\">10:29:43.373 | <span style=\"color: #008080; text-decoration-color: #008080\">INFO</span>    | Flow run<span style=\"color: #800080; text-decoration-color: #800080\"> 'magnificent-leopard'</span> - Created task run 'process_pool_vol-f3874c79-0' for task 'process_pool_vol'\n",
       "</pre>\n"
      ],
      "text/plain": [
       "10:29:43.373 | \u001b[36mINFO\u001b[0m    | Flow run\u001b[35m 'magnificent-leopard'\u001b[0m - Created task run 'process_pool_vol-f3874c79-0' for task 'process_pool_vol'\n"
      ]
     },
     "metadata": {},
     "output_type": "display_data"
    },
    {
     "data": {
      "text/html": [
       "<pre style=\"white-space:pre;overflow-x:auto;line-height:normal;font-family:Menlo,'DejaVu Sans Mono',consolas,'Courier New',monospace\">10:29:43.374 | <span style=\"color: #008080; text-decoration-color: #008080\">INFO</span>    | Flow run<span style=\"color: #800080; text-decoration-color: #800080\"> 'magnificent-leopard'</span> - Executing 'process_pool_vol-f3874c79-0' immediately...\n",
       "</pre>\n"
      ],
      "text/plain": [
       "10:29:43.374 | \u001b[36mINFO\u001b[0m    | Flow run\u001b[35m 'magnificent-leopard'\u001b[0m - Executing 'process_pool_vol-f3874c79-0' immediately...\n"
      ]
     },
     "metadata": {},
     "output_type": "display_data"
    },
    {
     "data": {
      "text/html": [
       "<pre style=\"white-space:pre;overflow-x:auto;line-height:normal;font-family:Menlo,'DejaVu Sans Mono',consolas,'Courier New',monospace\">10:29:43.395 | <span style=\"color: #008080; text-decoration-color: #008080\">INFO</span>    | Task run 'process_pool_vol-f3874c79-0' - Finished in state <span style=\"color: #008000; text-decoration-color: #008000\">Completed</span>()\n",
       "</pre>\n"
      ],
      "text/plain": [
       "10:29:43.395 | \u001b[36mINFO\u001b[0m    | Task run 'process_pool_vol-f3874c79-0' - Finished in state \u001b[32mCompleted\u001b[0m()\n"
      ]
     },
     "metadata": {},
     "output_type": "display_data"
    },
    {
     "data": {
      "text/html": [
       "<pre style=\"white-space:pre;overflow-x:auto;line-height:normal;font-family:Menlo,'DejaVu Sans Mono',consolas,'Courier New',monospace\">10:29:43.404 | <span style=\"color: #008080; text-decoration-color: #008080\">INFO</span>    | Flow run<span style=\"color: #800080; text-decoration-color: #800080\"> 'magnificent-leopard'</span> - Created task run 'process_pool_vol-f3874c79-1' for task 'process_pool_vol'\n",
       "</pre>\n"
      ],
      "text/plain": [
       "10:29:43.404 | \u001b[36mINFO\u001b[0m    | Flow run\u001b[35m 'magnificent-leopard'\u001b[0m - Created task run 'process_pool_vol-f3874c79-1' for task 'process_pool_vol'\n"
      ]
     },
     "metadata": {},
     "output_type": "display_data"
    },
    {
     "data": {
      "text/html": [
       "<pre style=\"white-space:pre;overflow-x:auto;line-height:normal;font-family:Menlo,'DejaVu Sans Mono',consolas,'Courier New',monospace\">10:29:43.405 | <span style=\"color: #008080; text-decoration-color: #008080\">INFO</span>    | Flow run<span style=\"color: #800080; text-decoration-color: #800080\"> 'magnificent-leopard'</span> - Executing 'process_pool_vol-f3874c79-1' immediately...\n",
       "</pre>\n"
      ],
      "text/plain": [
       "10:29:43.405 | \u001b[36mINFO\u001b[0m    | Flow run\u001b[35m 'magnificent-leopard'\u001b[0m - Executing 'process_pool_vol-f3874c79-1' immediately...\n"
      ]
     },
     "metadata": {},
     "output_type": "display_data"
    },
    {
     "data": {
      "text/html": [
       "<pre style=\"white-space:pre;overflow-x:auto;line-height:normal;font-family:Menlo,'DejaVu Sans Mono',consolas,'Courier New',monospace\">10:29:43.426 | <span style=\"color: #008080; text-decoration-color: #008080\">INFO</span>    | Task run 'process_pool_vol-f3874c79-1' - Finished in state <span style=\"color: #008000; text-decoration-color: #008000\">Completed</span>()\n",
       "</pre>\n"
      ],
      "text/plain": [
       "10:29:43.426 | \u001b[36mINFO\u001b[0m    | Task run 'process_pool_vol-f3874c79-1' - Finished in state \u001b[32mCompleted\u001b[0m()\n"
      ]
     },
     "metadata": {},
     "output_type": "display_data"
    },
    {
     "data": {
      "text/html": [
       "<pre style=\"white-space:pre;overflow-x:auto;line-height:normal;font-family:Menlo,'DejaVu Sans Mono',consolas,'Courier New',monospace\">10:29:43.434 | <span style=\"color: #008080; text-decoration-color: #008080\">INFO</span>    | Flow run<span style=\"color: #800080; text-decoration-color: #800080\"> 'magnificent-leopard'</span> - Created task run 'process_pool_vol-f3874c79-2' for task 'process_pool_vol'\n",
       "</pre>\n"
      ],
      "text/plain": [
       "10:29:43.434 | \u001b[36mINFO\u001b[0m    | Flow run\u001b[35m 'magnificent-leopard'\u001b[0m - Created task run 'process_pool_vol-f3874c79-2' for task 'process_pool_vol'\n"
      ]
     },
     "metadata": {},
     "output_type": "display_data"
    },
    {
     "data": {
      "text/html": [
       "<pre style=\"white-space:pre;overflow-x:auto;line-height:normal;font-family:Menlo,'DejaVu Sans Mono',consolas,'Courier New',monospace\">10:29:43.435 | <span style=\"color: #008080; text-decoration-color: #008080\">INFO</span>    | Flow run<span style=\"color: #800080; text-decoration-color: #800080\"> 'magnificent-leopard'</span> - Executing 'process_pool_vol-f3874c79-2' immediately...\n",
       "</pre>\n"
      ],
      "text/plain": [
       "10:29:43.435 | \u001b[36mINFO\u001b[0m    | Flow run\u001b[35m 'magnificent-leopard'\u001b[0m - Executing 'process_pool_vol-f3874c79-2' immediately...\n"
      ]
     },
     "metadata": {},
     "output_type": "display_data"
    },
    {
     "data": {
      "text/html": [
       "<pre style=\"white-space:pre;overflow-x:auto;line-height:normal;font-family:Menlo,'DejaVu Sans Mono',consolas,'Courier New',monospace\">10:29:43.456 | <span style=\"color: #008080; text-decoration-color: #008080\">INFO</span>    | Task run 'process_pool_vol-f3874c79-2' - Finished in state <span style=\"color: #008000; text-decoration-color: #008000\">Completed</span>()\n",
       "</pre>\n"
      ],
      "text/plain": [
       "10:29:43.456 | \u001b[36mINFO\u001b[0m    | Task run 'process_pool_vol-f3874c79-2' - Finished in state \u001b[32mCompleted\u001b[0m()\n"
      ]
     },
     "metadata": {},
     "output_type": "display_data"
    },
    {
     "data": {
      "text/html": [
       "<pre style=\"white-space:pre;overflow-x:auto;line-height:normal;font-family:Menlo,'DejaVu Sans Mono',consolas,'Courier New',monospace\">10:29:43.465 | <span style=\"color: #008080; text-decoration-color: #008080\">INFO</span>    | Flow run<span style=\"color: #800080; text-decoration-color: #800080\"> 'magnificent-leopard'</span> - Created task run 'process_pool_vol-f3874c79-3' for task 'process_pool_vol'\n",
       "</pre>\n"
      ],
      "text/plain": [
       "10:29:43.465 | \u001b[36mINFO\u001b[0m    | Flow run\u001b[35m 'magnificent-leopard'\u001b[0m - Created task run 'process_pool_vol-f3874c79-3' for task 'process_pool_vol'\n"
      ]
     },
     "metadata": {},
     "output_type": "display_data"
    },
    {
     "data": {
      "text/html": [
       "<pre style=\"white-space:pre;overflow-x:auto;line-height:normal;font-family:Menlo,'DejaVu Sans Mono',consolas,'Courier New',monospace\">10:29:43.466 | <span style=\"color: #008080; text-decoration-color: #008080\">INFO</span>    | Flow run<span style=\"color: #800080; text-decoration-color: #800080\"> 'magnificent-leopard'</span> - Executing 'process_pool_vol-f3874c79-3' immediately...\n",
       "</pre>\n"
      ],
      "text/plain": [
       "10:29:43.466 | \u001b[36mINFO\u001b[0m    | Flow run\u001b[35m 'magnificent-leopard'\u001b[0m - Executing 'process_pool_vol-f3874c79-3' immediately...\n"
      ]
     },
     "metadata": {},
     "output_type": "display_data"
    },
    {
     "data": {
      "text/html": [
       "<pre style=\"white-space:pre;overflow-x:auto;line-height:normal;font-family:Menlo,'DejaVu Sans Mono',consolas,'Courier New',monospace\">10:29:43.488 | <span style=\"color: #008080; text-decoration-color: #008080\">INFO</span>    | Task run 'process_pool_vol-f3874c79-3' - Finished in state <span style=\"color: #008000; text-decoration-color: #008000\">Completed</span>()\n",
       "</pre>\n"
      ],
      "text/plain": [
       "10:29:43.488 | \u001b[36mINFO\u001b[0m    | Task run 'process_pool_vol-f3874c79-3' - Finished in state \u001b[32mCompleted\u001b[0m()\n"
      ]
     },
     "metadata": {},
     "output_type": "display_data"
    },
    {
     "data": {
      "text/html": [
       "<pre style=\"white-space:pre;overflow-x:auto;line-height:normal;font-family:Menlo,'DejaVu Sans Mono',consolas,'Courier New',monospace\">10:29:43.496 | <span style=\"color: #008080; text-decoration-color: #008080\">INFO</span>    | Flow run<span style=\"color: #800080; text-decoration-color: #800080\"> 'magnificent-leopard'</span> - Created task run 'process_pool_vol-f3874c79-4' for task 'process_pool_vol'\n",
       "</pre>\n"
      ],
      "text/plain": [
       "10:29:43.496 | \u001b[36mINFO\u001b[0m    | Flow run\u001b[35m 'magnificent-leopard'\u001b[0m - Created task run 'process_pool_vol-f3874c79-4' for task 'process_pool_vol'\n"
      ]
     },
     "metadata": {},
     "output_type": "display_data"
    },
    {
     "data": {
      "text/html": [
       "<pre style=\"white-space:pre;overflow-x:auto;line-height:normal;font-family:Menlo,'DejaVu Sans Mono',consolas,'Courier New',monospace\">10:29:43.497 | <span style=\"color: #008080; text-decoration-color: #008080\">INFO</span>    | Flow run<span style=\"color: #800080; text-decoration-color: #800080\"> 'magnificent-leopard'</span> - Executing 'process_pool_vol-f3874c79-4' immediately...\n",
       "</pre>\n"
      ],
      "text/plain": [
       "10:29:43.497 | \u001b[36mINFO\u001b[0m    | Flow run\u001b[35m 'magnificent-leopard'\u001b[0m - Executing 'process_pool_vol-f3874c79-4' immediately...\n"
      ]
     },
     "metadata": {},
     "output_type": "display_data"
    },
    {
     "data": {
      "text/html": [
       "<pre style=\"white-space:pre;overflow-x:auto;line-height:normal;font-family:Menlo,'DejaVu Sans Mono',consolas,'Courier New',monospace\">10:29:43.518 | <span style=\"color: #008080; text-decoration-color: #008080\">INFO</span>    | Task run 'process_pool_vol-f3874c79-4' - Finished in state <span style=\"color: #008000; text-decoration-color: #008000\">Completed</span>()\n",
       "</pre>\n"
      ],
      "text/plain": [
       "10:29:43.518 | \u001b[36mINFO\u001b[0m    | Task run 'process_pool_vol-f3874c79-4' - Finished in state \u001b[32mCompleted\u001b[0m()\n"
      ]
     },
     "metadata": {},
     "output_type": "display_data"
    },
    {
     "data": {
      "text/html": [
       "<pre style=\"white-space:pre;overflow-x:auto;line-height:normal;font-family:Menlo,'DejaVu Sans Mono',consolas,'Courier New',monospace\">10:29:43.526 | <span style=\"color: #008080; text-decoration-color: #008080\">INFO</span>    | Flow run<span style=\"color: #800080; text-decoration-color: #800080\"> 'magnificent-leopard'</span> - Created task run 'process_pool_vol-f3874c79-5' for task 'process_pool_vol'\n",
       "</pre>\n"
      ],
      "text/plain": [
       "10:29:43.526 | \u001b[36mINFO\u001b[0m    | Flow run\u001b[35m 'magnificent-leopard'\u001b[0m - Created task run 'process_pool_vol-f3874c79-5' for task 'process_pool_vol'\n"
      ]
     },
     "metadata": {},
     "output_type": "display_data"
    },
    {
     "data": {
      "text/html": [
       "<pre style=\"white-space:pre;overflow-x:auto;line-height:normal;font-family:Menlo,'DejaVu Sans Mono',consolas,'Courier New',monospace\">10:29:43.527 | <span style=\"color: #008080; text-decoration-color: #008080\">INFO</span>    | Flow run<span style=\"color: #800080; text-decoration-color: #800080\"> 'magnificent-leopard'</span> - Executing 'process_pool_vol-f3874c79-5' immediately...\n",
       "</pre>\n"
      ],
      "text/plain": [
       "10:29:43.527 | \u001b[36mINFO\u001b[0m    | Flow run\u001b[35m 'magnificent-leopard'\u001b[0m - Executing 'process_pool_vol-f3874c79-5' immediately...\n"
      ]
     },
     "metadata": {},
     "output_type": "display_data"
    },
    {
     "data": {
      "text/html": [
       "<pre style=\"white-space:pre;overflow-x:auto;line-height:normal;font-family:Menlo,'DejaVu Sans Mono',consolas,'Courier New',monospace\">10:29:43.548 | <span style=\"color: #008080; text-decoration-color: #008080\">INFO</span>    | Task run 'process_pool_vol-f3874c79-5' - Finished in state <span style=\"color: #008000; text-decoration-color: #008000\">Completed</span>()\n",
       "</pre>\n"
      ],
      "text/plain": [
       "10:29:43.548 | \u001b[36mINFO\u001b[0m    | Task run 'process_pool_vol-f3874c79-5' - Finished in state \u001b[32mCompleted\u001b[0m()\n"
      ]
     },
     "metadata": {},
     "output_type": "display_data"
    },
    {
     "data": {
      "text/html": [
       "<pre style=\"white-space:pre;overflow-x:auto;line-height:normal;font-family:Menlo,'DejaVu Sans Mono',consolas,'Courier New',monospace\">10:29:43.556 | <span style=\"color: #008080; text-decoration-color: #008080\">INFO</span>    | Flow run<span style=\"color: #800080; text-decoration-color: #800080\"> 'magnificent-leopard'</span> - Created task run 'process_pool_vol-f3874c79-6' for task 'process_pool_vol'\n",
       "</pre>\n"
      ],
      "text/plain": [
       "10:29:43.556 | \u001b[36mINFO\u001b[0m    | Flow run\u001b[35m 'magnificent-leopard'\u001b[0m - Created task run 'process_pool_vol-f3874c79-6' for task 'process_pool_vol'\n"
      ]
     },
     "metadata": {},
     "output_type": "display_data"
    },
    {
     "data": {
      "text/html": [
       "<pre style=\"white-space:pre;overflow-x:auto;line-height:normal;font-family:Menlo,'DejaVu Sans Mono',consolas,'Courier New',monospace\">10:29:43.557 | <span style=\"color: #008080; text-decoration-color: #008080\">INFO</span>    | Flow run<span style=\"color: #800080; text-decoration-color: #800080\"> 'magnificent-leopard'</span> - Executing 'process_pool_vol-f3874c79-6' immediately...\n",
       "</pre>\n"
      ],
      "text/plain": [
       "10:29:43.557 | \u001b[36mINFO\u001b[0m    | Flow run\u001b[35m 'magnificent-leopard'\u001b[0m - Executing 'process_pool_vol-f3874c79-6' immediately...\n"
      ]
     },
     "metadata": {},
     "output_type": "display_data"
    },
    {
     "data": {
      "text/html": [
       "<pre style=\"white-space:pre;overflow-x:auto;line-height:normal;font-family:Menlo,'DejaVu Sans Mono',consolas,'Courier New',monospace\">10:29:43.577 | <span style=\"color: #008080; text-decoration-color: #008080\">INFO</span>    | Task run 'process_pool_vol-f3874c79-6' - Finished in state <span style=\"color: #008000; text-decoration-color: #008000\">Completed</span>()\n",
       "</pre>\n"
      ],
      "text/plain": [
       "10:29:43.577 | \u001b[36mINFO\u001b[0m    | Task run 'process_pool_vol-f3874c79-6' - Finished in state \u001b[32mCompleted\u001b[0m()\n"
      ]
     },
     "metadata": {},
     "output_type": "display_data"
    },
    {
     "data": {
      "text/html": [
       "<pre style=\"white-space:pre;overflow-x:auto;line-height:normal;font-family:Menlo,'DejaVu Sans Mono',consolas,'Courier New',monospace\">10:29:43.586 | <span style=\"color: #008080; text-decoration-color: #008080\">INFO</span>    | Flow run<span style=\"color: #800080; text-decoration-color: #800080\"> 'magnificent-leopard'</span> - Created task run 'process_pool_vol-f3874c79-7' for task 'process_pool_vol'\n",
       "</pre>\n"
      ],
      "text/plain": [
       "10:29:43.586 | \u001b[36mINFO\u001b[0m    | Flow run\u001b[35m 'magnificent-leopard'\u001b[0m - Created task run 'process_pool_vol-f3874c79-7' for task 'process_pool_vol'\n"
      ]
     },
     "metadata": {},
     "output_type": "display_data"
    },
    {
     "data": {
      "text/html": [
       "<pre style=\"white-space:pre;overflow-x:auto;line-height:normal;font-family:Menlo,'DejaVu Sans Mono',consolas,'Courier New',monospace\">10:29:43.586 | <span style=\"color: #008080; text-decoration-color: #008080\">INFO</span>    | Flow run<span style=\"color: #800080; text-decoration-color: #800080\"> 'magnificent-leopard'</span> - Executing 'process_pool_vol-f3874c79-7' immediately...\n",
       "</pre>\n"
      ],
      "text/plain": [
       "10:29:43.586 | \u001b[36mINFO\u001b[0m    | Flow run\u001b[35m 'magnificent-leopard'\u001b[0m - Executing 'process_pool_vol-f3874c79-7' immediately...\n"
      ]
     },
     "metadata": {},
     "output_type": "display_data"
    },
    {
     "data": {
      "text/html": [
       "<pre style=\"white-space:pre;overflow-x:auto;line-height:normal;font-family:Menlo,'DejaVu Sans Mono',consolas,'Courier New',monospace\">10:29:43.607 | <span style=\"color: #008080; text-decoration-color: #008080\">INFO</span>    | Task run 'process_pool_vol-f3874c79-7' - Finished in state <span style=\"color: #008000; text-decoration-color: #008000\">Completed</span>()\n",
       "</pre>\n"
      ],
      "text/plain": [
       "10:29:43.607 | \u001b[36mINFO\u001b[0m    | Task run 'process_pool_vol-f3874c79-7' - Finished in state \u001b[32mCompleted\u001b[0m()\n"
      ]
     },
     "metadata": {},
     "output_type": "display_data"
    },
    {
     "data": {
      "text/html": [
       "<pre style=\"white-space:pre;overflow-x:auto;line-height:normal;font-family:Menlo,'DejaVu Sans Mono',consolas,'Courier New',monospace\">10:29:43.616 | <span style=\"color: #008080; text-decoration-color: #008080\">INFO</span>    | Flow run<span style=\"color: #800080; text-decoration-color: #800080\"> 'magnificent-leopard'</span> - Created task run 'process_pool_vol-f3874c79-8' for task 'process_pool_vol'\n",
       "</pre>\n"
      ],
      "text/plain": [
       "10:29:43.616 | \u001b[36mINFO\u001b[0m    | Flow run\u001b[35m 'magnificent-leopard'\u001b[0m - Created task run 'process_pool_vol-f3874c79-8' for task 'process_pool_vol'\n"
      ]
     },
     "metadata": {},
     "output_type": "display_data"
    },
    {
     "data": {
      "text/html": [
       "<pre style=\"white-space:pre;overflow-x:auto;line-height:normal;font-family:Menlo,'DejaVu Sans Mono',consolas,'Courier New',monospace\">10:29:43.616 | <span style=\"color: #008080; text-decoration-color: #008080\">INFO</span>    | Flow run<span style=\"color: #800080; text-decoration-color: #800080\"> 'magnificent-leopard'</span> - Executing 'process_pool_vol-f3874c79-8' immediately...\n",
       "</pre>\n"
      ],
      "text/plain": [
       "10:29:43.616 | \u001b[36mINFO\u001b[0m    | Flow run\u001b[35m 'magnificent-leopard'\u001b[0m - Executing 'process_pool_vol-f3874c79-8' immediately...\n"
      ]
     },
     "metadata": {},
     "output_type": "display_data"
    },
    {
     "data": {
      "text/html": [
       "<pre style=\"white-space:pre;overflow-x:auto;line-height:normal;font-family:Menlo,'DejaVu Sans Mono',consolas,'Courier New',monospace\">10:29:43.637 | <span style=\"color: #008080; text-decoration-color: #008080\">INFO</span>    | Task run 'process_pool_vol-f3874c79-8' - Finished in state <span style=\"color: #008000; text-decoration-color: #008000\">Completed</span>()\n",
       "</pre>\n"
      ],
      "text/plain": [
       "10:29:43.637 | \u001b[36mINFO\u001b[0m    | Task run 'process_pool_vol-f3874c79-8' - Finished in state \u001b[32mCompleted\u001b[0m()\n"
      ]
     },
     "metadata": {},
     "output_type": "display_data"
    },
    {
     "data": {
      "text/html": [
       "<pre style=\"white-space:pre;overflow-x:auto;line-height:normal;font-family:Menlo,'DejaVu Sans Mono',consolas,'Courier New',monospace\">10:29:43.645 | <span style=\"color: #008080; text-decoration-color: #008080\">INFO</span>    | Flow run<span style=\"color: #800080; text-decoration-color: #800080\"> 'magnificent-leopard'</span> - Created task run 'process_pool_vol-f3874c79-9' for task 'process_pool_vol'\n",
       "</pre>\n"
      ],
      "text/plain": [
       "10:29:43.645 | \u001b[36mINFO\u001b[0m    | Flow run\u001b[35m 'magnificent-leopard'\u001b[0m - Created task run 'process_pool_vol-f3874c79-9' for task 'process_pool_vol'\n"
      ]
     },
     "metadata": {},
     "output_type": "display_data"
    },
    {
     "data": {
      "text/html": [
       "<pre style=\"white-space:pre;overflow-x:auto;line-height:normal;font-family:Menlo,'DejaVu Sans Mono',consolas,'Courier New',monospace\">10:29:43.646 | <span style=\"color: #008080; text-decoration-color: #008080\">INFO</span>    | Flow run<span style=\"color: #800080; text-decoration-color: #800080\"> 'magnificent-leopard'</span> - Executing 'process_pool_vol-f3874c79-9' immediately...\n",
       "</pre>\n"
      ],
      "text/plain": [
       "10:29:43.646 | \u001b[36mINFO\u001b[0m    | Flow run\u001b[35m 'magnificent-leopard'\u001b[0m - Executing 'process_pool_vol-f3874c79-9' immediately...\n"
      ]
     },
     "metadata": {},
     "output_type": "display_data"
    },
    {
     "data": {
      "text/html": [
       "<pre style=\"white-space:pre;overflow-x:auto;line-height:normal;font-family:Menlo,'DejaVu Sans Mono',consolas,'Courier New',monospace\">10:29:43.667 | <span style=\"color: #008080; text-decoration-color: #008080\">INFO</span>    | Task run 'process_pool_vol-f3874c79-9' - Finished in state <span style=\"color: #008000; text-decoration-color: #008000\">Completed</span>()\n",
       "</pre>\n"
      ],
      "text/plain": [
       "10:29:43.667 | \u001b[36mINFO\u001b[0m    | Task run 'process_pool_vol-f3874c79-9' - Finished in state \u001b[32mCompleted\u001b[0m()\n"
      ]
     },
     "metadata": {},
     "output_type": "display_data"
    },
    {
     "data": {
      "text/html": [
       "<pre style=\"white-space:pre;overflow-x:auto;line-height:normal;font-family:Menlo,'DejaVu Sans Mono',consolas,'Courier New',monospace\">10:29:43.676 | <span style=\"color: #008080; text-decoration-color: #008080\">INFO</span>    | Flow run<span style=\"color: #800080; text-decoration-color: #800080\"> 'magnificent-leopard'</span> - Created task run 'process_pool_vol-f3874c79-10' for task 'process_pool_vol'\n",
       "</pre>\n"
      ],
      "text/plain": [
       "10:29:43.676 | \u001b[36mINFO\u001b[0m    | Flow run\u001b[35m 'magnificent-leopard'\u001b[0m - Created task run 'process_pool_vol-f3874c79-10' for task 'process_pool_vol'\n"
      ]
     },
     "metadata": {},
     "output_type": "display_data"
    },
    {
     "data": {
      "text/html": [
       "<pre style=\"white-space:pre;overflow-x:auto;line-height:normal;font-family:Menlo,'DejaVu Sans Mono',consolas,'Courier New',monospace\">10:29:43.676 | <span style=\"color: #008080; text-decoration-color: #008080\">INFO</span>    | Flow run<span style=\"color: #800080; text-decoration-color: #800080\"> 'magnificent-leopard'</span> - Executing 'process_pool_vol-f3874c79-10' immediately...\n",
       "</pre>\n"
      ],
      "text/plain": [
       "10:29:43.676 | \u001b[36mINFO\u001b[0m    | Flow run\u001b[35m 'magnificent-leopard'\u001b[0m - Executing 'process_pool_vol-f3874c79-10' immediately...\n"
      ]
     },
     "metadata": {},
     "output_type": "display_data"
    },
    {
     "data": {
      "text/html": [
       "<pre style=\"white-space:pre;overflow-x:auto;line-height:normal;font-family:Menlo,'DejaVu Sans Mono',consolas,'Courier New',monospace\">10:29:43.697 | <span style=\"color: #008080; text-decoration-color: #008080\">INFO</span>    | Task run 'process_pool_vol-f3874c79-10' - Finished in state <span style=\"color: #008000; text-decoration-color: #008000\">Completed</span>()\n",
       "</pre>\n"
      ],
      "text/plain": [
       "10:29:43.697 | \u001b[36mINFO\u001b[0m    | Task run 'process_pool_vol-f3874c79-10' - Finished in state \u001b[32mCompleted\u001b[0m()\n"
      ]
     },
     "metadata": {},
     "output_type": "display_data"
    },
    {
     "data": {
      "text/html": [
       "<pre style=\"white-space:pre;overflow-x:auto;line-height:normal;font-family:Menlo,'DejaVu Sans Mono',consolas,'Courier New',monospace\">10:29:43.705 | <span style=\"color: #008080; text-decoration-color: #008080\">INFO</span>    | Flow run<span style=\"color: #800080; text-decoration-color: #800080\"> 'magnificent-leopard'</span> - Created task run 'process_pool_vol-f3874c79-11' for task 'process_pool_vol'\n",
       "</pre>\n"
      ],
      "text/plain": [
       "10:29:43.705 | \u001b[36mINFO\u001b[0m    | Flow run\u001b[35m 'magnificent-leopard'\u001b[0m - Created task run 'process_pool_vol-f3874c79-11' for task 'process_pool_vol'\n"
      ]
     },
     "metadata": {},
     "output_type": "display_data"
    },
    {
     "data": {
      "text/html": [
       "<pre style=\"white-space:pre;overflow-x:auto;line-height:normal;font-family:Menlo,'DejaVu Sans Mono',consolas,'Courier New',monospace\">10:29:43.706 | <span style=\"color: #008080; text-decoration-color: #008080\">INFO</span>    | Flow run<span style=\"color: #800080; text-decoration-color: #800080\"> 'magnificent-leopard'</span> - Executing 'process_pool_vol-f3874c79-11' immediately...\n",
       "</pre>\n"
      ],
      "text/plain": [
       "10:29:43.706 | \u001b[36mINFO\u001b[0m    | Flow run\u001b[35m 'magnificent-leopard'\u001b[0m - Executing 'process_pool_vol-f3874c79-11' immediately...\n"
      ]
     },
     "metadata": {},
     "output_type": "display_data"
    },
    {
     "data": {
      "text/html": [
       "<pre style=\"white-space:pre;overflow-x:auto;line-height:normal;font-family:Menlo,'DejaVu Sans Mono',consolas,'Courier New',monospace\">10:29:43.726 | <span style=\"color: #008080; text-decoration-color: #008080\">INFO</span>    | Task run 'process_pool_vol-f3874c79-11' - Finished in state <span style=\"color: #008000; text-decoration-color: #008000\">Completed</span>()\n",
       "</pre>\n"
      ],
      "text/plain": [
       "10:29:43.726 | \u001b[36mINFO\u001b[0m    | Task run 'process_pool_vol-f3874c79-11' - Finished in state \u001b[32mCompleted\u001b[0m()\n"
      ]
     },
     "metadata": {},
     "output_type": "display_data"
    },
    {
     "data": {
      "text/html": [
       "<pre style=\"white-space:pre;overflow-x:auto;line-height:normal;font-family:Menlo,'DejaVu Sans Mono',consolas,'Courier New',monospace\">10:29:43.734 | <span style=\"color: #008080; text-decoration-color: #008080\">INFO</span>    | Flow run<span style=\"color: #800080; text-decoration-color: #800080\"> 'magnificent-leopard'</span> - Created task run 'process_pool_vol-f3874c79-12' for task 'process_pool_vol'\n",
       "</pre>\n"
      ],
      "text/plain": [
       "10:29:43.734 | \u001b[36mINFO\u001b[0m    | Flow run\u001b[35m 'magnificent-leopard'\u001b[0m - Created task run 'process_pool_vol-f3874c79-12' for task 'process_pool_vol'\n"
      ]
     },
     "metadata": {},
     "output_type": "display_data"
    },
    {
     "data": {
      "text/html": [
       "<pre style=\"white-space:pre;overflow-x:auto;line-height:normal;font-family:Menlo,'DejaVu Sans Mono',consolas,'Courier New',monospace\">10:29:43.735 | <span style=\"color: #008080; text-decoration-color: #008080\">INFO</span>    | Flow run<span style=\"color: #800080; text-decoration-color: #800080\"> 'magnificent-leopard'</span> - Executing 'process_pool_vol-f3874c79-12' immediately...\n",
       "</pre>\n"
      ],
      "text/plain": [
       "10:29:43.735 | \u001b[36mINFO\u001b[0m    | Flow run\u001b[35m 'magnificent-leopard'\u001b[0m - Executing 'process_pool_vol-f3874c79-12' immediately...\n"
      ]
     },
     "metadata": {},
     "output_type": "display_data"
    },
    {
     "data": {
      "text/html": [
       "<pre style=\"white-space:pre;overflow-x:auto;line-height:normal;font-family:Menlo,'DejaVu Sans Mono',consolas,'Courier New',monospace\">10:29:43.756 | <span style=\"color: #008080; text-decoration-color: #008080\">INFO</span>    | Task run 'process_pool_vol-f3874c79-12' - Finished in state <span style=\"color: #008000; text-decoration-color: #008000\">Completed</span>()\n",
       "</pre>\n"
      ],
      "text/plain": [
       "10:29:43.756 | \u001b[36mINFO\u001b[0m    | Task run 'process_pool_vol-f3874c79-12' - Finished in state \u001b[32mCompleted\u001b[0m()\n"
      ]
     },
     "metadata": {},
     "output_type": "display_data"
    },
    {
     "data": {
      "text/html": [
       "<pre style=\"white-space:pre;overflow-x:auto;line-height:normal;font-family:Menlo,'DejaVu Sans Mono',consolas,'Courier New',monospace\">10:29:43.764 | <span style=\"color: #008080; text-decoration-color: #008080\">INFO</span>    | Flow run<span style=\"color: #800080; text-decoration-color: #800080\"> 'magnificent-leopard'</span> - Created task run 'process_pool_vol-f3874c79-13' for task 'process_pool_vol'\n",
       "</pre>\n"
      ],
      "text/plain": [
       "10:29:43.764 | \u001b[36mINFO\u001b[0m    | Flow run\u001b[35m 'magnificent-leopard'\u001b[0m - Created task run 'process_pool_vol-f3874c79-13' for task 'process_pool_vol'\n"
      ]
     },
     "metadata": {},
     "output_type": "display_data"
    },
    {
     "data": {
      "text/html": [
       "<pre style=\"white-space:pre;overflow-x:auto;line-height:normal;font-family:Menlo,'DejaVu Sans Mono',consolas,'Courier New',monospace\">10:29:43.765 | <span style=\"color: #008080; text-decoration-color: #008080\">INFO</span>    | Flow run<span style=\"color: #800080; text-decoration-color: #800080\"> 'magnificent-leopard'</span> - Executing 'process_pool_vol-f3874c79-13' immediately...\n",
       "</pre>\n"
      ],
      "text/plain": [
       "10:29:43.765 | \u001b[36mINFO\u001b[0m    | Flow run\u001b[35m 'magnificent-leopard'\u001b[0m - Executing 'process_pool_vol-f3874c79-13' immediately...\n"
      ]
     },
     "metadata": {},
     "output_type": "display_data"
    },
    {
     "data": {
      "text/html": [
       "<pre style=\"white-space:pre;overflow-x:auto;line-height:normal;font-family:Menlo,'DejaVu Sans Mono',consolas,'Courier New',monospace\">10:29:43.786 | <span style=\"color: #008080; text-decoration-color: #008080\">INFO</span>    | Task run 'process_pool_vol-f3874c79-13' - Finished in state <span style=\"color: #008000; text-decoration-color: #008000\">Completed</span>()\n",
       "</pre>\n"
      ],
      "text/plain": [
       "10:29:43.786 | \u001b[36mINFO\u001b[0m    | Task run 'process_pool_vol-f3874c79-13' - Finished in state \u001b[32mCompleted\u001b[0m()\n"
      ]
     },
     "metadata": {},
     "output_type": "display_data"
    },
    {
     "data": {
      "text/html": [
       "<pre style=\"white-space:pre;overflow-x:auto;line-height:normal;font-family:Menlo,'DejaVu Sans Mono',consolas,'Courier New',monospace\">10:29:43.794 | <span style=\"color: #008080; text-decoration-color: #008080\">INFO</span>    | Flow run<span style=\"color: #800080; text-decoration-color: #800080\"> 'magnificent-leopard'</span> - Created task run 'process_pool_vol-f3874c79-14' for task 'process_pool_vol'\n",
       "</pre>\n"
      ],
      "text/plain": [
       "10:29:43.794 | \u001b[36mINFO\u001b[0m    | Flow run\u001b[35m 'magnificent-leopard'\u001b[0m - Created task run 'process_pool_vol-f3874c79-14' for task 'process_pool_vol'\n"
      ]
     },
     "metadata": {},
     "output_type": "display_data"
    },
    {
     "data": {
      "text/html": [
       "<pre style=\"white-space:pre;overflow-x:auto;line-height:normal;font-family:Menlo,'DejaVu Sans Mono',consolas,'Courier New',monospace\">10:29:43.795 | <span style=\"color: #008080; text-decoration-color: #008080\">INFO</span>    | Flow run<span style=\"color: #800080; text-decoration-color: #800080\"> 'magnificent-leopard'</span> - Executing 'process_pool_vol-f3874c79-14' immediately...\n",
       "</pre>\n"
      ],
      "text/plain": [
       "10:29:43.795 | \u001b[36mINFO\u001b[0m    | Flow run\u001b[35m 'magnificent-leopard'\u001b[0m - Executing 'process_pool_vol-f3874c79-14' immediately...\n"
      ]
     },
     "metadata": {},
     "output_type": "display_data"
    },
    {
     "data": {
      "text/html": [
       "<pre style=\"white-space:pre;overflow-x:auto;line-height:normal;font-family:Menlo,'DejaVu Sans Mono',consolas,'Courier New',monospace\">10:29:43.815 | <span style=\"color: #008080; text-decoration-color: #008080\">INFO</span>    | Task run 'process_pool_vol-f3874c79-14' - Finished in state <span style=\"color: #008000; text-decoration-color: #008000\">Completed</span>()\n",
       "</pre>\n"
      ],
      "text/plain": [
       "10:29:43.815 | \u001b[36mINFO\u001b[0m    | Task run 'process_pool_vol-f3874c79-14' - Finished in state \u001b[32mCompleted\u001b[0m()\n"
      ]
     },
     "metadata": {},
     "output_type": "display_data"
    },
    {
     "data": {
      "text/html": [
       "<pre style=\"white-space:pre;overflow-x:auto;line-height:normal;font-family:Menlo,'DejaVu Sans Mono',consolas,'Courier New',monospace\">10:29:43.824 | <span style=\"color: #008080; text-decoration-color: #008080\">INFO</span>    | Flow run<span style=\"color: #800080; text-decoration-color: #800080\"> 'magnificent-leopard'</span> - Created task run 'process_pool_vol-f3874c79-15' for task 'process_pool_vol'\n",
       "</pre>\n"
      ],
      "text/plain": [
       "10:29:43.824 | \u001b[36mINFO\u001b[0m    | Flow run\u001b[35m 'magnificent-leopard'\u001b[0m - Created task run 'process_pool_vol-f3874c79-15' for task 'process_pool_vol'\n"
      ]
     },
     "metadata": {},
     "output_type": "display_data"
    },
    {
     "data": {
      "text/html": [
       "<pre style=\"white-space:pre;overflow-x:auto;line-height:normal;font-family:Menlo,'DejaVu Sans Mono',consolas,'Courier New',monospace\">10:29:43.824 | <span style=\"color: #008080; text-decoration-color: #008080\">INFO</span>    | Flow run<span style=\"color: #800080; text-decoration-color: #800080\"> 'magnificent-leopard'</span> - Executing 'process_pool_vol-f3874c79-15' immediately...\n",
       "</pre>\n"
      ],
      "text/plain": [
       "10:29:43.824 | \u001b[36mINFO\u001b[0m    | Flow run\u001b[35m 'magnificent-leopard'\u001b[0m - Executing 'process_pool_vol-f3874c79-15' immediately...\n"
      ]
     },
     "metadata": {},
     "output_type": "display_data"
    },
    {
     "data": {
      "text/html": [
       "<pre style=\"white-space:pre;overflow-x:auto;line-height:normal;font-family:Menlo,'DejaVu Sans Mono',consolas,'Courier New',monospace\">10:29:43.845 | <span style=\"color: #008080; text-decoration-color: #008080\">INFO</span>    | Task run 'process_pool_vol-f3874c79-15' - Finished in state <span style=\"color: #008000; text-decoration-color: #008000\">Completed</span>()\n",
       "</pre>\n"
      ],
      "text/plain": [
       "10:29:43.845 | \u001b[36mINFO\u001b[0m    | Task run 'process_pool_vol-f3874c79-15' - Finished in state \u001b[32mCompleted\u001b[0m()\n"
      ]
     },
     "metadata": {},
     "output_type": "display_data"
    },
    {
     "data": {
      "text/html": [
       "<pre style=\"white-space:pre;overflow-x:auto;line-height:normal;font-family:Menlo,'DejaVu Sans Mono',consolas,'Courier New',monospace\">10:29:43.853 | <span style=\"color: #008080; text-decoration-color: #008080\">INFO</span>    | Flow run<span style=\"color: #800080; text-decoration-color: #800080\"> 'magnificent-leopard'</span> - Created task run 'process_pool_vol-f3874c79-16' for task 'process_pool_vol'\n",
       "</pre>\n"
      ],
      "text/plain": [
       "10:29:43.853 | \u001b[36mINFO\u001b[0m    | Flow run\u001b[35m 'magnificent-leopard'\u001b[0m - Created task run 'process_pool_vol-f3874c79-16' for task 'process_pool_vol'\n"
      ]
     },
     "metadata": {},
     "output_type": "display_data"
    },
    {
     "data": {
      "text/html": [
       "<pre style=\"white-space:pre;overflow-x:auto;line-height:normal;font-family:Menlo,'DejaVu Sans Mono',consolas,'Courier New',monospace\">10:29:43.854 | <span style=\"color: #008080; text-decoration-color: #008080\">INFO</span>    | Flow run<span style=\"color: #800080; text-decoration-color: #800080\"> 'magnificent-leopard'</span> - Executing 'process_pool_vol-f3874c79-16' immediately...\n",
       "</pre>\n"
      ],
      "text/plain": [
       "10:29:43.854 | \u001b[36mINFO\u001b[0m    | Flow run\u001b[35m 'magnificent-leopard'\u001b[0m - Executing 'process_pool_vol-f3874c79-16' immediately...\n"
      ]
     },
     "metadata": {},
     "output_type": "display_data"
    },
    {
     "data": {
      "text/html": [
       "<pre style=\"white-space:pre;overflow-x:auto;line-height:normal;font-family:Menlo,'DejaVu Sans Mono',consolas,'Courier New',monospace\">10:29:43.874 | <span style=\"color: #008080; text-decoration-color: #008080\">INFO</span>    | Task run 'process_pool_vol-f3874c79-16' - Finished in state <span style=\"color: #008000; text-decoration-color: #008000\">Completed</span>()\n",
       "</pre>\n"
      ],
      "text/plain": [
       "10:29:43.874 | \u001b[36mINFO\u001b[0m    | Task run 'process_pool_vol-f3874c79-16' - Finished in state \u001b[32mCompleted\u001b[0m()\n"
      ]
     },
     "metadata": {},
     "output_type": "display_data"
    },
    {
     "data": {
      "text/html": [
       "<pre style=\"white-space:pre;overflow-x:auto;line-height:normal;font-family:Menlo,'DejaVu Sans Mono',consolas,'Courier New',monospace\">10:29:43.882 | <span style=\"color: #008080; text-decoration-color: #008080\">INFO</span>    | Flow run<span style=\"color: #800080; text-decoration-color: #800080\"> 'magnificent-leopard'</span> - Created task run 'process_pool_vol-f3874c79-17' for task 'process_pool_vol'\n",
       "</pre>\n"
      ],
      "text/plain": [
       "10:29:43.882 | \u001b[36mINFO\u001b[0m    | Flow run\u001b[35m 'magnificent-leopard'\u001b[0m - Created task run 'process_pool_vol-f3874c79-17' for task 'process_pool_vol'\n"
      ]
     },
     "metadata": {},
     "output_type": "display_data"
    },
    {
     "data": {
      "text/html": [
       "<pre style=\"white-space:pre;overflow-x:auto;line-height:normal;font-family:Menlo,'DejaVu Sans Mono',consolas,'Courier New',monospace\">10:29:43.883 | <span style=\"color: #008080; text-decoration-color: #008080\">INFO</span>    | Flow run<span style=\"color: #800080; text-decoration-color: #800080\"> 'magnificent-leopard'</span> - Executing 'process_pool_vol-f3874c79-17' immediately...\n",
       "</pre>\n"
      ],
      "text/plain": [
       "10:29:43.883 | \u001b[36mINFO\u001b[0m    | Flow run\u001b[35m 'magnificent-leopard'\u001b[0m - Executing 'process_pool_vol-f3874c79-17' immediately...\n"
      ]
     },
     "metadata": {},
     "output_type": "display_data"
    },
    {
     "data": {
      "text/html": [
       "<pre style=\"white-space:pre;overflow-x:auto;line-height:normal;font-family:Menlo,'DejaVu Sans Mono',consolas,'Courier New',monospace\">10:29:43.903 | <span style=\"color: #008080; text-decoration-color: #008080\">INFO</span>    | Task run 'process_pool_vol-f3874c79-17' - Finished in state <span style=\"color: #008000; text-decoration-color: #008000\">Completed</span>()\n",
       "</pre>\n"
      ],
      "text/plain": [
       "10:29:43.903 | \u001b[36mINFO\u001b[0m    | Task run 'process_pool_vol-f3874c79-17' - Finished in state \u001b[32mCompleted\u001b[0m()\n"
      ]
     },
     "metadata": {},
     "output_type": "display_data"
    },
    {
     "data": {
      "text/html": [
       "<pre style=\"white-space:pre;overflow-x:auto;line-height:normal;font-family:Menlo,'DejaVu Sans Mono',consolas,'Courier New',monospace\">10:29:43.912 | <span style=\"color: #008080; text-decoration-color: #008080\">INFO</span>    | Flow run<span style=\"color: #800080; text-decoration-color: #800080\"> 'magnificent-leopard'</span> - Created task run 'process_pool_vol-f3874c79-18' for task 'process_pool_vol'\n",
       "</pre>\n"
      ],
      "text/plain": [
       "10:29:43.912 | \u001b[36mINFO\u001b[0m    | Flow run\u001b[35m 'magnificent-leopard'\u001b[0m - Created task run 'process_pool_vol-f3874c79-18' for task 'process_pool_vol'\n"
      ]
     },
     "metadata": {},
     "output_type": "display_data"
    },
    {
     "data": {
      "text/html": [
       "<pre style=\"white-space:pre;overflow-x:auto;line-height:normal;font-family:Menlo,'DejaVu Sans Mono',consolas,'Courier New',monospace\">10:29:43.912 | <span style=\"color: #008080; text-decoration-color: #008080\">INFO</span>    | Flow run<span style=\"color: #800080; text-decoration-color: #800080\"> 'magnificent-leopard'</span> - Executing 'process_pool_vol-f3874c79-18' immediately...\n",
       "</pre>\n"
      ],
      "text/plain": [
       "10:29:43.912 | \u001b[36mINFO\u001b[0m    | Flow run\u001b[35m 'magnificent-leopard'\u001b[0m - Executing 'process_pool_vol-f3874c79-18' immediately...\n"
      ]
     },
     "metadata": {},
     "output_type": "display_data"
    },
    {
     "data": {
      "text/html": [
       "<pre style=\"white-space:pre;overflow-x:auto;line-height:normal;font-family:Menlo,'DejaVu Sans Mono',consolas,'Courier New',monospace\">10:29:43.933 | <span style=\"color: #008080; text-decoration-color: #008080\">INFO</span>    | Task run 'process_pool_vol-f3874c79-18' - Finished in state <span style=\"color: #008000; text-decoration-color: #008000\">Completed</span>()\n",
       "</pre>\n"
      ],
      "text/plain": [
       "10:29:43.933 | \u001b[36mINFO\u001b[0m    | Task run 'process_pool_vol-f3874c79-18' - Finished in state \u001b[32mCompleted\u001b[0m()\n"
      ]
     },
     "metadata": {},
     "output_type": "display_data"
    },
    {
     "data": {
      "text/html": [
       "<pre style=\"white-space:pre;overflow-x:auto;line-height:normal;font-family:Menlo,'DejaVu Sans Mono',consolas,'Courier New',monospace\">10:29:43.941 | <span style=\"color: #008080; text-decoration-color: #008080\">INFO</span>    | Flow run<span style=\"color: #800080; text-decoration-color: #800080\"> 'magnificent-leopard'</span> - Created task run 'process_pool_vol-f3874c79-19' for task 'process_pool_vol'\n",
       "</pre>\n"
      ],
      "text/plain": [
       "10:29:43.941 | \u001b[36mINFO\u001b[0m    | Flow run\u001b[35m 'magnificent-leopard'\u001b[0m - Created task run 'process_pool_vol-f3874c79-19' for task 'process_pool_vol'\n"
      ]
     },
     "metadata": {},
     "output_type": "display_data"
    },
    {
     "data": {
      "text/html": [
       "<pre style=\"white-space:pre;overflow-x:auto;line-height:normal;font-family:Menlo,'DejaVu Sans Mono',consolas,'Courier New',monospace\">10:29:43.941 | <span style=\"color: #008080; text-decoration-color: #008080\">INFO</span>    | Flow run<span style=\"color: #800080; text-decoration-color: #800080\"> 'magnificent-leopard'</span> - Executing 'process_pool_vol-f3874c79-19' immediately...\n",
       "</pre>\n"
      ],
      "text/plain": [
       "10:29:43.941 | \u001b[36mINFO\u001b[0m    | Flow run\u001b[35m 'magnificent-leopard'\u001b[0m - Executing 'process_pool_vol-f3874c79-19' immediately...\n"
      ]
     },
     "metadata": {},
     "output_type": "display_data"
    },
    {
     "data": {
      "text/html": [
       "<pre style=\"white-space:pre;overflow-x:auto;line-height:normal;font-family:Menlo,'DejaVu Sans Mono',consolas,'Courier New',monospace\">10:29:43.962 | <span style=\"color: #008080; text-decoration-color: #008080\">INFO</span>    | Task run 'process_pool_vol-f3874c79-19' - Finished in state <span style=\"color: #008000; text-decoration-color: #008000\">Completed</span>()\n",
       "</pre>\n"
      ],
      "text/plain": [
       "10:29:43.962 | \u001b[36mINFO\u001b[0m    | Task run 'process_pool_vol-f3874c79-19' - Finished in state \u001b[32mCompleted\u001b[0m()\n"
      ]
     },
     "metadata": {},
     "output_type": "display_data"
    },
    {
     "data": {
      "text/html": [
       "<pre style=\"white-space:pre;overflow-x:auto;line-height:normal;font-family:Menlo,'DejaVu Sans Mono',consolas,'Courier New',monospace\">10:29:43.970 | <span style=\"color: #008080; text-decoration-color: #008080\">INFO</span>    | Flow run<span style=\"color: #800080; text-decoration-color: #800080\"> 'magnificent-leopard'</span> - Created task run 'process_pool_vol-f3874c79-20' for task 'process_pool_vol'\n",
       "</pre>\n"
      ],
      "text/plain": [
       "10:29:43.970 | \u001b[36mINFO\u001b[0m    | Flow run\u001b[35m 'magnificent-leopard'\u001b[0m - Created task run 'process_pool_vol-f3874c79-20' for task 'process_pool_vol'\n"
      ]
     },
     "metadata": {},
     "output_type": "display_data"
    },
    {
     "data": {
      "text/html": [
       "<pre style=\"white-space:pre;overflow-x:auto;line-height:normal;font-family:Menlo,'DejaVu Sans Mono',consolas,'Courier New',monospace\">10:29:43.971 | <span style=\"color: #008080; text-decoration-color: #008080\">INFO</span>    | Flow run<span style=\"color: #800080; text-decoration-color: #800080\"> 'magnificent-leopard'</span> - Executing 'process_pool_vol-f3874c79-20' immediately...\n",
       "</pre>\n"
      ],
      "text/plain": [
       "10:29:43.971 | \u001b[36mINFO\u001b[0m    | Flow run\u001b[35m 'magnificent-leopard'\u001b[0m - Executing 'process_pool_vol-f3874c79-20' immediately...\n"
      ]
     },
     "metadata": {},
     "output_type": "display_data"
    },
    {
     "data": {
      "text/html": [
       "<pre style=\"white-space:pre;overflow-x:auto;line-height:normal;font-family:Menlo,'DejaVu Sans Mono',consolas,'Courier New',monospace\">10:29:43.991 | <span style=\"color: #008080; text-decoration-color: #008080\">INFO</span>    | Task run 'process_pool_vol-f3874c79-20' - Finished in state <span style=\"color: #008000; text-decoration-color: #008000\">Completed</span>()\n",
       "</pre>\n"
      ],
      "text/plain": [
       "10:29:43.991 | \u001b[36mINFO\u001b[0m    | Task run 'process_pool_vol-f3874c79-20' - Finished in state \u001b[32mCompleted\u001b[0m()\n"
      ]
     },
     "metadata": {},
     "output_type": "display_data"
    },
    {
     "data": {
      "text/html": [
       "<pre style=\"white-space:pre;overflow-x:auto;line-height:normal;font-family:Menlo,'DejaVu Sans Mono',consolas,'Courier New',monospace\">10:29:43.999 | <span style=\"color: #008080; text-decoration-color: #008080\">INFO</span>    | Flow run<span style=\"color: #800080; text-decoration-color: #800080\"> 'magnificent-leopard'</span> - Created task run 'process_pool_vol-f3874c79-21' for task 'process_pool_vol'\n",
       "</pre>\n"
      ],
      "text/plain": [
       "10:29:43.999 | \u001b[36mINFO\u001b[0m    | Flow run\u001b[35m 'magnificent-leopard'\u001b[0m - Created task run 'process_pool_vol-f3874c79-21' for task 'process_pool_vol'\n"
      ]
     },
     "metadata": {},
     "output_type": "display_data"
    },
    {
     "data": {
      "text/html": [
       "<pre style=\"white-space:pre;overflow-x:auto;line-height:normal;font-family:Menlo,'DejaVu Sans Mono',consolas,'Courier New',monospace\">10:29:44.000 | <span style=\"color: #008080; text-decoration-color: #008080\">INFO</span>    | Flow run<span style=\"color: #800080; text-decoration-color: #800080\"> 'magnificent-leopard'</span> - Executing 'process_pool_vol-f3874c79-21' immediately...\n",
       "</pre>\n"
      ],
      "text/plain": [
       "10:29:44.000 | \u001b[36mINFO\u001b[0m    | Flow run\u001b[35m 'magnificent-leopard'\u001b[0m - Executing 'process_pool_vol-f3874c79-21' immediately...\n"
      ]
     },
     "metadata": {},
     "output_type": "display_data"
    },
    {
     "data": {
      "text/html": [
       "<pre style=\"white-space:pre;overflow-x:auto;line-height:normal;font-family:Menlo,'DejaVu Sans Mono',consolas,'Courier New',monospace\">10:29:44.021 | <span style=\"color: #008080; text-decoration-color: #008080\">INFO</span>    | Task run 'process_pool_vol-f3874c79-21' - Finished in state <span style=\"color: #008000; text-decoration-color: #008000\">Completed</span>()\n",
       "</pre>\n"
      ],
      "text/plain": [
       "10:29:44.021 | \u001b[36mINFO\u001b[0m    | Task run 'process_pool_vol-f3874c79-21' - Finished in state \u001b[32mCompleted\u001b[0m()\n"
      ]
     },
     "metadata": {},
     "output_type": "display_data"
    },
    {
     "data": {
      "text/html": [
       "<pre style=\"white-space:pre;overflow-x:auto;line-height:normal;font-family:Menlo,'DejaVu Sans Mono',consolas,'Courier New',monospace\">10:29:44.029 | <span style=\"color: #008080; text-decoration-color: #008080\">INFO</span>    | Flow run<span style=\"color: #800080; text-decoration-color: #800080\"> 'magnificent-leopard'</span> - Created task run 'process_pool_vol-f3874c79-22' for task 'process_pool_vol'\n",
       "</pre>\n"
      ],
      "text/plain": [
       "10:29:44.029 | \u001b[36mINFO\u001b[0m    | Flow run\u001b[35m 'magnificent-leopard'\u001b[0m - Created task run 'process_pool_vol-f3874c79-22' for task 'process_pool_vol'\n"
      ]
     },
     "metadata": {},
     "output_type": "display_data"
    },
    {
     "data": {
      "text/html": [
       "<pre style=\"white-space:pre;overflow-x:auto;line-height:normal;font-family:Menlo,'DejaVu Sans Mono',consolas,'Courier New',monospace\">10:29:44.030 | <span style=\"color: #008080; text-decoration-color: #008080\">INFO</span>    | Flow run<span style=\"color: #800080; text-decoration-color: #800080\"> 'magnificent-leopard'</span> - Executing 'process_pool_vol-f3874c79-22' immediately...\n",
       "</pre>\n"
      ],
      "text/plain": [
       "10:29:44.030 | \u001b[36mINFO\u001b[0m    | Flow run\u001b[35m 'magnificent-leopard'\u001b[0m - Executing 'process_pool_vol-f3874c79-22' immediately...\n"
      ]
     },
     "metadata": {},
     "output_type": "display_data"
    },
    {
     "data": {
      "text/html": [
       "<pre style=\"white-space:pre;overflow-x:auto;line-height:normal;font-family:Menlo,'DejaVu Sans Mono',consolas,'Courier New',monospace\">10:29:44.050 | <span style=\"color: #008080; text-decoration-color: #008080\">INFO</span>    | Task run 'process_pool_vol-f3874c79-22' - Finished in state <span style=\"color: #008000; text-decoration-color: #008000\">Completed</span>()\n",
       "</pre>\n"
      ],
      "text/plain": [
       "10:29:44.050 | \u001b[36mINFO\u001b[0m    | Task run 'process_pool_vol-f3874c79-22' - Finished in state \u001b[32mCompleted\u001b[0m()\n"
      ]
     },
     "metadata": {},
     "output_type": "display_data"
    },
    {
     "data": {
      "text/html": [
       "<pre style=\"white-space:pre;overflow-x:auto;line-height:normal;font-family:Menlo,'DejaVu Sans Mono',consolas,'Courier New',monospace\">10:29:44.059 | <span style=\"color: #008080; text-decoration-color: #008080\">INFO</span>    | Flow run<span style=\"color: #800080; text-decoration-color: #800080\"> 'magnificent-leopard'</span> - Created task run 'process_pool_vol-f3874c79-23' for task 'process_pool_vol'\n",
       "</pre>\n"
      ],
      "text/plain": [
       "10:29:44.059 | \u001b[36mINFO\u001b[0m    | Flow run\u001b[35m 'magnificent-leopard'\u001b[0m - Created task run 'process_pool_vol-f3874c79-23' for task 'process_pool_vol'\n"
      ]
     },
     "metadata": {},
     "output_type": "display_data"
    },
    {
     "data": {
      "text/html": [
       "<pre style=\"white-space:pre;overflow-x:auto;line-height:normal;font-family:Menlo,'DejaVu Sans Mono',consolas,'Courier New',monospace\">10:29:44.059 | <span style=\"color: #008080; text-decoration-color: #008080\">INFO</span>    | Flow run<span style=\"color: #800080; text-decoration-color: #800080\"> 'magnificent-leopard'</span> - Executing 'process_pool_vol-f3874c79-23' immediately...\n",
       "</pre>\n"
      ],
      "text/plain": [
       "10:29:44.059 | \u001b[36mINFO\u001b[0m    | Flow run\u001b[35m 'magnificent-leopard'\u001b[0m - Executing 'process_pool_vol-f3874c79-23' immediately...\n"
      ]
     },
     "metadata": {},
     "output_type": "display_data"
    },
    {
     "data": {
      "text/html": [
       "<pre style=\"white-space:pre;overflow-x:auto;line-height:normal;font-family:Menlo,'DejaVu Sans Mono',consolas,'Courier New',monospace\">10:29:44.080 | <span style=\"color: #008080; text-decoration-color: #008080\">INFO</span>    | Task run 'process_pool_vol-f3874c79-23' - Finished in state <span style=\"color: #008000; text-decoration-color: #008000\">Completed</span>()\n",
       "</pre>\n"
      ],
      "text/plain": [
       "10:29:44.080 | \u001b[36mINFO\u001b[0m    | Task run 'process_pool_vol-f3874c79-23' - Finished in state \u001b[32mCompleted\u001b[0m()\n"
      ]
     },
     "metadata": {},
     "output_type": "display_data"
    },
    {
     "data": {
      "text/html": [
       "<pre style=\"white-space:pre;overflow-x:auto;line-height:normal;font-family:Menlo,'DejaVu Sans Mono',consolas,'Courier New',monospace\">10:29:44.088 | <span style=\"color: #008080; text-decoration-color: #008080\">INFO</span>    | Flow run<span style=\"color: #800080; text-decoration-color: #800080\"> 'magnificent-leopard'</span> - Created task run 'process_pool_vol-f3874c79-24' for task 'process_pool_vol'\n",
       "</pre>\n"
      ],
      "text/plain": [
       "10:29:44.088 | \u001b[36mINFO\u001b[0m    | Flow run\u001b[35m 'magnificent-leopard'\u001b[0m - Created task run 'process_pool_vol-f3874c79-24' for task 'process_pool_vol'\n"
      ]
     },
     "metadata": {},
     "output_type": "display_data"
    },
    {
     "data": {
      "text/html": [
       "<pre style=\"white-space:pre;overflow-x:auto;line-height:normal;font-family:Menlo,'DejaVu Sans Mono',consolas,'Courier New',monospace\">10:29:44.089 | <span style=\"color: #008080; text-decoration-color: #008080\">INFO</span>    | Flow run<span style=\"color: #800080; text-decoration-color: #800080\"> 'magnificent-leopard'</span> - Executing 'process_pool_vol-f3874c79-24' immediately...\n",
       "</pre>\n"
      ],
      "text/plain": [
       "10:29:44.089 | \u001b[36mINFO\u001b[0m    | Flow run\u001b[35m 'magnificent-leopard'\u001b[0m - Executing 'process_pool_vol-f3874c79-24' immediately...\n"
      ]
     },
     "metadata": {},
     "output_type": "display_data"
    },
    {
     "data": {
      "text/html": [
       "<pre style=\"white-space:pre;overflow-x:auto;line-height:normal;font-family:Menlo,'DejaVu Sans Mono',consolas,'Courier New',monospace\">10:29:44.109 | <span style=\"color: #008080; text-decoration-color: #008080\">INFO</span>    | Task run 'process_pool_vol-f3874c79-24' - Finished in state <span style=\"color: #008000; text-decoration-color: #008000\">Completed</span>()\n",
       "</pre>\n"
      ],
      "text/plain": [
       "10:29:44.109 | \u001b[36mINFO\u001b[0m    | Task run 'process_pool_vol-f3874c79-24' - Finished in state \u001b[32mCompleted\u001b[0m()\n"
      ]
     },
     "metadata": {},
     "output_type": "display_data"
    },
    {
     "data": {
      "text/html": [
       "<pre style=\"white-space:pre;overflow-x:auto;line-height:normal;font-family:Menlo,'DejaVu Sans Mono',consolas,'Courier New',monospace\">10:29:44.117 | <span style=\"color: #008080; text-decoration-color: #008080\">INFO</span>    | Flow run<span style=\"color: #800080; text-decoration-color: #800080\"> 'magnificent-leopard'</span> - Created task run 'process_pool_vol-f3874c79-25' for task 'process_pool_vol'\n",
       "</pre>\n"
      ],
      "text/plain": [
       "10:29:44.117 | \u001b[36mINFO\u001b[0m    | Flow run\u001b[35m 'magnificent-leopard'\u001b[0m - Created task run 'process_pool_vol-f3874c79-25' for task 'process_pool_vol'\n"
      ]
     },
     "metadata": {},
     "output_type": "display_data"
    },
    {
     "data": {
      "text/html": [
       "<pre style=\"white-space:pre;overflow-x:auto;line-height:normal;font-family:Menlo,'DejaVu Sans Mono',consolas,'Courier New',monospace\">10:29:44.118 | <span style=\"color: #008080; text-decoration-color: #008080\">INFO</span>    | Flow run<span style=\"color: #800080; text-decoration-color: #800080\"> 'magnificent-leopard'</span> - Executing 'process_pool_vol-f3874c79-25' immediately...\n",
       "</pre>\n"
      ],
      "text/plain": [
       "10:29:44.118 | \u001b[36mINFO\u001b[0m    | Flow run\u001b[35m 'magnificent-leopard'\u001b[0m - Executing 'process_pool_vol-f3874c79-25' immediately...\n"
      ]
     },
     "metadata": {},
     "output_type": "display_data"
    },
    {
     "data": {
      "text/html": [
       "<pre style=\"white-space:pre;overflow-x:auto;line-height:normal;font-family:Menlo,'DejaVu Sans Mono',consolas,'Courier New',monospace\">10:29:44.138 | <span style=\"color: #008080; text-decoration-color: #008080\">INFO</span>    | Task run 'process_pool_vol-f3874c79-25' - Finished in state <span style=\"color: #008000; text-decoration-color: #008000\">Completed</span>()\n",
       "</pre>\n"
      ],
      "text/plain": [
       "10:29:44.138 | \u001b[36mINFO\u001b[0m    | Task run 'process_pool_vol-f3874c79-25' - Finished in state \u001b[32mCompleted\u001b[0m()\n"
      ]
     },
     "metadata": {},
     "output_type": "display_data"
    },
    {
     "data": {
      "text/html": [
       "<pre style=\"white-space:pre;overflow-x:auto;line-height:normal;font-family:Menlo,'DejaVu Sans Mono',consolas,'Courier New',monospace\">10:29:44.147 | <span style=\"color: #008080; text-decoration-color: #008080\">INFO</span>    | Flow run<span style=\"color: #800080; text-decoration-color: #800080\"> 'magnificent-leopard'</span> - Created task run 'process_pool_vol-f3874c79-26' for task 'process_pool_vol'\n",
       "</pre>\n"
      ],
      "text/plain": [
       "10:29:44.147 | \u001b[36mINFO\u001b[0m    | Flow run\u001b[35m 'magnificent-leopard'\u001b[0m - Created task run 'process_pool_vol-f3874c79-26' for task 'process_pool_vol'\n"
      ]
     },
     "metadata": {},
     "output_type": "display_data"
    },
    {
     "data": {
      "text/html": [
       "<pre style=\"white-space:pre;overflow-x:auto;line-height:normal;font-family:Menlo,'DejaVu Sans Mono',consolas,'Courier New',monospace\">10:29:44.147 | <span style=\"color: #008080; text-decoration-color: #008080\">INFO</span>    | Flow run<span style=\"color: #800080; text-decoration-color: #800080\"> 'magnificent-leopard'</span> - Executing 'process_pool_vol-f3874c79-26' immediately...\n",
       "</pre>\n"
      ],
      "text/plain": [
       "10:29:44.147 | \u001b[36mINFO\u001b[0m    | Flow run\u001b[35m 'magnificent-leopard'\u001b[0m - Executing 'process_pool_vol-f3874c79-26' immediately...\n"
      ]
     },
     "metadata": {},
     "output_type": "display_data"
    },
    {
     "data": {
      "text/html": [
       "<pre style=\"white-space:pre;overflow-x:auto;line-height:normal;font-family:Menlo,'DejaVu Sans Mono',consolas,'Courier New',monospace\">10:29:44.168 | <span style=\"color: #008080; text-decoration-color: #008080\">INFO</span>    | Task run 'process_pool_vol-f3874c79-26' - Finished in state <span style=\"color: #008000; text-decoration-color: #008000\">Completed</span>()\n",
       "</pre>\n"
      ],
      "text/plain": [
       "10:29:44.168 | \u001b[36mINFO\u001b[0m    | Task run 'process_pool_vol-f3874c79-26' - Finished in state \u001b[32mCompleted\u001b[0m()\n"
      ]
     },
     "metadata": {},
     "output_type": "display_data"
    },
    {
     "data": {
      "text/html": [
       "<pre style=\"white-space:pre;overflow-x:auto;line-height:normal;font-family:Menlo,'DejaVu Sans Mono',consolas,'Courier New',monospace\">10:29:44.177 | <span style=\"color: #008080; text-decoration-color: #008080\">INFO</span>    | Flow run<span style=\"color: #800080; text-decoration-color: #800080\"> 'magnificent-leopard'</span> - Created task run 'process_pool_vol-f3874c79-27' for task 'process_pool_vol'\n",
       "</pre>\n"
      ],
      "text/plain": [
       "10:29:44.177 | \u001b[36mINFO\u001b[0m    | Flow run\u001b[35m 'magnificent-leopard'\u001b[0m - Created task run 'process_pool_vol-f3874c79-27' for task 'process_pool_vol'\n"
      ]
     },
     "metadata": {},
     "output_type": "display_data"
    },
    {
     "data": {
      "text/html": [
       "<pre style=\"white-space:pre;overflow-x:auto;line-height:normal;font-family:Menlo,'DejaVu Sans Mono',consolas,'Courier New',monospace\">10:29:44.177 | <span style=\"color: #008080; text-decoration-color: #008080\">INFO</span>    | Flow run<span style=\"color: #800080; text-decoration-color: #800080\"> 'magnificent-leopard'</span> - Executing 'process_pool_vol-f3874c79-27' immediately...\n",
       "</pre>\n"
      ],
      "text/plain": [
       "10:29:44.177 | \u001b[36mINFO\u001b[0m    | Flow run\u001b[35m 'magnificent-leopard'\u001b[0m - Executing 'process_pool_vol-f3874c79-27' immediately...\n"
      ]
     },
     "metadata": {},
     "output_type": "display_data"
    },
    {
     "data": {
      "text/html": [
       "<pre style=\"white-space:pre;overflow-x:auto;line-height:normal;font-family:Menlo,'DejaVu Sans Mono',consolas,'Courier New',monospace\">10:29:44.198 | <span style=\"color: #008080; text-decoration-color: #008080\">INFO</span>    | Task run 'process_pool_vol-f3874c79-27' - Finished in state <span style=\"color: #008000; text-decoration-color: #008000\">Completed</span>()\n",
       "</pre>\n"
      ],
      "text/plain": [
       "10:29:44.198 | \u001b[36mINFO\u001b[0m    | Task run 'process_pool_vol-f3874c79-27' - Finished in state \u001b[32mCompleted\u001b[0m()\n"
      ]
     },
     "metadata": {},
     "output_type": "display_data"
    },
    {
     "data": {
      "text/html": [
       "<pre style=\"white-space:pre;overflow-x:auto;line-height:normal;font-family:Menlo,'DejaVu Sans Mono',consolas,'Courier New',monospace\">10:29:44.206 | <span style=\"color: #008080; text-decoration-color: #008080\">INFO</span>    | Flow run<span style=\"color: #800080; text-decoration-color: #800080\"> 'magnificent-leopard'</span> - Created task run 'process_pool_vol-f3874c79-28' for task 'process_pool_vol'\n",
       "</pre>\n"
      ],
      "text/plain": [
       "10:29:44.206 | \u001b[36mINFO\u001b[0m    | Flow run\u001b[35m 'magnificent-leopard'\u001b[0m - Created task run 'process_pool_vol-f3874c79-28' for task 'process_pool_vol'\n"
      ]
     },
     "metadata": {},
     "output_type": "display_data"
    },
    {
     "data": {
      "text/html": [
       "<pre style=\"white-space:pre;overflow-x:auto;line-height:normal;font-family:Menlo,'DejaVu Sans Mono',consolas,'Courier New',monospace\">10:29:44.207 | <span style=\"color: #008080; text-decoration-color: #008080\">INFO</span>    | Flow run<span style=\"color: #800080; text-decoration-color: #800080\"> 'magnificent-leopard'</span> - Executing 'process_pool_vol-f3874c79-28' immediately...\n",
       "</pre>\n"
      ],
      "text/plain": [
       "10:29:44.207 | \u001b[36mINFO\u001b[0m    | Flow run\u001b[35m 'magnificent-leopard'\u001b[0m - Executing 'process_pool_vol-f3874c79-28' immediately...\n"
      ]
     },
     "metadata": {},
     "output_type": "display_data"
    },
    {
     "data": {
      "text/html": [
       "<pre style=\"white-space:pre;overflow-x:auto;line-height:normal;font-family:Menlo,'DejaVu Sans Mono',consolas,'Courier New',monospace\">10:29:44.227 | <span style=\"color: #008080; text-decoration-color: #008080\">INFO</span>    | Task run 'process_pool_vol-f3874c79-28' - Finished in state <span style=\"color: #008000; text-decoration-color: #008000\">Completed</span>()\n",
       "</pre>\n"
      ],
      "text/plain": [
       "10:29:44.227 | \u001b[36mINFO\u001b[0m    | Task run 'process_pool_vol-f3874c79-28' - Finished in state \u001b[32mCompleted\u001b[0m()\n"
      ]
     },
     "metadata": {},
     "output_type": "display_data"
    },
    {
     "data": {
      "text/html": [
       "<pre style=\"white-space:pre;overflow-x:auto;line-height:normal;font-family:Menlo,'DejaVu Sans Mono',consolas,'Courier New',monospace\">10:29:44.235 | <span style=\"color: #008080; text-decoration-color: #008080\">INFO</span>    | Flow run<span style=\"color: #800080; text-decoration-color: #800080\"> 'magnificent-leopard'</span> - Created task run 'process_pool_vol-f3874c79-29' for task 'process_pool_vol'\n",
       "</pre>\n"
      ],
      "text/plain": [
       "10:29:44.235 | \u001b[36mINFO\u001b[0m    | Flow run\u001b[35m 'magnificent-leopard'\u001b[0m - Created task run 'process_pool_vol-f3874c79-29' for task 'process_pool_vol'\n"
      ]
     },
     "metadata": {},
     "output_type": "display_data"
    },
    {
     "data": {
      "text/html": [
       "<pre style=\"white-space:pre;overflow-x:auto;line-height:normal;font-family:Menlo,'DejaVu Sans Mono',consolas,'Courier New',monospace\">10:29:44.236 | <span style=\"color: #008080; text-decoration-color: #008080\">INFO</span>    | Flow run<span style=\"color: #800080; text-decoration-color: #800080\"> 'magnificent-leopard'</span> - Executing 'process_pool_vol-f3874c79-29' immediately...\n",
       "</pre>\n"
      ],
      "text/plain": [
       "10:29:44.236 | \u001b[36mINFO\u001b[0m    | Flow run\u001b[35m 'magnificent-leopard'\u001b[0m - Executing 'process_pool_vol-f3874c79-29' immediately...\n"
      ]
     },
     "metadata": {},
     "output_type": "display_data"
    },
    {
     "data": {
      "text/html": [
       "<pre style=\"white-space:pre;overflow-x:auto;line-height:normal;font-family:Menlo,'DejaVu Sans Mono',consolas,'Courier New',monospace\">10:29:44.256 | <span style=\"color: #008080; text-decoration-color: #008080\">INFO</span>    | Task run 'process_pool_vol-f3874c79-29' - Finished in state <span style=\"color: #008000; text-decoration-color: #008000\">Completed</span>()\n",
       "</pre>\n"
      ],
      "text/plain": [
       "10:29:44.256 | \u001b[36mINFO\u001b[0m    | Task run 'process_pool_vol-f3874c79-29' - Finished in state \u001b[32mCompleted\u001b[0m()\n"
      ]
     },
     "metadata": {},
     "output_type": "display_data"
    },
    {
     "data": {
      "text/html": [
       "<pre style=\"white-space:pre;overflow-x:auto;line-height:normal;font-family:Menlo,'DejaVu Sans Mono',consolas,'Courier New',monospace\">10:29:44.265 | <span style=\"color: #008080; text-decoration-color: #008080\">INFO</span>    | Flow run<span style=\"color: #800080; text-decoration-color: #800080\"> 'magnificent-leopard'</span> - Created task run 'process_pool_vol-f3874c79-30' for task 'process_pool_vol'\n",
       "</pre>\n"
      ],
      "text/plain": [
       "10:29:44.265 | \u001b[36mINFO\u001b[0m    | Flow run\u001b[35m 'magnificent-leopard'\u001b[0m - Created task run 'process_pool_vol-f3874c79-30' for task 'process_pool_vol'\n"
      ]
     },
     "metadata": {},
     "output_type": "display_data"
    },
    {
     "data": {
      "text/html": [
       "<pre style=\"white-space:pre;overflow-x:auto;line-height:normal;font-family:Menlo,'DejaVu Sans Mono',consolas,'Courier New',monospace\">10:29:44.265 | <span style=\"color: #008080; text-decoration-color: #008080\">INFO</span>    | Flow run<span style=\"color: #800080; text-decoration-color: #800080\"> 'magnificent-leopard'</span> - Executing 'process_pool_vol-f3874c79-30' immediately...\n",
       "</pre>\n"
      ],
      "text/plain": [
       "10:29:44.265 | \u001b[36mINFO\u001b[0m    | Flow run\u001b[35m 'magnificent-leopard'\u001b[0m - Executing 'process_pool_vol-f3874c79-30' immediately...\n"
      ]
     },
     "metadata": {},
     "output_type": "display_data"
    },
    {
     "data": {
      "text/html": [
       "<pre style=\"white-space:pre;overflow-x:auto;line-height:normal;font-family:Menlo,'DejaVu Sans Mono',consolas,'Courier New',monospace\">10:29:44.286 | <span style=\"color: #008080; text-decoration-color: #008080\">INFO</span>    | Task run 'process_pool_vol-f3874c79-30' - Finished in state <span style=\"color: #008000; text-decoration-color: #008000\">Completed</span>()\n",
       "</pre>\n"
      ],
      "text/plain": [
       "10:29:44.286 | \u001b[36mINFO\u001b[0m    | Task run 'process_pool_vol-f3874c79-30' - Finished in state \u001b[32mCompleted\u001b[0m()\n"
      ]
     },
     "metadata": {},
     "output_type": "display_data"
    },
    {
     "data": {
      "text/html": [
       "<pre style=\"white-space:pre;overflow-x:auto;line-height:normal;font-family:Menlo,'DejaVu Sans Mono',consolas,'Courier New',monospace\">10:29:44.294 | <span style=\"color: #008080; text-decoration-color: #008080\">INFO</span>    | Flow run<span style=\"color: #800080; text-decoration-color: #800080\"> 'magnificent-leopard'</span> - Created task run 'process_pool_vol-f3874c79-31' for task 'process_pool_vol'\n",
       "</pre>\n"
      ],
      "text/plain": [
       "10:29:44.294 | \u001b[36mINFO\u001b[0m    | Flow run\u001b[35m 'magnificent-leopard'\u001b[0m - Created task run 'process_pool_vol-f3874c79-31' for task 'process_pool_vol'\n"
      ]
     },
     "metadata": {},
     "output_type": "display_data"
    },
    {
     "data": {
      "text/html": [
       "<pre style=\"white-space:pre;overflow-x:auto;line-height:normal;font-family:Menlo,'DejaVu Sans Mono',consolas,'Courier New',monospace\">10:29:44.295 | <span style=\"color: #008080; text-decoration-color: #008080\">INFO</span>    | Flow run<span style=\"color: #800080; text-decoration-color: #800080\"> 'magnificent-leopard'</span> - Executing 'process_pool_vol-f3874c79-31' immediately...\n",
       "</pre>\n"
      ],
      "text/plain": [
       "10:29:44.295 | \u001b[36mINFO\u001b[0m    | Flow run\u001b[35m 'magnificent-leopard'\u001b[0m - Executing 'process_pool_vol-f3874c79-31' immediately...\n"
      ]
     },
     "metadata": {},
     "output_type": "display_data"
    },
    {
     "data": {
      "text/html": [
       "<pre style=\"white-space:pre;overflow-x:auto;line-height:normal;font-family:Menlo,'DejaVu Sans Mono',consolas,'Courier New',monospace\">10:29:44.315 | <span style=\"color: #008080; text-decoration-color: #008080\">INFO</span>    | Task run 'process_pool_vol-f3874c79-31' - Finished in state <span style=\"color: #008000; text-decoration-color: #008000\">Completed</span>()\n",
       "</pre>\n"
      ],
      "text/plain": [
       "10:29:44.315 | \u001b[36mINFO\u001b[0m    | Task run 'process_pool_vol-f3874c79-31' - Finished in state \u001b[32mCompleted\u001b[0m()\n"
      ]
     },
     "metadata": {},
     "output_type": "display_data"
    },
    {
     "data": {
      "text/html": [
       "<pre style=\"white-space:pre;overflow-x:auto;line-height:normal;font-family:Menlo,'DejaVu Sans Mono',consolas,'Courier New',monospace\">10:29:44.324 | <span style=\"color: #008080; text-decoration-color: #008080\">INFO</span>    | Flow run<span style=\"color: #800080; text-decoration-color: #800080\"> 'magnificent-leopard'</span> - Created task run 'process_pool_vol-f3874c79-32' for task 'process_pool_vol'\n",
       "</pre>\n"
      ],
      "text/plain": [
       "10:29:44.324 | \u001b[36mINFO\u001b[0m    | Flow run\u001b[35m 'magnificent-leopard'\u001b[0m - Created task run 'process_pool_vol-f3874c79-32' for task 'process_pool_vol'\n"
      ]
     },
     "metadata": {},
     "output_type": "display_data"
    },
    {
     "data": {
      "text/html": [
       "<pre style=\"white-space:pre;overflow-x:auto;line-height:normal;font-family:Menlo,'DejaVu Sans Mono',consolas,'Courier New',monospace\">10:29:44.324 | <span style=\"color: #008080; text-decoration-color: #008080\">INFO</span>    | Flow run<span style=\"color: #800080; text-decoration-color: #800080\"> 'magnificent-leopard'</span> - Executing 'process_pool_vol-f3874c79-32' immediately...\n",
       "</pre>\n"
      ],
      "text/plain": [
       "10:29:44.324 | \u001b[36mINFO\u001b[0m    | Flow run\u001b[35m 'magnificent-leopard'\u001b[0m - Executing 'process_pool_vol-f3874c79-32' immediately...\n"
      ]
     },
     "metadata": {},
     "output_type": "display_data"
    },
    {
     "data": {
      "text/html": [
       "<pre style=\"white-space:pre;overflow-x:auto;line-height:normal;font-family:Menlo,'DejaVu Sans Mono',consolas,'Courier New',monospace\">10:29:44.345 | <span style=\"color: #008080; text-decoration-color: #008080\">INFO</span>    | Task run 'process_pool_vol-f3874c79-32' - Finished in state <span style=\"color: #008000; text-decoration-color: #008000\">Completed</span>()\n",
       "</pre>\n"
      ],
      "text/plain": [
       "10:29:44.345 | \u001b[36mINFO\u001b[0m    | Task run 'process_pool_vol-f3874c79-32' - Finished in state \u001b[32mCompleted\u001b[0m()\n"
      ]
     },
     "metadata": {},
     "output_type": "display_data"
    },
    {
     "data": {
      "text/html": [
       "<pre style=\"white-space:pre;overflow-x:auto;line-height:normal;font-family:Menlo,'DejaVu Sans Mono',consolas,'Courier New',monospace\">10:29:44.353 | <span style=\"color: #008080; text-decoration-color: #008080\">INFO</span>    | Flow run<span style=\"color: #800080; text-decoration-color: #800080\"> 'magnificent-leopard'</span> - Created task run 'process_pool_vol-f3874c79-33' for task 'process_pool_vol'\n",
       "</pre>\n"
      ],
      "text/plain": [
       "10:29:44.353 | \u001b[36mINFO\u001b[0m    | Flow run\u001b[35m 'magnificent-leopard'\u001b[0m - Created task run 'process_pool_vol-f3874c79-33' for task 'process_pool_vol'\n"
      ]
     },
     "metadata": {},
     "output_type": "display_data"
    },
    {
     "data": {
      "text/html": [
       "<pre style=\"white-space:pre;overflow-x:auto;line-height:normal;font-family:Menlo,'DejaVu Sans Mono',consolas,'Courier New',monospace\">10:29:44.354 | <span style=\"color: #008080; text-decoration-color: #008080\">INFO</span>    | Flow run<span style=\"color: #800080; text-decoration-color: #800080\"> 'magnificent-leopard'</span> - Executing 'process_pool_vol-f3874c79-33' immediately...\n",
       "</pre>\n"
      ],
      "text/plain": [
       "10:29:44.354 | \u001b[36mINFO\u001b[0m    | Flow run\u001b[35m 'magnificent-leopard'\u001b[0m - Executing 'process_pool_vol-f3874c79-33' immediately...\n"
      ]
     },
     "metadata": {},
     "output_type": "display_data"
    },
    {
     "data": {
      "text/html": [
       "<pre style=\"white-space:pre;overflow-x:auto;line-height:normal;font-family:Menlo,'DejaVu Sans Mono',consolas,'Courier New',monospace\">10:29:44.374 | <span style=\"color: #008080; text-decoration-color: #008080\">INFO</span>    | Task run 'process_pool_vol-f3874c79-33' - Finished in state <span style=\"color: #008000; text-decoration-color: #008000\">Completed</span>()\n",
       "</pre>\n"
      ],
      "text/plain": [
       "10:29:44.374 | \u001b[36mINFO\u001b[0m    | Task run 'process_pool_vol-f3874c79-33' - Finished in state \u001b[32mCompleted\u001b[0m()\n"
      ]
     },
     "metadata": {},
     "output_type": "display_data"
    },
    {
     "data": {
      "text/html": [
       "<pre style=\"white-space:pre;overflow-x:auto;line-height:normal;font-family:Menlo,'DejaVu Sans Mono',consolas,'Courier New',monospace\">10:29:44.382 | <span style=\"color: #008080; text-decoration-color: #008080\">INFO</span>    | Flow run<span style=\"color: #800080; text-decoration-color: #800080\"> 'magnificent-leopard'</span> - Created task run 'process_pool_vol-f3874c79-34' for task 'process_pool_vol'\n",
       "</pre>\n"
      ],
      "text/plain": [
       "10:29:44.382 | \u001b[36mINFO\u001b[0m    | Flow run\u001b[35m 'magnificent-leopard'\u001b[0m - Created task run 'process_pool_vol-f3874c79-34' for task 'process_pool_vol'\n"
      ]
     },
     "metadata": {},
     "output_type": "display_data"
    },
    {
     "data": {
      "text/html": [
       "<pre style=\"white-space:pre;overflow-x:auto;line-height:normal;font-family:Menlo,'DejaVu Sans Mono',consolas,'Courier New',monospace\">10:29:44.383 | <span style=\"color: #008080; text-decoration-color: #008080\">INFO</span>    | Flow run<span style=\"color: #800080; text-decoration-color: #800080\"> 'magnificent-leopard'</span> - Executing 'process_pool_vol-f3874c79-34' immediately...\n",
       "</pre>\n"
      ],
      "text/plain": [
       "10:29:44.383 | \u001b[36mINFO\u001b[0m    | Flow run\u001b[35m 'magnificent-leopard'\u001b[0m - Executing 'process_pool_vol-f3874c79-34' immediately...\n"
      ]
     },
     "metadata": {},
     "output_type": "display_data"
    },
    {
     "data": {
      "text/html": [
       "<pre style=\"white-space:pre;overflow-x:auto;line-height:normal;font-family:Menlo,'DejaVu Sans Mono',consolas,'Courier New',monospace\">10:29:44.403 | <span style=\"color: #008080; text-decoration-color: #008080\">INFO</span>    | Task run 'process_pool_vol-f3874c79-34' - Finished in state <span style=\"color: #008000; text-decoration-color: #008000\">Completed</span>()\n",
       "</pre>\n"
      ],
      "text/plain": [
       "10:29:44.403 | \u001b[36mINFO\u001b[0m    | Task run 'process_pool_vol-f3874c79-34' - Finished in state \u001b[32mCompleted\u001b[0m()\n"
      ]
     },
     "metadata": {},
     "output_type": "display_data"
    },
    {
     "data": {
      "text/html": [
       "<pre style=\"white-space:pre;overflow-x:auto;line-height:normal;font-family:Menlo,'DejaVu Sans Mono',consolas,'Courier New',monospace\">10:29:44.412 | <span style=\"color: #008080; text-decoration-color: #008080\">INFO</span>    | Flow run<span style=\"color: #800080; text-decoration-color: #800080\"> 'magnificent-leopard'</span> - Created task run 'process_pool_vol-f3874c79-35' for task 'process_pool_vol'\n",
       "</pre>\n"
      ],
      "text/plain": [
       "10:29:44.412 | \u001b[36mINFO\u001b[0m    | Flow run\u001b[35m 'magnificent-leopard'\u001b[0m - Created task run 'process_pool_vol-f3874c79-35' for task 'process_pool_vol'\n"
      ]
     },
     "metadata": {},
     "output_type": "display_data"
    },
    {
     "data": {
      "text/html": [
       "<pre style=\"white-space:pre;overflow-x:auto;line-height:normal;font-family:Menlo,'DejaVu Sans Mono',consolas,'Courier New',monospace\">10:29:44.412 | <span style=\"color: #008080; text-decoration-color: #008080\">INFO</span>    | Flow run<span style=\"color: #800080; text-decoration-color: #800080\"> 'magnificent-leopard'</span> - Executing 'process_pool_vol-f3874c79-35' immediately...\n",
       "</pre>\n"
      ],
      "text/plain": [
       "10:29:44.412 | \u001b[36mINFO\u001b[0m    | Flow run\u001b[35m 'magnificent-leopard'\u001b[0m - Executing 'process_pool_vol-f3874c79-35' immediately...\n"
      ]
     },
     "metadata": {},
     "output_type": "display_data"
    },
    {
     "data": {
      "text/html": [
       "<pre style=\"white-space:pre;overflow-x:auto;line-height:normal;font-family:Menlo,'DejaVu Sans Mono',consolas,'Courier New',monospace\">10:29:44.433 | <span style=\"color: #008080; text-decoration-color: #008080\">INFO</span>    | Task run 'process_pool_vol-f3874c79-35' - Finished in state <span style=\"color: #008000; text-decoration-color: #008000\">Completed</span>()\n",
       "</pre>\n"
      ],
      "text/plain": [
       "10:29:44.433 | \u001b[36mINFO\u001b[0m    | Task run 'process_pool_vol-f3874c79-35' - Finished in state \u001b[32mCompleted\u001b[0m()\n"
      ]
     },
     "metadata": {},
     "output_type": "display_data"
    },
    {
     "data": {
      "text/html": [
       "<pre style=\"white-space:pre;overflow-x:auto;line-height:normal;font-family:Menlo,'DejaVu Sans Mono',consolas,'Courier New',monospace\">10:29:44.441 | <span style=\"color: #008080; text-decoration-color: #008080\">INFO</span>    | Flow run<span style=\"color: #800080; text-decoration-color: #800080\"> 'magnificent-leopard'</span> - Created task run 'process_pool_vol-f3874c79-36' for task 'process_pool_vol'\n",
       "</pre>\n"
      ],
      "text/plain": [
       "10:29:44.441 | \u001b[36mINFO\u001b[0m    | Flow run\u001b[35m 'magnificent-leopard'\u001b[0m - Created task run 'process_pool_vol-f3874c79-36' for task 'process_pool_vol'\n"
      ]
     },
     "metadata": {},
     "output_type": "display_data"
    },
    {
     "data": {
      "text/html": [
       "<pre style=\"white-space:pre;overflow-x:auto;line-height:normal;font-family:Menlo,'DejaVu Sans Mono',consolas,'Courier New',monospace\">10:29:44.442 | <span style=\"color: #008080; text-decoration-color: #008080\">INFO</span>    | Flow run<span style=\"color: #800080; text-decoration-color: #800080\"> 'magnificent-leopard'</span> - Executing 'process_pool_vol-f3874c79-36' immediately...\n",
       "</pre>\n"
      ],
      "text/plain": [
       "10:29:44.442 | \u001b[36mINFO\u001b[0m    | Flow run\u001b[35m 'magnificent-leopard'\u001b[0m - Executing 'process_pool_vol-f3874c79-36' immediately...\n"
      ]
     },
     "metadata": {},
     "output_type": "display_data"
    },
    {
     "data": {
      "text/html": [
       "<pre style=\"white-space:pre;overflow-x:auto;line-height:normal;font-family:Menlo,'DejaVu Sans Mono',consolas,'Courier New',monospace\">10:29:44.462 | <span style=\"color: #008080; text-decoration-color: #008080\">INFO</span>    | Task run 'process_pool_vol-f3874c79-36' - Finished in state <span style=\"color: #008000; text-decoration-color: #008000\">Completed</span>()\n",
       "</pre>\n"
      ],
      "text/plain": [
       "10:29:44.462 | \u001b[36mINFO\u001b[0m    | Task run 'process_pool_vol-f3874c79-36' - Finished in state \u001b[32mCompleted\u001b[0m()\n"
      ]
     },
     "metadata": {},
     "output_type": "display_data"
    },
    {
     "data": {
      "text/html": [
       "<pre style=\"white-space:pre;overflow-x:auto;line-height:normal;font-family:Menlo,'DejaVu Sans Mono',consolas,'Courier New',monospace\">10:29:44.471 | <span style=\"color: #008080; text-decoration-color: #008080\">INFO</span>    | Flow run<span style=\"color: #800080; text-decoration-color: #800080\"> 'magnificent-leopard'</span> - Created task run 'process_pool_vol-f3874c79-37' for task 'process_pool_vol'\n",
       "</pre>\n"
      ],
      "text/plain": [
       "10:29:44.471 | \u001b[36mINFO\u001b[0m    | Flow run\u001b[35m 'magnificent-leopard'\u001b[0m - Created task run 'process_pool_vol-f3874c79-37' for task 'process_pool_vol'\n"
      ]
     },
     "metadata": {},
     "output_type": "display_data"
    },
    {
     "data": {
      "text/html": [
       "<pre style=\"white-space:pre;overflow-x:auto;line-height:normal;font-family:Menlo,'DejaVu Sans Mono',consolas,'Courier New',monospace\">10:29:44.472 | <span style=\"color: #008080; text-decoration-color: #008080\">INFO</span>    | Flow run<span style=\"color: #800080; text-decoration-color: #800080\"> 'magnificent-leopard'</span> - Executing 'process_pool_vol-f3874c79-37' immediately...\n",
       "</pre>\n"
      ],
      "text/plain": [
       "10:29:44.472 | \u001b[36mINFO\u001b[0m    | Flow run\u001b[35m 'magnificent-leopard'\u001b[0m - Executing 'process_pool_vol-f3874c79-37' immediately...\n"
      ]
     },
     "metadata": {},
     "output_type": "display_data"
    },
    {
     "data": {
      "text/html": [
       "<pre style=\"white-space:pre;overflow-x:auto;line-height:normal;font-family:Menlo,'DejaVu Sans Mono',consolas,'Courier New',monospace\">10:29:44.492 | <span style=\"color: #008080; text-decoration-color: #008080\">INFO</span>    | Task run 'process_pool_vol-f3874c79-37' - Finished in state <span style=\"color: #008000; text-decoration-color: #008000\">Completed</span>()\n",
       "</pre>\n"
      ],
      "text/plain": [
       "10:29:44.492 | \u001b[36mINFO\u001b[0m    | Task run 'process_pool_vol-f3874c79-37' - Finished in state \u001b[32mCompleted\u001b[0m()\n"
      ]
     },
     "metadata": {},
     "output_type": "display_data"
    },
    {
     "data": {
      "text/html": [
       "<pre style=\"white-space:pre;overflow-x:auto;line-height:normal;font-family:Menlo,'DejaVu Sans Mono',consolas,'Courier New',monospace\">10:29:44.501 | <span style=\"color: #008080; text-decoration-color: #008080\">INFO</span>    | Flow run<span style=\"color: #800080; text-decoration-color: #800080\"> 'magnificent-leopard'</span> - Created task run 'process_pool_vol-f3874c79-38' for task 'process_pool_vol'\n",
       "</pre>\n"
      ],
      "text/plain": [
       "10:29:44.501 | \u001b[36mINFO\u001b[0m    | Flow run\u001b[35m 'magnificent-leopard'\u001b[0m - Created task run 'process_pool_vol-f3874c79-38' for task 'process_pool_vol'\n"
      ]
     },
     "metadata": {},
     "output_type": "display_data"
    },
    {
     "data": {
      "text/html": [
       "<pre style=\"white-space:pre;overflow-x:auto;line-height:normal;font-family:Menlo,'DejaVu Sans Mono',consolas,'Courier New',monospace\">10:29:44.502 | <span style=\"color: #008080; text-decoration-color: #008080\">INFO</span>    | Flow run<span style=\"color: #800080; text-decoration-color: #800080\"> 'magnificent-leopard'</span> - Executing 'process_pool_vol-f3874c79-38' immediately...\n",
       "</pre>\n"
      ],
      "text/plain": [
       "10:29:44.502 | \u001b[36mINFO\u001b[0m    | Flow run\u001b[35m 'magnificent-leopard'\u001b[0m - Executing 'process_pool_vol-f3874c79-38' immediately...\n"
      ]
     },
     "metadata": {},
     "output_type": "display_data"
    },
    {
     "data": {
      "text/html": [
       "<pre style=\"white-space:pre;overflow-x:auto;line-height:normal;font-family:Menlo,'DejaVu Sans Mono',consolas,'Courier New',monospace\">10:29:44.522 | <span style=\"color: #008080; text-decoration-color: #008080\">INFO</span>    | Task run 'process_pool_vol-f3874c79-38' - Finished in state <span style=\"color: #008000; text-decoration-color: #008000\">Completed</span>()\n",
       "</pre>\n"
      ],
      "text/plain": [
       "10:29:44.522 | \u001b[36mINFO\u001b[0m    | Task run 'process_pool_vol-f3874c79-38' - Finished in state \u001b[32mCompleted\u001b[0m()\n"
      ]
     },
     "metadata": {},
     "output_type": "display_data"
    },
    {
     "data": {
      "text/html": [
       "<pre style=\"white-space:pre;overflow-x:auto;line-height:normal;font-family:Menlo,'DejaVu Sans Mono',consolas,'Courier New',monospace\">10:29:44.530 | <span style=\"color: #008080; text-decoration-color: #008080\">INFO</span>    | Flow run<span style=\"color: #800080; text-decoration-color: #800080\"> 'magnificent-leopard'</span> - Created task run 'process_pool_vol-f3874c79-39' for task 'process_pool_vol'\n",
       "</pre>\n"
      ],
      "text/plain": [
       "10:29:44.530 | \u001b[36mINFO\u001b[0m    | Flow run\u001b[35m 'magnificent-leopard'\u001b[0m - Created task run 'process_pool_vol-f3874c79-39' for task 'process_pool_vol'\n"
      ]
     },
     "metadata": {},
     "output_type": "display_data"
    },
    {
     "data": {
      "text/html": [
       "<pre style=\"white-space:pre;overflow-x:auto;line-height:normal;font-family:Menlo,'DejaVu Sans Mono',consolas,'Courier New',monospace\">10:29:44.531 | <span style=\"color: #008080; text-decoration-color: #008080\">INFO</span>    | Flow run<span style=\"color: #800080; text-decoration-color: #800080\"> 'magnificent-leopard'</span> - Executing 'process_pool_vol-f3874c79-39' immediately...\n",
       "</pre>\n"
      ],
      "text/plain": [
       "10:29:44.531 | \u001b[36mINFO\u001b[0m    | Flow run\u001b[35m 'magnificent-leopard'\u001b[0m - Executing 'process_pool_vol-f3874c79-39' immediately...\n"
      ]
     },
     "metadata": {},
     "output_type": "display_data"
    },
    {
     "data": {
      "text/html": [
       "<pre style=\"white-space:pre;overflow-x:auto;line-height:normal;font-family:Menlo,'DejaVu Sans Mono',consolas,'Courier New',monospace\">10:29:44.553 | <span style=\"color: #008080; text-decoration-color: #008080\">INFO</span>    | Task run 'process_pool_vol-f3874c79-39' - Finished in state <span style=\"color: #008000; text-decoration-color: #008000\">Completed</span>()\n",
       "</pre>\n"
      ],
      "text/plain": [
       "10:29:44.553 | \u001b[36mINFO\u001b[0m    | Task run 'process_pool_vol-f3874c79-39' - Finished in state \u001b[32mCompleted\u001b[0m()\n"
      ]
     },
     "metadata": {},
     "output_type": "display_data"
    },
    {
     "data": {
      "text/html": [
       "<pre style=\"white-space:pre;overflow-x:auto;line-height:normal;font-family:Menlo,'DejaVu Sans Mono',consolas,'Courier New',monospace\">10:29:44.561 | <span style=\"color: #008080; text-decoration-color: #008080\">INFO</span>    | Flow run<span style=\"color: #800080; text-decoration-color: #800080\"> 'magnificent-leopard'</span> - Created task run 'process_pool_vol-f3874c79-40' for task 'process_pool_vol'\n",
       "</pre>\n"
      ],
      "text/plain": [
       "10:29:44.561 | \u001b[36mINFO\u001b[0m    | Flow run\u001b[35m 'magnificent-leopard'\u001b[0m - Created task run 'process_pool_vol-f3874c79-40' for task 'process_pool_vol'\n"
      ]
     },
     "metadata": {},
     "output_type": "display_data"
    },
    {
     "data": {
      "text/html": [
       "<pre style=\"white-space:pre;overflow-x:auto;line-height:normal;font-family:Menlo,'DejaVu Sans Mono',consolas,'Courier New',monospace\">10:29:44.562 | <span style=\"color: #008080; text-decoration-color: #008080\">INFO</span>    | Flow run<span style=\"color: #800080; text-decoration-color: #800080\"> 'magnificent-leopard'</span> - Executing 'process_pool_vol-f3874c79-40' immediately...\n",
       "</pre>\n"
      ],
      "text/plain": [
       "10:29:44.562 | \u001b[36mINFO\u001b[0m    | Flow run\u001b[35m 'magnificent-leopard'\u001b[0m - Executing 'process_pool_vol-f3874c79-40' immediately...\n"
      ]
     },
     "metadata": {},
     "output_type": "display_data"
    },
    {
     "data": {
      "text/html": [
       "<pre style=\"white-space:pre;overflow-x:auto;line-height:normal;font-family:Menlo,'DejaVu Sans Mono',consolas,'Courier New',monospace\">10:29:44.582 | <span style=\"color: #008080; text-decoration-color: #008080\">INFO</span>    | Task run 'process_pool_vol-f3874c79-40' - Finished in state <span style=\"color: #008000; text-decoration-color: #008000\">Completed</span>()\n",
       "</pre>\n"
      ],
      "text/plain": [
       "10:29:44.582 | \u001b[36mINFO\u001b[0m    | Task run 'process_pool_vol-f3874c79-40' - Finished in state \u001b[32mCompleted\u001b[0m()\n"
      ]
     },
     "metadata": {},
     "output_type": "display_data"
    },
    {
     "data": {
      "text/html": [
       "<pre style=\"white-space:pre;overflow-x:auto;line-height:normal;font-family:Menlo,'DejaVu Sans Mono',consolas,'Courier New',monospace\">10:29:44.591 | <span style=\"color: #008080; text-decoration-color: #008080\">INFO</span>    | Flow run<span style=\"color: #800080; text-decoration-color: #800080\"> 'magnificent-leopard'</span> - Created task run 'process_pool_vol-f3874c79-41' for task 'process_pool_vol'\n",
       "</pre>\n"
      ],
      "text/plain": [
       "10:29:44.591 | \u001b[36mINFO\u001b[0m    | Flow run\u001b[35m 'magnificent-leopard'\u001b[0m - Created task run 'process_pool_vol-f3874c79-41' for task 'process_pool_vol'\n"
      ]
     },
     "metadata": {},
     "output_type": "display_data"
    },
    {
     "data": {
      "text/html": [
       "<pre style=\"white-space:pre;overflow-x:auto;line-height:normal;font-family:Menlo,'DejaVu Sans Mono',consolas,'Courier New',monospace\">10:29:44.591 | <span style=\"color: #008080; text-decoration-color: #008080\">INFO</span>    | Flow run<span style=\"color: #800080; text-decoration-color: #800080\"> 'magnificent-leopard'</span> - Executing 'process_pool_vol-f3874c79-41' immediately...\n",
       "</pre>\n"
      ],
      "text/plain": [
       "10:29:44.591 | \u001b[36mINFO\u001b[0m    | Flow run\u001b[35m 'magnificent-leopard'\u001b[0m - Executing 'process_pool_vol-f3874c79-41' immediately...\n"
      ]
     },
     "metadata": {},
     "output_type": "display_data"
    },
    {
     "data": {
      "text/html": [
       "<pre style=\"white-space:pre;overflow-x:auto;line-height:normal;font-family:Menlo,'DejaVu Sans Mono',consolas,'Courier New',monospace\">10:29:44.612 | <span style=\"color: #008080; text-decoration-color: #008080\">INFO</span>    | Task run 'process_pool_vol-f3874c79-41' - Finished in state <span style=\"color: #008000; text-decoration-color: #008000\">Completed</span>()\n",
       "</pre>\n"
      ],
      "text/plain": [
       "10:29:44.612 | \u001b[36mINFO\u001b[0m    | Task run 'process_pool_vol-f3874c79-41' - Finished in state \u001b[32mCompleted\u001b[0m()\n"
      ]
     },
     "metadata": {},
     "output_type": "display_data"
    },
    {
     "data": {
      "text/html": [
       "<pre style=\"white-space:pre;overflow-x:auto;line-height:normal;font-family:Menlo,'DejaVu Sans Mono',consolas,'Courier New',monospace\">10:29:44.620 | <span style=\"color: #008080; text-decoration-color: #008080\">INFO</span>    | Flow run<span style=\"color: #800080; text-decoration-color: #800080\"> 'magnificent-leopard'</span> - Created task run 'process_pool_vol-f3874c79-42' for task 'process_pool_vol'\n",
       "</pre>\n"
      ],
      "text/plain": [
       "10:29:44.620 | \u001b[36mINFO\u001b[0m    | Flow run\u001b[35m 'magnificent-leopard'\u001b[0m - Created task run 'process_pool_vol-f3874c79-42' for task 'process_pool_vol'\n"
      ]
     },
     "metadata": {},
     "output_type": "display_data"
    },
    {
     "data": {
      "text/html": [
       "<pre style=\"white-space:pre;overflow-x:auto;line-height:normal;font-family:Menlo,'DejaVu Sans Mono',consolas,'Courier New',monospace\">10:29:44.621 | <span style=\"color: #008080; text-decoration-color: #008080\">INFO</span>    | Flow run<span style=\"color: #800080; text-decoration-color: #800080\"> 'magnificent-leopard'</span> - Executing 'process_pool_vol-f3874c79-42' immediately...\n",
       "</pre>\n"
      ],
      "text/plain": [
       "10:29:44.621 | \u001b[36mINFO\u001b[0m    | Flow run\u001b[35m 'magnificent-leopard'\u001b[0m - Executing 'process_pool_vol-f3874c79-42' immediately...\n"
      ]
     },
     "metadata": {},
     "output_type": "display_data"
    },
    {
     "data": {
      "text/html": [
       "<pre style=\"white-space:pre;overflow-x:auto;line-height:normal;font-family:Menlo,'DejaVu Sans Mono',consolas,'Courier New',monospace\">10:29:44.641 | <span style=\"color: #008080; text-decoration-color: #008080\">INFO</span>    | Task run 'process_pool_vol-f3874c79-42' - Finished in state <span style=\"color: #008000; text-decoration-color: #008000\">Completed</span>()\n",
       "</pre>\n"
      ],
      "text/plain": [
       "10:29:44.641 | \u001b[36mINFO\u001b[0m    | Task run 'process_pool_vol-f3874c79-42' - Finished in state \u001b[32mCompleted\u001b[0m()\n"
      ]
     },
     "metadata": {},
     "output_type": "display_data"
    },
    {
     "data": {
      "text/html": [
       "<pre style=\"white-space:pre;overflow-x:auto;line-height:normal;font-family:Menlo,'DejaVu Sans Mono',consolas,'Courier New',monospace\">10:29:44.649 | <span style=\"color: #008080; text-decoration-color: #008080\">INFO</span>    | Flow run<span style=\"color: #800080; text-decoration-color: #800080\"> 'magnificent-leopard'</span> - Created task run 'process_pool_vol-f3874c79-43' for task 'process_pool_vol'\n",
       "</pre>\n"
      ],
      "text/plain": [
       "10:29:44.649 | \u001b[36mINFO\u001b[0m    | Flow run\u001b[35m 'magnificent-leopard'\u001b[0m - Created task run 'process_pool_vol-f3874c79-43' for task 'process_pool_vol'\n"
      ]
     },
     "metadata": {},
     "output_type": "display_data"
    },
    {
     "data": {
      "text/html": [
       "<pre style=\"white-space:pre;overflow-x:auto;line-height:normal;font-family:Menlo,'DejaVu Sans Mono',consolas,'Courier New',monospace\">10:29:44.650 | <span style=\"color: #008080; text-decoration-color: #008080\">INFO</span>    | Flow run<span style=\"color: #800080; text-decoration-color: #800080\"> 'magnificent-leopard'</span> - Executing 'process_pool_vol-f3874c79-43' immediately...\n",
       "</pre>\n"
      ],
      "text/plain": [
       "10:29:44.650 | \u001b[36mINFO\u001b[0m    | Flow run\u001b[35m 'magnificent-leopard'\u001b[0m - Executing 'process_pool_vol-f3874c79-43' immediately...\n"
      ]
     },
     "metadata": {},
     "output_type": "display_data"
    },
    {
     "data": {
      "text/html": [
       "<pre style=\"white-space:pre;overflow-x:auto;line-height:normal;font-family:Menlo,'DejaVu Sans Mono',consolas,'Courier New',monospace\">10:29:44.670 | <span style=\"color: #008080; text-decoration-color: #008080\">INFO</span>    | Task run 'process_pool_vol-f3874c79-43' - Finished in state <span style=\"color: #008000; text-decoration-color: #008000\">Completed</span>()\n",
       "</pre>\n"
      ],
      "text/plain": [
       "10:29:44.670 | \u001b[36mINFO\u001b[0m    | Task run 'process_pool_vol-f3874c79-43' - Finished in state \u001b[32mCompleted\u001b[0m()\n"
      ]
     },
     "metadata": {},
     "output_type": "display_data"
    },
    {
     "data": {
      "text/html": [
       "<pre style=\"white-space:pre;overflow-x:auto;line-height:normal;font-family:Menlo,'DejaVu Sans Mono',consolas,'Courier New',monospace\">10:29:44.679 | <span style=\"color: #008080; text-decoration-color: #008080\">INFO</span>    | Flow run<span style=\"color: #800080; text-decoration-color: #800080\"> 'magnificent-leopard'</span> - Created task run 'process_pool_vol-f3874c79-44' for task 'process_pool_vol'\n",
       "</pre>\n"
      ],
      "text/plain": [
       "10:29:44.679 | \u001b[36mINFO\u001b[0m    | Flow run\u001b[35m 'magnificent-leopard'\u001b[0m - Created task run 'process_pool_vol-f3874c79-44' for task 'process_pool_vol'\n"
      ]
     },
     "metadata": {},
     "output_type": "display_data"
    },
    {
     "data": {
      "text/html": [
       "<pre style=\"white-space:pre;overflow-x:auto;line-height:normal;font-family:Menlo,'DejaVu Sans Mono',consolas,'Courier New',monospace\">10:29:44.679 | <span style=\"color: #008080; text-decoration-color: #008080\">INFO</span>    | Flow run<span style=\"color: #800080; text-decoration-color: #800080\"> 'magnificent-leopard'</span> - Executing 'process_pool_vol-f3874c79-44' immediately...\n",
       "</pre>\n"
      ],
      "text/plain": [
       "10:29:44.679 | \u001b[36mINFO\u001b[0m    | Flow run\u001b[35m 'magnificent-leopard'\u001b[0m - Executing 'process_pool_vol-f3874c79-44' immediately...\n"
      ]
     },
     "metadata": {},
     "output_type": "display_data"
    },
    {
     "data": {
      "text/html": [
       "<pre style=\"white-space:pre;overflow-x:auto;line-height:normal;font-family:Menlo,'DejaVu Sans Mono',consolas,'Courier New',monospace\">10:29:44.700 | <span style=\"color: #008080; text-decoration-color: #008080\">INFO</span>    | Task run 'process_pool_vol-f3874c79-44' - Finished in state <span style=\"color: #008000; text-decoration-color: #008000\">Completed</span>()\n",
       "</pre>\n"
      ],
      "text/plain": [
       "10:29:44.700 | \u001b[36mINFO\u001b[0m    | Task run 'process_pool_vol-f3874c79-44' - Finished in state \u001b[32mCompleted\u001b[0m()\n"
      ]
     },
     "metadata": {},
     "output_type": "display_data"
    },
    {
     "data": {
      "text/html": [
       "<pre style=\"white-space:pre;overflow-x:auto;line-height:normal;font-family:Menlo,'DejaVu Sans Mono',consolas,'Courier New',monospace\">10:29:44.708 | <span style=\"color: #008080; text-decoration-color: #008080\">INFO</span>    | Flow run<span style=\"color: #800080; text-decoration-color: #800080\"> 'magnificent-leopard'</span> - Created task run 'process_pool_vol-f3874c79-45' for task 'process_pool_vol'\n",
       "</pre>\n"
      ],
      "text/plain": [
       "10:29:44.708 | \u001b[36mINFO\u001b[0m    | Flow run\u001b[35m 'magnificent-leopard'\u001b[0m - Created task run 'process_pool_vol-f3874c79-45' for task 'process_pool_vol'\n"
      ]
     },
     "metadata": {},
     "output_type": "display_data"
    },
    {
     "data": {
      "text/html": [
       "<pre style=\"white-space:pre;overflow-x:auto;line-height:normal;font-family:Menlo,'DejaVu Sans Mono',consolas,'Courier New',monospace\">10:29:44.709 | <span style=\"color: #008080; text-decoration-color: #008080\">INFO</span>    | Flow run<span style=\"color: #800080; text-decoration-color: #800080\"> 'magnificent-leopard'</span> - Executing 'process_pool_vol-f3874c79-45' immediately...\n",
       "</pre>\n"
      ],
      "text/plain": [
       "10:29:44.709 | \u001b[36mINFO\u001b[0m    | Flow run\u001b[35m 'magnificent-leopard'\u001b[0m - Executing 'process_pool_vol-f3874c79-45' immediately...\n"
      ]
     },
     "metadata": {},
     "output_type": "display_data"
    },
    {
     "data": {
      "text/html": [
       "<pre style=\"white-space:pre;overflow-x:auto;line-height:normal;font-family:Menlo,'DejaVu Sans Mono',consolas,'Courier New',monospace\">10:29:44.729 | <span style=\"color: #008080; text-decoration-color: #008080\">INFO</span>    | Task run 'process_pool_vol-f3874c79-45' - Finished in state <span style=\"color: #008000; text-decoration-color: #008000\">Completed</span>()\n",
       "</pre>\n"
      ],
      "text/plain": [
       "10:29:44.729 | \u001b[36mINFO\u001b[0m    | Task run 'process_pool_vol-f3874c79-45' - Finished in state \u001b[32mCompleted\u001b[0m()\n"
      ]
     },
     "metadata": {},
     "output_type": "display_data"
    },
    {
     "data": {
      "text/html": [
       "<pre style=\"white-space:pre;overflow-x:auto;line-height:normal;font-family:Menlo,'DejaVu Sans Mono',consolas,'Courier New',monospace\">10:29:44.737 | <span style=\"color: #008080; text-decoration-color: #008080\">INFO</span>    | Flow run<span style=\"color: #800080; text-decoration-color: #800080\"> 'magnificent-leopard'</span> - Created task run 'process_pool_vol-f3874c79-46' for task 'process_pool_vol'\n",
       "</pre>\n"
      ],
      "text/plain": [
       "10:29:44.737 | \u001b[36mINFO\u001b[0m    | Flow run\u001b[35m 'magnificent-leopard'\u001b[0m - Created task run 'process_pool_vol-f3874c79-46' for task 'process_pool_vol'\n"
      ]
     },
     "metadata": {},
     "output_type": "display_data"
    },
    {
     "data": {
      "text/html": [
       "<pre style=\"white-space:pre;overflow-x:auto;line-height:normal;font-family:Menlo,'DejaVu Sans Mono',consolas,'Courier New',monospace\">10:29:44.738 | <span style=\"color: #008080; text-decoration-color: #008080\">INFO</span>    | Flow run<span style=\"color: #800080; text-decoration-color: #800080\"> 'magnificent-leopard'</span> - Executing 'process_pool_vol-f3874c79-46' immediately...\n",
       "</pre>\n"
      ],
      "text/plain": [
       "10:29:44.738 | \u001b[36mINFO\u001b[0m    | Flow run\u001b[35m 'magnificent-leopard'\u001b[0m - Executing 'process_pool_vol-f3874c79-46' immediately...\n"
      ]
     },
     "metadata": {},
     "output_type": "display_data"
    },
    {
     "data": {
      "text/html": [
       "<pre style=\"white-space:pre;overflow-x:auto;line-height:normal;font-family:Menlo,'DejaVu Sans Mono',consolas,'Courier New',monospace\">10:29:44.758 | <span style=\"color: #008080; text-decoration-color: #008080\">INFO</span>    | Task run 'process_pool_vol-f3874c79-46' - Finished in state <span style=\"color: #008000; text-decoration-color: #008000\">Completed</span>()\n",
       "</pre>\n"
      ],
      "text/plain": [
       "10:29:44.758 | \u001b[36mINFO\u001b[0m    | Task run 'process_pool_vol-f3874c79-46' - Finished in state \u001b[32mCompleted\u001b[0m()\n"
      ]
     },
     "metadata": {},
     "output_type": "display_data"
    },
    {
     "data": {
      "text/html": [
       "<pre style=\"white-space:pre;overflow-x:auto;line-height:normal;font-family:Menlo,'DejaVu Sans Mono',consolas,'Courier New',monospace\">10:29:44.766 | <span style=\"color: #008080; text-decoration-color: #008080\">INFO</span>    | Flow run<span style=\"color: #800080; text-decoration-color: #800080\"> 'magnificent-leopard'</span> - Created task run 'process_pool_vol-f3874c79-47' for task 'process_pool_vol'\n",
       "</pre>\n"
      ],
      "text/plain": [
       "10:29:44.766 | \u001b[36mINFO\u001b[0m    | Flow run\u001b[35m 'magnificent-leopard'\u001b[0m - Created task run 'process_pool_vol-f3874c79-47' for task 'process_pool_vol'\n"
      ]
     },
     "metadata": {},
     "output_type": "display_data"
    },
    {
     "data": {
      "text/html": [
       "<pre style=\"white-space:pre;overflow-x:auto;line-height:normal;font-family:Menlo,'DejaVu Sans Mono',consolas,'Courier New',monospace\">10:29:44.767 | <span style=\"color: #008080; text-decoration-color: #008080\">INFO</span>    | Flow run<span style=\"color: #800080; text-decoration-color: #800080\"> 'magnificent-leopard'</span> - Executing 'process_pool_vol-f3874c79-47' immediately...\n",
       "</pre>\n"
      ],
      "text/plain": [
       "10:29:44.767 | \u001b[36mINFO\u001b[0m    | Flow run\u001b[35m 'magnificent-leopard'\u001b[0m - Executing 'process_pool_vol-f3874c79-47' immediately...\n"
      ]
     },
     "metadata": {},
     "output_type": "display_data"
    },
    {
     "data": {
      "text/html": [
       "<pre style=\"white-space:pre;overflow-x:auto;line-height:normal;font-family:Menlo,'DejaVu Sans Mono',consolas,'Courier New',monospace\">10:29:44.788 | <span style=\"color: #008080; text-decoration-color: #008080\">INFO</span>    | Task run 'process_pool_vol-f3874c79-47' - Finished in state <span style=\"color: #008000; text-decoration-color: #008000\">Completed</span>()\n",
       "</pre>\n"
      ],
      "text/plain": [
       "10:29:44.788 | \u001b[36mINFO\u001b[0m    | Task run 'process_pool_vol-f3874c79-47' - Finished in state \u001b[32mCompleted\u001b[0m()\n"
      ]
     },
     "metadata": {},
     "output_type": "display_data"
    },
    {
     "data": {
      "text/html": [
       "<pre style=\"white-space:pre;overflow-x:auto;line-height:normal;font-family:Menlo,'DejaVu Sans Mono',consolas,'Courier New',monospace\">10:29:44.796 | <span style=\"color: #008080; text-decoration-color: #008080\">INFO</span>    | Flow run<span style=\"color: #800080; text-decoration-color: #800080\"> 'magnificent-leopard'</span> - Created task run 'process_pool_vol-f3874c79-48' for task 'process_pool_vol'\n",
       "</pre>\n"
      ],
      "text/plain": [
       "10:29:44.796 | \u001b[36mINFO\u001b[0m    | Flow run\u001b[35m 'magnificent-leopard'\u001b[0m - Created task run 'process_pool_vol-f3874c79-48' for task 'process_pool_vol'\n"
      ]
     },
     "metadata": {},
     "output_type": "display_data"
    },
    {
     "data": {
      "text/html": [
       "<pre style=\"white-space:pre;overflow-x:auto;line-height:normal;font-family:Menlo,'DejaVu Sans Mono',consolas,'Courier New',monospace\">10:29:44.796 | <span style=\"color: #008080; text-decoration-color: #008080\">INFO</span>    | Flow run<span style=\"color: #800080; text-decoration-color: #800080\"> 'magnificent-leopard'</span> - Executing 'process_pool_vol-f3874c79-48' immediately...\n",
       "</pre>\n"
      ],
      "text/plain": [
       "10:29:44.796 | \u001b[36mINFO\u001b[0m    | Flow run\u001b[35m 'magnificent-leopard'\u001b[0m - Executing 'process_pool_vol-f3874c79-48' immediately...\n"
      ]
     },
     "metadata": {},
     "output_type": "display_data"
    },
    {
     "data": {
      "text/html": [
       "<pre style=\"white-space:pre;overflow-x:auto;line-height:normal;font-family:Menlo,'DejaVu Sans Mono',consolas,'Courier New',monospace\">10:29:44.817 | <span style=\"color: #008080; text-decoration-color: #008080\">INFO</span>    | Task run 'process_pool_vol-f3874c79-48' - Finished in state <span style=\"color: #008000; text-decoration-color: #008000\">Completed</span>()\n",
       "</pre>\n"
      ],
      "text/plain": [
       "10:29:44.817 | \u001b[36mINFO\u001b[0m    | Task run 'process_pool_vol-f3874c79-48' - Finished in state \u001b[32mCompleted\u001b[0m()\n"
      ]
     },
     "metadata": {},
     "output_type": "display_data"
    },
    {
     "data": {
      "text/html": [
       "<pre style=\"white-space:pre;overflow-x:auto;line-height:normal;font-family:Menlo,'DejaVu Sans Mono',consolas,'Courier New',monospace\">10:29:44.825 | <span style=\"color: #008080; text-decoration-color: #008080\">INFO</span>    | Flow run<span style=\"color: #800080; text-decoration-color: #800080\"> 'magnificent-leopard'</span> - Created task run 'process_pool_vol-f3874c79-49' for task 'process_pool_vol'\n",
       "</pre>\n"
      ],
      "text/plain": [
       "10:29:44.825 | \u001b[36mINFO\u001b[0m    | Flow run\u001b[35m 'magnificent-leopard'\u001b[0m - Created task run 'process_pool_vol-f3874c79-49' for task 'process_pool_vol'\n"
      ]
     },
     "metadata": {},
     "output_type": "display_data"
    },
    {
     "data": {
      "text/html": [
       "<pre style=\"white-space:pre;overflow-x:auto;line-height:normal;font-family:Menlo,'DejaVu Sans Mono',consolas,'Courier New',monospace\">10:29:44.826 | <span style=\"color: #008080; text-decoration-color: #008080\">INFO</span>    | Flow run<span style=\"color: #800080; text-decoration-color: #800080\"> 'magnificent-leopard'</span> - Executing 'process_pool_vol-f3874c79-49' immediately...\n",
       "</pre>\n"
      ],
      "text/plain": [
       "10:29:44.826 | \u001b[36mINFO\u001b[0m    | Flow run\u001b[35m 'magnificent-leopard'\u001b[0m - Executing 'process_pool_vol-f3874c79-49' immediately...\n"
      ]
     },
     "metadata": {},
     "output_type": "display_data"
    },
    {
     "data": {
      "text/html": [
       "<pre style=\"white-space:pre;overflow-x:auto;line-height:normal;font-family:Menlo,'DejaVu Sans Mono',consolas,'Courier New',monospace\">10:29:44.846 | <span style=\"color: #008080; text-decoration-color: #008080\">INFO</span>    | Task run 'process_pool_vol-f3874c79-49' - Finished in state <span style=\"color: #008000; text-decoration-color: #008000\">Completed</span>()\n",
       "</pre>\n"
      ],
      "text/plain": [
       "10:29:44.846 | \u001b[36mINFO\u001b[0m    | Task run 'process_pool_vol-f3874c79-49' - Finished in state \u001b[32mCompleted\u001b[0m()\n"
      ]
     },
     "metadata": {},
     "output_type": "display_data"
    },
    {
     "data": {
      "text/html": [
       "<pre style=\"white-space:pre;overflow-x:auto;line-height:normal;font-family:Menlo,'DejaVu Sans Mono',consolas,'Courier New',monospace\">10:29:44.854 | <span style=\"color: #008080; text-decoration-color: #008080\">INFO</span>    | Flow run<span style=\"color: #800080; text-decoration-color: #800080\"> 'magnificent-leopard'</span> - Created task run 'process_pool_vol-f3874c79-50' for task 'process_pool_vol'\n",
       "</pre>\n"
      ],
      "text/plain": [
       "10:29:44.854 | \u001b[36mINFO\u001b[0m    | Flow run\u001b[35m 'magnificent-leopard'\u001b[0m - Created task run 'process_pool_vol-f3874c79-50' for task 'process_pool_vol'\n"
      ]
     },
     "metadata": {},
     "output_type": "display_data"
    },
    {
     "data": {
      "text/html": [
       "<pre style=\"white-space:pre;overflow-x:auto;line-height:normal;font-family:Menlo,'DejaVu Sans Mono',consolas,'Courier New',monospace\">10:29:44.855 | <span style=\"color: #008080; text-decoration-color: #008080\">INFO</span>    | Flow run<span style=\"color: #800080; text-decoration-color: #800080\"> 'magnificent-leopard'</span> - Executing 'process_pool_vol-f3874c79-50' immediately...\n",
       "</pre>\n"
      ],
      "text/plain": [
       "10:29:44.855 | \u001b[36mINFO\u001b[0m    | Flow run\u001b[35m 'magnificent-leopard'\u001b[0m - Executing 'process_pool_vol-f3874c79-50' immediately...\n"
      ]
     },
     "metadata": {},
     "output_type": "display_data"
    },
    {
     "data": {
      "text/html": [
       "<pre style=\"white-space:pre;overflow-x:auto;line-height:normal;font-family:Menlo,'DejaVu Sans Mono',consolas,'Courier New',monospace\">10:29:44.895 | <span style=\"color: #008080; text-decoration-color: #008080\">INFO</span>    | Task run 'process_pool_vol-f3874c79-50' - Finished in state <span style=\"color: #008000; text-decoration-color: #008000\">Completed</span>()\n",
       "</pre>\n"
      ],
      "text/plain": [
       "10:29:44.895 | \u001b[36mINFO\u001b[0m    | Task run 'process_pool_vol-f3874c79-50' - Finished in state \u001b[32mCompleted\u001b[0m()\n"
      ]
     },
     "metadata": {},
     "output_type": "display_data"
    },
    {
     "data": {
      "text/html": [
       "<pre style=\"white-space:pre;overflow-x:auto;line-height:normal;font-family:Menlo,'DejaVu Sans Mono',consolas,'Courier New',monospace\">10:29:44.903 | <span style=\"color: #008080; text-decoration-color: #008080\">INFO</span>    | Flow run<span style=\"color: #800080; text-decoration-color: #800080\"> 'magnificent-leopard'</span> - Created task run 'process_pool_vol-f3874c79-51' for task 'process_pool_vol'\n",
       "</pre>\n"
      ],
      "text/plain": [
       "10:29:44.903 | \u001b[36mINFO\u001b[0m    | Flow run\u001b[35m 'magnificent-leopard'\u001b[0m - Created task run 'process_pool_vol-f3874c79-51' for task 'process_pool_vol'\n"
      ]
     },
     "metadata": {},
     "output_type": "display_data"
    },
    {
     "data": {
      "text/html": [
       "<pre style=\"white-space:pre;overflow-x:auto;line-height:normal;font-family:Menlo,'DejaVu Sans Mono',consolas,'Courier New',monospace\">10:29:44.904 | <span style=\"color: #008080; text-decoration-color: #008080\">INFO</span>    | Flow run<span style=\"color: #800080; text-decoration-color: #800080\"> 'magnificent-leopard'</span> - Executing 'process_pool_vol-f3874c79-51' immediately...\n",
       "</pre>\n"
      ],
      "text/plain": [
       "10:29:44.904 | \u001b[36mINFO\u001b[0m    | Flow run\u001b[35m 'magnificent-leopard'\u001b[0m - Executing 'process_pool_vol-f3874c79-51' immediately...\n"
      ]
     },
     "metadata": {},
     "output_type": "display_data"
    },
    {
     "data": {
      "text/html": [
       "<pre style=\"white-space:pre;overflow-x:auto;line-height:normal;font-family:Menlo,'DejaVu Sans Mono',consolas,'Courier New',monospace\">10:29:44.929 | <span style=\"color: #008080; text-decoration-color: #008080\">INFO</span>    | Task run 'process_pool_vol-f3874c79-51' - Finished in state <span style=\"color: #008000; text-decoration-color: #008000\">Completed</span>()\n",
       "</pre>\n"
      ],
      "text/plain": [
       "10:29:44.929 | \u001b[36mINFO\u001b[0m    | Task run 'process_pool_vol-f3874c79-51' - Finished in state \u001b[32mCompleted\u001b[0m()\n"
      ]
     },
     "metadata": {},
     "output_type": "display_data"
    },
    {
     "data": {
      "text/html": [
       "<pre style=\"white-space:pre;overflow-x:auto;line-height:normal;font-family:Menlo,'DejaVu Sans Mono',consolas,'Courier New',monospace\">10:29:44.937 | <span style=\"color: #008080; text-decoration-color: #008080\">INFO</span>    | Flow run<span style=\"color: #800080; text-decoration-color: #800080\"> 'magnificent-leopard'</span> - Created task run 'process_pool_vol-f3874c79-52' for task 'process_pool_vol'\n",
       "</pre>\n"
      ],
      "text/plain": [
       "10:29:44.937 | \u001b[36mINFO\u001b[0m    | Flow run\u001b[35m 'magnificent-leopard'\u001b[0m - Created task run 'process_pool_vol-f3874c79-52' for task 'process_pool_vol'\n"
      ]
     },
     "metadata": {},
     "output_type": "display_data"
    },
    {
     "data": {
      "text/html": [
       "<pre style=\"white-space:pre;overflow-x:auto;line-height:normal;font-family:Menlo,'DejaVu Sans Mono',consolas,'Courier New',monospace\">10:29:44.938 | <span style=\"color: #008080; text-decoration-color: #008080\">INFO</span>    | Flow run<span style=\"color: #800080; text-decoration-color: #800080\"> 'magnificent-leopard'</span> - Executing 'process_pool_vol-f3874c79-52' immediately...\n",
       "</pre>\n"
      ],
      "text/plain": [
       "10:29:44.938 | \u001b[36mINFO\u001b[0m    | Flow run\u001b[35m 'magnificent-leopard'\u001b[0m - Executing 'process_pool_vol-f3874c79-52' immediately...\n"
      ]
     },
     "metadata": {},
     "output_type": "display_data"
    },
    {
     "data": {
      "text/html": [
       "<pre style=\"white-space:pre;overflow-x:auto;line-height:normal;font-family:Menlo,'DejaVu Sans Mono',consolas,'Courier New',monospace\">10:29:44.958 | <span style=\"color: #008080; text-decoration-color: #008080\">INFO</span>    | Task run 'process_pool_vol-f3874c79-52' - Finished in state <span style=\"color: #008000; text-decoration-color: #008000\">Completed</span>()\n",
       "</pre>\n"
      ],
      "text/plain": [
       "10:29:44.958 | \u001b[36mINFO\u001b[0m    | Task run 'process_pool_vol-f3874c79-52' - Finished in state \u001b[32mCompleted\u001b[0m()\n"
      ]
     },
     "metadata": {},
     "output_type": "display_data"
    },
    {
     "data": {
      "text/html": [
       "<pre style=\"white-space:pre;overflow-x:auto;line-height:normal;font-family:Menlo,'DejaVu Sans Mono',consolas,'Courier New',monospace\">10:29:44.967 | <span style=\"color: #008080; text-decoration-color: #008080\">INFO</span>    | Flow run<span style=\"color: #800080; text-decoration-color: #800080\"> 'magnificent-leopard'</span> - Created task run 'process_pool_vol-f3874c79-53' for task 'process_pool_vol'\n",
       "</pre>\n"
      ],
      "text/plain": [
       "10:29:44.967 | \u001b[36mINFO\u001b[0m    | Flow run\u001b[35m 'magnificent-leopard'\u001b[0m - Created task run 'process_pool_vol-f3874c79-53' for task 'process_pool_vol'\n"
      ]
     },
     "metadata": {},
     "output_type": "display_data"
    },
    {
     "data": {
      "text/html": [
       "<pre style=\"white-space:pre;overflow-x:auto;line-height:normal;font-family:Menlo,'DejaVu Sans Mono',consolas,'Courier New',monospace\">10:29:44.967 | <span style=\"color: #008080; text-decoration-color: #008080\">INFO</span>    | Flow run<span style=\"color: #800080; text-decoration-color: #800080\"> 'magnificent-leopard'</span> - Executing 'process_pool_vol-f3874c79-53' immediately...\n",
       "</pre>\n"
      ],
      "text/plain": [
       "10:29:44.967 | \u001b[36mINFO\u001b[0m    | Flow run\u001b[35m 'magnificent-leopard'\u001b[0m - Executing 'process_pool_vol-f3874c79-53' immediately...\n"
      ]
     },
     "metadata": {},
     "output_type": "display_data"
    },
    {
     "data": {
      "text/html": [
       "<pre style=\"white-space:pre;overflow-x:auto;line-height:normal;font-family:Menlo,'DejaVu Sans Mono',consolas,'Courier New',monospace\">10:29:44.987 | <span style=\"color: #008080; text-decoration-color: #008080\">INFO</span>    | Task run 'process_pool_vol-f3874c79-53' - Finished in state <span style=\"color: #008000; text-decoration-color: #008000\">Completed</span>()\n",
       "</pre>\n"
      ],
      "text/plain": [
       "10:29:44.987 | \u001b[36mINFO\u001b[0m    | Task run 'process_pool_vol-f3874c79-53' - Finished in state \u001b[32mCompleted\u001b[0m()\n"
      ]
     },
     "metadata": {},
     "output_type": "display_data"
    },
    {
     "data": {
      "text/html": [
       "<pre style=\"white-space:pre;overflow-x:auto;line-height:normal;font-family:Menlo,'DejaVu Sans Mono',consolas,'Courier New',monospace\">10:29:44.996 | <span style=\"color: #008080; text-decoration-color: #008080\">INFO</span>    | Flow run<span style=\"color: #800080; text-decoration-color: #800080\"> 'magnificent-leopard'</span> - Created task run 'process_pool_vol-f3874c79-54' for task 'process_pool_vol'\n",
       "</pre>\n"
      ],
      "text/plain": [
       "10:29:44.996 | \u001b[36mINFO\u001b[0m    | Flow run\u001b[35m 'magnificent-leopard'\u001b[0m - Created task run 'process_pool_vol-f3874c79-54' for task 'process_pool_vol'\n"
      ]
     },
     "metadata": {},
     "output_type": "display_data"
    },
    {
     "data": {
      "text/html": [
       "<pre style=\"white-space:pre;overflow-x:auto;line-height:normal;font-family:Menlo,'DejaVu Sans Mono',consolas,'Courier New',monospace\">10:29:44.997 | <span style=\"color: #008080; text-decoration-color: #008080\">INFO</span>    | Flow run<span style=\"color: #800080; text-decoration-color: #800080\"> 'magnificent-leopard'</span> - Executing 'process_pool_vol-f3874c79-54' immediately...\n",
       "</pre>\n"
      ],
      "text/plain": [
       "10:29:44.997 | \u001b[36mINFO\u001b[0m    | Flow run\u001b[35m 'magnificent-leopard'\u001b[0m - Executing 'process_pool_vol-f3874c79-54' immediately...\n"
      ]
     },
     "metadata": {},
     "output_type": "display_data"
    },
    {
     "data": {
      "text/html": [
       "<pre style=\"white-space:pre;overflow-x:auto;line-height:normal;font-family:Menlo,'DejaVu Sans Mono',consolas,'Courier New',monospace\">10:29:45.017 | <span style=\"color: #008080; text-decoration-color: #008080\">INFO</span>    | Task run 'process_pool_vol-f3874c79-54' - Finished in state <span style=\"color: #008000; text-decoration-color: #008000\">Completed</span>()\n",
       "</pre>\n"
      ],
      "text/plain": [
       "10:29:45.017 | \u001b[36mINFO\u001b[0m    | Task run 'process_pool_vol-f3874c79-54' - Finished in state \u001b[32mCompleted\u001b[0m()\n"
      ]
     },
     "metadata": {},
     "output_type": "display_data"
    },
    {
     "data": {
      "text/html": [
       "<pre style=\"white-space:pre;overflow-x:auto;line-height:normal;font-family:Menlo,'DejaVu Sans Mono',consolas,'Courier New',monospace\">10:29:45.026 | <span style=\"color: #008080; text-decoration-color: #008080\">INFO</span>    | Flow run<span style=\"color: #800080; text-decoration-color: #800080\"> 'magnificent-leopard'</span> - Created task run 'process_pool_vol-f3874c79-55' for task 'process_pool_vol'\n",
       "</pre>\n"
      ],
      "text/plain": [
       "10:29:45.026 | \u001b[36mINFO\u001b[0m    | Flow run\u001b[35m 'magnificent-leopard'\u001b[0m - Created task run 'process_pool_vol-f3874c79-55' for task 'process_pool_vol'\n"
      ]
     },
     "metadata": {},
     "output_type": "display_data"
    },
    {
     "data": {
      "text/html": [
       "<pre style=\"white-space:pre;overflow-x:auto;line-height:normal;font-family:Menlo,'DejaVu Sans Mono',consolas,'Courier New',monospace\">10:29:45.026 | <span style=\"color: #008080; text-decoration-color: #008080\">INFO</span>    | Flow run<span style=\"color: #800080; text-decoration-color: #800080\"> 'magnificent-leopard'</span> - Executing 'process_pool_vol-f3874c79-55' immediately...\n",
       "</pre>\n"
      ],
      "text/plain": [
       "10:29:45.026 | \u001b[36mINFO\u001b[0m    | Flow run\u001b[35m 'magnificent-leopard'\u001b[0m - Executing 'process_pool_vol-f3874c79-55' immediately...\n"
      ]
     },
     "metadata": {},
     "output_type": "display_data"
    },
    {
     "data": {
      "text/html": [
       "<pre style=\"white-space:pre;overflow-x:auto;line-height:normal;font-family:Menlo,'DejaVu Sans Mono',consolas,'Courier New',monospace\">10:29:45.047 | <span style=\"color: #008080; text-decoration-color: #008080\">INFO</span>    | Task run 'process_pool_vol-f3874c79-55' - Finished in state <span style=\"color: #008000; text-decoration-color: #008000\">Completed</span>()\n",
       "</pre>\n"
      ],
      "text/plain": [
       "10:29:45.047 | \u001b[36mINFO\u001b[0m    | Task run 'process_pool_vol-f3874c79-55' - Finished in state \u001b[32mCompleted\u001b[0m()\n"
      ]
     },
     "metadata": {},
     "output_type": "display_data"
    },
    {
     "data": {
      "text/html": [
       "<pre style=\"white-space:pre;overflow-x:auto;line-height:normal;font-family:Menlo,'DejaVu Sans Mono',consolas,'Courier New',monospace\">10:29:45.055 | <span style=\"color: #008080; text-decoration-color: #008080\">INFO</span>    | Flow run<span style=\"color: #800080; text-decoration-color: #800080\"> 'magnificent-leopard'</span> - Created task run 'process_pool_vol-f3874c79-56' for task 'process_pool_vol'\n",
       "</pre>\n"
      ],
      "text/plain": [
       "10:29:45.055 | \u001b[36mINFO\u001b[0m    | Flow run\u001b[35m 'magnificent-leopard'\u001b[0m - Created task run 'process_pool_vol-f3874c79-56' for task 'process_pool_vol'\n"
      ]
     },
     "metadata": {},
     "output_type": "display_data"
    },
    {
     "data": {
      "text/html": [
       "<pre style=\"white-space:pre;overflow-x:auto;line-height:normal;font-family:Menlo,'DejaVu Sans Mono',consolas,'Courier New',monospace\">10:29:45.056 | <span style=\"color: #008080; text-decoration-color: #008080\">INFO</span>    | Flow run<span style=\"color: #800080; text-decoration-color: #800080\"> 'magnificent-leopard'</span> - Executing 'process_pool_vol-f3874c79-56' immediately...\n",
       "</pre>\n"
      ],
      "text/plain": [
       "10:29:45.056 | \u001b[36mINFO\u001b[0m    | Flow run\u001b[35m 'magnificent-leopard'\u001b[0m - Executing 'process_pool_vol-f3874c79-56' immediately...\n"
      ]
     },
     "metadata": {},
     "output_type": "display_data"
    },
    {
     "data": {
      "text/html": [
       "<pre style=\"white-space:pre;overflow-x:auto;line-height:normal;font-family:Menlo,'DejaVu Sans Mono',consolas,'Courier New',monospace\">10:29:45.077 | <span style=\"color: #008080; text-decoration-color: #008080\">INFO</span>    | Task run 'process_pool_vol-f3874c79-56' - Finished in state <span style=\"color: #008000; text-decoration-color: #008000\">Completed</span>()\n",
       "</pre>\n"
      ],
      "text/plain": [
       "10:29:45.077 | \u001b[36mINFO\u001b[0m    | Task run 'process_pool_vol-f3874c79-56' - Finished in state \u001b[32mCompleted\u001b[0m()\n"
      ]
     },
     "metadata": {},
     "output_type": "display_data"
    },
    {
     "data": {
      "text/html": [
       "<pre style=\"white-space:pre;overflow-x:auto;line-height:normal;font-family:Menlo,'DejaVu Sans Mono',consolas,'Courier New',monospace\">10:29:45.086 | <span style=\"color: #008080; text-decoration-color: #008080\">INFO</span>    | Flow run<span style=\"color: #800080; text-decoration-color: #800080\"> 'magnificent-leopard'</span> - Created task run 'process_pool_vol-f3874c79-57' for task 'process_pool_vol'\n",
       "</pre>\n"
      ],
      "text/plain": [
       "10:29:45.086 | \u001b[36mINFO\u001b[0m    | Flow run\u001b[35m 'magnificent-leopard'\u001b[0m - Created task run 'process_pool_vol-f3874c79-57' for task 'process_pool_vol'\n"
      ]
     },
     "metadata": {},
     "output_type": "display_data"
    },
    {
     "data": {
      "text/html": [
       "<pre style=\"white-space:pre;overflow-x:auto;line-height:normal;font-family:Menlo,'DejaVu Sans Mono',consolas,'Courier New',monospace\">10:29:45.086 | <span style=\"color: #008080; text-decoration-color: #008080\">INFO</span>    | Flow run<span style=\"color: #800080; text-decoration-color: #800080\"> 'magnificent-leopard'</span> - Executing 'process_pool_vol-f3874c79-57' immediately...\n",
       "</pre>\n"
      ],
      "text/plain": [
       "10:29:45.086 | \u001b[36mINFO\u001b[0m    | Flow run\u001b[35m 'magnificent-leopard'\u001b[0m - Executing 'process_pool_vol-f3874c79-57' immediately...\n"
      ]
     },
     "metadata": {},
     "output_type": "display_data"
    },
    {
     "data": {
      "text/html": [
       "<pre style=\"white-space:pre;overflow-x:auto;line-height:normal;font-family:Menlo,'DejaVu Sans Mono',consolas,'Courier New',monospace\">10:29:45.107 | <span style=\"color: #008080; text-decoration-color: #008080\">INFO</span>    | Task run 'process_pool_vol-f3874c79-57' - Finished in state <span style=\"color: #008000; text-decoration-color: #008000\">Completed</span>()\n",
       "</pre>\n"
      ],
      "text/plain": [
       "10:29:45.107 | \u001b[36mINFO\u001b[0m    | Task run 'process_pool_vol-f3874c79-57' - Finished in state \u001b[32mCompleted\u001b[0m()\n"
      ]
     },
     "metadata": {},
     "output_type": "display_data"
    },
    {
     "data": {
      "text/html": [
       "<pre style=\"white-space:pre;overflow-x:auto;line-height:normal;font-family:Menlo,'DejaVu Sans Mono',consolas,'Courier New',monospace\">10:29:45.115 | <span style=\"color: #008080; text-decoration-color: #008080\">INFO</span>    | Flow run<span style=\"color: #800080; text-decoration-color: #800080\"> 'magnificent-leopard'</span> - Created task run 'process_pool_vol-f3874c79-58' for task 'process_pool_vol'\n",
       "</pre>\n"
      ],
      "text/plain": [
       "10:29:45.115 | \u001b[36mINFO\u001b[0m    | Flow run\u001b[35m 'magnificent-leopard'\u001b[0m - Created task run 'process_pool_vol-f3874c79-58' for task 'process_pool_vol'\n"
      ]
     },
     "metadata": {},
     "output_type": "display_data"
    },
    {
     "data": {
      "text/html": [
       "<pre style=\"white-space:pre;overflow-x:auto;line-height:normal;font-family:Menlo,'DejaVu Sans Mono',consolas,'Courier New',monospace\">10:29:45.116 | <span style=\"color: #008080; text-decoration-color: #008080\">INFO</span>    | Flow run<span style=\"color: #800080; text-decoration-color: #800080\"> 'magnificent-leopard'</span> - Executing 'process_pool_vol-f3874c79-58' immediately...\n",
       "</pre>\n"
      ],
      "text/plain": [
       "10:29:45.116 | \u001b[36mINFO\u001b[0m    | Flow run\u001b[35m 'magnificent-leopard'\u001b[0m - Executing 'process_pool_vol-f3874c79-58' immediately...\n"
      ]
     },
     "metadata": {},
     "output_type": "display_data"
    },
    {
     "data": {
      "text/html": [
       "<pre style=\"white-space:pre;overflow-x:auto;line-height:normal;font-family:Menlo,'DejaVu Sans Mono',consolas,'Courier New',monospace\">10:29:45.136 | <span style=\"color: #008080; text-decoration-color: #008080\">INFO</span>    | Task run 'process_pool_vol-f3874c79-58' - Finished in state <span style=\"color: #008000; text-decoration-color: #008000\">Completed</span>()\n",
       "</pre>\n"
      ],
      "text/plain": [
       "10:29:45.136 | \u001b[36mINFO\u001b[0m    | Task run 'process_pool_vol-f3874c79-58' - Finished in state \u001b[32mCompleted\u001b[0m()\n"
      ]
     },
     "metadata": {},
     "output_type": "display_data"
    },
    {
     "data": {
      "text/html": [
       "<pre style=\"white-space:pre;overflow-x:auto;line-height:normal;font-family:Menlo,'DejaVu Sans Mono',consolas,'Courier New',monospace\">10:29:45.208 | <span style=\"color: #008080; text-decoration-color: #008080\">INFO</span>    | Flow run<span style=\"color: #800080; text-decoration-color: #800080\"> 'magnificent-leopard'</span> - Finished in state <span style=\"color: #008000; text-decoration-color: #008000\">Completed</span>()\n",
       "</pre>\n"
      ],
      "text/plain": [
       "10:29:45.208 | \u001b[36mINFO\u001b[0m    | Flow run\u001b[35m 'magnificent-leopard'\u001b[0m - Finished in state \u001b[32mCompleted\u001b[0m()\n"
      ]
     },
     "metadata": {},
     "output_type": "display_data"
    },
    {
     "name": "stderr",
     "output_type": "stream",
     "text": [
      "/opt/miniconda3/envs/flywheel/lib/python3.10/site-packages/prefect/tasks.py:206: UserWarning: A task named 'flow-metapool' and defined at '/var/folders/5c/hf9_blgj3jbbxxvkw_s9snsw0000gn/T/ipykernel_94847/2663358337.py:63' conflicts with another task. Consider specifying a unique `name` parameter in the task definition:\n",
      "\n",
      " `@task(name='my_unique_name', ...)`\n",
      "  warnings.warn(\n"
     ]
    },
    {
     "data": {
      "text/html": [
       "<pre style=\"white-space:pre;overflow-x:auto;line-height:normal;font-family:Menlo,'DejaVu Sans Mono',consolas,'Courier New',monospace\">10:29:45.235 | <span style=\"color: #008080; text-decoration-color: #008080\">INFO</span>    | Flow run<span style=\"color: #800080; text-decoration-color: #800080\"> 'snobbish-collie'</span> - Created subflow run<span style=\"color: #800080; text-decoration-color: #800080\"> 'nickel-iguana'</span> for flow<span style=\"color: #800080; text-decoration-color: #800080; font-weight: bold\"> 'flow-metapool'</span>\n",
       "</pre>\n"
      ],
      "text/plain": [
       "10:29:45.235 | \u001b[36mINFO\u001b[0m    | Flow run\u001b[35m 'snobbish-collie'\u001b[0m - Created subflow run\u001b[35m 'nickel-iguana'\u001b[0m for flow\u001b[1;35m 'flow-metapool'\u001b[0m\n"
      ]
     },
     "metadata": {},
     "output_type": "display_data"
    },
    {
     "data": {
      "text/html": [
       "<pre style=\"white-space:pre;overflow-x:auto;line-height:normal;font-family:Menlo,'DejaVu Sans Mono',consolas,'Courier New',monospace\">10:29:45.257 | <span style=\"color: #008080; text-decoration-color: #008080\">INFO</span>    | Flow run<span style=\"color: #800080; text-decoration-color: #800080\"> 'nickel-iguana'</span> - Created task run 'query_pools-66de95c5-0' for task 'query_pools'\n",
       "</pre>\n"
      ],
      "text/plain": [
       "10:29:45.257 | \u001b[36mINFO\u001b[0m    | Flow run\u001b[35m 'nickel-iguana'\u001b[0m - Created task run 'query_pools-66de95c5-0' for task 'query_pools'\n"
      ]
     },
     "metadata": {},
     "output_type": "display_data"
    },
    {
     "data": {
      "text/html": [
       "<pre style=\"white-space:pre;overflow-x:auto;line-height:normal;font-family:Menlo,'DejaVu Sans Mono',consolas,'Courier New',monospace\">10:29:45.257 | <span style=\"color: #008080; text-decoration-color: #008080\">INFO</span>    | Flow run<span style=\"color: #800080; text-decoration-color: #800080\"> 'nickel-iguana'</span> - Executing 'query_pools-66de95c5-0' immediately...\n",
       "</pre>\n"
      ],
      "text/plain": [
       "10:29:45.257 | \u001b[36mINFO\u001b[0m    | Flow run\u001b[35m 'nickel-iguana'\u001b[0m - Executing 'query_pools-66de95c5-0' immediately...\n"
      ]
     },
     "metadata": {},
     "output_type": "display_data"
    },
    {
     "data": {
      "text/html": [
       "<pre style=\"white-space:pre;overflow-x:auto;line-height:normal;font-family:Menlo,'DejaVu Sans Mono',consolas,'Courier New',monospace\">10:29:45.481 | <span style=\"color: #008080; text-decoration-color: #008080\">INFO</span>    | Task run 'query_pools-66de95c5-0' - Finished in state <span style=\"color: #008000; text-decoration-color: #008000\">Completed</span>()\n",
       "</pre>\n"
      ],
      "text/plain": [
       "10:29:45.481 | \u001b[36mINFO\u001b[0m    | Task run 'query_pools-66de95c5-0' - Finished in state \u001b[32mCompleted\u001b[0m()\n"
      ]
     },
     "metadata": {},
     "output_type": "display_data"
    },
    {
     "data": {
      "text/html": [
       "<pre style=\"white-space:pre;overflow-x:auto;line-height:normal;font-family:Menlo,'DejaVu Sans Mono',consolas,'Courier New',monospace\">10:29:45.497 | <span style=\"color: #008080; text-decoration-color: #008080\">INFO</span>    | Flow run<span style=\"color: #800080; text-decoration-color: #800080\"> 'nickel-iguana'</span> - Created task run 'process_pools-45529377-0' for task 'process_pools'\n",
       "</pre>\n"
      ],
      "text/plain": [
       "10:29:45.497 | \u001b[36mINFO\u001b[0m    | Flow run\u001b[35m 'nickel-iguana'\u001b[0m - Created task run 'process_pools-45529377-0' for task 'process_pools'\n"
      ]
     },
     "metadata": {},
     "output_type": "display_data"
    },
    {
     "data": {
      "text/html": [
       "<pre style=\"white-space:pre;overflow-x:auto;line-height:normal;font-family:Menlo,'DejaVu Sans Mono',consolas,'Courier New',monospace\">10:29:45.498 | <span style=\"color: #008080; text-decoration-color: #008080\">INFO</span>    | Flow run<span style=\"color: #800080; text-decoration-color: #800080\"> 'nickel-iguana'</span> - Executing 'process_pools-45529377-0' immediately...\n",
       "</pre>\n"
      ],
      "text/plain": [
       "10:29:45.498 | \u001b[36mINFO\u001b[0m    | Flow run\u001b[35m 'nickel-iguana'\u001b[0m - Executing 'process_pools-45529377-0' immediately...\n"
      ]
     },
     "metadata": {},
     "output_type": "display_data"
    },
    {
     "data": {
      "text/html": [
       "<pre style=\"white-space:pre;overflow-x:auto;line-height:normal;font-family:Menlo,'DejaVu Sans Mono',consolas,'Courier New',monospace\">10:29:45.526 | <span style=\"color: #008080; text-decoration-color: #008080\">INFO</span>    | Task run 'process_pools-45529377-0' - Finished in state <span style=\"color: #008000; text-decoration-color: #008000\">Completed</span>()\n",
       "</pre>\n"
      ],
      "text/plain": [
       "10:29:45.526 | \u001b[36mINFO\u001b[0m    | Task run 'process_pools-45529377-0' - Finished in state \u001b[32mCompleted\u001b[0m()\n"
      ]
     },
     "metadata": {},
     "output_type": "display_data"
    },
    {
     "data": {
      "text/html": [
       "<pre style=\"white-space:pre;overflow-x:auto;line-height:normal;font-family:Menlo,'DejaVu Sans Mono',consolas,'Courier New',monospace\">10:29:45.596 | <span style=\"color: #008080; text-decoration-color: #008080\">INFO</span>    | Flow run<span style=\"color: #800080; text-decoration-color: #800080\"> 'nickel-iguana'</span> - Created task run 'query_pool_snaps-60635b41-0' for task 'query_pool_snaps'\n",
       "</pre>\n"
      ],
      "text/plain": [
       "10:29:45.596 | \u001b[36mINFO\u001b[0m    | Flow run\u001b[35m 'nickel-iguana'\u001b[0m - Created task run 'query_pool_snaps-60635b41-0' for task 'query_pool_snaps'\n"
      ]
     },
     "metadata": {},
     "output_type": "display_data"
    },
    {
     "data": {
      "text/html": [
       "<pre style=\"white-space:pre;overflow-x:auto;line-height:normal;font-family:Menlo,'DejaVu Sans Mono',consolas,'Courier New',monospace\">10:29:45.598 | <span style=\"color: #008080; text-decoration-color: #008080\">INFO</span>    | Flow run<span style=\"color: #800080; text-decoration-color: #800080\"> 'nickel-iguana'</span> - Submitted task run 'query_pool_snaps-60635b41-0' for execution.\n",
       "</pre>\n"
      ],
      "text/plain": [
       "10:29:45.598 | \u001b[36mINFO\u001b[0m    | Flow run\u001b[35m 'nickel-iguana'\u001b[0m - Submitted task run 'query_pool_snaps-60635b41-0' for execution.\n"
      ]
     },
     "metadata": {},
     "output_type": "display_data"
    },
    {
     "data": {
      "text/html": [
       "<pre style=\"white-space:pre;overflow-x:auto;line-height:normal;font-family:Menlo,'DejaVu Sans Mono',consolas,'Courier New',monospace\">10:29:45.612 | <span style=\"color: #008080; text-decoration-color: #008080\">INFO</span>    | Flow run<span style=\"color: #800080; text-decoration-color: #800080\"> 'nickel-iguana'</span> - Created task run 'query_pool_vol-8bdd8db3-4' for task 'query_pool_vol'\n",
       "</pre>\n"
      ],
      "text/plain": [
       "10:29:45.612 | \u001b[36mINFO\u001b[0m    | Flow run\u001b[35m 'nickel-iguana'\u001b[0m - Created task run 'query_pool_vol-8bdd8db3-4' for task 'query_pool_vol'\n"
      ]
     },
     "metadata": {},
     "output_type": "display_data"
    },
    {
     "data": {
      "text/html": [
       "<pre style=\"white-space:pre;overflow-x:auto;line-height:normal;font-family:Menlo,'DejaVu Sans Mono',consolas,'Courier New',monospace\">10:29:45.612 | <span style=\"color: #008080; text-decoration-color: #008080\">INFO</span>    | Flow run<span style=\"color: #800080; text-decoration-color: #800080\"> 'nickel-iguana'</span> - Submitted task run 'query_pool_vol-8bdd8db3-4' for execution.\n",
       "</pre>\n"
      ],
      "text/plain": [
       "10:29:45.612 | \u001b[36mINFO\u001b[0m    | Flow run\u001b[35m 'nickel-iguana'\u001b[0m - Submitted task run 'query_pool_vol-8bdd8db3-4' for execution.\n"
      ]
     },
     "metadata": {},
     "output_type": "display_data"
    },
    {
     "data": {
      "text/html": [
       "<pre style=\"white-space:pre;overflow-x:auto;line-height:normal;font-family:Menlo,'DejaVu Sans Mono',consolas,'Courier New',monospace\">10:29:45.622 | <span style=\"color: #008080; text-decoration-color: #008080\">INFO</span>    | Flow run<span style=\"color: #800080; text-decoration-color: #800080\"> 'nickel-iguana'</span> - Created task run 'query_pool_snaps-60635b41-13' for task 'query_pool_snaps'\n",
       "</pre>\n"
      ],
      "text/plain": [
       "10:29:45.622 | \u001b[36mINFO\u001b[0m    | Flow run\u001b[35m 'nickel-iguana'\u001b[0m - Created task run 'query_pool_snaps-60635b41-13' for task 'query_pool_snaps'\n"
      ]
     },
     "metadata": {},
     "output_type": "display_data"
    },
    {
     "data": {
      "text/html": [
       "<pre style=\"white-space:pre;overflow-x:auto;line-height:normal;font-family:Menlo,'DejaVu Sans Mono',consolas,'Courier New',monospace\">10:29:45.622 | <span style=\"color: #008080; text-decoration-color: #008080\">INFO</span>    | Flow run<span style=\"color: #800080; text-decoration-color: #800080\"> 'nickel-iguana'</span> - Submitted task run 'query_pool_snaps-60635b41-13' for execution.\n",
       "</pre>\n"
      ],
      "text/plain": [
       "10:29:45.622 | \u001b[36mINFO\u001b[0m    | Flow run\u001b[35m 'nickel-iguana'\u001b[0m - Submitted task run 'query_pool_snaps-60635b41-13' for execution.\n"
      ]
     },
     "metadata": {},
     "output_type": "display_data"
    },
    {
     "data": {
      "text/html": [
       "<pre style=\"white-space:pre;overflow-x:auto;line-height:normal;font-family:Menlo,'DejaVu Sans Mono',consolas,'Courier New',monospace\">10:29:45.649 | <span style=\"color: #008080; text-decoration-color: #008080\">INFO</span>    | Flow run<span style=\"color: #800080; text-decoration-color: #800080\"> 'nickel-iguana'</span> - Created task run 'query_pool_vol-8bdd8db3-12' for task 'query_pool_vol'\n",
       "</pre>\n"
      ],
      "text/plain": [
       "10:29:45.649 | \u001b[36mINFO\u001b[0m    | Flow run\u001b[35m 'nickel-iguana'\u001b[0m - Created task run 'query_pool_vol-8bdd8db3-12' for task 'query_pool_vol'\n"
      ]
     },
     "metadata": {},
     "output_type": "display_data"
    },
    {
     "data": {
      "text/html": [
       "<pre style=\"white-space:pre;overflow-x:auto;line-height:normal;font-family:Menlo,'DejaVu Sans Mono',consolas,'Courier New',monospace\">10:29:45.650 | <span style=\"color: #008080; text-decoration-color: #008080\">INFO</span>    | Flow run<span style=\"color: #800080; text-decoration-color: #800080\"> 'nickel-iguana'</span> - Submitted task run 'query_pool_vol-8bdd8db3-12' for execution.\n",
       "</pre>\n"
      ],
      "text/plain": [
       "10:29:45.650 | \u001b[36mINFO\u001b[0m    | Flow run\u001b[35m 'nickel-iguana'\u001b[0m - Submitted task run 'query_pool_vol-8bdd8db3-12' for execution.\n"
      ]
     },
     "metadata": {},
     "output_type": "display_data"
    },
    {
     "data": {
      "text/html": [
       "<pre style=\"white-space:pre;overflow-x:auto;line-height:normal;font-family:Menlo,'DejaVu Sans Mono',consolas,'Courier New',monospace\">10:29:45.661 | <span style=\"color: #008080; text-decoration-color: #008080\">INFO</span>    | Flow run<span style=\"color: #800080; text-decoration-color: #800080\"> 'nickel-iguana'</span> - Created task run 'query_pool_snaps-60635b41-3' for task 'query_pool_snaps'\n",
       "</pre>\n"
      ],
      "text/plain": [
       "10:29:45.661 | \u001b[36mINFO\u001b[0m    | Flow run\u001b[35m 'nickel-iguana'\u001b[0m - Created task run 'query_pool_snaps-60635b41-3' for task 'query_pool_snaps'\n"
      ]
     },
     "metadata": {},
     "output_type": "display_data"
    },
    {
     "data": {
      "text/html": [
       "<pre style=\"white-space:pre;overflow-x:auto;line-height:normal;font-family:Menlo,'DejaVu Sans Mono',consolas,'Courier New',monospace\">10:29:45.661 | <span style=\"color: #008080; text-decoration-color: #008080\">INFO</span>    | Flow run<span style=\"color: #800080; text-decoration-color: #800080\"> 'nickel-iguana'</span> - Submitted task run 'query_pool_snaps-60635b41-3' for execution.\n",
       "</pre>\n"
      ],
      "text/plain": [
       "10:29:45.661 | \u001b[36mINFO\u001b[0m    | Flow run\u001b[35m 'nickel-iguana'\u001b[0m - Submitted task run 'query_pool_snaps-60635b41-3' for execution.\n"
      ]
     },
     "metadata": {},
     "output_type": "display_data"
    },
    {
     "data": {
      "text/html": [
       "<pre style=\"white-space:pre;overflow-x:auto;line-height:normal;font-family:Menlo,'DejaVu Sans Mono',consolas,'Courier New',monospace\">10:29:45.671 | <span style=\"color: #008080; text-decoration-color: #008080\">INFO</span>    | Flow run<span style=\"color: #800080; text-decoration-color: #800080\"> 'nickel-iguana'</span> - Created task run 'query_pool_vol-8bdd8db3-9' for task 'query_pool_vol'\n",
       "</pre>\n"
      ],
      "text/plain": [
       "10:29:45.671 | \u001b[36mINFO\u001b[0m    | Flow run\u001b[35m 'nickel-iguana'\u001b[0m - Created task run 'query_pool_vol-8bdd8db3-9' for task 'query_pool_vol'\n"
      ]
     },
     "metadata": {},
     "output_type": "display_data"
    },
    {
     "data": {
      "text/html": [
       "<pre style=\"white-space:pre;overflow-x:auto;line-height:normal;font-family:Menlo,'DejaVu Sans Mono',consolas,'Courier New',monospace\">10:29:45.672 | <span style=\"color: #008080; text-decoration-color: #008080\">INFO</span>    | Flow run<span style=\"color: #800080; text-decoration-color: #800080\"> 'nickel-iguana'</span> - Submitted task run 'query_pool_vol-8bdd8db3-9' for execution.\n",
       "</pre>\n"
      ],
      "text/plain": [
       "10:29:45.672 | \u001b[36mINFO\u001b[0m    | Flow run\u001b[35m 'nickel-iguana'\u001b[0m - Submitted task run 'query_pool_vol-8bdd8db3-9' for execution.\n"
      ]
     },
     "metadata": {},
     "output_type": "display_data"
    },
    {
     "data": {
      "text/html": [
       "<pre style=\"white-space:pre;overflow-x:auto;line-height:normal;font-family:Menlo,'DejaVu Sans Mono',consolas,'Courier New',monospace\">10:29:45.683 | <span style=\"color: #008080; text-decoration-color: #008080\">INFO</span>    | Flow run<span style=\"color: #800080; text-decoration-color: #800080\"> 'nickel-iguana'</span> - Created task run 'query_pool_vol-8bdd8db3-0' for task 'query_pool_vol'\n",
       "</pre>\n"
      ],
      "text/plain": [
       "10:29:45.683 | \u001b[36mINFO\u001b[0m    | Flow run\u001b[35m 'nickel-iguana'\u001b[0m - Created task run 'query_pool_vol-8bdd8db3-0' for task 'query_pool_vol'\n"
      ]
     },
     "metadata": {},
     "output_type": "display_data"
    },
    {
     "data": {
      "text/html": [
       "<pre style=\"white-space:pre;overflow-x:auto;line-height:normal;font-family:Menlo,'DejaVu Sans Mono',consolas,'Courier New',monospace\">10:29:45.684 | <span style=\"color: #008080; text-decoration-color: #008080\">INFO</span>    | Flow run<span style=\"color: #800080; text-decoration-color: #800080\"> 'nickel-iguana'</span> - Submitted task run 'query_pool_vol-8bdd8db3-0' for execution.\n",
       "</pre>\n"
      ],
      "text/plain": [
       "10:29:45.684 | \u001b[36mINFO\u001b[0m    | Flow run\u001b[35m 'nickel-iguana'\u001b[0m - Submitted task run 'query_pool_vol-8bdd8db3-0' for execution.\n"
      ]
     },
     "metadata": {},
     "output_type": "display_data"
    },
    {
     "data": {
      "text/html": [
       "<pre style=\"white-space:pre;overflow-x:auto;line-height:normal;font-family:Menlo,'DejaVu Sans Mono',consolas,'Courier New',monospace\">10:29:45.692 | <span style=\"color: #008080; text-decoration-color: #008080\">INFO</span>    | Flow run<span style=\"color: #800080; text-decoration-color: #800080\"> 'nickel-iguana'</span> - Created task run 'query_pool_snaps-60635b41-6' for task 'query_pool_snaps'\n",
       "</pre>\n"
      ],
      "text/plain": [
       "10:29:45.692 | \u001b[36mINFO\u001b[0m    | Flow run\u001b[35m 'nickel-iguana'\u001b[0m - Created task run 'query_pool_snaps-60635b41-6' for task 'query_pool_snaps'\n"
      ]
     },
     "metadata": {},
     "output_type": "display_data"
    },
    {
     "data": {
      "text/html": [
       "<pre style=\"white-space:pre;overflow-x:auto;line-height:normal;font-family:Menlo,'DejaVu Sans Mono',consolas,'Courier New',monospace\">10:29:45.693 | <span style=\"color: #008080; text-decoration-color: #008080\">INFO</span>    | Flow run<span style=\"color: #800080; text-decoration-color: #800080\"> 'nickel-iguana'</span> - Submitted task run 'query_pool_snaps-60635b41-6' for execution.\n",
       "</pre>\n"
      ],
      "text/plain": [
       "10:29:45.693 | \u001b[36mINFO\u001b[0m    | Flow run\u001b[35m 'nickel-iguana'\u001b[0m - Submitted task run 'query_pool_snaps-60635b41-6' for execution.\n"
      ]
     },
     "metadata": {},
     "output_type": "display_data"
    },
    {
     "data": {
      "text/html": [
       "<pre style=\"white-space:pre;overflow-x:auto;line-height:normal;font-family:Menlo,'DejaVu Sans Mono',consolas,'Courier New',monospace\">10:29:45.710 | <span style=\"color: #008080; text-decoration-color: #008080\">INFO</span>    | Flow run<span style=\"color: #800080; text-decoration-color: #800080\"> 'nickel-iguana'</span> - Created task run 'query_pool_vol-8bdd8db3-2' for task 'query_pool_vol'\n",
       "</pre>\n"
      ],
      "text/plain": [
       "10:29:45.710 | \u001b[36mINFO\u001b[0m    | Flow run\u001b[35m 'nickel-iguana'\u001b[0m - Created task run 'query_pool_vol-8bdd8db3-2' for task 'query_pool_vol'\n"
      ]
     },
     "metadata": {},
     "output_type": "display_data"
    },
    {
     "data": {
      "text/html": [
       "<pre style=\"white-space:pre;overflow-x:auto;line-height:normal;font-family:Menlo,'DejaVu Sans Mono',consolas,'Courier New',monospace\">10:29:45.711 | <span style=\"color: #008080; text-decoration-color: #008080\">INFO</span>    | Flow run<span style=\"color: #800080; text-decoration-color: #800080\"> 'nickel-iguana'</span> - Submitted task run 'query_pool_vol-8bdd8db3-2' for execution.\n",
       "</pre>\n"
      ],
      "text/plain": [
       "10:29:45.711 | \u001b[36mINFO\u001b[0m    | Flow run\u001b[35m 'nickel-iguana'\u001b[0m - Submitted task run 'query_pool_vol-8bdd8db3-2' for execution.\n"
      ]
     },
     "metadata": {},
     "output_type": "display_data"
    },
    {
     "data": {
      "text/html": [
       "<pre style=\"white-space:pre;overflow-x:auto;line-height:normal;font-family:Menlo,'DejaVu Sans Mono',consolas,'Courier New',monospace\">10:29:45.731 | <span style=\"color: #008080; text-decoration-color: #008080\">INFO</span>    | Flow run<span style=\"color: #800080; text-decoration-color: #800080\"> 'nickel-iguana'</span> - Created task run 'query_pool_vol-8bdd8db3-5' for task 'query_pool_vol'\n",
       "</pre>\n"
      ],
      "text/plain": [
       "10:29:45.731 | \u001b[36mINFO\u001b[0m    | Flow run\u001b[35m 'nickel-iguana'\u001b[0m - Created task run 'query_pool_vol-8bdd8db3-5' for task 'query_pool_vol'\n"
      ]
     },
     "metadata": {},
     "output_type": "display_data"
    },
    {
     "data": {
      "text/html": [
       "<pre style=\"white-space:pre;overflow-x:auto;line-height:normal;font-family:Menlo,'DejaVu Sans Mono',consolas,'Courier New',monospace\">10:29:45.731 | <span style=\"color: #008080; text-decoration-color: #008080\">INFO</span>    | Flow run<span style=\"color: #800080; text-decoration-color: #800080\"> 'nickel-iguana'</span> - Submitted task run 'query_pool_vol-8bdd8db3-5' for execution.\n",
       "</pre>\n"
      ],
      "text/plain": [
       "10:29:45.731 | \u001b[36mINFO\u001b[0m    | Flow run\u001b[35m 'nickel-iguana'\u001b[0m - Submitted task run 'query_pool_vol-8bdd8db3-5' for execution.\n"
      ]
     },
     "metadata": {},
     "output_type": "display_data"
    },
    {
     "data": {
      "text/html": [
       "<pre style=\"white-space:pre;overflow-x:auto;line-height:normal;font-family:Menlo,'DejaVu Sans Mono',consolas,'Courier New',monospace\">10:29:45.741 | <span style=\"color: #008080; text-decoration-color: #008080\">INFO</span>    | Flow run<span style=\"color: #800080; text-decoration-color: #800080\"> 'nickel-iguana'</span> - Created task run 'query_pool_vol-8bdd8db3-7' for task 'query_pool_vol'\n",
       "</pre>\n"
      ],
      "text/plain": [
       "10:29:45.741 | \u001b[36mINFO\u001b[0m    | Flow run\u001b[35m 'nickel-iguana'\u001b[0m - Created task run 'query_pool_vol-8bdd8db3-7' for task 'query_pool_vol'\n"
      ]
     },
     "metadata": {},
     "output_type": "display_data"
    },
    {
     "data": {
      "text/html": [
       "<pre style=\"white-space:pre;overflow-x:auto;line-height:normal;font-family:Menlo,'DejaVu Sans Mono',consolas,'Courier New',monospace\">10:29:45.742 | <span style=\"color: #008080; text-decoration-color: #008080\">INFO</span>    | Flow run<span style=\"color: #800080; text-decoration-color: #800080\"> 'nickel-iguana'</span> - Submitted task run 'query_pool_vol-8bdd8db3-7' for execution.\n",
       "</pre>\n"
      ],
      "text/plain": [
       "10:29:45.742 | \u001b[36mINFO\u001b[0m    | Flow run\u001b[35m 'nickel-iguana'\u001b[0m - Submitted task run 'query_pool_vol-8bdd8db3-7' for execution.\n"
      ]
     },
     "metadata": {},
     "output_type": "display_data"
    },
    {
     "data": {
      "text/html": [
       "<pre style=\"white-space:pre;overflow-x:auto;line-height:normal;font-family:Menlo,'DejaVu Sans Mono',consolas,'Courier New',monospace\">10:29:45.752 | <span style=\"color: #008080; text-decoration-color: #008080\">INFO</span>    | Flow run<span style=\"color: #800080; text-decoration-color: #800080\"> 'nickel-iguana'</span> - Created task run 'query_pool_vol-8bdd8db3-10' for task 'query_pool_vol'\n",
       "</pre>\n"
      ],
      "text/plain": [
       "10:29:45.752 | \u001b[36mINFO\u001b[0m    | Flow run\u001b[35m 'nickel-iguana'\u001b[0m - Created task run 'query_pool_vol-8bdd8db3-10' for task 'query_pool_vol'\n"
      ]
     },
     "metadata": {},
     "output_type": "display_data"
    },
    {
     "data": {
      "text/html": [
       "<pre style=\"white-space:pre;overflow-x:auto;line-height:normal;font-family:Menlo,'DejaVu Sans Mono',consolas,'Courier New',monospace\">10:29:45.752 | <span style=\"color: #008080; text-decoration-color: #008080\">INFO</span>    | Flow run<span style=\"color: #800080; text-decoration-color: #800080\"> 'nickel-iguana'</span> - Submitted task run 'query_pool_vol-8bdd8db3-10' for execution.\n",
       "</pre>\n"
      ],
      "text/plain": [
       "10:29:45.752 | \u001b[36mINFO\u001b[0m    | Flow run\u001b[35m 'nickel-iguana'\u001b[0m - Submitted task run 'query_pool_vol-8bdd8db3-10' for execution.\n"
      ]
     },
     "metadata": {},
     "output_type": "display_data"
    },
    {
     "data": {
      "text/html": [
       "<pre style=\"white-space:pre;overflow-x:auto;line-height:normal;font-family:Menlo,'DejaVu Sans Mono',consolas,'Courier New',monospace\">10:29:45.761 | <span style=\"color: #008080; text-decoration-color: #008080\">INFO</span>    | Flow run<span style=\"color: #800080; text-decoration-color: #800080\"> 'nickel-iguana'</span> - Created task run 'query_pool_snaps-60635b41-12' for task 'query_pool_snaps'\n",
       "</pre>\n"
      ],
      "text/plain": [
       "10:29:45.761 | \u001b[36mINFO\u001b[0m    | Flow run\u001b[35m 'nickel-iguana'\u001b[0m - Created task run 'query_pool_snaps-60635b41-12' for task 'query_pool_snaps'\n"
      ]
     },
     "metadata": {},
     "output_type": "display_data"
    },
    {
     "data": {
      "text/html": [
       "<pre style=\"white-space:pre;overflow-x:auto;line-height:normal;font-family:Menlo,'DejaVu Sans Mono',consolas,'Courier New',monospace\">10:29:45.762 | <span style=\"color: #008080; text-decoration-color: #008080\">INFO</span>    | Flow run<span style=\"color: #800080; text-decoration-color: #800080\"> 'nickel-iguana'</span> - Submitted task run 'query_pool_snaps-60635b41-12' for execution.\n",
       "</pre>\n"
      ],
      "text/plain": [
       "10:29:45.762 | \u001b[36mINFO\u001b[0m    | Flow run\u001b[35m 'nickel-iguana'\u001b[0m - Submitted task run 'query_pool_snaps-60635b41-12' for execution.\n"
      ]
     },
     "metadata": {},
     "output_type": "display_data"
    },
    {
     "data": {
      "text/html": [
       "<pre style=\"white-space:pre;overflow-x:auto;line-height:normal;font-family:Menlo,'DejaVu Sans Mono',consolas,'Courier New',monospace\">10:29:45.771 | <span style=\"color: #008080; text-decoration-color: #008080\">INFO</span>    | Flow run<span style=\"color: #800080; text-decoration-color: #800080\"> 'nickel-iguana'</span> - Created task run 'query_pool_snaps-60635b41-2' for task 'query_pool_snaps'\n",
       "</pre>\n"
      ],
      "text/plain": [
       "10:29:45.771 | \u001b[36mINFO\u001b[0m    | Flow run\u001b[35m 'nickel-iguana'\u001b[0m - Created task run 'query_pool_snaps-60635b41-2' for task 'query_pool_snaps'\n"
      ]
     },
     "metadata": {},
     "output_type": "display_data"
    },
    {
     "data": {
      "text/html": [
       "<pre style=\"white-space:pre;overflow-x:auto;line-height:normal;font-family:Menlo,'DejaVu Sans Mono',consolas,'Courier New',monospace\">10:29:45.772 | <span style=\"color: #008080; text-decoration-color: #008080\">INFO</span>    | Flow run<span style=\"color: #800080; text-decoration-color: #800080\"> 'nickel-iguana'</span> - Submitted task run 'query_pool_snaps-60635b41-2' for execution.\n",
       "</pre>\n"
      ],
      "text/plain": [
       "10:29:45.772 | \u001b[36mINFO\u001b[0m    | Flow run\u001b[35m 'nickel-iguana'\u001b[0m - Submitted task run 'query_pool_snaps-60635b41-2' for execution.\n"
      ]
     },
     "metadata": {},
     "output_type": "display_data"
    },
    {
     "data": {
      "text/html": [
       "<pre style=\"white-space:pre;overflow-x:auto;line-height:normal;font-family:Menlo,'DejaVu Sans Mono',consolas,'Courier New',monospace\">10:29:45.788 | <span style=\"color: #008080; text-decoration-color: #008080\">INFO</span>    | Flow run<span style=\"color: #800080; text-decoration-color: #800080\"> 'nickel-iguana'</span> - Created task run 'query_pool_snaps-60635b41-5' for task 'query_pool_snaps'\n",
       "</pre>\n"
      ],
      "text/plain": [
       "10:29:45.788 | \u001b[36mINFO\u001b[0m    | Flow run\u001b[35m 'nickel-iguana'\u001b[0m - Created task run 'query_pool_snaps-60635b41-5' for task 'query_pool_snaps'\n"
      ]
     },
     "metadata": {},
     "output_type": "display_data"
    },
    {
     "data": {
      "text/html": [
       "<pre style=\"white-space:pre;overflow-x:auto;line-height:normal;font-family:Menlo,'DejaVu Sans Mono',consolas,'Courier New',monospace\">10:29:45.789 | <span style=\"color: #008080; text-decoration-color: #008080\">INFO</span>    | Flow run<span style=\"color: #800080; text-decoration-color: #800080\"> 'nickel-iguana'</span> - Submitted task run 'query_pool_snaps-60635b41-5' for execution.\n",
       "</pre>\n"
      ],
      "text/plain": [
       "10:29:45.789 | \u001b[36mINFO\u001b[0m    | Flow run\u001b[35m 'nickel-iguana'\u001b[0m - Submitted task run 'query_pool_snaps-60635b41-5' for execution.\n"
      ]
     },
     "metadata": {},
     "output_type": "display_data"
    },
    {
     "data": {
      "text/html": [
       "<pre style=\"white-space:pre;overflow-x:auto;line-height:normal;font-family:Menlo,'DejaVu Sans Mono',consolas,'Courier New',monospace\">10:29:45.806 | <span style=\"color: #008080; text-decoration-color: #008080\">INFO</span>    | Flow run<span style=\"color: #800080; text-decoration-color: #800080\"> 'nickel-iguana'</span> - Created task run 'query_pool_vol-8bdd8db3-11' for task 'query_pool_vol'\n",
       "</pre>\n"
      ],
      "text/plain": [
       "10:29:45.806 | \u001b[36mINFO\u001b[0m    | Flow run\u001b[35m 'nickel-iguana'\u001b[0m - Created task run 'query_pool_vol-8bdd8db3-11' for task 'query_pool_vol'\n"
      ]
     },
     "metadata": {},
     "output_type": "display_data"
    },
    {
     "data": {
      "text/html": [
       "<pre style=\"white-space:pre;overflow-x:auto;line-height:normal;font-family:Menlo,'DejaVu Sans Mono',consolas,'Courier New',monospace\">10:29:45.806 | <span style=\"color: #008080; text-decoration-color: #008080\">INFO</span>    | Flow run<span style=\"color: #800080; text-decoration-color: #800080\"> 'nickel-iguana'</span> - Submitted task run 'query_pool_vol-8bdd8db3-11' for execution.\n",
       "</pre>\n"
      ],
      "text/plain": [
       "10:29:45.806 | \u001b[36mINFO\u001b[0m    | Flow run\u001b[35m 'nickel-iguana'\u001b[0m - Submitted task run 'query_pool_vol-8bdd8db3-11' for execution.\n"
      ]
     },
     "metadata": {},
     "output_type": "display_data"
    },
    {
     "data": {
      "text/html": [
       "<pre style=\"white-space:pre;overflow-x:auto;line-height:normal;font-family:Menlo,'DejaVu Sans Mono',consolas,'Courier New',monospace\">10:29:45.861 | <span style=\"color: #008080; text-decoration-color: #008080\">INFO</span>    | Flow run<span style=\"color: #800080; text-decoration-color: #800080\"> 'nickel-iguana'</span> - Created task run 'query_pool_snaps-60635b41-11' for task 'query_pool_snaps'\n",
       "</pre>\n"
      ],
      "text/plain": [
       "10:29:45.861 | \u001b[36mINFO\u001b[0m    | Flow run\u001b[35m 'nickel-iguana'\u001b[0m - Created task run 'query_pool_snaps-60635b41-11' for task 'query_pool_snaps'\n"
      ]
     },
     "metadata": {},
     "output_type": "display_data"
    },
    {
     "data": {
      "text/html": [
       "<pre style=\"white-space:pre;overflow-x:auto;line-height:normal;font-family:Menlo,'DejaVu Sans Mono',consolas,'Courier New',monospace\">10:29:45.862 | <span style=\"color: #008080; text-decoration-color: #008080\">INFO</span>    | Flow run<span style=\"color: #800080; text-decoration-color: #800080\"> 'nickel-iguana'</span> - Submitted task run 'query_pool_snaps-60635b41-11' for execution.\n",
       "</pre>\n"
      ],
      "text/plain": [
       "10:29:45.862 | \u001b[36mINFO\u001b[0m    | Flow run\u001b[35m 'nickel-iguana'\u001b[0m - Submitted task run 'query_pool_snaps-60635b41-11' for execution.\n"
      ]
     },
     "metadata": {},
     "output_type": "display_data"
    },
    {
     "data": {
      "text/html": [
       "<pre style=\"white-space:pre;overflow-x:auto;line-height:normal;font-family:Menlo,'DejaVu Sans Mono',consolas,'Courier New',monospace\">10:29:45.910 | <span style=\"color: #008080; text-decoration-color: #008080\">INFO</span>    | Flow run<span style=\"color: #800080; text-decoration-color: #800080\"> 'nickel-iguana'</span> - Created task run 'query_pool_snaps-60635b41-1' for task 'query_pool_snaps'\n",
       "</pre>\n"
      ],
      "text/plain": [
       "10:29:45.910 | \u001b[36mINFO\u001b[0m    | Flow run\u001b[35m 'nickel-iguana'\u001b[0m - Created task run 'query_pool_snaps-60635b41-1' for task 'query_pool_snaps'\n"
      ]
     },
     "metadata": {},
     "output_type": "display_data"
    },
    {
     "data": {
      "text/html": [
       "<pre style=\"white-space:pre;overflow-x:auto;line-height:normal;font-family:Menlo,'DejaVu Sans Mono',consolas,'Courier New',monospace\">10:29:45.911 | <span style=\"color: #008080; text-decoration-color: #008080\">INFO</span>    | Flow run<span style=\"color: #800080; text-decoration-color: #800080\"> 'nickel-iguana'</span> - Submitted task run 'query_pool_snaps-60635b41-1' for execution.\n",
       "</pre>\n"
      ],
      "text/plain": [
       "10:29:45.911 | \u001b[36mINFO\u001b[0m    | Flow run\u001b[35m 'nickel-iguana'\u001b[0m - Submitted task run 'query_pool_snaps-60635b41-1' for execution.\n"
      ]
     },
     "metadata": {},
     "output_type": "display_data"
    },
    {
     "data": {
      "text/html": [
       "<pre style=\"white-space:pre;overflow-x:auto;line-height:normal;font-family:Menlo,'DejaVu Sans Mono',consolas,'Courier New',monospace\">10:29:45.920 | <span style=\"color: #008080; text-decoration-color: #008080\">INFO</span>    | Flow run<span style=\"color: #800080; text-decoration-color: #800080\"> 'nickel-iguana'</span> - Created task run 'query_pool_vol-8bdd8db3-3' for task 'query_pool_vol'\n",
       "</pre>\n"
      ],
      "text/plain": [
       "10:29:45.920 | \u001b[36mINFO\u001b[0m    | Flow run\u001b[35m 'nickel-iguana'\u001b[0m - Created task run 'query_pool_vol-8bdd8db3-3' for task 'query_pool_vol'\n"
      ]
     },
     "metadata": {},
     "output_type": "display_data"
    },
    {
     "data": {
      "text/html": [
       "<pre style=\"white-space:pre;overflow-x:auto;line-height:normal;font-family:Menlo,'DejaVu Sans Mono',consolas,'Courier New',monospace\">10:29:45.920 | <span style=\"color: #008080; text-decoration-color: #008080\">INFO</span>    | Flow run<span style=\"color: #800080; text-decoration-color: #800080\"> 'nickel-iguana'</span> - Submitted task run 'query_pool_vol-8bdd8db3-3' for execution.\n",
       "</pre>\n"
      ],
      "text/plain": [
       "10:29:45.920 | \u001b[36mINFO\u001b[0m    | Flow run\u001b[35m 'nickel-iguana'\u001b[0m - Submitted task run 'query_pool_vol-8bdd8db3-3' for execution.\n"
      ]
     },
     "metadata": {},
     "output_type": "display_data"
    },
    {
     "data": {
      "text/html": [
       "<pre style=\"white-space:pre;overflow-x:auto;line-height:normal;font-family:Menlo,'DejaVu Sans Mono',consolas,'Courier New',monospace\">10:29:45.950 | <span style=\"color: #008080; text-decoration-color: #008080\">INFO</span>    | Flow run<span style=\"color: #800080; text-decoration-color: #800080\"> 'nickel-iguana'</span> - Created task run 'query_pool_vol-8bdd8db3-6' for task 'query_pool_vol'\n",
       "</pre>\n"
      ],
      "text/plain": [
       "10:29:45.950 | \u001b[36mINFO\u001b[0m    | Flow run\u001b[35m 'nickel-iguana'\u001b[0m - Created task run 'query_pool_vol-8bdd8db3-6' for task 'query_pool_vol'\n"
      ]
     },
     "metadata": {},
     "output_type": "display_data"
    },
    {
     "data": {
      "text/html": [
       "<pre style=\"white-space:pre;overflow-x:auto;line-height:normal;font-family:Menlo,'DejaVu Sans Mono',consolas,'Courier New',monospace\">10:29:45.950 | <span style=\"color: #008080; text-decoration-color: #008080\">INFO</span>    | Flow run<span style=\"color: #800080; text-decoration-color: #800080\"> 'nickel-iguana'</span> - Submitted task run 'query_pool_vol-8bdd8db3-6' for execution.\n",
       "</pre>\n"
      ],
      "text/plain": [
       "10:29:45.950 | \u001b[36mINFO\u001b[0m    | Flow run\u001b[35m 'nickel-iguana'\u001b[0m - Submitted task run 'query_pool_vol-8bdd8db3-6' for execution.\n"
      ]
     },
     "metadata": {},
     "output_type": "display_data"
    },
    {
     "data": {
      "text/html": [
       "<pre style=\"white-space:pre;overflow-x:auto;line-height:normal;font-family:Menlo,'DejaVu Sans Mono',consolas,'Courier New',monospace\">10:29:45.965 | <span style=\"color: #008080; text-decoration-color: #008080\">INFO</span>    | Flow run<span style=\"color: #800080; text-decoration-color: #800080\"> 'nickel-iguana'</span> - Created task run 'query_pool_vol-8bdd8db3-13' for task 'query_pool_vol'\n",
       "</pre>\n"
      ],
      "text/plain": [
       "10:29:45.965 | \u001b[36mINFO\u001b[0m    | Flow run\u001b[35m 'nickel-iguana'\u001b[0m - Created task run 'query_pool_vol-8bdd8db3-13' for task 'query_pool_vol'\n"
      ]
     },
     "metadata": {},
     "output_type": "display_data"
    },
    {
     "data": {
      "text/html": [
       "<pre style=\"white-space:pre;overflow-x:auto;line-height:normal;font-family:Menlo,'DejaVu Sans Mono',consolas,'Courier New',monospace\">10:29:45.966 | <span style=\"color: #008080; text-decoration-color: #008080\">INFO</span>    | Flow run<span style=\"color: #800080; text-decoration-color: #800080\"> 'nickel-iguana'</span> - Submitted task run 'query_pool_vol-8bdd8db3-13' for execution.\n",
       "</pre>\n"
      ],
      "text/plain": [
       "10:29:45.966 | \u001b[36mINFO\u001b[0m    | Flow run\u001b[35m 'nickel-iguana'\u001b[0m - Submitted task run 'query_pool_vol-8bdd8db3-13' for execution.\n"
      ]
     },
     "metadata": {},
     "output_type": "display_data"
    },
    {
     "data": {
      "text/html": [
       "<pre style=\"white-space:pre;overflow-x:auto;line-height:normal;font-family:Menlo,'DejaVu Sans Mono',consolas,'Courier New',monospace\">10:29:46.020 | <span style=\"color: #008080; text-decoration-color: #008080\">INFO</span>    | Flow run<span style=\"color: #800080; text-decoration-color: #800080\"> 'nickel-iguana'</span> - Created task run 'query_pool_vol-8bdd8db3-1' for task 'query_pool_vol'\n",
       "</pre>\n"
      ],
      "text/plain": [
       "10:29:46.020 | \u001b[36mINFO\u001b[0m    | Flow run\u001b[35m 'nickel-iguana'\u001b[0m - Created task run 'query_pool_vol-8bdd8db3-1' for task 'query_pool_vol'\n"
      ]
     },
     "metadata": {},
     "output_type": "display_data"
    },
    {
     "data": {
      "text/html": [
       "<pre style=\"white-space:pre;overflow-x:auto;line-height:normal;font-family:Menlo,'DejaVu Sans Mono',consolas,'Courier New',monospace\">10:29:46.021 | <span style=\"color: #008080; text-decoration-color: #008080\">INFO</span>    | Flow run<span style=\"color: #800080; text-decoration-color: #800080\"> 'nickel-iguana'</span> - Submitted task run 'query_pool_vol-8bdd8db3-1' for execution.\n",
       "</pre>\n"
      ],
      "text/plain": [
       "10:29:46.021 | \u001b[36mINFO\u001b[0m    | Flow run\u001b[35m 'nickel-iguana'\u001b[0m - Submitted task run 'query_pool_vol-8bdd8db3-1' for execution.\n"
      ]
     },
     "metadata": {},
     "output_type": "display_data"
    },
    {
     "data": {
      "text/html": [
       "<pre style=\"white-space:pre;overflow-x:auto;line-height:normal;font-family:Menlo,'DejaVu Sans Mono',consolas,'Courier New',monospace\">10:29:46.050 | <span style=\"color: #008080; text-decoration-color: #008080\">INFO</span>    | Flow run<span style=\"color: #800080; text-decoration-color: #800080\"> 'nickel-iguana'</span> - Created task run 'query_pool_snaps-60635b41-7' for task 'query_pool_snaps'\n",
       "</pre>\n"
      ],
      "text/plain": [
       "10:29:46.050 | \u001b[36mINFO\u001b[0m    | Flow run\u001b[35m 'nickel-iguana'\u001b[0m - Created task run 'query_pool_snaps-60635b41-7' for task 'query_pool_snaps'\n"
      ]
     },
     "metadata": {},
     "output_type": "display_data"
    },
    {
     "data": {
      "text/html": [
       "<pre style=\"white-space:pre;overflow-x:auto;line-height:normal;font-family:Menlo,'DejaVu Sans Mono',consolas,'Courier New',monospace\">10:29:46.050 | <span style=\"color: #008080; text-decoration-color: #008080\">INFO</span>    | Flow run<span style=\"color: #800080; text-decoration-color: #800080\"> 'nickel-iguana'</span> - Submitted task run 'query_pool_snaps-60635b41-7' for execution.\n",
       "</pre>\n"
      ],
      "text/plain": [
       "10:29:46.050 | \u001b[36mINFO\u001b[0m    | Flow run\u001b[35m 'nickel-iguana'\u001b[0m - Submitted task run 'query_pool_snaps-60635b41-7' for execution.\n"
      ]
     },
     "metadata": {},
     "output_type": "display_data"
    },
    {
     "data": {
      "text/html": [
       "<pre style=\"white-space:pre;overflow-x:auto;line-height:normal;font-family:Menlo,'DejaVu Sans Mono',consolas,'Courier New',monospace\">10:29:46.059 | <span style=\"color: #008080; text-decoration-color: #008080\">INFO</span>    | Task run 'query_pool_snaps-60635b41-13' - Finished in state <span style=\"color: #008000; text-decoration-color: #008000\">Completed</span>()\n",
       "</pre>\n"
      ],
      "text/plain": [
       "10:29:46.059 | \u001b[36mINFO\u001b[0m    | Task run 'query_pool_snaps-60635b41-13' - Finished in state \u001b[32mCompleted\u001b[0m()\n"
      ]
     },
     "metadata": {},
     "output_type": "display_data"
    },
    {
     "data": {
      "text/html": [
       "<pre style=\"white-space:pre;overflow-x:auto;line-height:normal;font-family:Menlo,'DejaVu Sans Mono',consolas,'Courier New',monospace\">10:29:46.154 | <span style=\"color: #008080; text-decoration-color: #008080\">INFO</span>    | Task run 'query_pool_vol-8bdd8db3-11' - Finished in state <span style=\"color: #008000; text-decoration-color: #008000\">Completed</span>()\n",
       "</pre>\n"
      ],
      "text/plain": [
       "10:29:46.154 | \u001b[36mINFO\u001b[0m    | Task run 'query_pool_vol-8bdd8db3-11' - Finished in state \u001b[32mCompleted\u001b[0m()\n"
      ]
     },
     "metadata": {},
     "output_type": "display_data"
    },
    {
     "data": {
      "text/html": [
       "<pre style=\"white-space:pre;overflow-x:auto;line-height:normal;font-family:Menlo,'DejaVu Sans Mono',consolas,'Courier New',monospace\">10:29:46.159 | <span style=\"color: #008080; text-decoration-color: #008080\">INFO</span>    | Task run 'query_pool_vol-8bdd8db3-0' - Finished in state <span style=\"color: #008000; text-decoration-color: #008000\">Completed</span>()\n",
       "</pre>\n"
      ],
      "text/plain": [
       "10:29:46.159 | \u001b[36mINFO\u001b[0m    | Task run 'query_pool_vol-8bdd8db3-0' - Finished in state \u001b[32mCompleted\u001b[0m()\n"
      ]
     },
     "metadata": {},
     "output_type": "display_data"
    },
    {
     "data": {
      "text/html": [
       "<pre style=\"white-space:pre;overflow-x:auto;line-height:normal;font-family:Menlo,'DejaVu Sans Mono',consolas,'Courier New',monospace\">10:29:46.185 | <span style=\"color: #008080; text-decoration-color: #008080\">INFO</span>    | Task run 'query_pool_vol-8bdd8db3-13' - Finished in state <span style=\"color: #008000; text-decoration-color: #008000\">Completed</span>()\n",
       "</pre>\n"
      ],
      "text/plain": [
       "10:29:46.185 | \u001b[36mINFO\u001b[0m    | Task run 'query_pool_vol-8bdd8db3-13' - Finished in state \u001b[32mCompleted\u001b[0m()\n"
      ]
     },
     "metadata": {},
     "output_type": "display_data"
    },
    {
     "data": {
      "text/html": [
       "<pre style=\"white-space:pre;overflow-x:auto;line-height:normal;font-family:Menlo,'DejaVu Sans Mono',consolas,'Courier New',monospace\">10:29:46.210 | <span style=\"color: #008080; text-decoration-color: #008080\">INFO</span>    | Task run 'query_pool_snaps-60635b41-0' - Finished in state <span style=\"color: #008000; text-decoration-color: #008000\">Completed</span>()\n",
       "</pre>\n"
      ],
      "text/plain": [
       "10:29:46.210 | \u001b[36mINFO\u001b[0m    | Task run 'query_pool_snaps-60635b41-0' - Finished in state \u001b[32mCompleted\u001b[0m()\n"
      ]
     },
     "metadata": {},
     "output_type": "display_data"
    },
    {
     "data": {
      "text/html": [
       "<pre style=\"white-space:pre;overflow-x:auto;line-height:normal;font-family:Menlo,'DejaVu Sans Mono',consolas,'Courier New',monospace\">10:29:46.249 | <span style=\"color: #008080; text-decoration-color: #008080\">INFO</span>    | Flow run<span style=\"color: #800080; text-decoration-color: #800080\"> 'nickel-iguana'</span> - Created task run 'query_pool_snaps-60635b41-8' for task 'query_pool_snaps'\n",
       "</pre>\n"
      ],
      "text/plain": [
       "10:29:46.249 | \u001b[36mINFO\u001b[0m    | Flow run\u001b[35m 'nickel-iguana'\u001b[0m - Created task run 'query_pool_snaps-60635b41-8' for task 'query_pool_snaps'\n"
      ]
     },
     "metadata": {},
     "output_type": "display_data"
    },
    {
     "data": {
      "text/html": [
       "<pre style=\"white-space:pre;overflow-x:auto;line-height:normal;font-family:Menlo,'DejaVu Sans Mono',consolas,'Courier New',monospace\">10:29:46.250 | <span style=\"color: #008080; text-decoration-color: #008080\">INFO</span>    | Flow run<span style=\"color: #800080; text-decoration-color: #800080\"> 'nickel-iguana'</span> - Submitted task run 'query_pool_snaps-60635b41-8' for execution.\n",
       "</pre>\n"
      ],
      "text/plain": [
       "10:29:46.250 | \u001b[36mINFO\u001b[0m    | Flow run\u001b[35m 'nickel-iguana'\u001b[0m - Submitted task run 'query_pool_snaps-60635b41-8' for execution.\n"
      ]
     },
     "metadata": {},
     "output_type": "display_data"
    },
    {
     "data": {
      "text/html": [
       "<pre style=\"white-space:pre;overflow-x:auto;line-height:normal;font-family:Menlo,'DejaVu Sans Mono',consolas,'Courier New',monospace\">10:29:46.275 | <span style=\"color: #008080; text-decoration-color: #008080\">INFO</span>    | Flow run<span style=\"color: #800080; text-decoration-color: #800080\"> 'nickel-iguana'</span> - Created task run 'query_pool_snaps-60635b41-9' for task 'query_pool_snaps'\n",
       "</pre>\n"
      ],
      "text/plain": [
       "10:29:46.275 | \u001b[36mINFO\u001b[0m    | Flow run\u001b[35m 'nickel-iguana'\u001b[0m - Created task run 'query_pool_snaps-60635b41-9' for task 'query_pool_snaps'\n"
      ]
     },
     "metadata": {},
     "output_type": "display_data"
    },
    {
     "data": {
      "text/html": [
       "<pre style=\"white-space:pre;overflow-x:auto;line-height:normal;font-family:Menlo,'DejaVu Sans Mono',consolas,'Courier New',monospace\">10:29:46.276 | <span style=\"color: #008080; text-decoration-color: #008080\">INFO</span>    | Flow run<span style=\"color: #800080; text-decoration-color: #800080\"> 'nickel-iguana'</span> - Submitted task run 'query_pool_snaps-60635b41-9' for execution.\n",
       "</pre>\n"
      ],
      "text/plain": [
       "10:29:46.276 | \u001b[36mINFO\u001b[0m    | Flow run\u001b[35m 'nickel-iguana'\u001b[0m - Submitted task run 'query_pool_snaps-60635b41-9' for execution.\n"
      ]
     },
     "metadata": {},
     "output_type": "display_data"
    },
    {
     "data": {
      "text/html": [
       "<pre style=\"white-space:pre;overflow-x:auto;line-height:normal;font-family:Menlo,'DejaVu Sans Mono',consolas,'Courier New',monospace\">10:29:46.301 | <span style=\"color: #008080; text-decoration-color: #008080\">INFO</span>    | Task run 'query_pool_snaps-60635b41-2' - Finished in state <span style=\"color: #008000; text-decoration-color: #008000\">Completed</span>()\n",
       "</pre>\n"
      ],
      "text/plain": [
       "10:29:46.301 | \u001b[36mINFO\u001b[0m    | Task run 'query_pool_snaps-60635b41-2' - Finished in state \u001b[32mCompleted\u001b[0m()\n"
      ]
     },
     "metadata": {},
     "output_type": "display_data"
    },
    {
     "data": {
      "text/html": [
       "<pre style=\"white-space:pre;overflow-x:auto;line-height:normal;font-family:Menlo,'DejaVu Sans Mono',consolas,'Courier New',monospace\">10:29:46.321 | <span style=\"color: #008080; text-decoration-color: #008080\">INFO</span>    | Task run 'query_pool_snaps-60635b41-6' - Finished in state <span style=\"color: #008000; text-decoration-color: #008000\">Completed</span>()\n",
       "</pre>\n"
      ],
      "text/plain": [
       "10:29:46.321 | \u001b[36mINFO\u001b[0m    | Task run 'query_pool_snaps-60635b41-6' - Finished in state \u001b[32mCompleted\u001b[0m()\n"
      ]
     },
     "metadata": {},
     "output_type": "display_data"
    },
    {
     "data": {
      "text/html": [
       "<pre style=\"white-space:pre;overflow-x:auto;line-height:normal;font-family:Menlo,'DejaVu Sans Mono',consolas,'Courier New',monospace\">10:29:46.348 | <span style=\"color: #008080; text-decoration-color: #008080\">INFO</span>    | Task run 'query_pool_snaps-60635b41-12' - Finished in state <span style=\"color: #008000; text-decoration-color: #008000\">Completed</span>()\n",
       "</pre>\n"
      ],
      "text/plain": [
       "10:29:46.348 | \u001b[36mINFO\u001b[0m    | Task run 'query_pool_snaps-60635b41-12' - Finished in state \u001b[32mCompleted\u001b[0m()\n"
      ]
     },
     "metadata": {},
     "output_type": "display_data"
    },
    {
     "data": {
      "text/html": [
       "<pre style=\"white-space:pre;overflow-x:auto;line-height:normal;font-family:Menlo,'DejaVu Sans Mono',consolas,'Courier New',monospace\">10:29:46.355 | <span style=\"color: #008080; text-decoration-color: #008080\">INFO</span>    | Flow run<span style=\"color: #800080; text-decoration-color: #800080\"> 'nickel-iguana'</span> - Created task run 'query_pool_snaps-60635b41-10' for task 'query_pool_snaps'\n",
       "</pre>\n"
      ],
      "text/plain": [
       "10:29:46.355 | \u001b[36mINFO\u001b[0m    | Flow run\u001b[35m 'nickel-iguana'\u001b[0m - Created task run 'query_pool_snaps-60635b41-10' for task 'query_pool_snaps'\n"
      ]
     },
     "metadata": {},
     "output_type": "display_data"
    },
    {
     "data": {
      "text/html": [
       "<pre style=\"white-space:pre;overflow-x:auto;line-height:normal;font-family:Menlo,'DejaVu Sans Mono',consolas,'Courier New',monospace\">10:29:46.356 | <span style=\"color: #008080; text-decoration-color: #008080\">INFO</span>    | Flow run<span style=\"color: #800080; text-decoration-color: #800080\"> 'nickel-iguana'</span> - Submitted task run 'query_pool_snaps-60635b41-10' for execution.\n",
       "</pre>\n"
      ],
      "text/plain": [
       "10:29:46.356 | \u001b[36mINFO\u001b[0m    | Flow run\u001b[35m 'nickel-iguana'\u001b[0m - Submitted task run 'query_pool_snaps-60635b41-10' for execution.\n"
      ]
     },
     "metadata": {},
     "output_type": "display_data"
    },
    {
     "data": {
      "text/html": [
       "<pre style=\"white-space:pre;overflow-x:auto;line-height:normal;font-family:Menlo,'DejaVu Sans Mono',consolas,'Courier New',monospace\">10:29:46.384 | <span style=\"color: #008080; text-decoration-color: #008080\">INFO</span>    | Task run 'query_pool_snaps-60635b41-1' - Finished in state <span style=\"color: #008000; text-decoration-color: #008000\">Completed</span>()\n",
       "</pre>\n"
      ],
      "text/plain": [
       "10:29:46.384 | \u001b[36mINFO\u001b[0m    | Task run 'query_pool_snaps-60635b41-1' - Finished in state \u001b[32mCompleted\u001b[0m()\n"
      ]
     },
     "metadata": {},
     "output_type": "display_data"
    },
    {
     "data": {
      "text/html": [
       "<pre style=\"white-space:pre;overflow-x:auto;line-height:normal;font-family:Menlo,'DejaVu Sans Mono',consolas,'Courier New',monospace\">10:29:46.422 | <span style=\"color: #008080; text-decoration-color: #008080\">INFO</span>    | Task run 'query_pool_vol-8bdd8db3-9' - Finished in state <span style=\"color: #008000; text-decoration-color: #008000\">Completed</span>()\n",
       "</pre>\n"
      ],
      "text/plain": [
       "10:29:46.422 | \u001b[36mINFO\u001b[0m    | Task run 'query_pool_vol-8bdd8db3-9' - Finished in state \u001b[32mCompleted\u001b[0m()\n"
      ]
     },
     "metadata": {},
     "output_type": "display_data"
    },
    {
     "data": {
      "text/html": [
       "<pre style=\"white-space:pre;overflow-x:auto;line-height:normal;font-family:Menlo,'DejaVu Sans Mono',consolas,'Courier New',monospace\">10:29:46.428 | <span style=\"color: #008080; text-decoration-color: #008080\">INFO</span>    | Task run 'query_pool_vol-8bdd8db3-7' - Finished in state <span style=\"color: #008000; text-decoration-color: #008000\">Completed</span>()\n",
       "</pre>\n"
      ],
      "text/plain": [
       "10:29:46.428 | \u001b[36mINFO\u001b[0m    | Task run 'query_pool_vol-8bdd8db3-7' - Finished in state \u001b[32mCompleted\u001b[0m()\n"
      ]
     },
     "metadata": {},
     "output_type": "display_data"
    },
    {
     "data": {
      "text/html": [
       "<pre style=\"white-space:pre;overflow-x:auto;line-height:normal;font-family:Menlo,'DejaVu Sans Mono',consolas,'Courier New',monospace\">10:29:46.442 | <span style=\"color: #008080; text-decoration-color: #008080\">INFO</span>    | Task run 'query_pool_vol-8bdd8db3-5' - Finished in state <span style=\"color: #008000; text-decoration-color: #008000\">Completed</span>()\n",
       "</pre>\n"
      ],
      "text/plain": [
       "10:29:46.442 | \u001b[36mINFO\u001b[0m    | Task run 'query_pool_vol-8bdd8db3-5' - Finished in state \u001b[32mCompleted\u001b[0m()\n"
      ]
     },
     "metadata": {},
     "output_type": "display_data"
    },
    {
     "data": {
      "text/html": [
       "<pre style=\"white-space:pre;overflow-x:auto;line-height:normal;font-family:Menlo,'DejaVu Sans Mono',consolas,'Courier New',monospace\">10:29:46.447 | <span style=\"color: #008080; text-decoration-color: #008080\">INFO</span>    | Flow run<span style=\"color: #800080; text-decoration-color: #800080\"> 'nickel-iguana'</span> - Created task run 'query_pool_snaps-60635b41-4' for task 'query_pool_snaps'\n",
       "</pre>\n"
      ],
      "text/plain": [
       "10:29:46.447 | \u001b[36mINFO\u001b[0m    | Flow run\u001b[35m 'nickel-iguana'\u001b[0m - Created task run 'query_pool_snaps-60635b41-4' for task 'query_pool_snaps'\n"
      ]
     },
     "metadata": {},
     "output_type": "display_data"
    },
    {
     "data": {
      "text/html": [
       "<pre style=\"white-space:pre;overflow-x:auto;line-height:normal;font-family:Menlo,'DejaVu Sans Mono',consolas,'Courier New',monospace\">10:29:46.448 | <span style=\"color: #008080; text-decoration-color: #008080\">INFO</span>    | Flow run<span style=\"color: #800080; text-decoration-color: #800080\"> 'nickel-iguana'</span> - Submitted task run 'query_pool_snaps-60635b41-4' for execution.\n",
       "</pre>\n"
      ],
      "text/plain": [
       "10:29:46.448 | \u001b[36mINFO\u001b[0m    | Flow run\u001b[35m 'nickel-iguana'\u001b[0m - Submitted task run 'query_pool_snaps-60635b41-4' for execution.\n"
      ]
     },
     "metadata": {},
     "output_type": "display_data"
    },
    {
     "data": {
      "text/html": [
       "<pre style=\"white-space:pre;overflow-x:auto;line-height:normal;font-family:Menlo,'DejaVu Sans Mono',consolas,'Courier New',monospace\">10:29:46.475 | <span style=\"color: #008080; text-decoration-color: #008080\">INFO</span>    | Flow run<span style=\"color: #800080; text-decoration-color: #800080\"> 'nickel-iguana'</span> - Created task run 'query_pool_vol-8bdd8db3-8' for task 'query_pool_vol'\n",
       "</pre>\n"
      ],
      "text/plain": [
       "10:29:46.475 | \u001b[36mINFO\u001b[0m    | Flow run\u001b[35m 'nickel-iguana'\u001b[0m - Created task run 'query_pool_vol-8bdd8db3-8' for task 'query_pool_vol'\n"
      ]
     },
     "metadata": {},
     "output_type": "display_data"
    },
    {
     "data": {
      "text/html": [
       "<pre style=\"white-space:pre;overflow-x:auto;line-height:normal;font-family:Menlo,'DejaVu Sans Mono',consolas,'Courier New',monospace\">10:29:46.476 | <span style=\"color: #008080; text-decoration-color: #008080\">INFO</span>    | Flow run<span style=\"color: #800080; text-decoration-color: #800080\"> 'nickel-iguana'</span> - Submitted task run 'query_pool_vol-8bdd8db3-8' for execution.\n",
       "</pre>\n"
      ],
      "text/plain": [
       "10:29:46.476 | \u001b[36mINFO\u001b[0m    | Flow run\u001b[35m 'nickel-iguana'\u001b[0m - Submitted task run 'query_pool_vol-8bdd8db3-8' for execution.\n"
      ]
     },
     "metadata": {},
     "output_type": "display_data"
    },
    {
     "data": {
      "text/html": [
       "<pre style=\"white-space:pre;overflow-x:auto;line-height:normal;font-family:Menlo,'DejaVu Sans Mono',consolas,'Courier New',monospace\">10:29:46.492 | <span style=\"color: #008080; text-decoration-color: #008080\">INFO</span>    | Task run 'query_pool_snaps-60635b41-11' - Finished in state <span style=\"color: #008000; text-decoration-color: #008000\">Completed</span>()\n",
       "</pre>\n"
      ],
      "text/plain": [
       "10:29:46.492 | \u001b[36mINFO\u001b[0m    | Task run 'query_pool_snaps-60635b41-11' - Finished in state \u001b[32mCompleted\u001b[0m()\n"
      ]
     },
     "metadata": {},
     "output_type": "display_data"
    },
    {
     "data": {
      "text/html": [
       "<pre style=\"white-space:pre;overflow-x:auto;line-height:normal;font-family:Menlo,'DejaVu Sans Mono',consolas,'Courier New',monospace\">10:29:46.497 | <span style=\"color: #008080; text-decoration-color: #008080\">INFO</span>    | Task run 'query_pool_vol-8bdd8db3-4' - Finished in state <span style=\"color: #008000; text-decoration-color: #008000\">Completed</span>()\n",
       "</pre>\n"
      ],
      "text/plain": [
       "10:29:46.497 | \u001b[36mINFO\u001b[0m    | Task run 'query_pool_vol-8bdd8db3-4' - Finished in state \u001b[32mCompleted\u001b[0m()\n"
      ]
     },
     "metadata": {},
     "output_type": "display_data"
    },
    {
     "data": {
      "text/html": [
       "<pre style=\"white-space:pre;overflow-x:auto;line-height:normal;font-family:Menlo,'DejaVu Sans Mono',consolas,'Courier New',monospace\">10:29:46.501 | <span style=\"color: #008080; text-decoration-color: #008080\">INFO</span>    | Task run 'query_pool_snaps-60635b41-5' - Finished in state <span style=\"color: #008000; text-decoration-color: #008000\">Completed</span>()\n",
       "</pre>\n"
      ],
      "text/plain": [
       "10:29:46.501 | \u001b[36mINFO\u001b[0m    | Task run 'query_pool_snaps-60635b41-5' - Finished in state \u001b[32mCompleted\u001b[0m()\n"
      ]
     },
     "metadata": {},
     "output_type": "display_data"
    },
    {
     "data": {
      "text/html": [
       "<pre style=\"white-space:pre;overflow-x:auto;line-height:normal;font-family:Menlo,'DejaVu Sans Mono',consolas,'Courier New',monospace\">10:29:46.571 | <span style=\"color: #008080; text-decoration-color: #008080\">INFO</span>    | Task run 'query_pool_vol-8bdd8db3-10' - Finished in state <span style=\"color: #008000; text-decoration-color: #008000\">Completed</span>()\n",
       "</pre>\n"
      ],
      "text/plain": [
       "10:29:46.571 | \u001b[36mINFO\u001b[0m    | Task run 'query_pool_vol-8bdd8db3-10' - Finished in state \u001b[32mCompleted\u001b[0m()\n"
      ]
     },
     "metadata": {},
     "output_type": "display_data"
    },
    {
     "data": {
      "text/html": [
       "<pre style=\"white-space:pre;overflow-x:auto;line-height:normal;font-family:Menlo,'DejaVu Sans Mono',consolas,'Courier New',monospace\">10:29:46.578 | <span style=\"color: #008080; text-decoration-color: #008080\">INFO</span>    | Task run 'query_pool_snaps-60635b41-7' - Finished in state <span style=\"color: #008000; text-decoration-color: #008000\">Completed</span>()\n",
       "</pre>\n"
      ],
      "text/plain": [
       "10:29:46.578 | \u001b[36mINFO\u001b[0m    | Task run 'query_pool_snaps-60635b41-7' - Finished in state \u001b[32mCompleted\u001b[0m()\n"
      ]
     },
     "metadata": {},
     "output_type": "display_data"
    },
    {
     "data": {
      "text/html": [
       "<pre style=\"white-space:pre;overflow-x:auto;line-height:normal;font-family:Menlo,'DejaVu Sans Mono',consolas,'Courier New',monospace\">10:29:46.587 | <span style=\"color: #008080; text-decoration-color: #008080\">INFO</span>    | Task run 'query_pool_vol-8bdd8db3-12' - Finished in state <span style=\"color: #008000; text-decoration-color: #008000\">Completed</span>()\n",
       "</pre>\n"
      ],
      "text/plain": [
       "10:29:46.587 | \u001b[36mINFO\u001b[0m    | Task run 'query_pool_vol-8bdd8db3-12' - Finished in state \u001b[32mCompleted\u001b[0m()\n"
      ]
     },
     "metadata": {},
     "output_type": "display_data"
    },
    {
     "data": {
      "text/html": [
       "<pre style=\"white-space:pre;overflow-x:auto;line-height:normal;font-family:Menlo,'DejaVu Sans Mono',consolas,'Courier New',monospace\">10:29:46.613 | <span style=\"color: #008080; text-decoration-color: #008080\">INFO</span>    | Task run 'query_pool_vol-8bdd8db3-6' - Finished in state <span style=\"color: #008000; text-decoration-color: #008000\">Completed</span>()\n",
       "</pre>\n"
      ],
      "text/plain": [
       "10:29:46.613 | \u001b[36mINFO\u001b[0m    | Task run 'query_pool_vol-8bdd8db3-6' - Finished in state \u001b[32mCompleted\u001b[0m()\n"
      ]
     },
     "metadata": {},
     "output_type": "display_data"
    },
    {
     "data": {
      "text/html": [
       "<pre style=\"white-space:pre;overflow-x:auto;line-height:normal;font-family:Menlo,'DejaVu Sans Mono',consolas,'Courier New',monospace\">10:29:46.664 | <span style=\"color: #008080; text-decoration-color: #008080\">INFO</span>    | Task run 'query_pool_snaps-60635b41-3' - Finished in state <span style=\"color: #008000; text-decoration-color: #008000\">Completed</span>()\n",
       "</pre>\n"
      ],
      "text/plain": [
       "10:29:46.664 | \u001b[36mINFO\u001b[0m    | Task run 'query_pool_snaps-60635b41-3' - Finished in state \u001b[32mCompleted\u001b[0m()\n"
      ]
     },
     "metadata": {},
     "output_type": "display_data"
    },
    {
     "data": {
      "text/html": [
       "<pre style=\"white-space:pre;overflow-x:auto;line-height:normal;font-family:Menlo,'DejaVu Sans Mono',consolas,'Courier New',monospace\">10:29:46.673 | <span style=\"color: #008080; text-decoration-color: #008080\">INFO</span>    | Task run 'query_pool_vol-8bdd8db3-3' - Finished in state <span style=\"color: #008000; text-decoration-color: #008000\">Completed</span>()\n",
       "</pre>\n"
      ],
      "text/plain": [
       "10:29:46.673 | \u001b[36mINFO\u001b[0m    | Task run 'query_pool_vol-8bdd8db3-3' - Finished in state \u001b[32mCompleted\u001b[0m()\n"
      ]
     },
     "metadata": {},
     "output_type": "display_data"
    },
    {
     "data": {
      "text/html": [
       "<pre style=\"white-space:pre;overflow-x:auto;line-height:normal;font-family:Menlo,'DejaVu Sans Mono',consolas,'Courier New',monospace\">10:29:46.697 | <span style=\"color: #008080; text-decoration-color: #008080\">INFO</span>    | Task run 'query_pool_vol-8bdd8db3-8' - Finished in state <span style=\"color: #008000; text-decoration-color: #008000\">Completed</span>()\n",
       "</pre>\n"
      ],
      "text/plain": [
       "10:29:46.697 | \u001b[36mINFO\u001b[0m    | Task run 'query_pool_vol-8bdd8db3-8' - Finished in state \u001b[32mCompleted\u001b[0m()\n"
      ]
     },
     "metadata": {},
     "output_type": "display_data"
    },
    {
     "data": {
      "text/html": [
       "<pre style=\"white-space:pre;overflow-x:auto;line-height:normal;font-family:Menlo,'DejaVu Sans Mono',consolas,'Courier New',monospace\">10:29:46.767 | <span style=\"color: #008080; text-decoration-color: #008080\">INFO</span>    | Task run 'query_pool_snaps-60635b41-8' - Finished in state <span style=\"color: #008000; text-decoration-color: #008000\">Completed</span>()\n",
       "</pre>\n"
      ],
      "text/plain": [
       "10:29:46.767 | \u001b[36mINFO\u001b[0m    | Task run 'query_pool_snaps-60635b41-8' - Finished in state \u001b[32mCompleted\u001b[0m()\n"
      ]
     },
     "metadata": {},
     "output_type": "display_data"
    },
    {
     "data": {
      "text/html": [
       "<pre style=\"white-space:pre;overflow-x:auto;line-height:normal;font-family:Menlo,'DejaVu Sans Mono',consolas,'Courier New',monospace\">10:29:46.772 | <span style=\"color: #008080; text-decoration-color: #008080\">INFO</span>    | Task run 'query_pool_snaps-60635b41-10' - Finished in state <span style=\"color: #008000; text-decoration-color: #008000\">Completed</span>()\n",
       "</pre>\n"
      ],
      "text/plain": [
       "10:29:46.772 | \u001b[36mINFO\u001b[0m    | Task run 'query_pool_snaps-60635b41-10' - Finished in state \u001b[32mCompleted\u001b[0m()\n"
      ]
     },
     "metadata": {},
     "output_type": "display_data"
    },
    {
     "data": {
      "text/html": [
       "<pre style=\"white-space:pre;overflow-x:auto;line-height:normal;font-family:Menlo,'DejaVu Sans Mono',consolas,'Courier New',monospace\">10:29:46.777 | <span style=\"color: #008080; text-decoration-color: #008080\">INFO</span>    | Task run 'query_pool_snaps-60635b41-9' - Finished in state <span style=\"color: #008000; text-decoration-color: #008000\">Completed</span>()\n",
       "</pre>\n"
      ],
      "text/plain": [
       "10:29:46.777 | \u001b[36mINFO\u001b[0m    | Task run 'query_pool_snaps-60635b41-9' - Finished in state \u001b[32mCompleted\u001b[0m()\n"
      ]
     },
     "metadata": {},
     "output_type": "display_data"
    },
    {
     "data": {
      "text/html": [
       "<pre style=\"white-space:pre;overflow-x:auto;line-height:normal;font-family:Menlo,'DejaVu Sans Mono',consolas,'Courier New',monospace\">10:29:46.843 | <span style=\"color: #008080; text-decoration-color: #008080\">INFO</span>    | Task run 'query_pool_vol-8bdd8db3-1' - Finished in state <span style=\"color: #008000; text-decoration-color: #008000\">Completed</span>()\n",
       "</pre>\n"
      ],
      "text/plain": [
       "10:29:46.843 | \u001b[36mINFO\u001b[0m    | Task run 'query_pool_vol-8bdd8db3-1' - Finished in state \u001b[32mCompleted\u001b[0m()\n"
      ]
     },
     "metadata": {},
     "output_type": "display_data"
    },
    {
     "data": {
      "text/html": [
       "<pre style=\"white-space:pre;overflow-x:auto;line-height:normal;font-family:Menlo,'DejaVu Sans Mono',consolas,'Courier New',monospace\">10:29:46.926 | <span style=\"color: #008080; text-decoration-color: #008080\">INFO</span>    | Task run 'query_pool_snaps-60635b41-4' - Finished in state <span style=\"color: #008000; text-decoration-color: #008000\">Completed</span>()\n",
       "</pre>\n"
      ],
      "text/plain": [
       "10:29:46.926 | \u001b[36mINFO\u001b[0m    | Task run 'query_pool_snaps-60635b41-4' - Finished in state \u001b[32mCompleted\u001b[0m()\n"
      ]
     },
     "metadata": {},
     "output_type": "display_data"
    },
    {
     "data": {
      "text/html": [
       "<pre style=\"white-space:pre;overflow-x:auto;line-height:normal;font-family:Menlo,'DejaVu Sans Mono',consolas,'Courier New',monospace\">10:29:46.989 | <span style=\"color: #008080; text-decoration-color: #008080\">INFO</span>    | Task run 'query_pool_vol-8bdd8db3-2' - Finished in state <span style=\"color: #008000; text-decoration-color: #008000\">Completed</span>()\n",
       "</pre>\n"
      ],
      "text/plain": [
       "10:29:46.989 | \u001b[36mINFO\u001b[0m    | Task run 'query_pool_vol-8bdd8db3-2' - Finished in state \u001b[32mCompleted\u001b[0m()\n"
      ]
     },
     "metadata": {},
     "output_type": "display_data"
    },
    {
     "data": {
      "text/html": [
       "<pre style=\"white-space:pre;overflow-x:auto;line-height:normal;font-family:Menlo,'DejaVu Sans Mono',consolas,'Courier New',monospace\">10:29:46.999 | <span style=\"color: #008080; text-decoration-color: #008080\">INFO</span>    | Flow run<span style=\"color: #800080; text-decoration-color: #800080\"> 'nickel-iguana'</span> - Created task run 'process_pool_snaps-bb91f77b-0' for task 'process_pool_snaps'\n",
       "</pre>\n"
      ],
      "text/plain": [
       "10:29:46.999 | \u001b[36mINFO\u001b[0m    | Flow run\u001b[35m 'nickel-iguana'\u001b[0m - Created task run 'process_pool_snaps-bb91f77b-0' for task 'process_pool_snaps'\n"
      ]
     },
     "metadata": {},
     "output_type": "display_data"
    },
    {
     "data": {
      "text/html": [
       "<pre style=\"white-space:pre;overflow-x:auto;line-height:normal;font-family:Menlo,'DejaVu Sans Mono',consolas,'Courier New',monospace\">10:29:46.999 | <span style=\"color: #008080; text-decoration-color: #008080\">INFO</span>    | Flow run<span style=\"color: #800080; text-decoration-color: #800080\"> 'nickel-iguana'</span> - Executing 'process_pool_snaps-bb91f77b-0' immediately...\n",
       "</pre>\n"
      ],
      "text/plain": [
       "10:29:46.999 | \u001b[36mINFO\u001b[0m    | Flow run\u001b[35m 'nickel-iguana'\u001b[0m - Executing 'process_pool_snaps-bb91f77b-0' immediately...\n"
      ]
     },
     "metadata": {},
     "output_type": "display_data"
    },
    {
     "data": {
      "text/html": [
       "<pre style=\"white-space:pre;overflow-x:auto;line-height:normal;font-family:Menlo,'DejaVu Sans Mono',consolas,'Courier New',monospace\">10:29:47.021 | <span style=\"color: #008080; text-decoration-color: #008080\">INFO</span>    | Task run 'process_pool_snaps-bb91f77b-0' - Finished in state <span style=\"color: #008000; text-decoration-color: #008000\">Completed</span>()\n",
       "</pre>\n"
      ],
      "text/plain": [
       "10:29:47.021 | \u001b[36mINFO\u001b[0m    | Task run 'process_pool_snaps-bb91f77b-0' - Finished in state \u001b[32mCompleted\u001b[0m()\n"
      ]
     },
     "metadata": {},
     "output_type": "display_data"
    },
    {
     "data": {
      "text/html": [
       "<pre style=\"white-space:pre;overflow-x:auto;line-height:normal;font-family:Menlo,'DejaVu Sans Mono',consolas,'Courier New',monospace\">10:29:47.029 | <span style=\"color: #008080; text-decoration-color: #008080\">INFO</span>    | Flow run<span style=\"color: #800080; text-decoration-color: #800080\"> 'nickel-iguana'</span> - Created task run 'process_pool_snaps-bb91f77b-1' for task 'process_pool_snaps'\n",
       "</pre>\n"
      ],
      "text/plain": [
       "10:29:47.029 | \u001b[36mINFO\u001b[0m    | Flow run\u001b[35m 'nickel-iguana'\u001b[0m - Created task run 'process_pool_snaps-bb91f77b-1' for task 'process_pool_snaps'\n"
      ]
     },
     "metadata": {},
     "output_type": "display_data"
    },
    {
     "data": {
      "text/html": [
       "<pre style=\"white-space:pre;overflow-x:auto;line-height:normal;font-family:Menlo,'DejaVu Sans Mono',consolas,'Courier New',monospace\">10:29:47.030 | <span style=\"color: #008080; text-decoration-color: #008080\">INFO</span>    | Flow run<span style=\"color: #800080; text-decoration-color: #800080\"> 'nickel-iguana'</span> - Executing 'process_pool_snaps-bb91f77b-1' immediately...\n",
       "</pre>\n"
      ],
      "text/plain": [
       "10:29:47.030 | \u001b[36mINFO\u001b[0m    | Flow run\u001b[35m 'nickel-iguana'\u001b[0m - Executing 'process_pool_snaps-bb91f77b-1' immediately...\n"
      ]
     },
     "metadata": {},
     "output_type": "display_data"
    },
    {
     "data": {
      "text/html": [
       "<pre style=\"white-space:pre;overflow-x:auto;line-height:normal;font-family:Menlo,'DejaVu Sans Mono',consolas,'Courier New',monospace\">10:29:47.051 | <span style=\"color: #008080; text-decoration-color: #008080\">INFO</span>    | Task run 'process_pool_snaps-bb91f77b-1' - Finished in state <span style=\"color: #008000; text-decoration-color: #008000\">Completed</span>()\n",
       "</pre>\n"
      ],
      "text/plain": [
       "10:29:47.051 | \u001b[36mINFO\u001b[0m    | Task run 'process_pool_snaps-bb91f77b-1' - Finished in state \u001b[32mCompleted\u001b[0m()\n"
      ]
     },
     "metadata": {},
     "output_type": "display_data"
    },
    {
     "data": {
      "text/html": [
       "<pre style=\"white-space:pre;overflow-x:auto;line-height:normal;font-family:Menlo,'DejaVu Sans Mono',consolas,'Courier New',monospace\">10:29:47.060 | <span style=\"color: #008080; text-decoration-color: #008080\">INFO</span>    | Flow run<span style=\"color: #800080; text-decoration-color: #800080\"> 'nickel-iguana'</span> - Created task run 'process_pool_snaps-bb91f77b-2' for task 'process_pool_snaps'\n",
       "</pre>\n"
      ],
      "text/plain": [
       "10:29:47.060 | \u001b[36mINFO\u001b[0m    | Flow run\u001b[35m 'nickel-iguana'\u001b[0m - Created task run 'process_pool_snaps-bb91f77b-2' for task 'process_pool_snaps'\n"
      ]
     },
     "metadata": {},
     "output_type": "display_data"
    },
    {
     "data": {
      "text/html": [
       "<pre style=\"white-space:pre;overflow-x:auto;line-height:normal;font-family:Menlo,'DejaVu Sans Mono',consolas,'Courier New',monospace\">10:29:47.060 | <span style=\"color: #008080; text-decoration-color: #008080\">INFO</span>    | Flow run<span style=\"color: #800080; text-decoration-color: #800080\"> 'nickel-iguana'</span> - Executing 'process_pool_snaps-bb91f77b-2' immediately...\n",
       "</pre>\n"
      ],
      "text/plain": [
       "10:29:47.060 | \u001b[36mINFO\u001b[0m    | Flow run\u001b[35m 'nickel-iguana'\u001b[0m - Executing 'process_pool_snaps-bb91f77b-2' immediately...\n"
      ]
     },
     "metadata": {},
     "output_type": "display_data"
    },
    {
     "data": {
      "text/html": [
       "<pre style=\"white-space:pre;overflow-x:auto;line-height:normal;font-family:Menlo,'DejaVu Sans Mono',consolas,'Courier New',monospace\">10:29:47.082 | <span style=\"color: #008080; text-decoration-color: #008080\">INFO</span>    | Task run 'process_pool_snaps-bb91f77b-2' - Finished in state <span style=\"color: #008000; text-decoration-color: #008000\">Completed</span>()\n",
       "</pre>\n"
      ],
      "text/plain": [
       "10:29:47.082 | \u001b[36mINFO\u001b[0m    | Task run 'process_pool_snaps-bb91f77b-2' - Finished in state \u001b[32mCompleted\u001b[0m()\n"
      ]
     },
     "metadata": {},
     "output_type": "display_data"
    },
    {
     "data": {
      "text/html": [
       "<pre style=\"white-space:pre;overflow-x:auto;line-height:normal;font-family:Menlo,'DejaVu Sans Mono',consolas,'Courier New',monospace\">10:29:47.092 | <span style=\"color: #008080; text-decoration-color: #008080\">INFO</span>    | Flow run<span style=\"color: #800080; text-decoration-color: #800080\"> 'nickel-iguana'</span> - Created task run 'process_pool_snaps-bb91f77b-3' for task 'process_pool_snaps'\n",
       "</pre>\n"
      ],
      "text/plain": [
       "10:29:47.092 | \u001b[36mINFO\u001b[0m    | Flow run\u001b[35m 'nickel-iguana'\u001b[0m - Created task run 'process_pool_snaps-bb91f77b-3' for task 'process_pool_snaps'\n"
      ]
     },
     "metadata": {},
     "output_type": "display_data"
    },
    {
     "data": {
      "text/html": [
       "<pre style=\"white-space:pre;overflow-x:auto;line-height:normal;font-family:Menlo,'DejaVu Sans Mono',consolas,'Courier New',monospace\">10:29:47.092 | <span style=\"color: #008080; text-decoration-color: #008080\">INFO</span>    | Flow run<span style=\"color: #800080; text-decoration-color: #800080\"> 'nickel-iguana'</span> - Executing 'process_pool_snaps-bb91f77b-3' immediately...\n",
       "</pre>\n"
      ],
      "text/plain": [
       "10:29:47.092 | \u001b[36mINFO\u001b[0m    | Flow run\u001b[35m 'nickel-iguana'\u001b[0m - Executing 'process_pool_snaps-bb91f77b-3' immediately...\n"
      ]
     },
     "metadata": {},
     "output_type": "display_data"
    },
    {
     "data": {
      "text/html": [
       "<pre style=\"white-space:pre;overflow-x:auto;line-height:normal;font-family:Menlo,'DejaVu Sans Mono',consolas,'Courier New',monospace\">10:29:47.431 | <span style=\"color: #008080; text-decoration-color: #008080\">INFO</span>    | Task run 'process_pool_snaps-bb91f77b-3' - Finished in state <span style=\"color: #008000; text-decoration-color: #008000\">Completed</span>()\n",
       "</pre>\n"
      ],
      "text/plain": [
       "10:29:47.431 | \u001b[36mINFO\u001b[0m    | Task run 'process_pool_snaps-bb91f77b-3' - Finished in state \u001b[32mCompleted\u001b[0m()\n"
      ]
     },
     "metadata": {},
     "output_type": "display_data"
    },
    {
     "data": {
      "text/html": [
       "<pre style=\"white-space:pre;overflow-x:auto;line-height:normal;font-family:Menlo,'DejaVu Sans Mono',consolas,'Courier New',monospace\">10:29:47.440 | <span style=\"color: #008080; text-decoration-color: #008080\">INFO</span>    | Flow run<span style=\"color: #800080; text-decoration-color: #800080\"> 'nickel-iguana'</span> - Created task run 'process_pool_snaps-bb91f77b-4' for task 'process_pool_snaps'\n",
       "</pre>\n"
      ],
      "text/plain": [
       "10:29:47.440 | \u001b[36mINFO\u001b[0m    | Flow run\u001b[35m 'nickel-iguana'\u001b[0m - Created task run 'process_pool_snaps-bb91f77b-4' for task 'process_pool_snaps'\n"
      ]
     },
     "metadata": {},
     "output_type": "display_data"
    },
    {
     "data": {
      "text/html": [
       "<pre style=\"white-space:pre;overflow-x:auto;line-height:normal;font-family:Menlo,'DejaVu Sans Mono',consolas,'Courier New',monospace\">10:29:47.441 | <span style=\"color: #008080; text-decoration-color: #008080\">INFO</span>    | Flow run<span style=\"color: #800080; text-decoration-color: #800080\"> 'nickel-iguana'</span> - Executing 'process_pool_snaps-bb91f77b-4' immediately...\n",
       "</pre>\n"
      ],
      "text/plain": [
       "10:29:47.441 | \u001b[36mINFO\u001b[0m    | Flow run\u001b[35m 'nickel-iguana'\u001b[0m - Executing 'process_pool_snaps-bb91f77b-4' immediately...\n"
      ]
     },
     "metadata": {},
     "output_type": "display_data"
    },
    {
     "data": {
      "text/html": [
       "<pre style=\"white-space:pre;overflow-x:auto;line-height:normal;font-family:Menlo,'DejaVu Sans Mono',consolas,'Courier New',monospace\">10:29:47.462 | <span style=\"color: #008080; text-decoration-color: #008080\">INFO</span>    | Task run 'process_pool_snaps-bb91f77b-4' - Finished in state <span style=\"color: #008000; text-decoration-color: #008000\">Completed</span>()\n",
       "</pre>\n"
      ],
      "text/plain": [
       "10:29:47.462 | \u001b[36mINFO\u001b[0m    | Task run 'process_pool_snaps-bb91f77b-4' - Finished in state \u001b[32mCompleted\u001b[0m()\n"
      ]
     },
     "metadata": {},
     "output_type": "display_data"
    },
    {
     "data": {
      "text/html": [
       "<pre style=\"white-space:pre;overflow-x:auto;line-height:normal;font-family:Menlo,'DejaVu Sans Mono',consolas,'Courier New',monospace\">10:29:47.471 | <span style=\"color: #008080; text-decoration-color: #008080\">INFO</span>    | Flow run<span style=\"color: #800080; text-decoration-color: #800080\"> 'nickel-iguana'</span> - Created task run 'process_pool_snaps-bb91f77b-5' for task 'process_pool_snaps'\n",
       "</pre>\n"
      ],
      "text/plain": [
       "10:29:47.471 | \u001b[36mINFO\u001b[0m    | Flow run\u001b[35m 'nickel-iguana'\u001b[0m - Created task run 'process_pool_snaps-bb91f77b-5' for task 'process_pool_snaps'\n"
      ]
     },
     "metadata": {},
     "output_type": "display_data"
    },
    {
     "data": {
      "text/html": [
       "<pre style=\"white-space:pre;overflow-x:auto;line-height:normal;font-family:Menlo,'DejaVu Sans Mono',consolas,'Courier New',monospace\">10:29:47.471 | <span style=\"color: #008080; text-decoration-color: #008080\">INFO</span>    | Flow run<span style=\"color: #800080; text-decoration-color: #800080\"> 'nickel-iguana'</span> - Executing 'process_pool_snaps-bb91f77b-5' immediately...\n",
       "</pre>\n"
      ],
      "text/plain": [
       "10:29:47.471 | \u001b[36mINFO\u001b[0m    | Flow run\u001b[35m 'nickel-iguana'\u001b[0m - Executing 'process_pool_snaps-bb91f77b-5' immediately...\n"
      ]
     },
     "metadata": {},
     "output_type": "display_data"
    },
    {
     "data": {
      "text/html": [
       "<pre style=\"white-space:pre;overflow-x:auto;line-height:normal;font-family:Menlo,'DejaVu Sans Mono',consolas,'Courier New',monospace\">10:29:47.493 | <span style=\"color: #008080; text-decoration-color: #008080\">INFO</span>    | Task run 'process_pool_snaps-bb91f77b-5' - Finished in state <span style=\"color: #008000; text-decoration-color: #008000\">Completed</span>()\n",
       "</pre>\n"
      ],
      "text/plain": [
       "10:29:47.493 | \u001b[36mINFO\u001b[0m    | Task run 'process_pool_snaps-bb91f77b-5' - Finished in state \u001b[32mCompleted\u001b[0m()\n"
      ]
     },
     "metadata": {},
     "output_type": "display_data"
    },
    {
     "data": {
      "text/html": [
       "<pre style=\"white-space:pre;overflow-x:auto;line-height:normal;font-family:Menlo,'DejaVu Sans Mono',consolas,'Courier New',monospace\">10:29:47.501 | <span style=\"color: #008080; text-decoration-color: #008080\">INFO</span>    | Flow run<span style=\"color: #800080; text-decoration-color: #800080\"> 'nickel-iguana'</span> - Created task run 'process_pool_snaps-bb91f77b-6' for task 'process_pool_snaps'\n",
       "</pre>\n"
      ],
      "text/plain": [
       "10:29:47.501 | \u001b[36mINFO\u001b[0m    | Flow run\u001b[35m 'nickel-iguana'\u001b[0m - Created task run 'process_pool_snaps-bb91f77b-6' for task 'process_pool_snaps'\n"
      ]
     },
     "metadata": {},
     "output_type": "display_data"
    },
    {
     "data": {
      "text/html": [
       "<pre style=\"white-space:pre;overflow-x:auto;line-height:normal;font-family:Menlo,'DejaVu Sans Mono',consolas,'Courier New',monospace\">10:29:47.502 | <span style=\"color: #008080; text-decoration-color: #008080\">INFO</span>    | Flow run<span style=\"color: #800080; text-decoration-color: #800080\"> 'nickel-iguana'</span> - Executing 'process_pool_snaps-bb91f77b-6' immediately...\n",
       "</pre>\n"
      ],
      "text/plain": [
       "10:29:47.502 | \u001b[36mINFO\u001b[0m    | Flow run\u001b[35m 'nickel-iguana'\u001b[0m - Executing 'process_pool_snaps-bb91f77b-6' immediately...\n"
      ]
     },
     "metadata": {},
     "output_type": "display_data"
    },
    {
     "data": {
      "text/html": [
       "<pre style=\"white-space:pre;overflow-x:auto;line-height:normal;font-family:Menlo,'DejaVu Sans Mono',consolas,'Courier New',monospace\">10:29:47.523 | <span style=\"color: #008080; text-decoration-color: #008080\">INFO</span>    | Task run 'process_pool_snaps-bb91f77b-6' - Finished in state <span style=\"color: #008000; text-decoration-color: #008000\">Completed</span>()\n",
       "</pre>\n"
      ],
      "text/plain": [
       "10:29:47.523 | \u001b[36mINFO\u001b[0m    | Task run 'process_pool_snaps-bb91f77b-6' - Finished in state \u001b[32mCompleted\u001b[0m()\n"
      ]
     },
     "metadata": {},
     "output_type": "display_data"
    },
    {
     "data": {
      "text/html": [
       "<pre style=\"white-space:pre;overflow-x:auto;line-height:normal;font-family:Menlo,'DejaVu Sans Mono',consolas,'Courier New',monospace\">10:29:47.531 | <span style=\"color: #008080; text-decoration-color: #008080\">INFO</span>    | Flow run<span style=\"color: #800080; text-decoration-color: #800080\"> 'nickel-iguana'</span> - Created task run 'process_pool_snaps-bb91f77b-7' for task 'process_pool_snaps'\n",
       "</pre>\n"
      ],
      "text/plain": [
       "10:29:47.531 | \u001b[36mINFO\u001b[0m    | Flow run\u001b[35m 'nickel-iguana'\u001b[0m - Created task run 'process_pool_snaps-bb91f77b-7' for task 'process_pool_snaps'\n"
      ]
     },
     "metadata": {},
     "output_type": "display_data"
    },
    {
     "data": {
      "text/html": [
       "<pre style=\"white-space:pre;overflow-x:auto;line-height:normal;font-family:Menlo,'DejaVu Sans Mono',consolas,'Courier New',monospace\">10:29:47.532 | <span style=\"color: #008080; text-decoration-color: #008080\">INFO</span>    | Flow run<span style=\"color: #800080; text-decoration-color: #800080\"> 'nickel-iguana'</span> - Executing 'process_pool_snaps-bb91f77b-7' immediately...\n",
       "</pre>\n"
      ],
      "text/plain": [
       "10:29:47.532 | \u001b[36mINFO\u001b[0m    | Flow run\u001b[35m 'nickel-iguana'\u001b[0m - Executing 'process_pool_snaps-bb91f77b-7' immediately...\n"
      ]
     },
     "metadata": {},
     "output_type": "display_data"
    },
    {
     "data": {
      "text/html": [
       "<pre style=\"white-space:pre;overflow-x:auto;line-height:normal;font-family:Menlo,'DejaVu Sans Mono',consolas,'Courier New',monospace\">10:29:47.553 | <span style=\"color: #008080; text-decoration-color: #008080\">INFO</span>    | Task run 'process_pool_snaps-bb91f77b-7' - Finished in state <span style=\"color: #008000; text-decoration-color: #008000\">Completed</span>()\n",
       "</pre>\n"
      ],
      "text/plain": [
       "10:29:47.553 | \u001b[36mINFO\u001b[0m    | Task run 'process_pool_snaps-bb91f77b-7' - Finished in state \u001b[32mCompleted\u001b[0m()\n"
      ]
     },
     "metadata": {},
     "output_type": "display_data"
    },
    {
     "data": {
      "text/html": [
       "<pre style=\"white-space:pre;overflow-x:auto;line-height:normal;font-family:Menlo,'DejaVu Sans Mono',consolas,'Courier New',monospace\">10:29:47.561 | <span style=\"color: #008080; text-decoration-color: #008080\">INFO</span>    | Flow run<span style=\"color: #800080; text-decoration-color: #800080\"> 'nickel-iguana'</span> - Created task run 'process_pool_snaps-bb91f77b-8' for task 'process_pool_snaps'\n",
       "</pre>\n"
      ],
      "text/plain": [
       "10:29:47.561 | \u001b[36mINFO\u001b[0m    | Flow run\u001b[35m 'nickel-iguana'\u001b[0m - Created task run 'process_pool_snaps-bb91f77b-8' for task 'process_pool_snaps'\n"
      ]
     },
     "metadata": {},
     "output_type": "display_data"
    },
    {
     "data": {
      "text/html": [
       "<pre style=\"white-space:pre;overflow-x:auto;line-height:normal;font-family:Menlo,'DejaVu Sans Mono',consolas,'Courier New',monospace\">10:29:47.562 | <span style=\"color: #008080; text-decoration-color: #008080\">INFO</span>    | Flow run<span style=\"color: #800080; text-decoration-color: #800080\"> 'nickel-iguana'</span> - Executing 'process_pool_snaps-bb91f77b-8' immediately...\n",
       "</pre>\n"
      ],
      "text/plain": [
       "10:29:47.562 | \u001b[36mINFO\u001b[0m    | Flow run\u001b[35m 'nickel-iguana'\u001b[0m - Executing 'process_pool_snaps-bb91f77b-8' immediately...\n"
      ]
     },
     "metadata": {},
     "output_type": "display_data"
    },
    {
     "data": {
      "text/html": [
       "<pre style=\"white-space:pre;overflow-x:auto;line-height:normal;font-family:Menlo,'DejaVu Sans Mono',consolas,'Courier New',monospace\">10:29:47.584 | <span style=\"color: #008080; text-decoration-color: #008080\">INFO</span>    | Task run 'process_pool_snaps-bb91f77b-8' - Finished in state <span style=\"color: #008000; text-decoration-color: #008000\">Completed</span>()\n",
       "</pre>\n"
      ],
      "text/plain": [
       "10:29:47.584 | \u001b[36mINFO\u001b[0m    | Task run 'process_pool_snaps-bb91f77b-8' - Finished in state \u001b[32mCompleted\u001b[0m()\n"
      ]
     },
     "metadata": {},
     "output_type": "display_data"
    },
    {
     "data": {
      "text/html": [
       "<pre style=\"white-space:pre;overflow-x:auto;line-height:normal;font-family:Menlo,'DejaVu Sans Mono',consolas,'Courier New',monospace\">10:29:47.592 | <span style=\"color: #008080; text-decoration-color: #008080\">INFO</span>    | Flow run<span style=\"color: #800080; text-decoration-color: #800080\"> 'nickel-iguana'</span> - Created task run 'process_pool_snaps-bb91f77b-9' for task 'process_pool_snaps'\n",
       "</pre>\n"
      ],
      "text/plain": [
       "10:29:47.592 | \u001b[36mINFO\u001b[0m    | Flow run\u001b[35m 'nickel-iguana'\u001b[0m - Created task run 'process_pool_snaps-bb91f77b-9' for task 'process_pool_snaps'\n"
      ]
     },
     "metadata": {},
     "output_type": "display_data"
    },
    {
     "data": {
      "text/html": [
       "<pre style=\"white-space:pre;overflow-x:auto;line-height:normal;font-family:Menlo,'DejaVu Sans Mono',consolas,'Courier New',monospace\">10:29:47.593 | <span style=\"color: #008080; text-decoration-color: #008080\">INFO</span>    | Flow run<span style=\"color: #800080; text-decoration-color: #800080\"> 'nickel-iguana'</span> - Executing 'process_pool_snaps-bb91f77b-9' immediately...\n",
       "</pre>\n"
      ],
      "text/plain": [
       "10:29:47.593 | \u001b[36mINFO\u001b[0m    | Flow run\u001b[35m 'nickel-iguana'\u001b[0m - Executing 'process_pool_snaps-bb91f77b-9' immediately...\n"
      ]
     },
     "metadata": {},
     "output_type": "display_data"
    },
    {
     "data": {
      "text/html": [
       "<pre style=\"white-space:pre;overflow-x:auto;line-height:normal;font-family:Menlo,'DejaVu Sans Mono',consolas,'Courier New',monospace\">10:29:47.614 | <span style=\"color: #008080; text-decoration-color: #008080\">INFO</span>    | Task run 'process_pool_snaps-bb91f77b-9' - Finished in state <span style=\"color: #008000; text-decoration-color: #008000\">Completed</span>()\n",
       "</pre>\n"
      ],
      "text/plain": [
       "10:29:47.614 | \u001b[36mINFO\u001b[0m    | Task run 'process_pool_snaps-bb91f77b-9' - Finished in state \u001b[32mCompleted\u001b[0m()\n"
      ]
     },
     "metadata": {},
     "output_type": "display_data"
    },
    {
     "data": {
      "text/html": [
       "<pre style=\"white-space:pre;overflow-x:auto;line-height:normal;font-family:Menlo,'DejaVu Sans Mono',consolas,'Courier New',monospace\">10:29:47.623 | <span style=\"color: #008080; text-decoration-color: #008080\">INFO</span>    | Flow run<span style=\"color: #800080; text-decoration-color: #800080\"> 'nickel-iguana'</span> - Created task run 'process_pool_snaps-bb91f77b-10' for task 'process_pool_snaps'\n",
       "</pre>\n"
      ],
      "text/plain": [
       "10:29:47.623 | \u001b[36mINFO\u001b[0m    | Flow run\u001b[35m 'nickel-iguana'\u001b[0m - Created task run 'process_pool_snaps-bb91f77b-10' for task 'process_pool_snaps'\n"
      ]
     },
     "metadata": {},
     "output_type": "display_data"
    },
    {
     "data": {
      "text/html": [
       "<pre style=\"white-space:pre;overflow-x:auto;line-height:normal;font-family:Menlo,'DejaVu Sans Mono',consolas,'Courier New',monospace\">10:29:47.623 | <span style=\"color: #008080; text-decoration-color: #008080\">INFO</span>    | Flow run<span style=\"color: #800080; text-decoration-color: #800080\"> 'nickel-iguana'</span> - Executing 'process_pool_snaps-bb91f77b-10' immediately...\n",
       "</pre>\n"
      ],
      "text/plain": [
       "10:29:47.623 | \u001b[36mINFO\u001b[0m    | Flow run\u001b[35m 'nickel-iguana'\u001b[0m - Executing 'process_pool_snaps-bb91f77b-10' immediately...\n"
      ]
     },
     "metadata": {},
     "output_type": "display_data"
    },
    {
     "data": {
      "text/html": [
       "<pre style=\"white-space:pre;overflow-x:auto;line-height:normal;font-family:Menlo,'DejaVu Sans Mono',consolas,'Courier New',monospace\">10:29:47.645 | <span style=\"color: #008080; text-decoration-color: #008080\">INFO</span>    | Task run 'process_pool_snaps-bb91f77b-10' - Finished in state <span style=\"color: #008000; text-decoration-color: #008000\">Completed</span>()\n",
       "</pre>\n"
      ],
      "text/plain": [
       "10:29:47.645 | \u001b[36mINFO\u001b[0m    | Task run 'process_pool_snaps-bb91f77b-10' - Finished in state \u001b[32mCompleted\u001b[0m()\n"
      ]
     },
     "metadata": {},
     "output_type": "display_data"
    },
    {
     "data": {
      "text/html": [
       "<pre style=\"white-space:pre;overflow-x:auto;line-height:normal;font-family:Menlo,'DejaVu Sans Mono',consolas,'Courier New',monospace\">10:29:47.653 | <span style=\"color: #008080; text-decoration-color: #008080\">INFO</span>    | Flow run<span style=\"color: #800080; text-decoration-color: #800080\"> 'nickel-iguana'</span> - Created task run 'process_pool_snaps-bb91f77b-11' for task 'process_pool_snaps'\n",
       "</pre>\n"
      ],
      "text/plain": [
       "10:29:47.653 | \u001b[36mINFO\u001b[0m    | Flow run\u001b[35m 'nickel-iguana'\u001b[0m - Created task run 'process_pool_snaps-bb91f77b-11' for task 'process_pool_snaps'\n"
      ]
     },
     "metadata": {},
     "output_type": "display_data"
    },
    {
     "data": {
      "text/html": [
       "<pre style=\"white-space:pre;overflow-x:auto;line-height:normal;font-family:Menlo,'DejaVu Sans Mono',consolas,'Courier New',monospace\">10:29:47.654 | <span style=\"color: #008080; text-decoration-color: #008080\">INFO</span>    | Flow run<span style=\"color: #800080; text-decoration-color: #800080\"> 'nickel-iguana'</span> - Executing 'process_pool_snaps-bb91f77b-11' immediately...\n",
       "</pre>\n"
      ],
      "text/plain": [
       "10:29:47.654 | \u001b[36mINFO\u001b[0m    | Flow run\u001b[35m 'nickel-iguana'\u001b[0m - Executing 'process_pool_snaps-bb91f77b-11' immediately...\n"
      ]
     },
     "metadata": {},
     "output_type": "display_data"
    },
    {
     "data": {
      "text/html": [
       "<pre style=\"white-space:pre;overflow-x:auto;line-height:normal;font-family:Menlo,'DejaVu Sans Mono',consolas,'Courier New',monospace\">10:29:47.675 | <span style=\"color: #008080; text-decoration-color: #008080\">INFO</span>    | Task run 'process_pool_snaps-bb91f77b-11' - Finished in state <span style=\"color: #008000; text-decoration-color: #008000\">Completed</span>()\n",
       "</pre>\n"
      ],
      "text/plain": [
       "10:29:47.675 | \u001b[36mINFO\u001b[0m    | Task run 'process_pool_snaps-bb91f77b-11' - Finished in state \u001b[32mCompleted\u001b[0m()\n"
      ]
     },
     "metadata": {},
     "output_type": "display_data"
    },
    {
     "data": {
      "text/html": [
       "<pre style=\"white-space:pre;overflow-x:auto;line-height:normal;font-family:Menlo,'DejaVu Sans Mono',consolas,'Courier New',monospace\">10:29:47.684 | <span style=\"color: #008080; text-decoration-color: #008080\">INFO</span>    | Flow run<span style=\"color: #800080; text-decoration-color: #800080\"> 'nickel-iguana'</span> - Created task run 'process_pool_snaps-bb91f77b-12' for task 'process_pool_snaps'\n",
       "</pre>\n"
      ],
      "text/plain": [
       "10:29:47.684 | \u001b[36mINFO\u001b[0m    | Flow run\u001b[35m 'nickel-iguana'\u001b[0m - Created task run 'process_pool_snaps-bb91f77b-12' for task 'process_pool_snaps'\n"
      ]
     },
     "metadata": {},
     "output_type": "display_data"
    },
    {
     "data": {
      "text/html": [
       "<pre style=\"white-space:pre;overflow-x:auto;line-height:normal;font-family:Menlo,'DejaVu Sans Mono',consolas,'Courier New',monospace\">10:29:47.685 | <span style=\"color: #008080; text-decoration-color: #008080\">INFO</span>    | Flow run<span style=\"color: #800080; text-decoration-color: #800080\"> 'nickel-iguana'</span> - Executing 'process_pool_snaps-bb91f77b-12' immediately...\n",
       "</pre>\n"
      ],
      "text/plain": [
       "10:29:47.685 | \u001b[36mINFO\u001b[0m    | Flow run\u001b[35m 'nickel-iguana'\u001b[0m - Executing 'process_pool_snaps-bb91f77b-12' immediately...\n"
      ]
     },
     "metadata": {},
     "output_type": "display_data"
    },
    {
     "data": {
      "text/html": [
       "<pre style=\"white-space:pre;overflow-x:auto;line-height:normal;font-family:Menlo,'DejaVu Sans Mono',consolas,'Courier New',monospace\">10:29:47.706 | <span style=\"color: #008080; text-decoration-color: #008080\">INFO</span>    | Task run 'process_pool_snaps-bb91f77b-12' - Finished in state <span style=\"color: #008000; text-decoration-color: #008000\">Completed</span>()\n",
       "</pre>\n"
      ],
      "text/plain": [
       "10:29:47.706 | \u001b[36mINFO\u001b[0m    | Task run 'process_pool_snaps-bb91f77b-12' - Finished in state \u001b[32mCompleted\u001b[0m()\n"
      ]
     },
     "metadata": {},
     "output_type": "display_data"
    },
    {
     "data": {
      "text/html": [
       "<pre style=\"white-space:pre;overflow-x:auto;line-height:normal;font-family:Menlo,'DejaVu Sans Mono',consolas,'Courier New',monospace\">10:29:47.715 | <span style=\"color: #008080; text-decoration-color: #008080\">INFO</span>    | Flow run<span style=\"color: #800080; text-decoration-color: #800080\"> 'nickel-iguana'</span> - Created task run 'process_pool_snaps-bb91f77b-13' for task 'process_pool_snaps'\n",
       "</pre>\n"
      ],
      "text/plain": [
       "10:29:47.715 | \u001b[36mINFO\u001b[0m    | Flow run\u001b[35m 'nickel-iguana'\u001b[0m - Created task run 'process_pool_snaps-bb91f77b-13' for task 'process_pool_snaps'\n"
      ]
     },
     "metadata": {},
     "output_type": "display_data"
    },
    {
     "data": {
      "text/html": [
       "<pre style=\"white-space:pre;overflow-x:auto;line-height:normal;font-family:Menlo,'DejaVu Sans Mono',consolas,'Courier New',monospace\">10:29:47.715 | <span style=\"color: #008080; text-decoration-color: #008080\">INFO</span>    | Flow run<span style=\"color: #800080; text-decoration-color: #800080\"> 'nickel-iguana'</span> - Executing 'process_pool_snaps-bb91f77b-13' immediately...\n",
       "</pre>\n"
      ],
      "text/plain": [
       "10:29:47.715 | \u001b[36mINFO\u001b[0m    | Flow run\u001b[35m 'nickel-iguana'\u001b[0m - Executing 'process_pool_snaps-bb91f77b-13' immediately...\n"
      ]
     },
     "metadata": {},
     "output_type": "display_data"
    },
    {
     "data": {
      "text/html": [
       "<pre style=\"white-space:pre;overflow-x:auto;line-height:normal;font-family:Menlo,'DejaVu Sans Mono',consolas,'Courier New',monospace\">10:29:47.737 | <span style=\"color: #008080; text-decoration-color: #008080\">INFO</span>    | Task run 'process_pool_snaps-bb91f77b-13' - Finished in state <span style=\"color: #008000; text-decoration-color: #008000\">Completed</span>()\n",
       "</pre>\n"
      ],
      "text/plain": [
       "10:29:47.737 | \u001b[36mINFO\u001b[0m    | Task run 'process_pool_snaps-bb91f77b-13' - Finished in state \u001b[32mCompleted\u001b[0m()\n"
      ]
     },
     "metadata": {},
     "output_type": "display_data"
    },
    {
     "data": {
      "text/html": [
       "<pre style=\"white-space:pre;overflow-x:auto;line-height:normal;font-family:Menlo,'DejaVu Sans Mono',consolas,'Courier New',monospace\">10:29:47.765 | <span style=\"color: #008080; text-decoration-color: #008080\">INFO</span>    | Flow run<span style=\"color: #800080; text-decoration-color: #800080\"> 'nickel-iguana'</span> - Created task run 'process_pool_vol-f3874c79-0' for task 'process_pool_vol'\n",
       "</pre>\n"
      ],
      "text/plain": [
       "10:29:47.765 | \u001b[36mINFO\u001b[0m    | Flow run\u001b[35m 'nickel-iguana'\u001b[0m - Created task run 'process_pool_vol-f3874c79-0' for task 'process_pool_vol'\n"
      ]
     },
     "metadata": {},
     "output_type": "display_data"
    },
    {
     "data": {
      "text/html": [
       "<pre style=\"white-space:pre;overflow-x:auto;line-height:normal;font-family:Menlo,'DejaVu Sans Mono',consolas,'Courier New',monospace\">10:29:47.766 | <span style=\"color: #008080; text-decoration-color: #008080\">INFO</span>    | Flow run<span style=\"color: #800080; text-decoration-color: #800080\"> 'nickel-iguana'</span> - Executing 'process_pool_vol-f3874c79-0' immediately...\n",
       "</pre>\n"
      ],
      "text/plain": [
       "10:29:47.766 | \u001b[36mINFO\u001b[0m    | Flow run\u001b[35m 'nickel-iguana'\u001b[0m - Executing 'process_pool_vol-f3874c79-0' immediately...\n"
      ]
     },
     "metadata": {},
     "output_type": "display_data"
    },
    {
     "data": {
      "text/html": [
       "<pre style=\"white-space:pre;overflow-x:auto;line-height:normal;font-family:Menlo,'DejaVu Sans Mono',consolas,'Courier New',monospace\">10:29:47.786 | <span style=\"color: #008080; text-decoration-color: #008080\">INFO</span>    | Task run 'process_pool_vol-f3874c79-0' - Finished in state <span style=\"color: #008000; text-decoration-color: #008000\">Completed</span>()\n",
       "</pre>\n"
      ],
      "text/plain": [
       "10:29:47.786 | \u001b[36mINFO\u001b[0m    | Task run 'process_pool_vol-f3874c79-0' - Finished in state \u001b[32mCompleted\u001b[0m()\n"
      ]
     },
     "metadata": {},
     "output_type": "display_data"
    },
    {
     "data": {
      "text/html": [
       "<pre style=\"white-space:pre;overflow-x:auto;line-height:normal;font-family:Menlo,'DejaVu Sans Mono',consolas,'Courier New',monospace\">10:29:47.795 | <span style=\"color: #008080; text-decoration-color: #008080\">INFO</span>    | Flow run<span style=\"color: #800080; text-decoration-color: #800080\"> 'nickel-iguana'</span> - Created task run 'process_pool_vol-f3874c79-1' for task 'process_pool_vol'\n",
       "</pre>\n"
      ],
      "text/plain": [
       "10:29:47.795 | \u001b[36mINFO\u001b[0m    | Flow run\u001b[35m 'nickel-iguana'\u001b[0m - Created task run 'process_pool_vol-f3874c79-1' for task 'process_pool_vol'\n"
      ]
     },
     "metadata": {},
     "output_type": "display_data"
    },
    {
     "data": {
      "text/html": [
       "<pre style=\"white-space:pre;overflow-x:auto;line-height:normal;font-family:Menlo,'DejaVu Sans Mono',consolas,'Courier New',monospace\">10:29:47.795 | <span style=\"color: #008080; text-decoration-color: #008080\">INFO</span>    | Flow run<span style=\"color: #800080; text-decoration-color: #800080\"> 'nickel-iguana'</span> - Executing 'process_pool_vol-f3874c79-1' immediately...\n",
       "</pre>\n"
      ],
      "text/plain": [
       "10:29:47.795 | \u001b[36mINFO\u001b[0m    | Flow run\u001b[35m 'nickel-iguana'\u001b[0m - Executing 'process_pool_vol-f3874c79-1' immediately...\n"
      ]
     },
     "metadata": {},
     "output_type": "display_data"
    },
    {
     "data": {
      "text/html": [
       "<pre style=\"white-space:pre;overflow-x:auto;line-height:normal;font-family:Menlo,'DejaVu Sans Mono',consolas,'Courier New',monospace\">10:29:47.816 | <span style=\"color: #008080; text-decoration-color: #008080\">INFO</span>    | Task run 'process_pool_vol-f3874c79-1' - Finished in state <span style=\"color: #008000; text-decoration-color: #008000\">Completed</span>()\n",
       "</pre>\n"
      ],
      "text/plain": [
       "10:29:47.816 | \u001b[36mINFO\u001b[0m    | Task run 'process_pool_vol-f3874c79-1' - Finished in state \u001b[32mCompleted\u001b[0m()\n"
      ]
     },
     "metadata": {},
     "output_type": "display_data"
    },
    {
     "data": {
      "text/html": [
       "<pre style=\"white-space:pre;overflow-x:auto;line-height:normal;font-family:Menlo,'DejaVu Sans Mono',consolas,'Courier New',monospace\">10:29:47.825 | <span style=\"color: #008080; text-decoration-color: #008080\">INFO</span>    | Flow run<span style=\"color: #800080; text-decoration-color: #800080\"> 'nickel-iguana'</span> - Created task run 'process_pool_vol-f3874c79-2' for task 'process_pool_vol'\n",
       "</pre>\n"
      ],
      "text/plain": [
       "10:29:47.825 | \u001b[36mINFO\u001b[0m    | Flow run\u001b[35m 'nickel-iguana'\u001b[0m - Created task run 'process_pool_vol-f3874c79-2' for task 'process_pool_vol'\n"
      ]
     },
     "metadata": {},
     "output_type": "display_data"
    },
    {
     "data": {
      "text/html": [
       "<pre style=\"white-space:pre;overflow-x:auto;line-height:normal;font-family:Menlo,'DejaVu Sans Mono',consolas,'Courier New',monospace\">10:29:47.825 | <span style=\"color: #008080; text-decoration-color: #008080\">INFO</span>    | Flow run<span style=\"color: #800080; text-decoration-color: #800080\"> 'nickel-iguana'</span> - Executing 'process_pool_vol-f3874c79-2' immediately...\n",
       "</pre>\n"
      ],
      "text/plain": [
       "10:29:47.825 | \u001b[36mINFO\u001b[0m    | Flow run\u001b[35m 'nickel-iguana'\u001b[0m - Executing 'process_pool_vol-f3874c79-2' immediately...\n"
      ]
     },
     "metadata": {},
     "output_type": "display_data"
    },
    {
     "data": {
      "text/html": [
       "<pre style=\"white-space:pre;overflow-x:auto;line-height:normal;font-family:Menlo,'DejaVu Sans Mono',consolas,'Courier New',monospace\">10:29:47.846 | <span style=\"color: #008080; text-decoration-color: #008080\">INFO</span>    | Task run 'process_pool_vol-f3874c79-2' - Finished in state <span style=\"color: #008000; text-decoration-color: #008000\">Completed</span>()\n",
       "</pre>\n"
      ],
      "text/plain": [
       "10:29:47.846 | \u001b[36mINFO\u001b[0m    | Task run 'process_pool_vol-f3874c79-2' - Finished in state \u001b[32mCompleted\u001b[0m()\n"
      ]
     },
     "metadata": {},
     "output_type": "display_data"
    },
    {
     "data": {
      "text/html": [
       "<pre style=\"white-space:pre;overflow-x:auto;line-height:normal;font-family:Menlo,'DejaVu Sans Mono',consolas,'Courier New',monospace\">10:29:47.855 | <span style=\"color: #008080; text-decoration-color: #008080\">INFO</span>    | Flow run<span style=\"color: #800080; text-decoration-color: #800080\"> 'nickel-iguana'</span> - Created task run 'process_pool_vol-f3874c79-3' for task 'process_pool_vol'\n",
       "</pre>\n"
      ],
      "text/plain": [
       "10:29:47.855 | \u001b[36mINFO\u001b[0m    | Flow run\u001b[35m 'nickel-iguana'\u001b[0m - Created task run 'process_pool_vol-f3874c79-3' for task 'process_pool_vol'\n"
      ]
     },
     "metadata": {},
     "output_type": "display_data"
    },
    {
     "data": {
      "text/html": [
       "<pre style=\"white-space:pre;overflow-x:auto;line-height:normal;font-family:Menlo,'DejaVu Sans Mono',consolas,'Courier New',monospace\">10:29:47.855 | <span style=\"color: #008080; text-decoration-color: #008080\">INFO</span>    | Flow run<span style=\"color: #800080; text-decoration-color: #800080\"> 'nickel-iguana'</span> - Executing 'process_pool_vol-f3874c79-3' immediately...\n",
       "</pre>\n"
      ],
      "text/plain": [
       "10:29:47.855 | \u001b[36mINFO\u001b[0m    | Flow run\u001b[35m 'nickel-iguana'\u001b[0m - Executing 'process_pool_vol-f3874c79-3' immediately...\n"
      ]
     },
     "metadata": {},
     "output_type": "display_data"
    },
    {
     "data": {
      "text/html": [
       "<pre style=\"white-space:pre;overflow-x:auto;line-height:normal;font-family:Menlo,'DejaVu Sans Mono',consolas,'Courier New',monospace\">10:29:47.876 | <span style=\"color: #008080; text-decoration-color: #008080\">INFO</span>    | Task run 'process_pool_vol-f3874c79-3' - Finished in state <span style=\"color: #008000; text-decoration-color: #008000\">Completed</span>()\n",
       "</pre>\n"
      ],
      "text/plain": [
       "10:29:47.876 | \u001b[36mINFO\u001b[0m    | Task run 'process_pool_vol-f3874c79-3' - Finished in state \u001b[32mCompleted\u001b[0m()\n"
      ]
     },
     "metadata": {},
     "output_type": "display_data"
    },
    {
     "data": {
      "text/html": [
       "<pre style=\"white-space:pre;overflow-x:auto;line-height:normal;font-family:Menlo,'DejaVu Sans Mono',consolas,'Courier New',monospace\">10:29:47.885 | <span style=\"color: #008080; text-decoration-color: #008080\">INFO</span>    | Flow run<span style=\"color: #800080; text-decoration-color: #800080\"> 'nickel-iguana'</span> - Created task run 'process_pool_vol-f3874c79-4' for task 'process_pool_vol'\n",
       "</pre>\n"
      ],
      "text/plain": [
       "10:29:47.885 | \u001b[36mINFO\u001b[0m    | Flow run\u001b[35m 'nickel-iguana'\u001b[0m - Created task run 'process_pool_vol-f3874c79-4' for task 'process_pool_vol'\n"
      ]
     },
     "metadata": {},
     "output_type": "display_data"
    },
    {
     "data": {
      "text/html": [
       "<pre style=\"white-space:pre;overflow-x:auto;line-height:normal;font-family:Menlo,'DejaVu Sans Mono',consolas,'Courier New',monospace\">10:29:47.885 | <span style=\"color: #008080; text-decoration-color: #008080\">INFO</span>    | Flow run<span style=\"color: #800080; text-decoration-color: #800080\"> 'nickel-iguana'</span> - Executing 'process_pool_vol-f3874c79-4' immediately...\n",
       "</pre>\n"
      ],
      "text/plain": [
       "10:29:47.885 | \u001b[36mINFO\u001b[0m    | Flow run\u001b[35m 'nickel-iguana'\u001b[0m - Executing 'process_pool_vol-f3874c79-4' immediately...\n"
      ]
     },
     "metadata": {},
     "output_type": "display_data"
    },
    {
     "data": {
      "text/html": [
       "<pre style=\"white-space:pre;overflow-x:auto;line-height:normal;font-family:Menlo,'DejaVu Sans Mono',consolas,'Courier New',monospace\">10:29:47.909 | <span style=\"color: #008080; text-decoration-color: #008080\">INFO</span>    | Task run 'process_pool_vol-f3874c79-4' - Finished in state <span style=\"color: #008000; text-decoration-color: #008000\">Completed</span>()\n",
       "</pre>\n"
      ],
      "text/plain": [
       "10:29:47.909 | \u001b[36mINFO\u001b[0m    | Task run 'process_pool_vol-f3874c79-4' - Finished in state \u001b[32mCompleted\u001b[0m()\n"
      ]
     },
     "metadata": {},
     "output_type": "display_data"
    },
    {
     "data": {
      "text/html": [
       "<pre style=\"white-space:pre;overflow-x:auto;line-height:normal;font-family:Menlo,'DejaVu Sans Mono',consolas,'Courier New',monospace\">10:29:47.921 | <span style=\"color: #008080; text-decoration-color: #008080\">INFO</span>    | Flow run<span style=\"color: #800080; text-decoration-color: #800080\"> 'nickel-iguana'</span> - Created task run 'process_pool_vol-f3874c79-5' for task 'process_pool_vol'\n",
       "</pre>\n"
      ],
      "text/plain": [
       "10:29:47.921 | \u001b[36mINFO\u001b[0m    | Flow run\u001b[35m 'nickel-iguana'\u001b[0m - Created task run 'process_pool_vol-f3874c79-5' for task 'process_pool_vol'\n"
      ]
     },
     "metadata": {},
     "output_type": "display_data"
    },
    {
     "data": {
      "text/html": [
       "<pre style=\"white-space:pre;overflow-x:auto;line-height:normal;font-family:Menlo,'DejaVu Sans Mono',consolas,'Courier New',monospace\">10:29:47.922 | <span style=\"color: #008080; text-decoration-color: #008080\">INFO</span>    | Flow run<span style=\"color: #800080; text-decoration-color: #800080\"> 'nickel-iguana'</span> - Executing 'process_pool_vol-f3874c79-5' immediately...\n",
       "</pre>\n"
      ],
      "text/plain": [
       "10:29:47.922 | \u001b[36mINFO\u001b[0m    | Flow run\u001b[35m 'nickel-iguana'\u001b[0m - Executing 'process_pool_vol-f3874c79-5' immediately...\n"
      ]
     },
     "metadata": {},
     "output_type": "display_data"
    },
    {
     "data": {
      "text/html": [
       "<pre style=\"white-space:pre;overflow-x:auto;line-height:normal;font-family:Menlo,'DejaVu Sans Mono',consolas,'Courier New',monospace\">10:29:47.942 | <span style=\"color: #008080; text-decoration-color: #008080\">INFO</span>    | Task run 'process_pool_vol-f3874c79-5' - Finished in state <span style=\"color: #008000; text-decoration-color: #008000\">Completed</span>()\n",
       "</pre>\n"
      ],
      "text/plain": [
       "10:29:47.942 | \u001b[36mINFO\u001b[0m    | Task run 'process_pool_vol-f3874c79-5' - Finished in state \u001b[32mCompleted\u001b[0m()\n"
      ]
     },
     "metadata": {},
     "output_type": "display_data"
    },
    {
     "data": {
      "text/html": [
       "<pre style=\"white-space:pre;overflow-x:auto;line-height:normal;font-family:Menlo,'DejaVu Sans Mono',consolas,'Courier New',monospace\">10:29:47.951 | <span style=\"color: #008080; text-decoration-color: #008080\">INFO</span>    | Flow run<span style=\"color: #800080; text-decoration-color: #800080\"> 'nickel-iguana'</span> - Created task run 'process_pool_vol-f3874c79-6' for task 'process_pool_vol'\n",
       "</pre>\n"
      ],
      "text/plain": [
       "10:29:47.951 | \u001b[36mINFO\u001b[0m    | Flow run\u001b[35m 'nickel-iguana'\u001b[0m - Created task run 'process_pool_vol-f3874c79-6' for task 'process_pool_vol'\n"
      ]
     },
     "metadata": {},
     "output_type": "display_data"
    },
    {
     "data": {
      "text/html": [
       "<pre style=\"white-space:pre;overflow-x:auto;line-height:normal;font-family:Menlo,'DejaVu Sans Mono',consolas,'Courier New',monospace\">10:29:47.951 | <span style=\"color: #008080; text-decoration-color: #008080\">INFO</span>    | Flow run<span style=\"color: #800080; text-decoration-color: #800080\"> 'nickel-iguana'</span> - Executing 'process_pool_vol-f3874c79-6' immediately...\n",
       "</pre>\n"
      ],
      "text/plain": [
       "10:29:47.951 | \u001b[36mINFO\u001b[0m    | Flow run\u001b[35m 'nickel-iguana'\u001b[0m - Executing 'process_pool_vol-f3874c79-6' immediately...\n"
      ]
     },
     "metadata": {},
     "output_type": "display_data"
    },
    {
     "data": {
      "text/html": [
       "<pre style=\"white-space:pre;overflow-x:auto;line-height:normal;font-family:Menlo,'DejaVu Sans Mono',consolas,'Courier New',monospace\">10:29:47.972 | <span style=\"color: #008080; text-decoration-color: #008080\">INFO</span>    | Task run 'process_pool_vol-f3874c79-6' - Finished in state <span style=\"color: #008000; text-decoration-color: #008000\">Completed</span>()\n",
       "</pre>\n"
      ],
      "text/plain": [
       "10:29:47.972 | \u001b[36mINFO\u001b[0m    | Task run 'process_pool_vol-f3874c79-6' - Finished in state \u001b[32mCompleted\u001b[0m()\n"
      ]
     },
     "metadata": {},
     "output_type": "display_data"
    },
    {
     "data": {
      "text/html": [
       "<pre style=\"white-space:pre;overflow-x:auto;line-height:normal;font-family:Menlo,'DejaVu Sans Mono',consolas,'Courier New',monospace\">10:29:47.980 | <span style=\"color: #008080; text-decoration-color: #008080\">INFO</span>    | Flow run<span style=\"color: #800080; text-decoration-color: #800080\"> 'nickel-iguana'</span> - Created task run 'process_pool_vol-f3874c79-7' for task 'process_pool_vol'\n",
       "</pre>\n"
      ],
      "text/plain": [
       "10:29:47.980 | \u001b[36mINFO\u001b[0m    | Flow run\u001b[35m 'nickel-iguana'\u001b[0m - Created task run 'process_pool_vol-f3874c79-7' for task 'process_pool_vol'\n"
      ]
     },
     "metadata": {},
     "output_type": "display_data"
    },
    {
     "data": {
      "text/html": [
       "<pre style=\"white-space:pre;overflow-x:auto;line-height:normal;font-family:Menlo,'DejaVu Sans Mono',consolas,'Courier New',monospace\">10:29:47.981 | <span style=\"color: #008080; text-decoration-color: #008080\">INFO</span>    | Flow run<span style=\"color: #800080; text-decoration-color: #800080\"> 'nickel-iguana'</span> - Executing 'process_pool_vol-f3874c79-7' immediately...\n",
       "</pre>\n"
      ],
      "text/plain": [
       "10:29:47.981 | \u001b[36mINFO\u001b[0m    | Flow run\u001b[35m 'nickel-iguana'\u001b[0m - Executing 'process_pool_vol-f3874c79-7' immediately...\n"
      ]
     },
     "metadata": {},
     "output_type": "display_data"
    },
    {
     "data": {
      "text/html": [
       "<pre style=\"white-space:pre;overflow-x:auto;line-height:normal;font-family:Menlo,'DejaVu Sans Mono',consolas,'Courier New',monospace\">10:29:48.001 | <span style=\"color: #008080; text-decoration-color: #008080\">INFO</span>    | Task run 'process_pool_vol-f3874c79-7' - Finished in state <span style=\"color: #008000; text-decoration-color: #008000\">Completed</span>()\n",
       "</pre>\n"
      ],
      "text/plain": [
       "10:29:48.001 | \u001b[36mINFO\u001b[0m    | Task run 'process_pool_vol-f3874c79-7' - Finished in state \u001b[32mCompleted\u001b[0m()\n"
      ]
     },
     "metadata": {},
     "output_type": "display_data"
    },
    {
     "data": {
      "text/html": [
       "<pre style=\"white-space:pre;overflow-x:auto;line-height:normal;font-family:Menlo,'DejaVu Sans Mono',consolas,'Courier New',monospace\">10:29:48.010 | <span style=\"color: #008080; text-decoration-color: #008080\">INFO</span>    | Flow run<span style=\"color: #800080; text-decoration-color: #800080\"> 'nickel-iguana'</span> - Created task run 'process_pool_vol-f3874c79-8' for task 'process_pool_vol'\n",
       "</pre>\n"
      ],
      "text/plain": [
       "10:29:48.010 | \u001b[36mINFO\u001b[0m    | Flow run\u001b[35m 'nickel-iguana'\u001b[0m - Created task run 'process_pool_vol-f3874c79-8' for task 'process_pool_vol'\n"
      ]
     },
     "metadata": {},
     "output_type": "display_data"
    },
    {
     "data": {
      "text/html": [
       "<pre style=\"white-space:pre;overflow-x:auto;line-height:normal;font-family:Menlo,'DejaVu Sans Mono',consolas,'Courier New',monospace\">10:29:48.010 | <span style=\"color: #008080; text-decoration-color: #008080\">INFO</span>    | Flow run<span style=\"color: #800080; text-decoration-color: #800080\"> 'nickel-iguana'</span> - Executing 'process_pool_vol-f3874c79-8' immediately...\n",
       "</pre>\n"
      ],
      "text/plain": [
       "10:29:48.010 | \u001b[36mINFO\u001b[0m    | Flow run\u001b[35m 'nickel-iguana'\u001b[0m - Executing 'process_pool_vol-f3874c79-8' immediately...\n"
      ]
     },
     "metadata": {},
     "output_type": "display_data"
    },
    {
     "data": {
      "text/html": [
       "<pre style=\"white-space:pre;overflow-x:auto;line-height:normal;font-family:Menlo,'DejaVu Sans Mono',consolas,'Courier New',monospace\">10:29:48.031 | <span style=\"color: #008080; text-decoration-color: #008080\">INFO</span>    | Task run 'process_pool_vol-f3874c79-8' - Finished in state <span style=\"color: #008000; text-decoration-color: #008000\">Completed</span>()\n",
       "</pre>\n"
      ],
      "text/plain": [
       "10:29:48.031 | \u001b[36mINFO\u001b[0m    | Task run 'process_pool_vol-f3874c79-8' - Finished in state \u001b[32mCompleted\u001b[0m()\n"
      ]
     },
     "metadata": {},
     "output_type": "display_data"
    },
    {
     "data": {
      "text/html": [
       "<pre style=\"white-space:pre;overflow-x:auto;line-height:normal;font-family:Menlo,'DejaVu Sans Mono',consolas,'Courier New',monospace\">10:29:48.039 | <span style=\"color: #008080; text-decoration-color: #008080\">INFO</span>    | Flow run<span style=\"color: #800080; text-decoration-color: #800080\"> 'nickel-iguana'</span> - Created task run 'process_pool_vol-f3874c79-9' for task 'process_pool_vol'\n",
       "</pre>\n"
      ],
      "text/plain": [
       "10:29:48.039 | \u001b[36mINFO\u001b[0m    | Flow run\u001b[35m 'nickel-iguana'\u001b[0m - Created task run 'process_pool_vol-f3874c79-9' for task 'process_pool_vol'\n"
      ]
     },
     "metadata": {},
     "output_type": "display_data"
    },
    {
     "data": {
      "text/html": [
       "<pre style=\"white-space:pre;overflow-x:auto;line-height:normal;font-family:Menlo,'DejaVu Sans Mono',consolas,'Courier New',monospace\">10:29:48.040 | <span style=\"color: #008080; text-decoration-color: #008080\">INFO</span>    | Flow run<span style=\"color: #800080; text-decoration-color: #800080\"> 'nickel-iguana'</span> - Executing 'process_pool_vol-f3874c79-9' immediately...\n",
       "</pre>\n"
      ],
      "text/plain": [
       "10:29:48.040 | \u001b[36mINFO\u001b[0m    | Flow run\u001b[35m 'nickel-iguana'\u001b[0m - Executing 'process_pool_vol-f3874c79-9' immediately...\n"
      ]
     },
     "metadata": {},
     "output_type": "display_data"
    },
    {
     "data": {
      "text/html": [
       "<pre style=\"white-space:pre;overflow-x:auto;line-height:normal;font-family:Menlo,'DejaVu Sans Mono',consolas,'Courier New',monospace\">10:29:48.061 | <span style=\"color: #008080; text-decoration-color: #008080\">INFO</span>    | Task run 'process_pool_vol-f3874c79-9' - Finished in state <span style=\"color: #008000; text-decoration-color: #008000\">Completed</span>()\n",
       "</pre>\n"
      ],
      "text/plain": [
       "10:29:48.061 | \u001b[36mINFO\u001b[0m    | Task run 'process_pool_vol-f3874c79-9' - Finished in state \u001b[32mCompleted\u001b[0m()\n"
      ]
     },
     "metadata": {},
     "output_type": "display_data"
    },
    {
     "data": {
      "text/html": [
       "<pre style=\"white-space:pre;overflow-x:auto;line-height:normal;font-family:Menlo,'DejaVu Sans Mono',consolas,'Courier New',monospace\">10:29:48.069 | <span style=\"color: #008080; text-decoration-color: #008080\">INFO</span>    | Flow run<span style=\"color: #800080; text-decoration-color: #800080\"> 'nickel-iguana'</span> - Created task run 'process_pool_vol-f3874c79-10' for task 'process_pool_vol'\n",
       "</pre>\n"
      ],
      "text/plain": [
       "10:29:48.069 | \u001b[36mINFO\u001b[0m    | Flow run\u001b[35m 'nickel-iguana'\u001b[0m - Created task run 'process_pool_vol-f3874c79-10' for task 'process_pool_vol'\n"
      ]
     },
     "metadata": {},
     "output_type": "display_data"
    },
    {
     "data": {
      "text/html": [
       "<pre style=\"white-space:pre;overflow-x:auto;line-height:normal;font-family:Menlo,'DejaVu Sans Mono',consolas,'Courier New',monospace\">10:29:48.070 | <span style=\"color: #008080; text-decoration-color: #008080\">INFO</span>    | Flow run<span style=\"color: #800080; text-decoration-color: #800080\"> 'nickel-iguana'</span> - Executing 'process_pool_vol-f3874c79-10' immediately...\n",
       "</pre>\n"
      ],
      "text/plain": [
       "10:29:48.070 | \u001b[36mINFO\u001b[0m    | Flow run\u001b[35m 'nickel-iguana'\u001b[0m - Executing 'process_pool_vol-f3874c79-10' immediately...\n"
      ]
     },
     "metadata": {},
     "output_type": "display_data"
    },
    {
     "data": {
      "text/html": [
       "<pre style=\"white-space:pre;overflow-x:auto;line-height:normal;font-family:Menlo,'DejaVu Sans Mono',consolas,'Courier New',monospace\">10:29:48.090 | <span style=\"color: #008080; text-decoration-color: #008080\">INFO</span>    | Task run 'process_pool_vol-f3874c79-10' - Finished in state <span style=\"color: #008000; text-decoration-color: #008000\">Completed</span>()\n",
       "</pre>\n"
      ],
      "text/plain": [
       "10:29:48.090 | \u001b[36mINFO\u001b[0m    | Task run 'process_pool_vol-f3874c79-10' - Finished in state \u001b[32mCompleted\u001b[0m()\n"
      ]
     },
     "metadata": {},
     "output_type": "display_data"
    },
    {
     "data": {
      "text/html": [
       "<pre style=\"white-space:pre;overflow-x:auto;line-height:normal;font-family:Menlo,'DejaVu Sans Mono',consolas,'Courier New',monospace\">10:29:48.099 | <span style=\"color: #008080; text-decoration-color: #008080\">INFO</span>    | Flow run<span style=\"color: #800080; text-decoration-color: #800080\"> 'nickel-iguana'</span> - Created task run 'process_pool_vol-f3874c79-11' for task 'process_pool_vol'\n",
       "</pre>\n"
      ],
      "text/plain": [
       "10:29:48.099 | \u001b[36mINFO\u001b[0m    | Flow run\u001b[35m 'nickel-iguana'\u001b[0m - Created task run 'process_pool_vol-f3874c79-11' for task 'process_pool_vol'\n"
      ]
     },
     "metadata": {},
     "output_type": "display_data"
    },
    {
     "data": {
      "text/html": [
       "<pre style=\"white-space:pre;overflow-x:auto;line-height:normal;font-family:Menlo,'DejaVu Sans Mono',consolas,'Courier New',monospace\">10:29:48.099 | <span style=\"color: #008080; text-decoration-color: #008080\">INFO</span>    | Flow run<span style=\"color: #800080; text-decoration-color: #800080\"> 'nickel-iguana'</span> - Executing 'process_pool_vol-f3874c79-11' immediately...\n",
       "</pre>\n"
      ],
      "text/plain": [
       "10:29:48.099 | \u001b[36mINFO\u001b[0m    | Flow run\u001b[35m 'nickel-iguana'\u001b[0m - Executing 'process_pool_vol-f3874c79-11' immediately...\n"
      ]
     },
     "metadata": {},
     "output_type": "display_data"
    },
    {
     "data": {
      "text/html": [
       "<pre style=\"white-space:pre;overflow-x:auto;line-height:normal;font-family:Menlo,'DejaVu Sans Mono',consolas,'Courier New',monospace\">10:29:48.121 | <span style=\"color: #008080; text-decoration-color: #008080\">INFO</span>    | Task run 'process_pool_vol-f3874c79-11' - Finished in state <span style=\"color: #008000; text-decoration-color: #008000\">Completed</span>()\n",
       "</pre>\n"
      ],
      "text/plain": [
       "10:29:48.121 | \u001b[36mINFO\u001b[0m    | Task run 'process_pool_vol-f3874c79-11' - Finished in state \u001b[32mCompleted\u001b[0m()\n"
      ]
     },
     "metadata": {},
     "output_type": "display_data"
    },
    {
     "data": {
      "text/html": [
       "<pre style=\"white-space:pre;overflow-x:auto;line-height:normal;font-family:Menlo,'DejaVu Sans Mono',consolas,'Courier New',monospace\">10:29:48.129 | <span style=\"color: #008080; text-decoration-color: #008080\">INFO</span>    | Flow run<span style=\"color: #800080; text-decoration-color: #800080\"> 'nickel-iguana'</span> - Created task run 'process_pool_vol-f3874c79-12' for task 'process_pool_vol'\n",
       "</pre>\n"
      ],
      "text/plain": [
       "10:29:48.129 | \u001b[36mINFO\u001b[0m    | Flow run\u001b[35m 'nickel-iguana'\u001b[0m - Created task run 'process_pool_vol-f3874c79-12' for task 'process_pool_vol'\n"
      ]
     },
     "metadata": {},
     "output_type": "display_data"
    },
    {
     "data": {
      "text/html": [
       "<pre style=\"white-space:pre;overflow-x:auto;line-height:normal;font-family:Menlo,'DejaVu Sans Mono',consolas,'Courier New',monospace\">10:29:48.130 | <span style=\"color: #008080; text-decoration-color: #008080\">INFO</span>    | Flow run<span style=\"color: #800080; text-decoration-color: #800080\"> 'nickel-iguana'</span> - Executing 'process_pool_vol-f3874c79-12' immediately...\n",
       "</pre>\n"
      ],
      "text/plain": [
       "10:29:48.130 | \u001b[36mINFO\u001b[0m    | Flow run\u001b[35m 'nickel-iguana'\u001b[0m - Executing 'process_pool_vol-f3874c79-12' immediately...\n"
      ]
     },
     "metadata": {},
     "output_type": "display_data"
    },
    {
     "data": {
      "text/html": [
       "<pre style=\"white-space:pre;overflow-x:auto;line-height:normal;font-family:Menlo,'DejaVu Sans Mono',consolas,'Courier New',monospace\">10:29:48.151 | <span style=\"color: #008080; text-decoration-color: #008080\">INFO</span>    | Task run 'process_pool_vol-f3874c79-12' - Finished in state <span style=\"color: #008000; text-decoration-color: #008000\">Completed</span>()\n",
       "</pre>\n"
      ],
      "text/plain": [
       "10:29:48.151 | \u001b[36mINFO\u001b[0m    | Task run 'process_pool_vol-f3874c79-12' - Finished in state \u001b[32mCompleted\u001b[0m()\n"
      ]
     },
     "metadata": {},
     "output_type": "display_data"
    },
    {
     "data": {
      "text/html": [
       "<pre style=\"white-space:pre;overflow-x:auto;line-height:normal;font-family:Menlo,'DejaVu Sans Mono',consolas,'Courier New',monospace\">10:29:48.169 | <span style=\"color: #008080; text-decoration-color: #008080\">INFO</span>    | Flow run<span style=\"color: #800080; text-decoration-color: #800080\"> 'nickel-iguana'</span> - Finished in state <span style=\"color: #008000; text-decoration-color: #008000\">Completed</span>()\n",
       "</pre>\n"
      ],
      "text/plain": [
       "10:29:48.169 | \u001b[36mINFO\u001b[0m    | Flow run\u001b[35m 'nickel-iguana'\u001b[0m - Finished in state \u001b[32mCompleted\u001b[0m()\n"
      ]
     },
     "metadata": {},
     "output_type": "display_data"
    },
    {
     "data": {
      "text/html": [
       "<pre style=\"white-space:pre;overflow-x:auto;line-height:normal;font-family:Menlo,'DejaVu Sans Mono',consolas,'Courier New',monospace\">10:29:48.177 | <span style=\"color: #008080; text-decoration-color: #008080\">INFO</span>    | Flow run<span style=\"color: #800080; text-decoration-color: #800080\"> 'snobbish-collie'</span> - Finished in state <span style=\"color: #008000; text-decoration-color: #008000\">Completed</span>()\n",
       "</pre>\n"
      ],
      "text/plain": [
       "10:29:48.177 | \u001b[36mINFO\u001b[0m    | Flow run\u001b[35m 'snobbish-collie'\u001b[0m - Finished in state \u001b[32mCompleted\u001b[0m()\n"
      ]
     },
     "metadata": {},
     "output_type": "display_data"
    },
    {
     "name": "stderr",
     "output_type": "stream",
     "text": [
      "sys:1: ResourceWarning: Unclosed socket <zmq.Socket(zmq.PUSH) at 0x2aa941900>\n",
      "ResourceWarning: Enable tracemalloc to get the object allocation traceback\n"
     ]
    }
   ],
   "source": [
    "async with get_client() as client:\n",
    "    # set a concurrency limit of 10 on the 'small_instance' tag\n",
    "    limit_id = await client.create_concurrency_limit(tag=\"curve_subgraph\", concurrency_limit=16)\n",
    "\n",
    "data = flow_fraxbp_vs_3pool()"
   ]
  },
  {
   "cell_type": "code",
   "execution_count": 153,
   "id": "6814cd4b-bfbc-4cc9-b876-7ea01fa59898",
   "metadata": {},
   "outputs": [],
   "source": [
    "data_3pool = data['3crv']\n",
    "df_3pool_reserves = data_3pool['reserves']\n",
    "df_3pool_volume = data_3pool['volume']\n",
    "\n",
    "data_fraxbp = data['crvfrax'] \n",
    "df_fraxbp_reserves = data_fraxbp['reserves']\n",
    "df_fraxbp_volume = data_fraxbp['volume']"
   ]
  },
  {
   "cell_type": "code",
   "execution_count": 174,
   "id": "21ddbc16-8df0-4d1f-921f-672619f7ed4a",
   "metadata": {},
   "outputs": [],
   "source": [
    "def chart_metapool_tvl(df, coin_name):\n",
    "    df_mp = df.loc[df.coin_name == coin_name].groupby(\"timestamp\")['reserves_usd'].sum().reset_index()\n",
    "    df_mp['segment'] = coin_name\n",
    "    df_mp_paired = df.loc[df.coin_name != coin_name].groupby(\"timestamp\")['reserves_usd'].sum().reset_index()\n",
    "    df_mp_paired['segment'] = 'paired asset'\n",
    "    df_full = pd.concat([df_mp, df_mp_paired])\n",
    "    return (\n",
    "        alt.Chart(df_full)\n",
    "        .mark_area()\n",
    "        .encode(\n",
    "            x=\"timestamp:T\", \n",
    "            y=\"reserves_usd:Q\", \n",
    "            color=\"segment:N\", \n",
    "            tooltip=[\"timestamp\", alt.Tooltip(\"reserves_usd\", format=\"$,d\"), \"segment\"]\n",
    "        )\n",
    "    )"
   ]
  },
  {
   "cell_type": "code",
   "execution_count": 175,
   "id": "71134712-1b9f-4068-9b34-8fe39fce00e1",
   "metadata": {},
   "outputs": [
    {
     "name": "stdout",
     "output_type": "stream",
     "text": [
      "TVL paired against crvFRAX across FraxBP metapools: $61,534,617.965511166\n",
      "TVL paired against 3Crv across 3Pool metapools: $495,541,717.5670791\n",
      "Ratio of paired liquidity of FraxBP to 3Pool: 12.4%\n"
     ]
    },
    {
     "name": "stderr",
     "output_type": "stream",
     "text": [
      "/opt/miniconda3/envs/flywheel/lib/python3.10/site-packages/altair/utils/core.py:317: FutureWarning: iteritems is deprecated and will be removed in a future version. Use .items instead.\n",
      "  for col_name, dtype in df.dtypes.iteritems():\n"
     ]
    },
    {
     "data": {
      "text/html": [
       "\n",
       "<div id=\"altair-viz-5e440a74d5d044ff853e8940be9e9dfd\"></div>\n",
       "<script type=\"text/javascript\">\n",
       "  var VEGA_DEBUG = (typeof VEGA_DEBUG == \"undefined\") ? {} : VEGA_DEBUG;\n",
       "  (function(spec, embedOpt){\n",
       "    let outputDiv = document.currentScript.previousElementSibling;\n",
       "    if (outputDiv.id !== \"altair-viz-5e440a74d5d044ff853e8940be9e9dfd\") {\n",
       "      outputDiv = document.getElementById(\"altair-viz-5e440a74d5d044ff853e8940be9e9dfd\");\n",
       "    }\n",
       "    const paths = {\n",
       "      \"vega\": \"https://cdn.jsdelivr.net/npm//vega@5?noext\",\n",
       "      \"vega-lib\": \"https://cdn.jsdelivr.net/npm//vega-lib?noext\",\n",
       "      \"vega-lite\": \"https://cdn.jsdelivr.net/npm//vega-lite@4.17.0?noext\",\n",
       "      \"vega-embed\": \"https://cdn.jsdelivr.net/npm//vega-embed@6?noext\",\n",
       "    };\n",
       "\n",
       "    function maybeLoadScript(lib, version) {\n",
       "      var key = `${lib.replace(\"-\", \"\")}_version`;\n",
       "      return (VEGA_DEBUG[key] == version) ?\n",
       "        Promise.resolve(paths[lib]) :\n",
       "        new Promise(function(resolve, reject) {\n",
       "          var s = document.createElement('script');\n",
       "          document.getElementsByTagName(\"head\")[0].appendChild(s);\n",
       "          s.async = true;\n",
       "          s.onload = () => {\n",
       "            VEGA_DEBUG[key] = version;\n",
       "            return resolve(paths[lib]);\n",
       "          };\n",
       "          s.onerror = () => reject(`Error loading script: ${paths[lib]}`);\n",
       "          s.src = paths[lib];\n",
       "        });\n",
       "    }\n",
       "\n",
       "    function showError(err) {\n",
       "      outputDiv.innerHTML = `<div class=\"error\" style=\"color:red;\">${err}</div>`;\n",
       "      throw err;\n",
       "    }\n",
       "\n",
       "    function displayChart(vegaEmbed) {\n",
       "      vegaEmbed(outputDiv, spec, embedOpt)\n",
       "        .catch(err => showError(`Javascript Error: ${err.message}<br>This usually means there's a typo in your chart specification. See the javascript console for the full traceback.`));\n",
       "    }\n",
       "\n",
       "    if(typeof define === \"function\" && define.amd) {\n",
       "      requirejs.config({paths});\n",
       "      require([\"vega-embed\"], displayChart, err => showError(`Error loading script: ${err.message}`));\n",
       "    } else {\n",
       "      maybeLoadScript(\"vega\", \"5\")\n",
       "        .then(() => maybeLoadScript(\"vega-lite\", \"4.17.0\"))\n",
       "        .then(() => maybeLoadScript(\"vega-embed\", \"6\"))\n",
       "        .catch(showError)\n",
       "        .then(() => displayChart(vegaEmbed));\n",
       "    }\n",
       "  })({\"config\": {\"view\": {\"continuousWidth\": 400, \"continuousHeight\": 300}}, \"hconcat\": [{\"data\": {\"name\": \"data-e882dc191762b3aebea200610c3df328\"}, \"mark\": \"area\", \"encoding\": {\"color\": {\"field\": \"segment\", \"type\": \"nominal\"}, \"tooltip\": [{\"field\": \"timestamp\", \"type\": \"temporal\"}, {\"field\": \"reserves_usd\", \"format\": \"$,d\", \"type\": \"quantitative\"}, {\"field\": \"segment\", \"type\": \"nominal\"}], \"x\": {\"field\": \"timestamp\", \"type\": \"temporal\"}, \"y\": {\"field\": \"reserves_usd\", \"type\": \"quantitative\"}}, \"title\": \"Reserves: FraxBP Metapools\"}, {\"data\": {\"name\": \"data-f3b2d7b7257afc0cc57c33a62a9994af\"}, \"mark\": \"area\", \"encoding\": {\"color\": {\"field\": \"segment\", \"type\": \"nominal\"}, \"tooltip\": [{\"field\": \"timestamp\", \"type\": \"temporal\"}, {\"field\": \"reserves_usd\", \"format\": \"$,d\", \"type\": \"quantitative\"}, {\"field\": \"segment\", \"type\": \"nominal\"}], \"x\": {\"field\": \"timestamp\", \"type\": \"temporal\"}, \"y\": {\"field\": \"reserves_usd\", \"type\": \"quantitative\"}}, \"title\": \"Reserves: 3Pool Metapools\"}], \"$schema\": \"https://vega.github.io/schema/vega-lite/v4.17.0.json\", \"datasets\": {\"data-e882dc191762b3aebea200610c3df328\": [{\"timestamp\": \"2022-06-30T00:00:00\", \"reserves_usd\": 0.0, \"segment\": \"crvFRAX\"}, {\"timestamp\": \"2022-07-01T00:00:00\", \"reserves_usd\": 0.0, \"segment\": \"crvFRAX\"}, {\"timestamp\": \"2022-07-02T00:00:00\", \"reserves_usd\": 8169503.562444324, \"segment\": \"crvFRAX\"}, {\"timestamp\": \"2022-07-03T00:00:00\", \"reserves_usd\": 7921609.785487978, \"segment\": \"crvFRAX\"}, {\"timestamp\": \"2022-07-04T00:00:00\", \"reserves_usd\": 8179200.3371362975, \"segment\": \"crvFRAX\"}, {\"timestamp\": \"2022-07-05T00:00:00\", \"reserves_usd\": 8567751.33652323, \"segment\": \"crvFRAX\"}, {\"timestamp\": \"2022-07-06T00:00:00\", \"reserves_usd\": 8555728.859133597, \"segment\": \"crvFRAX\"}, {\"timestamp\": \"2022-07-07T00:00:00\", \"reserves_usd\": 8666547.091651907, \"segment\": \"crvFRAX\"}, {\"timestamp\": \"2022-07-08T00:00:00\", \"reserves_usd\": 8569638.315627117, \"segment\": \"crvFRAX\"}, {\"timestamp\": \"2022-07-09T00:00:00\", \"reserves_usd\": 8885442.099596458, \"segment\": \"crvFRAX\"}, {\"timestamp\": \"2022-07-10T00:00:00\", \"reserves_usd\": 8961450.954933729, \"segment\": \"crvFRAX\"}, {\"timestamp\": \"2022-07-11T00:00:00\", \"reserves_usd\": 8892555.087019335, \"segment\": \"crvFRAX\"}, {\"timestamp\": \"2022-07-12T00:00:00\", \"reserves_usd\": 8844839.678920684, \"segment\": \"crvFRAX\"}, {\"timestamp\": \"2022-07-13T00:00:00\", \"reserves_usd\": 8895134.0951887, \"segment\": \"crvFRAX\"}, {\"timestamp\": \"2022-07-14T00:00:00\", \"reserves_usd\": 9076868.521140248, \"segment\": \"crvFRAX\"}, {\"timestamp\": \"2022-07-15T00:00:00\", \"reserves_usd\": 8991530.299274165, \"segment\": \"crvFRAX\"}, {\"timestamp\": \"2022-07-16T00:00:00\", \"reserves_usd\": 8943998.185449272, \"segment\": \"crvFRAX\"}, {\"timestamp\": \"2022-07-17T00:00:00\", \"reserves_usd\": 9017313.938456729, \"segment\": \"crvFRAX\"}, {\"timestamp\": \"2022-07-18T00:00:00\", \"reserves_usd\": 9014843.639966935, \"segment\": \"crvFRAX\"}, {\"timestamp\": \"2022-07-19T00:00:00\", \"reserves_usd\": 8967772.353557996, \"segment\": \"crvFRAX\"}, {\"timestamp\": \"2022-07-20T00:00:00\", \"reserves_usd\": 8965275.877716087, \"segment\": \"crvFRAX\"}, {\"timestamp\": \"2022-07-21T00:00:00\", \"reserves_usd\": 8971954.001651632, \"segment\": \"crvFRAX\"}, {\"timestamp\": \"2022-07-22T00:00:00\", \"reserves_usd\": 8899973.962250292, \"segment\": \"crvFRAX\"}, {\"timestamp\": \"2022-07-23T00:00:00\", \"reserves_usd\": 8870319.233275661, \"segment\": \"crvFRAX\"}, {\"timestamp\": \"2022-07-24T00:00:00\", \"reserves_usd\": 8906024.630215174, \"segment\": \"crvFRAX\"}, {\"timestamp\": \"2022-07-25T00:00:00\", \"reserves_usd\": 8806956.385617778, \"segment\": \"crvFRAX\"}, {\"timestamp\": \"2022-07-26T00:00:00\", \"reserves_usd\": 8692603.405409561, \"segment\": \"crvFRAX\"}, {\"timestamp\": \"2022-07-27T00:00:00\", \"reserves_usd\": 8718106.521342922, \"segment\": \"crvFRAX\"}, {\"timestamp\": \"2022-07-28T00:00:00\", \"reserves_usd\": 8795803.177752346, \"segment\": \"crvFRAX\"}, {\"timestamp\": \"2022-07-29T00:00:00\", \"reserves_usd\": 12585594.356894761, \"segment\": \"crvFRAX\"}, {\"timestamp\": \"2022-07-30T00:00:00\", \"reserves_usd\": 15886527.662436113, \"segment\": \"crvFRAX\"}, {\"timestamp\": \"2022-07-31T00:00:00\", \"reserves_usd\": 15460896.838959724, \"segment\": \"crvFRAX\"}, {\"timestamp\": \"2022-08-01T00:00:00\", \"reserves_usd\": 17160249.424259398, \"segment\": \"crvFRAX\"}, {\"timestamp\": \"2022-08-02T00:00:00\", \"reserves_usd\": 18753444.452247985, \"segment\": \"crvFRAX\"}, {\"timestamp\": \"2022-08-03T00:00:00\", \"reserves_usd\": 19758884.76950303, \"segment\": \"crvFRAX\"}, {\"timestamp\": \"2022-08-04T00:00:00\", \"reserves_usd\": 20534767.585274298, \"segment\": \"crvFRAX\"}, {\"timestamp\": \"2022-08-05T00:00:00\", \"reserves_usd\": 21291976.00242664, \"segment\": \"crvFRAX\"}, {\"timestamp\": \"2022-08-06T00:00:00\", \"reserves_usd\": 23794637.798345618, \"segment\": \"crvFRAX\"}, {\"timestamp\": \"2022-08-07T00:00:00\", \"reserves_usd\": 24543769.07310206, \"segment\": \"crvFRAX\"}, {\"timestamp\": \"2022-08-08T00:00:00\", \"reserves_usd\": 23942993.51493675, \"segment\": \"crvFRAX\"}, {\"timestamp\": \"2022-08-09T00:00:00\", \"reserves_usd\": 24549583.809524626, \"segment\": \"crvFRAX\"}, {\"timestamp\": \"2022-08-10T00:00:00\", \"reserves_usd\": 28119738.542576946, \"segment\": \"crvFRAX\"}, {\"timestamp\": \"2022-08-11T00:00:00\", \"reserves_usd\": 29248999.505861133, \"segment\": \"crvFRAX\"}, {\"timestamp\": \"2022-08-12T00:00:00\", \"reserves_usd\": 31098663.646777805, \"segment\": \"crvFRAX\"}, {\"timestamp\": \"2022-08-13T00:00:00\", \"reserves_usd\": 32311582.925266974, \"segment\": \"crvFRAX\"}, {\"timestamp\": \"2022-08-14T00:00:00\", \"reserves_usd\": 31583758.248966895, \"segment\": \"crvFRAX\"}, {\"timestamp\": \"2022-08-15T00:00:00\", \"reserves_usd\": 31448200.08835275, \"segment\": \"crvFRAX\"}, {\"timestamp\": \"2022-08-16T00:00:00\", \"reserves_usd\": 31769926.75847234, \"segment\": \"crvFRAX\"}, {\"timestamp\": \"2022-08-17T00:00:00\", \"reserves_usd\": 33393306.42193775, \"segment\": \"crvFRAX\"}, {\"timestamp\": \"2022-08-18T00:00:00\", \"reserves_usd\": 50515577.82632239, \"segment\": \"crvFRAX\"}, {\"timestamp\": \"2022-08-19T00:00:00\", \"reserves_usd\": 50384023.31329102, \"segment\": \"crvFRAX\"}, {\"timestamp\": \"2022-08-20T00:00:00\", \"reserves_usd\": 49103247.81407383, \"segment\": \"crvFRAX\"}, {\"timestamp\": \"2022-08-21T00:00:00\", \"reserves_usd\": 48183650.310082644, \"segment\": \"crvFRAX\"}, {\"timestamp\": \"2022-08-22T00:00:00\", \"reserves_usd\": 50742586.654491335, \"segment\": \"crvFRAX\"}, {\"timestamp\": \"2022-08-23T00:00:00\", \"reserves_usd\": 49451076.65883599, \"segment\": \"crvFRAX\"}, {\"timestamp\": \"2022-08-24T00:00:00\", \"reserves_usd\": 49592300.56531403, \"segment\": \"crvFRAX\"}, {\"timestamp\": \"2022-08-25T00:00:00\", \"reserves_usd\": 49376624.167885505, \"segment\": \"crvFRAX\"}, {\"timestamp\": \"2022-08-26T00:00:00\", \"reserves_usd\": 51029329.895453334, \"segment\": \"crvFRAX\"}, {\"timestamp\": \"2022-08-27T00:00:00\", \"reserves_usd\": 52864165.53539538, \"segment\": \"crvFRAX\"}, {\"timestamp\": \"2022-08-28T00:00:00\", \"reserves_usd\": 52775312.420669116, \"segment\": \"crvFRAX\"}, {\"timestamp\": \"2022-08-29T00:00:00\", \"reserves_usd\": 50161241.42970666, \"segment\": \"crvFRAX\"}, {\"timestamp\": \"2022-08-30T00:00:00\", \"reserves_usd\": 49186458.43054578, \"segment\": \"crvFRAX\"}, {\"timestamp\": \"2022-08-31T00:00:00\", \"reserves_usd\": 49713469.1105896, \"segment\": \"crvFRAX\"}, {\"timestamp\": \"2022-09-01T00:00:00\", \"reserves_usd\": 49827971.910006374, \"segment\": \"crvFRAX\"}, {\"timestamp\": \"2022-09-02T00:00:00\", \"reserves_usd\": 51490829.64218303, \"segment\": \"crvFRAX\"}, {\"timestamp\": \"2022-09-03T00:00:00\", \"reserves_usd\": 52529048.01897725, \"segment\": \"crvFRAX\"}, {\"timestamp\": \"2022-09-04T00:00:00\", \"reserves_usd\": 53057542.16381239, \"segment\": \"crvFRAX\"}, {\"timestamp\": \"2022-09-05T00:00:00\", \"reserves_usd\": 53181556.751987845, \"segment\": \"crvFRAX\"}, {\"timestamp\": \"2022-09-06T00:00:00\", \"reserves_usd\": 52463487.8266507, \"segment\": \"crvFRAX\"}, {\"timestamp\": \"2022-09-07T00:00:00\", \"reserves_usd\": 52440366.11926872, \"segment\": \"crvFRAX\"}, {\"timestamp\": \"2022-09-08T00:00:00\", \"reserves_usd\": 50601701.160455994, \"segment\": \"crvFRAX\"}, {\"timestamp\": \"2022-09-09T00:00:00\", \"reserves_usd\": 57122483.77492539, \"segment\": \"crvFRAX\"}, {\"timestamp\": \"2022-09-10T00:00:00\", \"reserves_usd\": 58420077.3212657, \"segment\": \"crvFRAX\"}, {\"timestamp\": \"2022-09-11T00:00:00\", \"reserves_usd\": 59222057.66127549, \"segment\": \"crvFRAX\"}, {\"timestamp\": \"2022-09-12T00:00:00\", \"reserves_usd\": 60345399.11671852, \"segment\": \"crvFRAX\"}, {\"timestamp\": \"2022-09-13T00:00:00\", \"reserves_usd\": 60400948.25361455, \"segment\": \"crvFRAX\"}, {\"timestamp\": \"2022-09-14T00:00:00\", \"reserves_usd\": 61060903.805383846, \"segment\": \"crvFRAX\"}, {\"timestamp\": \"2022-09-15T00:00:00\", \"reserves_usd\": 58926276.56492998, \"segment\": \"crvFRAX\"}, {\"timestamp\": \"2022-09-16T00:00:00\", \"reserves_usd\": 61281168.20544682, \"segment\": \"crvFRAX\"}, {\"timestamp\": \"2022-09-17T00:00:00\", \"reserves_usd\": 61538201.67436792, \"segment\": \"crvFRAX\"}, {\"timestamp\": \"2022-09-18T00:00:00\", \"reserves_usd\": 64141919.45425944, \"segment\": \"crvFRAX\"}, {\"timestamp\": \"2022-09-19T00:00:00\", \"reserves_usd\": 64365393.955293834, \"segment\": \"crvFRAX\"}, {\"timestamp\": \"2022-09-20T00:00:00\", \"reserves_usd\": 62280148.29443927, \"segment\": \"crvFRAX\"}, {\"timestamp\": \"2022-09-21T00:00:00\", \"reserves_usd\": 61613459.61735435, \"segment\": \"crvFRAX\"}, {\"timestamp\": \"2022-09-22T00:00:00\", \"reserves_usd\": 61782687.87226564, \"segment\": \"crvFRAX\"}, {\"timestamp\": \"2022-09-23T00:00:00\", \"reserves_usd\": 64806344.267192364, \"segment\": \"crvFRAX\"}, {\"timestamp\": \"2022-09-24T00:00:00\", \"reserves_usd\": 65792816.959245205, \"segment\": \"crvFRAX\"}, {\"timestamp\": \"2022-09-25T00:00:00\", \"reserves_usd\": 66393405.86787629, \"segment\": \"crvFRAX\"}, {\"timestamp\": \"2022-09-26T00:00:00\", \"reserves_usd\": 68813694.6077195, \"segment\": \"crvFRAX\"}, {\"timestamp\": \"2022-09-27T00:00:00\", \"reserves_usd\": 70066110.21089146, \"segment\": \"crvFRAX\"}, {\"timestamp\": \"2022-09-28T00:00:00\", \"reserves_usd\": 70868866.07412353, \"segment\": \"crvFRAX\"}, {\"timestamp\": \"2022-09-29T00:00:00\", \"reserves_usd\": 67165104.63504826, \"segment\": \"crvFRAX\"}, {\"timestamp\": \"2022-09-30T00:00:00\", \"reserves_usd\": 69479106.14709601, \"segment\": \"crvFRAX\"}, {\"timestamp\": \"2022-10-01T00:00:00\", \"reserves_usd\": 73218700.36351034, \"segment\": \"crvFRAX\"}, {\"timestamp\": \"2022-10-02T00:00:00\", \"reserves_usd\": 73599798.18100895, \"segment\": \"crvFRAX\"}, {\"timestamp\": \"2022-10-03T00:00:00\", \"reserves_usd\": 73240530.52237122, \"segment\": \"crvFRAX\"}, {\"timestamp\": \"2022-10-04T00:00:00\", \"reserves_usd\": 73667457.33098932, \"segment\": \"crvFRAX\"}, {\"timestamp\": \"2022-10-05T00:00:00\", \"reserves_usd\": 75048354.46848948, \"segment\": \"crvFRAX\"}, {\"timestamp\": \"2022-10-06T00:00:00\", \"reserves_usd\": 76876067.33903909, \"segment\": \"crvFRAX\"}, {\"timestamp\": \"2022-10-07T00:00:00\", \"reserves_usd\": 74356271.16675118, \"segment\": \"crvFRAX\"}, {\"timestamp\": \"2022-10-08T00:00:00\", \"reserves_usd\": 79259816.58899511, \"segment\": \"crvFRAX\"}, {\"timestamp\": \"2022-10-09T00:00:00\", \"reserves_usd\": 80159482.77996327, \"segment\": \"crvFRAX\"}, {\"timestamp\": \"2022-10-10T00:00:00\", \"reserves_usd\": 78180989.2491408, \"segment\": \"crvFRAX\"}, {\"timestamp\": \"2022-10-11T00:00:00\", \"reserves_usd\": 80174058.02590504, \"segment\": \"crvFRAX\"}, {\"timestamp\": \"2022-10-12T00:00:00\", \"reserves_usd\": 79099746.41245005, \"segment\": \"crvFRAX\"}, {\"timestamp\": \"2022-10-13T00:00:00\", \"reserves_usd\": 83141492.36412095, \"segment\": \"crvFRAX\"}, {\"timestamp\": \"2022-10-14T00:00:00\", \"reserves_usd\": 86264272.71260034, \"segment\": \"crvFRAX\"}, {\"timestamp\": \"2022-10-15T00:00:00\", \"reserves_usd\": 79715469.45055367, \"segment\": \"crvFRAX\"}, {\"timestamp\": \"2022-10-16T00:00:00\", \"reserves_usd\": 79151534.98648652, \"segment\": \"crvFRAX\"}, {\"timestamp\": \"2022-10-17T00:00:00\", \"reserves_usd\": 80033757.6118728, \"segment\": \"crvFRAX\"}, {\"timestamp\": \"2022-10-18T00:00:00\", \"reserves_usd\": 80360973.33306453, \"segment\": \"crvFRAX\"}, {\"timestamp\": \"2022-10-19T00:00:00\", \"reserves_usd\": 81627162.14339429, \"segment\": \"crvFRAX\"}, {\"timestamp\": \"2022-10-20T00:00:00\", \"reserves_usd\": 83487766.72588894, \"segment\": \"crvFRAX\"}, {\"timestamp\": \"2022-10-21T00:00:00\", \"reserves_usd\": 82288879.64084114, \"segment\": \"crvFRAX\"}, {\"timestamp\": \"2022-10-22T00:00:00\", \"reserves_usd\": 88164737.79644667, \"segment\": \"crvFRAX\"}, {\"timestamp\": \"2022-10-23T00:00:00\", \"reserves_usd\": 91109132.9689619, \"segment\": \"crvFRAX\"}, {\"timestamp\": \"2022-10-24T00:00:00\", \"reserves_usd\": 90927187.20464824, \"segment\": \"crvFRAX\"}, {\"timestamp\": \"2022-10-25T00:00:00\", \"reserves_usd\": 91141045.01368573, \"segment\": \"crvFRAX\"}, {\"timestamp\": \"2022-10-26T00:00:00\", \"reserves_usd\": 91750178.10794576, \"segment\": \"crvFRAX\"}, {\"timestamp\": \"2022-10-27T00:00:00\", \"reserves_usd\": 91224592.13550681, \"segment\": \"crvFRAX\"}, {\"timestamp\": \"2022-10-28T00:00:00\", \"reserves_usd\": 93608653.99483769, \"segment\": \"crvFRAX\"}, {\"timestamp\": \"2022-10-29T00:00:00\", \"reserves_usd\": 105695734.11016639, \"segment\": \"crvFRAX\"}, {\"timestamp\": \"2022-10-30T00:00:00\", \"reserves_usd\": 106905365.40990043, \"segment\": \"crvFRAX\"}, {\"timestamp\": \"2022-10-31T00:00:00\", \"reserves_usd\": 107234033.58102268, \"segment\": \"crvFRAX\"}, {\"timestamp\": \"2022-11-01T00:00:00\", \"reserves_usd\": 109074430.53507797, \"segment\": \"crvFRAX\"}, {\"timestamp\": \"2022-11-02T00:00:00\", \"reserves_usd\": 113590335.73055552, \"segment\": \"crvFRAX\"}, {\"timestamp\": \"2022-11-03T00:00:00\", \"reserves_usd\": 114234531.8920292, \"segment\": \"crvFRAX\"}, {\"timestamp\": \"2022-11-04T00:00:00\", \"reserves_usd\": 116669865.46802196, \"segment\": \"crvFRAX\"}, {\"timestamp\": \"2022-11-05T00:00:00\", \"reserves_usd\": 119181341.33399451, \"segment\": \"crvFRAX\"}, {\"timestamp\": \"2022-11-06T00:00:00\", \"reserves_usd\": 114810284.10033163, \"segment\": \"crvFRAX\"}, {\"timestamp\": \"2022-11-07T00:00:00\", \"reserves_usd\": 110956476.4273684, \"segment\": \"crvFRAX\"}, {\"timestamp\": \"2022-11-08T00:00:00\", \"reserves_usd\": 111789508.00771196, \"segment\": \"crvFRAX\"}, {\"timestamp\": \"2022-11-09T00:00:00\", \"reserves_usd\": 104143215.23312019, \"segment\": \"crvFRAX\"}, {\"timestamp\": \"2022-11-10T00:00:00\", \"reserves_usd\": 89111971.31982301, \"segment\": \"crvFRAX\"}, {\"timestamp\": \"2022-11-11T00:00:00\", \"reserves_usd\": 82952414.94601844, \"segment\": \"crvFRAX\"}, {\"timestamp\": \"2022-11-12T00:00:00\", \"reserves_usd\": 82525744.13476531, \"segment\": \"crvFRAX\"}, {\"timestamp\": \"2022-11-13T00:00:00\", \"reserves_usd\": 83860566.04741237, \"segment\": \"crvFRAX\"}, {\"timestamp\": \"2022-11-14T00:00:00\", \"reserves_usd\": 75581146.45247595, \"segment\": \"crvFRAX\"}, {\"timestamp\": \"2022-11-15T00:00:00\", \"reserves_usd\": 72339927.7792804, \"segment\": \"crvFRAX\"}, {\"timestamp\": \"2022-11-16T00:00:00\", \"reserves_usd\": 72114060.18248934, \"segment\": \"crvFRAX\"}, {\"timestamp\": \"2022-11-17T00:00:00\", \"reserves_usd\": 70361172.06875971, \"segment\": \"crvFRAX\"}, {\"timestamp\": \"2022-11-18T00:00:00\", \"reserves_usd\": 65813209.84592739, \"segment\": \"crvFRAX\"}, {\"timestamp\": \"2022-11-19T00:00:00\", \"reserves_usd\": 65706011.53106061, \"segment\": \"crvFRAX\"}, {\"timestamp\": \"2022-11-20T00:00:00\", \"reserves_usd\": 66150490.93536655, \"segment\": \"crvFRAX\"}, {\"timestamp\": \"2022-11-21T00:00:00\", \"reserves_usd\": 65569349.08466535, \"segment\": \"crvFRAX\"}, {\"timestamp\": \"2022-11-22T00:00:00\", \"reserves_usd\": 62577653.30172376, \"segment\": \"crvFRAX\"}, {\"timestamp\": \"2022-11-23T00:00:00\", \"reserves_usd\": 53932731.13987376, \"segment\": \"crvFRAX\"}, {\"timestamp\": \"2022-11-24T00:00:00\", \"reserves_usd\": 56389535.65644228, \"segment\": \"crvFRAX\"}, {\"timestamp\": \"2022-11-25T00:00:00\", \"reserves_usd\": 58748784.7349704, \"segment\": \"crvFRAX\"}, {\"timestamp\": \"2022-11-26T00:00:00\", \"reserves_usd\": 58348825.33422875, \"segment\": \"crvFRAX\"}, {\"timestamp\": \"2022-11-27T00:00:00\", \"reserves_usd\": 58515392.59913282, \"segment\": \"crvFRAX\"}, {\"timestamp\": \"2022-11-28T00:00:00\", \"reserves_usd\": 58756205.56798623, \"segment\": \"crvFRAX\"}, {\"timestamp\": \"2022-11-29T00:00:00\", \"reserves_usd\": 58390625.29624032, \"segment\": \"crvFRAX\"}, {\"timestamp\": \"2022-11-30T00:00:00\", \"reserves_usd\": 58987371.508774795, \"segment\": \"crvFRAX\"}, {\"timestamp\": \"2022-12-01T00:00:00\", \"reserves_usd\": 58601098.123351984, \"segment\": \"crvFRAX\"}, {\"timestamp\": \"2022-12-02T00:00:00\", \"reserves_usd\": 63880334.416902326, \"segment\": \"crvFRAX\"}, {\"timestamp\": \"2022-12-03T00:00:00\", \"reserves_usd\": 65681562.27836067, \"segment\": \"crvFRAX\"}, {\"timestamp\": \"2022-12-04T00:00:00\", \"reserves_usd\": 66848690.62021494, \"segment\": \"crvFRAX\"}, {\"timestamp\": \"2022-12-05T00:00:00\", \"reserves_usd\": 66599076.28059409, \"segment\": \"crvFRAX\"}, {\"timestamp\": \"2022-12-06T00:00:00\", \"reserves_usd\": 63835283.40314325, \"segment\": \"crvFRAX\"}, {\"timestamp\": \"2022-12-07T00:00:00\", \"reserves_usd\": 62921466.483762346, \"segment\": \"crvFRAX\"}, {\"timestamp\": \"2022-12-08T00:00:00\", \"reserves_usd\": 61490160.72706611, \"segment\": \"crvFRAX\"}, {\"timestamp\": \"2022-12-09T00:00:00\", \"reserves_usd\": 61524607.864935964, \"segment\": \"crvFRAX\"}, {\"timestamp\": \"2022-12-10T00:00:00\", \"reserves_usd\": 61112213.45566546, \"segment\": \"crvFRAX\"}, {\"timestamp\": \"2022-12-11T00:00:00\", \"reserves_usd\": 61769141.564923316, \"segment\": \"crvFRAX\"}, {\"timestamp\": \"2022-12-12T00:00:00\", \"reserves_usd\": 60875410.75274462, \"segment\": \"crvFRAX\"}, {\"timestamp\": \"2022-12-13T00:00:00\", \"reserves_usd\": 59623071.19169136, \"segment\": \"crvFRAX\"}, {\"timestamp\": \"2022-12-14T00:00:00\", \"reserves_usd\": 58778161.333917804, \"segment\": \"crvFRAX\"}, {\"timestamp\": \"2022-12-15T00:00:00\", \"reserves_usd\": 59068487.05690647, \"segment\": \"crvFRAX\"}, {\"timestamp\": \"2022-12-16T00:00:00\", \"reserves_usd\": 59663488.73007247, \"segment\": \"crvFRAX\"}, {\"timestamp\": \"2022-12-17T00:00:00\", \"reserves_usd\": 58870260.05399047, \"segment\": \"crvFRAX\"}, {\"timestamp\": \"2022-12-18T00:00:00\", \"reserves_usd\": 58227067.52180031, \"segment\": \"crvFRAX\"}, {\"timestamp\": \"2022-12-19T00:00:00\", \"reserves_usd\": 58709244.15758326, \"segment\": \"crvFRAX\"}, {\"timestamp\": \"2022-12-20T00:00:00\", \"reserves_usd\": 55912064.14389621, \"segment\": \"crvFRAX\"}, {\"timestamp\": \"2022-12-21T00:00:00\", \"reserves_usd\": 55042623.68816449, \"segment\": \"crvFRAX\"}, {\"timestamp\": \"2022-12-22T00:00:00\", \"reserves_usd\": 55980105.77584466, \"segment\": \"crvFRAX\"}, {\"timestamp\": \"2022-12-23T00:00:00\", \"reserves_usd\": 54628988.80357528, \"segment\": \"crvFRAX\"}, {\"timestamp\": \"2022-12-24T00:00:00\", \"reserves_usd\": 54295693.20841144, \"segment\": \"crvFRAX\"}, {\"timestamp\": \"2022-12-25T00:00:00\", \"reserves_usd\": 54494296.5197336, \"segment\": \"crvFRAX\"}, {\"timestamp\": \"2022-12-26T00:00:00\", \"reserves_usd\": 54358180.39756139, \"segment\": \"crvFRAX\"}, {\"timestamp\": \"2022-12-27T00:00:00\", \"reserves_usd\": 53722738.636316836, \"segment\": \"crvFRAX\"}, {\"timestamp\": \"2022-12-28T00:00:00\", \"reserves_usd\": 53196930.43233368, \"segment\": \"crvFRAX\"}, {\"timestamp\": \"2022-12-29T00:00:00\", \"reserves_usd\": 54394471.72368355, \"segment\": \"crvFRAX\"}, {\"timestamp\": \"2022-12-30T00:00:00\", \"reserves_usd\": 54408963.34855896, \"segment\": \"crvFRAX\"}, {\"timestamp\": \"2022-12-31T00:00:00\", \"reserves_usd\": 54759941.06318226, \"segment\": \"crvFRAX\"}, {\"timestamp\": \"2023-01-01T00:00:00\", \"reserves_usd\": 55087867.34505183, \"segment\": \"crvFRAX\"}, {\"timestamp\": \"2023-01-02T00:00:00\", \"reserves_usd\": 54974215.99162428, \"segment\": \"crvFRAX\"}, {\"timestamp\": \"2023-01-03T00:00:00\", \"reserves_usd\": 55853607.03331952, \"segment\": \"crvFRAX\"}, {\"timestamp\": \"2023-01-04T00:00:00\", \"reserves_usd\": 57729170.148083635, \"segment\": \"crvFRAX\"}, {\"timestamp\": \"2023-01-05T00:00:00\", \"reserves_usd\": 59842987.87613199, \"segment\": \"crvFRAX\"}, {\"timestamp\": \"2023-01-06T00:00:00\", \"reserves_usd\": 62919883.39853831, \"segment\": \"crvFRAX\"}, {\"timestamp\": \"2023-01-07T00:00:00\", \"reserves_usd\": 64372898.42295842, \"segment\": \"crvFRAX\"}, {\"timestamp\": \"2023-01-08T00:00:00\", \"reserves_usd\": 60697131.71667291, \"segment\": \"crvFRAX\"}, {\"timestamp\": \"2023-01-09T00:00:00\", \"reserves_usd\": 61559974.37229167, \"segment\": \"crvFRAX\"}, {\"timestamp\": \"2023-01-10T00:00:00\", \"reserves_usd\": 62007666.54788089, \"segment\": \"crvFRAX\"}, {\"timestamp\": \"2023-01-11T00:00:00\", \"reserves_usd\": 64314858.32250283, \"segment\": \"crvFRAX\"}, {\"timestamp\": \"2023-01-12T00:00:00\", \"reserves_usd\": 63972550.67308691, \"segment\": \"crvFRAX\"}, {\"timestamp\": \"2023-01-13T00:00:00\", \"reserves_usd\": 64355688.26616843, \"segment\": \"crvFRAX\"}, {\"timestamp\": \"2023-01-14T00:00:00\", \"reserves_usd\": 65135094.97915567, \"segment\": \"crvFRAX\"}, {\"timestamp\": \"2022-06-30T00:00:00\", \"reserves_usd\": 0.0, \"segment\": \"paired asset\"}, {\"timestamp\": \"2022-07-01T00:00:00\", \"reserves_usd\": 0.0, \"segment\": \"paired asset\"}, {\"timestamp\": \"2022-07-02T00:00:00\", \"reserves_usd\": 4894944.918187581, \"segment\": \"paired asset\"}, {\"timestamp\": \"2022-07-03T00:00:00\", \"reserves_usd\": 5209902.801759227, \"segment\": \"paired asset\"}, {\"timestamp\": \"2022-07-04T00:00:00\", \"reserves_usd\": 4952209.801507773, \"segment\": \"paired asset\"}, {\"timestamp\": \"2022-07-05T00:00:00\", \"reserves_usd\": 4564123.489041099, \"segment\": \"paired asset\"}, {\"timestamp\": \"2022-07-06T00:00:00\", \"reserves_usd\": 4576151.817690726, \"segment\": \"paired asset\"}, {\"timestamp\": \"2022-07-07T00:00:00\", \"reserves_usd\": 4466700.666300654, \"segment\": \"paired asset\"}, {\"timestamp\": \"2022-07-08T00:00:00\", \"reserves_usd\": 4564932.373579938, \"segment\": \"paired asset\"}, {\"timestamp\": \"2022-07-09T00:00:00\", \"reserves_usd\": 4689684.54901615, \"segment\": \"paired asset\"}, {\"timestamp\": \"2022-07-10T00:00:00\", \"reserves_usd\": 4621768.618735668, \"segment\": \"paired asset\"}, {\"timestamp\": \"2022-07-11T00:00:00\", \"reserves_usd\": 4691831.70573394, \"segment\": \"paired asset\"}, {\"timestamp\": \"2022-07-12T00:00:00\", \"reserves_usd\": 4766217.223150616, \"segment\": \"paired asset\"}, {\"timestamp\": \"2022-07-13T00:00:00\", \"reserves_usd\": 4750562.328831399, \"segment\": \"paired asset\"}, {\"timestamp\": \"2022-07-14T00:00:00\", \"reserves_usd\": 4569090.527853513, \"segment\": \"paired asset\"}, {\"timestamp\": \"2022-07-15T00:00:00\", \"reserves_usd\": 4654316.253890205, \"segment\": \"paired asset\"}, {\"timestamp\": \"2022-07-16T00:00:00\", \"reserves_usd\": 4701907.218774946, \"segment\": \"paired asset\"}, {\"timestamp\": \"2022-07-17T00:00:00\", \"reserves_usd\": 4628696.439311011, \"segment\": \"paired asset\"}, {\"timestamp\": \"2022-07-18T00:00:00\", \"reserves_usd\": 4631203.765761695, \"segment\": \"paired asset\"}, {\"timestamp\": \"2022-07-19T00:00:00\", \"reserves_usd\": 4679693.518481655, \"segment\": \"paired asset\"}, {\"timestamp\": \"2022-07-20T00:00:00\", \"reserves_usd\": 4682793.283164337, \"segment\": \"paired asset\"}, {\"timestamp\": \"2022-07-21T00:00:00\", \"reserves_usd\": 4877254.713353335, \"segment\": \"paired asset\"}, {\"timestamp\": \"2022-07-22T00:00:00\", \"reserves_usd\": 4944587.262155063, \"segment\": \"paired asset\"}, {\"timestamp\": \"2022-07-23T00:00:00\", \"reserves_usd\": 4973788.519395042, \"segment\": \"paired asset\"}, {\"timestamp\": \"2022-07-24T00:00:00\", \"reserves_usd\": 5037519.964880792, \"segment\": \"paired asset\"}, {\"timestamp\": \"2022-07-25T00:00:00\", \"reserves_usd\": 5136766.61680462, \"segment\": \"paired asset\"}, {\"timestamp\": \"2022-07-26T00:00:00\", \"reserves_usd\": 5192669.552114174, \"segment\": \"paired asset\"}, {\"timestamp\": \"2022-07-27T00:00:00\", \"reserves_usd\": 5167248.759257192, \"segment\": \"paired asset\"}, {\"timestamp\": \"2022-07-28T00:00:00\", \"reserves_usd\": 5088364.710161798, \"segment\": \"paired asset\"}, {\"timestamp\": \"2022-07-29T00:00:00\", \"reserves_usd\": 10085835.499231922, \"segment\": \"paired asset\"}, {\"timestamp\": \"2022-07-30T00:00:00\", \"reserves_usd\": 13121929.873478876, \"segment\": \"paired asset\"}, {\"timestamp\": \"2022-07-31T00:00:00\", \"reserves_usd\": 12846880.825354893, \"segment\": \"paired asset\"}, {\"timestamp\": \"2022-08-01T00:00:00\", \"reserves_usd\": 13271983.36614839, \"segment\": \"paired asset\"}, {\"timestamp\": \"2022-08-02T00:00:00\", \"reserves_usd\": 14759791.948795093, \"segment\": \"paired asset\"}, {\"timestamp\": \"2022-08-03T00:00:00\", \"reserves_usd\": 15571185.43995809, \"segment\": \"paired asset\"}, {\"timestamp\": \"2022-08-04T00:00:00\", \"reserves_usd\": 15809846.003877332, \"segment\": \"paired asset\"}, {\"timestamp\": \"2022-08-05T00:00:00\", \"reserves_usd\": 15925449.438856393, \"segment\": \"paired asset\"}, {\"timestamp\": \"2022-08-06T00:00:00\", \"reserves_usd\": 16557488.357933482, \"segment\": \"paired asset\"}, {\"timestamp\": \"2022-08-07T00:00:00\", \"reserves_usd\": 17370015.52798819, \"segment\": \"paired asset\"}, {\"timestamp\": \"2022-08-08T00:00:00\", \"reserves_usd\": 17969599.90590238, \"segment\": \"paired asset\"}, {\"timestamp\": \"2022-08-09T00:00:00\", \"reserves_usd\": 18029309.05596361, \"segment\": \"paired asset\"}, {\"timestamp\": \"2022-08-10T00:00:00\", \"reserves_usd\": 20102073.338144872, \"segment\": \"paired asset\"}, {\"timestamp\": \"2022-08-11T00:00:00\", \"reserves_usd\": 22713896.125331048, \"segment\": \"paired asset\"}, {\"timestamp\": \"2022-08-12T00:00:00\", \"reserves_usd\": 24025861.87220335, \"segment\": \"paired asset\"}, {\"timestamp\": \"2022-08-13T00:00:00\", \"reserves_usd\": 24232809.40534202, \"segment\": \"paired asset\"}, {\"timestamp\": \"2022-08-14T00:00:00\", \"reserves_usd\": 22742630.516847447, \"segment\": \"paired asset\"}, {\"timestamp\": \"2022-08-15T00:00:00\", \"reserves_usd\": 23470289.057561018, \"segment\": \"paired asset\"}, {\"timestamp\": \"2022-08-16T00:00:00\", \"reserves_usd\": 23925512.10066391, \"segment\": \"paired asset\"}, {\"timestamp\": \"2022-08-17T00:00:00\", \"reserves_usd\": 25253288.84359221, \"segment\": \"paired asset\"}, {\"timestamp\": \"2022-08-18T00:00:00\", \"reserves_usd\": 39646860.74709744, \"segment\": \"paired asset\"}, {\"timestamp\": \"2022-08-19T00:00:00\", \"reserves_usd\": 39936558.872400805, \"segment\": \"paired asset\"}, {\"timestamp\": \"2022-08-20T00:00:00\", \"reserves_usd\": 38954302.87986342, \"segment\": \"paired asset\"}, {\"timestamp\": \"2022-08-21T00:00:00\", \"reserves_usd\": 38968795.51171121, \"segment\": \"paired asset\"}, {\"timestamp\": \"2022-08-22T00:00:00\", \"reserves_usd\": 39342527.532489054, \"segment\": \"paired asset\"}, {\"timestamp\": \"2022-08-23T00:00:00\", \"reserves_usd\": 39432872.93525797, \"segment\": \"paired asset\"}, {\"timestamp\": \"2022-08-24T00:00:00\", \"reserves_usd\": 39286705.39219937, \"segment\": \"paired asset\"}, {\"timestamp\": \"2022-08-25T00:00:00\", \"reserves_usd\": 39489355.91840266, \"segment\": \"paired asset\"}, {\"timestamp\": \"2022-08-26T00:00:00\", \"reserves_usd\": 38580067.699436426, \"segment\": \"paired asset\"}, {\"timestamp\": \"2022-08-27T00:00:00\", \"reserves_usd\": 39169628.3236331, \"segment\": \"paired asset\"}, {\"timestamp\": \"2022-08-28T00:00:00\", \"reserves_usd\": 40614472.99781668, \"segment\": \"paired asset\"}, {\"timestamp\": \"2022-08-29T00:00:00\", \"reserves_usd\": 38281176.64392939, \"segment\": \"paired asset\"}, {\"timestamp\": \"2022-08-30T00:00:00\", \"reserves_usd\": 39754311.462712295, \"segment\": \"paired asset\"}, {\"timestamp\": \"2022-08-31T00:00:00\", \"reserves_usd\": 41202586.20233259, \"segment\": \"paired asset\"}, {\"timestamp\": \"2022-09-01T00:00:00\", \"reserves_usd\": 41128477.7374506, \"segment\": \"paired asset\"}, {\"timestamp\": \"2022-09-02T00:00:00\", \"reserves_usd\": 40514958.900111385, \"segment\": \"paired asset\"}, {\"timestamp\": \"2022-09-03T00:00:00\", \"reserves_usd\": 42529448.0144073, \"segment\": \"paired asset\"}, {\"timestamp\": \"2022-09-04T00:00:00\", \"reserves_usd\": 43121800.08448449, \"segment\": \"paired asset\"}, {\"timestamp\": \"2022-09-05T00:00:00\", \"reserves_usd\": 43405841.89490472, \"segment\": \"paired asset\"}, {\"timestamp\": \"2022-09-06T00:00:00\", \"reserves_usd\": 43112661.27807698, \"segment\": \"paired asset\"}, {\"timestamp\": \"2022-09-07T00:00:00\", \"reserves_usd\": 43376796.077481814, \"segment\": \"paired asset\"}, {\"timestamp\": \"2022-09-08T00:00:00\", \"reserves_usd\": 41046243.159139514, \"segment\": \"paired asset\"}, {\"timestamp\": \"2022-09-09T00:00:00\", \"reserves_usd\": 44847221.25034831, \"segment\": \"paired asset\"}, {\"timestamp\": \"2022-09-10T00:00:00\", \"reserves_usd\": 45549419.61687455, \"segment\": \"paired asset\"}, {\"timestamp\": \"2022-09-11T00:00:00\", \"reserves_usd\": 45712920.746399365, \"segment\": \"paired asset\"}, {\"timestamp\": \"2022-09-12T00:00:00\", \"reserves_usd\": 46106968.125403576, \"segment\": \"paired asset\"}, {\"timestamp\": \"2022-09-13T00:00:00\", \"reserves_usd\": 46918765.58538546, \"segment\": \"paired asset\"}, {\"timestamp\": \"2022-09-14T00:00:00\", \"reserves_usd\": 47839739.331587516, \"segment\": \"paired asset\"}, {\"timestamp\": \"2022-09-15T00:00:00\", \"reserves_usd\": 47944805.11829141, \"segment\": \"paired asset\"}, {\"timestamp\": \"2022-09-16T00:00:00\", \"reserves_usd\": 48690738.45148061, \"segment\": \"paired asset\"}, {\"timestamp\": \"2022-09-17T00:00:00\", \"reserves_usd\": 49270620.167348236, \"segment\": \"paired asset\"}, {\"timestamp\": \"2022-09-18T00:00:00\", \"reserves_usd\": 49396843.592592165, \"segment\": \"paired asset\"}, {\"timestamp\": \"2022-09-19T00:00:00\", \"reserves_usd\": 49809204.083328605, \"segment\": \"paired asset\"}, {\"timestamp\": \"2022-09-20T00:00:00\", \"reserves_usd\": 49860286.14873358, \"segment\": \"paired asset\"}, {\"timestamp\": \"2022-09-21T00:00:00\", \"reserves_usd\": 49725850.85257154, \"segment\": \"paired asset\"}, {\"timestamp\": \"2022-09-22T00:00:00\", \"reserves_usd\": 48948362.73033782, \"segment\": \"paired asset\"}, {\"timestamp\": \"2022-09-23T00:00:00\", \"reserves_usd\": 51805927.09397316, \"segment\": \"paired asset\"}, {\"timestamp\": \"2022-09-24T00:00:00\", \"reserves_usd\": 53171588.05798142, \"segment\": \"paired asset\"}, {\"timestamp\": \"2022-09-25T00:00:00\", \"reserves_usd\": 53243400.41121208, \"segment\": \"paired asset\"}, {\"timestamp\": \"2022-09-26T00:00:00\", \"reserves_usd\": 53972614.24529451, \"segment\": \"paired asset\"}, {\"timestamp\": \"2022-09-27T00:00:00\", \"reserves_usd\": 57044425.626146466, \"segment\": \"paired asset\"}, {\"timestamp\": \"2022-09-28T00:00:00\", \"reserves_usd\": 59734271.05789597, \"segment\": \"paired asset\"}, {\"timestamp\": \"2022-09-29T00:00:00\", \"reserves_usd\": 60536650.090717256, \"segment\": \"paired asset\"}, {\"timestamp\": \"2022-09-30T00:00:00\", \"reserves_usd\": 62984557.93454421, \"segment\": \"paired asset\"}, {\"timestamp\": \"2022-10-01T00:00:00\", \"reserves_usd\": 65311079.23408888, \"segment\": \"paired asset\"}, {\"timestamp\": \"2022-10-02T00:00:00\", \"reserves_usd\": 67535706.52486138, \"segment\": \"paired asset\"}, {\"timestamp\": \"2022-10-03T00:00:00\", \"reserves_usd\": 67661661.73118532, \"segment\": \"paired asset\"}, {\"timestamp\": \"2022-10-04T00:00:00\", \"reserves_usd\": 67734563.95167702, \"segment\": \"paired asset\"}, {\"timestamp\": \"2022-10-05T00:00:00\", \"reserves_usd\": 68147658.64619915, \"segment\": \"paired asset\"}, {\"timestamp\": \"2022-10-06T00:00:00\", \"reserves_usd\": 68193661.30687393, \"segment\": \"paired asset\"}, {\"timestamp\": \"2022-10-07T00:00:00\", \"reserves_usd\": 68076404.70594321, \"segment\": \"paired asset\"}, {\"timestamp\": \"2022-10-08T00:00:00\", \"reserves_usd\": 70895602.68754943, \"segment\": \"paired asset\"}, {\"timestamp\": \"2022-10-09T00:00:00\", \"reserves_usd\": 72198914.58930552, \"segment\": \"paired asset\"}, {\"timestamp\": \"2022-10-10T00:00:00\", \"reserves_usd\": 72140861.9867236, \"segment\": \"paired asset\"}, {\"timestamp\": \"2022-10-11T00:00:00\", \"reserves_usd\": 72715496.01175769, \"segment\": \"paired asset\"}, {\"timestamp\": \"2022-10-12T00:00:00\", \"reserves_usd\": 72717024.56558903, \"segment\": \"paired asset\"}, {\"timestamp\": \"2022-10-13T00:00:00\", \"reserves_usd\": 73628507.60024445, \"segment\": \"paired asset\"}, {\"timestamp\": \"2022-10-14T00:00:00\", \"reserves_usd\": 75456842.71550502, \"segment\": \"paired asset\"}, {\"timestamp\": \"2022-10-15T00:00:00\", \"reserves_usd\": 73530402.97579184, \"segment\": \"paired asset\"}, {\"timestamp\": \"2022-10-16T00:00:00\", \"reserves_usd\": 73411522.93837057, \"segment\": \"paired asset\"}, {\"timestamp\": \"2022-10-17T00:00:00\", \"reserves_usd\": 74041171.60852666, \"segment\": \"paired asset\"}, {\"timestamp\": \"2022-10-18T00:00:00\", \"reserves_usd\": 73998327.45996466, \"segment\": \"paired asset\"}, {\"timestamp\": \"2022-10-19T00:00:00\", \"reserves_usd\": 76488493.23497255, \"segment\": \"paired asset\"}, {\"timestamp\": \"2022-10-20T00:00:00\", \"reserves_usd\": 77866756.3230992, \"segment\": \"paired asset\"}, {\"timestamp\": \"2022-10-21T00:00:00\", \"reserves_usd\": 79612555.87301882, \"segment\": \"paired asset\"}, {\"timestamp\": \"2022-10-22T00:00:00\", \"reserves_usd\": 79354004.954236, \"segment\": \"paired asset\"}, {\"timestamp\": \"2022-10-23T00:00:00\", \"reserves_usd\": 80932367.0966057, \"segment\": \"paired asset\"}, {\"timestamp\": \"2022-10-24T00:00:00\", \"reserves_usd\": 82377247.15156257, \"segment\": \"paired asset\"}, {\"timestamp\": \"2022-10-25T00:00:00\", \"reserves_usd\": 81584638.50009075, \"segment\": \"paired asset\"}, {\"timestamp\": \"2022-10-26T00:00:00\", \"reserves_usd\": 83357172.26788194, \"segment\": \"paired asset\"}, {\"timestamp\": \"2022-10-27T00:00:00\", \"reserves_usd\": 83281223.80645292, \"segment\": \"paired asset\"}, {\"timestamp\": \"2022-10-28T00:00:00\", \"reserves_usd\": 83127370.85577983, \"segment\": \"paired asset\"}, {\"timestamp\": \"2022-10-29T00:00:00\", \"reserves_usd\": 87473752.8433407, \"segment\": \"paired asset\"}, {\"timestamp\": \"2022-10-30T00:00:00\", \"reserves_usd\": 94135396.72130448, \"segment\": \"paired asset\"}, {\"timestamp\": \"2022-10-31T00:00:00\", \"reserves_usd\": 95878651.81248987, \"segment\": \"paired asset\"}, {\"timestamp\": \"2022-11-01T00:00:00\", \"reserves_usd\": 99016002.23395617, \"segment\": \"paired asset\"}, {\"timestamp\": \"2022-11-02T00:00:00\", \"reserves_usd\": 102600676.50504827, \"segment\": \"paired asset\"}, {\"timestamp\": \"2022-11-03T00:00:00\", \"reserves_usd\": 104271595.97327189, \"segment\": \"paired asset\"}, {\"timestamp\": \"2022-11-04T00:00:00\", \"reserves_usd\": 108002743.09078856, \"segment\": \"paired asset\"}, {\"timestamp\": \"2022-11-05T00:00:00\", \"reserves_usd\": 114966278.30569027, \"segment\": \"paired asset\"}, {\"timestamp\": \"2022-11-06T00:00:00\", \"reserves_usd\": 111555209.35655755, \"segment\": \"paired asset\"}, {\"timestamp\": \"2022-11-07T00:00:00\", \"reserves_usd\": 112168394.55140772, \"segment\": \"paired asset\"}, {\"timestamp\": \"2022-11-08T00:00:00\", \"reserves_usd\": 112764376.4856607, \"segment\": \"paired asset\"}, {\"timestamp\": \"2022-11-09T00:00:00\", \"reserves_usd\": 102373600.3870576, \"segment\": \"paired asset\"}, {\"timestamp\": \"2022-11-10T00:00:00\", \"reserves_usd\": 74768385.62267078, \"segment\": \"paired asset\"}, {\"timestamp\": \"2022-11-11T00:00:00\", \"reserves_usd\": 64088401.59459244, \"segment\": \"paired asset\"}, {\"timestamp\": \"2022-11-12T00:00:00\", \"reserves_usd\": 66855453.68936935, \"segment\": \"paired asset\"}, {\"timestamp\": \"2022-11-13T00:00:00\", \"reserves_usd\": 63430473.18408314, \"segment\": \"paired asset\"}, {\"timestamp\": \"2022-11-14T00:00:00\", \"reserves_usd\": 60781080.44506091, \"segment\": \"paired asset\"}, {\"timestamp\": \"2022-11-15T00:00:00\", \"reserves_usd\": 63614189.32376402, \"segment\": \"paired asset\"}, {\"timestamp\": \"2022-11-16T00:00:00\", \"reserves_usd\": 63593125.41528133, \"segment\": \"paired asset\"}, {\"timestamp\": \"2022-11-17T00:00:00\", \"reserves_usd\": 65509063.42774, \"segment\": \"paired asset\"}, {\"timestamp\": \"2022-11-18T00:00:00\", \"reserves_usd\": 58192949.80955021, \"segment\": \"paired asset\"}, {\"timestamp\": \"2022-11-19T00:00:00\", \"reserves_usd\": 57632166.29407957, \"segment\": \"paired asset\"}, {\"timestamp\": \"2022-11-20T00:00:00\", \"reserves_usd\": 58555050.15929993, \"segment\": \"paired asset\"}, {\"timestamp\": \"2022-11-21T00:00:00\", \"reserves_usd\": 58280540.96061199, \"segment\": \"paired asset\"}, {\"timestamp\": \"2022-11-22T00:00:00\", \"reserves_usd\": 55252287.62059808, \"segment\": \"paired asset\"}, {\"timestamp\": \"2022-11-23T00:00:00\", \"reserves_usd\": 48641103.17942247, \"segment\": \"paired asset\"}, {\"timestamp\": \"2022-11-24T00:00:00\", \"reserves_usd\": 48653548.890129566, \"segment\": \"paired asset\"}, {\"timestamp\": \"2022-11-25T00:00:00\", \"reserves_usd\": 50875407.654403634, \"segment\": \"paired asset\"}, {\"timestamp\": \"2022-11-26T00:00:00\", \"reserves_usd\": 50732576.172066525, \"segment\": \"paired asset\"}, {\"timestamp\": \"2022-11-27T00:00:00\", \"reserves_usd\": 50707872.65238731, \"segment\": \"paired asset\"}, {\"timestamp\": \"2022-11-28T00:00:00\", \"reserves_usd\": 51451444.81013063, \"segment\": \"paired asset\"}, {\"timestamp\": \"2022-11-29T00:00:00\", \"reserves_usd\": 50995722.427044675, \"segment\": \"paired asset\"}, {\"timestamp\": \"2022-11-30T00:00:00\", \"reserves_usd\": 51168012.70454924, \"segment\": \"paired asset\"}, {\"timestamp\": \"2022-12-01T00:00:00\", \"reserves_usd\": 50697699.07370521, \"segment\": \"paired asset\"}, {\"timestamp\": \"2022-12-02T00:00:00\", \"reserves_usd\": 52454538.54004116, \"segment\": \"paired asset\"}, {\"timestamp\": \"2022-12-03T00:00:00\", \"reserves_usd\": 52922807.92386417, \"segment\": \"paired asset\"}, {\"timestamp\": \"2022-12-04T00:00:00\", \"reserves_usd\": 56354222.487182625, \"segment\": \"paired asset\"}, {\"timestamp\": \"2022-12-05T00:00:00\", \"reserves_usd\": 57957048.60447967, \"segment\": \"paired asset\"}, {\"timestamp\": \"2022-12-06T00:00:00\", \"reserves_usd\": 57245177.0562903, \"segment\": \"paired asset\"}, {\"timestamp\": \"2022-12-07T00:00:00\", \"reserves_usd\": 57158036.03284176, \"segment\": \"paired asset\"}, {\"timestamp\": \"2022-12-08T00:00:00\", \"reserves_usd\": 58266332.84375948, \"segment\": \"paired asset\"}, {\"timestamp\": \"2022-12-09T00:00:00\", \"reserves_usd\": 57441217.058656015, \"segment\": \"paired asset\"}, {\"timestamp\": \"2022-12-10T00:00:00\", \"reserves_usd\": 57477478.99714854, \"segment\": \"paired asset\"}, {\"timestamp\": \"2022-12-11T00:00:00\", \"reserves_usd\": 57281904.00754798, \"segment\": \"paired asset\"}, {\"timestamp\": \"2022-12-12T00:00:00\", \"reserves_usd\": 55034638.98387465, \"segment\": \"paired asset\"}, {\"timestamp\": \"2022-12-13T00:00:00\", \"reserves_usd\": 56961630.7410743, \"segment\": \"paired asset\"}, {\"timestamp\": \"2022-12-14T00:00:00\", \"reserves_usd\": 64311200.34531858, \"segment\": \"paired asset\"}, {\"timestamp\": \"2022-12-15T00:00:00\", \"reserves_usd\": 63409036.44109541, \"segment\": \"paired asset\"}, {\"timestamp\": \"2022-12-16T00:00:00\", \"reserves_usd\": 65240054.57204011, \"segment\": \"paired asset\"}, {\"timestamp\": \"2022-12-17T00:00:00\", \"reserves_usd\": 63175281.19938612, \"segment\": \"paired asset\"}, {\"timestamp\": \"2022-12-18T00:00:00\", \"reserves_usd\": 62988814.80046689, \"segment\": \"paired asset\"}, {\"timestamp\": \"2022-12-19T00:00:00\", \"reserves_usd\": 61723226.848848894, \"segment\": \"paired asset\"}, {\"timestamp\": \"2022-12-20T00:00:00\", \"reserves_usd\": 60957102.60075038, \"segment\": \"paired asset\"}, {\"timestamp\": \"2022-12-21T00:00:00\", \"reserves_usd\": 61916269.71498079, \"segment\": \"paired asset\"}, {\"timestamp\": \"2022-12-22T00:00:00\", \"reserves_usd\": 61909807.81578058, \"segment\": \"paired asset\"}, {\"timestamp\": \"2022-12-23T00:00:00\", \"reserves_usd\": 60191770.122231066, \"segment\": \"paired asset\"}, {\"timestamp\": \"2022-12-24T00:00:00\", \"reserves_usd\": 60202124.05317713, \"segment\": \"paired asset\"}, {\"timestamp\": \"2022-12-25T00:00:00\", \"reserves_usd\": 59972454.07981072, \"segment\": \"paired asset\"}, {\"timestamp\": \"2022-12-26T00:00:00\", \"reserves_usd\": 59595768.015971005, \"segment\": \"paired asset\"}, {\"timestamp\": \"2022-12-27T00:00:00\", \"reserves_usd\": 59335657.632633924, \"segment\": \"paired asset\"}, {\"timestamp\": \"2022-12-28T00:00:00\", \"reserves_usd\": 59152572.450966656, \"segment\": \"paired asset\"}, {\"timestamp\": \"2022-12-29T00:00:00\", \"reserves_usd\": 57786746.985888734, \"segment\": \"paired asset\"}, {\"timestamp\": \"2022-12-30T00:00:00\", \"reserves_usd\": 58090636.37826219, \"segment\": \"paired asset\"}, {\"timestamp\": \"2022-12-31T00:00:00\", \"reserves_usd\": 57676812.63720451, \"segment\": \"paired asset\"}, {\"timestamp\": \"2023-01-01T00:00:00\", \"reserves_usd\": 57644056.32502096, \"segment\": \"paired asset\"}, {\"timestamp\": \"2023-01-02T00:00:00\", \"reserves_usd\": 57890811.39398564, \"segment\": \"paired asset\"}, {\"timestamp\": \"2023-01-03T00:00:00\", \"reserves_usd\": 57987997.415416345, \"segment\": \"paired asset\"}, {\"timestamp\": \"2023-01-04T00:00:00\", \"reserves_usd\": 59455188.140221715, \"segment\": \"paired asset\"}, {\"timestamp\": \"2023-01-05T00:00:00\", \"reserves_usd\": 61259947.41472567, \"segment\": \"paired asset\"}, {\"timestamp\": \"2023-01-06T00:00:00\", \"reserves_usd\": 60085849.93698784, \"segment\": \"paired asset\"}, {\"timestamp\": \"2023-01-07T00:00:00\", \"reserves_usd\": 59685511.04585165, \"segment\": \"paired asset\"}, {\"timestamp\": \"2023-01-08T00:00:00\", \"reserves_usd\": 59635355.99280885, \"segment\": \"paired asset\"}, {\"timestamp\": \"2023-01-09T00:00:00\", \"reserves_usd\": 60486714.59541261, \"segment\": \"paired asset\"}, {\"timestamp\": \"2023-01-10T00:00:00\", \"reserves_usd\": 57279901.190559715, \"segment\": \"paired asset\"}, {\"timestamp\": \"2023-01-11T00:00:00\", \"reserves_usd\": 58032926.36656188, \"segment\": \"paired asset\"}, {\"timestamp\": \"2023-01-12T00:00:00\", \"reserves_usd\": 59797445.29270303, \"segment\": \"paired asset\"}, {\"timestamp\": \"2023-01-13T00:00:00\", \"reserves_usd\": 60588100.35280922, \"segment\": \"paired asset\"}, {\"timestamp\": \"2023-01-14T00:00:00\", \"reserves_usd\": 61534617.96551118, \"segment\": \"paired asset\"}], \"data-f3b2d7b7257afc0cc57c33a62a9994af\": [{\"timestamp\": \"2022-06-30T00:00:00\", \"reserves_usd\": 793049867.0378027, \"segment\": \"3Crv\"}, {\"timestamp\": \"2022-07-01T00:00:00\", \"reserves_usd\": 781223493.7242362, \"segment\": \"3Crv\"}, {\"timestamp\": \"2022-07-02T00:00:00\", \"reserves_usd\": 777884838.7412815, \"segment\": \"3Crv\"}, {\"timestamp\": \"2022-07-03T00:00:00\", \"reserves_usd\": 769000467.0314851, \"segment\": \"3Crv\"}, {\"timestamp\": \"2022-07-04T00:00:00\", \"reserves_usd\": 766738727.2126871, \"segment\": \"3Crv\"}, {\"timestamp\": \"2022-07-05T00:00:00\", \"reserves_usd\": 736369260.8186848, \"segment\": \"3Crv\"}, {\"timestamp\": \"2022-07-06T00:00:00\", \"reserves_usd\": 731210104.1934326, \"segment\": \"3Crv\"}, {\"timestamp\": \"2022-07-07T00:00:00\", \"reserves_usd\": 755846917.9017665, \"segment\": \"3Crv\"}, {\"timestamp\": \"2022-07-08T00:00:00\", \"reserves_usd\": 749330244.9122314, \"segment\": \"3Crv\"}, {\"timestamp\": \"2022-07-09T00:00:00\", \"reserves_usd\": 750488816.776584, \"segment\": \"3Crv\"}, {\"timestamp\": \"2022-07-10T00:00:00\", \"reserves_usd\": 755267525.1144017, \"segment\": \"3Crv\"}, {\"timestamp\": \"2022-07-11T00:00:00\", \"reserves_usd\": 749980582.8198904, \"segment\": \"3Crv\"}, {\"timestamp\": \"2022-07-12T00:00:00\", \"reserves_usd\": 753832916.0744259, \"segment\": \"3Crv\"}, {\"timestamp\": \"2022-07-13T00:00:00\", \"reserves_usd\": 750336973.8434639, \"segment\": \"3Crv\"}, {\"timestamp\": \"2022-07-14T00:00:00\", \"reserves_usd\": 750218086.7985171, \"segment\": \"3Crv\"}, {\"timestamp\": \"2022-07-15T00:00:00\", \"reserves_usd\": 755482467.1122398, \"segment\": \"3Crv\"}, {\"timestamp\": \"2022-07-16T00:00:00\", \"reserves_usd\": 756510701.1914084, \"segment\": \"3Crv\"}, {\"timestamp\": \"2022-07-17T00:00:00\", \"reserves_usd\": 759898239.9725578, \"segment\": \"3Crv\"}, {\"timestamp\": \"2022-07-18T00:00:00\", \"reserves_usd\": 761436033.5294641, \"segment\": \"3Crv\"}, {\"timestamp\": \"2022-07-19T00:00:00\", \"reserves_usd\": 769612184.8167621, \"segment\": \"3Crv\"}, {\"timestamp\": \"2022-07-20T00:00:00\", \"reserves_usd\": 771901150.1229576, \"segment\": \"3Crv\"}, {\"timestamp\": \"2022-07-21T00:00:00\", \"reserves_usd\": 789305403.4549772, \"segment\": \"3Crv\"}, {\"timestamp\": \"2022-07-22T00:00:00\", \"reserves_usd\": 784843470.9651502, \"segment\": \"3Crv\"}, {\"timestamp\": \"2022-07-23T00:00:00\", \"reserves_usd\": 785901900.199717, \"segment\": \"3Crv\"}, {\"timestamp\": \"2022-07-24T00:00:00\", \"reserves_usd\": 794340981.4343202, \"segment\": \"3Crv\"}, {\"timestamp\": \"2022-07-25T00:00:00\", \"reserves_usd\": 796660900.8079219, \"segment\": \"3Crv\"}, {\"timestamp\": \"2022-07-26T00:00:00\", \"reserves_usd\": 797151195.2084624, \"segment\": \"3Crv\"}, {\"timestamp\": \"2022-07-27T00:00:00\", \"reserves_usd\": 780017367.8336382, \"segment\": \"3Crv\"}, {\"timestamp\": \"2022-07-28T00:00:00\", \"reserves_usd\": 790204930.6061801, \"segment\": \"3Crv\"}, {\"timestamp\": \"2022-07-29T00:00:00\", \"reserves_usd\": 798695333.9488173, \"segment\": \"3Crv\"}, {\"timestamp\": \"2022-07-30T00:00:00\", \"reserves_usd\": 806417705.1301304, \"segment\": \"3Crv\"}, {\"timestamp\": \"2022-07-31T00:00:00\", \"reserves_usd\": 799364410.1100712, \"segment\": \"3Crv\"}, {\"timestamp\": \"2022-08-01T00:00:00\", \"reserves_usd\": 800830612.3541327, \"segment\": \"3Crv\"}, {\"timestamp\": \"2022-08-02T00:00:00\", \"reserves_usd\": 806527954.6367065, \"segment\": \"3Crv\"}, {\"timestamp\": \"2022-08-03T00:00:00\", \"reserves_usd\": 803360869.9868145, \"segment\": \"3Crv\"}, {\"timestamp\": \"2022-08-04T00:00:00\", \"reserves_usd\": 803678366.542802, \"segment\": \"3Crv\"}, {\"timestamp\": \"2022-08-05T00:00:00\", \"reserves_usd\": 802603003.3391191, \"segment\": \"3Crv\"}, {\"timestamp\": \"2022-08-06T00:00:00\", \"reserves_usd\": 818979980.7789497, \"segment\": \"3Crv\"}, {\"timestamp\": \"2022-08-07T00:00:00\", \"reserves_usd\": 825534106.8408872, \"segment\": \"3Crv\"}, {\"timestamp\": \"2022-08-08T00:00:00\", \"reserves_usd\": 826022497.2142565, \"segment\": \"3Crv\"}, {\"timestamp\": \"2022-08-09T00:00:00\", \"reserves_usd\": 828040036.6484035, \"segment\": \"3Crv\"}, {\"timestamp\": \"2022-08-10T00:00:00\", \"reserves_usd\": 825207633.8499781, \"segment\": \"3Crv\"}, {\"timestamp\": \"2022-08-11T00:00:00\", \"reserves_usd\": 821621599.223453, \"segment\": \"3Crv\"}, {\"timestamp\": \"2022-08-12T00:00:00\", \"reserves_usd\": 817740630.9561632, \"segment\": \"3Crv\"}, {\"timestamp\": \"2022-08-13T00:00:00\", \"reserves_usd\": 802486208.1326444, \"segment\": \"3Crv\"}, {\"timestamp\": \"2022-08-14T00:00:00\", \"reserves_usd\": 807210279.5718086, \"segment\": \"3Crv\"}, {\"timestamp\": \"2022-08-15T00:00:00\", \"reserves_usd\": 801211739.0298737, \"segment\": \"3Crv\"}, {\"timestamp\": \"2022-08-16T00:00:00\", \"reserves_usd\": 803934097.6358962, \"segment\": \"3Crv\"}, {\"timestamp\": \"2022-08-17T00:00:00\", \"reserves_usd\": 815774447.9577433, \"segment\": \"3Crv\"}, {\"timestamp\": \"2022-08-18T00:00:00\", \"reserves_usd\": 831397128.8255446, \"segment\": \"3Crv\"}, {\"timestamp\": \"2022-08-19T00:00:00\", \"reserves_usd\": 828011886.3232127, \"segment\": \"3Crv\"}, {\"timestamp\": \"2022-08-20T00:00:00\", \"reserves_usd\": 813642371.1744134, \"segment\": \"3Crv\"}, {\"timestamp\": \"2022-08-21T00:00:00\", \"reserves_usd\": 810499993.0903888, \"segment\": \"3Crv\"}, {\"timestamp\": \"2022-08-22T00:00:00\", \"reserves_usd\": 811644429.2127031, \"segment\": \"3Crv\"}, {\"timestamp\": \"2022-08-23T00:00:00\", \"reserves_usd\": 774413026.3636972, \"segment\": \"3Crv\"}, {\"timestamp\": \"2022-08-24T00:00:00\", \"reserves_usd\": 766106148.4042027, \"segment\": \"3Crv\"}, {\"timestamp\": \"2022-08-25T00:00:00\", \"reserves_usd\": 761238079.1360036, \"segment\": \"3Crv\"}, {\"timestamp\": \"2022-08-26T00:00:00\", \"reserves_usd\": 761665774.0914664, \"segment\": \"3Crv\"}, {\"timestamp\": \"2022-08-27T00:00:00\", \"reserves_usd\": 750748884.7093796, \"segment\": \"3Crv\"}, {\"timestamp\": \"2022-08-28T00:00:00\", \"reserves_usd\": 752350785.8285254, \"segment\": \"3Crv\"}, {\"timestamp\": \"2022-08-29T00:00:00\", \"reserves_usd\": 748623034.7046461, \"segment\": \"3Crv\"}, {\"timestamp\": \"2022-08-30T00:00:00\", \"reserves_usd\": 742775598.4186748, \"segment\": \"3Crv\"}, {\"timestamp\": \"2022-08-31T00:00:00\", \"reserves_usd\": 736489026.5531787, \"segment\": \"3Crv\"}, {\"timestamp\": \"2022-09-01T00:00:00\", \"reserves_usd\": 739078859.3419905, \"segment\": \"3Crv\"}, {\"timestamp\": \"2022-09-02T00:00:00\", \"reserves_usd\": 735944627.5093997, \"segment\": \"3Crv\"}, {\"timestamp\": \"2022-09-03T00:00:00\", \"reserves_usd\": 736216760.8489281, \"segment\": \"3Crv\"}, {\"timestamp\": \"2022-09-04T00:00:00\", \"reserves_usd\": 729624696.1680474, \"segment\": \"3Crv\"}, {\"timestamp\": \"2022-09-05T00:00:00\", \"reserves_usd\": 726056750.3978606, \"segment\": \"3Crv\"}, {\"timestamp\": \"2022-09-06T00:00:00\", \"reserves_usd\": 682927121.4359506, \"segment\": \"3Crv\"}, {\"timestamp\": \"2022-09-07T00:00:00\", \"reserves_usd\": 660788425.9046335, \"segment\": \"3Crv\"}, {\"timestamp\": \"2022-09-08T00:00:00\", \"reserves_usd\": 653153939.0010644, \"segment\": \"3Crv\"}, {\"timestamp\": \"2022-09-09T00:00:00\", \"reserves_usd\": 647427366.5543587, \"segment\": \"3Crv\"}, {\"timestamp\": \"2022-09-10T00:00:00\", \"reserves_usd\": 643222510.4334023, \"segment\": \"3Crv\"}, {\"timestamp\": \"2022-09-11T00:00:00\", \"reserves_usd\": 641550095.1017481, \"segment\": \"3Crv\"}, {\"timestamp\": \"2022-09-12T00:00:00\", \"reserves_usd\": 634275665.6588529, \"segment\": \"3Crv\"}, {\"timestamp\": \"2022-09-13T00:00:00\", \"reserves_usd\": 633160848.8181592, \"segment\": \"3Crv\"}, {\"timestamp\": \"2022-09-14T00:00:00\", \"reserves_usd\": 620039052.7469045, \"segment\": \"3Crv\"}, {\"timestamp\": \"2022-09-15T00:00:00\", \"reserves_usd\": 589707581.9666013, \"segment\": \"3Crv\"}, {\"timestamp\": \"2022-09-16T00:00:00\", \"reserves_usd\": 581926539.7479587, \"segment\": \"3Crv\"}, {\"timestamp\": \"2022-09-17T00:00:00\", \"reserves_usd\": 602714123.4453611, \"segment\": \"3Crv\"}, {\"timestamp\": \"2022-09-18T00:00:00\", \"reserves_usd\": 603615813.2804081, \"segment\": \"3Crv\"}, {\"timestamp\": \"2022-09-19T00:00:00\", \"reserves_usd\": 602499051.1132607, \"segment\": \"3Crv\"}, {\"timestamp\": \"2022-09-20T00:00:00\", \"reserves_usd\": 604839591.1064295, \"segment\": \"3Crv\"}, {\"timestamp\": \"2022-09-21T00:00:00\", \"reserves_usd\": 587769080.1104169, \"segment\": \"3Crv\"}, {\"timestamp\": \"2022-09-22T00:00:00\", \"reserves_usd\": 576853380.7408438, \"segment\": \"3Crv\"}, {\"timestamp\": \"2022-09-23T00:00:00\", \"reserves_usd\": 577194763.8940378, \"segment\": \"3Crv\"}, {\"timestamp\": \"2022-09-24T00:00:00\", \"reserves_usd\": 575288025.7909632, \"segment\": \"3Crv\"}, {\"timestamp\": \"2022-09-25T00:00:00\", \"reserves_usd\": 581116203.3273442, \"segment\": \"3Crv\"}, {\"timestamp\": \"2022-09-26T00:00:00\", \"reserves_usd\": 577824411.5912622, \"segment\": \"3Crv\"}, {\"timestamp\": \"2022-09-27T00:00:00\", \"reserves_usd\": 581375668.1372707, \"segment\": \"3Crv\"}, {\"timestamp\": \"2022-09-28T00:00:00\", \"reserves_usd\": 585879629.2398456, \"segment\": \"3Crv\"}, {\"timestamp\": \"2022-09-29T00:00:00\", \"reserves_usd\": 587935134.8051597, \"segment\": \"3Crv\"}, {\"timestamp\": \"2022-09-30T00:00:00\", \"reserves_usd\": 589753308.7083894, \"segment\": \"3Crv\"}, {\"timestamp\": \"2022-10-01T00:00:00\", \"reserves_usd\": 570014638.5691096, \"segment\": \"3Crv\"}, {\"timestamp\": \"2022-10-02T00:00:00\", \"reserves_usd\": 589186851.178222, \"segment\": \"3Crv\"}, {\"timestamp\": \"2022-10-03T00:00:00\", \"reserves_usd\": 589860054.2316624, \"segment\": \"3Crv\"}, {\"timestamp\": \"2022-10-04T00:00:00\", \"reserves_usd\": 587994341.2756206, \"segment\": \"3Crv\"}, {\"timestamp\": \"2022-10-05T00:00:00\", \"reserves_usd\": 580326624.4780316, \"segment\": \"3Crv\"}, {\"timestamp\": \"2022-10-06T00:00:00\", \"reserves_usd\": 577062537.1637475, \"segment\": \"3Crv\"}, {\"timestamp\": \"2022-10-07T00:00:00\", \"reserves_usd\": 580221522.8251086, \"segment\": \"3Crv\"}, {\"timestamp\": \"2022-10-08T00:00:00\", \"reserves_usd\": 576317942.2069857, \"segment\": \"3Crv\"}, {\"timestamp\": \"2022-10-09T00:00:00\", \"reserves_usd\": 577049927.6499727, \"segment\": \"3Crv\"}, {\"timestamp\": \"2022-10-10T00:00:00\", \"reserves_usd\": 578035877.5478638, \"segment\": \"3Crv\"}, {\"timestamp\": \"2022-10-11T00:00:00\", \"reserves_usd\": 577997719.0081748, \"segment\": \"3Crv\"}, {\"timestamp\": \"2022-10-12T00:00:00\", \"reserves_usd\": 575855056.7173945, \"segment\": \"3Crv\"}, {\"timestamp\": \"2022-10-13T00:00:00\", \"reserves_usd\": 572292751.1994894, \"segment\": \"3Crv\"}, {\"timestamp\": \"2022-10-14T00:00:00\", \"reserves_usd\": 570872585.929514, \"segment\": \"3Crv\"}, {\"timestamp\": \"2022-10-15T00:00:00\", \"reserves_usd\": 568704234.620642, \"segment\": \"3Crv\"}, {\"timestamp\": \"2022-10-16T00:00:00\", \"reserves_usd\": 568845786.5483382, \"segment\": \"3Crv\"}, {\"timestamp\": \"2022-10-17T00:00:00\", \"reserves_usd\": 570756678.600078, \"segment\": \"3Crv\"}, {\"timestamp\": \"2022-10-18T00:00:00\", \"reserves_usd\": 566262747.4030038, \"segment\": \"3Crv\"}, {\"timestamp\": \"2022-10-19T00:00:00\", \"reserves_usd\": 561518735.3141186, \"segment\": \"3Crv\"}, {\"timestamp\": \"2022-10-20T00:00:00\", \"reserves_usd\": 558506563.1978505, \"segment\": \"3Crv\"}, {\"timestamp\": \"2022-10-21T00:00:00\", \"reserves_usd\": 540260455.8548477, \"segment\": \"3Crv\"}, {\"timestamp\": \"2022-10-22T00:00:00\", \"reserves_usd\": 507395574.03977245, \"segment\": \"3Crv\"}, {\"timestamp\": \"2022-10-23T00:00:00\", \"reserves_usd\": 509149155.03541917, \"segment\": \"3Crv\"}, {\"timestamp\": \"2022-10-24T00:00:00\", \"reserves_usd\": 511664960.0463919, \"segment\": \"3Crv\"}, {\"timestamp\": \"2022-10-25T00:00:00\", \"reserves_usd\": 505852294.3623009, \"segment\": \"3Crv\"}, {\"timestamp\": \"2022-10-26T00:00:00\", \"reserves_usd\": 497454490.04476005, \"segment\": \"3Crv\"}, {\"timestamp\": \"2022-10-27T00:00:00\", \"reserves_usd\": 485706116.9402077, \"segment\": \"3Crv\"}, {\"timestamp\": \"2022-10-28T00:00:00\", \"reserves_usd\": 486164419.36813986, \"segment\": \"3Crv\"}, {\"timestamp\": \"2022-10-29T00:00:00\", \"reserves_usd\": 489950923.82853603, \"segment\": \"3Crv\"}, {\"timestamp\": \"2022-10-30T00:00:00\", \"reserves_usd\": 495515373.8641012, \"segment\": \"3Crv\"}, {\"timestamp\": \"2022-10-31T00:00:00\", \"reserves_usd\": 490555454.1871704, \"segment\": \"3Crv\"}, {\"timestamp\": \"2022-11-01T00:00:00\", \"reserves_usd\": 497269236.2067015, \"segment\": \"3Crv\"}, {\"timestamp\": \"2022-11-02T00:00:00\", \"reserves_usd\": 505758115.272566, \"segment\": \"3Crv\"}, {\"timestamp\": \"2022-11-03T00:00:00\", \"reserves_usd\": 510293178.87114954, \"segment\": \"3Crv\"}, {\"timestamp\": \"2022-11-04T00:00:00\", \"reserves_usd\": 503635658.5112056, \"segment\": \"3Crv\"}, {\"timestamp\": \"2022-11-05T00:00:00\", \"reserves_usd\": 502199406.84748304, \"segment\": \"3Crv\"}, {\"timestamp\": \"2022-11-06T00:00:00\", \"reserves_usd\": 502111128.56189567, \"segment\": \"3Crv\"}, {\"timestamp\": \"2022-11-07T00:00:00\", \"reserves_usd\": 509029415.63986295, \"segment\": \"3Crv\"}, {\"timestamp\": \"2022-11-08T00:00:00\", \"reserves_usd\": 505541063.31459314, \"segment\": \"3Crv\"}, {\"timestamp\": \"2022-11-09T00:00:00\", \"reserves_usd\": 498355932.90719134, \"segment\": \"3Crv\"}, {\"timestamp\": \"2022-11-10T00:00:00\", \"reserves_usd\": 492279482.4322499, \"segment\": \"3Crv\"}, {\"timestamp\": \"2022-11-11T00:00:00\", \"reserves_usd\": 402452687.469578, \"segment\": \"3Crv\"}, {\"timestamp\": \"2022-11-12T00:00:00\", \"reserves_usd\": 390348915.57100147, \"segment\": \"3Crv\"}, {\"timestamp\": \"2022-11-13T00:00:00\", \"reserves_usd\": 377855130.7401183, \"segment\": \"3Crv\"}, {\"timestamp\": \"2022-11-14T00:00:00\", \"reserves_usd\": 369512702.7499115, \"segment\": \"3Crv\"}, {\"timestamp\": \"2022-11-15T00:00:00\", \"reserves_usd\": 360250349.18736744, \"segment\": \"3Crv\"}, {\"timestamp\": \"2022-11-16T00:00:00\", \"reserves_usd\": 357668181.6853242, \"segment\": \"3Crv\"}, {\"timestamp\": \"2022-11-17T00:00:00\", \"reserves_usd\": 355138944.89433336, \"segment\": \"3Crv\"}, {\"timestamp\": \"2022-11-18T00:00:00\", \"reserves_usd\": 352064696.5207977, \"segment\": \"3Crv\"}, {\"timestamp\": \"2022-11-19T00:00:00\", \"reserves_usd\": 373839169.9222518, \"segment\": \"3Crv\"}, {\"timestamp\": \"2022-11-20T00:00:00\", \"reserves_usd\": 402454418.83728904, \"segment\": \"3Crv\"}, {\"timestamp\": \"2022-11-21T00:00:00\", \"reserves_usd\": 395988094.02429837, \"segment\": \"3Crv\"}, {\"timestamp\": \"2022-11-22T00:00:00\", \"reserves_usd\": 421106016.62672687, \"segment\": \"3Crv\"}, {\"timestamp\": \"2022-11-23T00:00:00\", \"reserves_usd\": 434673788.798613, \"segment\": \"3Crv\"}, {\"timestamp\": \"2022-11-24T00:00:00\", \"reserves_usd\": 433684055.26633966, \"segment\": \"3Crv\"}, {\"timestamp\": \"2022-11-25T00:00:00\", \"reserves_usd\": 438435986.49166745, \"segment\": \"3Crv\"}, {\"timestamp\": \"2022-11-26T00:00:00\", \"reserves_usd\": 440039021.235231, \"segment\": \"3Crv\"}, {\"timestamp\": \"2022-11-27T00:00:00\", \"reserves_usd\": 437745172.0231816, \"segment\": \"3Crv\"}, {\"timestamp\": \"2022-11-28T00:00:00\", \"reserves_usd\": 434301162.1521163, \"segment\": \"3Crv\"}, {\"timestamp\": \"2022-11-29T00:00:00\", \"reserves_usd\": 452970707.77539665, \"segment\": \"3Crv\"}, {\"timestamp\": \"2022-11-30T00:00:00\", \"reserves_usd\": 452841784.41088986, \"segment\": \"3Crv\"}, {\"timestamp\": \"2022-12-01T00:00:00\", \"reserves_usd\": 453124590.3480927, \"segment\": \"3Crv\"}, {\"timestamp\": \"2022-12-02T00:00:00\", \"reserves_usd\": 445964933.97068775, \"segment\": \"3Crv\"}, {\"timestamp\": \"2022-12-03T00:00:00\", \"reserves_usd\": 439890407.8570653, \"segment\": \"3Crv\"}, {\"timestamp\": \"2022-12-04T00:00:00\", \"reserves_usd\": 438053654.32761246, \"segment\": \"3Crv\"}, {\"timestamp\": \"2022-12-05T00:00:00\", \"reserves_usd\": 432125584.5305093, \"segment\": \"3Crv\"}, {\"timestamp\": \"2022-12-06T00:00:00\", \"reserves_usd\": 429397842.1611479, \"segment\": \"3Crv\"}, {\"timestamp\": \"2022-12-07T00:00:00\", \"reserves_usd\": 422355684.12510467, \"segment\": \"3Crv\"}, {\"timestamp\": \"2022-12-08T00:00:00\", \"reserves_usd\": 417197308.06068045, \"segment\": \"3Crv\"}, {\"timestamp\": \"2022-12-09T00:00:00\", \"reserves_usd\": 415660538.6206446, \"segment\": \"3Crv\"}, {\"timestamp\": \"2022-12-10T00:00:00\", \"reserves_usd\": 415813462.79710096, \"segment\": \"3Crv\"}, {\"timestamp\": \"2022-12-11T00:00:00\", \"reserves_usd\": 414185854.3988457, \"segment\": \"3Crv\"}, {\"timestamp\": \"2022-12-12T00:00:00\", \"reserves_usd\": 409728793.84039813, \"segment\": \"3Crv\"}, {\"timestamp\": \"2022-12-13T00:00:00\", \"reserves_usd\": 400753222.41287273, \"segment\": \"3Crv\"}, {\"timestamp\": \"2022-12-14T00:00:00\", \"reserves_usd\": 387058634.03975105, \"segment\": \"3Crv\"}, {\"timestamp\": \"2022-12-15T00:00:00\", \"reserves_usd\": 388227073.8169928, \"segment\": \"3Crv\"}, {\"timestamp\": \"2022-12-16T00:00:00\", \"reserves_usd\": 386851429.3663029, \"segment\": \"3Crv\"}, {\"timestamp\": \"2022-12-17T00:00:00\", \"reserves_usd\": 384511616.3644963, \"segment\": \"3Crv\"}, {\"timestamp\": \"2022-12-18T00:00:00\", \"reserves_usd\": 382673246.0866939, \"segment\": \"3Crv\"}, {\"timestamp\": \"2022-12-19T00:00:00\", \"reserves_usd\": 383888190.3649753, \"segment\": \"3Crv\"}, {\"timestamp\": \"2022-12-20T00:00:00\", \"reserves_usd\": 383463517.7878011, \"segment\": \"3Crv\"}, {\"timestamp\": \"2022-12-21T00:00:00\", \"reserves_usd\": 384040348.696591, \"segment\": \"3Crv\"}, {\"timestamp\": \"2022-12-22T00:00:00\", \"reserves_usd\": 380081864.0500232, \"segment\": \"3Crv\"}, {\"timestamp\": \"2022-12-23T00:00:00\", \"reserves_usd\": 380203704.19713396, \"segment\": \"3Crv\"}, {\"timestamp\": \"2022-12-24T00:00:00\", \"reserves_usd\": 383864814.74533194, \"segment\": \"3Crv\"}, {\"timestamp\": \"2022-12-25T00:00:00\", \"reserves_usd\": 384902152.1874923, \"segment\": \"3Crv\"}, {\"timestamp\": \"2022-12-26T00:00:00\", \"reserves_usd\": 384766162.28508496, \"segment\": \"3Crv\"}, {\"timestamp\": \"2022-12-27T00:00:00\", \"reserves_usd\": 385656884.17123765, \"segment\": \"3Crv\"}, {\"timestamp\": \"2022-12-28T00:00:00\", \"reserves_usd\": 381190741.18025523, \"segment\": \"3Crv\"}, {\"timestamp\": \"2022-12-29T00:00:00\", \"reserves_usd\": 385143530.6620833, \"segment\": \"3Crv\"}, {\"timestamp\": \"2022-12-30T00:00:00\", \"reserves_usd\": 381525850.88667786, \"segment\": \"3Crv\"}, {\"timestamp\": \"2022-12-31T00:00:00\", \"reserves_usd\": 382144017.8089997, \"segment\": \"3Crv\"}, {\"timestamp\": \"2023-01-01T00:00:00\", \"reserves_usd\": 382720392.0073909, \"segment\": \"3Crv\"}, {\"timestamp\": \"2023-01-02T00:00:00\", \"reserves_usd\": 383714759.1076759, \"segment\": \"3Crv\"}, {\"timestamp\": \"2023-01-03T00:00:00\", \"reserves_usd\": 385064951.0764426, \"segment\": \"3Crv\"}, {\"timestamp\": \"2023-01-04T00:00:00\", \"reserves_usd\": 380087732.9554764, \"segment\": \"3Crv\"}, {\"timestamp\": \"2023-01-05T00:00:00\", \"reserves_usd\": 379656138.87469983, \"segment\": \"3Crv\"}, {\"timestamp\": \"2023-01-06T00:00:00\", \"reserves_usd\": 377192667.8594417, \"segment\": \"3Crv\"}, {\"timestamp\": \"2023-01-07T00:00:00\", \"reserves_usd\": 373850469.2092884, \"segment\": \"3Crv\"}, {\"timestamp\": \"2023-01-08T00:00:00\", \"reserves_usd\": 376175874.7063233, \"segment\": \"3Crv\"}, {\"timestamp\": \"2023-01-09T00:00:00\", \"reserves_usd\": 376372025.8916551, \"segment\": \"3Crv\"}, {\"timestamp\": \"2023-01-10T00:00:00\", \"reserves_usd\": 378631014.2286698, \"segment\": \"3Crv\"}, {\"timestamp\": \"2023-01-11T00:00:00\", \"reserves_usd\": 377301300.0327635, \"segment\": \"3Crv\"}, {\"timestamp\": \"2023-01-12T00:00:00\", \"reserves_usd\": 377697358.69081247, \"segment\": \"3Crv\"}, {\"timestamp\": \"2023-01-13T00:00:00\", \"reserves_usd\": 376030025.0507344, \"segment\": \"3Crv\"}, {\"timestamp\": \"2023-01-14T00:00:00\", \"reserves_usd\": 383731315.826686, \"segment\": \"3Crv\"}, {\"timestamp\": \"2022-06-30T00:00:00\", \"reserves_usd\": 1098515629.9320102, \"segment\": \"paired asset\"}, {\"timestamp\": \"2022-07-01T00:00:00\", \"reserves_usd\": 1101394954.5636356, \"segment\": \"paired asset\"}, {\"timestamp\": \"2022-07-02T00:00:00\", \"reserves_usd\": 1090505228.9342105, \"segment\": \"paired asset\"}, {\"timestamp\": \"2022-07-03T00:00:00\", \"reserves_usd\": 1079262855.533874, \"segment\": \"paired asset\"}, {\"timestamp\": \"2022-07-04T00:00:00\", \"reserves_usd\": 1082726609.0480788, \"segment\": \"paired asset\"}, {\"timestamp\": \"2022-07-05T00:00:00\", \"reserves_usd\": 1040181476.5969741, \"segment\": \"paired asset\"}, {\"timestamp\": \"2022-07-06T00:00:00\", \"reserves_usd\": 1037389662.3776579, \"segment\": \"paired asset\"}, {\"timestamp\": \"2022-07-07T00:00:00\", \"reserves_usd\": 1036056708.3561919, \"segment\": \"paired asset\"}, {\"timestamp\": \"2022-07-08T00:00:00\", \"reserves_usd\": 1038993246.9321796, \"segment\": \"paired asset\"}, {\"timestamp\": \"2022-07-09T00:00:00\", \"reserves_usd\": 1036220116.2918458, \"segment\": \"paired asset\"}, {\"timestamp\": \"2022-07-10T00:00:00\", \"reserves_usd\": 1040769586.5383891, \"segment\": \"paired asset\"}, {\"timestamp\": \"2022-07-11T00:00:00\", \"reserves_usd\": 1036601319.0235212, \"segment\": \"paired asset\"}, {\"timestamp\": \"2022-07-12T00:00:00\", \"reserves_usd\": 1035325608.3860455, \"segment\": \"paired asset\"}, {\"timestamp\": \"2022-07-13T00:00:00\", \"reserves_usd\": 1038093402.2196813, \"segment\": \"paired asset\"}, {\"timestamp\": \"2022-07-14T00:00:00\", \"reserves_usd\": 1034035937.7503021, \"segment\": \"paired asset\"}, {\"timestamp\": \"2022-07-15T00:00:00\", \"reserves_usd\": 1042097999.77876, \"segment\": \"paired asset\"}, {\"timestamp\": \"2022-07-16T00:00:00\", \"reserves_usd\": 1047023075.3873612, \"segment\": \"paired asset\"}, {\"timestamp\": \"2022-07-17T00:00:00\", \"reserves_usd\": 1045871794.7301111, \"segment\": \"paired asset\"}, {\"timestamp\": \"2022-07-18T00:00:00\", \"reserves_usd\": 1051183404.1083766, \"segment\": \"paired asset\"}, {\"timestamp\": \"2022-07-19T00:00:00\", \"reserves_usd\": 1055366949.5107963, \"segment\": \"paired asset\"}, {\"timestamp\": \"2022-07-20T00:00:00\", \"reserves_usd\": 1061402114.1319742, \"segment\": \"paired asset\"}, {\"timestamp\": \"2022-07-21T00:00:00\", \"reserves_usd\": 1021729634.0839727, \"segment\": \"paired asset\"}, {\"timestamp\": \"2022-07-22T00:00:00\", \"reserves_usd\": 1014743342.4278253, \"segment\": \"paired asset\"}, {\"timestamp\": \"2022-07-23T00:00:00\", \"reserves_usd\": 1014370425.8855666, \"segment\": \"paired asset\"}, {\"timestamp\": \"2022-07-24T00:00:00\", \"reserves_usd\": 1013461527.1064607, \"segment\": \"paired asset\"}, {\"timestamp\": \"2022-07-25T00:00:00\", \"reserves_usd\": 1014721503.7616695, \"segment\": \"paired asset\"}, {\"timestamp\": \"2022-07-26T00:00:00\", \"reserves_usd\": 1018722911.1565436, \"segment\": \"paired asset\"}, {\"timestamp\": \"2022-07-27T00:00:00\", \"reserves_usd\": 1018910137.7265865, \"segment\": \"paired asset\"}, {\"timestamp\": \"2022-07-28T00:00:00\", \"reserves_usd\": 1021171712.3506204, \"segment\": \"paired asset\"}, {\"timestamp\": \"2022-07-29T00:00:00\", \"reserves_usd\": 1014697624.1092287, \"segment\": \"paired asset\"}, {\"timestamp\": \"2022-07-30T00:00:00\", \"reserves_usd\": 1016567334.4115227, \"segment\": \"paired asset\"}, {\"timestamp\": \"2022-07-31T00:00:00\", \"reserves_usd\": 1037261059.4332956, \"segment\": \"paired asset\"}, {\"timestamp\": \"2022-08-01T00:00:00\", \"reserves_usd\": 1035471222.4005767, \"segment\": \"paired asset\"}, {\"timestamp\": \"2022-08-02T00:00:00\", \"reserves_usd\": 1036803461.8636101, \"segment\": \"paired asset\"}, {\"timestamp\": \"2022-08-03T00:00:00\", \"reserves_usd\": 1046300261.6632644, \"segment\": \"paired asset\"}, {\"timestamp\": \"2022-08-04T00:00:00\", \"reserves_usd\": 1040550468.3951731, \"segment\": \"paired asset\"}, {\"timestamp\": \"2022-08-05T00:00:00\", \"reserves_usd\": 1041387260.5515195, \"segment\": \"paired asset\"}, {\"timestamp\": \"2022-08-06T00:00:00\", \"reserves_usd\": 1058797110.553069, \"segment\": \"paired asset\"}, {\"timestamp\": \"2022-08-07T00:00:00\", \"reserves_usd\": 1058614550.9227163, \"segment\": \"paired asset\"}, {\"timestamp\": \"2022-08-08T00:00:00\", \"reserves_usd\": 1064270970.9850992, \"segment\": \"paired asset\"}, {\"timestamp\": \"2022-08-09T00:00:00\", \"reserves_usd\": 1056536763.5128692, \"segment\": \"paired asset\"}, {\"timestamp\": \"2022-08-10T00:00:00\", \"reserves_usd\": 1052827102.2524264, \"segment\": \"paired asset\"}, {\"timestamp\": \"2022-08-11T00:00:00\", \"reserves_usd\": 1046975930.8826064, \"segment\": \"paired asset\"}, {\"timestamp\": \"2022-08-12T00:00:00\", \"reserves_usd\": 1039449790.7267143, \"segment\": \"paired asset\"}, {\"timestamp\": \"2022-08-13T00:00:00\", \"reserves_usd\": 1038740026.354225, \"segment\": \"paired asset\"}, {\"timestamp\": \"2022-08-14T00:00:00\", \"reserves_usd\": 1028330569.0414468, \"segment\": \"paired asset\"}, {\"timestamp\": \"2022-08-15T00:00:00\", \"reserves_usd\": 1026686829.5748904, \"segment\": \"paired asset\"}, {\"timestamp\": \"2022-08-16T00:00:00\", \"reserves_usd\": 1029767355.305203, \"segment\": \"paired asset\"}, {\"timestamp\": \"2022-08-17T00:00:00\", \"reserves_usd\": 1030222028.0423244, \"segment\": \"paired asset\"}, {\"timestamp\": \"2022-08-18T00:00:00\", \"reserves_usd\": 976728619.8014088, \"segment\": \"paired asset\"}, {\"timestamp\": \"2022-08-19T00:00:00\", \"reserves_usd\": 983160967.2307538, \"segment\": \"paired asset\"}, {\"timestamp\": \"2022-08-20T00:00:00\", \"reserves_usd\": 983728695.3178364, \"segment\": \"paired asset\"}, {\"timestamp\": \"2022-08-21T00:00:00\", \"reserves_usd\": 988334698.8283767, \"segment\": \"paired asset\"}, {\"timestamp\": \"2022-08-22T00:00:00\", \"reserves_usd\": 988081828.5620254, \"segment\": \"paired asset\"}, {\"timestamp\": \"2022-08-23T00:00:00\", \"reserves_usd\": 933018718.4402868, \"segment\": \"paired asset\"}, {\"timestamp\": \"2022-08-24T00:00:00\", \"reserves_usd\": 925488821.7480996, \"segment\": \"paired asset\"}, {\"timestamp\": \"2022-08-25T00:00:00\", \"reserves_usd\": 927761024.9261101, \"segment\": \"paired asset\"}, {\"timestamp\": \"2022-08-26T00:00:00\", \"reserves_usd\": 927180534.453883, \"segment\": \"paired asset\"}, {\"timestamp\": \"2022-08-27T00:00:00\", \"reserves_usd\": 925097199.7807856, \"segment\": \"paired asset\"}, {\"timestamp\": \"2022-08-28T00:00:00\", \"reserves_usd\": 927411686.4173639, \"segment\": \"paired asset\"}, {\"timestamp\": \"2022-08-29T00:00:00\", \"reserves_usd\": 929596604.6054696, \"segment\": \"paired asset\"}, {\"timestamp\": \"2022-08-30T00:00:00\", \"reserves_usd\": 936151206.1235564, \"segment\": \"paired asset\"}, {\"timestamp\": \"2022-08-31T00:00:00\", \"reserves_usd\": 941483950.7357843, \"segment\": \"paired asset\"}, {\"timestamp\": \"2022-09-01T00:00:00\", \"reserves_usd\": 945585760.9044994, \"segment\": \"paired asset\"}, {\"timestamp\": \"2022-09-02T00:00:00\", \"reserves_usd\": 947981414.5727563, \"segment\": \"paired asset\"}, {\"timestamp\": \"2022-09-03T00:00:00\", \"reserves_usd\": 948314072.9734478, \"segment\": \"paired asset\"}, {\"timestamp\": \"2022-09-04T00:00:00\", \"reserves_usd\": 946649918.0276498, \"segment\": \"paired asset\"}, {\"timestamp\": \"2022-09-05T00:00:00\", \"reserves_usd\": 946334503.8002726, \"segment\": \"paired asset\"}, {\"timestamp\": \"2022-09-06T00:00:00\", \"reserves_usd\": 872202893.0808634, \"segment\": \"paired asset\"}, {\"timestamp\": \"2022-09-07T00:00:00\", \"reserves_usd\": 861642428.999563, \"segment\": \"paired asset\"}, {\"timestamp\": \"2022-09-08T00:00:00\", \"reserves_usd\": 862561539.0451039, \"segment\": \"paired asset\"}, {\"timestamp\": \"2022-09-09T00:00:00\", \"reserves_usd\": 851776403.5693582, \"segment\": \"paired asset\"}, {\"timestamp\": \"2022-09-10T00:00:00\", \"reserves_usd\": 853188014.4151627, \"segment\": \"paired asset\"}, {\"timestamp\": \"2022-09-11T00:00:00\", \"reserves_usd\": 854695174.7361354, \"segment\": \"paired asset\"}, {\"timestamp\": \"2022-09-12T00:00:00\", \"reserves_usd\": 855945254.1205252, \"segment\": \"paired asset\"}, {\"timestamp\": \"2022-09-13T00:00:00\", \"reserves_usd\": 856838917.1691428, \"segment\": \"paired asset\"}, {\"timestamp\": \"2022-09-14T00:00:00\", \"reserves_usd\": 853532892.7853563, \"segment\": \"paired asset\"}, {\"timestamp\": \"2022-09-15T00:00:00\", \"reserves_usd\": 823750284.1998565, \"segment\": \"paired asset\"}, {\"timestamp\": \"2022-09-16T00:00:00\", \"reserves_usd\": 826469984.4822446, \"segment\": \"paired asset\"}, {\"timestamp\": \"2022-09-17T00:00:00\", \"reserves_usd\": 825908185.2346327, \"segment\": \"paired asset\"}, {\"timestamp\": \"2022-09-18T00:00:00\", \"reserves_usd\": 824796794.9483641, \"segment\": \"paired asset\"}, {\"timestamp\": \"2022-09-19T00:00:00\", \"reserves_usd\": 822098291.8783613, \"segment\": \"paired asset\"}, {\"timestamp\": \"2022-09-20T00:00:00\", \"reserves_usd\": 765924623.1375346, \"segment\": \"paired asset\"}, {\"timestamp\": \"2022-09-21T00:00:00\", \"reserves_usd\": 781850848.5608542, \"segment\": \"paired asset\"}, {\"timestamp\": \"2022-09-22T00:00:00\", \"reserves_usd\": 784805226.9298217, \"segment\": \"paired asset\"}, {\"timestamp\": \"2022-09-23T00:00:00\", \"reserves_usd\": 779322726.2850095, \"segment\": \"paired asset\"}, {\"timestamp\": \"2022-09-24T00:00:00\", \"reserves_usd\": 785178977.3002274, \"segment\": \"paired asset\"}, {\"timestamp\": \"2022-09-25T00:00:00\", \"reserves_usd\": 788705845.2122548, \"segment\": \"paired asset\"}, {\"timestamp\": \"2022-09-26T00:00:00\", \"reserves_usd\": 786904185.9696681, \"segment\": \"paired asset\"}, {\"timestamp\": \"2022-09-27T00:00:00\", \"reserves_usd\": 787344554.9114691, \"segment\": \"paired asset\"}, {\"timestamp\": \"2022-09-28T00:00:00\", \"reserves_usd\": 790567582.0930592, \"segment\": \"paired asset\"}, {\"timestamp\": \"2022-09-29T00:00:00\", \"reserves_usd\": 792438425.2999457, \"segment\": \"paired asset\"}, {\"timestamp\": \"2022-09-30T00:00:00\", \"reserves_usd\": 794542863.2085408, \"segment\": \"paired asset\"}, {\"timestamp\": \"2022-10-01T00:00:00\", \"reserves_usd\": 791476382.8998065, \"segment\": \"paired asset\"}, {\"timestamp\": \"2022-10-02T00:00:00\", \"reserves_usd\": 788878262.7573309, \"segment\": \"paired asset\"}, {\"timestamp\": \"2022-10-03T00:00:00\", \"reserves_usd\": 791936883.3149834, \"segment\": \"paired asset\"}, {\"timestamp\": \"2022-10-04T00:00:00\", \"reserves_usd\": 793485654.7418264, \"segment\": \"paired asset\"}, {\"timestamp\": \"2022-10-05T00:00:00\", \"reserves_usd\": 797372837.6673355, \"segment\": \"paired asset\"}, {\"timestamp\": \"2022-10-06T00:00:00\", \"reserves_usd\": 800467863.2317888, \"segment\": \"paired asset\"}, {\"timestamp\": \"2022-10-07T00:00:00\", \"reserves_usd\": 801438581.4638752, \"segment\": \"paired asset\"}, {\"timestamp\": \"2022-10-08T00:00:00\", \"reserves_usd\": 802381258.2351722, \"segment\": \"paired asset\"}, {\"timestamp\": \"2022-10-09T00:00:00\", \"reserves_usd\": 800520296.6070046, \"segment\": \"paired asset\"}, {\"timestamp\": \"2022-10-10T00:00:00\", \"reserves_usd\": 801216327.9168603, \"segment\": \"paired asset\"}, {\"timestamp\": \"2022-10-11T00:00:00\", \"reserves_usd\": 802764911.0721009, \"segment\": \"paired asset\"}, {\"timestamp\": \"2022-10-12T00:00:00\", \"reserves_usd\": 798886632.4468384, \"segment\": \"paired asset\"}, {\"timestamp\": \"2022-10-13T00:00:00\", \"reserves_usd\": 801912432.1488087, \"segment\": \"paired asset\"}, {\"timestamp\": \"2022-10-14T00:00:00\", \"reserves_usd\": 802037233.4873307, \"segment\": \"paired asset\"}, {\"timestamp\": \"2022-10-15T00:00:00\", \"reserves_usd\": 809616027.4137475, \"segment\": \"paired asset\"}, {\"timestamp\": \"2022-10-16T00:00:00\", \"reserves_usd\": 808532179.1391968, \"segment\": \"paired asset\"}, {\"timestamp\": \"2022-10-17T00:00:00\", \"reserves_usd\": 809453856.7177377, \"segment\": \"paired asset\"}, {\"timestamp\": \"2022-10-18T00:00:00\", \"reserves_usd\": 810053007.5828292, \"segment\": \"paired asset\"}, {\"timestamp\": \"2022-10-19T00:00:00\", \"reserves_usd\": 815159320.9141179, \"segment\": \"paired asset\"}, {\"timestamp\": \"2022-10-20T00:00:00\", \"reserves_usd\": 821240131.9611703, \"segment\": \"paired asset\"}, {\"timestamp\": \"2022-10-21T00:00:00\", \"reserves_usd\": 814614109.6846999, \"segment\": \"paired asset\"}, {\"timestamp\": \"2022-10-22T00:00:00\", \"reserves_usd\": 782085985.3393337, \"segment\": \"paired asset\"}, {\"timestamp\": \"2022-10-23T00:00:00\", \"reserves_usd\": 778248998.2615957, \"segment\": \"paired asset\"}, {\"timestamp\": \"2022-10-24T00:00:00\", \"reserves_usd\": 776041991.3986729, \"segment\": \"paired asset\"}, {\"timestamp\": \"2022-10-25T00:00:00\", \"reserves_usd\": 732405469.8872967, \"segment\": \"paired asset\"}, {\"timestamp\": \"2022-10-26T00:00:00\", \"reserves_usd\": 729477442.2911369, \"segment\": \"paired asset\"}, {\"timestamp\": \"2022-10-27T00:00:00\", \"reserves_usd\": 729012643.3737022, \"segment\": \"paired asset\"}, {\"timestamp\": \"2022-10-28T00:00:00\", \"reserves_usd\": 720517788.5758264, \"segment\": \"paired asset\"}, {\"timestamp\": \"2022-10-29T00:00:00\", \"reserves_usd\": 711048553.8752602, \"segment\": \"paired asset\"}, {\"timestamp\": \"2022-10-30T00:00:00\", \"reserves_usd\": 705567859.8556559, \"segment\": \"paired asset\"}, {\"timestamp\": \"2022-10-31T00:00:00\", \"reserves_usd\": 706588319.938094, \"segment\": \"paired asset\"}, {\"timestamp\": \"2022-11-01T00:00:00\", \"reserves_usd\": 702531723.8918531, \"segment\": \"paired asset\"}, {\"timestamp\": \"2022-11-02T00:00:00\", \"reserves_usd\": 699624220.5116541, \"segment\": \"paired asset\"}, {\"timestamp\": \"2022-11-03T00:00:00\", \"reserves_usd\": 699663205.875346, \"segment\": \"paired asset\"}, {\"timestamp\": \"2022-11-04T00:00:00\", \"reserves_usd\": 694590632.6850123, \"segment\": \"paired asset\"}, {\"timestamp\": \"2022-11-05T00:00:00\", \"reserves_usd\": 687480836.5583462, \"segment\": \"paired asset\"}, {\"timestamp\": \"2022-11-06T00:00:00\", \"reserves_usd\": 671937278.1947447, \"segment\": \"paired asset\"}, {\"timestamp\": \"2022-11-07T00:00:00\", \"reserves_usd\": 667805405.4073201, \"segment\": \"paired asset\"}, {\"timestamp\": \"2022-11-08T00:00:00\", \"reserves_usd\": 673410943.4533939, \"segment\": \"paired asset\"}, {\"timestamp\": \"2022-11-09T00:00:00\", \"reserves_usd\": 635160914.7786677, \"segment\": \"paired asset\"}, {\"timestamp\": \"2022-11-10T00:00:00\", \"reserves_usd\": 590938423.5725943, \"segment\": \"paired asset\"}, {\"timestamp\": \"2022-11-11T00:00:00\", \"reserves_usd\": 430705513.3906983, \"segment\": \"paired asset\"}, {\"timestamp\": \"2022-11-12T00:00:00\", \"reserves_usd\": 437244451.8100157, \"segment\": \"paired asset\"}, {\"timestamp\": \"2022-11-13T00:00:00\", \"reserves_usd\": 448287276.4508976, \"segment\": \"paired asset\"}, {\"timestamp\": \"2022-11-14T00:00:00\", \"reserves_usd\": 454605998.6383501, \"segment\": \"paired asset\"}, {\"timestamp\": \"2022-11-15T00:00:00\", \"reserves_usd\": 455030045.30957896, \"segment\": \"paired asset\"}, {\"timestamp\": \"2022-11-16T00:00:00\", \"reserves_usd\": 457027113.2336847, \"segment\": \"paired asset\"}, {\"timestamp\": \"2022-11-17T00:00:00\", \"reserves_usd\": 464036692.2251019, \"segment\": \"paired asset\"}, {\"timestamp\": \"2022-11-18T00:00:00\", \"reserves_usd\": 472907321.0114326, \"segment\": \"paired asset\"}, {\"timestamp\": \"2022-11-19T00:00:00\", \"reserves_usd\": 473741221.9870343, \"segment\": \"paired asset\"}, {\"timestamp\": \"2022-11-20T00:00:00\", \"reserves_usd\": 474803860.0224762, \"segment\": \"paired asset\"}, {\"timestamp\": \"2022-11-21T00:00:00\", \"reserves_usd\": 464019178.32949394, \"segment\": \"paired asset\"}, {\"timestamp\": \"2022-11-22T00:00:00\", \"reserves_usd\": 466055865.2520585, \"segment\": \"paired asset\"}, {\"timestamp\": \"2022-11-23T00:00:00\", \"reserves_usd\": 477928834.8233792, \"segment\": \"paired asset\"}, {\"timestamp\": \"2022-11-24T00:00:00\", \"reserves_usd\": 477414439.0917854, \"segment\": \"paired asset\"}, {\"timestamp\": \"2022-11-25T00:00:00\", \"reserves_usd\": 480841355.54874915, \"segment\": \"paired asset\"}, {\"timestamp\": \"2022-11-26T00:00:00\", \"reserves_usd\": 490993891.50310683, \"segment\": \"paired asset\"}, {\"timestamp\": \"2022-11-27T00:00:00\", \"reserves_usd\": 495145464.93305594, \"segment\": \"paired asset\"}, {\"timestamp\": \"2022-11-28T00:00:00\", \"reserves_usd\": 494016876.1495323, \"segment\": \"paired asset\"}, {\"timestamp\": \"2022-11-29T00:00:00\", \"reserves_usd\": 497011450.1439509, \"segment\": \"paired asset\"}, {\"timestamp\": \"2022-11-30T00:00:00\", \"reserves_usd\": 505793150.0889044, \"segment\": \"paired asset\"}, {\"timestamp\": \"2022-12-01T00:00:00\", \"reserves_usd\": 513065537.0015857, \"segment\": \"paired asset\"}, {\"timestamp\": \"2022-12-02T00:00:00\", \"reserves_usd\": 513135942.7559095, \"segment\": \"paired asset\"}, {\"timestamp\": \"2022-12-03T00:00:00\", \"reserves_usd\": 517126542.2067699, \"segment\": \"paired asset\"}, {\"timestamp\": \"2022-12-04T00:00:00\", \"reserves_usd\": 518303587.0881392, \"segment\": \"paired asset\"}, {\"timestamp\": \"2022-12-05T00:00:00\", \"reserves_usd\": 519716840.7356218, \"segment\": \"paired asset\"}, {\"timestamp\": \"2022-12-06T00:00:00\", \"reserves_usd\": 520432588.82431847, \"segment\": \"paired asset\"}, {\"timestamp\": \"2022-12-07T00:00:00\", \"reserves_usd\": 520248958.9298986, \"segment\": \"paired asset\"}, {\"timestamp\": \"2022-12-08T00:00:00\", \"reserves_usd\": 522255134.54204446, \"segment\": \"paired asset\"}, {\"timestamp\": \"2022-12-09T00:00:00\", \"reserves_usd\": 518363049.9911763, \"segment\": \"paired asset\"}, {\"timestamp\": \"2022-12-10T00:00:00\", \"reserves_usd\": 518637561.1449671, \"segment\": \"paired asset\"}, {\"timestamp\": \"2022-12-11T00:00:00\", \"reserves_usd\": 520043852.8932807, \"segment\": \"paired asset\"}, {\"timestamp\": \"2022-12-12T00:00:00\", \"reserves_usd\": 519702239.1587585, \"segment\": \"paired asset\"}, {\"timestamp\": \"2022-12-13T00:00:00\", \"reserves_usd\": 516917205.7728261, \"segment\": \"paired asset\"}, {\"timestamp\": \"2022-12-14T00:00:00\", \"reserves_usd\": 514482416.1740843, \"segment\": \"paired asset\"}, {\"timestamp\": \"2022-12-15T00:00:00\", \"reserves_usd\": 518521447.25713366, \"segment\": \"paired asset\"}, {\"timestamp\": \"2022-12-16T00:00:00\", \"reserves_usd\": 520361615.3212058, \"segment\": \"paired asset\"}, {\"timestamp\": \"2022-12-17T00:00:00\", \"reserves_usd\": 524864308.027353, \"segment\": \"paired asset\"}, {\"timestamp\": \"2022-12-18T00:00:00\", \"reserves_usd\": 525706278.87014246, \"segment\": \"paired asset\"}, {\"timestamp\": \"2022-12-19T00:00:00\", \"reserves_usd\": 525928526.8459607, \"segment\": \"paired asset\"}, {\"timestamp\": \"2022-12-20T00:00:00\", \"reserves_usd\": 528867124.8370376, \"segment\": \"paired asset\"}, {\"timestamp\": \"2022-12-21T00:00:00\", \"reserves_usd\": 530358604.6103366, \"segment\": \"paired asset\"}, {\"timestamp\": \"2022-12-22T00:00:00\", \"reserves_usd\": 534614516.0566959, \"segment\": \"paired asset\"}, {\"timestamp\": \"2022-12-23T00:00:00\", \"reserves_usd\": 534973139.1467819, \"segment\": \"paired asset\"}, {\"timestamp\": \"2022-12-24T00:00:00\", \"reserves_usd\": 534702948.6228889, \"segment\": \"paired asset\"}, {\"timestamp\": \"2022-12-25T00:00:00\", \"reserves_usd\": 534547854.5281121, \"segment\": \"paired asset\"}, {\"timestamp\": \"2022-12-26T00:00:00\", \"reserves_usd\": 534296962.030243, \"segment\": \"paired asset\"}, {\"timestamp\": \"2022-12-27T00:00:00\", \"reserves_usd\": 533056075.11559314, \"segment\": \"paired asset\"}, {\"timestamp\": \"2022-12-28T00:00:00\", \"reserves_usd\": 528688410.72736686, \"segment\": \"paired asset\"}, {\"timestamp\": \"2022-12-29T00:00:00\", \"reserves_usd\": 521036480.83765054, \"segment\": \"paired asset\"}, {\"timestamp\": \"2022-12-30T00:00:00\", \"reserves_usd\": 518879799.7514114, \"segment\": \"paired asset\"}, {\"timestamp\": \"2022-12-31T00:00:00\", \"reserves_usd\": 520229712.0827397, \"segment\": \"paired asset\"}, {\"timestamp\": \"2023-01-01T00:00:00\", \"reserves_usd\": 517287814.74333817, \"segment\": \"paired asset\"}, {\"timestamp\": \"2023-01-02T00:00:00\", \"reserves_usd\": 515438207.0536203, \"segment\": \"paired asset\"}, {\"timestamp\": \"2023-01-03T00:00:00\", \"reserves_usd\": 512772980.881594, \"segment\": \"paired asset\"}, {\"timestamp\": \"2023-01-04T00:00:00\", \"reserves_usd\": 507601791.6536232, \"segment\": \"paired asset\"}, {\"timestamp\": \"2023-01-05T00:00:00\", \"reserves_usd\": 507064011.8944064, \"segment\": \"paired asset\"}, {\"timestamp\": \"2023-01-06T00:00:00\", \"reserves_usd\": 482385486.9359235, \"segment\": \"paired asset\"}, {\"timestamp\": \"2023-01-07T00:00:00\", \"reserves_usd\": 488114354.62814283, \"segment\": \"paired asset\"}, {\"timestamp\": \"2023-01-08T00:00:00\", \"reserves_usd\": 490478257.68993247, \"segment\": \"paired asset\"}, {\"timestamp\": \"2023-01-09T00:00:00\", \"reserves_usd\": 491083532.1699711, \"segment\": \"paired asset\"}, {\"timestamp\": \"2023-01-10T00:00:00\", \"reserves_usd\": 490932519.08740765, \"segment\": \"paired asset\"}, {\"timestamp\": \"2023-01-11T00:00:00\", \"reserves_usd\": 493449247.2210942, \"segment\": \"paired asset\"}, {\"timestamp\": \"2023-01-12T00:00:00\", \"reserves_usd\": 493890025.55898184, \"segment\": \"paired asset\"}, {\"timestamp\": \"2023-01-13T00:00:00\", \"reserves_usd\": 495274130.2046587, \"segment\": \"paired asset\"}, {\"timestamp\": \"2023-01-14T00:00:00\", \"reserves_usd\": 495541717.5670791, \"segment\": \"paired asset\"}]}}, {\"mode\": \"vega-lite\"});\n",
       "</script>"
      ],
      "text/plain": [
       "alt.HConcatChart(...)"
      ]
     },
     "execution_count": 175,
     "metadata": {},
     "output_type": "execute_result"
    }
   ],
   "source": [
    "df_fraxbp_last = df_fraxbp_reserves.copy()\n",
    "df_fraxbp_last['max_timestamp'] = df_fraxbp_last.groupby(['pool_symbol'])['timestamp'].transform(\"max\")\n",
    "df_fraxbp_last = df_fraxbp_last.loc[df_fraxbp_last.timestamp == df_fraxbp_last.max_timestamp]\n",
    "\n",
    "df_3pool_last = df_3pool_reserves.copy()\n",
    "df_3pool_last['max_timestamp'] = df_3pool_last.groupby(['pool_symbol'])['timestamp'].transform(\"max\")\n",
    "df_3pool_last = df_3pool_last.loc[df_3pool_last.timestamp == df_3pool_last.max_timestamp]\n",
    "\n",
    "tvl_paired_fraxbp = df_fraxbp_last.loc[df_fraxbp_last.coin_name != 'crvFRAX'].reserves_usd.sum()\n",
    "tvl_paired_3pool = df_3pool_last.loc[df_3pool_last.coin_name != '3Crv'].reserves_usd.sum()\n",
    "print(f\"TVL paired against crvFRAX across FraxBP metapools: ${tvl_paired_fraxbp:,}\")\n",
    "print(f\"TVL paired against 3Crv across 3Pool metapools: ${tvl_paired_3pool:,}\")\n",
    "print(f\"Ratio of paired liquidity of FraxBP to 3Pool: {100 * (tvl_paired_fraxbp / tvl_paired_3pool):.1f}%\")\n",
    "\n",
    "alt.hconcat(\n",
    "    (\n",
    "        chart_metapool_tvl(\n",
    "            df_fraxbp_reserves, \n",
    "            'crvFRAX'\n",
    "        )\n",
    "        .properties(title=\"Reserves: FraxBP Metapools\")\n",
    "    ), \n",
    "    (\n",
    "        chart_metapool_tvl(\n",
    "            df_3pool_reserves.loc[df_3pool_reserves.timestamp >= df_fraxbp_reserves.timestamp.min()], \n",
    "            '3Crv'\n",
    "        )\n",
    "        .properties(title=\"Reserves: 3Pool Metapools\")\n",
    "    ),\n",
    ")"
   ]
  },
  {
   "cell_type": "code",
   "execution_count": 181,
   "id": "4858ee79-7835-4116-9a5f-83672449be8e",
   "metadata": {},
   "outputs": [],
   "source": [
    "def chart_metapool_volume(df): \n",
    "    return (\n",
    "        alt.Chart(df)\n",
    "        .mark_bar()\n",
    "        .encode(\n",
    "            x=alt.X(\"yearmonth(timestamp):T\", axis=alt.Axis(labelAlign=\"center\")), \n",
    "            y=\"volume_usd:Q\", \n",
    "            tooltip=[\"timestamp\", alt.Tooltip(\"volume_usd\", format=\"$,d\")]\n",
    "        )\n",
    "    ) "
   ]
  },
  {
   "cell_type": "code",
   "execution_count": 182,
   "id": "8cd6a38c-b0aa-4181-af4b-8c769c083cad",
   "metadata": {},
   "outputs": [
    {
     "name": "stdout",
     "output_type": "stream",
     "text": [
      "Average volume for FraxBP metapools for month ending on 2023-01-31: $95,252.01834824336\n",
      "Average volume for 3Pool metapools for month ending on 2023-01-31: $194,575.59845642984\n",
      "Ratio of volume between FraxBP metapools and 3Pool metapools: 49.0%\n"
     ]
    },
    {
     "name": "stderr",
     "output_type": "stream",
     "text": [
      "/opt/miniconda3/envs/flywheel/lib/python3.10/site-packages/altair/utils/core.py:317: FutureWarning: iteritems is deprecated and will be removed in a future version. Use .items instead.\n",
      "  for col_name, dtype in df.dtypes.iteritems():\n"
     ]
    },
    {
     "data": {
      "text/html": [
       "\n",
       "<div id=\"altair-viz-a930802d270f4df7ad3c46faeff98d49\"></div>\n",
       "<script type=\"text/javascript\">\n",
       "  var VEGA_DEBUG = (typeof VEGA_DEBUG == \"undefined\") ? {} : VEGA_DEBUG;\n",
       "  (function(spec, embedOpt){\n",
       "    let outputDiv = document.currentScript.previousElementSibling;\n",
       "    if (outputDiv.id !== \"altair-viz-a930802d270f4df7ad3c46faeff98d49\") {\n",
       "      outputDiv = document.getElementById(\"altair-viz-a930802d270f4df7ad3c46faeff98d49\");\n",
       "    }\n",
       "    const paths = {\n",
       "      \"vega\": \"https://cdn.jsdelivr.net/npm//vega@5?noext\",\n",
       "      \"vega-lib\": \"https://cdn.jsdelivr.net/npm//vega-lib?noext\",\n",
       "      \"vega-lite\": \"https://cdn.jsdelivr.net/npm//vega-lite@4.17.0?noext\",\n",
       "      \"vega-embed\": \"https://cdn.jsdelivr.net/npm//vega-embed@6?noext\",\n",
       "    };\n",
       "\n",
       "    function maybeLoadScript(lib, version) {\n",
       "      var key = `${lib.replace(\"-\", \"\")}_version`;\n",
       "      return (VEGA_DEBUG[key] == version) ?\n",
       "        Promise.resolve(paths[lib]) :\n",
       "        new Promise(function(resolve, reject) {\n",
       "          var s = document.createElement('script');\n",
       "          document.getElementsByTagName(\"head\")[0].appendChild(s);\n",
       "          s.async = true;\n",
       "          s.onload = () => {\n",
       "            VEGA_DEBUG[key] = version;\n",
       "            return resolve(paths[lib]);\n",
       "          };\n",
       "          s.onerror = () => reject(`Error loading script: ${paths[lib]}`);\n",
       "          s.src = paths[lib];\n",
       "        });\n",
       "    }\n",
       "\n",
       "    function showError(err) {\n",
       "      outputDiv.innerHTML = `<div class=\"error\" style=\"color:red;\">${err}</div>`;\n",
       "      throw err;\n",
       "    }\n",
       "\n",
       "    function displayChart(vegaEmbed) {\n",
       "      vegaEmbed(outputDiv, spec, embedOpt)\n",
       "        .catch(err => showError(`Javascript Error: ${err.message}<br>This usually means there's a typo in your chart specification. See the javascript console for the full traceback.`));\n",
       "    }\n",
       "\n",
       "    if(typeof define === \"function\" && define.amd) {\n",
       "      requirejs.config({paths});\n",
       "      require([\"vega-embed\"], displayChart, err => showError(`Error loading script: ${err.message}`));\n",
       "    } else {\n",
       "      maybeLoadScript(\"vega\", \"5\")\n",
       "        .then(() => maybeLoadScript(\"vega-lite\", \"4.17.0\"))\n",
       "        .then(() => maybeLoadScript(\"vega-embed\", \"6\"))\n",
       "        .catch(showError)\n",
       "        .then(() => displayChart(vegaEmbed));\n",
       "    }\n",
       "  })({\"config\": {\"view\": {\"continuousWidth\": 400, \"continuousHeight\": 300}}, \"hconcat\": [{\"data\": {\"name\": \"data-aaf640175af7c38c8180162184861d2b\"}, \"mark\": \"bar\", \"encoding\": {\"tooltip\": [{\"field\": \"timestamp\", \"type\": \"temporal\"}, {\"field\": \"volume_usd\", \"format\": \"$,d\", \"type\": \"quantitative\"}], \"x\": {\"axis\": {\"labelAlign\": \"center\"}, \"field\": \"timestamp\", \"timeUnit\": \"yearmonth\", \"type\": \"temporal\"}, \"y\": {\"field\": \"volume_usd\", \"type\": \"quantitative\"}}, \"title\": \"Volume (Monthly): FraxBP Metapools\"}, {\"data\": {\"name\": \"data-e7b01e4940a27d0f10af1d2a0e5dd794\"}, \"mark\": \"bar\", \"encoding\": {\"tooltip\": [{\"field\": \"timestamp\", \"type\": \"temporal\"}, {\"field\": \"volume_usd\", \"format\": \"$,d\", \"type\": \"quantitative\"}], \"x\": {\"axis\": {\"labelAlign\": \"center\"}, \"field\": \"timestamp\", \"timeUnit\": \"yearmonth\", \"type\": \"temporal\"}, \"y\": {\"field\": \"volume_usd\", \"type\": \"quantitative\"}}, \"title\": \"Volume (Monthly): 3Pool Metapools\"}], \"$schema\": \"https://vega.github.io/schema/vega-lite/v4.17.0.json\", \"datasets\": {\"data-aaf640175af7c38c8180162184861d2b\": [{\"timestamp\": \"2022-07-31T00:00:00\", \"volume_usd\": 129512.93174301789}, {\"timestamp\": \"2022-08-31T00:00:00\", \"volume_usd\": 191010.6917045431}, {\"timestamp\": \"2022-09-30T00:00:00\", \"volume_usd\": 91231.24868703462}, {\"timestamp\": \"2022-10-31T00:00:00\", \"volume_usd\": 91325.00843955744}, {\"timestamp\": \"2022-11-30T00:00:00\", \"volume_usd\": 251381.78379509493}, {\"timestamp\": \"2022-12-31T00:00:00\", \"volume_usd\": 93000.17104931807}, {\"timestamp\": \"2023-01-31T00:00:00\", \"volume_usd\": 95252.01834824336}], \"data-e7b01e4940a27d0f10af1d2a0e5dd794\": [{\"timestamp\": \"2022-07-31T00:00:00\", \"volume_usd\": 410273.03881344816}, {\"timestamp\": \"2022-08-31T00:00:00\", \"volume_usd\": 514601.32842532895}, {\"timestamp\": \"2022-09-30T00:00:00\", \"volume_usd\": 368549.86990951403}, {\"timestamp\": \"2022-10-31T00:00:00\", \"volume_usd\": 323725.71738497197}, {\"timestamp\": \"2022-11-30T00:00:00\", \"volume_usd\": 1265286.125432493}, {\"timestamp\": \"2022-12-31T00:00:00\", \"volume_usd\": 377260.5722713335}, {\"timestamp\": \"2023-01-31T00:00:00\", \"volume_usd\": 194575.59845642984}]}}, {\"mode\": \"vega-lite\"});\n",
       "</script>"
      ],
      "text/plain": [
       "alt.HConcatChart(...)"
      ]
     },
     "execution_count": 182,
     "metadata": {},
     "output_type": "execute_result"
    }
   ],
   "source": [
    "df_fraxbp_vol_agg = df_fraxbp_volume.groupby(pd.Grouper(key=\"timestamp\", freq=\"M\")).volume_usd.mean().reset_index()\n",
    "df_3pool_vol_agg = df_3pool_volume.groupby(pd.Grouper(key=\"timestamp\", freq=\"M\")).volume_usd.mean().reset_index()\n",
    "df_3pool_vol_agg = df_3pool_vol_agg.loc[df_3pool_vol_agg.timestamp >= df_fraxbp_vol_agg.timestamp.min()]\n",
    "\n",
    "dmax = df_fraxbp_vol_agg.timestamp.max()\n",
    "vol_frax = df_fraxbp_vol_agg.loc[df_fraxbp_vol_agg.timestamp == dmax].volume_usd.max()\n",
    "vol_3pool = df_3pool_vol_agg.loc[df_3pool_vol_agg.timestamp == dmax].volume_usd.max()\n",
    "\n",
    "print(f\"Average volume for FraxBP metapools for month ending on {dmax.date()}: ${vol_frax:,}\")\n",
    "print(f\"Average volume for 3Pool metapools for month ending on {dmax.date()}: ${vol_3pool:,}\")\n",
    "print(f\"Ratio of volume between FraxBP metapools and 3Pool metapools: {100 * (vol_frax / vol_3pool):.1f}%\")\n",
    "\n",
    "(\n",
    "    chart_metapool_volume(df_fraxbp_vol_agg).properties(title=\"Volume (Monthly): FraxBP Metapools\") | \n",
    "    chart_metapool_volume(df_3pool_vol_agg).properties(title=\"Volume (Monthly): 3Pool Metapools\")\n",
    ")"
   ]
  }
 ],
 "metadata": {
  "kernelspec": {
   "display_name": "Python [conda env:flywheel]",
   "language": "python",
   "name": "conda-env-flywheel-py"
  },
  "language_info": {
   "codemirror_mode": {
    "name": "ipython",
    "version": 3
   },
   "file_extension": ".py",
   "mimetype": "text/x-python",
   "name": "python",
   "nbconvert_exporter": "python",
   "pygments_lexer": "ipython3",
   "version": "3.10.8"
  },
  "vscode": {
   "interpreter": {
    "hash": "d3914f5fb17e66baeb14c103313bc8c946345da85f5b2968ccefa93b7072e0df"
   }
  }
 },
 "nbformat": 4,
 "nbformat_minor": 5
}
