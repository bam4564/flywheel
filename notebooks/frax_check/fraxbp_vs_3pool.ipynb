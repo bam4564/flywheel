{
 "cells": [
  {
   "cell_type": "markdown",
   "id": "b7150049-5d0a-4c70-b683-b6568f8e3047",
   "metadata": {},
   "source": [
    "# Comparing Volume and Liquidity Between 3Pool and FraxBP Curve Metapools\n",
    "\n",
    "This analysis dynamically locates all metapools for the 3pool and fraxbp on curve, then performs an analysis of their TVL (segmented by whether or not liquidity is in the base pool lp token or the paired asset) and monthly volume."
   ]
  },
  {
   "cell_type": "code",
   "execution_count": 1,
   "id": "1abbe31e-72e0-4933-9c80-527bf56f22f2",
   "metadata": {
    "tags": []
   },
   "outputs": [
    {
     "name": "stderr",
     "output_type": "stream",
     "text": [
      "/opt/miniconda3/envs/flywheel-testing/lib/python3.10/site-packages/eth_utils/toolz.py:2: DeprecationWarning: The toolz.compatibility module is no longer needed in Python 3 and has been deprecated. Please import these utilities directly from the standard library. This module will be removed in a future release.\n",
      "  from cytoolz import (\n",
      "/opt/miniconda3/envs/flywheel-testing/lib/python3.10/site-packages/web3/_utils/normalizers.py:231: DeprecationWarning: distutils Version classes are deprecated. Use packaging.version instead.\n",
      "  if LooseVersion(eth_abi.__version__) < LooseVersion(\"2\"):\n"
     ]
    }
   ],
   "source": [
    "import json \n",
    "import os\n",
    "import logging \n",
    "import asyncio\n",
    "import logging\n",
    "\n",
    "from typing import List\n",
    "from datetime import timedelta\n",
    "from pathlib import Path \n",
    "from pprint import PrettyPrinter\n",
    "\n",
    "from subgrounds import Subgrounds\n",
    "from web3 import Web3\n",
    "from pycoingecko import CoinGeckoAPI\n",
    "\n",
    "from prefect import task, flow \n",
    "from prefect.client import get_client\n",
    "from prefect.tasks import task_input_hash\n",
    "\n",
    "import pandas as pd \n",
    "import numpy as np \n",
    "import altair as alt \n",
    "import missingno as miss\n",
    "\n",
    "from subgrounds.pagination import ShallowStrategy\n",
    "\n",
    "from flywheel_util.constants import (\n",
    "    colors_24,\n",
    "    colors_28, \n",
    "    addresses, \n",
    "    url_infura, \n",
    "    url_snapshot, \n",
    "    url_subgraphs, \n",
    "    snapshot_api_max_records_per_request, \n",
    "    snapshot_api_max_skip,\n",
    ")\n",
    "from flywheel_util.tasks.general import df_to_sql\n",
    "from flywheel_util.utils.util import (\n",
    "    ddf, \n",
    "    first_row, \n",
    "    query_attrs,\n",
    "    recursive_index_merge, \n",
    "    remove_prefix,\n",
    "    df_cols_change_prefix, \n",
    "    df_cols_camel_to_snake, \n",
    ")\n",
    "\n",
    "# logging.basicConfig(level=logging.DEBUG)\n",
    "\n",
    "pp = PrettyPrinter().pprint\n",
    "\n",
    "# alt.data_transformers.disable_max_rows()"
   ]
  },
  {
   "cell_type": "code",
   "execution_count": 2,
   "id": "e02d8fcf-aeac-4d94-8da1-0e8db63c664e",
   "metadata": {
    "tags": []
   },
   "outputs": [],
   "source": [
    "# w3 = Web3(Web3.HTTPProvider(url_infura))"
   ]
  },
  {
   "cell_type": "code",
   "execution_count": 3,
   "id": "7737badc-bf84-4290-9f86-705031cd8882",
   "metadata": {
    "tags": []
   },
   "outputs": [],
   "source": [
    "sg = Subgrounds()\n",
    "sg_curve_vol = sg.load_subgraph(url_subgraphs.convex.curve_vol_mainnet)"
   ]
  },
  {
   "cell_type": "code",
   "execution_count": 4,
   "id": "9a8bcb97-4c36-4056-a7d6-b6def8ad84ad",
   "metadata": {},
   "outputs": [
    {
     "data": {
      "text/plain": [
       "'https://api.thegraph.com/subgraphs/name/convex-community/volume-mainnet'"
      ]
     },
     "execution_count": 4,
     "metadata": {},
     "output_type": "execute_result"
    }
   ],
   "source": [
    "url_subgraphs.convex.curve_vol_mainnet"
   ]
  },
  {
   "cell_type": "code",
   "execution_count": 5,
   "id": "f81ce684-d3f6-45ba-bc7f-9a1c257eeab7",
   "metadata": {},
   "outputs": [],
   "source": [
    "@task(persist_result=True, cache_key_fn=task_input_hash, cache_expiration=timedelta(days=1), tags=[\"curve_subgraph\"])\n",
    "def query_pools(metapool_lp_token: str): \n",
    "    # Get all metapools for a particular pool \n",
    "    query_pools = sg_curve_vol.Query.pools(\n",
    "        first=1000, where={\"coins_contains\": [metapool_lp_token]}\n",
    "    )\n",
    "    dfs = sg.query_df([\n",
    "        query_pools.id, \n",
    "        query_pools.symbol, \n",
    "        query_pools.coins, \n",
    "        query_pools.coinNames, \n",
    "    ])\n",
    "    return dfs \n",
    "    \n",
    "@task \n",
    "def process_pools(dfs): \n",
    "    df_pool_coin = recursive_index_merge(dfs) \n",
    "    df_pool_coin = df_cols_change_prefix(df_pool_coin, \"pools_\", \"pool_\")\n",
    "    df_pool_coin = df_pool_coin.rename(columns={\"pool_coins\": \"coin\", \"pool_coinNames\": \"coin_name\"})\n",
    "    return df_pool_coin\n",
    "\n",
    "@task(persist_result=True, cache_key_fn=task_input_hash, cache_expiration=timedelta(days=1), tags=[\"curve_subgraph\"])\n",
    "def query_pool_snaps(pool_ids: List[str]): \n",
    "    query_snaps = sg_curve_vol.Query.dailyPoolSnapshots(\n",
    "        first=30000, orderBy=\"timestamp\", orderDirection=\"desc\", where={\"pool_in\": pool_ids}\n",
    "    )\n",
    "    dfs = sg.query_df([\n",
    "        query_snaps.pool.coins, \n",
    "        query_snaps.pool.id, \n",
    "        query_snaps.timestamp, \n",
    "        query_snaps.reservesUSD, \n",
    "    ], pagination_strategy=ShallowStrategy)\n",
    "    return dfs \n",
    "\n",
    "@task \n",
    "def process_pool_snaps(dfs): \n",
    "    df_pool_snaps = recursive_index_merge(dfs) \n",
    "    df_pool_snaps = remove_prefix(df_pool_snaps, \"dailyPoolSnapshots_\")\n",
    "    df_pool_snaps = df_cols_camel_to_snake(df_pool_snaps)\n",
    "    df_pool_snaps = df_pool_snaps.rename(columns={\"pool_coins\": \"coin\"})\n",
    "    df_pool_snaps.timestamp = pd.to_datetime(df_pool_snaps.timestamp, unit='s')\n",
    "    return df_pool_snaps\n",
    "\n",
    "@task(persist_result=True, cache_key_fn=task_input_hash, cache_expiration=timedelta(days=1), tags=[\"curve_subgraph\"])\n",
    "def query_pool_vol(pool_ids: List[str]): \n",
    "    query_vol = sg_curve_vol.Query.swapVolumeSnapshots(\n",
    "        first=30000, orderBy=\"timestamp\", orderDirection=\"desc\", where={\"period\": 86400, \"pool_in\": pool_ids}\n",
    "    )\n",
    "    df_pool_vol = sg.query_df([\n",
    "        query_vol.pool.id,\n",
    "        query_vol.timestamp, \n",
    "        query_vol.volumeUSD, \n",
    "    ], pagination_strategy=ShallowStrategy)\n",
    "    return df_pool_vol\n",
    "\n",
    "@task \n",
    "def process_pool_vol(df_pool_vol): \n",
    "    df_pool_vol = remove_prefix(df_pool_vol, \"swapVolumeSnapshots_\")\n",
    "    df_pool_vol = df_cols_camel_to_snake(df_pool_vol)\n",
    "    df_pool_vol.timestamp = pd.to_datetime(df_pool_vol.timestamp, unit='s')\n",
    "    return df_pool_vol\n",
    " \n",
    "@flow\n",
    "def flow_metapool(metapool_lp_token: str):\n",
    "\n",
    "    dfs_pool_coin = query_pools(metapool_lp_token)  \n",
    "    df_pool_coin = process_pools(dfs_pool_coin)\n",
    "    \n",
    "    pool_ids = df_pool_coin.pool_id.unique().tolist()\n",
    "    pool_batch_size = 4\n",
    "    i = 0 \n",
    "    futures_snaps = []\n",
    "    futures_vol = []\n",
    "    while i < len(pool_ids):\n",
    "        pool_id_batch = pool_ids[i:min(i+pool_batch_size, len(pool_ids))]\n",
    "        i += pool_batch_size\n",
    "        futures_snaps.append(query_pool_snaps.submit(pool_id_batch))\n",
    "        futures_vol.append(query_pool_vol.submit(pool_id_batch))\n",
    "    \n",
    "    dfs_snaps = [f.result() for f in futures_snaps]\n",
    "    dfs_vols = list(filter(lambda df: not df.empty, [f.result() for f in futures_vol]))\n",
    "    \n",
    "    dfs_snaps = list(map(lambda d: process_pool_snaps(d), dfs_snaps))\n",
    "    dfs_vols = list(map(lambda d: process_pool_vol(d), dfs_vols))\n",
    "            \n",
    "    df_pool_snaps = pd.concat(dfs_snaps)\n",
    "    df_pool_vol = pd.concat(dfs_vols)\n",
    "    \n",
    "    df_reserves = df_pool_coin.merge(df_pool_snaps, on=['pool_id', 'coin'])\n",
    "    df_volume = df_pool_coin[['pool_id', 'pool_symbol']].drop_duplicates().merge(df_pool_vol, on=['pool_id'])\n",
    "\n",
    "    return {\"reserves\": df_reserves, \"volume\": df_volume} \n",
    "    \n",
    "@flow \n",
    "def flow_fraxbp_vs_3pool(): \n",
    "    results = {}\n",
    "    for key in [\n",
    "        '3crv', \n",
    "        'crvfrax'\n",
    "    ]: \n",
    "        metapool_lp_token = addresses.token[key]\n",
    "        results[key] = flow_metapool(metapool_lp_token)\n",
    "    return results\n"
   ]
  },
  {
   "cell_type": "code",
   "execution_count": 6,
   "id": "7c34e1e2-9107-4f4c-9feb-5fdf0c1527b5",
   "metadata": {},
   "outputs": [
    {
     "data": {
      "text/html": [
       "<pre style=\"white-space:pre;overflow-x:auto;line-height:normal;font-family:Menlo,'DejaVu Sans Mono',consolas,'Courier New',monospace\">17:14:46.408 | <span style=\"color: #008080; text-decoration-color: #008080\">INFO</span>    | prefect.engine - Created flow run<span style=\"color: #800080; text-decoration-color: #800080\"> 'angelic-chachalaca'</span> for flow<span style=\"color: #800080; text-decoration-color: #800080; font-weight: bold\"> 'flow-fraxbp-vs-3pool'</span>\n",
       "</pre>\n"
      ],
      "text/plain": [
       "17:14:46.408 | \u001b[36mINFO\u001b[0m    | prefect.engine - Created flow run\u001b[35m 'angelic-chachalaca'\u001b[0m for flow\u001b[1;35m 'flow-fraxbp-vs-3pool'\u001b[0m\n"
      ]
     },
     "metadata": {},
     "output_type": "display_data"
    },
    {
     "name": "stderr",
     "output_type": "stream",
     "text": [
      "/opt/miniconda3/envs/flywheel-testing/lib/python3.10/site-packages/prefect/orion/models/block_schemas.py:729: RemovedIn20Warning: Deprecated API features detected! These feature(s) are not compatible with SQLAlchemy 2.0. To prevent incompatible upgrades prior to updating applications, ensure requirements files are pinned to \"sqlalchemy<2.0\". Set environment variable SQLALCHEMY_WARN_20=1 to show all deprecation warnings.  Set environment variable SQLALCHEMY_SILENCE_UBER_WARNING=1 to silence this message. (Background on SQLAlchemy 2.0 at: https://sqlalche.me/e/b8d9)\n",
      "  sa.select(\n"
     ]
    },
    {
     "data": {
      "text/html": [
       "<pre style=\"white-space:pre;overflow-x:auto;line-height:normal;font-family:Menlo,'DejaVu Sans Mono',consolas,'Courier New',monospace\">17:14:46.502 | <span style=\"color: #008080; text-decoration-color: #008080\">INFO</span>    | Flow run<span style=\"color: #800080; text-decoration-color: #800080\"> 'angelic-chachalaca'</span> - Created subflow run<span style=\"color: #800080; text-decoration-color: #800080\"> 'independent-jacamar'</span> for flow<span style=\"color: #800080; text-decoration-color: #800080; font-weight: bold\"> 'flow-metapool'</span>\n",
       "</pre>\n"
      ],
      "text/plain": [
       "17:14:46.502 | \u001b[36mINFO\u001b[0m    | Flow run\u001b[35m 'angelic-chachalaca'\u001b[0m - Created subflow run\u001b[35m 'independent-jacamar'\u001b[0m for flow\u001b[1;35m 'flow-metapool'\u001b[0m\n"
      ]
     },
     "metadata": {},
     "output_type": "display_data"
    },
    {
     "data": {
      "text/html": [
       "<pre style=\"white-space:pre;overflow-x:auto;line-height:normal;font-family:Menlo,'DejaVu Sans Mono',consolas,'Courier New',monospace\">17:14:46.528 | <span style=\"color: #008080; text-decoration-color: #008080\">INFO</span>    | Flow run<span style=\"color: #800080; text-decoration-color: #800080\"> 'independent-jacamar'</span> - Created task run 'query_pools-66de95c5-0' for task 'query_pools'\n",
       "</pre>\n"
      ],
      "text/plain": [
       "17:14:46.528 | \u001b[36mINFO\u001b[0m    | Flow run\u001b[35m 'independent-jacamar'\u001b[0m - Created task run 'query_pools-66de95c5-0' for task 'query_pools'\n"
      ]
     },
     "metadata": {},
     "output_type": "display_data"
    },
    {
     "data": {
      "text/html": [
       "<pre style=\"white-space:pre;overflow-x:auto;line-height:normal;font-family:Menlo,'DejaVu Sans Mono',consolas,'Courier New',monospace\">17:14:46.529 | <span style=\"color: #008080; text-decoration-color: #008080\">INFO</span>    | Flow run<span style=\"color: #800080; text-decoration-color: #800080\"> 'independent-jacamar'</span> - Executing 'query_pools-66de95c5-0' immediately...\n",
       "</pre>\n"
      ],
      "text/plain": [
       "17:14:46.529 | \u001b[36mINFO\u001b[0m    | Flow run\u001b[35m 'independent-jacamar'\u001b[0m - Executing 'query_pools-66de95c5-0' immediately...\n"
      ]
     },
     "metadata": {},
     "output_type": "display_data"
    },
    {
     "data": {
      "text/html": [
       "<pre style=\"white-space:pre;overflow-x:auto;line-height:normal;font-family:Menlo,'DejaVu Sans Mono',consolas,'Courier New',monospace\">17:14:46.993 | <span style=\"color: #008080; text-decoration-color: #008080\">INFO</span>    | Task run 'query_pools-66de95c5-0' - Finished in state <span style=\"color: #008000; text-decoration-color: #008000\">Completed</span>()\n",
       "</pre>\n"
      ],
      "text/plain": [
       "17:14:46.993 | \u001b[36mINFO\u001b[0m    | Task run 'query_pools-66de95c5-0' - Finished in state \u001b[32mCompleted\u001b[0m()\n"
      ]
     },
     "metadata": {},
     "output_type": "display_data"
    },
    {
     "data": {
      "text/html": [
       "<pre style=\"white-space:pre;overflow-x:auto;line-height:normal;font-family:Menlo,'DejaVu Sans Mono',consolas,'Courier New',monospace\">17:14:47.010 | <span style=\"color: #008080; text-decoration-color: #008080\">INFO</span>    | Flow run<span style=\"color: #800080; text-decoration-color: #800080\"> 'independent-jacamar'</span> - Created task run 'process_pools-45529377-0' for task 'process_pools'\n",
       "</pre>\n"
      ],
      "text/plain": [
       "17:14:47.010 | \u001b[36mINFO\u001b[0m    | Flow run\u001b[35m 'independent-jacamar'\u001b[0m - Created task run 'process_pools-45529377-0' for task 'process_pools'\n"
      ]
     },
     "metadata": {},
     "output_type": "display_data"
    },
    {
     "data": {
      "text/html": [
       "<pre style=\"white-space:pre;overflow-x:auto;line-height:normal;font-family:Menlo,'DejaVu Sans Mono',consolas,'Courier New',monospace\">17:14:47.011 | <span style=\"color: #008080; text-decoration-color: #008080\">INFO</span>    | Flow run<span style=\"color: #800080; text-decoration-color: #800080\"> 'independent-jacamar'</span> - Executing 'process_pools-45529377-0' immediately...\n",
       "</pre>\n"
      ],
      "text/plain": [
       "17:14:47.011 | \u001b[36mINFO\u001b[0m    | Flow run\u001b[35m 'independent-jacamar'\u001b[0m - Executing 'process_pools-45529377-0' immediately...\n"
      ]
     },
     "metadata": {},
     "output_type": "display_data"
    },
    {
     "data": {
      "text/html": [
       "<pre style=\"white-space:pre;overflow-x:auto;line-height:normal;font-family:Menlo,'DejaVu Sans Mono',consolas,'Courier New',monospace\">17:14:47.037 | <span style=\"color: #008080; text-decoration-color: #008080\">INFO</span>    | Task run 'process_pools-45529377-0' - Finished in state <span style=\"color: #008000; text-decoration-color: #008000\">Completed</span>()\n",
       "</pre>\n"
      ],
      "text/plain": [
       "17:14:47.037 | \u001b[36mINFO\u001b[0m    | Task run 'process_pools-45529377-0' - Finished in state \u001b[32mCompleted\u001b[0m()\n"
      ]
     },
     "metadata": {},
     "output_type": "display_data"
    },
    {
     "data": {
      "text/html": [
       "<pre style=\"white-space:pre;overflow-x:auto;line-height:normal;font-family:Menlo,'DejaVu Sans Mono',consolas,'Courier New',monospace\">17:14:47.211 | <span style=\"color: #008080; text-decoration-color: #008080\">INFO</span>    | Flow run<span style=\"color: #800080; text-decoration-color: #800080\"> 'independent-jacamar'</span> - Created task run 'query_pool_snaps-60635b41-0' for task 'query_pool_snaps'\n",
       "</pre>\n"
      ],
      "text/plain": [
       "17:14:47.211 | \u001b[36mINFO\u001b[0m    | Flow run\u001b[35m 'independent-jacamar'\u001b[0m - Created task run 'query_pool_snaps-60635b41-0' for task 'query_pool_snaps'\n"
      ]
     },
     "metadata": {},
     "output_type": "display_data"
    },
    {
     "data": {
      "text/html": [
       "<pre style=\"white-space:pre;overflow-x:auto;line-height:normal;font-family:Menlo,'DejaVu Sans Mono',consolas,'Courier New',monospace\">17:14:47.212 | <span style=\"color: #008080; text-decoration-color: #008080\">INFO</span>    | Flow run<span style=\"color: #800080; text-decoration-color: #800080\"> 'independent-jacamar'</span> - Submitted task run 'query_pool_snaps-60635b41-0' for execution.\n",
       "</pre>\n"
      ],
      "text/plain": [
       "17:14:47.212 | \u001b[36mINFO\u001b[0m    | Flow run\u001b[35m 'independent-jacamar'\u001b[0m - Submitted task run 'query_pool_snaps-60635b41-0' for execution.\n"
      ]
     },
     "metadata": {},
     "output_type": "display_data"
    },
    {
     "data": {
      "text/html": [
       "<pre style=\"white-space:pre;overflow-x:auto;line-height:normal;font-family:Menlo,'DejaVu Sans Mono',consolas,'Courier New',monospace\">17:14:47.273 | <span style=\"color: #008080; text-decoration-color: #008080\">INFO</span>    | Flow run<span style=\"color: #800080; text-decoration-color: #800080\"> 'independent-jacamar'</span> - Created task run 'query_pool_snaps-60635b41-8' for task 'query_pool_snaps'\n",
       "</pre>\n"
      ],
      "text/plain": [
       "17:14:47.273 | \u001b[36mINFO\u001b[0m    | Flow run\u001b[35m 'independent-jacamar'\u001b[0m - Created task run 'query_pool_snaps-60635b41-8' for task 'query_pool_snaps'\n"
      ]
     },
     "metadata": {},
     "output_type": "display_data"
    },
    {
     "data": {
      "text/html": [
       "<pre style=\"white-space:pre;overflow-x:auto;line-height:normal;font-family:Menlo,'DejaVu Sans Mono',consolas,'Courier New',monospace\">17:14:47.274 | <span style=\"color: #008080; text-decoration-color: #008080\">INFO</span>    | Flow run<span style=\"color: #800080; text-decoration-color: #800080\"> 'independent-jacamar'</span> - Submitted task run 'query_pool_snaps-60635b41-8' for execution.\n",
       "</pre>\n"
      ],
      "text/plain": [
       "17:14:47.274 | \u001b[36mINFO\u001b[0m    | Flow run\u001b[35m 'independent-jacamar'\u001b[0m - Submitted task run 'query_pool_snaps-60635b41-8' for execution.\n"
      ]
     },
     "metadata": {},
     "output_type": "display_data"
    },
    {
     "data": {
      "text/html": [
       "<pre style=\"white-space:pre;overflow-x:auto;line-height:normal;font-family:Menlo,'DejaVu Sans Mono',consolas,'Courier New',monospace\">17:14:47.342 | <span style=\"color: #008080; text-decoration-color: #008080\">INFO</span>    | Flow run<span style=\"color: #800080; text-decoration-color: #800080\"> 'independent-jacamar'</span> - Created task run 'query_pool_vol-8bdd8db3-14' for task 'query_pool_vol'\n",
       "</pre>\n"
      ],
      "text/plain": [
       "17:14:47.342 | \u001b[36mINFO\u001b[0m    | Flow run\u001b[35m 'independent-jacamar'\u001b[0m - Created task run 'query_pool_vol-8bdd8db3-14' for task 'query_pool_vol'\n"
      ]
     },
     "metadata": {},
     "output_type": "display_data"
    },
    {
     "data": {
      "text/html": [
       "<pre style=\"white-space:pre;overflow-x:auto;line-height:normal;font-family:Menlo,'DejaVu Sans Mono',consolas,'Courier New',monospace\">17:14:47.343 | <span style=\"color: #008080; text-decoration-color: #008080\">INFO</span>    | Flow run<span style=\"color: #800080; text-decoration-color: #800080\"> 'independent-jacamar'</span> - Submitted task run 'query_pool_vol-8bdd8db3-14' for execution.\n",
       "</pre>\n"
      ],
      "text/plain": [
       "17:14:47.343 | \u001b[36mINFO\u001b[0m    | Flow run\u001b[35m 'independent-jacamar'\u001b[0m - Submitted task run 'query_pool_vol-8bdd8db3-14' for execution.\n"
      ]
     },
     "metadata": {},
     "output_type": "display_data"
    },
    {
     "data": {
      "text/html": [
       "<pre style=\"white-space:pre;overflow-x:auto;line-height:normal;font-family:Menlo,'DejaVu Sans Mono',consolas,'Courier New',monospace\">17:14:47.401 | <span style=\"color: #008080; text-decoration-color: #008080\">INFO</span>    | Flow run<span style=\"color: #800080; text-decoration-color: #800080\"> 'independent-jacamar'</span> - Created task run 'query_pool_vol-8bdd8db3-7' for task 'query_pool_vol'\n",
       "</pre>\n"
      ],
      "text/plain": [
       "17:14:47.401 | \u001b[36mINFO\u001b[0m    | Flow run\u001b[35m 'independent-jacamar'\u001b[0m - Created task run 'query_pool_vol-8bdd8db3-7' for task 'query_pool_vol'\n"
      ]
     },
     "metadata": {},
     "output_type": "display_data"
    },
    {
     "data": {
      "text/html": [
       "<pre style=\"white-space:pre;overflow-x:auto;line-height:normal;font-family:Menlo,'DejaVu Sans Mono',consolas,'Courier New',monospace\">17:14:47.403 | <span style=\"color: #008080; text-decoration-color: #008080\">INFO</span>    | Flow run<span style=\"color: #800080; text-decoration-color: #800080\"> 'independent-jacamar'</span> - Submitted task run 'query_pool_vol-8bdd8db3-7' for execution.\n",
       "</pre>\n"
      ],
      "text/plain": [
       "17:14:47.403 | \u001b[36mINFO\u001b[0m    | Flow run\u001b[35m 'independent-jacamar'\u001b[0m - Submitted task run 'query_pool_vol-8bdd8db3-7' for execution.\n"
      ]
     },
     "metadata": {},
     "output_type": "display_data"
    },
    {
     "data": {
      "text/html": [
       "<pre style=\"white-space:pre;overflow-x:auto;line-height:normal;font-family:Menlo,'DejaVu Sans Mono',consolas,'Courier New',monospace\">17:14:47.467 | <span style=\"color: #008080; text-decoration-color: #008080\">INFO</span>    | Flow run<span style=\"color: #800080; text-decoration-color: #800080\"> 'independent-jacamar'</span> - Created task run 'query_pool_snaps-60635b41-36' for task 'query_pool_snaps'\n",
       "</pre>\n"
      ],
      "text/plain": [
       "17:14:47.467 | \u001b[36mINFO\u001b[0m    | Flow run\u001b[35m 'independent-jacamar'\u001b[0m - Created task run 'query_pool_snaps-60635b41-36' for task 'query_pool_snaps'\n"
      ]
     },
     "metadata": {},
     "output_type": "display_data"
    },
    {
     "data": {
      "text/html": [
       "<pre style=\"white-space:pre;overflow-x:auto;line-height:normal;font-family:Menlo,'DejaVu Sans Mono',consolas,'Courier New',monospace\">17:14:47.468 | <span style=\"color: #008080; text-decoration-color: #008080\">INFO</span>    | Flow run<span style=\"color: #800080; text-decoration-color: #800080\"> 'independent-jacamar'</span> - Submitted task run 'query_pool_snaps-60635b41-36' for execution.\n",
       "</pre>\n"
      ],
      "text/plain": [
       "17:14:47.468 | \u001b[36mINFO\u001b[0m    | Flow run\u001b[35m 'independent-jacamar'\u001b[0m - Submitted task run 'query_pool_snaps-60635b41-36' for execution.\n"
      ]
     },
     "metadata": {},
     "output_type": "display_data"
    },
    {
     "data": {
      "text/html": [
       "<pre style=\"white-space:pre;overflow-x:auto;line-height:normal;font-family:Menlo,'DejaVu Sans Mono',consolas,'Courier New',monospace\">17:14:47.532 | <span style=\"color: #008080; text-decoration-color: #008080\">INFO</span>    | Flow run<span style=\"color: #800080; text-decoration-color: #800080\"> 'independent-jacamar'</span> - Created task run 'query_pool_snaps-60635b41-45' for task 'query_pool_snaps'\n",
       "</pre>\n"
      ],
      "text/plain": [
       "17:14:47.532 | \u001b[36mINFO\u001b[0m    | Flow run\u001b[35m 'independent-jacamar'\u001b[0m - Created task run 'query_pool_snaps-60635b41-45' for task 'query_pool_snaps'\n"
      ]
     },
     "metadata": {},
     "output_type": "display_data"
    },
    {
     "data": {
      "text/html": [
       "<pre style=\"white-space:pre;overflow-x:auto;line-height:normal;font-family:Menlo,'DejaVu Sans Mono',consolas,'Courier New',monospace\">17:14:47.533 | <span style=\"color: #008080; text-decoration-color: #008080\">INFO</span>    | Flow run<span style=\"color: #800080; text-decoration-color: #800080\"> 'independent-jacamar'</span> - Submitted task run 'query_pool_snaps-60635b41-45' for execution.\n",
       "</pre>\n"
      ],
      "text/plain": [
       "17:14:47.533 | \u001b[36mINFO\u001b[0m    | Flow run\u001b[35m 'independent-jacamar'\u001b[0m - Submitted task run 'query_pool_snaps-60635b41-45' for execution.\n"
      ]
     },
     "metadata": {},
     "output_type": "display_data"
    },
    {
     "data": {
      "text/html": [
       "<pre style=\"white-space:pre;overflow-x:auto;line-height:normal;font-family:Menlo,'DejaVu Sans Mono',consolas,'Courier New',monospace\">17:14:47.550 | <span style=\"color: #008080; text-decoration-color: #008080\">INFO</span>    | Flow run<span style=\"color: #800080; text-decoration-color: #800080\"> 'independent-jacamar'</span> - Created task run 'query_pool_vol-8bdd8db3-42' for task 'query_pool_vol'\n",
       "</pre>\n"
      ],
      "text/plain": [
       "17:14:47.550 | \u001b[36mINFO\u001b[0m    | Flow run\u001b[35m 'independent-jacamar'\u001b[0m - Created task run 'query_pool_vol-8bdd8db3-42' for task 'query_pool_vol'\n"
      ]
     },
     "metadata": {},
     "output_type": "display_data"
    },
    {
     "data": {
      "text/html": [
       "<pre style=\"white-space:pre;overflow-x:auto;line-height:normal;font-family:Menlo,'DejaVu Sans Mono',consolas,'Courier New',monospace\">17:14:47.551 | <span style=\"color: #008080; text-decoration-color: #008080\">INFO</span>    | Flow run<span style=\"color: #800080; text-decoration-color: #800080\"> 'independent-jacamar'</span> - Submitted task run 'query_pool_vol-8bdd8db3-42' for execution.\n",
       "</pre>\n"
      ],
      "text/plain": [
       "17:14:47.551 | \u001b[36mINFO\u001b[0m    | Flow run\u001b[35m 'independent-jacamar'\u001b[0m - Submitted task run 'query_pool_vol-8bdd8db3-42' for execution.\n"
      ]
     },
     "metadata": {},
     "output_type": "display_data"
    },
    {
     "data": {
      "text/html": [
       "<pre style=\"white-space:pre;overflow-x:auto;line-height:normal;font-family:Menlo,'DejaVu Sans Mono',consolas,'Courier New',monospace\">17:14:47.573 | <span style=\"color: #008080; text-decoration-color: #008080\">INFO</span>    | Flow run<span style=\"color: #800080; text-decoration-color: #800080\"> 'independent-jacamar'</span> - Created task run 'query_pool_vol-8bdd8db3-55' for task 'query_pool_vol'\n",
       "</pre>\n"
      ],
      "text/plain": [
       "17:14:47.573 | \u001b[36mINFO\u001b[0m    | Flow run\u001b[35m 'independent-jacamar'\u001b[0m - Created task run 'query_pool_vol-8bdd8db3-55' for task 'query_pool_vol'\n"
      ]
     },
     "metadata": {},
     "output_type": "display_data"
    },
    {
     "data": {
      "text/html": [
       "<pre style=\"white-space:pre;overflow-x:auto;line-height:normal;font-family:Menlo,'DejaVu Sans Mono',consolas,'Courier New',monospace\">17:14:47.574 | <span style=\"color: #008080; text-decoration-color: #008080\">INFO</span>    | Flow run<span style=\"color: #800080; text-decoration-color: #800080\"> 'independent-jacamar'</span> - Submitted task run 'query_pool_vol-8bdd8db3-55' for execution.\n",
       "</pre>\n"
      ],
      "text/plain": [
       "17:14:47.574 | \u001b[36mINFO\u001b[0m    | Flow run\u001b[35m 'independent-jacamar'\u001b[0m - Submitted task run 'query_pool_vol-8bdd8db3-55' for execution.\n"
      ]
     },
     "metadata": {},
     "output_type": "display_data"
    },
    {
     "data": {
      "text/html": [
       "<pre style=\"white-space:pre;overflow-x:auto;line-height:normal;font-family:Menlo,'DejaVu Sans Mono',consolas,'Courier New',monospace\">17:14:47.597 | <span style=\"color: #008080; text-decoration-color: #008080\">INFO</span>    | Flow run<span style=\"color: #800080; text-decoration-color: #800080\"> 'independent-jacamar'</span> - Created task run 'query_pool_vol-8bdd8db3-51' for task 'query_pool_vol'\n",
       "</pre>\n"
      ],
      "text/plain": [
       "17:14:47.597 | \u001b[36mINFO\u001b[0m    | Flow run\u001b[35m 'independent-jacamar'\u001b[0m - Created task run 'query_pool_vol-8bdd8db3-51' for task 'query_pool_vol'\n"
      ]
     },
     "metadata": {},
     "output_type": "display_data"
    },
    {
     "data": {
      "text/html": [
       "<pre style=\"white-space:pre;overflow-x:auto;line-height:normal;font-family:Menlo,'DejaVu Sans Mono',consolas,'Courier New',monospace\">17:14:47.598 | <span style=\"color: #008080; text-decoration-color: #008080\">INFO</span>    | Flow run<span style=\"color: #800080; text-decoration-color: #800080\"> 'independent-jacamar'</span> - Submitted task run 'query_pool_vol-8bdd8db3-51' for execution.\n",
       "</pre>\n"
      ],
      "text/plain": [
       "17:14:47.598 | \u001b[36mINFO\u001b[0m    | Flow run\u001b[35m 'independent-jacamar'\u001b[0m - Submitted task run 'query_pool_vol-8bdd8db3-51' for execution.\n"
      ]
     },
     "metadata": {},
     "output_type": "display_data"
    },
    {
     "data": {
      "text/html": [
       "<pre style=\"white-space:pre;overflow-x:auto;line-height:normal;font-family:Menlo,'DejaVu Sans Mono',consolas,'Courier New',monospace\">17:14:47.609 | <span style=\"color: #008080; text-decoration-color: #008080\">INFO</span>    | Flow run<span style=\"color: #800080; text-decoration-color: #800080\"> 'independent-jacamar'</span> - Created task run 'query_pool_snaps-60635b41-30' for task 'query_pool_snaps'\n",
       "</pre>\n"
      ],
      "text/plain": [
       "17:14:47.609 | \u001b[36mINFO\u001b[0m    | Flow run\u001b[35m 'independent-jacamar'\u001b[0m - Created task run 'query_pool_snaps-60635b41-30' for task 'query_pool_snaps'\n"
      ]
     },
     "metadata": {},
     "output_type": "display_data"
    },
    {
     "data": {
      "text/html": [
       "<pre style=\"white-space:pre;overflow-x:auto;line-height:normal;font-family:Menlo,'DejaVu Sans Mono',consolas,'Courier New',monospace\">17:14:47.610 | <span style=\"color: #008080; text-decoration-color: #008080\">INFO</span>    | Flow run<span style=\"color: #800080; text-decoration-color: #800080\"> 'independent-jacamar'</span> - Submitted task run 'query_pool_snaps-60635b41-30' for execution.\n",
       "</pre>\n"
      ],
      "text/plain": [
       "17:14:47.610 | \u001b[36mINFO\u001b[0m    | Flow run\u001b[35m 'independent-jacamar'\u001b[0m - Submitted task run 'query_pool_snaps-60635b41-30' for execution.\n"
      ]
     },
     "metadata": {},
     "output_type": "display_data"
    },
    {
     "data": {
      "text/html": [
       "<pre style=\"white-space:pre;overflow-x:auto;line-height:normal;font-family:Menlo,'DejaVu Sans Mono',consolas,'Courier New',monospace\">17:14:47.621 | <span style=\"color: #008080; text-decoration-color: #008080\">INFO</span>    | Flow run<span style=\"color: #800080; text-decoration-color: #800080\"> 'independent-jacamar'</span> - Created task run 'query_pool_snaps-60635b41-38' for task 'query_pool_snaps'\n",
       "</pre>\n"
      ],
      "text/plain": [
       "17:14:47.621 | \u001b[36mINFO\u001b[0m    | Flow run\u001b[35m 'independent-jacamar'\u001b[0m - Created task run 'query_pool_snaps-60635b41-38' for task 'query_pool_snaps'\n"
      ]
     },
     "metadata": {},
     "output_type": "display_data"
    },
    {
     "data": {
      "text/html": [
       "<pre style=\"white-space:pre;overflow-x:auto;line-height:normal;font-family:Menlo,'DejaVu Sans Mono',consolas,'Courier New',monospace\">17:14:47.622 | <span style=\"color: #008080; text-decoration-color: #008080\">INFO</span>    | Flow run<span style=\"color: #800080; text-decoration-color: #800080\"> 'independent-jacamar'</span> - Submitted task run 'query_pool_snaps-60635b41-38' for execution.\n",
       "</pre>\n"
      ],
      "text/plain": [
       "17:14:47.622 | \u001b[36mINFO\u001b[0m    | Flow run\u001b[35m 'independent-jacamar'\u001b[0m - Submitted task run 'query_pool_snaps-60635b41-38' for execution.\n"
      ]
     },
     "metadata": {},
     "output_type": "display_data"
    },
    {
     "data": {
      "text/html": [
       "<pre style=\"white-space:pre;overflow-x:auto;line-height:normal;font-family:Menlo,'DejaVu Sans Mono',consolas,'Courier New',monospace\">17:14:47.633 | <span style=\"color: #008080; text-decoration-color: #008080\">INFO</span>    | Flow run<span style=\"color: #800080; text-decoration-color: #800080\"> 'independent-jacamar'</span> - Created task run 'query_pool_vol-8bdd8db3-46' for task 'query_pool_vol'\n",
       "</pre>\n"
      ],
      "text/plain": [
       "17:14:47.633 | \u001b[36mINFO\u001b[0m    | Flow run\u001b[35m 'independent-jacamar'\u001b[0m - Created task run 'query_pool_vol-8bdd8db3-46' for task 'query_pool_vol'\n"
      ]
     },
     "metadata": {},
     "output_type": "display_data"
    },
    {
     "data": {
      "text/html": [
       "<pre style=\"white-space:pre;overflow-x:auto;line-height:normal;font-family:Menlo,'DejaVu Sans Mono',consolas,'Courier New',monospace\">17:14:47.634 | <span style=\"color: #008080; text-decoration-color: #008080\">INFO</span>    | Flow run<span style=\"color: #800080; text-decoration-color: #800080\"> 'independent-jacamar'</span> - Submitted task run 'query_pool_vol-8bdd8db3-46' for execution.\n",
       "</pre>\n"
      ],
      "text/plain": [
       "17:14:47.634 | \u001b[36mINFO\u001b[0m    | Flow run\u001b[35m 'independent-jacamar'\u001b[0m - Submitted task run 'query_pool_vol-8bdd8db3-46' for execution.\n"
      ]
     },
     "metadata": {},
     "output_type": "display_data"
    },
    {
     "data": {
      "text/html": [
       "<pre style=\"white-space:pre;overflow-x:auto;line-height:normal;font-family:Menlo,'DejaVu Sans Mono',consolas,'Courier New',monospace\">17:14:47.644 | <span style=\"color: #008080; text-decoration-color: #008080\">INFO</span>    | Flow run<span style=\"color: #800080; text-decoration-color: #800080\"> 'independent-jacamar'</span> - Created task run 'query_pool_vol-8bdd8db3-49' for task 'query_pool_vol'\n",
       "</pre>\n"
      ],
      "text/plain": [
       "17:14:47.644 | \u001b[36mINFO\u001b[0m    | Flow run\u001b[35m 'independent-jacamar'\u001b[0m - Created task run 'query_pool_vol-8bdd8db3-49' for task 'query_pool_vol'\n"
      ]
     },
     "metadata": {},
     "output_type": "display_data"
    },
    {
     "data": {
      "text/html": [
       "<pre style=\"white-space:pre;overflow-x:auto;line-height:normal;font-family:Menlo,'DejaVu Sans Mono',consolas,'Courier New',monospace\">17:14:47.644 | <span style=\"color: #008080; text-decoration-color: #008080\">INFO</span>    | Flow run<span style=\"color: #800080; text-decoration-color: #800080\"> 'independent-jacamar'</span> - Submitted task run 'query_pool_vol-8bdd8db3-49' for execution.\n",
       "</pre>\n"
      ],
      "text/plain": [
       "17:14:47.644 | \u001b[36mINFO\u001b[0m    | Flow run\u001b[35m 'independent-jacamar'\u001b[0m - Submitted task run 'query_pool_vol-8bdd8db3-49' for execution.\n"
      ]
     },
     "metadata": {},
     "output_type": "display_data"
    },
    {
     "data": {
      "text/html": [
       "<pre style=\"white-space:pre;overflow-x:auto;line-height:normal;font-family:Menlo,'DejaVu Sans Mono',consolas,'Courier New',monospace\">17:14:47.655 | <span style=\"color: #008080; text-decoration-color: #008080\">INFO</span>    | Flow run<span style=\"color: #800080; text-decoration-color: #800080\"> 'independent-jacamar'</span> - Created task run 'query_pool_snaps-60635b41-21' for task 'query_pool_snaps'\n",
       "</pre>\n"
      ],
      "text/plain": [
       "17:14:47.655 | \u001b[36mINFO\u001b[0m    | Flow run\u001b[35m 'independent-jacamar'\u001b[0m - Created task run 'query_pool_snaps-60635b41-21' for task 'query_pool_snaps'\n"
      ]
     },
     "metadata": {},
     "output_type": "display_data"
    },
    {
     "data": {
      "text/html": [
       "<pre style=\"white-space:pre;overflow-x:auto;line-height:normal;font-family:Menlo,'DejaVu Sans Mono',consolas,'Courier New',monospace\">17:14:47.656 | <span style=\"color: #008080; text-decoration-color: #008080\">INFO</span>    | Flow run<span style=\"color: #800080; text-decoration-color: #800080\"> 'independent-jacamar'</span> - Submitted task run 'query_pool_snaps-60635b41-21' for execution.\n",
       "</pre>\n"
      ],
      "text/plain": [
       "17:14:47.656 | \u001b[36mINFO\u001b[0m    | Flow run\u001b[35m 'independent-jacamar'\u001b[0m - Submitted task run 'query_pool_snaps-60635b41-21' for execution.\n"
      ]
     },
     "metadata": {},
     "output_type": "display_data"
    },
    {
     "data": {
      "text/html": [
       "<pre style=\"white-space:pre;overflow-x:auto;line-height:normal;font-family:Menlo,'DejaVu Sans Mono',consolas,'Courier New',monospace\">17:14:47.683 | <span style=\"color: #008080; text-decoration-color: #008080\">INFO</span>    | Flow run<span style=\"color: #800080; text-decoration-color: #800080\"> 'independent-jacamar'</span> - Created task run 'query_pool_snaps-60635b41-56' for task 'query_pool_snaps'\n",
       "</pre>\n"
      ],
      "text/plain": [
       "17:14:47.683 | \u001b[36mINFO\u001b[0m    | Flow run\u001b[35m 'independent-jacamar'\u001b[0m - Created task run 'query_pool_snaps-60635b41-56' for task 'query_pool_snaps'\n"
      ]
     },
     "metadata": {},
     "output_type": "display_data"
    },
    {
     "data": {
      "text/html": [
       "<pre style=\"white-space:pre;overflow-x:auto;line-height:normal;font-family:Menlo,'DejaVu Sans Mono',consolas,'Courier New',monospace\">17:14:47.684 | <span style=\"color: #008080; text-decoration-color: #008080\">INFO</span>    | Flow run<span style=\"color: #800080; text-decoration-color: #800080\"> 'independent-jacamar'</span> - Submitted task run 'query_pool_snaps-60635b41-56' for execution.\n",
       "</pre>\n"
      ],
      "text/plain": [
       "17:14:47.684 | \u001b[36mINFO\u001b[0m    | Flow run\u001b[35m 'independent-jacamar'\u001b[0m - Submitted task run 'query_pool_snaps-60635b41-56' for execution.\n"
      ]
     },
     "metadata": {},
     "output_type": "display_data"
    },
    {
     "data": {
      "text/html": [
       "<pre style=\"white-space:pre;overflow-x:auto;line-height:normal;font-family:Menlo,'DejaVu Sans Mono',consolas,'Courier New',monospace\">17:14:47.691 | <span style=\"color: #008080; text-decoration-color: #008080\">INFO</span>    | Flow run<span style=\"color: #800080; text-decoration-color: #800080\"> 'independent-jacamar'</span> - Created task run 'query_pool_snaps-60635b41-13' for task 'query_pool_snaps'\n",
       "</pre>\n"
      ],
      "text/plain": [
       "17:14:47.691 | \u001b[36mINFO\u001b[0m    | Flow run\u001b[35m 'independent-jacamar'\u001b[0m - Created task run 'query_pool_snaps-60635b41-13' for task 'query_pool_snaps'\n"
      ]
     },
     "metadata": {},
     "output_type": "display_data"
    },
    {
     "data": {
      "text/html": [
       "<pre style=\"white-space:pre;overflow-x:auto;line-height:normal;font-family:Menlo,'DejaVu Sans Mono',consolas,'Courier New',monospace\">17:14:47.692 | <span style=\"color: #008080; text-decoration-color: #008080\">INFO</span>    | Flow run<span style=\"color: #800080; text-decoration-color: #800080\"> 'independent-jacamar'</span> - Submitted task run 'query_pool_snaps-60635b41-13' for execution.\n",
       "</pre>\n"
      ],
      "text/plain": [
       "17:14:47.692 | \u001b[36mINFO\u001b[0m    | Flow run\u001b[35m 'independent-jacamar'\u001b[0m - Submitted task run 'query_pool_snaps-60635b41-13' for execution.\n"
      ]
     },
     "metadata": {},
     "output_type": "display_data"
    },
    {
     "data": {
      "text/html": [
       "<pre style=\"white-space:pre;overflow-x:auto;line-height:normal;font-family:Menlo,'DejaVu Sans Mono',consolas,'Courier New',monospace\">17:14:47.703 | <span style=\"color: #008080; text-decoration-color: #008080\">INFO</span>    | Flow run<span style=\"color: #800080; text-decoration-color: #800080\"> 'independent-jacamar'</span> - Created task run 'query_pool_snaps-60635b41-42' for task 'query_pool_snaps'\n",
       "</pre>\n"
      ],
      "text/plain": [
       "17:14:47.703 | \u001b[36mINFO\u001b[0m    | Flow run\u001b[35m 'independent-jacamar'\u001b[0m - Created task run 'query_pool_snaps-60635b41-42' for task 'query_pool_snaps'\n"
      ]
     },
     "metadata": {},
     "output_type": "display_data"
    },
    {
     "data": {
      "text/html": [
       "<pre style=\"white-space:pre;overflow-x:auto;line-height:normal;font-family:Menlo,'DejaVu Sans Mono',consolas,'Courier New',monospace\">17:14:47.704 | <span style=\"color: #008080; text-decoration-color: #008080\">INFO</span>    | Flow run<span style=\"color: #800080; text-decoration-color: #800080\"> 'independent-jacamar'</span> - Submitted task run 'query_pool_snaps-60635b41-42' for execution.\n",
       "</pre>\n"
      ],
      "text/plain": [
       "17:14:47.704 | \u001b[36mINFO\u001b[0m    | Flow run\u001b[35m 'independent-jacamar'\u001b[0m - Submitted task run 'query_pool_snaps-60635b41-42' for execution.\n"
      ]
     },
     "metadata": {},
     "output_type": "display_data"
    },
    {
     "data": {
      "text/html": [
       "<pre style=\"white-space:pre;overflow-x:auto;line-height:normal;font-family:Menlo,'DejaVu Sans Mono',consolas,'Courier New',monospace\">17:14:47.714 | <span style=\"color: #008080; text-decoration-color: #008080\">INFO</span>    | Flow run<span style=\"color: #800080; text-decoration-color: #800080\"> 'independent-jacamar'</span> - Created task run 'query_pool_vol-8bdd8db3-44' for task 'query_pool_vol'\n",
       "</pre>\n"
      ],
      "text/plain": [
       "17:14:47.714 | \u001b[36mINFO\u001b[0m    | Flow run\u001b[35m 'independent-jacamar'\u001b[0m - Created task run 'query_pool_vol-8bdd8db3-44' for task 'query_pool_vol'\n"
      ]
     },
     "metadata": {},
     "output_type": "display_data"
    },
    {
     "data": {
      "text/html": [
       "<pre style=\"white-space:pre;overflow-x:auto;line-height:normal;font-family:Menlo,'DejaVu Sans Mono',consolas,'Courier New',monospace\">17:14:47.715 | <span style=\"color: #008080; text-decoration-color: #008080\">INFO</span>    | Flow run<span style=\"color: #800080; text-decoration-color: #800080\"> 'independent-jacamar'</span> - Submitted task run 'query_pool_vol-8bdd8db3-44' for execution.\n",
       "</pre>\n"
      ],
      "text/plain": [
       "17:14:47.715 | \u001b[36mINFO\u001b[0m    | Flow run\u001b[35m 'independent-jacamar'\u001b[0m - Submitted task run 'query_pool_vol-8bdd8db3-44' for execution.\n"
      ]
     },
     "metadata": {},
     "output_type": "display_data"
    },
    {
     "data": {
      "text/html": [
       "<pre style=\"white-space:pre;overflow-x:auto;line-height:normal;font-family:Menlo,'DejaVu Sans Mono',consolas,'Courier New',monospace\">17:14:47.734 | <span style=\"color: #008080; text-decoration-color: #008080\">INFO</span>    | Flow run<span style=\"color: #800080; text-decoration-color: #800080\"> 'independent-jacamar'</span> - Created task run 'query_pool_vol-8bdd8db3-48' for task 'query_pool_vol'\n",
       "</pre>\n"
      ],
      "text/plain": [
       "17:14:47.734 | \u001b[36mINFO\u001b[0m    | Flow run\u001b[35m 'independent-jacamar'\u001b[0m - Created task run 'query_pool_vol-8bdd8db3-48' for task 'query_pool_vol'\n"
      ]
     },
     "metadata": {},
     "output_type": "display_data"
    },
    {
     "data": {
      "text/html": [
       "<pre style=\"white-space:pre;overflow-x:auto;line-height:normal;font-family:Menlo,'DejaVu Sans Mono',consolas,'Courier New',monospace\">17:14:47.735 | <span style=\"color: #008080; text-decoration-color: #008080\">INFO</span>    | Flow run<span style=\"color: #800080; text-decoration-color: #800080\"> 'independent-jacamar'</span> - Submitted task run 'query_pool_vol-8bdd8db3-48' for execution.\n",
       "</pre>\n"
      ],
      "text/plain": [
       "17:14:47.735 | \u001b[36mINFO\u001b[0m    | Flow run\u001b[35m 'independent-jacamar'\u001b[0m - Submitted task run 'query_pool_vol-8bdd8db3-48' for execution.\n"
      ]
     },
     "metadata": {},
     "output_type": "display_data"
    },
    {
     "data": {
      "text/html": [
       "<pre style=\"white-space:pre;overflow-x:auto;line-height:normal;font-family:Menlo,'DejaVu Sans Mono',consolas,'Courier New',monospace\">17:14:47.760 | <span style=\"color: #008080; text-decoration-color: #008080\">INFO</span>    | Flow run<span style=\"color: #800080; text-decoration-color: #800080\"> 'independent-jacamar'</span> - Created task run 'query_pool_snaps-60635b41-22' for task 'query_pool_snaps'\n",
       "</pre>\n"
      ],
      "text/plain": [
       "17:14:47.760 | \u001b[36mINFO\u001b[0m    | Flow run\u001b[35m 'independent-jacamar'\u001b[0m - Created task run 'query_pool_snaps-60635b41-22' for task 'query_pool_snaps'\n"
      ]
     },
     "metadata": {},
     "output_type": "display_data"
    },
    {
     "data": {
      "text/html": [
       "<pre style=\"white-space:pre;overflow-x:auto;line-height:normal;font-family:Menlo,'DejaVu Sans Mono',consolas,'Courier New',monospace\">17:14:47.761 | <span style=\"color: #008080; text-decoration-color: #008080\">INFO</span>    | Flow run<span style=\"color: #800080; text-decoration-color: #800080\"> 'independent-jacamar'</span> - Submitted task run 'query_pool_snaps-60635b41-22' for execution.\n",
       "</pre>\n"
      ],
      "text/plain": [
       "17:14:47.761 | \u001b[36mINFO\u001b[0m    | Flow run\u001b[35m 'independent-jacamar'\u001b[0m - Submitted task run 'query_pool_snaps-60635b41-22' for execution.\n"
      ]
     },
     "metadata": {},
     "output_type": "display_data"
    },
    {
     "data": {
      "text/html": [
       "<pre style=\"white-space:pre;overflow-x:auto;line-height:normal;font-family:Menlo,'DejaVu Sans Mono',consolas,'Courier New',monospace\">17:14:47.770 | <span style=\"color: #008080; text-decoration-color: #008080\">INFO</span>    | Flow run<span style=\"color: #800080; text-decoration-color: #800080\"> 'independent-jacamar'</span> - Created task run 'query_pool_snaps-60635b41-51' for task 'query_pool_snaps'\n",
       "</pre>\n"
      ],
      "text/plain": [
       "17:14:47.770 | \u001b[36mINFO\u001b[0m    | Flow run\u001b[35m 'independent-jacamar'\u001b[0m - Created task run 'query_pool_snaps-60635b41-51' for task 'query_pool_snaps'\n"
      ]
     },
     "metadata": {},
     "output_type": "display_data"
    },
    {
     "data": {
      "text/html": [
       "<pre style=\"white-space:pre;overflow-x:auto;line-height:normal;font-family:Menlo,'DejaVu Sans Mono',consolas,'Courier New',monospace\">17:14:47.770 | <span style=\"color: #008080; text-decoration-color: #008080\">INFO</span>    | Flow run<span style=\"color: #800080; text-decoration-color: #800080\"> 'independent-jacamar'</span> - Submitted task run 'query_pool_snaps-60635b41-51' for execution.\n",
       "</pre>\n"
      ],
      "text/plain": [
       "17:14:47.770 | \u001b[36mINFO\u001b[0m    | Flow run\u001b[35m 'independent-jacamar'\u001b[0m - Submitted task run 'query_pool_snaps-60635b41-51' for execution.\n"
      ]
     },
     "metadata": {},
     "output_type": "display_data"
    },
    {
     "data": {
      "text/html": [
       "<pre style=\"white-space:pre;overflow-x:auto;line-height:normal;font-family:Menlo,'DejaVu Sans Mono',consolas,'Courier New',monospace\">17:14:47.783 | <span style=\"color: #008080; text-decoration-color: #008080\">INFO</span>    | Flow run<span style=\"color: #800080; text-decoration-color: #800080\"> 'independent-jacamar'</span> - Created task run 'query_pool_snaps-60635b41-40' for task 'query_pool_snaps'\n",
       "</pre>\n"
      ],
      "text/plain": [
       "17:14:47.783 | \u001b[36mINFO\u001b[0m    | Flow run\u001b[35m 'independent-jacamar'\u001b[0m - Created task run 'query_pool_snaps-60635b41-40' for task 'query_pool_snaps'\n"
      ]
     },
     "metadata": {},
     "output_type": "display_data"
    },
    {
     "data": {
      "text/html": [
       "<pre style=\"white-space:pre;overflow-x:auto;line-height:normal;font-family:Menlo,'DejaVu Sans Mono',consolas,'Courier New',monospace\">17:14:47.783 | <span style=\"color: #008080; text-decoration-color: #008080\">INFO</span>    | Flow run<span style=\"color: #800080; text-decoration-color: #800080\"> 'independent-jacamar'</span> - Submitted task run 'query_pool_snaps-60635b41-40' for execution.\n",
       "</pre>\n"
      ],
      "text/plain": [
       "17:14:47.783 | \u001b[36mINFO\u001b[0m    | Flow run\u001b[35m 'independent-jacamar'\u001b[0m - Submitted task run 'query_pool_snaps-60635b41-40' for execution.\n"
      ]
     },
     "metadata": {},
     "output_type": "display_data"
    },
    {
     "data": {
      "text/html": [
       "<pre style=\"white-space:pre;overflow-x:auto;line-height:normal;font-family:Menlo,'DejaVu Sans Mono',consolas,'Courier New',monospace\">17:14:47.803 | <span style=\"color: #008080; text-decoration-color: #008080\">INFO</span>    | Flow run<span style=\"color: #800080; text-decoration-color: #800080\"> 'independent-jacamar'</span> - Created task run 'query_pool_vol-8bdd8db3-61' for task 'query_pool_vol'\n",
       "</pre>\n"
      ],
      "text/plain": [
       "17:14:47.803 | \u001b[36mINFO\u001b[0m    | Flow run\u001b[35m 'independent-jacamar'\u001b[0m - Created task run 'query_pool_vol-8bdd8db3-61' for task 'query_pool_vol'\n"
      ]
     },
     "metadata": {},
     "output_type": "display_data"
    },
    {
     "data": {
      "text/html": [
       "<pre style=\"white-space:pre;overflow-x:auto;line-height:normal;font-family:Menlo,'DejaVu Sans Mono',consolas,'Courier New',monospace\">17:14:47.804 | <span style=\"color: #008080; text-decoration-color: #008080\">INFO</span>    | Flow run<span style=\"color: #800080; text-decoration-color: #800080\"> 'independent-jacamar'</span> - Submitted task run 'query_pool_vol-8bdd8db3-61' for execution.\n",
       "</pre>\n"
      ],
      "text/plain": [
       "17:14:47.804 | \u001b[36mINFO\u001b[0m    | Flow run\u001b[35m 'independent-jacamar'\u001b[0m - Submitted task run 'query_pool_vol-8bdd8db3-61' for execution.\n"
      ]
     },
     "metadata": {},
     "output_type": "display_data"
    },
    {
     "data": {
      "text/html": [
       "<pre style=\"white-space:pre;overflow-x:auto;line-height:normal;font-family:Menlo,'DejaVu Sans Mono',consolas,'Courier New',monospace\">17:14:47.828 | <span style=\"color: #008080; text-decoration-color: #008080\">INFO</span>    | Flow run<span style=\"color: #800080; text-decoration-color: #800080\"> 'independent-jacamar'</span> - Created task run 'query_pool_vol-8bdd8db3-32' for task 'query_pool_vol'\n",
       "</pre>\n"
      ],
      "text/plain": [
       "17:14:47.828 | \u001b[36mINFO\u001b[0m    | Flow run\u001b[35m 'independent-jacamar'\u001b[0m - Created task run 'query_pool_vol-8bdd8db3-32' for task 'query_pool_vol'\n"
      ]
     },
     "metadata": {},
     "output_type": "display_data"
    },
    {
     "data": {
      "text/html": [
       "<pre style=\"white-space:pre;overflow-x:auto;line-height:normal;font-family:Menlo,'DejaVu Sans Mono',consolas,'Courier New',monospace\">17:14:47.830 | <span style=\"color: #008080; text-decoration-color: #008080\">INFO</span>    | Flow run<span style=\"color: #800080; text-decoration-color: #800080\"> 'independent-jacamar'</span> - Submitted task run 'query_pool_vol-8bdd8db3-32' for execution.\n",
       "</pre>\n"
      ],
      "text/plain": [
       "17:14:47.830 | \u001b[36mINFO\u001b[0m    | Flow run\u001b[35m 'independent-jacamar'\u001b[0m - Submitted task run 'query_pool_vol-8bdd8db3-32' for execution.\n"
      ]
     },
     "metadata": {},
     "output_type": "display_data"
    },
    {
     "data": {
      "text/html": [
       "<pre style=\"white-space:pre;overflow-x:auto;line-height:normal;font-family:Menlo,'DejaVu Sans Mono',consolas,'Courier New',monospace\">17:14:47.838 | <span style=\"color: #008080; text-decoration-color: #008080\">INFO</span>    | Flow run<span style=\"color: #800080; text-decoration-color: #800080\"> 'independent-jacamar'</span> - Created task run 'query_pool_snaps-60635b41-18' for task 'query_pool_snaps'\n",
       "</pre>\n"
      ],
      "text/plain": [
       "17:14:47.838 | \u001b[36mINFO\u001b[0m    | Flow run\u001b[35m 'independent-jacamar'\u001b[0m - Created task run 'query_pool_snaps-60635b41-18' for task 'query_pool_snaps'\n"
      ]
     },
     "metadata": {},
     "output_type": "display_data"
    },
    {
     "data": {
      "text/html": [
       "<pre style=\"white-space:pre;overflow-x:auto;line-height:normal;font-family:Menlo,'DejaVu Sans Mono',consolas,'Courier New',monospace\">17:14:47.843 | <span style=\"color: #008080; text-decoration-color: #008080\">INFO</span>    | Flow run<span style=\"color: #800080; text-decoration-color: #800080\"> 'independent-jacamar'</span> - Submitted task run 'query_pool_snaps-60635b41-18' for execution.\n",
       "</pre>\n"
      ],
      "text/plain": [
       "17:14:47.843 | \u001b[36mINFO\u001b[0m    | Flow run\u001b[35m 'independent-jacamar'\u001b[0m - Submitted task run 'query_pool_snaps-60635b41-18' for execution.\n"
      ]
     },
     "metadata": {},
     "output_type": "display_data"
    },
    {
     "data": {
      "text/html": [
       "<pre style=\"white-space:pre;overflow-x:auto;line-height:normal;font-family:Menlo,'DejaVu Sans Mono',consolas,'Courier New',monospace\">17:14:47.868 | <span style=\"color: #008080; text-decoration-color: #008080\">INFO</span>    | Flow run<span style=\"color: #800080; text-decoration-color: #800080\"> 'independent-jacamar'</span> - Created task run 'query_pool_snaps-60635b41-39' for task 'query_pool_snaps'\n",
       "</pre>\n"
      ],
      "text/plain": [
       "17:14:47.868 | \u001b[36mINFO\u001b[0m    | Flow run\u001b[35m 'independent-jacamar'\u001b[0m - Created task run 'query_pool_snaps-60635b41-39' for task 'query_pool_snaps'\n"
      ]
     },
     "metadata": {},
     "output_type": "display_data"
    },
    {
     "data": {
      "text/html": [
       "<pre style=\"white-space:pre;overflow-x:auto;line-height:normal;font-family:Menlo,'DejaVu Sans Mono',consolas,'Courier New',monospace\">17:14:47.868 | <span style=\"color: #008080; text-decoration-color: #008080\">INFO</span>    | Flow run<span style=\"color: #800080; text-decoration-color: #800080\"> 'independent-jacamar'</span> - Submitted task run 'query_pool_snaps-60635b41-39' for execution.\n",
       "</pre>\n"
      ],
      "text/plain": [
       "17:14:47.868 | \u001b[36mINFO\u001b[0m    | Flow run\u001b[35m 'independent-jacamar'\u001b[0m - Submitted task run 'query_pool_snaps-60635b41-39' for execution.\n"
      ]
     },
     "metadata": {},
     "output_type": "display_data"
    },
    {
     "data": {
      "text/html": [
       "<pre style=\"white-space:pre;overflow-x:auto;line-height:normal;font-family:Menlo,'DejaVu Sans Mono',consolas,'Courier New',monospace\">17:14:47.938 | <span style=\"color: #008080; text-decoration-color: #008080\">INFO</span>    | Flow run<span style=\"color: #800080; text-decoration-color: #800080\"> 'independent-jacamar'</span> - Created task run 'query_pool_vol-8bdd8db3-52' for task 'query_pool_vol'\n",
       "</pre>\n"
      ],
      "text/plain": [
       "17:14:47.938 | \u001b[36mINFO\u001b[0m    | Flow run\u001b[35m 'independent-jacamar'\u001b[0m - Created task run 'query_pool_vol-8bdd8db3-52' for task 'query_pool_vol'\n"
      ]
     },
     "metadata": {},
     "output_type": "display_data"
    },
    {
     "data": {
      "text/html": [
       "<pre style=\"white-space:pre;overflow-x:auto;line-height:normal;font-family:Menlo,'DejaVu Sans Mono',consolas,'Courier New',monospace\">17:14:47.971 | <span style=\"color: #008080; text-decoration-color: #008080\">INFO</span>    | Flow run<span style=\"color: #800080; text-decoration-color: #800080\"> 'independent-jacamar'</span> - Submitted task run 'query_pool_vol-8bdd8db3-52' for execution.\n",
       "</pre>\n"
      ],
      "text/plain": [
       "17:14:47.971 | \u001b[36mINFO\u001b[0m    | Flow run\u001b[35m 'independent-jacamar'\u001b[0m - Submitted task run 'query_pool_vol-8bdd8db3-52' for execution.\n"
      ]
     },
     "metadata": {},
     "output_type": "display_data"
    },
    {
     "data": {
      "text/html": [
       "<pre style=\"white-space:pre;overflow-x:auto;line-height:normal;font-family:Menlo,'DejaVu Sans Mono',consolas,'Courier New',monospace\">17:14:48.066 | <span style=\"color: #008080; text-decoration-color: #008080\">INFO</span>    | Task run 'query_pool_vol-8bdd8db3-51' - Finished in state <span style=\"color: #008000; text-decoration-color: #008000\">Completed</span>()\n",
       "</pre>\n"
      ],
      "text/plain": [
       "17:14:48.066 | \u001b[36mINFO\u001b[0m    | Task run 'query_pool_vol-8bdd8db3-51' - Finished in state \u001b[32mCompleted\u001b[0m()\n"
      ]
     },
     "metadata": {},
     "output_type": "display_data"
    },
    {
     "data": {
      "text/html": [
       "<pre style=\"white-space:pre;overflow-x:auto;line-height:normal;font-family:Menlo,'DejaVu Sans Mono',consolas,'Courier New',monospace\">17:14:48.104 | <span style=\"color: #008080; text-decoration-color: #008080\">INFO</span>    | Flow run<span style=\"color: #800080; text-decoration-color: #800080\"> 'independent-jacamar'</span> - Created task run 'query_pool_snaps-60635b41-35' for task 'query_pool_snaps'\n",
       "</pre>\n"
      ],
      "text/plain": [
       "17:14:48.104 | \u001b[36mINFO\u001b[0m    | Flow run\u001b[35m 'independent-jacamar'\u001b[0m - Created task run 'query_pool_snaps-60635b41-35' for task 'query_pool_snaps'\n"
      ]
     },
     "metadata": {},
     "output_type": "display_data"
    },
    {
     "data": {
      "text/html": [
       "<pre style=\"white-space:pre;overflow-x:auto;line-height:normal;font-family:Menlo,'DejaVu Sans Mono',consolas,'Courier New',monospace\">17:14:48.109 | <span style=\"color: #008080; text-decoration-color: #008080\">INFO</span>    | Flow run<span style=\"color: #800080; text-decoration-color: #800080\"> 'independent-jacamar'</span> - Submitted task run 'query_pool_snaps-60635b41-35' for execution.\n",
       "</pre>\n"
      ],
      "text/plain": [
       "17:14:48.109 | \u001b[36mINFO\u001b[0m    | Flow run\u001b[35m 'independent-jacamar'\u001b[0m - Submitted task run 'query_pool_snaps-60635b41-35' for execution.\n"
      ]
     },
     "metadata": {},
     "output_type": "display_data"
    },
    {
     "data": {
      "text/html": [
       "<pre style=\"white-space:pre;overflow-x:auto;line-height:normal;font-family:Menlo,'DejaVu Sans Mono',consolas,'Courier New',monospace\">17:14:48.156 | <span style=\"color: #008080; text-decoration-color: #008080\">INFO</span>    | Flow run<span style=\"color: #800080; text-decoration-color: #800080\"> 'independent-jacamar'</span> - Created task run 'query_pool_vol-8bdd8db3-28' for task 'query_pool_vol'\n",
       "</pre>\n"
      ],
      "text/plain": [
       "17:14:48.156 | \u001b[36mINFO\u001b[0m    | Flow run\u001b[35m 'independent-jacamar'\u001b[0m - Created task run 'query_pool_vol-8bdd8db3-28' for task 'query_pool_vol'\n"
      ]
     },
     "metadata": {},
     "output_type": "display_data"
    },
    {
     "data": {
      "text/html": [
       "<pre style=\"white-space:pre;overflow-x:auto;line-height:normal;font-family:Menlo,'DejaVu Sans Mono',consolas,'Courier New',monospace\">17:14:48.157 | <span style=\"color: #008080; text-decoration-color: #008080\">INFO</span>    | Flow run<span style=\"color: #800080; text-decoration-color: #800080\"> 'independent-jacamar'</span> - Submitted task run 'query_pool_vol-8bdd8db3-28' for execution.\n",
       "</pre>\n"
      ],
      "text/plain": [
       "17:14:48.157 | \u001b[36mINFO\u001b[0m    | Flow run\u001b[35m 'independent-jacamar'\u001b[0m - Submitted task run 'query_pool_vol-8bdd8db3-28' for execution.\n"
      ]
     },
     "metadata": {},
     "output_type": "display_data"
    },
    {
     "data": {
      "text/html": [
       "<pre style=\"white-space:pre;overflow-x:auto;line-height:normal;font-family:Menlo,'DejaVu Sans Mono',consolas,'Courier New',monospace\">17:14:48.184 | <span style=\"color: #008080; text-decoration-color: #008080\">INFO</span>    | Flow run<span style=\"color: #800080; text-decoration-color: #800080\"> 'independent-jacamar'</span> - Created task run 'query_pool_snaps-60635b41-7' for task 'query_pool_snaps'\n",
       "</pre>\n"
      ],
      "text/plain": [
       "17:14:48.184 | \u001b[36mINFO\u001b[0m    | Flow run\u001b[35m 'independent-jacamar'\u001b[0m - Created task run 'query_pool_snaps-60635b41-7' for task 'query_pool_snaps'\n"
      ]
     },
     "metadata": {},
     "output_type": "display_data"
    },
    {
     "data": {
      "text/html": [
       "<pre style=\"white-space:pre;overflow-x:auto;line-height:normal;font-family:Menlo,'DejaVu Sans Mono',consolas,'Courier New',monospace\">17:14:48.185 | <span style=\"color: #008080; text-decoration-color: #008080\">INFO</span>    | Flow run<span style=\"color: #800080; text-decoration-color: #800080\"> 'independent-jacamar'</span> - Submitted task run 'query_pool_snaps-60635b41-7' for execution.\n",
       "</pre>\n"
      ],
      "text/plain": [
       "17:14:48.185 | \u001b[36mINFO\u001b[0m    | Flow run\u001b[35m 'independent-jacamar'\u001b[0m - Submitted task run 'query_pool_snaps-60635b41-7' for execution.\n"
      ]
     },
     "metadata": {},
     "output_type": "display_data"
    },
    {
     "data": {
      "text/html": [
       "<pre style=\"white-space:pre;overflow-x:auto;line-height:normal;font-family:Menlo,'DejaVu Sans Mono',consolas,'Courier New',monospace\">17:14:48.213 | <span style=\"color: #008080; text-decoration-color: #008080\">INFO</span>    | Flow run<span style=\"color: #800080; text-decoration-color: #800080\"> 'independent-jacamar'</span> - Created task run 'query_pool_snaps-60635b41-11' for task 'query_pool_snaps'\n",
       "</pre>\n"
      ],
      "text/plain": [
       "17:14:48.213 | \u001b[36mINFO\u001b[0m    | Flow run\u001b[35m 'independent-jacamar'\u001b[0m - Created task run 'query_pool_snaps-60635b41-11' for task 'query_pool_snaps'\n"
      ]
     },
     "metadata": {},
     "output_type": "display_data"
    },
    {
     "data": {
      "text/html": [
       "<pre style=\"white-space:pre;overflow-x:auto;line-height:normal;font-family:Menlo,'DejaVu Sans Mono',consolas,'Courier New',monospace\">17:14:48.214 | <span style=\"color: #008080; text-decoration-color: #008080\">INFO</span>    | Flow run<span style=\"color: #800080; text-decoration-color: #800080\"> 'independent-jacamar'</span> - Submitted task run 'query_pool_snaps-60635b41-11' for execution.\n",
       "</pre>\n"
      ],
      "text/plain": [
       "17:14:48.214 | \u001b[36mINFO\u001b[0m    | Flow run\u001b[35m 'independent-jacamar'\u001b[0m - Submitted task run 'query_pool_snaps-60635b41-11' for execution.\n"
      ]
     },
     "metadata": {},
     "output_type": "display_data"
    },
    {
     "data": {
      "text/html": [
       "<pre style=\"white-space:pre;overflow-x:auto;line-height:normal;font-family:Menlo,'DejaVu Sans Mono',consolas,'Courier New',monospace\">17:14:48.258 | <span style=\"color: #008080; text-decoration-color: #008080\">INFO</span>    | Flow run<span style=\"color: #800080; text-decoration-color: #800080\"> 'independent-jacamar'</span> - Created task run 'query_pool_vol-8bdd8db3-31' for task 'query_pool_vol'\n",
       "</pre>\n"
      ],
      "text/plain": [
       "17:14:48.258 | \u001b[36mINFO\u001b[0m    | Flow run\u001b[35m 'independent-jacamar'\u001b[0m - Created task run 'query_pool_vol-8bdd8db3-31' for task 'query_pool_vol'\n"
      ]
     },
     "metadata": {},
     "output_type": "display_data"
    },
    {
     "data": {
      "text/html": [
       "<pre style=\"white-space:pre;overflow-x:auto;line-height:normal;font-family:Menlo,'DejaVu Sans Mono',consolas,'Courier New',monospace\">17:14:48.259 | <span style=\"color: #008080; text-decoration-color: #008080\">INFO</span>    | Flow run<span style=\"color: #800080; text-decoration-color: #800080\"> 'independent-jacamar'</span> - Submitted task run 'query_pool_vol-8bdd8db3-31' for execution.\n",
       "</pre>\n"
      ],
      "text/plain": [
       "17:14:48.259 | \u001b[36mINFO\u001b[0m    | Flow run\u001b[35m 'independent-jacamar'\u001b[0m - Submitted task run 'query_pool_vol-8bdd8db3-31' for execution.\n"
      ]
     },
     "metadata": {},
     "output_type": "display_data"
    },
    {
     "data": {
      "text/html": [
       "<pre style=\"white-space:pre;overflow-x:auto;line-height:normal;font-family:Menlo,'DejaVu Sans Mono',consolas,'Courier New',monospace\">17:14:48.299 | <span style=\"color: #008080; text-decoration-color: #008080\">INFO</span>    | Flow run<span style=\"color: #800080; text-decoration-color: #800080\"> 'independent-jacamar'</span> - Created task run 'query_pool_vol-8bdd8db3-53' for task 'query_pool_vol'\n",
       "</pre>\n"
      ],
      "text/plain": [
       "17:14:48.299 | \u001b[36mINFO\u001b[0m    | Flow run\u001b[35m 'independent-jacamar'\u001b[0m - Created task run 'query_pool_vol-8bdd8db3-53' for task 'query_pool_vol'\n"
      ]
     },
     "metadata": {},
     "output_type": "display_data"
    },
    {
     "data": {
      "text/html": [
       "<pre style=\"white-space:pre;overflow-x:auto;line-height:normal;font-family:Menlo,'DejaVu Sans Mono',consolas,'Courier New',monospace\">17:14:48.300 | <span style=\"color: #008080; text-decoration-color: #008080\">INFO</span>    | Flow run<span style=\"color: #800080; text-decoration-color: #800080\"> 'independent-jacamar'</span> - Submitted task run 'query_pool_vol-8bdd8db3-53' for execution.\n",
       "</pre>\n"
      ],
      "text/plain": [
       "17:14:48.300 | \u001b[36mINFO\u001b[0m    | Flow run\u001b[35m 'independent-jacamar'\u001b[0m - Submitted task run 'query_pool_vol-8bdd8db3-53' for execution.\n"
      ]
     },
     "metadata": {},
     "output_type": "display_data"
    },
    {
     "data": {
      "text/html": [
       "<pre style=\"white-space:pre;overflow-x:auto;line-height:normal;font-family:Menlo,'DejaVu Sans Mono',consolas,'Courier New',monospace\">17:14:48.367 | <span style=\"color: #008080; text-decoration-color: #008080\">INFO</span>    | Flow run<span style=\"color: #800080; text-decoration-color: #800080\"> 'independent-jacamar'</span> - Created task run 'query_pool_vol-8bdd8db3-33' for task 'query_pool_vol'\n",
       "</pre>\n"
      ],
      "text/plain": [
       "17:14:48.367 | \u001b[36mINFO\u001b[0m    | Flow run\u001b[35m 'independent-jacamar'\u001b[0m - Created task run 'query_pool_vol-8bdd8db3-33' for task 'query_pool_vol'\n"
      ]
     },
     "metadata": {},
     "output_type": "display_data"
    },
    {
     "data": {
      "text/html": [
       "<pre style=\"white-space:pre;overflow-x:auto;line-height:normal;font-family:Menlo,'DejaVu Sans Mono',consolas,'Courier New',monospace\">17:14:48.368 | <span style=\"color: #008080; text-decoration-color: #008080\">INFO</span>    | Flow run<span style=\"color: #800080; text-decoration-color: #800080\"> 'independent-jacamar'</span> - Submitted task run 'query_pool_vol-8bdd8db3-33' for execution.\n",
       "</pre>\n"
      ],
      "text/plain": [
       "17:14:48.368 | \u001b[36mINFO\u001b[0m    | Flow run\u001b[35m 'independent-jacamar'\u001b[0m - Submitted task run 'query_pool_vol-8bdd8db3-33' for execution.\n"
      ]
     },
     "metadata": {},
     "output_type": "display_data"
    },
    {
     "data": {
      "text/html": [
       "<pre style=\"white-space:pre;overflow-x:auto;line-height:normal;font-family:Menlo,'DejaVu Sans Mono',consolas,'Courier New',monospace\">17:14:48.382 | <span style=\"color: #008080; text-decoration-color: #008080\">INFO</span>    | Flow run<span style=\"color: #800080; text-decoration-color: #800080\"> 'independent-jacamar'</span> - Created task run 'query_pool_snaps-60635b41-24' for task 'query_pool_snaps'\n",
       "</pre>\n"
      ],
      "text/plain": [
       "17:14:48.382 | \u001b[36mINFO\u001b[0m    | Flow run\u001b[35m 'independent-jacamar'\u001b[0m - Created task run 'query_pool_snaps-60635b41-24' for task 'query_pool_snaps'\n"
      ]
     },
     "metadata": {},
     "output_type": "display_data"
    },
    {
     "data": {
      "text/html": [
       "<pre style=\"white-space:pre;overflow-x:auto;line-height:normal;font-family:Menlo,'DejaVu Sans Mono',consolas,'Courier New',monospace\">17:14:48.383 | <span style=\"color: #008080; text-decoration-color: #008080\">INFO</span>    | Flow run<span style=\"color: #800080; text-decoration-color: #800080\"> 'independent-jacamar'</span> - Submitted task run 'query_pool_snaps-60635b41-24' for execution.\n",
       "</pre>\n"
      ],
      "text/plain": [
       "17:14:48.383 | \u001b[36mINFO\u001b[0m    | Flow run\u001b[35m 'independent-jacamar'\u001b[0m - Submitted task run 'query_pool_snaps-60635b41-24' for execution.\n"
      ]
     },
     "metadata": {},
     "output_type": "display_data"
    },
    {
     "data": {
      "text/html": [
       "<pre style=\"white-space:pre;overflow-x:auto;line-height:normal;font-family:Menlo,'DejaVu Sans Mono',consolas,'Courier New',monospace\">17:14:48.415 | <span style=\"color: #008080; text-decoration-color: #008080\">INFO</span>    | Flow run<span style=\"color: #800080; text-decoration-color: #800080\"> 'independent-jacamar'</span> - Created task run 'query_pool_snaps-60635b41-27' for task 'query_pool_snaps'\n",
       "</pre>\n"
      ],
      "text/plain": [
       "17:14:48.415 | \u001b[36mINFO\u001b[0m    | Flow run\u001b[35m 'independent-jacamar'\u001b[0m - Created task run 'query_pool_snaps-60635b41-27' for task 'query_pool_snaps'\n"
      ]
     },
     "metadata": {},
     "output_type": "display_data"
    },
    {
     "data": {
      "text/html": [
       "<pre style=\"white-space:pre;overflow-x:auto;line-height:normal;font-family:Menlo,'DejaVu Sans Mono',consolas,'Courier New',monospace\">17:14:48.416 | <span style=\"color: #008080; text-decoration-color: #008080\">INFO</span>    | Flow run<span style=\"color: #800080; text-decoration-color: #800080\"> 'independent-jacamar'</span> - Submitted task run 'query_pool_snaps-60635b41-27' for execution.\n",
       "</pre>\n"
      ],
      "text/plain": [
       "17:14:48.416 | \u001b[36mINFO\u001b[0m    | Flow run\u001b[35m 'independent-jacamar'\u001b[0m - Submitted task run 'query_pool_snaps-60635b41-27' for execution.\n"
      ]
     },
     "metadata": {},
     "output_type": "display_data"
    },
    {
     "data": {
      "text/html": [
       "<pre style=\"white-space:pre;overflow-x:auto;line-height:normal;font-family:Menlo,'DejaVu Sans Mono',consolas,'Courier New',monospace\">17:14:48.601 | <span style=\"color: #008080; text-decoration-color: #008080\">INFO</span>    | Flow run<span style=\"color: #800080; text-decoration-color: #800080\"> 'independent-jacamar'</span> - Created task run 'query_pool_snaps-60635b41-14' for task 'query_pool_snaps'\n",
       "</pre>\n"
      ],
      "text/plain": [
       "17:14:48.601 | \u001b[36mINFO\u001b[0m    | Flow run\u001b[35m 'independent-jacamar'\u001b[0m - Created task run 'query_pool_snaps-60635b41-14' for task 'query_pool_snaps'\n"
      ]
     },
     "metadata": {},
     "output_type": "display_data"
    },
    {
     "data": {
      "text/html": [
       "<pre style=\"white-space:pre;overflow-x:auto;line-height:normal;font-family:Menlo,'DejaVu Sans Mono',consolas,'Courier New',monospace\">17:14:48.602 | <span style=\"color: #008080; text-decoration-color: #008080\">INFO</span>    | Flow run<span style=\"color: #800080; text-decoration-color: #800080\"> 'independent-jacamar'</span> - Submitted task run 'query_pool_snaps-60635b41-14' for execution.\n",
       "</pre>\n"
      ],
      "text/plain": [
       "17:14:48.602 | \u001b[36mINFO\u001b[0m    | Flow run\u001b[35m 'independent-jacamar'\u001b[0m - Submitted task run 'query_pool_snaps-60635b41-14' for execution.\n"
      ]
     },
     "metadata": {},
     "output_type": "display_data"
    },
    {
     "data": {
      "text/html": [
       "<pre style=\"white-space:pre;overflow-x:auto;line-height:normal;font-family:Menlo,'DejaVu Sans Mono',consolas,'Courier New',monospace\">17:14:48.676 | <span style=\"color: #008080; text-decoration-color: #008080\">INFO</span>    | Flow run<span style=\"color: #800080; text-decoration-color: #800080\"> 'independent-jacamar'</span> - Created task run 'query_pool_snaps-60635b41-26' for task 'query_pool_snaps'\n",
       "</pre>\n"
      ],
      "text/plain": [
       "17:14:48.676 | \u001b[36mINFO\u001b[0m    | Flow run\u001b[35m 'independent-jacamar'\u001b[0m - Created task run 'query_pool_snaps-60635b41-26' for task 'query_pool_snaps'\n"
      ]
     },
     "metadata": {},
     "output_type": "display_data"
    },
    {
     "data": {
      "text/html": [
       "<pre style=\"white-space:pre;overflow-x:auto;line-height:normal;font-family:Menlo,'DejaVu Sans Mono',consolas,'Courier New',monospace\">17:14:48.677 | <span style=\"color: #008080; text-decoration-color: #008080\">INFO</span>    | Flow run<span style=\"color: #800080; text-decoration-color: #800080\"> 'independent-jacamar'</span> - Submitted task run 'query_pool_snaps-60635b41-26' for execution.\n",
       "</pre>\n"
      ],
      "text/plain": [
       "17:14:48.677 | \u001b[36mINFO\u001b[0m    | Flow run\u001b[35m 'independent-jacamar'\u001b[0m - Submitted task run 'query_pool_snaps-60635b41-26' for execution.\n"
      ]
     },
     "metadata": {},
     "output_type": "display_data"
    },
    {
     "data": {
      "text/html": [
       "<pre style=\"white-space:pre;overflow-x:auto;line-height:normal;font-family:Menlo,'DejaVu Sans Mono',consolas,'Courier New',monospace\">17:14:48.795 | <span style=\"color: #008080; text-decoration-color: #008080\">INFO</span>    | Flow run<span style=\"color: #800080; text-decoration-color: #800080\"> 'independent-jacamar'</span> - Created task run 'query_pool_snaps-60635b41-10' for task 'query_pool_snaps'\n",
       "</pre>\n"
      ],
      "text/plain": [
       "17:14:48.795 | \u001b[36mINFO\u001b[0m    | Flow run\u001b[35m 'independent-jacamar'\u001b[0m - Created task run 'query_pool_snaps-60635b41-10' for task 'query_pool_snaps'\n"
      ]
     },
     "metadata": {},
     "output_type": "display_data"
    },
    {
     "data": {
      "text/html": [
       "<pre style=\"white-space:pre;overflow-x:auto;line-height:normal;font-family:Menlo,'DejaVu Sans Mono',consolas,'Courier New',monospace\">17:14:48.796 | <span style=\"color: #008080; text-decoration-color: #008080\">INFO</span>    | Flow run<span style=\"color: #800080; text-decoration-color: #800080\"> 'independent-jacamar'</span> - Submitted task run 'query_pool_snaps-60635b41-10' for execution.\n",
       "</pre>\n"
      ],
      "text/plain": [
       "17:14:48.796 | \u001b[36mINFO\u001b[0m    | Flow run\u001b[35m 'independent-jacamar'\u001b[0m - Submitted task run 'query_pool_snaps-60635b41-10' for execution.\n"
      ]
     },
     "metadata": {},
     "output_type": "display_data"
    },
    {
     "data": {
      "text/html": [
       "<pre style=\"white-space:pre;overflow-x:auto;line-height:normal;font-family:Menlo,'DejaVu Sans Mono',consolas,'Courier New',monospace\">17:14:48.804 | <span style=\"color: #008080; text-decoration-color: #008080\">INFO</span>    | Task run 'query_pool_vol-8bdd8db3-53' - Finished in state <span style=\"color: #008000; text-decoration-color: #008000\">Completed</span>()\n",
       "</pre>\n"
      ],
      "text/plain": [
       "17:14:48.804 | \u001b[36mINFO\u001b[0m    | Task run 'query_pool_vol-8bdd8db3-53' - Finished in state \u001b[32mCompleted\u001b[0m()\n"
      ]
     },
     "metadata": {},
     "output_type": "display_data"
    },
    {
     "data": {
      "text/html": [
       "<pre style=\"white-space:pre;overflow-x:auto;line-height:normal;font-family:Menlo,'DejaVu Sans Mono',consolas,'Courier New',monospace\">17:14:48.812 | <span style=\"color: #008080; text-decoration-color: #008080\">INFO</span>    | Task run 'query_pool_snaps-60635b41-22' - Finished in state <span style=\"color: #008000; text-decoration-color: #008000\">Completed</span>()\n",
       "</pre>\n"
      ],
      "text/plain": [
       "17:14:48.812 | \u001b[36mINFO\u001b[0m    | Task run 'query_pool_snaps-60635b41-22' - Finished in state \u001b[32mCompleted\u001b[0m()\n"
      ]
     },
     "metadata": {},
     "output_type": "display_data"
    },
    {
     "data": {
      "text/html": [
       "<pre style=\"white-space:pre;overflow-x:auto;line-height:normal;font-family:Menlo,'DejaVu Sans Mono',consolas,'Courier New',monospace\">17:14:48.819 | <span style=\"color: #008080; text-decoration-color: #008080\">INFO</span>    | Flow run<span style=\"color: #800080; text-decoration-color: #800080\"> 'independent-jacamar'</span> - Created task run 'query_pool_snaps-60635b41-44' for task 'query_pool_snaps'\n",
       "</pre>\n"
      ],
      "text/plain": [
       "17:14:48.819 | \u001b[36mINFO\u001b[0m    | Flow run\u001b[35m 'independent-jacamar'\u001b[0m - Created task run 'query_pool_snaps-60635b41-44' for task 'query_pool_snaps'\n"
      ]
     },
     "metadata": {},
     "output_type": "display_data"
    },
    {
     "data": {
      "text/html": [
       "<pre style=\"white-space:pre;overflow-x:auto;line-height:normal;font-family:Menlo,'DejaVu Sans Mono',consolas,'Courier New',monospace\">17:14:48.820 | <span style=\"color: #008080; text-decoration-color: #008080\">INFO</span>    | Flow run<span style=\"color: #800080; text-decoration-color: #800080\"> 'independent-jacamar'</span> - Submitted task run 'query_pool_snaps-60635b41-44' for execution.\n",
       "</pre>\n"
      ],
      "text/plain": [
       "17:14:48.820 | \u001b[36mINFO\u001b[0m    | Flow run\u001b[35m 'independent-jacamar'\u001b[0m - Submitted task run 'query_pool_snaps-60635b41-44' for execution.\n"
      ]
     },
     "metadata": {},
     "output_type": "display_data"
    },
    {
     "data": {
      "text/html": [
       "<pre style=\"white-space:pre;overflow-x:auto;line-height:normal;font-family:Menlo,'DejaVu Sans Mono',consolas,'Courier New',monospace\">17:14:48.862 | <span style=\"color: #008080; text-decoration-color: #008080\">INFO</span>    | Flow run<span style=\"color: #800080; text-decoration-color: #800080\"> 'independent-jacamar'</span> - Created task run 'query_pool_vol-8bdd8db3-26' for task 'query_pool_vol'\n",
       "</pre>\n"
      ],
      "text/plain": [
       "17:14:48.862 | \u001b[36mINFO\u001b[0m    | Flow run\u001b[35m 'independent-jacamar'\u001b[0m - Created task run 'query_pool_vol-8bdd8db3-26' for task 'query_pool_vol'\n"
      ]
     },
     "metadata": {},
     "output_type": "display_data"
    },
    {
     "data": {
      "text/html": [
       "<pre style=\"white-space:pre;overflow-x:auto;line-height:normal;font-family:Menlo,'DejaVu Sans Mono',consolas,'Courier New',monospace\">17:14:48.863 | <span style=\"color: #008080; text-decoration-color: #008080\">INFO</span>    | Flow run<span style=\"color: #800080; text-decoration-color: #800080\"> 'independent-jacamar'</span> - Submitted task run 'query_pool_vol-8bdd8db3-26' for execution.\n",
       "</pre>\n"
      ],
      "text/plain": [
       "17:14:48.863 | \u001b[36mINFO\u001b[0m    | Flow run\u001b[35m 'independent-jacamar'\u001b[0m - Submitted task run 'query_pool_vol-8bdd8db3-26' for execution.\n"
      ]
     },
     "metadata": {},
     "output_type": "display_data"
    },
    {
     "data": {
      "text/html": [
       "<pre style=\"white-space:pre;overflow-x:auto;line-height:normal;font-family:Menlo,'DejaVu Sans Mono',consolas,'Courier New',monospace\">17:14:48.938 | <span style=\"color: #008080; text-decoration-color: #008080\">INFO</span>    | Flow run<span style=\"color: #800080; text-decoration-color: #800080\"> 'independent-jacamar'</span> - Created task run 'query_pool_vol-8bdd8db3-39' for task 'query_pool_vol'\n",
       "</pre>\n"
      ],
      "text/plain": [
       "17:14:48.938 | \u001b[36mINFO\u001b[0m    | Flow run\u001b[35m 'independent-jacamar'\u001b[0m - Created task run 'query_pool_vol-8bdd8db3-39' for task 'query_pool_vol'\n"
      ]
     },
     "metadata": {},
     "output_type": "display_data"
    },
    {
     "data": {
      "text/html": [
       "<pre style=\"white-space:pre;overflow-x:auto;line-height:normal;font-family:Menlo,'DejaVu Sans Mono',consolas,'Courier New',monospace\">17:14:48.939 | <span style=\"color: #008080; text-decoration-color: #008080\">INFO</span>    | Flow run<span style=\"color: #800080; text-decoration-color: #800080\"> 'independent-jacamar'</span> - Submitted task run 'query_pool_vol-8bdd8db3-39' for execution.\n",
       "</pre>\n"
      ],
      "text/plain": [
       "17:14:48.939 | \u001b[36mINFO\u001b[0m    | Flow run\u001b[35m 'independent-jacamar'\u001b[0m - Submitted task run 'query_pool_vol-8bdd8db3-39' for execution.\n"
      ]
     },
     "metadata": {},
     "output_type": "display_data"
    },
    {
     "data": {
      "text/html": [
       "<pre style=\"white-space:pre;overflow-x:auto;line-height:normal;font-family:Menlo,'DejaVu Sans Mono',consolas,'Courier New',monospace\">17:14:48.958 | <span style=\"color: #008080; text-decoration-color: #008080\">INFO</span>    | Flow run<span style=\"color: #800080; text-decoration-color: #800080\"> 'independent-jacamar'</span> - Created task run 'query_pool_snaps-60635b41-15' for task 'query_pool_snaps'\n",
       "</pre>\n"
      ],
      "text/plain": [
       "17:14:48.958 | \u001b[36mINFO\u001b[0m    | Flow run\u001b[35m 'independent-jacamar'\u001b[0m - Created task run 'query_pool_snaps-60635b41-15' for task 'query_pool_snaps'\n"
      ]
     },
     "metadata": {},
     "output_type": "display_data"
    },
    {
     "data": {
      "text/html": [
       "<pre style=\"white-space:pre;overflow-x:auto;line-height:normal;font-family:Menlo,'DejaVu Sans Mono',consolas,'Courier New',monospace\">17:14:48.959 | <span style=\"color: #008080; text-decoration-color: #008080\">INFO</span>    | Flow run<span style=\"color: #800080; text-decoration-color: #800080\"> 'independent-jacamar'</span> - Submitted task run 'query_pool_snaps-60635b41-15' for execution.\n",
       "</pre>\n"
      ],
      "text/plain": [
       "17:14:48.959 | \u001b[36mINFO\u001b[0m    | Flow run\u001b[35m 'independent-jacamar'\u001b[0m - Submitted task run 'query_pool_snaps-60635b41-15' for execution.\n"
      ]
     },
     "metadata": {},
     "output_type": "display_data"
    },
    {
     "data": {
      "text/html": [
       "<pre style=\"white-space:pre;overflow-x:auto;line-height:normal;font-family:Menlo,'DejaVu Sans Mono',consolas,'Courier New',monospace\">17:14:48.984 | <span style=\"color: #008080; text-decoration-color: #008080\">INFO</span>    | Flow run<span style=\"color: #800080; text-decoration-color: #800080\"> 'independent-jacamar'</span> - Created task run 'query_pool_snaps-60635b41-4' for task 'query_pool_snaps'\n",
       "</pre>\n"
      ],
      "text/plain": [
       "17:14:48.984 | \u001b[36mINFO\u001b[0m    | Flow run\u001b[35m 'independent-jacamar'\u001b[0m - Created task run 'query_pool_snaps-60635b41-4' for task 'query_pool_snaps'\n"
      ]
     },
     "metadata": {},
     "output_type": "display_data"
    },
    {
     "data": {
      "text/html": [
       "<pre style=\"white-space:pre;overflow-x:auto;line-height:normal;font-family:Menlo,'DejaVu Sans Mono',consolas,'Courier New',monospace\">17:14:48.984 | <span style=\"color: #008080; text-decoration-color: #008080\">INFO</span>    | Flow run<span style=\"color: #800080; text-decoration-color: #800080\"> 'independent-jacamar'</span> - Submitted task run 'query_pool_snaps-60635b41-4' for execution.\n",
       "</pre>\n"
      ],
      "text/plain": [
       "17:14:48.984 | \u001b[36mINFO\u001b[0m    | Flow run\u001b[35m 'independent-jacamar'\u001b[0m - Submitted task run 'query_pool_snaps-60635b41-4' for execution.\n"
      ]
     },
     "metadata": {},
     "output_type": "display_data"
    },
    {
     "data": {
      "text/html": [
       "<pre style=\"white-space:pre;overflow-x:auto;line-height:normal;font-family:Menlo,'DejaVu Sans Mono',consolas,'Courier New',monospace\">17:14:48.999 | <span style=\"color: #008080; text-decoration-color: #008080\">INFO</span>    | Flow run<span style=\"color: #800080; text-decoration-color: #800080\"> 'independent-jacamar'</span> - Created task run 'query_pool_vol-8bdd8db3-4' for task 'query_pool_vol'\n",
       "</pre>\n"
      ],
      "text/plain": [
       "17:14:48.999 | \u001b[36mINFO\u001b[0m    | Flow run\u001b[35m 'independent-jacamar'\u001b[0m - Created task run 'query_pool_vol-8bdd8db3-4' for task 'query_pool_vol'\n"
      ]
     },
     "metadata": {},
     "output_type": "display_data"
    },
    {
     "data": {
      "text/html": [
       "<pre style=\"white-space:pre;overflow-x:auto;line-height:normal;font-family:Menlo,'DejaVu Sans Mono',consolas,'Courier New',monospace\">17:14:49.000 | <span style=\"color: #008080; text-decoration-color: #008080\">INFO</span>    | Flow run<span style=\"color: #800080; text-decoration-color: #800080\"> 'independent-jacamar'</span> - Submitted task run 'query_pool_vol-8bdd8db3-4' for execution.\n",
       "</pre>\n"
      ],
      "text/plain": [
       "17:14:49.000 | \u001b[36mINFO\u001b[0m    | Flow run\u001b[35m 'independent-jacamar'\u001b[0m - Submitted task run 'query_pool_vol-8bdd8db3-4' for execution.\n"
      ]
     },
     "metadata": {},
     "output_type": "display_data"
    },
    {
     "data": {
      "text/html": [
       "<pre style=\"white-space:pre;overflow-x:auto;line-height:normal;font-family:Menlo,'DejaVu Sans Mono',consolas,'Courier New',monospace\">17:14:49.021 | <span style=\"color: #008080; text-decoration-color: #008080\">INFO</span>    | Flow run<span style=\"color: #800080; text-decoration-color: #800080\"> 'independent-jacamar'</span> - Created task run 'query_pool_snaps-60635b41-55' for task 'query_pool_snaps'\n",
       "</pre>\n"
      ],
      "text/plain": [
       "17:14:49.021 | \u001b[36mINFO\u001b[0m    | Flow run\u001b[35m 'independent-jacamar'\u001b[0m - Created task run 'query_pool_snaps-60635b41-55' for task 'query_pool_snaps'\n"
      ]
     },
     "metadata": {},
     "output_type": "display_data"
    },
    {
     "data": {
      "text/html": [
       "<pre style=\"white-space:pre;overflow-x:auto;line-height:normal;font-family:Menlo,'DejaVu Sans Mono',consolas,'Courier New',monospace\">17:14:49.023 | <span style=\"color: #008080; text-decoration-color: #008080\">INFO</span>    | Flow run<span style=\"color: #800080; text-decoration-color: #800080\"> 'independent-jacamar'</span> - Submitted task run 'query_pool_snaps-60635b41-55' for execution.\n",
       "</pre>\n"
      ],
      "text/plain": [
       "17:14:49.023 | \u001b[36mINFO\u001b[0m    | Flow run\u001b[35m 'independent-jacamar'\u001b[0m - Submitted task run 'query_pool_snaps-60635b41-55' for execution.\n"
      ]
     },
     "metadata": {},
     "output_type": "display_data"
    },
    {
     "data": {
      "text/html": [
       "<pre style=\"white-space:pre;overflow-x:auto;line-height:normal;font-family:Menlo,'DejaVu Sans Mono',consolas,'Courier New',monospace\">17:14:49.048 | <span style=\"color: #008080; text-decoration-color: #008080\">INFO</span>    | Task run 'query_pool_snaps-60635b41-40' - Finished in state <span style=\"color: #008000; text-decoration-color: #008000\">Completed</span>()\n",
       "</pre>\n"
      ],
      "text/plain": [
       "17:14:49.048 | \u001b[36mINFO\u001b[0m    | Task run 'query_pool_snaps-60635b41-40' - Finished in state \u001b[32mCompleted\u001b[0m()\n"
      ]
     },
     "metadata": {},
     "output_type": "display_data"
    },
    {
     "data": {
      "text/html": [
       "<pre style=\"white-space:pre;overflow-x:auto;line-height:normal;font-family:Menlo,'DejaVu Sans Mono',consolas,'Courier New',monospace\">17:14:49.073 | <span style=\"color: #008080; text-decoration-color: #008080\">INFO</span>    | Flow run<span style=\"color: #800080; text-decoration-color: #800080\"> 'independent-jacamar'</span> - Created task run 'query_pool_vol-8bdd8db3-0' for task 'query_pool_vol'\n",
       "</pre>\n"
      ],
      "text/plain": [
       "17:14:49.073 | \u001b[36mINFO\u001b[0m    | Flow run\u001b[35m 'independent-jacamar'\u001b[0m - Created task run 'query_pool_vol-8bdd8db3-0' for task 'query_pool_vol'\n"
      ]
     },
     "metadata": {},
     "output_type": "display_data"
    },
    {
     "data": {
      "text/html": [
       "<pre style=\"white-space:pre;overflow-x:auto;line-height:normal;font-family:Menlo,'DejaVu Sans Mono',consolas,'Courier New',monospace\">17:14:49.074 | <span style=\"color: #008080; text-decoration-color: #008080\">INFO</span>    | Flow run<span style=\"color: #800080; text-decoration-color: #800080\"> 'independent-jacamar'</span> - Submitted task run 'query_pool_vol-8bdd8db3-0' for execution.\n",
       "</pre>\n"
      ],
      "text/plain": [
       "17:14:49.074 | \u001b[36mINFO\u001b[0m    | Flow run\u001b[35m 'independent-jacamar'\u001b[0m - Submitted task run 'query_pool_vol-8bdd8db3-0' for execution.\n"
      ]
     },
     "metadata": {},
     "output_type": "display_data"
    },
    {
     "data": {
      "text/html": [
       "<pre style=\"white-space:pre;overflow-x:auto;line-height:normal;font-family:Menlo,'DejaVu Sans Mono',consolas,'Courier New',monospace\">17:14:49.133 | <span style=\"color: #008080; text-decoration-color: #008080\">INFO</span>    | Flow run<span style=\"color: #800080; text-decoration-color: #800080\"> 'independent-jacamar'</span> - Created task run 'query_pool_snaps-60635b41-49' for task 'query_pool_snaps'\n",
       "</pre>\n"
      ],
      "text/plain": [
       "17:14:49.133 | \u001b[36mINFO\u001b[0m    | Flow run\u001b[35m 'independent-jacamar'\u001b[0m - Created task run 'query_pool_snaps-60635b41-49' for task 'query_pool_snaps'\n"
      ]
     },
     "metadata": {},
     "output_type": "display_data"
    },
    {
     "data": {
      "text/html": [
       "<pre style=\"white-space:pre;overflow-x:auto;line-height:normal;font-family:Menlo,'DejaVu Sans Mono',consolas,'Courier New',monospace\">17:14:49.133 | <span style=\"color: #008080; text-decoration-color: #008080\">INFO</span>    | Flow run<span style=\"color: #800080; text-decoration-color: #800080\"> 'independent-jacamar'</span> - Submitted task run 'query_pool_snaps-60635b41-49' for execution.\n",
       "</pre>\n"
      ],
      "text/plain": [
       "17:14:49.133 | \u001b[36mINFO\u001b[0m    | Flow run\u001b[35m 'independent-jacamar'\u001b[0m - Submitted task run 'query_pool_snaps-60635b41-49' for execution.\n"
      ]
     },
     "metadata": {},
     "output_type": "display_data"
    },
    {
     "data": {
      "text/html": [
       "<pre style=\"white-space:pre;overflow-x:auto;line-height:normal;font-family:Menlo,'DejaVu Sans Mono',consolas,'Courier New',monospace\">17:14:49.179 | <span style=\"color: #008080; text-decoration-color: #008080\">INFO</span>    | Flow run<span style=\"color: #800080; text-decoration-color: #800080\"> 'independent-jacamar'</span> - Created task run 'query_pool_vol-8bdd8db3-10' for task 'query_pool_vol'\n",
       "</pre>\n"
      ],
      "text/plain": [
       "17:14:49.179 | \u001b[36mINFO\u001b[0m    | Flow run\u001b[35m 'independent-jacamar'\u001b[0m - Created task run 'query_pool_vol-8bdd8db3-10' for task 'query_pool_vol'\n"
      ]
     },
     "metadata": {},
     "output_type": "display_data"
    },
    {
     "data": {
      "text/html": [
       "<pre style=\"white-space:pre;overflow-x:auto;line-height:normal;font-family:Menlo,'DejaVu Sans Mono',consolas,'Courier New',monospace\">17:14:49.180 | <span style=\"color: #008080; text-decoration-color: #008080\">INFO</span>    | Flow run<span style=\"color: #800080; text-decoration-color: #800080\"> 'independent-jacamar'</span> - Submitted task run 'query_pool_vol-8bdd8db3-10' for execution.\n",
       "</pre>\n"
      ],
      "text/plain": [
       "17:14:49.180 | \u001b[36mINFO\u001b[0m    | Flow run\u001b[35m 'independent-jacamar'\u001b[0m - Submitted task run 'query_pool_vol-8bdd8db3-10' for execution.\n"
      ]
     },
     "metadata": {},
     "output_type": "display_data"
    },
    {
     "data": {
      "text/html": [
       "<pre style=\"white-space:pre;overflow-x:auto;line-height:normal;font-family:Menlo,'DejaVu Sans Mono',consolas,'Courier New',monospace\">17:14:49.194 | <span style=\"color: #008080; text-decoration-color: #008080\">INFO</span>    | Task run 'query_pool_vol-8bdd8db3-42' - Finished in state <span style=\"color: #008000; text-decoration-color: #008000\">Completed</span>()\n",
       "</pre>\n"
      ],
      "text/plain": [
       "17:14:49.194 | \u001b[36mINFO\u001b[0m    | Task run 'query_pool_vol-8bdd8db3-42' - Finished in state \u001b[32mCompleted\u001b[0m()\n"
      ]
     },
     "metadata": {},
     "output_type": "display_data"
    },
    {
     "data": {
      "text/html": [
       "<pre style=\"white-space:pre;overflow-x:auto;line-height:normal;font-family:Menlo,'DejaVu Sans Mono',consolas,'Courier New',monospace\">17:14:49.203 | <span style=\"color: #008080; text-decoration-color: #008080\">INFO</span>    | Task run 'query_pool_vol-8bdd8db3-31' - Finished in state <span style=\"color: #008000; text-decoration-color: #008000\">Completed</span>()\n",
       "</pre>\n"
      ],
      "text/plain": [
       "17:14:49.203 | \u001b[36mINFO\u001b[0m    | Task run 'query_pool_vol-8bdd8db3-31' - Finished in state \u001b[32mCompleted\u001b[0m()\n"
      ]
     },
     "metadata": {},
     "output_type": "display_data"
    },
    {
     "data": {
      "text/html": [
       "<pre style=\"white-space:pre;overflow-x:auto;line-height:normal;font-family:Menlo,'DejaVu Sans Mono',consolas,'Courier New',monospace\">17:14:49.215 | <span style=\"color: #008080; text-decoration-color: #008080\">INFO</span>    | Task run 'query_pool_snaps-60635b41-35' - Finished in state <span style=\"color: #008000; text-decoration-color: #008000\">Completed</span>()\n",
       "</pre>\n"
      ],
      "text/plain": [
       "17:14:49.215 | \u001b[36mINFO\u001b[0m    | Task run 'query_pool_snaps-60635b41-35' - Finished in state \u001b[32mCompleted\u001b[0m()\n"
      ]
     },
     "metadata": {},
     "output_type": "display_data"
    },
    {
     "data": {
      "text/html": [
       "<pre style=\"white-space:pre;overflow-x:auto;line-height:normal;font-family:Menlo,'DejaVu Sans Mono',consolas,'Courier New',monospace\">17:14:49.237 | <span style=\"color: #008080; text-decoration-color: #008080\">INFO</span>    | Flow run<span style=\"color: #800080; text-decoration-color: #800080\"> 'independent-jacamar'</span> - Created task run 'query_pool_snaps-60635b41-43' for task 'query_pool_snaps'\n",
       "</pre>\n"
      ],
      "text/plain": [
       "17:14:49.237 | \u001b[36mINFO\u001b[0m    | Flow run\u001b[35m 'independent-jacamar'\u001b[0m - Created task run 'query_pool_snaps-60635b41-43' for task 'query_pool_snaps'\n"
      ]
     },
     "metadata": {},
     "output_type": "display_data"
    },
    {
     "data": {
      "text/html": [
       "<pre style=\"white-space:pre;overflow-x:auto;line-height:normal;font-family:Menlo,'DejaVu Sans Mono',consolas,'Courier New',monospace\">17:14:49.240 | <span style=\"color: #008080; text-decoration-color: #008080\">INFO</span>    | Flow run<span style=\"color: #800080; text-decoration-color: #800080\"> 'independent-jacamar'</span> - Submitted task run 'query_pool_snaps-60635b41-43' for execution.\n",
       "</pre>\n"
      ],
      "text/plain": [
       "17:14:49.240 | \u001b[36mINFO\u001b[0m    | Flow run\u001b[35m 'independent-jacamar'\u001b[0m - Submitted task run 'query_pool_snaps-60635b41-43' for execution.\n"
      ]
     },
     "metadata": {},
     "output_type": "display_data"
    },
    {
     "data": {
      "text/html": [
       "<pre style=\"white-space:pre;overflow-x:auto;line-height:normal;font-family:Menlo,'DejaVu Sans Mono',consolas,'Courier New',monospace\">17:14:49.265 | <span style=\"color: #008080; text-decoration-color: #008080\">INFO</span>    | Task run 'query_pool_vol-8bdd8db3-44' - Finished in state <span style=\"color: #008000; text-decoration-color: #008000\">Completed</span>()\n",
       "</pre>\n"
      ],
      "text/plain": [
       "17:14:49.265 | \u001b[36mINFO\u001b[0m    | Task run 'query_pool_vol-8bdd8db3-44' - Finished in state \u001b[32mCompleted\u001b[0m()\n"
      ]
     },
     "metadata": {},
     "output_type": "display_data"
    },
    {
     "data": {
      "text/html": [
       "<pre style=\"white-space:pre;overflow-x:auto;line-height:normal;font-family:Menlo,'DejaVu Sans Mono',consolas,'Courier New',monospace\">17:14:49.276 | <span style=\"color: #008080; text-decoration-color: #008080\">INFO</span>    | Flow run<span style=\"color: #800080; text-decoration-color: #800080\"> 'independent-jacamar'</span> - Created task run 'query_pool_snaps-60635b41-31' for task 'query_pool_snaps'\n",
       "</pre>\n"
      ],
      "text/plain": [
       "17:14:49.276 | \u001b[36mINFO\u001b[0m    | Flow run\u001b[35m 'independent-jacamar'\u001b[0m - Created task run 'query_pool_snaps-60635b41-31' for task 'query_pool_snaps'\n"
      ]
     },
     "metadata": {},
     "output_type": "display_data"
    },
    {
     "data": {
      "text/html": [
       "<pre style=\"white-space:pre;overflow-x:auto;line-height:normal;font-family:Menlo,'DejaVu Sans Mono',consolas,'Courier New',monospace\">17:14:49.277 | <span style=\"color: #008080; text-decoration-color: #008080\">INFO</span>    | Flow run<span style=\"color: #800080; text-decoration-color: #800080\"> 'independent-jacamar'</span> - Submitted task run 'query_pool_snaps-60635b41-31' for execution.\n",
       "</pre>\n"
      ],
      "text/plain": [
       "17:14:49.277 | \u001b[36mINFO\u001b[0m    | Flow run\u001b[35m 'independent-jacamar'\u001b[0m - Submitted task run 'query_pool_snaps-60635b41-31' for execution.\n"
      ]
     },
     "metadata": {},
     "output_type": "display_data"
    },
    {
     "data": {
      "text/html": [
       "<pre style=\"white-space:pre;overflow-x:auto;line-height:normal;font-family:Menlo,'DejaVu Sans Mono',consolas,'Courier New',monospace\">17:14:49.725 | <span style=\"color: #008080; text-decoration-color: #008080\">INFO</span>    | Flow run<span style=\"color: #800080; text-decoration-color: #800080\"> 'independent-jacamar'</span> - Created task run 'query_pool_snaps-60635b41-6' for task 'query_pool_snaps'\n",
       "</pre>\n"
      ],
      "text/plain": [
       "17:14:49.725 | \u001b[36mINFO\u001b[0m    | Flow run\u001b[35m 'independent-jacamar'\u001b[0m - Created task run 'query_pool_snaps-60635b41-6' for task 'query_pool_snaps'\n"
      ]
     },
     "metadata": {},
     "output_type": "display_data"
    },
    {
     "data": {
      "text/html": [
       "<pre style=\"white-space:pre;overflow-x:auto;line-height:normal;font-family:Menlo,'DejaVu Sans Mono',consolas,'Courier New',monospace\">17:14:49.769 | <span style=\"color: #008080; text-decoration-color: #008080\">INFO</span>    | Flow run<span style=\"color: #800080; text-decoration-color: #800080\"> 'independent-jacamar'</span> - Submitted task run 'query_pool_snaps-60635b41-6' for execution.\n",
       "</pre>\n"
      ],
      "text/plain": [
       "17:14:49.769 | \u001b[36mINFO\u001b[0m    | Flow run\u001b[35m 'independent-jacamar'\u001b[0m - Submitted task run 'query_pool_snaps-60635b41-6' for execution.\n"
      ]
     },
     "metadata": {},
     "output_type": "display_data"
    },
    {
     "data": {
      "text/html": [
       "<pre style=\"white-space:pre;overflow-x:auto;line-height:normal;font-family:Menlo,'DejaVu Sans Mono',consolas,'Courier New',monospace\">17:14:49.825 | <span style=\"color: #008080; text-decoration-color: #008080\">INFO</span>    | Flow run<span style=\"color: #800080; text-decoration-color: #800080\"> 'independent-jacamar'</span> - Created task run 'query_pool_snaps-60635b41-37' for task 'query_pool_snaps'\n",
       "</pre>\n"
      ],
      "text/plain": [
       "17:14:49.825 | \u001b[36mINFO\u001b[0m    | Flow run\u001b[35m 'independent-jacamar'\u001b[0m - Created task run 'query_pool_snaps-60635b41-37' for task 'query_pool_snaps'\n"
      ]
     },
     "metadata": {},
     "output_type": "display_data"
    },
    {
     "data": {
      "text/html": [
       "<pre style=\"white-space:pre;overflow-x:auto;line-height:normal;font-family:Menlo,'DejaVu Sans Mono',consolas,'Courier New',monospace\">17:14:49.826 | <span style=\"color: #008080; text-decoration-color: #008080\">INFO</span>    | Flow run<span style=\"color: #800080; text-decoration-color: #800080\"> 'independent-jacamar'</span> - Submitted task run 'query_pool_snaps-60635b41-37' for execution.\n",
       "</pre>\n"
      ],
      "text/plain": [
       "17:14:49.826 | \u001b[36mINFO\u001b[0m    | Flow run\u001b[35m 'independent-jacamar'\u001b[0m - Submitted task run 'query_pool_snaps-60635b41-37' for execution.\n"
      ]
     },
     "metadata": {},
     "output_type": "display_data"
    },
    {
     "data": {
      "text/html": [
       "<pre style=\"white-space:pre;overflow-x:auto;line-height:normal;font-family:Menlo,'DejaVu Sans Mono',consolas,'Courier New',monospace\">17:14:49.836 | <span style=\"color: #008080; text-decoration-color: #008080\">INFO</span>    | Task run 'query_pool_vol-8bdd8db3-10' - Finished in state <span style=\"color: #008000; text-decoration-color: #008000\">Completed</span>()\n",
       "</pre>\n"
      ],
      "text/plain": [
       "17:14:49.836 | \u001b[36mINFO\u001b[0m    | Task run 'query_pool_vol-8bdd8db3-10' - Finished in state \u001b[32mCompleted\u001b[0m()\n"
      ]
     },
     "metadata": {},
     "output_type": "display_data"
    },
    {
     "data": {
      "text/html": [
       "<pre style=\"white-space:pre;overflow-x:auto;line-height:normal;font-family:Menlo,'DejaVu Sans Mono',consolas,'Courier New',monospace\">17:14:49.843 | <span style=\"color: #008080; text-decoration-color: #008080\">INFO</span>    | Task run 'query_pool_snaps-60635b41-7' - Finished in state <span style=\"color: #008000; text-decoration-color: #008000\">Completed</span>()\n",
       "</pre>\n"
      ],
      "text/plain": [
       "17:14:49.843 | \u001b[36mINFO\u001b[0m    | Task run 'query_pool_snaps-60635b41-7' - Finished in state \u001b[32mCompleted\u001b[0m()\n"
      ]
     },
     "metadata": {},
     "output_type": "display_data"
    },
    {
     "data": {
      "text/html": [
       "<pre style=\"white-space:pre;overflow-x:auto;line-height:normal;font-family:Menlo,'DejaVu Sans Mono',consolas,'Courier New',monospace\">17:14:49.850 | <span style=\"color: #008080; text-decoration-color: #008080\">INFO</span>    | Task run 'query_pool_vol-8bdd8db3-46' - Finished in state <span style=\"color: #008000; text-decoration-color: #008000\">Completed</span>()\n",
       "</pre>\n"
      ],
      "text/plain": [
       "17:14:49.850 | \u001b[36mINFO\u001b[0m    | Task run 'query_pool_vol-8bdd8db3-46' - Finished in state \u001b[32mCompleted\u001b[0m()\n"
      ]
     },
     "metadata": {},
     "output_type": "display_data"
    },
    {
     "data": {
      "text/html": [
       "<pre style=\"white-space:pre;overflow-x:auto;line-height:normal;font-family:Menlo,'DejaVu Sans Mono',consolas,'Courier New',monospace\">17:14:49.862 | <span style=\"color: #008080; text-decoration-color: #008080\">INFO</span>    | Task run 'query_pool_snaps-60635b41-11' - Finished in state <span style=\"color: #008000; text-decoration-color: #008000\">Completed</span>()\n",
       "</pre>\n"
      ],
      "text/plain": [
       "17:14:49.862 | \u001b[36mINFO\u001b[0m    | Task run 'query_pool_snaps-60635b41-11' - Finished in state \u001b[32mCompleted\u001b[0m()\n"
      ]
     },
     "metadata": {},
     "output_type": "display_data"
    },
    {
     "data": {
      "text/html": [
       "<pre style=\"white-space:pre;overflow-x:auto;line-height:normal;font-family:Menlo,'DejaVu Sans Mono',consolas,'Courier New',monospace\">17:14:49.877 | <span style=\"color: #008080; text-decoration-color: #008080\">INFO</span>    | Task run 'query_pool_vol-8bdd8db3-33' - Finished in state <span style=\"color: #008000; text-decoration-color: #008000\">Completed</span>()\n",
       "</pre>\n"
      ],
      "text/plain": [
       "17:14:49.877 | \u001b[36mINFO\u001b[0m    | Task run 'query_pool_vol-8bdd8db3-33' - Finished in state \u001b[32mCompleted\u001b[0m()\n"
      ]
     },
     "metadata": {},
     "output_type": "display_data"
    },
    {
     "data": {
      "text/html": [
       "<pre style=\"white-space:pre;overflow-x:auto;line-height:normal;font-family:Menlo,'DejaVu Sans Mono',consolas,'Courier New',monospace\">17:14:49.913 | <span style=\"color: #008080; text-decoration-color: #008080\">INFO</span>    | Flow run<span style=\"color: #800080; text-decoration-color: #800080\"> 'independent-jacamar'</span> - Created task run 'query_pool_vol-8bdd8db3-6' for task 'query_pool_vol'\n",
       "</pre>\n"
      ],
      "text/plain": [
       "17:14:49.913 | \u001b[36mINFO\u001b[0m    | Flow run\u001b[35m 'independent-jacamar'\u001b[0m - Created task run 'query_pool_vol-8bdd8db3-6' for task 'query_pool_vol'\n"
      ]
     },
     "metadata": {},
     "output_type": "display_data"
    },
    {
     "data": {
      "text/html": [
       "<pre style=\"white-space:pre;overflow-x:auto;line-height:normal;font-family:Menlo,'DejaVu Sans Mono',consolas,'Courier New',monospace\">17:14:49.914 | <span style=\"color: #008080; text-decoration-color: #008080\">INFO</span>    | Flow run<span style=\"color: #800080; text-decoration-color: #800080\"> 'independent-jacamar'</span> - Submitted task run 'query_pool_vol-8bdd8db3-6' for execution.\n",
       "</pre>\n"
      ],
      "text/plain": [
       "17:14:49.914 | \u001b[36mINFO\u001b[0m    | Flow run\u001b[35m 'independent-jacamar'\u001b[0m - Submitted task run 'query_pool_vol-8bdd8db3-6' for execution.\n"
      ]
     },
     "metadata": {},
     "output_type": "display_data"
    },
    {
     "data": {
      "text/html": [
       "<pre style=\"white-space:pre;overflow-x:auto;line-height:normal;font-family:Menlo,'DejaVu Sans Mono',consolas,'Courier New',monospace\">17:14:49.929 | <span style=\"color: #008080; text-decoration-color: #008080\">INFO</span>    | Flow run<span style=\"color: #800080; text-decoration-color: #800080\"> 'independent-jacamar'</span> - Created task run 'query_pool_vol-8bdd8db3-8' for task 'query_pool_vol'\n",
       "</pre>\n"
      ],
      "text/plain": [
       "17:14:49.929 | \u001b[36mINFO\u001b[0m    | Flow run\u001b[35m 'independent-jacamar'\u001b[0m - Created task run 'query_pool_vol-8bdd8db3-8' for task 'query_pool_vol'\n"
      ]
     },
     "metadata": {},
     "output_type": "display_data"
    },
    {
     "data": {
      "text/html": [
       "<pre style=\"white-space:pre;overflow-x:auto;line-height:normal;font-family:Menlo,'DejaVu Sans Mono',consolas,'Courier New',monospace\">17:14:49.930 | <span style=\"color: #008080; text-decoration-color: #008080\">INFO</span>    | Flow run<span style=\"color: #800080; text-decoration-color: #800080\"> 'independent-jacamar'</span> - Submitted task run 'query_pool_vol-8bdd8db3-8' for execution.\n",
       "</pre>\n"
      ],
      "text/plain": [
       "17:14:49.930 | \u001b[36mINFO\u001b[0m    | Flow run\u001b[35m 'independent-jacamar'\u001b[0m - Submitted task run 'query_pool_vol-8bdd8db3-8' for execution.\n"
      ]
     },
     "metadata": {},
     "output_type": "display_data"
    },
    {
     "data": {
      "text/html": [
       "<pre style=\"white-space:pre;overflow-x:auto;line-height:normal;font-family:Menlo,'DejaVu Sans Mono',consolas,'Courier New',monospace\">17:14:49.968 | <span style=\"color: #008080; text-decoration-color: #008080\">INFO</span>    | Task run 'query_pool_vol-8bdd8db3-48' - Finished in state <span style=\"color: #008000; text-decoration-color: #008000\">Completed</span>()\n",
       "</pre>\n"
      ],
      "text/plain": [
       "17:14:49.968 | \u001b[36mINFO\u001b[0m    | Task run 'query_pool_vol-8bdd8db3-48' - Finished in state \u001b[32mCompleted\u001b[0m()\n"
      ]
     },
     "metadata": {},
     "output_type": "display_data"
    },
    {
     "data": {
      "text/html": [
       "<pre style=\"white-space:pre;overflow-x:auto;line-height:normal;font-family:Menlo,'DejaVu Sans Mono',consolas,'Courier New',monospace\">17:14:50.060 | <span style=\"color: #008080; text-decoration-color: #008080\">INFO</span>    | Flow run<span style=\"color: #800080; text-decoration-color: #800080\"> 'independent-jacamar'</span> - Created task run 'query_pool_vol-8bdd8db3-15' for task 'query_pool_vol'\n",
       "</pre>\n"
      ],
      "text/plain": [
       "17:14:50.060 | \u001b[36mINFO\u001b[0m    | Flow run\u001b[35m 'independent-jacamar'\u001b[0m - Created task run 'query_pool_vol-8bdd8db3-15' for task 'query_pool_vol'\n"
      ]
     },
     "metadata": {},
     "output_type": "display_data"
    },
    {
     "data": {
      "text/html": [
       "<pre style=\"white-space:pre;overflow-x:auto;line-height:normal;font-family:Menlo,'DejaVu Sans Mono',consolas,'Courier New',monospace\">17:14:50.061 | <span style=\"color: #008080; text-decoration-color: #008080\">INFO</span>    | Flow run<span style=\"color: #800080; text-decoration-color: #800080\"> 'independent-jacamar'</span> - Submitted task run 'query_pool_vol-8bdd8db3-15' for execution.\n",
       "</pre>\n"
      ],
      "text/plain": [
       "17:14:50.061 | \u001b[36mINFO\u001b[0m    | Flow run\u001b[35m 'independent-jacamar'\u001b[0m - Submitted task run 'query_pool_vol-8bdd8db3-15' for execution.\n"
      ]
     },
     "metadata": {},
     "output_type": "display_data"
    },
    {
     "data": {
      "text/html": [
       "<pre style=\"white-space:pre;overflow-x:auto;line-height:normal;font-family:Menlo,'DejaVu Sans Mono',consolas,'Courier New',monospace\">17:14:50.078 | <span style=\"color: #008080; text-decoration-color: #008080\">INFO</span>    | Task run 'query_pool_snaps-60635b41-18' - Finished in state <span style=\"color: #008000; text-decoration-color: #008000\">Completed</span>()\n",
       "</pre>\n"
      ],
      "text/plain": [
       "17:14:50.078 | \u001b[36mINFO\u001b[0m    | Task run 'query_pool_snaps-60635b41-18' - Finished in state \u001b[32mCompleted\u001b[0m()\n"
      ]
     },
     "metadata": {},
     "output_type": "display_data"
    },
    {
     "data": {
      "text/html": [
       "<pre style=\"white-space:pre;overflow-x:auto;line-height:normal;font-family:Menlo,'DejaVu Sans Mono',consolas,'Courier New',monospace\">17:14:50.117 | <span style=\"color: #008080; text-decoration-color: #008080\">INFO</span>    | Task run 'query_pool_snaps-60635b41-43' - Finished in state <span style=\"color: #008000; text-decoration-color: #008000\">Completed</span>()\n",
       "</pre>\n"
      ],
      "text/plain": [
       "17:14:50.117 | \u001b[36mINFO\u001b[0m    | Task run 'query_pool_snaps-60635b41-43' - Finished in state \u001b[32mCompleted\u001b[0m()\n"
      ]
     },
     "metadata": {},
     "output_type": "display_data"
    },
    {
     "data": {
      "text/html": [
       "<pre style=\"white-space:pre;overflow-x:auto;line-height:normal;font-family:Menlo,'DejaVu Sans Mono',consolas,'Courier New',monospace\">17:14:50.133 | <span style=\"color: #008080; text-decoration-color: #008080\">INFO</span>    | Task run 'query_pool_snaps-60635b41-13' - Finished in state <span style=\"color: #008000; text-decoration-color: #008000\">Completed</span>()\n",
       "</pre>\n"
      ],
      "text/plain": [
       "17:14:50.133 | \u001b[36mINFO\u001b[0m    | Task run 'query_pool_snaps-60635b41-13' - Finished in state \u001b[32mCompleted\u001b[0m()\n"
      ]
     },
     "metadata": {},
     "output_type": "display_data"
    },
    {
     "data": {
      "text/html": [
       "<pre style=\"white-space:pre;overflow-x:auto;line-height:normal;font-family:Menlo,'DejaVu Sans Mono',consolas,'Courier New',monospace\">17:14:50.145 | <span style=\"color: #008080; text-decoration-color: #008080\">INFO</span>    | Flow run<span style=\"color: #800080; text-decoration-color: #800080\"> 'independent-jacamar'</span> - Created task run 'query_pool_snaps-60635b41-5' for task 'query_pool_snaps'\n",
       "</pre>\n"
      ],
      "text/plain": [
       "17:14:50.145 | \u001b[36mINFO\u001b[0m    | Flow run\u001b[35m 'independent-jacamar'\u001b[0m - Created task run 'query_pool_snaps-60635b41-5' for task 'query_pool_snaps'\n"
      ]
     },
     "metadata": {},
     "output_type": "display_data"
    },
    {
     "data": {
      "text/html": [
       "<pre style=\"white-space:pre;overflow-x:auto;line-height:normal;font-family:Menlo,'DejaVu Sans Mono',consolas,'Courier New',monospace\">17:14:50.148 | <span style=\"color: #008080; text-decoration-color: #008080\">INFO</span>    | Flow run<span style=\"color: #800080; text-decoration-color: #800080\"> 'independent-jacamar'</span> - Submitted task run 'query_pool_snaps-60635b41-5' for execution.\n",
       "</pre>\n"
      ],
      "text/plain": [
       "17:14:50.148 | \u001b[36mINFO\u001b[0m    | Flow run\u001b[35m 'independent-jacamar'\u001b[0m - Submitted task run 'query_pool_snaps-60635b41-5' for execution.\n"
      ]
     },
     "metadata": {},
     "output_type": "display_data"
    },
    {
     "data": {
      "text/html": [
       "<pre style=\"white-space:pre;overflow-x:auto;line-height:normal;font-family:Menlo,'DejaVu Sans Mono',consolas,'Courier New',monospace\">17:14:50.187 | <span style=\"color: #008080; text-decoration-color: #008080\">INFO</span>    | Flow run<span style=\"color: #800080; text-decoration-color: #800080\"> 'independent-jacamar'</span> - Created task run 'query_pool_vol-8bdd8db3-38' for task 'query_pool_vol'\n",
       "</pre>\n"
      ],
      "text/plain": [
       "17:14:50.187 | \u001b[36mINFO\u001b[0m    | Flow run\u001b[35m 'independent-jacamar'\u001b[0m - Created task run 'query_pool_vol-8bdd8db3-38' for task 'query_pool_vol'\n"
      ]
     },
     "metadata": {},
     "output_type": "display_data"
    },
    {
     "data": {
      "text/html": [
       "<pre style=\"white-space:pre;overflow-x:auto;line-height:normal;font-family:Menlo,'DejaVu Sans Mono',consolas,'Courier New',monospace\">17:14:50.189 | <span style=\"color: #008080; text-decoration-color: #008080\">INFO</span>    | Flow run<span style=\"color: #800080; text-decoration-color: #800080\"> 'independent-jacamar'</span> - Submitted task run 'query_pool_vol-8bdd8db3-38' for execution.\n",
       "</pre>\n"
      ],
      "text/plain": [
       "17:14:50.189 | \u001b[36mINFO\u001b[0m    | Flow run\u001b[35m 'independent-jacamar'\u001b[0m - Submitted task run 'query_pool_vol-8bdd8db3-38' for execution.\n"
      ]
     },
     "metadata": {},
     "output_type": "display_data"
    },
    {
     "data": {
      "text/html": [
       "<pre style=\"white-space:pre;overflow-x:auto;line-height:normal;font-family:Menlo,'DejaVu Sans Mono',consolas,'Courier New',monospace\">17:14:50.202 | <span style=\"color: #008080; text-decoration-color: #008080\">INFO</span>    | Task run 'query_pool_vol-8bdd8db3-39' - Finished in state <span style=\"color: #008000; text-decoration-color: #008000\">Completed</span>()\n",
       "</pre>\n"
      ],
      "text/plain": [
       "17:14:50.202 | \u001b[36mINFO\u001b[0m    | Task run 'query_pool_vol-8bdd8db3-39' - Finished in state \u001b[32mCompleted\u001b[0m()\n"
      ]
     },
     "metadata": {},
     "output_type": "display_data"
    },
    {
     "data": {
      "text/html": [
       "<pre style=\"white-space:pre;overflow-x:auto;line-height:normal;font-family:Menlo,'DejaVu Sans Mono',consolas,'Courier New',monospace\">17:14:50.367 | <span style=\"color: #008080; text-decoration-color: #008080\">INFO</span>    | Task run 'query_pool_snaps-60635b41-14' - Finished in state <span style=\"color: #008000; text-decoration-color: #008000\">Completed</span>()\n",
       "</pre>\n"
      ],
      "text/plain": [
       "17:14:50.367 | \u001b[36mINFO\u001b[0m    | Task run 'query_pool_snaps-60635b41-14' - Finished in state \u001b[32mCompleted\u001b[0m()\n"
      ]
     },
     "metadata": {},
     "output_type": "display_data"
    },
    {
     "data": {
      "text/html": [
       "<pre style=\"white-space:pre;overflow-x:auto;line-height:normal;font-family:Menlo,'DejaVu Sans Mono',consolas,'Courier New',monospace\">17:14:50.397 | <span style=\"color: #008080; text-decoration-color: #008080\">INFO</span>    | Flow run<span style=\"color: #800080; text-decoration-color: #800080\"> 'independent-jacamar'</span> - Created task run 'query_pool_snaps-60635b41-29' for task 'query_pool_snaps'\n",
       "</pre>\n"
      ],
      "text/plain": [
       "17:14:50.397 | \u001b[36mINFO\u001b[0m    | Flow run\u001b[35m 'independent-jacamar'\u001b[0m - Created task run 'query_pool_snaps-60635b41-29' for task 'query_pool_snaps'\n"
      ]
     },
     "metadata": {},
     "output_type": "display_data"
    },
    {
     "data": {
      "text/html": [
       "<pre style=\"white-space:pre;overflow-x:auto;line-height:normal;font-family:Menlo,'DejaVu Sans Mono',consolas,'Courier New',monospace\">17:14:50.399 | <span style=\"color: #008080; text-decoration-color: #008080\">INFO</span>    | Flow run<span style=\"color: #800080; text-decoration-color: #800080\"> 'independent-jacamar'</span> - Submitted task run 'query_pool_snaps-60635b41-29' for execution.\n",
       "</pre>\n"
      ],
      "text/plain": [
       "17:14:50.399 | \u001b[36mINFO\u001b[0m    | Flow run\u001b[35m 'independent-jacamar'\u001b[0m - Submitted task run 'query_pool_snaps-60635b41-29' for execution.\n"
      ]
     },
     "metadata": {},
     "output_type": "display_data"
    },
    {
     "data": {
      "text/html": [
       "<pre style=\"white-space:pre;overflow-x:auto;line-height:normal;font-family:Menlo,'DejaVu Sans Mono',consolas,'Courier New',monospace\">17:14:50.408 | <span style=\"color: #008080; text-decoration-color: #008080\">INFO</span>    | Task run 'query_pool_vol-8bdd8db3-49' - Finished in state <span style=\"color: #008000; text-decoration-color: #008000\">Completed</span>()\n",
       "</pre>\n"
      ],
      "text/plain": [
       "17:14:50.408 | \u001b[36mINFO\u001b[0m    | Task run 'query_pool_vol-8bdd8db3-49' - Finished in state \u001b[32mCompleted\u001b[0m()\n"
      ]
     },
     "metadata": {},
     "output_type": "display_data"
    },
    {
     "data": {
      "text/html": [
       "<pre style=\"white-space:pre;overflow-x:auto;line-height:normal;font-family:Menlo,'DejaVu Sans Mono',consolas,'Courier New',monospace\">17:14:50.418 | <span style=\"color: #008080; text-decoration-color: #008080\">INFO</span>    | Flow run<span style=\"color: #800080; text-decoration-color: #800080\"> 'independent-jacamar'</span> - Created task run 'query_pool_vol-8bdd8db3-20' for task 'query_pool_vol'\n",
       "</pre>\n"
      ],
      "text/plain": [
       "17:14:50.418 | \u001b[36mINFO\u001b[0m    | Flow run\u001b[35m 'independent-jacamar'\u001b[0m - Created task run 'query_pool_vol-8bdd8db3-20' for task 'query_pool_vol'\n"
      ]
     },
     "metadata": {},
     "output_type": "display_data"
    },
    {
     "data": {
      "text/html": [
       "<pre style=\"white-space:pre;overflow-x:auto;line-height:normal;font-family:Menlo,'DejaVu Sans Mono',consolas,'Courier New',monospace\">17:14:50.419 | <span style=\"color: #008080; text-decoration-color: #008080\">INFO</span>    | Flow run<span style=\"color: #800080; text-decoration-color: #800080\"> 'independent-jacamar'</span> - Submitted task run 'query_pool_vol-8bdd8db3-20' for execution.\n",
       "</pre>\n"
      ],
      "text/plain": [
       "17:14:50.419 | \u001b[36mINFO\u001b[0m    | Flow run\u001b[35m 'independent-jacamar'\u001b[0m - Submitted task run 'query_pool_vol-8bdd8db3-20' for execution.\n"
      ]
     },
     "metadata": {},
     "output_type": "display_data"
    },
    {
     "data": {
      "text/html": [
       "<pre style=\"white-space:pre;overflow-x:auto;line-height:normal;font-family:Menlo,'DejaVu Sans Mono',consolas,'Courier New',monospace\">17:14:50.441 | <span style=\"color: #008080; text-decoration-color: #008080\">INFO</span>    | Flow run<span style=\"color: #800080; text-decoration-color: #800080\"> 'independent-jacamar'</span> - Created task run 'query_pool_vol-8bdd8db3-37' for task 'query_pool_vol'\n",
       "</pre>\n"
      ],
      "text/plain": [
       "17:14:50.441 | \u001b[36mINFO\u001b[0m    | Flow run\u001b[35m 'independent-jacamar'\u001b[0m - Created task run 'query_pool_vol-8bdd8db3-37' for task 'query_pool_vol'\n"
      ]
     },
     "metadata": {},
     "output_type": "display_data"
    },
    {
     "data": {
      "text/html": [
       "<pre style=\"white-space:pre;overflow-x:auto;line-height:normal;font-family:Menlo,'DejaVu Sans Mono',consolas,'Courier New',monospace\">17:14:50.442 | <span style=\"color: #008080; text-decoration-color: #008080\">INFO</span>    | Flow run<span style=\"color: #800080; text-decoration-color: #800080\"> 'independent-jacamar'</span> - Submitted task run 'query_pool_vol-8bdd8db3-37' for execution.\n",
       "</pre>\n"
      ],
      "text/plain": [
       "17:14:50.442 | \u001b[36mINFO\u001b[0m    | Flow run\u001b[35m 'independent-jacamar'\u001b[0m - Submitted task run 'query_pool_vol-8bdd8db3-37' for execution.\n"
      ]
     },
     "metadata": {},
     "output_type": "display_data"
    },
    {
     "data": {
      "text/html": [
       "<pre style=\"white-space:pre;overflow-x:auto;line-height:normal;font-family:Menlo,'DejaVu Sans Mono',consolas,'Courier New',monospace\">17:14:50.556 | <span style=\"color: #008080; text-decoration-color: #008080\">INFO</span>    | Flow run<span style=\"color: #800080; text-decoration-color: #800080\"> 'independent-jacamar'</span> - Created task run 'query_pool_snaps-60635b41-28' for task 'query_pool_snaps'\n",
       "</pre>\n"
      ],
      "text/plain": [
       "17:14:50.556 | \u001b[36mINFO\u001b[0m    | Flow run\u001b[35m 'independent-jacamar'\u001b[0m - Created task run 'query_pool_snaps-60635b41-28' for task 'query_pool_snaps'\n"
      ]
     },
     "metadata": {},
     "output_type": "display_data"
    },
    {
     "data": {
      "text/html": [
       "<pre style=\"white-space:pre;overflow-x:auto;line-height:normal;font-family:Menlo,'DejaVu Sans Mono',consolas,'Courier New',monospace\">17:14:50.557 | <span style=\"color: #008080; text-decoration-color: #008080\">INFO</span>    | Flow run<span style=\"color: #800080; text-decoration-color: #800080\"> 'independent-jacamar'</span> - Submitted task run 'query_pool_snaps-60635b41-28' for execution.\n",
       "</pre>\n"
      ],
      "text/plain": [
       "17:14:50.557 | \u001b[36mINFO\u001b[0m    | Flow run\u001b[35m 'independent-jacamar'\u001b[0m - Submitted task run 'query_pool_snaps-60635b41-28' for execution.\n"
      ]
     },
     "metadata": {},
     "output_type": "display_data"
    },
    {
     "data": {
      "text/html": [
       "<pre style=\"white-space:pre;overflow-x:auto;line-height:normal;font-family:Menlo,'DejaVu Sans Mono',consolas,'Courier New',monospace\">17:14:50.577 | <span style=\"color: #008080; text-decoration-color: #008080\">INFO</span>    | Task run 'query_pool_snaps-60635b41-44' - Finished in state <span style=\"color: #008000; text-decoration-color: #008000\">Completed</span>()\n",
       "</pre>\n"
      ],
      "text/plain": [
       "17:14:50.577 | \u001b[36mINFO\u001b[0m    | Task run 'query_pool_snaps-60635b41-44' - Finished in state \u001b[32mCompleted\u001b[0m()\n"
      ]
     },
     "metadata": {},
     "output_type": "display_data"
    },
    {
     "data": {
      "text/html": [
       "<pre style=\"white-space:pre;overflow-x:auto;line-height:normal;font-family:Menlo,'DejaVu Sans Mono',consolas,'Courier New',monospace\">17:14:51.006 | <span style=\"color: #008080; text-decoration-color: #008080\">INFO</span>    | Flow run<span style=\"color: #800080; text-decoration-color: #800080\"> 'independent-jacamar'</span> - Created task run 'query_pool_vol-8bdd8db3-21' for task 'query_pool_vol'\n",
       "</pre>\n"
      ],
      "text/plain": [
       "17:14:51.006 | \u001b[36mINFO\u001b[0m    | Flow run\u001b[35m 'independent-jacamar'\u001b[0m - Created task run 'query_pool_vol-8bdd8db3-21' for task 'query_pool_vol'\n"
      ]
     },
     "metadata": {},
     "output_type": "display_data"
    },
    {
     "data": {
      "text/html": [
       "<pre style=\"white-space:pre;overflow-x:auto;line-height:normal;font-family:Menlo,'DejaVu Sans Mono',consolas,'Courier New',monospace\">17:14:51.007 | <span style=\"color: #008080; text-decoration-color: #008080\">INFO</span>    | Flow run<span style=\"color: #800080; text-decoration-color: #800080\"> 'independent-jacamar'</span> - Submitted task run 'query_pool_vol-8bdd8db3-21' for execution.\n",
       "</pre>\n"
      ],
      "text/plain": [
       "17:14:51.007 | \u001b[36mINFO\u001b[0m    | Flow run\u001b[35m 'independent-jacamar'\u001b[0m - Submitted task run 'query_pool_vol-8bdd8db3-21' for execution.\n"
      ]
     },
     "metadata": {},
     "output_type": "display_data"
    },
    {
     "data": {
      "text/html": [
       "<pre style=\"white-space:pre;overflow-x:auto;line-height:normal;font-family:Menlo,'DejaVu Sans Mono',consolas,'Courier New',monospace\">17:14:51.018 | <span style=\"color: #008080; text-decoration-color: #008080\">INFO</span>    | Task run 'query_pool_vol-8bdd8db3-37' - Finished in state <span style=\"color: #008000; text-decoration-color: #008000\">Completed</span>()\n",
       "</pre>\n"
      ],
      "text/plain": [
       "17:14:51.018 | \u001b[36mINFO\u001b[0m    | Task run 'query_pool_vol-8bdd8db3-37' - Finished in state \u001b[32mCompleted\u001b[0m()\n"
      ]
     },
     "metadata": {},
     "output_type": "display_data"
    },
    {
     "data": {
      "text/html": [
       "<pre style=\"white-space:pre;overflow-x:auto;line-height:normal;font-family:Menlo,'DejaVu Sans Mono',consolas,'Courier New',monospace\">17:14:51.026 | <span style=\"color: #008080; text-decoration-color: #008080\">INFO</span>    | Task run 'query_pool_vol-8bdd8db3-20' - Finished in state <span style=\"color: #008000; text-decoration-color: #008000\">Completed</span>()\n",
       "</pre>\n"
      ],
      "text/plain": [
       "17:14:51.026 | \u001b[36mINFO\u001b[0m    | Task run 'query_pool_vol-8bdd8db3-20' - Finished in state \u001b[32mCompleted\u001b[0m()\n"
      ]
     },
     "metadata": {},
     "output_type": "display_data"
    },
    {
     "data": {
      "text/html": [
       "<pre style=\"white-space:pre;overflow-x:auto;line-height:normal;font-family:Menlo,'DejaVu Sans Mono',consolas,'Courier New',monospace\">17:14:51.039 | <span style=\"color: #008080; text-decoration-color: #008080\">INFO</span>    | Task run 'query_pool_vol-8bdd8db3-7' - Finished in state <span style=\"color: #008000; text-decoration-color: #008000\">Completed</span>()\n",
       "</pre>\n"
      ],
      "text/plain": [
       "17:14:51.039 | \u001b[36mINFO\u001b[0m    | Task run 'query_pool_vol-8bdd8db3-7' - Finished in state \u001b[32mCompleted\u001b[0m()\n"
      ]
     },
     "metadata": {},
     "output_type": "display_data"
    },
    {
     "data": {
      "text/html": [
       "<pre style=\"white-space:pre;overflow-x:auto;line-height:normal;font-family:Menlo,'DejaVu Sans Mono',consolas,'Courier New',monospace\">17:14:51.049 | <span style=\"color: #008080; text-decoration-color: #008080\">INFO</span>    | Flow run<span style=\"color: #800080; text-decoration-color: #800080\"> 'independent-jacamar'</span> - Created task run 'query_pool_vol-8bdd8db3-5' for task 'query_pool_vol'\n",
       "</pre>\n"
      ],
      "text/plain": [
       "17:14:51.049 | \u001b[36mINFO\u001b[0m    | Flow run\u001b[35m 'independent-jacamar'\u001b[0m - Created task run 'query_pool_vol-8bdd8db3-5' for task 'query_pool_vol'\n"
      ]
     },
     "metadata": {},
     "output_type": "display_data"
    },
    {
     "data": {
      "text/html": [
       "<pre style=\"white-space:pre;overflow-x:auto;line-height:normal;font-family:Menlo,'DejaVu Sans Mono',consolas,'Courier New',monospace\">17:14:51.050 | <span style=\"color: #008080; text-decoration-color: #008080\">INFO</span>    | Flow run<span style=\"color: #800080; text-decoration-color: #800080\"> 'independent-jacamar'</span> - Submitted task run 'query_pool_vol-8bdd8db3-5' for execution.\n",
       "</pre>\n"
      ],
      "text/plain": [
       "17:14:51.050 | \u001b[36mINFO\u001b[0m    | Flow run\u001b[35m 'independent-jacamar'\u001b[0m - Submitted task run 'query_pool_vol-8bdd8db3-5' for execution.\n"
      ]
     },
     "metadata": {},
     "output_type": "display_data"
    },
    {
     "data": {
      "text/html": [
       "<pre style=\"white-space:pre;overflow-x:auto;line-height:normal;font-family:Menlo,'DejaVu Sans Mono',consolas,'Courier New',monospace\">17:14:51.059 | <span style=\"color: #008080; text-decoration-color: #008080\">INFO</span>    | Flow run<span style=\"color: #800080; text-decoration-color: #800080\"> 'independent-jacamar'</span> - Created task run 'query_pool_vol-8bdd8db3-50' for task 'query_pool_vol'\n",
       "</pre>\n"
      ],
      "text/plain": [
       "17:14:51.059 | \u001b[36mINFO\u001b[0m    | Flow run\u001b[35m 'independent-jacamar'\u001b[0m - Created task run 'query_pool_vol-8bdd8db3-50' for task 'query_pool_vol'\n"
      ]
     },
     "metadata": {},
     "output_type": "display_data"
    },
    {
     "data": {
      "text/html": [
       "<pre style=\"white-space:pre;overflow-x:auto;line-height:normal;font-family:Menlo,'DejaVu Sans Mono',consolas,'Courier New',monospace\">17:14:51.060 | <span style=\"color: #008080; text-decoration-color: #008080\">INFO</span>    | Flow run<span style=\"color: #800080; text-decoration-color: #800080\"> 'independent-jacamar'</span> - Submitted task run 'query_pool_vol-8bdd8db3-50' for execution.\n",
       "</pre>\n"
      ],
      "text/plain": [
       "17:14:51.060 | \u001b[36mINFO\u001b[0m    | Flow run\u001b[35m 'independent-jacamar'\u001b[0m - Submitted task run 'query_pool_vol-8bdd8db3-50' for execution.\n"
      ]
     },
     "metadata": {},
     "output_type": "display_data"
    },
    {
     "data": {
      "text/html": [
       "<pre style=\"white-space:pre;overflow-x:auto;line-height:normal;font-family:Menlo,'DejaVu Sans Mono',consolas,'Courier New',monospace\">17:14:51.071 | <span style=\"color: #008080; text-decoration-color: #008080\">INFO</span>    | Flow run<span style=\"color: #800080; text-decoration-color: #800080\"> 'independent-jacamar'</span> - Created task run 'query_pool_vol-8bdd8db3-25' for task 'query_pool_vol'\n",
       "</pre>\n"
      ],
      "text/plain": [
       "17:14:51.071 | \u001b[36mINFO\u001b[0m    | Flow run\u001b[35m 'independent-jacamar'\u001b[0m - Created task run 'query_pool_vol-8bdd8db3-25' for task 'query_pool_vol'\n"
      ]
     },
     "metadata": {},
     "output_type": "display_data"
    },
    {
     "data": {
      "text/html": [
       "<pre style=\"white-space:pre;overflow-x:auto;line-height:normal;font-family:Menlo,'DejaVu Sans Mono',consolas,'Courier New',monospace\">17:14:51.072 | <span style=\"color: #008080; text-decoration-color: #008080\">INFO</span>    | Flow run<span style=\"color: #800080; text-decoration-color: #800080\"> 'independent-jacamar'</span> - Submitted task run 'query_pool_vol-8bdd8db3-25' for execution.\n",
       "</pre>\n"
      ],
      "text/plain": [
       "17:14:51.072 | \u001b[36mINFO\u001b[0m    | Flow run\u001b[35m 'independent-jacamar'\u001b[0m - Submitted task run 'query_pool_vol-8bdd8db3-25' for execution.\n"
      ]
     },
     "metadata": {},
     "output_type": "display_data"
    },
    {
     "data": {
      "text/html": [
       "<pre style=\"white-space:pre;overflow-x:auto;line-height:normal;font-family:Menlo,'DejaVu Sans Mono',consolas,'Courier New',monospace\">17:14:51.084 | <span style=\"color: #008080; text-decoration-color: #008080\">INFO</span>    | Flow run<span style=\"color: #800080; text-decoration-color: #800080\"> 'independent-jacamar'</span> - Created task run 'query_pool_snaps-60635b41-57' for task 'query_pool_snaps'\n",
       "</pre>\n"
      ],
      "text/plain": [
       "17:14:51.084 | \u001b[36mINFO\u001b[0m    | Flow run\u001b[35m 'independent-jacamar'\u001b[0m - Created task run 'query_pool_snaps-60635b41-57' for task 'query_pool_snaps'\n"
      ]
     },
     "metadata": {},
     "output_type": "display_data"
    },
    {
     "data": {
      "text/html": [
       "<pre style=\"white-space:pre;overflow-x:auto;line-height:normal;font-family:Menlo,'DejaVu Sans Mono',consolas,'Courier New',monospace\">17:14:51.085 | <span style=\"color: #008080; text-decoration-color: #008080\">INFO</span>    | Flow run<span style=\"color: #800080; text-decoration-color: #800080\"> 'independent-jacamar'</span> - Submitted task run 'query_pool_snaps-60635b41-57' for execution.\n",
       "</pre>\n"
      ],
      "text/plain": [
       "17:14:51.085 | \u001b[36mINFO\u001b[0m    | Flow run\u001b[35m 'independent-jacamar'\u001b[0m - Submitted task run 'query_pool_snaps-60635b41-57' for execution.\n"
      ]
     },
     "metadata": {},
     "output_type": "display_data"
    },
    {
     "data": {
      "text/html": [
       "<pre style=\"white-space:pre;overflow-x:auto;line-height:normal;font-family:Menlo,'DejaVu Sans Mono',consolas,'Courier New',monospace\">17:14:51.115 | <span style=\"color: #008080; text-decoration-color: #008080\">INFO</span>    | Flow run<span style=\"color: #800080; text-decoration-color: #800080\"> 'independent-jacamar'</span> - Created task run 'query_pool_vol-8bdd8db3-12' for task 'query_pool_vol'\n",
       "</pre>\n"
      ],
      "text/plain": [
       "17:14:51.115 | \u001b[36mINFO\u001b[0m    | Flow run\u001b[35m 'independent-jacamar'\u001b[0m - Created task run 'query_pool_vol-8bdd8db3-12' for task 'query_pool_vol'\n"
      ]
     },
     "metadata": {},
     "output_type": "display_data"
    },
    {
     "data": {
      "text/html": [
       "<pre style=\"white-space:pre;overflow-x:auto;line-height:normal;font-family:Menlo,'DejaVu Sans Mono',consolas,'Courier New',monospace\">17:14:51.116 | <span style=\"color: #008080; text-decoration-color: #008080\">INFO</span>    | Flow run<span style=\"color: #800080; text-decoration-color: #800080\"> 'independent-jacamar'</span> - Submitted task run 'query_pool_vol-8bdd8db3-12' for execution.\n",
       "</pre>\n"
      ],
      "text/plain": [
       "17:14:51.116 | \u001b[36mINFO\u001b[0m    | Flow run\u001b[35m 'independent-jacamar'\u001b[0m - Submitted task run 'query_pool_vol-8bdd8db3-12' for execution.\n"
      ]
     },
     "metadata": {},
     "output_type": "display_data"
    },
    {
     "data": {
      "text/html": [
       "<pre style=\"white-space:pre;overflow-x:auto;line-height:normal;font-family:Menlo,'DejaVu Sans Mono',consolas,'Courier New',monospace\">17:14:51.129 | <span style=\"color: #008080; text-decoration-color: #008080\">INFO</span>    | Flow run<span style=\"color: #800080; text-decoration-color: #800080\"> 'independent-jacamar'</span> - Created task run 'query_pool_vol-8bdd8db3-19' for task 'query_pool_vol'\n",
       "</pre>\n"
      ],
      "text/plain": [
       "17:14:51.129 | \u001b[36mINFO\u001b[0m    | Flow run\u001b[35m 'independent-jacamar'\u001b[0m - Created task run 'query_pool_vol-8bdd8db3-19' for task 'query_pool_vol'\n"
      ]
     },
     "metadata": {},
     "output_type": "display_data"
    },
    {
     "data": {
      "text/html": [
       "<pre style=\"white-space:pre;overflow-x:auto;line-height:normal;font-family:Menlo,'DejaVu Sans Mono',consolas,'Courier New',monospace\">17:14:51.129 | <span style=\"color: #008080; text-decoration-color: #008080\">INFO</span>    | Flow run<span style=\"color: #800080; text-decoration-color: #800080\"> 'independent-jacamar'</span> - Submitted task run 'query_pool_vol-8bdd8db3-19' for execution.\n",
       "</pre>\n"
      ],
      "text/plain": [
       "17:14:51.129 | \u001b[36mINFO\u001b[0m    | Flow run\u001b[35m 'independent-jacamar'\u001b[0m - Submitted task run 'query_pool_vol-8bdd8db3-19' for execution.\n"
      ]
     },
     "metadata": {},
     "output_type": "display_data"
    },
    {
     "data": {
      "text/html": [
       "<pre style=\"white-space:pre;overflow-x:auto;line-height:normal;font-family:Menlo,'DejaVu Sans Mono',consolas,'Courier New',monospace\">17:14:51.139 | <span style=\"color: #008080; text-decoration-color: #008080\">INFO</span>    | Task run 'query_pool_vol-8bdd8db3-61' - Finished in state <span style=\"color: #008000; text-decoration-color: #008000\">Completed</span>()\n",
       "</pre>\n"
      ],
      "text/plain": [
       "17:14:51.139 | \u001b[36mINFO\u001b[0m    | Task run 'query_pool_vol-8bdd8db3-61' - Finished in state \u001b[32mCompleted\u001b[0m()\n"
      ]
     },
     "metadata": {},
     "output_type": "display_data"
    },
    {
     "data": {
      "text/html": [
       "<pre style=\"white-space:pre;overflow-x:auto;line-height:normal;font-family:Menlo,'DejaVu Sans Mono',consolas,'Courier New',monospace\">17:14:51.379 | <span style=\"color: #008080; text-decoration-color: #008080\">INFO</span>    | Task run 'query_pool_snaps-60635b41-38' - Finished in state <span style=\"color: #008000; text-decoration-color: #008000\">Completed</span>()\n",
       "</pre>\n"
      ],
      "text/plain": [
       "17:14:51.379 | \u001b[36mINFO\u001b[0m    | Task run 'query_pool_snaps-60635b41-38' - Finished in state \u001b[32mCompleted\u001b[0m()\n"
      ]
     },
     "metadata": {},
     "output_type": "display_data"
    },
    {
     "data": {
      "text/html": [
       "<pre style=\"white-space:pre;overflow-x:auto;line-height:normal;font-family:Menlo,'DejaVu Sans Mono',consolas,'Courier New',monospace\">17:14:51.388 | <span style=\"color: #008080; text-decoration-color: #008080\">INFO</span>    | Flow run<span style=\"color: #800080; text-decoration-color: #800080\"> 'independent-jacamar'</span> - Created task run 'query_pool_vol-8bdd8db3-54' for task 'query_pool_vol'\n",
       "</pre>\n"
      ],
      "text/plain": [
       "17:14:51.388 | \u001b[36mINFO\u001b[0m    | Flow run\u001b[35m 'independent-jacamar'\u001b[0m - Created task run 'query_pool_vol-8bdd8db3-54' for task 'query_pool_vol'\n"
      ]
     },
     "metadata": {},
     "output_type": "display_data"
    },
    {
     "data": {
      "text/html": [
       "<pre style=\"white-space:pre;overflow-x:auto;line-height:normal;font-family:Menlo,'DejaVu Sans Mono',consolas,'Courier New',monospace\">17:14:51.389 | <span style=\"color: #008080; text-decoration-color: #008080\">INFO</span>    | Flow run<span style=\"color: #800080; text-decoration-color: #800080\"> 'independent-jacamar'</span> - Submitted task run 'query_pool_vol-8bdd8db3-54' for execution.\n",
       "</pre>\n"
      ],
      "text/plain": [
       "17:14:51.389 | \u001b[36mINFO\u001b[0m    | Flow run\u001b[35m 'independent-jacamar'\u001b[0m - Submitted task run 'query_pool_vol-8bdd8db3-54' for execution.\n"
      ]
     },
     "metadata": {},
     "output_type": "display_data"
    },
    {
     "data": {
      "text/html": [
       "<pre style=\"white-space:pre;overflow-x:auto;line-height:normal;font-family:Menlo,'DejaVu Sans Mono',consolas,'Courier New',monospace\">17:14:51.396 | <span style=\"color: #008080; text-decoration-color: #008080\">INFO</span>    | Task run 'query_pool_snaps-60635b41-37' - Finished in state <span style=\"color: #008000; text-decoration-color: #008000\">Completed</span>()\n",
       "</pre>\n"
      ],
      "text/plain": [
       "17:14:51.396 | \u001b[36mINFO\u001b[0m    | Task run 'query_pool_snaps-60635b41-37' - Finished in state \u001b[32mCompleted\u001b[0m()\n"
      ]
     },
     "metadata": {},
     "output_type": "display_data"
    },
    {
     "data": {
      "text/html": [
       "<pre style=\"white-space:pre;overflow-x:auto;line-height:normal;font-family:Menlo,'DejaVu Sans Mono',consolas,'Courier New',monospace\">17:14:51.447 | <span style=\"color: #008080; text-decoration-color: #008080\">INFO</span>    | Task run 'query_pool_vol-8bdd8db3-21' - Finished in state <span style=\"color: #008000; text-decoration-color: #008000\">Completed</span>()\n",
       "</pre>\n"
      ],
      "text/plain": [
       "17:14:51.447 | \u001b[36mINFO\u001b[0m    | Task run 'query_pool_vol-8bdd8db3-21' - Finished in state \u001b[32mCompleted\u001b[0m()\n"
      ]
     },
     "metadata": {},
     "output_type": "display_data"
    },
    {
     "data": {
      "text/html": [
       "<pre style=\"white-space:pre;overflow-x:auto;line-height:normal;font-family:Menlo,'DejaVu Sans Mono',consolas,'Courier New',monospace\">17:14:51.702 | <span style=\"color: #008080; text-decoration-color: #008080\">INFO</span>    | Flow run<span style=\"color: #800080; text-decoration-color: #800080\"> 'independent-jacamar'</span> - Created task run 'query_pool_snaps-60635b41-53' for task 'query_pool_snaps'\n",
       "</pre>\n"
      ],
      "text/plain": [
       "17:14:51.702 | \u001b[36mINFO\u001b[0m    | Flow run\u001b[35m 'independent-jacamar'\u001b[0m - Created task run 'query_pool_snaps-60635b41-53' for task 'query_pool_snaps'\n"
      ]
     },
     "metadata": {},
     "output_type": "display_data"
    },
    {
     "data": {
      "text/html": [
       "<pre style=\"white-space:pre;overflow-x:auto;line-height:normal;font-family:Menlo,'DejaVu Sans Mono',consolas,'Courier New',monospace\">17:14:51.703 | <span style=\"color: #008080; text-decoration-color: #008080\">INFO</span>    | Flow run<span style=\"color: #800080; text-decoration-color: #800080\"> 'independent-jacamar'</span> - Submitted task run 'query_pool_snaps-60635b41-53' for execution.\n",
       "</pre>\n"
      ],
      "text/plain": [
       "17:14:51.703 | \u001b[36mINFO\u001b[0m    | Flow run\u001b[35m 'independent-jacamar'\u001b[0m - Submitted task run 'query_pool_snaps-60635b41-53' for execution.\n"
      ]
     },
     "metadata": {},
     "output_type": "display_data"
    },
    {
     "data": {
      "text/html": [
       "<pre style=\"white-space:pre;overflow-x:auto;line-height:normal;font-family:Menlo,'DejaVu Sans Mono',consolas,'Courier New',monospace\">17:14:51.726 | <span style=\"color: #008080; text-decoration-color: #008080\">INFO</span>    | Task run 'query_pool_snaps-60635b41-0' - Finished in state <span style=\"color: #008000; text-decoration-color: #008000\">Completed</span>()\n",
       "</pre>\n"
      ],
      "text/plain": [
       "17:14:51.726 | \u001b[36mINFO\u001b[0m    | Task run 'query_pool_snaps-60635b41-0' - Finished in state \u001b[32mCompleted\u001b[0m()\n"
      ]
     },
     "metadata": {},
     "output_type": "display_data"
    },
    {
     "data": {
      "text/html": [
       "<pre style=\"white-space:pre;overflow-x:auto;line-height:normal;font-family:Menlo,'DejaVu Sans Mono',consolas,'Courier New',monospace\">17:14:51.732 | <span style=\"color: #008080; text-decoration-color: #008080\">INFO</span>    | Task run 'query_pool_vol-8bdd8db3-50' - Finished in state <span style=\"color: #008000; text-decoration-color: #008000\">Completed</span>()\n",
       "</pre>\n"
      ],
      "text/plain": [
       "17:14:51.732 | \u001b[36mINFO\u001b[0m    | Task run 'query_pool_vol-8bdd8db3-50' - Finished in state \u001b[32mCompleted\u001b[0m()\n"
      ]
     },
     "metadata": {},
     "output_type": "display_data"
    },
    {
     "data": {
      "text/html": [
       "<pre style=\"white-space:pre;overflow-x:auto;line-height:normal;font-family:Menlo,'DejaVu Sans Mono',consolas,'Courier New',monospace\">17:14:51.742 | <span style=\"color: #008080; text-decoration-color: #008080\">INFO</span>    | Task run 'query_pool_vol-8bdd8db3-5' - Finished in state <span style=\"color: #008000; text-decoration-color: #008000\">Completed</span>()\n",
       "</pre>\n"
      ],
      "text/plain": [
       "17:14:51.742 | \u001b[36mINFO\u001b[0m    | Task run 'query_pool_vol-8bdd8db3-5' - Finished in state \u001b[32mCompleted\u001b[0m()\n"
      ]
     },
     "metadata": {},
     "output_type": "display_data"
    },
    {
     "data": {
      "text/html": [
       "<pre style=\"white-space:pre;overflow-x:auto;line-height:normal;font-family:Menlo,'DejaVu Sans Mono',consolas,'Courier New',monospace\">17:14:51.759 | <span style=\"color: #008080; text-decoration-color: #008080\">INFO</span>    | Flow run<span style=\"color: #800080; text-decoration-color: #800080\"> 'independent-jacamar'</span> - Created task run 'query_pool_vol-8bdd8db3-47' for task 'query_pool_vol'\n",
       "</pre>\n"
      ],
      "text/plain": [
       "17:14:51.759 | \u001b[36mINFO\u001b[0m    | Flow run\u001b[35m 'independent-jacamar'\u001b[0m - Created task run 'query_pool_vol-8bdd8db3-47' for task 'query_pool_vol'\n"
      ]
     },
     "metadata": {},
     "output_type": "display_data"
    },
    {
     "data": {
      "text/html": [
       "<pre style=\"white-space:pre;overflow-x:auto;line-height:normal;font-family:Menlo,'DejaVu Sans Mono',consolas,'Courier New',monospace\">17:14:51.760 | <span style=\"color: #008080; text-decoration-color: #008080\">INFO</span>    | Flow run<span style=\"color: #800080; text-decoration-color: #800080\"> 'independent-jacamar'</span> - Submitted task run 'query_pool_vol-8bdd8db3-47' for execution.\n",
       "</pre>\n"
      ],
      "text/plain": [
       "17:14:51.760 | \u001b[36mINFO\u001b[0m    | Flow run\u001b[35m 'independent-jacamar'\u001b[0m - Submitted task run 'query_pool_vol-8bdd8db3-47' for execution.\n"
      ]
     },
     "metadata": {},
     "output_type": "display_data"
    },
    {
     "data": {
      "text/html": [
       "<pre style=\"white-space:pre;overflow-x:auto;line-height:normal;font-family:Menlo,'DejaVu Sans Mono',consolas,'Courier New',monospace\">17:14:51.772 | <span style=\"color: #008080; text-decoration-color: #008080\">INFO</span>    | Flow run<span style=\"color: #800080; text-decoration-color: #800080\"> 'independent-jacamar'</span> - Created task run 'query_pool_vol-8bdd8db3-36' for task 'query_pool_vol'\n",
       "</pre>\n"
      ],
      "text/plain": [
       "17:14:51.772 | \u001b[36mINFO\u001b[0m    | Flow run\u001b[35m 'independent-jacamar'\u001b[0m - Created task run 'query_pool_vol-8bdd8db3-36' for task 'query_pool_vol'\n"
      ]
     },
     "metadata": {},
     "output_type": "display_data"
    },
    {
     "data": {
      "text/html": [
       "<pre style=\"white-space:pre;overflow-x:auto;line-height:normal;font-family:Menlo,'DejaVu Sans Mono',consolas,'Courier New',monospace\">17:14:51.773 | <span style=\"color: #008080; text-decoration-color: #008080\">INFO</span>    | Flow run<span style=\"color: #800080; text-decoration-color: #800080\"> 'independent-jacamar'</span> - Submitted task run 'query_pool_vol-8bdd8db3-36' for execution.\n",
       "</pre>\n"
      ],
      "text/plain": [
       "17:14:51.773 | \u001b[36mINFO\u001b[0m    | Flow run\u001b[35m 'independent-jacamar'\u001b[0m - Submitted task run 'query_pool_vol-8bdd8db3-36' for execution.\n"
      ]
     },
     "metadata": {},
     "output_type": "display_data"
    },
    {
     "data": {
      "text/html": [
       "<pre style=\"white-space:pre;overflow-x:auto;line-height:normal;font-family:Menlo,'DejaVu Sans Mono',consolas,'Courier New',monospace\">17:14:51.787 | <span style=\"color: #008080; text-decoration-color: #008080\">INFO</span>    | Task run 'query_pool_snaps-60635b41-15' - Finished in state <span style=\"color: #008000; text-decoration-color: #008000\">Completed</span>()\n",
       "</pre>\n"
      ],
      "text/plain": [
       "17:14:51.787 | \u001b[36mINFO\u001b[0m    | Task run 'query_pool_snaps-60635b41-15' - Finished in state \u001b[32mCompleted\u001b[0m()\n"
      ]
     },
     "metadata": {},
     "output_type": "display_data"
    },
    {
     "data": {
      "text/html": [
       "<pre style=\"white-space:pre;overflow-x:auto;line-height:normal;font-family:Menlo,'DejaVu Sans Mono',consolas,'Courier New',monospace\">17:14:51.832 | <span style=\"color: #008080; text-decoration-color: #008080\">INFO</span>    | Flow run<span style=\"color: #800080; text-decoration-color: #800080\"> 'independent-jacamar'</span> - Created task run 'query_pool_vol-8bdd8db3-60' for task 'query_pool_vol'\n",
       "</pre>\n"
      ],
      "text/plain": [
       "17:14:51.832 | \u001b[36mINFO\u001b[0m    | Flow run\u001b[35m 'independent-jacamar'\u001b[0m - Created task run 'query_pool_vol-8bdd8db3-60' for task 'query_pool_vol'\n"
      ]
     },
     "metadata": {},
     "output_type": "display_data"
    },
    {
     "data": {
      "text/html": [
       "<pre style=\"white-space:pre;overflow-x:auto;line-height:normal;font-family:Menlo,'DejaVu Sans Mono',consolas,'Courier New',monospace\">17:14:51.833 | <span style=\"color: #008080; text-decoration-color: #008080\">INFO</span>    | Flow run<span style=\"color: #800080; text-decoration-color: #800080\"> 'independent-jacamar'</span> - Submitted task run 'query_pool_vol-8bdd8db3-60' for execution.\n",
       "</pre>\n"
      ],
      "text/plain": [
       "17:14:51.833 | \u001b[36mINFO\u001b[0m    | Flow run\u001b[35m 'independent-jacamar'\u001b[0m - Submitted task run 'query_pool_vol-8bdd8db3-60' for execution.\n"
      ]
     },
     "metadata": {},
     "output_type": "display_data"
    },
    {
     "data": {
      "text/html": [
       "<pre style=\"white-space:pre;overflow-x:auto;line-height:normal;font-family:Menlo,'DejaVu Sans Mono',consolas,'Courier New',monospace\">17:14:51.848 | <span style=\"color: #008080; text-decoration-color: #008080\">INFO</span>    | Flow run<span style=\"color: #800080; text-decoration-color: #800080\"> 'independent-jacamar'</span> - Created task run 'query_pool_vol-8bdd8db3-16' for task 'query_pool_vol'\n",
       "</pre>\n"
      ],
      "text/plain": [
       "17:14:51.848 | \u001b[36mINFO\u001b[0m    | Flow run\u001b[35m 'independent-jacamar'\u001b[0m - Created task run 'query_pool_vol-8bdd8db3-16' for task 'query_pool_vol'\n"
      ]
     },
     "metadata": {},
     "output_type": "display_data"
    },
    {
     "data": {
      "text/html": [
       "<pre style=\"white-space:pre;overflow-x:auto;line-height:normal;font-family:Menlo,'DejaVu Sans Mono',consolas,'Courier New',monospace\">17:14:51.849 | <span style=\"color: #008080; text-decoration-color: #008080\">INFO</span>    | Flow run<span style=\"color: #800080; text-decoration-color: #800080\"> 'independent-jacamar'</span> - Submitted task run 'query_pool_vol-8bdd8db3-16' for execution.\n",
       "</pre>\n"
      ],
      "text/plain": [
       "17:14:51.849 | \u001b[36mINFO\u001b[0m    | Flow run\u001b[35m 'independent-jacamar'\u001b[0m - Submitted task run 'query_pool_vol-8bdd8db3-16' for execution.\n"
      ]
     },
     "metadata": {},
     "output_type": "display_data"
    },
    {
     "data": {
      "text/html": [
       "<pre style=\"white-space:pre;overflow-x:auto;line-height:normal;font-family:Menlo,'DejaVu Sans Mono',consolas,'Courier New',monospace\">17:14:51.864 | <span style=\"color: #008080; text-decoration-color: #008080\">INFO</span>    | Task run 'query_pool_snaps-60635b41-8' - Finished in state <span style=\"color: #008000; text-decoration-color: #008000\">Completed</span>()\n",
       "</pre>\n"
      ],
      "text/plain": [
       "17:14:51.864 | \u001b[36mINFO\u001b[0m    | Task run 'query_pool_snaps-60635b41-8' - Finished in state \u001b[32mCompleted\u001b[0m()\n"
      ]
     },
     "metadata": {},
     "output_type": "display_data"
    },
    {
     "data": {
      "text/html": [
       "<pre style=\"white-space:pre;overflow-x:auto;line-height:normal;font-family:Menlo,'DejaVu Sans Mono',consolas,'Courier New',monospace\">17:14:51.873 | <span style=\"color: #008080; text-decoration-color: #008080\">INFO</span>    | Flow run<span style=\"color: #800080; text-decoration-color: #800080\"> 'independent-jacamar'</span> - Created task run 'query_pool_vol-8bdd8db3-35' for task 'query_pool_vol'\n",
       "</pre>\n"
      ],
      "text/plain": [
       "17:14:51.873 | \u001b[36mINFO\u001b[0m    | Flow run\u001b[35m 'independent-jacamar'\u001b[0m - Created task run 'query_pool_vol-8bdd8db3-35' for task 'query_pool_vol'\n"
      ]
     },
     "metadata": {},
     "output_type": "display_data"
    },
    {
     "data": {
      "text/html": [
       "<pre style=\"white-space:pre;overflow-x:auto;line-height:normal;font-family:Menlo,'DejaVu Sans Mono',consolas,'Courier New',monospace\">17:14:51.874 | <span style=\"color: #008080; text-decoration-color: #008080\">INFO</span>    | Flow run<span style=\"color: #800080; text-decoration-color: #800080\"> 'independent-jacamar'</span> - Submitted task run 'query_pool_vol-8bdd8db3-35' for execution.\n",
       "</pre>\n"
      ],
      "text/plain": [
       "17:14:51.874 | \u001b[36mINFO\u001b[0m    | Flow run\u001b[35m 'independent-jacamar'\u001b[0m - Submitted task run 'query_pool_vol-8bdd8db3-35' for execution.\n"
      ]
     },
     "metadata": {},
     "output_type": "display_data"
    },
    {
     "data": {
      "text/html": [
       "<pre style=\"white-space:pre;overflow-x:auto;line-height:normal;font-family:Menlo,'DejaVu Sans Mono',consolas,'Courier New',monospace\">17:14:51.897 | <span style=\"color: #008080; text-decoration-color: #008080\">INFO</span>    | Task run 'query_pool_vol-8bdd8db3-32' - Finished in state <span style=\"color: #008000; text-decoration-color: #008000\">Completed</span>()\n",
       "</pre>\n"
      ],
      "text/plain": [
       "17:14:51.897 | \u001b[36mINFO\u001b[0m    | Task run 'query_pool_vol-8bdd8db3-32' - Finished in state \u001b[32mCompleted\u001b[0m()\n"
      ]
     },
     "metadata": {},
     "output_type": "display_data"
    },
    {
     "data": {
      "text/html": [
       "<pre style=\"white-space:pre;overflow-x:auto;line-height:normal;font-family:Menlo,'DejaVu Sans Mono',consolas,'Courier New',monospace\">17:14:51.917 | <span style=\"color: #008080; text-decoration-color: #008080\">INFO</span>    | Task run 'query_pool_snaps-60635b41-29' - Finished in state <span style=\"color: #008000; text-decoration-color: #008000\">Completed</span>()\n",
       "</pre>\n"
      ],
      "text/plain": [
       "17:14:51.917 | \u001b[36mINFO\u001b[0m    | Task run 'query_pool_snaps-60635b41-29' - Finished in state \u001b[32mCompleted\u001b[0m()\n"
      ]
     },
     "metadata": {},
     "output_type": "display_data"
    },
    {
     "data": {
      "text/html": [
       "<pre style=\"white-space:pre;overflow-x:auto;line-height:normal;font-family:Menlo,'DejaVu Sans Mono',consolas,'Courier New',monospace\">17:14:51.928 | <span style=\"color: #008080; text-decoration-color: #008080\">INFO</span>    | Flow run<span style=\"color: #800080; text-decoration-color: #800080\"> 'independent-jacamar'</span> - Created task run 'query_pool_snaps-60635b41-60' for task 'query_pool_snaps'\n",
       "</pre>\n"
      ],
      "text/plain": [
       "17:14:51.928 | \u001b[36mINFO\u001b[0m    | Flow run\u001b[35m 'independent-jacamar'\u001b[0m - Created task run 'query_pool_snaps-60635b41-60' for task 'query_pool_snaps'\n"
      ]
     },
     "metadata": {},
     "output_type": "display_data"
    },
    {
     "data": {
      "text/html": [
       "<pre style=\"white-space:pre;overflow-x:auto;line-height:normal;font-family:Menlo,'DejaVu Sans Mono',consolas,'Courier New',monospace\">17:14:51.929 | <span style=\"color: #008080; text-decoration-color: #008080\">INFO</span>    | Flow run<span style=\"color: #800080; text-decoration-color: #800080\"> 'independent-jacamar'</span> - Submitted task run 'query_pool_snaps-60635b41-60' for execution.\n",
       "</pre>\n"
      ],
      "text/plain": [
       "17:14:51.929 | \u001b[36mINFO\u001b[0m    | Flow run\u001b[35m 'independent-jacamar'\u001b[0m - Submitted task run 'query_pool_snaps-60635b41-60' for execution.\n"
      ]
     },
     "metadata": {},
     "output_type": "display_data"
    },
    {
     "data": {
      "text/html": [
       "<pre style=\"white-space:pre;overflow-x:auto;line-height:normal;font-family:Menlo,'DejaVu Sans Mono',consolas,'Courier New',monospace\">17:14:51.937 | <span style=\"color: #008080; text-decoration-color: #008080\">INFO</span>    | Task run 'query_pool_vol-8bdd8db3-25' - Finished in state <span style=\"color: #008000; text-decoration-color: #008000\">Completed</span>()\n",
       "</pre>\n"
      ],
      "text/plain": [
       "17:14:51.937 | \u001b[36mINFO\u001b[0m    | Task run 'query_pool_vol-8bdd8db3-25' - Finished in state \u001b[32mCompleted\u001b[0m()\n"
      ]
     },
     "metadata": {},
     "output_type": "display_data"
    },
    {
     "data": {
      "text/html": [
       "<pre style=\"white-space:pre;overflow-x:auto;line-height:normal;font-family:Menlo,'DejaVu Sans Mono',consolas,'Courier New',monospace\">17:14:51.946 | <span style=\"color: #008080; text-decoration-color: #008080\">INFO</span>    | Flow run<span style=\"color: #800080; text-decoration-color: #800080\"> 'independent-jacamar'</span> - Created task run 'query_pool_vol-8bdd8db3-58' for task 'query_pool_vol'\n",
       "</pre>\n"
      ],
      "text/plain": [
       "17:14:51.946 | \u001b[36mINFO\u001b[0m    | Flow run\u001b[35m 'independent-jacamar'\u001b[0m - Created task run 'query_pool_vol-8bdd8db3-58' for task 'query_pool_vol'\n"
      ]
     },
     "metadata": {},
     "output_type": "display_data"
    },
    {
     "data": {
      "text/html": [
       "<pre style=\"white-space:pre;overflow-x:auto;line-height:normal;font-family:Menlo,'DejaVu Sans Mono',consolas,'Courier New',monospace\">17:14:51.947 | <span style=\"color: #008080; text-decoration-color: #008080\">INFO</span>    | Flow run<span style=\"color: #800080; text-decoration-color: #800080\"> 'independent-jacamar'</span> - Submitted task run 'query_pool_vol-8bdd8db3-58' for execution.\n",
       "</pre>\n"
      ],
      "text/plain": [
       "17:14:51.947 | \u001b[36mINFO\u001b[0m    | Flow run\u001b[35m 'independent-jacamar'\u001b[0m - Submitted task run 'query_pool_vol-8bdd8db3-58' for execution.\n"
      ]
     },
     "metadata": {},
     "output_type": "display_data"
    },
    {
     "data": {
      "text/html": [
       "<pre style=\"white-space:pre;overflow-x:auto;line-height:normal;font-family:Menlo,'DejaVu Sans Mono',consolas,'Courier New',monospace\">17:14:51.966 | <span style=\"color: #008080; text-decoration-color: #008080\">INFO</span>    | Flow run<span style=\"color: #800080; text-decoration-color: #800080\"> 'independent-jacamar'</span> - Created task run 'query_pool_vol-8bdd8db3-18' for task 'query_pool_vol'\n",
       "</pre>\n"
      ],
      "text/plain": [
       "17:14:51.966 | \u001b[36mINFO\u001b[0m    | Flow run\u001b[35m 'independent-jacamar'\u001b[0m - Created task run 'query_pool_vol-8bdd8db3-18' for task 'query_pool_vol'\n"
      ]
     },
     "metadata": {},
     "output_type": "display_data"
    },
    {
     "data": {
      "text/html": [
       "<pre style=\"white-space:pre;overflow-x:auto;line-height:normal;font-family:Menlo,'DejaVu Sans Mono',consolas,'Courier New',monospace\">17:14:51.967 | <span style=\"color: #008080; text-decoration-color: #008080\">INFO</span>    | Flow run<span style=\"color: #800080; text-decoration-color: #800080\"> 'independent-jacamar'</span> - Submitted task run 'query_pool_vol-8bdd8db3-18' for execution.\n",
       "</pre>\n"
      ],
      "text/plain": [
       "17:14:51.967 | \u001b[36mINFO\u001b[0m    | Flow run\u001b[35m 'independent-jacamar'\u001b[0m - Submitted task run 'query_pool_vol-8bdd8db3-18' for execution.\n"
      ]
     },
     "metadata": {},
     "output_type": "display_data"
    },
    {
     "data": {
      "text/html": [
       "<pre style=\"white-space:pre;overflow-x:auto;line-height:normal;font-family:Menlo,'DejaVu Sans Mono',consolas,'Courier New',monospace\">17:14:52.253 | <span style=\"color: #008080; text-decoration-color: #008080\">INFO</span>    | Task run 'query_pool_snaps-60635b41-31' - Finished in state <span style=\"color: #008000; text-decoration-color: #008000\">Completed</span>()\n",
       "</pre>\n"
      ],
      "text/plain": [
       "17:14:52.253 | \u001b[36mINFO\u001b[0m    | Task run 'query_pool_snaps-60635b41-31' - Finished in state \u001b[32mCompleted\u001b[0m()\n"
      ]
     },
     "metadata": {},
     "output_type": "display_data"
    },
    {
     "data": {
      "text/html": [
       "<pre style=\"white-space:pre;overflow-x:auto;line-height:normal;font-family:Menlo,'DejaVu Sans Mono',consolas,'Courier New',monospace\">17:14:52.289 | <span style=\"color: #008080; text-decoration-color: #008080\">INFO</span>    | Flow run<span style=\"color: #800080; text-decoration-color: #800080\"> 'independent-jacamar'</span> - Created task run 'query_pool_vol-8bdd8db3-23' for task 'query_pool_vol'\n",
       "</pre>\n"
      ],
      "text/plain": [
       "17:14:52.289 | \u001b[36mINFO\u001b[0m    | Flow run\u001b[35m 'independent-jacamar'\u001b[0m - Created task run 'query_pool_vol-8bdd8db3-23' for task 'query_pool_vol'\n"
      ]
     },
     "metadata": {},
     "output_type": "display_data"
    },
    {
     "data": {
      "text/html": [
       "<pre style=\"white-space:pre;overflow-x:auto;line-height:normal;font-family:Menlo,'DejaVu Sans Mono',consolas,'Courier New',monospace\">17:14:52.291 | <span style=\"color: #008080; text-decoration-color: #008080\">INFO</span>    | Flow run<span style=\"color: #800080; text-decoration-color: #800080\"> 'independent-jacamar'</span> - Submitted task run 'query_pool_vol-8bdd8db3-23' for execution.\n",
       "</pre>\n"
      ],
      "text/plain": [
       "17:14:52.291 | \u001b[36mINFO\u001b[0m    | Flow run\u001b[35m 'independent-jacamar'\u001b[0m - Submitted task run 'query_pool_vol-8bdd8db3-23' for execution.\n"
      ]
     },
     "metadata": {},
     "output_type": "display_data"
    },
    {
     "data": {
      "text/html": [
       "<pre style=\"white-space:pre;overflow-x:auto;line-height:normal;font-family:Menlo,'DejaVu Sans Mono',consolas,'Courier New',monospace\">17:14:52.336 | <span style=\"color: #008080; text-decoration-color: #008080\">INFO</span>    | Flow run<span style=\"color: #800080; text-decoration-color: #800080\"> 'independent-jacamar'</span> - Created task run 'query_pool_snaps-60635b41-25' for task 'query_pool_snaps'\n",
       "</pre>\n"
      ],
      "text/plain": [
       "17:14:52.336 | \u001b[36mINFO\u001b[0m    | Flow run\u001b[35m 'independent-jacamar'\u001b[0m - Created task run 'query_pool_snaps-60635b41-25' for task 'query_pool_snaps'\n"
      ]
     },
     "metadata": {},
     "output_type": "display_data"
    },
    {
     "data": {
      "text/html": [
       "<pre style=\"white-space:pre;overflow-x:auto;line-height:normal;font-family:Menlo,'DejaVu Sans Mono',consolas,'Courier New',monospace\">17:14:52.337 | <span style=\"color: #008080; text-decoration-color: #008080\">INFO</span>    | Flow run<span style=\"color: #800080; text-decoration-color: #800080\"> 'independent-jacamar'</span> - Submitted task run 'query_pool_snaps-60635b41-25' for execution.\n",
       "</pre>\n"
      ],
      "text/plain": [
       "17:14:52.337 | \u001b[36mINFO\u001b[0m    | Flow run\u001b[35m 'independent-jacamar'\u001b[0m - Submitted task run 'query_pool_snaps-60635b41-25' for execution.\n"
      ]
     },
     "metadata": {},
     "output_type": "display_data"
    },
    {
     "data": {
      "text/html": [
       "<pre style=\"white-space:pre;overflow-x:auto;line-height:normal;font-family:Menlo,'DejaVu Sans Mono',consolas,'Courier New',monospace\">17:14:52.348 | <span style=\"color: #008080; text-decoration-color: #008080\">INFO</span>    | Flow run<span style=\"color: #800080; text-decoration-color: #800080\"> 'independent-jacamar'</span> - Created task run 'query_pool_snaps-60635b41-41' for task 'query_pool_snaps'\n",
       "</pre>\n"
      ],
      "text/plain": [
       "17:14:52.348 | \u001b[36mINFO\u001b[0m    | Flow run\u001b[35m 'independent-jacamar'\u001b[0m - Created task run 'query_pool_snaps-60635b41-41' for task 'query_pool_snaps'\n"
      ]
     },
     "metadata": {},
     "output_type": "display_data"
    },
    {
     "data": {
      "text/html": [
       "<pre style=\"white-space:pre;overflow-x:auto;line-height:normal;font-family:Menlo,'DejaVu Sans Mono',consolas,'Courier New',monospace\">17:14:52.349 | <span style=\"color: #008080; text-decoration-color: #008080\">INFO</span>    | Flow run<span style=\"color: #800080; text-decoration-color: #800080\"> 'independent-jacamar'</span> - Submitted task run 'query_pool_snaps-60635b41-41' for execution.\n",
       "</pre>\n"
      ],
      "text/plain": [
       "17:14:52.349 | \u001b[36mINFO\u001b[0m    | Flow run\u001b[35m 'independent-jacamar'\u001b[0m - Submitted task run 'query_pool_snaps-60635b41-41' for execution.\n"
      ]
     },
     "metadata": {},
     "output_type": "display_data"
    },
    {
     "data": {
      "text/html": [
       "<pre style=\"white-space:pre;overflow-x:auto;line-height:normal;font-family:Menlo,'DejaVu Sans Mono',consolas,'Courier New',monospace\">17:14:52.380 | <span style=\"color: #008080; text-decoration-color: #008080\">INFO</span>    | Task run 'query_pool_vol-8bdd8db3-16' - Finished in state <span style=\"color: #008000; text-decoration-color: #008000\">Completed</span>()\n",
       "</pre>\n"
      ],
      "text/plain": [
       "17:14:52.380 | \u001b[36mINFO\u001b[0m    | Task run 'query_pool_vol-8bdd8db3-16' - Finished in state \u001b[32mCompleted\u001b[0m()\n"
      ]
     },
     "metadata": {},
     "output_type": "display_data"
    },
    {
     "data": {
      "text/html": [
       "<pre style=\"white-space:pre;overflow-x:auto;line-height:normal;font-family:Menlo,'DejaVu Sans Mono',consolas,'Courier New',monospace\">17:14:52.390 | <span style=\"color: #008080; text-decoration-color: #008080\">INFO</span>    | Flow run<span style=\"color: #800080; text-decoration-color: #800080\"> 'independent-jacamar'</span> - Created task run 'query_pool_snaps-60635b41-52' for task 'query_pool_snaps'\n",
       "</pre>\n"
      ],
      "text/plain": [
       "17:14:52.390 | \u001b[36mINFO\u001b[0m    | Flow run\u001b[35m 'independent-jacamar'\u001b[0m - Created task run 'query_pool_snaps-60635b41-52' for task 'query_pool_snaps'\n"
      ]
     },
     "metadata": {},
     "output_type": "display_data"
    },
    {
     "data": {
      "text/html": [
       "<pre style=\"white-space:pre;overflow-x:auto;line-height:normal;font-family:Menlo,'DejaVu Sans Mono',consolas,'Courier New',monospace\">17:14:52.391 | <span style=\"color: #008080; text-decoration-color: #008080\">INFO</span>    | Flow run<span style=\"color: #800080; text-decoration-color: #800080\"> 'independent-jacamar'</span> - Submitted task run 'query_pool_snaps-60635b41-52' for execution.\n",
       "</pre>\n"
      ],
      "text/plain": [
       "17:14:52.391 | \u001b[36mINFO\u001b[0m    | Flow run\u001b[35m 'independent-jacamar'\u001b[0m - Submitted task run 'query_pool_snaps-60635b41-52' for execution.\n"
      ]
     },
     "metadata": {},
     "output_type": "display_data"
    },
    {
     "data": {
      "text/html": [
       "<pre style=\"white-space:pre;overflow-x:auto;line-height:normal;font-family:Menlo,'DejaVu Sans Mono',consolas,'Courier New',monospace\">17:14:52.407 | <span style=\"color: #008080; text-decoration-color: #008080\">INFO</span>    | Task run 'query_pool_vol-8bdd8db3-35' - Finished in state <span style=\"color: #008000; text-decoration-color: #008000\">Completed</span>()\n",
       "</pre>\n"
      ],
      "text/plain": [
       "17:14:52.407 | \u001b[36mINFO\u001b[0m    | Task run 'query_pool_vol-8bdd8db3-35' - Finished in state \u001b[32mCompleted\u001b[0m()\n"
      ]
     },
     "metadata": {},
     "output_type": "display_data"
    },
    {
     "data": {
      "text/html": [
       "<pre style=\"white-space:pre;overflow-x:auto;line-height:normal;font-family:Menlo,'DejaVu Sans Mono',consolas,'Courier New',monospace\">17:14:52.439 | <span style=\"color: #008080; text-decoration-color: #008080\">INFO</span>    | Task run 'query_pool_vol-8bdd8db3-19' - Finished in state <span style=\"color: #008000; text-decoration-color: #008000\">Completed</span>()\n",
       "</pre>\n"
      ],
      "text/plain": [
       "17:14:52.439 | \u001b[36mINFO\u001b[0m    | Task run 'query_pool_vol-8bdd8db3-19' - Finished in state \u001b[32mCompleted\u001b[0m()\n"
      ]
     },
     "metadata": {},
     "output_type": "display_data"
    },
    {
     "data": {
      "text/html": [
       "<pre style=\"white-space:pre;overflow-x:auto;line-height:normal;font-family:Menlo,'DejaVu Sans Mono',consolas,'Courier New',monospace\">17:14:52.445 | <span style=\"color: #008080; text-decoration-color: #008080\">INFO</span>    | Flow run<span style=\"color: #800080; text-decoration-color: #800080\"> 'independent-jacamar'</span> - Created task run 'query_pool_vol-8bdd8db3-27' for task 'query_pool_vol'\n",
       "</pre>\n"
      ],
      "text/plain": [
       "17:14:52.445 | \u001b[36mINFO\u001b[0m    | Flow run\u001b[35m 'independent-jacamar'\u001b[0m - Created task run 'query_pool_vol-8bdd8db3-27' for task 'query_pool_vol'\n"
      ]
     },
     "metadata": {},
     "output_type": "display_data"
    },
    {
     "data": {
      "text/html": [
       "<pre style=\"white-space:pre;overflow-x:auto;line-height:normal;font-family:Menlo,'DejaVu Sans Mono',consolas,'Courier New',monospace\">17:14:52.446 | <span style=\"color: #008080; text-decoration-color: #008080\">INFO</span>    | Flow run<span style=\"color: #800080; text-decoration-color: #800080\"> 'independent-jacamar'</span> - Submitted task run 'query_pool_vol-8bdd8db3-27' for execution.\n",
       "</pre>\n"
      ],
      "text/plain": [
       "17:14:52.446 | \u001b[36mINFO\u001b[0m    | Flow run\u001b[35m 'independent-jacamar'\u001b[0m - Submitted task run 'query_pool_vol-8bdd8db3-27' for execution.\n"
      ]
     },
     "metadata": {},
     "output_type": "display_data"
    },
    {
     "data": {
      "text/html": [
       "<pre style=\"white-space:pre;overflow-x:auto;line-height:normal;font-family:Menlo,'DejaVu Sans Mono',consolas,'Courier New',monospace\">17:14:52.453 | <span style=\"color: #008080; text-decoration-color: #008080\">INFO</span>    | Flow run<span style=\"color: #800080; text-decoration-color: #800080\"> 'independent-jacamar'</span> - Created task run 'query_pool_vol-8bdd8db3-40' for task 'query_pool_vol'\n",
       "</pre>\n"
      ],
      "text/plain": [
       "17:14:52.453 | \u001b[36mINFO\u001b[0m    | Flow run\u001b[35m 'independent-jacamar'\u001b[0m - Created task run 'query_pool_vol-8bdd8db3-40' for task 'query_pool_vol'\n"
      ]
     },
     "metadata": {},
     "output_type": "display_data"
    },
    {
     "data": {
      "text/html": [
       "<pre style=\"white-space:pre;overflow-x:auto;line-height:normal;font-family:Menlo,'DejaVu Sans Mono',consolas,'Courier New',monospace\">17:14:52.454 | <span style=\"color: #008080; text-decoration-color: #008080\">INFO</span>    | Flow run<span style=\"color: #800080; text-decoration-color: #800080\"> 'independent-jacamar'</span> - Submitted task run 'query_pool_vol-8bdd8db3-40' for execution.\n",
       "</pre>\n"
      ],
      "text/plain": [
       "17:14:52.454 | \u001b[36mINFO\u001b[0m    | Flow run\u001b[35m 'independent-jacamar'\u001b[0m - Submitted task run 'query_pool_vol-8bdd8db3-40' for execution.\n"
      ]
     },
     "metadata": {},
     "output_type": "display_data"
    },
    {
     "data": {
      "text/html": [
       "<pre style=\"white-space:pre;overflow-x:auto;line-height:normal;font-family:Menlo,'DejaVu Sans Mono',consolas,'Courier New',monospace\">17:14:52.485 | <span style=\"color: #008080; text-decoration-color: #008080\">INFO</span>    | Flow run<span style=\"color: #800080; text-decoration-color: #800080\"> 'independent-jacamar'</span> - Created task run 'query_pool_vol-8bdd8db3-34' for task 'query_pool_vol'\n",
       "</pre>\n"
      ],
      "text/plain": [
       "17:14:52.485 | \u001b[36mINFO\u001b[0m    | Flow run\u001b[35m 'independent-jacamar'\u001b[0m - Created task run 'query_pool_vol-8bdd8db3-34' for task 'query_pool_vol'\n"
      ]
     },
     "metadata": {},
     "output_type": "display_data"
    },
    {
     "data": {
      "text/html": [
       "<pre style=\"white-space:pre;overflow-x:auto;line-height:normal;font-family:Menlo,'DejaVu Sans Mono',consolas,'Courier New',monospace\">17:14:52.487 | <span style=\"color: #008080; text-decoration-color: #008080\">INFO</span>    | Flow run<span style=\"color: #800080; text-decoration-color: #800080\"> 'independent-jacamar'</span> - Submitted task run 'query_pool_vol-8bdd8db3-34' for execution.\n",
       "</pre>\n"
      ],
      "text/plain": [
       "17:14:52.487 | \u001b[36mINFO\u001b[0m    | Flow run\u001b[35m 'independent-jacamar'\u001b[0m - Submitted task run 'query_pool_vol-8bdd8db3-34' for execution.\n"
      ]
     },
     "metadata": {},
     "output_type": "display_data"
    },
    {
     "data": {
      "text/html": [
       "<pre style=\"white-space:pre;overflow-x:auto;line-height:normal;font-family:Menlo,'DejaVu Sans Mono',consolas,'Courier New',monospace\">17:14:52.499 | <span style=\"color: #008080; text-decoration-color: #008080\">INFO</span>    | Task run 'query_pool_vol-8bdd8db3-8' - Finished in state <span style=\"color: #008000; text-decoration-color: #008000\">Completed</span>()\n",
       "</pre>\n"
      ],
      "text/plain": [
       "17:14:52.499 | \u001b[36mINFO\u001b[0m    | Task run 'query_pool_vol-8bdd8db3-8' - Finished in state \u001b[32mCompleted\u001b[0m()\n"
      ]
     },
     "metadata": {},
     "output_type": "display_data"
    },
    {
     "data": {
      "text/html": [
       "<pre style=\"white-space:pre;overflow-x:auto;line-height:normal;font-family:Menlo,'DejaVu Sans Mono',consolas,'Courier New',monospace\">17:14:52.507 | <span style=\"color: #008080; text-decoration-color: #008080\">INFO</span>    | Flow run<span style=\"color: #800080; text-decoration-color: #800080\"> 'independent-jacamar'</span> - Created task run 'query_pool_vol-8bdd8db3-24' for task 'query_pool_vol'\n",
       "</pre>\n"
      ],
      "text/plain": [
       "17:14:52.507 | \u001b[36mINFO\u001b[0m    | Flow run\u001b[35m 'independent-jacamar'\u001b[0m - Created task run 'query_pool_vol-8bdd8db3-24' for task 'query_pool_vol'\n"
      ]
     },
     "metadata": {},
     "output_type": "display_data"
    },
    {
     "data": {
      "text/html": [
       "<pre style=\"white-space:pre;overflow-x:auto;line-height:normal;font-family:Menlo,'DejaVu Sans Mono',consolas,'Courier New',monospace\">17:14:52.508 | <span style=\"color: #008080; text-decoration-color: #008080\">INFO</span>    | Flow run<span style=\"color: #800080; text-decoration-color: #800080\"> 'independent-jacamar'</span> - Submitted task run 'query_pool_vol-8bdd8db3-24' for execution.\n",
       "</pre>\n"
      ],
      "text/plain": [
       "17:14:52.508 | \u001b[36mINFO\u001b[0m    | Flow run\u001b[35m 'independent-jacamar'\u001b[0m - Submitted task run 'query_pool_vol-8bdd8db3-24' for execution.\n"
      ]
     },
     "metadata": {},
     "output_type": "display_data"
    },
    {
     "data": {
      "text/html": [
       "<pre style=\"white-space:pre;overflow-x:auto;line-height:normal;font-family:Menlo,'DejaVu Sans Mono',consolas,'Courier New',monospace\">17:14:52.536 | <span style=\"color: #008080; text-decoration-color: #008080\">INFO</span>    | Flow run<span style=\"color: #800080; text-decoration-color: #800080\"> 'independent-jacamar'</span> - Created task run 'query_pool_vol-8bdd8db3-59' for task 'query_pool_vol'\n",
       "</pre>\n"
      ],
      "text/plain": [
       "17:14:52.536 | \u001b[36mINFO\u001b[0m    | Flow run\u001b[35m 'independent-jacamar'\u001b[0m - Created task run 'query_pool_vol-8bdd8db3-59' for task 'query_pool_vol'\n"
      ]
     },
     "metadata": {},
     "output_type": "display_data"
    },
    {
     "data": {
      "text/html": [
       "<pre style=\"white-space:pre;overflow-x:auto;line-height:normal;font-family:Menlo,'DejaVu Sans Mono',consolas,'Courier New',monospace\">17:14:52.542 | <span style=\"color: #008080; text-decoration-color: #008080\">INFO</span>    | Flow run<span style=\"color: #800080; text-decoration-color: #800080\"> 'independent-jacamar'</span> - Submitted task run 'query_pool_vol-8bdd8db3-59' for execution.\n",
       "</pre>\n"
      ],
      "text/plain": [
       "17:14:52.542 | \u001b[36mINFO\u001b[0m    | Flow run\u001b[35m 'independent-jacamar'\u001b[0m - Submitted task run 'query_pool_vol-8bdd8db3-59' for execution.\n"
      ]
     },
     "metadata": {},
     "output_type": "display_data"
    },
    {
     "data": {
      "text/html": [
       "<pre style=\"white-space:pre;overflow-x:auto;line-height:normal;font-family:Menlo,'DejaVu Sans Mono',consolas,'Courier New',monospace\">17:14:52.588 | <span style=\"color: #008080; text-decoration-color: #008080\">INFO</span>    | Flow run<span style=\"color: #800080; text-decoration-color: #800080\"> 'independent-jacamar'</span> - Created task run 'query_pool_snaps-60635b41-19' for task 'query_pool_snaps'\n",
       "</pre>\n"
      ],
      "text/plain": [
       "17:14:52.588 | \u001b[36mINFO\u001b[0m    | Flow run\u001b[35m 'independent-jacamar'\u001b[0m - Created task run 'query_pool_snaps-60635b41-19' for task 'query_pool_snaps'\n"
      ]
     },
     "metadata": {},
     "output_type": "display_data"
    },
    {
     "data": {
      "text/html": [
       "<pre style=\"white-space:pre;overflow-x:auto;line-height:normal;font-family:Menlo,'DejaVu Sans Mono',consolas,'Courier New',monospace\">17:14:52.595 | <span style=\"color: #008080; text-decoration-color: #008080\">INFO</span>    | Flow run<span style=\"color: #800080; text-decoration-color: #800080\"> 'independent-jacamar'</span> - Submitted task run 'query_pool_snaps-60635b41-19' for execution.\n",
       "</pre>\n"
      ],
      "text/plain": [
       "17:14:52.595 | \u001b[36mINFO\u001b[0m    | Flow run\u001b[35m 'independent-jacamar'\u001b[0m - Submitted task run 'query_pool_snaps-60635b41-19' for execution.\n"
      ]
     },
     "metadata": {},
     "output_type": "display_data"
    },
    {
     "data": {
      "text/html": [
       "<pre style=\"white-space:pre;overflow-x:auto;line-height:normal;font-family:Menlo,'DejaVu Sans Mono',consolas,'Courier New',monospace\">17:14:52.625 | <span style=\"color: #008080; text-decoration-color: #008080\">INFO</span>    | Task run 'query_pool_vol-8bdd8db3-47' - Finished in state <span style=\"color: #008000; text-decoration-color: #008000\">Completed</span>()\n",
       "</pre>\n"
      ],
      "text/plain": [
       "17:14:52.625 | \u001b[36mINFO\u001b[0m    | Task run 'query_pool_vol-8bdd8db3-47' - Finished in state \u001b[32mCompleted\u001b[0m()\n"
      ]
     },
     "metadata": {},
     "output_type": "display_data"
    },
    {
     "data": {
      "text/html": [
       "<pre style=\"white-space:pre;overflow-x:auto;line-height:normal;font-family:Menlo,'DejaVu Sans Mono',consolas,'Courier New',monospace\">17:14:52.672 | <span style=\"color: #008080; text-decoration-color: #008080\">INFO</span>    | Flow run<span style=\"color: #800080; text-decoration-color: #800080\"> 'independent-jacamar'</span> - Created task run 'query_pool_vol-8bdd8db3-2' for task 'query_pool_vol'\n",
       "</pre>\n"
      ],
      "text/plain": [
       "17:14:52.672 | \u001b[36mINFO\u001b[0m    | Flow run\u001b[35m 'independent-jacamar'\u001b[0m - Created task run 'query_pool_vol-8bdd8db3-2' for task 'query_pool_vol'\n"
      ]
     },
     "metadata": {},
     "output_type": "display_data"
    },
    {
     "data": {
      "text/html": [
       "<pre style=\"white-space:pre;overflow-x:auto;line-height:normal;font-family:Menlo,'DejaVu Sans Mono',consolas,'Courier New',monospace\">17:14:52.673 | <span style=\"color: #008080; text-decoration-color: #008080\">INFO</span>    | Flow run<span style=\"color: #800080; text-decoration-color: #800080\"> 'independent-jacamar'</span> - Submitted task run 'query_pool_vol-8bdd8db3-2' for execution.\n",
       "</pre>\n"
      ],
      "text/plain": [
       "17:14:52.673 | \u001b[36mINFO\u001b[0m    | Flow run\u001b[35m 'independent-jacamar'\u001b[0m - Submitted task run 'query_pool_vol-8bdd8db3-2' for execution.\n"
      ]
     },
     "metadata": {},
     "output_type": "display_data"
    },
    {
     "data": {
      "text/html": [
       "<pre style=\"white-space:pre;overflow-x:auto;line-height:normal;font-family:Menlo,'DejaVu Sans Mono',consolas,'Courier New',monospace\">17:14:52.684 | <span style=\"color: #008080; text-decoration-color: #008080\">INFO</span>    | Flow run<span style=\"color: #800080; text-decoration-color: #800080\"> 'independent-jacamar'</span> - Created task run 'query_pool_snaps-60635b41-33' for task 'query_pool_snaps'\n",
       "</pre>\n"
      ],
      "text/plain": [
       "17:14:52.684 | \u001b[36mINFO\u001b[0m    | Flow run\u001b[35m 'independent-jacamar'\u001b[0m - Created task run 'query_pool_snaps-60635b41-33' for task 'query_pool_snaps'\n"
      ]
     },
     "metadata": {},
     "output_type": "display_data"
    },
    {
     "data": {
      "text/html": [
       "<pre style=\"white-space:pre;overflow-x:auto;line-height:normal;font-family:Menlo,'DejaVu Sans Mono',consolas,'Courier New',monospace\">17:14:52.685 | <span style=\"color: #008080; text-decoration-color: #008080\">INFO</span>    | Flow run<span style=\"color: #800080; text-decoration-color: #800080\"> 'independent-jacamar'</span> - Submitted task run 'query_pool_snaps-60635b41-33' for execution.\n",
       "</pre>\n"
      ],
      "text/plain": [
       "17:14:52.685 | \u001b[36mINFO\u001b[0m    | Flow run\u001b[35m 'independent-jacamar'\u001b[0m - Submitted task run 'query_pool_snaps-60635b41-33' for execution.\n"
      ]
     },
     "metadata": {},
     "output_type": "display_data"
    },
    {
     "data": {
      "text/html": [
       "<pre style=\"white-space:pre;overflow-x:auto;line-height:normal;font-family:Menlo,'DejaVu Sans Mono',consolas,'Courier New',monospace\">17:14:52.697 | <span style=\"color: #008080; text-decoration-color: #008080\">INFO</span>    | Task run 'query_pool_vol-8bdd8db3-54' - Finished in state <span style=\"color: #008000; text-decoration-color: #008000\">Completed</span>()\n",
       "</pre>\n"
      ],
      "text/plain": [
       "17:14:52.697 | \u001b[36mINFO\u001b[0m    | Task run 'query_pool_vol-8bdd8db3-54' - Finished in state \u001b[32mCompleted\u001b[0m()\n"
      ]
     },
     "metadata": {},
     "output_type": "display_data"
    },
    {
     "data": {
      "text/html": [
       "<pre style=\"white-space:pre;overflow-x:auto;line-height:normal;font-family:Menlo,'DejaVu Sans Mono',consolas,'Courier New',monospace\">17:14:52.705 | <span style=\"color: #008080; text-decoration-color: #008080\">INFO</span>    | Task run 'query_pool_vol-8bdd8db3-12' - Finished in state <span style=\"color: #008000; text-decoration-color: #008000\">Completed</span>()\n",
       "</pre>\n"
      ],
      "text/plain": [
       "17:14:52.705 | \u001b[36mINFO\u001b[0m    | Task run 'query_pool_vol-8bdd8db3-12' - Finished in state \u001b[32mCompleted\u001b[0m()\n"
      ]
     },
     "metadata": {},
     "output_type": "display_data"
    },
    {
     "data": {
      "text/html": [
       "<pre style=\"white-space:pre;overflow-x:auto;line-height:normal;font-family:Menlo,'DejaVu Sans Mono',consolas,'Courier New',monospace\">17:14:52.720 | <span style=\"color: #008080; text-decoration-color: #008080\">INFO</span>    | Task run 'query_pool_snaps-60635b41-36' - Finished in state <span style=\"color: #008000; text-decoration-color: #008000\">Completed</span>()\n",
       "</pre>\n"
      ],
      "text/plain": [
       "17:14:52.720 | \u001b[36mINFO\u001b[0m    | Task run 'query_pool_snaps-60635b41-36' - Finished in state \u001b[32mCompleted\u001b[0m()\n"
      ]
     },
     "metadata": {},
     "output_type": "display_data"
    },
    {
     "data": {
      "text/html": [
       "<pre style=\"white-space:pre;overflow-x:auto;line-height:normal;font-family:Menlo,'DejaVu Sans Mono',consolas,'Courier New',monospace\">17:14:52.802 | <span style=\"color: #008080; text-decoration-color: #008080\">INFO</span>    | Flow run<span style=\"color: #800080; text-decoration-color: #800080\"> 'independent-jacamar'</span> - Created task run 'query_pool_snaps-60635b41-54' for task 'query_pool_snaps'\n",
       "</pre>\n"
      ],
      "text/plain": [
       "17:14:52.802 | \u001b[36mINFO\u001b[0m    | Flow run\u001b[35m 'independent-jacamar'\u001b[0m - Created task run 'query_pool_snaps-60635b41-54' for task 'query_pool_snaps'\n"
      ]
     },
     "metadata": {},
     "output_type": "display_data"
    },
    {
     "data": {
      "text/html": [
       "<pre style=\"white-space:pre;overflow-x:auto;line-height:normal;font-family:Menlo,'DejaVu Sans Mono',consolas,'Courier New',monospace\">17:14:52.803 | <span style=\"color: #008080; text-decoration-color: #008080\">INFO</span>    | Flow run<span style=\"color: #800080; text-decoration-color: #800080\"> 'independent-jacamar'</span> - Submitted task run 'query_pool_snaps-60635b41-54' for execution.\n",
       "</pre>\n"
      ],
      "text/plain": [
       "17:14:52.803 | \u001b[36mINFO\u001b[0m    | Flow run\u001b[35m 'independent-jacamar'\u001b[0m - Submitted task run 'query_pool_snaps-60635b41-54' for execution.\n"
      ]
     },
     "metadata": {},
     "output_type": "display_data"
    },
    {
     "data": {
      "text/html": [
       "<pre style=\"white-space:pre;overflow-x:auto;line-height:normal;font-family:Menlo,'DejaVu Sans Mono',consolas,'Courier New',monospace\">17:14:52.836 | <span style=\"color: #008080; text-decoration-color: #008080\">INFO</span>    | Task run 'query_pool_vol-8bdd8db3-34' - Finished in state <span style=\"color: #008000; text-decoration-color: #008000\">Completed</span>()\n",
       "</pre>\n"
      ],
      "text/plain": [
       "17:14:52.836 | \u001b[36mINFO\u001b[0m    | Task run 'query_pool_vol-8bdd8db3-34' - Finished in state \u001b[32mCompleted\u001b[0m()\n"
      ]
     },
     "metadata": {},
     "output_type": "display_data"
    },
    {
     "data": {
      "text/html": [
       "<pre style=\"white-space:pre;overflow-x:auto;line-height:normal;font-family:Menlo,'DejaVu Sans Mono',consolas,'Courier New',monospace\">17:14:52.907 | <span style=\"color: #008080; text-decoration-color: #008080\">INFO</span>    | Task run 'query_pool_vol-8bdd8db3-18' - Finished in state <span style=\"color: #008000; text-decoration-color: #008000\">Completed</span>()\n",
       "</pre>\n"
      ],
      "text/plain": [
       "17:14:52.907 | \u001b[36mINFO\u001b[0m    | Task run 'query_pool_vol-8bdd8db3-18' - Finished in state \u001b[32mCompleted\u001b[0m()\n"
      ]
     },
     "metadata": {},
     "output_type": "display_data"
    },
    {
     "data": {
      "text/html": [
       "<pre style=\"white-space:pre;overflow-x:auto;line-height:normal;font-family:Menlo,'DejaVu Sans Mono',consolas,'Courier New',monospace\">17:14:52.914 | <span style=\"color: #008080; text-decoration-color: #008080\">INFO</span>    | Task run 'query_pool_snaps-60635b41-25' - Finished in state <span style=\"color: #008000; text-decoration-color: #008000\">Completed</span>()\n",
       "</pre>\n"
      ],
      "text/plain": [
       "17:14:52.914 | \u001b[36mINFO\u001b[0m    | Task run 'query_pool_snaps-60635b41-25' - Finished in state \u001b[32mCompleted\u001b[0m()\n"
      ]
     },
     "metadata": {},
     "output_type": "display_data"
    },
    {
     "data": {
      "text/html": [
       "<pre style=\"white-space:pre;overflow-x:auto;line-height:normal;font-family:Menlo,'DejaVu Sans Mono',consolas,'Courier New',monospace\">17:14:52.918 | <span style=\"color: #008080; text-decoration-color: #008080\">INFO</span>    | Task run 'query_pool_vol-8bdd8db3-58' - Finished in state <span style=\"color: #008000; text-decoration-color: #008000\">Completed</span>()\n",
       "</pre>\n"
      ],
      "text/plain": [
       "17:14:52.918 | \u001b[36mINFO\u001b[0m    | Task run 'query_pool_vol-8bdd8db3-58' - Finished in state \u001b[32mCompleted\u001b[0m()\n"
      ]
     },
     "metadata": {},
     "output_type": "display_data"
    },
    {
     "data": {
      "text/html": [
       "<pre style=\"white-space:pre;overflow-x:auto;line-height:normal;font-family:Menlo,'DejaVu Sans Mono',consolas,'Courier New',monospace\">17:14:52.923 | <span style=\"color: #008080; text-decoration-color: #008080\">INFO</span>    | Task run 'query_pool_snaps-60635b41-10' - Finished in state <span style=\"color: #008000; text-decoration-color: #008000\">Completed</span>()\n",
       "</pre>\n"
      ],
      "text/plain": [
       "17:14:52.923 | \u001b[36mINFO\u001b[0m    | Task run 'query_pool_snaps-60635b41-10' - Finished in state \u001b[32mCompleted\u001b[0m()\n"
      ]
     },
     "metadata": {},
     "output_type": "display_data"
    },
    {
     "data": {
      "text/html": [
       "<pre style=\"white-space:pre;overflow-x:auto;line-height:normal;font-family:Menlo,'DejaVu Sans Mono',consolas,'Courier New',monospace\">17:14:52.929 | <span style=\"color: #008080; text-decoration-color: #008080\">INFO</span>    | Task run 'query_pool_snaps-60635b41-53' - Finished in state <span style=\"color: #008000; text-decoration-color: #008000\">Completed</span>()\n",
       "</pre>\n"
      ],
      "text/plain": [
       "17:14:52.929 | \u001b[36mINFO\u001b[0m    | Task run 'query_pool_snaps-60635b41-53' - Finished in state \u001b[32mCompleted\u001b[0m()\n"
      ]
     },
     "metadata": {},
     "output_type": "display_data"
    },
    {
     "data": {
      "text/html": [
       "<pre style=\"white-space:pre;overflow-x:auto;line-height:normal;font-family:Menlo,'DejaVu Sans Mono',consolas,'Courier New',monospace\">17:14:52.953 | <span style=\"color: #008080; text-decoration-color: #008080\">INFO</span>    | Task run 'query_pool_vol-8bdd8db3-0' - Finished in state <span style=\"color: #008000; text-decoration-color: #008000\">Completed</span>()\n",
       "</pre>\n"
      ],
      "text/plain": [
       "17:14:52.953 | \u001b[36mINFO\u001b[0m    | Task run 'query_pool_vol-8bdd8db3-0' - Finished in state \u001b[32mCompleted\u001b[0m()\n"
      ]
     },
     "metadata": {},
     "output_type": "display_data"
    },
    {
     "data": {
      "text/html": [
       "<pre style=\"white-space:pre;overflow-x:auto;line-height:normal;font-family:Menlo,'DejaVu Sans Mono',consolas,'Courier New',monospace\">17:14:52.966 | <span style=\"color: #008080; text-decoration-color: #008080\">INFO</span>    | Flow run<span style=\"color: #800080; text-decoration-color: #800080\"> 'independent-jacamar'</span> - Created task run 'query_pool_vol-8bdd8db3-30' for task 'query_pool_vol'\n",
       "</pre>\n"
      ],
      "text/plain": [
       "17:14:52.966 | \u001b[36mINFO\u001b[0m    | Flow run\u001b[35m 'independent-jacamar'\u001b[0m - Created task run 'query_pool_vol-8bdd8db3-30' for task 'query_pool_vol'\n"
      ]
     },
     "metadata": {},
     "output_type": "display_data"
    },
    {
     "data": {
      "text/html": [
       "<pre style=\"white-space:pre;overflow-x:auto;line-height:normal;font-family:Menlo,'DejaVu Sans Mono',consolas,'Courier New',monospace\">17:14:52.973 | <span style=\"color: #008080; text-decoration-color: #008080\">INFO</span>    | Flow run<span style=\"color: #800080; text-decoration-color: #800080\"> 'independent-jacamar'</span> - Submitted task run 'query_pool_vol-8bdd8db3-30' for execution.\n",
       "</pre>\n"
      ],
      "text/plain": [
       "17:14:52.973 | \u001b[36mINFO\u001b[0m    | Flow run\u001b[35m 'independent-jacamar'\u001b[0m - Submitted task run 'query_pool_vol-8bdd8db3-30' for execution.\n"
      ]
     },
     "metadata": {},
     "output_type": "display_data"
    },
    {
     "data": {
      "text/html": [
       "<pre style=\"white-space:pre;overflow-x:auto;line-height:normal;font-family:Menlo,'DejaVu Sans Mono',consolas,'Courier New',monospace\">17:14:52.985 | <span style=\"color: #008080; text-decoration-color: #008080\">INFO</span>    | Flow run<span style=\"color: #800080; text-decoration-color: #800080\"> 'independent-jacamar'</span> - Created task run 'query_pool_vol-8bdd8db3-13' for task 'query_pool_vol'\n",
       "</pre>\n"
      ],
      "text/plain": [
       "17:14:52.985 | \u001b[36mINFO\u001b[0m    | Flow run\u001b[35m 'independent-jacamar'\u001b[0m - Created task run 'query_pool_vol-8bdd8db3-13' for task 'query_pool_vol'\n"
      ]
     },
     "metadata": {},
     "output_type": "display_data"
    },
    {
     "data": {
      "text/html": [
       "<pre style=\"white-space:pre;overflow-x:auto;line-height:normal;font-family:Menlo,'DejaVu Sans Mono',consolas,'Courier New',monospace\">17:14:52.986 | <span style=\"color: #008080; text-decoration-color: #008080\">INFO</span>    | Flow run<span style=\"color: #800080; text-decoration-color: #800080\"> 'independent-jacamar'</span> - Submitted task run 'query_pool_vol-8bdd8db3-13' for execution.\n",
       "</pre>\n"
      ],
      "text/plain": [
       "17:14:52.986 | \u001b[36mINFO\u001b[0m    | Flow run\u001b[35m 'independent-jacamar'\u001b[0m - Submitted task run 'query_pool_vol-8bdd8db3-13' for execution.\n"
      ]
     },
     "metadata": {},
     "output_type": "display_data"
    },
    {
     "data": {
      "text/html": [
       "<pre style=\"white-space:pre;overflow-x:auto;line-height:normal;font-family:Menlo,'DejaVu Sans Mono',consolas,'Courier New',monospace\">17:14:52.999 | <span style=\"color: #008080; text-decoration-color: #008080\">INFO</span>    | Flow run<span style=\"color: #800080; text-decoration-color: #800080\"> 'independent-jacamar'</span> - Created task run 'query_pool_snaps-60635b41-47' for task 'query_pool_snaps'\n",
       "</pre>\n"
      ],
      "text/plain": [
       "17:14:52.999 | \u001b[36mINFO\u001b[0m    | Flow run\u001b[35m 'independent-jacamar'\u001b[0m - Created task run 'query_pool_snaps-60635b41-47' for task 'query_pool_snaps'\n"
      ]
     },
     "metadata": {},
     "output_type": "display_data"
    },
    {
     "data": {
      "text/html": [
       "<pre style=\"white-space:pre;overflow-x:auto;line-height:normal;font-family:Menlo,'DejaVu Sans Mono',consolas,'Courier New',monospace\">17:14:53.000 | <span style=\"color: #008080; text-decoration-color: #008080\">INFO</span>    | Flow run<span style=\"color: #800080; text-decoration-color: #800080\"> 'independent-jacamar'</span> - Submitted task run 'query_pool_snaps-60635b41-47' for execution.\n",
       "</pre>\n"
      ],
      "text/plain": [
       "17:14:53.000 | \u001b[36mINFO\u001b[0m    | Flow run\u001b[35m 'independent-jacamar'\u001b[0m - Submitted task run 'query_pool_snaps-60635b41-47' for execution.\n"
      ]
     },
     "metadata": {},
     "output_type": "display_data"
    },
    {
     "data": {
      "text/html": [
       "<pre style=\"white-space:pre;overflow-x:auto;line-height:normal;font-family:Menlo,'DejaVu Sans Mono',consolas,'Courier New',monospace\">17:14:53.028 | <span style=\"color: #008080; text-decoration-color: #008080\">INFO</span>    | Flow run<span style=\"color: #800080; text-decoration-color: #800080\"> 'independent-jacamar'</span> - Created task run 'query_pool_vol-8bdd8db3-41' for task 'query_pool_vol'\n",
       "</pre>\n"
      ],
      "text/plain": [
       "17:14:53.028 | \u001b[36mINFO\u001b[0m    | Flow run\u001b[35m 'independent-jacamar'\u001b[0m - Created task run 'query_pool_vol-8bdd8db3-41' for task 'query_pool_vol'\n"
      ]
     },
     "metadata": {},
     "output_type": "display_data"
    },
    {
     "data": {
      "text/html": [
       "<pre style=\"white-space:pre;overflow-x:auto;line-height:normal;font-family:Menlo,'DejaVu Sans Mono',consolas,'Courier New',monospace\">17:14:53.029 | <span style=\"color: #008080; text-decoration-color: #008080\">INFO</span>    | Flow run<span style=\"color: #800080; text-decoration-color: #800080\"> 'independent-jacamar'</span> - Submitted task run 'query_pool_vol-8bdd8db3-41' for execution.\n",
       "</pre>\n"
      ],
      "text/plain": [
       "17:14:53.029 | \u001b[36mINFO\u001b[0m    | Flow run\u001b[35m 'independent-jacamar'\u001b[0m - Submitted task run 'query_pool_vol-8bdd8db3-41' for execution.\n"
      ]
     },
     "metadata": {},
     "output_type": "display_data"
    },
    {
     "data": {
      "text/html": [
       "<pre style=\"white-space:pre;overflow-x:auto;line-height:normal;font-family:Menlo,'DejaVu Sans Mono',consolas,'Courier New',monospace\">17:14:53.041 | <span style=\"color: #008080; text-decoration-color: #008080\">INFO</span>    | Task run 'query_pool_vol-8bdd8db3-24' - Finished in state <span style=\"color: #008000; text-decoration-color: #008000\">Completed</span>()\n",
       "</pre>\n"
      ],
      "text/plain": [
       "17:14:53.041 | \u001b[36mINFO\u001b[0m    | Task run 'query_pool_vol-8bdd8db3-24' - Finished in state \u001b[32mCompleted\u001b[0m()\n"
      ]
     },
     "metadata": {},
     "output_type": "display_data"
    },
    {
     "data": {
      "text/html": [
       "<pre style=\"white-space:pre;overflow-x:auto;line-height:normal;font-family:Menlo,'DejaVu Sans Mono',consolas,'Courier New',monospace\">17:14:53.188 | <span style=\"color: #008080; text-decoration-color: #008080\">INFO</span>    | Flow run<span style=\"color: #800080; text-decoration-color: #800080\"> 'independent-jacamar'</span> - Created task run 'query_pool_snaps-60635b41-12' for task 'query_pool_snaps'\n",
       "</pre>\n"
      ],
      "text/plain": [
       "17:14:53.188 | \u001b[36mINFO\u001b[0m    | Flow run\u001b[35m 'independent-jacamar'\u001b[0m - Created task run 'query_pool_snaps-60635b41-12' for task 'query_pool_snaps'\n"
      ]
     },
     "metadata": {},
     "output_type": "display_data"
    },
    {
     "data": {
      "text/html": [
       "<pre style=\"white-space:pre;overflow-x:auto;line-height:normal;font-family:Menlo,'DejaVu Sans Mono',consolas,'Courier New',monospace\">17:14:53.189 | <span style=\"color: #008080; text-decoration-color: #008080\">INFO</span>    | Flow run<span style=\"color: #800080; text-decoration-color: #800080\"> 'independent-jacamar'</span> - Submitted task run 'query_pool_snaps-60635b41-12' for execution.\n",
       "</pre>\n"
      ],
      "text/plain": [
       "17:14:53.189 | \u001b[36mINFO\u001b[0m    | Flow run\u001b[35m 'independent-jacamar'\u001b[0m - Submitted task run 'query_pool_snaps-60635b41-12' for execution.\n"
      ]
     },
     "metadata": {},
     "output_type": "display_data"
    },
    {
     "data": {
      "text/html": [
       "<pre style=\"white-space:pre;overflow-x:auto;line-height:normal;font-family:Menlo,'DejaVu Sans Mono',consolas,'Courier New',monospace\">17:14:53.199 | <span style=\"color: #008080; text-decoration-color: #008080\">INFO</span>    | Flow run<span style=\"color: #800080; text-decoration-color: #800080\"> 'independent-jacamar'</span> - Created task run 'query_pool_vol-8bdd8db3-1' for task 'query_pool_vol'\n",
       "</pre>\n"
      ],
      "text/plain": [
       "17:14:53.199 | \u001b[36mINFO\u001b[0m    | Flow run\u001b[35m 'independent-jacamar'\u001b[0m - Created task run 'query_pool_vol-8bdd8db3-1' for task 'query_pool_vol'\n"
      ]
     },
     "metadata": {},
     "output_type": "display_data"
    },
    {
     "data": {
      "text/html": [
       "<pre style=\"white-space:pre;overflow-x:auto;line-height:normal;font-family:Menlo,'DejaVu Sans Mono',consolas,'Courier New',monospace\">17:14:53.200 | <span style=\"color: #008080; text-decoration-color: #008080\">INFO</span>    | Flow run<span style=\"color: #800080; text-decoration-color: #800080\"> 'independent-jacamar'</span> - Submitted task run 'query_pool_vol-8bdd8db3-1' for execution.\n",
       "</pre>\n"
      ],
      "text/plain": [
       "17:14:53.200 | \u001b[36mINFO\u001b[0m    | Flow run\u001b[35m 'independent-jacamar'\u001b[0m - Submitted task run 'query_pool_vol-8bdd8db3-1' for execution.\n"
      ]
     },
     "metadata": {},
     "output_type": "display_data"
    },
    {
     "data": {
      "text/html": [
       "<pre style=\"white-space:pre;overflow-x:auto;line-height:normal;font-family:Menlo,'DejaVu Sans Mono',consolas,'Courier New',monospace\">17:14:53.221 | <span style=\"color: #008080; text-decoration-color: #008080\">INFO</span>    | Task run 'query_pool_vol-8bdd8db3-27' - Finished in state <span style=\"color: #008000; text-decoration-color: #008000\">Completed</span>()\n",
       "</pre>\n"
      ],
      "text/plain": [
       "17:14:53.221 | \u001b[36mINFO\u001b[0m    | Task run 'query_pool_vol-8bdd8db3-27' - Finished in state \u001b[32mCompleted\u001b[0m()\n"
      ]
     },
     "metadata": {},
     "output_type": "display_data"
    },
    {
     "data": {
      "text/html": [
       "<pre style=\"white-space:pre;overflow-x:auto;line-height:normal;font-family:Menlo,'DejaVu Sans Mono',consolas,'Courier New',monospace\">17:14:53.393 | <span style=\"color: #008080; text-decoration-color: #008080\">INFO</span>    | Task run 'query_pool_snaps-60635b41-39' - Finished in state <span style=\"color: #008000; text-decoration-color: #008000\">Completed</span>()\n",
       "</pre>\n"
      ],
      "text/plain": [
       "17:14:53.393 | \u001b[36mINFO\u001b[0m    | Task run 'query_pool_snaps-60635b41-39' - Finished in state \u001b[32mCompleted\u001b[0m()\n"
      ]
     },
     "metadata": {},
     "output_type": "display_data"
    },
    {
     "data": {
      "text/html": [
       "<pre style=\"white-space:pre;overflow-x:auto;line-height:normal;font-family:Menlo,'DejaVu Sans Mono',consolas,'Courier New',monospace\">17:14:53.401 | <span style=\"color: #008080; text-decoration-color: #008080\">INFO</span>    | Flow run<span style=\"color: #800080; text-decoration-color: #800080\"> 'independent-jacamar'</span> - Created task run 'query_pool_snaps-60635b41-3' for task 'query_pool_snaps'\n",
       "</pre>\n"
      ],
      "text/plain": [
       "17:14:53.401 | \u001b[36mINFO\u001b[0m    | Flow run\u001b[35m 'independent-jacamar'\u001b[0m - Created task run 'query_pool_snaps-60635b41-3' for task 'query_pool_snaps'\n"
      ]
     },
     "metadata": {},
     "output_type": "display_data"
    },
    {
     "data": {
      "text/html": [
       "<pre style=\"white-space:pre;overflow-x:auto;line-height:normal;font-family:Menlo,'DejaVu Sans Mono',consolas,'Courier New',monospace\">17:14:53.402 | <span style=\"color: #008080; text-decoration-color: #008080\">INFO</span>    | Flow run<span style=\"color: #800080; text-decoration-color: #800080\"> 'independent-jacamar'</span> - Submitted task run 'query_pool_snaps-60635b41-3' for execution.\n",
       "</pre>\n"
      ],
      "text/plain": [
       "17:14:53.402 | \u001b[36mINFO\u001b[0m    | Flow run\u001b[35m 'independent-jacamar'\u001b[0m - Submitted task run 'query_pool_snaps-60635b41-3' for execution.\n"
      ]
     },
     "metadata": {},
     "output_type": "display_data"
    },
    {
     "data": {
      "text/html": [
       "<pre style=\"white-space:pre;overflow-x:auto;line-height:normal;font-family:Menlo,'DejaVu Sans Mono',consolas,'Courier New',monospace\">17:14:53.410 | <span style=\"color: #008080; text-decoration-color: #008080\">INFO</span>    | Flow run<span style=\"color: #800080; text-decoration-color: #800080\"> 'independent-jacamar'</span> - Created task run 'query_pool_snaps-60635b41-34' for task 'query_pool_snaps'\n",
       "</pre>\n"
      ],
      "text/plain": [
       "17:14:53.410 | \u001b[36mINFO\u001b[0m    | Flow run\u001b[35m 'independent-jacamar'\u001b[0m - Created task run 'query_pool_snaps-60635b41-34' for task 'query_pool_snaps'\n"
      ]
     },
     "metadata": {},
     "output_type": "display_data"
    },
    {
     "data": {
      "text/html": [
       "<pre style=\"white-space:pre;overflow-x:auto;line-height:normal;font-family:Menlo,'DejaVu Sans Mono',consolas,'Courier New',monospace\">17:14:53.411 | <span style=\"color: #008080; text-decoration-color: #008080\">INFO</span>    | Flow run<span style=\"color: #800080; text-decoration-color: #800080\"> 'independent-jacamar'</span> - Submitted task run 'query_pool_snaps-60635b41-34' for execution.\n",
       "</pre>\n"
      ],
      "text/plain": [
       "17:14:53.411 | \u001b[36mINFO\u001b[0m    | Flow run\u001b[35m 'independent-jacamar'\u001b[0m - Submitted task run 'query_pool_snaps-60635b41-34' for execution.\n"
      ]
     },
     "metadata": {},
     "output_type": "display_data"
    },
    {
     "data": {
      "text/html": [
       "<pre style=\"white-space:pre;overflow-x:auto;line-height:normal;font-family:Menlo,'DejaVu Sans Mono',consolas,'Courier New',monospace\">17:14:53.438 | <span style=\"color: #008080; text-decoration-color: #008080\">INFO</span>    | Flow run<span style=\"color: #800080; text-decoration-color: #800080\"> 'independent-jacamar'</span> - Created task run 'query_pool_snaps-60635b41-58' for task 'query_pool_snaps'\n",
       "</pre>\n"
      ],
      "text/plain": [
       "17:14:53.438 | \u001b[36mINFO\u001b[0m    | Flow run\u001b[35m 'independent-jacamar'\u001b[0m - Created task run 'query_pool_snaps-60635b41-58' for task 'query_pool_snaps'\n"
      ]
     },
     "metadata": {},
     "output_type": "display_data"
    },
    {
     "data": {
      "text/html": [
       "<pre style=\"white-space:pre;overflow-x:auto;line-height:normal;font-family:Menlo,'DejaVu Sans Mono',consolas,'Courier New',monospace\">17:14:53.440 | <span style=\"color: #008080; text-decoration-color: #008080\">INFO</span>    | Flow run<span style=\"color: #800080; text-decoration-color: #800080\"> 'independent-jacamar'</span> - Submitted task run 'query_pool_snaps-60635b41-58' for execution.\n",
       "</pre>\n"
      ],
      "text/plain": [
       "17:14:53.440 | \u001b[36mINFO\u001b[0m    | Flow run\u001b[35m 'independent-jacamar'\u001b[0m - Submitted task run 'query_pool_snaps-60635b41-58' for execution.\n"
      ]
     },
     "metadata": {},
     "output_type": "display_data"
    },
    {
     "data": {
      "text/html": [
       "<pre style=\"white-space:pre;overflow-x:auto;line-height:normal;font-family:Menlo,'DejaVu Sans Mono',consolas,'Courier New',monospace\">17:14:53.448 | <span style=\"color: #008080; text-decoration-color: #008080\">INFO</span>    | Task run 'query_pool_snaps-60635b41-42' - Finished in state <span style=\"color: #008000; text-decoration-color: #008000\">Completed</span>()\n",
       "</pre>\n"
      ],
      "text/plain": [
       "17:14:53.448 | \u001b[36mINFO\u001b[0m    | Task run 'query_pool_snaps-60635b41-42' - Finished in state \u001b[32mCompleted\u001b[0m()\n"
      ]
     },
     "metadata": {},
     "output_type": "display_data"
    },
    {
     "data": {
      "text/html": [
       "<pre style=\"white-space:pre;overflow-x:auto;line-height:normal;font-family:Menlo,'DejaVu Sans Mono',consolas,'Courier New',monospace\">17:14:53.473 | <span style=\"color: #008080; text-decoration-color: #008080\">INFO</span>    | Task run 'query_pool_snaps-60635b41-4' - Finished in state <span style=\"color: #008000; text-decoration-color: #008000\">Completed</span>()\n",
       "</pre>\n"
      ],
      "text/plain": [
       "17:14:53.473 | \u001b[36mINFO\u001b[0m    | Task run 'query_pool_snaps-60635b41-4' - Finished in state \u001b[32mCompleted\u001b[0m()\n"
      ]
     },
     "metadata": {},
     "output_type": "display_data"
    },
    {
     "data": {
      "text/html": [
       "<pre style=\"white-space:pre;overflow-x:auto;line-height:normal;font-family:Menlo,'DejaVu Sans Mono',consolas,'Courier New',monospace\">17:14:53.638 | <span style=\"color: #008080; text-decoration-color: #008080\">INFO</span>    | Task run 'query_pool_snaps-60635b41-28' - Finished in state <span style=\"color: #008000; text-decoration-color: #008000\">Completed</span>()\n",
       "</pre>\n"
      ],
      "text/plain": [
       "17:14:53.638 | \u001b[36mINFO\u001b[0m    | Task run 'query_pool_snaps-60635b41-28' - Finished in state \u001b[32mCompleted\u001b[0m()\n"
      ]
     },
     "metadata": {},
     "output_type": "display_data"
    },
    {
     "data": {
      "text/html": [
       "<pre style=\"white-space:pre;overflow-x:auto;line-height:normal;font-family:Menlo,'DejaVu Sans Mono',consolas,'Courier New',monospace\">17:14:53.657 | <span style=\"color: #008080; text-decoration-color: #008080\">INFO</span>    | Task run 'query_pool_vol-8bdd8db3-15' - Finished in state <span style=\"color: #008000; text-decoration-color: #008000\">Completed</span>()\n",
       "</pre>\n"
      ],
      "text/plain": [
       "17:14:53.657 | \u001b[36mINFO\u001b[0m    | Task run 'query_pool_vol-8bdd8db3-15' - Finished in state \u001b[32mCompleted\u001b[0m()\n"
      ]
     },
     "metadata": {},
     "output_type": "display_data"
    },
    {
     "data": {
      "text/html": [
       "<pre style=\"white-space:pre;overflow-x:auto;line-height:normal;font-family:Menlo,'DejaVu Sans Mono',consolas,'Courier New',monospace\">17:14:53.664 | <span style=\"color: #008080; text-decoration-color: #008080\">INFO</span>    | Task run 'query_pool_vol-8bdd8db3-1' - Finished in state <span style=\"color: #008000; text-decoration-color: #008000\">Completed</span>()\n",
       "</pre>\n"
      ],
      "text/plain": [
       "17:14:53.664 | \u001b[36mINFO\u001b[0m    | Task run 'query_pool_vol-8bdd8db3-1' - Finished in state \u001b[32mCompleted\u001b[0m()\n"
      ]
     },
     "metadata": {},
     "output_type": "display_data"
    },
    {
     "data": {
      "text/html": [
       "<pre style=\"white-space:pre;overflow-x:auto;line-height:normal;font-family:Menlo,'DejaVu Sans Mono',consolas,'Courier New',monospace\">17:14:53.672 | <span style=\"color: #008080; text-decoration-color: #008080\">INFO</span>    | Task run 'query_pool_snaps-60635b41-52' - Finished in state <span style=\"color: #008000; text-decoration-color: #008000\">Completed</span>()\n",
       "</pre>\n"
      ],
      "text/plain": [
       "17:14:53.672 | \u001b[36mINFO\u001b[0m    | Task run 'query_pool_snaps-60635b41-52' - Finished in state \u001b[32mCompleted\u001b[0m()\n"
      ]
     },
     "metadata": {},
     "output_type": "display_data"
    },
    {
     "data": {
      "text/html": [
       "<pre style=\"white-space:pre;overflow-x:auto;line-height:normal;font-family:Menlo,'DejaVu Sans Mono',consolas,'Courier New',monospace\">17:14:53.685 | <span style=\"color: #008080; text-decoration-color: #008080\">INFO</span>    | Task run 'query_pool_vol-8bdd8db3-38' - Finished in state <span style=\"color: #008000; text-decoration-color: #008000\">Completed</span>()\n",
       "</pre>\n"
      ],
      "text/plain": [
       "17:14:53.685 | \u001b[36mINFO\u001b[0m    | Task run 'query_pool_vol-8bdd8db3-38' - Finished in state \u001b[32mCompleted\u001b[0m()\n"
      ]
     },
     "metadata": {},
     "output_type": "display_data"
    },
    {
     "data": {
      "text/html": [
       "<pre style=\"white-space:pre;overflow-x:auto;line-height:normal;font-family:Menlo,'DejaVu Sans Mono',consolas,'Courier New',monospace\">17:14:53.692 | <span style=\"color: #008080; text-decoration-color: #008080\">INFO</span>    | Flow run<span style=\"color: #800080; text-decoration-color: #800080\"> 'independent-jacamar'</span> - Created task run 'query_pool_snaps-60635b41-2' for task 'query_pool_snaps'\n",
       "</pre>\n"
      ],
      "text/plain": [
       "17:14:53.692 | \u001b[36mINFO\u001b[0m    | Flow run\u001b[35m 'independent-jacamar'\u001b[0m - Created task run 'query_pool_snaps-60635b41-2' for task 'query_pool_snaps'\n"
      ]
     },
     "metadata": {},
     "output_type": "display_data"
    },
    {
     "data": {
      "text/html": [
       "<pre style=\"white-space:pre;overflow-x:auto;line-height:normal;font-family:Menlo,'DejaVu Sans Mono',consolas,'Courier New',monospace\">17:14:53.693 | <span style=\"color: #008080; text-decoration-color: #008080\">INFO</span>    | Flow run<span style=\"color: #800080; text-decoration-color: #800080\"> 'independent-jacamar'</span> - Submitted task run 'query_pool_snaps-60635b41-2' for execution.\n",
       "</pre>\n"
      ],
      "text/plain": [
       "17:14:53.693 | \u001b[36mINFO\u001b[0m    | Flow run\u001b[35m 'independent-jacamar'\u001b[0m - Submitted task run 'query_pool_snaps-60635b41-2' for execution.\n"
      ]
     },
     "metadata": {},
     "output_type": "display_data"
    },
    {
     "data": {
      "text/html": [
       "<pre style=\"white-space:pre;overflow-x:auto;line-height:normal;font-family:Menlo,'DejaVu Sans Mono',consolas,'Courier New',monospace\">17:14:53.764 | <span style=\"color: #008080; text-decoration-color: #008080\">INFO</span>    | Task run 'query_pool_vol-8bdd8db3-4' - Finished in state <span style=\"color: #008000; text-decoration-color: #008000\">Completed</span>()\n",
       "</pre>\n"
      ],
      "text/plain": [
       "17:14:53.764 | \u001b[36mINFO\u001b[0m    | Task run 'query_pool_vol-8bdd8db3-4' - Finished in state \u001b[32mCompleted\u001b[0m()\n"
      ]
     },
     "metadata": {},
     "output_type": "display_data"
    },
    {
     "data": {
      "text/html": [
       "<pre style=\"white-space:pre;overflow-x:auto;line-height:normal;font-family:Menlo,'DejaVu Sans Mono',consolas,'Courier New',monospace\">17:14:53.773 | <span style=\"color: #008080; text-decoration-color: #008080\">INFO</span>    | Task run 'query_pool_snaps-60635b41-57' - Finished in state <span style=\"color: #008000; text-decoration-color: #008000\">Completed</span>()\n",
       "</pre>\n"
      ],
      "text/plain": [
       "17:14:53.773 | \u001b[36mINFO\u001b[0m    | Task run 'query_pool_snaps-60635b41-57' - Finished in state \u001b[32mCompleted\u001b[0m()\n"
      ]
     },
     "metadata": {},
     "output_type": "display_data"
    },
    {
     "data": {
      "text/html": [
       "<pre style=\"white-space:pre;overflow-x:auto;line-height:normal;font-family:Menlo,'DejaVu Sans Mono',consolas,'Courier New',monospace\">17:14:53.789 | <span style=\"color: #008080; text-decoration-color: #008080\">INFO</span>    | Task run 'query_pool_snaps-60635b41-55' - Finished in state <span style=\"color: #008000; text-decoration-color: #008000\">Completed</span>()\n",
       "</pre>\n"
      ],
      "text/plain": [
       "17:14:53.789 | \u001b[36mINFO\u001b[0m    | Task run 'query_pool_snaps-60635b41-55' - Finished in state \u001b[32mCompleted\u001b[0m()\n"
      ]
     },
     "metadata": {},
     "output_type": "display_data"
    },
    {
     "data": {
      "text/html": [
       "<pre style=\"white-space:pre;overflow-x:auto;line-height:normal;font-family:Menlo,'DejaVu Sans Mono',consolas,'Courier New',monospace\">17:14:53.793 | <span style=\"color: #008080; text-decoration-color: #008080\">INFO</span>    | Task run 'query_pool_snaps-60635b41-5' - Finished in state <span style=\"color: #008000; text-decoration-color: #008000\">Completed</span>()\n",
       "</pre>\n"
      ],
      "text/plain": [
       "17:14:53.793 | \u001b[36mINFO\u001b[0m    | Task run 'query_pool_snaps-60635b41-5' - Finished in state \u001b[32mCompleted\u001b[0m()\n"
      ]
     },
     "metadata": {},
     "output_type": "display_data"
    },
    {
     "data": {
      "text/html": [
       "<pre style=\"white-space:pre;overflow-x:auto;line-height:normal;font-family:Menlo,'DejaVu Sans Mono',consolas,'Courier New',monospace\">17:14:53.817 | <span style=\"color: #008080; text-decoration-color: #008080\">INFO</span>    | Flow run<span style=\"color: #800080; text-decoration-color: #800080\"> 'independent-jacamar'</span> - Created task run 'query_pool_vol-8bdd8db3-29' for task 'query_pool_vol'\n",
       "</pre>\n"
      ],
      "text/plain": [
       "17:14:53.817 | \u001b[36mINFO\u001b[0m    | Flow run\u001b[35m 'independent-jacamar'\u001b[0m - Created task run 'query_pool_vol-8bdd8db3-29' for task 'query_pool_vol'\n"
      ]
     },
     "metadata": {},
     "output_type": "display_data"
    },
    {
     "data": {
      "text/html": [
       "<pre style=\"white-space:pre;overflow-x:auto;line-height:normal;font-family:Menlo,'DejaVu Sans Mono',consolas,'Courier New',monospace\">17:14:53.817 | <span style=\"color: #008080; text-decoration-color: #008080\">INFO</span>    | Flow run<span style=\"color: #800080; text-decoration-color: #800080\"> 'independent-jacamar'</span> - Submitted task run 'query_pool_vol-8bdd8db3-29' for execution.\n",
       "</pre>\n"
      ],
      "text/plain": [
       "17:14:53.817 | \u001b[36mINFO\u001b[0m    | Flow run\u001b[35m 'independent-jacamar'\u001b[0m - Submitted task run 'query_pool_vol-8bdd8db3-29' for execution.\n"
      ]
     },
     "metadata": {},
     "output_type": "display_data"
    },
    {
     "data": {
      "text/html": [
       "<pre style=\"white-space:pre;overflow-x:auto;line-height:normal;font-family:Menlo,'DejaVu Sans Mono',consolas,'Courier New',monospace\">17:14:54.174 | <span style=\"color: #008080; text-decoration-color: #008080\">INFO</span>    | Task run 'query_pool_snaps-60635b41-56' - Finished in state <span style=\"color: #008000; text-decoration-color: #008000\">Completed</span>()\n",
       "</pre>\n"
      ],
      "text/plain": [
       "17:14:54.174 | \u001b[36mINFO\u001b[0m    | Task run 'query_pool_snaps-60635b41-56' - Finished in state \u001b[32mCompleted\u001b[0m()\n"
      ]
     },
     "metadata": {},
     "output_type": "display_data"
    },
    {
     "data": {
      "text/html": [
       "<pre style=\"white-space:pre;overflow-x:auto;line-height:normal;font-family:Menlo,'DejaVu Sans Mono',consolas,'Courier New',monospace\">17:14:54.198 | <span style=\"color: #008080; text-decoration-color: #008080\">INFO</span>    | Task run 'query_pool_vol-8bdd8db3-26' - Finished in state <span style=\"color: #008000; text-decoration-color: #008000\">Completed</span>()\n",
       "</pre>\n"
      ],
      "text/plain": [
       "17:14:54.198 | \u001b[36mINFO\u001b[0m    | Task run 'query_pool_vol-8bdd8db3-26' - Finished in state \u001b[32mCompleted\u001b[0m()\n"
      ]
     },
     "metadata": {},
     "output_type": "display_data"
    },
    {
     "data": {
      "text/html": [
       "<pre style=\"white-space:pre;overflow-x:auto;line-height:normal;font-family:Menlo,'DejaVu Sans Mono',consolas,'Courier New',monospace\">17:14:54.210 | <span style=\"color: #008080; text-decoration-color: #008080\">INFO</span>    | Flow run<span style=\"color: #800080; text-decoration-color: #800080\"> 'independent-jacamar'</span> - Created task run 'query_pool_snaps-60635b41-48' for task 'query_pool_snaps'\n",
       "</pre>\n"
      ],
      "text/plain": [
       "17:14:54.210 | \u001b[36mINFO\u001b[0m    | Flow run\u001b[35m 'independent-jacamar'\u001b[0m - Created task run 'query_pool_snaps-60635b41-48' for task 'query_pool_snaps'\n"
      ]
     },
     "metadata": {},
     "output_type": "display_data"
    },
    {
     "data": {
      "text/html": [
       "<pre style=\"white-space:pre;overflow-x:auto;line-height:normal;font-family:Menlo,'DejaVu Sans Mono',consolas,'Courier New',monospace\">17:14:54.211 | <span style=\"color: #008080; text-decoration-color: #008080\">INFO</span>    | Flow run<span style=\"color: #800080; text-decoration-color: #800080\"> 'independent-jacamar'</span> - Submitted task run 'query_pool_snaps-60635b41-48' for execution.\n",
       "</pre>\n"
      ],
      "text/plain": [
       "17:14:54.211 | \u001b[36mINFO\u001b[0m    | Flow run\u001b[35m 'independent-jacamar'\u001b[0m - Submitted task run 'query_pool_snaps-60635b41-48' for execution.\n"
      ]
     },
     "metadata": {},
     "output_type": "display_data"
    },
    {
     "data": {
      "text/html": [
       "<pre style=\"white-space:pre;overflow-x:auto;line-height:normal;font-family:Menlo,'DejaVu Sans Mono',consolas,'Courier New',monospace\">17:14:54.234 | <span style=\"color: #008080; text-decoration-color: #008080\">INFO</span>    | Flow run<span style=\"color: #800080; text-decoration-color: #800080\"> 'independent-jacamar'</span> - Created task run 'query_pool_snaps-60635b41-17' for task 'query_pool_snaps'\n",
       "</pre>\n"
      ],
      "text/plain": [
       "17:14:54.234 | \u001b[36mINFO\u001b[0m    | Flow run\u001b[35m 'independent-jacamar'\u001b[0m - Created task run 'query_pool_snaps-60635b41-17' for task 'query_pool_snaps'\n"
      ]
     },
     "metadata": {},
     "output_type": "display_data"
    },
    {
     "data": {
      "text/html": [
       "<pre style=\"white-space:pre;overflow-x:auto;line-height:normal;font-family:Menlo,'DejaVu Sans Mono',consolas,'Courier New',monospace\">17:14:54.236 | <span style=\"color: #008080; text-decoration-color: #008080\">INFO</span>    | Flow run<span style=\"color: #800080; text-decoration-color: #800080\"> 'independent-jacamar'</span> - Submitted task run 'query_pool_snaps-60635b41-17' for execution.\n",
       "</pre>\n"
      ],
      "text/plain": [
       "17:14:54.236 | \u001b[36mINFO\u001b[0m    | Flow run\u001b[35m 'independent-jacamar'\u001b[0m - Submitted task run 'query_pool_snaps-60635b41-17' for execution.\n"
      ]
     },
     "metadata": {},
     "output_type": "display_data"
    },
    {
     "data": {
      "text/html": [
       "<pre style=\"white-space:pre;overflow-x:auto;line-height:normal;font-family:Menlo,'DejaVu Sans Mono',consolas,'Courier New',monospace\">17:14:54.253 | <span style=\"color: #008080; text-decoration-color: #008080\">INFO</span>    | Task run 'query_pool_vol-8bdd8db3-13' - Finished in state <span style=\"color: #008000; text-decoration-color: #008000\">Completed</span>()\n",
       "</pre>\n"
      ],
      "text/plain": [
       "17:14:54.253 | \u001b[36mINFO\u001b[0m    | Task run 'query_pool_vol-8bdd8db3-13' - Finished in state \u001b[32mCompleted\u001b[0m()\n"
      ]
     },
     "metadata": {},
     "output_type": "display_data"
    },
    {
     "data": {
      "text/html": [
       "<pre style=\"white-space:pre;overflow-x:auto;line-height:normal;font-family:Menlo,'DejaVu Sans Mono',consolas,'Courier New',monospace\">17:14:54.281 | <span style=\"color: #008080; text-decoration-color: #008080\">INFO</span>    | Task run 'query_pool_snaps-60635b41-27' - Finished in state <span style=\"color: #008000; text-decoration-color: #008000\">Completed</span>()\n",
       "</pre>\n"
      ],
      "text/plain": [
       "17:14:54.281 | \u001b[36mINFO\u001b[0m    | Task run 'query_pool_snaps-60635b41-27' - Finished in state \u001b[32mCompleted\u001b[0m()\n"
      ]
     },
     "metadata": {},
     "output_type": "display_data"
    },
    {
     "data": {
      "text/html": [
       "<pre style=\"white-space:pre;overflow-x:auto;line-height:normal;font-family:Menlo,'DejaVu Sans Mono',consolas,'Courier New',monospace\">17:14:54.334 | <span style=\"color: #008080; text-decoration-color: #008080\">INFO</span>    | Flow run<span style=\"color: #800080; text-decoration-color: #800080\"> 'independent-jacamar'</span> - Created task run 'query_pool_vol-8bdd8db3-17' for task 'query_pool_vol'\n",
       "</pre>\n"
      ],
      "text/plain": [
       "17:14:54.334 | \u001b[36mINFO\u001b[0m    | Flow run\u001b[35m 'independent-jacamar'\u001b[0m - Created task run 'query_pool_vol-8bdd8db3-17' for task 'query_pool_vol'\n"
      ]
     },
     "metadata": {},
     "output_type": "display_data"
    },
    {
     "data": {
      "text/html": [
       "<pre style=\"white-space:pre;overflow-x:auto;line-height:normal;font-family:Menlo,'DejaVu Sans Mono',consolas,'Courier New',monospace\">17:14:54.335 | <span style=\"color: #008080; text-decoration-color: #008080\">INFO</span>    | Flow run<span style=\"color: #800080; text-decoration-color: #800080\"> 'independent-jacamar'</span> - Submitted task run 'query_pool_vol-8bdd8db3-17' for execution.\n",
       "</pre>\n"
      ],
      "text/plain": [
       "17:14:54.335 | \u001b[36mINFO\u001b[0m    | Flow run\u001b[35m 'independent-jacamar'\u001b[0m - Submitted task run 'query_pool_vol-8bdd8db3-17' for execution.\n"
      ]
     },
     "metadata": {},
     "output_type": "display_data"
    },
    {
     "data": {
      "text/html": [
       "<pre style=\"white-space:pre;overflow-x:auto;line-height:normal;font-family:Menlo,'DejaVu Sans Mono',consolas,'Courier New',monospace\">17:14:54.350 | <span style=\"color: #008080; text-decoration-color: #008080\">INFO</span>    | Task run 'query_pool_vol-8bdd8db3-60' - Finished in state <span style=\"color: #008000; text-decoration-color: #008000\">Completed</span>()\n",
       "</pre>\n"
      ],
      "text/plain": [
       "17:14:54.350 | \u001b[36mINFO\u001b[0m    | Task run 'query_pool_vol-8bdd8db3-60' - Finished in state \u001b[32mCompleted\u001b[0m()\n"
      ]
     },
     "metadata": {},
     "output_type": "display_data"
    },
    {
     "data": {
      "text/html": [
       "<pre style=\"white-space:pre;overflow-x:auto;line-height:normal;font-family:Menlo,'DejaVu Sans Mono',consolas,'Courier New',monospace\">17:14:54.388 | <span style=\"color: #008080; text-decoration-color: #008080\">INFO</span>    | Task run 'query_pool_snaps-60635b41-60' - Finished in state <span style=\"color: #008000; text-decoration-color: #008000\">Completed</span>()\n",
       "</pre>\n"
      ],
      "text/plain": [
       "17:14:54.388 | \u001b[36mINFO\u001b[0m    | Task run 'query_pool_snaps-60635b41-60' - Finished in state \u001b[32mCompleted\u001b[0m()\n"
      ]
     },
     "metadata": {},
     "output_type": "display_data"
    },
    {
     "data": {
      "text/html": [
       "<pre style=\"white-space:pre;overflow-x:auto;line-height:normal;font-family:Menlo,'DejaVu Sans Mono',consolas,'Courier New',monospace\">17:14:54.420 | <span style=\"color: #008080; text-decoration-color: #008080\">INFO</span>    | Flow run<span style=\"color: #800080; text-decoration-color: #800080\"> 'independent-jacamar'</span> - Created task run 'query_pool_snaps-60635b41-46' for task 'query_pool_snaps'\n",
       "</pre>\n"
      ],
      "text/plain": [
       "17:14:54.420 | \u001b[36mINFO\u001b[0m    | Flow run\u001b[35m 'independent-jacamar'\u001b[0m - Created task run 'query_pool_snaps-60635b41-46' for task 'query_pool_snaps'\n"
      ]
     },
     "metadata": {},
     "output_type": "display_data"
    },
    {
     "data": {
      "text/html": [
       "<pre style=\"white-space:pre;overflow-x:auto;line-height:normal;font-family:Menlo,'DejaVu Sans Mono',consolas,'Courier New',monospace\">17:14:54.421 | <span style=\"color: #008080; text-decoration-color: #008080\">INFO</span>    | Flow run<span style=\"color: #800080; text-decoration-color: #800080\"> 'independent-jacamar'</span> - Submitted task run 'query_pool_snaps-60635b41-46' for execution.\n",
       "</pre>\n"
      ],
      "text/plain": [
       "17:14:54.421 | \u001b[36mINFO\u001b[0m    | Flow run\u001b[35m 'independent-jacamar'\u001b[0m - Submitted task run 'query_pool_snaps-60635b41-46' for execution.\n"
      ]
     },
     "metadata": {},
     "output_type": "display_data"
    },
    {
     "data": {
      "text/html": [
       "<pre style=\"white-space:pre;overflow-x:auto;line-height:normal;font-family:Menlo,'DejaVu Sans Mono',consolas,'Courier New',monospace\">17:14:54.931 | <span style=\"color: #008080; text-decoration-color: #008080\">INFO</span>    | Flow run<span style=\"color: #800080; text-decoration-color: #800080\"> 'independent-jacamar'</span> - Created task run 'query_pool_snaps-60635b41-59' for task 'query_pool_snaps'\n",
       "</pre>\n"
      ],
      "text/plain": [
       "17:14:54.931 | \u001b[36mINFO\u001b[0m    | Flow run\u001b[35m 'independent-jacamar'\u001b[0m - Created task run 'query_pool_snaps-60635b41-59' for task 'query_pool_snaps'\n"
      ]
     },
     "metadata": {},
     "output_type": "display_data"
    },
    {
     "data": {
      "text/html": [
       "<pre style=\"white-space:pre;overflow-x:auto;line-height:normal;font-family:Menlo,'DejaVu Sans Mono',consolas,'Courier New',monospace\">17:14:54.933 | <span style=\"color: #008080; text-decoration-color: #008080\">INFO</span>    | Flow run<span style=\"color: #800080; text-decoration-color: #800080\"> 'independent-jacamar'</span> - Submitted task run 'query_pool_snaps-60635b41-59' for execution.\n",
       "</pre>\n"
      ],
      "text/plain": [
       "17:14:54.933 | \u001b[36mINFO\u001b[0m    | Flow run\u001b[35m 'independent-jacamar'\u001b[0m - Submitted task run 'query_pool_snaps-60635b41-59' for execution.\n"
      ]
     },
     "metadata": {},
     "output_type": "display_data"
    },
    {
     "data": {
      "text/html": [
       "<pre style=\"white-space:pre;overflow-x:auto;line-height:normal;font-family:Menlo,'DejaVu Sans Mono',consolas,'Courier New',monospace\">17:14:55.034 | <span style=\"color: #008080; text-decoration-color: #008080\">INFO</span>    | Flow run<span style=\"color: #800080; text-decoration-color: #800080\"> 'independent-jacamar'</span> - Created task run 'query_pool_vol-8bdd8db3-43' for task 'query_pool_vol'\n",
       "</pre>\n"
      ],
      "text/plain": [
       "17:14:55.034 | \u001b[36mINFO\u001b[0m    | Flow run\u001b[35m 'independent-jacamar'\u001b[0m - Created task run 'query_pool_vol-8bdd8db3-43' for task 'query_pool_vol'\n"
      ]
     },
     "metadata": {},
     "output_type": "display_data"
    },
    {
     "data": {
      "text/html": [
       "<pre style=\"white-space:pre;overflow-x:auto;line-height:normal;font-family:Menlo,'DejaVu Sans Mono',consolas,'Courier New',monospace\">17:14:55.035 | <span style=\"color: #008080; text-decoration-color: #008080\">INFO</span>    | Flow run<span style=\"color: #800080; text-decoration-color: #800080\"> 'independent-jacamar'</span> - Submitted task run 'query_pool_vol-8bdd8db3-43' for execution.\n",
       "</pre>\n"
      ],
      "text/plain": [
       "17:14:55.035 | \u001b[36mINFO\u001b[0m    | Flow run\u001b[35m 'independent-jacamar'\u001b[0m - Submitted task run 'query_pool_vol-8bdd8db3-43' for execution.\n"
      ]
     },
     "metadata": {},
     "output_type": "display_data"
    },
    {
     "data": {
      "text/html": [
       "<pre style=\"white-space:pre;overflow-x:auto;line-height:normal;font-family:Menlo,'DejaVu Sans Mono',consolas,'Courier New',monospace\">17:14:55.056 | <span style=\"color: #008080; text-decoration-color: #008080\">INFO</span>    | Task run 'query_pool_vol-8bdd8db3-59' - Finished in state <span style=\"color: #008000; text-decoration-color: #008000\">Completed</span>()\n",
       "</pre>\n"
      ],
      "text/plain": [
       "17:14:55.056 | \u001b[36mINFO\u001b[0m    | Task run 'query_pool_vol-8bdd8db3-59' - Finished in state \u001b[32mCompleted\u001b[0m()\n"
      ]
     },
     "metadata": {},
     "output_type": "display_data"
    },
    {
     "data": {
      "text/html": [
       "<pre style=\"white-space:pre;overflow-x:auto;line-height:normal;font-family:Menlo,'DejaVu Sans Mono',consolas,'Courier New',monospace\">17:14:55.079 | <span style=\"color: #008080; text-decoration-color: #008080\">INFO</span>    | Flow run<span style=\"color: #800080; text-decoration-color: #800080\"> 'independent-jacamar'</span> - Created task run 'query_pool_snaps-60635b41-9' for task 'query_pool_snaps'\n",
       "</pre>\n"
      ],
      "text/plain": [
       "17:14:55.079 | \u001b[36mINFO\u001b[0m    | Flow run\u001b[35m 'independent-jacamar'\u001b[0m - Created task run 'query_pool_snaps-60635b41-9' for task 'query_pool_snaps'\n"
      ]
     },
     "metadata": {},
     "output_type": "display_data"
    },
    {
     "data": {
      "text/html": [
       "<pre style=\"white-space:pre;overflow-x:auto;line-height:normal;font-family:Menlo,'DejaVu Sans Mono',consolas,'Courier New',monospace\">17:14:55.080 | <span style=\"color: #008080; text-decoration-color: #008080\">INFO</span>    | Flow run<span style=\"color: #800080; text-decoration-color: #800080\"> 'independent-jacamar'</span> - Submitted task run 'query_pool_snaps-60635b41-9' for execution.\n",
       "</pre>\n"
      ],
      "text/plain": [
       "17:14:55.080 | \u001b[36mINFO\u001b[0m    | Flow run\u001b[35m 'independent-jacamar'\u001b[0m - Submitted task run 'query_pool_snaps-60635b41-9' for execution.\n"
      ]
     },
     "metadata": {},
     "output_type": "display_data"
    },
    {
     "data": {
      "text/html": [
       "<pre style=\"white-space:pre;overflow-x:auto;line-height:normal;font-family:Menlo,'DejaVu Sans Mono',consolas,'Courier New',monospace\">17:14:55.096 | <span style=\"color: #008080; text-decoration-color: #008080\">INFO</span>    | Task run 'query_pool_vol-8bdd8db3-17' - Finished in state <span style=\"color: #008000; text-decoration-color: #008000\">Completed</span>()\n",
       "</pre>\n"
      ],
      "text/plain": [
       "17:14:55.096 | \u001b[36mINFO\u001b[0m    | Task run 'query_pool_vol-8bdd8db3-17' - Finished in state \u001b[32mCompleted\u001b[0m()\n"
      ]
     },
     "metadata": {},
     "output_type": "display_data"
    },
    {
     "data": {
      "text/html": [
       "<pre style=\"white-space:pre;overflow-x:auto;line-height:normal;font-family:Menlo,'DejaVu Sans Mono',consolas,'Courier New',monospace\">17:14:55.106 | <span style=\"color: #008080; text-decoration-color: #008080\">INFO</span>    | Task run 'query_pool_vol-8bdd8db3-29' - Finished in state <span style=\"color: #008000; text-decoration-color: #008000\">Completed</span>()\n",
       "</pre>\n"
      ],
      "text/plain": [
       "17:14:55.106 | \u001b[36mINFO\u001b[0m    | Task run 'query_pool_vol-8bdd8db3-29' - Finished in state \u001b[32mCompleted\u001b[0m()\n"
      ]
     },
     "metadata": {},
     "output_type": "display_data"
    },
    {
     "data": {
      "text/html": [
       "<pre style=\"white-space:pre;overflow-x:auto;line-height:normal;font-family:Menlo,'DejaVu Sans Mono',consolas,'Courier New',monospace\">17:14:55.111 | <span style=\"color: #008080; text-decoration-color: #008080\">INFO</span>    | Task run 'query_pool_snaps-60635b41-58' - Finished in state <span style=\"color: #008000; text-decoration-color: #008000\">Completed</span>()\n",
       "</pre>\n"
      ],
      "text/plain": [
       "17:14:55.111 | \u001b[36mINFO\u001b[0m    | Task run 'query_pool_snaps-60635b41-58' - Finished in state \u001b[32mCompleted\u001b[0m()\n"
      ]
     },
     "metadata": {},
     "output_type": "display_data"
    },
    {
     "data": {
      "text/html": [
       "<pre style=\"white-space:pre;overflow-x:auto;line-height:normal;font-family:Menlo,'DejaVu Sans Mono',consolas,'Courier New',monospace\">17:14:55.115 | <span style=\"color: #008080; text-decoration-color: #008080\">INFO</span>    | Task run 'query_pool_snaps-60635b41-30' - Finished in state <span style=\"color: #008000; text-decoration-color: #008000\">Completed</span>()\n",
       "</pre>\n"
      ],
      "text/plain": [
       "17:14:55.115 | \u001b[36mINFO\u001b[0m    | Task run 'query_pool_snaps-60635b41-30' - Finished in state \u001b[32mCompleted\u001b[0m()\n"
      ]
     },
     "metadata": {},
     "output_type": "display_data"
    },
    {
     "data": {
      "text/html": [
       "<pre style=\"white-space:pre;overflow-x:auto;line-height:normal;font-family:Menlo,'DejaVu Sans Mono',consolas,'Courier New',monospace\">17:14:55.119 | <span style=\"color: #008080; text-decoration-color: #008080\">INFO</span>    | Task run 'query_pool_vol-8bdd8db3-55' - Finished in state <span style=\"color: #008000; text-decoration-color: #008000\">Completed</span>()\n",
       "</pre>\n"
      ],
      "text/plain": [
       "17:14:55.119 | \u001b[36mINFO\u001b[0m    | Task run 'query_pool_vol-8bdd8db3-55' - Finished in state \u001b[32mCompleted\u001b[0m()\n"
      ]
     },
     "metadata": {},
     "output_type": "display_data"
    },
    {
     "data": {
      "text/html": [
       "<pre style=\"white-space:pre;overflow-x:auto;line-height:normal;font-family:Menlo,'DejaVu Sans Mono',consolas,'Courier New',monospace\">17:14:55.125 | <span style=\"color: #008080; text-decoration-color: #008080\">INFO</span>    | Task run 'query_pool_vol-8bdd8db3-30' - Finished in state <span style=\"color: #008000; text-decoration-color: #008000\">Completed</span>()\n",
       "</pre>\n"
      ],
      "text/plain": [
       "17:14:55.125 | \u001b[36mINFO\u001b[0m    | Task run 'query_pool_vol-8bdd8db3-30' - Finished in state \u001b[32mCompleted\u001b[0m()\n"
      ]
     },
     "metadata": {},
     "output_type": "display_data"
    },
    {
     "data": {
      "text/html": [
       "<pre style=\"white-space:pre;overflow-x:auto;line-height:normal;font-family:Menlo,'DejaVu Sans Mono',consolas,'Courier New',monospace\">17:14:55.132 | <span style=\"color: #008080; text-decoration-color: #008080\">INFO</span>    | Flow run<span style=\"color: #800080; text-decoration-color: #800080\"> 'independent-jacamar'</span> - Created task run 'query_pool_vol-8bdd8db3-57' for task 'query_pool_vol'\n",
       "</pre>\n"
      ],
      "text/plain": [
       "17:14:55.132 | \u001b[36mINFO\u001b[0m    | Flow run\u001b[35m 'independent-jacamar'\u001b[0m - Created task run 'query_pool_vol-8bdd8db3-57' for task 'query_pool_vol'\n"
      ]
     },
     "metadata": {},
     "output_type": "display_data"
    },
    {
     "data": {
      "text/html": [
       "<pre style=\"white-space:pre;overflow-x:auto;line-height:normal;font-family:Menlo,'DejaVu Sans Mono',consolas,'Courier New',monospace\">17:14:55.133 | <span style=\"color: #008080; text-decoration-color: #008080\">INFO</span>    | Flow run<span style=\"color: #800080; text-decoration-color: #800080\"> 'independent-jacamar'</span> - Submitted task run 'query_pool_vol-8bdd8db3-57' for execution.\n",
       "</pre>\n"
      ],
      "text/plain": [
       "17:14:55.133 | \u001b[36mINFO\u001b[0m    | Flow run\u001b[35m 'independent-jacamar'\u001b[0m - Submitted task run 'query_pool_vol-8bdd8db3-57' for execution.\n"
      ]
     },
     "metadata": {},
     "output_type": "display_data"
    },
    {
     "data": {
      "text/html": [
       "<pre style=\"white-space:pre;overflow-x:auto;line-height:normal;font-family:Menlo,'DejaVu Sans Mono',consolas,'Courier New',monospace\">17:14:55.143 | <span style=\"color: #008080; text-decoration-color: #008080\">INFO</span>    | Flow run<span style=\"color: #800080; text-decoration-color: #800080\"> 'independent-jacamar'</span> - Created task run 'query_pool_snaps-60635b41-32' for task 'query_pool_snaps'\n",
       "</pre>\n"
      ],
      "text/plain": [
       "17:14:55.143 | \u001b[36mINFO\u001b[0m    | Flow run\u001b[35m 'independent-jacamar'\u001b[0m - Created task run 'query_pool_snaps-60635b41-32' for task 'query_pool_snaps'\n"
      ]
     },
     "metadata": {},
     "output_type": "display_data"
    },
    {
     "data": {
      "text/html": [
       "<pre style=\"white-space:pre;overflow-x:auto;line-height:normal;font-family:Menlo,'DejaVu Sans Mono',consolas,'Courier New',monospace\">17:14:55.144 | <span style=\"color: #008080; text-decoration-color: #008080\">INFO</span>    | Flow run<span style=\"color: #800080; text-decoration-color: #800080\"> 'independent-jacamar'</span> - Submitted task run 'query_pool_snaps-60635b41-32' for execution.\n",
       "</pre>\n"
      ],
      "text/plain": [
       "17:14:55.144 | \u001b[36mINFO\u001b[0m    | Flow run\u001b[35m 'independent-jacamar'\u001b[0m - Submitted task run 'query_pool_snaps-60635b41-32' for execution.\n"
      ]
     },
     "metadata": {},
     "output_type": "display_data"
    },
    {
     "data": {
      "text/html": [
       "<pre style=\"white-space:pre;overflow-x:auto;line-height:normal;font-family:Menlo,'DejaVu Sans Mono',consolas,'Courier New',monospace\">17:14:55.157 | <span style=\"color: #008080; text-decoration-color: #008080\">INFO</span>    | Flow run<span style=\"color: #800080; text-decoration-color: #800080\"> 'independent-jacamar'</span> - Created task run 'query_pool_snaps-60635b41-23' for task 'query_pool_snaps'\n",
       "</pre>\n"
      ],
      "text/plain": [
       "17:14:55.157 | \u001b[36mINFO\u001b[0m    | Flow run\u001b[35m 'independent-jacamar'\u001b[0m - Created task run 'query_pool_snaps-60635b41-23' for task 'query_pool_snaps'\n"
      ]
     },
     "metadata": {},
     "output_type": "display_data"
    },
    {
     "data": {
      "text/html": [
       "<pre style=\"white-space:pre;overflow-x:auto;line-height:normal;font-family:Menlo,'DejaVu Sans Mono',consolas,'Courier New',monospace\">17:14:55.158 | <span style=\"color: #008080; text-decoration-color: #008080\">INFO</span>    | Flow run<span style=\"color: #800080; text-decoration-color: #800080\"> 'independent-jacamar'</span> - Submitted task run 'query_pool_snaps-60635b41-23' for execution.\n",
       "</pre>\n"
      ],
      "text/plain": [
       "17:14:55.158 | \u001b[36mINFO\u001b[0m    | Flow run\u001b[35m 'independent-jacamar'\u001b[0m - Submitted task run 'query_pool_snaps-60635b41-23' for execution.\n"
      ]
     },
     "metadata": {},
     "output_type": "display_data"
    },
    {
     "data": {
      "text/html": [
       "<pre style=\"white-space:pre;overflow-x:auto;line-height:normal;font-family:Menlo,'DejaVu Sans Mono',consolas,'Courier New',monospace\">17:14:55.180 | <span style=\"color: #008080; text-decoration-color: #008080\">INFO</span>    | Flow run<span style=\"color: #800080; text-decoration-color: #800080\"> 'independent-jacamar'</span> - Created task run 'query_pool_vol-8bdd8db3-9' for task 'query_pool_vol'\n",
       "</pre>\n"
      ],
      "text/plain": [
       "17:14:55.180 | \u001b[36mINFO\u001b[0m    | Flow run\u001b[35m 'independent-jacamar'\u001b[0m - Created task run 'query_pool_vol-8bdd8db3-9' for task 'query_pool_vol'\n"
      ]
     },
     "metadata": {},
     "output_type": "display_data"
    },
    {
     "data": {
      "text/html": [
       "<pre style=\"white-space:pre;overflow-x:auto;line-height:normal;font-family:Menlo,'DejaVu Sans Mono',consolas,'Courier New',monospace\">17:14:55.181 | <span style=\"color: #008080; text-decoration-color: #008080\">INFO</span>    | Flow run<span style=\"color: #800080; text-decoration-color: #800080\"> 'independent-jacamar'</span> - Submitted task run 'query_pool_vol-8bdd8db3-9' for execution.\n",
       "</pre>\n"
      ],
      "text/plain": [
       "17:14:55.181 | \u001b[36mINFO\u001b[0m    | Flow run\u001b[35m 'independent-jacamar'\u001b[0m - Submitted task run 'query_pool_vol-8bdd8db3-9' for execution.\n"
      ]
     },
     "metadata": {},
     "output_type": "display_data"
    },
    {
     "data": {
      "text/html": [
       "<pre style=\"white-space:pre;overflow-x:auto;line-height:normal;font-family:Menlo,'DejaVu Sans Mono',consolas,'Courier New',monospace\">17:14:55.210 | <span style=\"color: #008080; text-decoration-color: #008080\">INFO</span>    | Task run 'query_pool_snaps-60635b41-34' - Finished in state <span style=\"color: #008000; text-decoration-color: #008000\">Completed</span>()\n",
       "</pre>\n"
      ],
      "text/plain": [
       "17:14:55.210 | \u001b[36mINFO\u001b[0m    | Task run 'query_pool_snaps-60635b41-34' - Finished in state \u001b[32mCompleted\u001b[0m()\n"
      ]
     },
     "metadata": {},
     "output_type": "display_data"
    },
    {
     "data": {
      "text/html": [
       "<pre style=\"white-space:pre;overflow-x:auto;line-height:normal;font-family:Menlo,'DejaVu Sans Mono',consolas,'Courier New',monospace\">17:14:55.556 | <span style=\"color: #008080; text-decoration-color: #008080\">INFO</span>    | Flow run<span style=\"color: #800080; text-decoration-color: #800080\"> 'independent-jacamar'</span> - Created task run 'query_pool_vol-8bdd8db3-22' for task 'query_pool_vol'\n",
       "</pre>\n"
      ],
      "text/plain": [
       "17:14:55.556 | \u001b[36mINFO\u001b[0m    | Flow run\u001b[35m 'independent-jacamar'\u001b[0m - Created task run 'query_pool_vol-8bdd8db3-22' for task 'query_pool_vol'\n"
      ]
     },
     "metadata": {},
     "output_type": "display_data"
    },
    {
     "data": {
      "text/html": [
       "<pre style=\"white-space:pre;overflow-x:auto;line-height:normal;font-family:Menlo,'DejaVu Sans Mono',consolas,'Courier New',monospace\">17:14:55.557 | <span style=\"color: #008080; text-decoration-color: #008080\">INFO</span>    | Flow run<span style=\"color: #800080; text-decoration-color: #800080\"> 'independent-jacamar'</span> - Submitted task run 'query_pool_vol-8bdd8db3-22' for execution.\n",
       "</pre>\n"
      ],
      "text/plain": [
       "17:14:55.557 | \u001b[36mINFO\u001b[0m    | Flow run\u001b[35m 'independent-jacamar'\u001b[0m - Submitted task run 'query_pool_vol-8bdd8db3-22' for execution.\n"
      ]
     },
     "metadata": {},
     "output_type": "display_data"
    },
    {
     "data": {
      "text/html": [
       "<pre style=\"white-space:pre;overflow-x:auto;line-height:normal;font-family:Menlo,'DejaVu Sans Mono',consolas,'Courier New',monospace\">17:14:55.573 | <span style=\"color: #008080; text-decoration-color: #008080\">INFO</span>    | Task run 'query_pool_snaps-60635b41-45' - Finished in state <span style=\"color: #008000; text-decoration-color: #008000\">Completed</span>()\n",
       "</pre>\n"
      ],
      "text/plain": [
       "17:14:55.573 | \u001b[36mINFO\u001b[0m    | Task run 'query_pool_snaps-60635b41-45' - Finished in state \u001b[32mCompleted\u001b[0m()\n"
      ]
     },
     "metadata": {},
     "output_type": "display_data"
    },
    {
     "data": {
      "text/html": [
       "<pre style=\"white-space:pre;overflow-x:auto;line-height:normal;font-family:Menlo,'DejaVu Sans Mono',consolas,'Courier New',monospace\">17:14:55.588 | <span style=\"color: #008080; text-decoration-color: #008080\">INFO</span>    | Task run 'query_pool_snaps-60635b41-48' - Finished in state <span style=\"color: #008000; text-decoration-color: #008000\">Completed</span>()\n",
       "</pre>\n"
      ],
      "text/plain": [
       "17:14:55.588 | \u001b[36mINFO\u001b[0m    | Task run 'query_pool_snaps-60635b41-48' - Finished in state \u001b[32mCompleted\u001b[0m()\n"
      ]
     },
     "metadata": {},
     "output_type": "display_data"
    },
    {
     "data": {
      "text/html": [
       "<pre style=\"white-space:pre;overflow-x:auto;line-height:normal;font-family:Menlo,'DejaVu Sans Mono',consolas,'Courier New',monospace\">17:14:55.596 | <span style=\"color: #008080; text-decoration-color: #008080\">INFO</span>    | Flow run<span style=\"color: #800080; text-decoration-color: #800080\"> 'independent-jacamar'</span> - Created task run 'query_pool_vol-8bdd8db3-11' for task 'query_pool_vol'\n",
       "</pre>\n"
      ],
      "text/plain": [
       "17:14:55.596 | \u001b[36mINFO\u001b[0m    | Flow run\u001b[35m 'independent-jacamar'\u001b[0m - Created task run 'query_pool_vol-8bdd8db3-11' for task 'query_pool_vol'\n"
      ]
     },
     "metadata": {},
     "output_type": "display_data"
    },
    {
     "data": {
      "text/html": [
       "<pre style=\"white-space:pre;overflow-x:auto;line-height:normal;font-family:Menlo,'DejaVu Sans Mono',consolas,'Courier New',monospace\">17:14:55.597 | <span style=\"color: #008080; text-decoration-color: #008080\">INFO</span>    | Flow run<span style=\"color: #800080; text-decoration-color: #800080\"> 'independent-jacamar'</span> - Submitted task run 'query_pool_vol-8bdd8db3-11' for execution.\n",
       "</pre>\n"
      ],
      "text/plain": [
       "17:14:55.597 | \u001b[36mINFO\u001b[0m    | Flow run\u001b[35m 'independent-jacamar'\u001b[0m - Submitted task run 'query_pool_vol-8bdd8db3-11' for execution.\n"
      ]
     },
     "metadata": {},
     "output_type": "display_data"
    },
    {
     "data": {
      "text/html": [
       "<pre style=\"white-space:pre;overflow-x:auto;line-height:normal;font-family:Menlo,'DejaVu Sans Mono',consolas,'Courier New',monospace\">17:14:55.605 | <span style=\"color: #008080; text-decoration-color: #008080\">INFO</span>    | Task run 'query_pool_vol-8bdd8db3-9' - Finished in state <span style=\"color: #008000; text-decoration-color: #008000\">Completed</span>()\n",
       "</pre>\n"
      ],
      "text/plain": [
       "17:14:55.605 | \u001b[36mINFO\u001b[0m    | Task run 'query_pool_vol-8bdd8db3-9' - Finished in state \u001b[32mCompleted\u001b[0m()\n"
      ]
     },
     "metadata": {},
     "output_type": "display_data"
    },
    {
     "data": {
      "text/html": [
       "<pre style=\"white-space:pre;overflow-x:auto;line-height:normal;font-family:Menlo,'DejaVu Sans Mono',consolas,'Courier New',monospace\">17:14:55.825 | <span style=\"color: #008080; text-decoration-color: #008080\">INFO</span>    | Task run 'query_pool_vol-8bdd8db3-43' - Finished in state <span style=\"color: #008000; text-decoration-color: #008000\">Completed</span>()\n",
       "</pre>\n"
      ],
      "text/plain": [
       "17:14:55.825 | \u001b[36mINFO\u001b[0m    | Task run 'query_pool_vol-8bdd8db3-43' - Finished in state \u001b[32mCompleted\u001b[0m()\n"
      ]
     },
     "metadata": {},
     "output_type": "display_data"
    },
    {
     "data": {
      "text/html": [
       "<pre style=\"white-space:pre;overflow-x:auto;line-height:normal;font-family:Menlo,'DejaVu Sans Mono',consolas,'Courier New',monospace\">17:14:55.833 | <span style=\"color: #008080; text-decoration-color: #008080\">INFO</span>    | Task run 'query_pool_snaps-60635b41-41' - Finished in state <span style=\"color: #008000; text-decoration-color: #008000\">Completed</span>()\n",
       "</pre>\n"
      ],
      "text/plain": [
       "17:14:55.833 | \u001b[36mINFO\u001b[0m    | Task run 'query_pool_snaps-60635b41-41' - Finished in state \u001b[32mCompleted\u001b[0m()\n"
      ]
     },
     "metadata": {},
     "output_type": "display_data"
    },
    {
     "data": {
      "text/html": [
       "<pre style=\"white-space:pre;overflow-x:auto;line-height:normal;font-family:Menlo,'DejaVu Sans Mono',consolas,'Courier New',monospace\">17:14:55.843 | <span style=\"color: #008080; text-decoration-color: #008080\">INFO</span>    | Task run 'query_pool_snaps-60635b41-3' - Finished in state <span style=\"color: #008000; text-decoration-color: #008000\">Completed</span>()\n",
       "</pre>\n"
      ],
      "text/plain": [
       "17:14:55.843 | \u001b[36mINFO\u001b[0m    | Task run 'query_pool_snaps-60635b41-3' - Finished in state \u001b[32mCompleted\u001b[0m()\n"
      ]
     },
     "metadata": {},
     "output_type": "display_data"
    },
    {
     "data": {
      "text/html": [
       "<pre style=\"white-space:pre;overflow-x:auto;line-height:normal;font-family:Menlo,'DejaVu Sans Mono',consolas,'Courier New',monospace\">17:14:55.850 | <span style=\"color: #008080; text-decoration-color: #008080\">INFO</span>    | Flow run<span style=\"color: #800080; text-decoration-color: #800080\"> 'independent-jacamar'</span> - Created task run 'query_pool_snaps-60635b41-16' for task 'query_pool_snaps'\n",
       "</pre>\n"
      ],
      "text/plain": [
       "17:14:55.850 | \u001b[36mINFO\u001b[0m    | Flow run\u001b[35m 'independent-jacamar'\u001b[0m - Created task run 'query_pool_snaps-60635b41-16' for task 'query_pool_snaps'\n"
      ]
     },
     "metadata": {},
     "output_type": "display_data"
    },
    {
     "data": {
      "text/html": [
       "<pre style=\"white-space:pre;overflow-x:auto;line-height:normal;font-family:Menlo,'DejaVu Sans Mono',consolas,'Courier New',monospace\">17:14:55.851 | <span style=\"color: #008080; text-decoration-color: #008080\">INFO</span>    | Flow run<span style=\"color: #800080; text-decoration-color: #800080\"> 'independent-jacamar'</span> - Submitted task run 'query_pool_snaps-60635b41-16' for execution.\n",
       "</pre>\n"
      ],
      "text/plain": [
       "17:14:55.851 | \u001b[36mINFO\u001b[0m    | Flow run\u001b[35m 'independent-jacamar'\u001b[0m - Submitted task run 'query_pool_snaps-60635b41-16' for execution.\n"
      ]
     },
     "metadata": {},
     "output_type": "display_data"
    },
    {
     "data": {
      "text/html": [
       "<pre style=\"white-space:pre;overflow-x:auto;line-height:normal;font-family:Menlo,'DejaVu Sans Mono',consolas,'Courier New',monospace\">17:14:55.867 | <span style=\"color: #008080; text-decoration-color: #008080\">INFO</span>    | Flow run<span style=\"color: #800080; text-decoration-color: #800080\"> 'independent-jacamar'</span> - Created task run 'query_pool_snaps-60635b41-20' for task 'query_pool_snaps'\n",
       "</pre>\n"
      ],
      "text/plain": [
       "17:14:55.867 | \u001b[36mINFO\u001b[0m    | Flow run\u001b[35m 'independent-jacamar'\u001b[0m - Created task run 'query_pool_snaps-60635b41-20' for task 'query_pool_snaps'\n"
      ]
     },
     "metadata": {},
     "output_type": "display_data"
    },
    {
     "data": {
      "text/html": [
       "<pre style=\"white-space:pre;overflow-x:auto;line-height:normal;font-family:Menlo,'DejaVu Sans Mono',consolas,'Courier New',monospace\">17:14:55.868 | <span style=\"color: #008080; text-decoration-color: #008080\">INFO</span>    | Flow run<span style=\"color: #800080; text-decoration-color: #800080\"> 'independent-jacamar'</span> - Submitted task run 'query_pool_snaps-60635b41-20' for execution.\n",
       "</pre>\n"
      ],
      "text/plain": [
       "17:14:55.868 | \u001b[36mINFO\u001b[0m    | Flow run\u001b[35m 'independent-jacamar'\u001b[0m - Submitted task run 'query_pool_snaps-60635b41-20' for execution.\n"
      ]
     },
     "metadata": {},
     "output_type": "display_data"
    },
    {
     "data": {
      "text/html": [
       "<pre style=\"white-space:pre;overflow-x:auto;line-height:normal;font-family:Menlo,'DejaVu Sans Mono',consolas,'Courier New',monospace\">17:14:55.903 | <span style=\"color: #008080; text-decoration-color: #008080\">INFO</span>    | Task run 'query_pool_snaps-60635b41-49' - Finished in state <span style=\"color: #008000; text-decoration-color: #008000\">Completed</span>()\n",
       "</pre>\n"
      ],
      "text/plain": [
       "17:14:55.903 | \u001b[36mINFO\u001b[0m    | Task run 'query_pool_snaps-60635b41-49' - Finished in state \u001b[32mCompleted\u001b[0m()\n"
      ]
     },
     "metadata": {},
     "output_type": "display_data"
    },
    {
     "data": {
      "text/html": [
       "<pre style=\"white-space:pre;overflow-x:auto;line-height:normal;font-family:Menlo,'DejaVu Sans Mono',consolas,'Courier New',monospace\">17:14:55.982 | <span style=\"color: #008080; text-decoration-color: #008080\">INFO</span>    | Task run 'query_pool_snaps-60635b41-46' - Finished in state <span style=\"color: #008000; text-decoration-color: #008000\">Completed</span>()\n",
       "</pre>\n"
      ],
      "text/plain": [
       "17:14:55.982 | \u001b[36mINFO\u001b[0m    | Task run 'query_pool_snaps-60635b41-46' - Finished in state \u001b[32mCompleted\u001b[0m()\n"
      ]
     },
     "metadata": {},
     "output_type": "display_data"
    },
    {
     "data": {
      "text/html": [
       "<pre style=\"white-space:pre;overflow-x:auto;line-height:normal;font-family:Menlo,'DejaVu Sans Mono',consolas,'Courier New',monospace\">17:14:55.989 | <span style=\"color: #008080; text-decoration-color: #008080\">INFO</span>    | Task run 'query_pool_vol-8bdd8db3-52' - Finished in state <span style=\"color: #008000; text-decoration-color: #008000\">Completed</span>()\n",
       "</pre>\n"
      ],
      "text/plain": [
       "17:14:55.989 | \u001b[36mINFO\u001b[0m    | Task run 'query_pool_vol-8bdd8db3-52' - Finished in state \u001b[32mCompleted\u001b[0m()\n"
      ]
     },
     "metadata": {},
     "output_type": "display_data"
    },
    {
     "data": {
      "text/html": [
       "<pre style=\"white-space:pre;overflow-x:auto;line-height:normal;font-family:Menlo,'DejaVu Sans Mono',consolas,'Courier New',monospace\">17:14:55.999 | <span style=\"color: #008080; text-decoration-color: #008080\">INFO</span>    | Task run 'query_pool_vol-8bdd8db3-14' - Finished in state <span style=\"color: #008000; text-decoration-color: #008000\">Completed</span>()\n",
       "</pre>\n"
      ],
      "text/plain": [
       "17:14:55.999 | \u001b[36mINFO\u001b[0m    | Task run 'query_pool_vol-8bdd8db3-14' - Finished in state \u001b[32mCompleted\u001b[0m()\n"
      ]
     },
     "metadata": {},
     "output_type": "display_data"
    },
    {
     "data": {
      "text/html": [
       "<pre style=\"white-space:pre;overflow-x:auto;line-height:normal;font-family:Menlo,'DejaVu Sans Mono',consolas,'Courier New',monospace\">17:14:56.007 | <span style=\"color: #008080; text-decoration-color: #008080\">INFO</span>    | Flow run<span style=\"color: #800080; text-decoration-color: #800080\"> 'independent-jacamar'</span> - Created task run 'query_pool_vol-8bdd8db3-56' for task 'query_pool_vol'\n",
       "</pre>\n"
      ],
      "text/plain": [
       "17:14:56.007 | \u001b[36mINFO\u001b[0m    | Flow run\u001b[35m 'independent-jacamar'\u001b[0m - Created task run 'query_pool_vol-8bdd8db3-56' for task 'query_pool_vol'\n"
      ]
     },
     "metadata": {},
     "output_type": "display_data"
    },
    {
     "data": {
      "text/html": [
       "<pre style=\"white-space:pre;overflow-x:auto;line-height:normal;font-family:Menlo,'DejaVu Sans Mono',consolas,'Courier New',monospace\">17:14:56.007 | <span style=\"color: #008080; text-decoration-color: #008080\">INFO</span>    | Flow run<span style=\"color: #800080; text-decoration-color: #800080\"> 'independent-jacamar'</span> - Submitted task run 'query_pool_vol-8bdd8db3-56' for execution.\n",
       "</pre>\n"
      ],
      "text/plain": [
       "17:14:56.007 | \u001b[36mINFO\u001b[0m    | Flow run\u001b[35m 'independent-jacamar'\u001b[0m - Submitted task run 'query_pool_vol-8bdd8db3-56' for execution.\n"
      ]
     },
     "metadata": {},
     "output_type": "display_data"
    },
    {
     "data": {
      "text/html": [
       "<pre style=\"white-space:pre;overflow-x:auto;line-height:normal;font-family:Menlo,'DejaVu Sans Mono',consolas,'Courier New',monospace\">17:14:56.065 | <span style=\"color: #008080; text-decoration-color: #008080\">INFO</span>    | Task run 'query_pool_vol-8bdd8db3-11' - Finished in state <span style=\"color: #008000; text-decoration-color: #008000\">Completed</span>()\n",
       "</pre>\n"
      ],
      "text/plain": [
       "17:14:56.065 | \u001b[36mINFO\u001b[0m    | Task run 'query_pool_vol-8bdd8db3-11' - Finished in state \u001b[32mCompleted\u001b[0m()\n"
      ]
     },
     "metadata": {},
     "output_type": "display_data"
    },
    {
     "data": {
      "text/html": [
       "<pre style=\"white-space:pre;overflow-x:auto;line-height:normal;font-family:Menlo,'DejaVu Sans Mono',consolas,'Courier New',monospace\">17:14:56.071 | <span style=\"color: #008080; text-decoration-color: #008080\">INFO</span>    | Task run 'query_pool_vol-8bdd8db3-23' - Finished in state <span style=\"color: #008000; text-decoration-color: #008000\">Completed</span>()\n",
       "</pre>\n"
      ],
      "text/plain": [
       "17:14:56.071 | \u001b[36mINFO\u001b[0m    | Task run 'query_pool_vol-8bdd8db3-23' - Finished in state \u001b[32mCompleted\u001b[0m()\n"
      ]
     },
     "metadata": {},
     "output_type": "display_data"
    },
    {
     "data": {
      "text/html": [
       "<pre style=\"white-space:pre;overflow-x:auto;line-height:normal;font-family:Menlo,'DejaVu Sans Mono',consolas,'Courier New',monospace\">17:14:56.081 | <span style=\"color: #008080; text-decoration-color: #008080\">INFO</span>    | Task run 'query_pool_snaps-60635b41-54' - Finished in state <span style=\"color: #008000; text-decoration-color: #008000\">Completed</span>()\n",
       "</pre>\n"
      ],
      "text/plain": [
       "17:14:56.081 | \u001b[36mINFO\u001b[0m    | Task run 'query_pool_snaps-60635b41-54' - Finished in state \u001b[32mCompleted\u001b[0m()\n"
      ]
     },
     "metadata": {},
     "output_type": "display_data"
    },
    {
     "data": {
      "text/html": [
       "<pre style=\"white-space:pre;overflow-x:auto;line-height:normal;font-family:Menlo,'DejaVu Sans Mono',consolas,'Courier New',monospace\">17:14:56.087 | <span style=\"color: #008080; text-decoration-color: #008080\">INFO</span>    | Task run 'query_pool_vol-8bdd8db3-36' - Finished in state <span style=\"color: #008000; text-decoration-color: #008000\">Completed</span>()\n",
       "</pre>\n"
      ],
      "text/plain": [
       "17:14:56.087 | \u001b[36mINFO\u001b[0m    | Task run 'query_pool_vol-8bdd8db3-36' - Finished in state \u001b[32mCompleted\u001b[0m()\n"
      ]
     },
     "metadata": {},
     "output_type": "display_data"
    },
    {
     "data": {
      "text/html": [
       "<pre style=\"white-space:pre;overflow-x:auto;line-height:normal;font-family:Menlo,'DejaVu Sans Mono',consolas,'Courier New',monospace\">17:14:56.108 | <span style=\"color: #008080; text-decoration-color: #008080\">INFO</span>    | Task run 'query_pool_vol-8bdd8db3-6' - Finished in state <span style=\"color: #008000; text-decoration-color: #008000\">Completed</span>()\n",
       "</pre>\n"
      ],
      "text/plain": [
       "17:14:56.108 | \u001b[36mINFO\u001b[0m    | Task run 'query_pool_vol-8bdd8db3-6' - Finished in state \u001b[32mCompleted\u001b[0m()\n"
      ]
     },
     "metadata": {},
     "output_type": "display_data"
    },
    {
     "data": {
      "text/html": [
       "<pre style=\"white-space:pre;overflow-x:auto;line-height:normal;font-family:Menlo,'DejaVu Sans Mono',consolas,'Courier New',monospace\">17:14:56.116 | <span style=\"color: #008080; text-decoration-color: #008080\">INFO</span>    | Task run 'query_pool_vol-8bdd8db3-22' - Finished in state <span style=\"color: #008000; text-decoration-color: #008000\">Completed</span>()\n",
       "</pre>\n"
      ],
      "text/plain": [
       "17:14:56.116 | \u001b[36mINFO\u001b[0m    | Task run 'query_pool_vol-8bdd8db3-22' - Finished in state \u001b[32mCompleted\u001b[0m()\n"
      ]
     },
     "metadata": {},
     "output_type": "display_data"
    },
    {
     "data": {
      "text/html": [
       "<pre style=\"white-space:pre;overflow-x:auto;line-height:normal;font-family:Menlo,'DejaVu Sans Mono',consolas,'Courier New',monospace\">17:14:56.180 | <span style=\"color: #008080; text-decoration-color: #008080\">INFO</span>    | Flow run<span style=\"color: #800080; text-decoration-color: #800080\"> 'independent-jacamar'</span> - Created task run 'query_pool_vol-8bdd8db3-3' for task 'query_pool_vol'\n",
       "</pre>\n"
      ],
      "text/plain": [
       "17:14:56.180 | \u001b[36mINFO\u001b[0m    | Flow run\u001b[35m 'independent-jacamar'\u001b[0m - Created task run 'query_pool_vol-8bdd8db3-3' for task 'query_pool_vol'\n"
      ]
     },
     "metadata": {},
     "output_type": "display_data"
    },
    {
     "data": {
      "text/html": [
       "<pre style=\"white-space:pre;overflow-x:auto;line-height:normal;font-family:Menlo,'DejaVu Sans Mono',consolas,'Courier New',monospace\">17:14:56.181 | <span style=\"color: #008080; text-decoration-color: #008080\">INFO</span>    | Flow run<span style=\"color: #800080; text-decoration-color: #800080\"> 'independent-jacamar'</span> - Submitted task run 'query_pool_vol-8bdd8db3-3' for execution.\n",
       "</pre>\n"
      ],
      "text/plain": [
       "17:14:56.181 | \u001b[36mINFO\u001b[0m    | Flow run\u001b[35m 'independent-jacamar'\u001b[0m - Submitted task run 'query_pool_vol-8bdd8db3-3' for execution.\n"
      ]
     },
     "metadata": {},
     "output_type": "display_data"
    },
    {
     "data": {
      "text/html": [
       "<pre style=\"white-space:pre;overflow-x:auto;line-height:normal;font-family:Menlo,'DejaVu Sans Mono',consolas,'Courier New',monospace\">17:14:56.223 | <span style=\"color: #008080; text-decoration-color: #008080\">INFO</span>    | Task run 'query_pool_snaps-60635b41-19' - Finished in state <span style=\"color: #008000; text-decoration-color: #008000\">Completed</span>()\n",
       "</pre>\n"
      ],
      "text/plain": [
       "17:14:56.223 | \u001b[36mINFO\u001b[0m    | Task run 'query_pool_snaps-60635b41-19' - Finished in state \u001b[32mCompleted\u001b[0m()\n"
      ]
     },
     "metadata": {},
     "output_type": "display_data"
    },
    {
     "data": {
      "text/html": [
       "<pre style=\"white-space:pre;overflow-x:auto;line-height:normal;font-family:Menlo,'DejaVu Sans Mono',consolas,'Courier New',monospace\">17:14:56.238 | <span style=\"color: #008080; text-decoration-color: #008080\">INFO</span>    | Task run 'query_pool_snaps-60635b41-23' - Finished in state <span style=\"color: #008000; text-decoration-color: #008000\">Completed</span>()\n",
       "</pre>\n"
      ],
      "text/plain": [
       "17:14:56.238 | \u001b[36mINFO\u001b[0m    | Task run 'query_pool_snaps-60635b41-23' - Finished in state \u001b[32mCompleted\u001b[0m()\n"
      ]
     },
     "metadata": {},
     "output_type": "display_data"
    },
    {
     "data": {
      "text/html": [
       "<pre style=\"white-space:pre;overflow-x:auto;line-height:normal;font-family:Menlo,'DejaVu Sans Mono',consolas,'Courier New',monospace\">17:14:56.245 | <span style=\"color: #008080; text-decoration-color: #008080\">INFO</span>    | Task run 'query_pool_vol-8bdd8db3-57' - Finished in state <span style=\"color: #008000; text-decoration-color: #008000\">Completed</span>()\n",
       "</pre>\n"
      ],
      "text/plain": [
       "17:14:56.245 | \u001b[36mINFO\u001b[0m    | Task run 'query_pool_vol-8bdd8db3-57' - Finished in state \u001b[32mCompleted\u001b[0m()\n"
      ]
     },
     "metadata": {},
     "output_type": "display_data"
    },
    {
     "data": {
      "text/html": [
       "<pre style=\"white-space:pre;overflow-x:auto;line-height:normal;font-family:Menlo,'DejaVu Sans Mono',consolas,'Courier New',monospace\">17:14:56.251 | <span style=\"color: #008080; text-decoration-color: #008080\">INFO</span>    | Task run 'query_pool_vol-8bdd8db3-56' - Finished in state <span style=\"color: #008000; text-decoration-color: #008000\">Completed</span>()\n",
       "</pre>\n"
      ],
      "text/plain": [
       "17:14:56.251 | \u001b[36mINFO\u001b[0m    | Task run 'query_pool_vol-8bdd8db3-56' - Finished in state \u001b[32mCompleted\u001b[0m()\n"
      ]
     },
     "metadata": {},
     "output_type": "display_data"
    },
    {
     "data": {
      "text/html": [
       "<pre style=\"white-space:pre;overflow-x:auto;line-height:normal;font-family:Menlo,'DejaVu Sans Mono',consolas,'Courier New',monospace\">17:14:56.256 | <span style=\"color: #008080; text-decoration-color: #008080\">INFO</span>    | Task run 'query_pool_vol-8bdd8db3-28' - Finished in state <span style=\"color: #008000; text-decoration-color: #008000\">Completed</span>()\n",
       "</pre>\n"
      ],
      "text/plain": [
       "17:14:56.256 | \u001b[36mINFO\u001b[0m    | Task run 'query_pool_vol-8bdd8db3-28' - Finished in state \u001b[32mCompleted\u001b[0m()\n"
      ]
     },
     "metadata": {},
     "output_type": "display_data"
    },
    {
     "data": {
      "text/html": [
       "<pre style=\"white-space:pre;overflow-x:auto;line-height:normal;font-family:Menlo,'DejaVu Sans Mono',consolas,'Courier New',monospace\">17:14:56.277 | <span style=\"color: #008080; text-decoration-color: #008080\">INFO</span>    | Flow run<span style=\"color: #800080; text-decoration-color: #800080\"> 'independent-jacamar'</span> - Created task run 'query_pool_snaps-60635b41-50' for task 'query_pool_snaps'\n",
       "</pre>\n"
      ],
      "text/plain": [
       "17:14:56.277 | \u001b[36mINFO\u001b[0m    | Flow run\u001b[35m 'independent-jacamar'\u001b[0m - Created task run 'query_pool_snaps-60635b41-50' for task 'query_pool_snaps'\n"
      ]
     },
     "metadata": {},
     "output_type": "display_data"
    },
    {
     "data": {
      "text/html": [
       "<pre style=\"white-space:pre;overflow-x:auto;line-height:normal;font-family:Menlo,'DejaVu Sans Mono',consolas,'Courier New',monospace\">17:14:56.278 | <span style=\"color: #008080; text-decoration-color: #008080\">INFO</span>    | Flow run<span style=\"color: #800080; text-decoration-color: #800080\"> 'independent-jacamar'</span> - Submitted task run 'query_pool_snaps-60635b41-50' for execution.\n",
       "</pre>\n"
      ],
      "text/plain": [
       "17:14:56.278 | \u001b[36mINFO\u001b[0m    | Flow run\u001b[35m 'independent-jacamar'\u001b[0m - Submitted task run 'query_pool_snaps-60635b41-50' for execution.\n"
      ]
     },
     "metadata": {},
     "output_type": "display_data"
    },
    {
     "data": {
      "text/html": [
       "<pre style=\"white-space:pre;overflow-x:auto;line-height:normal;font-family:Menlo,'DejaVu Sans Mono',consolas,'Courier New',monospace\">17:14:56.290 | <span style=\"color: #008080; text-decoration-color: #008080\">INFO</span>    | Task run 'query_pool_snaps-60635b41-2' - Finished in state <span style=\"color: #008000; text-decoration-color: #008000\">Completed</span>()\n",
       "</pre>\n"
      ],
      "text/plain": [
       "17:14:56.290 | \u001b[36mINFO\u001b[0m    | Task run 'query_pool_snaps-60635b41-2' - Finished in state \u001b[32mCompleted\u001b[0m()\n"
      ]
     },
     "metadata": {},
     "output_type": "display_data"
    },
    {
     "data": {
      "text/html": [
       "<pre style=\"white-space:pre;overflow-x:auto;line-height:normal;font-family:Menlo,'DejaVu Sans Mono',consolas,'Courier New',monospace\">17:14:56.360 | <span style=\"color: #008080; text-decoration-color: #008080\">INFO</span>    | Flow run<span style=\"color: #800080; text-decoration-color: #800080\"> 'independent-jacamar'</span> - Created task run 'query_pool_snaps-60635b41-1' for task 'query_pool_snaps'\n",
       "</pre>\n"
      ],
      "text/plain": [
       "17:14:56.360 | \u001b[36mINFO\u001b[0m    | Flow run\u001b[35m 'independent-jacamar'\u001b[0m - Created task run 'query_pool_snaps-60635b41-1' for task 'query_pool_snaps'\n"
      ]
     },
     "metadata": {},
     "output_type": "display_data"
    },
    {
     "data": {
      "text/html": [
       "<pre style=\"white-space:pre;overflow-x:auto;line-height:normal;font-family:Menlo,'DejaVu Sans Mono',consolas,'Courier New',monospace\">17:14:56.361 | <span style=\"color: #008080; text-decoration-color: #008080\">INFO</span>    | Flow run<span style=\"color: #800080; text-decoration-color: #800080\"> 'independent-jacamar'</span> - Submitted task run 'query_pool_snaps-60635b41-1' for execution.\n",
       "</pre>\n"
      ],
      "text/plain": [
       "17:14:56.361 | \u001b[36mINFO\u001b[0m    | Flow run\u001b[35m 'independent-jacamar'\u001b[0m - Submitted task run 'query_pool_snaps-60635b41-1' for execution.\n"
      ]
     },
     "metadata": {},
     "output_type": "display_data"
    },
    {
     "data": {
      "text/html": [
       "<pre style=\"white-space:pre;overflow-x:auto;line-height:normal;font-family:Menlo,'DejaVu Sans Mono',consolas,'Courier New',monospace\">17:14:56.448 | <span style=\"color: #008080; text-decoration-color: #008080\">INFO</span>    | Task run 'query_pool_vol-8bdd8db3-40' - Finished in state <span style=\"color: #008000; text-decoration-color: #008000\">Completed</span>()\n",
       "</pre>\n"
      ],
      "text/plain": [
       "17:14:56.448 | \u001b[36mINFO\u001b[0m    | Task run 'query_pool_vol-8bdd8db3-40' - Finished in state \u001b[32mCompleted\u001b[0m()\n"
      ]
     },
     "metadata": {},
     "output_type": "display_data"
    },
    {
     "data": {
      "text/html": [
       "<pre style=\"white-space:pre;overflow-x:auto;line-height:normal;font-family:Menlo,'DejaVu Sans Mono',consolas,'Courier New',monospace\">17:14:56.468 | <span style=\"color: #008080; text-decoration-color: #008080\">INFO</span>    | Flow run<span style=\"color: #800080; text-decoration-color: #800080\"> 'independent-jacamar'</span> - Created task run 'query_pool_vol-8bdd8db3-45' for task 'query_pool_vol'\n",
       "</pre>\n"
      ],
      "text/plain": [
       "17:14:56.468 | \u001b[36mINFO\u001b[0m    | Flow run\u001b[35m 'independent-jacamar'\u001b[0m - Created task run 'query_pool_vol-8bdd8db3-45' for task 'query_pool_vol'\n"
      ]
     },
     "metadata": {},
     "output_type": "display_data"
    },
    {
     "data": {
      "text/html": [
       "<pre style=\"white-space:pre;overflow-x:auto;line-height:normal;font-family:Menlo,'DejaVu Sans Mono',consolas,'Courier New',monospace\">17:14:56.469 | <span style=\"color: #008080; text-decoration-color: #008080\">INFO</span>    | Flow run<span style=\"color: #800080; text-decoration-color: #800080\"> 'independent-jacamar'</span> - Submitted task run 'query_pool_vol-8bdd8db3-45' for execution.\n",
       "</pre>\n"
      ],
      "text/plain": [
       "17:14:56.469 | \u001b[36mINFO\u001b[0m    | Flow run\u001b[35m 'independent-jacamar'\u001b[0m - Submitted task run 'query_pool_vol-8bdd8db3-45' for execution.\n"
      ]
     },
     "metadata": {},
     "output_type": "display_data"
    },
    {
     "data": {
      "text/html": [
       "<pre style=\"white-space:pre;overflow-x:auto;line-height:normal;font-family:Menlo,'DejaVu Sans Mono',consolas,'Courier New',monospace\">17:14:56.518 | <span style=\"color: #008080; text-decoration-color: #008080\">INFO</span>    | Task run 'query_pool_snaps-60635b41-17' - Finished in state <span style=\"color: #008000; text-decoration-color: #008000\">Completed</span>()\n",
       "</pre>\n"
      ],
      "text/plain": [
       "17:14:56.518 | \u001b[36mINFO\u001b[0m    | Task run 'query_pool_snaps-60635b41-17' - Finished in state \u001b[32mCompleted\u001b[0m()\n"
      ]
     },
     "metadata": {},
     "output_type": "display_data"
    },
    {
     "data": {
      "text/html": [
       "<pre style=\"white-space:pre;overflow-x:auto;line-height:normal;font-family:Menlo,'DejaVu Sans Mono',consolas,'Courier New',monospace\">17:14:56.577 | <span style=\"color: #008080; text-decoration-color: #008080\">INFO</span>    | Flow run<span style=\"color: #800080; text-decoration-color: #800080\"> 'independent-jacamar'</span> - Created task run 'query_pool_snaps-60635b41-61' for task 'query_pool_snaps'\n",
       "</pre>\n"
      ],
      "text/plain": [
       "17:14:56.577 | \u001b[36mINFO\u001b[0m    | Flow run\u001b[35m 'independent-jacamar'\u001b[0m - Created task run 'query_pool_snaps-60635b41-61' for task 'query_pool_snaps'\n"
      ]
     },
     "metadata": {},
     "output_type": "display_data"
    },
    {
     "data": {
      "text/html": [
       "<pre style=\"white-space:pre;overflow-x:auto;line-height:normal;font-family:Menlo,'DejaVu Sans Mono',consolas,'Courier New',monospace\">17:14:56.578 | <span style=\"color: #008080; text-decoration-color: #008080\">INFO</span>    | Flow run<span style=\"color: #800080; text-decoration-color: #800080\"> 'independent-jacamar'</span> - Submitted task run 'query_pool_snaps-60635b41-61' for execution.\n",
       "</pre>\n"
      ],
      "text/plain": [
       "17:14:56.578 | \u001b[36mINFO\u001b[0m    | Flow run\u001b[35m 'independent-jacamar'\u001b[0m - Submitted task run 'query_pool_snaps-60635b41-61' for execution.\n"
      ]
     },
     "metadata": {},
     "output_type": "display_data"
    },
    {
     "data": {
      "text/html": [
       "<pre style=\"white-space:pre;overflow-x:auto;line-height:normal;font-family:Menlo,'DejaVu Sans Mono',consolas,'Courier New',monospace\">17:14:56.591 | <span style=\"color: #008080; text-decoration-color: #008080\">INFO</span>    | Task run 'query_pool_snaps-60635b41-26' - Finished in state <span style=\"color: #008000; text-decoration-color: #008000\">Completed</span>()\n",
       "</pre>\n"
      ],
      "text/plain": [
       "17:14:56.591 | \u001b[36mINFO\u001b[0m    | Task run 'query_pool_snaps-60635b41-26' - Finished in state \u001b[32mCompleted\u001b[0m()\n"
      ]
     },
     "metadata": {},
     "output_type": "display_data"
    },
    {
     "data": {
      "text/html": [
       "<pre style=\"white-space:pre;overflow-x:auto;line-height:normal;font-family:Menlo,'DejaVu Sans Mono',consolas,'Courier New',monospace\">17:14:56.718 | <span style=\"color: #008080; text-decoration-color: #008080\">INFO</span>    | Task run 'query_pool_vol-8bdd8db3-45' - Finished in state <span style=\"color: #008000; text-decoration-color: #008000\">Completed</span>()\n",
       "</pre>\n"
      ],
      "text/plain": [
       "17:14:56.718 | \u001b[36mINFO\u001b[0m    | Task run 'query_pool_vol-8bdd8db3-45' - Finished in state \u001b[32mCompleted\u001b[0m()\n"
      ]
     },
     "metadata": {},
     "output_type": "display_data"
    },
    {
     "data": {
      "text/html": [
       "<pre style=\"white-space:pre;overflow-x:auto;line-height:normal;font-family:Menlo,'DejaVu Sans Mono',consolas,'Courier New',monospace\">17:14:57.778 | <span style=\"color: #008080; text-decoration-color: #008080\">INFO</span>    | Task run 'query_pool_snaps-60635b41-20' - Finished in state <span style=\"color: #008000; text-decoration-color: #008000\">Completed</span>()\n",
       "</pre>\n"
      ],
      "text/plain": [
       "17:14:57.778 | \u001b[36mINFO\u001b[0m    | Task run 'query_pool_snaps-60635b41-20' - Finished in state \u001b[32mCompleted\u001b[0m()\n"
      ]
     },
     "metadata": {},
     "output_type": "display_data"
    },
    {
     "data": {
      "text/html": [
       "<pre style=\"white-space:pre;overflow-x:auto;line-height:normal;font-family:Menlo,'DejaVu Sans Mono',consolas,'Courier New',monospace\">17:14:57.787 | <span style=\"color: #008080; text-decoration-color: #008080\">INFO</span>    | Task run 'query_pool_snaps-60635b41-50' - Finished in state <span style=\"color: #008000; text-decoration-color: #008000\">Completed</span>()\n",
       "</pre>\n"
      ],
      "text/plain": [
       "17:14:57.787 | \u001b[36mINFO\u001b[0m    | Task run 'query_pool_snaps-60635b41-50' - Finished in state \u001b[32mCompleted\u001b[0m()\n"
      ]
     },
     "metadata": {},
     "output_type": "display_data"
    },
    {
     "data": {
      "text/html": [
       "<pre style=\"white-space:pre;overflow-x:auto;line-height:normal;font-family:Menlo,'DejaVu Sans Mono',consolas,'Courier New',monospace\">17:14:57.792 | <span style=\"color: #008080; text-decoration-color: #008080\">INFO</span>    | Task run 'query_pool_snaps-60635b41-24' - Finished in state <span style=\"color: #008000; text-decoration-color: #008000\">Completed</span>()\n",
       "</pre>\n"
      ],
      "text/plain": [
       "17:14:57.792 | \u001b[36mINFO\u001b[0m    | Task run 'query_pool_snaps-60635b41-24' - Finished in state \u001b[32mCompleted\u001b[0m()\n"
      ]
     },
     "metadata": {},
     "output_type": "display_data"
    },
    {
     "data": {
      "text/html": [
       "<pre style=\"white-space:pre;overflow-x:auto;line-height:normal;font-family:Menlo,'DejaVu Sans Mono',consolas,'Courier New',monospace\">17:14:57.797 | <span style=\"color: #008080; text-decoration-color: #008080\">INFO</span>    | Task run 'query_pool_snaps-60635b41-9' - Finished in state <span style=\"color: #008000; text-decoration-color: #008000\">Completed</span>()\n",
       "</pre>\n"
      ],
      "text/plain": [
       "17:14:57.797 | \u001b[36mINFO\u001b[0m    | Task run 'query_pool_snaps-60635b41-9' - Finished in state \u001b[32mCompleted\u001b[0m()\n"
      ]
     },
     "metadata": {},
     "output_type": "display_data"
    },
    {
     "data": {
      "text/html": [
       "<pre style=\"white-space:pre;overflow-x:auto;line-height:normal;font-family:Menlo,'DejaVu Sans Mono',consolas,'Courier New',monospace\">17:14:57.992 | <span style=\"color: #008080; text-decoration-color: #008080\">INFO</span>    | Task run 'query_pool_vol-8bdd8db3-3' - Finished in state <span style=\"color: #008000; text-decoration-color: #008000\">Completed</span>()\n",
       "</pre>\n"
      ],
      "text/plain": [
       "17:14:57.992 | \u001b[36mINFO\u001b[0m    | Task run 'query_pool_vol-8bdd8db3-3' - Finished in state \u001b[32mCompleted\u001b[0m()\n"
      ]
     },
     "metadata": {},
     "output_type": "display_data"
    },
    {
     "data": {
      "text/html": [
       "<pre style=\"white-space:pre;overflow-x:auto;line-height:normal;font-family:Menlo,'DejaVu Sans Mono',consolas,'Courier New',monospace\">17:14:58.000 | <span style=\"color: #008080; text-decoration-color: #008080\">INFO</span>    | Task run 'query_pool_snaps-60635b41-61' - Finished in state <span style=\"color: #008000; text-decoration-color: #008000\">Completed</span>()\n",
       "</pre>\n"
      ],
      "text/plain": [
       "17:14:58.000 | \u001b[36mINFO\u001b[0m    | Task run 'query_pool_snaps-60635b41-61' - Finished in state \u001b[32mCompleted\u001b[0m()\n"
      ]
     },
     "metadata": {},
     "output_type": "display_data"
    },
    {
     "data": {
      "text/html": [
       "<pre style=\"white-space:pre;overflow-x:auto;line-height:normal;font-family:Menlo,'DejaVu Sans Mono',consolas,'Courier New',monospace\">17:14:58.011 | <span style=\"color: #008080; text-decoration-color: #008080\">INFO</span>    | Task run 'query_pool_snaps-60635b41-32' - Finished in state <span style=\"color: #008000; text-decoration-color: #008000\">Completed</span>()\n",
       "</pre>\n"
      ],
      "text/plain": [
       "17:14:58.011 | \u001b[36mINFO\u001b[0m    | Task run 'query_pool_snaps-60635b41-32' - Finished in state \u001b[32mCompleted\u001b[0m()\n"
      ]
     },
     "metadata": {},
     "output_type": "display_data"
    },
    {
     "data": {
      "text/html": [
       "<pre style=\"white-space:pre;overflow-x:auto;line-height:normal;font-family:Menlo,'DejaVu Sans Mono',consolas,'Courier New',monospace\">17:14:58.023 | <span style=\"color: #008080; text-decoration-color: #008080\">INFO</span>    | Task run 'query_pool_snaps-60635b41-1' - Finished in state <span style=\"color: #008000; text-decoration-color: #008000\">Completed</span>()\n",
       "</pre>\n"
      ],
      "text/plain": [
       "17:14:58.023 | \u001b[36mINFO\u001b[0m    | Task run 'query_pool_snaps-60635b41-1' - Finished in state \u001b[32mCompleted\u001b[0m()\n"
      ]
     },
     "metadata": {},
     "output_type": "display_data"
    },
    {
     "data": {
      "text/html": [
       "<pre style=\"white-space:pre;overflow-x:auto;line-height:normal;font-family:Menlo,'DejaVu Sans Mono',consolas,'Courier New',monospace\">17:14:58.040 | <span style=\"color: #008080; text-decoration-color: #008080\">INFO</span>    | Task run 'query_pool_snaps-60635b41-6' - Finished in state <span style=\"color: #008000; text-decoration-color: #008000\">Completed</span>()\n",
       "</pre>\n"
      ],
      "text/plain": [
       "17:14:58.040 | \u001b[36mINFO\u001b[0m    | Task run 'query_pool_snaps-60635b41-6' - Finished in state \u001b[32mCompleted\u001b[0m()\n"
      ]
     },
     "metadata": {},
     "output_type": "display_data"
    },
    {
     "data": {
      "text/html": [
       "<pre style=\"white-space:pre;overflow-x:auto;line-height:normal;font-family:Menlo,'DejaVu Sans Mono',consolas,'Courier New',monospace\">17:14:58.125 | <span style=\"color: #008080; text-decoration-color: #008080\">INFO</span>    | Task run 'query_pool_snaps-60635b41-21' - Finished in state <span style=\"color: #008000; text-decoration-color: #008000\">Completed</span>()\n",
       "</pre>\n"
      ],
      "text/plain": [
       "17:14:58.125 | \u001b[36mINFO\u001b[0m    | Task run 'query_pool_snaps-60635b41-21' - Finished in state \u001b[32mCompleted\u001b[0m()\n"
      ]
     },
     "metadata": {},
     "output_type": "display_data"
    },
    {
     "data": {
      "text/html": [
       "<pre style=\"white-space:pre;overflow-x:auto;line-height:normal;font-family:Menlo,'DejaVu Sans Mono',consolas,'Courier New',monospace\">17:14:58.146 | <span style=\"color: #008080; text-decoration-color: #008080\">INFO</span>    | Task run 'query_pool_snaps-60635b41-59' - Finished in state <span style=\"color: #008000; text-decoration-color: #008000\">Completed</span>()\n",
       "</pre>\n"
      ],
      "text/plain": [
       "17:14:58.146 | \u001b[36mINFO\u001b[0m    | Task run 'query_pool_snaps-60635b41-59' - Finished in state \u001b[32mCompleted\u001b[0m()\n"
      ]
     },
     "metadata": {},
     "output_type": "display_data"
    },
    {
     "data": {
      "text/html": [
       "<pre style=\"white-space:pre;overflow-x:auto;line-height:normal;font-family:Menlo,'DejaVu Sans Mono',consolas,'Courier New',monospace\">17:14:58.232 | <span style=\"color: #008080; text-decoration-color: #008080\">INFO</span>    | Task run 'query_pool_snaps-60635b41-16' - Finished in state <span style=\"color: #008000; text-decoration-color: #008000\">Completed</span>()\n",
       "</pre>\n"
      ],
      "text/plain": [
       "17:14:58.232 | \u001b[36mINFO\u001b[0m    | Task run 'query_pool_snaps-60635b41-16' - Finished in state \u001b[32mCompleted\u001b[0m()\n"
      ]
     },
     "metadata": {},
     "output_type": "display_data"
    },
    {
     "data": {
      "text/html": [
       "<pre style=\"white-space:pre;overflow-x:auto;line-height:normal;font-family:Menlo,'DejaVu Sans Mono',consolas,'Courier New',monospace\">17:14:58.807 | <span style=\"color: #008080; text-decoration-color: #008080\">INFO</span>    | Task run 'query_pool_snaps-60635b41-51' - Finished in state <span style=\"color: #008000; text-decoration-color: #008000\">Completed</span>()\n",
       "</pre>\n"
      ],
      "text/plain": [
       "17:14:58.807 | \u001b[36mINFO\u001b[0m    | Task run 'query_pool_snaps-60635b41-51' - Finished in state \u001b[32mCompleted\u001b[0m()\n"
      ]
     },
     "metadata": {},
     "output_type": "display_data"
    },
    {
     "data": {
      "text/html": [
       "<pre style=\"white-space:pre;overflow-x:auto;line-height:normal;font-family:Menlo,'DejaVu Sans Mono',consolas,'Courier New',monospace\">17:15:22.930 | <span style=\"color: #008080; text-decoration-color: #008080\">INFO</span>    | Task run 'query_pool_vol-8bdd8db3-2' - Finished in state <span style=\"color: #008000; text-decoration-color: #008000\">Completed</span>()\n",
       "</pre>\n"
      ],
      "text/plain": [
       "17:15:22.930 | \u001b[36mINFO\u001b[0m    | Task run 'query_pool_vol-8bdd8db3-2' - Finished in state \u001b[32mCompleted\u001b[0m()\n"
      ]
     },
     "metadata": {},
     "output_type": "display_data"
    },
    {
     "data": {
      "text/html": [
       "<pre style=\"white-space:pre;overflow-x:auto;line-height:normal;font-family:Menlo,'DejaVu Sans Mono',consolas,'Courier New',monospace\">17:15:23.401 | <span style=\"color: #008080; text-decoration-color: #008080\">INFO</span>    | Task run 'query_pool_vol-8bdd8db3-41' - Finished in state <span style=\"color: #008000; text-decoration-color: #008000\">Completed</span>()\n",
       "</pre>\n"
      ],
      "text/plain": [
       "17:15:23.401 | \u001b[36mINFO\u001b[0m    | Task run 'query_pool_vol-8bdd8db3-41' - Finished in state \u001b[32mCompleted\u001b[0m()\n"
      ]
     },
     "metadata": {},
     "output_type": "display_data"
    },
    {
     "data": {
      "text/html": [
       "<pre style=\"white-space:pre;overflow-x:auto;line-height:normal;font-family:Menlo,'DejaVu Sans Mono',consolas,'Courier New',monospace\">17:15:24.181 | <span style=\"color: #008080; text-decoration-color: #008080\">INFO</span>    | Task run 'query_pool_snaps-60635b41-33' - Finished in state <span style=\"color: #008000; text-decoration-color: #008000\">Completed</span>()\n",
       "</pre>\n"
      ],
      "text/plain": [
       "17:15:24.181 | \u001b[36mINFO\u001b[0m    | Task run 'query_pool_snaps-60635b41-33' - Finished in state \u001b[32mCompleted\u001b[0m()\n"
      ]
     },
     "metadata": {},
     "output_type": "display_data"
    },
    {
     "data": {
      "text/html": [
       "<pre style=\"white-space:pre;overflow-x:auto;line-height:normal;font-family:Menlo,'DejaVu Sans Mono',consolas,'Courier New',monospace\">17:15:24.489 | <span style=\"color: #008080; text-decoration-color: #008080\">INFO</span>    | Task run 'query_pool_snaps-60635b41-47' - Finished in state <span style=\"color: #008000; text-decoration-color: #008000\">Completed</span>()\n",
       "</pre>\n"
      ],
      "text/plain": [
       "17:15:24.489 | \u001b[36mINFO\u001b[0m    | Task run 'query_pool_snaps-60635b41-47' - Finished in state \u001b[32mCompleted\u001b[0m()\n"
      ]
     },
     "metadata": {},
     "output_type": "display_data"
    },
    {
     "data": {
      "text/html": [
       "<pre style=\"white-space:pre;overflow-x:auto;line-height:normal;font-family:Menlo,'DejaVu Sans Mono',consolas,'Courier New',monospace\">17:15:54.264 | <span style=\"color: #008080; text-decoration-color: #008080\">INFO</span>    | Task run 'query_pool_snaps-60635b41-12' - Finished in state <span style=\"color: #008000; text-decoration-color: #008000\">Completed</span>()\n",
       "</pre>\n"
      ],
      "text/plain": [
       "17:15:54.264 | \u001b[36mINFO\u001b[0m    | Task run 'query_pool_snaps-60635b41-12' - Finished in state \u001b[32mCompleted\u001b[0m()\n"
      ]
     },
     "metadata": {},
     "output_type": "display_data"
    },
    {
     "data": {
      "text/html": [
       "<pre style=\"white-space:pre;overflow-x:auto;line-height:normal;font-family:Menlo,'DejaVu Sans Mono',consolas,'Courier New',monospace\">17:15:54.287 | <span style=\"color: #008080; text-decoration-color: #008080\">INFO</span>    | Flow run<span style=\"color: #800080; text-decoration-color: #800080\"> 'independent-jacamar'</span> - Created task run 'process_pool_snaps-bb91f77b-0' for task 'process_pool_snaps'\n",
       "</pre>\n"
      ],
      "text/plain": [
       "17:15:54.287 | \u001b[36mINFO\u001b[0m    | Flow run\u001b[35m 'independent-jacamar'\u001b[0m - Created task run 'process_pool_snaps-bb91f77b-0' for task 'process_pool_snaps'\n"
      ]
     },
     "metadata": {},
     "output_type": "display_data"
    },
    {
     "data": {
      "text/html": [
       "<pre style=\"white-space:pre;overflow-x:auto;line-height:normal;font-family:Menlo,'DejaVu Sans Mono',consolas,'Courier New',monospace\">17:15:54.288 | <span style=\"color: #008080; text-decoration-color: #008080\">INFO</span>    | Flow run<span style=\"color: #800080; text-decoration-color: #800080\"> 'independent-jacamar'</span> - Executing 'process_pool_snaps-bb91f77b-0' immediately...\n",
       "</pre>\n"
      ],
      "text/plain": [
       "17:15:54.288 | \u001b[36mINFO\u001b[0m    | Flow run\u001b[35m 'independent-jacamar'\u001b[0m - Executing 'process_pool_snaps-bb91f77b-0' immediately...\n"
      ]
     },
     "metadata": {},
     "output_type": "display_data"
    },
    {
     "data": {
      "text/html": [
       "<pre style=\"white-space:pre;overflow-x:auto;line-height:normal;font-family:Menlo,'DejaVu Sans Mono',consolas,'Courier New',monospace\">17:15:54.314 | <span style=\"color: #008080; text-decoration-color: #008080\">INFO</span>    | Task run 'process_pool_snaps-bb91f77b-0' - Finished in state <span style=\"color: #008000; text-decoration-color: #008000\">Completed</span>()\n",
       "</pre>\n"
      ],
      "text/plain": [
       "17:15:54.314 | \u001b[36mINFO\u001b[0m    | Task run 'process_pool_snaps-bb91f77b-0' - Finished in state \u001b[32mCompleted\u001b[0m()\n"
      ]
     },
     "metadata": {},
     "output_type": "display_data"
    },
    {
     "data": {
      "text/html": [
       "<pre style=\"white-space:pre;overflow-x:auto;line-height:normal;font-family:Menlo,'DejaVu Sans Mono',consolas,'Courier New',monospace\">17:15:54.327 | <span style=\"color: #008080; text-decoration-color: #008080\">INFO</span>    | Flow run<span style=\"color: #800080; text-decoration-color: #800080\"> 'independent-jacamar'</span> - Created task run 'process_pool_snaps-bb91f77b-1' for task 'process_pool_snaps'\n",
       "</pre>\n"
      ],
      "text/plain": [
       "17:15:54.327 | \u001b[36mINFO\u001b[0m    | Flow run\u001b[35m 'independent-jacamar'\u001b[0m - Created task run 'process_pool_snaps-bb91f77b-1' for task 'process_pool_snaps'\n"
      ]
     },
     "metadata": {},
     "output_type": "display_data"
    },
    {
     "data": {
      "text/html": [
       "<pre style=\"white-space:pre;overflow-x:auto;line-height:normal;font-family:Menlo,'DejaVu Sans Mono',consolas,'Courier New',monospace\">17:15:54.328 | <span style=\"color: #008080; text-decoration-color: #008080\">INFO</span>    | Flow run<span style=\"color: #800080; text-decoration-color: #800080\"> 'independent-jacamar'</span> - Executing 'process_pool_snaps-bb91f77b-1' immediately...\n",
       "</pre>\n"
      ],
      "text/plain": [
       "17:15:54.328 | \u001b[36mINFO\u001b[0m    | Flow run\u001b[35m 'independent-jacamar'\u001b[0m - Executing 'process_pool_snaps-bb91f77b-1' immediately...\n"
      ]
     },
     "metadata": {},
     "output_type": "display_data"
    },
    {
     "data": {
      "text/html": [
       "<pre style=\"white-space:pre;overflow-x:auto;line-height:normal;font-family:Menlo,'DejaVu Sans Mono',consolas,'Courier New',monospace\">17:15:54.353 | <span style=\"color: #008080; text-decoration-color: #008080\">INFO</span>    | Task run 'process_pool_snaps-bb91f77b-1' - Finished in state <span style=\"color: #008000; text-decoration-color: #008000\">Completed</span>()\n",
       "</pre>\n"
      ],
      "text/plain": [
       "17:15:54.353 | \u001b[36mINFO\u001b[0m    | Task run 'process_pool_snaps-bb91f77b-1' - Finished in state \u001b[32mCompleted\u001b[0m()\n"
      ]
     },
     "metadata": {},
     "output_type": "display_data"
    },
    {
     "data": {
      "text/html": [
       "<pre style=\"white-space:pre;overflow-x:auto;line-height:normal;font-family:Menlo,'DejaVu Sans Mono',consolas,'Courier New',monospace\">17:15:54.363 | <span style=\"color: #008080; text-decoration-color: #008080\">INFO</span>    | Flow run<span style=\"color: #800080; text-decoration-color: #800080\"> 'independent-jacamar'</span> - Created task run 'process_pool_snaps-bb91f77b-2' for task 'process_pool_snaps'\n",
       "</pre>\n"
      ],
      "text/plain": [
       "17:15:54.363 | \u001b[36mINFO\u001b[0m    | Flow run\u001b[35m 'independent-jacamar'\u001b[0m - Created task run 'process_pool_snaps-bb91f77b-2' for task 'process_pool_snaps'\n"
      ]
     },
     "metadata": {},
     "output_type": "display_data"
    },
    {
     "data": {
      "text/html": [
       "<pre style=\"white-space:pre;overflow-x:auto;line-height:normal;font-family:Menlo,'DejaVu Sans Mono',consolas,'Courier New',monospace\">17:15:54.364 | <span style=\"color: #008080; text-decoration-color: #008080\">INFO</span>    | Flow run<span style=\"color: #800080; text-decoration-color: #800080\"> 'independent-jacamar'</span> - Executing 'process_pool_snaps-bb91f77b-2' immediately...\n",
       "</pre>\n"
      ],
      "text/plain": [
       "17:15:54.364 | \u001b[36mINFO\u001b[0m    | Flow run\u001b[35m 'independent-jacamar'\u001b[0m - Executing 'process_pool_snaps-bb91f77b-2' immediately...\n"
      ]
     },
     "metadata": {},
     "output_type": "display_data"
    },
    {
     "data": {
      "text/html": [
       "<pre style=\"white-space:pre;overflow-x:auto;line-height:normal;font-family:Menlo,'DejaVu Sans Mono',consolas,'Courier New',monospace\">17:15:54.395 | <span style=\"color: #008080; text-decoration-color: #008080\">INFO</span>    | Task run 'process_pool_snaps-bb91f77b-2' - Finished in state <span style=\"color: #008000; text-decoration-color: #008000\">Completed</span>()\n",
       "</pre>\n"
      ],
      "text/plain": [
       "17:15:54.395 | \u001b[36mINFO\u001b[0m    | Task run 'process_pool_snaps-bb91f77b-2' - Finished in state \u001b[32mCompleted\u001b[0m()\n"
      ]
     },
     "metadata": {},
     "output_type": "display_data"
    },
    {
     "data": {
      "text/html": [
       "<pre style=\"white-space:pre;overflow-x:auto;line-height:normal;font-family:Menlo,'DejaVu Sans Mono',consolas,'Courier New',monospace\">17:15:54.404 | <span style=\"color: #008080; text-decoration-color: #008080\">INFO</span>    | Flow run<span style=\"color: #800080; text-decoration-color: #800080\"> 'independent-jacamar'</span> - Created task run 'process_pool_snaps-bb91f77b-3' for task 'process_pool_snaps'\n",
       "</pre>\n"
      ],
      "text/plain": [
       "17:15:54.404 | \u001b[36mINFO\u001b[0m    | Flow run\u001b[35m 'independent-jacamar'\u001b[0m - Created task run 'process_pool_snaps-bb91f77b-3' for task 'process_pool_snaps'\n"
      ]
     },
     "metadata": {},
     "output_type": "display_data"
    },
    {
     "data": {
      "text/html": [
       "<pre style=\"white-space:pre;overflow-x:auto;line-height:normal;font-family:Menlo,'DejaVu Sans Mono',consolas,'Courier New',monospace\">17:15:54.405 | <span style=\"color: #008080; text-decoration-color: #008080\">INFO</span>    | Flow run<span style=\"color: #800080; text-decoration-color: #800080\"> 'independent-jacamar'</span> - Executing 'process_pool_snaps-bb91f77b-3' immediately...\n",
       "</pre>\n"
      ],
      "text/plain": [
       "17:15:54.405 | \u001b[36mINFO\u001b[0m    | Flow run\u001b[35m 'independent-jacamar'\u001b[0m - Executing 'process_pool_snaps-bb91f77b-3' immediately...\n"
      ]
     },
     "metadata": {},
     "output_type": "display_data"
    },
    {
     "data": {
      "text/html": [
       "<pre style=\"white-space:pre;overflow-x:auto;line-height:normal;font-family:Menlo,'DejaVu Sans Mono',consolas,'Courier New',monospace\">17:15:54.429 | <span style=\"color: #008080; text-decoration-color: #008080\">INFO</span>    | Task run 'process_pool_snaps-bb91f77b-3' - Finished in state <span style=\"color: #008000; text-decoration-color: #008000\">Completed</span>()\n",
       "</pre>\n"
      ],
      "text/plain": [
       "17:15:54.429 | \u001b[36mINFO\u001b[0m    | Task run 'process_pool_snaps-bb91f77b-3' - Finished in state \u001b[32mCompleted\u001b[0m()\n"
      ]
     },
     "metadata": {},
     "output_type": "display_data"
    },
    {
     "data": {
      "text/html": [
       "<pre style=\"white-space:pre;overflow-x:auto;line-height:normal;font-family:Menlo,'DejaVu Sans Mono',consolas,'Courier New',monospace\">17:15:54.439 | <span style=\"color: #008080; text-decoration-color: #008080\">INFO</span>    | Flow run<span style=\"color: #800080; text-decoration-color: #800080\"> 'independent-jacamar'</span> - Created task run 'process_pool_snaps-bb91f77b-4' for task 'process_pool_snaps'\n",
       "</pre>\n"
      ],
      "text/plain": [
       "17:15:54.439 | \u001b[36mINFO\u001b[0m    | Flow run\u001b[35m 'independent-jacamar'\u001b[0m - Created task run 'process_pool_snaps-bb91f77b-4' for task 'process_pool_snaps'\n"
      ]
     },
     "metadata": {},
     "output_type": "display_data"
    },
    {
     "data": {
      "text/html": [
       "<pre style=\"white-space:pre;overflow-x:auto;line-height:normal;font-family:Menlo,'DejaVu Sans Mono',consolas,'Courier New',monospace\">17:15:54.439 | <span style=\"color: #008080; text-decoration-color: #008080\">INFO</span>    | Flow run<span style=\"color: #800080; text-decoration-color: #800080\"> 'independent-jacamar'</span> - Executing 'process_pool_snaps-bb91f77b-4' immediately...\n",
       "</pre>\n"
      ],
      "text/plain": [
       "17:15:54.439 | \u001b[36mINFO\u001b[0m    | Flow run\u001b[35m 'independent-jacamar'\u001b[0m - Executing 'process_pool_snaps-bb91f77b-4' immediately...\n"
      ]
     },
     "metadata": {},
     "output_type": "display_data"
    },
    {
     "data": {
      "text/html": [
       "<pre style=\"white-space:pre;overflow-x:auto;line-height:normal;font-family:Menlo,'DejaVu Sans Mono',consolas,'Courier New',monospace\">17:15:54.462 | <span style=\"color: #008080; text-decoration-color: #008080\">INFO</span>    | Task run 'process_pool_snaps-bb91f77b-4' - Finished in state <span style=\"color: #008000; text-decoration-color: #008000\">Completed</span>()\n",
       "</pre>\n"
      ],
      "text/plain": [
       "17:15:54.462 | \u001b[36mINFO\u001b[0m    | Task run 'process_pool_snaps-bb91f77b-4' - Finished in state \u001b[32mCompleted\u001b[0m()\n"
      ]
     },
     "metadata": {},
     "output_type": "display_data"
    },
    {
     "data": {
      "text/html": [
       "<pre style=\"white-space:pre;overflow-x:auto;line-height:normal;font-family:Menlo,'DejaVu Sans Mono',consolas,'Courier New',monospace\">17:15:54.472 | <span style=\"color: #008080; text-decoration-color: #008080\">INFO</span>    | Flow run<span style=\"color: #800080; text-decoration-color: #800080\"> 'independent-jacamar'</span> - Created task run 'process_pool_snaps-bb91f77b-5' for task 'process_pool_snaps'\n",
       "</pre>\n"
      ],
      "text/plain": [
       "17:15:54.472 | \u001b[36mINFO\u001b[0m    | Flow run\u001b[35m 'independent-jacamar'\u001b[0m - Created task run 'process_pool_snaps-bb91f77b-5' for task 'process_pool_snaps'\n"
      ]
     },
     "metadata": {},
     "output_type": "display_data"
    },
    {
     "data": {
      "text/html": [
       "<pre style=\"white-space:pre;overflow-x:auto;line-height:normal;font-family:Menlo,'DejaVu Sans Mono',consolas,'Courier New',monospace\">17:15:54.473 | <span style=\"color: #008080; text-decoration-color: #008080\">INFO</span>    | Flow run<span style=\"color: #800080; text-decoration-color: #800080\"> 'independent-jacamar'</span> - Executing 'process_pool_snaps-bb91f77b-5' immediately...\n",
       "</pre>\n"
      ],
      "text/plain": [
       "17:15:54.473 | \u001b[36mINFO\u001b[0m    | Flow run\u001b[35m 'independent-jacamar'\u001b[0m - Executing 'process_pool_snaps-bb91f77b-5' immediately...\n"
      ]
     },
     "metadata": {},
     "output_type": "display_data"
    },
    {
     "data": {
      "text/html": [
       "<pre style=\"white-space:pre;overflow-x:auto;line-height:normal;font-family:Menlo,'DejaVu Sans Mono',consolas,'Courier New',monospace\">17:15:54.498 | <span style=\"color: #008080; text-decoration-color: #008080\">INFO</span>    | Task run 'process_pool_snaps-bb91f77b-5' - Finished in state <span style=\"color: #008000; text-decoration-color: #008000\">Completed</span>()\n",
       "</pre>\n"
      ],
      "text/plain": [
       "17:15:54.498 | \u001b[36mINFO\u001b[0m    | Task run 'process_pool_snaps-bb91f77b-5' - Finished in state \u001b[32mCompleted\u001b[0m()\n"
      ]
     },
     "metadata": {},
     "output_type": "display_data"
    },
    {
     "data": {
      "text/html": [
       "<pre style=\"white-space:pre;overflow-x:auto;line-height:normal;font-family:Menlo,'DejaVu Sans Mono',consolas,'Courier New',monospace\">17:15:54.507 | <span style=\"color: #008080; text-decoration-color: #008080\">INFO</span>    | Flow run<span style=\"color: #800080; text-decoration-color: #800080\"> 'independent-jacamar'</span> - Created task run 'process_pool_snaps-bb91f77b-6' for task 'process_pool_snaps'\n",
       "</pre>\n"
      ],
      "text/plain": [
       "17:15:54.507 | \u001b[36mINFO\u001b[0m    | Flow run\u001b[35m 'independent-jacamar'\u001b[0m - Created task run 'process_pool_snaps-bb91f77b-6' for task 'process_pool_snaps'\n"
      ]
     },
     "metadata": {},
     "output_type": "display_data"
    },
    {
     "data": {
      "text/html": [
       "<pre style=\"white-space:pre;overflow-x:auto;line-height:normal;font-family:Menlo,'DejaVu Sans Mono',consolas,'Courier New',monospace\">17:15:54.508 | <span style=\"color: #008080; text-decoration-color: #008080\">INFO</span>    | Flow run<span style=\"color: #800080; text-decoration-color: #800080\"> 'independent-jacamar'</span> - Executing 'process_pool_snaps-bb91f77b-6' immediately...\n",
       "</pre>\n"
      ],
      "text/plain": [
       "17:15:54.508 | \u001b[36mINFO\u001b[0m    | Flow run\u001b[35m 'independent-jacamar'\u001b[0m - Executing 'process_pool_snaps-bb91f77b-6' immediately...\n"
      ]
     },
     "metadata": {},
     "output_type": "display_data"
    },
    {
     "data": {
      "text/html": [
       "<pre style=\"white-space:pre;overflow-x:auto;line-height:normal;font-family:Menlo,'DejaVu Sans Mono',consolas,'Courier New',monospace\">17:15:54.534 | <span style=\"color: #008080; text-decoration-color: #008080\">INFO</span>    | Task run 'process_pool_snaps-bb91f77b-6' - Finished in state <span style=\"color: #008000; text-decoration-color: #008000\">Completed</span>()\n",
       "</pre>\n"
      ],
      "text/plain": [
       "17:15:54.534 | \u001b[36mINFO\u001b[0m    | Task run 'process_pool_snaps-bb91f77b-6' - Finished in state \u001b[32mCompleted\u001b[0m()\n"
      ]
     },
     "metadata": {},
     "output_type": "display_data"
    },
    {
     "data": {
      "text/html": [
       "<pre style=\"white-space:pre;overflow-x:auto;line-height:normal;font-family:Menlo,'DejaVu Sans Mono',consolas,'Courier New',monospace\">17:15:54.561 | <span style=\"color: #008080; text-decoration-color: #008080\">INFO</span>    | Flow run<span style=\"color: #800080; text-decoration-color: #800080\"> 'independent-jacamar'</span> - Created task run 'process_pool_snaps-bb91f77b-7' for task 'process_pool_snaps'\n",
       "</pre>\n"
      ],
      "text/plain": [
       "17:15:54.561 | \u001b[36mINFO\u001b[0m    | Flow run\u001b[35m 'independent-jacamar'\u001b[0m - Created task run 'process_pool_snaps-bb91f77b-7' for task 'process_pool_snaps'\n"
      ]
     },
     "metadata": {},
     "output_type": "display_data"
    },
    {
     "data": {
      "text/html": [
       "<pre style=\"white-space:pre;overflow-x:auto;line-height:normal;font-family:Menlo,'DejaVu Sans Mono',consolas,'Courier New',monospace\">17:15:54.562 | <span style=\"color: #008080; text-decoration-color: #008080\">INFO</span>    | Flow run<span style=\"color: #800080; text-decoration-color: #800080\"> 'independent-jacamar'</span> - Executing 'process_pool_snaps-bb91f77b-7' immediately...\n",
       "</pre>\n"
      ],
      "text/plain": [
       "17:15:54.562 | \u001b[36mINFO\u001b[0m    | Flow run\u001b[35m 'independent-jacamar'\u001b[0m - Executing 'process_pool_snaps-bb91f77b-7' immediately...\n"
      ]
     },
     "metadata": {},
     "output_type": "display_data"
    },
    {
     "data": {
      "text/html": [
       "<pre style=\"white-space:pre;overflow-x:auto;line-height:normal;font-family:Menlo,'DejaVu Sans Mono',consolas,'Courier New',monospace\">17:15:54.586 | <span style=\"color: #008080; text-decoration-color: #008080\">INFO</span>    | Task run 'process_pool_snaps-bb91f77b-7' - Finished in state <span style=\"color: #008000; text-decoration-color: #008000\">Completed</span>()\n",
       "</pre>\n"
      ],
      "text/plain": [
       "17:15:54.586 | \u001b[36mINFO\u001b[0m    | Task run 'process_pool_snaps-bb91f77b-7' - Finished in state \u001b[32mCompleted\u001b[0m()\n"
      ]
     },
     "metadata": {},
     "output_type": "display_data"
    },
    {
     "data": {
      "text/html": [
       "<pre style=\"white-space:pre;overflow-x:auto;line-height:normal;font-family:Menlo,'DejaVu Sans Mono',consolas,'Courier New',monospace\">17:15:54.596 | <span style=\"color: #008080; text-decoration-color: #008080\">INFO</span>    | Flow run<span style=\"color: #800080; text-decoration-color: #800080\"> 'independent-jacamar'</span> - Created task run 'process_pool_snaps-bb91f77b-8' for task 'process_pool_snaps'\n",
       "</pre>\n"
      ],
      "text/plain": [
       "17:15:54.596 | \u001b[36mINFO\u001b[0m    | Flow run\u001b[35m 'independent-jacamar'\u001b[0m - Created task run 'process_pool_snaps-bb91f77b-8' for task 'process_pool_snaps'\n"
      ]
     },
     "metadata": {},
     "output_type": "display_data"
    },
    {
     "data": {
      "text/html": [
       "<pre style=\"white-space:pre;overflow-x:auto;line-height:normal;font-family:Menlo,'DejaVu Sans Mono',consolas,'Courier New',monospace\">17:15:54.596 | <span style=\"color: #008080; text-decoration-color: #008080\">INFO</span>    | Flow run<span style=\"color: #800080; text-decoration-color: #800080\"> 'independent-jacamar'</span> - Executing 'process_pool_snaps-bb91f77b-8' immediately...\n",
       "</pre>\n"
      ],
      "text/plain": [
       "17:15:54.596 | \u001b[36mINFO\u001b[0m    | Flow run\u001b[35m 'independent-jacamar'\u001b[0m - Executing 'process_pool_snaps-bb91f77b-8' immediately...\n"
      ]
     },
     "metadata": {},
     "output_type": "display_data"
    },
    {
     "data": {
      "text/html": [
       "<pre style=\"white-space:pre;overflow-x:auto;line-height:normal;font-family:Menlo,'DejaVu Sans Mono',consolas,'Courier New',monospace\">17:15:54.625 | <span style=\"color: #008080; text-decoration-color: #008080\">INFO</span>    | Task run 'process_pool_snaps-bb91f77b-8' - Finished in state <span style=\"color: #008000; text-decoration-color: #008000\">Completed</span>()\n",
       "</pre>\n"
      ],
      "text/plain": [
       "17:15:54.625 | \u001b[36mINFO\u001b[0m    | Task run 'process_pool_snaps-bb91f77b-8' - Finished in state \u001b[32mCompleted\u001b[0m()\n"
      ]
     },
     "metadata": {},
     "output_type": "display_data"
    },
    {
     "data": {
      "text/html": [
       "<pre style=\"white-space:pre;overflow-x:auto;line-height:normal;font-family:Menlo,'DejaVu Sans Mono',consolas,'Courier New',monospace\">17:15:54.634 | <span style=\"color: #008080; text-decoration-color: #008080\">INFO</span>    | Flow run<span style=\"color: #800080; text-decoration-color: #800080\"> 'independent-jacamar'</span> - Created task run 'process_pool_snaps-bb91f77b-9' for task 'process_pool_snaps'\n",
       "</pre>\n"
      ],
      "text/plain": [
       "17:15:54.634 | \u001b[36mINFO\u001b[0m    | Flow run\u001b[35m 'independent-jacamar'\u001b[0m - Created task run 'process_pool_snaps-bb91f77b-9' for task 'process_pool_snaps'\n"
      ]
     },
     "metadata": {},
     "output_type": "display_data"
    },
    {
     "data": {
      "text/html": [
       "<pre style=\"white-space:pre;overflow-x:auto;line-height:normal;font-family:Menlo,'DejaVu Sans Mono',consolas,'Courier New',monospace\">17:15:54.635 | <span style=\"color: #008080; text-decoration-color: #008080\">INFO</span>    | Flow run<span style=\"color: #800080; text-decoration-color: #800080\"> 'independent-jacamar'</span> - Executing 'process_pool_snaps-bb91f77b-9' immediately...\n",
       "</pre>\n"
      ],
      "text/plain": [
       "17:15:54.635 | \u001b[36mINFO\u001b[0m    | Flow run\u001b[35m 'independent-jacamar'\u001b[0m - Executing 'process_pool_snaps-bb91f77b-9' immediately...\n"
      ]
     },
     "metadata": {},
     "output_type": "display_data"
    },
    {
     "data": {
      "text/html": [
       "<pre style=\"white-space:pre;overflow-x:auto;line-height:normal;font-family:Menlo,'DejaVu Sans Mono',consolas,'Courier New',monospace\">17:15:54.658 | <span style=\"color: #008080; text-decoration-color: #008080\">INFO</span>    | Task run 'process_pool_snaps-bb91f77b-9' - Finished in state <span style=\"color: #008000; text-decoration-color: #008000\">Completed</span>()\n",
       "</pre>\n"
      ],
      "text/plain": [
       "17:15:54.658 | \u001b[36mINFO\u001b[0m    | Task run 'process_pool_snaps-bb91f77b-9' - Finished in state \u001b[32mCompleted\u001b[0m()\n"
      ]
     },
     "metadata": {},
     "output_type": "display_data"
    },
    {
     "data": {
      "text/html": [
       "<pre style=\"white-space:pre;overflow-x:auto;line-height:normal;font-family:Menlo,'DejaVu Sans Mono',consolas,'Courier New',monospace\">17:15:54.668 | <span style=\"color: #008080; text-decoration-color: #008080\">INFO</span>    | Flow run<span style=\"color: #800080; text-decoration-color: #800080\"> 'independent-jacamar'</span> - Created task run 'process_pool_snaps-bb91f77b-10' for task 'process_pool_snaps'\n",
       "</pre>\n"
      ],
      "text/plain": [
       "17:15:54.668 | \u001b[36mINFO\u001b[0m    | Flow run\u001b[35m 'independent-jacamar'\u001b[0m - Created task run 'process_pool_snaps-bb91f77b-10' for task 'process_pool_snaps'\n"
      ]
     },
     "metadata": {},
     "output_type": "display_data"
    },
    {
     "data": {
      "text/html": [
       "<pre style=\"white-space:pre;overflow-x:auto;line-height:normal;font-family:Menlo,'DejaVu Sans Mono',consolas,'Courier New',monospace\">17:15:54.668 | <span style=\"color: #008080; text-decoration-color: #008080\">INFO</span>    | Flow run<span style=\"color: #800080; text-decoration-color: #800080\"> 'independent-jacamar'</span> - Executing 'process_pool_snaps-bb91f77b-10' immediately...\n",
       "</pre>\n"
      ],
      "text/plain": [
       "17:15:54.668 | \u001b[36mINFO\u001b[0m    | Flow run\u001b[35m 'independent-jacamar'\u001b[0m - Executing 'process_pool_snaps-bb91f77b-10' immediately...\n"
      ]
     },
     "metadata": {},
     "output_type": "display_data"
    },
    {
     "data": {
      "text/html": [
       "<pre style=\"white-space:pre;overflow-x:auto;line-height:normal;font-family:Menlo,'DejaVu Sans Mono',consolas,'Courier New',monospace\">17:15:54.692 | <span style=\"color: #008080; text-decoration-color: #008080\">INFO</span>    | Task run 'process_pool_snaps-bb91f77b-10' - Finished in state <span style=\"color: #008000; text-decoration-color: #008000\">Completed</span>()\n",
       "</pre>\n"
      ],
      "text/plain": [
       "17:15:54.692 | \u001b[36mINFO\u001b[0m    | Task run 'process_pool_snaps-bb91f77b-10' - Finished in state \u001b[32mCompleted\u001b[0m()\n"
      ]
     },
     "metadata": {},
     "output_type": "display_data"
    },
    {
     "data": {
      "text/html": [
       "<pre style=\"white-space:pre;overflow-x:auto;line-height:normal;font-family:Menlo,'DejaVu Sans Mono',consolas,'Courier New',monospace\">17:15:54.701 | <span style=\"color: #008080; text-decoration-color: #008080\">INFO</span>    | Flow run<span style=\"color: #800080; text-decoration-color: #800080\"> 'independent-jacamar'</span> - Created task run 'process_pool_snaps-bb91f77b-11' for task 'process_pool_snaps'\n",
       "</pre>\n"
      ],
      "text/plain": [
       "17:15:54.701 | \u001b[36mINFO\u001b[0m    | Flow run\u001b[35m 'independent-jacamar'\u001b[0m - Created task run 'process_pool_snaps-bb91f77b-11' for task 'process_pool_snaps'\n"
      ]
     },
     "metadata": {},
     "output_type": "display_data"
    },
    {
     "data": {
      "text/html": [
       "<pre style=\"white-space:pre;overflow-x:auto;line-height:normal;font-family:Menlo,'DejaVu Sans Mono',consolas,'Courier New',monospace\">17:15:54.702 | <span style=\"color: #008080; text-decoration-color: #008080\">INFO</span>    | Flow run<span style=\"color: #800080; text-decoration-color: #800080\"> 'independent-jacamar'</span> - Executing 'process_pool_snaps-bb91f77b-11' immediately...\n",
       "</pre>\n"
      ],
      "text/plain": [
       "17:15:54.702 | \u001b[36mINFO\u001b[0m    | Flow run\u001b[35m 'independent-jacamar'\u001b[0m - Executing 'process_pool_snaps-bb91f77b-11' immediately...\n"
      ]
     },
     "metadata": {},
     "output_type": "display_data"
    },
    {
     "data": {
      "text/html": [
       "<pre style=\"white-space:pre;overflow-x:auto;line-height:normal;font-family:Menlo,'DejaVu Sans Mono',consolas,'Courier New',monospace\">17:15:54.727 | <span style=\"color: #008080; text-decoration-color: #008080\">INFO</span>    | Task run 'process_pool_snaps-bb91f77b-11' - Finished in state <span style=\"color: #008000; text-decoration-color: #008000\">Completed</span>()\n",
       "</pre>\n"
      ],
      "text/plain": [
       "17:15:54.727 | \u001b[36mINFO\u001b[0m    | Task run 'process_pool_snaps-bb91f77b-11' - Finished in state \u001b[32mCompleted\u001b[0m()\n"
      ]
     },
     "metadata": {},
     "output_type": "display_data"
    },
    {
     "data": {
      "text/html": [
       "<pre style=\"white-space:pre;overflow-x:auto;line-height:normal;font-family:Menlo,'DejaVu Sans Mono',consolas,'Courier New',monospace\">17:15:54.737 | <span style=\"color: #008080; text-decoration-color: #008080\">INFO</span>    | Flow run<span style=\"color: #800080; text-decoration-color: #800080\"> 'independent-jacamar'</span> - Created task run 'process_pool_snaps-bb91f77b-12' for task 'process_pool_snaps'\n",
       "</pre>\n"
      ],
      "text/plain": [
       "17:15:54.737 | \u001b[36mINFO\u001b[0m    | Flow run\u001b[35m 'independent-jacamar'\u001b[0m - Created task run 'process_pool_snaps-bb91f77b-12' for task 'process_pool_snaps'\n"
      ]
     },
     "metadata": {},
     "output_type": "display_data"
    },
    {
     "data": {
      "text/html": [
       "<pre style=\"white-space:pre;overflow-x:auto;line-height:normal;font-family:Menlo,'DejaVu Sans Mono',consolas,'Courier New',monospace\">17:15:54.737 | <span style=\"color: #008080; text-decoration-color: #008080\">INFO</span>    | Flow run<span style=\"color: #800080; text-decoration-color: #800080\"> 'independent-jacamar'</span> - Executing 'process_pool_snaps-bb91f77b-12' immediately...\n",
       "</pre>\n"
      ],
      "text/plain": [
       "17:15:54.737 | \u001b[36mINFO\u001b[0m    | Flow run\u001b[35m 'independent-jacamar'\u001b[0m - Executing 'process_pool_snaps-bb91f77b-12' immediately...\n"
      ]
     },
     "metadata": {},
     "output_type": "display_data"
    },
    {
     "data": {
      "text/html": [
       "<pre style=\"white-space:pre;overflow-x:auto;line-height:normal;font-family:Menlo,'DejaVu Sans Mono',consolas,'Courier New',monospace\">17:15:54.761 | <span style=\"color: #008080; text-decoration-color: #008080\">INFO</span>    | Task run 'process_pool_snaps-bb91f77b-12' - Finished in state <span style=\"color: #008000; text-decoration-color: #008000\">Completed</span>()\n",
       "</pre>\n"
      ],
      "text/plain": [
       "17:15:54.761 | \u001b[36mINFO\u001b[0m    | Task run 'process_pool_snaps-bb91f77b-12' - Finished in state \u001b[32mCompleted\u001b[0m()\n"
      ]
     },
     "metadata": {},
     "output_type": "display_data"
    },
    {
     "data": {
      "text/html": [
       "<pre style=\"white-space:pre;overflow-x:auto;line-height:normal;font-family:Menlo,'DejaVu Sans Mono',consolas,'Courier New',monospace\">17:15:54.771 | <span style=\"color: #008080; text-decoration-color: #008080\">INFO</span>    | Flow run<span style=\"color: #800080; text-decoration-color: #800080\"> 'independent-jacamar'</span> - Created task run 'process_pool_snaps-bb91f77b-13' for task 'process_pool_snaps'\n",
       "</pre>\n"
      ],
      "text/plain": [
       "17:15:54.771 | \u001b[36mINFO\u001b[0m    | Flow run\u001b[35m 'independent-jacamar'\u001b[0m - Created task run 'process_pool_snaps-bb91f77b-13' for task 'process_pool_snaps'\n"
      ]
     },
     "metadata": {},
     "output_type": "display_data"
    },
    {
     "data": {
      "text/html": [
       "<pre style=\"white-space:pre;overflow-x:auto;line-height:normal;font-family:Menlo,'DejaVu Sans Mono',consolas,'Courier New',monospace\">17:15:54.771 | <span style=\"color: #008080; text-decoration-color: #008080\">INFO</span>    | Flow run<span style=\"color: #800080; text-decoration-color: #800080\"> 'independent-jacamar'</span> - Executing 'process_pool_snaps-bb91f77b-13' immediately...\n",
       "</pre>\n"
      ],
      "text/plain": [
       "17:15:54.771 | \u001b[36mINFO\u001b[0m    | Flow run\u001b[35m 'independent-jacamar'\u001b[0m - Executing 'process_pool_snaps-bb91f77b-13' immediately...\n"
      ]
     },
     "metadata": {},
     "output_type": "display_data"
    },
    {
     "data": {
      "text/html": [
       "<pre style=\"white-space:pre;overflow-x:auto;line-height:normal;font-family:Menlo,'DejaVu Sans Mono',consolas,'Courier New',monospace\">17:15:54.795 | <span style=\"color: #008080; text-decoration-color: #008080\">INFO</span>    | Task run 'process_pool_snaps-bb91f77b-13' - Finished in state <span style=\"color: #008000; text-decoration-color: #008000\">Completed</span>()\n",
       "</pre>\n"
      ],
      "text/plain": [
       "17:15:54.795 | \u001b[36mINFO\u001b[0m    | Task run 'process_pool_snaps-bb91f77b-13' - Finished in state \u001b[32mCompleted\u001b[0m()\n"
      ]
     },
     "metadata": {},
     "output_type": "display_data"
    },
    {
     "data": {
      "text/html": [
       "<pre style=\"white-space:pre;overflow-x:auto;line-height:normal;font-family:Menlo,'DejaVu Sans Mono',consolas,'Courier New',monospace\">17:15:54.805 | <span style=\"color: #008080; text-decoration-color: #008080\">INFO</span>    | Flow run<span style=\"color: #800080; text-decoration-color: #800080\"> 'independent-jacamar'</span> - Created task run 'process_pool_snaps-bb91f77b-14' for task 'process_pool_snaps'\n",
       "</pre>\n"
      ],
      "text/plain": [
       "17:15:54.805 | \u001b[36mINFO\u001b[0m    | Flow run\u001b[35m 'independent-jacamar'\u001b[0m - Created task run 'process_pool_snaps-bb91f77b-14' for task 'process_pool_snaps'\n"
      ]
     },
     "metadata": {},
     "output_type": "display_data"
    },
    {
     "data": {
      "text/html": [
       "<pre style=\"white-space:pre;overflow-x:auto;line-height:normal;font-family:Menlo,'DejaVu Sans Mono',consolas,'Courier New',monospace\">17:15:54.806 | <span style=\"color: #008080; text-decoration-color: #008080\">INFO</span>    | Flow run<span style=\"color: #800080; text-decoration-color: #800080\"> 'independent-jacamar'</span> - Executing 'process_pool_snaps-bb91f77b-14' immediately...\n",
       "</pre>\n"
      ],
      "text/plain": [
       "17:15:54.806 | \u001b[36mINFO\u001b[0m    | Flow run\u001b[35m 'independent-jacamar'\u001b[0m - Executing 'process_pool_snaps-bb91f77b-14' immediately...\n"
      ]
     },
     "metadata": {},
     "output_type": "display_data"
    },
    {
     "data": {
      "text/html": [
       "<pre style=\"white-space:pre;overflow-x:auto;line-height:normal;font-family:Menlo,'DejaVu Sans Mono',consolas,'Courier New',monospace\">17:15:54.829 | <span style=\"color: #008080; text-decoration-color: #008080\">INFO</span>    | Task run 'process_pool_snaps-bb91f77b-14' - Finished in state <span style=\"color: #008000; text-decoration-color: #008000\">Completed</span>()\n",
       "</pre>\n"
      ],
      "text/plain": [
       "17:15:54.829 | \u001b[36mINFO\u001b[0m    | Task run 'process_pool_snaps-bb91f77b-14' - Finished in state \u001b[32mCompleted\u001b[0m()\n"
      ]
     },
     "metadata": {},
     "output_type": "display_data"
    },
    {
     "data": {
      "text/html": [
       "<pre style=\"white-space:pre;overflow-x:auto;line-height:normal;font-family:Menlo,'DejaVu Sans Mono',consolas,'Courier New',monospace\">17:15:54.839 | <span style=\"color: #008080; text-decoration-color: #008080\">INFO</span>    | Flow run<span style=\"color: #800080; text-decoration-color: #800080\"> 'independent-jacamar'</span> - Created task run 'process_pool_snaps-bb91f77b-15' for task 'process_pool_snaps'\n",
       "</pre>\n"
      ],
      "text/plain": [
       "17:15:54.839 | \u001b[36mINFO\u001b[0m    | Flow run\u001b[35m 'independent-jacamar'\u001b[0m - Created task run 'process_pool_snaps-bb91f77b-15' for task 'process_pool_snaps'\n"
      ]
     },
     "metadata": {},
     "output_type": "display_data"
    },
    {
     "data": {
      "text/html": [
       "<pre style=\"white-space:pre;overflow-x:auto;line-height:normal;font-family:Menlo,'DejaVu Sans Mono',consolas,'Courier New',monospace\">17:15:54.839 | <span style=\"color: #008080; text-decoration-color: #008080\">INFO</span>    | Flow run<span style=\"color: #800080; text-decoration-color: #800080\"> 'independent-jacamar'</span> - Executing 'process_pool_snaps-bb91f77b-15' immediately...\n",
       "</pre>\n"
      ],
      "text/plain": [
       "17:15:54.839 | \u001b[36mINFO\u001b[0m    | Flow run\u001b[35m 'independent-jacamar'\u001b[0m - Executing 'process_pool_snaps-bb91f77b-15' immediately...\n"
      ]
     },
     "metadata": {},
     "output_type": "display_data"
    },
    {
     "data": {
      "text/html": [
       "<pre style=\"white-space:pre;overflow-x:auto;line-height:normal;font-family:Menlo,'DejaVu Sans Mono',consolas,'Courier New',monospace\">17:15:54.863 | <span style=\"color: #008080; text-decoration-color: #008080\">INFO</span>    | Task run 'process_pool_snaps-bb91f77b-15' - Finished in state <span style=\"color: #008000; text-decoration-color: #008000\">Completed</span>()\n",
       "</pre>\n"
      ],
      "text/plain": [
       "17:15:54.863 | \u001b[36mINFO\u001b[0m    | Task run 'process_pool_snaps-bb91f77b-15' - Finished in state \u001b[32mCompleted\u001b[0m()\n"
      ]
     },
     "metadata": {},
     "output_type": "display_data"
    },
    {
     "data": {
      "text/html": [
       "<pre style=\"white-space:pre;overflow-x:auto;line-height:normal;font-family:Menlo,'DejaVu Sans Mono',consolas,'Courier New',monospace\">17:15:54.872 | <span style=\"color: #008080; text-decoration-color: #008080\">INFO</span>    | Flow run<span style=\"color: #800080; text-decoration-color: #800080\"> 'independent-jacamar'</span> - Created task run 'process_pool_snaps-bb91f77b-16' for task 'process_pool_snaps'\n",
       "</pre>\n"
      ],
      "text/plain": [
       "17:15:54.872 | \u001b[36mINFO\u001b[0m    | Flow run\u001b[35m 'independent-jacamar'\u001b[0m - Created task run 'process_pool_snaps-bb91f77b-16' for task 'process_pool_snaps'\n"
      ]
     },
     "metadata": {},
     "output_type": "display_data"
    },
    {
     "data": {
      "text/html": [
       "<pre style=\"white-space:pre;overflow-x:auto;line-height:normal;font-family:Menlo,'DejaVu Sans Mono',consolas,'Courier New',monospace\">17:15:54.873 | <span style=\"color: #008080; text-decoration-color: #008080\">INFO</span>    | Flow run<span style=\"color: #800080; text-decoration-color: #800080\"> 'independent-jacamar'</span> - Executing 'process_pool_snaps-bb91f77b-16' immediately...\n",
       "</pre>\n"
      ],
      "text/plain": [
       "17:15:54.873 | \u001b[36mINFO\u001b[0m    | Flow run\u001b[35m 'independent-jacamar'\u001b[0m - Executing 'process_pool_snaps-bb91f77b-16' immediately...\n"
      ]
     },
     "metadata": {},
     "output_type": "display_data"
    },
    {
     "data": {
      "text/html": [
       "<pre style=\"white-space:pre;overflow-x:auto;line-height:normal;font-family:Menlo,'DejaVu Sans Mono',consolas,'Courier New',monospace\">17:15:54.897 | <span style=\"color: #008080; text-decoration-color: #008080\">INFO</span>    | Task run 'process_pool_snaps-bb91f77b-16' - Finished in state <span style=\"color: #008000; text-decoration-color: #008000\">Completed</span>()\n",
       "</pre>\n"
      ],
      "text/plain": [
       "17:15:54.897 | \u001b[36mINFO\u001b[0m    | Task run 'process_pool_snaps-bb91f77b-16' - Finished in state \u001b[32mCompleted\u001b[0m()\n"
      ]
     },
     "metadata": {},
     "output_type": "display_data"
    },
    {
     "data": {
      "text/html": [
       "<pre style=\"white-space:pre;overflow-x:auto;line-height:normal;font-family:Menlo,'DejaVu Sans Mono',consolas,'Courier New',monospace\">17:15:54.907 | <span style=\"color: #008080; text-decoration-color: #008080\">INFO</span>    | Flow run<span style=\"color: #800080; text-decoration-color: #800080\"> 'independent-jacamar'</span> - Created task run 'process_pool_snaps-bb91f77b-17' for task 'process_pool_snaps'\n",
       "</pre>\n"
      ],
      "text/plain": [
       "17:15:54.907 | \u001b[36mINFO\u001b[0m    | Flow run\u001b[35m 'independent-jacamar'\u001b[0m - Created task run 'process_pool_snaps-bb91f77b-17' for task 'process_pool_snaps'\n"
      ]
     },
     "metadata": {},
     "output_type": "display_data"
    },
    {
     "data": {
      "text/html": [
       "<pre style=\"white-space:pre;overflow-x:auto;line-height:normal;font-family:Menlo,'DejaVu Sans Mono',consolas,'Courier New',monospace\">17:15:54.908 | <span style=\"color: #008080; text-decoration-color: #008080\">INFO</span>    | Flow run<span style=\"color: #800080; text-decoration-color: #800080\"> 'independent-jacamar'</span> - Executing 'process_pool_snaps-bb91f77b-17' immediately...\n",
       "</pre>\n"
      ],
      "text/plain": [
       "17:15:54.908 | \u001b[36mINFO\u001b[0m    | Flow run\u001b[35m 'independent-jacamar'\u001b[0m - Executing 'process_pool_snaps-bb91f77b-17' immediately...\n"
      ]
     },
     "metadata": {},
     "output_type": "display_data"
    },
    {
     "data": {
      "text/html": [
       "<pre style=\"white-space:pre;overflow-x:auto;line-height:normal;font-family:Menlo,'DejaVu Sans Mono',consolas,'Courier New',monospace\">17:15:54.931 | <span style=\"color: #008080; text-decoration-color: #008080\">INFO</span>    | Task run 'process_pool_snaps-bb91f77b-17' - Finished in state <span style=\"color: #008000; text-decoration-color: #008000\">Completed</span>()\n",
       "</pre>\n"
      ],
      "text/plain": [
       "17:15:54.931 | \u001b[36mINFO\u001b[0m    | Task run 'process_pool_snaps-bb91f77b-17' - Finished in state \u001b[32mCompleted\u001b[0m()\n"
      ]
     },
     "metadata": {},
     "output_type": "display_data"
    },
    {
     "data": {
      "text/html": [
       "<pre style=\"white-space:pre;overflow-x:auto;line-height:normal;font-family:Menlo,'DejaVu Sans Mono',consolas,'Courier New',monospace\">17:15:54.941 | <span style=\"color: #008080; text-decoration-color: #008080\">INFO</span>    | Flow run<span style=\"color: #800080; text-decoration-color: #800080\"> 'independent-jacamar'</span> - Created task run 'process_pool_snaps-bb91f77b-18' for task 'process_pool_snaps'\n",
       "</pre>\n"
      ],
      "text/plain": [
       "17:15:54.941 | \u001b[36mINFO\u001b[0m    | Flow run\u001b[35m 'independent-jacamar'\u001b[0m - Created task run 'process_pool_snaps-bb91f77b-18' for task 'process_pool_snaps'\n"
      ]
     },
     "metadata": {},
     "output_type": "display_data"
    },
    {
     "data": {
      "text/html": [
       "<pre style=\"white-space:pre;overflow-x:auto;line-height:normal;font-family:Menlo,'DejaVu Sans Mono',consolas,'Courier New',monospace\">17:15:54.942 | <span style=\"color: #008080; text-decoration-color: #008080\">INFO</span>    | Flow run<span style=\"color: #800080; text-decoration-color: #800080\"> 'independent-jacamar'</span> - Executing 'process_pool_snaps-bb91f77b-18' immediately...\n",
       "</pre>\n"
      ],
      "text/plain": [
       "17:15:54.942 | \u001b[36mINFO\u001b[0m    | Flow run\u001b[35m 'independent-jacamar'\u001b[0m - Executing 'process_pool_snaps-bb91f77b-18' immediately...\n"
      ]
     },
     "metadata": {},
     "output_type": "display_data"
    },
    {
     "data": {
      "text/html": [
       "<pre style=\"white-space:pre;overflow-x:auto;line-height:normal;font-family:Menlo,'DejaVu Sans Mono',consolas,'Courier New',monospace\">17:15:54.965 | <span style=\"color: #008080; text-decoration-color: #008080\">INFO</span>    | Task run 'process_pool_snaps-bb91f77b-18' - Finished in state <span style=\"color: #008000; text-decoration-color: #008000\">Completed</span>()\n",
       "</pre>\n"
      ],
      "text/plain": [
       "17:15:54.965 | \u001b[36mINFO\u001b[0m    | Task run 'process_pool_snaps-bb91f77b-18' - Finished in state \u001b[32mCompleted\u001b[0m()\n"
      ]
     },
     "metadata": {},
     "output_type": "display_data"
    },
    {
     "data": {
      "text/html": [
       "<pre style=\"white-space:pre;overflow-x:auto;line-height:normal;font-family:Menlo,'DejaVu Sans Mono',consolas,'Courier New',monospace\">17:15:54.974 | <span style=\"color: #008080; text-decoration-color: #008080\">INFO</span>    | Flow run<span style=\"color: #800080; text-decoration-color: #800080\"> 'independent-jacamar'</span> - Created task run 'process_pool_snaps-bb91f77b-19' for task 'process_pool_snaps'\n",
       "</pre>\n"
      ],
      "text/plain": [
       "17:15:54.974 | \u001b[36mINFO\u001b[0m    | Flow run\u001b[35m 'independent-jacamar'\u001b[0m - Created task run 'process_pool_snaps-bb91f77b-19' for task 'process_pool_snaps'\n"
      ]
     },
     "metadata": {},
     "output_type": "display_data"
    },
    {
     "data": {
      "text/html": [
       "<pre style=\"white-space:pre;overflow-x:auto;line-height:normal;font-family:Menlo,'DejaVu Sans Mono',consolas,'Courier New',monospace\">17:15:54.975 | <span style=\"color: #008080; text-decoration-color: #008080\">INFO</span>    | Flow run<span style=\"color: #800080; text-decoration-color: #800080\"> 'independent-jacamar'</span> - Executing 'process_pool_snaps-bb91f77b-19' immediately...\n",
       "</pre>\n"
      ],
      "text/plain": [
       "17:15:54.975 | \u001b[36mINFO\u001b[0m    | Flow run\u001b[35m 'independent-jacamar'\u001b[0m - Executing 'process_pool_snaps-bb91f77b-19' immediately...\n"
      ]
     },
     "metadata": {},
     "output_type": "display_data"
    },
    {
     "data": {
      "text/html": [
       "<pre style=\"white-space:pre;overflow-x:auto;line-height:normal;font-family:Menlo,'DejaVu Sans Mono',consolas,'Courier New',monospace\">17:15:55.000 | <span style=\"color: #008080; text-decoration-color: #008080\">INFO</span>    | Task run 'process_pool_snaps-bb91f77b-19' - Finished in state <span style=\"color: #008000; text-decoration-color: #008000\">Completed</span>()\n",
       "</pre>\n"
      ],
      "text/plain": [
       "17:15:55.000 | \u001b[36mINFO\u001b[0m    | Task run 'process_pool_snaps-bb91f77b-19' - Finished in state \u001b[32mCompleted\u001b[0m()\n"
      ]
     },
     "metadata": {},
     "output_type": "display_data"
    },
    {
     "data": {
      "text/html": [
       "<pre style=\"white-space:pre;overflow-x:auto;line-height:normal;font-family:Menlo,'DejaVu Sans Mono',consolas,'Courier New',monospace\">17:15:55.010 | <span style=\"color: #008080; text-decoration-color: #008080\">INFO</span>    | Flow run<span style=\"color: #800080; text-decoration-color: #800080\"> 'independent-jacamar'</span> - Created task run 'process_pool_snaps-bb91f77b-20' for task 'process_pool_snaps'\n",
       "</pre>\n"
      ],
      "text/plain": [
       "17:15:55.010 | \u001b[36mINFO\u001b[0m    | Flow run\u001b[35m 'independent-jacamar'\u001b[0m - Created task run 'process_pool_snaps-bb91f77b-20' for task 'process_pool_snaps'\n"
      ]
     },
     "metadata": {},
     "output_type": "display_data"
    },
    {
     "data": {
      "text/html": [
       "<pre style=\"white-space:pre;overflow-x:auto;line-height:normal;font-family:Menlo,'DejaVu Sans Mono',consolas,'Courier New',monospace\">17:15:55.010 | <span style=\"color: #008080; text-decoration-color: #008080\">INFO</span>    | Flow run<span style=\"color: #800080; text-decoration-color: #800080\"> 'independent-jacamar'</span> - Executing 'process_pool_snaps-bb91f77b-20' immediately...\n",
       "</pre>\n"
      ],
      "text/plain": [
       "17:15:55.010 | \u001b[36mINFO\u001b[0m    | Flow run\u001b[35m 'independent-jacamar'\u001b[0m - Executing 'process_pool_snaps-bb91f77b-20' immediately...\n"
      ]
     },
     "metadata": {},
     "output_type": "display_data"
    },
    {
     "data": {
      "text/html": [
       "<pre style=\"white-space:pre;overflow-x:auto;line-height:normal;font-family:Menlo,'DejaVu Sans Mono',consolas,'Courier New',monospace\">17:15:55.034 | <span style=\"color: #008080; text-decoration-color: #008080\">INFO</span>    | Task run 'process_pool_snaps-bb91f77b-20' - Finished in state <span style=\"color: #008000; text-decoration-color: #008000\">Completed</span>()\n",
       "</pre>\n"
      ],
      "text/plain": [
       "17:15:55.034 | \u001b[36mINFO\u001b[0m    | Task run 'process_pool_snaps-bb91f77b-20' - Finished in state \u001b[32mCompleted\u001b[0m()\n"
      ]
     },
     "metadata": {},
     "output_type": "display_data"
    },
    {
     "data": {
      "text/html": [
       "<pre style=\"white-space:pre;overflow-x:auto;line-height:normal;font-family:Menlo,'DejaVu Sans Mono',consolas,'Courier New',monospace\">17:15:55.043 | <span style=\"color: #008080; text-decoration-color: #008080\">INFO</span>    | Flow run<span style=\"color: #800080; text-decoration-color: #800080\"> 'independent-jacamar'</span> - Created task run 'process_pool_snaps-bb91f77b-21' for task 'process_pool_snaps'\n",
       "</pre>\n"
      ],
      "text/plain": [
       "17:15:55.043 | \u001b[36mINFO\u001b[0m    | Flow run\u001b[35m 'independent-jacamar'\u001b[0m - Created task run 'process_pool_snaps-bb91f77b-21' for task 'process_pool_snaps'\n"
      ]
     },
     "metadata": {},
     "output_type": "display_data"
    },
    {
     "data": {
      "text/html": [
       "<pre style=\"white-space:pre;overflow-x:auto;line-height:normal;font-family:Menlo,'DejaVu Sans Mono',consolas,'Courier New',monospace\">17:15:55.044 | <span style=\"color: #008080; text-decoration-color: #008080\">INFO</span>    | Flow run<span style=\"color: #800080; text-decoration-color: #800080\"> 'independent-jacamar'</span> - Executing 'process_pool_snaps-bb91f77b-21' immediately...\n",
       "</pre>\n"
      ],
      "text/plain": [
       "17:15:55.044 | \u001b[36mINFO\u001b[0m    | Flow run\u001b[35m 'independent-jacamar'\u001b[0m - Executing 'process_pool_snaps-bb91f77b-21' immediately...\n"
      ]
     },
     "metadata": {},
     "output_type": "display_data"
    },
    {
     "data": {
      "text/html": [
       "<pre style=\"white-space:pre;overflow-x:auto;line-height:normal;font-family:Menlo,'DejaVu Sans Mono',consolas,'Courier New',monospace\">17:15:55.068 | <span style=\"color: #008080; text-decoration-color: #008080\">INFO</span>    | Task run 'process_pool_snaps-bb91f77b-21' - Finished in state <span style=\"color: #008000; text-decoration-color: #008000\">Completed</span>()\n",
       "</pre>\n"
      ],
      "text/plain": [
       "17:15:55.068 | \u001b[36mINFO\u001b[0m    | Task run 'process_pool_snaps-bb91f77b-21' - Finished in state \u001b[32mCompleted\u001b[0m()\n"
      ]
     },
     "metadata": {},
     "output_type": "display_data"
    },
    {
     "data": {
      "text/html": [
       "<pre style=\"white-space:pre;overflow-x:auto;line-height:normal;font-family:Menlo,'DejaVu Sans Mono',consolas,'Courier New',monospace\">17:15:55.078 | <span style=\"color: #008080; text-decoration-color: #008080\">INFO</span>    | Flow run<span style=\"color: #800080; text-decoration-color: #800080\"> 'independent-jacamar'</span> - Created task run 'process_pool_snaps-bb91f77b-22' for task 'process_pool_snaps'\n",
       "</pre>\n"
      ],
      "text/plain": [
       "17:15:55.078 | \u001b[36mINFO\u001b[0m    | Flow run\u001b[35m 'independent-jacamar'\u001b[0m - Created task run 'process_pool_snaps-bb91f77b-22' for task 'process_pool_snaps'\n"
      ]
     },
     "metadata": {},
     "output_type": "display_data"
    },
    {
     "data": {
      "text/html": [
       "<pre style=\"white-space:pre;overflow-x:auto;line-height:normal;font-family:Menlo,'DejaVu Sans Mono',consolas,'Courier New',monospace\">17:15:55.078 | <span style=\"color: #008080; text-decoration-color: #008080\">INFO</span>    | Flow run<span style=\"color: #800080; text-decoration-color: #800080\"> 'independent-jacamar'</span> - Executing 'process_pool_snaps-bb91f77b-22' immediately...\n",
       "</pre>\n"
      ],
      "text/plain": [
       "17:15:55.078 | \u001b[36mINFO\u001b[0m    | Flow run\u001b[35m 'independent-jacamar'\u001b[0m - Executing 'process_pool_snaps-bb91f77b-22' immediately...\n"
      ]
     },
     "metadata": {},
     "output_type": "display_data"
    },
    {
     "data": {
      "text/html": [
       "<pre style=\"white-space:pre;overflow-x:auto;line-height:normal;font-family:Menlo,'DejaVu Sans Mono',consolas,'Courier New',monospace\">17:15:55.102 | <span style=\"color: #008080; text-decoration-color: #008080\">INFO</span>    | Task run 'process_pool_snaps-bb91f77b-22' - Finished in state <span style=\"color: #008000; text-decoration-color: #008000\">Completed</span>()\n",
       "</pre>\n"
      ],
      "text/plain": [
       "17:15:55.102 | \u001b[36mINFO\u001b[0m    | Task run 'process_pool_snaps-bb91f77b-22' - Finished in state \u001b[32mCompleted\u001b[0m()\n"
      ]
     },
     "metadata": {},
     "output_type": "display_data"
    },
    {
     "data": {
      "text/html": [
       "<pre style=\"white-space:pre;overflow-x:auto;line-height:normal;font-family:Menlo,'DejaVu Sans Mono',consolas,'Courier New',monospace\">17:15:55.111 | <span style=\"color: #008080; text-decoration-color: #008080\">INFO</span>    | Flow run<span style=\"color: #800080; text-decoration-color: #800080\"> 'independent-jacamar'</span> - Created task run 'process_pool_snaps-bb91f77b-23' for task 'process_pool_snaps'\n",
       "</pre>\n"
      ],
      "text/plain": [
       "17:15:55.111 | \u001b[36mINFO\u001b[0m    | Flow run\u001b[35m 'independent-jacamar'\u001b[0m - Created task run 'process_pool_snaps-bb91f77b-23' for task 'process_pool_snaps'\n"
      ]
     },
     "metadata": {},
     "output_type": "display_data"
    },
    {
     "data": {
      "text/html": [
       "<pre style=\"white-space:pre;overflow-x:auto;line-height:normal;font-family:Menlo,'DejaVu Sans Mono',consolas,'Courier New',monospace\">17:15:55.112 | <span style=\"color: #008080; text-decoration-color: #008080\">INFO</span>    | Flow run<span style=\"color: #800080; text-decoration-color: #800080\"> 'independent-jacamar'</span> - Executing 'process_pool_snaps-bb91f77b-23' immediately...\n",
       "</pre>\n"
      ],
      "text/plain": [
       "17:15:55.112 | \u001b[36mINFO\u001b[0m    | Flow run\u001b[35m 'independent-jacamar'\u001b[0m - Executing 'process_pool_snaps-bb91f77b-23' immediately...\n"
      ]
     },
     "metadata": {},
     "output_type": "display_data"
    },
    {
     "data": {
      "text/html": [
       "<pre style=\"white-space:pre;overflow-x:auto;line-height:normal;font-family:Menlo,'DejaVu Sans Mono',consolas,'Courier New',monospace\">17:15:55.135 | <span style=\"color: #008080; text-decoration-color: #008080\">INFO</span>    | Task run 'process_pool_snaps-bb91f77b-23' - Finished in state <span style=\"color: #008000; text-decoration-color: #008000\">Completed</span>()\n",
       "</pre>\n"
      ],
      "text/plain": [
       "17:15:55.135 | \u001b[36mINFO\u001b[0m    | Task run 'process_pool_snaps-bb91f77b-23' - Finished in state \u001b[32mCompleted\u001b[0m()\n"
      ]
     },
     "metadata": {},
     "output_type": "display_data"
    },
    {
     "data": {
      "text/html": [
       "<pre style=\"white-space:pre;overflow-x:auto;line-height:normal;font-family:Menlo,'DejaVu Sans Mono',consolas,'Courier New',monospace\">17:15:55.145 | <span style=\"color: #008080; text-decoration-color: #008080\">INFO</span>    | Flow run<span style=\"color: #800080; text-decoration-color: #800080\"> 'independent-jacamar'</span> - Created task run 'process_pool_snaps-bb91f77b-24' for task 'process_pool_snaps'\n",
       "</pre>\n"
      ],
      "text/plain": [
       "17:15:55.145 | \u001b[36mINFO\u001b[0m    | Flow run\u001b[35m 'independent-jacamar'\u001b[0m - Created task run 'process_pool_snaps-bb91f77b-24' for task 'process_pool_snaps'\n"
      ]
     },
     "metadata": {},
     "output_type": "display_data"
    },
    {
     "data": {
      "text/html": [
       "<pre style=\"white-space:pre;overflow-x:auto;line-height:normal;font-family:Menlo,'DejaVu Sans Mono',consolas,'Courier New',monospace\">17:15:55.145 | <span style=\"color: #008080; text-decoration-color: #008080\">INFO</span>    | Flow run<span style=\"color: #800080; text-decoration-color: #800080\"> 'independent-jacamar'</span> - Executing 'process_pool_snaps-bb91f77b-24' immediately...\n",
       "</pre>\n"
      ],
      "text/plain": [
       "17:15:55.145 | \u001b[36mINFO\u001b[0m    | Flow run\u001b[35m 'independent-jacamar'\u001b[0m - Executing 'process_pool_snaps-bb91f77b-24' immediately...\n"
      ]
     },
     "metadata": {},
     "output_type": "display_data"
    },
    {
     "data": {
      "text/html": [
       "<pre style=\"white-space:pre;overflow-x:auto;line-height:normal;font-family:Menlo,'DejaVu Sans Mono',consolas,'Courier New',monospace\">17:15:55.170 | <span style=\"color: #008080; text-decoration-color: #008080\">INFO</span>    | Task run 'process_pool_snaps-bb91f77b-24' - Finished in state <span style=\"color: #008000; text-decoration-color: #008000\">Completed</span>()\n",
       "</pre>\n"
      ],
      "text/plain": [
       "17:15:55.170 | \u001b[36mINFO\u001b[0m    | Task run 'process_pool_snaps-bb91f77b-24' - Finished in state \u001b[32mCompleted\u001b[0m()\n"
      ]
     },
     "metadata": {},
     "output_type": "display_data"
    },
    {
     "data": {
      "text/html": [
       "<pre style=\"white-space:pre;overflow-x:auto;line-height:normal;font-family:Menlo,'DejaVu Sans Mono',consolas,'Courier New',monospace\">17:15:55.179 | <span style=\"color: #008080; text-decoration-color: #008080\">INFO</span>    | Flow run<span style=\"color: #800080; text-decoration-color: #800080\"> 'independent-jacamar'</span> - Created task run 'process_pool_snaps-bb91f77b-25' for task 'process_pool_snaps'\n",
       "</pre>\n"
      ],
      "text/plain": [
       "17:15:55.179 | \u001b[36mINFO\u001b[0m    | Flow run\u001b[35m 'independent-jacamar'\u001b[0m - Created task run 'process_pool_snaps-bb91f77b-25' for task 'process_pool_snaps'\n"
      ]
     },
     "metadata": {},
     "output_type": "display_data"
    },
    {
     "data": {
      "text/html": [
       "<pre style=\"white-space:pre;overflow-x:auto;line-height:normal;font-family:Menlo,'DejaVu Sans Mono',consolas,'Courier New',monospace\">17:15:55.179 | <span style=\"color: #008080; text-decoration-color: #008080\">INFO</span>    | Flow run<span style=\"color: #800080; text-decoration-color: #800080\"> 'independent-jacamar'</span> - Executing 'process_pool_snaps-bb91f77b-25' immediately...\n",
       "</pre>\n"
      ],
      "text/plain": [
       "17:15:55.179 | \u001b[36mINFO\u001b[0m    | Flow run\u001b[35m 'independent-jacamar'\u001b[0m - Executing 'process_pool_snaps-bb91f77b-25' immediately...\n"
      ]
     },
     "metadata": {},
     "output_type": "display_data"
    },
    {
     "data": {
      "text/html": [
       "<pre style=\"white-space:pre;overflow-x:auto;line-height:normal;font-family:Menlo,'DejaVu Sans Mono',consolas,'Courier New',monospace\">17:15:55.202 | <span style=\"color: #008080; text-decoration-color: #008080\">INFO</span>    | Task run 'process_pool_snaps-bb91f77b-25' - Finished in state <span style=\"color: #008000; text-decoration-color: #008000\">Completed</span>()\n",
       "</pre>\n"
      ],
      "text/plain": [
       "17:15:55.202 | \u001b[36mINFO\u001b[0m    | Task run 'process_pool_snaps-bb91f77b-25' - Finished in state \u001b[32mCompleted\u001b[0m()\n"
      ]
     },
     "metadata": {},
     "output_type": "display_data"
    },
    {
     "data": {
      "text/html": [
       "<pre style=\"white-space:pre;overflow-x:auto;line-height:normal;font-family:Menlo,'DejaVu Sans Mono',consolas,'Courier New',monospace\">17:15:55.212 | <span style=\"color: #008080; text-decoration-color: #008080\">INFO</span>    | Flow run<span style=\"color: #800080; text-decoration-color: #800080\"> 'independent-jacamar'</span> - Created task run 'process_pool_snaps-bb91f77b-26' for task 'process_pool_snaps'\n",
       "</pre>\n"
      ],
      "text/plain": [
       "17:15:55.212 | \u001b[36mINFO\u001b[0m    | Flow run\u001b[35m 'independent-jacamar'\u001b[0m - Created task run 'process_pool_snaps-bb91f77b-26' for task 'process_pool_snaps'\n"
      ]
     },
     "metadata": {},
     "output_type": "display_data"
    },
    {
     "data": {
      "text/html": [
       "<pre style=\"white-space:pre;overflow-x:auto;line-height:normal;font-family:Menlo,'DejaVu Sans Mono',consolas,'Courier New',monospace\">17:15:55.212 | <span style=\"color: #008080; text-decoration-color: #008080\">INFO</span>    | Flow run<span style=\"color: #800080; text-decoration-color: #800080\"> 'independent-jacamar'</span> - Executing 'process_pool_snaps-bb91f77b-26' immediately...\n",
       "</pre>\n"
      ],
      "text/plain": [
       "17:15:55.212 | \u001b[36mINFO\u001b[0m    | Flow run\u001b[35m 'independent-jacamar'\u001b[0m - Executing 'process_pool_snaps-bb91f77b-26' immediately...\n"
      ]
     },
     "metadata": {},
     "output_type": "display_data"
    },
    {
     "data": {
      "text/html": [
       "<pre style=\"white-space:pre;overflow-x:auto;line-height:normal;font-family:Menlo,'DejaVu Sans Mono',consolas,'Courier New',monospace\">17:15:55.243 | <span style=\"color: #008080; text-decoration-color: #008080\">INFO</span>    | Task run 'process_pool_snaps-bb91f77b-26' - Finished in state <span style=\"color: #008000; text-decoration-color: #008000\">Completed</span>()\n",
       "</pre>\n"
      ],
      "text/plain": [
       "17:15:55.243 | \u001b[36mINFO\u001b[0m    | Task run 'process_pool_snaps-bb91f77b-26' - Finished in state \u001b[32mCompleted\u001b[0m()\n"
      ]
     },
     "metadata": {},
     "output_type": "display_data"
    },
    {
     "data": {
      "text/html": [
       "<pre style=\"white-space:pre;overflow-x:auto;line-height:normal;font-family:Menlo,'DejaVu Sans Mono',consolas,'Courier New',monospace\">17:15:55.253 | <span style=\"color: #008080; text-decoration-color: #008080\">INFO</span>    | Flow run<span style=\"color: #800080; text-decoration-color: #800080\"> 'independent-jacamar'</span> - Created task run 'process_pool_snaps-bb91f77b-27' for task 'process_pool_snaps'\n",
       "</pre>\n"
      ],
      "text/plain": [
       "17:15:55.253 | \u001b[36mINFO\u001b[0m    | Flow run\u001b[35m 'independent-jacamar'\u001b[0m - Created task run 'process_pool_snaps-bb91f77b-27' for task 'process_pool_snaps'\n"
      ]
     },
     "metadata": {},
     "output_type": "display_data"
    },
    {
     "data": {
      "text/html": [
       "<pre style=\"white-space:pre;overflow-x:auto;line-height:normal;font-family:Menlo,'DejaVu Sans Mono',consolas,'Courier New',monospace\">17:15:55.253 | <span style=\"color: #008080; text-decoration-color: #008080\">INFO</span>    | Flow run<span style=\"color: #800080; text-decoration-color: #800080\"> 'independent-jacamar'</span> - Executing 'process_pool_snaps-bb91f77b-27' immediately...\n",
       "</pre>\n"
      ],
      "text/plain": [
       "17:15:55.253 | \u001b[36mINFO\u001b[0m    | Flow run\u001b[35m 'independent-jacamar'\u001b[0m - Executing 'process_pool_snaps-bb91f77b-27' immediately...\n"
      ]
     },
     "metadata": {},
     "output_type": "display_data"
    },
    {
     "data": {
      "text/html": [
       "<pre style=\"white-space:pre;overflow-x:auto;line-height:normal;font-family:Menlo,'DejaVu Sans Mono',consolas,'Courier New',monospace\">17:15:55.283 | <span style=\"color: #008080; text-decoration-color: #008080\">INFO</span>    | Task run 'process_pool_snaps-bb91f77b-27' - Finished in state <span style=\"color: #008000; text-decoration-color: #008000\">Completed</span>()\n",
       "</pre>\n"
      ],
      "text/plain": [
       "17:15:55.283 | \u001b[36mINFO\u001b[0m    | Task run 'process_pool_snaps-bb91f77b-27' - Finished in state \u001b[32mCompleted\u001b[0m()\n"
      ]
     },
     "metadata": {},
     "output_type": "display_data"
    },
    {
     "data": {
      "text/html": [
       "<pre style=\"white-space:pre;overflow-x:auto;line-height:normal;font-family:Menlo,'DejaVu Sans Mono',consolas,'Courier New',monospace\">17:15:55.293 | <span style=\"color: #008080; text-decoration-color: #008080\">INFO</span>    | Flow run<span style=\"color: #800080; text-decoration-color: #800080\"> 'independent-jacamar'</span> - Created task run 'process_pool_snaps-bb91f77b-28' for task 'process_pool_snaps'\n",
       "</pre>\n"
      ],
      "text/plain": [
       "17:15:55.293 | \u001b[36mINFO\u001b[0m    | Flow run\u001b[35m 'independent-jacamar'\u001b[0m - Created task run 'process_pool_snaps-bb91f77b-28' for task 'process_pool_snaps'\n"
      ]
     },
     "metadata": {},
     "output_type": "display_data"
    },
    {
     "data": {
      "text/html": [
       "<pre style=\"white-space:pre;overflow-x:auto;line-height:normal;font-family:Menlo,'DejaVu Sans Mono',consolas,'Courier New',monospace\">17:15:55.294 | <span style=\"color: #008080; text-decoration-color: #008080\">INFO</span>    | Flow run<span style=\"color: #800080; text-decoration-color: #800080\"> 'independent-jacamar'</span> - Executing 'process_pool_snaps-bb91f77b-28' immediately...\n",
       "</pre>\n"
      ],
      "text/plain": [
       "17:15:55.294 | \u001b[36mINFO\u001b[0m    | Flow run\u001b[35m 'independent-jacamar'\u001b[0m - Executing 'process_pool_snaps-bb91f77b-28' immediately...\n"
      ]
     },
     "metadata": {},
     "output_type": "display_data"
    },
    {
     "data": {
      "text/html": [
       "<pre style=\"white-space:pre;overflow-x:auto;line-height:normal;font-family:Menlo,'DejaVu Sans Mono',consolas,'Courier New',monospace\">17:15:55.319 | <span style=\"color: #008080; text-decoration-color: #008080\">INFO</span>    | Task run 'process_pool_snaps-bb91f77b-28' - Finished in state <span style=\"color: #008000; text-decoration-color: #008000\">Completed</span>()\n",
       "</pre>\n"
      ],
      "text/plain": [
       "17:15:55.319 | \u001b[36mINFO\u001b[0m    | Task run 'process_pool_snaps-bb91f77b-28' - Finished in state \u001b[32mCompleted\u001b[0m()\n"
      ]
     },
     "metadata": {},
     "output_type": "display_data"
    },
    {
     "data": {
      "text/html": [
       "<pre style=\"white-space:pre;overflow-x:auto;line-height:normal;font-family:Menlo,'DejaVu Sans Mono',consolas,'Courier New',monospace\">17:15:55.329 | <span style=\"color: #008080; text-decoration-color: #008080\">INFO</span>    | Flow run<span style=\"color: #800080; text-decoration-color: #800080\"> 'independent-jacamar'</span> - Created task run 'process_pool_snaps-bb91f77b-29' for task 'process_pool_snaps'\n",
       "</pre>\n"
      ],
      "text/plain": [
       "17:15:55.329 | \u001b[36mINFO\u001b[0m    | Flow run\u001b[35m 'independent-jacamar'\u001b[0m - Created task run 'process_pool_snaps-bb91f77b-29' for task 'process_pool_snaps'\n"
      ]
     },
     "metadata": {},
     "output_type": "display_data"
    },
    {
     "data": {
      "text/html": [
       "<pre style=\"white-space:pre;overflow-x:auto;line-height:normal;font-family:Menlo,'DejaVu Sans Mono',consolas,'Courier New',monospace\">17:15:55.330 | <span style=\"color: #008080; text-decoration-color: #008080\">INFO</span>    | Flow run<span style=\"color: #800080; text-decoration-color: #800080\"> 'independent-jacamar'</span> - Executing 'process_pool_snaps-bb91f77b-29' immediately...\n",
       "</pre>\n"
      ],
      "text/plain": [
       "17:15:55.330 | \u001b[36mINFO\u001b[0m    | Flow run\u001b[35m 'independent-jacamar'\u001b[0m - Executing 'process_pool_snaps-bb91f77b-29' immediately...\n"
      ]
     },
     "metadata": {},
     "output_type": "display_data"
    },
    {
     "data": {
      "text/html": [
       "<pre style=\"white-space:pre;overflow-x:auto;line-height:normal;font-family:Menlo,'DejaVu Sans Mono',consolas,'Courier New',monospace\">17:15:55.353 | <span style=\"color: #008080; text-decoration-color: #008080\">INFO</span>    | Task run 'process_pool_snaps-bb91f77b-29' - Finished in state <span style=\"color: #008000; text-decoration-color: #008000\">Completed</span>()\n",
       "</pre>\n"
      ],
      "text/plain": [
       "17:15:55.353 | \u001b[36mINFO\u001b[0m    | Task run 'process_pool_snaps-bb91f77b-29' - Finished in state \u001b[32mCompleted\u001b[0m()\n"
      ]
     },
     "metadata": {},
     "output_type": "display_data"
    },
    {
     "data": {
      "text/html": [
       "<pre style=\"white-space:pre;overflow-x:auto;line-height:normal;font-family:Menlo,'DejaVu Sans Mono',consolas,'Courier New',monospace\">17:15:55.362 | <span style=\"color: #008080; text-decoration-color: #008080\">INFO</span>    | Flow run<span style=\"color: #800080; text-decoration-color: #800080\"> 'independent-jacamar'</span> - Created task run 'process_pool_snaps-bb91f77b-30' for task 'process_pool_snaps'\n",
       "</pre>\n"
      ],
      "text/plain": [
       "17:15:55.362 | \u001b[36mINFO\u001b[0m    | Flow run\u001b[35m 'independent-jacamar'\u001b[0m - Created task run 'process_pool_snaps-bb91f77b-30' for task 'process_pool_snaps'\n"
      ]
     },
     "metadata": {},
     "output_type": "display_data"
    },
    {
     "data": {
      "text/html": [
       "<pre style=\"white-space:pre;overflow-x:auto;line-height:normal;font-family:Menlo,'DejaVu Sans Mono',consolas,'Courier New',monospace\">17:15:55.363 | <span style=\"color: #008080; text-decoration-color: #008080\">INFO</span>    | Flow run<span style=\"color: #800080; text-decoration-color: #800080\"> 'independent-jacamar'</span> - Executing 'process_pool_snaps-bb91f77b-30' immediately...\n",
       "</pre>\n"
      ],
      "text/plain": [
       "17:15:55.363 | \u001b[36mINFO\u001b[0m    | Flow run\u001b[35m 'independent-jacamar'\u001b[0m - Executing 'process_pool_snaps-bb91f77b-30' immediately...\n"
      ]
     },
     "metadata": {},
     "output_type": "display_data"
    },
    {
     "data": {
      "text/html": [
       "<pre style=\"white-space:pre;overflow-x:auto;line-height:normal;font-family:Menlo,'DejaVu Sans Mono',consolas,'Courier New',monospace\">17:15:55.386 | <span style=\"color: #008080; text-decoration-color: #008080\">INFO</span>    | Task run 'process_pool_snaps-bb91f77b-30' - Finished in state <span style=\"color: #008000; text-decoration-color: #008000\">Completed</span>()\n",
       "</pre>\n"
      ],
      "text/plain": [
       "17:15:55.386 | \u001b[36mINFO\u001b[0m    | Task run 'process_pool_snaps-bb91f77b-30' - Finished in state \u001b[32mCompleted\u001b[0m()\n"
      ]
     },
     "metadata": {},
     "output_type": "display_data"
    },
    {
     "data": {
      "text/html": [
       "<pre style=\"white-space:pre;overflow-x:auto;line-height:normal;font-family:Menlo,'DejaVu Sans Mono',consolas,'Courier New',monospace\">17:15:55.395 | <span style=\"color: #008080; text-decoration-color: #008080\">INFO</span>    | Flow run<span style=\"color: #800080; text-decoration-color: #800080\"> 'independent-jacamar'</span> - Created task run 'process_pool_snaps-bb91f77b-31' for task 'process_pool_snaps'\n",
       "</pre>\n"
      ],
      "text/plain": [
       "17:15:55.395 | \u001b[36mINFO\u001b[0m    | Flow run\u001b[35m 'independent-jacamar'\u001b[0m - Created task run 'process_pool_snaps-bb91f77b-31' for task 'process_pool_snaps'\n"
      ]
     },
     "metadata": {},
     "output_type": "display_data"
    },
    {
     "data": {
      "text/html": [
       "<pre style=\"white-space:pre;overflow-x:auto;line-height:normal;font-family:Menlo,'DejaVu Sans Mono',consolas,'Courier New',monospace\">17:15:55.395 | <span style=\"color: #008080; text-decoration-color: #008080\">INFO</span>    | Flow run<span style=\"color: #800080; text-decoration-color: #800080\"> 'independent-jacamar'</span> - Executing 'process_pool_snaps-bb91f77b-31' immediately...\n",
       "</pre>\n"
      ],
      "text/plain": [
       "17:15:55.395 | \u001b[36mINFO\u001b[0m    | Flow run\u001b[35m 'independent-jacamar'\u001b[0m - Executing 'process_pool_snaps-bb91f77b-31' immediately...\n"
      ]
     },
     "metadata": {},
     "output_type": "display_data"
    },
    {
     "data": {
      "text/html": [
       "<pre style=\"white-space:pre;overflow-x:auto;line-height:normal;font-family:Menlo,'DejaVu Sans Mono',consolas,'Courier New',monospace\">17:15:55.422 | <span style=\"color: #008080; text-decoration-color: #008080\">INFO</span>    | Task run 'process_pool_snaps-bb91f77b-31' - Finished in state <span style=\"color: #008000; text-decoration-color: #008000\">Completed</span>()\n",
       "</pre>\n"
      ],
      "text/plain": [
       "17:15:55.422 | \u001b[36mINFO\u001b[0m    | Task run 'process_pool_snaps-bb91f77b-31' - Finished in state \u001b[32mCompleted\u001b[0m()\n"
      ]
     },
     "metadata": {},
     "output_type": "display_data"
    },
    {
     "data": {
      "text/html": [
       "<pre style=\"white-space:pre;overflow-x:auto;line-height:normal;font-family:Menlo,'DejaVu Sans Mono',consolas,'Courier New',monospace\">17:15:55.433 | <span style=\"color: #008080; text-decoration-color: #008080\">INFO</span>    | Flow run<span style=\"color: #800080; text-decoration-color: #800080\"> 'independent-jacamar'</span> - Created task run 'process_pool_snaps-bb91f77b-32' for task 'process_pool_snaps'\n",
       "</pre>\n"
      ],
      "text/plain": [
       "17:15:55.433 | \u001b[36mINFO\u001b[0m    | Flow run\u001b[35m 'independent-jacamar'\u001b[0m - Created task run 'process_pool_snaps-bb91f77b-32' for task 'process_pool_snaps'\n"
      ]
     },
     "metadata": {},
     "output_type": "display_data"
    },
    {
     "data": {
      "text/html": [
       "<pre style=\"white-space:pre;overflow-x:auto;line-height:normal;font-family:Menlo,'DejaVu Sans Mono',consolas,'Courier New',monospace\">17:15:55.434 | <span style=\"color: #008080; text-decoration-color: #008080\">INFO</span>    | Flow run<span style=\"color: #800080; text-decoration-color: #800080\"> 'independent-jacamar'</span> - Executing 'process_pool_snaps-bb91f77b-32' immediately...\n",
       "</pre>\n"
      ],
      "text/plain": [
       "17:15:55.434 | \u001b[36mINFO\u001b[0m    | Flow run\u001b[35m 'independent-jacamar'\u001b[0m - Executing 'process_pool_snaps-bb91f77b-32' immediately...\n"
      ]
     },
     "metadata": {},
     "output_type": "display_data"
    },
    {
     "data": {
      "text/html": [
       "<pre style=\"white-space:pre;overflow-x:auto;line-height:normal;font-family:Menlo,'DejaVu Sans Mono',consolas,'Courier New',monospace\">17:15:55.458 | <span style=\"color: #008080; text-decoration-color: #008080\">INFO</span>    | Task run 'process_pool_snaps-bb91f77b-32' - Finished in state <span style=\"color: #008000; text-decoration-color: #008000\">Completed</span>()\n",
       "</pre>\n"
      ],
      "text/plain": [
       "17:15:55.458 | \u001b[36mINFO\u001b[0m    | Task run 'process_pool_snaps-bb91f77b-32' - Finished in state \u001b[32mCompleted\u001b[0m()\n"
      ]
     },
     "metadata": {},
     "output_type": "display_data"
    },
    {
     "data": {
      "text/html": [
       "<pre style=\"white-space:pre;overflow-x:auto;line-height:normal;font-family:Menlo,'DejaVu Sans Mono',consolas,'Courier New',monospace\">17:15:55.471 | <span style=\"color: #008080; text-decoration-color: #008080\">INFO</span>    | Flow run<span style=\"color: #800080; text-decoration-color: #800080\"> 'independent-jacamar'</span> - Created task run 'process_pool_snaps-bb91f77b-33' for task 'process_pool_snaps'\n",
       "</pre>\n"
      ],
      "text/plain": [
       "17:15:55.471 | \u001b[36mINFO\u001b[0m    | Flow run\u001b[35m 'independent-jacamar'\u001b[0m - Created task run 'process_pool_snaps-bb91f77b-33' for task 'process_pool_snaps'\n"
      ]
     },
     "metadata": {},
     "output_type": "display_data"
    },
    {
     "data": {
      "text/html": [
       "<pre style=\"white-space:pre;overflow-x:auto;line-height:normal;font-family:Menlo,'DejaVu Sans Mono',consolas,'Courier New',monospace\">17:15:55.472 | <span style=\"color: #008080; text-decoration-color: #008080\">INFO</span>    | Flow run<span style=\"color: #800080; text-decoration-color: #800080\"> 'independent-jacamar'</span> - Executing 'process_pool_snaps-bb91f77b-33' immediately...\n",
       "</pre>\n"
      ],
      "text/plain": [
       "17:15:55.472 | \u001b[36mINFO\u001b[0m    | Flow run\u001b[35m 'independent-jacamar'\u001b[0m - Executing 'process_pool_snaps-bb91f77b-33' immediately...\n"
      ]
     },
     "metadata": {},
     "output_type": "display_data"
    },
    {
     "data": {
      "text/html": [
       "<pre style=\"white-space:pre;overflow-x:auto;line-height:normal;font-family:Menlo,'DejaVu Sans Mono',consolas,'Courier New',monospace\">17:15:55.499 | <span style=\"color: #008080; text-decoration-color: #008080\">INFO</span>    | Task run 'process_pool_snaps-bb91f77b-33' - Finished in state <span style=\"color: #008000; text-decoration-color: #008000\">Completed</span>()\n",
       "</pre>\n"
      ],
      "text/plain": [
       "17:15:55.499 | \u001b[36mINFO\u001b[0m    | Task run 'process_pool_snaps-bb91f77b-33' - Finished in state \u001b[32mCompleted\u001b[0m()\n"
      ]
     },
     "metadata": {},
     "output_type": "display_data"
    },
    {
     "data": {
      "text/html": [
       "<pre style=\"white-space:pre;overflow-x:auto;line-height:normal;font-family:Menlo,'DejaVu Sans Mono',consolas,'Courier New',monospace\">17:15:55.509 | <span style=\"color: #008080; text-decoration-color: #008080\">INFO</span>    | Flow run<span style=\"color: #800080; text-decoration-color: #800080\"> 'independent-jacamar'</span> - Created task run 'process_pool_snaps-bb91f77b-34' for task 'process_pool_snaps'\n",
       "</pre>\n"
      ],
      "text/plain": [
       "17:15:55.509 | \u001b[36mINFO\u001b[0m    | Flow run\u001b[35m 'independent-jacamar'\u001b[0m - Created task run 'process_pool_snaps-bb91f77b-34' for task 'process_pool_snaps'\n"
      ]
     },
     "metadata": {},
     "output_type": "display_data"
    },
    {
     "data": {
      "text/html": [
       "<pre style=\"white-space:pre;overflow-x:auto;line-height:normal;font-family:Menlo,'DejaVu Sans Mono',consolas,'Courier New',monospace\">17:15:55.509 | <span style=\"color: #008080; text-decoration-color: #008080\">INFO</span>    | Flow run<span style=\"color: #800080; text-decoration-color: #800080\"> 'independent-jacamar'</span> - Executing 'process_pool_snaps-bb91f77b-34' immediately...\n",
       "</pre>\n"
      ],
      "text/plain": [
       "17:15:55.509 | \u001b[36mINFO\u001b[0m    | Flow run\u001b[35m 'independent-jacamar'\u001b[0m - Executing 'process_pool_snaps-bb91f77b-34' immediately...\n"
      ]
     },
     "metadata": {},
     "output_type": "display_data"
    },
    {
     "data": {
      "text/html": [
       "<pre style=\"white-space:pre;overflow-x:auto;line-height:normal;font-family:Menlo,'DejaVu Sans Mono',consolas,'Courier New',monospace\">17:15:55.534 | <span style=\"color: #008080; text-decoration-color: #008080\">INFO</span>    | Task run 'process_pool_snaps-bb91f77b-34' - Finished in state <span style=\"color: #008000; text-decoration-color: #008000\">Completed</span>()\n",
       "</pre>\n"
      ],
      "text/plain": [
       "17:15:55.534 | \u001b[36mINFO\u001b[0m    | Task run 'process_pool_snaps-bb91f77b-34' - Finished in state \u001b[32mCompleted\u001b[0m()\n"
      ]
     },
     "metadata": {},
     "output_type": "display_data"
    },
    {
     "data": {
      "text/html": [
       "<pre style=\"white-space:pre;overflow-x:auto;line-height:normal;font-family:Menlo,'DejaVu Sans Mono',consolas,'Courier New',monospace\">17:15:55.543 | <span style=\"color: #008080; text-decoration-color: #008080\">INFO</span>    | Flow run<span style=\"color: #800080; text-decoration-color: #800080\"> 'independent-jacamar'</span> - Created task run 'process_pool_snaps-bb91f77b-35' for task 'process_pool_snaps'\n",
       "</pre>\n"
      ],
      "text/plain": [
       "17:15:55.543 | \u001b[36mINFO\u001b[0m    | Flow run\u001b[35m 'independent-jacamar'\u001b[0m - Created task run 'process_pool_snaps-bb91f77b-35' for task 'process_pool_snaps'\n"
      ]
     },
     "metadata": {},
     "output_type": "display_data"
    },
    {
     "data": {
      "text/html": [
       "<pre style=\"white-space:pre;overflow-x:auto;line-height:normal;font-family:Menlo,'DejaVu Sans Mono',consolas,'Courier New',monospace\">17:15:55.543 | <span style=\"color: #008080; text-decoration-color: #008080\">INFO</span>    | Flow run<span style=\"color: #800080; text-decoration-color: #800080\"> 'independent-jacamar'</span> - Executing 'process_pool_snaps-bb91f77b-35' immediately...\n",
       "</pre>\n"
      ],
      "text/plain": [
       "17:15:55.543 | \u001b[36mINFO\u001b[0m    | Flow run\u001b[35m 'independent-jacamar'\u001b[0m - Executing 'process_pool_snaps-bb91f77b-35' immediately...\n"
      ]
     },
     "metadata": {},
     "output_type": "display_data"
    },
    {
     "data": {
      "text/html": [
       "<pre style=\"white-space:pre;overflow-x:auto;line-height:normal;font-family:Menlo,'DejaVu Sans Mono',consolas,'Courier New',monospace\">17:15:55.566 | <span style=\"color: #008080; text-decoration-color: #008080\">INFO</span>    | Task run 'process_pool_snaps-bb91f77b-35' - Finished in state <span style=\"color: #008000; text-decoration-color: #008000\">Completed</span>()\n",
       "</pre>\n"
      ],
      "text/plain": [
       "17:15:55.566 | \u001b[36mINFO\u001b[0m    | Task run 'process_pool_snaps-bb91f77b-35' - Finished in state \u001b[32mCompleted\u001b[0m()\n"
      ]
     },
     "metadata": {},
     "output_type": "display_data"
    },
    {
     "data": {
      "text/html": [
       "<pre style=\"white-space:pre;overflow-x:auto;line-height:normal;font-family:Menlo,'DejaVu Sans Mono',consolas,'Courier New',monospace\">17:15:55.576 | <span style=\"color: #008080; text-decoration-color: #008080\">INFO</span>    | Flow run<span style=\"color: #800080; text-decoration-color: #800080\"> 'independent-jacamar'</span> - Created task run 'process_pool_snaps-bb91f77b-36' for task 'process_pool_snaps'\n",
       "</pre>\n"
      ],
      "text/plain": [
       "17:15:55.576 | \u001b[36mINFO\u001b[0m    | Flow run\u001b[35m 'independent-jacamar'\u001b[0m - Created task run 'process_pool_snaps-bb91f77b-36' for task 'process_pool_snaps'\n"
      ]
     },
     "metadata": {},
     "output_type": "display_data"
    },
    {
     "data": {
      "text/html": [
       "<pre style=\"white-space:pre;overflow-x:auto;line-height:normal;font-family:Menlo,'DejaVu Sans Mono',consolas,'Courier New',monospace\">17:15:55.576 | <span style=\"color: #008080; text-decoration-color: #008080\">INFO</span>    | Flow run<span style=\"color: #800080; text-decoration-color: #800080\"> 'independent-jacamar'</span> - Executing 'process_pool_snaps-bb91f77b-36' immediately...\n",
       "</pre>\n"
      ],
      "text/plain": [
       "17:15:55.576 | \u001b[36mINFO\u001b[0m    | Flow run\u001b[35m 'independent-jacamar'\u001b[0m - Executing 'process_pool_snaps-bb91f77b-36' immediately...\n"
      ]
     },
     "metadata": {},
     "output_type": "display_data"
    },
    {
     "data": {
      "text/html": [
       "<pre style=\"white-space:pre;overflow-x:auto;line-height:normal;font-family:Menlo,'DejaVu Sans Mono',consolas,'Courier New',monospace\">17:15:55.599 | <span style=\"color: #008080; text-decoration-color: #008080\">INFO</span>    | Task run 'process_pool_snaps-bb91f77b-36' - Finished in state <span style=\"color: #008000; text-decoration-color: #008000\">Completed</span>()\n",
       "</pre>\n"
      ],
      "text/plain": [
       "17:15:55.599 | \u001b[36mINFO\u001b[0m    | Task run 'process_pool_snaps-bb91f77b-36' - Finished in state \u001b[32mCompleted\u001b[0m()\n"
      ]
     },
     "metadata": {},
     "output_type": "display_data"
    },
    {
     "data": {
      "text/html": [
       "<pre style=\"white-space:pre;overflow-x:auto;line-height:normal;font-family:Menlo,'DejaVu Sans Mono',consolas,'Courier New',monospace\">17:15:55.608 | <span style=\"color: #008080; text-decoration-color: #008080\">INFO</span>    | Flow run<span style=\"color: #800080; text-decoration-color: #800080\"> 'independent-jacamar'</span> - Created task run 'process_pool_snaps-bb91f77b-37' for task 'process_pool_snaps'\n",
       "</pre>\n"
      ],
      "text/plain": [
       "17:15:55.608 | \u001b[36mINFO\u001b[0m    | Flow run\u001b[35m 'independent-jacamar'\u001b[0m - Created task run 'process_pool_snaps-bb91f77b-37' for task 'process_pool_snaps'\n"
      ]
     },
     "metadata": {},
     "output_type": "display_data"
    },
    {
     "data": {
      "text/html": [
       "<pre style=\"white-space:pre;overflow-x:auto;line-height:normal;font-family:Menlo,'DejaVu Sans Mono',consolas,'Courier New',monospace\">17:15:55.609 | <span style=\"color: #008080; text-decoration-color: #008080\">INFO</span>    | Flow run<span style=\"color: #800080; text-decoration-color: #800080\"> 'independent-jacamar'</span> - Executing 'process_pool_snaps-bb91f77b-37' immediately...\n",
       "</pre>\n"
      ],
      "text/plain": [
       "17:15:55.609 | \u001b[36mINFO\u001b[0m    | Flow run\u001b[35m 'independent-jacamar'\u001b[0m - Executing 'process_pool_snaps-bb91f77b-37' immediately...\n"
      ]
     },
     "metadata": {},
     "output_type": "display_data"
    },
    {
     "data": {
      "text/html": [
       "<pre style=\"white-space:pre;overflow-x:auto;line-height:normal;font-family:Menlo,'DejaVu Sans Mono',consolas,'Courier New',monospace\">17:15:55.632 | <span style=\"color: #008080; text-decoration-color: #008080\">INFO</span>    | Task run 'process_pool_snaps-bb91f77b-37' - Finished in state <span style=\"color: #008000; text-decoration-color: #008000\">Completed</span>()\n",
       "</pre>\n"
      ],
      "text/plain": [
       "17:15:55.632 | \u001b[36mINFO\u001b[0m    | Task run 'process_pool_snaps-bb91f77b-37' - Finished in state \u001b[32mCompleted\u001b[0m()\n"
      ]
     },
     "metadata": {},
     "output_type": "display_data"
    },
    {
     "data": {
      "text/html": [
       "<pre style=\"white-space:pre;overflow-x:auto;line-height:normal;font-family:Menlo,'DejaVu Sans Mono',consolas,'Courier New',monospace\">17:15:55.641 | <span style=\"color: #008080; text-decoration-color: #008080\">INFO</span>    | Flow run<span style=\"color: #800080; text-decoration-color: #800080\"> 'independent-jacamar'</span> - Created task run 'process_pool_snaps-bb91f77b-38' for task 'process_pool_snaps'\n",
       "</pre>\n"
      ],
      "text/plain": [
       "17:15:55.641 | \u001b[36mINFO\u001b[0m    | Flow run\u001b[35m 'independent-jacamar'\u001b[0m - Created task run 'process_pool_snaps-bb91f77b-38' for task 'process_pool_snaps'\n"
      ]
     },
     "metadata": {},
     "output_type": "display_data"
    },
    {
     "data": {
      "text/html": [
       "<pre style=\"white-space:pre;overflow-x:auto;line-height:normal;font-family:Menlo,'DejaVu Sans Mono',consolas,'Courier New',monospace\">17:15:55.642 | <span style=\"color: #008080; text-decoration-color: #008080\">INFO</span>    | Flow run<span style=\"color: #800080; text-decoration-color: #800080\"> 'independent-jacamar'</span> - Executing 'process_pool_snaps-bb91f77b-38' immediately...\n",
       "</pre>\n"
      ],
      "text/plain": [
       "17:15:55.642 | \u001b[36mINFO\u001b[0m    | Flow run\u001b[35m 'independent-jacamar'\u001b[0m - Executing 'process_pool_snaps-bb91f77b-38' immediately...\n"
      ]
     },
     "metadata": {},
     "output_type": "display_data"
    },
    {
     "data": {
      "text/html": [
       "<pre style=\"white-space:pre;overflow-x:auto;line-height:normal;font-family:Menlo,'DejaVu Sans Mono',consolas,'Courier New',monospace\">17:15:55.664 | <span style=\"color: #008080; text-decoration-color: #008080\">INFO</span>    | Task run 'process_pool_snaps-bb91f77b-38' - Finished in state <span style=\"color: #008000; text-decoration-color: #008000\">Completed</span>()\n",
       "</pre>\n"
      ],
      "text/plain": [
       "17:15:55.664 | \u001b[36mINFO\u001b[0m    | Task run 'process_pool_snaps-bb91f77b-38' - Finished in state \u001b[32mCompleted\u001b[0m()\n"
      ]
     },
     "metadata": {},
     "output_type": "display_data"
    },
    {
     "data": {
      "text/html": [
       "<pre style=\"white-space:pre;overflow-x:auto;line-height:normal;font-family:Menlo,'DejaVu Sans Mono',consolas,'Courier New',monospace\">17:15:55.675 | <span style=\"color: #008080; text-decoration-color: #008080\">INFO</span>    | Flow run<span style=\"color: #800080; text-decoration-color: #800080\"> 'independent-jacamar'</span> - Created task run 'process_pool_snaps-bb91f77b-39' for task 'process_pool_snaps'\n",
       "</pre>\n"
      ],
      "text/plain": [
       "17:15:55.675 | \u001b[36mINFO\u001b[0m    | Flow run\u001b[35m 'independent-jacamar'\u001b[0m - Created task run 'process_pool_snaps-bb91f77b-39' for task 'process_pool_snaps'\n"
      ]
     },
     "metadata": {},
     "output_type": "display_data"
    },
    {
     "data": {
      "text/html": [
       "<pre style=\"white-space:pre;overflow-x:auto;line-height:normal;font-family:Menlo,'DejaVu Sans Mono',consolas,'Courier New',monospace\">17:15:55.675 | <span style=\"color: #008080; text-decoration-color: #008080\">INFO</span>    | Flow run<span style=\"color: #800080; text-decoration-color: #800080\"> 'independent-jacamar'</span> - Executing 'process_pool_snaps-bb91f77b-39' immediately...\n",
       "</pre>\n"
      ],
      "text/plain": [
       "17:15:55.675 | \u001b[36mINFO\u001b[0m    | Flow run\u001b[35m 'independent-jacamar'\u001b[0m - Executing 'process_pool_snaps-bb91f77b-39' immediately...\n"
      ]
     },
     "metadata": {},
     "output_type": "display_data"
    },
    {
     "data": {
      "text/html": [
       "<pre style=\"white-space:pre;overflow-x:auto;line-height:normal;font-family:Menlo,'DejaVu Sans Mono',consolas,'Courier New',monospace\">17:15:55.715 | <span style=\"color: #008080; text-decoration-color: #008080\">INFO</span>    | Task run 'process_pool_snaps-bb91f77b-39' - Finished in state <span style=\"color: #008000; text-decoration-color: #008000\">Completed</span>()\n",
       "</pre>\n"
      ],
      "text/plain": [
       "17:15:55.715 | \u001b[36mINFO\u001b[0m    | Task run 'process_pool_snaps-bb91f77b-39' - Finished in state \u001b[32mCompleted\u001b[0m()\n"
      ]
     },
     "metadata": {},
     "output_type": "display_data"
    },
    {
     "data": {
      "text/html": [
       "<pre style=\"white-space:pre;overflow-x:auto;line-height:normal;font-family:Menlo,'DejaVu Sans Mono',consolas,'Courier New',monospace\">17:15:55.724 | <span style=\"color: #008080; text-decoration-color: #008080\">INFO</span>    | Flow run<span style=\"color: #800080; text-decoration-color: #800080\"> 'independent-jacamar'</span> - Created task run 'process_pool_snaps-bb91f77b-40' for task 'process_pool_snaps'\n",
       "</pre>\n"
      ],
      "text/plain": [
       "17:15:55.724 | \u001b[36mINFO\u001b[0m    | Flow run\u001b[35m 'independent-jacamar'\u001b[0m - Created task run 'process_pool_snaps-bb91f77b-40' for task 'process_pool_snaps'\n"
      ]
     },
     "metadata": {},
     "output_type": "display_data"
    },
    {
     "data": {
      "text/html": [
       "<pre style=\"white-space:pre;overflow-x:auto;line-height:normal;font-family:Menlo,'DejaVu Sans Mono',consolas,'Courier New',monospace\">17:15:55.725 | <span style=\"color: #008080; text-decoration-color: #008080\">INFO</span>    | Flow run<span style=\"color: #800080; text-decoration-color: #800080\"> 'independent-jacamar'</span> - Executing 'process_pool_snaps-bb91f77b-40' immediately...\n",
       "</pre>\n"
      ],
      "text/plain": [
       "17:15:55.725 | \u001b[36mINFO\u001b[0m    | Flow run\u001b[35m 'independent-jacamar'\u001b[0m - Executing 'process_pool_snaps-bb91f77b-40' immediately...\n"
      ]
     },
     "metadata": {},
     "output_type": "display_data"
    },
    {
     "data": {
      "text/html": [
       "<pre style=\"white-space:pre;overflow-x:auto;line-height:normal;font-family:Menlo,'DejaVu Sans Mono',consolas,'Courier New',monospace\">17:15:55.748 | <span style=\"color: #008080; text-decoration-color: #008080\">INFO</span>    | Task run 'process_pool_snaps-bb91f77b-40' - Finished in state <span style=\"color: #008000; text-decoration-color: #008000\">Completed</span>()\n",
       "</pre>\n"
      ],
      "text/plain": [
       "17:15:55.748 | \u001b[36mINFO\u001b[0m    | Task run 'process_pool_snaps-bb91f77b-40' - Finished in state \u001b[32mCompleted\u001b[0m()\n"
      ]
     },
     "metadata": {},
     "output_type": "display_data"
    },
    {
     "data": {
      "text/html": [
       "<pre style=\"white-space:pre;overflow-x:auto;line-height:normal;font-family:Menlo,'DejaVu Sans Mono',consolas,'Courier New',monospace\">17:15:55.758 | <span style=\"color: #008080; text-decoration-color: #008080\">INFO</span>    | Flow run<span style=\"color: #800080; text-decoration-color: #800080\"> 'independent-jacamar'</span> - Created task run 'process_pool_snaps-bb91f77b-41' for task 'process_pool_snaps'\n",
       "</pre>\n"
      ],
      "text/plain": [
       "17:15:55.758 | \u001b[36mINFO\u001b[0m    | Flow run\u001b[35m 'independent-jacamar'\u001b[0m - Created task run 'process_pool_snaps-bb91f77b-41' for task 'process_pool_snaps'\n"
      ]
     },
     "metadata": {},
     "output_type": "display_data"
    },
    {
     "data": {
      "text/html": [
       "<pre style=\"white-space:pre;overflow-x:auto;line-height:normal;font-family:Menlo,'DejaVu Sans Mono',consolas,'Courier New',monospace\">17:15:55.758 | <span style=\"color: #008080; text-decoration-color: #008080\">INFO</span>    | Flow run<span style=\"color: #800080; text-decoration-color: #800080\"> 'independent-jacamar'</span> - Executing 'process_pool_snaps-bb91f77b-41' immediately...\n",
       "</pre>\n"
      ],
      "text/plain": [
       "17:15:55.758 | \u001b[36mINFO\u001b[0m    | Flow run\u001b[35m 'independent-jacamar'\u001b[0m - Executing 'process_pool_snaps-bb91f77b-41' immediately...\n"
      ]
     },
     "metadata": {},
     "output_type": "display_data"
    },
    {
     "data": {
      "text/html": [
       "<pre style=\"white-space:pre;overflow-x:auto;line-height:normal;font-family:Menlo,'DejaVu Sans Mono',consolas,'Courier New',monospace\">17:15:55.781 | <span style=\"color: #008080; text-decoration-color: #008080\">INFO</span>    | Task run 'process_pool_snaps-bb91f77b-41' - Finished in state <span style=\"color: #008000; text-decoration-color: #008000\">Completed</span>()\n",
       "</pre>\n"
      ],
      "text/plain": [
       "17:15:55.781 | \u001b[36mINFO\u001b[0m    | Task run 'process_pool_snaps-bb91f77b-41' - Finished in state \u001b[32mCompleted\u001b[0m()\n"
      ]
     },
     "metadata": {},
     "output_type": "display_data"
    },
    {
     "data": {
      "text/html": [
       "<pre style=\"white-space:pre;overflow-x:auto;line-height:normal;font-family:Menlo,'DejaVu Sans Mono',consolas,'Courier New',monospace\">17:15:55.791 | <span style=\"color: #008080; text-decoration-color: #008080\">INFO</span>    | Flow run<span style=\"color: #800080; text-decoration-color: #800080\"> 'independent-jacamar'</span> - Created task run 'process_pool_snaps-bb91f77b-42' for task 'process_pool_snaps'\n",
       "</pre>\n"
      ],
      "text/plain": [
       "17:15:55.791 | \u001b[36mINFO\u001b[0m    | Flow run\u001b[35m 'independent-jacamar'\u001b[0m - Created task run 'process_pool_snaps-bb91f77b-42' for task 'process_pool_snaps'\n"
      ]
     },
     "metadata": {},
     "output_type": "display_data"
    },
    {
     "data": {
      "text/html": [
       "<pre style=\"white-space:pre;overflow-x:auto;line-height:normal;font-family:Menlo,'DejaVu Sans Mono',consolas,'Courier New',monospace\">17:15:55.791 | <span style=\"color: #008080; text-decoration-color: #008080\">INFO</span>    | Flow run<span style=\"color: #800080; text-decoration-color: #800080\"> 'independent-jacamar'</span> - Executing 'process_pool_snaps-bb91f77b-42' immediately...\n",
       "</pre>\n"
      ],
      "text/plain": [
       "17:15:55.791 | \u001b[36mINFO\u001b[0m    | Flow run\u001b[35m 'independent-jacamar'\u001b[0m - Executing 'process_pool_snaps-bb91f77b-42' immediately...\n"
      ]
     },
     "metadata": {},
     "output_type": "display_data"
    },
    {
     "data": {
      "text/html": [
       "<pre style=\"white-space:pre;overflow-x:auto;line-height:normal;font-family:Menlo,'DejaVu Sans Mono',consolas,'Courier New',monospace\">17:15:55.814 | <span style=\"color: #008080; text-decoration-color: #008080\">INFO</span>    | Task run 'process_pool_snaps-bb91f77b-42' - Finished in state <span style=\"color: #008000; text-decoration-color: #008000\">Completed</span>()\n",
       "</pre>\n"
      ],
      "text/plain": [
       "17:15:55.814 | \u001b[36mINFO\u001b[0m    | Task run 'process_pool_snaps-bb91f77b-42' - Finished in state \u001b[32mCompleted\u001b[0m()\n"
      ]
     },
     "metadata": {},
     "output_type": "display_data"
    },
    {
     "data": {
      "text/html": [
       "<pre style=\"white-space:pre;overflow-x:auto;line-height:normal;font-family:Menlo,'DejaVu Sans Mono',consolas,'Courier New',monospace\">17:15:55.824 | <span style=\"color: #008080; text-decoration-color: #008080\">INFO</span>    | Flow run<span style=\"color: #800080; text-decoration-color: #800080\"> 'independent-jacamar'</span> - Created task run 'process_pool_snaps-bb91f77b-43' for task 'process_pool_snaps'\n",
       "</pre>\n"
      ],
      "text/plain": [
       "17:15:55.824 | \u001b[36mINFO\u001b[0m    | Flow run\u001b[35m 'independent-jacamar'\u001b[0m - Created task run 'process_pool_snaps-bb91f77b-43' for task 'process_pool_snaps'\n"
      ]
     },
     "metadata": {},
     "output_type": "display_data"
    },
    {
     "data": {
      "text/html": [
       "<pre style=\"white-space:pre;overflow-x:auto;line-height:normal;font-family:Menlo,'DejaVu Sans Mono',consolas,'Courier New',monospace\">17:15:55.825 | <span style=\"color: #008080; text-decoration-color: #008080\">INFO</span>    | Flow run<span style=\"color: #800080; text-decoration-color: #800080\"> 'independent-jacamar'</span> - Executing 'process_pool_snaps-bb91f77b-43' immediately...\n",
       "</pre>\n"
      ],
      "text/plain": [
       "17:15:55.825 | \u001b[36mINFO\u001b[0m    | Flow run\u001b[35m 'independent-jacamar'\u001b[0m - Executing 'process_pool_snaps-bb91f77b-43' immediately...\n"
      ]
     },
     "metadata": {},
     "output_type": "display_data"
    },
    {
     "data": {
      "text/html": [
       "<pre style=\"white-space:pre;overflow-x:auto;line-height:normal;font-family:Menlo,'DejaVu Sans Mono',consolas,'Courier New',monospace\">17:15:55.849 | <span style=\"color: #008080; text-decoration-color: #008080\">INFO</span>    | Task run 'process_pool_snaps-bb91f77b-43' - Finished in state <span style=\"color: #008000; text-decoration-color: #008000\">Completed</span>()\n",
       "</pre>\n"
      ],
      "text/plain": [
       "17:15:55.849 | \u001b[36mINFO\u001b[0m    | Task run 'process_pool_snaps-bb91f77b-43' - Finished in state \u001b[32mCompleted\u001b[0m()\n"
      ]
     },
     "metadata": {},
     "output_type": "display_data"
    },
    {
     "data": {
      "text/html": [
       "<pre style=\"white-space:pre;overflow-x:auto;line-height:normal;font-family:Menlo,'DejaVu Sans Mono',consolas,'Courier New',monospace\">17:15:55.858 | <span style=\"color: #008080; text-decoration-color: #008080\">INFO</span>    | Flow run<span style=\"color: #800080; text-decoration-color: #800080\"> 'independent-jacamar'</span> - Created task run 'process_pool_snaps-bb91f77b-44' for task 'process_pool_snaps'\n",
       "</pre>\n"
      ],
      "text/plain": [
       "17:15:55.858 | \u001b[36mINFO\u001b[0m    | Flow run\u001b[35m 'independent-jacamar'\u001b[0m - Created task run 'process_pool_snaps-bb91f77b-44' for task 'process_pool_snaps'\n"
      ]
     },
     "metadata": {},
     "output_type": "display_data"
    },
    {
     "data": {
      "text/html": [
       "<pre style=\"white-space:pre;overflow-x:auto;line-height:normal;font-family:Menlo,'DejaVu Sans Mono',consolas,'Courier New',monospace\">17:15:55.859 | <span style=\"color: #008080; text-decoration-color: #008080\">INFO</span>    | Flow run<span style=\"color: #800080; text-decoration-color: #800080\"> 'independent-jacamar'</span> - Executing 'process_pool_snaps-bb91f77b-44' immediately...\n",
       "</pre>\n"
      ],
      "text/plain": [
       "17:15:55.859 | \u001b[36mINFO\u001b[0m    | Flow run\u001b[35m 'independent-jacamar'\u001b[0m - Executing 'process_pool_snaps-bb91f77b-44' immediately...\n"
      ]
     },
     "metadata": {},
     "output_type": "display_data"
    },
    {
     "data": {
      "text/html": [
       "<pre style=\"white-space:pre;overflow-x:auto;line-height:normal;font-family:Menlo,'DejaVu Sans Mono',consolas,'Courier New',monospace\">17:15:55.882 | <span style=\"color: #008080; text-decoration-color: #008080\">INFO</span>    | Task run 'process_pool_snaps-bb91f77b-44' - Finished in state <span style=\"color: #008000; text-decoration-color: #008000\">Completed</span>()\n",
       "</pre>\n"
      ],
      "text/plain": [
       "17:15:55.882 | \u001b[36mINFO\u001b[0m    | Task run 'process_pool_snaps-bb91f77b-44' - Finished in state \u001b[32mCompleted\u001b[0m()\n"
      ]
     },
     "metadata": {},
     "output_type": "display_data"
    },
    {
     "data": {
      "text/html": [
       "<pre style=\"white-space:pre;overflow-x:auto;line-height:normal;font-family:Menlo,'DejaVu Sans Mono',consolas,'Courier New',monospace\">17:15:55.891 | <span style=\"color: #008080; text-decoration-color: #008080\">INFO</span>    | Flow run<span style=\"color: #800080; text-decoration-color: #800080\"> 'independent-jacamar'</span> - Created task run 'process_pool_snaps-bb91f77b-45' for task 'process_pool_snaps'\n",
       "</pre>\n"
      ],
      "text/plain": [
       "17:15:55.891 | \u001b[36mINFO\u001b[0m    | Flow run\u001b[35m 'independent-jacamar'\u001b[0m - Created task run 'process_pool_snaps-bb91f77b-45' for task 'process_pool_snaps'\n"
      ]
     },
     "metadata": {},
     "output_type": "display_data"
    },
    {
     "data": {
      "text/html": [
       "<pre style=\"white-space:pre;overflow-x:auto;line-height:normal;font-family:Menlo,'DejaVu Sans Mono',consolas,'Courier New',monospace\">17:15:55.892 | <span style=\"color: #008080; text-decoration-color: #008080\">INFO</span>    | Flow run<span style=\"color: #800080; text-decoration-color: #800080\"> 'independent-jacamar'</span> - Executing 'process_pool_snaps-bb91f77b-45' immediately...\n",
       "</pre>\n"
      ],
      "text/plain": [
       "17:15:55.892 | \u001b[36mINFO\u001b[0m    | Flow run\u001b[35m 'independent-jacamar'\u001b[0m - Executing 'process_pool_snaps-bb91f77b-45' immediately...\n"
      ]
     },
     "metadata": {},
     "output_type": "display_data"
    },
    {
     "data": {
      "text/html": [
       "<pre style=\"white-space:pre;overflow-x:auto;line-height:normal;font-family:Menlo,'DejaVu Sans Mono',consolas,'Courier New',monospace\">17:15:55.915 | <span style=\"color: #008080; text-decoration-color: #008080\">INFO</span>    | Task run 'process_pool_snaps-bb91f77b-45' - Finished in state <span style=\"color: #008000; text-decoration-color: #008000\">Completed</span>()\n",
       "</pre>\n"
      ],
      "text/plain": [
       "17:15:55.915 | \u001b[36mINFO\u001b[0m    | Task run 'process_pool_snaps-bb91f77b-45' - Finished in state \u001b[32mCompleted\u001b[0m()\n"
      ]
     },
     "metadata": {},
     "output_type": "display_data"
    },
    {
     "data": {
      "text/html": [
       "<pre style=\"white-space:pre;overflow-x:auto;line-height:normal;font-family:Menlo,'DejaVu Sans Mono',consolas,'Courier New',monospace\">17:15:55.924 | <span style=\"color: #008080; text-decoration-color: #008080\">INFO</span>    | Flow run<span style=\"color: #800080; text-decoration-color: #800080\"> 'independent-jacamar'</span> - Created task run 'process_pool_snaps-bb91f77b-46' for task 'process_pool_snaps'\n",
       "</pre>\n"
      ],
      "text/plain": [
       "17:15:55.924 | \u001b[36mINFO\u001b[0m    | Flow run\u001b[35m 'independent-jacamar'\u001b[0m - Created task run 'process_pool_snaps-bb91f77b-46' for task 'process_pool_snaps'\n"
      ]
     },
     "metadata": {},
     "output_type": "display_data"
    },
    {
     "data": {
      "text/html": [
       "<pre style=\"white-space:pre;overflow-x:auto;line-height:normal;font-family:Menlo,'DejaVu Sans Mono',consolas,'Courier New',monospace\">17:15:55.925 | <span style=\"color: #008080; text-decoration-color: #008080\">INFO</span>    | Flow run<span style=\"color: #800080; text-decoration-color: #800080\"> 'independent-jacamar'</span> - Executing 'process_pool_snaps-bb91f77b-46' immediately...\n",
       "</pre>\n"
      ],
      "text/plain": [
       "17:15:55.925 | \u001b[36mINFO\u001b[0m    | Flow run\u001b[35m 'independent-jacamar'\u001b[0m - Executing 'process_pool_snaps-bb91f77b-46' immediately...\n"
      ]
     },
     "metadata": {},
     "output_type": "display_data"
    },
    {
     "data": {
      "text/html": [
       "<pre style=\"white-space:pre;overflow-x:auto;line-height:normal;font-family:Menlo,'DejaVu Sans Mono',consolas,'Courier New',monospace\">17:15:55.948 | <span style=\"color: #008080; text-decoration-color: #008080\">INFO</span>    | Task run 'process_pool_snaps-bb91f77b-46' - Finished in state <span style=\"color: #008000; text-decoration-color: #008000\">Completed</span>()\n",
       "</pre>\n"
      ],
      "text/plain": [
       "17:15:55.948 | \u001b[36mINFO\u001b[0m    | Task run 'process_pool_snaps-bb91f77b-46' - Finished in state \u001b[32mCompleted\u001b[0m()\n"
      ]
     },
     "metadata": {},
     "output_type": "display_data"
    },
    {
     "data": {
      "text/html": [
       "<pre style=\"white-space:pre;overflow-x:auto;line-height:normal;font-family:Menlo,'DejaVu Sans Mono',consolas,'Courier New',monospace\">17:15:55.957 | <span style=\"color: #008080; text-decoration-color: #008080\">INFO</span>    | Flow run<span style=\"color: #800080; text-decoration-color: #800080\"> 'independent-jacamar'</span> - Created task run 'process_pool_snaps-bb91f77b-47' for task 'process_pool_snaps'\n",
       "</pre>\n"
      ],
      "text/plain": [
       "17:15:55.957 | \u001b[36mINFO\u001b[0m    | Flow run\u001b[35m 'independent-jacamar'\u001b[0m - Created task run 'process_pool_snaps-bb91f77b-47' for task 'process_pool_snaps'\n"
      ]
     },
     "metadata": {},
     "output_type": "display_data"
    },
    {
     "data": {
      "text/html": [
       "<pre style=\"white-space:pre;overflow-x:auto;line-height:normal;font-family:Menlo,'DejaVu Sans Mono',consolas,'Courier New',monospace\">17:15:55.958 | <span style=\"color: #008080; text-decoration-color: #008080\">INFO</span>    | Flow run<span style=\"color: #800080; text-decoration-color: #800080\"> 'independent-jacamar'</span> - Executing 'process_pool_snaps-bb91f77b-47' immediately...\n",
       "</pre>\n"
      ],
      "text/plain": [
       "17:15:55.958 | \u001b[36mINFO\u001b[0m    | Flow run\u001b[35m 'independent-jacamar'\u001b[0m - Executing 'process_pool_snaps-bb91f77b-47' immediately...\n"
      ]
     },
     "metadata": {},
     "output_type": "display_data"
    },
    {
     "data": {
      "text/html": [
       "<pre style=\"white-space:pre;overflow-x:auto;line-height:normal;font-family:Menlo,'DejaVu Sans Mono',consolas,'Courier New',monospace\">17:15:55.982 | <span style=\"color: #008080; text-decoration-color: #008080\">INFO</span>    | Task run 'process_pool_snaps-bb91f77b-47' - Finished in state <span style=\"color: #008000; text-decoration-color: #008000\">Completed</span>()\n",
       "</pre>\n"
      ],
      "text/plain": [
       "17:15:55.982 | \u001b[36mINFO\u001b[0m    | Task run 'process_pool_snaps-bb91f77b-47' - Finished in state \u001b[32mCompleted\u001b[0m()\n"
      ]
     },
     "metadata": {},
     "output_type": "display_data"
    },
    {
     "data": {
      "text/html": [
       "<pre style=\"white-space:pre;overflow-x:auto;line-height:normal;font-family:Menlo,'DejaVu Sans Mono',consolas,'Courier New',monospace\">17:15:55.991 | <span style=\"color: #008080; text-decoration-color: #008080\">INFO</span>    | Flow run<span style=\"color: #800080; text-decoration-color: #800080\"> 'independent-jacamar'</span> - Created task run 'process_pool_snaps-bb91f77b-48' for task 'process_pool_snaps'\n",
       "</pre>\n"
      ],
      "text/plain": [
       "17:15:55.991 | \u001b[36mINFO\u001b[0m    | Flow run\u001b[35m 'independent-jacamar'\u001b[0m - Created task run 'process_pool_snaps-bb91f77b-48' for task 'process_pool_snaps'\n"
      ]
     },
     "metadata": {},
     "output_type": "display_data"
    },
    {
     "data": {
      "text/html": [
       "<pre style=\"white-space:pre;overflow-x:auto;line-height:normal;font-family:Menlo,'DejaVu Sans Mono',consolas,'Courier New',monospace\">17:15:55.992 | <span style=\"color: #008080; text-decoration-color: #008080\">INFO</span>    | Flow run<span style=\"color: #800080; text-decoration-color: #800080\"> 'independent-jacamar'</span> - Executing 'process_pool_snaps-bb91f77b-48' immediately...\n",
       "</pre>\n"
      ],
      "text/plain": [
       "17:15:55.992 | \u001b[36mINFO\u001b[0m    | Flow run\u001b[35m 'independent-jacamar'\u001b[0m - Executing 'process_pool_snaps-bb91f77b-48' immediately...\n"
      ]
     },
     "metadata": {},
     "output_type": "display_data"
    },
    {
     "data": {
      "text/html": [
       "<pre style=\"white-space:pre;overflow-x:auto;line-height:normal;font-family:Menlo,'DejaVu Sans Mono',consolas,'Courier New',monospace\">17:15:56.015 | <span style=\"color: #008080; text-decoration-color: #008080\">INFO</span>    | Task run 'process_pool_snaps-bb91f77b-48' - Finished in state <span style=\"color: #008000; text-decoration-color: #008000\">Completed</span>()\n",
       "</pre>\n"
      ],
      "text/plain": [
       "17:15:56.015 | \u001b[36mINFO\u001b[0m    | Task run 'process_pool_snaps-bb91f77b-48' - Finished in state \u001b[32mCompleted\u001b[0m()\n"
      ]
     },
     "metadata": {},
     "output_type": "display_data"
    },
    {
     "data": {
      "text/html": [
       "<pre style=\"white-space:pre;overflow-x:auto;line-height:normal;font-family:Menlo,'DejaVu Sans Mono',consolas,'Courier New',monospace\">17:15:56.024 | <span style=\"color: #008080; text-decoration-color: #008080\">INFO</span>    | Flow run<span style=\"color: #800080; text-decoration-color: #800080\"> 'independent-jacamar'</span> - Created task run 'process_pool_snaps-bb91f77b-49' for task 'process_pool_snaps'\n",
       "</pre>\n"
      ],
      "text/plain": [
       "17:15:56.024 | \u001b[36mINFO\u001b[0m    | Flow run\u001b[35m 'independent-jacamar'\u001b[0m - Created task run 'process_pool_snaps-bb91f77b-49' for task 'process_pool_snaps'\n"
      ]
     },
     "metadata": {},
     "output_type": "display_data"
    },
    {
     "data": {
      "text/html": [
       "<pre style=\"white-space:pre;overflow-x:auto;line-height:normal;font-family:Menlo,'DejaVu Sans Mono',consolas,'Courier New',monospace\">17:15:56.025 | <span style=\"color: #008080; text-decoration-color: #008080\">INFO</span>    | Flow run<span style=\"color: #800080; text-decoration-color: #800080\"> 'independent-jacamar'</span> - Executing 'process_pool_snaps-bb91f77b-49' immediately...\n",
       "</pre>\n"
      ],
      "text/plain": [
       "17:15:56.025 | \u001b[36mINFO\u001b[0m    | Flow run\u001b[35m 'independent-jacamar'\u001b[0m - Executing 'process_pool_snaps-bb91f77b-49' immediately...\n"
      ]
     },
     "metadata": {},
     "output_type": "display_data"
    },
    {
     "data": {
      "text/html": [
       "<pre style=\"white-space:pre;overflow-x:auto;line-height:normal;font-family:Menlo,'DejaVu Sans Mono',consolas,'Courier New',monospace\">17:15:56.048 | <span style=\"color: #008080; text-decoration-color: #008080\">INFO</span>    | Task run 'process_pool_snaps-bb91f77b-49' - Finished in state <span style=\"color: #008000; text-decoration-color: #008000\">Completed</span>()\n",
       "</pre>\n"
      ],
      "text/plain": [
       "17:15:56.048 | \u001b[36mINFO\u001b[0m    | Task run 'process_pool_snaps-bb91f77b-49' - Finished in state \u001b[32mCompleted\u001b[0m()\n"
      ]
     },
     "metadata": {},
     "output_type": "display_data"
    },
    {
     "data": {
      "text/html": [
       "<pre style=\"white-space:pre;overflow-x:auto;line-height:normal;font-family:Menlo,'DejaVu Sans Mono',consolas,'Courier New',monospace\">17:15:56.058 | <span style=\"color: #008080; text-decoration-color: #008080\">INFO</span>    | Flow run<span style=\"color: #800080; text-decoration-color: #800080\"> 'independent-jacamar'</span> - Created task run 'process_pool_snaps-bb91f77b-50' for task 'process_pool_snaps'\n",
       "</pre>\n"
      ],
      "text/plain": [
       "17:15:56.058 | \u001b[36mINFO\u001b[0m    | Flow run\u001b[35m 'independent-jacamar'\u001b[0m - Created task run 'process_pool_snaps-bb91f77b-50' for task 'process_pool_snaps'\n"
      ]
     },
     "metadata": {},
     "output_type": "display_data"
    },
    {
     "data": {
      "text/html": [
       "<pre style=\"white-space:pre;overflow-x:auto;line-height:normal;font-family:Menlo,'DejaVu Sans Mono',consolas,'Courier New',monospace\">17:15:56.059 | <span style=\"color: #008080; text-decoration-color: #008080\">INFO</span>    | Flow run<span style=\"color: #800080; text-decoration-color: #800080\"> 'independent-jacamar'</span> - Executing 'process_pool_snaps-bb91f77b-50' immediately...\n",
       "</pre>\n"
      ],
      "text/plain": [
       "17:15:56.059 | \u001b[36mINFO\u001b[0m    | Flow run\u001b[35m 'independent-jacamar'\u001b[0m - Executing 'process_pool_snaps-bb91f77b-50' immediately...\n"
      ]
     },
     "metadata": {},
     "output_type": "display_data"
    },
    {
     "data": {
      "text/html": [
       "<pre style=\"white-space:pre;overflow-x:auto;line-height:normal;font-family:Menlo,'DejaVu Sans Mono',consolas,'Courier New',monospace\">17:15:56.083 | <span style=\"color: #008080; text-decoration-color: #008080\">INFO</span>    | Task run 'process_pool_snaps-bb91f77b-50' - Finished in state <span style=\"color: #008000; text-decoration-color: #008000\">Completed</span>()\n",
       "</pre>\n"
      ],
      "text/plain": [
       "17:15:56.083 | \u001b[36mINFO\u001b[0m    | Task run 'process_pool_snaps-bb91f77b-50' - Finished in state \u001b[32mCompleted\u001b[0m()\n"
      ]
     },
     "metadata": {},
     "output_type": "display_data"
    },
    {
     "data": {
      "text/html": [
       "<pre style=\"white-space:pre;overflow-x:auto;line-height:normal;font-family:Menlo,'DejaVu Sans Mono',consolas,'Courier New',monospace\">17:15:56.092 | <span style=\"color: #008080; text-decoration-color: #008080\">INFO</span>    | Flow run<span style=\"color: #800080; text-decoration-color: #800080\"> 'independent-jacamar'</span> - Created task run 'process_pool_snaps-bb91f77b-51' for task 'process_pool_snaps'\n",
       "</pre>\n"
      ],
      "text/plain": [
       "17:15:56.092 | \u001b[36mINFO\u001b[0m    | Flow run\u001b[35m 'independent-jacamar'\u001b[0m - Created task run 'process_pool_snaps-bb91f77b-51' for task 'process_pool_snaps'\n"
      ]
     },
     "metadata": {},
     "output_type": "display_data"
    },
    {
     "data": {
      "text/html": [
       "<pre style=\"white-space:pre;overflow-x:auto;line-height:normal;font-family:Menlo,'DejaVu Sans Mono',consolas,'Courier New',monospace\">17:15:56.093 | <span style=\"color: #008080; text-decoration-color: #008080\">INFO</span>    | Flow run<span style=\"color: #800080; text-decoration-color: #800080\"> 'independent-jacamar'</span> - Executing 'process_pool_snaps-bb91f77b-51' immediately...\n",
       "</pre>\n"
      ],
      "text/plain": [
       "17:15:56.093 | \u001b[36mINFO\u001b[0m    | Flow run\u001b[35m 'independent-jacamar'\u001b[0m - Executing 'process_pool_snaps-bb91f77b-51' immediately...\n"
      ]
     },
     "metadata": {},
     "output_type": "display_data"
    },
    {
     "data": {
      "text/html": [
       "<pre style=\"white-space:pre;overflow-x:auto;line-height:normal;font-family:Menlo,'DejaVu Sans Mono',consolas,'Courier New',monospace\">17:15:56.116 | <span style=\"color: #008080; text-decoration-color: #008080\">INFO</span>    | Task run 'process_pool_snaps-bb91f77b-51' - Finished in state <span style=\"color: #008000; text-decoration-color: #008000\">Completed</span>()\n",
       "</pre>\n"
      ],
      "text/plain": [
       "17:15:56.116 | \u001b[36mINFO\u001b[0m    | Task run 'process_pool_snaps-bb91f77b-51' - Finished in state \u001b[32mCompleted\u001b[0m()\n"
      ]
     },
     "metadata": {},
     "output_type": "display_data"
    },
    {
     "data": {
      "text/html": [
       "<pre style=\"white-space:pre;overflow-x:auto;line-height:normal;font-family:Menlo,'DejaVu Sans Mono',consolas,'Courier New',monospace\">17:15:56.125 | <span style=\"color: #008080; text-decoration-color: #008080\">INFO</span>    | Flow run<span style=\"color: #800080; text-decoration-color: #800080\"> 'independent-jacamar'</span> - Created task run 'process_pool_snaps-bb91f77b-52' for task 'process_pool_snaps'\n",
       "</pre>\n"
      ],
      "text/plain": [
       "17:15:56.125 | \u001b[36mINFO\u001b[0m    | Flow run\u001b[35m 'independent-jacamar'\u001b[0m - Created task run 'process_pool_snaps-bb91f77b-52' for task 'process_pool_snaps'\n"
      ]
     },
     "metadata": {},
     "output_type": "display_data"
    },
    {
     "data": {
      "text/html": [
       "<pre style=\"white-space:pre;overflow-x:auto;line-height:normal;font-family:Menlo,'DejaVu Sans Mono',consolas,'Courier New',monospace\">17:15:56.126 | <span style=\"color: #008080; text-decoration-color: #008080\">INFO</span>    | Flow run<span style=\"color: #800080; text-decoration-color: #800080\"> 'independent-jacamar'</span> - Executing 'process_pool_snaps-bb91f77b-52' immediately...\n",
       "</pre>\n"
      ],
      "text/plain": [
       "17:15:56.126 | \u001b[36mINFO\u001b[0m    | Flow run\u001b[35m 'independent-jacamar'\u001b[0m - Executing 'process_pool_snaps-bb91f77b-52' immediately...\n"
      ]
     },
     "metadata": {},
     "output_type": "display_data"
    },
    {
     "data": {
      "text/html": [
       "<pre style=\"white-space:pre;overflow-x:auto;line-height:normal;font-family:Menlo,'DejaVu Sans Mono',consolas,'Courier New',monospace\">17:15:56.150 | <span style=\"color: #008080; text-decoration-color: #008080\">INFO</span>    | Task run 'process_pool_snaps-bb91f77b-52' - Finished in state <span style=\"color: #008000; text-decoration-color: #008000\">Completed</span>()\n",
       "</pre>\n"
      ],
      "text/plain": [
       "17:15:56.150 | \u001b[36mINFO\u001b[0m    | Task run 'process_pool_snaps-bb91f77b-52' - Finished in state \u001b[32mCompleted\u001b[0m()\n"
      ]
     },
     "metadata": {},
     "output_type": "display_data"
    },
    {
     "data": {
      "text/html": [
       "<pre style=\"white-space:pre;overflow-x:auto;line-height:normal;font-family:Menlo,'DejaVu Sans Mono',consolas,'Courier New',monospace\">17:15:56.159 | <span style=\"color: #008080; text-decoration-color: #008080\">INFO</span>    | Flow run<span style=\"color: #800080; text-decoration-color: #800080\"> 'independent-jacamar'</span> - Created task run 'process_pool_snaps-bb91f77b-53' for task 'process_pool_snaps'\n",
       "</pre>\n"
      ],
      "text/plain": [
       "17:15:56.159 | \u001b[36mINFO\u001b[0m    | Flow run\u001b[35m 'independent-jacamar'\u001b[0m - Created task run 'process_pool_snaps-bb91f77b-53' for task 'process_pool_snaps'\n"
      ]
     },
     "metadata": {},
     "output_type": "display_data"
    },
    {
     "data": {
      "text/html": [
       "<pre style=\"white-space:pre;overflow-x:auto;line-height:normal;font-family:Menlo,'DejaVu Sans Mono',consolas,'Courier New',monospace\">17:15:56.160 | <span style=\"color: #008080; text-decoration-color: #008080\">INFO</span>    | Flow run<span style=\"color: #800080; text-decoration-color: #800080\"> 'independent-jacamar'</span> - Executing 'process_pool_snaps-bb91f77b-53' immediately...\n",
       "</pre>\n"
      ],
      "text/plain": [
       "17:15:56.160 | \u001b[36mINFO\u001b[0m    | Flow run\u001b[35m 'independent-jacamar'\u001b[0m - Executing 'process_pool_snaps-bb91f77b-53' immediately...\n"
      ]
     },
     "metadata": {},
     "output_type": "display_data"
    },
    {
     "data": {
      "text/html": [
       "<pre style=\"white-space:pre;overflow-x:auto;line-height:normal;font-family:Menlo,'DejaVu Sans Mono',consolas,'Courier New',monospace\">17:15:56.182 | <span style=\"color: #008080; text-decoration-color: #008080\">INFO</span>    | Task run 'process_pool_snaps-bb91f77b-53' - Finished in state <span style=\"color: #008000; text-decoration-color: #008000\">Completed</span>()\n",
       "</pre>\n"
      ],
      "text/plain": [
       "17:15:56.182 | \u001b[36mINFO\u001b[0m    | Task run 'process_pool_snaps-bb91f77b-53' - Finished in state \u001b[32mCompleted\u001b[0m()\n"
      ]
     },
     "metadata": {},
     "output_type": "display_data"
    },
    {
     "data": {
      "text/html": [
       "<pre style=\"white-space:pre;overflow-x:auto;line-height:normal;font-family:Menlo,'DejaVu Sans Mono',consolas,'Courier New',monospace\">17:15:56.192 | <span style=\"color: #008080; text-decoration-color: #008080\">INFO</span>    | Flow run<span style=\"color: #800080; text-decoration-color: #800080\"> 'independent-jacamar'</span> - Created task run 'process_pool_snaps-bb91f77b-54' for task 'process_pool_snaps'\n",
       "</pre>\n"
      ],
      "text/plain": [
       "17:15:56.192 | \u001b[36mINFO\u001b[0m    | Flow run\u001b[35m 'independent-jacamar'\u001b[0m - Created task run 'process_pool_snaps-bb91f77b-54' for task 'process_pool_snaps'\n"
      ]
     },
     "metadata": {},
     "output_type": "display_data"
    },
    {
     "data": {
      "text/html": [
       "<pre style=\"white-space:pre;overflow-x:auto;line-height:normal;font-family:Menlo,'DejaVu Sans Mono',consolas,'Courier New',monospace\">17:15:56.192 | <span style=\"color: #008080; text-decoration-color: #008080\">INFO</span>    | Flow run<span style=\"color: #800080; text-decoration-color: #800080\"> 'independent-jacamar'</span> - Executing 'process_pool_snaps-bb91f77b-54' immediately...\n",
       "</pre>\n"
      ],
      "text/plain": [
       "17:15:56.192 | \u001b[36mINFO\u001b[0m    | Flow run\u001b[35m 'independent-jacamar'\u001b[0m - Executing 'process_pool_snaps-bb91f77b-54' immediately...\n"
      ]
     },
     "metadata": {},
     "output_type": "display_data"
    },
    {
     "data": {
      "text/html": [
       "<pre style=\"white-space:pre;overflow-x:auto;line-height:normal;font-family:Menlo,'DejaVu Sans Mono',consolas,'Courier New',monospace\">17:15:56.216 | <span style=\"color: #008080; text-decoration-color: #008080\">INFO</span>    | Task run 'process_pool_snaps-bb91f77b-54' - Finished in state <span style=\"color: #008000; text-decoration-color: #008000\">Completed</span>()\n",
       "</pre>\n"
      ],
      "text/plain": [
       "17:15:56.216 | \u001b[36mINFO\u001b[0m    | Task run 'process_pool_snaps-bb91f77b-54' - Finished in state \u001b[32mCompleted\u001b[0m()\n"
      ]
     },
     "metadata": {},
     "output_type": "display_data"
    },
    {
     "data": {
      "text/html": [
       "<pre style=\"white-space:pre;overflow-x:auto;line-height:normal;font-family:Menlo,'DejaVu Sans Mono',consolas,'Courier New',monospace\">17:15:56.225 | <span style=\"color: #008080; text-decoration-color: #008080\">INFO</span>    | Flow run<span style=\"color: #800080; text-decoration-color: #800080\"> 'independent-jacamar'</span> - Created task run 'process_pool_snaps-bb91f77b-55' for task 'process_pool_snaps'\n",
       "</pre>\n"
      ],
      "text/plain": [
       "17:15:56.225 | \u001b[36mINFO\u001b[0m    | Flow run\u001b[35m 'independent-jacamar'\u001b[0m - Created task run 'process_pool_snaps-bb91f77b-55' for task 'process_pool_snaps'\n"
      ]
     },
     "metadata": {},
     "output_type": "display_data"
    },
    {
     "data": {
      "text/html": [
       "<pre style=\"white-space:pre;overflow-x:auto;line-height:normal;font-family:Menlo,'DejaVu Sans Mono',consolas,'Courier New',monospace\">17:15:56.226 | <span style=\"color: #008080; text-decoration-color: #008080\">INFO</span>    | Flow run<span style=\"color: #800080; text-decoration-color: #800080\"> 'independent-jacamar'</span> - Executing 'process_pool_snaps-bb91f77b-55' immediately...\n",
       "</pre>\n"
      ],
      "text/plain": [
       "17:15:56.226 | \u001b[36mINFO\u001b[0m    | Flow run\u001b[35m 'independent-jacamar'\u001b[0m - Executing 'process_pool_snaps-bb91f77b-55' immediately...\n"
      ]
     },
     "metadata": {},
     "output_type": "display_data"
    },
    {
     "data": {
      "text/html": [
       "<pre style=\"white-space:pre;overflow-x:auto;line-height:normal;font-family:Menlo,'DejaVu Sans Mono',consolas,'Courier New',monospace\">17:15:56.248 | <span style=\"color: #008080; text-decoration-color: #008080\">INFO</span>    | Task run 'process_pool_snaps-bb91f77b-55' - Finished in state <span style=\"color: #008000; text-decoration-color: #008000\">Completed</span>()\n",
       "</pre>\n"
      ],
      "text/plain": [
       "17:15:56.248 | \u001b[36mINFO\u001b[0m    | Task run 'process_pool_snaps-bb91f77b-55' - Finished in state \u001b[32mCompleted\u001b[0m()\n"
      ]
     },
     "metadata": {},
     "output_type": "display_data"
    },
    {
     "data": {
      "text/html": [
       "<pre style=\"white-space:pre;overflow-x:auto;line-height:normal;font-family:Menlo,'DejaVu Sans Mono',consolas,'Courier New',monospace\">17:15:56.258 | <span style=\"color: #008080; text-decoration-color: #008080\">INFO</span>    | Flow run<span style=\"color: #800080; text-decoration-color: #800080\"> 'independent-jacamar'</span> - Created task run 'process_pool_snaps-bb91f77b-56' for task 'process_pool_snaps'\n",
       "</pre>\n"
      ],
      "text/plain": [
       "17:15:56.258 | \u001b[36mINFO\u001b[0m    | Flow run\u001b[35m 'independent-jacamar'\u001b[0m - Created task run 'process_pool_snaps-bb91f77b-56' for task 'process_pool_snaps'\n"
      ]
     },
     "metadata": {},
     "output_type": "display_data"
    },
    {
     "data": {
      "text/html": [
       "<pre style=\"white-space:pre;overflow-x:auto;line-height:normal;font-family:Menlo,'DejaVu Sans Mono',consolas,'Courier New',monospace\">17:15:56.258 | <span style=\"color: #008080; text-decoration-color: #008080\">INFO</span>    | Flow run<span style=\"color: #800080; text-decoration-color: #800080\"> 'independent-jacamar'</span> - Executing 'process_pool_snaps-bb91f77b-56' immediately...\n",
       "</pre>\n"
      ],
      "text/plain": [
       "17:15:56.258 | \u001b[36mINFO\u001b[0m    | Flow run\u001b[35m 'independent-jacamar'\u001b[0m - Executing 'process_pool_snaps-bb91f77b-56' immediately...\n"
      ]
     },
     "metadata": {},
     "output_type": "display_data"
    },
    {
     "data": {
      "text/html": [
       "<pre style=\"white-space:pre;overflow-x:auto;line-height:normal;font-family:Menlo,'DejaVu Sans Mono',consolas,'Courier New',monospace\">17:15:56.281 | <span style=\"color: #008080; text-decoration-color: #008080\">INFO</span>    | Task run 'process_pool_snaps-bb91f77b-56' - Finished in state <span style=\"color: #008000; text-decoration-color: #008000\">Completed</span>()\n",
       "</pre>\n"
      ],
      "text/plain": [
       "17:15:56.281 | \u001b[36mINFO\u001b[0m    | Task run 'process_pool_snaps-bb91f77b-56' - Finished in state \u001b[32mCompleted\u001b[0m()\n"
      ]
     },
     "metadata": {},
     "output_type": "display_data"
    },
    {
     "data": {
      "text/html": [
       "<pre style=\"white-space:pre;overflow-x:auto;line-height:normal;font-family:Menlo,'DejaVu Sans Mono',consolas,'Courier New',monospace\">17:15:56.291 | <span style=\"color: #008080; text-decoration-color: #008080\">INFO</span>    | Flow run<span style=\"color: #800080; text-decoration-color: #800080\"> 'independent-jacamar'</span> - Created task run 'process_pool_snaps-bb91f77b-57' for task 'process_pool_snaps'\n",
       "</pre>\n"
      ],
      "text/plain": [
       "17:15:56.291 | \u001b[36mINFO\u001b[0m    | Flow run\u001b[35m 'independent-jacamar'\u001b[0m - Created task run 'process_pool_snaps-bb91f77b-57' for task 'process_pool_snaps'\n"
      ]
     },
     "metadata": {},
     "output_type": "display_data"
    },
    {
     "data": {
      "text/html": [
       "<pre style=\"white-space:pre;overflow-x:auto;line-height:normal;font-family:Menlo,'DejaVu Sans Mono',consolas,'Courier New',monospace\">17:15:56.292 | <span style=\"color: #008080; text-decoration-color: #008080\">INFO</span>    | Flow run<span style=\"color: #800080; text-decoration-color: #800080\"> 'independent-jacamar'</span> - Executing 'process_pool_snaps-bb91f77b-57' immediately...\n",
       "</pre>\n"
      ],
      "text/plain": [
       "17:15:56.292 | \u001b[36mINFO\u001b[0m    | Flow run\u001b[35m 'independent-jacamar'\u001b[0m - Executing 'process_pool_snaps-bb91f77b-57' immediately...\n"
      ]
     },
     "metadata": {},
     "output_type": "display_data"
    },
    {
     "data": {
      "text/html": [
       "<pre style=\"white-space:pre;overflow-x:auto;line-height:normal;font-family:Menlo,'DejaVu Sans Mono',consolas,'Courier New',monospace\">17:15:56.315 | <span style=\"color: #008080; text-decoration-color: #008080\">INFO</span>    | Task run 'process_pool_snaps-bb91f77b-57' - Finished in state <span style=\"color: #008000; text-decoration-color: #008000\">Completed</span>()\n",
       "</pre>\n"
      ],
      "text/plain": [
       "17:15:56.315 | \u001b[36mINFO\u001b[0m    | Task run 'process_pool_snaps-bb91f77b-57' - Finished in state \u001b[32mCompleted\u001b[0m()\n"
      ]
     },
     "metadata": {},
     "output_type": "display_data"
    },
    {
     "data": {
      "text/html": [
       "<pre style=\"white-space:pre;overflow-x:auto;line-height:normal;font-family:Menlo,'DejaVu Sans Mono',consolas,'Courier New',monospace\">17:15:56.324 | <span style=\"color: #008080; text-decoration-color: #008080\">INFO</span>    | Flow run<span style=\"color: #800080; text-decoration-color: #800080\"> 'independent-jacamar'</span> - Created task run 'process_pool_snaps-bb91f77b-58' for task 'process_pool_snaps'\n",
       "</pre>\n"
      ],
      "text/plain": [
       "17:15:56.324 | \u001b[36mINFO\u001b[0m    | Flow run\u001b[35m 'independent-jacamar'\u001b[0m - Created task run 'process_pool_snaps-bb91f77b-58' for task 'process_pool_snaps'\n"
      ]
     },
     "metadata": {},
     "output_type": "display_data"
    },
    {
     "data": {
      "text/html": [
       "<pre style=\"white-space:pre;overflow-x:auto;line-height:normal;font-family:Menlo,'DejaVu Sans Mono',consolas,'Courier New',monospace\">17:15:56.325 | <span style=\"color: #008080; text-decoration-color: #008080\">INFO</span>    | Flow run<span style=\"color: #800080; text-decoration-color: #800080\"> 'independent-jacamar'</span> - Executing 'process_pool_snaps-bb91f77b-58' immediately...\n",
       "</pre>\n"
      ],
      "text/plain": [
       "17:15:56.325 | \u001b[36mINFO\u001b[0m    | Flow run\u001b[35m 'independent-jacamar'\u001b[0m - Executing 'process_pool_snaps-bb91f77b-58' immediately...\n"
      ]
     },
     "metadata": {},
     "output_type": "display_data"
    },
    {
     "data": {
      "text/html": [
       "<pre style=\"white-space:pre;overflow-x:auto;line-height:normal;font-family:Menlo,'DejaVu Sans Mono',consolas,'Courier New',monospace\">17:15:56.352 | <span style=\"color: #008080; text-decoration-color: #008080\">INFO</span>    | Task run 'process_pool_snaps-bb91f77b-58' - Finished in state <span style=\"color: #008000; text-decoration-color: #008000\">Completed</span>()\n",
       "</pre>\n"
      ],
      "text/plain": [
       "17:15:56.352 | \u001b[36mINFO\u001b[0m    | Task run 'process_pool_snaps-bb91f77b-58' - Finished in state \u001b[32mCompleted\u001b[0m()\n"
      ]
     },
     "metadata": {},
     "output_type": "display_data"
    },
    {
     "data": {
      "text/html": [
       "<pre style=\"white-space:pre;overflow-x:auto;line-height:normal;font-family:Menlo,'DejaVu Sans Mono',consolas,'Courier New',monospace\">17:15:56.362 | <span style=\"color: #008080; text-decoration-color: #008080\">INFO</span>    | Flow run<span style=\"color: #800080; text-decoration-color: #800080\"> 'independent-jacamar'</span> - Created task run 'process_pool_snaps-bb91f77b-59' for task 'process_pool_snaps'\n",
       "</pre>\n"
      ],
      "text/plain": [
       "17:15:56.362 | \u001b[36mINFO\u001b[0m    | Flow run\u001b[35m 'independent-jacamar'\u001b[0m - Created task run 'process_pool_snaps-bb91f77b-59' for task 'process_pool_snaps'\n"
      ]
     },
     "metadata": {},
     "output_type": "display_data"
    },
    {
     "data": {
      "text/html": [
       "<pre style=\"white-space:pre;overflow-x:auto;line-height:normal;font-family:Menlo,'DejaVu Sans Mono',consolas,'Courier New',monospace\">17:15:56.363 | <span style=\"color: #008080; text-decoration-color: #008080\">INFO</span>    | Flow run<span style=\"color: #800080; text-decoration-color: #800080\"> 'independent-jacamar'</span> - Executing 'process_pool_snaps-bb91f77b-59' immediately...\n",
       "</pre>\n"
      ],
      "text/plain": [
       "17:15:56.363 | \u001b[36mINFO\u001b[0m    | Flow run\u001b[35m 'independent-jacamar'\u001b[0m - Executing 'process_pool_snaps-bb91f77b-59' immediately...\n"
      ]
     },
     "metadata": {},
     "output_type": "display_data"
    },
    {
     "data": {
      "text/html": [
       "<pre style=\"white-space:pre;overflow-x:auto;line-height:normal;font-family:Menlo,'DejaVu Sans Mono',consolas,'Courier New',monospace\">17:15:56.389 | <span style=\"color: #008080; text-decoration-color: #008080\">INFO</span>    | Task run 'process_pool_snaps-bb91f77b-59' - Finished in state <span style=\"color: #008000; text-decoration-color: #008000\">Completed</span>()\n",
       "</pre>\n"
      ],
      "text/plain": [
       "17:15:56.389 | \u001b[36mINFO\u001b[0m    | Task run 'process_pool_snaps-bb91f77b-59' - Finished in state \u001b[32mCompleted\u001b[0m()\n"
      ]
     },
     "metadata": {},
     "output_type": "display_data"
    },
    {
     "data": {
      "text/html": [
       "<pre style=\"white-space:pre;overflow-x:auto;line-height:normal;font-family:Menlo,'DejaVu Sans Mono',consolas,'Courier New',monospace\">17:15:56.398 | <span style=\"color: #008080; text-decoration-color: #008080\">INFO</span>    | Flow run<span style=\"color: #800080; text-decoration-color: #800080\"> 'independent-jacamar'</span> - Created task run 'process_pool_snaps-bb91f77b-60' for task 'process_pool_snaps'\n",
       "</pre>\n"
      ],
      "text/plain": [
       "17:15:56.398 | \u001b[36mINFO\u001b[0m    | Flow run\u001b[35m 'independent-jacamar'\u001b[0m - Created task run 'process_pool_snaps-bb91f77b-60' for task 'process_pool_snaps'\n"
      ]
     },
     "metadata": {},
     "output_type": "display_data"
    },
    {
     "data": {
      "text/html": [
       "<pre style=\"white-space:pre;overflow-x:auto;line-height:normal;font-family:Menlo,'DejaVu Sans Mono',consolas,'Courier New',monospace\">17:15:56.399 | <span style=\"color: #008080; text-decoration-color: #008080\">INFO</span>    | Flow run<span style=\"color: #800080; text-decoration-color: #800080\"> 'independent-jacamar'</span> - Executing 'process_pool_snaps-bb91f77b-60' immediately...\n",
       "</pre>\n"
      ],
      "text/plain": [
       "17:15:56.399 | \u001b[36mINFO\u001b[0m    | Flow run\u001b[35m 'independent-jacamar'\u001b[0m - Executing 'process_pool_snaps-bb91f77b-60' immediately...\n"
      ]
     },
     "metadata": {},
     "output_type": "display_data"
    },
    {
     "data": {
      "text/html": [
       "<pre style=\"white-space:pre;overflow-x:auto;line-height:normal;font-family:Menlo,'DejaVu Sans Mono',consolas,'Courier New',monospace\">17:15:56.422 | <span style=\"color: #008080; text-decoration-color: #008080\">INFO</span>    | Task run 'process_pool_snaps-bb91f77b-60' - Finished in state <span style=\"color: #008000; text-decoration-color: #008000\">Completed</span>()\n",
       "</pre>\n"
      ],
      "text/plain": [
       "17:15:56.422 | \u001b[36mINFO\u001b[0m    | Task run 'process_pool_snaps-bb91f77b-60' - Finished in state \u001b[32mCompleted\u001b[0m()\n"
      ]
     },
     "metadata": {},
     "output_type": "display_data"
    },
    {
     "data": {
      "text/html": [
       "<pre style=\"white-space:pre;overflow-x:auto;line-height:normal;font-family:Menlo,'DejaVu Sans Mono',consolas,'Courier New',monospace\">17:15:56.432 | <span style=\"color: #008080; text-decoration-color: #008080\">INFO</span>    | Flow run<span style=\"color: #800080; text-decoration-color: #800080\"> 'independent-jacamar'</span> - Created task run 'process_pool_snaps-bb91f77b-61' for task 'process_pool_snaps'\n",
       "</pre>\n"
      ],
      "text/plain": [
       "17:15:56.432 | \u001b[36mINFO\u001b[0m    | Flow run\u001b[35m 'independent-jacamar'\u001b[0m - Created task run 'process_pool_snaps-bb91f77b-61' for task 'process_pool_snaps'\n"
      ]
     },
     "metadata": {},
     "output_type": "display_data"
    },
    {
     "data": {
      "text/html": [
       "<pre style=\"white-space:pre;overflow-x:auto;line-height:normal;font-family:Menlo,'DejaVu Sans Mono',consolas,'Courier New',monospace\">17:15:56.432 | <span style=\"color: #008080; text-decoration-color: #008080\">INFO</span>    | Flow run<span style=\"color: #800080; text-decoration-color: #800080\"> 'independent-jacamar'</span> - Executing 'process_pool_snaps-bb91f77b-61' immediately...\n",
       "</pre>\n"
      ],
      "text/plain": [
       "17:15:56.432 | \u001b[36mINFO\u001b[0m    | Flow run\u001b[35m 'independent-jacamar'\u001b[0m - Executing 'process_pool_snaps-bb91f77b-61' immediately...\n"
      ]
     },
     "metadata": {},
     "output_type": "display_data"
    },
    {
     "data": {
      "text/html": [
       "<pre style=\"white-space:pre;overflow-x:auto;line-height:normal;font-family:Menlo,'DejaVu Sans Mono',consolas,'Courier New',monospace\">17:15:56.455 | <span style=\"color: #008080; text-decoration-color: #008080\">INFO</span>    | Task run 'process_pool_snaps-bb91f77b-61' - Finished in state <span style=\"color: #008000; text-decoration-color: #008000\">Completed</span>()\n",
       "</pre>\n"
      ],
      "text/plain": [
       "17:15:56.455 | \u001b[36mINFO\u001b[0m    | Task run 'process_pool_snaps-bb91f77b-61' - Finished in state \u001b[32mCompleted\u001b[0m()\n"
      ]
     },
     "metadata": {},
     "output_type": "display_data"
    },
    {
     "data": {
      "text/html": [
       "<pre style=\"white-space:pre;overflow-x:auto;line-height:normal;font-family:Menlo,'DejaVu Sans Mono',consolas,'Courier New',monospace\">17:15:56.464 | <span style=\"color: #008080; text-decoration-color: #008080\">INFO</span>    | Flow run<span style=\"color: #800080; text-decoration-color: #800080\"> 'independent-jacamar'</span> - Created task run 'process_pool_vol-f3874c79-0' for task 'process_pool_vol'\n",
       "</pre>\n"
      ],
      "text/plain": [
       "17:15:56.464 | \u001b[36mINFO\u001b[0m    | Flow run\u001b[35m 'independent-jacamar'\u001b[0m - Created task run 'process_pool_vol-f3874c79-0' for task 'process_pool_vol'\n"
      ]
     },
     "metadata": {},
     "output_type": "display_data"
    },
    {
     "data": {
      "text/html": [
       "<pre style=\"white-space:pre;overflow-x:auto;line-height:normal;font-family:Menlo,'DejaVu Sans Mono',consolas,'Courier New',monospace\">17:15:56.465 | <span style=\"color: #008080; text-decoration-color: #008080\">INFO</span>    | Flow run<span style=\"color: #800080; text-decoration-color: #800080\"> 'independent-jacamar'</span> - Executing 'process_pool_vol-f3874c79-0' immediately...\n",
       "</pre>\n"
      ],
      "text/plain": [
       "17:15:56.465 | \u001b[36mINFO\u001b[0m    | Flow run\u001b[35m 'independent-jacamar'\u001b[0m - Executing 'process_pool_vol-f3874c79-0' immediately...\n"
      ]
     },
     "metadata": {},
     "output_type": "display_data"
    },
    {
     "data": {
      "text/html": [
       "<pre style=\"white-space:pre;overflow-x:auto;line-height:normal;font-family:Menlo,'DejaVu Sans Mono',consolas,'Courier New',monospace\">17:15:56.487 | <span style=\"color: #008080; text-decoration-color: #008080\">INFO</span>    | Task run 'process_pool_vol-f3874c79-0' - Finished in state <span style=\"color: #008000; text-decoration-color: #008000\">Completed</span>()\n",
       "</pre>\n"
      ],
      "text/plain": [
       "17:15:56.487 | \u001b[36mINFO\u001b[0m    | Task run 'process_pool_vol-f3874c79-0' - Finished in state \u001b[32mCompleted\u001b[0m()\n"
      ]
     },
     "metadata": {},
     "output_type": "display_data"
    },
    {
     "data": {
      "text/html": [
       "<pre style=\"white-space:pre;overflow-x:auto;line-height:normal;font-family:Menlo,'DejaVu Sans Mono',consolas,'Courier New',monospace\">17:15:56.496 | <span style=\"color: #008080; text-decoration-color: #008080\">INFO</span>    | Flow run<span style=\"color: #800080; text-decoration-color: #800080\"> 'independent-jacamar'</span> - Created task run 'process_pool_vol-f3874c79-1' for task 'process_pool_vol'\n",
       "</pre>\n"
      ],
      "text/plain": [
       "17:15:56.496 | \u001b[36mINFO\u001b[0m    | Flow run\u001b[35m 'independent-jacamar'\u001b[0m - Created task run 'process_pool_vol-f3874c79-1' for task 'process_pool_vol'\n"
      ]
     },
     "metadata": {},
     "output_type": "display_data"
    },
    {
     "data": {
      "text/html": [
       "<pre style=\"white-space:pre;overflow-x:auto;line-height:normal;font-family:Menlo,'DejaVu Sans Mono',consolas,'Courier New',monospace\">17:15:56.497 | <span style=\"color: #008080; text-decoration-color: #008080\">INFO</span>    | Flow run<span style=\"color: #800080; text-decoration-color: #800080\"> 'independent-jacamar'</span> - Executing 'process_pool_vol-f3874c79-1' immediately...\n",
       "</pre>\n"
      ],
      "text/plain": [
       "17:15:56.497 | \u001b[36mINFO\u001b[0m    | Flow run\u001b[35m 'independent-jacamar'\u001b[0m - Executing 'process_pool_vol-f3874c79-1' immediately...\n"
      ]
     },
     "metadata": {},
     "output_type": "display_data"
    },
    {
     "data": {
      "text/html": [
       "<pre style=\"white-space:pre;overflow-x:auto;line-height:normal;font-family:Menlo,'DejaVu Sans Mono',consolas,'Courier New',monospace\">17:15:56.519 | <span style=\"color: #008080; text-decoration-color: #008080\">INFO</span>    | Task run 'process_pool_vol-f3874c79-1' - Finished in state <span style=\"color: #008000; text-decoration-color: #008000\">Completed</span>()\n",
       "</pre>\n"
      ],
      "text/plain": [
       "17:15:56.519 | \u001b[36mINFO\u001b[0m    | Task run 'process_pool_vol-f3874c79-1' - Finished in state \u001b[32mCompleted\u001b[0m()\n"
      ]
     },
     "metadata": {},
     "output_type": "display_data"
    },
    {
     "data": {
      "text/html": [
       "<pre style=\"white-space:pre;overflow-x:auto;line-height:normal;font-family:Menlo,'DejaVu Sans Mono',consolas,'Courier New',monospace\">17:15:56.528 | <span style=\"color: #008080; text-decoration-color: #008080\">INFO</span>    | Flow run<span style=\"color: #800080; text-decoration-color: #800080\"> 'independent-jacamar'</span> - Created task run 'process_pool_vol-f3874c79-2' for task 'process_pool_vol'\n",
       "</pre>\n"
      ],
      "text/plain": [
       "17:15:56.528 | \u001b[36mINFO\u001b[0m    | Flow run\u001b[35m 'independent-jacamar'\u001b[0m - Created task run 'process_pool_vol-f3874c79-2' for task 'process_pool_vol'\n"
      ]
     },
     "metadata": {},
     "output_type": "display_data"
    },
    {
     "data": {
      "text/html": [
       "<pre style=\"white-space:pre;overflow-x:auto;line-height:normal;font-family:Menlo,'DejaVu Sans Mono',consolas,'Courier New',monospace\">17:15:56.529 | <span style=\"color: #008080; text-decoration-color: #008080\">INFO</span>    | Flow run<span style=\"color: #800080; text-decoration-color: #800080\"> 'independent-jacamar'</span> - Executing 'process_pool_vol-f3874c79-2' immediately...\n",
       "</pre>\n"
      ],
      "text/plain": [
       "17:15:56.529 | \u001b[36mINFO\u001b[0m    | Flow run\u001b[35m 'independent-jacamar'\u001b[0m - Executing 'process_pool_vol-f3874c79-2' immediately...\n"
      ]
     },
     "metadata": {},
     "output_type": "display_data"
    },
    {
     "data": {
      "text/html": [
       "<pre style=\"white-space:pre;overflow-x:auto;line-height:normal;font-family:Menlo,'DejaVu Sans Mono',consolas,'Courier New',monospace\">17:15:56.553 | <span style=\"color: #008080; text-decoration-color: #008080\">INFO</span>    | Task run 'process_pool_vol-f3874c79-2' - Finished in state <span style=\"color: #008000; text-decoration-color: #008000\">Completed</span>()\n",
       "</pre>\n"
      ],
      "text/plain": [
       "17:15:56.553 | \u001b[36mINFO\u001b[0m    | Task run 'process_pool_vol-f3874c79-2' - Finished in state \u001b[32mCompleted\u001b[0m()\n"
      ]
     },
     "metadata": {},
     "output_type": "display_data"
    },
    {
     "data": {
      "text/html": [
       "<pre style=\"white-space:pre;overflow-x:auto;line-height:normal;font-family:Menlo,'DejaVu Sans Mono',consolas,'Courier New',monospace\">17:15:56.563 | <span style=\"color: #008080; text-decoration-color: #008080\">INFO</span>    | Flow run<span style=\"color: #800080; text-decoration-color: #800080\"> 'independent-jacamar'</span> - Created task run 'process_pool_vol-f3874c79-3' for task 'process_pool_vol'\n",
       "</pre>\n"
      ],
      "text/plain": [
       "17:15:56.563 | \u001b[36mINFO\u001b[0m    | Flow run\u001b[35m 'independent-jacamar'\u001b[0m - Created task run 'process_pool_vol-f3874c79-3' for task 'process_pool_vol'\n"
      ]
     },
     "metadata": {},
     "output_type": "display_data"
    },
    {
     "data": {
      "text/html": [
       "<pre style=\"white-space:pre;overflow-x:auto;line-height:normal;font-family:Menlo,'DejaVu Sans Mono',consolas,'Courier New',monospace\">17:15:56.564 | <span style=\"color: #008080; text-decoration-color: #008080\">INFO</span>    | Flow run<span style=\"color: #800080; text-decoration-color: #800080\"> 'independent-jacamar'</span> - Executing 'process_pool_vol-f3874c79-3' immediately...\n",
       "</pre>\n"
      ],
      "text/plain": [
       "17:15:56.564 | \u001b[36mINFO\u001b[0m    | Flow run\u001b[35m 'independent-jacamar'\u001b[0m - Executing 'process_pool_vol-f3874c79-3' immediately...\n"
      ]
     },
     "metadata": {},
     "output_type": "display_data"
    },
    {
     "data": {
      "text/html": [
       "<pre style=\"white-space:pre;overflow-x:auto;line-height:normal;font-family:Menlo,'DejaVu Sans Mono',consolas,'Courier New',monospace\">17:15:56.586 | <span style=\"color: #008080; text-decoration-color: #008080\">INFO</span>    | Task run 'process_pool_vol-f3874c79-3' - Finished in state <span style=\"color: #008000; text-decoration-color: #008000\">Completed</span>()\n",
       "</pre>\n"
      ],
      "text/plain": [
       "17:15:56.586 | \u001b[36mINFO\u001b[0m    | Task run 'process_pool_vol-f3874c79-3' - Finished in state \u001b[32mCompleted\u001b[0m()\n"
      ]
     },
     "metadata": {},
     "output_type": "display_data"
    },
    {
     "data": {
      "text/html": [
       "<pre style=\"white-space:pre;overflow-x:auto;line-height:normal;font-family:Menlo,'DejaVu Sans Mono',consolas,'Courier New',monospace\">17:15:56.596 | <span style=\"color: #008080; text-decoration-color: #008080\">INFO</span>    | Flow run<span style=\"color: #800080; text-decoration-color: #800080\"> 'independent-jacamar'</span> - Created task run 'process_pool_vol-f3874c79-4' for task 'process_pool_vol'\n",
       "</pre>\n"
      ],
      "text/plain": [
       "17:15:56.596 | \u001b[36mINFO\u001b[0m    | Flow run\u001b[35m 'independent-jacamar'\u001b[0m - Created task run 'process_pool_vol-f3874c79-4' for task 'process_pool_vol'\n"
      ]
     },
     "metadata": {},
     "output_type": "display_data"
    },
    {
     "data": {
      "text/html": [
       "<pre style=\"white-space:pre;overflow-x:auto;line-height:normal;font-family:Menlo,'DejaVu Sans Mono',consolas,'Courier New',monospace\">17:15:56.596 | <span style=\"color: #008080; text-decoration-color: #008080\">INFO</span>    | Flow run<span style=\"color: #800080; text-decoration-color: #800080\"> 'independent-jacamar'</span> - Executing 'process_pool_vol-f3874c79-4' immediately...\n",
       "</pre>\n"
      ],
      "text/plain": [
       "17:15:56.596 | \u001b[36mINFO\u001b[0m    | Flow run\u001b[35m 'independent-jacamar'\u001b[0m - Executing 'process_pool_vol-f3874c79-4' immediately...\n"
      ]
     },
     "metadata": {},
     "output_type": "display_data"
    },
    {
     "data": {
      "text/html": [
       "<pre style=\"white-space:pre;overflow-x:auto;line-height:normal;font-family:Menlo,'DejaVu Sans Mono',consolas,'Courier New',monospace\">17:15:56.619 | <span style=\"color: #008080; text-decoration-color: #008080\">INFO</span>    | Task run 'process_pool_vol-f3874c79-4' - Finished in state <span style=\"color: #008000; text-decoration-color: #008000\">Completed</span>()\n",
       "</pre>\n"
      ],
      "text/plain": [
       "17:15:56.619 | \u001b[36mINFO\u001b[0m    | Task run 'process_pool_vol-f3874c79-4' - Finished in state \u001b[32mCompleted\u001b[0m()\n"
      ]
     },
     "metadata": {},
     "output_type": "display_data"
    },
    {
     "data": {
      "text/html": [
       "<pre style=\"white-space:pre;overflow-x:auto;line-height:normal;font-family:Menlo,'DejaVu Sans Mono',consolas,'Courier New',monospace\">17:15:56.633 | <span style=\"color: #008080; text-decoration-color: #008080\">INFO</span>    | Flow run<span style=\"color: #800080; text-decoration-color: #800080\"> 'independent-jacamar'</span> - Created task run 'process_pool_vol-f3874c79-5' for task 'process_pool_vol'\n",
       "</pre>\n"
      ],
      "text/plain": [
       "17:15:56.633 | \u001b[36mINFO\u001b[0m    | Flow run\u001b[35m 'independent-jacamar'\u001b[0m - Created task run 'process_pool_vol-f3874c79-5' for task 'process_pool_vol'\n"
      ]
     },
     "metadata": {},
     "output_type": "display_data"
    },
    {
     "data": {
      "text/html": [
       "<pre style=\"white-space:pre;overflow-x:auto;line-height:normal;font-family:Menlo,'DejaVu Sans Mono',consolas,'Courier New',monospace\">17:15:56.634 | <span style=\"color: #008080; text-decoration-color: #008080\">INFO</span>    | Flow run<span style=\"color: #800080; text-decoration-color: #800080\"> 'independent-jacamar'</span> - Executing 'process_pool_vol-f3874c79-5' immediately...\n",
       "</pre>\n"
      ],
      "text/plain": [
       "17:15:56.634 | \u001b[36mINFO\u001b[0m    | Flow run\u001b[35m 'independent-jacamar'\u001b[0m - Executing 'process_pool_vol-f3874c79-5' immediately...\n"
      ]
     },
     "metadata": {},
     "output_type": "display_data"
    },
    {
     "data": {
      "text/html": [
       "<pre style=\"white-space:pre;overflow-x:auto;line-height:normal;font-family:Menlo,'DejaVu Sans Mono',consolas,'Courier New',monospace\">17:15:56.671 | <span style=\"color: #008080; text-decoration-color: #008080\">INFO</span>    | Task run 'process_pool_vol-f3874c79-5' - Finished in state <span style=\"color: #008000; text-decoration-color: #008000\">Completed</span>()\n",
       "</pre>\n"
      ],
      "text/plain": [
       "17:15:56.671 | \u001b[36mINFO\u001b[0m    | Task run 'process_pool_vol-f3874c79-5' - Finished in state \u001b[32mCompleted\u001b[0m()\n"
      ]
     },
     "metadata": {},
     "output_type": "display_data"
    },
    {
     "data": {
      "text/html": [
       "<pre style=\"white-space:pre;overflow-x:auto;line-height:normal;font-family:Menlo,'DejaVu Sans Mono',consolas,'Courier New',monospace\">17:15:56.682 | <span style=\"color: #008080; text-decoration-color: #008080\">INFO</span>    | Flow run<span style=\"color: #800080; text-decoration-color: #800080\"> 'independent-jacamar'</span> - Created task run 'process_pool_vol-f3874c79-6' for task 'process_pool_vol'\n",
       "</pre>\n"
      ],
      "text/plain": [
       "17:15:56.682 | \u001b[36mINFO\u001b[0m    | Flow run\u001b[35m 'independent-jacamar'\u001b[0m - Created task run 'process_pool_vol-f3874c79-6' for task 'process_pool_vol'\n"
      ]
     },
     "metadata": {},
     "output_type": "display_data"
    },
    {
     "data": {
      "text/html": [
       "<pre style=\"white-space:pre;overflow-x:auto;line-height:normal;font-family:Menlo,'DejaVu Sans Mono',consolas,'Courier New',monospace\">17:15:56.683 | <span style=\"color: #008080; text-decoration-color: #008080\">INFO</span>    | Flow run<span style=\"color: #800080; text-decoration-color: #800080\"> 'independent-jacamar'</span> - Executing 'process_pool_vol-f3874c79-6' immediately...\n",
       "</pre>\n"
      ],
      "text/plain": [
       "17:15:56.683 | \u001b[36mINFO\u001b[0m    | Flow run\u001b[35m 'independent-jacamar'\u001b[0m - Executing 'process_pool_vol-f3874c79-6' immediately...\n"
      ]
     },
     "metadata": {},
     "output_type": "display_data"
    },
    {
     "data": {
      "text/html": [
       "<pre style=\"white-space:pre;overflow-x:auto;line-height:normal;font-family:Menlo,'DejaVu Sans Mono',consolas,'Courier New',monospace\">17:15:56.707 | <span style=\"color: #008080; text-decoration-color: #008080\">INFO</span>    | Task run 'process_pool_vol-f3874c79-6' - Finished in state <span style=\"color: #008000; text-decoration-color: #008000\">Completed</span>()\n",
       "</pre>\n"
      ],
      "text/plain": [
       "17:15:56.707 | \u001b[36mINFO\u001b[0m    | Task run 'process_pool_vol-f3874c79-6' - Finished in state \u001b[32mCompleted\u001b[0m()\n"
      ]
     },
     "metadata": {},
     "output_type": "display_data"
    },
    {
     "data": {
      "text/html": [
       "<pre style=\"white-space:pre;overflow-x:auto;line-height:normal;font-family:Menlo,'DejaVu Sans Mono',consolas,'Courier New',monospace\">17:15:56.716 | <span style=\"color: #008080; text-decoration-color: #008080\">INFO</span>    | Flow run<span style=\"color: #800080; text-decoration-color: #800080\"> 'independent-jacamar'</span> - Created task run 'process_pool_vol-f3874c79-7' for task 'process_pool_vol'\n",
       "</pre>\n"
      ],
      "text/plain": [
       "17:15:56.716 | \u001b[36mINFO\u001b[0m    | Flow run\u001b[35m 'independent-jacamar'\u001b[0m - Created task run 'process_pool_vol-f3874c79-7' for task 'process_pool_vol'\n"
      ]
     },
     "metadata": {},
     "output_type": "display_data"
    },
    {
     "data": {
      "text/html": [
       "<pre style=\"white-space:pre;overflow-x:auto;line-height:normal;font-family:Menlo,'DejaVu Sans Mono',consolas,'Courier New',monospace\">17:15:56.717 | <span style=\"color: #008080; text-decoration-color: #008080\">INFO</span>    | Flow run<span style=\"color: #800080; text-decoration-color: #800080\"> 'independent-jacamar'</span> - Executing 'process_pool_vol-f3874c79-7' immediately...\n",
       "</pre>\n"
      ],
      "text/plain": [
       "17:15:56.717 | \u001b[36mINFO\u001b[0m    | Flow run\u001b[35m 'independent-jacamar'\u001b[0m - Executing 'process_pool_vol-f3874c79-7' immediately...\n"
      ]
     },
     "metadata": {},
     "output_type": "display_data"
    },
    {
     "data": {
      "text/html": [
       "<pre style=\"white-space:pre;overflow-x:auto;line-height:normal;font-family:Menlo,'DejaVu Sans Mono',consolas,'Courier New',monospace\">17:15:56.741 | <span style=\"color: #008080; text-decoration-color: #008080\">INFO</span>    | Task run 'process_pool_vol-f3874c79-7' - Finished in state <span style=\"color: #008000; text-decoration-color: #008000\">Completed</span>()\n",
       "</pre>\n"
      ],
      "text/plain": [
       "17:15:56.741 | \u001b[36mINFO\u001b[0m    | Task run 'process_pool_vol-f3874c79-7' - Finished in state \u001b[32mCompleted\u001b[0m()\n"
      ]
     },
     "metadata": {},
     "output_type": "display_data"
    },
    {
     "data": {
      "text/html": [
       "<pre style=\"white-space:pre;overflow-x:auto;line-height:normal;font-family:Menlo,'DejaVu Sans Mono',consolas,'Courier New',monospace\">17:15:56.751 | <span style=\"color: #008080; text-decoration-color: #008080\">INFO</span>    | Flow run<span style=\"color: #800080; text-decoration-color: #800080\"> 'independent-jacamar'</span> - Created task run 'process_pool_vol-f3874c79-8' for task 'process_pool_vol'\n",
       "</pre>\n"
      ],
      "text/plain": [
       "17:15:56.751 | \u001b[36mINFO\u001b[0m    | Flow run\u001b[35m 'independent-jacamar'\u001b[0m - Created task run 'process_pool_vol-f3874c79-8' for task 'process_pool_vol'\n"
      ]
     },
     "metadata": {},
     "output_type": "display_data"
    },
    {
     "data": {
      "text/html": [
       "<pre style=\"white-space:pre;overflow-x:auto;line-height:normal;font-family:Menlo,'DejaVu Sans Mono',consolas,'Courier New',monospace\">17:15:56.752 | <span style=\"color: #008080; text-decoration-color: #008080\">INFO</span>    | Flow run<span style=\"color: #800080; text-decoration-color: #800080\"> 'independent-jacamar'</span> - Executing 'process_pool_vol-f3874c79-8' immediately...\n",
       "</pre>\n"
      ],
      "text/plain": [
       "17:15:56.752 | \u001b[36mINFO\u001b[0m    | Flow run\u001b[35m 'independent-jacamar'\u001b[0m - Executing 'process_pool_vol-f3874c79-8' immediately...\n"
      ]
     },
     "metadata": {},
     "output_type": "display_data"
    },
    {
     "data": {
      "text/html": [
       "<pre style=\"white-space:pre;overflow-x:auto;line-height:normal;font-family:Menlo,'DejaVu Sans Mono',consolas,'Courier New',monospace\">17:15:56.776 | <span style=\"color: #008080; text-decoration-color: #008080\">INFO</span>    | Task run 'process_pool_vol-f3874c79-8' - Finished in state <span style=\"color: #008000; text-decoration-color: #008000\">Completed</span>()\n",
       "</pre>\n"
      ],
      "text/plain": [
       "17:15:56.776 | \u001b[36mINFO\u001b[0m    | Task run 'process_pool_vol-f3874c79-8' - Finished in state \u001b[32mCompleted\u001b[0m()\n"
      ]
     },
     "metadata": {},
     "output_type": "display_data"
    },
    {
     "data": {
      "text/html": [
       "<pre style=\"white-space:pre;overflow-x:auto;line-height:normal;font-family:Menlo,'DejaVu Sans Mono',consolas,'Courier New',monospace\">17:15:56.786 | <span style=\"color: #008080; text-decoration-color: #008080\">INFO</span>    | Flow run<span style=\"color: #800080; text-decoration-color: #800080\"> 'independent-jacamar'</span> - Created task run 'process_pool_vol-f3874c79-9' for task 'process_pool_vol'\n",
       "</pre>\n"
      ],
      "text/plain": [
       "17:15:56.786 | \u001b[36mINFO\u001b[0m    | Flow run\u001b[35m 'independent-jacamar'\u001b[0m - Created task run 'process_pool_vol-f3874c79-9' for task 'process_pool_vol'\n"
      ]
     },
     "metadata": {},
     "output_type": "display_data"
    },
    {
     "data": {
      "text/html": [
       "<pre style=\"white-space:pre;overflow-x:auto;line-height:normal;font-family:Menlo,'DejaVu Sans Mono',consolas,'Courier New',monospace\">17:15:56.787 | <span style=\"color: #008080; text-decoration-color: #008080\">INFO</span>    | Flow run<span style=\"color: #800080; text-decoration-color: #800080\"> 'independent-jacamar'</span> - Executing 'process_pool_vol-f3874c79-9' immediately...\n",
       "</pre>\n"
      ],
      "text/plain": [
       "17:15:56.787 | \u001b[36mINFO\u001b[0m    | Flow run\u001b[35m 'independent-jacamar'\u001b[0m - Executing 'process_pool_vol-f3874c79-9' immediately...\n"
      ]
     },
     "metadata": {},
     "output_type": "display_data"
    },
    {
     "data": {
      "text/html": [
       "<pre style=\"white-space:pre;overflow-x:auto;line-height:normal;font-family:Menlo,'DejaVu Sans Mono',consolas,'Courier New',monospace\">17:15:56.811 | <span style=\"color: #008080; text-decoration-color: #008080\">INFO</span>    | Task run 'process_pool_vol-f3874c79-9' - Finished in state <span style=\"color: #008000; text-decoration-color: #008000\">Completed</span>()\n",
       "</pre>\n"
      ],
      "text/plain": [
       "17:15:56.811 | \u001b[36mINFO\u001b[0m    | Task run 'process_pool_vol-f3874c79-9' - Finished in state \u001b[32mCompleted\u001b[0m()\n"
      ]
     },
     "metadata": {},
     "output_type": "display_data"
    },
    {
     "data": {
      "text/html": [
       "<pre style=\"white-space:pre;overflow-x:auto;line-height:normal;font-family:Menlo,'DejaVu Sans Mono',consolas,'Courier New',monospace\">17:15:56.820 | <span style=\"color: #008080; text-decoration-color: #008080\">INFO</span>    | Flow run<span style=\"color: #800080; text-decoration-color: #800080\"> 'independent-jacamar'</span> - Created task run 'process_pool_vol-f3874c79-10' for task 'process_pool_vol'\n",
       "</pre>\n"
      ],
      "text/plain": [
       "17:15:56.820 | \u001b[36mINFO\u001b[0m    | Flow run\u001b[35m 'independent-jacamar'\u001b[0m - Created task run 'process_pool_vol-f3874c79-10' for task 'process_pool_vol'\n"
      ]
     },
     "metadata": {},
     "output_type": "display_data"
    },
    {
     "data": {
      "text/html": [
       "<pre style=\"white-space:pre;overflow-x:auto;line-height:normal;font-family:Menlo,'DejaVu Sans Mono',consolas,'Courier New',monospace\">17:15:56.821 | <span style=\"color: #008080; text-decoration-color: #008080\">INFO</span>    | Flow run<span style=\"color: #800080; text-decoration-color: #800080\"> 'independent-jacamar'</span> - Executing 'process_pool_vol-f3874c79-10' immediately...\n",
       "</pre>\n"
      ],
      "text/plain": [
       "17:15:56.821 | \u001b[36mINFO\u001b[0m    | Flow run\u001b[35m 'independent-jacamar'\u001b[0m - Executing 'process_pool_vol-f3874c79-10' immediately...\n"
      ]
     },
     "metadata": {},
     "output_type": "display_data"
    },
    {
     "data": {
      "text/html": [
       "<pre style=\"white-space:pre;overflow-x:auto;line-height:normal;font-family:Menlo,'DejaVu Sans Mono',consolas,'Courier New',monospace\">17:15:56.848 | <span style=\"color: #008080; text-decoration-color: #008080\">INFO</span>    | Task run 'process_pool_vol-f3874c79-10' - Finished in state <span style=\"color: #008000; text-decoration-color: #008000\">Completed</span>()\n",
       "</pre>\n"
      ],
      "text/plain": [
       "17:15:56.848 | \u001b[36mINFO\u001b[0m    | Task run 'process_pool_vol-f3874c79-10' - Finished in state \u001b[32mCompleted\u001b[0m()\n"
      ]
     },
     "metadata": {},
     "output_type": "display_data"
    },
    {
     "data": {
      "text/html": [
       "<pre style=\"white-space:pre;overflow-x:auto;line-height:normal;font-family:Menlo,'DejaVu Sans Mono',consolas,'Courier New',monospace\">17:15:56.858 | <span style=\"color: #008080; text-decoration-color: #008080\">INFO</span>    | Flow run<span style=\"color: #800080; text-decoration-color: #800080\"> 'independent-jacamar'</span> - Created task run 'process_pool_vol-f3874c79-11' for task 'process_pool_vol'\n",
       "</pre>\n"
      ],
      "text/plain": [
       "17:15:56.858 | \u001b[36mINFO\u001b[0m    | Flow run\u001b[35m 'independent-jacamar'\u001b[0m - Created task run 'process_pool_vol-f3874c79-11' for task 'process_pool_vol'\n"
      ]
     },
     "metadata": {},
     "output_type": "display_data"
    },
    {
     "data": {
      "text/html": [
       "<pre style=\"white-space:pre;overflow-x:auto;line-height:normal;font-family:Menlo,'DejaVu Sans Mono',consolas,'Courier New',monospace\">17:15:56.858 | <span style=\"color: #008080; text-decoration-color: #008080\">INFO</span>    | Flow run<span style=\"color: #800080; text-decoration-color: #800080\"> 'independent-jacamar'</span> - Executing 'process_pool_vol-f3874c79-11' immediately...\n",
       "</pre>\n"
      ],
      "text/plain": [
       "17:15:56.858 | \u001b[36mINFO\u001b[0m    | Flow run\u001b[35m 'independent-jacamar'\u001b[0m - Executing 'process_pool_vol-f3874c79-11' immediately...\n"
      ]
     },
     "metadata": {},
     "output_type": "display_data"
    },
    {
     "data": {
      "text/html": [
       "<pre style=\"white-space:pre;overflow-x:auto;line-height:normal;font-family:Menlo,'DejaVu Sans Mono',consolas,'Courier New',monospace\">17:15:56.883 | <span style=\"color: #008080; text-decoration-color: #008080\">INFO</span>    | Task run 'process_pool_vol-f3874c79-11' - Finished in state <span style=\"color: #008000; text-decoration-color: #008000\">Completed</span>()\n",
       "</pre>\n"
      ],
      "text/plain": [
       "17:15:56.883 | \u001b[36mINFO\u001b[0m    | Task run 'process_pool_vol-f3874c79-11' - Finished in state \u001b[32mCompleted\u001b[0m()\n"
      ]
     },
     "metadata": {},
     "output_type": "display_data"
    },
    {
     "data": {
      "text/html": [
       "<pre style=\"white-space:pre;overflow-x:auto;line-height:normal;font-family:Menlo,'DejaVu Sans Mono',consolas,'Courier New',monospace\">17:15:56.893 | <span style=\"color: #008080; text-decoration-color: #008080\">INFO</span>    | Flow run<span style=\"color: #800080; text-decoration-color: #800080\"> 'independent-jacamar'</span> - Created task run 'process_pool_vol-f3874c79-12' for task 'process_pool_vol'\n",
       "</pre>\n"
      ],
      "text/plain": [
       "17:15:56.893 | \u001b[36mINFO\u001b[0m    | Flow run\u001b[35m 'independent-jacamar'\u001b[0m - Created task run 'process_pool_vol-f3874c79-12' for task 'process_pool_vol'\n"
      ]
     },
     "metadata": {},
     "output_type": "display_data"
    },
    {
     "data": {
      "text/html": [
       "<pre style=\"white-space:pre;overflow-x:auto;line-height:normal;font-family:Menlo,'DejaVu Sans Mono',consolas,'Courier New',monospace\">17:15:56.893 | <span style=\"color: #008080; text-decoration-color: #008080\">INFO</span>    | Flow run<span style=\"color: #800080; text-decoration-color: #800080\"> 'independent-jacamar'</span> - Executing 'process_pool_vol-f3874c79-12' immediately...\n",
       "</pre>\n"
      ],
      "text/plain": [
       "17:15:56.893 | \u001b[36mINFO\u001b[0m    | Flow run\u001b[35m 'independent-jacamar'\u001b[0m - Executing 'process_pool_vol-f3874c79-12' immediately...\n"
      ]
     },
     "metadata": {},
     "output_type": "display_data"
    },
    {
     "data": {
      "text/html": [
       "<pre style=\"white-space:pre;overflow-x:auto;line-height:normal;font-family:Menlo,'DejaVu Sans Mono',consolas,'Courier New',monospace\">17:15:56.919 | <span style=\"color: #008080; text-decoration-color: #008080\">INFO</span>    | Task run 'process_pool_vol-f3874c79-12' - Finished in state <span style=\"color: #008000; text-decoration-color: #008000\">Completed</span>()\n",
       "</pre>\n"
      ],
      "text/plain": [
       "17:15:56.919 | \u001b[36mINFO\u001b[0m    | Task run 'process_pool_vol-f3874c79-12' - Finished in state \u001b[32mCompleted\u001b[0m()\n"
      ]
     },
     "metadata": {},
     "output_type": "display_data"
    },
    {
     "data": {
      "text/html": [
       "<pre style=\"white-space:pre;overflow-x:auto;line-height:normal;font-family:Menlo,'DejaVu Sans Mono',consolas,'Courier New',monospace\">17:15:56.929 | <span style=\"color: #008080; text-decoration-color: #008080\">INFO</span>    | Flow run<span style=\"color: #800080; text-decoration-color: #800080\"> 'independent-jacamar'</span> - Created task run 'process_pool_vol-f3874c79-13' for task 'process_pool_vol'\n",
       "</pre>\n"
      ],
      "text/plain": [
       "17:15:56.929 | \u001b[36mINFO\u001b[0m    | Flow run\u001b[35m 'independent-jacamar'\u001b[0m - Created task run 'process_pool_vol-f3874c79-13' for task 'process_pool_vol'\n"
      ]
     },
     "metadata": {},
     "output_type": "display_data"
    },
    {
     "data": {
      "text/html": [
       "<pre style=\"white-space:pre;overflow-x:auto;line-height:normal;font-family:Menlo,'DejaVu Sans Mono',consolas,'Courier New',monospace\">17:15:56.929 | <span style=\"color: #008080; text-decoration-color: #008080\">INFO</span>    | Flow run<span style=\"color: #800080; text-decoration-color: #800080\"> 'independent-jacamar'</span> - Executing 'process_pool_vol-f3874c79-13' immediately...\n",
       "</pre>\n"
      ],
      "text/plain": [
       "17:15:56.929 | \u001b[36mINFO\u001b[0m    | Flow run\u001b[35m 'independent-jacamar'\u001b[0m - Executing 'process_pool_vol-f3874c79-13' immediately...\n"
      ]
     },
     "metadata": {},
     "output_type": "display_data"
    },
    {
     "data": {
      "text/html": [
       "<pre style=\"white-space:pre;overflow-x:auto;line-height:normal;font-family:Menlo,'DejaVu Sans Mono',consolas,'Courier New',monospace\">17:15:56.955 | <span style=\"color: #008080; text-decoration-color: #008080\">INFO</span>    | Task run 'process_pool_vol-f3874c79-13' - Finished in state <span style=\"color: #008000; text-decoration-color: #008000\">Completed</span>()\n",
       "</pre>\n"
      ],
      "text/plain": [
       "17:15:56.955 | \u001b[36mINFO\u001b[0m    | Task run 'process_pool_vol-f3874c79-13' - Finished in state \u001b[32mCompleted\u001b[0m()\n"
      ]
     },
     "metadata": {},
     "output_type": "display_data"
    },
    {
     "data": {
      "text/html": [
       "<pre style=\"white-space:pre;overflow-x:auto;line-height:normal;font-family:Menlo,'DejaVu Sans Mono',consolas,'Courier New',monospace\">17:15:56.966 | <span style=\"color: #008080; text-decoration-color: #008080\">INFO</span>    | Flow run<span style=\"color: #800080; text-decoration-color: #800080\"> 'independent-jacamar'</span> - Created task run 'process_pool_vol-f3874c79-14' for task 'process_pool_vol'\n",
       "</pre>\n"
      ],
      "text/plain": [
       "17:15:56.966 | \u001b[36mINFO\u001b[0m    | Flow run\u001b[35m 'independent-jacamar'\u001b[0m - Created task run 'process_pool_vol-f3874c79-14' for task 'process_pool_vol'\n"
      ]
     },
     "metadata": {},
     "output_type": "display_data"
    },
    {
     "data": {
      "text/html": [
       "<pre style=\"white-space:pre;overflow-x:auto;line-height:normal;font-family:Menlo,'DejaVu Sans Mono',consolas,'Courier New',monospace\">17:15:56.967 | <span style=\"color: #008080; text-decoration-color: #008080\">INFO</span>    | Flow run<span style=\"color: #800080; text-decoration-color: #800080\"> 'independent-jacamar'</span> - Executing 'process_pool_vol-f3874c79-14' immediately...\n",
       "</pre>\n"
      ],
      "text/plain": [
       "17:15:56.967 | \u001b[36mINFO\u001b[0m    | Flow run\u001b[35m 'independent-jacamar'\u001b[0m - Executing 'process_pool_vol-f3874c79-14' immediately...\n"
      ]
     },
     "metadata": {},
     "output_type": "display_data"
    },
    {
     "data": {
      "text/html": [
       "<pre style=\"white-space:pre;overflow-x:auto;line-height:normal;font-family:Menlo,'DejaVu Sans Mono',consolas,'Courier New',monospace\">17:15:56.992 | <span style=\"color: #008080; text-decoration-color: #008080\">INFO</span>    | Task run 'process_pool_vol-f3874c79-14' - Finished in state <span style=\"color: #008000; text-decoration-color: #008000\">Completed</span>()\n",
       "</pre>\n"
      ],
      "text/plain": [
       "17:15:56.992 | \u001b[36mINFO\u001b[0m    | Task run 'process_pool_vol-f3874c79-14' - Finished in state \u001b[32mCompleted\u001b[0m()\n"
      ]
     },
     "metadata": {},
     "output_type": "display_data"
    },
    {
     "data": {
      "text/html": [
       "<pre style=\"white-space:pre;overflow-x:auto;line-height:normal;font-family:Menlo,'DejaVu Sans Mono',consolas,'Courier New',monospace\">17:15:57.001 | <span style=\"color: #008080; text-decoration-color: #008080\">INFO</span>    | Flow run<span style=\"color: #800080; text-decoration-color: #800080\"> 'independent-jacamar'</span> - Created task run 'process_pool_vol-f3874c79-15' for task 'process_pool_vol'\n",
       "</pre>\n"
      ],
      "text/plain": [
       "17:15:57.001 | \u001b[36mINFO\u001b[0m    | Flow run\u001b[35m 'independent-jacamar'\u001b[0m - Created task run 'process_pool_vol-f3874c79-15' for task 'process_pool_vol'\n"
      ]
     },
     "metadata": {},
     "output_type": "display_data"
    },
    {
     "data": {
      "text/html": [
       "<pre style=\"white-space:pre;overflow-x:auto;line-height:normal;font-family:Menlo,'DejaVu Sans Mono',consolas,'Courier New',monospace\">17:15:57.001 | <span style=\"color: #008080; text-decoration-color: #008080\">INFO</span>    | Flow run<span style=\"color: #800080; text-decoration-color: #800080\"> 'independent-jacamar'</span> - Executing 'process_pool_vol-f3874c79-15' immediately...\n",
       "</pre>\n"
      ],
      "text/plain": [
       "17:15:57.001 | \u001b[36mINFO\u001b[0m    | Flow run\u001b[35m 'independent-jacamar'\u001b[0m - Executing 'process_pool_vol-f3874c79-15' immediately...\n"
      ]
     },
     "metadata": {},
     "output_type": "display_data"
    },
    {
     "data": {
      "text/html": [
       "<pre style=\"white-space:pre;overflow-x:auto;line-height:normal;font-family:Menlo,'DejaVu Sans Mono',consolas,'Courier New',monospace\">17:15:57.024 | <span style=\"color: #008080; text-decoration-color: #008080\">INFO</span>    | Task run 'process_pool_vol-f3874c79-15' - Finished in state <span style=\"color: #008000; text-decoration-color: #008000\">Completed</span>()\n",
       "</pre>\n"
      ],
      "text/plain": [
       "17:15:57.024 | \u001b[36mINFO\u001b[0m    | Task run 'process_pool_vol-f3874c79-15' - Finished in state \u001b[32mCompleted\u001b[0m()\n"
      ]
     },
     "metadata": {},
     "output_type": "display_data"
    },
    {
     "data": {
      "text/html": [
       "<pre style=\"white-space:pre;overflow-x:auto;line-height:normal;font-family:Menlo,'DejaVu Sans Mono',consolas,'Courier New',monospace\">17:15:57.033 | <span style=\"color: #008080; text-decoration-color: #008080\">INFO</span>    | Flow run<span style=\"color: #800080; text-decoration-color: #800080\"> 'independent-jacamar'</span> - Created task run 'process_pool_vol-f3874c79-16' for task 'process_pool_vol'\n",
       "</pre>\n"
      ],
      "text/plain": [
       "17:15:57.033 | \u001b[36mINFO\u001b[0m    | Flow run\u001b[35m 'independent-jacamar'\u001b[0m - Created task run 'process_pool_vol-f3874c79-16' for task 'process_pool_vol'\n"
      ]
     },
     "metadata": {},
     "output_type": "display_data"
    },
    {
     "data": {
      "text/html": [
       "<pre style=\"white-space:pre;overflow-x:auto;line-height:normal;font-family:Menlo,'DejaVu Sans Mono',consolas,'Courier New',monospace\">17:15:57.034 | <span style=\"color: #008080; text-decoration-color: #008080\">INFO</span>    | Flow run<span style=\"color: #800080; text-decoration-color: #800080\"> 'independent-jacamar'</span> - Executing 'process_pool_vol-f3874c79-16' immediately...\n",
       "</pre>\n"
      ],
      "text/plain": [
       "17:15:57.034 | \u001b[36mINFO\u001b[0m    | Flow run\u001b[35m 'independent-jacamar'\u001b[0m - Executing 'process_pool_vol-f3874c79-16' immediately...\n"
      ]
     },
     "metadata": {},
     "output_type": "display_data"
    },
    {
     "data": {
      "text/html": [
       "<pre style=\"white-space:pre;overflow-x:auto;line-height:normal;font-family:Menlo,'DejaVu Sans Mono',consolas,'Courier New',monospace\">17:15:57.056 | <span style=\"color: #008080; text-decoration-color: #008080\">INFO</span>    | Task run 'process_pool_vol-f3874c79-16' - Finished in state <span style=\"color: #008000; text-decoration-color: #008000\">Completed</span>()\n",
       "</pre>\n"
      ],
      "text/plain": [
       "17:15:57.056 | \u001b[36mINFO\u001b[0m    | Task run 'process_pool_vol-f3874c79-16' - Finished in state \u001b[32mCompleted\u001b[0m()\n"
      ]
     },
     "metadata": {},
     "output_type": "display_data"
    },
    {
     "data": {
      "text/html": [
       "<pre style=\"white-space:pre;overflow-x:auto;line-height:normal;font-family:Menlo,'DejaVu Sans Mono',consolas,'Courier New',monospace\">17:15:57.065 | <span style=\"color: #008080; text-decoration-color: #008080\">INFO</span>    | Flow run<span style=\"color: #800080; text-decoration-color: #800080\"> 'independent-jacamar'</span> - Created task run 'process_pool_vol-f3874c79-17' for task 'process_pool_vol'\n",
       "</pre>\n"
      ],
      "text/plain": [
       "17:15:57.065 | \u001b[36mINFO\u001b[0m    | Flow run\u001b[35m 'independent-jacamar'\u001b[0m - Created task run 'process_pool_vol-f3874c79-17' for task 'process_pool_vol'\n"
      ]
     },
     "metadata": {},
     "output_type": "display_data"
    },
    {
     "data": {
      "text/html": [
       "<pre style=\"white-space:pre;overflow-x:auto;line-height:normal;font-family:Menlo,'DejaVu Sans Mono',consolas,'Courier New',monospace\">17:15:57.066 | <span style=\"color: #008080; text-decoration-color: #008080\">INFO</span>    | Flow run<span style=\"color: #800080; text-decoration-color: #800080\"> 'independent-jacamar'</span> - Executing 'process_pool_vol-f3874c79-17' immediately...\n",
       "</pre>\n"
      ],
      "text/plain": [
       "17:15:57.066 | \u001b[36mINFO\u001b[0m    | Flow run\u001b[35m 'independent-jacamar'\u001b[0m - Executing 'process_pool_vol-f3874c79-17' immediately...\n"
      ]
     },
     "metadata": {},
     "output_type": "display_data"
    },
    {
     "data": {
      "text/html": [
       "<pre style=\"white-space:pre;overflow-x:auto;line-height:normal;font-family:Menlo,'DejaVu Sans Mono',consolas,'Courier New',monospace\">17:15:57.088 | <span style=\"color: #008080; text-decoration-color: #008080\">INFO</span>    | Task run 'process_pool_vol-f3874c79-17' - Finished in state <span style=\"color: #008000; text-decoration-color: #008000\">Completed</span>()\n",
       "</pre>\n"
      ],
      "text/plain": [
       "17:15:57.088 | \u001b[36mINFO\u001b[0m    | Task run 'process_pool_vol-f3874c79-17' - Finished in state \u001b[32mCompleted\u001b[0m()\n"
      ]
     },
     "metadata": {},
     "output_type": "display_data"
    },
    {
     "data": {
      "text/html": [
       "<pre style=\"white-space:pre;overflow-x:auto;line-height:normal;font-family:Menlo,'DejaVu Sans Mono',consolas,'Courier New',monospace\">17:15:57.099 | <span style=\"color: #008080; text-decoration-color: #008080\">INFO</span>    | Flow run<span style=\"color: #800080; text-decoration-color: #800080\"> 'independent-jacamar'</span> - Created task run 'process_pool_vol-f3874c79-18' for task 'process_pool_vol'\n",
       "</pre>\n"
      ],
      "text/plain": [
       "17:15:57.099 | \u001b[36mINFO\u001b[0m    | Flow run\u001b[35m 'independent-jacamar'\u001b[0m - Created task run 'process_pool_vol-f3874c79-18' for task 'process_pool_vol'\n"
      ]
     },
     "metadata": {},
     "output_type": "display_data"
    },
    {
     "data": {
      "text/html": [
       "<pre style=\"white-space:pre;overflow-x:auto;line-height:normal;font-family:Menlo,'DejaVu Sans Mono',consolas,'Courier New',monospace\">17:15:57.099 | <span style=\"color: #008080; text-decoration-color: #008080\">INFO</span>    | Flow run<span style=\"color: #800080; text-decoration-color: #800080\"> 'independent-jacamar'</span> - Executing 'process_pool_vol-f3874c79-18' immediately...\n",
       "</pre>\n"
      ],
      "text/plain": [
       "17:15:57.099 | \u001b[36mINFO\u001b[0m    | Flow run\u001b[35m 'independent-jacamar'\u001b[0m - Executing 'process_pool_vol-f3874c79-18' immediately...\n"
      ]
     },
     "metadata": {},
     "output_type": "display_data"
    },
    {
     "data": {
      "text/html": [
       "<pre style=\"white-space:pre;overflow-x:auto;line-height:normal;font-family:Menlo,'DejaVu Sans Mono',consolas,'Courier New',monospace\">17:15:57.122 | <span style=\"color: #008080; text-decoration-color: #008080\">INFO</span>    | Task run 'process_pool_vol-f3874c79-18' - Finished in state <span style=\"color: #008000; text-decoration-color: #008000\">Completed</span>()\n",
       "</pre>\n"
      ],
      "text/plain": [
       "17:15:57.122 | \u001b[36mINFO\u001b[0m    | Task run 'process_pool_vol-f3874c79-18' - Finished in state \u001b[32mCompleted\u001b[0m()\n"
      ]
     },
     "metadata": {},
     "output_type": "display_data"
    },
    {
     "data": {
      "text/html": [
       "<pre style=\"white-space:pre;overflow-x:auto;line-height:normal;font-family:Menlo,'DejaVu Sans Mono',consolas,'Courier New',monospace\">17:15:57.131 | <span style=\"color: #008080; text-decoration-color: #008080\">INFO</span>    | Flow run<span style=\"color: #800080; text-decoration-color: #800080\"> 'independent-jacamar'</span> - Created task run 'process_pool_vol-f3874c79-19' for task 'process_pool_vol'\n",
       "</pre>\n"
      ],
      "text/plain": [
       "17:15:57.131 | \u001b[36mINFO\u001b[0m    | Flow run\u001b[35m 'independent-jacamar'\u001b[0m - Created task run 'process_pool_vol-f3874c79-19' for task 'process_pool_vol'\n"
      ]
     },
     "metadata": {},
     "output_type": "display_data"
    },
    {
     "data": {
      "text/html": [
       "<pre style=\"white-space:pre;overflow-x:auto;line-height:normal;font-family:Menlo,'DejaVu Sans Mono',consolas,'Courier New',monospace\">17:15:57.132 | <span style=\"color: #008080; text-decoration-color: #008080\">INFO</span>    | Flow run<span style=\"color: #800080; text-decoration-color: #800080\"> 'independent-jacamar'</span> - Executing 'process_pool_vol-f3874c79-19' immediately...\n",
       "</pre>\n"
      ],
      "text/plain": [
       "17:15:57.132 | \u001b[36mINFO\u001b[0m    | Flow run\u001b[35m 'independent-jacamar'\u001b[0m - Executing 'process_pool_vol-f3874c79-19' immediately...\n"
      ]
     },
     "metadata": {},
     "output_type": "display_data"
    },
    {
     "data": {
      "text/html": [
       "<pre style=\"white-space:pre;overflow-x:auto;line-height:normal;font-family:Menlo,'DejaVu Sans Mono',consolas,'Courier New',monospace\">17:15:57.154 | <span style=\"color: #008080; text-decoration-color: #008080\">INFO</span>    | Task run 'process_pool_vol-f3874c79-19' - Finished in state <span style=\"color: #008000; text-decoration-color: #008000\">Completed</span>()\n",
       "</pre>\n"
      ],
      "text/plain": [
       "17:15:57.154 | \u001b[36mINFO\u001b[0m    | Task run 'process_pool_vol-f3874c79-19' - Finished in state \u001b[32mCompleted\u001b[0m()\n"
      ]
     },
     "metadata": {},
     "output_type": "display_data"
    },
    {
     "data": {
      "text/html": [
       "<pre style=\"white-space:pre;overflow-x:auto;line-height:normal;font-family:Menlo,'DejaVu Sans Mono',consolas,'Courier New',monospace\">17:15:57.163 | <span style=\"color: #008080; text-decoration-color: #008080\">INFO</span>    | Flow run<span style=\"color: #800080; text-decoration-color: #800080\"> 'independent-jacamar'</span> - Created task run 'process_pool_vol-f3874c79-20' for task 'process_pool_vol'\n",
       "</pre>\n"
      ],
      "text/plain": [
       "17:15:57.163 | \u001b[36mINFO\u001b[0m    | Flow run\u001b[35m 'independent-jacamar'\u001b[0m - Created task run 'process_pool_vol-f3874c79-20' for task 'process_pool_vol'\n"
      ]
     },
     "metadata": {},
     "output_type": "display_data"
    },
    {
     "data": {
      "text/html": [
       "<pre style=\"white-space:pre;overflow-x:auto;line-height:normal;font-family:Menlo,'DejaVu Sans Mono',consolas,'Courier New',monospace\">17:15:57.163 | <span style=\"color: #008080; text-decoration-color: #008080\">INFO</span>    | Flow run<span style=\"color: #800080; text-decoration-color: #800080\"> 'independent-jacamar'</span> - Executing 'process_pool_vol-f3874c79-20' immediately...\n",
       "</pre>\n"
      ],
      "text/plain": [
       "17:15:57.163 | \u001b[36mINFO\u001b[0m    | Flow run\u001b[35m 'independent-jacamar'\u001b[0m - Executing 'process_pool_vol-f3874c79-20' immediately...\n"
      ]
     },
     "metadata": {},
     "output_type": "display_data"
    },
    {
     "data": {
      "text/html": [
       "<pre style=\"white-space:pre;overflow-x:auto;line-height:normal;font-family:Menlo,'DejaVu Sans Mono',consolas,'Courier New',monospace\">17:15:57.186 | <span style=\"color: #008080; text-decoration-color: #008080\">INFO</span>    | Task run 'process_pool_vol-f3874c79-20' - Finished in state <span style=\"color: #008000; text-decoration-color: #008000\">Completed</span>()\n",
       "</pre>\n"
      ],
      "text/plain": [
       "17:15:57.186 | \u001b[36mINFO\u001b[0m    | Task run 'process_pool_vol-f3874c79-20' - Finished in state \u001b[32mCompleted\u001b[0m()\n"
      ]
     },
     "metadata": {},
     "output_type": "display_data"
    },
    {
     "data": {
      "text/html": [
       "<pre style=\"white-space:pre;overflow-x:auto;line-height:normal;font-family:Menlo,'DejaVu Sans Mono',consolas,'Courier New',monospace\">17:15:57.195 | <span style=\"color: #008080; text-decoration-color: #008080\">INFO</span>    | Flow run<span style=\"color: #800080; text-decoration-color: #800080\"> 'independent-jacamar'</span> - Created task run 'process_pool_vol-f3874c79-21' for task 'process_pool_vol'\n",
       "</pre>\n"
      ],
      "text/plain": [
       "17:15:57.195 | \u001b[36mINFO\u001b[0m    | Flow run\u001b[35m 'independent-jacamar'\u001b[0m - Created task run 'process_pool_vol-f3874c79-21' for task 'process_pool_vol'\n"
      ]
     },
     "metadata": {},
     "output_type": "display_data"
    },
    {
     "data": {
      "text/html": [
       "<pre style=\"white-space:pre;overflow-x:auto;line-height:normal;font-family:Menlo,'DejaVu Sans Mono',consolas,'Courier New',monospace\">17:15:57.196 | <span style=\"color: #008080; text-decoration-color: #008080\">INFO</span>    | Flow run<span style=\"color: #800080; text-decoration-color: #800080\"> 'independent-jacamar'</span> - Executing 'process_pool_vol-f3874c79-21' immediately...\n",
       "</pre>\n"
      ],
      "text/plain": [
       "17:15:57.196 | \u001b[36mINFO\u001b[0m    | Flow run\u001b[35m 'independent-jacamar'\u001b[0m - Executing 'process_pool_vol-f3874c79-21' immediately...\n"
      ]
     },
     "metadata": {},
     "output_type": "display_data"
    },
    {
     "data": {
      "text/html": [
       "<pre style=\"white-space:pre;overflow-x:auto;line-height:normal;font-family:Menlo,'DejaVu Sans Mono',consolas,'Courier New',monospace\">17:15:57.217 | <span style=\"color: #008080; text-decoration-color: #008080\">INFO</span>    | Task run 'process_pool_vol-f3874c79-21' - Finished in state <span style=\"color: #008000; text-decoration-color: #008000\">Completed</span>()\n",
       "</pre>\n"
      ],
      "text/plain": [
       "17:15:57.217 | \u001b[36mINFO\u001b[0m    | Task run 'process_pool_vol-f3874c79-21' - Finished in state \u001b[32mCompleted\u001b[0m()\n"
      ]
     },
     "metadata": {},
     "output_type": "display_data"
    },
    {
     "data": {
      "text/html": [
       "<pre style=\"white-space:pre;overflow-x:auto;line-height:normal;font-family:Menlo,'DejaVu Sans Mono',consolas,'Courier New',monospace\">17:15:57.227 | <span style=\"color: #008080; text-decoration-color: #008080\">INFO</span>    | Flow run<span style=\"color: #800080; text-decoration-color: #800080\"> 'independent-jacamar'</span> - Created task run 'process_pool_vol-f3874c79-22' for task 'process_pool_vol'\n",
       "</pre>\n"
      ],
      "text/plain": [
       "17:15:57.227 | \u001b[36mINFO\u001b[0m    | Flow run\u001b[35m 'independent-jacamar'\u001b[0m - Created task run 'process_pool_vol-f3874c79-22' for task 'process_pool_vol'\n"
      ]
     },
     "metadata": {},
     "output_type": "display_data"
    },
    {
     "data": {
      "text/html": [
       "<pre style=\"white-space:pre;overflow-x:auto;line-height:normal;font-family:Menlo,'DejaVu Sans Mono',consolas,'Courier New',monospace\">17:15:57.227 | <span style=\"color: #008080; text-decoration-color: #008080\">INFO</span>    | Flow run<span style=\"color: #800080; text-decoration-color: #800080\"> 'independent-jacamar'</span> - Executing 'process_pool_vol-f3874c79-22' immediately...\n",
       "</pre>\n"
      ],
      "text/plain": [
       "17:15:57.227 | \u001b[36mINFO\u001b[0m    | Flow run\u001b[35m 'independent-jacamar'\u001b[0m - Executing 'process_pool_vol-f3874c79-22' immediately...\n"
      ]
     },
     "metadata": {},
     "output_type": "display_data"
    },
    {
     "data": {
      "text/html": [
       "<pre style=\"white-space:pre;overflow-x:auto;line-height:normal;font-family:Menlo,'DejaVu Sans Mono',consolas,'Courier New',monospace\">17:15:57.249 | <span style=\"color: #008080; text-decoration-color: #008080\">INFO</span>    | Task run 'process_pool_vol-f3874c79-22' - Finished in state <span style=\"color: #008000; text-decoration-color: #008000\">Completed</span>()\n",
       "</pre>\n"
      ],
      "text/plain": [
       "17:15:57.249 | \u001b[36mINFO\u001b[0m    | Task run 'process_pool_vol-f3874c79-22' - Finished in state \u001b[32mCompleted\u001b[0m()\n"
      ]
     },
     "metadata": {},
     "output_type": "display_data"
    },
    {
     "data": {
      "text/html": [
       "<pre style=\"white-space:pre;overflow-x:auto;line-height:normal;font-family:Menlo,'DejaVu Sans Mono',consolas,'Courier New',monospace\">17:15:57.260 | <span style=\"color: #008080; text-decoration-color: #008080\">INFO</span>    | Flow run<span style=\"color: #800080; text-decoration-color: #800080\"> 'independent-jacamar'</span> - Created task run 'process_pool_vol-f3874c79-23' for task 'process_pool_vol'\n",
       "</pre>\n"
      ],
      "text/plain": [
       "17:15:57.260 | \u001b[36mINFO\u001b[0m    | Flow run\u001b[35m 'independent-jacamar'\u001b[0m - Created task run 'process_pool_vol-f3874c79-23' for task 'process_pool_vol'\n"
      ]
     },
     "metadata": {},
     "output_type": "display_data"
    },
    {
     "data": {
      "text/html": [
       "<pre style=\"white-space:pre;overflow-x:auto;line-height:normal;font-family:Menlo,'DejaVu Sans Mono',consolas,'Courier New',monospace\">17:15:57.260 | <span style=\"color: #008080; text-decoration-color: #008080\">INFO</span>    | Flow run<span style=\"color: #800080; text-decoration-color: #800080\"> 'independent-jacamar'</span> - Executing 'process_pool_vol-f3874c79-23' immediately...\n",
       "</pre>\n"
      ],
      "text/plain": [
       "17:15:57.260 | \u001b[36mINFO\u001b[0m    | Flow run\u001b[35m 'independent-jacamar'\u001b[0m - Executing 'process_pool_vol-f3874c79-23' immediately...\n"
      ]
     },
     "metadata": {},
     "output_type": "display_data"
    },
    {
     "data": {
      "text/html": [
       "<pre style=\"white-space:pre;overflow-x:auto;line-height:normal;font-family:Menlo,'DejaVu Sans Mono',consolas,'Courier New',monospace\">17:15:57.283 | <span style=\"color: #008080; text-decoration-color: #008080\">INFO</span>    | Task run 'process_pool_vol-f3874c79-23' - Finished in state <span style=\"color: #008000; text-decoration-color: #008000\">Completed</span>()\n",
       "</pre>\n"
      ],
      "text/plain": [
       "17:15:57.283 | \u001b[36mINFO\u001b[0m    | Task run 'process_pool_vol-f3874c79-23' - Finished in state \u001b[32mCompleted\u001b[0m()\n"
      ]
     },
     "metadata": {},
     "output_type": "display_data"
    },
    {
     "data": {
      "text/html": [
       "<pre style=\"white-space:pre;overflow-x:auto;line-height:normal;font-family:Menlo,'DejaVu Sans Mono',consolas,'Courier New',monospace\">17:15:57.292 | <span style=\"color: #008080; text-decoration-color: #008080\">INFO</span>    | Flow run<span style=\"color: #800080; text-decoration-color: #800080\"> 'independent-jacamar'</span> - Created task run 'process_pool_vol-f3874c79-24' for task 'process_pool_vol'\n",
       "</pre>\n"
      ],
      "text/plain": [
       "17:15:57.292 | \u001b[36mINFO\u001b[0m    | Flow run\u001b[35m 'independent-jacamar'\u001b[0m - Created task run 'process_pool_vol-f3874c79-24' for task 'process_pool_vol'\n"
      ]
     },
     "metadata": {},
     "output_type": "display_data"
    },
    {
     "data": {
      "text/html": [
       "<pre style=\"white-space:pre;overflow-x:auto;line-height:normal;font-family:Menlo,'DejaVu Sans Mono',consolas,'Courier New',monospace\">17:15:57.292 | <span style=\"color: #008080; text-decoration-color: #008080\">INFO</span>    | Flow run<span style=\"color: #800080; text-decoration-color: #800080\"> 'independent-jacamar'</span> - Executing 'process_pool_vol-f3874c79-24' immediately...\n",
       "</pre>\n"
      ],
      "text/plain": [
       "17:15:57.292 | \u001b[36mINFO\u001b[0m    | Flow run\u001b[35m 'independent-jacamar'\u001b[0m - Executing 'process_pool_vol-f3874c79-24' immediately...\n"
      ]
     },
     "metadata": {},
     "output_type": "display_data"
    },
    {
     "data": {
      "text/html": [
       "<pre style=\"white-space:pre;overflow-x:auto;line-height:normal;font-family:Menlo,'DejaVu Sans Mono',consolas,'Courier New',monospace\">17:15:57.315 | <span style=\"color: #008080; text-decoration-color: #008080\">INFO</span>    | Task run 'process_pool_vol-f3874c79-24' - Finished in state <span style=\"color: #008000; text-decoration-color: #008000\">Completed</span>()\n",
       "</pre>\n"
      ],
      "text/plain": [
       "17:15:57.315 | \u001b[36mINFO\u001b[0m    | Task run 'process_pool_vol-f3874c79-24' - Finished in state \u001b[32mCompleted\u001b[0m()\n"
      ]
     },
     "metadata": {},
     "output_type": "display_data"
    },
    {
     "data": {
      "text/html": [
       "<pre style=\"white-space:pre;overflow-x:auto;line-height:normal;font-family:Menlo,'DejaVu Sans Mono',consolas,'Courier New',monospace\">17:15:57.324 | <span style=\"color: #008080; text-decoration-color: #008080\">INFO</span>    | Flow run<span style=\"color: #800080; text-decoration-color: #800080\"> 'independent-jacamar'</span> - Created task run 'process_pool_vol-f3874c79-25' for task 'process_pool_vol'\n",
       "</pre>\n"
      ],
      "text/plain": [
       "17:15:57.324 | \u001b[36mINFO\u001b[0m    | Flow run\u001b[35m 'independent-jacamar'\u001b[0m - Created task run 'process_pool_vol-f3874c79-25' for task 'process_pool_vol'\n"
      ]
     },
     "metadata": {},
     "output_type": "display_data"
    },
    {
     "data": {
      "text/html": [
       "<pre style=\"white-space:pre;overflow-x:auto;line-height:normal;font-family:Menlo,'DejaVu Sans Mono',consolas,'Courier New',monospace\">17:15:57.325 | <span style=\"color: #008080; text-decoration-color: #008080\">INFO</span>    | Flow run<span style=\"color: #800080; text-decoration-color: #800080\"> 'independent-jacamar'</span> - Executing 'process_pool_vol-f3874c79-25' immediately...\n",
       "</pre>\n"
      ],
      "text/plain": [
       "17:15:57.325 | \u001b[36mINFO\u001b[0m    | Flow run\u001b[35m 'independent-jacamar'\u001b[0m - Executing 'process_pool_vol-f3874c79-25' immediately...\n"
      ]
     },
     "metadata": {},
     "output_type": "display_data"
    },
    {
     "data": {
      "text/html": [
       "<pre style=\"white-space:pre;overflow-x:auto;line-height:normal;font-family:Menlo,'DejaVu Sans Mono',consolas,'Courier New',monospace\">17:15:57.369 | <span style=\"color: #008080; text-decoration-color: #008080\">INFO</span>    | Task run 'process_pool_vol-f3874c79-25' - Finished in state <span style=\"color: #008000; text-decoration-color: #008000\">Completed</span>()\n",
       "</pre>\n"
      ],
      "text/plain": [
       "17:15:57.369 | \u001b[36mINFO\u001b[0m    | Task run 'process_pool_vol-f3874c79-25' - Finished in state \u001b[32mCompleted\u001b[0m()\n"
      ]
     },
     "metadata": {},
     "output_type": "display_data"
    },
    {
     "data": {
      "text/html": [
       "<pre style=\"white-space:pre;overflow-x:auto;line-height:normal;font-family:Menlo,'DejaVu Sans Mono',consolas,'Courier New',monospace\">17:15:57.379 | <span style=\"color: #008080; text-decoration-color: #008080\">INFO</span>    | Flow run<span style=\"color: #800080; text-decoration-color: #800080\"> 'independent-jacamar'</span> - Created task run 'process_pool_vol-f3874c79-26' for task 'process_pool_vol'\n",
       "</pre>\n"
      ],
      "text/plain": [
       "17:15:57.379 | \u001b[36mINFO\u001b[0m    | Flow run\u001b[35m 'independent-jacamar'\u001b[0m - Created task run 'process_pool_vol-f3874c79-26' for task 'process_pool_vol'\n"
      ]
     },
     "metadata": {},
     "output_type": "display_data"
    },
    {
     "data": {
      "text/html": [
       "<pre style=\"white-space:pre;overflow-x:auto;line-height:normal;font-family:Menlo,'DejaVu Sans Mono',consolas,'Courier New',monospace\">17:15:57.379 | <span style=\"color: #008080; text-decoration-color: #008080\">INFO</span>    | Flow run<span style=\"color: #800080; text-decoration-color: #800080\"> 'independent-jacamar'</span> - Executing 'process_pool_vol-f3874c79-26' immediately...\n",
       "</pre>\n"
      ],
      "text/plain": [
       "17:15:57.379 | \u001b[36mINFO\u001b[0m    | Flow run\u001b[35m 'independent-jacamar'\u001b[0m - Executing 'process_pool_vol-f3874c79-26' immediately...\n"
      ]
     },
     "metadata": {},
     "output_type": "display_data"
    },
    {
     "data": {
      "text/html": [
       "<pre style=\"white-space:pre;overflow-x:auto;line-height:normal;font-family:Menlo,'DejaVu Sans Mono',consolas,'Courier New',monospace\">17:15:57.404 | <span style=\"color: #008080; text-decoration-color: #008080\">INFO</span>    | Task run 'process_pool_vol-f3874c79-26' - Finished in state <span style=\"color: #008000; text-decoration-color: #008000\">Completed</span>()\n",
       "</pre>\n"
      ],
      "text/plain": [
       "17:15:57.404 | \u001b[36mINFO\u001b[0m    | Task run 'process_pool_vol-f3874c79-26' - Finished in state \u001b[32mCompleted\u001b[0m()\n"
      ]
     },
     "metadata": {},
     "output_type": "display_data"
    },
    {
     "data": {
      "text/html": [
       "<pre style=\"white-space:pre;overflow-x:auto;line-height:normal;font-family:Menlo,'DejaVu Sans Mono',consolas,'Courier New',monospace\">17:15:57.414 | <span style=\"color: #008080; text-decoration-color: #008080\">INFO</span>    | Flow run<span style=\"color: #800080; text-decoration-color: #800080\"> 'independent-jacamar'</span> - Created task run 'process_pool_vol-f3874c79-27' for task 'process_pool_vol'\n",
       "</pre>\n"
      ],
      "text/plain": [
       "17:15:57.414 | \u001b[36mINFO\u001b[0m    | Flow run\u001b[35m 'independent-jacamar'\u001b[0m - Created task run 'process_pool_vol-f3874c79-27' for task 'process_pool_vol'\n"
      ]
     },
     "metadata": {},
     "output_type": "display_data"
    },
    {
     "data": {
      "text/html": [
       "<pre style=\"white-space:pre;overflow-x:auto;line-height:normal;font-family:Menlo,'DejaVu Sans Mono',consolas,'Courier New',monospace\">17:15:57.414 | <span style=\"color: #008080; text-decoration-color: #008080\">INFO</span>    | Flow run<span style=\"color: #800080; text-decoration-color: #800080\"> 'independent-jacamar'</span> - Executing 'process_pool_vol-f3874c79-27' immediately...\n",
       "</pre>\n"
      ],
      "text/plain": [
       "17:15:57.414 | \u001b[36mINFO\u001b[0m    | Flow run\u001b[35m 'independent-jacamar'\u001b[0m - Executing 'process_pool_vol-f3874c79-27' immediately...\n"
      ]
     },
     "metadata": {},
     "output_type": "display_data"
    },
    {
     "data": {
      "text/html": [
       "<pre style=\"white-space:pre;overflow-x:auto;line-height:normal;font-family:Menlo,'DejaVu Sans Mono',consolas,'Courier New',monospace\">17:15:57.440 | <span style=\"color: #008080; text-decoration-color: #008080\">INFO</span>    | Task run 'process_pool_vol-f3874c79-27' - Finished in state <span style=\"color: #008000; text-decoration-color: #008000\">Completed</span>()\n",
       "</pre>\n"
      ],
      "text/plain": [
       "17:15:57.440 | \u001b[36mINFO\u001b[0m    | Task run 'process_pool_vol-f3874c79-27' - Finished in state \u001b[32mCompleted\u001b[0m()\n"
      ]
     },
     "metadata": {},
     "output_type": "display_data"
    },
    {
     "data": {
      "text/html": [
       "<pre style=\"white-space:pre;overflow-x:auto;line-height:normal;font-family:Menlo,'DejaVu Sans Mono',consolas,'Courier New',monospace\">17:15:57.450 | <span style=\"color: #008080; text-decoration-color: #008080\">INFO</span>    | Flow run<span style=\"color: #800080; text-decoration-color: #800080\"> 'independent-jacamar'</span> - Created task run 'process_pool_vol-f3874c79-28' for task 'process_pool_vol'\n",
       "</pre>\n"
      ],
      "text/plain": [
       "17:15:57.450 | \u001b[36mINFO\u001b[0m    | Flow run\u001b[35m 'independent-jacamar'\u001b[0m - Created task run 'process_pool_vol-f3874c79-28' for task 'process_pool_vol'\n"
      ]
     },
     "metadata": {},
     "output_type": "display_data"
    },
    {
     "data": {
      "text/html": [
       "<pre style=\"white-space:pre;overflow-x:auto;line-height:normal;font-family:Menlo,'DejaVu Sans Mono',consolas,'Courier New',monospace\">17:15:57.451 | <span style=\"color: #008080; text-decoration-color: #008080\">INFO</span>    | Flow run<span style=\"color: #800080; text-decoration-color: #800080\"> 'independent-jacamar'</span> - Executing 'process_pool_vol-f3874c79-28' immediately...\n",
       "</pre>\n"
      ],
      "text/plain": [
       "17:15:57.451 | \u001b[36mINFO\u001b[0m    | Flow run\u001b[35m 'independent-jacamar'\u001b[0m - Executing 'process_pool_vol-f3874c79-28' immediately...\n"
      ]
     },
     "metadata": {},
     "output_type": "display_data"
    },
    {
     "data": {
      "text/html": [
       "<pre style=\"white-space:pre;overflow-x:auto;line-height:normal;font-family:Menlo,'DejaVu Sans Mono',consolas,'Courier New',monospace\">17:15:57.475 | <span style=\"color: #008080; text-decoration-color: #008080\">INFO</span>    | Task run 'process_pool_vol-f3874c79-28' - Finished in state <span style=\"color: #008000; text-decoration-color: #008000\">Completed</span>()\n",
       "</pre>\n"
      ],
      "text/plain": [
       "17:15:57.475 | \u001b[36mINFO\u001b[0m    | Task run 'process_pool_vol-f3874c79-28' - Finished in state \u001b[32mCompleted\u001b[0m()\n"
      ]
     },
     "metadata": {},
     "output_type": "display_data"
    },
    {
     "data": {
      "text/html": [
       "<pre style=\"white-space:pre;overflow-x:auto;line-height:normal;font-family:Menlo,'DejaVu Sans Mono',consolas,'Courier New',monospace\">17:15:57.487 | <span style=\"color: #008080; text-decoration-color: #008080\">INFO</span>    | Flow run<span style=\"color: #800080; text-decoration-color: #800080\"> 'independent-jacamar'</span> - Created task run 'process_pool_vol-f3874c79-29' for task 'process_pool_vol'\n",
       "</pre>\n"
      ],
      "text/plain": [
       "17:15:57.487 | \u001b[36mINFO\u001b[0m    | Flow run\u001b[35m 'independent-jacamar'\u001b[0m - Created task run 'process_pool_vol-f3874c79-29' for task 'process_pool_vol'\n"
      ]
     },
     "metadata": {},
     "output_type": "display_data"
    },
    {
     "data": {
      "text/html": [
       "<pre style=\"white-space:pre;overflow-x:auto;line-height:normal;font-family:Menlo,'DejaVu Sans Mono',consolas,'Courier New',monospace\">17:15:57.488 | <span style=\"color: #008080; text-decoration-color: #008080\">INFO</span>    | Flow run<span style=\"color: #800080; text-decoration-color: #800080\"> 'independent-jacamar'</span> - Executing 'process_pool_vol-f3874c79-29' immediately...\n",
       "</pre>\n"
      ],
      "text/plain": [
       "17:15:57.488 | \u001b[36mINFO\u001b[0m    | Flow run\u001b[35m 'independent-jacamar'\u001b[0m - Executing 'process_pool_vol-f3874c79-29' immediately...\n"
      ]
     },
     "metadata": {},
     "output_type": "display_data"
    },
    {
     "data": {
      "text/html": [
       "<pre style=\"white-space:pre;overflow-x:auto;line-height:normal;font-family:Menlo,'DejaVu Sans Mono',consolas,'Courier New',monospace\">17:15:57.516 | <span style=\"color: #008080; text-decoration-color: #008080\">INFO</span>    | Task run 'process_pool_vol-f3874c79-29' - Finished in state <span style=\"color: #008000; text-decoration-color: #008000\">Completed</span>()\n",
       "</pre>\n"
      ],
      "text/plain": [
       "17:15:57.516 | \u001b[36mINFO\u001b[0m    | Task run 'process_pool_vol-f3874c79-29' - Finished in state \u001b[32mCompleted\u001b[0m()\n"
      ]
     },
     "metadata": {},
     "output_type": "display_data"
    },
    {
     "data": {
      "text/html": [
       "<pre style=\"white-space:pre;overflow-x:auto;line-height:normal;font-family:Menlo,'DejaVu Sans Mono',consolas,'Courier New',monospace\">17:15:57.526 | <span style=\"color: #008080; text-decoration-color: #008080\">INFO</span>    | Flow run<span style=\"color: #800080; text-decoration-color: #800080\"> 'independent-jacamar'</span> - Created task run 'process_pool_vol-f3874c79-30' for task 'process_pool_vol'\n",
       "</pre>\n"
      ],
      "text/plain": [
       "17:15:57.526 | \u001b[36mINFO\u001b[0m    | Flow run\u001b[35m 'independent-jacamar'\u001b[0m - Created task run 'process_pool_vol-f3874c79-30' for task 'process_pool_vol'\n"
      ]
     },
     "metadata": {},
     "output_type": "display_data"
    },
    {
     "data": {
      "text/html": [
       "<pre style=\"white-space:pre;overflow-x:auto;line-height:normal;font-family:Menlo,'DejaVu Sans Mono',consolas,'Courier New',monospace\">17:15:57.527 | <span style=\"color: #008080; text-decoration-color: #008080\">INFO</span>    | Flow run<span style=\"color: #800080; text-decoration-color: #800080\"> 'independent-jacamar'</span> - Executing 'process_pool_vol-f3874c79-30' immediately...\n",
       "</pre>\n"
      ],
      "text/plain": [
       "17:15:57.527 | \u001b[36mINFO\u001b[0m    | Flow run\u001b[35m 'independent-jacamar'\u001b[0m - Executing 'process_pool_vol-f3874c79-30' immediately...\n"
      ]
     },
     "metadata": {},
     "output_type": "display_data"
    },
    {
     "data": {
      "text/html": [
       "<pre style=\"white-space:pre;overflow-x:auto;line-height:normal;font-family:Menlo,'DejaVu Sans Mono',consolas,'Courier New',monospace\">17:15:57.551 | <span style=\"color: #008080; text-decoration-color: #008080\">INFO</span>    | Task run 'process_pool_vol-f3874c79-30' - Finished in state <span style=\"color: #008000; text-decoration-color: #008000\">Completed</span>()\n",
       "</pre>\n"
      ],
      "text/plain": [
       "17:15:57.551 | \u001b[36mINFO\u001b[0m    | Task run 'process_pool_vol-f3874c79-30' - Finished in state \u001b[32mCompleted\u001b[0m()\n"
      ]
     },
     "metadata": {},
     "output_type": "display_data"
    },
    {
     "data": {
      "text/html": [
       "<pre style=\"white-space:pre;overflow-x:auto;line-height:normal;font-family:Menlo,'DejaVu Sans Mono',consolas,'Courier New',monospace\">17:15:57.561 | <span style=\"color: #008080; text-decoration-color: #008080\">INFO</span>    | Flow run<span style=\"color: #800080; text-decoration-color: #800080\"> 'independent-jacamar'</span> - Created task run 'process_pool_vol-f3874c79-31' for task 'process_pool_vol'\n",
       "</pre>\n"
      ],
      "text/plain": [
       "17:15:57.561 | \u001b[36mINFO\u001b[0m    | Flow run\u001b[35m 'independent-jacamar'\u001b[0m - Created task run 'process_pool_vol-f3874c79-31' for task 'process_pool_vol'\n"
      ]
     },
     "metadata": {},
     "output_type": "display_data"
    },
    {
     "data": {
      "text/html": [
       "<pre style=\"white-space:pre;overflow-x:auto;line-height:normal;font-family:Menlo,'DejaVu Sans Mono',consolas,'Courier New',monospace\">17:15:57.561 | <span style=\"color: #008080; text-decoration-color: #008080\">INFO</span>    | Flow run<span style=\"color: #800080; text-decoration-color: #800080\"> 'independent-jacamar'</span> - Executing 'process_pool_vol-f3874c79-31' immediately...\n",
       "</pre>\n"
      ],
      "text/plain": [
       "17:15:57.561 | \u001b[36mINFO\u001b[0m    | Flow run\u001b[35m 'independent-jacamar'\u001b[0m - Executing 'process_pool_vol-f3874c79-31' immediately...\n"
      ]
     },
     "metadata": {},
     "output_type": "display_data"
    },
    {
     "data": {
      "text/html": [
       "<pre style=\"white-space:pre;overflow-x:auto;line-height:normal;font-family:Menlo,'DejaVu Sans Mono',consolas,'Courier New',monospace\">17:15:57.585 | <span style=\"color: #008080; text-decoration-color: #008080\">INFO</span>    | Task run 'process_pool_vol-f3874c79-31' - Finished in state <span style=\"color: #008000; text-decoration-color: #008000\">Completed</span>()\n",
       "</pre>\n"
      ],
      "text/plain": [
       "17:15:57.585 | \u001b[36mINFO\u001b[0m    | Task run 'process_pool_vol-f3874c79-31' - Finished in state \u001b[32mCompleted\u001b[0m()\n"
      ]
     },
     "metadata": {},
     "output_type": "display_data"
    },
    {
     "data": {
      "text/html": [
       "<pre style=\"white-space:pre;overflow-x:auto;line-height:normal;font-family:Menlo,'DejaVu Sans Mono',consolas,'Courier New',monospace\">17:15:57.594 | <span style=\"color: #008080; text-decoration-color: #008080\">INFO</span>    | Flow run<span style=\"color: #800080; text-decoration-color: #800080\"> 'independent-jacamar'</span> - Created task run 'process_pool_vol-f3874c79-32' for task 'process_pool_vol'\n",
       "</pre>\n"
      ],
      "text/plain": [
       "17:15:57.594 | \u001b[36mINFO\u001b[0m    | Flow run\u001b[35m 'independent-jacamar'\u001b[0m - Created task run 'process_pool_vol-f3874c79-32' for task 'process_pool_vol'\n"
      ]
     },
     "metadata": {},
     "output_type": "display_data"
    },
    {
     "data": {
      "text/html": [
       "<pre style=\"white-space:pre;overflow-x:auto;line-height:normal;font-family:Menlo,'DejaVu Sans Mono',consolas,'Courier New',monospace\">17:15:57.595 | <span style=\"color: #008080; text-decoration-color: #008080\">INFO</span>    | Flow run<span style=\"color: #800080; text-decoration-color: #800080\"> 'independent-jacamar'</span> - Executing 'process_pool_vol-f3874c79-32' immediately...\n",
       "</pre>\n"
      ],
      "text/plain": [
       "17:15:57.595 | \u001b[36mINFO\u001b[0m    | Flow run\u001b[35m 'independent-jacamar'\u001b[0m - Executing 'process_pool_vol-f3874c79-32' immediately...\n"
      ]
     },
     "metadata": {},
     "output_type": "display_data"
    },
    {
     "data": {
      "text/html": [
       "<pre style=\"white-space:pre;overflow-x:auto;line-height:normal;font-family:Menlo,'DejaVu Sans Mono',consolas,'Courier New',monospace\">17:15:57.618 | <span style=\"color: #008080; text-decoration-color: #008080\">INFO</span>    | Task run 'process_pool_vol-f3874c79-32' - Finished in state <span style=\"color: #008000; text-decoration-color: #008000\">Completed</span>()\n",
       "</pre>\n"
      ],
      "text/plain": [
       "17:15:57.618 | \u001b[36mINFO\u001b[0m    | Task run 'process_pool_vol-f3874c79-32' - Finished in state \u001b[32mCompleted\u001b[0m()\n"
      ]
     },
     "metadata": {},
     "output_type": "display_data"
    },
    {
     "data": {
      "text/html": [
       "<pre style=\"white-space:pre;overflow-x:auto;line-height:normal;font-family:Menlo,'DejaVu Sans Mono',consolas,'Courier New',monospace\">17:15:57.628 | <span style=\"color: #008080; text-decoration-color: #008080\">INFO</span>    | Flow run<span style=\"color: #800080; text-decoration-color: #800080\"> 'independent-jacamar'</span> - Created task run 'process_pool_vol-f3874c79-33' for task 'process_pool_vol'\n",
       "</pre>\n"
      ],
      "text/plain": [
       "17:15:57.628 | \u001b[36mINFO\u001b[0m    | Flow run\u001b[35m 'independent-jacamar'\u001b[0m - Created task run 'process_pool_vol-f3874c79-33' for task 'process_pool_vol'\n"
      ]
     },
     "metadata": {},
     "output_type": "display_data"
    },
    {
     "data": {
      "text/html": [
       "<pre style=\"white-space:pre;overflow-x:auto;line-height:normal;font-family:Menlo,'DejaVu Sans Mono',consolas,'Courier New',monospace\">17:15:57.629 | <span style=\"color: #008080; text-decoration-color: #008080\">INFO</span>    | Flow run<span style=\"color: #800080; text-decoration-color: #800080\"> 'independent-jacamar'</span> - Executing 'process_pool_vol-f3874c79-33' immediately...\n",
       "</pre>\n"
      ],
      "text/plain": [
       "17:15:57.629 | \u001b[36mINFO\u001b[0m    | Flow run\u001b[35m 'independent-jacamar'\u001b[0m - Executing 'process_pool_vol-f3874c79-33' immediately...\n"
      ]
     },
     "metadata": {},
     "output_type": "display_data"
    },
    {
     "data": {
      "text/html": [
       "<pre style=\"white-space:pre;overflow-x:auto;line-height:normal;font-family:Menlo,'DejaVu Sans Mono',consolas,'Courier New',monospace\">17:15:57.653 | <span style=\"color: #008080; text-decoration-color: #008080\">INFO</span>    | Task run 'process_pool_vol-f3874c79-33' - Finished in state <span style=\"color: #008000; text-decoration-color: #008000\">Completed</span>()\n",
       "</pre>\n"
      ],
      "text/plain": [
       "17:15:57.653 | \u001b[36mINFO\u001b[0m    | Task run 'process_pool_vol-f3874c79-33' - Finished in state \u001b[32mCompleted\u001b[0m()\n"
      ]
     },
     "metadata": {},
     "output_type": "display_data"
    },
    {
     "data": {
      "text/html": [
       "<pre style=\"white-space:pre;overflow-x:auto;line-height:normal;font-family:Menlo,'DejaVu Sans Mono',consolas,'Courier New',monospace\">17:15:57.662 | <span style=\"color: #008080; text-decoration-color: #008080\">INFO</span>    | Flow run<span style=\"color: #800080; text-decoration-color: #800080\"> 'independent-jacamar'</span> - Created task run 'process_pool_vol-f3874c79-34' for task 'process_pool_vol'\n",
       "</pre>\n"
      ],
      "text/plain": [
       "17:15:57.662 | \u001b[36mINFO\u001b[0m    | Flow run\u001b[35m 'independent-jacamar'\u001b[0m - Created task run 'process_pool_vol-f3874c79-34' for task 'process_pool_vol'\n"
      ]
     },
     "metadata": {},
     "output_type": "display_data"
    },
    {
     "data": {
      "text/html": [
       "<pre style=\"white-space:pre;overflow-x:auto;line-height:normal;font-family:Menlo,'DejaVu Sans Mono',consolas,'Courier New',monospace\">17:15:57.663 | <span style=\"color: #008080; text-decoration-color: #008080\">INFO</span>    | Flow run<span style=\"color: #800080; text-decoration-color: #800080\"> 'independent-jacamar'</span> - Executing 'process_pool_vol-f3874c79-34' immediately...\n",
       "</pre>\n"
      ],
      "text/plain": [
       "17:15:57.663 | \u001b[36mINFO\u001b[0m    | Flow run\u001b[35m 'independent-jacamar'\u001b[0m - Executing 'process_pool_vol-f3874c79-34' immediately...\n"
      ]
     },
     "metadata": {},
     "output_type": "display_data"
    },
    {
     "data": {
      "text/html": [
       "<pre style=\"white-space:pre;overflow-x:auto;line-height:normal;font-family:Menlo,'DejaVu Sans Mono',consolas,'Courier New',monospace\">17:15:57.688 | <span style=\"color: #008080; text-decoration-color: #008080\">INFO</span>    | Task run 'process_pool_vol-f3874c79-34' - Finished in state <span style=\"color: #008000; text-decoration-color: #008000\">Completed</span>()\n",
       "</pre>\n"
      ],
      "text/plain": [
       "17:15:57.688 | \u001b[36mINFO\u001b[0m    | Task run 'process_pool_vol-f3874c79-34' - Finished in state \u001b[32mCompleted\u001b[0m()\n"
      ]
     },
     "metadata": {},
     "output_type": "display_data"
    },
    {
     "data": {
      "text/html": [
       "<pre style=\"white-space:pre;overflow-x:auto;line-height:normal;font-family:Menlo,'DejaVu Sans Mono',consolas,'Courier New',monospace\">17:15:57.700 | <span style=\"color: #008080; text-decoration-color: #008080\">INFO</span>    | Flow run<span style=\"color: #800080; text-decoration-color: #800080\"> 'independent-jacamar'</span> - Created task run 'process_pool_vol-f3874c79-35' for task 'process_pool_vol'\n",
       "</pre>\n"
      ],
      "text/plain": [
       "17:15:57.700 | \u001b[36mINFO\u001b[0m    | Flow run\u001b[35m 'independent-jacamar'\u001b[0m - Created task run 'process_pool_vol-f3874c79-35' for task 'process_pool_vol'\n"
      ]
     },
     "metadata": {},
     "output_type": "display_data"
    },
    {
     "data": {
      "text/html": [
       "<pre style=\"white-space:pre;overflow-x:auto;line-height:normal;font-family:Menlo,'DejaVu Sans Mono',consolas,'Courier New',monospace\">17:15:57.701 | <span style=\"color: #008080; text-decoration-color: #008080\">INFO</span>    | Flow run<span style=\"color: #800080; text-decoration-color: #800080\"> 'independent-jacamar'</span> - Executing 'process_pool_vol-f3874c79-35' immediately...\n",
       "</pre>\n"
      ],
      "text/plain": [
       "17:15:57.701 | \u001b[36mINFO\u001b[0m    | Flow run\u001b[35m 'independent-jacamar'\u001b[0m - Executing 'process_pool_vol-f3874c79-35' immediately...\n"
      ]
     },
     "metadata": {},
     "output_type": "display_data"
    },
    {
     "data": {
      "text/html": [
       "<pre style=\"white-space:pre;overflow-x:auto;line-height:normal;font-family:Menlo,'DejaVu Sans Mono',consolas,'Courier New',monospace\">17:15:57.728 | <span style=\"color: #008080; text-decoration-color: #008080\">INFO</span>    | Task run 'process_pool_vol-f3874c79-35' - Finished in state <span style=\"color: #008000; text-decoration-color: #008000\">Completed</span>()\n",
       "</pre>\n"
      ],
      "text/plain": [
       "17:15:57.728 | \u001b[36mINFO\u001b[0m    | Task run 'process_pool_vol-f3874c79-35' - Finished in state \u001b[32mCompleted\u001b[0m()\n"
      ]
     },
     "metadata": {},
     "output_type": "display_data"
    },
    {
     "data": {
      "text/html": [
       "<pre style=\"white-space:pre;overflow-x:auto;line-height:normal;font-family:Menlo,'DejaVu Sans Mono',consolas,'Courier New',monospace\">17:15:57.739 | <span style=\"color: #008080; text-decoration-color: #008080\">INFO</span>    | Flow run<span style=\"color: #800080; text-decoration-color: #800080\"> 'independent-jacamar'</span> - Created task run 'process_pool_vol-f3874c79-36' for task 'process_pool_vol'\n",
       "</pre>\n"
      ],
      "text/plain": [
       "17:15:57.739 | \u001b[36mINFO\u001b[0m    | Flow run\u001b[35m 'independent-jacamar'\u001b[0m - Created task run 'process_pool_vol-f3874c79-36' for task 'process_pool_vol'\n"
      ]
     },
     "metadata": {},
     "output_type": "display_data"
    },
    {
     "data": {
      "text/html": [
       "<pre style=\"white-space:pre;overflow-x:auto;line-height:normal;font-family:Menlo,'DejaVu Sans Mono',consolas,'Courier New',monospace\">17:15:57.740 | <span style=\"color: #008080; text-decoration-color: #008080\">INFO</span>    | Flow run<span style=\"color: #800080; text-decoration-color: #800080\"> 'independent-jacamar'</span> - Executing 'process_pool_vol-f3874c79-36' immediately...\n",
       "</pre>\n"
      ],
      "text/plain": [
       "17:15:57.740 | \u001b[36mINFO\u001b[0m    | Flow run\u001b[35m 'independent-jacamar'\u001b[0m - Executing 'process_pool_vol-f3874c79-36' immediately...\n"
      ]
     },
     "metadata": {},
     "output_type": "display_data"
    },
    {
     "data": {
      "text/html": [
       "<pre style=\"white-space:pre;overflow-x:auto;line-height:normal;font-family:Menlo,'DejaVu Sans Mono',consolas,'Courier New',monospace\">17:15:57.765 | <span style=\"color: #008080; text-decoration-color: #008080\">INFO</span>    | Task run 'process_pool_vol-f3874c79-36' - Finished in state <span style=\"color: #008000; text-decoration-color: #008000\">Completed</span>()\n",
       "</pre>\n"
      ],
      "text/plain": [
       "17:15:57.765 | \u001b[36mINFO\u001b[0m    | Task run 'process_pool_vol-f3874c79-36' - Finished in state \u001b[32mCompleted\u001b[0m()\n"
      ]
     },
     "metadata": {},
     "output_type": "display_data"
    },
    {
     "data": {
      "text/html": [
       "<pre style=\"white-space:pre;overflow-x:auto;line-height:normal;font-family:Menlo,'DejaVu Sans Mono',consolas,'Courier New',monospace\">17:15:57.775 | <span style=\"color: #008080; text-decoration-color: #008080\">INFO</span>    | Flow run<span style=\"color: #800080; text-decoration-color: #800080\"> 'independent-jacamar'</span> - Created task run 'process_pool_vol-f3874c79-37' for task 'process_pool_vol'\n",
       "</pre>\n"
      ],
      "text/plain": [
       "17:15:57.775 | \u001b[36mINFO\u001b[0m    | Flow run\u001b[35m 'independent-jacamar'\u001b[0m - Created task run 'process_pool_vol-f3874c79-37' for task 'process_pool_vol'\n"
      ]
     },
     "metadata": {},
     "output_type": "display_data"
    },
    {
     "data": {
      "text/html": [
       "<pre style=\"white-space:pre;overflow-x:auto;line-height:normal;font-family:Menlo,'DejaVu Sans Mono',consolas,'Courier New',monospace\">17:15:57.776 | <span style=\"color: #008080; text-decoration-color: #008080\">INFO</span>    | Flow run<span style=\"color: #800080; text-decoration-color: #800080\"> 'independent-jacamar'</span> - Executing 'process_pool_vol-f3874c79-37' immediately...\n",
       "</pre>\n"
      ],
      "text/plain": [
       "17:15:57.776 | \u001b[36mINFO\u001b[0m    | Flow run\u001b[35m 'independent-jacamar'\u001b[0m - Executing 'process_pool_vol-f3874c79-37' immediately...\n"
      ]
     },
     "metadata": {},
     "output_type": "display_data"
    },
    {
     "data": {
      "text/html": [
       "<pre style=\"white-space:pre;overflow-x:auto;line-height:normal;font-family:Menlo,'DejaVu Sans Mono',consolas,'Courier New',monospace\">17:15:57.802 | <span style=\"color: #008080; text-decoration-color: #008080\">INFO</span>    | Task run 'process_pool_vol-f3874c79-37' - Finished in state <span style=\"color: #008000; text-decoration-color: #008000\">Completed</span>()\n",
       "</pre>\n"
      ],
      "text/plain": [
       "17:15:57.802 | \u001b[36mINFO\u001b[0m    | Task run 'process_pool_vol-f3874c79-37' - Finished in state \u001b[32mCompleted\u001b[0m()\n"
      ]
     },
     "metadata": {},
     "output_type": "display_data"
    },
    {
     "data": {
      "text/html": [
       "<pre style=\"white-space:pre;overflow-x:auto;line-height:normal;font-family:Menlo,'DejaVu Sans Mono',consolas,'Courier New',monospace\">17:15:57.812 | <span style=\"color: #008080; text-decoration-color: #008080\">INFO</span>    | Flow run<span style=\"color: #800080; text-decoration-color: #800080\"> 'independent-jacamar'</span> - Created task run 'process_pool_vol-f3874c79-38' for task 'process_pool_vol'\n",
       "</pre>\n"
      ],
      "text/plain": [
       "17:15:57.812 | \u001b[36mINFO\u001b[0m    | Flow run\u001b[35m 'independent-jacamar'\u001b[0m - Created task run 'process_pool_vol-f3874c79-38' for task 'process_pool_vol'\n"
      ]
     },
     "metadata": {},
     "output_type": "display_data"
    },
    {
     "data": {
      "text/html": [
       "<pre style=\"white-space:pre;overflow-x:auto;line-height:normal;font-family:Menlo,'DejaVu Sans Mono',consolas,'Courier New',monospace\">17:15:57.812 | <span style=\"color: #008080; text-decoration-color: #008080\">INFO</span>    | Flow run<span style=\"color: #800080; text-decoration-color: #800080\"> 'independent-jacamar'</span> - Executing 'process_pool_vol-f3874c79-38' immediately...\n",
       "</pre>\n"
      ],
      "text/plain": [
       "17:15:57.812 | \u001b[36mINFO\u001b[0m    | Flow run\u001b[35m 'independent-jacamar'\u001b[0m - Executing 'process_pool_vol-f3874c79-38' immediately...\n"
      ]
     },
     "metadata": {},
     "output_type": "display_data"
    },
    {
     "data": {
      "text/html": [
       "<pre style=\"white-space:pre;overflow-x:auto;line-height:normal;font-family:Menlo,'DejaVu Sans Mono',consolas,'Courier New',monospace\">17:15:57.839 | <span style=\"color: #008080; text-decoration-color: #008080\">INFO</span>    | Task run 'process_pool_vol-f3874c79-38' - Finished in state <span style=\"color: #008000; text-decoration-color: #008000\">Completed</span>()\n",
       "</pre>\n"
      ],
      "text/plain": [
       "17:15:57.839 | \u001b[36mINFO\u001b[0m    | Task run 'process_pool_vol-f3874c79-38' - Finished in state \u001b[32mCompleted\u001b[0m()\n"
      ]
     },
     "metadata": {},
     "output_type": "display_data"
    },
    {
     "data": {
      "text/html": [
       "<pre style=\"white-space:pre;overflow-x:auto;line-height:normal;font-family:Menlo,'DejaVu Sans Mono',consolas,'Courier New',monospace\">17:15:57.850 | <span style=\"color: #008080; text-decoration-color: #008080\">INFO</span>    | Flow run<span style=\"color: #800080; text-decoration-color: #800080\"> 'independent-jacamar'</span> - Created task run 'process_pool_vol-f3874c79-39' for task 'process_pool_vol'\n",
       "</pre>\n"
      ],
      "text/plain": [
       "17:15:57.850 | \u001b[36mINFO\u001b[0m    | Flow run\u001b[35m 'independent-jacamar'\u001b[0m - Created task run 'process_pool_vol-f3874c79-39' for task 'process_pool_vol'\n"
      ]
     },
     "metadata": {},
     "output_type": "display_data"
    },
    {
     "data": {
      "text/html": [
       "<pre style=\"white-space:pre;overflow-x:auto;line-height:normal;font-family:Menlo,'DejaVu Sans Mono',consolas,'Courier New',monospace\">17:15:57.851 | <span style=\"color: #008080; text-decoration-color: #008080\">INFO</span>    | Flow run<span style=\"color: #800080; text-decoration-color: #800080\"> 'independent-jacamar'</span> - Executing 'process_pool_vol-f3874c79-39' immediately...\n",
       "</pre>\n"
      ],
      "text/plain": [
       "17:15:57.851 | \u001b[36mINFO\u001b[0m    | Flow run\u001b[35m 'independent-jacamar'\u001b[0m - Executing 'process_pool_vol-f3874c79-39' immediately...\n"
      ]
     },
     "metadata": {},
     "output_type": "display_data"
    },
    {
     "data": {
      "text/html": [
       "<pre style=\"white-space:pre;overflow-x:auto;line-height:normal;font-family:Menlo,'DejaVu Sans Mono',consolas,'Courier New',monospace\">17:15:57.878 | <span style=\"color: #008080; text-decoration-color: #008080\">INFO</span>    | Task run 'process_pool_vol-f3874c79-39' - Finished in state <span style=\"color: #008000; text-decoration-color: #008000\">Completed</span>()\n",
       "</pre>\n"
      ],
      "text/plain": [
       "17:15:57.878 | \u001b[36mINFO\u001b[0m    | Task run 'process_pool_vol-f3874c79-39' - Finished in state \u001b[32mCompleted\u001b[0m()\n"
      ]
     },
     "metadata": {},
     "output_type": "display_data"
    },
    {
     "data": {
      "text/html": [
       "<pre style=\"white-space:pre;overflow-x:auto;line-height:normal;font-family:Menlo,'DejaVu Sans Mono',consolas,'Courier New',monospace\">17:15:57.888 | <span style=\"color: #008080; text-decoration-color: #008080\">INFO</span>    | Flow run<span style=\"color: #800080; text-decoration-color: #800080\"> 'independent-jacamar'</span> - Created task run 'process_pool_vol-f3874c79-40' for task 'process_pool_vol'\n",
       "</pre>\n"
      ],
      "text/plain": [
       "17:15:57.888 | \u001b[36mINFO\u001b[0m    | Flow run\u001b[35m 'independent-jacamar'\u001b[0m - Created task run 'process_pool_vol-f3874c79-40' for task 'process_pool_vol'\n"
      ]
     },
     "metadata": {},
     "output_type": "display_data"
    },
    {
     "data": {
      "text/html": [
       "<pre style=\"white-space:pre;overflow-x:auto;line-height:normal;font-family:Menlo,'DejaVu Sans Mono',consolas,'Courier New',monospace\">17:15:57.889 | <span style=\"color: #008080; text-decoration-color: #008080\">INFO</span>    | Flow run<span style=\"color: #800080; text-decoration-color: #800080\"> 'independent-jacamar'</span> - Executing 'process_pool_vol-f3874c79-40' immediately...\n",
       "</pre>\n"
      ],
      "text/plain": [
       "17:15:57.889 | \u001b[36mINFO\u001b[0m    | Flow run\u001b[35m 'independent-jacamar'\u001b[0m - Executing 'process_pool_vol-f3874c79-40' immediately...\n"
      ]
     },
     "metadata": {},
     "output_type": "display_data"
    },
    {
     "data": {
      "text/html": [
       "<pre style=\"white-space:pre;overflow-x:auto;line-height:normal;font-family:Menlo,'DejaVu Sans Mono',consolas,'Courier New',monospace\">17:15:57.912 | <span style=\"color: #008080; text-decoration-color: #008080\">INFO</span>    | Task run 'process_pool_vol-f3874c79-40' - Finished in state <span style=\"color: #008000; text-decoration-color: #008000\">Completed</span>()\n",
       "</pre>\n"
      ],
      "text/plain": [
       "17:15:57.912 | \u001b[36mINFO\u001b[0m    | Task run 'process_pool_vol-f3874c79-40' - Finished in state \u001b[32mCompleted\u001b[0m()\n"
      ]
     },
     "metadata": {},
     "output_type": "display_data"
    },
    {
     "data": {
      "text/html": [
       "<pre style=\"white-space:pre;overflow-x:auto;line-height:normal;font-family:Menlo,'DejaVu Sans Mono',consolas,'Courier New',monospace\">17:15:57.921 | <span style=\"color: #008080; text-decoration-color: #008080\">INFO</span>    | Flow run<span style=\"color: #800080; text-decoration-color: #800080\"> 'independent-jacamar'</span> - Created task run 'process_pool_vol-f3874c79-41' for task 'process_pool_vol'\n",
       "</pre>\n"
      ],
      "text/plain": [
       "17:15:57.921 | \u001b[36mINFO\u001b[0m    | Flow run\u001b[35m 'independent-jacamar'\u001b[0m - Created task run 'process_pool_vol-f3874c79-41' for task 'process_pool_vol'\n"
      ]
     },
     "metadata": {},
     "output_type": "display_data"
    },
    {
     "data": {
      "text/html": [
       "<pre style=\"white-space:pre;overflow-x:auto;line-height:normal;font-family:Menlo,'DejaVu Sans Mono',consolas,'Courier New',monospace\">17:15:57.922 | <span style=\"color: #008080; text-decoration-color: #008080\">INFO</span>    | Flow run<span style=\"color: #800080; text-decoration-color: #800080\"> 'independent-jacamar'</span> - Executing 'process_pool_vol-f3874c79-41' immediately...\n",
       "</pre>\n"
      ],
      "text/plain": [
       "17:15:57.922 | \u001b[36mINFO\u001b[0m    | Flow run\u001b[35m 'independent-jacamar'\u001b[0m - Executing 'process_pool_vol-f3874c79-41' immediately...\n"
      ]
     },
     "metadata": {},
     "output_type": "display_data"
    },
    {
     "data": {
      "text/html": [
       "<pre style=\"white-space:pre;overflow-x:auto;line-height:normal;font-family:Menlo,'DejaVu Sans Mono',consolas,'Courier New',monospace\">17:15:57.944 | <span style=\"color: #008080; text-decoration-color: #008080\">INFO</span>    | Task run 'process_pool_vol-f3874c79-41' - Finished in state <span style=\"color: #008000; text-decoration-color: #008000\">Completed</span>()\n",
       "</pre>\n"
      ],
      "text/plain": [
       "17:15:57.944 | \u001b[36mINFO\u001b[0m    | Task run 'process_pool_vol-f3874c79-41' - Finished in state \u001b[32mCompleted\u001b[0m()\n"
      ]
     },
     "metadata": {},
     "output_type": "display_data"
    },
    {
     "data": {
      "text/html": [
       "<pre style=\"white-space:pre;overflow-x:auto;line-height:normal;font-family:Menlo,'DejaVu Sans Mono',consolas,'Courier New',monospace\">17:15:57.954 | <span style=\"color: #008080; text-decoration-color: #008080\">INFO</span>    | Flow run<span style=\"color: #800080; text-decoration-color: #800080\"> 'independent-jacamar'</span> - Created task run 'process_pool_vol-f3874c79-42' for task 'process_pool_vol'\n",
       "</pre>\n"
      ],
      "text/plain": [
       "17:15:57.954 | \u001b[36mINFO\u001b[0m    | Flow run\u001b[35m 'independent-jacamar'\u001b[0m - Created task run 'process_pool_vol-f3874c79-42' for task 'process_pool_vol'\n"
      ]
     },
     "metadata": {},
     "output_type": "display_data"
    },
    {
     "data": {
      "text/html": [
       "<pre style=\"white-space:pre;overflow-x:auto;line-height:normal;font-family:Menlo,'DejaVu Sans Mono',consolas,'Courier New',monospace\">17:15:57.955 | <span style=\"color: #008080; text-decoration-color: #008080\">INFO</span>    | Flow run<span style=\"color: #800080; text-decoration-color: #800080\"> 'independent-jacamar'</span> - Executing 'process_pool_vol-f3874c79-42' immediately...\n",
       "</pre>\n"
      ],
      "text/plain": [
       "17:15:57.955 | \u001b[36mINFO\u001b[0m    | Flow run\u001b[35m 'independent-jacamar'\u001b[0m - Executing 'process_pool_vol-f3874c79-42' immediately...\n"
      ]
     },
     "metadata": {},
     "output_type": "display_data"
    },
    {
     "data": {
      "text/html": [
       "<pre style=\"white-space:pre;overflow-x:auto;line-height:normal;font-family:Menlo,'DejaVu Sans Mono',consolas,'Courier New',monospace\">17:15:57.978 | <span style=\"color: #008080; text-decoration-color: #008080\">INFO</span>    | Task run 'process_pool_vol-f3874c79-42' - Finished in state <span style=\"color: #008000; text-decoration-color: #008000\">Completed</span>()\n",
       "</pre>\n"
      ],
      "text/plain": [
       "17:15:57.978 | \u001b[36mINFO\u001b[0m    | Task run 'process_pool_vol-f3874c79-42' - Finished in state \u001b[32mCompleted\u001b[0m()\n"
      ]
     },
     "metadata": {},
     "output_type": "display_data"
    },
    {
     "data": {
      "text/html": [
       "<pre style=\"white-space:pre;overflow-x:auto;line-height:normal;font-family:Menlo,'DejaVu Sans Mono',consolas,'Courier New',monospace\">17:15:57.988 | <span style=\"color: #008080; text-decoration-color: #008080\">INFO</span>    | Flow run<span style=\"color: #800080; text-decoration-color: #800080\"> 'independent-jacamar'</span> - Created task run 'process_pool_vol-f3874c79-43' for task 'process_pool_vol'\n",
       "</pre>\n"
      ],
      "text/plain": [
       "17:15:57.988 | \u001b[36mINFO\u001b[0m    | Flow run\u001b[35m 'independent-jacamar'\u001b[0m - Created task run 'process_pool_vol-f3874c79-43' for task 'process_pool_vol'\n"
      ]
     },
     "metadata": {},
     "output_type": "display_data"
    },
    {
     "data": {
      "text/html": [
       "<pre style=\"white-space:pre;overflow-x:auto;line-height:normal;font-family:Menlo,'DejaVu Sans Mono',consolas,'Courier New',monospace\">17:15:57.989 | <span style=\"color: #008080; text-decoration-color: #008080\">INFO</span>    | Flow run<span style=\"color: #800080; text-decoration-color: #800080\"> 'independent-jacamar'</span> - Executing 'process_pool_vol-f3874c79-43' immediately...\n",
       "</pre>\n"
      ],
      "text/plain": [
       "17:15:57.989 | \u001b[36mINFO\u001b[0m    | Flow run\u001b[35m 'independent-jacamar'\u001b[0m - Executing 'process_pool_vol-f3874c79-43' immediately...\n"
      ]
     },
     "metadata": {},
     "output_type": "display_data"
    },
    {
     "data": {
      "text/html": [
       "<pre style=\"white-space:pre;overflow-x:auto;line-height:normal;font-family:Menlo,'DejaVu Sans Mono',consolas,'Courier New',monospace\">17:15:58.014 | <span style=\"color: #008080; text-decoration-color: #008080\">INFO</span>    | Task run 'process_pool_vol-f3874c79-43' - Finished in state <span style=\"color: #008000; text-decoration-color: #008000\">Completed</span>()\n",
       "</pre>\n"
      ],
      "text/plain": [
       "17:15:58.014 | \u001b[36mINFO\u001b[0m    | Task run 'process_pool_vol-f3874c79-43' - Finished in state \u001b[32mCompleted\u001b[0m()\n"
      ]
     },
     "metadata": {},
     "output_type": "display_data"
    },
    {
     "data": {
      "text/html": [
       "<pre style=\"white-space:pre;overflow-x:auto;line-height:normal;font-family:Menlo,'DejaVu Sans Mono',consolas,'Courier New',monospace\">17:15:58.024 | <span style=\"color: #008080; text-decoration-color: #008080\">INFO</span>    | Flow run<span style=\"color: #800080; text-decoration-color: #800080\"> 'independent-jacamar'</span> - Created task run 'process_pool_vol-f3874c79-44' for task 'process_pool_vol'\n",
       "</pre>\n"
      ],
      "text/plain": [
       "17:15:58.024 | \u001b[36mINFO\u001b[0m    | Flow run\u001b[35m 'independent-jacamar'\u001b[0m - Created task run 'process_pool_vol-f3874c79-44' for task 'process_pool_vol'\n"
      ]
     },
     "metadata": {},
     "output_type": "display_data"
    },
    {
     "data": {
      "text/html": [
       "<pre style=\"white-space:pre;overflow-x:auto;line-height:normal;font-family:Menlo,'DejaVu Sans Mono',consolas,'Courier New',monospace\">17:15:58.025 | <span style=\"color: #008080; text-decoration-color: #008080\">INFO</span>    | Flow run<span style=\"color: #800080; text-decoration-color: #800080\"> 'independent-jacamar'</span> - Executing 'process_pool_vol-f3874c79-44' immediately...\n",
       "</pre>\n"
      ],
      "text/plain": [
       "17:15:58.025 | \u001b[36mINFO\u001b[0m    | Flow run\u001b[35m 'independent-jacamar'\u001b[0m - Executing 'process_pool_vol-f3874c79-44' immediately...\n"
      ]
     },
     "metadata": {},
     "output_type": "display_data"
    },
    {
     "data": {
      "text/html": [
       "<pre style=\"white-space:pre;overflow-x:auto;line-height:normal;font-family:Menlo,'DejaVu Sans Mono',consolas,'Courier New',monospace\">17:15:58.049 | <span style=\"color: #008080; text-decoration-color: #008080\">INFO</span>    | Task run 'process_pool_vol-f3874c79-44' - Finished in state <span style=\"color: #008000; text-decoration-color: #008000\">Completed</span>()\n",
       "</pre>\n"
      ],
      "text/plain": [
       "17:15:58.049 | \u001b[36mINFO\u001b[0m    | Task run 'process_pool_vol-f3874c79-44' - Finished in state \u001b[32mCompleted\u001b[0m()\n"
      ]
     },
     "metadata": {},
     "output_type": "display_data"
    },
    {
     "data": {
      "text/html": [
       "<pre style=\"white-space:pre;overflow-x:auto;line-height:normal;font-family:Menlo,'DejaVu Sans Mono',consolas,'Courier New',monospace\">17:15:58.059 | <span style=\"color: #008080; text-decoration-color: #008080\">INFO</span>    | Flow run<span style=\"color: #800080; text-decoration-color: #800080\"> 'independent-jacamar'</span> - Created task run 'process_pool_vol-f3874c79-45' for task 'process_pool_vol'\n",
       "</pre>\n"
      ],
      "text/plain": [
       "17:15:58.059 | \u001b[36mINFO\u001b[0m    | Flow run\u001b[35m 'independent-jacamar'\u001b[0m - Created task run 'process_pool_vol-f3874c79-45' for task 'process_pool_vol'\n"
      ]
     },
     "metadata": {},
     "output_type": "display_data"
    },
    {
     "data": {
      "text/html": [
       "<pre style=\"white-space:pre;overflow-x:auto;line-height:normal;font-family:Menlo,'DejaVu Sans Mono',consolas,'Courier New',monospace\">17:15:58.059 | <span style=\"color: #008080; text-decoration-color: #008080\">INFO</span>    | Flow run<span style=\"color: #800080; text-decoration-color: #800080\"> 'independent-jacamar'</span> - Executing 'process_pool_vol-f3874c79-45' immediately...\n",
       "</pre>\n"
      ],
      "text/plain": [
       "17:15:58.059 | \u001b[36mINFO\u001b[0m    | Flow run\u001b[35m 'independent-jacamar'\u001b[0m - Executing 'process_pool_vol-f3874c79-45' immediately...\n"
      ]
     },
     "metadata": {},
     "output_type": "display_data"
    },
    {
     "data": {
      "text/html": [
       "<pre style=\"white-space:pre;overflow-x:auto;line-height:normal;font-family:Menlo,'DejaVu Sans Mono',consolas,'Courier New',monospace\">17:15:58.082 | <span style=\"color: #008080; text-decoration-color: #008080\">INFO</span>    | Task run 'process_pool_vol-f3874c79-45' - Finished in state <span style=\"color: #008000; text-decoration-color: #008000\">Completed</span>()\n",
       "</pre>\n"
      ],
      "text/plain": [
       "17:15:58.082 | \u001b[36mINFO\u001b[0m    | Task run 'process_pool_vol-f3874c79-45' - Finished in state \u001b[32mCompleted\u001b[0m()\n"
      ]
     },
     "metadata": {},
     "output_type": "display_data"
    },
    {
     "data": {
      "text/html": [
       "<pre style=\"white-space:pre;overflow-x:auto;line-height:normal;font-family:Menlo,'DejaVu Sans Mono',consolas,'Courier New',monospace\">17:15:58.092 | <span style=\"color: #008080; text-decoration-color: #008080\">INFO</span>    | Flow run<span style=\"color: #800080; text-decoration-color: #800080\"> 'independent-jacamar'</span> - Created task run 'process_pool_vol-f3874c79-46' for task 'process_pool_vol'\n",
       "</pre>\n"
      ],
      "text/plain": [
       "17:15:58.092 | \u001b[36mINFO\u001b[0m    | Flow run\u001b[35m 'independent-jacamar'\u001b[0m - Created task run 'process_pool_vol-f3874c79-46' for task 'process_pool_vol'\n"
      ]
     },
     "metadata": {},
     "output_type": "display_data"
    },
    {
     "data": {
      "text/html": [
       "<pre style=\"white-space:pre;overflow-x:auto;line-height:normal;font-family:Menlo,'DejaVu Sans Mono',consolas,'Courier New',monospace\">17:15:58.093 | <span style=\"color: #008080; text-decoration-color: #008080\">INFO</span>    | Flow run<span style=\"color: #800080; text-decoration-color: #800080\"> 'independent-jacamar'</span> - Executing 'process_pool_vol-f3874c79-46' immediately...\n",
       "</pre>\n"
      ],
      "text/plain": [
       "17:15:58.093 | \u001b[36mINFO\u001b[0m    | Flow run\u001b[35m 'independent-jacamar'\u001b[0m - Executing 'process_pool_vol-f3874c79-46' immediately...\n"
      ]
     },
     "metadata": {},
     "output_type": "display_data"
    },
    {
     "data": {
      "text/html": [
       "<pre style=\"white-space:pre;overflow-x:auto;line-height:normal;font-family:Menlo,'DejaVu Sans Mono',consolas,'Courier New',monospace\">17:15:58.116 | <span style=\"color: #008080; text-decoration-color: #008080\">INFO</span>    | Task run 'process_pool_vol-f3874c79-46' - Finished in state <span style=\"color: #008000; text-decoration-color: #008000\">Completed</span>()\n",
       "</pre>\n"
      ],
      "text/plain": [
       "17:15:58.116 | \u001b[36mINFO\u001b[0m    | Task run 'process_pool_vol-f3874c79-46' - Finished in state \u001b[32mCompleted\u001b[0m()\n"
      ]
     },
     "metadata": {},
     "output_type": "display_data"
    },
    {
     "data": {
      "text/html": [
       "<pre style=\"white-space:pre;overflow-x:auto;line-height:normal;font-family:Menlo,'DejaVu Sans Mono',consolas,'Courier New',monospace\">17:15:58.126 | <span style=\"color: #008080; text-decoration-color: #008080\">INFO</span>    | Flow run<span style=\"color: #800080; text-decoration-color: #800080\"> 'independent-jacamar'</span> - Created task run 'process_pool_vol-f3874c79-47' for task 'process_pool_vol'\n",
       "</pre>\n"
      ],
      "text/plain": [
       "17:15:58.126 | \u001b[36mINFO\u001b[0m    | Flow run\u001b[35m 'independent-jacamar'\u001b[0m - Created task run 'process_pool_vol-f3874c79-47' for task 'process_pool_vol'\n"
      ]
     },
     "metadata": {},
     "output_type": "display_data"
    },
    {
     "data": {
      "text/html": [
       "<pre style=\"white-space:pre;overflow-x:auto;line-height:normal;font-family:Menlo,'DejaVu Sans Mono',consolas,'Courier New',monospace\">17:15:58.126 | <span style=\"color: #008080; text-decoration-color: #008080\">INFO</span>    | Flow run<span style=\"color: #800080; text-decoration-color: #800080\"> 'independent-jacamar'</span> - Executing 'process_pool_vol-f3874c79-47' immediately...\n",
       "</pre>\n"
      ],
      "text/plain": [
       "17:15:58.126 | \u001b[36mINFO\u001b[0m    | Flow run\u001b[35m 'independent-jacamar'\u001b[0m - Executing 'process_pool_vol-f3874c79-47' immediately...\n"
      ]
     },
     "metadata": {},
     "output_type": "display_data"
    },
    {
     "data": {
      "text/html": [
       "<pre style=\"white-space:pre;overflow-x:auto;line-height:normal;font-family:Menlo,'DejaVu Sans Mono',consolas,'Courier New',monospace\">17:15:58.149 | <span style=\"color: #008080; text-decoration-color: #008080\">INFO</span>    | Task run 'process_pool_vol-f3874c79-47' - Finished in state <span style=\"color: #008000; text-decoration-color: #008000\">Completed</span>()\n",
       "</pre>\n"
      ],
      "text/plain": [
       "17:15:58.149 | \u001b[36mINFO\u001b[0m    | Task run 'process_pool_vol-f3874c79-47' - Finished in state \u001b[32mCompleted\u001b[0m()\n"
      ]
     },
     "metadata": {},
     "output_type": "display_data"
    },
    {
     "data": {
      "text/html": [
       "<pre style=\"white-space:pre;overflow-x:auto;line-height:normal;font-family:Menlo,'DejaVu Sans Mono',consolas,'Courier New',monospace\">17:15:58.158 | <span style=\"color: #008080; text-decoration-color: #008080\">INFO</span>    | Flow run<span style=\"color: #800080; text-decoration-color: #800080\"> 'independent-jacamar'</span> - Created task run 'process_pool_vol-f3874c79-48' for task 'process_pool_vol'\n",
       "</pre>\n"
      ],
      "text/plain": [
       "17:15:58.158 | \u001b[36mINFO\u001b[0m    | Flow run\u001b[35m 'independent-jacamar'\u001b[0m - Created task run 'process_pool_vol-f3874c79-48' for task 'process_pool_vol'\n"
      ]
     },
     "metadata": {},
     "output_type": "display_data"
    },
    {
     "data": {
      "text/html": [
       "<pre style=\"white-space:pre;overflow-x:auto;line-height:normal;font-family:Menlo,'DejaVu Sans Mono',consolas,'Courier New',monospace\">17:15:58.159 | <span style=\"color: #008080; text-decoration-color: #008080\">INFO</span>    | Flow run<span style=\"color: #800080; text-decoration-color: #800080\"> 'independent-jacamar'</span> - Executing 'process_pool_vol-f3874c79-48' immediately...\n",
       "</pre>\n"
      ],
      "text/plain": [
       "17:15:58.159 | \u001b[36mINFO\u001b[0m    | Flow run\u001b[35m 'independent-jacamar'\u001b[0m - Executing 'process_pool_vol-f3874c79-48' immediately...\n"
      ]
     },
     "metadata": {},
     "output_type": "display_data"
    },
    {
     "data": {
      "text/html": [
       "<pre style=\"white-space:pre;overflow-x:auto;line-height:normal;font-family:Menlo,'DejaVu Sans Mono',consolas,'Courier New',monospace\">17:15:58.181 | <span style=\"color: #008080; text-decoration-color: #008080\">INFO</span>    | Task run 'process_pool_vol-f3874c79-48' - Finished in state <span style=\"color: #008000; text-decoration-color: #008000\">Completed</span>()\n",
       "</pre>\n"
      ],
      "text/plain": [
       "17:15:58.181 | \u001b[36mINFO\u001b[0m    | Task run 'process_pool_vol-f3874c79-48' - Finished in state \u001b[32mCompleted\u001b[0m()\n"
      ]
     },
     "metadata": {},
     "output_type": "display_data"
    },
    {
     "data": {
      "text/html": [
       "<pre style=\"white-space:pre;overflow-x:auto;line-height:normal;font-family:Menlo,'DejaVu Sans Mono',consolas,'Courier New',monospace\">17:15:58.191 | <span style=\"color: #008080; text-decoration-color: #008080\">INFO</span>    | Flow run<span style=\"color: #800080; text-decoration-color: #800080\"> 'independent-jacamar'</span> - Created task run 'process_pool_vol-f3874c79-49' for task 'process_pool_vol'\n",
       "</pre>\n"
      ],
      "text/plain": [
       "17:15:58.191 | \u001b[36mINFO\u001b[0m    | Flow run\u001b[35m 'independent-jacamar'\u001b[0m - Created task run 'process_pool_vol-f3874c79-49' for task 'process_pool_vol'\n"
      ]
     },
     "metadata": {},
     "output_type": "display_data"
    },
    {
     "data": {
      "text/html": [
       "<pre style=\"white-space:pre;overflow-x:auto;line-height:normal;font-family:Menlo,'DejaVu Sans Mono',consolas,'Courier New',monospace\">17:15:58.192 | <span style=\"color: #008080; text-decoration-color: #008080\">INFO</span>    | Flow run<span style=\"color: #800080; text-decoration-color: #800080\"> 'independent-jacamar'</span> - Executing 'process_pool_vol-f3874c79-49' immediately...\n",
       "</pre>\n"
      ],
      "text/plain": [
       "17:15:58.192 | \u001b[36mINFO\u001b[0m    | Flow run\u001b[35m 'independent-jacamar'\u001b[0m - Executing 'process_pool_vol-f3874c79-49' immediately...\n"
      ]
     },
     "metadata": {},
     "output_type": "display_data"
    },
    {
     "data": {
      "text/html": [
       "<pre style=\"white-space:pre;overflow-x:auto;line-height:normal;font-family:Menlo,'DejaVu Sans Mono',consolas,'Courier New',monospace\">17:15:58.215 | <span style=\"color: #008080; text-decoration-color: #008080\">INFO</span>    | Task run 'process_pool_vol-f3874c79-49' - Finished in state <span style=\"color: #008000; text-decoration-color: #008000\">Completed</span>()\n",
       "</pre>\n"
      ],
      "text/plain": [
       "17:15:58.215 | \u001b[36mINFO\u001b[0m    | Task run 'process_pool_vol-f3874c79-49' - Finished in state \u001b[32mCompleted\u001b[0m()\n"
      ]
     },
     "metadata": {},
     "output_type": "display_data"
    },
    {
     "data": {
      "text/html": [
       "<pre style=\"white-space:pre;overflow-x:auto;line-height:normal;font-family:Menlo,'DejaVu Sans Mono',consolas,'Courier New',monospace\">17:15:58.225 | <span style=\"color: #008080; text-decoration-color: #008080\">INFO</span>    | Flow run<span style=\"color: #800080; text-decoration-color: #800080\"> 'independent-jacamar'</span> - Created task run 'process_pool_vol-f3874c79-50' for task 'process_pool_vol'\n",
       "</pre>\n"
      ],
      "text/plain": [
       "17:15:58.225 | \u001b[36mINFO\u001b[0m    | Flow run\u001b[35m 'independent-jacamar'\u001b[0m - Created task run 'process_pool_vol-f3874c79-50' for task 'process_pool_vol'\n"
      ]
     },
     "metadata": {},
     "output_type": "display_data"
    },
    {
     "data": {
      "text/html": [
       "<pre style=\"white-space:pre;overflow-x:auto;line-height:normal;font-family:Menlo,'DejaVu Sans Mono',consolas,'Courier New',monospace\">17:15:58.226 | <span style=\"color: #008080; text-decoration-color: #008080\">INFO</span>    | Flow run<span style=\"color: #800080; text-decoration-color: #800080\"> 'independent-jacamar'</span> - Executing 'process_pool_vol-f3874c79-50' immediately...\n",
       "</pre>\n"
      ],
      "text/plain": [
       "17:15:58.226 | \u001b[36mINFO\u001b[0m    | Flow run\u001b[35m 'independent-jacamar'\u001b[0m - Executing 'process_pool_vol-f3874c79-50' immediately...\n"
      ]
     },
     "metadata": {},
     "output_type": "display_data"
    },
    {
     "data": {
      "text/html": [
       "<pre style=\"white-space:pre;overflow-x:auto;line-height:normal;font-family:Menlo,'DejaVu Sans Mono',consolas,'Courier New',monospace\">17:15:58.250 | <span style=\"color: #008080; text-decoration-color: #008080\">INFO</span>    | Task run 'process_pool_vol-f3874c79-50' - Finished in state <span style=\"color: #008000; text-decoration-color: #008000\">Completed</span>()\n",
       "</pre>\n"
      ],
      "text/plain": [
       "17:15:58.250 | \u001b[36mINFO\u001b[0m    | Task run 'process_pool_vol-f3874c79-50' - Finished in state \u001b[32mCompleted\u001b[0m()\n"
      ]
     },
     "metadata": {},
     "output_type": "display_data"
    },
    {
     "data": {
      "text/html": [
       "<pre style=\"white-space:pre;overflow-x:auto;line-height:normal;font-family:Menlo,'DejaVu Sans Mono',consolas,'Courier New',monospace\">17:15:58.260 | <span style=\"color: #008080; text-decoration-color: #008080\">INFO</span>    | Flow run<span style=\"color: #800080; text-decoration-color: #800080\"> 'independent-jacamar'</span> - Created task run 'process_pool_vol-f3874c79-51' for task 'process_pool_vol'\n",
       "</pre>\n"
      ],
      "text/plain": [
       "17:15:58.260 | \u001b[36mINFO\u001b[0m    | Flow run\u001b[35m 'independent-jacamar'\u001b[0m - Created task run 'process_pool_vol-f3874c79-51' for task 'process_pool_vol'\n"
      ]
     },
     "metadata": {},
     "output_type": "display_data"
    },
    {
     "data": {
      "text/html": [
       "<pre style=\"white-space:pre;overflow-x:auto;line-height:normal;font-family:Menlo,'DejaVu Sans Mono',consolas,'Courier New',monospace\">17:15:58.261 | <span style=\"color: #008080; text-decoration-color: #008080\">INFO</span>    | Flow run<span style=\"color: #800080; text-decoration-color: #800080\"> 'independent-jacamar'</span> - Executing 'process_pool_vol-f3874c79-51' immediately...\n",
       "</pre>\n"
      ],
      "text/plain": [
       "17:15:58.261 | \u001b[36mINFO\u001b[0m    | Flow run\u001b[35m 'independent-jacamar'\u001b[0m - Executing 'process_pool_vol-f3874c79-51' immediately...\n"
      ]
     },
     "metadata": {},
     "output_type": "display_data"
    },
    {
     "data": {
      "text/html": [
       "<pre style=\"white-space:pre;overflow-x:auto;line-height:normal;font-family:Menlo,'DejaVu Sans Mono',consolas,'Courier New',monospace\">17:15:58.284 | <span style=\"color: #008080; text-decoration-color: #008080\">INFO</span>    | Task run 'process_pool_vol-f3874c79-51' - Finished in state <span style=\"color: #008000; text-decoration-color: #008000\">Completed</span>()\n",
       "</pre>\n"
      ],
      "text/plain": [
       "17:15:58.284 | \u001b[36mINFO\u001b[0m    | Task run 'process_pool_vol-f3874c79-51' - Finished in state \u001b[32mCompleted\u001b[0m()\n"
      ]
     },
     "metadata": {},
     "output_type": "display_data"
    },
    {
     "data": {
      "text/html": [
       "<pre style=\"white-space:pre;overflow-x:auto;line-height:normal;font-family:Menlo,'DejaVu Sans Mono',consolas,'Courier New',monospace\">17:15:58.293 | <span style=\"color: #008080; text-decoration-color: #008080\">INFO</span>    | Flow run<span style=\"color: #800080; text-decoration-color: #800080\"> 'independent-jacamar'</span> - Created task run 'process_pool_vol-f3874c79-52' for task 'process_pool_vol'\n",
       "</pre>\n"
      ],
      "text/plain": [
       "17:15:58.293 | \u001b[36mINFO\u001b[0m    | Flow run\u001b[35m 'independent-jacamar'\u001b[0m - Created task run 'process_pool_vol-f3874c79-52' for task 'process_pool_vol'\n"
      ]
     },
     "metadata": {},
     "output_type": "display_data"
    },
    {
     "data": {
      "text/html": [
       "<pre style=\"white-space:pre;overflow-x:auto;line-height:normal;font-family:Menlo,'DejaVu Sans Mono',consolas,'Courier New',monospace\">17:15:58.294 | <span style=\"color: #008080; text-decoration-color: #008080\">INFO</span>    | Flow run<span style=\"color: #800080; text-decoration-color: #800080\"> 'independent-jacamar'</span> - Executing 'process_pool_vol-f3874c79-52' immediately...\n",
       "</pre>\n"
      ],
      "text/plain": [
       "17:15:58.294 | \u001b[36mINFO\u001b[0m    | Flow run\u001b[35m 'independent-jacamar'\u001b[0m - Executing 'process_pool_vol-f3874c79-52' immediately...\n"
      ]
     },
     "metadata": {},
     "output_type": "display_data"
    },
    {
     "data": {
      "text/html": [
       "<pre style=\"white-space:pre;overflow-x:auto;line-height:normal;font-family:Menlo,'DejaVu Sans Mono',consolas,'Courier New',monospace\">17:15:58.317 | <span style=\"color: #008080; text-decoration-color: #008080\">INFO</span>    | Task run 'process_pool_vol-f3874c79-52' - Finished in state <span style=\"color: #008000; text-decoration-color: #008000\">Completed</span>()\n",
       "</pre>\n"
      ],
      "text/plain": [
       "17:15:58.317 | \u001b[36mINFO\u001b[0m    | Task run 'process_pool_vol-f3874c79-52' - Finished in state \u001b[32mCompleted\u001b[0m()\n"
      ]
     },
     "metadata": {},
     "output_type": "display_data"
    },
    {
     "data": {
      "text/html": [
       "<pre style=\"white-space:pre;overflow-x:auto;line-height:normal;font-family:Menlo,'DejaVu Sans Mono',consolas,'Courier New',monospace\">17:15:58.327 | <span style=\"color: #008080; text-decoration-color: #008080\">INFO</span>    | Flow run<span style=\"color: #800080; text-decoration-color: #800080\"> 'independent-jacamar'</span> - Created task run 'process_pool_vol-f3874c79-53' for task 'process_pool_vol'\n",
       "</pre>\n"
      ],
      "text/plain": [
       "17:15:58.327 | \u001b[36mINFO\u001b[0m    | Flow run\u001b[35m 'independent-jacamar'\u001b[0m - Created task run 'process_pool_vol-f3874c79-53' for task 'process_pool_vol'\n"
      ]
     },
     "metadata": {},
     "output_type": "display_data"
    },
    {
     "data": {
      "text/html": [
       "<pre style=\"white-space:pre;overflow-x:auto;line-height:normal;font-family:Menlo,'DejaVu Sans Mono',consolas,'Courier New',monospace\">17:15:58.328 | <span style=\"color: #008080; text-decoration-color: #008080\">INFO</span>    | Flow run<span style=\"color: #800080; text-decoration-color: #800080\"> 'independent-jacamar'</span> - Executing 'process_pool_vol-f3874c79-53' immediately...\n",
       "</pre>\n"
      ],
      "text/plain": [
       "17:15:58.328 | \u001b[36mINFO\u001b[0m    | Flow run\u001b[35m 'independent-jacamar'\u001b[0m - Executing 'process_pool_vol-f3874c79-53' immediately...\n"
      ]
     },
     "metadata": {},
     "output_type": "display_data"
    },
    {
     "data": {
      "text/html": [
       "<pre style=\"white-space:pre;overflow-x:auto;line-height:normal;font-family:Menlo,'DejaVu Sans Mono',consolas,'Courier New',monospace\">17:15:58.351 | <span style=\"color: #008080; text-decoration-color: #008080\">INFO</span>    | Task run 'process_pool_vol-f3874c79-53' - Finished in state <span style=\"color: #008000; text-decoration-color: #008000\">Completed</span>()\n",
       "</pre>\n"
      ],
      "text/plain": [
       "17:15:58.351 | \u001b[36mINFO\u001b[0m    | Task run 'process_pool_vol-f3874c79-53' - Finished in state \u001b[32mCompleted\u001b[0m()\n"
      ]
     },
     "metadata": {},
     "output_type": "display_data"
    },
    {
     "data": {
      "text/html": [
       "<pre style=\"white-space:pre;overflow-x:auto;line-height:normal;font-family:Menlo,'DejaVu Sans Mono',consolas,'Courier New',monospace\">17:15:58.361 | <span style=\"color: #008080; text-decoration-color: #008080\">INFO</span>    | Flow run<span style=\"color: #800080; text-decoration-color: #800080\"> 'independent-jacamar'</span> - Created task run 'process_pool_vol-f3874c79-54' for task 'process_pool_vol'\n",
       "</pre>\n"
      ],
      "text/plain": [
       "17:15:58.361 | \u001b[36mINFO\u001b[0m    | Flow run\u001b[35m 'independent-jacamar'\u001b[0m - Created task run 'process_pool_vol-f3874c79-54' for task 'process_pool_vol'\n"
      ]
     },
     "metadata": {},
     "output_type": "display_data"
    },
    {
     "data": {
      "text/html": [
       "<pre style=\"white-space:pre;overflow-x:auto;line-height:normal;font-family:Menlo,'DejaVu Sans Mono',consolas,'Courier New',monospace\">17:15:58.361 | <span style=\"color: #008080; text-decoration-color: #008080\">INFO</span>    | Flow run<span style=\"color: #800080; text-decoration-color: #800080\"> 'independent-jacamar'</span> - Executing 'process_pool_vol-f3874c79-54' immediately...\n",
       "</pre>\n"
      ],
      "text/plain": [
       "17:15:58.361 | \u001b[36mINFO\u001b[0m    | Flow run\u001b[35m 'independent-jacamar'\u001b[0m - Executing 'process_pool_vol-f3874c79-54' immediately...\n"
      ]
     },
     "metadata": {},
     "output_type": "display_data"
    },
    {
     "data": {
      "text/html": [
       "<pre style=\"white-space:pre;overflow-x:auto;line-height:normal;font-family:Menlo,'DejaVu Sans Mono',consolas,'Courier New',monospace\">17:15:58.384 | <span style=\"color: #008080; text-decoration-color: #008080\">INFO</span>    | Task run 'process_pool_vol-f3874c79-54' - Finished in state <span style=\"color: #008000; text-decoration-color: #008000\">Completed</span>()\n",
       "</pre>\n"
      ],
      "text/plain": [
       "17:15:58.384 | \u001b[36mINFO\u001b[0m    | Task run 'process_pool_vol-f3874c79-54' - Finished in state \u001b[32mCompleted\u001b[0m()\n"
      ]
     },
     "metadata": {},
     "output_type": "display_data"
    },
    {
     "data": {
      "text/html": [
       "<pre style=\"white-space:pre;overflow-x:auto;line-height:normal;font-family:Menlo,'DejaVu Sans Mono',consolas,'Courier New',monospace\">17:15:58.393 | <span style=\"color: #008080; text-decoration-color: #008080\">INFO</span>    | Flow run<span style=\"color: #800080; text-decoration-color: #800080\"> 'independent-jacamar'</span> - Created task run 'process_pool_vol-f3874c79-55' for task 'process_pool_vol'\n",
       "</pre>\n"
      ],
      "text/plain": [
       "17:15:58.393 | \u001b[36mINFO\u001b[0m    | Flow run\u001b[35m 'independent-jacamar'\u001b[0m - Created task run 'process_pool_vol-f3874c79-55' for task 'process_pool_vol'\n"
      ]
     },
     "metadata": {},
     "output_type": "display_data"
    },
    {
     "data": {
      "text/html": [
       "<pre style=\"white-space:pre;overflow-x:auto;line-height:normal;font-family:Menlo,'DejaVu Sans Mono',consolas,'Courier New',monospace\">17:15:58.394 | <span style=\"color: #008080; text-decoration-color: #008080\">INFO</span>    | Flow run<span style=\"color: #800080; text-decoration-color: #800080\"> 'independent-jacamar'</span> - Executing 'process_pool_vol-f3874c79-55' immediately...\n",
       "</pre>\n"
      ],
      "text/plain": [
       "17:15:58.394 | \u001b[36mINFO\u001b[0m    | Flow run\u001b[35m 'independent-jacamar'\u001b[0m - Executing 'process_pool_vol-f3874c79-55' immediately...\n"
      ]
     },
     "metadata": {},
     "output_type": "display_data"
    },
    {
     "data": {
      "text/html": [
       "<pre style=\"white-space:pre;overflow-x:auto;line-height:normal;font-family:Menlo,'DejaVu Sans Mono',consolas,'Courier New',monospace\">17:15:58.416 | <span style=\"color: #008080; text-decoration-color: #008080\">INFO</span>    | Task run 'process_pool_vol-f3874c79-55' - Finished in state <span style=\"color: #008000; text-decoration-color: #008000\">Completed</span>()\n",
       "</pre>\n"
      ],
      "text/plain": [
       "17:15:58.416 | \u001b[36mINFO\u001b[0m    | Task run 'process_pool_vol-f3874c79-55' - Finished in state \u001b[32mCompleted\u001b[0m()\n"
      ]
     },
     "metadata": {},
     "output_type": "display_data"
    },
    {
     "data": {
      "text/html": [
       "<pre style=\"white-space:pre;overflow-x:auto;line-height:normal;font-family:Menlo,'DejaVu Sans Mono',consolas,'Courier New',monospace\">17:15:58.425 | <span style=\"color: #008080; text-decoration-color: #008080\">INFO</span>    | Flow run<span style=\"color: #800080; text-decoration-color: #800080\"> 'independent-jacamar'</span> - Created task run 'process_pool_vol-f3874c79-56' for task 'process_pool_vol'\n",
       "</pre>\n"
      ],
      "text/plain": [
       "17:15:58.425 | \u001b[36mINFO\u001b[0m    | Flow run\u001b[35m 'independent-jacamar'\u001b[0m - Created task run 'process_pool_vol-f3874c79-56' for task 'process_pool_vol'\n"
      ]
     },
     "metadata": {},
     "output_type": "display_data"
    },
    {
     "data": {
      "text/html": [
       "<pre style=\"white-space:pre;overflow-x:auto;line-height:normal;font-family:Menlo,'DejaVu Sans Mono',consolas,'Courier New',monospace\">17:15:58.425 | <span style=\"color: #008080; text-decoration-color: #008080\">INFO</span>    | Flow run<span style=\"color: #800080; text-decoration-color: #800080\"> 'independent-jacamar'</span> - Executing 'process_pool_vol-f3874c79-56' immediately...\n",
       "</pre>\n"
      ],
      "text/plain": [
       "17:15:58.425 | \u001b[36mINFO\u001b[0m    | Flow run\u001b[35m 'independent-jacamar'\u001b[0m - Executing 'process_pool_vol-f3874c79-56' immediately...\n"
      ]
     },
     "metadata": {},
     "output_type": "display_data"
    },
    {
     "data": {
      "text/html": [
       "<pre style=\"white-space:pre;overflow-x:auto;line-height:normal;font-family:Menlo,'DejaVu Sans Mono',consolas,'Courier New',monospace\">17:15:58.447 | <span style=\"color: #008080; text-decoration-color: #008080\">INFO</span>    | Task run 'process_pool_vol-f3874c79-56' - Finished in state <span style=\"color: #008000; text-decoration-color: #008000\">Completed</span>()\n",
       "</pre>\n"
      ],
      "text/plain": [
       "17:15:58.447 | \u001b[36mINFO\u001b[0m    | Task run 'process_pool_vol-f3874c79-56' - Finished in state \u001b[32mCompleted\u001b[0m()\n"
      ]
     },
     "metadata": {},
     "output_type": "display_data"
    },
    {
     "data": {
      "text/html": [
       "<pre style=\"white-space:pre;overflow-x:auto;line-height:normal;font-family:Menlo,'DejaVu Sans Mono',consolas,'Courier New',monospace\">17:15:58.457 | <span style=\"color: #008080; text-decoration-color: #008080\">INFO</span>    | Flow run<span style=\"color: #800080; text-decoration-color: #800080\"> 'independent-jacamar'</span> - Created task run 'process_pool_vol-f3874c79-57' for task 'process_pool_vol'\n",
       "</pre>\n"
      ],
      "text/plain": [
       "17:15:58.457 | \u001b[36mINFO\u001b[0m    | Flow run\u001b[35m 'independent-jacamar'\u001b[0m - Created task run 'process_pool_vol-f3874c79-57' for task 'process_pool_vol'\n"
      ]
     },
     "metadata": {},
     "output_type": "display_data"
    },
    {
     "data": {
      "text/html": [
       "<pre style=\"white-space:pre;overflow-x:auto;line-height:normal;font-family:Menlo,'DejaVu Sans Mono',consolas,'Courier New',monospace\">17:15:58.457 | <span style=\"color: #008080; text-decoration-color: #008080\">INFO</span>    | Flow run<span style=\"color: #800080; text-decoration-color: #800080\"> 'independent-jacamar'</span> - Executing 'process_pool_vol-f3874c79-57' immediately...\n",
       "</pre>\n"
      ],
      "text/plain": [
       "17:15:58.457 | \u001b[36mINFO\u001b[0m    | Flow run\u001b[35m 'independent-jacamar'\u001b[0m - Executing 'process_pool_vol-f3874c79-57' immediately...\n"
      ]
     },
     "metadata": {},
     "output_type": "display_data"
    },
    {
     "data": {
      "text/html": [
       "<pre style=\"white-space:pre;overflow-x:auto;line-height:normal;font-family:Menlo,'DejaVu Sans Mono',consolas,'Courier New',monospace\">17:15:58.480 | <span style=\"color: #008080; text-decoration-color: #008080\">INFO</span>    | Task run 'process_pool_vol-f3874c79-57' - Finished in state <span style=\"color: #008000; text-decoration-color: #008000\">Completed</span>()\n",
       "</pre>\n"
      ],
      "text/plain": [
       "17:15:58.480 | \u001b[36mINFO\u001b[0m    | Task run 'process_pool_vol-f3874c79-57' - Finished in state \u001b[32mCompleted\u001b[0m()\n"
      ]
     },
     "metadata": {},
     "output_type": "display_data"
    },
    {
     "data": {
      "text/html": [
       "<pre style=\"white-space:pre;overflow-x:auto;line-height:normal;font-family:Menlo,'DejaVu Sans Mono',consolas,'Courier New',monospace\">17:15:58.490 | <span style=\"color: #008080; text-decoration-color: #008080\">INFO</span>    | Flow run<span style=\"color: #800080; text-decoration-color: #800080\"> 'independent-jacamar'</span> - Created task run 'process_pool_vol-f3874c79-58' for task 'process_pool_vol'\n",
       "</pre>\n"
      ],
      "text/plain": [
       "17:15:58.490 | \u001b[36mINFO\u001b[0m    | Flow run\u001b[35m 'independent-jacamar'\u001b[0m - Created task run 'process_pool_vol-f3874c79-58' for task 'process_pool_vol'\n"
      ]
     },
     "metadata": {},
     "output_type": "display_data"
    },
    {
     "data": {
      "text/html": [
       "<pre style=\"white-space:pre;overflow-x:auto;line-height:normal;font-family:Menlo,'DejaVu Sans Mono',consolas,'Courier New',monospace\">17:15:58.491 | <span style=\"color: #008080; text-decoration-color: #008080\">INFO</span>    | Flow run<span style=\"color: #800080; text-decoration-color: #800080\"> 'independent-jacamar'</span> - Executing 'process_pool_vol-f3874c79-58' immediately...\n",
       "</pre>\n"
      ],
      "text/plain": [
       "17:15:58.491 | \u001b[36mINFO\u001b[0m    | Flow run\u001b[35m 'independent-jacamar'\u001b[0m - Executing 'process_pool_vol-f3874c79-58' immediately...\n"
      ]
     },
     "metadata": {},
     "output_type": "display_data"
    },
    {
     "data": {
      "text/html": [
       "<pre style=\"white-space:pre;overflow-x:auto;line-height:normal;font-family:Menlo,'DejaVu Sans Mono',consolas,'Courier New',monospace\">17:15:58.513 | <span style=\"color: #008080; text-decoration-color: #008080\">INFO</span>    | Task run 'process_pool_vol-f3874c79-58' - Finished in state <span style=\"color: #008000; text-decoration-color: #008000\">Completed</span>()\n",
       "</pre>\n"
      ],
      "text/plain": [
       "17:15:58.513 | \u001b[36mINFO\u001b[0m    | Task run 'process_pool_vol-f3874c79-58' - Finished in state \u001b[32mCompleted\u001b[0m()\n"
      ]
     },
     "metadata": {},
     "output_type": "display_data"
    },
    {
     "data": {
      "text/html": [
       "<pre style=\"white-space:pre;overflow-x:auto;line-height:normal;font-family:Menlo,'DejaVu Sans Mono',consolas,'Courier New',monospace\">17:15:58.592 | <span style=\"color: #008080; text-decoration-color: #008080\">INFO</span>    | Flow run<span style=\"color: #800080; text-decoration-color: #800080\"> 'independent-jacamar'</span> - Finished in state <span style=\"color: #008000; text-decoration-color: #008000\">Completed</span>()\n",
       "</pre>\n"
      ],
      "text/plain": [
       "17:15:58.592 | \u001b[36mINFO\u001b[0m    | Flow run\u001b[35m 'independent-jacamar'\u001b[0m - Finished in state \u001b[32mCompleted\u001b[0m()\n"
      ]
     },
     "metadata": {},
     "output_type": "display_data"
    },
    {
     "data": {
      "text/html": [
       "<pre style=\"white-space:pre;overflow-x:auto;line-height:normal;font-family:Menlo,'DejaVu Sans Mono',consolas,'Courier New',monospace\">17:15:58.623 | <span style=\"color: #008080; text-decoration-color: #008080\">INFO</span>    | Flow run<span style=\"color: #800080; text-decoration-color: #800080\"> 'angelic-chachalaca'</span> - Created subflow run<span style=\"color: #800080; text-decoration-color: #800080\"> 'uppish-kiwi'</span> for flow<span style=\"color: #800080; text-decoration-color: #800080; font-weight: bold\"> 'flow-metapool'</span>\n",
       "</pre>\n"
      ],
      "text/plain": [
       "17:15:58.623 | \u001b[36mINFO\u001b[0m    | Flow run\u001b[35m 'angelic-chachalaca'\u001b[0m - Created subflow run\u001b[35m 'uppish-kiwi'\u001b[0m for flow\u001b[1;35m 'flow-metapool'\u001b[0m\n"
      ]
     },
     "metadata": {},
     "output_type": "display_data"
    },
    {
     "data": {
      "text/html": [
       "<pre style=\"white-space:pre;overflow-x:auto;line-height:normal;font-family:Menlo,'DejaVu Sans Mono',consolas,'Courier New',monospace\">17:15:58.650 | <span style=\"color: #008080; text-decoration-color: #008080\">INFO</span>    | Flow run<span style=\"color: #800080; text-decoration-color: #800080\"> 'uppish-kiwi'</span> - Created task run 'query_pools-66de95c5-0' for task 'query_pools'\n",
       "</pre>\n"
      ],
      "text/plain": [
       "17:15:58.650 | \u001b[36mINFO\u001b[0m    | Flow run\u001b[35m 'uppish-kiwi'\u001b[0m - Created task run 'query_pools-66de95c5-0' for task 'query_pools'\n"
      ]
     },
     "metadata": {},
     "output_type": "display_data"
    },
    {
     "data": {
      "text/html": [
       "<pre style=\"white-space:pre;overflow-x:auto;line-height:normal;font-family:Menlo,'DejaVu Sans Mono',consolas,'Courier New',monospace\">17:15:58.651 | <span style=\"color: #008080; text-decoration-color: #008080\">INFO</span>    | Flow run<span style=\"color: #800080; text-decoration-color: #800080\"> 'uppish-kiwi'</span> - Executing 'query_pools-66de95c5-0' immediately...\n",
       "</pre>\n"
      ],
      "text/plain": [
       "17:15:58.651 | \u001b[36mINFO\u001b[0m    | Flow run\u001b[35m 'uppish-kiwi'\u001b[0m - Executing 'query_pools-66de95c5-0' immediately...\n"
      ]
     },
     "metadata": {},
     "output_type": "display_data"
    },
    {
     "data": {
      "text/html": [
       "<pre style=\"white-space:pre;overflow-x:auto;line-height:normal;font-family:Menlo,'DejaVu Sans Mono',consolas,'Courier New',monospace\">17:15:58.871 | <span style=\"color: #008080; text-decoration-color: #008080\">INFO</span>    | Task run 'query_pools-66de95c5-0' - Finished in state <span style=\"color: #008000; text-decoration-color: #008000\">Completed</span>()\n",
       "</pre>\n"
      ],
      "text/plain": [
       "17:15:58.871 | \u001b[36mINFO\u001b[0m    | Task run 'query_pools-66de95c5-0' - Finished in state \u001b[32mCompleted\u001b[0m()\n"
      ]
     },
     "metadata": {},
     "output_type": "display_data"
    },
    {
     "data": {
      "text/html": [
       "<pre style=\"white-space:pre;overflow-x:auto;line-height:normal;font-family:Menlo,'DejaVu Sans Mono',consolas,'Courier New',monospace\">17:15:58.882 | <span style=\"color: #008080; text-decoration-color: #008080\">INFO</span>    | Flow run<span style=\"color: #800080; text-decoration-color: #800080\"> 'uppish-kiwi'</span> - Created task run 'process_pools-45529377-0' for task 'process_pools'\n",
       "</pre>\n"
      ],
      "text/plain": [
       "17:15:58.882 | \u001b[36mINFO\u001b[0m    | Flow run\u001b[35m 'uppish-kiwi'\u001b[0m - Created task run 'process_pools-45529377-0' for task 'process_pools'\n"
      ]
     },
     "metadata": {},
     "output_type": "display_data"
    },
    {
     "data": {
      "text/html": [
       "<pre style=\"white-space:pre;overflow-x:auto;line-height:normal;font-family:Menlo,'DejaVu Sans Mono',consolas,'Courier New',monospace\">17:15:58.883 | <span style=\"color: #008080; text-decoration-color: #008080\">INFO</span>    | Flow run<span style=\"color: #800080; text-decoration-color: #800080\"> 'uppish-kiwi'</span> - Executing 'process_pools-45529377-0' immediately...\n",
       "</pre>\n"
      ],
      "text/plain": [
       "17:15:58.883 | \u001b[36mINFO\u001b[0m    | Flow run\u001b[35m 'uppish-kiwi'\u001b[0m - Executing 'process_pools-45529377-0' immediately...\n"
      ]
     },
     "metadata": {},
     "output_type": "display_data"
    },
    {
     "data": {
      "text/html": [
       "<pre style=\"white-space:pre;overflow-x:auto;line-height:normal;font-family:Menlo,'DejaVu Sans Mono',consolas,'Courier New',monospace\">17:15:58.911 | <span style=\"color: #008080; text-decoration-color: #008080\">INFO</span>    | Task run 'process_pools-45529377-0' - Finished in state <span style=\"color: #008000; text-decoration-color: #008000\">Completed</span>()\n",
       "</pre>\n"
      ],
      "text/plain": [
       "17:15:58.911 | \u001b[36mINFO\u001b[0m    | Task run 'process_pools-45529377-0' - Finished in state \u001b[32mCompleted\u001b[0m()\n"
      ]
     },
     "metadata": {},
     "output_type": "display_data"
    },
    {
     "data": {
      "text/html": [
       "<pre style=\"white-space:pre;overflow-x:auto;line-height:normal;font-family:Menlo,'DejaVu Sans Mono',consolas,'Courier New',monospace\">17:15:58.997 | <span style=\"color: #008080; text-decoration-color: #008080\">INFO</span>    | Flow run<span style=\"color: #800080; text-decoration-color: #800080\"> 'uppish-kiwi'</span> - Created task run 'query_pool_snaps-60635b41-0' for task 'query_pool_snaps'\n",
       "</pre>\n"
      ],
      "text/plain": [
       "17:15:58.997 | \u001b[36mINFO\u001b[0m    | Flow run\u001b[35m 'uppish-kiwi'\u001b[0m - Created task run 'query_pool_snaps-60635b41-0' for task 'query_pool_snaps'\n"
      ]
     },
     "metadata": {},
     "output_type": "display_data"
    },
    {
     "data": {
      "text/html": [
       "<pre style=\"white-space:pre;overflow-x:auto;line-height:normal;font-family:Menlo,'DejaVu Sans Mono',consolas,'Courier New',monospace\">17:15:58.998 | <span style=\"color: #008080; text-decoration-color: #008080\">INFO</span>    | Flow run<span style=\"color: #800080; text-decoration-color: #800080\"> 'uppish-kiwi'</span> - Submitted task run 'query_pool_snaps-60635b41-0' for execution.\n",
       "</pre>\n"
      ],
      "text/plain": [
       "17:15:58.998 | \u001b[36mINFO\u001b[0m    | Flow run\u001b[35m 'uppish-kiwi'\u001b[0m - Submitted task run 'query_pool_snaps-60635b41-0' for execution.\n"
      ]
     },
     "metadata": {},
     "output_type": "display_data"
    },
    {
     "data": {
      "text/html": [
       "<pre style=\"white-space:pre;overflow-x:auto;line-height:normal;font-family:Menlo,'DejaVu Sans Mono',consolas,'Courier New',monospace\">17:15:59.008 | <span style=\"color: #008080; text-decoration-color: #008080\">INFO</span>    | Flow run<span style=\"color: #800080; text-decoration-color: #800080\"> 'uppish-kiwi'</span> - Created task run 'query_pool_snaps-60635b41-12' for task 'query_pool_snaps'\n",
       "</pre>\n"
      ],
      "text/plain": [
       "17:15:59.008 | \u001b[36mINFO\u001b[0m    | Flow run\u001b[35m 'uppish-kiwi'\u001b[0m - Created task run 'query_pool_snaps-60635b41-12' for task 'query_pool_snaps'\n"
      ]
     },
     "metadata": {},
     "output_type": "display_data"
    },
    {
     "data": {
      "text/html": [
       "<pre style=\"white-space:pre;overflow-x:auto;line-height:normal;font-family:Menlo,'DejaVu Sans Mono',consolas,'Courier New',monospace\">17:15:59.009 | <span style=\"color: #008080; text-decoration-color: #008080\">INFO</span>    | Flow run<span style=\"color: #800080; text-decoration-color: #800080\"> 'uppish-kiwi'</span> - Submitted task run 'query_pool_snaps-60635b41-12' for execution.\n",
       "</pre>\n"
      ],
      "text/plain": [
       "17:15:59.009 | \u001b[36mINFO\u001b[0m    | Flow run\u001b[35m 'uppish-kiwi'\u001b[0m - Submitted task run 'query_pool_snaps-60635b41-12' for execution.\n"
      ]
     },
     "metadata": {},
     "output_type": "display_data"
    },
    {
     "data": {
      "text/html": [
       "<pre style=\"white-space:pre;overflow-x:auto;line-height:normal;font-family:Menlo,'DejaVu Sans Mono',consolas,'Courier New',monospace\">17:15:59.020 | <span style=\"color: #008080; text-decoration-color: #008080\">INFO</span>    | Flow run<span style=\"color: #800080; text-decoration-color: #800080\"> 'uppish-kiwi'</span> - Created task run 'query_pool_snaps-60635b41-9' for task 'query_pool_snaps'\n",
       "</pre>\n"
      ],
      "text/plain": [
       "17:15:59.020 | \u001b[36mINFO\u001b[0m    | Flow run\u001b[35m 'uppish-kiwi'\u001b[0m - Created task run 'query_pool_snaps-60635b41-9' for task 'query_pool_snaps'\n"
      ]
     },
     "metadata": {},
     "output_type": "display_data"
    },
    {
     "data": {
      "text/html": [
       "<pre style=\"white-space:pre;overflow-x:auto;line-height:normal;font-family:Menlo,'DejaVu Sans Mono',consolas,'Courier New',monospace\">17:15:59.021 | <span style=\"color: #008080; text-decoration-color: #008080\">INFO</span>    | Flow run<span style=\"color: #800080; text-decoration-color: #800080\"> 'uppish-kiwi'</span> - Submitted task run 'query_pool_snaps-60635b41-9' for execution.\n",
       "</pre>\n"
      ],
      "text/plain": [
       "17:15:59.021 | \u001b[36mINFO\u001b[0m    | Flow run\u001b[35m 'uppish-kiwi'\u001b[0m - Submitted task run 'query_pool_snaps-60635b41-9' for execution.\n"
      ]
     },
     "metadata": {},
     "output_type": "display_data"
    },
    {
     "data": {
      "text/html": [
       "<pre style=\"white-space:pre;overflow-x:auto;line-height:normal;font-family:Menlo,'DejaVu Sans Mono',consolas,'Courier New',monospace\">17:15:59.037 | <span style=\"color: #008080; text-decoration-color: #008080\">INFO</span>    | Flow run<span style=\"color: #800080; text-decoration-color: #800080\"> 'uppish-kiwi'</span> - Created task run 'query_pool_vol-8bdd8db3-3' for task 'query_pool_vol'\n",
       "</pre>\n"
      ],
      "text/plain": [
       "17:15:59.037 | \u001b[36mINFO\u001b[0m    | Flow run\u001b[35m 'uppish-kiwi'\u001b[0m - Created task run 'query_pool_vol-8bdd8db3-3' for task 'query_pool_vol'\n"
      ]
     },
     "metadata": {},
     "output_type": "display_data"
    },
    {
     "data": {
      "text/html": [
       "<pre style=\"white-space:pre;overflow-x:auto;line-height:normal;font-family:Menlo,'DejaVu Sans Mono',consolas,'Courier New',monospace\">17:15:59.037 | <span style=\"color: #008080; text-decoration-color: #008080\">INFO</span>    | Flow run<span style=\"color: #800080; text-decoration-color: #800080\"> 'uppish-kiwi'</span> - Submitted task run 'query_pool_vol-8bdd8db3-3' for execution.\n",
       "</pre>\n"
      ],
      "text/plain": [
       "17:15:59.037 | \u001b[36mINFO\u001b[0m    | Flow run\u001b[35m 'uppish-kiwi'\u001b[0m - Submitted task run 'query_pool_vol-8bdd8db3-3' for execution.\n"
      ]
     },
     "metadata": {},
     "output_type": "display_data"
    },
    {
     "data": {
      "text/html": [
       "<pre style=\"white-space:pre;overflow-x:auto;line-height:normal;font-family:Menlo,'DejaVu Sans Mono',consolas,'Courier New',monospace\">17:15:59.048 | <span style=\"color: #008080; text-decoration-color: #008080\">INFO</span>    | Flow run<span style=\"color: #800080; text-decoration-color: #800080\"> 'uppish-kiwi'</span> - Created task run 'query_pool_snaps-60635b41-6' for task 'query_pool_snaps'\n",
       "</pre>\n"
      ],
      "text/plain": [
       "17:15:59.048 | \u001b[36mINFO\u001b[0m    | Flow run\u001b[35m 'uppish-kiwi'\u001b[0m - Created task run 'query_pool_snaps-60635b41-6' for task 'query_pool_snaps'\n"
      ]
     },
     "metadata": {},
     "output_type": "display_data"
    },
    {
     "data": {
      "text/html": [
       "<pre style=\"white-space:pre;overflow-x:auto;line-height:normal;font-family:Menlo,'DejaVu Sans Mono',consolas,'Courier New',monospace\">17:15:59.049 | <span style=\"color: #008080; text-decoration-color: #008080\">INFO</span>    | Flow run<span style=\"color: #800080; text-decoration-color: #800080\"> 'uppish-kiwi'</span> - Submitted task run 'query_pool_snaps-60635b41-6' for execution.\n",
       "</pre>\n"
      ],
      "text/plain": [
       "17:15:59.049 | \u001b[36mINFO\u001b[0m    | Flow run\u001b[35m 'uppish-kiwi'\u001b[0m - Submitted task run 'query_pool_snaps-60635b41-6' for execution.\n"
      ]
     },
     "metadata": {},
     "output_type": "display_data"
    },
    {
     "data": {
      "text/html": [
       "<pre style=\"white-space:pre;overflow-x:auto;line-height:normal;font-family:Menlo,'DejaVu Sans Mono',consolas,'Courier New',monospace\">17:15:59.062 | <span style=\"color: #008080; text-decoration-color: #008080\">INFO</span>    | Flow run<span style=\"color: #800080; text-decoration-color: #800080\"> 'uppish-kiwi'</span> - Created task run 'query_pool_vol-8bdd8db3-7' for task 'query_pool_vol'\n",
       "</pre>\n"
      ],
      "text/plain": [
       "17:15:59.062 | \u001b[36mINFO\u001b[0m    | Flow run\u001b[35m 'uppish-kiwi'\u001b[0m - Created task run 'query_pool_vol-8bdd8db3-7' for task 'query_pool_vol'\n"
      ]
     },
     "metadata": {},
     "output_type": "display_data"
    },
    {
     "data": {
      "text/html": [
       "<pre style=\"white-space:pre;overflow-x:auto;line-height:normal;font-family:Menlo,'DejaVu Sans Mono',consolas,'Courier New',monospace\">17:15:59.063 | <span style=\"color: #008080; text-decoration-color: #008080\">INFO</span>    | Flow run<span style=\"color: #800080; text-decoration-color: #800080\"> 'uppish-kiwi'</span> - Submitted task run 'query_pool_vol-8bdd8db3-7' for execution.\n",
       "</pre>\n"
      ],
      "text/plain": [
       "17:15:59.063 | \u001b[36mINFO\u001b[0m    | Flow run\u001b[35m 'uppish-kiwi'\u001b[0m - Submitted task run 'query_pool_vol-8bdd8db3-7' for execution.\n"
      ]
     },
     "metadata": {},
     "output_type": "display_data"
    },
    {
     "data": {
      "text/html": [
       "<pre style=\"white-space:pre;overflow-x:auto;line-height:normal;font-family:Menlo,'DejaVu Sans Mono',consolas,'Courier New',monospace\">17:15:59.075 | <span style=\"color: #008080; text-decoration-color: #008080\">INFO</span>    | Flow run<span style=\"color: #800080; text-decoration-color: #800080\"> 'uppish-kiwi'</span> - Created task run 'query_pool_snaps-60635b41-5' for task 'query_pool_snaps'\n",
       "</pre>\n"
      ],
      "text/plain": [
       "17:15:59.075 | \u001b[36mINFO\u001b[0m    | Flow run\u001b[35m 'uppish-kiwi'\u001b[0m - Created task run 'query_pool_snaps-60635b41-5' for task 'query_pool_snaps'\n"
      ]
     },
     "metadata": {},
     "output_type": "display_data"
    },
    {
     "data": {
      "text/html": [
       "<pre style=\"white-space:pre;overflow-x:auto;line-height:normal;font-family:Menlo,'DejaVu Sans Mono',consolas,'Courier New',monospace\">17:15:59.076 | <span style=\"color: #008080; text-decoration-color: #008080\">INFO</span>    | Flow run<span style=\"color: #800080; text-decoration-color: #800080\"> 'uppish-kiwi'</span> - Submitted task run 'query_pool_snaps-60635b41-5' for execution.\n",
       "</pre>\n"
      ],
      "text/plain": [
       "17:15:59.076 | \u001b[36mINFO\u001b[0m    | Flow run\u001b[35m 'uppish-kiwi'\u001b[0m - Submitted task run 'query_pool_snaps-60635b41-5' for execution.\n"
      ]
     },
     "metadata": {},
     "output_type": "display_data"
    },
    {
     "data": {
      "text/html": [
       "<pre style=\"white-space:pre;overflow-x:auto;line-height:normal;font-family:Menlo,'DejaVu Sans Mono',consolas,'Courier New',monospace\">17:15:59.114 | <span style=\"color: #008080; text-decoration-color: #008080\">INFO</span>    | Flow run<span style=\"color: #800080; text-decoration-color: #800080\"> 'uppish-kiwi'</span> - Created task run 'query_pool_snaps-60635b41-7' for task 'query_pool_snaps'\n",
       "</pre>\n"
      ],
      "text/plain": [
       "17:15:59.114 | \u001b[36mINFO\u001b[0m    | Flow run\u001b[35m 'uppish-kiwi'\u001b[0m - Created task run 'query_pool_snaps-60635b41-7' for task 'query_pool_snaps'\n"
      ]
     },
     "metadata": {},
     "output_type": "display_data"
    },
    {
     "data": {
      "text/html": [
       "<pre style=\"white-space:pre;overflow-x:auto;line-height:normal;font-family:Menlo,'DejaVu Sans Mono',consolas,'Courier New',monospace\">17:15:59.115 | <span style=\"color: #008080; text-decoration-color: #008080\">INFO</span>    | Flow run<span style=\"color: #800080; text-decoration-color: #800080\"> 'uppish-kiwi'</span> - Submitted task run 'query_pool_snaps-60635b41-7' for execution.\n",
       "</pre>\n"
      ],
      "text/plain": [
       "17:15:59.115 | \u001b[36mINFO\u001b[0m    | Flow run\u001b[35m 'uppish-kiwi'\u001b[0m - Submitted task run 'query_pool_snaps-60635b41-7' for execution.\n"
      ]
     },
     "metadata": {},
     "output_type": "display_data"
    },
    {
     "data": {
      "text/html": [
       "<pre style=\"white-space:pre;overflow-x:auto;line-height:normal;font-family:Menlo,'DejaVu Sans Mono',consolas,'Courier New',monospace\">17:15:59.137 | <span style=\"color: #008080; text-decoration-color: #008080\">INFO</span>    | Flow run<span style=\"color: #800080; text-decoration-color: #800080\"> 'uppish-kiwi'</span> - Created task run 'query_pool_vol-8bdd8db3-6' for task 'query_pool_vol'\n",
       "</pre>\n"
      ],
      "text/plain": [
       "17:15:59.137 | \u001b[36mINFO\u001b[0m    | Flow run\u001b[35m 'uppish-kiwi'\u001b[0m - Created task run 'query_pool_vol-8bdd8db3-6' for task 'query_pool_vol'\n"
      ]
     },
     "metadata": {},
     "output_type": "display_data"
    },
    {
     "data": {
      "text/html": [
       "<pre style=\"white-space:pre;overflow-x:auto;line-height:normal;font-family:Menlo,'DejaVu Sans Mono',consolas,'Courier New',monospace\">17:15:59.138 | <span style=\"color: #008080; text-decoration-color: #008080\">INFO</span>    | Flow run<span style=\"color: #800080; text-decoration-color: #800080\"> 'uppish-kiwi'</span> - Submitted task run 'query_pool_vol-8bdd8db3-6' for execution.\n",
       "</pre>\n"
      ],
      "text/plain": [
       "17:15:59.138 | \u001b[36mINFO\u001b[0m    | Flow run\u001b[35m 'uppish-kiwi'\u001b[0m - Submitted task run 'query_pool_vol-8bdd8db3-6' for execution.\n"
      ]
     },
     "metadata": {},
     "output_type": "display_data"
    },
    {
     "data": {
      "text/html": [
       "<pre style=\"white-space:pre;overflow-x:auto;line-height:normal;font-family:Menlo,'DejaVu Sans Mono',consolas,'Courier New',monospace\">17:15:59.148 | <span style=\"color: #008080; text-decoration-color: #008080\">INFO</span>    | Flow run<span style=\"color: #800080; text-decoration-color: #800080\"> 'uppish-kiwi'</span> - Created task run 'query_pool_vol-8bdd8db3-12' for task 'query_pool_vol'\n",
       "</pre>\n"
      ],
      "text/plain": [
       "17:15:59.148 | \u001b[36mINFO\u001b[0m    | Flow run\u001b[35m 'uppish-kiwi'\u001b[0m - Created task run 'query_pool_vol-8bdd8db3-12' for task 'query_pool_vol'\n"
      ]
     },
     "metadata": {},
     "output_type": "display_data"
    },
    {
     "data": {
      "text/html": [
       "<pre style=\"white-space:pre;overflow-x:auto;line-height:normal;font-family:Menlo,'DejaVu Sans Mono',consolas,'Courier New',monospace\">17:15:59.149 | <span style=\"color: #008080; text-decoration-color: #008080\">INFO</span>    | Flow run<span style=\"color: #800080; text-decoration-color: #800080\"> 'uppish-kiwi'</span> - Submitted task run 'query_pool_vol-8bdd8db3-12' for execution.\n",
       "</pre>\n"
      ],
      "text/plain": [
       "17:15:59.149 | \u001b[36mINFO\u001b[0m    | Flow run\u001b[35m 'uppish-kiwi'\u001b[0m - Submitted task run 'query_pool_vol-8bdd8db3-12' for execution.\n"
      ]
     },
     "metadata": {},
     "output_type": "display_data"
    },
    {
     "data": {
      "text/html": [
       "<pre style=\"white-space:pre;overflow-x:auto;line-height:normal;font-family:Menlo,'DejaVu Sans Mono',consolas,'Courier New',monospace\">17:15:59.161 | <span style=\"color: #008080; text-decoration-color: #008080\">INFO</span>    | Flow run<span style=\"color: #800080; text-decoration-color: #800080\"> 'uppish-kiwi'</span> - Created task run 'query_pool_snaps-60635b41-2' for task 'query_pool_snaps'\n",
       "</pre>\n"
      ],
      "text/plain": [
       "17:15:59.161 | \u001b[36mINFO\u001b[0m    | Flow run\u001b[35m 'uppish-kiwi'\u001b[0m - Created task run 'query_pool_snaps-60635b41-2' for task 'query_pool_snaps'\n"
      ]
     },
     "metadata": {},
     "output_type": "display_data"
    },
    {
     "data": {
      "text/html": [
       "<pre style=\"white-space:pre;overflow-x:auto;line-height:normal;font-family:Menlo,'DejaVu Sans Mono',consolas,'Courier New',monospace\">17:15:59.162 | <span style=\"color: #008080; text-decoration-color: #008080\">INFO</span>    | Flow run<span style=\"color: #800080; text-decoration-color: #800080\"> 'uppish-kiwi'</span> - Submitted task run 'query_pool_snaps-60635b41-2' for execution.\n",
       "</pre>\n"
      ],
      "text/plain": [
       "17:15:59.162 | \u001b[36mINFO\u001b[0m    | Flow run\u001b[35m 'uppish-kiwi'\u001b[0m - Submitted task run 'query_pool_snaps-60635b41-2' for execution.\n"
      ]
     },
     "metadata": {},
     "output_type": "display_data"
    },
    {
     "data": {
      "text/html": [
       "<pre style=\"white-space:pre;overflow-x:auto;line-height:normal;font-family:Menlo,'DejaVu Sans Mono',consolas,'Courier New',monospace\">17:15:59.172 | <span style=\"color: #008080; text-decoration-color: #008080\">INFO</span>    | Flow run<span style=\"color: #800080; text-decoration-color: #800080\"> 'uppish-kiwi'</span> - Created task run 'query_pool_snaps-60635b41-3' for task 'query_pool_snaps'\n",
       "</pre>\n"
      ],
      "text/plain": [
       "17:15:59.172 | \u001b[36mINFO\u001b[0m    | Flow run\u001b[35m 'uppish-kiwi'\u001b[0m - Created task run 'query_pool_snaps-60635b41-3' for task 'query_pool_snaps'\n"
      ]
     },
     "metadata": {},
     "output_type": "display_data"
    },
    {
     "data": {
      "text/html": [
       "<pre style=\"white-space:pre;overflow-x:auto;line-height:normal;font-family:Menlo,'DejaVu Sans Mono',consolas,'Courier New',monospace\">17:15:59.173 | <span style=\"color: #008080; text-decoration-color: #008080\">INFO</span>    | Flow run<span style=\"color: #800080; text-decoration-color: #800080\"> 'uppish-kiwi'</span> - Submitted task run 'query_pool_snaps-60635b41-3' for execution.\n",
       "</pre>\n"
      ],
      "text/plain": [
       "17:15:59.173 | \u001b[36mINFO\u001b[0m    | Flow run\u001b[35m 'uppish-kiwi'\u001b[0m - Submitted task run 'query_pool_snaps-60635b41-3' for execution.\n"
      ]
     },
     "metadata": {},
     "output_type": "display_data"
    },
    {
     "data": {
      "text/html": [
       "<pre style=\"white-space:pre;overflow-x:auto;line-height:normal;font-family:Menlo,'DejaVu Sans Mono',consolas,'Courier New',monospace\">17:15:59.356 | <span style=\"color: #008080; text-decoration-color: #008080\">INFO</span>    | Flow run<span style=\"color: #800080; text-decoration-color: #800080\"> 'uppish-kiwi'</span> - Created task run 'query_pool_snaps-60635b41-11' for task 'query_pool_snaps'\n",
       "</pre>\n"
      ],
      "text/plain": [
       "17:15:59.356 | \u001b[36mINFO\u001b[0m    | Flow run\u001b[35m 'uppish-kiwi'\u001b[0m - Created task run 'query_pool_snaps-60635b41-11' for task 'query_pool_snaps'\n"
      ]
     },
     "metadata": {},
     "output_type": "display_data"
    },
    {
     "data": {
      "text/html": [
       "<pre style=\"white-space:pre;overflow-x:auto;line-height:normal;font-family:Menlo,'DejaVu Sans Mono',consolas,'Courier New',monospace\">17:15:59.357 | <span style=\"color: #008080; text-decoration-color: #008080\">INFO</span>    | Flow run<span style=\"color: #800080; text-decoration-color: #800080\"> 'uppish-kiwi'</span> - Submitted task run 'query_pool_snaps-60635b41-11' for execution.\n",
       "</pre>\n"
      ],
      "text/plain": [
       "17:15:59.357 | \u001b[36mINFO\u001b[0m    | Flow run\u001b[35m 'uppish-kiwi'\u001b[0m - Submitted task run 'query_pool_snaps-60635b41-11' for execution.\n"
      ]
     },
     "metadata": {},
     "output_type": "display_data"
    },
    {
     "data": {
      "text/html": [
       "<pre style=\"white-space:pre;overflow-x:auto;line-height:normal;font-family:Menlo,'DejaVu Sans Mono',consolas,'Courier New',monospace\">17:15:59.406 | <span style=\"color: #008080; text-decoration-color: #008080\">INFO</span>    | Flow run<span style=\"color: #800080; text-decoration-color: #800080\"> 'uppish-kiwi'</span> - Created task run 'query_pool_vol-8bdd8db3-0' for task 'query_pool_vol'\n",
       "</pre>\n"
      ],
      "text/plain": [
       "17:15:59.406 | \u001b[36mINFO\u001b[0m    | Flow run\u001b[35m 'uppish-kiwi'\u001b[0m - Created task run 'query_pool_vol-8bdd8db3-0' for task 'query_pool_vol'\n"
      ]
     },
     "metadata": {},
     "output_type": "display_data"
    },
    {
     "data": {
      "text/html": [
       "<pre style=\"white-space:pre;overflow-x:auto;line-height:normal;font-family:Menlo,'DejaVu Sans Mono',consolas,'Courier New',monospace\">17:15:59.407 | <span style=\"color: #008080; text-decoration-color: #008080\">INFO</span>    | Flow run<span style=\"color: #800080; text-decoration-color: #800080\"> 'uppish-kiwi'</span> - Submitted task run 'query_pool_vol-8bdd8db3-0' for execution.\n",
       "</pre>\n"
      ],
      "text/plain": [
       "17:15:59.407 | \u001b[36mINFO\u001b[0m    | Flow run\u001b[35m 'uppish-kiwi'\u001b[0m - Submitted task run 'query_pool_vol-8bdd8db3-0' for execution.\n"
      ]
     },
     "metadata": {},
     "output_type": "display_data"
    },
    {
     "data": {
      "text/html": [
       "<pre style=\"white-space:pre;overflow-x:auto;line-height:normal;font-family:Menlo,'DejaVu Sans Mono',consolas,'Courier New',monospace\">17:15:59.420 | <span style=\"color: #008080; text-decoration-color: #008080\">INFO</span>    | Flow run<span style=\"color: #800080; text-decoration-color: #800080\"> 'uppish-kiwi'</span> - Created task run 'query_pool_vol-8bdd8db3-2' for task 'query_pool_vol'\n",
       "</pre>\n"
      ],
      "text/plain": [
       "17:15:59.420 | \u001b[36mINFO\u001b[0m    | Flow run\u001b[35m 'uppish-kiwi'\u001b[0m - Created task run 'query_pool_vol-8bdd8db3-2' for task 'query_pool_vol'\n"
      ]
     },
     "metadata": {},
     "output_type": "display_data"
    },
    {
     "data": {
      "text/html": [
       "<pre style=\"white-space:pre;overflow-x:auto;line-height:normal;font-family:Menlo,'DejaVu Sans Mono',consolas,'Courier New',monospace\">17:15:59.420 | <span style=\"color: #008080; text-decoration-color: #008080\">INFO</span>    | Flow run<span style=\"color: #800080; text-decoration-color: #800080\"> 'uppish-kiwi'</span> - Submitted task run 'query_pool_vol-8bdd8db3-2' for execution.\n",
       "</pre>\n"
      ],
      "text/plain": [
       "17:15:59.420 | \u001b[36mINFO\u001b[0m    | Flow run\u001b[35m 'uppish-kiwi'\u001b[0m - Submitted task run 'query_pool_vol-8bdd8db3-2' for execution.\n"
      ]
     },
     "metadata": {},
     "output_type": "display_data"
    },
    {
     "data": {
      "text/html": [
       "<pre style=\"white-space:pre;overflow-x:auto;line-height:normal;font-family:Menlo,'DejaVu Sans Mono',consolas,'Courier New',monospace\">17:15:59.445 | <span style=\"color: #008080; text-decoration-color: #008080\">INFO</span>    | Flow run<span style=\"color: #800080; text-decoration-color: #800080\"> 'uppish-kiwi'</span> - Created task run 'query_pool_snaps-60635b41-8' for task 'query_pool_snaps'\n",
       "</pre>\n"
      ],
      "text/plain": [
       "17:15:59.445 | \u001b[36mINFO\u001b[0m    | Flow run\u001b[35m 'uppish-kiwi'\u001b[0m - Created task run 'query_pool_snaps-60635b41-8' for task 'query_pool_snaps'\n"
      ]
     },
     "metadata": {},
     "output_type": "display_data"
    },
    {
     "data": {
      "text/html": [
       "<pre style=\"white-space:pre;overflow-x:auto;line-height:normal;font-family:Menlo,'DejaVu Sans Mono',consolas,'Courier New',monospace\">17:15:59.446 | <span style=\"color: #008080; text-decoration-color: #008080\">INFO</span>    | Flow run<span style=\"color: #800080; text-decoration-color: #800080\"> 'uppish-kiwi'</span> - Submitted task run 'query_pool_snaps-60635b41-8' for execution.\n",
       "</pre>\n"
      ],
      "text/plain": [
       "17:15:59.446 | \u001b[36mINFO\u001b[0m    | Flow run\u001b[35m 'uppish-kiwi'\u001b[0m - Submitted task run 'query_pool_snaps-60635b41-8' for execution.\n"
      ]
     },
     "metadata": {},
     "output_type": "display_data"
    },
    {
     "data": {
      "text/html": [
       "<pre style=\"white-space:pre;overflow-x:auto;line-height:normal;font-family:Menlo,'DejaVu Sans Mono',consolas,'Courier New',monospace\">17:15:59.457 | <span style=\"color: #008080; text-decoration-color: #008080\">INFO</span>    | Flow run<span style=\"color: #800080; text-decoration-color: #800080\"> 'uppish-kiwi'</span> - Created task run 'query_pool_vol-8bdd8db3-11' for task 'query_pool_vol'\n",
       "</pre>\n"
      ],
      "text/plain": [
       "17:15:59.457 | \u001b[36mINFO\u001b[0m    | Flow run\u001b[35m 'uppish-kiwi'\u001b[0m - Created task run 'query_pool_vol-8bdd8db3-11' for task 'query_pool_vol'\n"
      ]
     },
     "metadata": {},
     "output_type": "display_data"
    },
    {
     "data": {
      "text/html": [
       "<pre style=\"white-space:pre;overflow-x:auto;line-height:normal;font-family:Menlo,'DejaVu Sans Mono',consolas,'Courier New',monospace\">17:15:59.458 | <span style=\"color: #008080; text-decoration-color: #008080\">INFO</span>    | Flow run<span style=\"color: #800080; text-decoration-color: #800080\"> 'uppish-kiwi'</span> - Submitted task run 'query_pool_vol-8bdd8db3-11' for execution.\n",
       "</pre>\n"
      ],
      "text/plain": [
       "17:15:59.458 | \u001b[36mINFO\u001b[0m    | Flow run\u001b[35m 'uppish-kiwi'\u001b[0m - Submitted task run 'query_pool_vol-8bdd8db3-11' for execution.\n"
      ]
     },
     "metadata": {},
     "output_type": "display_data"
    },
    {
     "data": {
      "text/html": [
       "<pre style=\"white-space:pre;overflow-x:auto;line-height:normal;font-family:Menlo,'DejaVu Sans Mono',consolas,'Courier New',monospace\">17:15:59.512 | <span style=\"color: #008080; text-decoration-color: #008080\">INFO</span>    | Flow run<span style=\"color: #800080; text-decoration-color: #800080\"> 'uppish-kiwi'</span> - Created task run 'query_pool_vol-8bdd8db3-1' for task 'query_pool_vol'\n",
       "</pre>\n"
      ],
      "text/plain": [
       "17:15:59.512 | \u001b[36mINFO\u001b[0m    | Flow run\u001b[35m 'uppish-kiwi'\u001b[0m - Created task run 'query_pool_vol-8bdd8db3-1' for task 'query_pool_vol'\n"
      ]
     },
     "metadata": {},
     "output_type": "display_data"
    },
    {
     "data": {
      "text/html": [
       "<pre style=\"white-space:pre;overflow-x:auto;line-height:normal;font-family:Menlo,'DejaVu Sans Mono',consolas,'Courier New',monospace\">17:15:59.513 | <span style=\"color: #008080; text-decoration-color: #008080\">INFO</span>    | Flow run<span style=\"color: #800080; text-decoration-color: #800080\"> 'uppish-kiwi'</span> - Submitted task run 'query_pool_vol-8bdd8db3-1' for execution.\n",
       "</pre>\n"
      ],
      "text/plain": [
       "17:15:59.513 | \u001b[36mINFO\u001b[0m    | Flow run\u001b[35m 'uppish-kiwi'\u001b[0m - Submitted task run 'query_pool_vol-8bdd8db3-1' for execution.\n"
      ]
     },
     "metadata": {},
     "output_type": "display_data"
    },
    {
     "data": {
      "text/html": [
       "<pre style=\"white-space:pre;overflow-x:auto;line-height:normal;font-family:Menlo,'DejaVu Sans Mono',consolas,'Courier New',monospace\">17:15:59.538 | <span style=\"color: #008080; text-decoration-color: #008080\">INFO</span>    | Task run 'query_pool_snaps-60635b41-12' - Finished in state <span style=\"color: #008000; text-decoration-color: #008000\">Completed</span>()\n",
       "</pre>\n"
      ],
      "text/plain": [
       "17:15:59.538 | \u001b[36mINFO\u001b[0m    | Task run 'query_pool_snaps-60635b41-12' - Finished in state \u001b[32mCompleted\u001b[0m()\n"
      ]
     },
     "metadata": {},
     "output_type": "display_data"
    },
    {
     "data": {
      "text/html": [
       "<pre style=\"white-space:pre;overflow-x:auto;line-height:normal;font-family:Menlo,'DejaVu Sans Mono',consolas,'Courier New',monospace\">17:15:59.564 | <span style=\"color: #008080; text-decoration-color: #008080\">INFO</span>    | Flow run<span style=\"color: #800080; text-decoration-color: #800080\"> 'uppish-kiwi'</span> - Created task run 'query_pool_snaps-60635b41-10' for task 'query_pool_snaps'\n",
       "</pre>\n"
      ],
      "text/plain": [
       "17:15:59.564 | \u001b[36mINFO\u001b[0m    | Flow run\u001b[35m 'uppish-kiwi'\u001b[0m - Created task run 'query_pool_snaps-60635b41-10' for task 'query_pool_snaps'\n"
      ]
     },
     "metadata": {},
     "output_type": "display_data"
    },
    {
     "data": {
      "text/html": [
       "<pre style=\"white-space:pre;overflow-x:auto;line-height:normal;font-family:Menlo,'DejaVu Sans Mono',consolas,'Courier New',monospace\">17:15:59.565 | <span style=\"color: #008080; text-decoration-color: #008080\">INFO</span>    | Flow run<span style=\"color: #800080; text-decoration-color: #800080\"> 'uppish-kiwi'</span> - Submitted task run 'query_pool_snaps-60635b41-10' for execution.\n",
       "</pre>\n"
      ],
      "text/plain": [
       "17:15:59.565 | \u001b[36mINFO\u001b[0m    | Flow run\u001b[35m 'uppish-kiwi'\u001b[0m - Submitted task run 'query_pool_snaps-60635b41-10' for execution.\n"
      ]
     },
     "metadata": {},
     "output_type": "display_data"
    },
    {
     "data": {
      "text/html": [
       "<pre style=\"white-space:pre;overflow-x:auto;line-height:normal;font-family:Menlo,'DejaVu Sans Mono',consolas,'Courier New',monospace\">17:15:59.575 | <span style=\"color: #008080; text-decoration-color: #008080\">INFO</span>    | Task run 'query_pool_snaps-60635b41-6' - Finished in state <span style=\"color: #008000; text-decoration-color: #008000\">Completed</span>()\n",
       "</pre>\n"
      ],
      "text/plain": [
       "17:15:59.575 | \u001b[36mINFO\u001b[0m    | Task run 'query_pool_snaps-60635b41-6' - Finished in state \u001b[32mCompleted\u001b[0m()\n"
      ]
     },
     "metadata": {},
     "output_type": "display_data"
    },
    {
     "data": {
      "text/html": [
       "<pre style=\"white-space:pre;overflow-x:auto;line-height:normal;font-family:Menlo,'DejaVu Sans Mono',consolas,'Courier New',monospace\">17:15:59.583 | <span style=\"color: #008080; text-decoration-color: #008080\">INFO</span>    | Task run 'query_pool_snaps-60635b41-5' - Finished in state <span style=\"color: #008000; text-decoration-color: #008000\">Completed</span>()\n",
       "</pre>\n"
      ],
      "text/plain": [
       "17:15:59.583 | \u001b[36mINFO\u001b[0m    | Task run 'query_pool_snaps-60635b41-5' - Finished in state \u001b[32mCompleted\u001b[0m()\n"
      ]
     },
     "metadata": {},
     "output_type": "display_data"
    },
    {
     "data": {
      "text/html": [
       "<pre style=\"white-space:pre;overflow-x:auto;line-height:normal;font-family:Menlo,'DejaVu Sans Mono',consolas,'Courier New',monospace\">17:15:59.641 | <span style=\"color: #008080; text-decoration-color: #008080\">INFO</span>    | Task run 'query_pool_vol-8bdd8db3-6' - Finished in state <span style=\"color: #008000; text-decoration-color: #008000\">Completed</span>()\n",
       "</pre>\n"
      ],
      "text/plain": [
       "17:15:59.641 | \u001b[36mINFO\u001b[0m    | Task run 'query_pool_vol-8bdd8db3-6' - Finished in state \u001b[32mCompleted\u001b[0m()\n"
      ]
     },
     "metadata": {},
     "output_type": "display_data"
    },
    {
     "data": {
      "text/html": [
       "<pre style=\"white-space:pre;overflow-x:auto;line-height:normal;font-family:Menlo,'DejaVu Sans Mono',consolas,'Courier New',monospace\">17:15:59.646 | <span style=\"color: #008080; text-decoration-color: #008080\">INFO</span>    | Flow run<span style=\"color: #800080; text-decoration-color: #800080\"> 'uppish-kiwi'</span> - Created task run 'query_pool_vol-8bdd8db3-8' for task 'query_pool_vol'\n",
       "</pre>\n"
      ],
      "text/plain": [
       "17:15:59.646 | \u001b[36mINFO\u001b[0m    | Flow run\u001b[35m 'uppish-kiwi'\u001b[0m - Created task run 'query_pool_vol-8bdd8db3-8' for task 'query_pool_vol'\n"
      ]
     },
     "metadata": {},
     "output_type": "display_data"
    },
    {
     "data": {
      "text/html": [
       "<pre style=\"white-space:pre;overflow-x:auto;line-height:normal;font-family:Menlo,'DejaVu Sans Mono',consolas,'Courier New',monospace\">17:15:59.647 | <span style=\"color: #008080; text-decoration-color: #008080\">INFO</span>    | Flow run<span style=\"color: #800080; text-decoration-color: #800080\"> 'uppish-kiwi'</span> - Submitted task run 'query_pool_vol-8bdd8db3-8' for execution.\n",
       "</pre>\n"
      ],
      "text/plain": [
       "17:15:59.647 | \u001b[36mINFO\u001b[0m    | Flow run\u001b[35m 'uppish-kiwi'\u001b[0m - Submitted task run 'query_pool_vol-8bdd8db3-8' for execution.\n"
      ]
     },
     "metadata": {},
     "output_type": "display_data"
    },
    {
     "data": {
      "text/html": [
       "<pre style=\"white-space:pre;overflow-x:auto;line-height:normal;font-family:Menlo,'DejaVu Sans Mono',consolas,'Courier New',monospace\">17:15:59.655 | <span style=\"color: #008080; text-decoration-color: #008080\">INFO</span>    | Task run 'query_pool_vol-8bdd8db3-7' - Finished in state <span style=\"color: #008000; text-decoration-color: #008000\">Completed</span>()\n",
       "</pre>\n"
      ],
      "text/plain": [
       "17:15:59.655 | \u001b[36mINFO\u001b[0m    | Task run 'query_pool_vol-8bdd8db3-7' - Finished in state \u001b[32mCompleted\u001b[0m()\n"
      ]
     },
     "metadata": {},
     "output_type": "display_data"
    },
    {
     "data": {
      "text/html": [
       "<pre style=\"white-space:pre;overflow-x:auto;line-height:normal;font-family:Menlo,'DejaVu Sans Mono',consolas,'Courier New',monospace\">17:15:59.661 | <span style=\"color: #008080; text-decoration-color: #008080\">INFO</span>    | Task run 'query_pool_vol-8bdd8db3-12' - Finished in state <span style=\"color: #008000; text-decoration-color: #008000\">Completed</span>()\n",
       "</pre>\n"
      ],
      "text/plain": [
       "17:15:59.661 | \u001b[36mINFO\u001b[0m    | Task run 'query_pool_vol-8bdd8db3-12' - Finished in state \u001b[32mCompleted\u001b[0m()\n"
      ]
     },
     "metadata": {},
     "output_type": "display_data"
    },
    {
     "data": {
      "text/html": [
       "<pre style=\"white-space:pre;overflow-x:auto;line-height:normal;font-family:Menlo,'DejaVu Sans Mono',consolas,'Courier New',monospace\">17:15:59.716 | <span style=\"color: #008080; text-decoration-color: #008080\">INFO</span>    | Flow run<span style=\"color: #800080; text-decoration-color: #800080\"> 'uppish-kiwi'</span> - Created task run 'query_pool_snaps-60635b41-1' for task 'query_pool_snaps'\n",
       "</pre>\n"
      ],
      "text/plain": [
       "17:15:59.716 | \u001b[36mINFO\u001b[0m    | Flow run\u001b[35m 'uppish-kiwi'\u001b[0m - Created task run 'query_pool_snaps-60635b41-1' for task 'query_pool_snaps'\n"
      ]
     },
     "metadata": {},
     "output_type": "display_data"
    },
    {
     "data": {
      "text/html": [
       "<pre style=\"white-space:pre;overflow-x:auto;line-height:normal;font-family:Menlo,'DejaVu Sans Mono',consolas,'Courier New',monospace\">17:15:59.717 | <span style=\"color: #008080; text-decoration-color: #008080\">INFO</span>    | Flow run<span style=\"color: #800080; text-decoration-color: #800080\"> 'uppish-kiwi'</span> - Submitted task run 'query_pool_snaps-60635b41-1' for execution.\n",
       "</pre>\n"
      ],
      "text/plain": [
       "17:15:59.717 | \u001b[36mINFO\u001b[0m    | Flow run\u001b[35m 'uppish-kiwi'\u001b[0m - Submitted task run 'query_pool_snaps-60635b41-1' for execution.\n"
      ]
     },
     "metadata": {},
     "output_type": "display_data"
    },
    {
     "data": {
      "text/html": [
       "<pre style=\"white-space:pre;overflow-x:auto;line-height:normal;font-family:Menlo,'DejaVu Sans Mono',consolas,'Courier New',monospace\">17:15:59.724 | <span style=\"color: #008080; text-decoration-color: #008080\">INFO</span>    | Task run 'query_pool_snaps-60635b41-7' - Finished in state <span style=\"color: #008000; text-decoration-color: #008000\">Completed</span>()\n",
       "</pre>\n"
      ],
      "text/plain": [
       "17:15:59.724 | \u001b[36mINFO\u001b[0m    | Task run 'query_pool_snaps-60635b41-7' - Finished in state \u001b[32mCompleted\u001b[0m()\n"
      ]
     },
     "metadata": {},
     "output_type": "display_data"
    },
    {
     "data": {
      "text/html": [
       "<pre style=\"white-space:pre;overflow-x:auto;line-height:normal;font-family:Menlo,'DejaVu Sans Mono',consolas,'Courier New',monospace\">17:15:59.739 | <span style=\"color: #008080; text-decoration-color: #008080\">INFO</span>    | Flow run<span style=\"color: #800080; text-decoration-color: #800080\"> 'uppish-kiwi'</span> - Created task run 'query_pool_vol-8bdd8db3-4' for task 'query_pool_vol'\n",
       "</pre>\n"
      ],
      "text/plain": [
       "17:15:59.739 | \u001b[36mINFO\u001b[0m    | Flow run\u001b[35m 'uppish-kiwi'\u001b[0m - Created task run 'query_pool_vol-8bdd8db3-4' for task 'query_pool_vol'\n"
      ]
     },
     "metadata": {},
     "output_type": "display_data"
    },
    {
     "data": {
      "text/html": [
       "<pre style=\"white-space:pre;overflow-x:auto;line-height:normal;font-family:Menlo,'DejaVu Sans Mono',consolas,'Courier New',monospace\">17:15:59.740 | <span style=\"color: #008080; text-decoration-color: #008080\">INFO</span>    | Flow run<span style=\"color: #800080; text-decoration-color: #800080\"> 'uppish-kiwi'</span> - Submitted task run 'query_pool_vol-8bdd8db3-4' for execution.\n",
       "</pre>\n"
      ],
      "text/plain": [
       "17:15:59.740 | \u001b[36mINFO\u001b[0m    | Flow run\u001b[35m 'uppish-kiwi'\u001b[0m - Submitted task run 'query_pool_vol-8bdd8db3-4' for execution.\n"
      ]
     },
     "metadata": {},
     "output_type": "display_data"
    },
    {
     "data": {
      "text/html": [
       "<pre style=\"white-space:pre;overflow-x:auto;line-height:normal;font-family:Menlo,'DejaVu Sans Mono',consolas,'Courier New',monospace\">17:15:59.751 | <span style=\"color: #008080; text-decoration-color: #008080\">INFO</span>    | Flow run<span style=\"color: #800080; text-decoration-color: #800080\"> 'uppish-kiwi'</span> - Created task run 'query_pool_snaps-60635b41-13' for task 'query_pool_snaps'\n",
       "</pre>\n"
      ],
      "text/plain": [
       "17:15:59.751 | \u001b[36mINFO\u001b[0m    | Flow run\u001b[35m 'uppish-kiwi'\u001b[0m - Created task run 'query_pool_snaps-60635b41-13' for task 'query_pool_snaps'\n"
      ]
     },
     "metadata": {},
     "output_type": "display_data"
    },
    {
     "data": {
      "text/html": [
       "<pre style=\"white-space:pre;overflow-x:auto;line-height:normal;font-family:Menlo,'DejaVu Sans Mono',consolas,'Courier New',monospace\">17:15:59.752 | <span style=\"color: #008080; text-decoration-color: #008080\">INFO</span>    | Flow run<span style=\"color: #800080; text-decoration-color: #800080\"> 'uppish-kiwi'</span> - Submitted task run 'query_pool_snaps-60635b41-13' for execution.\n",
       "</pre>\n"
      ],
      "text/plain": [
       "17:15:59.752 | \u001b[36mINFO\u001b[0m    | Flow run\u001b[35m 'uppish-kiwi'\u001b[0m - Submitted task run 'query_pool_snaps-60635b41-13' for execution.\n"
      ]
     },
     "metadata": {},
     "output_type": "display_data"
    },
    {
     "data": {
      "text/html": [
       "<pre style=\"white-space:pre;overflow-x:auto;line-height:normal;font-family:Menlo,'DejaVu Sans Mono',consolas,'Courier New',monospace\">17:15:59.792 | <span style=\"color: #008080; text-decoration-color: #008080\">INFO</span>    | Task run 'query_pool_vol-8bdd8db3-0' - Finished in state <span style=\"color: #008000; text-decoration-color: #008000\">Completed</span>()\n",
       "</pre>\n"
      ],
      "text/plain": [
       "17:15:59.792 | \u001b[36mINFO\u001b[0m    | Task run 'query_pool_vol-8bdd8db3-0' - Finished in state \u001b[32mCompleted\u001b[0m()\n"
      ]
     },
     "metadata": {},
     "output_type": "display_data"
    },
    {
     "data": {
      "text/html": [
       "<pre style=\"white-space:pre;overflow-x:auto;line-height:normal;font-family:Menlo,'DejaVu Sans Mono',consolas,'Courier New',monospace\">17:15:59.800 | <span style=\"color: #008080; text-decoration-color: #008080\">INFO</span>    | Task run 'query_pool_snaps-60635b41-2' - Finished in state <span style=\"color: #008000; text-decoration-color: #008000\">Completed</span>()\n",
       "</pre>\n"
      ],
      "text/plain": [
       "17:15:59.800 | \u001b[36mINFO\u001b[0m    | Task run 'query_pool_snaps-60635b41-2' - Finished in state \u001b[32mCompleted\u001b[0m()\n"
      ]
     },
     "metadata": {},
     "output_type": "display_data"
    },
    {
     "data": {
      "text/html": [
       "<pre style=\"white-space:pre;overflow-x:auto;line-height:normal;font-family:Menlo,'DejaVu Sans Mono',consolas,'Courier New',monospace\">17:15:59.923 | <span style=\"color: #008080; text-decoration-color: #008080\">INFO</span>    | Task run 'query_pool_snaps-60635b41-11' - Finished in state <span style=\"color: #008000; text-decoration-color: #008000\">Completed</span>()\n",
       "</pre>\n"
      ],
      "text/plain": [
       "17:15:59.923 | \u001b[36mINFO\u001b[0m    | Task run 'query_pool_snaps-60635b41-11' - Finished in state \u001b[32mCompleted\u001b[0m()\n"
      ]
     },
     "metadata": {},
     "output_type": "display_data"
    },
    {
     "data": {
      "text/html": [
       "<pre style=\"white-space:pre;overflow-x:auto;line-height:normal;font-family:Menlo,'DejaVu Sans Mono',consolas,'Courier New',monospace\">17:15:59.930 | <span style=\"color: #008080; text-decoration-color: #008080\">INFO</span>    | Task run 'query_pool_snaps-60635b41-8' - Finished in state <span style=\"color: #008000; text-decoration-color: #008000\">Completed</span>()\n",
       "</pre>\n"
      ],
      "text/plain": [
       "17:15:59.930 | \u001b[36mINFO\u001b[0m    | Task run 'query_pool_snaps-60635b41-8' - Finished in state \u001b[32mCompleted\u001b[0m()\n"
      ]
     },
     "metadata": {},
     "output_type": "display_data"
    },
    {
     "data": {
      "text/html": [
       "<pre style=\"white-space:pre;overflow-x:auto;line-height:normal;font-family:Menlo,'DejaVu Sans Mono',consolas,'Courier New',monospace\">17:15:59.934 | <span style=\"color: #008080; text-decoration-color: #008080\">INFO</span>    | Task run 'query_pool_snaps-60635b41-0' - Finished in state <span style=\"color: #008000; text-decoration-color: #008000\">Completed</span>()\n",
       "</pre>\n"
      ],
      "text/plain": [
       "17:15:59.934 | \u001b[36mINFO\u001b[0m    | Task run 'query_pool_snaps-60635b41-0' - Finished in state \u001b[32mCompleted\u001b[0m()\n"
      ]
     },
     "metadata": {},
     "output_type": "display_data"
    },
    {
     "data": {
      "text/html": [
       "<pre style=\"white-space:pre;overflow-x:auto;line-height:normal;font-family:Menlo,'DejaVu Sans Mono',consolas,'Courier New',monospace\">17:15:59.939 | <span style=\"color: #008080; text-decoration-color: #008080\">INFO</span>    | Task run 'query_pool_vol-8bdd8db3-2' - Finished in state <span style=\"color: #008000; text-decoration-color: #008000\">Completed</span>()\n",
       "</pre>\n"
      ],
      "text/plain": [
       "17:15:59.939 | \u001b[36mINFO\u001b[0m    | Task run 'query_pool_vol-8bdd8db3-2' - Finished in state \u001b[32mCompleted\u001b[0m()\n"
      ]
     },
     "metadata": {},
     "output_type": "display_data"
    },
    {
     "data": {
      "text/html": [
       "<pre style=\"white-space:pre;overflow-x:auto;line-height:normal;font-family:Menlo,'DejaVu Sans Mono',consolas,'Courier New',monospace\">17:15:59.950 | <span style=\"color: #008080; text-decoration-color: #008080\">INFO</span>    | Task run 'query_pool_vol-8bdd8db3-8' - Finished in state <span style=\"color: #008000; text-decoration-color: #008000\">Completed</span>()\n",
       "</pre>\n"
      ],
      "text/plain": [
       "17:15:59.950 | \u001b[36mINFO\u001b[0m    | Task run 'query_pool_vol-8bdd8db3-8' - Finished in state \u001b[32mCompleted\u001b[0m()\n"
      ]
     },
     "metadata": {},
     "output_type": "display_data"
    },
    {
     "data": {
      "text/html": [
       "<pre style=\"white-space:pre;overflow-x:auto;line-height:normal;font-family:Menlo,'DejaVu Sans Mono',consolas,'Courier New',monospace\">17:15:59.955 | <span style=\"color: #008080; text-decoration-color: #008080\">INFO</span>    | Task run 'query_pool_snaps-60635b41-9' - Finished in state <span style=\"color: #008000; text-decoration-color: #008000\">Completed</span>()\n",
       "</pre>\n"
      ],
      "text/plain": [
       "17:15:59.955 | \u001b[36mINFO\u001b[0m    | Task run 'query_pool_snaps-60635b41-9' - Finished in state \u001b[32mCompleted\u001b[0m()\n"
      ]
     },
     "metadata": {},
     "output_type": "display_data"
    },
    {
     "data": {
      "text/html": [
       "<pre style=\"white-space:pre;overflow-x:auto;line-height:normal;font-family:Menlo,'DejaVu Sans Mono',consolas,'Courier New',monospace\">17:15:59.993 | <span style=\"color: #008080; text-decoration-color: #008080\">INFO</span>    | Task run 'query_pool_vol-8bdd8db3-3' - Finished in state <span style=\"color: #008000; text-decoration-color: #008000\">Completed</span>()\n",
       "</pre>\n"
      ],
      "text/plain": [
       "17:15:59.993 | \u001b[36mINFO\u001b[0m    | Task run 'query_pool_vol-8bdd8db3-3' - Finished in state \u001b[32mCompleted\u001b[0m()\n"
      ]
     },
     "metadata": {},
     "output_type": "display_data"
    },
    {
     "data": {
      "text/html": [
       "<pre style=\"white-space:pre;overflow-x:auto;line-height:normal;font-family:Menlo,'DejaVu Sans Mono',consolas,'Courier New',monospace\">17:16:00.034 | <span style=\"color: #008080; text-decoration-color: #008080\">INFO</span>    | Flow run<span style=\"color: #800080; text-decoration-color: #800080\"> 'uppish-kiwi'</span> - Created task run 'query_pool_snaps-60635b41-4' for task 'query_pool_snaps'\n",
       "</pre>\n"
      ],
      "text/plain": [
       "17:16:00.034 | \u001b[36mINFO\u001b[0m    | Flow run\u001b[35m 'uppish-kiwi'\u001b[0m - Created task run 'query_pool_snaps-60635b41-4' for task 'query_pool_snaps'\n"
      ]
     },
     "metadata": {},
     "output_type": "display_data"
    },
    {
     "data": {
      "text/html": [
       "<pre style=\"white-space:pre;overflow-x:auto;line-height:normal;font-family:Menlo,'DejaVu Sans Mono',consolas,'Courier New',monospace\">17:16:00.035 | <span style=\"color: #008080; text-decoration-color: #008080\">INFO</span>    | Flow run<span style=\"color: #800080; text-decoration-color: #800080\"> 'uppish-kiwi'</span> - Submitted task run 'query_pool_snaps-60635b41-4' for execution.\n",
       "</pre>\n"
      ],
      "text/plain": [
       "17:16:00.035 | \u001b[36mINFO\u001b[0m    | Flow run\u001b[35m 'uppish-kiwi'\u001b[0m - Submitted task run 'query_pool_snaps-60635b41-4' for execution.\n"
      ]
     },
     "metadata": {},
     "output_type": "display_data"
    },
    {
     "data": {
      "text/html": [
       "<pre style=\"white-space:pre;overflow-x:auto;line-height:normal;font-family:Menlo,'DejaVu Sans Mono',consolas,'Courier New',monospace\">17:16:00.059 | <span style=\"color: #008080; text-decoration-color: #008080\">INFO</span>    | Flow run<span style=\"color: #800080; text-decoration-color: #800080\"> 'uppish-kiwi'</span> - Created task run 'query_pool_vol-8bdd8db3-10' for task 'query_pool_vol'\n",
       "</pre>\n"
      ],
      "text/plain": [
       "17:16:00.059 | \u001b[36mINFO\u001b[0m    | Flow run\u001b[35m 'uppish-kiwi'\u001b[0m - Created task run 'query_pool_vol-8bdd8db3-10' for task 'query_pool_vol'\n"
      ]
     },
     "metadata": {},
     "output_type": "display_data"
    },
    {
     "data": {
      "text/html": [
       "<pre style=\"white-space:pre;overflow-x:auto;line-height:normal;font-family:Menlo,'DejaVu Sans Mono',consolas,'Courier New',monospace\">17:16:00.060 | <span style=\"color: #008080; text-decoration-color: #008080\">INFO</span>    | Flow run<span style=\"color: #800080; text-decoration-color: #800080\"> 'uppish-kiwi'</span> - Submitted task run 'query_pool_vol-8bdd8db3-10' for execution.\n",
       "</pre>\n"
      ],
      "text/plain": [
       "17:16:00.060 | \u001b[36mINFO\u001b[0m    | Flow run\u001b[35m 'uppish-kiwi'\u001b[0m - Submitted task run 'query_pool_vol-8bdd8db3-10' for execution.\n"
      ]
     },
     "metadata": {},
     "output_type": "display_data"
    },
    {
     "data": {
      "text/html": [
       "<pre style=\"white-space:pre;overflow-x:auto;line-height:normal;font-family:Menlo,'DejaVu Sans Mono',consolas,'Courier New',monospace\">17:16:00.140 | <span style=\"color: #008080; text-decoration-color: #008080\">INFO</span>    | Flow run<span style=\"color: #800080; text-decoration-color: #800080\"> 'uppish-kiwi'</span> - Created task run 'query_pool_vol-8bdd8db3-5' for task 'query_pool_vol'\n",
       "</pre>\n"
      ],
      "text/plain": [
       "17:16:00.140 | \u001b[36mINFO\u001b[0m    | Flow run\u001b[35m 'uppish-kiwi'\u001b[0m - Created task run 'query_pool_vol-8bdd8db3-5' for task 'query_pool_vol'\n"
      ]
     },
     "metadata": {},
     "output_type": "display_data"
    },
    {
     "data": {
      "text/html": [
       "<pre style=\"white-space:pre;overflow-x:auto;line-height:normal;font-family:Menlo,'DejaVu Sans Mono',consolas,'Courier New',monospace\">17:16:00.141 | <span style=\"color: #008080; text-decoration-color: #008080\">INFO</span>    | Flow run<span style=\"color: #800080; text-decoration-color: #800080\"> 'uppish-kiwi'</span> - Submitted task run 'query_pool_vol-8bdd8db3-5' for execution.\n",
       "</pre>\n"
      ],
      "text/plain": [
       "17:16:00.141 | \u001b[36mINFO\u001b[0m    | Flow run\u001b[35m 'uppish-kiwi'\u001b[0m - Submitted task run 'query_pool_vol-8bdd8db3-5' for execution.\n"
      ]
     },
     "metadata": {},
     "output_type": "display_data"
    },
    {
     "data": {
      "text/html": [
       "<pre style=\"white-space:pre;overflow-x:auto;line-height:normal;font-family:Menlo,'DejaVu Sans Mono',consolas,'Courier New',monospace\">17:16:00.163 | <span style=\"color: #008080; text-decoration-color: #008080\">INFO</span>    | Flow run<span style=\"color: #800080; text-decoration-color: #800080\"> 'uppish-kiwi'</span> - Created task run 'query_pool_vol-8bdd8db3-13' for task 'query_pool_vol'\n",
       "</pre>\n"
      ],
      "text/plain": [
       "17:16:00.163 | \u001b[36mINFO\u001b[0m    | Flow run\u001b[35m 'uppish-kiwi'\u001b[0m - Created task run 'query_pool_vol-8bdd8db3-13' for task 'query_pool_vol'\n"
      ]
     },
     "metadata": {},
     "output_type": "display_data"
    },
    {
     "data": {
      "text/html": [
       "<pre style=\"white-space:pre;overflow-x:auto;line-height:normal;font-family:Menlo,'DejaVu Sans Mono',consolas,'Courier New',monospace\">17:16:00.164 | <span style=\"color: #008080; text-decoration-color: #008080\">INFO</span>    | Flow run<span style=\"color: #800080; text-decoration-color: #800080\"> 'uppish-kiwi'</span> - Submitted task run 'query_pool_vol-8bdd8db3-13' for execution.\n",
       "</pre>\n"
      ],
      "text/plain": [
       "17:16:00.164 | \u001b[36mINFO\u001b[0m    | Flow run\u001b[35m 'uppish-kiwi'\u001b[0m - Submitted task run 'query_pool_vol-8bdd8db3-13' for execution.\n"
      ]
     },
     "metadata": {},
     "output_type": "display_data"
    },
    {
     "data": {
      "text/html": [
       "<pre style=\"white-space:pre;overflow-x:auto;line-height:normal;font-family:Menlo,'DejaVu Sans Mono',consolas,'Courier New',monospace\">17:16:00.238 | <span style=\"color: #008080; text-decoration-color: #008080\">INFO</span>    | Task run 'query_pool_snaps-60635b41-1' - Finished in state <span style=\"color: #008000; text-decoration-color: #008000\">Completed</span>()\n",
       "</pre>\n"
      ],
      "text/plain": [
       "17:16:00.238 | \u001b[36mINFO\u001b[0m    | Task run 'query_pool_snaps-60635b41-1' - Finished in state \u001b[32mCompleted\u001b[0m()\n"
      ]
     },
     "metadata": {},
     "output_type": "display_data"
    },
    {
     "data": {
      "text/html": [
       "<pre style=\"white-space:pre;overflow-x:auto;line-height:normal;font-family:Menlo,'DejaVu Sans Mono',consolas,'Courier New',monospace\">17:16:00.243 | <span style=\"color: #008080; text-decoration-color: #008080\">INFO</span>    | Task run 'query_pool_vol-8bdd8db3-4' - Finished in state <span style=\"color: #008000; text-decoration-color: #008000\">Completed</span>()\n",
       "</pre>\n"
      ],
      "text/plain": [
       "17:16:00.243 | \u001b[36mINFO\u001b[0m    | Task run 'query_pool_vol-8bdd8db3-4' - Finished in state \u001b[32mCompleted\u001b[0m()\n"
      ]
     },
     "metadata": {},
     "output_type": "display_data"
    },
    {
     "data": {
      "text/html": [
       "<pre style=\"white-space:pre;overflow-x:auto;line-height:normal;font-family:Menlo,'DejaVu Sans Mono',consolas,'Courier New',monospace\">17:16:00.271 | <span style=\"color: #008080; text-decoration-color: #008080\">INFO</span>    | Flow run<span style=\"color: #800080; text-decoration-color: #800080\"> 'uppish-kiwi'</span> - Created task run 'query_pool_vol-8bdd8db3-9' for task 'query_pool_vol'\n",
       "</pre>\n"
      ],
      "text/plain": [
       "17:16:00.271 | \u001b[36mINFO\u001b[0m    | Flow run\u001b[35m 'uppish-kiwi'\u001b[0m - Created task run 'query_pool_vol-8bdd8db3-9' for task 'query_pool_vol'\n"
      ]
     },
     "metadata": {},
     "output_type": "display_data"
    },
    {
     "data": {
      "text/html": [
       "<pre style=\"white-space:pre;overflow-x:auto;line-height:normal;font-family:Menlo,'DejaVu Sans Mono',consolas,'Courier New',monospace\">17:16:00.272 | <span style=\"color: #008080; text-decoration-color: #008080\">INFO</span>    | Flow run<span style=\"color: #800080; text-decoration-color: #800080\"> 'uppish-kiwi'</span> - Submitted task run 'query_pool_vol-8bdd8db3-9' for execution.\n",
       "</pre>\n"
      ],
      "text/plain": [
       "17:16:00.272 | \u001b[36mINFO\u001b[0m    | Flow run\u001b[35m 'uppish-kiwi'\u001b[0m - Submitted task run 'query_pool_vol-8bdd8db3-9' for execution.\n"
      ]
     },
     "metadata": {},
     "output_type": "display_data"
    },
    {
     "data": {
      "text/html": [
       "<pre style=\"white-space:pre;overflow-x:auto;line-height:normal;font-family:Menlo,'DejaVu Sans Mono',consolas,'Courier New',monospace\">17:16:00.315 | <span style=\"color: #008080; text-decoration-color: #008080\">INFO</span>    | Task run 'query_pool_vol-8bdd8db3-10' - Finished in state <span style=\"color: #008000; text-decoration-color: #008000\">Completed</span>()\n",
       "</pre>\n"
      ],
      "text/plain": [
       "17:16:00.315 | \u001b[36mINFO\u001b[0m    | Task run 'query_pool_vol-8bdd8db3-10' - Finished in state \u001b[32mCompleted\u001b[0m()\n"
      ]
     },
     "metadata": {},
     "output_type": "display_data"
    },
    {
     "data": {
      "text/html": [
       "<pre style=\"white-space:pre;overflow-x:auto;line-height:normal;font-family:Menlo,'DejaVu Sans Mono',consolas,'Courier New',monospace\">17:16:00.564 | <span style=\"color: #008080; text-decoration-color: #008080\">INFO</span>    | Task run 'query_pool_vol-8bdd8db3-9' - Finished in state <span style=\"color: #008000; text-decoration-color: #008000\">Completed</span>()\n",
       "</pre>\n"
      ],
      "text/plain": [
       "17:16:00.564 | \u001b[36mINFO\u001b[0m    | Task run 'query_pool_vol-8bdd8db3-9' - Finished in state \u001b[32mCompleted\u001b[0m()\n"
      ]
     },
     "metadata": {},
     "output_type": "display_data"
    },
    {
     "data": {
      "text/html": [
       "<pre style=\"white-space:pre;overflow-x:auto;line-height:normal;font-family:Menlo,'DejaVu Sans Mono',consolas,'Courier New',monospace\">17:16:00.570 | <span style=\"color: #008080; text-decoration-color: #008080\">INFO</span>    | Task run 'query_pool_snaps-60635b41-4' - Finished in state <span style=\"color: #008000; text-decoration-color: #008000\">Completed</span>()\n",
       "</pre>\n"
      ],
      "text/plain": [
       "17:16:00.570 | \u001b[36mINFO\u001b[0m    | Task run 'query_pool_snaps-60635b41-4' - Finished in state \u001b[32mCompleted\u001b[0m()\n"
      ]
     },
     "metadata": {},
     "output_type": "display_data"
    },
    {
     "data": {
      "text/html": [
       "<pre style=\"white-space:pre;overflow-x:auto;line-height:normal;font-family:Menlo,'DejaVu Sans Mono',consolas,'Courier New',monospace\">17:16:29.646 | <span style=\"color: #008080; text-decoration-color: #008080\">INFO</span>    | Task run 'query_pool_snaps-60635b41-3' - Finished in state <span style=\"color: #008000; text-decoration-color: #008000\">Completed</span>()\n",
       "</pre>\n"
      ],
      "text/plain": [
       "17:16:29.646 | \u001b[36mINFO\u001b[0m    | Task run 'query_pool_snaps-60635b41-3' - Finished in state \u001b[32mCompleted\u001b[0m()\n"
      ]
     },
     "metadata": {},
     "output_type": "display_data"
    },
    {
     "data": {
      "text/html": [
       "<pre style=\"white-space:pre;overflow-x:auto;line-height:normal;font-family:Menlo,'DejaVu Sans Mono',consolas,'Courier New',monospace\">17:16:29.719 | <span style=\"color: #008080; text-decoration-color: #008080\">INFO</span>    | Task run 'query_pool_vol-8bdd8db3-11' - Finished in state <span style=\"color: #008000; text-decoration-color: #008000\">Completed</span>()\n",
       "</pre>\n"
      ],
      "text/plain": [
       "17:16:29.719 | \u001b[36mINFO\u001b[0m    | Task run 'query_pool_vol-8bdd8db3-11' - Finished in state \u001b[32mCompleted\u001b[0m()\n"
      ]
     },
     "metadata": {},
     "output_type": "display_data"
    },
    {
     "data": {
      "text/html": [
       "<pre style=\"white-space:pre;overflow-x:auto;line-height:normal;font-family:Menlo,'DejaVu Sans Mono',consolas,'Courier New',monospace\">17:16:29.925 | <span style=\"color: #008080; text-decoration-color: #008080\">INFO</span>    | Task run 'query_pool_vol-8bdd8db3-1' - Finished in state <span style=\"color: #008000; text-decoration-color: #008000\">Completed</span>()\n",
       "</pre>\n"
      ],
      "text/plain": [
       "17:16:29.925 | \u001b[36mINFO\u001b[0m    | Task run 'query_pool_vol-8bdd8db3-1' - Finished in state \u001b[32mCompleted\u001b[0m()\n"
      ]
     },
     "metadata": {},
     "output_type": "display_data"
    },
    {
     "data": {
      "text/html": [
       "<pre style=\"white-space:pre;overflow-x:auto;line-height:normal;font-family:Menlo,'DejaVu Sans Mono',consolas,'Courier New',monospace\">17:16:30.029 | <span style=\"color: #008080; text-decoration-color: #008080\">INFO</span>    | Task run 'query_pool_snaps-60635b41-13' - Finished in state <span style=\"color: #008000; text-decoration-color: #008000\">Completed</span>()\n",
       "</pre>\n"
      ],
      "text/plain": [
       "17:16:30.029 | \u001b[36mINFO\u001b[0m    | Task run 'query_pool_snaps-60635b41-13' - Finished in state \u001b[32mCompleted\u001b[0m()\n"
      ]
     },
     "metadata": {},
     "output_type": "display_data"
    },
    {
     "data": {
      "text/html": [
       "<pre style=\"white-space:pre;overflow-x:auto;line-height:normal;font-family:Menlo,'DejaVu Sans Mono',consolas,'Courier New',monospace\">17:16:30.390 | <span style=\"color: #008080; text-decoration-color: #008080\">INFO</span>    | Task run 'query_pool_vol-8bdd8db3-13' - Finished in state <span style=\"color: #008000; text-decoration-color: #008000\">Completed</span>()\n",
       "</pre>\n"
      ],
      "text/plain": [
       "17:16:30.390 | \u001b[36mINFO\u001b[0m    | Task run 'query_pool_vol-8bdd8db3-13' - Finished in state \u001b[32mCompleted\u001b[0m()\n"
      ]
     },
     "metadata": {},
     "output_type": "display_data"
    },
    {
     "data": {
      "text/html": [
       "<pre style=\"white-space:pre;overflow-x:auto;line-height:normal;font-family:Menlo,'DejaVu Sans Mono',consolas,'Courier New',monospace\">17:16:30.429 | <span style=\"color: #008080; text-decoration-color: #008080\">INFO</span>    | Task run 'query_pool_vol-8bdd8db3-5' - Finished in state <span style=\"color: #008000; text-decoration-color: #008000\">Completed</span>()\n",
       "</pre>\n"
      ],
      "text/plain": [
       "17:16:30.429 | \u001b[36mINFO\u001b[0m    | Task run 'query_pool_vol-8bdd8db3-5' - Finished in state \u001b[32mCompleted\u001b[0m()\n"
      ]
     },
     "metadata": {},
     "output_type": "display_data"
    },
    {
     "data": {
      "text/html": [
       "<pre style=\"white-space:pre;overflow-x:auto;line-height:normal;font-family:Menlo,'DejaVu Sans Mono',consolas,'Courier New',monospace\">17:17:00.032 | <span style=\"color: #008080; text-decoration-color: #008080\">INFO</span>    | Task run 'query_pool_snaps-60635b41-10' - Finished in state <span style=\"color: #008000; text-decoration-color: #008000\">Completed</span>()\n",
       "</pre>\n"
      ],
      "text/plain": [
       "17:17:00.032 | \u001b[36mINFO\u001b[0m    | Task run 'query_pool_snaps-60635b41-10' - Finished in state \u001b[32mCompleted\u001b[0m()\n"
      ]
     },
     "metadata": {},
     "output_type": "display_data"
    },
    {
     "data": {
      "text/html": [
       "<pre style=\"white-space:pre;overflow-x:auto;line-height:normal;font-family:Menlo,'DejaVu Sans Mono',consolas,'Courier New',monospace\">17:17:00.044 | <span style=\"color: #008080; text-decoration-color: #008080\">INFO</span>    | Flow run<span style=\"color: #800080; text-decoration-color: #800080\"> 'uppish-kiwi'</span> - Created task run 'process_pool_snaps-bb91f77b-0' for task 'process_pool_snaps'\n",
       "</pre>\n"
      ],
      "text/plain": [
       "17:17:00.044 | \u001b[36mINFO\u001b[0m    | Flow run\u001b[35m 'uppish-kiwi'\u001b[0m - Created task run 'process_pool_snaps-bb91f77b-0' for task 'process_pool_snaps'\n"
      ]
     },
     "metadata": {},
     "output_type": "display_data"
    },
    {
     "data": {
      "text/html": [
       "<pre style=\"white-space:pre;overflow-x:auto;line-height:normal;font-family:Menlo,'DejaVu Sans Mono',consolas,'Courier New',monospace\">17:17:00.045 | <span style=\"color: #008080; text-decoration-color: #008080\">INFO</span>    | Flow run<span style=\"color: #800080; text-decoration-color: #800080\"> 'uppish-kiwi'</span> - Executing 'process_pool_snaps-bb91f77b-0' immediately...\n",
       "</pre>\n"
      ],
      "text/plain": [
       "17:17:00.045 | \u001b[36mINFO\u001b[0m    | Flow run\u001b[35m 'uppish-kiwi'\u001b[0m - Executing 'process_pool_snaps-bb91f77b-0' immediately...\n"
      ]
     },
     "metadata": {},
     "output_type": "display_data"
    },
    {
     "data": {
      "text/html": [
       "<pre style=\"white-space:pre;overflow-x:auto;line-height:normal;font-family:Menlo,'DejaVu Sans Mono',consolas,'Courier New',monospace\">17:17:00.069 | <span style=\"color: #008080; text-decoration-color: #008080\">INFO</span>    | Task run 'process_pool_snaps-bb91f77b-0' - Finished in state <span style=\"color: #008000; text-decoration-color: #008000\">Completed</span>()\n",
       "</pre>\n"
      ],
      "text/plain": [
       "17:17:00.069 | \u001b[36mINFO\u001b[0m    | Task run 'process_pool_snaps-bb91f77b-0' - Finished in state \u001b[32mCompleted\u001b[0m()\n"
      ]
     },
     "metadata": {},
     "output_type": "display_data"
    },
    {
     "data": {
      "text/html": [
       "<pre style=\"white-space:pre;overflow-x:auto;line-height:normal;font-family:Menlo,'DejaVu Sans Mono',consolas,'Courier New',monospace\">17:17:00.079 | <span style=\"color: #008080; text-decoration-color: #008080\">INFO</span>    | Flow run<span style=\"color: #800080; text-decoration-color: #800080\"> 'uppish-kiwi'</span> - Created task run 'process_pool_snaps-bb91f77b-1' for task 'process_pool_snaps'\n",
       "</pre>\n"
      ],
      "text/plain": [
       "17:17:00.079 | \u001b[36mINFO\u001b[0m    | Flow run\u001b[35m 'uppish-kiwi'\u001b[0m - Created task run 'process_pool_snaps-bb91f77b-1' for task 'process_pool_snaps'\n"
      ]
     },
     "metadata": {},
     "output_type": "display_data"
    },
    {
     "data": {
      "text/html": [
       "<pre style=\"white-space:pre;overflow-x:auto;line-height:normal;font-family:Menlo,'DejaVu Sans Mono',consolas,'Courier New',monospace\">17:17:00.079 | <span style=\"color: #008080; text-decoration-color: #008080\">INFO</span>    | Flow run<span style=\"color: #800080; text-decoration-color: #800080\"> 'uppish-kiwi'</span> - Executing 'process_pool_snaps-bb91f77b-1' immediately...\n",
       "</pre>\n"
      ],
      "text/plain": [
       "17:17:00.079 | \u001b[36mINFO\u001b[0m    | Flow run\u001b[35m 'uppish-kiwi'\u001b[0m - Executing 'process_pool_snaps-bb91f77b-1' immediately...\n"
      ]
     },
     "metadata": {},
     "output_type": "display_data"
    },
    {
     "data": {
      "text/html": [
       "<pre style=\"white-space:pre;overflow-x:auto;line-height:normal;font-family:Menlo,'DejaVu Sans Mono',consolas,'Courier New',monospace\">17:17:00.107 | <span style=\"color: #008080; text-decoration-color: #008080\">INFO</span>    | Task run 'process_pool_snaps-bb91f77b-1' - Finished in state <span style=\"color: #008000; text-decoration-color: #008000\">Completed</span>()\n",
       "</pre>\n"
      ],
      "text/plain": [
       "17:17:00.107 | \u001b[36mINFO\u001b[0m    | Task run 'process_pool_snaps-bb91f77b-1' - Finished in state \u001b[32mCompleted\u001b[0m()\n"
      ]
     },
     "metadata": {},
     "output_type": "display_data"
    },
    {
     "data": {
      "text/html": [
       "<pre style=\"white-space:pre;overflow-x:auto;line-height:normal;font-family:Menlo,'DejaVu Sans Mono',consolas,'Courier New',monospace\">17:17:00.117 | <span style=\"color: #008080; text-decoration-color: #008080\">INFO</span>    | Flow run<span style=\"color: #800080; text-decoration-color: #800080\"> 'uppish-kiwi'</span> - Created task run 'process_pool_snaps-bb91f77b-2' for task 'process_pool_snaps'\n",
       "</pre>\n"
      ],
      "text/plain": [
       "17:17:00.117 | \u001b[36mINFO\u001b[0m    | Flow run\u001b[35m 'uppish-kiwi'\u001b[0m - Created task run 'process_pool_snaps-bb91f77b-2' for task 'process_pool_snaps'\n"
      ]
     },
     "metadata": {},
     "output_type": "display_data"
    },
    {
     "data": {
      "text/html": [
       "<pre style=\"white-space:pre;overflow-x:auto;line-height:normal;font-family:Menlo,'DejaVu Sans Mono',consolas,'Courier New',monospace\">17:17:00.118 | <span style=\"color: #008080; text-decoration-color: #008080\">INFO</span>    | Flow run<span style=\"color: #800080; text-decoration-color: #800080\"> 'uppish-kiwi'</span> - Executing 'process_pool_snaps-bb91f77b-2' immediately...\n",
       "</pre>\n"
      ],
      "text/plain": [
       "17:17:00.118 | \u001b[36mINFO\u001b[0m    | Flow run\u001b[35m 'uppish-kiwi'\u001b[0m - Executing 'process_pool_snaps-bb91f77b-2' immediately...\n"
      ]
     },
     "metadata": {},
     "output_type": "display_data"
    },
    {
     "data": {
      "text/html": [
       "<pre style=\"white-space:pre;overflow-x:auto;line-height:normal;font-family:Menlo,'DejaVu Sans Mono',consolas,'Courier New',monospace\">17:17:00.142 | <span style=\"color: #008080; text-decoration-color: #008080\">INFO</span>    | Task run 'process_pool_snaps-bb91f77b-2' - Finished in state <span style=\"color: #008000; text-decoration-color: #008000\">Completed</span>()\n",
       "</pre>\n"
      ],
      "text/plain": [
       "17:17:00.142 | \u001b[36mINFO\u001b[0m    | Task run 'process_pool_snaps-bb91f77b-2' - Finished in state \u001b[32mCompleted\u001b[0m()\n"
      ]
     },
     "metadata": {},
     "output_type": "display_data"
    },
    {
     "data": {
      "text/html": [
       "<pre style=\"white-space:pre;overflow-x:auto;line-height:normal;font-family:Menlo,'DejaVu Sans Mono',consolas,'Courier New',monospace\">17:17:00.151 | <span style=\"color: #008080; text-decoration-color: #008080\">INFO</span>    | Flow run<span style=\"color: #800080; text-decoration-color: #800080\"> 'uppish-kiwi'</span> - Created task run 'process_pool_snaps-bb91f77b-3' for task 'process_pool_snaps'\n",
       "</pre>\n"
      ],
      "text/plain": [
       "17:17:00.151 | \u001b[36mINFO\u001b[0m    | Flow run\u001b[35m 'uppish-kiwi'\u001b[0m - Created task run 'process_pool_snaps-bb91f77b-3' for task 'process_pool_snaps'\n"
      ]
     },
     "metadata": {},
     "output_type": "display_data"
    },
    {
     "data": {
      "text/html": [
       "<pre style=\"white-space:pre;overflow-x:auto;line-height:normal;font-family:Menlo,'DejaVu Sans Mono',consolas,'Courier New',monospace\">17:17:00.151 | <span style=\"color: #008080; text-decoration-color: #008080\">INFO</span>    | Flow run<span style=\"color: #800080; text-decoration-color: #800080\"> 'uppish-kiwi'</span> - Executing 'process_pool_snaps-bb91f77b-3' immediately...\n",
       "</pre>\n"
      ],
      "text/plain": [
       "17:17:00.151 | \u001b[36mINFO\u001b[0m    | Flow run\u001b[35m 'uppish-kiwi'\u001b[0m - Executing 'process_pool_snaps-bb91f77b-3' immediately...\n"
      ]
     },
     "metadata": {},
     "output_type": "display_data"
    },
    {
     "data": {
      "text/html": [
       "<pre style=\"white-space:pre;overflow-x:auto;line-height:normal;font-family:Menlo,'DejaVu Sans Mono',consolas,'Courier New',monospace\">17:17:00.175 | <span style=\"color: #008080; text-decoration-color: #008080\">INFO</span>    | Task run 'process_pool_snaps-bb91f77b-3' - Finished in state <span style=\"color: #008000; text-decoration-color: #008000\">Completed</span>()\n",
       "</pre>\n"
      ],
      "text/plain": [
       "17:17:00.175 | \u001b[36mINFO\u001b[0m    | Task run 'process_pool_snaps-bb91f77b-3' - Finished in state \u001b[32mCompleted\u001b[0m()\n"
      ]
     },
     "metadata": {},
     "output_type": "display_data"
    },
    {
     "data": {
      "text/html": [
       "<pre style=\"white-space:pre;overflow-x:auto;line-height:normal;font-family:Menlo,'DejaVu Sans Mono',consolas,'Courier New',monospace\">17:17:00.184 | <span style=\"color: #008080; text-decoration-color: #008080\">INFO</span>    | Flow run<span style=\"color: #800080; text-decoration-color: #800080\"> 'uppish-kiwi'</span> - Created task run 'process_pool_snaps-bb91f77b-4' for task 'process_pool_snaps'\n",
       "</pre>\n"
      ],
      "text/plain": [
       "17:17:00.184 | \u001b[36mINFO\u001b[0m    | Flow run\u001b[35m 'uppish-kiwi'\u001b[0m - Created task run 'process_pool_snaps-bb91f77b-4' for task 'process_pool_snaps'\n"
      ]
     },
     "metadata": {},
     "output_type": "display_data"
    },
    {
     "data": {
      "text/html": [
       "<pre style=\"white-space:pre;overflow-x:auto;line-height:normal;font-family:Menlo,'DejaVu Sans Mono',consolas,'Courier New',monospace\">17:17:00.185 | <span style=\"color: #008080; text-decoration-color: #008080\">INFO</span>    | Flow run<span style=\"color: #800080; text-decoration-color: #800080\"> 'uppish-kiwi'</span> - Executing 'process_pool_snaps-bb91f77b-4' immediately...\n",
       "</pre>\n"
      ],
      "text/plain": [
       "17:17:00.185 | \u001b[36mINFO\u001b[0m    | Flow run\u001b[35m 'uppish-kiwi'\u001b[0m - Executing 'process_pool_snaps-bb91f77b-4' immediately...\n"
      ]
     },
     "metadata": {},
     "output_type": "display_data"
    },
    {
     "data": {
      "text/html": [
       "<pre style=\"white-space:pre;overflow-x:auto;line-height:normal;font-family:Menlo,'DejaVu Sans Mono',consolas,'Courier New',monospace\">17:17:00.208 | <span style=\"color: #008080; text-decoration-color: #008080\">INFO</span>    | Task run 'process_pool_snaps-bb91f77b-4' - Finished in state <span style=\"color: #008000; text-decoration-color: #008000\">Completed</span>()\n",
       "</pre>\n"
      ],
      "text/plain": [
       "17:17:00.208 | \u001b[36mINFO\u001b[0m    | Task run 'process_pool_snaps-bb91f77b-4' - Finished in state \u001b[32mCompleted\u001b[0m()\n"
      ]
     },
     "metadata": {},
     "output_type": "display_data"
    },
    {
     "data": {
      "text/html": [
       "<pre style=\"white-space:pre;overflow-x:auto;line-height:normal;font-family:Menlo,'DejaVu Sans Mono',consolas,'Courier New',monospace\">17:17:00.217 | <span style=\"color: #008080; text-decoration-color: #008080\">INFO</span>    | Flow run<span style=\"color: #800080; text-decoration-color: #800080\"> 'uppish-kiwi'</span> - Created task run 'process_pool_snaps-bb91f77b-5' for task 'process_pool_snaps'\n",
       "</pre>\n"
      ],
      "text/plain": [
       "17:17:00.217 | \u001b[36mINFO\u001b[0m    | Flow run\u001b[35m 'uppish-kiwi'\u001b[0m - Created task run 'process_pool_snaps-bb91f77b-5' for task 'process_pool_snaps'\n"
      ]
     },
     "metadata": {},
     "output_type": "display_data"
    },
    {
     "data": {
      "text/html": [
       "<pre style=\"white-space:pre;overflow-x:auto;line-height:normal;font-family:Menlo,'DejaVu Sans Mono',consolas,'Courier New',monospace\">17:17:00.218 | <span style=\"color: #008080; text-decoration-color: #008080\">INFO</span>    | Flow run<span style=\"color: #800080; text-decoration-color: #800080\"> 'uppish-kiwi'</span> - Executing 'process_pool_snaps-bb91f77b-5' immediately...\n",
       "</pre>\n"
      ],
      "text/plain": [
       "17:17:00.218 | \u001b[36mINFO\u001b[0m    | Flow run\u001b[35m 'uppish-kiwi'\u001b[0m - Executing 'process_pool_snaps-bb91f77b-5' immediately...\n"
      ]
     },
     "metadata": {},
     "output_type": "display_data"
    },
    {
     "data": {
      "text/html": [
       "<pre style=\"white-space:pre;overflow-x:auto;line-height:normal;font-family:Menlo,'DejaVu Sans Mono',consolas,'Courier New',monospace\">17:17:00.240 | <span style=\"color: #008080; text-decoration-color: #008080\">INFO</span>    | Task run 'process_pool_snaps-bb91f77b-5' - Finished in state <span style=\"color: #008000; text-decoration-color: #008000\">Completed</span>()\n",
       "</pre>\n"
      ],
      "text/plain": [
       "17:17:00.240 | \u001b[36mINFO\u001b[0m    | Task run 'process_pool_snaps-bb91f77b-5' - Finished in state \u001b[32mCompleted\u001b[0m()\n"
      ]
     },
     "metadata": {},
     "output_type": "display_data"
    },
    {
     "data": {
      "text/html": [
       "<pre style=\"white-space:pre;overflow-x:auto;line-height:normal;font-family:Menlo,'DejaVu Sans Mono',consolas,'Courier New',monospace\">17:17:00.249 | <span style=\"color: #008080; text-decoration-color: #008080\">INFO</span>    | Flow run<span style=\"color: #800080; text-decoration-color: #800080\"> 'uppish-kiwi'</span> - Created task run 'process_pool_snaps-bb91f77b-6' for task 'process_pool_snaps'\n",
       "</pre>\n"
      ],
      "text/plain": [
       "17:17:00.249 | \u001b[36mINFO\u001b[0m    | Flow run\u001b[35m 'uppish-kiwi'\u001b[0m - Created task run 'process_pool_snaps-bb91f77b-6' for task 'process_pool_snaps'\n"
      ]
     },
     "metadata": {},
     "output_type": "display_data"
    },
    {
     "data": {
      "text/html": [
       "<pre style=\"white-space:pre;overflow-x:auto;line-height:normal;font-family:Menlo,'DejaVu Sans Mono',consolas,'Courier New',monospace\">17:17:00.250 | <span style=\"color: #008080; text-decoration-color: #008080\">INFO</span>    | Flow run<span style=\"color: #800080; text-decoration-color: #800080\"> 'uppish-kiwi'</span> - Executing 'process_pool_snaps-bb91f77b-6' immediately...\n",
       "</pre>\n"
      ],
      "text/plain": [
       "17:17:00.250 | \u001b[36mINFO\u001b[0m    | Flow run\u001b[35m 'uppish-kiwi'\u001b[0m - Executing 'process_pool_snaps-bb91f77b-6' immediately...\n"
      ]
     },
     "metadata": {},
     "output_type": "display_data"
    },
    {
     "data": {
      "text/html": [
       "<pre style=\"white-space:pre;overflow-x:auto;line-height:normal;font-family:Menlo,'DejaVu Sans Mono',consolas,'Courier New',monospace\">17:17:00.272 | <span style=\"color: #008080; text-decoration-color: #008080\">INFO</span>    | Task run 'process_pool_snaps-bb91f77b-6' - Finished in state <span style=\"color: #008000; text-decoration-color: #008000\">Completed</span>()\n",
       "</pre>\n"
      ],
      "text/plain": [
       "17:17:00.272 | \u001b[36mINFO\u001b[0m    | Task run 'process_pool_snaps-bb91f77b-6' - Finished in state \u001b[32mCompleted\u001b[0m()\n"
      ]
     },
     "metadata": {},
     "output_type": "display_data"
    },
    {
     "data": {
      "text/html": [
       "<pre style=\"white-space:pre;overflow-x:auto;line-height:normal;font-family:Menlo,'DejaVu Sans Mono',consolas,'Courier New',monospace\">17:17:00.282 | <span style=\"color: #008080; text-decoration-color: #008080\">INFO</span>    | Flow run<span style=\"color: #800080; text-decoration-color: #800080\"> 'uppish-kiwi'</span> - Created task run 'process_pool_snaps-bb91f77b-7' for task 'process_pool_snaps'\n",
       "</pre>\n"
      ],
      "text/plain": [
       "17:17:00.282 | \u001b[36mINFO\u001b[0m    | Flow run\u001b[35m 'uppish-kiwi'\u001b[0m - Created task run 'process_pool_snaps-bb91f77b-7' for task 'process_pool_snaps'\n"
      ]
     },
     "metadata": {},
     "output_type": "display_data"
    },
    {
     "data": {
      "text/html": [
       "<pre style=\"white-space:pre;overflow-x:auto;line-height:normal;font-family:Menlo,'DejaVu Sans Mono',consolas,'Courier New',monospace\">17:17:00.282 | <span style=\"color: #008080; text-decoration-color: #008080\">INFO</span>    | Flow run<span style=\"color: #800080; text-decoration-color: #800080\"> 'uppish-kiwi'</span> - Executing 'process_pool_snaps-bb91f77b-7' immediately...\n",
       "</pre>\n"
      ],
      "text/plain": [
       "17:17:00.282 | \u001b[36mINFO\u001b[0m    | Flow run\u001b[35m 'uppish-kiwi'\u001b[0m - Executing 'process_pool_snaps-bb91f77b-7' immediately...\n"
      ]
     },
     "metadata": {},
     "output_type": "display_data"
    },
    {
     "data": {
      "text/html": [
       "<pre style=\"white-space:pre;overflow-x:auto;line-height:normal;font-family:Menlo,'DejaVu Sans Mono',consolas,'Courier New',monospace\">17:17:00.305 | <span style=\"color: #008080; text-decoration-color: #008080\">INFO</span>    | Task run 'process_pool_snaps-bb91f77b-7' - Finished in state <span style=\"color: #008000; text-decoration-color: #008000\">Completed</span>()\n",
       "</pre>\n"
      ],
      "text/plain": [
       "17:17:00.305 | \u001b[36mINFO\u001b[0m    | Task run 'process_pool_snaps-bb91f77b-7' - Finished in state \u001b[32mCompleted\u001b[0m()\n"
      ]
     },
     "metadata": {},
     "output_type": "display_data"
    },
    {
     "data": {
      "text/html": [
       "<pre style=\"white-space:pre;overflow-x:auto;line-height:normal;font-family:Menlo,'DejaVu Sans Mono',consolas,'Courier New',monospace\">17:17:00.315 | <span style=\"color: #008080; text-decoration-color: #008080\">INFO</span>    | Flow run<span style=\"color: #800080; text-decoration-color: #800080\"> 'uppish-kiwi'</span> - Created task run 'process_pool_snaps-bb91f77b-8' for task 'process_pool_snaps'\n",
       "</pre>\n"
      ],
      "text/plain": [
       "17:17:00.315 | \u001b[36mINFO\u001b[0m    | Flow run\u001b[35m 'uppish-kiwi'\u001b[0m - Created task run 'process_pool_snaps-bb91f77b-8' for task 'process_pool_snaps'\n"
      ]
     },
     "metadata": {},
     "output_type": "display_data"
    },
    {
     "data": {
      "text/html": [
       "<pre style=\"white-space:pre;overflow-x:auto;line-height:normal;font-family:Menlo,'DejaVu Sans Mono',consolas,'Courier New',monospace\">17:17:00.315 | <span style=\"color: #008080; text-decoration-color: #008080\">INFO</span>    | Flow run<span style=\"color: #800080; text-decoration-color: #800080\"> 'uppish-kiwi'</span> - Executing 'process_pool_snaps-bb91f77b-8' immediately...\n",
       "</pre>\n"
      ],
      "text/plain": [
       "17:17:00.315 | \u001b[36mINFO\u001b[0m    | Flow run\u001b[35m 'uppish-kiwi'\u001b[0m - Executing 'process_pool_snaps-bb91f77b-8' immediately...\n"
      ]
     },
     "metadata": {},
     "output_type": "display_data"
    },
    {
     "data": {
      "text/html": [
       "<pre style=\"white-space:pre;overflow-x:auto;line-height:normal;font-family:Menlo,'DejaVu Sans Mono',consolas,'Courier New',monospace\">17:17:00.338 | <span style=\"color: #008080; text-decoration-color: #008080\">INFO</span>    | Task run 'process_pool_snaps-bb91f77b-8' - Finished in state <span style=\"color: #008000; text-decoration-color: #008000\">Completed</span>()\n",
       "</pre>\n"
      ],
      "text/plain": [
       "17:17:00.338 | \u001b[36mINFO\u001b[0m    | Task run 'process_pool_snaps-bb91f77b-8' - Finished in state \u001b[32mCompleted\u001b[0m()\n"
      ]
     },
     "metadata": {},
     "output_type": "display_data"
    },
    {
     "data": {
      "text/html": [
       "<pre style=\"white-space:pre;overflow-x:auto;line-height:normal;font-family:Menlo,'DejaVu Sans Mono',consolas,'Courier New',monospace\">17:17:00.350 | <span style=\"color: #008080; text-decoration-color: #008080\">INFO</span>    | Flow run<span style=\"color: #800080; text-decoration-color: #800080\"> 'uppish-kiwi'</span> - Created task run 'process_pool_snaps-bb91f77b-9' for task 'process_pool_snaps'\n",
       "</pre>\n"
      ],
      "text/plain": [
       "17:17:00.350 | \u001b[36mINFO\u001b[0m    | Flow run\u001b[35m 'uppish-kiwi'\u001b[0m - Created task run 'process_pool_snaps-bb91f77b-9' for task 'process_pool_snaps'\n"
      ]
     },
     "metadata": {},
     "output_type": "display_data"
    },
    {
     "data": {
      "text/html": [
       "<pre style=\"white-space:pre;overflow-x:auto;line-height:normal;font-family:Menlo,'DejaVu Sans Mono',consolas,'Courier New',monospace\">17:17:00.351 | <span style=\"color: #008080; text-decoration-color: #008080\">INFO</span>    | Flow run<span style=\"color: #800080; text-decoration-color: #800080\"> 'uppish-kiwi'</span> - Executing 'process_pool_snaps-bb91f77b-9' immediately...\n",
       "</pre>\n"
      ],
      "text/plain": [
       "17:17:00.351 | \u001b[36mINFO\u001b[0m    | Flow run\u001b[35m 'uppish-kiwi'\u001b[0m - Executing 'process_pool_snaps-bb91f77b-9' immediately...\n"
      ]
     },
     "metadata": {},
     "output_type": "display_data"
    },
    {
     "data": {
      "text/html": [
       "<pre style=\"white-space:pre;overflow-x:auto;line-height:normal;font-family:Menlo,'DejaVu Sans Mono',consolas,'Courier New',monospace\">17:17:00.378 | <span style=\"color: #008080; text-decoration-color: #008080\">INFO</span>    | Task run 'process_pool_snaps-bb91f77b-9' - Finished in state <span style=\"color: #008000; text-decoration-color: #008000\">Completed</span>()\n",
       "</pre>\n"
      ],
      "text/plain": [
       "17:17:00.378 | \u001b[36mINFO\u001b[0m    | Task run 'process_pool_snaps-bb91f77b-9' - Finished in state \u001b[32mCompleted\u001b[0m()\n"
      ]
     },
     "metadata": {},
     "output_type": "display_data"
    },
    {
     "data": {
      "text/html": [
       "<pre style=\"white-space:pre;overflow-x:auto;line-height:normal;font-family:Menlo,'DejaVu Sans Mono',consolas,'Courier New',monospace\">17:17:00.388 | <span style=\"color: #008080; text-decoration-color: #008080\">INFO</span>    | Flow run<span style=\"color: #800080; text-decoration-color: #800080\"> 'uppish-kiwi'</span> - Created task run 'process_pool_snaps-bb91f77b-10' for task 'process_pool_snaps'\n",
       "</pre>\n"
      ],
      "text/plain": [
       "17:17:00.388 | \u001b[36mINFO\u001b[0m    | Flow run\u001b[35m 'uppish-kiwi'\u001b[0m - Created task run 'process_pool_snaps-bb91f77b-10' for task 'process_pool_snaps'\n"
      ]
     },
     "metadata": {},
     "output_type": "display_data"
    },
    {
     "data": {
      "text/html": [
       "<pre style=\"white-space:pre;overflow-x:auto;line-height:normal;font-family:Menlo,'DejaVu Sans Mono',consolas,'Courier New',monospace\">17:17:00.388 | <span style=\"color: #008080; text-decoration-color: #008080\">INFO</span>    | Flow run<span style=\"color: #800080; text-decoration-color: #800080\"> 'uppish-kiwi'</span> - Executing 'process_pool_snaps-bb91f77b-10' immediately...\n",
       "</pre>\n"
      ],
      "text/plain": [
       "17:17:00.388 | \u001b[36mINFO\u001b[0m    | Flow run\u001b[35m 'uppish-kiwi'\u001b[0m - Executing 'process_pool_snaps-bb91f77b-10' immediately...\n"
      ]
     },
     "metadata": {},
     "output_type": "display_data"
    },
    {
     "data": {
      "text/html": [
       "<pre style=\"white-space:pre;overflow-x:auto;line-height:normal;font-family:Menlo,'DejaVu Sans Mono',consolas,'Courier New',monospace\">17:17:00.412 | <span style=\"color: #008080; text-decoration-color: #008080\">INFO</span>    | Task run 'process_pool_snaps-bb91f77b-10' - Finished in state <span style=\"color: #008000; text-decoration-color: #008000\">Completed</span>()\n",
       "</pre>\n"
      ],
      "text/plain": [
       "17:17:00.412 | \u001b[36mINFO\u001b[0m    | Task run 'process_pool_snaps-bb91f77b-10' - Finished in state \u001b[32mCompleted\u001b[0m()\n"
      ]
     },
     "metadata": {},
     "output_type": "display_data"
    },
    {
     "data": {
      "text/html": [
       "<pre style=\"white-space:pre;overflow-x:auto;line-height:normal;font-family:Menlo,'DejaVu Sans Mono',consolas,'Courier New',monospace\">17:17:00.421 | <span style=\"color: #008080; text-decoration-color: #008080\">INFO</span>    | Flow run<span style=\"color: #800080; text-decoration-color: #800080\"> 'uppish-kiwi'</span> - Created task run 'process_pool_snaps-bb91f77b-11' for task 'process_pool_snaps'\n",
       "</pre>\n"
      ],
      "text/plain": [
       "17:17:00.421 | \u001b[36mINFO\u001b[0m    | Flow run\u001b[35m 'uppish-kiwi'\u001b[0m - Created task run 'process_pool_snaps-bb91f77b-11' for task 'process_pool_snaps'\n"
      ]
     },
     "metadata": {},
     "output_type": "display_data"
    },
    {
     "data": {
      "text/html": [
       "<pre style=\"white-space:pre;overflow-x:auto;line-height:normal;font-family:Menlo,'DejaVu Sans Mono',consolas,'Courier New',monospace\">17:17:00.422 | <span style=\"color: #008080; text-decoration-color: #008080\">INFO</span>    | Flow run<span style=\"color: #800080; text-decoration-color: #800080\"> 'uppish-kiwi'</span> - Executing 'process_pool_snaps-bb91f77b-11' immediately...\n",
       "</pre>\n"
      ],
      "text/plain": [
       "17:17:00.422 | \u001b[36mINFO\u001b[0m    | Flow run\u001b[35m 'uppish-kiwi'\u001b[0m - Executing 'process_pool_snaps-bb91f77b-11' immediately...\n"
      ]
     },
     "metadata": {},
     "output_type": "display_data"
    },
    {
     "data": {
      "text/html": [
       "<pre style=\"white-space:pre;overflow-x:auto;line-height:normal;font-family:Menlo,'DejaVu Sans Mono',consolas,'Courier New',monospace\">17:17:00.445 | <span style=\"color: #008080; text-decoration-color: #008080\">INFO</span>    | Task run 'process_pool_snaps-bb91f77b-11' - Finished in state <span style=\"color: #008000; text-decoration-color: #008000\">Completed</span>()\n",
       "</pre>\n"
      ],
      "text/plain": [
       "17:17:00.445 | \u001b[36mINFO\u001b[0m    | Task run 'process_pool_snaps-bb91f77b-11' - Finished in state \u001b[32mCompleted\u001b[0m()\n"
      ]
     },
     "metadata": {},
     "output_type": "display_data"
    },
    {
     "data": {
      "text/html": [
       "<pre style=\"white-space:pre;overflow-x:auto;line-height:normal;font-family:Menlo,'DejaVu Sans Mono',consolas,'Courier New',monospace\">17:17:00.454 | <span style=\"color: #008080; text-decoration-color: #008080\">INFO</span>    | Flow run<span style=\"color: #800080; text-decoration-color: #800080\"> 'uppish-kiwi'</span> - Created task run 'process_pool_snaps-bb91f77b-12' for task 'process_pool_snaps'\n",
       "</pre>\n"
      ],
      "text/plain": [
       "17:17:00.454 | \u001b[36mINFO\u001b[0m    | Flow run\u001b[35m 'uppish-kiwi'\u001b[0m - Created task run 'process_pool_snaps-bb91f77b-12' for task 'process_pool_snaps'\n"
      ]
     },
     "metadata": {},
     "output_type": "display_data"
    },
    {
     "data": {
      "text/html": [
       "<pre style=\"white-space:pre;overflow-x:auto;line-height:normal;font-family:Menlo,'DejaVu Sans Mono',consolas,'Courier New',monospace\">17:17:00.455 | <span style=\"color: #008080; text-decoration-color: #008080\">INFO</span>    | Flow run<span style=\"color: #800080; text-decoration-color: #800080\"> 'uppish-kiwi'</span> - Executing 'process_pool_snaps-bb91f77b-12' immediately...\n",
       "</pre>\n"
      ],
      "text/plain": [
       "17:17:00.455 | \u001b[36mINFO\u001b[0m    | Flow run\u001b[35m 'uppish-kiwi'\u001b[0m - Executing 'process_pool_snaps-bb91f77b-12' immediately...\n"
      ]
     },
     "metadata": {},
     "output_type": "display_data"
    },
    {
     "data": {
      "text/html": [
       "<pre style=\"white-space:pre;overflow-x:auto;line-height:normal;font-family:Menlo,'DejaVu Sans Mono',consolas,'Courier New',monospace\">17:17:00.478 | <span style=\"color: #008080; text-decoration-color: #008080\">INFO</span>    | Task run 'process_pool_snaps-bb91f77b-12' - Finished in state <span style=\"color: #008000; text-decoration-color: #008000\">Completed</span>()\n",
       "</pre>\n"
      ],
      "text/plain": [
       "17:17:00.478 | \u001b[36mINFO\u001b[0m    | Task run 'process_pool_snaps-bb91f77b-12' - Finished in state \u001b[32mCompleted\u001b[0m()\n"
      ]
     },
     "metadata": {},
     "output_type": "display_data"
    },
    {
     "data": {
      "text/html": [
       "<pre style=\"white-space:pre;overflow-x:auto;line-height:normal;font-family:Menlo,'DejaVu Sans Mono',consolas,'Courier New',monospace\">17:17:00.490 | <span style=\"color: #008080; text-decoration-color: #008080\">INFO</span>    | Flow run<span style=\"color: #800080; text-decoration-color: #800080\"> 'uppish-kiwi'</span> - Created task run 'process_pool_snaps-bb91f77b-13' for task 'process_pool_snaps'\n",
       "</pre>\n"
      ],
      "text/plain": [
       "17:17:00.490 | \u001b[36mINFO\u001b[0m    | Flow run\u001b[35m 'uppish-kiwi'\u001b[0m - Created task run 'process_pool_snaps-bb91f77b-13' for task 'process_pool_snaps'\n"
      ]
     },
     "metadata": {},
     "output_type": "display_data"
    },
    {
     "data": {
      "text/html": [
       "<pre style=\"white-space:pre;overflow-x:auto;line-height:normal;font-family:Menlo,'DejaVu Sans Mono',consolas,'Courier New',monospace\">17:17:00.491 | <span style=\"color: #008080; text-decoration-color: #008080\">INFO</span>    | Flow run<span style=\"color: #800080; text-decoration-color: #800080\"> 'uppish-kiwi'</span> - Executing 'process_pool_snaps-bb91f77b-13' immediately...\n",
       "</pre>\n"
      ],
      "text/plain": [
       "17:17:00.491 | \u001b[36mINFO\u001b[0m    | Flow run\u001b[35m 'uppish-kiwi'\u001b[0m - Executing 'process_pool_snaps-bb91f77b-13' immediately...\n"
      ]
     },
     "metadata": {},
     "output_type": "display_data"
    },
    {
     "data": {
      "text/html": [
       "<pre style=\"white-space:pre;overflow-x:auto;line-height:normal;font-family:Menlo,'DejaVu Sans Mono',consolas,'Courier New',monospace\">17:17:00.532 | <span style=\"color: #008080; text-decoration-color: #008080\">INFO</span>    | Task run 'process_pool_snaps-bb91f77b-13' - Finished in state <span style=\"color: #008000; text-decoration-color: #008000\">Completed</span>()\n",
       "</pre>\n"
      ],
      "text/plain": [
       "17:17:00.532 | \u001b[36mINFO\u001b[0m    | Task run 'process_pool_snaps-bb91f77b-13' - Finished in state \u001b[32mCompleted\u001b[0m()\n"
      ]
     },
     "metadata": {},
     "output_type": "display_data"
    },
    {
     "data": {
      "text/html": [
       "<pre style=\"white-space:pre;overflow-x:auto;line-height:normal;font-family:Menlo,'DejaVu Sans Mono',consolas,'Courier New',monospace\">17:17:00.543 | <span style=\"color: #008080; text-decoration-color: #008080\">INFO</span>    | Flow run<span style=\"color: #800080; text-decoration-color: #800080\"> 'uppish-kiwi'</span> - Created task run 'process_pool_vol-f3874c79-0' for task 'process_pool_vol'\n",
       "</pre>\n"
      ],
      "text/plain": [
       "17:17:00.543 | \u001b[36mINFO\u001b[0m    | Flow run\u001b[35m 'uppish-kiwi'\u001b[0m - Created task run 'process_pool_vol-f3874c79-0' for task 'process_pool_vol'\n"
      ]
     },
     "metadata": {},
     "output_type": "display_data"
    },
    {
     "data": {
      "text/html": [
       "<pre style=\"white-space:pre;overflow-x:auto;line-height:normal;font-family:Menlo,'DejaVu Sans Mono',consolas,'Courier New',monospace\">17:17:00.544 | <span style=\"color: #008080; text-decoration-color: #008080\">INFO</span>    | Flow run<span style=\"color: #800080; text-decoration-color: #800080\"> 'uppish-kiwi'</span> - Executing 'process_pool_vol-f3874c79-0' immediately...\n",
       "</pre>\n"
      ],
      "text/plain": [
       "17:17:00.544 | \u001b[36mINFO\u001b[0m    | Flow run\u001b[35m 'uppish-kiwi'\u001b[0m - Executing 'process_pool_vol-f3874c79-0' immediately...\n"
      ]
     },
     "metadata": {},
     "output_type": "display_data"
    },
    {
     "data": {
      "text/html": [
       "<pre style=\"white-space:pre;overflow-x:auto;line-height:normal;font-family:Menlo,'DejaVu Sans Mono',consolas,'Courier New',monospace\">17:17:00.567 | <span style=\"color: #008080; text-decoration-color: #008080\">INFO</span>    | Task run 'process_pool_vol-f3874c79-0' - Finished in state <span style=\"color: #008000; text-decoration-color: #008000\">Completed</span>()\n",
       "</pre>\n"
      ],
      "text/plain": [
       "17:17:00.567 | \u001b[36mINFO\u001b[0m    | Task run 'process_pool_vol-f3874c79-0' - Finished in state \u001b[32mCompleted\u001b[0m()\n"
      ]
     },
     "metadata": {},
     "output_type": "display_data"
    },
    {
     "data": {
      "text/html": [
       "<pre style=\"white-space:pre;overflow-x:auto;line-height:normal;font-family:Menlo,'DejaVu Sans Mono',consolas,'Courier New',monospace\">17:17:00.577 | <span style=\"color: #008080; text-decoration-color: #008080\">INFO</span>    | Flow run<span style=\"color: #800080; text-decoration-color: #800080\"> 'uppish-kiwi'</span> - Created task run 'process_pool_vol-f3874c79-1' for task 'process_pool_vol'\n",
       "</pre>\n"
      ],
      "text/plain": [
       "17:17:00.577 | \u001b[36mINFO\u001b[0m    | Flow run\u001b[35m 'uppish-kiwi'\u001b[0m - Created task run 'process_pool_vol-f3874c79-1' for task 'process_pool_vol'\n"
      ]
     },
     "metadata": {},
     "output_type": "display_data"
    },
    {
     "data": {
      "text/html": [
       "<pre style=\"white-space:pre;overflow-x:auto;line-height:normal;font-family:Menlo,'DejaVu Sans Mono',consolas,'Courier New',monospace\">17:17:00.577 | <span style=\"color: #008080; text-decoration-color: #008080\">INFO</span>    | Flow run<span style=\"color: #800080; text-decoration-color: #800080\"> 'uppish-kiwi'</span> - Executing 'process_pool_vol-f3874c79-1' immediately...\n",
       "</pre>\n"
      ],
      "text/plain": [
       "17:17:00.577 | \u001b[36mINFO\u001b[0m    | Flow run\u001b[35m 'uppish-kiwi'\u001b[0m - Executing 'process_pool_vol-f3874c79-1' immediately...\n"
      ]
     },
     "metadata": {},
     "output_type": "display_data"
    },
    {
     "data": {
      "text/html": [
       "<pre style=\"white-space:pre;overflow-x:auto;line-height:normal;font-family:Menlo,'DejaVu Sans Mono',consolas,'Courier New',monospace\">17:17:00.601 | <span style=\"color: #008080; text-decoration-color: #008080\">INFO</span>    | Task run 'process_pool_vol-f3874c79-1' - Finished in state <span style=\"color: #008000; text-decoration-color: #008000\">Completed</span>()\n",
       "</pre>\n"
      ],
      "text/plain": [
       "17:17:00.601 | \u001b[36mINFO\u001b[0m    | Task run 'process_pool_vol-f3874c79-1' - Finished in state \u001b[32mCompleted\u001b[0m()\n"
      ]
     },
     "metadata": {},
     "output_type": "display_data"
    },
    {
     "data": {
      "text/html": [
       "<pre style=\"white-space:pre;overflow-x:auto;line-height:normal;font-family:Menlo,'DejaVu Sans Mono',consolas,'Courier New',monospace\">17:17:00.612 | <span style=\"color: #008080; text-decoration-color: #008080\">INFO</span>    | Flow run<span style=\"color: #800080; text-decoration-color: #800080\"> 'uppish-kiwi'</span> - Created task run 'process_pool_vol-f3874c79-2' for task 'process_pool_vol'\n",
       "</pre>\n"
      ],
      "text/plain": [
       "17:17:00.612 | \u001b[36mINFO\u001b[0m    | Flow run\u001b[35m 'uppish-kiwi'\u001b[0m - Created task run 'process_pool_vol-f3874c79-2' for task 'process_pool_vol'\n"
      ]
     },
     "metadata": {},
     "output_type": "display_data"
    },
    {
     "data": {
      "text/html": [
       "<pre style=\"white-space:pre;overflow-x:auto;line-height:normal;font-family:Menlo,'DejaVu Sans Mono',consolas,'Courier New',monospace\">17:17:00.613 | <span style=\"color: #008080; text-decoration-color: #008080\">INFO</span>    | Flow run<span style=\"color: #800080; text-decoration-color: #800080\"> 'uppish-kiwi'</span> - Executing 'process_pool_vol-f3874c79-2' immediately...\n",
       "</pre>\n"
      ],
      "text/plain": [
       "17:17:00.613 | \u001b[36mINFO\u001b[0m    | Flow run\u001b[35m 'uppish-kiwi'\u001b[0m - Executing 'process_pool_vol-f3874c79-2' immediately...\n"
      ]
     },
     "metadata": {},
     "output_type": "display_data"
    },
    {
     "data": {
      "text/html": [
       "<pre style=\"white-space:pre;overflow-x:auto;line-height:normal;font-family:Menlo,'DejaVu Sans Mono',consolas,'Courier New',monospace\">17:17:00.637 | <span style=\"color: #008080; text-decoration-color: #008080\">INFO</span>    | Task run 'process_pool_vol-f3874c79-2' - Finished in state <span style=\"color: #008000; text-decoration-color: #008000\">Completed</span>()\n",
       "</pre>\n"
      ],
      "text/plain": [
       "17:17:00.637 | \u001b[36mINFO\u001b[0m    | Task run 'process_pool_vol-f3874c79-2' - Finished in state \u001b[32mCompleted\u001b[0m()\n"
      ]
     },
     "metadata": {},
     "output_type": "display_data"
    },
    {
     "data": {
      "text/html": [
       "<pre style=\"white-space:pre;overflow-x:auto;line-height:normal;font-family:Menlo,'DejaVu Sans Mono',consolas,'Courier New',monospace\">17:17:00.647 | <span style=\"color: #008080; text-decoration-color: #008080\">INFO</span>    | Flow run<span style=\"color: #800080; text-decoration-color: #800080\"> 'uppish-kiwi'</span> - Created task run 'process_pool_vol-f3874c79-3' for task 'process_pool_vol'\n",
       "</pre>\n"
      ],
      "text/plain": [
       "17:17:00.647 | \u001b[36mINFO\u001b[0m    | Flow run\u001b[35m 'uppish-kiwi'\u001b[0m - Created task run 'process_pool_vol-f3874c79-3' for task 'process_pool_vol'\n"
      ]
     },
     "metadata": {},
     "output_type": "display_data"
    },
    {
     "data": {
      "text/html": [
       "<pre style=\"white-space:pre;overflow-x:auto;line-height:normal;font-family:Menlo,'DejaVu Sans Mono',consolas,'Courier New',monospace\">17:17:00.647 | <span style=\"color: #008080; text-decoration-color: #008080\">INFO</span>    | Flow run<span style=\"color: #800080; text-decoration-color: #800080\"> 'uppish-kiwi'</span> - Executing 'process_pool_vol-f3874c79-3' immediately...\n",
       "</pre>\n"
      ],
      "text/plain": [
       "17:17:00.647 | \u001b[36mINFO\u001b[0m    | Flow run\u001b[35m 'uppish-kiwi'\u001b[0m - Executing 'process_pool_vol-f3874c79-3' immediately...\n"
      ]
     },
     "metadata": {},
     "output_type": "display_data"
    },
    {
     "data": {
      "text/html": [
       "<pre style=\"white-space:pre;overflow-x:auto;line-height:normal;font-family:Menlo,'DejaVu Sans Mono',consolas,'Courier New',monospace\">17:17:00.670 | <span style=\"color: #008080; text-decoration-color: #008080\">INFO</span>    | Task run 'process_pool_vol-f3874c79-3' - Finished in state <span style=\"color: #008000; text-decoration-color: #008000\">Completed</span>()\n",
       "</pre>\n"
      ],
      "text/plain": [
       "17:17:00.670 | \u001b[36mINFO\u001b[0m    | Task run 'process_pool_vol-f3874c79-3' - Finished in state \u001b[32mCompleted\u001b[0m()\n"
      ]
     },
     "metadata": {},
     "output_type": "display_data"
    },
    {
     "data": {
      "text/html": [
       "<pre style=\"white-space:pre;overflow-x:auto;line-height:normal;font-family:Menlo,'DejaVu Sans Mono',consolas,'Courier New',monospace\">17:17:00.679 | <span style=\"color: #008080; text-decoration-color: #008080\">INFO</span>    | Flow run<span style=\"color: #800080; text-decoration-color: #800080\"> 'uppish-kiwi'</span> - Created task run 'process_pool_vol-f3874c79-4' for task 'process_pool_vol'\n",
       "</pre>\n"
      ],
      "text/plain": [
       "17:17:00.679 | \u001b[36mINFO\u001b[0m    | Flow run\u001b[35m 'uppish-kiwi'\u001b[0m - Created task run 'process_pool_vol-f3874c79-4' for task 'process_pool_vol'\n"
      ]
     },
     "metadata": {},
     "output_type": "display_data"
    },
    {
     "data": {
      "text/html": [
       "<pre style=\"white-space:pre;overflow-x:auto;line-height:normal;font-family:Menlo,'DejaVu Sans Mono',consolas,'Courier New',monospace\">17:17:00.679 | <span style=\"color: #008080; text-decoration-color: #008080\">INFO</span>    | Flow run<span style=\"color: #800080; text-decoration-color: #800080\"> 'uppish-kiwi'</span> - Executing 'process_pool_vol-f3874c79-4' immediately...\n",
       "</pre>\n"
      ],
      "text/plain": [
       "17:17:00.679 | \u001b[36mINFO\u001b[0m    | Flow run\u001b[35m 'uppish-kiwi'\u001b[0m - Executing 'process_pool_vol-f3874c79-4' immediately...\n"
      ]
     },
     "metadata": {},
     "output_type": "display_data"
    },
    {
     "data": {
      "text/html": [
       "<pre style=\"white-space:pre;overflow-x:auto;line-height:normal;font-family:Menlo,'DejaVu Sans Mono',consolas,'Courier New',monospace\">17:17:00.702 | <span style=\"color: #008080; text-decoration-color: #008080\">INFO</span>    | Task run 'process_pool_vol-f3874c79-4' - Finished in state <span style=\"color: #008000; text-decoration-color: #008000\">Completed</span>()\n",
       "</pre>\n"
      ],
      "text/plain": [
       "17:17:00.702 | \u001b[36mINFO\u001b[0m    | Task run 'process_pool_vol-f3874c79-4' - Finished in state \u001b[32mCompleted\u001b[0m()\n"
      ]
     },
     "metadata": {},
     "output_type": "display_data"
    },
    {
     "data": {
      "text/html": [
       "<pre style=\"white-space:pre;overflow-x:auto;line-height:normal;font-family:Menlo,'DejaVu Sans Mono',consolas,'Courier New',monospace\">17:17:00.713 | <span style=\"color: #008080; text-decoration-color: #008080\">INFO</span>    | Flow run<span style=\"color: #800080; text-decoration-color: #800080\"> 'uppish-kiwi'</span> - Created task run 'process_pool_vol-f3874c79-5' for task 'process_pool_vol'\n",
       "</pre>\n"
      ],
      "text/plain": [
       "17:17:00.713 | \u001b[36mINFO\u001b[0m    | Flow run\u001b[35m 'uppish-kiwi'\u001b[0m - Created task run 'process_pool_vol-f3874c79-5' for task 'process_pool_vol'\n"
      ]
     },
     "metadata": {},
     "output_type": "display_data"
    },
    {
     "data": {
      "text/html": [
       "<pre style=\"white-space:pre;overflow-x:auto;line-height:normal;font-family:Menlo,'DejaVu Sans Mono',consolas,'Courier New',monospace\">17:17:00.713 | <span style=\"color: #008080; text-decoration-color: #008080\">INFO</span>    | Flow run<span style=\"color: #800080; text-decoration-color: #800080\"> 'uppish-kiwi'</span> - Executing 'process_pool_vol-f3874c79-5' immediately...\n",
       "</pre>\n"
      ],
      "text/plain": [
       "17:17:00.713 | \u001b[36mINFO\u001b[0m    | Flow run\u001b[35m 'uppish-kiwi'\u001b[0m - Executing 'process_pool_vol-f3874c79-5' immediately...\n"
      ]
     },
     "metadata": {},
     "output_type": "display_data"
    },
    {
     "data": {
      "text/html": [
       "<pre style=\"white-space:pre;overflow-x:auto;line-height:normal;font-family:Menlo,'DejaVu Sans Mono',consolas,'Courier New',monospace\">17:17:00.736 | <span style=\"color: #008080; text-decoration-color: #008080\">INFO</span>    | Task run 'process_pool_vol-f3874c79-5' - Finished in state <span style=\"color: #008000; text-decoration-color: #008000\">Completed</span>()\n",
       "</pre>\n"
      ],
      "text/plain": [
       "17:17:00.736 | \u001b[36mINFO\u001b[0m    | Task run 'process_pool_vol-f3874c79-5' - Finished in state \u001b[32mCompleted\u001b[0m()\n"
      ]
     },
     "metadata": {},
     "output_type": "display_data"
    },
    {
     "data": {
      "text/html": [
       "<pre style=\"white-space:pre;overflow-x:auto;line-height:normal;font-family:Menlo,'DejaVu Sans Mono',consolas,'Courier New',monospace\">17:17:00.745 | <span style=\"color: #008080; text-decoration-color: #008080\">INFO</span>    | Flow run<span style=\"color: #800080; text-decoration-color: #800080\"> 'uppish-kiwi'</span> - Created task run 'process_pool_vol-f3874c79-6' for task 'process_pool_vol'\n",
       "</pre>\n"
      ],
      "text/plain": [
       "17:17:00.745 | \u001b[36mINFO\u001b[0m    | Flow run\u001b[35m 'uppish-kiwi'\u001b[0m - Created task run 'process_pool_vol-f3874c79-6' for task 'process_pool_vol'\n"
      ]
     },
     "metadata": {},
     "output_type": "display_data"
    },
    {
     "data": {
      "text/html": [
       "<pre style=\"white-space:pre;overflow-x:auto;line-height:normal;font-family:Menlo,'DejaVu Sans Mono',consolas,'Courier New',monospace\">17:17:00.745 | <span style=\"color: #008080; text-decoration-color: #008080\">INFO</span>    | Flow run<span style=\"color: #800080; text-decoration-color: #800080\"> 'uppish-kiwi'</span> - Executing 'process_pool_vol-f3874c79-6' immediately...\n",
       "</pre>\n"
      ],
      "text/plain": [
       "17:17:00.745 | \u001b[36mINFO\u001b[0m    | Flow run\u001b[35m 'uppish-kiwi'\u001b[0m - Executing 'process_pool_vol-f3874c79-6' immediately...\n"
      ]
     },
     "metadata": {},
     "output_type": "display_data"
    },
    {
     "data": {
      "text/html": [
       "<pre style=\"white-space:pre;overflow-x:auto;line-height:normal;font-family:Menlo,'DejaVu Sans Mono',consolas,'Courier New',monospace\">17:17:00.767 | <span style=\"color: #008080; text-decoration-color: #008080\">INFO</span>    | Task run 'process_pool_vol-f3874c79-6' - Finished in state <span style=\"color: #008000; text-decoration-color: #008000\">Completed</span>()\n",
       "</pre>\n"
      ],
      "text/plain": [
       "17:17:00.767 | \u001b[36mINFO\u001b[0m    | Task run 'process_pool_vol-f3874c79-6' - Finished in state \u001b[32mCompleted\u001b[0m()\n"
      ]
     },
     "metadata": {},
     "output_type": "display_data"
    },
    {
     "data": {
      "text/html": [
       "<pre style=\"white-space:pre;overflow-x:auto;line-height:normal;font-family:Menlo,'DejaVu Sans Mono',consolas,'Courier New',monospace\">17:17:00.777 | <span style=\"color: #008080; text-decoration-color: #008080\">INFO</span>    | Flow run<span style=\"color: #800080; text-decoration-color: #800080\"> 'uppish-kiwi'</span> - Created task run 'process_pool_vol-f3874c79-7' for task 'process_pool_vol'\n",
       "</pre>\n"
      ],
      "text/plain": [
       "17:17:00.777 | \u001b[36mINFO\u001b[0m    | Flow run\u001b[35m 'uppish-kiwi'\u001b[0m - Created task run 'process_pool_vol-f3874c79-7' for task 'process_pool_vol'\n"
      ]
     },
     "metadata": {},
     "output_type": "display_data"
    },
    {
     "data": {
      "text/html": [
       "<pre style=\"white-space:pre;overflow-x:auto;line-height:normal;font-family:Menlo,'DejaVu Sans Mono',consolas,'Courier New',monospace\">17:17:00.778 | <span style=\"color: #008080; text-decoration-color: #008080\">INFO</span>    | Flow run<span style=\"color: #800080; text-decoration-color: #800080\"> 'uppish-kiwi'</span> - Executing 'process_pool_vol-f3874c79-7' immediately...\n",
       "</pre>\n"
      ],
      "text/plain": [
       "17:17:00.778 | \u001b[36mINFO\u001b[0m    | Flow run\u001b[35m 'uppish-kiwi'\u001b[0m - Executing 'process_pool_vol-f3874c79-7' immediately...\n"
      ]
     },
     "metadata": {},
     "output_type": "display_data"
    },
    {
     "data": {
      "text/html": [
       "<pre style=\"white-space:pre;overflow-x:auto;line-height:normal;font-family:Menlo,'DejaVu Sans Mono',consolas,'Courier New',monospace\">17:17:00.814 | <span style=\"color: #008080; text-decoration-color: #008080\">INFO</span>    | Task run 'process_pool_vol-f3874c79-7' - Finished in state <span style=\"color: #008000; text-decoration-color: #008000\">Completed</span>()\n",
       "</pre>\n"
      ],
      "text/plain": [
       "17:17:00.814 | \u001b[36mINFO\u001b[0m    | Task run 'process_pool_vol-f3874c79-7' - Finished in state \u001b[32mCompleted\u001b[0m()\n"
      ]
     },
     "metadata": {},
     "output_type": "display_data"
    },
    {
     "data": {
      "text/html": [
       "<pre style=\"white-space:pre;overflow-x:auto;line-height:normal;font-family:Menlo,'DejaVu Sans Mono',consolas,'Courier New',monospace\">17:17:00.826 | <span style=\"color: #008080; text-decoration-color: #008080\">INFO</span>    | Flow run<span style=\"color: #800080; text-decoration-color: #800080\"> 'uppish-kiwi'</span> - Created task run 'process_pool_vol-f3874c79-8' for task 'process_pool_vol'\n",
       "</pre>\n"
      ],
      "text/plain": [
       "17:17:00.826 | \u001b[36mINFO\u001b[0m    | Flow run\u001b[35m 'uppish-kiwi'\u001b[0m - Created task run 'process_pool_vol-f3874c79-8' for task 'process_pool_vol'\n"
      ]
     },
     "metadata": {},
     "output_type": "display_data"
    },
    {
     "data": {
      "text/html": [
       "<pre style=\"white-space:pre;overflow-x:auto;line-height:normal;font-family:Menlo,'DejaVu Sans Mono',consolas,'Courier New',monospace\">17:17:00.827 | <span style=\"color: #008080; text-decoration-color: #008080\">INFO</span>    | Flow run<span style=\"color: #800080; text-decoration-color: #800080\"> 'uppish-kiwi'</span> - Executing 'process_pool_vol-f3874c79-8' immediately...\n",
       "</pre>\n"
      ],
      "text/plain": [
       "17:17:00.827 | \u001b[36mINFO\u001b[0m    | Flow run\u001b[35m 'uppish-kiwi'\u001b[0m - Executing 'process_pool_vol-f3874c79-8' immediately...\n"
      ]
     },
     "metadata": {},
     "output_type": "display_data"
    },
    {
     "data": {
      "text/html": [
       "<pre style=\"white-space:pre;overflow-x:auto;line-height:normal;font-family:Menlo,'DejaVu Sans Mono',consolas,'Courier New',monospace\">17:17:00.851 | <span style=\"color: #008080; text-decoration-color: #008080\">INFO</span>    | Task run 'process_pool_vol-f3874c79-8' - Finished in state <span style=\"color: #008000; text-decoration-color: #008000\">Completed</span>()\n",
       "</pre>\n"
      ],
      "text/plain": [
       "17:17:00.851 | \u001b[36mINFO\u001b[0m    | Task run 'process_pool_vol-f3874c79-8' - Finished in state \u001b[32mCompleted\u001b[0m()\n"
      ]
     },
     "metadata": {},
     "output_type": "display_data"
    },
    {
     "data": {
      "text/html": [
       "<pre style=\"white-space:pre;overflow-x:auto;line-height:normal;font-family:Menlo,'DejaVu Sans Mono',consolas,'Courier New',monospace\">17:17:00.860 | <span style=\"color: #008080; text-decoration-color: #008080\">INFO</span>    | Flow run<span style=\"color: #800080; text-decoration-color: #800080\"> 'uppish-kiwi'</span> - Created task run 'process_pool_vol-f3874c79-9' for task 'process_pool_vol'\n",
       "</pre>\n"
      ],
      "text/plain": [
       "17:17:00.860 | \u001b[36mINFO\u001b[0m    | Flow run\u001b[35m 'uppish-kiwi'\u001b[0m - Created task run 'process_pool_vol-f3874c79-9' for task 'process_pool_vol'\n"
      ]
     },
     "metadata": {},
     "output_type": "display_data"
    },
    {
     "data": {
      "text/html": [
       "<pre style=\"white-space:pre;overflow-x:auto;line-height:normal;font-family:Menlo,'DejaVu Sans Mono',consolas,'Courier New',monospace\">17:17:00.861 | <span style=\"color: #008080; text-decoration-color: #008080\">INFO</span>    | Flow run<span style=\"color: #800080; text-decoration-color: #800080\"> 'uppish-kiwi'</span> - Executing 'process_pool_vol-f3874c79-9' immediately...\n",
       "</pre>\n"
      ],
      "text/plain": [
       "17:17:00.861 | \u001b[36mINFO\u001b[0m    | Flow run\u001b[35m 'uppish-kiwi'\u001b[0m - Executing 'process_pool_vol-f3874c79-9' immediately...\n"
      ]
     },
     "metadata": {},
     "output_type": "display_data"
    },
    {
     "data": {
      "text/html": [
       "<pre style=\"white-space:pre;overflow-x:auto;line-height:normal;font-family:Menlo,'DejaVu Sans Mono',consolas,'Courier New',monospace\">17:17:00.884 | <span style=\"color: #008080; text-decoration-color: #008080\">INFO</span>    | Task run 'process_pool_vol-f3874c79-9' - Finished in state <span style=\"color: #008000; text-decoration-color: #008000\">Completed</span>()\n",
       "</pre>\n"
      ],
      "text/plain": [
       "17:17:00.884 | \u001b[36mINFO\u001b[0m    | Task run 'process_pool_vol-f3874c79-9' - Finished in state \u001b[32mCompleted\u001b[0m()\n"
      ]
     },
     "metadata": {},
     "output_type": "display_data"
    },
    {
     "data": {
      "text/html": [
       "<pre style=\"white-space:pre;overflow-x:auto;line-height:normal;font-family:Menlo,'DejaVu Sans Mono',consolas,'Courier New',monospace\">17:17:00.893 | <span style=\"color: #008080; text-decoration-color: #008080\">INFO</span>    | Flow run<span style=\"color: #800080; text-decoration-color: #800080\"> 'uppish-kiwi'</span> - Created task run 'process_pool_vol-f3874c79-10' for task 'process_pool_vol'\n",
       "</pre>\n"
      ],
      "text/plain": [
       "17:17:00.893 | \u001b[36mINFO\u001b[0m    | Flow run\u001b[35m 'uppish-kiwi'\u001b[0m - Created task run 'process_pool_vol-f3874c79-10' for task 'process_pool_vol'\n"
      ]
     },
     "metadata": {},
     "output_type": "display_data"
    },
    {
     "data": {
      "text/html": [
       "<pre style=\"white-space:pre;overflow-x:auto;line-height:normal;font-family:Menlo,'DejaVu Sans Mono',consolas,'Courier New',monospace\">17:17:00.894 | <span style=\"color: #008080; text-decoration-color: #008080\">INFO</span>    | Flow run<span style=\"color: #800080; text-decoration-color: #800080\"> 'uppish-kiwi'</span> - Executing 'process_pool_vol-f3874c79-10' immediately...\n",
       "</pre>\n"
      ],
      "text/plain": [
       "17:17:00.894 | \u001b[36mINFO\u001b[0m    | Flow run\u001b[35m 'uppish-kiwi'\u001b[0m - Executing 'process_pool_vol-f3874c79-10' immediately...\n"
      ]
     },
     "metadata": {},
     "output_type": "display_data"
    },
    {
     "data": {
      "text/html": [
       "<pre style=\"white-space:pre;overflow-x:auto;line-height:normal;font-family:Menlo,'DejaVu Sans Mono',consolas,'Courier New',monospace\">17:17:00.916 | <span style=\"color: #008080; text-decoration-color: #008080\">INFO</span>    | Task run 'process_pool_vol-f3874c79-10' - Finished in state <span style=\"color: #008000; text-decoration-color: #008000\">Completed</span>()\n",
       "</pre>\n"
      ],
      "text/plain": [
       "17:17:00.916 | \u001b[36mINFO\u001b[0m    | Task run 'process_pool_vol-f3874c79-10' - Finished in state \u001b[32mCompleted\u001b[0m()\n"
      ]
     },
     "metadata": {},
     "output_type": "display_data"
    },
    {
     "data": {
      "text/html": [
       "<pre style=\"white-space:pre;overflow-x:auto;line-height:normal;font-family:Menlo,'DejaVu Sans Mono',consolas,'Courier New',monospace\">17:17:00.925 | <span style=\"color: #008080; text-decoration-color: #008080\">INFO</span>    | Flow run<span style=\"color: #800080; text-decoration-color: #800080\"> 'uppish-kiwi'</span> - Created task run 'process_pool_vol-f3874c79-11' for task 'process_pool_vol'\n",
       "</pre>\n"
      ],
      "text/plain": [
       "17:17:00.925 | \u001b[36mINFO\u001b[0m    | Flow run\u001b[35m 'uppish-kiwi'\u001b[0m - Created task run 'process_pool_vol-f3874c79-11' for task 'process_pool_vol'\n"
      ]
     },
     "metadata": {},
     "output_type": "display_data"
    },
    {
     "data": {
      "text/html": [
       "<pre style=\"white-space:pre;overflow-x:auto;line-height:normal;font-family:Menlo,'DejaVu Sans Mono',consolas,'Courier New',monospace\">17:17:00.926 | <span style=\"color: #008080; text-decoration-color: #008080\">INFO</span>    | Flow run<span style=\"color: #800080; text-decoration-color: #800080\"> 'uppish-kiwi'</span> - Executing 'process_pool_vol-f3874c79-11' immediately...\n",
       "</pre>\n"
      ],
      "text/plain": [
       "17:17:00.926 | \u001b[36mINFO\u001b[0m    | Flow run\u001b[35m 'uppish-kiwi'\u001b[0m - Executing 'process_pool_vol-f3874c79-11' immediately...\n"
      ]
     },
     "metadata": {},
     "output_type": "display_data"
    },
    {
     "data": {
      "text/html": [
       "<pre style=\"white-space:pre;overflow-x:auto;line-height:normal;font-family:Menlo,'DejaVu Sans Mono',consolas,'Courier New',monospace\">17:17:00.948 | <span style=\"color: #008080; text-decoration-color: #008080\">INFO</span>    | Task run 'process_pool_vol-f3874c79-11' - Finished in state <span style=\"color: #008000; text-decoration-color: #008000\">Completed</span>()\n",
       "</pre>\n"
      ],
      "text/plain": [
       "17:17:00.948 | \u001b[36mINFO\u001b[0m    | Task run 'process_pool_vol-f3874c79-11' - Finished in state \u001b[32mCompleted\u001b[0m()\n"
      ]
     },
     "metadata": {},
     "output_type": "display_data"
    },
    {
     "data": {
      "text/html": [
       "<pre style=\"white-space:pre;overflow-x:auto;line-height:normal;font-family:Menlo,'DejaVu Sans Mono',consolas,'Courier New',monospace\">17:17:00.957 | <span style=\"color: #008080; text-decoration-color: #008080\">INFO</span>    | Flow run<span style=\"color: #800080; text-decoration-color: #800080\"> 'uppish-kiwi'</span> - Created task run 'process_pool_vol-f3874c79-12' for task 'process_pool_vol'\n",
       "</pre>\n"
      ],
      "text/plain": [
       "17:17:00.957 | \u001b[36mINFO\u001b[0m    | Flow run\u001b[35m 'uppish-kiwi'\u001b[0m - Created task run 'process_pool_vol-f3874c79-12' for task 'process_pool_vol'\n"
      ]
     },
     "metadata": {},
     "output_type": "display_data"
    },
    {
     "data": {
      "text/html": [
       "<pre style=\"white-space:pre;overflow-x:auto;line-height:normal;font-family:Menlo,'DejaVu Sans Mono',consolas,'Courier New',monospace\">17:17:00.958 | <span style=\"color: #008080; text-decoration-color: #008080\">INFO</span>    | Flow run<span style=\"color: #800080; text-decoration-color: #800080\"> 'uppish-kiwi'</span> - Executing 'process_pool_vol-f3874c79-12' immediately...\n",
       "</pre>\n"
      ],
      "text/plain": [
       "17:17:00.958 | \u001b[36mINFO\u001b[0m    | Flow run\u001b[35m 'uppish-kiwi'\u001b[0m - Executing 'process_pool_vol-f3874c79-12' immediately...\n"
      ]
     },
     "metadata": {},
     "output_type": "display_data"
    },
    {
     "data": {
      "text/html": [
       "<pre style=\"white-space:pre;overflow-x:auto;line-height:normal;font-family:Menlo,'DejaVu Sans Mono',consolas,'Courier New',monospace\">17:17:00.980 | <span style=\"color: #008080; text-decoration-color: #008080\">INFO</span>    | Task run 'process_pool_vol-f3874c79-12' - Finished in state <span style=\"color: #008000; text-decoration-color: #008000\">Completed</span>()\n",
       "</pre>\n"
      ],
      "text/plain": [
       "17:17:00.980 | \u001b[36mINFO\u001b[0m    | Task run 'process_pool_vol-f3874c79-12' - Finished in state \u001b[32mCompleted\u001b[0m()\n"
      ]
     },
     "metadata": {},
     "output_type": "display_data"
    },
    {
     "data": {
      "text/html": [
       "<pre style=\"white-space:pre;overflow-x:auto;line-height:normal;font-family:Menlo,'DejaVu Sans Mono',consolas,'Courier New',monospace\">17:17:00.999 | <span style=\"color: #008080; text-decoration-color: #008080\">INFO</span>    | Flow run<span style=\"color: #800080; text-decoration-color: #800080\"> 'uppish-kiwi'</span> - Finished in state <span style=\"color: #008000; text-decoration-color: #008000\">Completed</span>()\n",
       "</pre>\n"
      ],
      "text/plain": [
       "17:17:00.999 | \u001b[36mINFO\u001b[0m    | Flow run\u001b[35m 'uppish-kiwi'\u001b[0m - Finished in state \u001b[32mCompleted\u001b[0m()\n"
      ]
     },
     "metadata": {},
     "output_type": "display_data"
    },
    {
     "data": {
      "text/html": [
       "<pre style=\"white-space:pre;overflow-x:auto;line-height:normal;font-family:Menlo,'DejaVu Sans Mono',consolas,'Courier New',monospace\">17:17:01.008 | <span style=\"color: #008080; text-decoration-color: #008080\">INFO</span>    | Flow run<span style=\"color: #800080; text-decoration-color: #800080\"> 'angelic-chachalaca'</span> - Finished in state <span style=\"color: #008000; text-decoration-color: #008000\">Completed</span>()\n",
       "</pre>\n"
      ],
      "text/plain": [
       "17:17:01.008 | \u001b[36mINFO\u001b[0m    | Flow run\u001b[35m 'angelic-chachalaca'\u001b[0m - Finished in state \u001b[32mCompleted\u001b[0m()\n"
      ]
     },
     "metadata": {},
     "output_type": "display_data"
    },
    {
     "name": "stderr",
     "output_type": "stream",
     "text": [
      "sys:1: ResourceWarning: Unclosed socket <zmq.Socket(zmq.PUSH) at 0x2a18446a0>\n",
      "ResourceWarning: Enable tracemalloc to get the object allocation traceback\n"
     ]
    }
   ],
   "source": [
    "async with get_client() as client:\n",
    "    # set a concurrency limit of 10 on the 'small_instance' tag\n",
    "    limit_id = await client.create_concurrency_limit(tag=\"curve_subgraph\", concurrency_limit=16)\n",
    "\n",
    "data = flow_fraxbp_vs_3pool()"
   ]
  },
  {
   "cell_type": "code",
   "execution_count": 7,
   "id": "6814cd4b-bfbc-4cc9-b876-7ea01fa59898",
   "metadata": {},
   "outputs": [],
   "source": [
    "data_3pool = data['3crv']\n",
    "df_3pool_reserves = data_3pool['reserves']\n",
    "df_3pool_volume = data_3pool['volume']\n",
    "\n",
    "data_fraxbp = data['crvfrax'] \n",
    "df_fraxbp_reserves = data_fraxbp['reserves']\n",
    "df_fraxbp_volume = data_fraxbp['volume']"
   ]
  },
  {
   "cell_type": "code",
   "execution_count": 8,
   "id": "21ddbc16-8df0-4d1f-921f-672619f7ed4a",
   "metadata": {},
   "outputs": [],
   "source": [
    "def chart_metapool_tvl(df, coin_name):\n",
    "    df_mp = df.loc[df.coin_name == coin_name].groupby(\"timestamp\")['reserves_usd'].sum().reset_index()\n",
    "    df_mp['segment'] = coin_name\n",
    "    df_mp_paired = df.loc[df.coin_name != coin_name].groupby(\"timestamp\")['reserves_usd'].sum().reset_index()\n",
    "    df_mp_paired['segment'] = 'paired asset'\n",
    "    df_full = pd.concat([df_mp, df_mp_paired])\n",
    "    return (\n",
    "        alt.Chart(df_full)\n",
    "        .mark_area()\n",
    "        .encode(\n",
    "            x=\"timestamp:T\", \n",
    "            y=\"reserves_usd:Q\", \n",
    "            color=\"segment:N\", \n",
    "            tooltip=[\"timestamp\", alt.Tooltip(\"reserves_usd\", format=\"$,d\"), \"segment\"]\n",
    "        )\n",
    "    )"
   ]
  },
  {
   "cell_type": "code",
   "execution_count": 9,
   "id": "71134712-1b9f-4068-9b34-8fe39fce00e1",
   "metadata": {},
   "outputs": [
    {
     "name": "stdout",
     "output_type": "stream",
     "text": [
      "TVL paired against crvFRAX across FraxBP metapools: $61,534,617.965511166\n",
      "TVL paired against 3Crv across 3Pool metapools: $495,541,717.5670791\n",
      "Ratio of paired liquidity of FraxBP to 3Pool: 12.4%\n"
     ]
    },
    {
     "name": "stderr",
     "output_type": "stream",
     "text": [
      "/opt/miniconda3/envs/flywheel-testing/lib/python3.10/site-packages/altair/utils/core.py:317: FutureWarning: iteritems is deprecated and will be removed in a future version. Use .items instead.\n",
      "  for col_name, dtype in df.dtypes.iteritems():\n"
     ]
    },
    {
     "data": {
      "text/html": [
       "\n",
       "<div id=\"altair-viz-fd8848f8acd547df802ab1eb9d0afa9b\"></div>\n",
       "<script type=\"text/javascript\">\n",
       "  var VEGA_DEBUG = (typeof VEGA_DEBUG == \"undefined\") ? {} : VEGA_DEBUG;\n",
       "  (function(spec, embedOpt){\n",
       "    let outputDiv = document.currentScript.previousElementSibling;\n",
       "    if (outputDiv.id !== \"altair-viz-fd8848f8acd547df802ab1eb9d0afa9b\") {\n",
       "      outputDiv = document.getElementById(\"altair-viz-fd8848f8acd547df802ab1eb9d0afa9b\");\n",
       "    }\n",
       "    const paths = {\n",
       "      \"vega\": \"https://cdn.jsdelivr.net/npm//vega@5?noext\",\n",
       "      \"vega-lib\": \"https://cdn.jsdelivr.net/npm//vega-lib?noext\",\n",
       "      \"vega-lite\": \"https://cdn.jsdelivr.net/npm//vega-lite@4.17.0?noext\",\n",
       "      \"vega-embed\": \"https://cdn.jsdelivr.net/npm//vega-embed@6?noext\",\n",
       "    };\n",
       "\n",
       "    function maybeLoadScript(lib, version) {\n",
       "      var key = `${lib.replace(\"-\", \"\")}_version`;\n",
       "      return (VEGA_DEBUG[key] == version) ?\n",
       "        Promise.resolve(paths[lib]) :\n",
       "        new Promise(function(resolve, reject) {\n",
       "          var s = document.createElement('script');\n",
       "          document.getElementsByTagName(\"head\")[0].appendChild(s);\n",
       "          s.async = true;\n",
       "          s.onload = () => {\n",
       "            VEGA_DEBUG[key] = version;\n",
       "            return resolve(paths[lib]);\n",
       "          };\n",
       "          s.onerror = () => reject(`Error loading script: ${paths[lib]}`);\n",
       "          s.src = paths[lib];\n",
       "        });\n",
       "    }\n",
       "\n",
       "    function showError(err) {\n",
       "      outputDiv.innerHTML = `<div class=\"error\" style=\"color:red;\">${err}</div>`;\n",
       "      throw err;\n",
       "    }\n",
       "\n",
       "    function displayChart(vegaEmbed) {\n",
       "      vegaEmbed(outputDiv, spec, embedOpt)\n",
       "        .catch(err => showError(`Javascript Error: ${err.message}<br>This usually means there's a typo in your chart specification. See the javascript console for the full traceback.`));\n",
       "    }\n",
       "\n",
       "    if(typeof define === \"function\" && define.amd) {\n",
       "      requirejs.config({paths});\n",
       "      require([\"vega-embed\"], displayChart, err => showError(`Error loading script: ${err.message}`));\n",
       "    } else {\n",
       "      maybeLoadScript(\"vega\", \"5\")\n",
       "        .then(() => maybeLoadScript(\"vega-lite\", \"4.17.0\"))\n",
       "        .then(() => maybeLoadScript(\"vega-embed\", \"6\"))\n",
       "        .catch(showError)\n",
       "        .then(() => displayChart(vegaEmbed));\n",
       "    }\n",
       "  })({\"config\": {\"view\": {\"continuousWidth\": 400, \"continuousHeight\": 300}}, \"hconcat\": [{\"data\": {\"name\": \"data-e882dc191762b3aebea200610c3df328\"}, \"mark\": \"area\", \"encoding\": {\"color\": {\"field\": \"segment\", \"type\": \"nominal\"}, \"tooltip\": [{\"field\": \"timestamp\", \"type\": \"temporal\"}, {\"field\": \"reserves_usd\", \"format\": \"$,d\", \"type\": \"quantitative\"}, {\"field\": \"segment\", \"type\": \"nominal\"}], \"x\": {\"field\": \"timestamp\", \"type\": \"temporal\"}, \"y\": {\"field\": \"reserves_usd\", \"type\": \"quantitative\"}}, \"title\": \"Reserves: FraxBP Metapools\"}, {\"data\": {\"name\": \"data-f3b2d7b7257afc0cc57c33a62a9994af\"}, \"mark\": \"area\", \"encoding\": {\"color\": {\"field\": \"segment\", \"type\": \"nominal\"}, \"tooltip\": [{\"field\": \"timestamp\", \"type\": \"temporal\"}, {\"field\": \"reserves_usd\", \"format\": \"$,d\", \"type\": \"quantitative\"}, {\"field\": \"segment\", \"type\": \"nominal\"}], \"x\": {\"field\": \"timestamp\", \"type\": \"temporal\"}, \"y\": {\"field\": \"reserves_usd\", \"type\": \"quantitative\"}}, \"title\": \"Reserves: 3Pool Metapools\"}], \"$schema\": \"https://vega.github.io/schema/vega-lite/v4.17.0.json\", \"datasets\": {\"data-e882dc191762b3aebea200610c3df328\": [{\"timestamp\": \"2022-06-30T00:00:00\", \"reserves_usd\": 0.0, \"segment\": \"crvFRAX\"}, {\"timestamp\": \"2022-07-01T00:00:00\", \"reserves_usd\": 0.0, \"segment\": \"crvFRAX\"}, {\"timestamp\": \"2022-07-02T00:00:00\", \"reserves_usd\": 8169503.562444324, \"segment\": \"crvFRAX\"}, {\"timestamp\": \"2022-07-03T00:00:00\", \"reserves_usd\": 7921609.785487978, \"segment\": \"crvFRAX\"}, {\"timestamp\": \"2022-07-04T00:00:00\", \"reserves_usd\": 8179200.3371362975, \"segment\": \"crvFRAX\"}, {\"timestamp\": \"2022-07-05T00:00:00\", \"reserves_usd\": 8567751.33652323, \"segment\": \"crvFRAX\"}, {\"timestamp\": \"2022-07-06T00:00:00\", \"reserves_usd\": 8555728.859133597, \"segment\": \"crvFRAX\"}, {\"timestamp\": \"2022-07-07T00:00:00\", \"reserves_usd\": 8666547.091651907, \"segment\": \"crvFRAX\"}, {\"timestamp\": \"2022-07-08T00:00:00\", \"reserves_usd\": 8569638.315627117, \"segment\": \"crvFRAX\"}, {\"timestamp\": \"2022-07-09T00:00:00\", \"reserves_usd\": 8885442.099596458, \"segment\": \"crvFRAX\"}, {\"timestamp\": \"2022-07-10T00:00:00\", \"reserves_usd\": 8961450.954933729, \"segment\": \"crvFRAX\"}, {\"timestamp\": \"2022-07-11T00:00:00\", \"reserves_usd\": 8892555.087019335, \"segment\": \"crvFRAX\"}, {\"timestamp\": \"2022-07-12T00:00:00\", \"reserves_usd\": 8844839.678920684, \"segment\": \"crvFRAX\"}, {\"timestamp\": \"2022-07-13T00:00:00\", \"reserves_usd\": 8895134.0951887, \"segment\": \"crvFRAX\"}, {\"timestamp\": \"2022-07-14T00:00:00\", \"reserves_usd\": 9076868.521140248, \"segment\": \"crvFRAX\"}, {\"timestamp\": \"2022-07-15T00:00:00\", \"reserves_usd\": 8991530.299274165, \"segment\": \"crvFRAX\"}, {\"timestamp\": \"2022-07-16T00:00:00\", \"reserves_usd\": 8943998.185449272, \"segment\": \"crvFRAX\"}, {\"timestamp\": \"2022-07-17T00:00:00\", \"reserves_usd\": 9017313.938456729, \"segment\": \"crvFRAX\"}, {\"timestamp\": \"2022-07-18T00:00:00\", \"reserves_usd\": 9014843.639966935, \"segment\": \"crvFRAX\"}, {\"timestamp\": \"2022-07-19T00:00:00\", \"reserves_usd\": 8967772.353557996, \"segment\": \"crvFRAX\"}, {\"timestamp\": \"2022-07-20T00:00:00\", \"reserves_usd\": 8965275.877716087, \"segment\": \"crvFRAX\"}, {\"timestamp\": \"2022-07-21T00:00:00\", \"reserves_usd\": 8971954.001651632, \"segment\": \"crvFRAX\"}, {\"timestamp\": \"2022-07-22T00:00:00\", \"reserves_usd\": 8899973.962250292, \"segment\": \"crvFRAX\"}, {\"timestamp\": \"2022-07-23T00:00:00\", \"reserves_usd\": 8870319.233275661, \"segment\": \"crvFRAX\"}, {\"timestamp\": \"2022-07-24T00:00:00\", \"reserves_usd\": 8906024.630215174, \"segment\": \"crvFRAX\"}, {\"timestamp\": \"2022-07-25T00:00:00\", \"reserves_usd\": 8806956.385617778, \"segment\": \"crvFRAX\"}, {\"timestamp\": \"2022-07-26T00:00:00\", \"reserves_usd\": 8692603.405409561, \"segment\": \"crvFRAX\"}, {\"timestamp\": \"2022-07-27T00:00:00\", \"reserves_usd\": 8718106.521342922, \"segment\": \"crvFRAX\"}, {\"timestamp\": \"2022-07-28T00:00:00\", \"reserves_usd\": 8795803.177752346, \"segment\": \"crvFRAX\"}, {\"timestamp\": \"2022-07-29T00:00:00\", \"reserves_usd\": 12585594.356894761, \"segment\": \"crvFRAX\"}, {\"timestamp\": \"2022-07-30T00:00:00\", \"reserves_usd\": 15886527.662436113, \"segment\": \"crvFRAX\"}, {\"timestamp\": \"2022-07-31T00:00:00\", \"reserves_usd\": 15460896.838959724, \"segment\": \"crvFRAX\"}, {\"timestamp\": \"2022-08-01T00:00:00\", \"reserves_usd\": 17160249.424259398, \"segment\": \"crvFRAX\"}, {\"timestamp\": \"2022-08-02T00:00:00\", \"reserves_usd\": 18753444.452247985, \"segment\": \"crvFRAX\"}, {\"timestamp\": \"2022-08-03T00:00:00\", \"reserves_usd\": 19758884.76950303, \"segment\": \"crvFRAX\"}, {\"timestamp\": \"2022-08-04T00:00:00\", \"reserves_usd\": 20534767.585274298, \"segment\": \"crvFRAX\"}, {\"timestamp\": \"2022-08-05T00:00:00\", \"reserves_usd\": 21291976.00242664, \"segment\": \"crvFRAX\"}, {\"timestamp\": \"2022-08-06T00:00:00\", \"reserves_usd\": 23794637.798345618, \"segment\": \"crvFRAX\"}, {\"timestamp\": \"2022-08-07T00:00:00\", \"reserves_usd\": 24543769.07310206, \"segment\": \"crvFRAX\"}, {\"timestamp\": \"2022-08-08T00:00:00\", \"reserves_usd\": 23942993.51493675, \"segment\": \"crvFRAX\"}, {\"timestamp\": \"2022-08-09T00:00:00\", \"reserves_usd\": 24549583.809524626, \"segment\": \"crvFRAX\"}, {\"timestamp\": \"2022-08-10T00:00:00\", \"reserves_usd\": 28119738.542576946, \"segment\": \"crvFRAX\"}, {\"timestamp\": \"2022-08-11T00:00:00\", \"reserves_usd\": 29248999.505861133, \"segment\": \"crvFRAX\"}, {\"timestamp\": \"2022-08-12T00:00:00\", \"reserves_usd\": 31098663.646777805, \"segment\": \"crvFRAX\"}, {\"timestamp\": \"2022-08-13T00:00:00\", \"reserves_usd\": 32311582.925266974, \"segment\": \"crvFRAX\"}, {\"timestamp\": \"2022-08-14T00:00:00\", \"reserves_usd\": 31583758.248966895, \"segment\": \"crvFRAX\"}, {\"timestamp\": \"2022-08-15T00:00:00\", \"reserves_usd\": 31448200.08835275, \"segment\": \"crvFRAX\"}, {\"timestamp\": \"2022-08-16T00:00:00\", \"reserves_usd\": 31769926.75847234, \"segment\": \"crvFRAX\"}, {\"timestamp\": \"2022-08-17T00:00:00\", \"reserves_usd\": 33393306.42193775, \"segment\": \"crvFRAX\"}, {\"timestamp\": \"2022-08-18T00:00:00\", \"reserves_usd\": 50515577.82632239, \"segment\": \"crvFRAX\"}, {\"timestamp\": \"2022-08-19T00:00:00\", \"reserves_usd\": 50384023.31329102, \"segment\": \"crvFRAX\"}, {\"timestamp\": \"2022-08-20T00:00:00\", \"reserves_usd\": 49103247.81407383, \"segment\": \"crvFRAX\"}, {\"timestamp\": \"2022-08-21T00:00:00\", \"reserves_usd\": 48183650.310082644, \"segment\": \"crvFRAX\"}, {\"timestamp\": \"2022-08-22T00:00:00\", \"reserves_usd\": 50742586.654491335, \"segment\": \"crvFRAX\"}, {\"timestamp\": \"2022-08-23T00:00:00\", \"reserves_usd\": 49451076.65883599, \"segment\": \"crvFRAX\"}, {\"timestamp\": \"2022-08-24T00:00:00\", \"reserves_usd\": 49592300.56531403, \"segment\": \"crvFRAX\"}, {\"timestamp\": \"2022-08-25T00:00:00\", \"reserves_usd\": 49376624.167885505, \"segment\": \"crvFRAX\"}, {\"timestamp\": \"2022-08-26T00:00:00\", \"reserves_usd\": 51029329.895453334, \"segment\": \"crvFRAX\"}, {\"timestamp\": \"2022-08-27T00:00:00\", \"reserves_usd\": 52864165.53539538, \"segment\": \"crvFRAX\"}, {\"timestamp\": \"2022-08-28T00:00:00\", \"reserves_usd\": 52775312.420669116, \"segment\": \"crvFRAX\"}, {\"timestamp\": \"2022-08-29T00:00:00\", \"reserves_usd\": 50161241.42970666, \"segment\": \"crvFRAX\"}, {\"timestamp\": \"2022-08-30T00:00:00\", \"reserves_usd\": 49186458.43054578, \"segment\": \"crvFRAX\"}, {\"timestamp\": \"2022-08-31T00:00:00\", \"reserves_usd\": 49713469.1105896, \"segment\": \"crvFRAX\"}, {\"timestamp\": \"2022-09-01T00:00:00\", \"reserves_usd\": 49827971.910006374, \"segment\": \"crvFRAX\"}, {\"timestamp\": \"2022-09-02T00:00:00\", \"reserves_usd\": 51490829.64218303, \"segment\": \"crvFRAX\"}, {\"timestamp\": \"2022-09-03T00:00:00\", \"reserves_usd\": 52529048.01897725, \"segment\": \"crvFRAX\"}, {\"timestamp\": \"2022-09-04T00:00:00\", \"reserves_usd\": 53057542.16381239, \"segment\": \"crvFRAX\"}, {\"timestamp\": \"2022-09-05T00:00:00\", \"reserves_usd\": 53181556.751987845, \"segment\": \"crvFRAX\"}, {\"timestamp\": \"2022-09-06T00:00:00\", \"reserves_usd\": 52463487.8266507, \"segment\": \"crvFRAX\"}, {\"timestamp\": \"2022-09-07T00:00:00\", \"reserves_usd\": 52440366.11926872, \"segment\": \"crvFRAX\"}, {\"timestamp\": \"2022-09-08T00:00:00\", \"reserves_usd\": 50601701.160455994, \"segment\": \"crvFRAX\"}, {\"timestamp\": \"2022-09-09T00:00:00\", \"reserves_usd\": 57122483.77492539, \"segment\": \"crvFRAX\"}, {\"timestamp\": \"2022-09-10T00:00:00\", \"reserves_usd\": 58420077.3212657, \"segment\": \"crvFRAX\"}, {\"timestamp\": \"2022-09-11T00:00:00\", \"reserves_usd\": 59222057.66127549, \"segment\": \"crvFRAX\"}, {\"timestamp\": \"2022-09-12T00:00:00\", \"reserves_usd\": 60345399.11671852, \"segment\": \"crvFRAX\"}, {\"timestamp\": \"2022-09-13T00:00:00\", \"reserves_usd\": 60400948.25361455, \"segment\": \"crvFRAX\"}, {\"timestamp\": \"2022-09-14T00:00:00\", \"reserves_usd\": 61060903.805383846, \"segment\": \"crvFRAX\"}, {\"timestamp\": \"2022-09-15T00:00:00\", \"reserves_usd\": 58926276.56492998, \"segment\": \"crvFRAX\"}, {\"timestamp\": \"2022-09-16T00:00:00\", \"reserves_usd\": 61281168.20544682, \"segment\": \"crvFRAX\"}, {\"timestamp\": \"2022-09-17T00:00:00\", \"reserves_usd\": 61538201.67436792, \"segment\": \"crvFRAX\"}, {\"timestamp\": \"2022-09-18T00:00:00\", \"reserves_usd\": 64141919.45425944, \"segment\": \"crvFRAX\"}, {\"timestamp\": \"2022-09-19T00:00:00\", \"reserves_usd\": 64365393.955293834, \"segment\": \"crvFRAX\"}, {\"timestamp\": \"2022-09-20T00:00:00\", \"reserves_usd\": 62280148.29443927, \"segment\": \"crvFRAX\"}, {\"timestamp\": \"2022-09-21T00:00:00\", \"reserves_usd\": 61613459.61735435, \"segment\": \"crvFRAX\"}, {\"timestamp\": \"2022-09-22T00:00:00\", \"reserves_usd\": 61782687.87226564, \"segment\": \"crvFRAX\"}, {\"timestamp\": \"2022-09-23T00:00:00\", \"reserves_usd\": 64806344.267192364, \"segment\": \"crvFRAX\"}, {\"timestamp\": \"2022-09-24T00:00:00\", \"reserves_usd\": 65792816.959245205, \"segment\": \"crvFRAX\"}, {\"timestamp\": \"2022-09-25T00:00:00\", \"reserves_usd\": 66393405.86787629, \"segment\": \"crvFRAX\"}, {\"timestamp\": \"2022-09-26T00:00:00\", \"reserves_usd\": 68813694.6077195, \"segment\": \"crvFRAX\"}, {\"timestamp\": \"2022-09-27T00:00:00\", \"reserves_usd\": 70066110.21089146, \"segment\": \"crvFRAX\"}, {\"timestamp\": \"2022-09-28T00:00:00\", \"reserves_usd\": 70868866.07412353, \"segment\": \"crvFRAX\"}, {\"timestamp\": \"2022-09-29T00:00:00\", \"reserves_usd\": 67165104.63504826, \"segment\": \"crvFRAX\"}, {\"timestamp\": \"2022-09-30T00:00:00\", \"reserves_usd\": 69479106.14709601, \"segment\": \"crvFRAX\"}, {\"timestamp\": \"2022-10-01T00:00:00\", \"reserves_usd\": 73218700.36351034, \"segment\": \"crvFRAX\"}, {\"timestamp\": \"2022-10-02T00:00:00\", \"reserves_usd\": 73599798.18100895, \"segment\": \"crvFRAX\"}, {\"timestamp\": \"2022-10-03T00:00:00\", \"reserves_usd\": 73240530.52237122, \"segment\": \"crvFRAX\"}, {\"timestamp\": \"2022-10-04T00:00:00\", \"reserves_usd\": 73667457.33098932, \"segment\": \"crvFRAX\"}, {\"timestamp\": \"2022-10-05T00:00:00\", \"reserves_usd\": 75048354.46848948, \"segment\": \"crvFRAX\"}, {\"timestamp\": \"2022-10-06T00:00:00\", \"reserves_usd\": 76876067.33903909, \"segment\": \"crvFRAX\"}, {\"timestamp\": \"2022-10-07T00:00:00\", \"reserves_usd\": 74356271.16675118, \"segment\": \"crvFRAX\"}, {\"timestamp\": \"2022-10-08T00:00:00\", \"reserves_usd\": 79259816.58899511, \"segment\": \"crvFRAX\"}, {\"timestamp\": \"2022-10-09T00:00:00\", \"reserves_usd\": 80159482.77996327, \"segment\": \"crvFRAX\"}, {\"timestamp\": \"2022-10-10T00:00:00\", \"reserves_usd\": 78180989.2491408, \"segment\": \"crvFRAX\"}, {\"timestamp\": \"2022-10-11T00:00:00\", \"reserves_usd\": 80174058.02590504, \"segment\": \"crvFRAX\"}, {\"timestamp\": \"2022-10-12T00:00:00\", \"reserves_usd\": 79099746.41245005, \"segment\": \"crvFRAX\"}, {\"timestamp\": \"2022-10-13T00:00:00\", \"reserves_usd\": 83141492.36412095, \"segment\": \"crvFRAX\"}, {\"timestamp\": \"2022-10-14T00:00:00\", \"reserves_usd\": 86264272.71260034, \"segment\": \"crvFRAX\"}, {\"timestamp\": \"2022-10-15T00:00:00\", \"reserves_usd\": 79715469.45055367, \"segment\": \"crvFRAX\"}, {\"timestamp\": \"2022-10-16T00:00:00\", \"reserves_usd\": 79151534.98648652, \"segment\": \"crvFRAX\"}, {\"timestamp\": \"2022-10-17T00:00:00\", \"reserves_usd\": 80033757.6118728, \"segment\": \"crvFRAX\"}, {\"timestamp\": \"2022-10-18T00:00:00\", \"reserves_usd\": 80360973.33306453, \"segment\": \"crvFRAX\"}, {\"timestamp\": \"2022-10-19T00:00:00\", \"reserves_usd\": 81627162.14339429, \"segment\": \"crvFRAX\"}, {\"timestamp\": \"2022-10-20T00:00:00\", \"reserves_usd\": 83487766.72588894, \"segment\": \"crvFRAX\"}, {\"timestamp\": \"2022-10-21T00:00:00\", \"reserves_usd\": 82288879.64084114, \"segment\": \"crvFRAX\"}, {\"timestamp\": \"2022-10-22T00:00:00\", \"reserves_usd\": 88164737.79644667, \"segment\": \"crvFRAX\"}, {\"timestamp\": \"2022-10-23T00:00:00\", \"reserves_usd\": 91109132.9689619, \"segment\": \"crvFRAX\"}, {\"timestamp\": \"2022-10-24T00:00:00\", \"reserves_usd\": 90927187.20464824, \"segment\": \"crvFRAX\"}, {\"timestamp\": \"2022-10-25T00:00:00\", \"reserves_usd\": 91141045.01368573, \"segment\": \"crvFRAX\"}, {\"timestamp\": \"2022-10-26T00:00:00\", \"reserves_usd\": 91750178.10794576, \"segment\": \"crvFRAX\"}, {\"timestamp\": \"2022-10-27T00:00:00\", \"reserves_usd\": 91224592.13550681, \"segment\": \"crvFRAX\"}, {\"timestamp\": \"2022-10-28T00:00:00\", \"reserves_usd\": 93608653.99483769, \"segment\": \"crvFRAX\"}, {\"timestamp\": \"2022-10-29T00:00:00\", \"reserves_usd\": 105695734.11016639, \"segment\": \"crvFRAX\"}, {\"timestamp\": \"2022-10-30T00:00:00\", \"reserves_usd\": 106905365.40990043, \"segment\": \"crvFRAX\"}, {\"timestamp\": \"2022-10-31T00:00:00\", \"reserves_usd\": 107234033.58102268, \"segment\": \"crvFRAX\"}, {\"timestamp\": \"2022-11-01T00:00:00\", \"reserves_usd\": 109074430.53507797, \"segment\": \"crvFRAX\"}, {\"timestamp\": \"2022-11-02T00:00:00\", \"reserves_usd\": 113590335.73055552, \"segment\": \"crvFRAX\"}, {\"timestamp\": \"2022-11-03T00:00:00\", \"reserves_usd\": 114234531.8920292, \"segment\": \"crvFRAX\"}, {\"timestamp\": \"2022-11-04T00:00:00\", \"reserves_usd\": 116669865.46802196, \"segment\": \"crvFRAX\"}, {\"timestamp\": \"2022-11-05T00:00:00\", \"reserves_usd\": 119181341.33399451, \"segment\": \"crvFRAX\"}, {\"timestamp\": \"2022-11-06T00:00:00\", \"reserves_usd\": 114810284.10033163, \"segment\": \"crvFRAX\"}, {\"timestamp\": \"2022-11-07T00:00:00\", \"reserves_usd\": 110956476.4273684, \"segment\": \"crvFRAX\"}, {\"timestamp\": \"2022-11-08T00:00:00\", \"reserves_usd\": 111789508.00771196, \"segment\": \"crvFRAX\"}, {\"timestamp\": \"2022-11-09T00:00:00\", \"reserves_usd\": 104143215.23312019, \"segment\": \"crvFRAX\"}, {\"timestamp\": \"2022-11-10T00:00:00\", \"reserves_usd\": 89111971.31982301, \"segment\": \"crvFRAX\"}, {\"timestamp\": \"2022-11-11T00:00:00\", \"reserves_usd\": 82952414.94601844, \"segment\": \"crvFRAX\"}, {\"timestamp\": \"2022-11-12T00:00:00\", \"reserves_usd\": 82525744.13476531, \"segment\": \"crvFRAX\"}, {\"timestamp\": \"2022-11-13T00:00:00\", \"reserves_usd\": 83860566.04741237, \"segment\": \"crvFRAX\"}, {\"timestamp\": \"2022-11-14T00:00:00\", \"reserves_usd\": 75581146.45247595, \"segment\": \"crvFRAX\"}, {\"timestamp\": \"2022-11-15T00:00:00\", \"reserves_usd\": 72339927.7792804, \"segment\": \"crvFRAX\"}, {\"timestamp\": \"2022-11-16T00:00:00\", \"reserves_usd\": 72114060.18248934, \"segment\": \"crvFRAX\"}, {\"timestamp\": \"2022-11-17T00:00:00\", \"reserves_usd\": 70361172.06875971, \"segment\": \"crvFRAX\"}, {\"timestamp\": \"2022-11-18T00:00:00\", \"reserves_usd\": 65813209.84592739, \"segment\": \"crvFRAX\"}, {\"timestamp\": \"2022-11-19T00:00:00\", \"reserves_usd\": 65706011.53106061, \"segment\": \"crvFRAX\"}, {\"timestamp\": \"2022-11-20T00:00:00\", \"reserves_usd\": 66150490.93536655, \"segment\": \"crvFRAX\"}, {\"timestamp\": \"2022-11-21T00:00:00\", \"reserves_usd\": 65569349.08466535, \"segment\": \"crvFRAX\"}, {\"timestamp\": \"2022-11-22T00:00:00\", \"reserves_usd\": 62577653.30172376, \"segment\": \"crvFRAX\"}, {\"timestamp\": \"2022-11-23T00:00:00\", \"reserves_usd\": 53932731.13987376, \"segment\": \"crvFRAX\"}, {\"timestamp\": \"2022-11-24T00:00:00\", \"reserves_usd\": 56389535.65644228, \"segment\": \"crvFRAX\"}, {\"timestamp\": \"2022-11-25T00:00:00\", \"reserves_usd\": 58748784.7349704, \"segment\": \"crvFRAX\"}, {\"timestamp\": \"2022-11-26T00:00:00\", \"reserves_usd\": 58348825.33422875, \"segment\": \"crvFRAX\"}, {\"timestamp\": \"2022-11-27T00:00:00\", \"reserves_usd\": 58515392.59913282, \"segment\": \"crvFRAX\"}, {\"timestamp\": \"2022-11-28T00:00:00\", \"reserves_usd\": 58756205.56798623, \"segment\": \"crvFRAX\"}, {\"timestamp\": \"2022-11-29T00:00:00\", \"reserves_usd\": 58390625.29624032, \"segment\": \"crvFRAX\"}, {\"timestamp\": \"2022-11-30T00:00:00\", \"reserves_usd\": 58987371.508774795, \"segment\": \"crvFRAX\"}, {\"timestamp\": \"2022-12-01T00:00:00\", \"reserves_usd\": 58601098.123351984, \"segment\": \"crvFRAX\"}, {\"timestamp\": \"2022-12-02T00:00:00\", \"reserves_usd\": 63880334.416902326, \"segment\": \"crvFRAX\"}, {\"timestamp\": \"2022-12-03T00:00:00\", \"reserves_usd\": 65681562.27836067, \"segment\": \"crvFRAX\"}, {\"timestamp\": \"2022-12-04T00:00:00\", \"reserves_usd\": 66848690.62021494, \"segment\": \"crvFRAX\"}, {\"timestamp\": \"2022-12-05T00:00:00\", \"reserves_usd\": 66599076.28059409, \"segment\": \"crvFRAX\"}, {\"timestamp\": \"2022-12-06T00:00:00\", \"reserves_usd\": 63835283.40314325, \"segment\": \"crvFRAX\"}, {\"timestamp\": \"2022-12-07T00:00:00\", \"reserves_usd\": 62921466.483762346, \"segment\": \"crvFRAX\"}, {\"timestamp\": \"2022-12-08T00:00:00\", \"reserves_usd\": 61490160.72706611, \"segment\": \"crvFRAX\"}, {\"timestamp\": \"2022-12-09T00:00:00\", \"reserves_usd\": 61524607.864935964, \"segment\": \"crvFRAX\"}, {\"timestamp\": \"2022-12-10T00:00:00\", \"reserves_usd\": 61112213.45566546, \"segment\": \"crvFRAX\"}, {\"timestamp\": \"2022-12-11T00:00:00\", \"reserves_usd\": 61769141.564923316, \"segment\": \"crvFRAX\"}, {\"timestamp\": \"2022-12-12T00:00:00\", \"reserves_usd\": 60875410.75274462, \"segment\": \"crvFRAX\"}, {\"timestamp\": \"2022-12-13T00:00:00\", \"reserves_usd\": 59623071.19169136, \"segment\": \"crvFRAX\"}, {\"timestamp\": \"2022-12-14T00:00:00\", \"reserves_usd\": 58778161.333917804, \"segment\": \"crvFRAX\"}, {\"timestamp\": \"2022-12-15T00:00:00\", \"reserves_usd\": 59068487.05690647, \"segment\": \"crvFRAX\"}, {\"timestamp\": \"2022-12-16T00:00:00\", \"reserves_usd\": 59663488.73007247, \"segment\": \"crvFRAX\"}, {\"timestamp\": \"2022-12-17T00:00:00\", \"reserves_usd\": 58870260.05399047, \"segment\": \"crvFRAX\"}, {\"timestamp\": \"2022-12-18T00:00:00\", \"reserves_usd\": 58227067.52180031, \"segment\": \"crvFRAX\"}, {\"timestamp\": \"2022-12-19T00:00:00\", \"reserves_usd\": 58709244.15758326, \"segment\": \"crvFRAX\"}, {\"timestamp\": \"2022-12-20T00:00:00\", \"reserves_usd\": 55912064.14389621, \"segment\": \"crvFRAX\"}, {\"timestamp\": \"2022-12-21T00:00:00\", \"reserves_usd\": 55042623.68816449, \"segment\": \"crvFRAX\"}, {\"timestamp\": \"2022-12-22T00:00:00\", \"reserves_usd\": 55980105.77584466, \"segment\": \"crvFRAX\"}, {\"timestamp\": \"2022-12-23T00:00:00\", \"reserves_usd\": 54628988.80357528, \"segment\": \"crvFRAX\"}, {\"timestamp\": \"2022-12-24T00:00:00\", \"reserves_usd\": 54295693.20841144, \"segment\": \"crvFRAX\"}, {\"timestamp\": \"2022-12-25T00:00:00\", \"reserves_usd\": 54494296.5197336, \"segment\": \"crvFRAX\"}, {\"timestamp\": \"2022-12-26T00:00:00\", \"reserves_usd\": 54358180.39756139, \"segment\": \"crvFRAX\"}, {\"timestamp\": \"2022-12-27T00:00:00\", \"reserves_usd\": 53722738.636316836, \"segment\": \"crvFRAX\"}, {\"timestamp\": \"2022-12-28T00:00:00\", \"reserves_usd\": 53196930.43233368, \"segment\": \"crvFRAX\"}, {\"timestamp\": \"2022-12-29T00:00:00\", \"reserves_usd\": 54394471.72368355, \"segment\": \"crvFRAX\"}, {\"timestamp\": \"2022-12-30T00:00:00\", \"reserves_usd\": 54408963.34855896, \"segment\": \"crvFRAX\"}, {\"timestamp\": \"2022-12-31T00:00:00\", \"reserves_usd\": 54759941.06318226, \"segment\": \"crvFRAX\"}, {\"timestamp\": \"2023-01-01T00:00:00\", \"reserves_usd\": 55087867.34505183, \"segment\": \"crvFRAX\"}, {\"timestamp\": \"2023-01-02T00:00:00\", \"reserves_usd\": 54974215.99162428, \"segment\": \"crvFRAX\"}, {\"timestamp\": \"2023-01-03T00:00:00\", \"reserves_usd\": 55853607.03331952, \"segment\": \"crvFRAX\"}, {\"timestamp\": \"2023-01-04T00:00:00\", \"reserves_usd\": 57729170.148083635, \"segment\": \"crvFRAX\"}, {\"timestamp\": \"2023-01-05T00:00:00\", \"reserves_usd\": 59842987.87613199, \"segment\": \"crvFRAX\"}, {\"timestamp\": \"2023-01-06T00:00:00\", \"reserves_usd\": 62919883.39853831, \"segment\": \"crvFRAX\"}, {\"timestamp\": \"2023-01-07T00:00:00\", \"reserves_usd\": 64372898.42295842, \"segment\": \"crvFRAX\"}, {\"timestamp\": \"2023-01-08T00:00:00\", \"reserves_usd\": 60697131.71667291, \"segment\": \"crvFRAX\"}, {\"timestamp\": \"2023-01-09T00:00:00\", \"reserves_usd\": 61559974.37229167, \"segment\": \"crvFRAX\"}, {\"timestamp\": \"2023-01-10T00:00:00\", \"reserves_usd\": 62007666.54788089, \"segment\": \"crvFRAX\"}, {\"timestamp\": \"2023-01-11T00:00:00\", \"reserves_usd\": 64314858.32250283, \"segment\": \"crvFRAX\"}, {\"timestamp\": \"2023-01-12T00:00:00\", \"reserves_usd\": 63972550.67308691, \"segment\": \"crvFRAX\"}, {\"timestamp\": \"2023-01-13T00:00:00\", \"reserves_usd\": 64355688.26616843, \"segment\": \"crvFRAX\"}, {\"timestamp\": \"2023-01-14T00:00:00\", \"reserves_usd\": 65135094.97915567, \"segment\": \"crvFRAX\"}, {\"timestamp\": \"2022-06-30T00:00:00\", \"reserves_usd\": 0.0, \"segment\": \"paired asset\"}, {\"timestamp\": \"2022-07-01T00:00:00\", \"reserves_usd\": 0.0, \"segment\": \"paired asset\"}, {\"timestamp\": \"2022-07-02T00:00:00\", \"reserves_usd\": 4894944.918187581, \"segment\": \"paired asset\"}, {\"timestamp\": \"2022-07-03T00:00:00\", \"reserves_usd\": 5209902.801759227, \"segment\": \"paired asset\"}, {\"timestamp\": \"2022-07-04T00:00:00\", \"reserves_usd\": 4952209.801507773, \"segment\": \"paired asset\"}, {\"timestamp\": \"2022-07-05T00:00:00\", \"reserves_usd\": 4564123.489041099, \"segment\": \"paired asset\"}, {\"timestamp\": \"2022-07-06T00:00:00\", \"reserves_usd\": 4576151.817690726, \"segment\": \"paired asset\"}, {\"timestamp\": \"2022-07-07T00:00:00\", \"reserves_usd\": 4466700.666300654, \"segment\": \"paired asset\"}, {\"timestamp\": \"2022-07-08T00:00:00\", \"reserves_usd\": 4564932.373579938, \"segment\": \"paired asset\"}, {\"timestamp\": \"2022-07-09T00:00:00\", \"reserves_usd\": 4689684.54901615, \"segment\": \"paired asset\"}, {\"timestamp\": \"2022-07-10T00:00:00\", \"reserves_usd\": 4621768.618735668, \"segment\": \"paired asset\"}, {\"timestamp\": \"2022-07-11T00:00:00\", \"reserves_usd\": 4691831.70573394, \"segment\": \"paired asset\"}, {\"timestamp\": \"2022-07-12T00:00:00\", \"reserves_usd\": 4766217.223150616, \"segment\": \"paired asset\"}, {\"timestamp\": \"2022-07-13T00:00:00\", \"reserves_usd\": 4750562.328831399, \"segment\": \"paired asset\"}, {\"timestamp\": \"2022-07-14T00:00:00\", \"reserves_usd\": 4569090.527853513, \"segment\": \"paired asset\"}, {\"timestamp\": \"2022-07-15T00:00:00\", \"reserves_usd\": 4654316.253890205, \"segment\": \"paired asset\"}, {\"timestamp\": \"2022-07-16T00:00:00\", \"reserves_usd\": 4701907.218774946, \"segment\": \"paired asset\"}, {\"timestamp\": \"2022-07-17T00:00:00\", \"reserves_usd\": 4628696.439311011, \"segment\": \"paired asset\"}, {\"timestamp\": \"2022-07-18T00:00:00\", \"reserves_usd\": 4631203.765761695, \"segment\": \"paired asset\"}, {\"timestamp\": \"2022-07-19T00:00:00\", \"reserves_usd\": 4679693.518481655, \"segment\": \"paired asset\"}, {\"timestamp\": \"2022-07-20T00:00:00\", \"reserves_usd\": 4682793.283164337, \"segment\": \"paired asset\"}, {\"timestamp\": \"2022-07-21T00:00:00\", \"reserves_usd\": 4877254.713353335, \"segment\": \"paired asset\"}, {\"timestamp\": \"2022-07-22T00:00:00\", \"reserves_usd\": 4944587.262155063, \"segment\": \"paired asset\"}, {\"timestamp\": \"2022-07-23T00:00:00\", \"reserves_usd\": 4973788.519395042, \"segment\": \"paired asset\"}, {\"timestamp\": \"2022-07-24T00:00:00\", \"reserves_usd\": 5037519.964880792, \"segment\": \"paired asset\"}, {\"timestamp\": \"2022-07-25T00:00:00\", \"reserves_usd\": 5136766.61680462, \"segment\": \"paired asset\"}, {\"timestamp\": \"2022-07-26T00:00:00\", \"reserves_usd\": 5192669.552114174, \"segment\": \"paired asset\"}, {\"timestamp\": \"2022-07-27T00:00:00\", \"reserves_usd\": 5167248.759257192, \"segment\": \"paired asset\"}, {\"timestamp\": \"2022-07-28T00:00:00\", \"reserves_usd\": 5088364.710161798, \"segment\": \"paired asset\"}, {\"timestamp\": \"2022-07-29T00:00:00\", \"reserves_usd\": 10085835.499231922, \"segment\": \"paired asset\"}, {\"timestamp\": \"2022-07-30T00:00:00\", \"reserves_usd\": 13121929.873478876, \"segment\": \"paired asset\"}, {\"timestamp\": \"2022-07-31T00:00:00\", \"reserves_usd\": 12846880.825354893, \"segment\": \"paired asset\"}, {\"timestamp\": \"2022-08-01T00:00:00\", \"reserves_usd\": 13271983.36614839, \"segment\": \"paired asset\"}, {\"timestamp\": \"2022-08-02T00:00:00\", \"reserves_usd\": 14759791.948795093, \"segment\": \"paired asset\"}, {\"timestamp\": \"2022-08-03T00:00:00\", \"reserves_usd\": 15571185.43995809, \"segment\": \"paired asset\"}, {\"timestamp\": \"2022-08-04T00:00:00\", \"reserves_usd\": 15809846.003877332, \"segment\": \"paired asset\"}, {\"timestamp\": \"2022-08-05T00:00:00\", \"reserves_usd\": 15925449.438856393, \"segment\": \"paired asset\"}, {\"timestamp\": \"2022-08-06T00:00:00\", \"reserves_usd\": 16557488.357933482, \"segment\": \"paired asset\"}, {\"timestamp\": \"2022-08-07T00:00:00\", \"reserves_usd\": 17370015.52798819, \"segment\": \"paired asset\"}, {\"timestamp\": \"2022-08-08T00:00:00\", \"reserves_usd\": 17969599.90590238, \"segment\": \"paired asset\"}, {\"timestamp\": \"2022-08-09T00:00:00\", \"reserves_usd\": 18029309.05596361, \"segment\": \"paired asset\"}, {\"timestamp\": \"2022-08-10T00:00:00\", \"reserves_usd\": 20102073.338144872, \"segment\": \"paired asset\"}, {\"timestamp\": \"2022-08-11T00:00:00\", \"reserves_usd\": 22713896.125331048, \"segment\": \"paired asset\"}, {\"timestamp\": \"2022-08-12T00:00:00\", \"reserves_usd\": 24025861.87220335, \"segment\": \"paired asset\"}, {\"timestamp\": \"2022-08-13T00:00:00\", \"reserves_usd\": 24232809.40534202, \"segment\": \"paired asset\"}, {\"timestamp\": \"2022-08-14T00:00:00\", \"reserves_usd\": 22742630.516847447, \"segment\": \"paired asset\"}, {\"timestamp\": \"2022-08-15T00:00:00\", \"reserves_usd\": 23470289.057561018, \"segment\": \"paired asset\"}, {\"timestamp\": \"2022-08-16T00:00:00\", \"reserves_usd\": 23925512.10066391, \"segment\": \"paired asset\"}, {\"timestamp\": \"2022-08-17T00:00:00\", \"reserves_usd\": 25253288.84359221, \"segment\": \"paired asset\"}, {\"timestamp\": \"2022-08-18T00:00:00\", \"reserves_usd\": 39646860.74709744, \"segment\": \"paired asset\"}, {\"timestamp\": \"2022-08-19T00:00:00\", \"reserves_usd\": 39936558.872400805, \"segment\": \"paired asset\"}, {\"timestamp\": \"2022-08-20T00:00:00\", \"reserves_usd\": 38954302.87986342, \"segment\": \"paired asset\"}, {\"timestamp\": \"2022-08-21T00:00:00\", \"reserves_usd\": 38968795.51171121, \"segment\": \"paired asset\"}, {\"timestamp\": \"2022-08-22T00:00:00\", \"reserves_usd\": 39342527.532489054, \"segment\": \"paired asset\"}, {\"timestamp\": \"2022-08-23T00:00:00\", \"reserves_usd\": 39432872.93525797, \"segment\": \"paired asset\"}, {\"timestamp\": \"2022-08-24T00:00:00\", \"reserves_usd\": 39286705.39219937, \"segment\": \"paired asset\"}, {\"timestamp\": \"2022-08-25T00:00:00\", \"reserves_usd\": 39489355.91840266, \"segment\": \"paired asset\"}, {\"timestamp\": \"2022-08-26T00:00:00\", \"reserves_usd\": 38580067.699436426, \"segment\": \"paired asset\"}, {\"timestamp\": \"2022-08-27T00:00:00\", \"reserves_usd\": 39169628.3236331, \"segment\": \"paired asset\"}, {\"timestamp\": \"2022-08-28T00:00:00\", \"reserves_usd\": 40614472.99781668, \"segment\": \"paired asset\"}, {\"timestamp\": \"2022-08-29T00:00:00\", \"reserves_usd\": 38281176.64392939, \"segment\": \"paired asset\"}, {\"timestamp\": \"2022-08-30T00:00:00\", \"reserves_usd\": 39754311.462712295, \"segment\": \"paired asset\"}, {\"timestamp\": \"2022-08-31T00:00:00\", \"reserves_usd\": 41202586.20233259, \"segment\": \"paired asset\"}, {\"timestamp\": \"2022-09-01T00:00:00\", \"reserves_usd\": 41128477.7374506, \"segment\": \"paired asset\"}, {\"timestamp\": \"2022-09-02T00:00:00\", \"reserves_usd\": 40514958.900111385, \"segment\": \"paired asset\"}, {\"timestamp\": \"2022-09-03T00:00:00\", \"reserves_usd\": 42529448.0144073, \"segment\": \"paired asset\"}, {\"timestamp\": \"2022-09-04T00:00:00\", \"reserves_usd\": 43121800.08448449, \"segment\": \"paired asset\"}, {\"timestamp\": \"2022-09-05T00:00:00\", \"reserves_usd\": 43405841.89490472, \"segment\": \"paired asset\"}, {\"timestamp\": \"2022-09-06T00:00:00\", \"reserves_usd\": 43112661.27807698, \"segment\": \"paired asset\"}, {\"timestamp\": \"2022-09-07T00:00:00\", \"reserves_usd\": 43376796.077481814, \"segment\": \"paired asset\"}, {\"timestamp\": \"2022-09-08T00:00:00\", \"reserves_usd\": 41046243.159139514, \"segment\": \"paired asset\"}, {\"timestamp\": \"2022-09-09T00:00:00\", \"reserves_usd\": 44847221.25034831, \"segment\": \"paired asset\"}, {\"timestamp\": \"2022-09-10T00:00:00\", \"reserves_usd\": 45549419.61687455, \"segment\": \"paired asset\"}, {\"timestamp\": \"2022-09-11T00:00:00\", \"reserves_usd\": 45712920.746399365, \"segment\": \"paired asset\"}, {\"timestamp\": \"2022-09-12T00:00:00\", \"reserves_usd\": 46106968.125403576, \"segment\": \"paired asset\"}, {\"timestamp\": \"2022-09-13T00:00:00\", \"reserves_usd\": 46918765.58538546, \"segment\": \"paired asset\"}, {\"timestamp\": \"2022-09-14T00:00:00\", \"reserves_usd\": 47839739.331587516, \"segment\": \"paired asset\"}, {\"timestamp\": \"2022-09-15T00:00:00\", \"reserves_usd\": 47944805.11829141, \"segment\": \"paired asset\"}, {\"timestamp\": \"2022-09-16T00:00:00\", \"reserves_usd\": 48690738.45148061, \"segment\": \"paired asset\"}, {\"timestamp\": \"2022-09-17T00:00:00\", \"reserves_usd\": 49270620.167348236, \"segment\": \"paired asset\"}, {\"timestamp\": \"2022-09-18T00:00:00\", \"reserves_usd\": 49396843.592592165, \"segment\": \"paired asset\"}, {\"timestamp\": \"2022-09-19T00:00:00\", \"reserves_usd\": 49809204.083328605, \"segment\": \"paired asset\"}, {\"timestamp\": \"2022-09-20T00:00:00\", \"reserves_usd\": 49860286.14873358, \"segment\": \"paired asset\"}, {\"timestamp\": \"2022-09-21T00:00:00\", \"reserves_usd\": 49725850.85257154, \"segment\": \"paired asset\"}, {\"timestamp\": \"2022-09-22T00:00:00\", \"reserves_usd\": 48948362.73033782, \"segment\": \"paired asset\"}, {\"timestamp\": \"2022-09-23T00:00:00\", \"reserves_usd\": 51805927.09397316, \"segment\": \"paired asset\"}, {\"timestamp\": \"2022-09-24T00:00:00\", \"reserves_usd\": 53171588.05798142, \"segment\": \"paired asset\"}, {\"timestamp\": \"2022-09-25T00:00:00\", \"reserves_usd\": 53243400.41121208, \"segment\": \"paired asset\"}, {\"timestamp\": \"2022-09-26T00:00:00\", \"reserves_usd\": 53972614.24529451, \"segment\": \"paired asset\"}, {\"timestamp\": \"2022-09-27T00:00:00\", \"reserves_usd\": 57044425.626146466, \"segment\": \"paired asset\"}, {\"timestamp\": \"2022-09-28T00:00:00\", \"reserves_usd\": 59734271.05789597, \"segment\": \"paired asset\"}, {\"timestamp\": \"2022-09-29T00:00:00\", \"reserves_usd\": 60536650.090717256, \"segment\": \"paired asset\"}, {\"timestamp\": \"2022-09-30T00:00:00\", \"reserves_usd\": 62984557.93454421, \"segment\": \"paired asset\"}, {\"timestamp\": \"2022-10-01T00:00:00\", \"reserves_usd\": 65311079.23408888, \"segment\": \"paired asset\"}, {\"timestamp\": \"2022-10-02T00:00:00\", \"reserves_usd\": 67535706.52486138, \"segment\": \"paired asset\"}, {\"timestamp\": \"2022-10-03T00:00:00\", \"reserves_usd\": 67661661.73118532, \"segment\": \"paired asset\"}, {\"timestamp\": \"2022-10-04T00:00:00\", \"reserves_usd\": 67734563.95167702, \"segment\": \"paired asset\"}, {\"timestamp\": \"2022-10-05T00:00:00\", \"reserves_usd\": 68147658.64619915, \"segment\": \"paired asset\"}, {\"timestamp\": \"2022-10-06T00:00:00\", \"reserves_usd\": 68193661.30687393, \"segment\": \"paired asset\"}, {\"timestamp\": \"2022-10-07T00:00:00\", \"reserves_usd\": 68076404.70594321, \"segment\": \"paired asset\"}, {\"timestamp\": \"2022-10-08T00:00:00\", \"reserves_usd\": 70895602.68754943, \"segment\": \"paired asset\"}, {\"timestamp\": \"2022-10-09T00:00:00\", \"reserves_usd\": 72198914.58930552, \"segment\": \"paired asset\"}, {\"timestamp\": \"2022-10-10T00:00:00\", \"reserves_usd\": 72140861.9867236, \"segment\": \"paired asset\"}, {\"timestamp\": \"2022-10-11T00:00:00\", \"reserves_usd\": 72715496.01175769, \"segment\": \"paired asset\"}, {\"timestamp\": \"2022-10-12T00:00:00\", \"reserves_usd\": 72717024.56558903, \"segment\": \"paired asset\"}, {\"timestamp\": \"2022-10-13T00:00:00\", \"reserves_usd\": 73628507.60024445, \"segment\": \"paired asset\"}, {\"timestamp\": \"2022-10-14T00:00:00\", \"reserves_usd\": 75456842.71550502, \"segment\": \"paired asset\"}, {\"timestamp\": \"2022-10-15T00:00:00\", \"reserves_usd\": 73530402.97579184, \"segment\": \"paired asset\"}, {\"timestamp\": \"2022-10-16T00:00:00\", \"reserves_usd\": 73411522.93837057, \"segment\": \"paired asset\"}, {\"timestamp\": \"2022-10-17T00:00:00\", \"reserves_usd\": 74041171.60852666, \"segment\": \"paired asset\"}, {\"timestamp\": \"2022-10-18T00:00:00\", \"reserves_usd\": 73998327.45996466, \"segment\": \"paired asset\"}, {\"timestamp\": \"2022-10-19T00:00:00\", \"reserves_usd\": 76488493.23497255, \"segment\": \"paired asset\"}, {\"timestamp\": \"2022-10-20T00:00:00\", \"reserves_usd\": 77866756.3230992, \"segment\": \"paired asset\"}, {\"timestamp\": \"2022-10-21T00:00:00\", \"reserves_usd\": 79612555.87301882, \"segment\": \"paired asset\"}, {\"timestamp\": \"2022-10-22T00:00:00\", \"reserves_usd\": 79354004.954236, \"segment\": \"paired asset\"}, {\"timestamp\": \"2022-10-23T00:00:00\", \"reserves_usd\": 80932367.0966057, \"segment\": \"paired asset\"}, {\"timestamp\": \"2022-10-24T00:00:00\", \"reserves_usd\": 82377247.15156257, \"segment\": \"paired asset\"}, {\"timestamp\": \"2022-10-25T00:00:00\", \"reserves_usd\": 81584638.50009075, \"segment\": \"paired asset\"}, {\"timestamp\": \"2022-10-26T00:00:00\", \"reserves_usd\": 83357172.26788194, \"segment\": \"paired asset\"}, {\"timestamp\": \"2022-10-27T00:00:00\", \"reserves_usd\": 83281223.80645292, \"segment\": \"paired asset\"}, {\"timestamp\": \"2022-10-28T00:00:00\", \"reserves_usd\": 83127370.85577983, \"segment\": \"paired asset\"}, {\"timestamp\": \"2022-10-29T00:00:00\", \"reserves_usd\": 87473752.8433407, \"segment\": \"paired asset\"}, {\"timestamp\": \"2022-10-30T00:00:00\", \"reserves_usd\": 94135396.72130448, \"segment\": \"paired asset\"}, {\"timestamp\": \"2022-10-31T00:00:00\", \"reserves_usd\": 95878651.81248987, \"segment\": \"paired asset\"}, {\"timestamp\": \"2022-11-01T00:00:00\", \"reserves_usd\": 99016002.23395617, \"segment\": \"paired asset\"}, {\"timestamp\": \"2022-11-02T00:00:00\", \"reserves_usd\": 102600676.50504827, \"segment\": \"paired asset\"}, {\"timestamp\": \"2022-11-03T00:00:00\", \"reserves_usd\": 104271595.97327189, \"segment\": \"paired asset\"}, {\"timestamp\": \"2022-11-04T00:00:00\", \"reserves_usd\": 108002743.09078856, \"segment\": \"paired asset\"}, {\"timestamp\": \"2022-11-05T00:00:00\", \"reserves_usd\": 114966278.30569027, \"segment\": \"paired asset\"}, {\"timestamp\": \"2022-11-06T00:00:00\", \"reserves_usd\": 111555209.35655755, \"segment\": \"paired asset\"}, {\"timestamp\": \"2022-11-07T00:00:00\", \"reserves_usd\": 112168394.55140772, \"segment\": \"paired asset\"}, {\"timestamp\": \"2022-11-08T00:00:00\", \"reserves_usd\": 112764376.4856607, \"segment\": \"paired asset\"}, {\"timestamp\": \"2022-11-09T00:00:00\", \"reserves_usd\": 102373600.3870576, \"segment\": \"paired asset\"}, {\"timestamp\": \"2022-11-10T00:00:00\", \"reserves_usd\": 74768385.62267078, \"segment\": \"paired asset\"}, {\"timestamp\": \"2022-11-11T00:00:00\", \"reserves_usd\": 64088401.59459244, \"segment\": \"paired asset\"}, {\"timestamp\": \"2022-11-12T00:00:00\", \"reserves_usd\": 66855453.68936935, \"segment\": \"paired asset\"}, {\"timestamp\": \"2022-11-13T00:00:00\", \"reserves_usd\": 63430473.18408314, \"segment\": \"paired asset\"}, {\"timestamp\": \"2022-11-14T00:00:00\", \"reserves_usd\": 60781080.44506091, \"segment\": \"paired asset\"}, {\"timestamp\": \"2022-11-15T00:00:00\", \"reserves_usd\": 63614189.32376402, \"segment\": \"paired asset\"}, {\"timestamp\": \"2022-11-16T00:00:00\", \"reserves_usd\": 63593125.41528133, \"segment\": \"paired asset\"}, {\"timestamp\": \"2022-11-17T00:00:00\", \"reserves_usd\": 65509063.42774, \"segment\": \"paired asset\"}, {\"timestamp\": \"2022-11-18T00:00:00\", \"reserves_usd\": 58192949.80955021, \"segment\": \"paired asset\"}, {\"timestamp\": \"2022-11-19T00:00:00\", \"reserves_usd\": 57632166.29407957, \"segment\": \"paired asset\"}, {\"timestamp\": \"2022-11-20T00:00:00\", \"reserves_usd\": 58555050.15929993, \"segment\": \"paired asset\"}, {\"timestamp\": \"2022-11-21T00:00:00\", \"reserves_usd\": 58280540.96061199, \"segment\": \"paired asset\"}, {\"timestamp\": \"2022-11-22T00:00:00\", \"reserves_usd\": 55252287.62059808, \"segment\": \"paired asset\"}, {\"timestamp\": \"2022-11-23T00:00:00\", \"reserves_usd\": 48641103.17942247, \"segment\": \"paired asset\"}, {\"timestamp\": \"2022-11-24T00:00:00\", \"reserves_usd\": 48653548.890129566, \"segment\": \"paired asset\"}, {\"timestamp\": \"2022-11-25T00:00:00\", \"reserves_usd\": 50875407.654403634, \"segment\": \"paired asset\"}, {\"timestamp\": \"2022-11-26T00:00:00\", \"reserves_usd\": 50732576.172066525, \"segment\": \"paired asset\"}, {\"timestamp\": \"2022-11-27T00:00:00\", \"reserves_usd\": 50707872.65238731, \"segment\": \"paired asset\"}, {\"timestamp\": \"2022-11-28T00:00:00\", \"reserves_usd\": 51451444.81013063, \"segment\": \"paired asset\"}, {\"timestamp\": \"2022-11-29T00:00:00\", \"reserves_usd\": 50995722.427044675, \"segment\": \"paired asset\"}, {\"timestamp\": \"2022-11-30T00:00:00\", \"reserves_usd\": 51168012.70454924, \"segment\": \"paired asset\"}, {\"timestamp\": \"2022-12-01T00:00:00\", \"reserves_usd\": 50697699.07370521, \"segment\": \"paired asset\"}, {\"timestamp\": \"2022-12-02T00:00:00\", \"reserves_usd\": 52454538.54004116, \"segment\": \"paired asset\"}, {\"timestamp\": \"2022-12-03T00:00:00\", \"reserves_usd\": 52922807.92386417, \"segment\": \"paired asset\"}, {\"timestamp\": \"2022-12-04T00:00:00\", \"reserves_usd\": 56354222.487182625, \"segment\": \"paired asset\"}, {\"timestamp\": \"2022-12-05T00:00:00\", \"reserves_usd\": 57957048.60447967, \"segment\": \"paired asset\"}, {\"timestamp\": \"2022-12-06T00:00:00\", \"reserves_usd\": 57245177.0562903, \"segment\": \"paired asset\"}, {\"timestamp\": \"2022-12-07T00:00:00\", \"reserves_usd\": 57158036.03284176, \"segment\": \"paired asset\"}, {\"timestamp\": \"2022-12-08T00:00:00\", \"reserves_usd\": 58266332.84375948, \"segment\": \"paired asset\"}, {\"timestamp\": \"2022-12-09T00:00:00\", \"reserves_usd\": 57441217.058656015, \"segment\": \"paired asset\"}, {\"timestamp\": \"2022-12-10T00:00:00\", \"reserves_usd\": 57477478.99714854, \"segment\": \"paired asset\"}, {\"timestamp\": \"2022-12-11T00:00:00\", \"reserves_usd\": 57281904.00754798, \"segment\": \"paired asset\"}, {\"timestamp\": \"2022-12-12T00:00:00\", \"reserves_usd\": 55034638.98387465, \"segment\": \"paired asset\"}, {\"timestamp\": \"2022-12-13T00:00:00\", \"reserves_usd\": 56961630.7410743, \"segment\": \"paired asset\"}, {\"timestamp\": \"2022-12-14T00:00:00\", \"reserves_usd\": 64311200.34531858, \"segment\": \"paired asset\"}, {\"timestamp\": \"2022-12-15T00:00:00\", \"reserves_usd\": 63409036.44109541, \"segment\": \"paired asset\"}, {\"timestamp\": \"2022-12-16T00:00:00\", \"reserves_usd\": 65240054.57204011, \"segment\": \"paired asset\"}, {\"timestamp\": \"2022-12-17T00:00:00\", \"reserves_usd\": 63175281.19938612, \"segment\": \"paired asset\"}, {\"timestamp\": \"2022-12-18T00:00:00\", \"reserves_usd\": 62988814.80046689, \"segment\": \"paired asset\"}, {\"timestamp\": \"2022-12-19T00:00:00\", \"reserves_usd\": 61723226.848848894, \"segment\": \"paired asset\"}, {\"timestamp\": \"2022-12-20T00:00:00\", \"reserves_usd\": 60957102.60075038, \"segment\": \"paired asset\"}, {\"timestamp\": \"2022-12-21T00:00:00\", \"reserves_usd\": 61916269.71498079, \"segment\": \"paired asset\"}, {\"timestamp\": \"2022-12-22T00:00:00\", \"reserves_usd\": 61909807.81578058, \"segment\": \"paired asset\"}, {\"timestamp\": \"2022-12-23T00:00:00\", \"reserves_usd\": 60191770.122231066, \"segment\": \"paired asset\"}, {\"timestamp\": \"2022-12-24T00:00:00\", \"reserves_usd\": 60202124.05317713, \"segment\": \"paired asset\"}, {\"timestamp\": \"2022-12-25T00:00:00\", \"reserves_usd\": 59972454.07981072, \"segment\": \"paired asset\"}, {\"timestamp\": \"2022-12-26T00:00:00\", \"reserves_usd\": 59595768.015971005, \"segment\": \"paired asset\"}, {\"timestamp\": \"2022-12-27T00:00:00\", \"reserves_usd\": 59335657.632633924, \"segment\": \"paired asset\"}, {\"timestamp\": \"2022-12-28T00:00:00\", \"reserves_usd\": 59152572.450966656, \"segment\": \"paired asset\"}, {\"timestamp\": \"2022-12-29T00:00:00\", \"reserves_usd\": 57786746.985888734, \"segment\": \"paired asset\"}, {\"timestamp\": \"2022-12-30T00:00:00\", \"reserves_usd\": 58090636.37826219, \"segment\": \"paired asset\"}, {\"timestamp\": \"2022-12-31T00:00:00\", \"reserves_usd\": 57676812.63720451, \"segment\": \"paired asset\"}, {\"timestamp\": \"2023-01-01T00:00:00\", \"reserves_usd\": 57644056.32502096, \"segment\": \"paired asset\"}, {\"timestamp\": \"2023-01-02T00:00:00\", \"reserves_usd\": 57890811.39398564, \"segment\": \"paired asset\"}, {\"timestamp\": \"2023-01-03T00:00:00\", \"reserves_usd\": 57987997.415416345, \"segment\": \"paired asset\"}, {\"timestamp\": \"2023-01-04T00:00:00\", \"reserves_usd\": 59455188.140221715, \"segment\": \"paired asset\"}, {\"timestamp\": \"2023-01-05T00:00:00\", \"reserves_usd\": 61259947.41472567, \"segment\": \"paired asset\"}, {\"timestamp\": \"2023-01-06T00:00:00\", \"reserves_usd\": 60085849.93698784, \"segment\": \"paired asset\"}, {\"timestamp\": \"2023-01-07T00:00:00\", \"reserves_usd\": 59685511.04585165, \"segment\": \"paired asset\"}, {\"timestamp\": \"2023-01-08T00:00:00\", \"reserves_usd\": 59635355.99280885, \"segment\": \"paired asset\"}, {\"timestamp\": \"2023-01-09T00:00:00\", \"reserves_usd\": 60486714.59541261, \"segment\": \"paired asset\"}, {\"timestamp\": \"2023-01-10T00:00:00\", \"reserves_usd\": 57279901.190559715, \"segment\": \"paired asset\"}, {\"timestamp\": \"2023-01-11T00:00:00\", \"reserves_usd\": 58032926.36656188, \"segment\": \"paired asset\"}, {\"timestamp\": \"2023-01-12T00:00:00\", \"reserves_usd\": 59797445.29270303, \"segment\": \"paired asset\"}, {\"timestamp\": \"2023-01-13T00:00:00\", \"reserves_usd\": 60588100.35280922, \"segment\": \"paired asset\"}, {\"timestamp\": \"2023-01-14T00:00:00\", \"reserves_usd\": 61534617.96551118, \"segment\": \"paired asset\"}], \"data-f3b2d7b7257afc0cc57c33a62a9994af\": [{\"timestamp\": \"2022-06-30T00:00:00\", \"reserves_usd\": 793049867.0378027, \"segment\": \"3Crv\"}, {\"timestamp\": \"2022-07-01T00:00:00\", \"reserves_usd\": 781223493.7242362, \"segment\": \"3Crv\"}, {\"timestamp\": \"2022-07-02T00:00:00\", \"reserves_usd\": 777884838.7412815, \"segment\": \"3Crv\"}, {\"timestamp\": \"2022-07-03T00:00:00\", \"reserves_usd\": 769000467.0314851, \"segment\": \"3Crv\"}, {\"timestamp\": \"2022-07-04T00:00:00\", \"reserves_usd\": 766738727.2126871, \"segment\": \"3Crv\"}, {\"timestamp\": \"2022-07-05T00:00:00\", \"reserves_usd\": 736369260.8186848, \"segment\": \"3Crv\"}, {\"timestamp\": \"2022-07-06T00:00:00\", \"reserves_usd\": 731210104.1934326, \"segment\": \"3Crv\"}, {\"timestamp\": \"2022-07-07T00:00:00\", \"reserves_usd\": 755846917.9017665, \"segment\": \"3Crv\"}, {\"timestamp\": \"2022-07-08T00:00:00\", \"reserves_usd\": 749330244.9122314, \"segment\": \"3Crv\"}, {\"timestamp\": \"2022-07-09T00:00:00\", \"reserves_usd\": 750488816.776584, \"segment\": \"3Crv\"}, {\"timestamp\": \"2022-07-10T00:00:00\", \"reserves_usd\": 755267525.1144017, \"segment\": \"3Crv\"}, {\"timestamp\": \"2022-07-11T00:00:00\", \"reserves_usd\": 749980582.8198904, \"segment\": \"3Crv\"}, {\"timestamp\": \"2022-07-12T00:00:00\", \"reserves_usd\": 753832916.0744259, \"segment\": \"3Crv\"}, {\"timestamp\": \"2022-07-13T00:00:00\", \"reserves_usd\": 750336973.8434639, \"segment\": \"3Crv\"}, {\"timestamp\": \"2022-07-14T00:00:00\", \"reserves_usd\": 750218086.7985171, \"segment\": \"3Crv\"}, {\"timestamp\": \"2022-07-15T00:00:00\", \"reserves_usd\": 755482467.1122398, \"segment\": \"3Crv\"}, {\"timestamp\": \"2022-07-16T00:00:00\", \"reserves_usd\": 756510701.1914084, \"segment\": \"3Crv\"}, {\"timestamp\": \"2022-07-17T00:00:00\", \"reserves_usd\": 759898239.9725578, \"segment\": \"3Crv\"}, {\"timestamp\": \"2022-07-18T00:00:00\", \"reserves_usd\": 761436033.5294641, \"segment\": \"3Crv\"}, {\"timestamp\": \"2022-07-19T00:00:00\", \"reserves_usd\": 769612184.8167621, \"segment\": \"3Crv\"}, {\"timestamp\": \"2022-07-20T00:00:00\", \"reserves_usd\": 771901150.1229576, \"segment\": \"3Crv\"}, {\"timestamp\": \"2022-07-21T00:00:00\", \"reserves_usd\": 789305403.4549772, \"segment\": \"3Crv\"}, {\"timestamp\": \"2022-07-22T00:00:00\", \"reserves_usd\": 784843470.9651502, \"segment\": \"3Crv\"}, {\"timestamp\": \"2022-07-23T00:00:00\", \"reserves_usd\": 785901900.199717, \"segment\": \"3Crv\"}, {\"timestamp\": \"2022-07-24T00:00:00\", \"reserves_usd\": 794340981.4343202, \"segment\": \"3Crv\"}, {\"timestamp\": \"2022-07-25T00:00:00\", \"reserves_usd\": 796660900.8079219, \"segment\": \"3Crv\"}, {\"timestamp\": \"2022-07-26T00:00:00\", \"reserves_usd\": 797151195.2084624, \"segment\": \"3Crv\"}, {\"timestamp\": \"2022-07-27T00:00:00\", \"reserves_usd\": 780017367.8336382, \"segment\": \"3Crv\"}, {\"timestamp\": \"2022-07-28T00:00:00\", \"reserves_usd\": 790204930.6061801, \"segment\": \"3Crv\"}, {\"timestamp\": \"2022-07-29T00:00:00\", \"reserves_usd\": 798695333.9488173, \"segment\": \"3Crv\"}, {\"timestamp\": \"2022-07-30T00:00:00\", \"reserves_usd\": 806417705.1301304, \"segment\": \"3Crv\"}, {\"timestamp\": \"2022-07-31T00:00:00\", \"reserves_usd\": 799364410.1100712, \"segment\": \"3Crv\"}, {\"timestamp\": \"2022-08-01T00:00:00\", \"reserves_usd\": 800830612.3541327, \"segment\": \"3Crv\"}, {\"timestamp\": \"2022-08-02T00:00:00\", \"reserves_usd\": 806527954.6367065, \"segment\": \"3Crv\"}, {\"timestamp\": \"2022-08-03T00:00:00\", \"reserves_usd\": 803360869.9868145, \"segment\": \"3Crv\"}, {\"timestamp\": \"2022-08-04T00:00:00\", \"reserves_usd\": 803678366.542802, \"segment\": \"3Crv\"}, {\"timestamp\": \"2022-08-05T00:00:00\", \"reserves_usd\": 802603003.3391191, \"segment\": \"3Crv\"}, {\"timestamp\": \"2022-08-06T00:00:00\", \"reserves_usd\": 818979980.7789497, \"segment\": \"3Crv\"}, {\"timestamp\": \"2022-08-07T00:00:00\", \"reserves_usd\": 825534106.8408872, \"segment\": \"3Crv\"}, {\"timestamp\": \"2022-08-08T00:00:00\", \"reserves_usd\": 826022497.2142565, \"segment\": \"3Crv\"}, {\"timestamp\": \"2022-08-09T00:00:00\", \"reserves_usd\": 828040036.6484035, \"segment\": \"3Crv\"}, {\"timestamp\": \"2022-08-10T00:00:00\", \"reserves_usd\": 825207633.8499781, \"segment\": \"3Crv\"}, {\"timestamp\": \"2022-08-11T00:00:00\", \"reserves_usd\": 821621599.223453, \"segment\": \"3Crv\"}, {\"timestamp\": \"2022-08-12T00:00:00\", \"reserves_usd\": 817740630.9561632, \"segment\": \"3Crv\"}, {\"timestamp\": \"2022-08-13T00:00:00\", \"reserves_usd\": 802486208.1326444, \"segment\": \"3Crv\"}, {\"timestamp\": \"2022-08-14T00:00:00\", \"reserves_usd\": 807210279.5718086, \"segment\": \"3Crv\"}, {\"timestamp\": \"2022-08-15T00:00:00\", \"reserves_usd\": 801211739.0298737, \"segment\": \"3Crv\"}, {\"timestamp\": \"2022-08-16T00:00:00\", \"reserves_usd\": 803934097.6358962, \"segment\": \"3Crv\"}, {\"timestamp\": \"2022-08-17T00:00:00\", \"reserves_usd\": 815774447.9577433, \"segment\": \"3Crv\"}, {\"timestamp\": \"2022-08-18T00:00:00\", \"reserves_usd\": 831397128.8255446, \"segment\": \"3Crv\"}, {\"timestamp\": \"2022-08-19T00:00:00\", \"reserves_usd\": 828011886.3232127, \"segment\": \"3Crv\"}, {\"timestamp\": \"2022-08-20T00:00:00\", \"reserves_usd\": 813642371.1744134, \"segment\": \"3Crv\"}, {\"timestamp\": \"2022-08-21T00:00:00\", \"reserves_usd\": 810499993.0903888, \"segment\": \"3Crv\"}, {\"timestamp\": \"2022-08-22T00:00:00\", \"reserves_usd\": 811644429.2127031, \"segment\": \"3Crv\"}, {\"timestamp\": \"2022-08-23T00:00:00\", \"reserves_usd\": 774413026.3636972, \"segment\": \"3Crv\"}, {\"timestamp\": \"2022-08-24T00:00:00\", \"reserves_usd\": 766106148.4042027, \"segment\": \"3Crv\"}, {\"timestamp\": \"2022-08-25T00:00:00\", \"reserves_usd\": 761238079.1360036, \"segment\": \"3Crv\"}, {\"timestamp\": \"2022-08-26T00:00:00\", \"reserves_usd\": 761665774.0914664, \"segment\": \"3Crv\"}, {\"timestamp\": \"2022-08-27T00:00:00\", \"reserves_usd\": 750748884.7093796, \"segment\": \"3Crv\"}, {\"timestamp\": \"2022-08-28T00:00:00\", \"reserves_usd\": 752350785.8285254, \"segment\": \"3Crv\"}, {\"timestamp\": \"2022-08-29T00:00:00\", \"reserves_usd\": 748623034.7046461, \"segment\": \"3Crv\"}, {\"timestamp\": \"2022-08-30T00:00:00\", \"reserves_usd\": 742775598.4186748, \"segment\": \"3Crv\"}, {\"timestamp\": \"2022-08-31T00:00:00\", \"reserves_usd\": 736489026.5531787, \"segment\": \"3Crv\"}, {\"timestamp\": \"2022-09-01T00:00:00\", \"reserves_usd\": 739078859.3419905, \"segment\": \"3Crv\"}, {\"timestamp\": \"2022-09-02T00:00:00\", \"reserves_usd\": 735944627.5093997, \"segment\": \"3Crv\"}, {\"timestamp\": \"2022-09-03T00:00:00\", \"reserves_usd\": 736216760.8489281, \"segment\": \"3Crv\"}, {\"timestamp\": \"2022-09-04T00:00:00\", \"reserves_usd\": 729624696.1680474, \"segment\": \"3Crv\"}, {\"timestamp\": \"2022-09-05T00:00:00\", \"reserves_usd\": 726056750.3978606, \"segment\": \"3Crv\"}, {\"timestamp\": \"2022-09-06T00:00:00\", \"reserves_usd\": 682927121.4359506, \"segment\": \"3Crv\"}, {\"timestamp\": \"2022-09-07T00:00:00\", \"reserves_usd\": 660788425.9046335, \"segment\": \"3Crv\"}, {\"timestamp\": \"2022-09-08T00:00:00\", \"reserves_usd\": 653153939.0010644, \"segment\": \"3Crv\"}, {\"timestamp\": \"2022-09-09T00:00:00\", \"reserves_usd\": 647427366.5543587, \"segment\": \"3Crv\"}, {\"timestamp\": \"2022-09-10T00:00:00\", \"reserves_usd\": 643222510.4334023, \"segment\": \"3Crv\"}, {\"timestamp\": \"2022-09-11T00:00:00\", \"reserves_usd\": 641550095.1017481, \"segment\": \"3Crv\"}, {\"timestamp\": \"2022-09-12T00:00:00\", \"reserves_usd\": 634275665.6588529, \"segment\": \"3Crv\"}, {\"timestamp\": \"2022-09-13T00:00:00\", \"reserves_usd\": 633160848.8181592, \"segment\": \"3Crv\"}, {\"timestamp\": \"2022-09-14T00:00:00\", \"reserves_usd\": 620039052.7469045, \"segment\": \"3Crv\"}, {\"timestamp\": \"2022-09-15T00:00:00\", \"reserves_usd\": 589707581.9666013, \"segment\": \"3Crv\"}, {\"timestamp\": \"2022-09-16T00:00:00\", \"reserves_usd\": 581926539.7479587, \"segment\": \"3Crv\"}, {\"timestamp\": \"2022-09-17T00:00:00\", \"reserves_usd\": 602714123.4453611, \"segment\": \"3Crv\"}, {\"timestamp\": \"2022-09-18T00:00:00\", \"reserves_usd\": 603615813.2804081, \"segment\": \"3Crv\"}, {\"timestamp\": \"2022-09-19T00:00:00\", \"reserves_usd\": 602499051.1132607, \"segment\": \"3Crv\"}, {\"timestamp\": \"2022-09-20T00:00:00\", \"reserves_usd\": 604839591.1064295, \"segment\": \"3Crv\"}, {\"timestamp\": \"2022-09-21T00:00:00\", \"reserves_usd\": 587769080.1104169, \"segment\": \"3Crv\"}, {\"timestamp\": \"2022-09-22T00:00:00\", \"reserves_usd\": 576853380.7408438, \"segment\": \"3Crv\"}, {\"timestamp\": \"2022-09-23T00:00:00\", \"reserves_usd\": 577194763.8940378, \"segment\": \"3Crv\"}, {\"timestamp\": \"2022-09-24T00:00:00\", \"reserves_usd\": 575288025.7909632, \"segment\": \"3Crv\"}, {\"timestamp\": \"2022-09-25T00:00:00\", \"reserves_usd\": 581116203.3273442, \"segment\": \"3Crv\"}, {\"timestamp\": \"2022-09-26T00:00:00\", \"reserves_usd\": 577824411.5912622, \"segment\": \"3Crv\"}, {\"timestamp\": \"2022-09-27T00:00:00\", \"reserves_usd\": 581375668.1372707, \"segment\": \"3Crv\"}, {\"timestamp\": \"2022-09-28T00:00:00\", \"reserves_usd\": 585879629.2398456, \"segment\": \"3Crv\"}, {\"timestamp\": \"2022-09-29T00:00:00\", \"reserves_usd\": 587935134.8051597, \"segment\": \"3Crv\"}, {\"timestamp\": \"2022-09-30T00:00:00\", \"reserves_usd\": 589753308.7083894, \"segment\": \"3Crv\"}, {\"timestamp\": \"2022-10-01T00:00:00\", \"reserves_usd\": 570014638.5691096, \"segment\": \"3Crv\"}, {\"timestamp\": \"2022-10-02T00:00:00\", \"reserves_usd\": 589186851.178222, \"segment\": \"3Crv\"}, {\"timestamp\": \"2022-10-03T00:00:00\", \"reserves_usd\": 589860054.2316624, \"segment\": \"3Crv\"}, {\"timestamp\": \"2022-10-04T00:00:00\", \"reserves_usd\": 587994341.2756206, \"segment\": \"3Crv\"}, {\"timestamp\": \"2022-10-05T00:00:00\", \"reserves_usd\": 580326624.4780316, \"segment\": \"3Crv\"}, {\"timestamp\": \"2022-10-06T00:00:00\", \"reserves_usd\": 577062537.1637475, \"segment\": \"3Crv\"}, {\"timestamp\": \"2022-10-07T00:00:00\", \"reserves_usd\": 580221522.8251086, \"segment\": \"3Crv\"}, {\"timestamp\": \"2022-10-08T00:00:00\", \"reserves_usd\": 576317942.2069857, \"segment\": \"3Crv\"}, {\"timestamp\": \"2022-10-09T00:00:00\", \"reserves_usd\": 577049927.6499727, \"segment\": \"3Crv\"}, {\"timestamp\": \"2022-10-10T00:00:00\", \"reserves_usd\": 578035877.5478638, \"segment\": \"3Crv\"}, {\"timestamp\": \"2022-10-11T00:00:00\", \"reserves_usd\": 577997719.0081748, \"segment\": \"3Crv\"}, {\"timestamp\": \"2022-10-12T00:00:00\", \"reserves_usd\": 575855056.7173945, \"segment\": \"3Crv\"}, {\"timestamp\": \"2022-10-13T00:00:00\", \"reserves_usd\": 572292751.1994894, \"segment\": \"3Crv\"}, {\"timestamp\": \"2022-10-14T00:00:00\", \"reserves_usd\": 570872585.929514, \"segment\": \"3Crv\"}, {\"timestamp\": \"2022-10-15T00:00:00\", \"reserves_usd\": 568704234.620642, \"segment\": \"3Crv\"}, {\"timestamp\": \"2022-10-16T00:00:00\", \"reserves_usd\": 568845786.5483382, \"segment\": \"3Crv\"}, {\"timestamp\": \"2022-10-17T00:00:00\", \"reserves_usd\": 570756678.600078, \"segment\": \"3Crv\"}, {\"timestamp\": \"2022-10-18T00:00:00\", \"reserves_usd\": 566262747.4030038, \"segment\": \"3Crv\"}, {\"timestamp\": \"2022-10-19T00:00:00\", \"reserves_usd\": 561518735.3141186, \"segment\": \"3Crv\"}, {\"timestamp\": \"2022-10-20T00:00:00\", \"reserves_usd\": 558506563.1978505, \"segment\": \"3Crv\"}, {\"timestamp\": \"2022-10-21T00:00:00\", \"reserves_usd\": 540260455.8548477, \"segment\": \"3Crv\"}, {\"timestamp\": \"2022-10-22T00:00:00\", \"reserves_usd\": 507395574.03977245, \"segment\": \"3Crv\"}, {\"timestamp\": \"2022-10-23T00:00:00\", \"reserves_usd\": 509149155.03541917, \"segment\": \"3Crv\"}, {\"timestamp\": \"2022-10-24T00:00:00\", \"reserves_usd\": 511664960.0463919, \"segment\": \"3Crv\"}, {\"timestamp\": \"2022-10-25T00:00:00\", \"reserves_usd\": 505852294.3623009, \"segment\": \"3Crv\"}, {\"timestamp\": \"2022-10-26T00:00:00\", \"reserves_usd\": 497454490.04476005, \"segment\": \"3Crv\"}, {\"timestamp\": \"2022-10-27T00:00:00\", \"reserves_usd\": 485706116.9402077, \"segment\": \"3Crv\"}, {\"timestamp\": \"2022-10-28T00:00:00\", \"reserves_usd\": 486164419.36813986, \"segment\": \"3Crv\"}, {\"timestamp\": \"2022-10-29T00:00:00\", \"reserves_usd\": 489950923.82853603, \"segment\": \"3Crv\"}, {\"timestamp\": \"2022-10-30T00:00:00\", \"reserves_usd\": 495515373.8641012, \"segment\": \"3Crv\"}, {\"timestamp\": \"2022-10-31T00:00:00\", \"reserves_usd\": 490555454.1871704, \"segment\": \"3Crv\"}, {\"timestamp\": \"2022-11-01T00:00:00\", \"reserves_usd\": 497269236.2067015, \"segment\": \"3Crv\"}, {\"timestamp\": \"2022-11-02T00:00:00\", \"reserves_usd\": 505758115.272566, \"segment\": \"3Crv\"}, {\"timestamp\": \"2022-11-03T00:00:00\", \"reserves_usd\": 510293178.87114954, \"segment\": \"3Crv\"}, {\"timestamp\": \"2022-11-04T00:00:00\", \"reserves_usd\": 503635658.5112056, \"segment\": \"3Crv\"}, {\"timestamp\": \"2022-11-05T00:00:00\", \"reserves_usd\": 502199406.84748304, \"segment\": \"3Crv\"}, {\"timestamp\": \"2022-11-06T00:00:00\", \"reserves_usd\": 502111128.56189567, \"segment\": \"3Crv\"}, {\"timestamp\": \"2022-11-07T00:00:00\", \"reserves_usd\": 509029415.63986295, \"segment\": \"3Crv\"}, {\"timestamp\": \"2022-11-08T00:00:00\", \"reserves_usd\": 505541063.31459314, \"segment\": \"3Crv\"}, {\"timestamp\": \"2022-11-09T00:00:00\", \"reserves_usd\": 498355932.90719134, \"segment\": \"3Crv\"}, {\"timestamp\": \"2022-11-10T00:00:00\", \"reserves_usd\": 492279482.4322499, \"segment\": \"3Crv\"}, {\"timestamp\": \"2022-11-11T00:00:00\", \"reserves_usd\": 402452687.469578, \"segment\": \"3Crv\"}, {\"timestamp\": \"2022-11-12T00:00:00\", \"reserves_usd\": 390348915.57100147, \"segment\": \"3Crv\"}, {\"timestamp\": \"2022-11-13T00:00:00\", \"reserves_usd\": 377855130.7401183, \"segment\": \"3Crv\"}, {\"timestamp\": \"2022-11-14T00:00:00\", \"reserves_usd\": 369512702.7499115, \"segment\": \"3Crv\"}, {\"timestamp\": \"2022-11-15T00:00:00\", \"reserves_usd\": 360250349.18736744, \"segment\": \"3Crv\"}, {\"timestamp\": \"2022-11-16T00:00:00\", \"reserves_usd\": 357668181.6853242, \"segment\": \"3Crv\"}, {\"timestamp\": \"2022-11-17T00:00:00\", \"reserves_usd\": 355138944.89433336, \"segment\": \"3Crv\"}, {\"timestamp\": \"2022-11-18T00:00:00\", \"reserves_usd\": 352064696.5207977, \"segment\": \"3Crv\"}, {\"timestamp\": \"2022-11-19T00:00:00\", \"reserves_usd\": 373839169.9222518, \"segment\": \"3Crv\"}, {\"timestamp\": \"2022-11-20T00:00:00\", \"reserves_usd\": 402454418.83728904, \"segment\": \"3Crv\"}, {\"timestamp\": \"2022-11-21T00:00:00\", \"reserves_usd\": 395988094.02429837, \"segment\": \"3Crv\"}, {\"timestamp\": \"2022-11-22T00:00:00\", \"reserves_usd\": 421106016.62672687, \"segment\": \"3Crv\"}, {\"timestamp\": \"2022-11-23T00:00:00\", \"reserves_usd\": 434673788.798613, \"segment\": \"3Crv\"}, {\"timestamp\": \"2022-11-24T00:00:00\", \"reserves_usd\": 433684055.26633966, \"segment\": \"3Crv\"}, {\"timestamp\": \"2022-11-25T00:00:00\", \"reserves_usd\": 438435986.49166745, \"segment\": \"3Crv\"}, {\"timestamp\": \"2022-11-26T00:00:00\", \"reserves_usd\": 440039021.235231, \"segment\": \"3Crv\"}, {\"timestamp\": \"2022-11-27T00:00:00\", \"reserves_usd\": 437745172.0231816, \"segment\": \"3Crv\"}, {\"timestamp\": \"2022-11-28T00:00:00\", \"reserves_usd\": 434301162.1521163, \"segment\": \"3Crv\"}, {\"timestamp\": \"2022-11-29T00:00:00\", \"reserves_usd\": 452970707.77539665, \"segment\": \"3Crv\"}, {\"timestamp\": \"2022-11-30T00:00:00\", \"reserves_usd\": 452841784.41088986, \"segment\": \"3Crv\"}, {\"timestamp\": \"2022-12-01T00:00:00\", \"reserves_usd\": 453124590.3480927, \"segment\": \"3Crv\"}, {\"timestamp\": \"2022-12-02T00:00:00\", \"reserves_usd\": 445964933.97068775, \"segment\": \"3Crv\"}, {\"timestamp\": \"2022-12-03T00:00:00\", \"reserves_usd\": 439890407.8570653, \"segment\": \"3Crv\"}, {\"timestamp\": \"2022-12-04T00:00:00\", \"reserves_usd\": 438053654.32761246, \"segment\": \"3Crv\"}, {\"timestamp\": \"2022-12-05T00:00:00\", \"reserves_usd\": 432125584.5305093, \"segment\": \"3Crv\"}, {\"timestamp\": \"2022-12-06T00:00:00\", \"reserves_usd\": 429397842.1611479, \"segment\": \"3Crv\"}, {\"timestamp\": \"2022-12-07T00:00:00\", \"reserves_usd\": 422355684.12510467, \"segment\": \"3Crv\"}, {\"timestamp\": \"2022-12-08T00:00:00\", \"reserves_usd\": 417197308.06068045, \"segment\": \"3Crv\"}, {\"timestamp\": \"2022-12-09T00:00:00\", \"reserves_usd\": 415660538.6206446, \"segment\": \"3Crv\"}, {\"timestamp\": \"2022-12-10T00:00:00\", \"reserves_usd\": 415813462.79710096, \"segment\": \"3Crv\"}, {\"timestamp\": \"2022-12-11T00:00:00\", \"reserves_usd\": 414185854.3988457, \"segment\": \"3Crv\"}, {\"timestamp\": \"2022-12-12T00:00:00\", \"reserves_usd\": 409728793.84039813, \"segment\": \"3Crv\"}, {\"timestamp\": \"2022-12-13T00:00:00\", \"reserves_usd\": 400753222.41287273, \"segment\": \"3Crv\"}, {\"timestamp\": \"2022-12-14T00:00:00\", \"reserves_usd\": 387058634.03975105, \"segment\": \"3Crv\"}, {\"timestamp\": \"2022-12-15T00:00:00\", \"reserves_usd\": 388227073.8169928, \"segment\": \"3Crv\"}, {\"timestamp\": \"2022-12-16T00:00:00\", \"reserves_usd\": 386851429.3663029, \"segment\": \"3Crv\"}, {\"timestamp\": \"2022-12-17T00:00:00\", \"reserves_usd\": 384511616.3644963, \"segment\": \"3Crv\"}, {\"timestamp\": \"2022-12-18T00:00:00\", \"reserves_usd\": 382673246.0866939, \"segment\": \"3Crv\"}, {\"timestamp\": \"2022-12-19T00:00:00\", \"reserves_usd\": 383888190.3649753, \"segment\": \"3Crv\"}, {\"timestamp\": \"2022-12-20T00:00:00\", \"reserves_usd\": 383463517.7878011, \"segment\": \"3Crv\"}, {\"timestamp\": \"2022-12-21T00:00:00\", \"reserves_usd\": 384040348.696591, \"segment\": \"3Crv\"}, {\"timestamp\": \"2022-12-22T00:00:00\", \"reserves_usd\": 380081864.0500232, \"segment\": \"3Crv\"}, {\"timestamp\": \"2022-12-23T00:00:00\", \"reserves_usd\": 380203704.19713396, \"segment\": \"3Crv\"}, {\"timestamp\": \"2022-12-24T00:00:00\", \"reserves_usd\": 383864814.74533194, \"segment\": \"3Crv\"}, {\"timestamp\": \"2022-12-25T00:00:00\", \"reserves_usd\": 384902152.1874923, \"segment\": \"3Crv\"}, {\"timestamp\": \"2022-12-26T00:00:00\", \"reserves_usd\": 384766162.28508496, \"segment\": \"3Crv\"}, {\"timestamp\": \"2022-12-27T00:00:00\", \"reserves_usd\": 385656884.17123765, \"segment\": \"3Crv\"}, {\"timestamp\": \"2022-12-28T00:00:00\", \"reserves_usd\": 381190741.18025523, \"segment\": \"3Crv\"}, {\"timestamp\": \"2022-12-29T00:00:00\", \"reserves_usd\": 385143530.6620833, \"segment\": \"3Crv\"}, {\"timestamp\": \"2022-12-30T00:00:00\", \"reserves_usd\": 381525850.88667786, \"segment\": \"3Crv\"}, {\"timestamp\": \"2022-12-31T00:00:00\", \"reserves_usd\": 382144017.8089997, \"segment\": \"3Crv\"}, {\"timestamp\": \"2023-01-01T00:00:00\", \"reserves_usd\": 382720392.0073909, \"segment\": \"3Crv\"}, {\"timestamp\": \"2023-01-02T00:00:00\", \"reserves_usd\": 383714759.1076759, \"segment\": \"3Crv\"}, {\"timestamp\": \"2023-01-03T00:00:00\", \"reserves_usd\": 385064951.0764426, \"segment\": \"3Crv\"}, {\"timestamp\": \"2023-01-04T00:00:00\", \"reserves_usd\": 380087732.9554764, \"segment\": \"3Crv\"}, {\"timestamp\": \"2023-01-05T00:00:00\", \"reserves_usd\": 379656138.87469983, \"segment\": \"3Crv\"}, {\"timestamp\": \"2023-01-06T00:00:00\", \"reserves_usd\": 377192667.8594417, \"segment\": \"3Crv\"}, {\"timestamp\": \"2023-01-07T00:00:00\", \"reserves_usd\": 373850469.2092884, \"segment\": \"3Crv\"}, {\"timestamp\": \"2023-01-08T00:00:00\", \"reserves_usd\": 376175874.7063233, \"segment\": \"3Crv\"}, {\"timestamp\": \"2023-01-09T00:00:00\", \"reserves_usd\": 376372025.8916551, \"segment\": \"3Crv\"}, {\"timestamp\": \"2023-01-10T00:00:00\", \"reserves_usd\": 378631014.2286698, \"segment\": \"3Crv\"}, {\"timestamp\": \"2023-01-11T00:00:00\", \"reserves_usd\": 377301300.0327635, \"segment\": \"3Crv\"}, {\"timestamp\": \"2023-01-12T00:00:00\", \"reserves_usd\": 377697358.69081247, \"segment\": \"3Crv\"}, {\"timestamp\": \"2023-01-13T00:00:00\", \"reserves_usd\": 376030025.0507344, \"segment\": \"3Crv\"}, {\"timestamp\": \"2023-01-14T00:00:00\", \"reserves_usd\": 383731315.826686, \"segment\": \"3Crv\"}, {\"timestamp\": \"2022-06-30T00:00:00\", \"reserves_usd\": 1098515629.9320102, \"segment\": \"paired asset\"}, {\"timestamp\": \"2022-07-01T00:00:00\", \"reserves_usd\": 1101394954.5636356, \"segment\": \"paired asset\"}, {\"timestamp\": \"2022-07-02T00:00:00\", \"reserves_usd\": 1090505228.9342105, \"segment\": \"paired asset\"}, {\"timestamp\": \"2022-07-03T00:00:00\", \"reserves_usd\": 1079262855.533874, \"segment\": \"paired asset\"}, {\"timestamp\": \"2022-07-04T00:00:00\", \"reserves_usd\": 1082726609.0480788, \"segment\": \"paired asset\"}, {\"timestamp\": \"2022-07-05T00:00:00\", \"reserves_usd\": 1040181476.5969741, \"segment\": \"paired asset\"}, {\"timestamp\": \"2022-07-06T00:00:00\", \"reserves_usd\": 1037389662.3776579, \"segment\": \"paired asset\"}, {\"timestamp\": \"2022-07-07T00:00:00\", \"reserves_usd\": 1036056708.3561919, \"segment\": \"paired asset\"}, {\"timestamp\": \"2022-07-08T00:00:00\", \"reserves_usd\": 1038993246.9321796, \"segment\": \"paired asset\"}, {\"timestamp\": \"2022-07-09T00:00:00\", \"reserves_usd\": 1036220116.2918458, \"segment\": \"paired asset\"}, {\"timestamp\": \"2022-07-10T00:00:00\", \"reserves_usd\": 1040769586.5383891, \"segment\": \"paired asset\"}, {\"timestamp\": \"2022-07-11T00:00:00\", \"reserves_usd\": 1036601319.0235212, \"segment\": \"paired asset\"}, {\"timestamp\": \"2022-07-12T00:00:00\", \"reserves_usd\": 1035325608.3860455, \"segment\": \"paired asset\"}, {\"timestamp\": \"2022-07-13T00:00:00\", \"reserves_usd\": 1038093402.2196813, \"segment\": \"paired asset\"}, {\"timestamp\": \"2022-07-14T00:00:00\", \"reserves_usd\": 1034035937.7503021, \"segment\": \"paired asset\"}, {\"timestamp\": \"2022-07-15T00:00:00\", \"reserves_usd\": 1042097999.77876, \"segment\": \"paired asset\"}, {\"timestamp\": \"2022-07-16T00:00:00\", \"reserves_usd\": 1047023075.3873612, \"segment\": \"paired asset\"}, {\"timestamp\": \"2022-07-17T00:00:00\", \"reserves_usd\": 1045871794.7301111, \"segment\": \"paired asset\"}, {\"timestamp\": \"2022-07-18T00:00:00\", \"reserves_usd\": 1051183404.1083766, \"segment\": \"paired asset\"}, {\"timestamp\": \"2022-07-19T00:00:00\", \"reserves_usd\": 1055366949.5107963, \"segment\": \"paired asset\"}, {\"timestamp\": \"2022-07-20T00:00:00\", \"reserves_usd\": 1061402114.1319742, \"segment\": \"paired asset\"}, {\"timestamp\": \"2022-07-21T00:00:00\", \"reserves_usd\": 1021729634.0839727, \"segment\": \"paired asset\"}, {\"timestamp\": \"2022-07-22T00:00:00\", \"reserves_usd\": 1014743342.4278253, \"segment\": \"paired asset\"}, {\"timestamp\": \"2022-07-23T00:00:00\", \"reserves_usd\": 1014370425.8855666, \"segment\": \"paired asset\"}, {\"timestamp\": \"2022-07-24T00:00:00\", \"reserves_usd\": 1013461527.1064607, \"segment\": \"paired asset\"}, {\"timestamp\": \"2022-07-25T00:00:00\", \"reserves_usd\": 1014721503.7616695, \"segment\": \"paired asset\"}, {\"timestamp\": \"2022-07-26T00:00:00\", \"reserves_usd\": 1018722911.1565436, \"segment\": \"paired asset\"}, {\"timestamp\": \"2022-07-27T00:00:00\", \"reserves_usd\": 1018910137.7265865, \"segment\": \"paired asset\"}, {\"timestamp\": \"2022-07-28T00:00:00\", \"reserves_usd\": 1021171712.3506204, \"segment\": \"paired asset\"}, {\"timestamp\": \"2022-07-29T00:00:00\", \"reserves_usd\": 1014697624.1092287, \"segment\": \"paired asset\"}, {\"timestamp\": \"2022-07-30T00:00:00\", \"reserves_usd\": 1016567334.4115227, \"segment\": \"paired asset\"}, {\"timestamp\": \"2022-07-31T00:00:00\", \"reserves_usd\": 1037261059.4332956, \"segment\": \"paired asset\"}, {\"timestamp\": \"2022-08-01T00:00:00\", \"reserves_usd\": 1035471222.4005767, \"segment\": \"paired asset\"}, {\"timestamp\": \"2022-08-02T00:00:00\", \"reserves_usd\": 1036803461.8636101, \"segment\": \"paired asset\"}, {\"timestamp\": \"2022-08-03T00:00:00\", \"reserves_usd\": 1046300261.6632644, \"segment\": \"paired asset\"}, {\"timestamp\": \"2022-08-04T00:00:00\", \"reserves_usd\": 1040550468.3951731, \"segment\": \"paired asset\"}, {\"timestamp\": \"2022-08-05T00:00:00\", \"reserves_usd\": 1041387260.5515195, \"segment\": \"paired asset\"}, {\"timestamp\": \"2022-08-06T00:00:00\", \"reserves_usd\": 1058797110.553069, \"segment\": \"paired asset\"}, {\"timestamp\": \"2022-08-07T00:00:00\", \"reserves_usd\": 1058614550.9227163, \"segment\": \"paired asset\"}, {\"timestamp\": \"2022-08-08T00:00:00\", \"reserves_usd\": 1064270970.9850992, \"segment\": \"paired asset\"}, {\"timestamp\": \"2022-08-09T00:00:00\", \"reserves_usd\": 1056536763.5128692, \"segment\": \"paired asset\"}, {\"timestamp\": \"2022-08-10T00:00:00\", \"reserves_usd\": 1052827102.2524264, \"segment\": \"paired asset\"}, {\"timestamp\": \"2022-08-11T00:00:00\", \"reserves_usd\": 1046975930.8826064, \"segment\": \"paired asset\"}, {\"timestamp\": \"2022-08-12T00:00:00\", \"reserves_usd\": 1039449790.7267143, \"segment\": \"paired asset\"}, {\"timestamp\": \"2022-08-13T00:00:00\", \"reserves_usd\": 1038740026.354225, \"segment\": \"paired asset\"}, {\"timestamp\": \"2022-08-14T00:00:00\", \"reserves_usd\": 1028330569.0414468, \"segment\": \"paired asset\"}, {\"timestamp\": \"2022-08-15T00:00:00\", \"reserves_usd\": 1026686829.5748904, \"segment\": \"paired asset\"}, {\"timestamp\": \"2022-08-16T00:00:00\", \"reserves_usd\": 1029767355.305203, \"segment\": \"paired asset\"}, {\"timestamp\": \"2022-08-17T00:00:00\", \"reserves_usd\": 1030222028.0423244, \"segment\": \"paired asset\"}, {\"timestamp\": \"2022-08-18T00:00:00\", \"reserves_usd\": 976728619.8014088, \"segment\": \"paired asset\"}, {\"timestamp\": \"2022-08-19T00:00:00\", \"reserves_usd\": 983160967.2307538, \"segment\": \"paired asset\"}, {\"timestamp\": \"2022-08-20T00:00:00\", \"reserves_usd\": 983728695.3178364, \"segment\": \"paired asset\"}, {\"timestamp\": \"2022-08-21T00:00:00\", \"reserves_usd\": 988334698.8283767, \"segment\": \"paired asset\"}, {\"timestamp\": \"2022-08-22T00:00:00\", \"reserves_usd\": 988081828.5620254, \"segment\": \"paired asset\"}, {\"timestamp\": \"2022-08-23T00:00:00\", \"reserves_usd\": 933018718.4402868, \"segment\": \"paired asset\"}, {\"timestamp\": \"2022-08-24T00:00:00\", \"reserves_usd\": 925488821.7480996, \"segment\": \"paired asset\"}, {\"timestamp\": \"2022-08-25T00:00:00\", \"reserves_usd\": 927761024.9261101, \"segment\": \"paired asset\"}, {\"timestamp\": \"2022-08-26T00:00:00\", \"reserves_usd\": 927180534.453883, \"segment\": \"paired asset\"}, {\"timestamp\": \"2022-08-27T00:00:00\", \"reserves_usd\": 925097199.7807856, \"segment\": \"paired asset\"}, {\"timestamp\": \"2022-08-28T00:00:00\", \"reserves_usd\": 927411686.4173639, \"segment\": \"paired asset\"}, {\"timestamp\": \"2022-08-29T00:00:00\", \"reserves_usd\": 929596604.6054696, \"segment\": \"paired asset\"}, {\"timestamp\": \"2022-08-30T00:00:00\", \"reserves_usd\": 936151206.1235564, \"segment\": \"paired asset\"}, {\"timestamp\": \"2022-08-31T00:00:00\", \"reserves_usd\": 941483950.7357843, \"segment\": \"paired asset\"}, {\"timestamp\": \"2022-09-01T00:00:00\", \"reserves_usd\": 945585760.9044994, \"segment\": \"paired asset\"}, {\"timestamp\": \"2022-09-02T00:00:00\", \"reserves_usd\": 947981414.5727563, \"segment\": \"paired asset\"}, {\"timestamp\": \"2022-09-03T00:00:00\", \"reserves_usd\": 948314072.9734478, \"segment\": \"paired asset\"}, {\"timestamp\": \"2022-09-04T00:00:00\", \"reserves_usd\": 946649918.0276498, \"segment\": \"paired asset\"}, {\"timestamp\": \"2022-09-05T00:00:00\", \"reserves_usd\": 946334503.8002726, \"segment\": \"paired asset\"}, {\"timestamp\": \"2022-09-06T00:00:00\", \"reserves_usd\": 872202893.0808634, \"segment\": \"paired asset\"}, {\"timestamp\": \"2022-09-07T00:00:00\", \"reserves_usd\": 861642428.999563, \"segment\": \"paired asset\"}, {\"timestamp\": \"2022-09-08T00:00:00\", \"reserves_usd\": 862561539.0451039, \"segment\": \"paired asset\"}, {\"timestamp\": \"2022-09-09T00:00:00\", \"reserves_usd\": 851776403.5693582, \"segment\": \"paired asset\"}, {\"timestamp\": \"2022-09-10T00:00:00\", \"reserves_usd\": 853188014.4151627, \"segment\": \"paired asset\"}, {\"timestamp\": \"2022-09-11T00:00:00\", \"reserves_usd\": 854695174.7361354, \"segment\": \"paired asset\"}, {\"timestamp\": \"2022-09-12T00:00:00\", \"reserves_usd\": 855945254.1205252, \"segment\": \"paired asset\"}, {\"timestamp\": \"2022-09-13T00:00:00\", \"reserves_usd\": 856838917.1691428, \"segment\": \"paired asset\"}, {\"timestamp\": \"2022-09-14T00:00:00\", \"reserves_usd\": 853532892.7853563, \"segment\": \"paired asset\"}, {\"timestamp\": \"2022-09-15T00:00:00\", \"reserves_usd\": 823750284.1998565, \"segment\": \"paired asset\"}, {\"timestamp\": \"2022-09-16T00:00:00\", \"reserves_usd\": 826469984.4822446, \"segment\": \"paired asset\"}, {\"timestamp\": \"2022-09-17T00:00:00\", \"reserves_usd\": 825908185.2346327, \"segment\": \"paired asset\"}, {\"timestamp\": \"2022-09-18T00:00:00\", \"reserves_usd\": 824796794.9483641, \"segment\": \"paired asset\"}, {\"timestamp\": \"2022-09-19T00:00:00\", \"reserves_usd\": 822098291.8783613, \"segment\": \"paired asset\"}, {\"timestamp\": \"2022-09-20T00:00:00\", \"reserves_usd\": 765924623.1375346, \"segment\": \"paired asset\"}, {\"timestamp\": \"2022-09-21T00:00:00\", \"reserves_usd\": 781850848.5608542, \"segment\": \"paired asset\"}, {\"timestamp\": \"2022-09-22T00:00:00\", \"reserves_usd\": 784805226.9298217, \"segment\": \"paired asset\"}, {\"timestamp\": \"2022-09-23T00:00:00\", \"reserves_usd\": 779322726.2850095, \"segment\": \"paired asset\"}, {\"timestamp\": \"2022-09-24T00:00:00\", \"reserves_usd\": 785178977.3002274, \"segment\": \"paired asset\"}, {\"timestamp\": \"2022-09-25T00:00:00\", \"reserves_usd\": 788705845.2122548, \"segment\": \"paired asset\"}, {\"timestamp\": \"2022-09-26T00:00:00\", \"reserves_usd\": 786904185.9696681, \"segment\": \"paired asset\"}, {\"timestamp\": \"2022-09-27T00:00:00\", \"reserves_usd\": 787344554.9114691, \"segment\": \"paired asset\"}, {\"timestamp\": \"2022-09-28T00:00:00\", \"reserves_usd\": 790567582.0930592, \"segment\": \"paired asset\"}, {\"timestamp\": \"2022-09-29T00:00:00\", \"reserves_usd\": 792438425.2999457, \"segment\": \"paired asset\"}, {\"timestamp\": \"2022-09-30T00:00:00\", \"reserves_usd\": 794542863.2085408, \"segment\": \"paired asset\"}, {\"timestamp\": \"2022-10-01T00:00:00\", \"reserves_usd\": 791476382.8998065, \"segment\": \"paired asset\"}, {\"timestamp\": \"2022-10-02T00:00:00\", \"reserves_usd\": 788878262.7573309, \"segment\": \"paired asset\"}, {\"timestamp\": \"2022-10-03T00:00:00\", \"reserves_usd\": 791936883.3149834, \"segment\": \"paired asset\"}, {\"timestamp\": \"2022-10-04T00:00:00\", \"reserves_usd\": 793485654.7418264, \"segment\": \"paired asset\"}, {\"timestamp\": \"2022-10-05T00:00:00\", \"reserves_usd\": 797372837.6673355, \"segment\": \"paired asset\"}, {\"timestamp\": \"2022-10-06T00:00:00\", \"reserves_usd\": 800467863.2317888, \"segment\": \"paired asset\"}, {\"timestamp\": \"2022-10-07T00:00:00\", \"reserves_usd\": 801438581.4638752, \"segment\": \"paired asset\"}, {\"timestamp\": \"2022-10-08T00:00:00\", \"reserves_usd\": 802381258.2351722, \"segment\": \"paired asset\"}, {\"timestamp\": \"2022-10-09T00:00:00\", \"reserves_usd\": 800520296.6070046, \"segment\": \"paired asset\"}, {\"timestamp\": \"2022-10-10T00:00:00\", \"reserves_usd\": 801216327.9168603, \"segment\": \"paired asset\"}, {\"timestamp\": \"2022-10-11T00:00:00\", \"reserves_usd\": 802764911.0721009, \"segment\": \"paired asset\"}, {\"timestamp\": \"2022-10-12T00:00:00\", \"reserves_usd\": 798886632.4468384, \"segment\": \"paired asset\"}, {\"timestamp\": \"2022-10-13T00:00:00\", \"reserves_usd\": 801912432.1488087, \"segment\": \"paired asset\"}, {\"timestamp\": \"2022-10-14T00:00:00\", \"reserves_usd\": 802037233.4873307, \"segment\": \"paired asset\"}, {\"timestamp\": \"2022-10-15T00:00:00\", \"reserves_usd\": 809616027.4137475, \"segment\": \"paired asset\"}, {\"timestamp\": \"2022-10-16T00:00:00\", \"reserves_usd\": 808532179.1391968, \"segment\": \"paired asset\"}, {\"timestamp\": \"2022-10-17T00:00:00\", \"reserves_usd\": 809453856.7177377, \"segment\": \"paired asset\"}, {\"timestamp\": \"2022-10-18T00:00:00\", \"reserves_usd\": 810053007.5828292, \"segment\": \"paired asset\"}, {\"timestamp\": \"2022-10-19T00:00:00\", \"reserves_usd\": 815159320.9141179, \"segment\": \"paired asset\"}, {\"timestamp\": \"2022-10-20T00:00:00\", \"reserves_usd\": 821240131.9611703, \"segment\": \"paired asset\"}, {\"timestamp\": \"2022-10-21T00:00:00\", \"reserves_usd\": 814614109.6846999, \"segment\": \"paired asset\"}, {\"timestamp\": \"2022-10-22T00:00:00\", \"reserves_usd\": 782085985.3393337, \"segment\": \"paired asset\"}, {\"timestamp\": \"2022-10-23T00:00:00\", \"reserves_usd\": 778248998.2615957, \"segment\": \"paired asset\"}, {\"timestamp\": \"2022-10-24T00:00:00\", \"reserves_usd\": 776041991.3986729, \"segment\": \"paired asset\"}, {\"timestamp\": \"2022-10-25T00:00:00\", \"reserves_usd\": 732405469.8872967, \"segment\": \"paired asset\"}, {\"timestamp\": \"2022-10-26T00:00:00\", \"reserves_usd\": 729477442.2911369, \"segment\": \"paired asset\"}, {\"timestamp\": \"2022-10-27T00:00:00\", \"reserves_usd\": 729012643.3737022, \"segment\": \"paired asset\"}, {\"timestamp\": \"2022-10-28T00:00:00\", \"reserves_usd\": 720517788.5758264, \"segment\": \"paired asset\"}, {\"timestamp\": \"2022-10-29T00:00:00\", \"reserves_usd\": 711048553.8752602, \"segment\": \"paired asset\"}, {\"timestamp\": \"2022-10-30T00:00:00\", \"reserves_usd\": 705567859.8556559, \"segment\": \"paired asset\"}, {\"timestamp\": \"2022-10-31T00:00:00\", \"reserves_usd\": 706588319.938094, \"segment\": \"paired asset\"}, {\"timestamp\": \"2022-11-01T00:00:00\", \"reserves_usd\": 702531723.8918531, \"segment\": \"paired asset\"}, {\"timestamp\": \"2022-11-02T00:00:00\", \"reserves_usd\": 699624220.5116541, \"segment\": \"paired asset\"}, {\"timestamp\": \"2022-11-03T00:00:00\", \"reserves_usd\": 699663205.875346, \"segment\": \"paired asset\"}, {\"timestamp\": \"2022-11-04T00:00:00\", \"reserves_usd\": 694590632.6850123, \"segment\": \"paired asset\"}, {\"timestamp\": \"2022-11-05T00:00:00\", \"reserves_usd\": 687480836.5583462, \"segment\": \"paired asset\"}, {\"timestamp\": \"2022-11-06T00:00:00\", \"reserves_usd\": 671937278.1947447, \"segment\": \"paired asset\"}, {\"timestamp\": \"2022-11-07T00:00:00\", \"reserves_usd\": 667805405.4073201, \"segment\": \"paired asset\"}, {\"timestamp\": \"2022-11-08T00:00:00\", \"reserves_usd\": 673410943.4533939, \"segment\": \"paired asset\"}, {\"timestamp\": \"2022-11-09T00:00:00\", \"reserves_usd\": 635160914.7786677, \"segment\": \"paired asset\"}, {\"timestamp\": \"2022-11-10T00:00:00\", \"reserves_usd\": 590938423.5725943, \"segment\": \"paired asset\"}, {\"timestamp\": \"2022-11-11T00:00:00\", \"reserves_usd\": 430705513.3906983, \"segment\": \"paired asset\"}, {\"timestamp\": \"2022-11-12T00:00:00\", \"reserves_usd\": 437244451.8100157, \"segment\": \"paired asset\"}, {\"timestamp\": \"2022-11-13T00:00:00\", \"reserves_usd\": 448287276.4508976, \"segment\": \"paired asset\"}, {\"timestamp\": \"2022-11-14T00:00:00\", \"reserves_usd\": 454605998.6383501, \"segment\": \"paired asset\"}, {\"timestamp\": \"2022-11-15T00:00:00\", \"reserves_usd\": 455030045.30957896, \"segment\": \"paired asset\"}, {\"timestamp\": \"2022-11-16T00:00:00\", \"reserves_usd\": 457027113.2336847, \"segment\": \"paired asset\"}, {\"timestamp\": \"2022-11-17T00:00:00\", \"reserves_usd\": 464036692.2251019, \"segment\": \"paired asset\"}, {\"timestamp\": \"2022-11-18T00:00:00\", \"reserves_usd\": 472907321.0114326, \"segment\": \"paired asset\"}, {\"timestamp\": \"2022-11-19T00:00:00\", \"reserves_usd\": 473741221.9870343, \"segment\": \"paired asset\"}, {\"timestamp\": \"2022-11-20T00:00:00\", \"reserves_usd\": 474803860.0224762, \"segment\": \"paired asset\"}, {\"timestamp\": \"2022-11-21T00:00:00\", \"reserves_usd\": 464019178.32949394, \"segment\": \"paired asset\"}, {\"timestamp\": \"2022-11-22T00:00:00\", \"reserves_usd\": 466055865.2520585, \"segment\": \"paired asset\"}, {\"timestamp\": \"2022-11-23T00:00:00\", \"reserves_usd\": 477928834.8233792, \"segment\": \"paired asset\"}, {\"timestamp\": \"2022-11-24T00:00:00\", \"reserves_usd\": 477414439.0917854, \"segment\": \"paired asset\"}, {\"timestamp\": \"2022-11-25T00:00:00\", \"reserves_usd\": 480841355.54874915, \"segment\": \"paired asset\"}, {\"timestamp\": \"2022-11-26T00:00:00\", \"reserves_usd\": 490993891.50310683, \"segment\": \"paired asset\"}, {\"timestamp\": \"2022-11-27T00:00:00\", \"reserves_usd\": 495145464.93305594, \"segment\": \"paired asset\"}, {\"timestamp\": \"2022-11-28T00:00:00\", \"reserves_usd\": 494016876.1495323, \"segment\": \"paired asset\"}, {\"timestamp\": \"2022-11-29T00:00:00\", \"reserves_usd\": 497011450.1439509, \"segment\": \"paired asset\"}, {\"timestamp\": \"2022-11-30T00:00:00\", \"reserves_usd\": 505793150.0889044, \"segment\": \"paired asset\"}, {\"timestamp\": \"2022-12-01T00:00:00\", \"reserves_usd\": 513065537.0015857, \"segment\": \"paired asset\"}, {\"timestamp\": \"2022-12-02T00:00:00\", \"reserves_usd\": 513135942.7559095, \"segment\": \"paired asset\"}, {\"timestamp\": \"2022-12-03T00:00:00\", \"reserves_usd\": 517126542.2067699, \"segment\": \"paired asset\"}, {\"timestamp\": \"2022-12-04T00:00:00\", \"reserves_usd\": 518303587.0881392, \"segment\": \"paired asset\"}, {\"timestamp\": \"2022-12-05T00:00:00\", \"reserves_usd\": 519716840.7356218, \"segment\": \"paired asset\"}, {\"timestamp\": \"2022-12-06T00:00:00\", \"reserves_usd\": 520432588.82431847, \"segment\": \"paired asset\"}, {\"timestamp\": \"2022-12-07T00:00:00\", \"reserves_usd\": 520248958.9298986, \"segment\": \"paired asset\"}, {\"timestamp\": \"2022-12-08T00:00:00\", \"reserves_usd\": 522255134.54204446, \"segment\": \"paired asset\"}, {\"timestamp\": \"2022-12-09T00:00:00\", \"reserves_usd\": 518363049.9911763, \"segment\": \"paired asset\"}, {\"timestamp\": \"2022-12-10T00:00:00\", \"reserves_usd\": 518637561.1449671, \"segment\": \"paired asset\"}, {\"timestamp\": \"2022-12-11T00:00:00\", \"reserves_usd\": 520043852.8932807, \"segment\": \"paired asset\"}, {\"timestamp\": \"2022-12-12T00:00:00\", \"reserves_usd\": 519702239.1587585, \"segment\": \"paired asset\"}, {\"timestamp\": \"2022-12-13T00:00:00\", \"reserves_usd\": 516917205.7728261, \"segment\": \"paired asset\"}, {\"timestamp\": \"2022-12-14T00:00:00\", \"reserves_usd\": 514482416.1740843, \"segment\": \"paired asset\"}, {\"timestamp\": \"2022-12-15T00:00:00\", \"reserves_usd\": 518521447.25713366, \"segment\": \"paired asset\"}, {\"timestamp\": \"2022-12-16T00:00:00\", \"reserves_usd\": 520361615.3212058, \"segment\": \"paired asset\"}, {\"timestamp\": \"2022-12-17T00:00:00\", \"reserves_usd\": 524864308.027353, \"segment\": \"paired asset\"}, {\"timestamp\": \"2022-12-18T00:00:00\", \"reserves_usd\": 525706278.87014246, \"segment\": \"paired asset\"}, {\"timestamp\": \"2022-12-19T00:00:00\", \"reserves_usd\": 525928526.8459607, \"segment\": \"paired asset\"}, {\"timestamp\": \"2022-12-20T00:00:00\", \"reserves_usd\": 528867124.8370376, \"segment\": \"paired asset\"}, {\"timestamp\": \"2022-12-21T00:00:00\", \"reserves_usd\": 530358604.6103366, \"segment\": \"paired asset\"}, {\"timestamp\": \"2022-12-22T00:00:00\", \"reserves_usd\": 534614516.0566959, \"segment\": \"paired asset\"}, {\"timestamp\": \"2022-12-23T00:00:00\", \"reserves_usd\": 534973139.1467819, \"segment\": \"paired asset\"}, {\"timestamp\": \"2022-12-24T00:00:00\", \"reserves_usd\": 534702948.6228889, \"segment\": \"paired asset\"}, {\"timestamp\": \"2022-12-25T00:00:00\", \"reserves_usd\": 534547854.5281121, \"segment\": \"paired asset\"}, {\"timestamp\": \"2022-12-26T00:00:00\", \"reserves_usd\": 534296962.030243, \"segment\": \"paired asset\"}, {\"timestamp\": \"2022-12-27T00:00:00\", \"reserves_usd\": 533056075.11559314, \"segment\": \"paired asset\"}, {\"timestamp\": \"2022-12-28T00:00:00\", \"reserves_usd\": 528688410.72736686, \"segment\": \"paired asset\"}, {\"timestamp\": \"2022-12-29T00:00:00\", \"reserves_usd\": 521036480.83765054, \"segment\": \"paired asset\"}, {\"timestamp\": \"2022-12-30T00:00:00\", \"reserves_usd\": 518879799.7514114, \"segment\": \"paired asset\"}, {\"timestamp\": \"2022-12-31T00:00:00\", \"reserves_usd\": 520229712.0827397, \"segment\": \"paired asset\"}, {\"timestamp\": \"2023-01-01T00:00:00\", \"reserves_usd\": 517287814.74333817, \"segment\": \"paired asset\"}, {\"timestamp\": \"2023-01-02T00:00:00\", \"reserves_usd\": 515438207.0536203, \"segment\": \"paired asset\"}, {\"timestamp\": \"2023-01-03T00:00:00\", \"reserves_usd\": 512772980.881594, \"segment\": \"paired asset\"}, {\"timestamp\": \"2023-01-04T00:00:00\", \"reserves_usd\": 507601791.6536232, \"segment\": \"paired asset\"}, {\"timestamp\": \"2023-01-05T00:00:00\", \"reserves_usd\": 507064011.8944064, \"segment\": \"paired asset\"}, {\"timestamp\": \"2023-01-06T00:00:00\", \"reserves_usd\": 482385486.9359235, \"segment\": \"paired asset\"}, {\"timestamp\": \"2023-01-07T00:00:00\", \"reserves_usd\": 488114354.62814283, \"segment\": \"paired asset\"}, {\"timestamp\": \"2023-01-08T00:00:00\", \"reserves_usd\": 490478257.68993247, \"segment\": \"paired asset\"}, {\"timestamp\": \"2023-01-09T00:00:00\", \"reserves_usd\": 491083532.1699711, \"segment\": \"paired asset\"}, {\"timestamp\": \"2023-01-10T00:00:00\", \"reserves_usd\": 490932519.08740765, \"segment\": \"paired asset\"}, {\"timestamp\": \"2023-01-11T00:00:00\", \"reserves_usd\": 493449247.2210942, \"segment\": \"paired asset\"}, {\"timestamp\": \"2023-01-12T00:00:00\", \"reserves_usd\": 493890025.55898184, \"segment\": \"paired asset\"}, {\"timestamp\": \"2023-01-13T00:00:00\", \"reserves_usd\": 495274130.2046587, \"segment\": \"paired asset\"}, {\"timestamp\": \"2023-01-14T00:00:00\", \"reserves_usd\": 495541717.5670791, \"segment\": \"paired asset\"}]}}, {\"mode\": \"vega-lite\"});\n",
       "</script>"
      ],
      "text/plain": [
       "alt.HConcatChart(...)"
      ]
     },
     "execution_count": 9,
     "metadata": {},
     "output_type": "execute_result"
    }
   ],
   "source": [
    "df_fraxbp_last = df_fraxbp_reserves.copy()\n",
    "df_fraxbp_last['max_timestamp'] = df_fraxbp_last.groupby(['pool_symbol'])['timestamp'].transform(\"max\")\n",
    "df_fraxbp_last = df_fraxbp_last.loc[df_fraxbp_last.timestamp == df_fraxbp_last.max_timestamp]\n",
    "\n",
    "df_3pool_last = df_3pool_reserves.copy()\n",
    "df_3pool_last['max_timestamp'] = df_3pool_last.groupby(['pool_symbol'])['timestamp'].transform(\"max\")\n",
    "df_3pool_last = df_3pool_last.loc[df_3pool_last.timestamp == df_3pool_last.max_timestamp]\n",
    "\n",
    "tvl_paired_fraxbp = df_fraxbp_last.loc[df_fraxbp_last.coin_name != 'crvFRAX'].reserves_usd.sum()\n",
    "tvl_paired_3pool = df_3pool_last.loc[df_3pool_last.coin_name != '3Crv'].reserves_usd.sum()\n",
    "print(f\"TVL paired against crvFRAX across FraxBP metapools: ${tvl_paired_fraxbp:,}\")\n",
    "print(f\"TVL paired against 3Crv across 3Pool metapools: ${tvl_paired_3pool:,}\")\n",
    "print(f\"Ratio of paired liquidity of FraxBP to 3Pool: {100 * (tvl_paired_fraxbp / tvl_paired_3pool):.1f}%\")\n",
    "\n",
    "alt.hconcat(\n",
    "    (\n",
    "        chart_metapool_tvl(\n",
    "            df_fraxbp_reserves, \n",
    "            'crvFRAX'\n",
    "        )\n",
    "        .properties(title=\"Reserves: FraxBP Metapools\")\n",
    "    ), \n",
    "    (\n",
    "        chart_metapool_tvl(\n",
    "            df_3pool_reserves.loc[df_3pool_reserves.timestamp >= df_fraxbp_reserves.timestamp.min()], \n",
    "            '3Crv'\n",
    "        )\n",
    "        .properties(title=\"Reserves: 3Pool Metapools\")\n",
    "    ),\n",
    ")"
   ]
  },
  {
   "cell_type": "code",
   "execution_count": 10,
   "id": "4858ee79-7835-4116-9a5f-83672449be8e",
   "metadata": {},
   "outputs": [],
   "source": [
    "def chart_metapool_volume(df): \n",
    "    return (\n",
    "        alt.Chart(df)\n",
    "        .mark_bar()\n",
    "        .encode(\n",
    "            x=alt.X(\"yearmonth(timestamp):T\", axis=alt.Axis(labelAlign=\"center\")), \n",
    "            y=\"volume_usd:Q\", \n",
    "            tooltip=[\"timestamp\", alt.Tooltip(\"volume_usd\", format=\"$,d\")]\n",
    "        )\n",
    "    ) "
   ]
  },
  {
   "cell_type": "code",
   "execution_count": 11,
   "id": "8cd6a38c-b0aa-4181-af4b-8c769c083cad",
   "metadata": {},
   "outputs": [
    {
     "name": "stdout",
     "output_type": "stream",
     "text": [
      "Average volume for FraxBP metapools for month ending on 2023-01-31: $95,838.8790314634\n",
      "Average volume for 3Pool metapools for month ending on 2023-01-31: $194,745.0738876848\n",
      "Ratio of volume between FraxBP metapools and 3Pool metapools: 49.2%\n"
     ]
    },
    {
     "name": "stderr",
     "output_type": "stream",
     "text": [
      "/opt/miniconda3/envs/flywheel-testing/lib/python3.10/site-packages/altair/utils/core.py:317: FutureWarning: iteritems is deprecated and will be removed in a future version. Use .items instead.\n",
      "  for col_name, dtype in df.dtypes.iteritems():\n"
     ]
    },
    {
     "data": {
      "text/html": [
       "\n",
       "<div id=\"altair-viz-a333ed7be3aa4284bd7d1ce6b4424b8f\"></div>\n",
       "<script type=\"text/javascript\">\n",
       "  var VEGA_DEBUG = (typeof VEGA_DEBUG == \"undefined\") ? {} : VEGA_DEBUG;\n",
       "  (function(spec, embedOpt){\n",
       "    let outputDiv = document.currentScript.previousElementSibling;\n",
       "    if (outputDiv.id !== \"altair-viz-a333ed7be3aa4284bd7d1ce6b4424b8f\") {\n",
       "      outputDiv = document.getElementById(\"altair-viz-a333ed7be3aa4284bd7d1ce6b4424b8f\");\n",
       "    }\n",
       "    const paths = {\n",
       "      \"vega\": \"https://cdn.jsdelivr.net/npm//vega@5?noext\",\n",
       "      \"vega-lib\": \"https://cdn.jsdelivr.net/npm//vega-lib?noext\",\n",
       "      \"vega-lite\": \"https://cdn.jsdelivr.net/npm//vega-lite@4.17.0?noext\",\n",
       "      \"vega-embed\": \"https://cdn.jsdelivr.net/npm//vega-embed@6?noext\",\n",
       "    };\n",
       "\n",
       "    function maybeLoadScript(lib, version) {\n",
       "      var key = `${lib.replace(\"-\", \"\")}_version`;\n",
       "      return (VEGA_DEBUG[key] == version) ?\n",
       "        Promise.resolve(paths[lib]) :\n",
       "        new Promise(function(resolve, reject) {\n",
       "          var s = document.createElement('script');\n",
       "          document.getElementsByTagName(\"head\")[0].appendChild(s);\n",
       "          s.async = true;\n",
       "          s.onload = () => {\n",
       "            VEGA_DEBUG[key] = version;\n",
       "            return resolve(paths[lib]);\n",
       "          };\n",
       "          s.onerror = () => reject(`Error loading script: ${paths[lib]}`);\n",
       "          s.src = paths[lib];\n",
       "        });\n",
       "    }\n",
       "\n",
       "    function showError(err) {\n",
       "      outputDiv.innerHTML = `<div class=\"error\" style=\"color:red;\">${err}</div>`;\n",
       "      throw err;\n",
       "    }\n",
       "\n",
       "    function displayChart(vegaEmbed) {\n",
       "      vegaEmbed(outputDiv, spec, embedOpt)\n",
       "        .catch(err => showError(`Javascript Error: ${err.message}<br>This usually means there's a typo in your chart specification. See the javascript console for the full traceback.`));\n",
       "    }\n",
       "\n",
       "    if(typeof define === \"function\" && define.amd) {\n",
       "      requirejs.config({paths});\n",
       "      require([\"vega-embed\"], displayChart, err => showError(`Error loading script: ${err.message}`));\n",
       "    } else {\n",
       "      maybeLoadScript(\"vega\", \"5\")\n",
       "        .then(() => maybeLoadScript(\"vega-lite\", \"4.17.0\"))\n",
       "        .then(() => maybeLoadScript(\"vega-embed\", \"6\"))\n",
       "        .catch(showError)\n",
       "        .then(() => displayChart(vegaEmbed));\n",
       "    }\n",
       "  })({\"config\": {\"view\": {\"continuousWidth\": 400, \"continuousHeight\": 300}}, \"hconcat\": [{\"data\": {\"name\": \"data-3ac215bbf0f179b320c354c70c692ede\"}, \"mark\": \"bar\", \"encoding\": {\"tooltip\": [{\"field\": \"timestamp\", \"type\": \"temporal\"}, {\"field\": \"volume_usd\", \"format\": \"$,d\", \"type\": \"quantitative\"}], \"x\": {\"axis\": {\"labelAlign\": \"center\"}, \"field\": \"timestamp\", \"timeUnit\": \"yearmonth\", \"type\": \"temporal\"}, \"y\": {\"field\": \"volume_usd\", \"type\": \"quantitative\"}}, \"title\": \"Volume (Monthly): FraxBP Metapools\"}, {\"data\": {\"name\": \"data-d8168f1e047888eeb35d2b90622fdf67\"}, \"mark\": \"bar\", \"encoding\": {\"tooltip\": [{\"field\": \"timestamp\", \"type\": \"temporal\"}, {\"field\": \"volume_usd\", \"format\": \"$,d\", \"type\": \"quantitative\"}], \"x\": {\"axis\": {\"labelAlign\": \"center\"}, \"field\": \"timestamp\", \"timeUnit\": \"yearmonth\", \"type\": \"temporal\"}, \"y\": {\"field\": \"volume_usd\", \"type\": \"quantitative\"}}, \"title\": \"Volume (Monthly): 3Pool Metapools\"}], \"$schema\": \"https://vega.github.io/schema/vega-lite/v4.17.0.json\", \"datasets\": {\"data-3ac215bbf0f179b320c354c70c692ede\": [{\"timestamp\": \"2022-07-31T00:00:00\", \"volume_usd\": 129512.93174301789}, {\"timestamp\": \"2022-08-31T00:00:00\", \"volume_usd\": 191010.6917045431}, {\"timestamp\": \"2022-09-30T00:00:00\", \"volume_usd\": 91231.24868703462}, {\"timestamp\": \"2022-10-31T00:00:00\", \"volume_usd\": 91325.00843955744}, {\"timestamp\": \"2022-11-30T00:00:00\", \"volume_usd\": 251381.78379509493}, {\"timestamp\": \"2022-12-31T00:00:00\", \"volume_usd\": 93000.17104931807}, {\"timestamp\": \"2023-01-31T00:00:00\", \"volume_usd\": 95838.8790314634}], \"data-d8168f1e047888eeb35d2b90622fdf67\": [{\"timestamp\": \"2022-07-31T00:00:00\", \"volume_usd\": 410273.03881344816}, {\"timestamp\": \"2022-08-31T00:00:00\", \"volume_usd\": 514601.32842532895}, {\"timestamp\": \"2022-09-30T00:00:00\", \"volume_usd\": 368549.86990951403}, {\"timestamp\": \"2022-10-31T00:00:00\", \"volume_usd\": 323725.71738497197}, {\"timestamp\": \"2022-11-30T00:00:00\", \"volume_usd\": 1265286.125432493}, {\"timestamp\": \"2022-12-31T00:00:00\", \"volume_usd\": 377260.5722713335}, {\"timestamp\": \"2023-01-31T00:00:00\", \"volume_usd\": 194745.0738876848}]}}, {\"mode\": \"vega-lite\"});\n",
       "</script>"
      ],
      "text/plain": [
       "alt.HConcatChart(...)"
      ]
     },
     "execution_count": 11,
     "metadata": {},
     "output_type": "execute_result"
    }
   ],
   "source": [
    "df_fraxbp_vol_agg = df_fraxbp_volume.groupby(pd.Grouper(key=\"timestamp\", freq=\"M\")).volume_usd.mean().reset_index()\n",
    "df_3pool_vol_agg = df_3pool_volume.groupby(pd.Grouper(key=\"timestamp\", freq=\"M\")).volume_usd.mean().reset_index()\n",
    "df_3pool_vol_agg = df_3pool_vol_agg.loc[df_3pool_vol_agg.timestamp >= df_fraxbp_vol_agg.timestamp.min()]\n",
    "\n",
    "dmax = df_fraxbp_vol_agg.timestamp.max()\n",
    "vol_frax = df_fraxbp_vol_agg.loc[df_fraxbp_vol_agg.timestamp == dmax].volume_usd.max()\n",
    "vol_3pool = df_3pool_vol_agg.loc[df_3pool_vol_agg.timestamp == dmax].volume_usd.max()\n",
    "\n",
    "print(f\"Average volume for FraxBP metapools for month ending on {dmax.date()}: ${vol_frax:,}\")\n",
    "print(f\"Average volume for 3Pool metapools for month ending on {dmax.date()}: ${vol_3pool:,}\")\n",
    "print(f\"Ratio of volume between FraxBP metapools and 3Pool metapools: {100 * (vol_frax / vol_3pool):.1f}%\")\n",
    "\n",
    "(\n",
    "    chart_metapool_volume(df_fraxbp_vol_agg).properties(title=\"Volume (Monthly): FraxBP Metapools\") | \n",
    "    chart_metapool_volume(df_3pool_vol_agg).properties(title=\"Volume (Monthly): 3Pool Metapools\")\n",
    ")"
   ]
  }
 ],
 "metadata": {
  "kernelspec": {
   "display_name": "flywheel-testing",
   "language": "python",
   "name": "flywheel-testing"
  },
  "language_info": {
   "codemirror_mode": {
    "name": "ipython",
    "version": 3
   },
   "file_extension": ".py",
   "mimetype": "text/x-python",
   "name": "python",
   "nbconvert_exporter": "python",
   "pygments_lexer": "ipython3",
   "version": "3.10.0"
  },
  "vscode": {
   "interpreter": {
    "hash": "d3914f5fb17e66baeb14c103313bc8c946345da85f5b2968ccefa93b7072e0df"
   }
  }
 },
 "nbformat": 4,
 "nbformat_minor": 5
}
