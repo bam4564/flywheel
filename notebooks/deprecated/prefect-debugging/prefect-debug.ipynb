{
 "cells": [
  {
   "cell_type": "code",
   "execution_count": 1,
   "id": "63fae5aa-cad3-4901-b168-ca513b4270be",
   "metadata": {},
   "outputs": [],
   "source": [
    "from prefect import flow, task\n",
    "# from test import one, two "
   ]
  },
  {
   "cell_type": "code",
   "execution_count": 13,
   "id": "57dc6701-8a44-4f9f-b0bd-0134bf84871c",
   "metadata": {},
   "outputs": [
    {
     "name": "stderr",
     "output_type": "stream",
     "text": [
      "/opt/miniconda3/envs/flywheel/lib/python3.10/site-packages/prefect/tasks.py:261: UserWarning: A task named 'one' and defined at '/var/folders/5c/hf9_blgj3jbbxxvkw_s9snsw0000gn/T/ipykernel_35235/3630624508.py:3' conflicts with another task. Consider specifying a unique `name` parameter in the task definition:\n",
      "\n",
      " `@task(name='my_unique_name', ...)`\n",
      "  warnings.warn(\n",
      "/opt/miniconda3/envs/flywheel/lib/python3.10/site-packages/prefect/tasks.py:261: UserWarning: A task named 'two' and defined at '/var/folders/5c/hf9_blgj3jbbxxvkw_s9snsw0000gn/T/ipykernel_35235/3630624508.py:7' conflicts with another task. Consider specifying a unique `name` parameter in the task definition:\n",
      "\n",
      " `@task(name='my_unique_name', ...)`\n",
      "  warnings.warn(\n",
      "/opt/miniconda3/envs/flywheel/lib/python3.10/site-packages/prefect/flows.py:206: UserWarning: A flow named 'flow-test' and defined at '/var/folders/5c/hf9_blgj3jbbxxvkw_s9snsw0000gn/T/ipykernel_35235/3630624508.py:12' conflicts with another flow. Consider specifying a unique `name` parameter in the flow definition:\n",
      "\n",
      " `@flow(name='my_unique_name', ...)`\n",
      "  warnings.warn(\n"
     ]
    },
    {
     "data": {
      "text/html": [
       "<pre style=\"white-space:pre;overflow-x:auto;line-height:normal;font-family:Menlo,'DejaVu Sans Mono',consolas,'Courier New',monospace\">08:26:06.082 | <span style=\"color: #008080; text-decoration-color: #008080\">INFO</span>    | prefect.engine - Created flow run<span style=\"color: #800080; text-decoration-color: #800080\"> 'helpful-otter'</span> for flow<span style=\"color: #800080; text-decoration-color: #800080; font-weight: bold\"> 'flow-test'</span>\n",
       "</pre>\n"
      ],
      "text/plain": [
       "08:26:06.082 | \u001b[36mINFO\u001b[0m    | prefect.engine - Created flow run\u001b[35m 'helpful-otter'\u001b[0m for flow\u001b[1;35m 'flow-test'\u001b[0m\n"
      ]
     },
     "metadata": {},
     "output_type": "display_data"
    },
    {
     "data": {
      "text/html": [
       "<pre style=\"white-space:pre;overflow-x:auto;line-height:normal;font-family:Menlo,'DejaVu Sans Mono',consolas,'Courier New',monospace\">08:26:06.132 | <span style=\"color: #008080; text-decoration-color: #008080\">INFO</span>    | Flow run<span style=\"color: #800080; text-decoration-color: #800080\"> 'helpful-otter'</span> - Created task run 'one-0d9ca636-0' for task 'one'\n",
       "</pre>\n"
      ],
      "text/plain": [
       "08:26:06.132 | \u001b[36mINFO\u001b[0m    | Flow run\u001b[35m 'helpful-otter'\u001b[0m - Created task run 'one-0d9ca636-0' for task 'one'\n"
      ]
     },
     "metadata": {},
     "output_type": "display_data"
    },
    {
     "data": {
      "text/html": [
       "<pre style=\"white-space:pre;overflow-x:auto;line-height:normal;font-family:Menlo,'DejaVu Sans Mono',consolas,'Courier New',monospace\">08:26:06.133 | <span style=\"color: #008080; text-decoration-color: #008080\">INFO</span>    | Flow run<span style=\"color: #800080; text-decoration-color: #800080\"> 'helpful-otter'</span> - Executing 'one-0d9ca636-0' immediately...\n",
       "</pre>\n"
      ],
      "text/plain": [
       "08:26:06.133 | \u001b[36mINFO\u001b[0m    | Flow run\u001b[35m 'helpful-otter'\u001b[0m - Executing 'one-0d9ca636-0' immediately...\n"
      ]
     },
     "metadata": {},
     "output_type": "display_data"
    },
    {
     "data": {
      "text/html": [
       "<pre style=\"white-space:pre;overflow-x:auto;line-height:normal;font-family:Menlo,'DejaVu Sans Mono',consolas,'Courier New',monospace\">08:26:06.144 | <span style=\"color: #008080; text-decoration-color: #008080\">INFO</span>    | Task run 'one-0d9ca636-0' - Finished in state Cached(type=COMPLETED)\n",
       "</pre>\n"
      ],
      "text/plain": [
       "08:26:06.144 | \u001b[36mINFO\u001b[0m    | Task run 'one-0d9ca636-0' - Finished in state Cached(type=COMPLETED)\n"
      ]
     },
     "metadata": {},
     "output_type": "display_data"
    },
    {
     "data": {
      "text/html": [
       "<pre style=\"white-space:pre;overflow-x:auto;line-height:normal;font-family:Menlo,'DejaVu Sans Mono',consolas,'Courier New',monospace\">08:26:06.163 | <span style=\"color: #008080; text-decoration-color: #008080\">INFO</span>    | Flow run<span style=\"color: #800080; text-decoration-color: #800080\"> 'helpful-otter'</span> - Created task run 'two-6cd57d12-0' for task 'two'\n",
       "</pre>\n"
      ],
      "text/plain": [
       "08:26:06.163 | \u001b[36mINFO\u001b[0m    | Flow run\u001b[35m 'helpful-otter'\u001b[0m - Created task run 'two-6cd57d12-0' for task 'two'\n"
      ]
     },
     "metadata": {},
     "output_type": "display_data"
    },
    {
     "data": {
      "text/html": [
       "<pre style=\"white-space:pre;overflow-x:auto;line-height:normal;font-family:Menlo,'DejaVu Sans Mono',consolas,'Courier New',monospace\">08:26:06.164 | <span style=\"color: #008080; text-decoration-color: #008080\">INFO</span>    | Flow run<span style=\"color: #800080; text-decoration-color: #800080\"> 'helpful-otter'</span> - Executing 'two-6cd57d12-0' immediately...\n",
       "</pre>\n"
      ],
      "text/plain": [
       "08:26:06.164 | \u001b[36mINFO\u001b[0m    | Flow run\u001b[35m 'helpful-otter'\u001b[0m - Executing 'two-6cd57d12-0' immediately...\n"
      ]
     },
     "metadata": {},
     "output_type": "display_data"
    },
    {
     "name": "stdout",
     "output_type": "stream",
     "text": [
      "adf\n"
     ]
    },
    {
     "data": {
      "text/html": [
       "<pre style=\"white-space:pre;overflow-x:auto;line-height:normal;font-family:Menlo,'DejaVu Sans Mono',consolas,'Courier New',monospace\">08:26:06.189 | <span style=\"color: #008080; text-decoration-color: #008080\">INFO</span>    | Task run 'two-6cd57d12-0' - Finished in state <span style=\"color: #008000; text-decoration-color: #008000\">Completed</span>()\n",
       "</pre>\n"
      ],
      "text/plain": [
       "08:26:06.189 | \u001b[36mINFO\u001b[0m    | Task run 'two-6cd57d12-0' - Finished in state \u001b[32mCompleted\u001b[0m()\n"
      ]
     },
     "metadata": {},
     "output_type": "display_data"
    },
    {
     "data": {
      "text/html": [
       "<pre style=\"white-space:pre;overflow-x:auto;line-height:normal;font-family:Menlo,'DejaVu Sans Mono',consolas,'Courier New',monospace\">08:26:06.200 | <span style=\"color: #008080; text-decoration-color: #008080\">INFO</span>    | Flow run<span style=\"color: #800080; text-decoration-color: #800080\"> 'helpful-otter'</span> - Finished in state <span style=\"color: #008000; text-decoration-color: #008000\">Completed</span>()\n",
       "</pre>\n"
      ],
      "text/plain": [
       "08:26:06.200 | \u001b[36mINFO\u001b[0m    | Flow run\u001b[35m 'helpful-otter'\u001b[0m - Finished in state \u001b[32mCompleted\u001b[0m()\n"
      ]
     },
     "metadata": {},
     "output_type": "display_data"
    },
    {
     "data": {
      "text/plain": [
       "'preasdf'"
      ]
     },
     "execution_count": 13,
     "metadata": {},
     "output_type": "execute_result"
    }
   ],
   "source": [
    "import os \n",
    "\n",
    "@task(persist_result=True, cache_key_fn=lambda *args: \"onsasde21\")\n",
    "async def one(arg): \n",
    "    return \"sdf\"\n",
    "\n",
    "@task(persist_result=True, cache_key_fn=lambda *args: \"twoe\")\n",
    "async def two(): \n",
    "    print('adf') \n",
    "    return \"asdf\"\n",
    "\n",
    "@flow\n",
    "async def flow_test():\n",
    "    a = await one(1)\n",
    "    b = await two()\n",
    "    return a + b \n",
    "\n",
    "# from prefect.settings import get_current_settings\n",
    "\n",
    "# for k, v in get_current_settings(): \n",
    "#     print(k, v)\n",
    "\n",
    "await flow_test()"
   ]
  },
  {
   "cell_type": "code",
   "execution_count": 3,
   "id": "31006d45-b7a4-40b9-8c78-7e5fe0ce1516",
   "metadata": {},
   "outputs": [
    {
     "name": "stdout",
     "output_type": "stream",
     "text": [
      "\n"
     ]
    }
   ],
   "source": [
    "print()"
   ]
  },
  {
   "cell_type": "code",
   "execution_count": null,
   "id": "00e06152-aed6-4761-b1ed-ac803a072845",
   "metadata": {},
   "outputs": [],
   "source": []
  },
  {
   "cell_type": "code",
   "execution_count": null,
   "id": "3d848573-1587-4f52-9c50-21e43c3cc119",
   "metadata": {},
   "outputs": [],
   "source": []
  }
 ],
 "metadata": {
  "kernelspec": {
   "display_name": "Python [conda env:flywheel]",
   "language": "python",
   "name": "conda-env-flywheel-py"
  },
  "language_info": {
   "codemirror_mode": {
    "name": "ipython",
    "version": 3
   },
   "file_extension": ".py",
   "mimetype": "text/x-python",
   "name": "python",
   "nbconvert_exporter": "python",
   "pygments_lexer": "ipython3",
   "version": "3.10.8"
  }
 },
 "nbformat": 4,
 "nbformat_minor": 5
}
