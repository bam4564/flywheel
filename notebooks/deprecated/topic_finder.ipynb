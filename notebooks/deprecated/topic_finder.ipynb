{
 "cells": [
  {
   "cell_type": "code",
   "execution_count": 27,
   "id": "b5e9c789-e342-4332-b239-a1b241fbc495",
   "metadata": {},
   "outputs": [],
   "source": [
    "import json \n",
    "from web3 import Web3 \n",
    "\n",
    "from w3_utils import verified_contract\n",
    "\n",
    "\n",
    "URL_INFURA = 'https://mainnet.infura.io/v3/856c3834f317452a82e25bb06e04de18'\n",
    "w3 = Web3(Web3.HTTPProvider(URL_INFURA))\n",
    "\n",
    "fswap_pair = verified_contract('0x5e8c1ad4c3d04f059d5c1a2ce4593e53be270bca')"
   ]
  },
  {
   "cell_type": "code",
   "execution_count": 51,
   "id": "b606c138-1bfe-4d64-9033-2fc181dd3e78",
   "metadata": {},
   "outputs": [
    {
     "data": {
      "text/plain": [
       "{'Approval': {'signature': 'Approval(address,address,uint256)',\n",
       "  'topic': HexBytes('0x8c5be1e5ebec7d5bd14f71427d1e84f3dd0314c0f7b2291e5b200ac8c7c3b925')},\n",
       " 'Burn': {'signature': 'Burn(address,uint256,uint256,address)',\n",
       "  'topic': HexBytes('0xdccd412f0b1252819cb1fd330b93224ca42612892bb3f4f789976e6d81936496')},\n",
       " 'CancelLongTermOrder': {'signature': 'CancelLongTermOrder(address,uint256,address,uint256,address,uint256)',\n",
       "  'topic': HexBytes('0x3c5d5e0947e8b8050cf53e91c7496de2499da1b7613ec86b8fda870578966390')},\n",
       " 'LongTermSwap0To1': {'signature': 'LongTermSwap0To1(address,uint256,uint256,uint256)',\n",
       "  'topic': HexBytes('0x9971294258b76b481032b9c1f7f5594619d7cf40e29e224de9e71481bd0a4f85')},\n",
       " 'LongTermSwap1To0': {'signature': 'LongTermSwap1To0(address,uint256,uint256,uint256)',\n",
       "  'topic': HexBytes('0xe1ce07267c05b1609d3bd4046ca369b74e64cd2b45ee8321ccc79783252c60b4')},\n",
       " 'LpFeeUpdated': {'signature': 'LpFeeUpdated(uint256)',\n",
       "  'topic': HexBytes('0x2ade3fe6cec488ed9b13e36f5179edfbca9998fecc5926cf57335558671d5f95')},\n",
       " 'Mint': {'signature': 'Mint(address,uint256,uint256)',\n",
       "  'topic': HexBytes('0x4c209b5fc8ad50758f13e2e1088ba56a560dff690a1c6fef26394f4c03821c4f')},\n",
       " 'Swap': {'signature': 'Swap(address,uint256,uint256,uint256,uint256,address)',\n",
       "  'topic': HexBytes('0xd78ad95fa46c994b6551d0da85fc275fe613ce37657fb8d5e3d130840159d822')},\n",
       " 'Sync': {'signature': 'Sync(uint112,uint112)',\n",
       "  'topic': HexBytes('0x1c411e9a96e071241c2f21f7726b17ae89e3cab4c78be50e062b03a9fffbbad1')},\n",
       " 'Transfer': {'signature': 'Transfer(address,address,uint256)',\n",
       "  'topic': HexBytes('0xddf252ad1be2c89b69c2b068fc378daa952ba7f163c4a11628f55a4df523b3ef')},\n",
       " 'WithdrawProceedsFromLongTermOrder': {'signature': 'WithdrawProceedsFromLongTermOrder(address,uint256,address,uint256,bool)',\n",
       "  'topic': HexBytes('0x43168622ddb54ed84ccad30626ace7077235dc531c67aaf639752c4519535448')}}"
      ]
     },
     "execution_count": 51,
     "metadata": {},
     "output_type": "execute_result"
    }
   ],
   "source": [
    "def compute_topics(contract, include_abi=False): \n",
    "    r = {}\n",
    "    for e in contract.events: \n",
    "        name = e.event_name \n",
    "        abi = e._get_event_abi()\n",
    "        sig_list = flatten_types(False, abi['inputs'])\n",
    "        sig = f\"{e.event_name}({','.join(sig_list)})\"\n",
    "        r[name] = {'abi': abi, 'signature': sig, 'topic': Web3.keccak(text=sig)}\n",
    "        if not include_abi: \n",
    "            del r[name]['abi']\n",
    "    return r \n",
    "\n",
    "def encode_event_signature(contract, event_name): \n",
    "    for e in contract.events: \n",
    "        if e.event_name == event_name:\n",
    "            event_abi = e._get_event_abi()\n",
    "            sig_list = flatten_types(False, event_abi['inputs'])\n",
    "            return \n",
    "\n",
    "def flatten_types(include_tuple, inputs): \n",
    "    types = []\n",
    "    for i in inputs: \n",
    "        if 'components' in i and isinstance(i['components'], dict): \n",
    "            if i.startswith('tuple'):\n",
    "                raise ValueError('components found but type is not tuple.')\n",
    "            suffix = ''\n",
    "            array_bracket = i['type'].index('[')\n",
    "            if array_bracket >= 0: \n",
    "                suffix = i['type'][array_bracket:]\n",
    "            result = flatten_types(include_tuple, i['components'])\n",
    "            if isinstance(result, list): \n",
    "                types.append(f\"tuple({','.join(result)}){suffix}\")\n",
    "            else: \n",
    "                types.append(f\"({','.join(result)}){suffix}\")\n",
    "        else: \n",
    "            types.append(i['type'])                                    \n",
    "    return types\n",
    "\n",
    "compute_topics(fswap_pair)"
   ]
  },
  {
   "cell_type": "code",
   "execution_count": null,
   "id": "008c15a5-0a80-4193-9ad2-d7d97f26219d",
   "metadata": {},
   "outputs": [],
   "source": []
  },
  {
   "cell_type": "code",
   "execution_count": null,
   "id": "030bc1d8-5189-4262-a40a-d916ad0e8d1e",
   "metadata": {},
   "outputs": [],
   "source": []
  }
 ],
 "metadata": {
  "kernelspec": {
   "display_name": "Python [conda env:flywheel]",
   "language": "python",
   "name": "conda-env-flywheel-py"
  },
  "language_info": {
   "codemirror_mode": {
    "name": "ipython",
    "version": 3
   },
   "file_extension": ".py",
   "mimetype": "text/x-python",
   "name": "python",
   "nbconvert_exporter": "python",
   "pygments_lexer": "ipython3",
   "version": "3.10.8"
  }
 },
 "nbformat": 4,
 "nbformat_minor": 5
}
