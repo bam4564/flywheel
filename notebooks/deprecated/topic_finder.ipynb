{
 "cells": [
  {
   "cell_type": "code",
   "execution_count": 4,
   "id": "b5e9c789-e342-4332-b239-a1b241fbc495",
   "metadata": {},
   "outputs": [],
   "source": [
    "import json \n",
    "from web3 import Web3 \n",
    "\n",
    "from flywheel_util.utils.w3 import (\n",
    "    verified_contract, \n",
    ") \n",
    "\n",
    "URL_INFURA = 'https://mainnet.infura.io/v3/856c3834f317452a82e25bb06e04de18'\n",
    "w3 = Web3(Web3.HTTPProvider(URL_INFURA))\n",
    "\n",
    "fswap_pair = verified_contract('0x5e8c1ad4c3d04f059d5c1a2ce4593e53be270bca')\n",
    "frax_stablecoin = verified_contract('0x853d955acef822db058eb8505911ed77f175b99e')"
   ]
  },
  {
   "cell_type": "code",
   "execution_count": 5,
   "id": "b606c138-1bfe-4d64-9033-2fc181dd3e78",
   "metadata": {},
   "outputs": [
    {
     "data": {
      "text/plain": [
       "{'Approval': {'signature': 'Approval(address,address,uint256)',\n",
       "  'topic': HexBytes('0x8c5be1e5ebec7d5bd14f71427d1e84f3dd0314c0f7b2291e5b200ac8c7c3b925')},\n",
       " 'FRAXBurned': {'signature': 'FRAXBurned(address,address,uint256)',\n",
       "  'topic': HexBytes('0xfead881ad94a58eeaebfdbce8eeb9906a0f42f0c896bab64a6ad08371608131a')},\n",
       " 'FRAXMinted': {'signature': 'FRAXMinted(address,address,uint256)',\n",
       "  'topic': HexBytes('0x1c0ed02ca521f3f5782d6c218460a4d053afba959cf41837f405d16e201e31c5')},\n",
       " 'RoleAdminChanged': {'signature': 'RoleAdminChanged(bytes32,bytes32,bytes32)',\n",
       "  'topic': HexBytes('0xbd79b86ffe0ab8e8776151514217cd7cacd52c909f66475c3af44e129f0b00ff')},\n",
       " 'RoleGranted': {'signature': 'RoleGranted(bytes32,address,address)',\n",
       "  'topic': HexBytes('0x2f8788117e7eff1d82e926ec794901d17c78024a50270940304540a733656f0d')},\n",
       " 'RoleRevoked': {'signature': 'RoleRevoked(bytes32,address,address)',\n",
       "  'topic': HexBytes('0xf6391f5c32d9c69d2a47ea670b442974b53935d1edc7fd64eb21e047a839171b')},\n",
       " 'Transfer': {'signature': 'Transfer(address,address,uint256)',\n",
       "  'topic': HexBytes('0xddf252ad1be2c89b69c2b068fc378daa952ba7f163c4a11628f55a4df523b3ef')}}"
      ]
     },
     "execution_count": 5,
     "metadata": {},
     "output_type": "execute_result"
    }
   ],
   "source": [
    "def compute_topics(contract, include_abi=False): \n",
    "    r = {}\n",
    "    for e in contract.events: \n",
    "        name = e.event_name \n",
    "        abi = e._get_event_abi()\n",
    "        sig_list = flatten_types(False, abi['inputs'])\n",
    "        sig = f\"{e.event_name}({','.join(sig_list)})\"\n",
    "        r[name] = {'abi': abi, 'signature': sig, 'topic': Web3.keccak(text=sig)}\n",
    "        if not include_abi: \n",
    "            del r[name]['abi']\n",
    "    return r \n",
    "\n",
    "def encode_event_signature(contract, event_name): \n",
    "    for e in contract.events: \n",
    "        if e.event_name == event_name:\n",
    "            event_abi = e._get_event_abi()\n",
    "            sig_list = flatten_types(False, event_abi['inputs'])\n",
    "            return \n",
    "\n",
    "def flatten_types(include_tuple, inputs): \n",
    "    types = []\n",
    "    for i in inputs: \n",
    "        if 'components' in i and isinstance(i['components'], dict): \n",
    "            if i.startswith('tuple'):\n",
    "                raise ValueError('components found but type is not tuple.')\n",
    "            suffix = ''\n",
    "            array_bracket = i['type'].index('[')\n",
    "            if array_bracket >= 0: \n",
    "                suffix = i['type'][array_bracket:]\n",
    "            result = flatten_types(include_tuple, i['components'])\n",
    "            if isinstance(result, list): \n",
    "                types.append(f\"tuple({','.join(result)}){suffix}\")\n",
    "            else: \n",
    "                types.append(f\"({','.join(result)}){suffix}\")\n",
    "        else: \n",
    "            types.append(i['type'])                                    \n",
    "    return types\n",
    "\n",
    "compute_topics(frax_stablecoin)"
   ]
  },
  {
   "cell_type": "code",
   "execution_count": null,
   "id": "008c15a5-0a80-4193-9ad2-d7d97f26219d",
   "metadata": {},
   "outputs": [],
   "source": []
  },
  {
   "cell_type": "code",
   "execution_count": null,
   "id": "030bc1d8-5189-4262-a40a-d916ad0e8d1e",
   "metadata": {},
   "outputs": [],
   "source": []
  }
 ],
 "metadata": {
  "kernelspec": {
   "display_name": "flywheel",
   "language": "python",
   "name": "flywheel"
  },
  "language_info": {
   "codemirror_mode": {
    "name": "ipython",
    "version": 3
   },
   "file_extension": ".py",
   "mimetype": "text/x-python",
   "name": "python",
   "nbconvert_exporter": "python",
   "pygments_lexer": "ipython3",
   "version": "3.10.0"
  }
 },
 "nbformat": 4,
 "nbformat_minor": 5
}
