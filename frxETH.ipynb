{
 "cells": [
  {
   "cell_type": "code",
   "execution_count": 247,
   "id": "1abbe31e-72e0-4933-9c80-527bf56f22f2",
   "metadata": {},
   "outputs": [
    {
     "data": {
      "text/plain": [
       "DataTransformerRegistry.enable('default')"
      ]
     },
     "execution_count": 247,
     "metadata": {},
     "output_type": "execute_result"
    }
   ],
   "source": [
    "import json \n",
    "import os\n",
    "import logging \n",
    "import concurrent \n",
    "import asyncio \n",
    "import re \n",
    "import requests \n",
    "\n",
    "from collections import deque \n",
    "from itertools import chain \n",
    "# from datetime import date, datetime \n",
    "\n",
    "from typing import List \n",
    "from pprint import PrettyPrinter\n",
    "\n",
    "from subgrounds import Subgrounds\n",
    "from palettable.tableau import Tableau_20\n",
    "from palettable.mycarta import Cube1_4, Cube1_8\n",
    "from subgrounds.pagination import ShallowStrategy\n",
    "\n",
    "from web3 import Web3\n",
    "from concurrent.futures import ThreadPoolExecutor\n",
    "\n",
    "# apis / networking \n",
    "from gql import gql, Client\n",
    "from gql.transport.aiohttp import AIOHTTPTransport\n",
    "from etherscan import Etherscan\n",
    "from pycoingecko import CoinGeckoAPI\n",
    "\n",
    "import pandas as pd \n",
    "import numpy as np \n",
    "import altair as alt \n",
    "import missingno as miss\n",
    "from IPython.display import HTML, display\n",
    "\n",
    "\n",
    "from utils import (\n",
    "    ddf, remove_prefix, query_attrs, camel_to_snake, df_cols_camel_to_snake, df_cols_change_prefix\n",
    ")\n",
    "\n",
    "# logging.basicConfig(level=logging.INFO)\n",
    "\n",
    "VALIDATE = False \n",
    "\n",
    "pp = PrettyPrinter().pprint\n",
    "\n",
    "alt.data_transformers.disable_max_rows()"
   ]
  },
  {
   "cell_type": "code",
   "execution_count": 248,
   "id": "607683e0-16d1-449d-8b76-730475e0eee8",
   "metadata": {},
   "outputs": [],
   "source": [
    "colors_24 = Tableau_20.hex_colors + Cube1_4.hex_colors\n",
    "colors_28 = Tableau_20.hex_colors + Cube1_8.hex_colors"
   ]
  },
  {
   "cell_type": "code",
   "execution_count": 249,
   "id": "e02d8fcf-aeac-4d94-8da1-0e8db63c664e",
   "metadata": {},
   "outputs": [],
   "source": [
    "URL_INFURA = 'https://mainnet.infura.io/v3/856c3834f317452a82e25bb06e04de18'\n",
    "w3 = Web3(Web3.HTTPProvider(URL_INFURA))\n",
    "cg = CoinGeckoAPI()\n",
    "hmmmm = 'VR7YA9DRDB4Y15B5N3WU9E7PSJ9RWPCP5S'\n",
    "etherscan = Etherscan(hmmmm)"
   ]
  },
  {
   "cell_type": "code",
   "execution_count": 250,
   "id": "6622f354-56f6-4677-9834-b86d1c0bab63",
   "metadata": {},
   "outputs": [],
   "source": [
    "URL_CURVE_POOLS = 'https://api.thegraph.com/subgraphs/name/convex-community/curve-pools'\n",
    "URL_CURVE_DAO = 'https://api.thegraph.com/subgraphs/name/convex-community/curve-dao'\n",
    "\n",
    "ADDRESS_frxETHCRV = '0xf43211935c781d5ca1a41d2041f397b8a7366c7a'.lower()\n",
    "ADDRESS_frxETHCRV_GAUGE_DEPOSIT = '0x2932a86df44fe8d2a706d8e9c5d51c24883423f5'.lower()\n",
    "ADDRESS_CONVEX_VOTER_PROXY = '0x989aeb4d175e16225e39e87d0d97a3360524ad80'.lower()\n",
    "ADDRESS_CURVE_POOL_FRXETH_ETH = '0xa1f8a6807c402e4a15ef4eba36528a3fed24e577'.lower()\n",
    "ADDRESS_FRAX_FARM_stkcvxfrxETHETH = '0xa537d64881b84faffb9Ae43c951EEbF368b71cdA'.lower()"
   ]
  },
  {
   "cell_type": "markdown",
   "id": "e3d07397-257b-47b8-854d-b5ef1015a868",
   "metadata": {},
   "source": [
    "# Analysis of Holders of frxETHCRV \n",
    "\n",
    "[frxETHCRV](https://etherscan.io/token/0xf43211935c781d5ca1a41d2041f397b8a7366c7a) is the liquidity pool token for the [frxETH:ETH pool](https://curve.fi/#/ethereum/pools/frxeth/deposit) on curve. \n",
    "\n",
    "Tracking which users hold frxETHCRV is not as simple as checking the total amount of this token across user accounts. \n",
    "There are various platforms where users can stake frxETHCRV in exchange for derivative tokens. This hierarchical outline\n",
    "shows the various places where the supply of frxETHCRV exists within the ecosystem. \n",
    "\n",
    "- frxETHCRV supply \n",
    "    - circulating frxETHCRV *(ignored for now since ~99.9% of frxETHCRV is not circulating, see [here](https://etherscan.io/token/0xf43211935c781d5ca1a41d2041f397b8a7366c7a#balances))*. \n",
    "    - staked in [curve gauge](0x2932a86df44fe8d2a706d8e9c5d51c24883423f5) for frxETH:ETH pool. \n",
    "        - User stakes directly in curve gauge (frxETHCRV -> frxETHCRV-gauge). \n",
    "        - User uses convex staking to indirectly stake into curve gauge. \n",
    "            - Convex Curve Staking (frxETHCRV -> cvxfrxETHCRV (user receives this) -> frxETHCRV-gauge (convex holds internally))\n",
    "            - Convex Frax Deposit (frxETHCRV -> stkcvxfrxETHETH) \n",
    "                - Convex vaulted Staking (convex manages vault on your behalf, earning boosted yield in FXS through convex).  \n",
    "                - Frax staking (stake through frax website). "
   ]
  },
  {
   "cell_type": "code",
   "execution_count": 251,
   "id": "b1fb88a9-e7e6-4af4-a914-c0685ab88f6b",
   "metadata": {},
   "outputs": [],
   "source": [
    "def get_account_balance_of_erc20(account, token_address): \n",
    "    account = Web3.toChecksumAddress(account) \n",
    "    token_address = Web3.toChecksumAddress(token_address)\n",
    "    abi = etherscan.get_contract_abi(token_address) \n",
    "    contract = w3.eth.contract(token_address, abi=abi)\n",
    "    return contract.functions.balanceOf(account).call() / 10**contract.functions.decimals().call()"
   ]
  },
  {
   "cell_type": "code",
   "execution_count": 252,
   "id": "7737badc-bf84-4290-9f86-705031cd8882",
   "metadata": {},
   "outputs": [],
   "source": [
    "sg = Subgrounds()\n",
    "sg_curve_pools = sg.load_subgraph(URL_CURVE_POOLS)\n",
    "sg_curve_dao = sg.load_subgraph(URL_CURVE_DAO) "
   ]
  },
  {
   "cell_type": "code",
   "execution_count": 253,
   "id": "8877365e-1487-4c3d-b535-62c7c7ec9e9d",
   "metadata": {},
   "outputs": [],
   "source": [
    "def get_curve_gauge_balances(): \n",
    "    # frxETHCRV staked in curve gauge. frxETHCRV -> frxETHCRV-gauge at 1:1 ratio \n",
    "    # ---------------------------------------------------------------------------------------------------------------------\n",
    "    qattrs = ['id', 'provider', 'value']\n",
    "    # deposits into gauge \n",
    "    df_deposits = query_attrs(\n",
    "        sg, sg_curve_dao.Query.gaugeDeposits(first=100000, where={'gauge': ADDRESS_frxETHCRV_GAUGE_DEPOSIT}), qattrs\n",
    "    )\n",
    "    df_deposits = remove_prefix(df_deposits, 'gaugeDeposits_') \n",
    "    # withdawals from gauge \n",
    "    df_withdraws = query_attrs(\n",
    "        sg, sg_curve_dao.Query.gaugeWithdraws(first=100000, where={'gauge': ADDRESS_frxETHCRV_GAUGE_DEPOSIT}), qattrs\n",
    "    )\n",
    "    df_withdraws = remove_prefix(df_withdraws, 'gaugeWithdraws_') \n",
    "    df_withdraws.value *= -1\n",
    "    # Current deposited amount per address within gauge \n",
    "    df_curve = pd.concat([df_deposits, df_withdraws])\n",
    "    df_curve = df_curve.groupby('provider')['value'].sum().reset_index()\n",
    "    df_curve = df_curve.loc[df_curve.value != 0].sort_values('value', ascending=False).reset_index(drop=True)\n",
    "    df_curve['platform'] = 'curve-gauge'\n",
    "    df_curve.value /= 1e18\n",
    "    return df_curve \n",
    "\n",
    "def validate_curve_gauge_balances(df_curve): \n",
    "    frxethCRV_curve_gauge = df_curve.value.sum()\n",
    "    frxethCRV_curve_gauge_actual = get_account_balance_of_erc20(ADDRESS_frxETHCRV_GAUGE_DEPOSIT, ADDRESS_frxETHCRV)\n",
    "    frxethCRV_convex_staked = df_curve.loc[df_curve.provider == ADDRESS_CONVEX_VOTER_PROXY].value.sum()\n",
    "    frxethCRV_convex_staked_actual = get_account_balance_of_erc20(ADDRESS_CONVEX_VOTER_PROXY, ADDRESS_frxETHCRV_GAUGE_DEPOSIT)\n",
    "\n",
    "    # Manual validation of frxETHCRV staked in curve gauge \n",
    "    # https://etherscan.io/token/0xf43211935c781d5ca1a41d2041f397b8a7366c7a?a=0x2932a86df44fe8d2a706d8e9c5d51c24883423f5\n",
    "    print(f\"Number of frxETHCRV deposited in curve gauge:\\n\\tComputed: {frxethCRV_curve_gauge:>20}\\n\\tActual: {frxethCRV_curve_gauge_actual:>20}\")\n",
    "    if VALIDATE: \n",
    "        np.testing.assert_almost_equal(frxethCRV_curve_gauge_actual, frxethCRV_curve_gauge, decimal=10)\n",
    "\n",
    "    # Manual validation of frxETHCRV-gauge (1:1 with frxETHCRV) staked in convex \n",
    "    # https://etherscan.io/token/0x2932a86df44fe8d2a706d8e9c5d51c24883423f5?a=0x989aeb4d175e16225e39e87d0d97a3360524ad80\n",
    "    print(f\"Number of frxETHCRV staked on convex:\\n\\tComputed: {frxethCRV_convex_staked:>20}\\n\\tActual: {frxethCRV_convex_staked_actual:>22}\")\n",
    "    if VALIDATE: \n",
    "        np.testing.assert_almost_equal(frxethCRV_convex_staked_actual, frxethCRV_convex_staked, decimal=10)\n",
    "\n",
    "    print(f\"Percent of frxETHCRV staked on convex: {frxethCRV_convex_staked / frxethCRV_curve_gauge:%}\")\n",
    "    df_curve.head()"
   ]
  },
  {
   "cell_type": "code",
   "execution_count": 254,
   "id": "51d8afec-f9ed-4bfd-b3ed-46cd74b9eb30",
   "metadata": {},
   "outputs": [],
   "source": [
    "df_curve = get_curve_gauge_balances()"
   ]
  },
  {
   "cell_type": "code",
   "execution_count": 255,
   "id": "78f2de3d-9cc0-4db0-ba5d-72213c86c7ac",
   "metadata": {},
   "outputs": [
    {
     "name": "stderr",
     "output_type": "stream",
     "text": [
      "/opt/miniconda3/envs/frax-bribes/lib/python3.10/site-packages/eth_abi/codec.py:87: DeprecationWarning: abi.encode_abi() and abi.encode_abi_packed() are deprecated and will be removed in version 4.0.0 in favor of abi.encode() and abi.encode_packed(), respectively\n",
      "  warnings.warn(\n",
      "/opt/miniconda3/envs/frax-bribes/lib/python3.10/site-packages/eth_abi/codec.py:191: DeprecationWarning: abi.decode_abi() is deprecated and will be removed in version 4.0.0 in favor of abi.decode()\n",
      "  warnings.warn(\n"
     ]
    },
    {
     "name": "stdout",
     "output_type": "stream",
     "text": [
      "Number of frxETHCRV deposited in curve gauge:\n",
      "\tComputed:   33524.885783661186\n",
      "\tActual:    33524.88578366119\n",
      "Number of frxETHCRV staked on convex:\n",
      "\tComputed:    30929.19504146684\n",
      "\tActual:      30929.19504146684\n",
      "Percent of frxETHCRV staked on convex: 92.257421%\n"
     ]
    }
   ],
   "source": [
    "validate_curve_gauge_balances(df_curve)"
   ]
  },
  {
   "cell_type": "code",
   "execution_count": 256,
   "id": "d21a35ef-e136-4d91-adaf-f4927d87f0c6",
   "metadata": {},
   "outputs": [],
   "source": [
    "def get_convex_staked_balances(): \n",
    "    # frxETHCRV staked in convex (curve system). frxETHCRV -> cvxfrxETHCRV at 1:1 ratio \n",
    "    # ---------------------------------------------------------------------------------------------------------------------\n",
    "    qattrs = ['id', 'amount', 'timestamp', 'user.address']\n",
    "    # deposits into the convex staking contract for curve lp tokens \n",
    "    q_deposits = sg_curve_pools.Query.deposits(first=100000, where={'poolid_': {'swap': ADDRESS_CURVE_POOL_FRXETH_ETH}})\n",
    "    df_deposits = query_attrs(sg, q_deposits, qattrs)\n",
    "    df_deposits = remove_prefix(df_deposits, 'deposits_') \n",
    "    # withdrawals from the convex staking contract for curve lp tokens \n",
    "    q_withdrawals = sg_curve_pools.Query.withdrawals(first=100000, where={'poolid_': {'swap': ADDRESS_CURVE_POOL_FRXETH_ETH}})\n",
    "    df_withdrawals = query_attrs(sg, q_withdrawals, qattrs)\n",
    "    df_withdrawals = remove_prefix(df_withdrawals, 'withdrawals_') \n",
    "    df_withdrawals.amount *= -1\n",
    "    # current deposited amount per account in convex staking contract for curve lp tokens \n",
    "    df_convex = pd.concat([df_deposits, df_withdrawals])\n",
    "    df_convex.amount /= 1e18\n",
    "    df_convex['platform'] = 'convex-curve'\n",
    "    df_convex = df_convex.rename(columns={'user_address': 'account'})\n",
    "    df_convex.head()\n",
    "    return df_convex \n",
    "\n",
    "def validate_convex_staked_balances(df_convex): \n",
    "    # Ensure that the holdings of frxETHCRV-gauge by the convex voter proxy address are the same (computed in two ways) \n",
    "    # 1. Curve dao subgraph - aggregating curve gauge deposits and withdraws by address (convex voter proxy is one of them). \n",
    "    # 2. Convex curve pools subgraph - aggregating convex gauge deposits and withdawals by address. \n",
    "    # These numbers should be really close but sometimes might differ due to subgraph indexing speed. \n",
    "    convex_frxethcrv_1 = df_curve.loc[df_curve.provider == ADDRESS_CONVEX_VOTER_PROXY]['value'].values.tolist()[0]\n",
    "    convex_frxethcrv_2 = df_convex.amount.sum()\n",
    "    print(f\"Convex frxETHCRV-gauge (curve dao subgraph): {convex_frxethcrv_1}\")\n",
    "    print(f\"Convex frxETHCRV-gauge (convex curve pool subgraph): {convex_frxethcrv_2}\")\n",
    "    if VALIDATE: \n",
    "        np.testing.assert_almost_equal(convex_frxethcrv_1, convex_frxethcrv_2, 10)"
   ]
  },
  {
   "cell_type": "code",
   "execution_count": 257,
   "id": "8767b871-14f6-47be-b4e1-2251707cd298",
   "metadata": {},
   "outputs": [],
   "source": [
    "df_convex = get_convex_staked_balances()"
   ]
  },
  {
   "cell_type": "code",
   "execution_count": 258,
   "id": "366003fa-9b01-423f-9726-7d525f2edc45",
   "metadata": {},
   "outputs": [
    {
     "name": "stdout",
     "output_type": "stream",
     "text": [
      "Convex frxETHCRV-gauge (curve dao subgraph): 30929.19504146684\n",
      "Convex frxETHCRV-gauge (convex curve pool subgraph): 30929.19504146683\n"
     ]
    }
   ],
   "source": [
    "validate_convex_staked_balances(df_convex)"
   ]
  },
  {
   "cell_type": "code",
   "execution_count": 259,
   "id": "1e86091a-406d-4c3e-81e0-cecf9bf6cd70",
   "metadata": {},
   "outputs": [
    {
     "data": {
      "text/html": [
       "<div>\n",
       "<style scoped>\n",
       "    .dataframe tbody tr th:only-of-type {\n",
       "        vertical-align: middle;\n",
       "    }\n",
       "\n",
       "    .dataframe tbody tr th {\n",
       "        vertical-align: top;\n",
       "    }\n",
       "\n",
       "    .dataframe thead th {\n",
       "        text-align: right;\n",
       "    }\n",
       "</style>\n",
       "<table border=\"1\" class=\"dataframe\">\n",
       "  <thead>\n",
       "    <tr style=\"text-align: right;\">\n",
       "      <th></th>\n",
       "      <th>provider</th>\n",
       "      <th>value</th>\n",
       "      <th>platform</th>\n",
       "    </tr>\n",
       "  </thead>\n",
       "  <tbody>\n",
       "    <tr>\n",
       "      <th>0</th>\n",
       "      <td>0x989aeb4d175e16225e39e87d0d97a3360524ad80</td>\n",
       "      <td>30929.19504</td>\n",
       "      <td>curve-gauge</td>\n",
       "    </tr>\n",
       "  </tbody>\n",
       "</table>\n",
       "</div>"
      ],
      "text/plain": [
       "                                     provider       value     platform\n",
       "0  0x989aeb4d175e16225e39e87d0d97a3360524ad80 30929.19504  curve-gauge"
      ]
     },
     "execution_count": 259,
     "metadata": {},
     "output_type": "execute_result"
    }
   ],
   "source": [
    "df_curve.head(1)"
   ]
  },
  {
   "cell_type": "code",
   "execution_count": 260,
   "id": "8d09011b-2964-4304-b808-cc7068bb8f12",
   "metadata": {},
   "outputs": [
    {
     "data": {
      "text/html": [
       "<div>\n",
       "<style scoped>\n",
       "    .dataframe tbody tr th:only-of-type {\n",
       "        vertical-align: middle;\n",
       "    }\n",
       "\n",
       "    .dataframe tbody tr th {\n",
       "        vertical-align: top;\n",
       "    }\n",
       "\n",
       "    .dataframe thead th {\n",
       "        text-align: right;\n",
       "    }\n",
       "</style>\n",
       "<table border=\"1\" class=\"dataframe\">\n",
       "  <thead>\n",
       "    <tr style=\"text-align: right;\">\n",
       "      <th></th>\n",
       "      <th>id</th>\n",
       "      <th>amount</th>\n",
       "      <th>timestamp</th>\n",
       "      <th>account</th>\n",
       "      <th>platform</th>\n",
       "    </tr>\n",
       "  </thead>\n",
       "  <tbody>\n",
       "    <tr>\n",
       "      <th>0</th>\n",
       "      <td>0x007562ec43ffc63894d5b30e812bd65858605829090a...</td>\n",
       "      <td>1.01942</td>\n",
       "      <td>1669427219</td>\n",
       "      <td>0x0f903834187d37ff29dc2d607dd9fb50eb36b2b5</td>\n",
       "      <td>convex-curve</td>\n",
       "    </tr>\n",
       "  </tbody>\n",
       "</table>\n",
       "</div>"
      ],
      "text/plain": [
       "                                                  id  amount   timestamp  \\\n",
       "0  0x007562ec43ffc63894d5b30e812bd65858605829090a... 1.01942  1669427219   \n",
       "\n",
       "                                      account      platform  \n",
       "0  0x0f903834187d37ff29dc2d607dd9fb50eb36b2b5  convex-curve  "
      ]
     },
     "execution_count": 260,
     "metadata": {},
     "output_type": "execute_result"
    }
   ],
   "source": [
    "df_convex.head(1)"
   ]
  },
  {
   "cell_type": "code",
   "execution_count": 261,
   "id": "f6ef64bd-2904-4dbb-bfda-ac9c003f6136",
   "metadata": {},
   "outputs": [
    {
     "name": "stderr",
     "output_type": "stream",
     "text": [
      "/opt/miniconda3/envs/frax-bribes/lib/python3.10/site-packages/eth_abi/codec.py:87: DeprecationWarning: abi.encode_abi() and abi.encode_abi_packed() are deprecated and will be removed in version 4.0.0 in favor of abi.encode() and abi.encode_packed(), respectively\n",
      "  warnings.warn(\n",
      "/opt/miniconda3/envs/frax-bribes/lib/python3.10/site-packages/eth_abi/codec.py:191: DeprecationWarning: abi.decode_abi() is deprecated and will be removed in version 4.0.0 in favor of abi.decode()\n",
      "  warnings.warn(\n"
     ]
    },
    {
     "data": {
      "text/html": [
       "<div>\n",
       "<style scoped>\n",
       "    .dataframe tbody tr th:only-of-type {\n",
       "        vertical-align: middle;\n",
       "    }\n",
       "\n",
       "    .dataframe tbody tr th {\n",
       "        vertical-align: top;\n",
       "    }\n",
       "\n",
       "    .dataframe thead th {\n",
       "        text-align: right;\n",
       "    }\n",
       "</style>\n",
       "<table border=\"1\" class=\"dataframe\">\n",
       "  <thead>\n",
       "    <tr style=\"text-align: right;\">\n",
       "      <th></th>\n",
       "      <th>account</th>\n",
       "      <th>platform</th>\n",
       "      <th>amount</th>\n",
       "    </tr>\n",
       "  </thead>\n",
       "  <tbody>\n",
       "    <tr>\n",
       "      <th>0</th>\n",
       "      <td>0x4659d5ff63a1e1edd6d5dd9cc315e063c95947d0</td>\n",
       "      <td>convex-curve</td>\n",
       "      <td>27248.79802</td>\n",
       "    </tr>\n",
       "    <tr>\n",
       "      <th>1</th>\n",
       "      <td>0x9026a229b535ecf0162dfe48fdeb3c75f7b2a7ae</td>\n",
       "      <td>curve-gauge</td>\n",
       "      <td>2047.81496</td>\n",
       "    </tr>\n",
       "    <tr>\n",
       "      <th>2</th>\n",
       "      <td>0x3cf54f3a1969be9916dad548f3c084331c4450b5</td>\n",
       "      <td>convex-curve</td>\n",
       "      <td>1559.84100</td>\n",
       "    </tr>\n",
       "    <tr>\n",
       "      <th>3</th>\n",
       "      <td>0xa1175a219dac539f2291377f77afd786d20e5882</td>\n",
       "      <td>convex-curve</td>\n",
       "      <td>612.77391</td>\n",
       "    </tr>\n",
       "    <tr>\n",
       "      <th>4</th>\n",
       "      <td>0xdb722dd612d35a12e718138e7296e6ca3531fb98</td>\n",
       "      <td>convex-curve</td>\n",
       "      <td>327.99419</td>\n",
       "    </tr>\n",
       "  </tbody>\n",
       "</table>\n",
       "</div>"
      ],
      "text/plain": [
       "                                      account      platform      amount\n",
       "0  0x4659d5ff63a1e1edd6d5dd9cc315e063c95947d0  convex-curve 27248.79802\n",
       "1  0x9026a229b535ecf0162dfe48fdeb3c75f7b2a7ae   curve-gauge  2047.81496\n",
       "2  0x3cf54f3a1969be9916dad548f3c084331c4450b5  convex-curve  1559.84100\n",
       "3  0xa1175a219dac539f2291377f77afd786d20e5882  convex-curve   612.77391\n",
       "4  0xdb722dd612d35a12e718138e7296e6ca3531fb98  convex-curve   327.99419"
      ]
     },
     "execution_count": 261,
     "metadata": {},
     "output_type": "execute_result"
    }
   ],
   "source": [
    "# Replace the single row in the curve gauge table with all the rows in the convex gauge table. \n",
    "df_curve_no_convex = df_curve.loc[df_curve.provider != ADDRESS_CONVEX_VOTER_PROXY]\n",
    "assert len(df_curve_no_convex) + 1 == len(df_curve)\n",
    "df = (\n",
    "    pd.concat([\n",
    "        df_curve_no_convex.rename(columns={'provider': 'account', 'value': 'amount'})[['account', 'amount', 'platform']], \n",
    "        df_convex[['account', 'amount', 'platform']]\n",
    "    ])\n",
    "    .groupby(['account', 'platform'])['amount'].sum().reset_index()\n",
    "    .sort_values('amount', ascending=False).reset_index(drop=True) \n",
    ")\n",
    "# This total should match the amount of frxETHCRV held by the curve gauge deposit \n",
    "# https://etherscan.io/token/0xf43211935c781d5ca1a41d2041f397b8a7366c7a?a=0x2932a86df44fe8d2a706d8e9c5d51c24883423f5\n",
    "computed = df.amount.sum()\n",
    "actual = get_account_balance_of_erc20(ADDRESS_frxETHCRV_GAUGE_DEPOSIT, ADDRESS_frxETHCRV) \n",
    "if VALIDATE: \n",
    "    np.testing.assert_almost_equal(actual, computed, decimal=10)\n",
    "df.head()"
   ]
  },
  {
   "cell_type": "code",
   "execution_count": 262,
   "id": "e9ef1f16-72c6-4a81-8bbc-4b231fcd9ac4",
   "metadata": {},
   "outputs": [
    {
     "name": "stderr",
     "output_type": "stream",
     "text": [
      "/opt/miniconda3/envs/frax-bribes/lib/python3.10/site-packages/eth_abi/codec.py:191: DeprecationWarning: abi.decode_abi() is deprecated and will be removed in version 4.0.0 in favor of abi.decode()\n",
      "  warnings.warn(\n",
      "/opt/miniconda3/envs/frax-bribes/lib/python3.10/site-packages/eth_abi/codec.py:164: DeprecationWarning: abi.decode_single() is deprecated and will be removed in version 4.0.0 in favor of abi.decode()\n",
      "  warnings.warn(\n"
     ]
    }
   ],
   "source": [
    "# frxETHCRV staked in convex (frax system). frxETHCRV -> stkcvxfrxETHETH\n",
    "# ---------------------------------------------------------------------------------------------------------------------\n",
    "# Get deposits and withdrawals from the convex frax staking wrapper. This is what users interact with \n",
    "# when depositing + staking on the convex website \n",
    "address_convex_staking_wrapper_frax = '0x4659d5fF63A1E1EDD6D5DD9CC315e063c95947d0'\n",
    "contract_convex_staking_wrapper_frax = w3.eth.contract(\n",
    "    address_convex_staking_wrapper_frax, abi=etherscan.get_contract_abi(address_convex_staking_wrapper_frax)\n",
    ")\n",
    "deposit_logs = contract_convex_staking_wrapper_frax.events.Deposited.getLogs(fromBlock=0)\n",
    "withdrawal_logs = contract_convex_staking_wrapper_frax.events.Withdrawn.getLogs(fromBlock=0)"
   ]
  },
  {
   "cell_type": "code",
   "execution_count": 263,
   "id": "233b8f24-e120-409f-812e-a1c1a7a1c3dd",
   "metadata": {},
   "outputs": [],
   "source": [
    "deposits = [{'account': d.args['_account'], 'amount': d.args['_amount'] / 1e18} for d in deposit_logs]\n",
    "withdrawals = [{'account': d.args['_user'], 'amount': -d.args['_amount'] / 1e18} for d in withdrawal_logs]\n",
    "\n",
    "df_cvx_staking_frx = pd.DataFrame(deposits + withdrawals).groupby('account')['amount'].sum().reset_index()\n",
    "df_cvx_staking_frx = df_cvx_staking_frx.sort_values('amount', ascending=False).reset_index(drop=True)\n",
    "df_cvx_staking_frx = df_cvx_staking_frx.loc[df_cvx_staking_frx.amount != 0]"
   ]
  },
  {
   "cell_type": "code",
   "execution_count": 264,
   "id": "9e6183e4-0baf-48e3-9e36-7e853372c259",
   "metadata": {},
   "outputs": [
    {
     "name": "stderr",
     "output_type": "stream",
     "text": [
      "/opt/miniconda3/envs/frax-bribes/lib/python3.10/site-packages/web3/method.py:215: DeprecationWarning: getCode is deprecated in favor of get_code\n",
      "  warnings.warn(\n",
      "/opt/miniconda3/envs/frax-bribes/lib/python3.10/site-packages/eth_abi/codec.py:87: DeprecationWarning: abi.encode_abi() and abi.encode_abi_packed() are deprecated and will be removed in version 4.0.0 in favor of abi.encode() and abi.encode_packed(), respectively\n",
      "  warnings.warn(\n",
      "/opt/miniconda3/envs/frax-bribes/lib/python3.10/site-packages/eth_abi/codec.py:191: DeprecationWarning: abi.decode_abi() is deprecated and will be removed in version 4.0.0 in favor of abi.decode()\n",
      "  warnings.warn(\n"
     ]
    }
   ],
   "source": [
    "# Determine if this address represents a vault owned by some user \n",
    "abi_convex_staking_proxy = '[{\"inputs\":[],\"stateMutability\":\"nonpayable\",\"type\":\"constructor\"},{\"inputs\":[],\"name\":\"FEE_DENOMINATOR\",\"outputs\":[{\"internalType\":\"uint256\",\"name\":\"\",\"type\":\"uint256\"}],\"stateMutability\":\"view\",\"type\":\"function\"},{\"inputs\":[{\"internalType\":\"address\",\"name\":\"_rewardsAddress\",\"type\":\"address\"}],\"name\":\"changeRewards\",\"outputs\":[],\"stateMutability\":\"nonpayable\",\"type\":\"function\"},{\"inputs\":[],\"name\":\"checkpointRewards\",\"outputs\":[],\"stateMutability\":\"nonpayable\",\"type\":\"function\"},{\"inputs\":[],\"name\":\"convexCurveBooster\",\"outputs\":[{\"internalType\":\"address\",\"name\":\"\",\"type\":\"address\"}],\"stateMutability\":\"view\",\"type\":\"function\"},{\"inputs\":[],\"name\":\"convexDepositToken\",\"outputs\":[{\"internalType\":\"address\",\"name\":\"\",\"type\":\"address\"}],\"stateMutability\":\"view\",\"type\":\"function\"},{\"inputs\":[],\"name\":\"crv\",\"outputs\":[{\"internalType\":\"address\",\"name\":\"\",\"type\":\"address\"}],\"stateMutability\":\"view\",\"type\":\"function\"},{\"inputs\":[],\"name\":\"curveLpToken\",\"outputs\":[{\"internalType\":\"address\",\"name\":\"\",\"type\":\"address\"}],\"stateMutability\":\"view\",\"type\":\"function\"},{\"inputs\":[],\"name\":\"cvx\",\"outputs\":[{\"internalType\":\"address\",\"name\":\"\",\"type\":\"address\"}],\"stateMutability\":\"view\",\"type\":\"function\"},{\"inputs\":[],\"name\":\"earned\",\"outputs\":[{\"internalType\":\"address[]\",\"name\":\"token_addresses\",\"type\":\"address[]\"},{\"internalType\":\"uint256[]\",\"name\":\"total_earned\",\"type\":\"uint256[]\"}],\"stateMutability\":\"view\",\"type\":\"function\"},{\"inputs\":[],\"name\":\"feeRegistry\",\"outputs\":[{\"internalType\":\"address\",\"name\":\"\",\"type\":\"address\"}],\"stateMutability\":\"view\",\"type\":\"function\"},{\"inputs\":[],\"name\":\"fxs\",\"outputs\":[{\"internalType\":\"address\",\"name\":\"\",\"type\":\"address\"}],\"stateMutability\":\"view\",\"type\":\"function\"},{\"inputs\":[],\"name\":\"getReward\",\"outputs\":[],\"stateMutability\":\"nonpayable\",\"type\":\"function\"},{\"inputs\":[{\"internalType\":\"bool\",\"name\":\"_claim\",\"type\":\"bool\"},{\"internalType\":\"address[]\",\"name\":\"_rewardTokenList\",\"type\":\"address[]\"}],\"name\":\"getReward\",\"outputs\":[],\"stateMutability\":\"nonpayable\",\"type\":\"function\"},{\"inputs\":[{\"internalType\":\"bool\",\"name\":\"_claim\",\"type\":\"bool\"}],\"name\":\"getReward\",\"outputs\":[],\"stateMutability\":\"nonpayable\",\"type\":\"function\"},{\"inputs\":[{\"internalType\":\"address\",\"name\":\"_owner\",\"type\":\"address\"},{\"internalType\":\"address\",\"name\":\"_stakingAddress\",\"type\":\"address\"},{\"internalType\":\"address\",\"name\":\"_stakingToken\",\"type\":\"address\"},{\"internalType\":\"address\",\"name\":\"_rewardsAddress\",\"type\":\"address\"}],\"name\":\"initialize\",\"outputs\":[],\"stateMutability\":\"nonpayable\",\"type\":\"function\"},{\"inputs\":[{\"internalType\":\"bytes32\",\"name\":\"_kek_id\",\"type\":\"bytes32\"},{\"internalType\":\"uint256\",\"name\":\"_addl_liq\",\"type\":\"uint256\"}],\"name\":\"lockAdditional\",\"outputs\":[],\"stateMutability\":\"nonpayable\",\"type\":\"function\"},{\"inputs\":[{\"internalType\":\"bytes32\",\"name\":\"_kek_id\",\"type\":\"bytes32\"},{\"internalType\":\"uint256\",\"name\":\"_addl_liq\",\"type\":\"uint256\"}],\"name\":\"lockAdditionalConvexToken\",\"outputs\":[],\"stateMutability\":\"nonpayable\",\"type\":\"function\"},{\"inputs\":[{\"internalType\":\"bytes32\",\"name\":\"_kek_id\",\"type\":\"bytes32\"},{\"internalType\":\"uint256\",\"name\":\"_addl_liq\",\"type\":\"uint256\"}],\"name\":\"lockAdditionalCurveLp\",\"outputs\":[],\"stateMutability\":\"nonpayable\",\"type\":\"function\"},{\"inputs\":[{\"internalType\":\"bytes32\",\"name\":\"_kek_id\",\"type\":\"bytes32\"},{\"internalType\":\"uint256\",\"name\":\"new_ending_ts\",\"type\":\"uint256\"}],\"name\":\"lockLonger\",\"outputs\":[],\"stateMutability\":\"nonpayable\",\"type\":\"function\"},{\"inputs\":[],\"name\":\"owner\",\"outputs\":[{\"internalType\":\"address\",\"name\":\"\",\"type\":\"address\"}],\"stateMutability\":\"view\",\"type\":\"function\"},{\"inputs\":[],\"name\":\"poolRegistry\",\"outputs\":[{\"internalType\":\"address\",\"name\":\"\",\"type\":\"address\"}],\"stateMutability\":\"view\",\"type\":\"function\"},{\"inputs\":[],\"name\":\"rewards\",\"outputs\":[{\"internalType\":\"address\",\"name\":\"\",\"type\":\"address\"}],\"stateMutability\":\"view\",\"type\":\"function\"},{\"inputs\":[{\"internalType\":\"address\",\"name\":\"_proxy\",\"type\":\"address\"}],\"name\":\"setVeFXSProxy\",\"outputs\":[],\"stateMutability\":\"nonpayable\",\"type\":\"function\"},{\"inputs\":[{\"internalType\":\"uint256\",\"name\":\"_liquidity\",\"type\":\"uint256\"},{\"internalType\":\"uint256\",\"name\":\"_secs\",\"type\":\"uint256\"}],\"name\":\"stakeLocked\",\"outputs\":[{\"internalType\":\"bytes32\",\"name\":\"kek_id\",\"type\":\"bytes32\"}],\"stateMutability\":\"nonpayable\",\"type\":\"function\"},{\"inputs\":[{\"internalType\":\"uint256\",\"name\":\"_liquidity\",\"type\":\"uint256\"},{\"internalType\":\"uint256\",\"name\":\"_secs\",\"type\":\"uint256\"}],\"name\":\"stakeLockedConvexToken\",\"outputs\":[{\"internalType\":\"bytes32\",\"name\":\"kek_id\",\"type\":\"bytes32\"}],\"stateMutability\":\"nonpayable\",\"type\":\"function\"},{\"inputs\":[{\"internalType\":\"uint256\",\"name\":\"_liquidity\",\"type\":\"uint256\"},{\"internalType\":\"uint256\",\"name\":\"_secs\",\"type\":\"uint256\"}],\"name\":\"stakeLockedCurveLp\",\"outputs\":[{\"internalType\":\"bytes32\",\"name\":\"kek_id\",\"type\":\"bytes32\"}],\"stateMutability\":\"nonpayable\",\"type\":\"function\"},{\"inputs\":[],\"name\":\"stakingAddress\",\"outputs\":[{\"internalType\":\"address\",\"name\":\"\",\"type\":\"address\"}],\"stateMutability\":\"view\",\"type\":\"function\"},{\"inputs\":[],\"name\":\"stakingToken\",\"outputs\":[{\"internalType\":\"address\",\"name\":\"\",\"type\":\"address\"}],\"stateMutability\":\"view\",\"type\":\"function\"},{\"inputs\":[],\"name\":\"usingProxy\",\"outputs\":[{\"internalType\":\"address\",\"name\":\"\",\"type\":\"address\"}],\"stateMutability\":\"view\",\"type\":\"function\"},{\"inputs\":[],\"name\":\"vaultType\",\"outputs\":[{\"internalType\":\"enum IProxyVault.VaultType\",\"name\":\"\",\"type\":\"uint8\"}],\"stateMutability\":\"pure\",\"type\":\"function\"},{\"inputs\":[],\"name\":\"vaultVersion\",\"outputs\":[{\"internalType\":\"uint256\",\"name\":\"\",\"type\":\"uint256\"}],\"stateMutability\":\"pure\",\"type\":\"function\"},{\"inputs\":[],\"name\":\"vefxsProxy\",\"outputs\":[{\"internalType\":\"address\",\"name\":\"\",\"type\":\"address\"}],\"stateMutability\":\"view\",\"type\":\"function\"},{\"inputs\":[{\"internalType\":\"bytes32\",\"name\":\"_kek_id\",\"type\":\"bytes32\"}],\"name\":\"withdrawLocked\",\"outputs\":[],\"stateMutability\":\"nonpayable\",\"type\":\"function\"},{\"inputs\":[{\"internalType\":\"bytes32\",\"name\":\"_kek_id\",\"type\":\"bytes32\"}],\"name\":\"withdrawLockedAndUnwrap\",\"outputs\":[],\"stateMutability\":\"nonpayable\",\"type\":\"function\"}]'\n",
    "vault_owners = {}\n",
    "for a in df_cvx_staking_frx.account.unique():\n",
    "    a = Web3.toChecksumAddress(a) \n",
    "    is_vault = True if w3.eth.getCode(a) else False\n",
    "    if is_vault: \n",
    "        contract = w3.eth.contract(a, abi=abi_convex_staking_proxy)\n",
    "        owner = contract.functions.owner().call()\n",
    "        vault_owners[a] = owner"
   ]
  },
  {
   "cell_type": "code",
   "execution_count": 265,
   "id": "b29da3fc-a1f5-4807-8aae-8c4ee2fd05a7",
   "metadata": {},
   "outputs": [
    {
     "data": {
      "text/html": [
       "<div>\n",
       "<style scoped>\n",
       "    .dataframe tbody tr th:only-of-type {\n",
       "        vertical-align: middle;\n",
       "    }\n",
       "\n",
       "    .dataframe tbody tr th {\n",
       "        vertical-align: top;\n",
       "    }\n",
       "\n",
       "    .dataframe thead th {\n",
       "        text-align: right;\n",
       "    }\n",
       "</style>\n",
       "<table border=\"1\" class=\"dataframe\">\n",
       "  <thead>\n",
       "    <tr style=\"text-align: right;\">\n",
       "      <th></th>\n",
       "      <th>account</th>\n",
       "      <th>amount</th>\n",
       "      <th>vault_address</th>\n",
       "      <th>platform</th>\n",
       "    </tr>\n",
       "  </thead>\n",
       "  <tbody>\n",
       "    <tr>\n",
       "      <th>170</th>\n",
       "      <td>0xFf6A37C2fb94C3fB47CbeAB8053722084C546a32</td>\n",
       "      <td>0.45267</td>\n",
       "      <td>0xbaaf59e5572Ba0432D33Cd7bC09C1FDAA6393e0f</td>\n",
       "      <td>convex-frax-vault</td>\n",
       "    </tr>\n",
       "    <tr>\n",
       "      <th>171</th>\n",
       "      <td>0x8d64898e2f89e3Ca1fcD5684882812EB4960c985</td>\n",
       "      <td>0.19991</td>\n",
       "      <td>0xB5f32EbB40b7dE0fB73E1Da427B1047c8F5C3ee0</td>\n",
       "      <td>convex-frax-vault</td>\n",
       "    </tr>\n",
       "    <tr>\n",
       "      <th>172</th>\n",
       "      <td>0x5180db0237291A6449DdA9ed33aD90a38787621c</td>\n",
       "      <td>0.10000</td>\n",
       "      <td>None</td>\n",
       "      <td>convex-frax-no-vault</td>\n",
       "    </tr>\n",
       "    <tr>\n",
       "      <th>173</th>\n",
       "      <td>0x439Adfe7CD81d8f471C16528Dbc034F87Aceb599</td>\n",
       "      <td>0.02400</td>\n",
       "      <td>0xd1a2971C3E54A476D348a073e88b45EBF2C59e81</td>\n",
       "      <td>convex-frax-vault</td>\n",
       "    </tr>\n",
       "    <tr>\n",
       "      <th>174</th>\n",
       "      <td>0x439Adfe7CD81d8f471C16528Dbc034F87Aceb599</td>\n",
       "      <td>0.02000</td>\n",
       "      <td>None</td>\n",
       "      <td>convex-frax-no-vault</td>\n",
       "    </tr>\n",
       "  </tbody>\n",
       "</table>\n",
       "</div>"
      ],
      "text/plain": [
       "                                        account  amount  \\\n",
       "170  0xFf6A37C2fb94C3fB47CbeAB8053722084C546a32 0.45267   \n",
       "171  0x8d64898e2f89e3Ca1fcD5684882812EB4960c985 0.19991   \n",
       "172  0x5180db0237291A6449DdA9ed33aD90a38787621c 0.10000   \n",
       "173  0x439Adfe7CD81d8f471C16528Dbc034F87Aceb599 0.02400   \n",
       "174  0x439Adfe7CD81d8f471C16528Dbc034F87Aceb599 0.02000   \n",
       "\n",
       "                                  vault_address              platform  \n",
       "170  0xbaaf59e5572Ba0432D33Cd7bC09C1FDAA6393e0f     convex-frax-vault  \n",
       "171  0xB5f32EbB40b7dE0fB73E1Da427B1047c8F5C3ee0     convex-frax-vault  \n",
       "172                                        None  convex-frax-no-vault  \n",
       "173  0xd1a2971C3E54A476D348a073e88b45EBF2C59e81     convex-frax-vault  \n",
       "174                                        None  convex-frax-no-vault  "
      ]
     },
     "execution_count": 265,
     "metadata": {},
     "output_type": "execute_result"
    }
   ],
   "source": [
    "# Update table with vault info \n",
    "df_cvx_staking_frx['vault_address'] = df_cvx_staking_frx.account.apply(lambda a: a if a in vault_owners else None)\n",
    "mask_vault = ~df_cvx_staking_frx.vault_address.isna()\n",
    "df_cvx_staking_frx.loc[mask_vault, 'account'] = df_cvx_staking_frx.loc[mask_vault].account.apply(lambda a: vault_owners[a])\n",
    "assert all(df_cvx_staking_frx.loc[mask_vault].account != df_cvx_staking_frx.loc[mask_vault].vault_address)\n",
    "\n",
    "# Add in platform information \n",
    "df_cvx_staking_frx['platform'] = 'convex-frax-no-vault'\n",
    "df_cvx_staking_frx.loc[~df_cvx_staking_frx.vault_address.isna(), 'platform'] = 'convex-frax-vault'\n",
    "df_cvx_staking_frx.tail()"
   ]
  },
  {
   "cell_type": "code",
   "execution_count": 267,
   "id": "7e028375-94c2-465d-b7a7-8a29fa64e52a",
   "metadata": {},
   "outputs": [
    {
     "name": "stdout",
     "output_type": "stream",
     "text": [
      "Convex vault staking of stkfrxethCRV-frax: 25714.04529343668\n",
      "Convex non-vault staking of stkfrxethCRV-frax: 1534.7527257705437\n",
      "Total: 27248.798019207225\n"
     ]
    }
   ],
   "source": [
    "stake_vault = df_cvx_staking_frx.loc[~df_cvx_staking_frx.vault_address.isna()].amount.sum()\n",
    "stake_no_vault = df_cvx_staking_frx.loc[df_cvx_staking_frx.vault_address.isna()].amount.sum()\n",
    "print(f\"Convex vault staking of stkfrxethCRV-frax: {stake_vault}\")\n",
    "print(f\"Convex non-vault staking of stkfrxethCRV-frax: {stake_no_vault}\")\n",
    "print(f\"Total: {stake_no_vault + stake_vault}\")"
   ]
  },
  {
   "cell_type": "code",
   "execution_count": 268,
   "id": "075404dc-18a8-4779-bc6f-24962ca053c6",
   "metadata": {},
   "outputs": [],
   "source": [
    "contract_frax_farm = w3.eth.contract(\n",
    "    Web3.toChecksumAddress(ADDRESS_FRAX_FARM_stkcvxfrxETHETH), \n",
    "    abi=etherscan.get_contract_abi(Web3.toChecksumAddress(ADDRESS_FRAX_FARM_stkcvxfrxETHETH))\n",
    ")"
   ]
  },
  {
   "cell_type": "code",
   "execution_count": 292,
   "id": "7330231c-a849-4e85-aa3f-722e2123e7ec",
   "metadata": {},
   "outputs": [
    {
     "name": "stderr",
     "output_type": "stream",
     "text": [
      "/opt/miniconda3/envs/frax-bribes/lib/python3.10/site-packages/eth_abi/codec.py:191: DeprecationWarning: abi.decode_abi() is deprecated and will be removed in version 4.0.0 in favor of abi.decode()\n",
      "  warnings.warn(\n",
      "/opt/miniconda3/envs/frax-bribes/lib/python3.10/site-packages/eth_abi/codec.py:164: DeprecationWarning: abi.decode_single() is deprecated and will be removed in version 4.0.0 in favor of abi.decode()\n",
      "  warnings.warn(\n"
     ]
    }
   ],
   "source": [
    "deposits = contract_frax_farm.events.StakeLocked.getLogs(fromBlock=0)\n",
    "withdrawals = contract_frax_farm.events.WithdrawLocked.getLogs(fromBlock=0)\n",
    "locked_additional = contract_frax_farm.events.LockedAdditional.getLogs(fromBlock=0)"
   ]
  },
  {
   "cell_type": "code",
   "execution_count": 301,
   "id": "8648c942-91b0-409b-b1ed-17379213fda1",
   "metadata": {},
   "outputs": [
    {
     "name": "stdout",
     "output_type": "stream",
     "text": [
      "this user has a managed vault through convex.\n"
     ]
    }
   ],
   "source": [
    "# TODO: The convex staking proxy interacts with the frax farm contract \n",
    "# We can use the source address to determine which deposits into the farm contract come from users of \n",
    "# convex vs. individuals depositing directly through frax. \n",
    "\n",
    "for d in deposits:\n",
    "    if d.args['source_address'].lower() in [e.lower() if e else e for e in df_cvx_staking_frx.vault_address.unique().tolist()]:\n",
    "        print(\"this user has a managed vault through convex.\")\n",
    "        break"
   ]
  },
  {
   "cell_type": "code",
   "execution_count": 279,
   "id": "0e7c35f4-73c2-4d7d-8946-02132b8dd4df",
   "metadata": {},
   "outputs": [],
   "source": [
    "deposits = [{'account': d.args['user'], 'amount': d.args['amount'] / 1e18} for d in deposits + locked_additional]\n",
    "withdrawals = [{'account': d.args['user'], 'amount': -d.args['liquidity'] / 1e18} for d in withdrawals]"
   ]
  },
  {
   "cell_type": "code",
   "execution_count": 283,
   "id": "e4684d36-9e60-4d2d-b91a-124c3e1b42ce",
   "metadata": {},
   "outputs": [
    {
     "data": {
      "text/plain": [
       "27248.745322200648"
      ]
     },
     "execution_count": 283,
     "metadata": {},
     "output_type": "execute_result"
    }
   ],
   "source": [
    "df_frax_farm = pd.DataFrame(deposits + withdrawals)\n",
    "df_frax_farm.amount.sum()\n",
    "# print(df_frax_farm.loc[df_frax_farm.account.str.lower().isin([\n",
    "#     e.lower() for e in df_cvx_staking_frx.loc[df_cvx_staking_frx.vault_address.isna()].account.unique()\n",
    "# ])].amount.sum())\n",
    "# ddf(df_frax_farm.groupby('account').amount.sum().reset_index().sort_values('amount'))"
   ]
  },
  {
   "cell_type": "code",
   "execution_count": 285,
   "id": "1d7196f3-277c-4d7d-8662-070e82e426ea",
   "metadata": {},
   "outputs": [
    {
     "name": "stdout",
     "output_type": "stream",
     "text": [
      "25714.04529343668 1534.7527257705437 27248.798019207225\n"
     ]
    }
   ],
   "source": [
    "a=df_cvx_staking_frx.loc[~df_cvx_staking_frx.vault_address.isna()].amount.sum()\n",
    "b=df_cvx_staking_frx.loc[df_cvx_staking_frx.vault_address.isna()].amount.sum()\n",
    "print(a, b, a+b)"
   ]
  },
  {
   "cell_type": "code",
   "execution_count": 188,
   "id": "4596316b-2719-48dd-8f11-7288210cb0b9",
   "metadata": {},
   "outputs": [
    {
     "data": {
      "text/html": [
       "<div>\n",
       "<style scoped>\n",
       "    .dataframe tbody tr th:only-of-type {\n",
       "        vertical-align: middle;\n",
       "    }\n",
       "\n",
       "    .dataframe tbody tr th {\n",
       "        vertical-align: top;\n",
       "    }\n",
       "\n",
       "    .dataframe thead th {\n",
       "        text-align: right;\n",
       "    }\n",
       "</style>\n",
       "<table border=\"1\" class=\"dataframe\">\n",
       "  <thead>\n",
       "    <tr style=\"text-align: right;\">\n",
       "      <th></th>\n",
       "      <th>account</th>\n",
       "      <th>amount</th>\n",
       "      <th>vault_address</th>\n",
       "      <th>platform</th>\n",
       "    </tr>\n",
       "  </thead>\n",
       "  <tbody>\n",
       "    <tr>\n",
       "      <th>105</th>\n",
       "      <td>0x4E2572d9161Fc58743A4622046Ca30a1fB538670</td>\n",
       "      <td>22.50</td>\n",
       "      <td>None</td>\n",
       "      <td>convex-frax-no-vault</td>\n",
       "    </tr>\n",
       "  </tbody>\n",
       "</table>\n",
       "</div>"
      ],
      "text/plain": [
       "                                        account  amount vault_address  \\\n",
       "105  0x4E2572d9161Fc58743A4622046Ca30a1fB538670   22.50          None   \n",
       "\n",
       "                 platform  \n",
       "105  convex-frax-no-vault  "
      ]
     },
     "execution_count": 188,
     "metadata": {},
     "output_type": "execute_result"
    }
   ],
   "source": [
    "dave = '0x4E2572d9161Fc58743A4622046Ca30a1fB538670'.lower()\n",
    "df_cvx_staking_frx.loc[df_cvx_staking_frx.account.str.lower() == dave]"
   ]
  },
  {
   "cell_type": "code",
   "execution_count": null,
   "id": "d54ec9bb-6ca0-401d-9ff9-79e53b957b16",
   "metadata": {},
   "outputs": [],
   "source": [
    "# Ensure that the holdings of stkfrxETHCRV-frax by the convex frax staking wrapper are the same (computed in two ways) \n",
    "# 1. Convex curve pools subgraph - aggregating convex gauge deposits and withdawals by address. \n",
    "# 2. Event logs for convex frax staking wrapper - aggregating deposits and withdrawals by address\n",
    "# These numbers should be really close but sometimes might differ due to subgraph indexing speed. \n",
    "stkcvxfrxethcrv_1 = df.loc[df.account == address_convex_staking_wrapper_frax.lower()]['amount'].values.tolist()[0]\n",
    "stkcvxfrxethcrv_2 = df_cvx_staking_frx.amount.sum()\n",
    "print(f\"Convex stkfrxETHCRV-frax (convex curve staking): {stkcvxfrxethcrv_1}\")\n",
    "print(f\"Convex stkfrxETHCRV-frax (convex frax staking): {stkcvxfrxethcrv_2}\")\n",
    "np.testing.assert_almost_equal(stkcvxfrxethcrv_1, stkcvxfrxethcrv_2, 10)"
   ]
  },
  {
   "cell_type": "code",
   "execution_count": null,
   "id": "30f82c6a-6fcf-436b-8ad8-077c17a2be3e",
   "metadata": {},
   "outputs": [],
   "source": [
    "df.head(1)"
   ]
  },
  {
   "cell_type": "code",
   "execution_count": null,
   "id": "5e9e9033-0e33-4ac1-9486-d55d11aaa14d",
   "metadata": {},
   "outputs": [],
   "source": [
    "df_cvx_staking_frx.head(1)"
   ]
  },
  {
   "cell_type": "code",
   "execution_count": null,
   "id": "fd90fdd0-862b-41a2-b497-7dd6c75fecaa",
   "metadata": {},
   "outputs": [],
   "source": [
    "df_no_stkcvxfrxeth = df.loc[df.account != address_convex_staking_wrapper_frax.lower()]\n",
    "assert len(df) == 1 + len(df_no_stkcvxfrxeth)\n",
    "df_final = pd.concat([df_no_stkcvxfrxeth, df_cvx_staking_frx[['account', 'platform', 'amount']]])\n",
    "df_final.account = df_final.account.str.lower()\n",
    "df_final = (\n",
    "    df_final\n",
    "    .groupby(['account', 'platform'])['amount'].sum().reset_index()\n",
    "    .sort_values('amount', ascending=False).reset_index(drop=True)\n",
    ")\n",
    "# This amount should match the amount held in the gauge for this curve pool. Check this value here: \n",
    "# https://etherscan.io/token/0xf43211935c781d5ca1a41d2041f397b8a7366c7a#balances\n",
    "computed = df_final.amount.sum()\n",
    "actual = get_account_balance_of_erc20(ADDRESS_frxETHCRV_GAUGE_DEPOSIT, ADDRESS_frxETHCRV) \n",
    "np.testing.assert_almost_equal(actual, computed, decimal=10)\n",
    "df_final.head()"
   ]
  },
  {
   "cell_type": "code",
   "execution_count": null,
   "id": "156ea985-cc45-42db-938b-b90ab1f3f3e8",
   "metadata": {},
   "outputs": [],
   "source": [
    "display(HTML((\n",
    "    alt.Chart(df_final.groupby('platform')['amount'].sum().reset_index())\n",
    "    .transform_joinaggregate(amount_total=\"sum(amount)\")\n",
    "    .transform_calculate(fraction=\"datum.amount / datum.amount_total\")\n",
    "    .mark_arc()\n",
    "    .encode(\n",
    "        theta=\"amount:Q\", \n",
    "        color=\"platform:N\", \n",
    "        tooltip=[\n",
    "            alt.Tooltip(\"platform:N\"), \n",
    "            alt.Tooltip(\"amount:Q\", format=\",d\", title=\"frxETHCRV\"),\n",
    "            alt.Tooltip(\"fraction:Q\", format=\".1%\", title=\"Share\"),\n",
    "        ]\n",
    "    )\n",
    ").to_html()))"
   ]
  },
  {
   "cell_type": "code",
   "execution_count": null,
   "id": "18eaafc6-0ee6-4b5d-9db1-77048ef482db",
   "metadata": {},
   "outputs": [],
   "source": [
    "df_final.head()"
   ]
  },
  {
   "cell_type": "code",
   "execution_count": null,
   "id": "1f09fc18-42e4-4b33-894f-35866ec1a641",
   "metadata": {},
   "outputs": [],
   "source": [
    "# pd.set_option('display.float_format', lambda x: '%.2f' % x)\n",
    "d = (\n",
    "    df_final.loc[df_final.amount != 0]\n",
    "    .pivot(index=\"account\", columns=\"platform\", values=\"amount\")\n",
    "    .reset_index().rename_axis(None, axis=1)\n",
    "    .fillna(0)\n",
    ")\n",
    "value_cols = [c for c in d.columns if c != 'account']\n",
    "d['amount_total'] = d[value_cols].sum(axis=1)\n",
    "d = d.sort_values('amount_total', ascending=False).reset_index(drop=True)\n",
    "ddf(d)"
   ]
  },
  {
   "cell_type": "code",
   "execution_count": null,
   "id": "265038e1-cc4d-4fc0-af70-69e5a669eb04",
   "metadata": {},
   "outputs": [],
   "source": []
  }
 ],
 "metadata": {
  "kernelspec": {
   "display_name": "frax-bribes",
   "language": "python",
   "name": "frax-bribes"
  },
  "language_info": {
   "codemirror_mode": {
    "name": "ipython",
    "version": 3
   },
   "file_extension": ".py",
   "mimetype": "text/x-python",
   "name": "python",
   "nbconvert_exporter": "python",
   "pygments_lexer": "ipython3",
   "version": "3.10.6"
  }
 },
 "nbformat": 4,
 "nbformat_minor": 5
}
