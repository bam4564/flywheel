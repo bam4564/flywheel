{
 "cells": [
  {
   "cell_type": "code",
   "execution_count": 122,
   "id": "1abbe31e-72e0-4933-9c80-527bf56f22f2",
   "metadata": {},
   "outputs": [
    {
     "data": {
      "text/plain": [
       "DataTransformerRegistry.enable('default')"
      ]
     },
     "execution_count": 122,
     "metadata": {},
     "output_type": "execute_result"
    }
   ],
   "source": [
    "import json \n",
    "import os\n",
    "import logging \n",
    "import concurrent \n",
    "import asyncio \n",
    "import re \n",
    "import requests \n",
    "\n",
    "from collections import deque \n",
    "from itertools import chain \n",
    "# from datetime import date, datetime \n",
    "\n",
    "from typing import List \n",
    "from pprint import PrettyPrinter\n",
    "\n",
    "from subgrounds import Subgrounds\n",
    "from palettable.tableau import Tableau_20\n",
    "from palettable.mycarta import Cube1_4, Cube1_8\n",
    "from subgrounds.pagination import ShallowStrategy\n",
    "from IPython.display import HTML, display\n",
    "from web3 import Web3\n",
    "from functools import partial \n",
    "from concurrent.futures import ThreadPoolExecutor\n",
    "\n",
    "# apis / networking \n",
    "from gql import gql, Client\n",
    "from gql.transport.aiohttp import AIOHTTPTransport\n",
    "from etherscan import Etherscan\n",
    "from pycoingecko import CoinGeckoAPI\n",
    "\n",
    "import pandas as pd \n",
    "import numpy as np \n",
    "import altair as alt \n",
    "import missingno as miss\n",
    "\n",
    "# logging.basicConfig(level=logging.INFO)\n",
    "\n",
    "# TODO: Figure out how this frax subgraph is useful\n",
    "# https://api.thegraph.com/subgraphs/name/frax-finance-data/fraxbp-subgraph/graphql\n",
    "\n",
    "pp = PrettyPrinter().pprint\n",
    "\n",
    "alt.data_transformers.disable_max_rows()"
   ]
  },
  {
   "cell_type": "code",
   "execution_count": 123,
   "id": "607683e0-16d1-449d-8b76-730475e0eee8",
   "metadata": {},
   "outputs": [],
   "source": [
    "colors_24 = Tableau_20.hex_colors + Cube1_4.hex_colors\n",
    "colors_28 = Tableau_20.hex_colors + Cube1_8.hex_colors"
   ]
  },
  {
   "cell_type": "code",
   "execution_count": 124,
   "id": "e02d8fcf-aeac-4d94-8da1-0e8db63c664e",
   "metadata": {},
   "outputs": [],
   "source": [
    "URL_INFURA = 'https://mainnet.infura.io/v3/856c3834f317452a82e25bb06e04de18'\n",
    "w3 = Web3(Web3.HTTPProvider(URL_INFURA))\n",
    "cg = CoinGeckoAPI()"
   ]
  },
  {
   "cell_type": "code",
   "execution_count": 220,
   "id": "018fd00b-6afa-44c9-ac8c-9eab099f46de",
   "metadata": {},
   "outputs": [],
   "source": [
    "def ddf(df):\n",
    "    display(HTML(df.to_html()))\n",
    "    \n",
    "    \n",
    "def remove_prefix(df: pd.DataFrame, prefix: str):\n",
    "    # Remove a prefix from all columns \n",
    "    col_map = {}\n",
    "    for i, c in enumerate(df.columns): \n",
    "        if c.startswith(prefix): \n",
    "            col_map[c] = c[len(prefix):]\n",
    "    df = df.rename(columns=col_map) \n",
    "    return df \n",
    "\n",
    "def remove_prefixes(df: pd.DataFrame, prefixes: List[str]):\n",
    "    for p in prefixes: \n",
    "        df = remove_prefix(df, p)\n",
    "    return df \n",
    "\n",
    "def query_attrs(query, attrs):\n",
    "    qattrs = []\n",
    "    for a in attrs: \n",
    "        if '.' in a: \n",
    "            # nested\n",
    "            v = None \n",
    "            for p in a.split('.'): \n",
    "                v = getattr(query, p) if v is None else getattr(v, p) \n",
    "            qattrs.append(v) \n",
    "        else: \n",
    "            # non-nested \n",
    "            qattrs.append(getattr(query, a)) \n",
    "    return sg.query_df(qattrs, pagination_strategy=ShallowStrategy) \n",
    "\n",
    "def camel_to_snake(name):\n",
    "    name = re.sub('(.)([A-Z][a-z]+)', r'\\1_\\2', name)\n",
    "    return re.sub('([a-z0-9])([A-Z])', r'\\1_\\2', name).lower()\n",
    "\n",
    "def df_cols_camel_to_snake(df):\n",
    "    col_map = {c: camel_to_snake(c) for c in df.columns}\n",
    "    df = df.rename(columns=col_map) \n",
    "    return df \n",
    "\n",
    "def df_cols_change_prefix(df, prefix_cur, prefix_new):\n",
    "    col_map = {}\n",
    "    for c in df.columns: \n",
    "        if c.startswith(prefix_cur): \n",
    "            col_map[c] = prefix_new + c[len(prefix_cur):]\n",
    "    df = df.rename(columns=col_map) \n",
    "    return df "
   ]
  },
  {
   "cell_type": "code",
   "execution_count": 221,
   "id": "6622f354-56f6-4677-9834-b86d1c0bab63",
   "metadata": {},
   "outputs": [],
   "source": [
    "URL_CURVE_POOLS = 'https://api.thegraph.com/subgraphs/name/convex-community/curve-pools'\n",
    "URL_CURVE_DAO = 'https://api.thegraph.com/subgraphs/name/convex-community/curve-dao'\n",
    "\n",
    "ADDRESS_FRXETHCRV_GAUGE = '0x2932a86df44fe8d2a706d8e9c5d51c24883423f5'.lower()\n",
    "ADDRESS_CONVEX_VOTER_PROXY = '0x989aeb4d175e16225e39e87d0d97a3360524ad80'.lower()\n",
    "ADDRESS_CURVE_POOL_FRXETH_ETH = '0xa1f8a6807c402e4a15ef4eba36528a3fed24e577'.lower()"
   ]
  },
  {
   "cell_type": "code",
   "execution_count": 127,
   "id": "7737badc-bf84-4290-9f86-705031cd8882",
   "metadata": {},
   "outputs": [],
   "source": [
    "# Instantiate the client with an endpoint.\n",
    "sg = Subgrounds()\n",
    "\n",
    "# votium_bribes = sg.load_subgraph(URL_VOTIUM) \n",
    "sg_curve_pools = sg.load_subgraph(URL_CURVE_POOLS)\n",
    "sg_curve_dao = sg.load_subgraph(URL_CURVE_DAO) "
   ]
  },
  {
   "cell_type": "code",
   "execution_count": 148,
   "id": "8877365e-1487-4c3d-b535-62c7c7ec9e9d",
   "metadata": {},
   "outputs": [],
   "source": [
    "qattrs = ['id', 'provider', 'value']\n",
    "# deposits into gauge \n",
    "df_deposits = query_attrs(\n",
    "    sg_curve_dao.Query.gaugeDeposits(first=100000, where={'gauge': ADDRESS_FRXETHCRV_GAUGE}), qattrs\n",
    ")\n",
    "df_deposits = remove_prefix(df_deposits, 'gaugeDeposits_') \n",
    "# withdawals from gauge \n",
    "df_withdraws = query_attrs(\n",
    "    sg_curve_dao.Query.gaugeWithdraws(first=100000, where={'gauge': ADDRESS_FRXETHCRV_GAUGE}), qattrs\n",
    ")\n",
    "df_withdraws = remove_prefix(df_withdraws, 'gaugeWithdraws_') \n",
    "df_withdraws.value *= -1\n",
    "# Current deposited amount per address within gauge \n",
    "df_curve = pd.concat([df_deposits, df_withdraws])\n",
    "df_curve = df_curve.groupby('provider')['value'].sum().reset_index()\n",
    "df_curve = df_curve.loc[df_curve.value != 0].sort_values('value', ascending=False).reset_index(drop=True)\n",
    "df_curve['platform'] = 'curve-gauge'\n",
    "df_curve.value /= 1e18"
   ]
  },
  {
   "cell_type": "code",
   "execution_count": 149,
   "id": "78f2de3d-9cc0-4db0-ba5d-72213c86c7ac",
   "metadata": {},
   "outputs": [
    {
     "name": "stdout",
     "output_type": "stream",
     "text": [
      "Number of frxETHCRV deposited in curve gauge: 32,958.0\n",
      "Number of frxETHCRV staked on convex: 30,383.6\n",
      "Percent of frxETHCRV staked on convex: 92.188858%\n"
     ]
    },
    {
     "data": {
      "text/html": [
       "<div>\n",
       "<style scoped>\n",
       "    .dataframe tbody tr th:only-of-type {\n",
       "        vertical-align: middle;\n",
       "    }\n",
       "\n",
       "    .dataframe tbody tr th {\n",
       "        vertical-align: top;\n",
       "    }\n",
       "\n",
       "    .dataframe thead th {\n",
       "        text-align: right;\n",
       "    }\n",
       "</style>\n",
       "<table border=\"1\" class=\"dataframe\">\n",
       "  <thead>\n",
       "    <tr style=\"text-align: right;\">\n",
       "      <th></th>\n",
       "      <th>provider</th>\n",
       "      <th>value</th>\n",
       "      <th>platform</th>\n",
       "    </tr>\n",
       "  </thead>\n",
       "  <tbody>\n",
       "    <tr>\n",
       "      <th>0</th>\n",
       "      <td>0x989aeb4d175e16225e39e87d0d97a3360524ad80</td>\n",
       "      <td>30383.619706</td>\n",
       "      <td>curve-gauge</td>\n",
       "    </tr>\n",
       "    <tr>\n",
       "      <th>1</th>\n",
       "      <td>0x9026a229b535ecf0162dfe48fdeb3c75f7b2a7ae</td>\n",
       "      <td>2047.814958</td>\n",
       "      <td>curve-gauge</td>\n",
       "    </tr>\n",
       "    <tr>\n",
       "      <th>2</th>\n",
       "      <td>0x10e3085127c9bd92ab325f8d1f65cdcec2436149</td>\n",
       "      <td>199.879798</td>\n",
       "      <td>curve-gauge</td>\n",
       "    </tr>\n",
       "    <tr>\n",
       "      <th>3</th>\n",
       "      <td>0x29f227b10c58457d8837031c813216de82f9abaf</td>\n",
       "      <td>102.939595</td>\n",
       "      <td>curve-gauge</td>\n",
       "    </tr>\n",
       "    <tr>\n",
       "      <th>4</th>\n",
       "      <td>0x73e47e110dd251bd6449381724f2bb51c11b14bc</td>\n",
       "      <td>43.367171</td>\n",
       "      <td>curve-gauge</td>\n",
       "    </tr>\n",
       "  </tbody>\n",
       "</table>\n",
       "</div>"
      ],
      "text/plain": [
       "                                     provider         value     platform\n",
       "0  0x989aeb4d175e16225e39e87d0d97a3360524ad80  30383.619706  curve-gauge\n",
       "1  0x9026a229b535ecf0162dfe48fdeb3c75f7b2a7ae   2047.814958  curve-gauge\n",
       "2  0x10e3085127c9bd92ab325f8d1f65cdcec2436149    199.879798  curve-gauge\n",
       "3  0x29f227b10c58457d8837031c813216de82f9abaf    102.939595  curve-gauge\n",
       "4  0x73e47e110dd251bd6449381724f2bb51c11b14bc     43.367171  curve-gauge"
      ]
     },
     "execution_count": 149,
     "metadata": {},
     "output_type": "execute_result"
    }
   ],
   "source": [
    "# TODO: we ignore circulating for now since that's a very small sum \n",
    "frxethCRV_curve_gauge = df_curve.value.sum()\n",
    "frxethCRV_convex = df_curve.loc[df_curve.provider == ADDRESS_CONVEX_VOTER_PROXY].value.sum()\n",
    "print(f\"Number of frxETHCRV deposited in curve gauge: {frxethCRV_curve_gauge:,.1f}\")\n",
    "print(f\"Number of frxETHCRV staked on convex: {frxethCRV_convex:,.1f}\")\n",
    "print(f\"Percent of frxETHCRV staked on convex: {frxethCRV_convex / frxethCRV_curve_gauge:%}\")\n",
    "df_curve.head()"
   ]
  },
  {
   "cell_type": "code",
   "execution_count": 161,
   "id": "d21a35ef-e136-4d91-adaf-f4927d87f0c6",
   "metadata": {},
   "outputs": [
    {
     "data": {
      "text/html": [
       "<div>\n",
       "<style scoped>\n",
       "    .dataframe tbody tr th:only-of-type {\n",
       "        vertical-align: middle;\n",
       "    }\n",
       "\n",
       "    .dataframe tbody tr th {\n",
       "        vertical-align: top;\n",
       "    }\n",
       "\n",
       "    .dataframe thead th {\n",
       "        text-align: right;\n",
       "    }\n",
       "</style>\n",
       "<table border=\"1\" class=\"dataframe\">\n",
       "  <thead>\n",
       "    <tr style=\"text-align: right;\">\n",
       "      <th></th>\n",
       "      <th>id</th>\n",
       "      <th>amount</th>\n",
       "      <th>timestamp</th>\n",
       "      <th>account</th>\n",
       "      <th>platform</th>\n",
       "    </tr>\n",
       "  </thead>\n",
       "  <tbody>\n",
       "    <tr>\n",
       "      <th>0</th>\n",
       "      <td>0x007562ec43ffc63894d5b30e812bd65858605829090a...</td>\n",
       "      <td>1.019416</td>\n",
       "      <td>1669427219</td>\n",
       "      <td>0x0f903834187d37ff29dc2d607dd9fb50eb36b2b5</td>\n",
       "      <td>convex-curve</td>\n",
       "    </tr>\n",
       "    <tr>\n",
       "      <th>1</th>\n",
       "      <td>0x012a7730ff93a15624d92a94a9a8a5fa9ab8e2ff7b28...</td>\n",
       "      <td>6.79953</td>\n",
       "      <td>1668665207</td>\n",
       "      <td>0x4659d5ff63a1e1edd6d5dd9cc315e063c95947d0</td>\n",
       "      <td>convex-curve</td>\n",
       "    </tr>\n",
       "    <tr>\n",
       "      <th>2</th>\n",
       "      <td>0x01d17a19490fc0bbc90d695152c9d60cbd071f40fba6...</td>\n",
       "      <td>199.860807</td>\n",
       "      <td>1668970739</td>\n",
       "      <td>0x4659d5ff63a1e1edd6d5dd9cc315e063c95947d0</td>\n",
       "      <td>convex-curve</td>\n",
       "    </tr>\n",
       "    <tr>\n",
       "      <th>3</th>\n",
       "      <td>0x01d5801d769773d6fa0722668f1c8fcbf13f2e425c93...</td>\n",
       "      <td>10.0</td>\n",
       "      <td>1669056719</td>\n",
       "      <td>0x4659d5ff63a1e1edd6d5dd9cc315e063c95947d0</td>\n",
       "      <td>convex-curve</td>\n",
       "    </tr>\n",
       "    <tr>\n",
       "      <th>4</th>\n",
       "      <td>0x03a493a4bcefca190cf3fe4c95d3564c9f262c43ec3f...</td>\n",
       "      <td>533.486109</td>\n",
       "      <td>1667486183</td>\n",
       "      <td>0x5a40ab806a038afe9c4ef413d36b6356a5e4d2c5</td>\n",
       "      <td>convex-curve</td>\n",
       "    </tr>\n",
       "  </tbody>\n",
       "</table>\n",
       "</div>"
      ],
      "text/plain": [
       "                                                  id      amount   timestamp  \\\n",
       "0  0x007562ec43ffc63894d5b30e812bd65858605829090a...    1.019416  1669427219   \n",
       "1  0x012a7730ff93a15624d92a94a9a8a5fa9ab8e2ff7b28...     6.79953  1668665207   \n",
       "2  0x01d17a19490fc0bbc90d695152c9d60cbd071f40fba6...  199.860807  1668970739   \n",
       "3  0x01d5801d769773d6fa0722668f1c8fcbf13f2e425c93...        10.0  1669056719   \n",
       "4  0x03a493a4bcefca190cf3fe4c95d3564c9f262c43ec3f...  533.486109  1667486183   \n",
       "\n",
       "                                      account      platform  \n",
       "0  0x0f903834187d37ff29dc2d607dd9fb50eb36b2b5  convex-curve  \n",
       "1  0x4659d5ff63a1e1edd6d5dd9cc315e063c95947d0  convex-curve  \n",
       "2  0x4659d5ff63a1e1edd6d5dd9cc315e063c95947d0  convex-curve  \n",
       "3  0x4659d5ff63a1e1edd6d5dd9cc315e063c95947d0  convex-curve  \n",
       "4  0x5a40ab806a038afe9c4ef413d36b6356a5e4d2c5  convex-curve  "
      ]
     },
     "execution_count": 161,
     "metadata": {},
     "output_type": "execute_result"
    }
   ],
   "source": [
    "qattrs = ['id', 'amount', 'timestamp', 'user.address']\n",
    "# deposits into the convex staking contract for curve lp tokens \n",
    "q_deposits = sg_curve_pools.Query.deposits(first=100000, where={'poolid_': {'swap': ADDRESS_CURVE_POOL_FRXETH_ETH}})\n",
    "df_deposits = query_attrs(q_deposits, qattrs)\n",
    "df_deposits = remove_prefix(df_deposits, 'deposits_') \n",
    "# withdrawals from the convex staking contract for curve lp tokens \n",
    "q_withdrawals = sg_curve_pools.Query.withdrawals(first=100000, where={'poolid_': {'swap': ADDRESS_CURVE_POOL_FRXETH_ETH}})\n",
    "df_withdrawals = query_attrs(q_withdrawals, qattrs)\n",
    "df_withdrawals = remove_prefix(df_withdrawals, 'withdrawals_') \n",
    "df_withdrawals.amount *= -1\n",
    "# current deposited amount per account in convex staking contract for curve lp tokens \n",
    "df_convex = pd.concat([df_deposits, df_withdrawals])\n",
    "df_convex.amount /= 1e18\n",
    "df_convex['platform'] = 'convex-curve'\n",
    "df_convex = df_convex.rename(columns={'user_address': 'account'})\n",
    "df_convex.head()"
   ]
  },
  {
   "cell_type": "code",
   "execution_count": 162,
   "id": "8767b871-14f6-47be-b4e1-2251707cd298",
   "metadata": {},
   "outputs": [
    {
     "name": "stdout",
     "output_type": "stream",
     "text": [
      "Convex frxETHCRV (convex staking): 30383.61970627547\n",
      "Convex frxETHCRV (curve gauge): 30383.61970627549\n"
     ]
    }
   ],
   "source": [
    "# These numbers should be really close but sometimes might differ due to subgraph indexing speed. \n",
    "convex_frxethcrv_1 = df_convex.amount.sum()\n",
    "convex_frxethcrv_2 = df_curve.loc[df_curve.provider == ADDRESS_CONVEX_VOTER_PROXY]['value'].values.tolist()[0]\n",
    "print(f\"Convex frxETHCRV (convex staking): {convex_frxethcrv_1}\")\n",
    "print(f\"Convex frxETHCRV (curve gauge): {convex_frxethcrv_2}\")\n",
    "np.testing.assert_almost_equal(convex_frxethcrv_1, convex_frxethcrv_2, 10)"
   ]
  },
  {
   "cell_type": "code",
   "execution_count": 163,
   "id": "1e86091a-406d-4c3e-81e0-cecf9bf6cd70",
   "metadata": {},
   "outputs": [
    {
     "data": {
      "text/html": [
       "<div>\n",
       "<style scoped>\n",
       "    .dataframe tbody tr th:only-of-type {\n",
       "        vertical-align: middle;\n",
       "    }\n",
       "\n",
       "    .dataframe tbody tr th {\n",
       "        vertical-align: top;\n",
       "    }\n",
       "\n",
       "    .dataframe thead th {\n",
       "        text-align: right;\n",
       "    }\n",
       "</style>\n",
       "<table border=\"1\" class=\"dataframe\">\n",
       "  <thead>\n",
       "    <tr style=\"text-align: right;\">\n",
       "      <th></th>\n",
       "      <th>provider</th>\n",
       "      <th>value</th>\n",
       "      <th>platform</th>\n",
       "    </tr>\n",
       "  </thead>\n",
       "  <tbody>\n",
       "    <tr>\n",
       "      <th>0</th>\n",
       "      <td>0x989aeb4d175e16225e39e87d0d97a3360524ad80</td>\n",
       "      <td>30383.619706</td>\n",
       "      <td>curve-gauge</td>\n",
       "    </tr>\n",
       "  </tbody>\n",
       "</table>\n",
       "</div>"
      ],
      "text/plain": [
       "                                     provider         value     platform\n",
       "0  0x989aeb4d175e16225e39e87d0d97a3360524ad80  30383.619706  curve-gauge"
      ]
     },
     "execution_count": 163,
     "metadata": {},
     "output_type": "execute_result"
    }
   ],
   "source": [
    "df_curve.head(1)"
   ]
  },
  {
   "cell_type": "code",
   "execution_count": 164,
   "id": "8d09011b-2964-4304-b808-cc7068bb8f12",
   "metadata": {},
   "outputs": [
    {
     "data": {
      "text/html": [
       "<div>\n",
       "<style scoped>\n",
       "    .dataframe tbody tr th:only-of-type {\n",
       "        vertical-align: middle;\n",
       "    }\n",
       "\n",
       "    .dataframe tbody tr th {\n",
       "        vertical-align: top;\n",
       "    }\n",
       "\n",
       "    .dataframe thead th {\n",
       "        text-align: right;\n",
       "    }\n",
       "</style>\n",
       "<table border=\"1\" class=\"dataframe\">\n",
       "  <thead>\n",
       "    <tr style=\"text-align: right;\">\n",
       "      <th></th>\n",
       "      <th>id</th>\n",
       "      <th>amount</th>\n",
       "      <th>timestamp</th>\n",
       "      <th>account</th>\n",
       "      <th>platform</th>\n",
       "    </tr>\n",
       "  </thead>\n",
       "  <tbody>\n",
       "    <tr>\n",
       "      <th>0</th>\n",
       "      <td>0x007562ec43ffc63894d5b30e812bd65858605829090a...</td>\n",
       "      <td>1.019416</td>\n",
       "      <td>1669427219</td>\n",
       "      <td>0x0f903834187d37ff29dc2d607dd9fb50eb36b2b5</td>\n",
       "      <td>convex-curve</td>\n",
       "    </tr>\n",
       "  </tbody>\n",
       "</table>\n",
       "</div>"
      ],
      "text/plain": [
       "                                                  id    amount   timestamp  \\\n",
       "0  0x007562ec43ffc63894d5b30e812bd65858605829090a...  1.019416  1669427219   \n",
       "\n",
       "                                      account      platform  \n",
       "0  0x0f903834187d37ff29dc2d607dd9fb50eb36b2b5  convex-curve  "
      ]
     },
     "execution_count": 164,
     "metadata": {},
     "output_type": "execute_result"
    }
   ],
   "source": [
    "df_convex.head(1)"
   ]
  },
  {
   "cell_type": "code",
   "execution_count": 165,
   "id": "f6ef64bd-2904-4dbb-bfda-ac9c003f6136",
   "metadata": {},
   "outputs": [
    {
     "name": "stdout",
     "output_type": "stream",
     "text": [
      "32958.017308339935\n"
     ]
    },
    {
     "data": {
      "text/html": [
       "<div>\n",
       "<style scoped>\n",
       "    .dataframe tbody tr th:only-of-type {\n",
       "        vertical-align: middle;\n",
       "    }\n",
       "\n",
       "    .dataframe tbody tr th {\n",
       "        vertical-align: top;\n",
       "    }\n",
       "\n",
       "    .dataframe thead th {\n",
       "        text-align: right;\n",
       "    }\n",
       "</style>\n",
       "<table border=\"1\" class=\"dataframe\">\n",
       "  <thead>\n",
       "    <tr style=\"text-align: right;\">\n",
       "      <th></th>\n",
       "      <th>account</th>\n",
       "      <th>platform</th>\n",
       "      <th>amount</th>\n",
       "    </tr>\n",
       "  </thead>\n",
       "  <tbody>\n",
       "    <tr>\n",
       "      <th>0</th>\n",
       "      <td>0x4659d5ff63a1e1edd6d5dd9cc315e063c95947d0</td>\n",
       "      <td>convex-curve</td>\n",
       "      <td>26362.859298</td>\n",
       "    </tr>\n",
       "    <tr>\n",
       "      <th>1</th>\n",
       "      <td>0x9026a229b535ecf0162dfe48fdeb3c75f7b2a7ae</td>\n",
       "      <td>curve-gauge</td>\n",
       "      <td>2047.814958</td>\n",
       "    </tr>\n",
       "    <tr>\n",
       "      <th>2</th>\n",
       "      <td>0x3cf54f3a1969be9916dad548f3c084331c4450b5</td>\n",
       "      <td>convex-curve</td>\n",
       "      <td>1559.840998</td>\n",
       "    </tr>\n",
       "    <tr>\n",
       "      <th>3</th>\n",
       "      <td>0xa1175a219dac539f2291377f77afd786d20e5882</td>\n",
       "      <td>convex-curve</td>\n",
       "      <td>612.773914</td>\n",
       "    </tr>\n",
       "    <tr>\n",
       "      <th>4</th>\n",
       "      <td>0xdb722dd612d35a12e718138e7296e6ca3531fb98</td>\n",
       "      <td>convex-curve</td>\n",
       "      <td>327.994192</td>\n",
       "    </tr>\n",
       "  </tbody>\n",
       "</table>\n",
       "</div>"
      ],
      "text/plain": [
       "                                      account      platform        amount\n",
       "0  0x4659d5ff63a1e1edd6d5dd9cc315e063c95947d0  convex-curve  26362.859298\n",
       "1  0x9026a229b535ecf0162dfe48fdeb3c75f7b2a7ae   curve-gauge   2047.814958\n",
       "2  0x3cf54f3a1969be9916dad548f3c084331c4450b5  convex-curve   1559.840998\n",
       "3  0xa1175a219dac539f2291377f77afd786d20e5882  convex-curve    612.773914\n",
       "4  0xdb722dd612d35a12e718138e7296e6ca3531fb98  convex-curve    327.994192"
      ]
     },
     "execution_count": 165,
     "metadata": {},
     "output_type": "execute_result"
    }
   ],
   "source": [
    "df_curve_no_convex = df_curve.loc[df_curve.provider != ADDRESS_CONVEX_VOTER_PROXY]\n",
    "df = (\n",
    "    pd.concat([\n",
    "        df_curve_no_convex.rename(columns={'provider': 'account', 'value': 'amount'})[['account', 'amount', 'platform']], \n",
    "        df_convex[['account', 'amount', 'platform']]\n",
    "    ])\n",
    "    .groupby(['account', 'platform'])['amount'].sum().reset_index()\n",
    "    .sort_values('amount', ascending=False).reset_index(drop=True) \n",
    ")\n",
    "# This total should match amount held by 0x2932a86df44fe8d2a706d8e9c5d51c24883423f5 (the frxETHCRV gauge deposit) \n",
    "# https://etherscan.io/token/0xf43211935c781d5ca1a41d2041f397b8a7366c7a#balances\n",
    "print(df.amount.sum())\n",
    "df.head()"
   ]
  },
  {
   "cell_type": "code",
   "execution_count": 166,
   "id": "e9ef1f16-72c6-4a81-8bbc-4b231fcd9ac4",
   "metadata": {},
   "outputs": [],
   "source": [
    "address_convex_staking_wrapper_frax = '0x4659d5fF63A1E1EDD6D5DD9CC315e063c95947d0'\n",
    "contract_convex_staking_wrapper_frax = w3.eth.contract(\n",
    "    address_convex_staking_wrapper_frax, abi=eth.get_contract_abi(address)\n",
    ")"
   ]
  },
  {
   "cell_type": "code",
   "execution_count": 137,
   "id": "637e9bf3-26d4-4e77-abbf-6ba1db941ad8",
   "metadata": {},
   "outputs": [
    {
     "name": "stderr",
     "output_type": "stream",
     "text": [
      "/opt/miniconda3/envs/frax-bribes/lib/python3.10/site-packages/eth_abi/codec.py:191: DeprecationWarning: abi.decode_abi() is deprecated and will be removed in version 4.0.0 in favor of abi.decode()\n",
      "  warnings.warn(\n",
      "/opt/miniconda3/envs/frax-bribes/lib/python3.10/site-packages/eth_abi/codec.py:164: DeprecationWarning: abi.decode_single() is deprecated and will be removed in version 4.0.0 in favor of abi.decode()\n",
      "  warnings.warn(\n"
     ]
    }
   ],
   "source": [
    "deposit_logs = contract_convex_staking_wrapper_frax.events.Deposited.getLogs(fromBlock=0)\n",
    "withdrawal_logs = contract_convex_staking_wrapper_frax.events.Withdrawn.getLogs(fromBlock=0)"
   ]
  },
  {
   "cell_type": "code",
   "execution_count": 207,
   "id": "233b8f24-e120-409f-812e-a1c1a7a1c3dd",
   "metadata": {},
   "outputs": [
    {
     "name": "stderr",
     "output_type": "stream",
     "text": [
      "/opt/miniconda3/envs/frax-bribes/lib/python3.10/site-packages/web3/method.py:215: DeprecationWarning: getCode is deprecated in favor of get_code\n",
      "  warnings.warn(\n",
      "/opt/miniconda3/envs/frax-bribes/lib/python3.10/site-packages/eth_abi/codec.py:87: DeprecationWarning: abi.encode_abi() and abi.encode_abi_packed() are deprecated and will be removed in version 4.0.0 in favor of abi.encode() and abi.encode_packed(), respectively\n",
      "  warnings.warn(\n",
      "/opt/miniconda3/envs/frax-bribes/lib/python3.10/site-packages/eth_abi/codec.py:191: DeprecationWarning: abi.decode_abi() is deprecated and will be removed in version 4.0.0 in favor of abi.decode()\n",
      "  warnings.warn(\n"
     ]
    },
    {
     "data": {
      "text/html": [
       "<div>\n",
       "<style scoped>\n",
       "    .dataframe tbody tr th:only-of-type {\n",
       "        vertical-align: middle;\n",
       "    }\n",
       "\n",
       "    .dataframe tbody tr th {\n",
       "        vertical-align: top;\n",
       "    }\n",
       "\n",
       "    .dataframe thead th {\n",
       "        text-align: right;\n",
       "    }\n",
       "</style>\n",
       "<table border=\"1\" class=\"dataframe\">\n",
       "  <thead>\n",
       "    <tr style=\"text-align: right;\">\n",
       "      <th></th>\n",
       "      <th>account</th>\n",
       "      <th>amount</th>\n",
       "      <th>vault_address</th>\n",
       "    </tr>\n",
       "  </thead>\n",
       "  <tbody>\n",
       "    <tr>\n",
       "      <th>163</th>\n",
       "      <td>0xFf6A37C2fb94C3fB47CbeAB8053722084C546a32</td>\n",
       "      <td>0.452667</td>\n",
       "      <td>0xbaaf59e5572Ba0432D33Cd7bC09C1FDAA6393e0f</td>\n",
       "    </tr>\n",
       "    <tr>\n",
       "      <th>164</th>\n",
       "      <td>0x8d64898e2f89e3Ca1fcD5684882812EB4960c985</td>\n",
       "      <td>0.199905</td>\n",
       "      <td>0xB5f32EbB40b7dE0fB73E1Da427B1047c8F5C3ee0</td>\n",
       "    </tr>\n",
       "    <tr>\n",
       "      <th>165</th>\n",
       "      <td>0x5180db0237291A6449DdA9ed33aD90a38787621c</td>\n",
       "      <td>0.100000</td>\n",
       "      <td>None</td>\n",
       "    </tr>\n",
       "    <tr>\n",
       "      <th>166</th>\n",
       "      <td>0x439Adfe7CD81d8f471C16528Dbc034F87Aceb599</td>\n",
       "      <td>0.024000</td>\n",
       "      <td>0xd1a2971C3E54A476D348a073e88b45EBF2C59e81</td>\n",
       "    </tr>\n",
       "    <tr>\n",
       "      <th>167</th>\n",
       "      <td>0x439Adfe7CD81d8f471C16528Dbc034F87Aceb599</td>\n",
       "      <td>0.020000</td>\n",
       "      <td>None</td>\n",
       "    </tr>\n",
       "  </tbody>\n",
       "</table>\n",
       "</div>"
      ],
      "text/plain": [
       "                                        account    amount  \\\n",
       "163  0xFf6A37C2fb94C3fB47CbeAB8053722084C546a32  0.452667   \n",
       "164  0x8d64898e2f89e3Ca1fcD5684882812EB4960c985  0.199905   \n",
       "165  0x5180db0237291A6449DdA9ed33aD90a38787621c  0.100000   \n",
       "166  0x439Adfe7CD81d8f471C16528Dbc034F87Aceb599  0.024000   \n",
       "167  0x439Adfe7CD81d8f471C16528Dbc034F87Aceb599  0.020000   \n",
       "\n",
       "                                  vault_address  \n",
       "163  0xbaaf59e5572Ba0432D33Cd7bC09C1FDAA6393e0f  \n",
       "164  0xB5f32EbB40b7dE0fB73E1Da427B1047c8F5C3ee0  \n",
       "165                                        None  \n",
       "166  0xd1a2971C3E54A476D348a073e88b45EBF2C59e81  \n",
       "167                                        None  "
      ]
     },
     "execution_count": 207,
     "metadata": {},
     "output_type": "execute_result"
    }
   ],
   "source": [
    "df_stkcvxfrxethits = [{'account': d.args['_account'], 'amount': d.args['_amount'] / 1e18} for d in deposit_logs]\n",
    "withdrawals = [{'account': d.args['_user'], 'amount': -d.args['_amount'] / 1e18} for d in withdrawal_logs]\n",
    "df_stkcvxfrxeth = pd.DataFrame(deposits + withdrawals).groupby('account')['amount'].sum().reset_index()\n",
    "df_stkcvxfrxeth = df_stkcvxfrxeth.sort_values('amount', ascending=False).reset_index(drop=True)\n",
    "df_stkcvxfrxeth = df_stkcvxfrxeth.loc[df_stkcvxfrxeth.amount != 0] \n",
    "# Determine if this address represents a vault owned by some user \n",
    "abi_convex_staking_proxy = '[{\"inputs\":[],\"stateMutability\":\"nonpayable\",\"type\":\"constructor\"},{\"inputs\":[],\"name\":\"FEE_DENOMINATOR\",\"outputs\":[{\"internalType\":\"uint256\",\"name\":\"\",\"type\":\"uint256\"}],\"stateMutability\":\"view\",\"type\":\"function\"},{\"inputs\":[{\"internalType\":\"address\",\"name\":\"_rewardsAddress\",\"type\":\"address\"}],\"name\":\"changeRewards\",\"outputs\":[],\"stateMutability\":\"nonpayable\",\"type\":\"function\"},{\"inputs\":[],\"name\":\"checkpointRewards\",\"outputs\":[],\"stateMutability\":\"nonpayable\",\"type\":\"function\"},{\"inputs\":[],\"name\":\"convexCurveBooster\",\"outputs\":[{\"internalType\":\"address\",\"name\":\"\",\"type\":\"address\"}],\"stateMutability\":\"view\",\"type\":\"function\"},{\"inputs\":[],\"name\":\"convexDepositToken\",\"outputs\":[{\"internalType\":\"address\",\"name\":\"\",\"type\":\"address\"}],\"stateMutability\":\"view\",\"type\":\"function\"},{\"inputs\":[],\"name\":\"crv\",\"outputs\":[{\"internalType\":\"address\",\"name\":\"\",\"type\":\"address\"}],\"stateMutability\":\"view\",\"type\":\"function\"},{\"inputs\":[],\"name\":\"curveLpToken\",\"outputs\":[{\"internalType\":\"address\",\"name\":\"\",\"type\":\"address\"}],\"stateMutability\":\"view\",\"type\":\"function\"},{\"inputs\":[],\"name\":\"cvx\",\"outputs\":[{\"internalType\":\"address\",\"name\":\"\",\"type\":\"address\"}],\"stateMutability\":\"view\",\"type\":\"function\"},{\"inputs\":[],\"name\":\"earned\",\"outputs\":[{\"internalType\":\"address[]\",\"name\":\"token_addresses\",\"type\":\"address[]\"},{\"internalType\":\"uint256[]\",\"name\":\"total_earned\",\"type\":\"uint256[]\"}],\"stateMutability\":\"view\",\"type\":\"function\"},{\"inputs\":[],\"name\":\"feeRegistry\",\"outputs\":[{\"internalType\":\"address\",\"name\":\"\",\"type\":\"address\"}],\"stateMutability\":\"view\",\"type\":\"function\"},{\"inputs\":[],\"name\":\"fxs\",\"outputs\":[{\"internalType\":\"address\",\"name\":\"\",\"type\":\"address\"}],\"stateMutability\":\"view\",\"type\":\"function\"},{\"inputs\":[],\"name\":\"getReward\",\"outputs\":[],\"stateMutability\":\"nonpayable\",\"type\":\"function\"},{\"inputs\":[{\"internalType\":\"bool\",\"name\":\"_claim\",\"type\":\"bool\"},{\"internalType\":\"address[]\",\"name\":\"_rewardTokenList\",\"type\":\"address[]\"}],\"name\":\"getReward\",\"outputs\":[],\"stateMutability\":\"nonpayable\",\"type\":\"function\"},{\"inputs\":[{\"internalType\":\"bool\",\"name\":\"_claim\",\"type\":\"bool\"}],\"name\":\"getReward\",\"outputs\":[],\"stateMutability\":\"nonpayable\",\"type\":\"function\"},{\"inputs\":[{\"internalType\":\"address\",\"name\":\"_owner\",\"type\":\"address\"},{\"internalType\":\"address\",\"name\":\"_stakingAddress\",\"type\":\"address\"},{\"internalType\":\"address\",\"name\":\"_stakingToken\",\"type\":\"address\"},{\"internalType\":\"address\",\"name\":\"_rewardsAddress\",\"type\":\"address\"}],\"name\":\"initialize\",\"outputs\":[],\"stateMutability\":\"nonpayable\",\"type\":\"function\"},{\"inputs\":[{\"internalType\":\"bytes32\",\"name\":\"_kek_id\",\"type\":\"bytes32\"},{\"internalType\":\"uint256\",\"name\":\"_addl_liq\",\"type\":\"uint256\"}],\"name\":\"lockAdditional\",\"outputs\":[],\"stateMutability\":\"nonpayable\",\"type\":\"function\"},{\"inputs\":[{\"internalType\":\"bytes32\",\"name\":\"_kek_id\",\"type\":\"bytes32\"},{\"internalType\":\"uint256\",\"name\":\"_addl_liq\",\"type\":\"uint256\"}],\"name\":\"lockAdditionalConvexToken\",\"outputs\":[],\"stateMutability\":\"nonpayable\",\"type\":\"function\"},{\"inputs\":[{\"internalType\":\"bytes32\",\"name\":\"_kek_id\",\"type\":\"bytes32\"},{\"internalType\":\"uint256\",\"name\":\"_addl_liq\",\"type\":\"uint256\"}],\"name\":\"lockAdditionalCurveLp\",\"outputs\":[],\"stateMutability\":\"nonpayable\",\"type\":\"function\"},{\"inputs\":[{\"internalType\":\"bytes32\",\"name\":\"_kek_id\",\"type\":\"bytes32\"},{\"internalType\":\"uint256\",\"name\":\"new_ending_ts\",\"type\":\"uint256\"}],\"name\":\"lockLonger\",\"outputs\":[],\"stateMutability\":\"nonpayable\",\"type\":\"function\"},{\"inputs\":[],\"name\":\"owner\",\"outputs\":[{\"internalType\":\"address\",\"name\":\"\",\"type\":\"address\"}],\"stateMutability\":\"view\",\"type\":\"function\"},{\"inputs\":[],\"name\":\"poolRegistry\",\"outputs\":[{\"internalType\":\"address\",\"name\":\"\",\"type\":\"address\"}],\"stateMutability\":\"view\",\"type\":\"function\"},{\"inputs\":[],\"name\":\"rewards\",\"outputs\":[{\"internalType\":\"address\",\"name\":\"\",\"type\":\"address\"}],\"stateMutability\":\"view\",\"type\":\"function\"},{\"inputs\":[{\"internalType\":\"address\",\"name\":\"_proxy\",\"type\":\"address\"}],\"name\":\"setVeFXSProxy\",\"outputs\":[],\"stateMutability\":\"nonpayable\",\"type\":\"function\"},{\"inputs\":[{\"internalType\":\"uint256\",\"name\":\"_liquidity\",\"type\":\"uint256\"},{\"internalType\":\"uint256\",\"name\":\"_secs\",\"type\":\"uint256\"}],\"name\":\"stakeLocked\",\"outputs\":[{\"internalType\":\"bytes32\",\"name\":\"kek_id\",\"type\":\"bytes32\"}],\"stateMutability\":\"nonpayable\",\"type\":\"function\"},{\"inputs\":[{\"internalType\":\"uint256\",\"name\":\"_liquidity\",\"type\":\"uint256\"},{\"internalType\":\"uint256\",\"name\":\"_secs\",\"type\":\"uint256\"}],\"name\":\"stakeLockedConvexToken\",\"outputs\":[{\"internalType\":\"bytes32\",\"name\":\"kek_id\",\"type\":\"bytes32\"}],\"stateMutability\":\"nonpayable\",\"type\":\"function\"},{\"inputs\":[{\"internalType\":\"uint256\",\"name\":\"_liquidity\",\"type\":\"uint256\"},{\"internalType\":\"uint256\",\"name\":\"_secs\",\"type\":\"uint256\"}],\"name\":\"stakeLockedCurveLp\",\"outputs\":[{\"internalType\":\"bytes32\",\"name\":\"kek_id\",\"type\":\"bytes32\"}],\"stateMutability\":\"nonpayable\",\"type\":\"function\"},{\"inputs\":[],\"name\":\"stakingAddress\",\"outputs\":[{\"internalType\":\"address\",\"name\":\"\",\"type\":\"address\"}],\"stateMutability\":\"view\",\"type\":\"function\"},{\"inputs\":[],\"name\":\"stakingToken\",\"outputs\":[{\"internalType\":\"address\",\"name\":\"\",\"type\":\"address\"}],\"stateMutability\":\"view\",\"type\":\"function\"},{\"inputs\":[],\"name\":\"usingProxy\",\"outputs\":[{\"internalType\":\"address\",\"name\":\"\",\"type\":\"address\"}],\"stateMutability\":\"view\",\"type\":\"function\"},{\"inputs\":[],\"name\":\"vaultType\",\"outputs\":[{\"internalType\":\"enum IProxyVault.VaultType\",\"name\":\"\",\"type\":\"uint8\"}],\"stateMutability\":\"pure\",\"type\":\"function\"},{\"inputs\":[],\"name\":\"vaultVersion\",\"outputs\":[{\"internalType\":\"uint256\",\"name\":\"\",\"type\":\"uint256\"}],\"stateMutability\":\"pure\",\"type\":\"function\"},{\"inputs\":[],\"name\":\"vefxsProxy\",\"outputs\":[{\"internalType\":\"address\",\"name\":\"\",\"type\":\"address\"}],\"stateMutability\":\"view\",\"type\":\"function\"},{\"inputs\":[{\"internalType\":\"bytes32\",\"name\":\"_kek_id\",\"type\":\"bytes32\"}],\"name\":\"withdrawLocked\",\"outputs\":[],\"stateMutability\":\"nonpayable\",\"type\":\"function\"},{\"inputs\":[{\"internalType\":\"bytes32\",\"name\":\"_kek_id\",\"type\":\"bytes32\"}],\"name\":\"withdrawLockedAndUnwrap\",\"outputs\":[],\"stateMutability\":\"nonpayable\",\"type\":\"function\"}]'\n",
    "vault_owners = {}\n",
    "for a in df_stkcvxfrxeth.account.unique(): \n",
    "    is_vault = True if w3.eth.getCode(a) else False\n",
    "    if is_vault: \n",
    "        contract = w3.eth.contract(a, abi=abi_convex_staking_proxy)\n",
    "        owner = contract.functions.owner().call()\n",
    "        vault_owners[a] = owner\n",
    "# Update table with vault info \n",
    "df_stkcvxfrxeth['vault_address'] = df_stkcvxfrxeth.account.apply(lambda a: a if a in vault_owners else None)\n",
    "mask_vault = ~df_stkcvxfrxeth.vault_address.isna()\n",
    "df_stkcvxfrxeth.loc[mask_vault, 'account'] = df_stkcvxfrxeth.loc[mask_vault].account.apply(lambda a: vault_owners[a])\n",
    "assert all(df_stkcvxfrxeth.loc[mask_vault].account != df_stkcvxfrxeth.loc[mask_vault].vault_address)\n",
    "# Add in platform information \n",
    "df_stkcvxfrxeth['platform'] = 'convex-frax-no-vault'\n",
    "df_stkcvxfrxeth.loc[~df_stkcvxfrxeth.vault_address.isna(), 'platform'] = 'convex-frax-vault'\n",
    "df_stkcvxfrxeth.tail()"
   ]
  },
  {
   "cell_type": "code",
   "execution_count": 211,
   "id": "d54ec9bb-6ca0-401d-9ff9-79e53b957b16",
   "metadata": {},
   "outputs": [
    {
     "name": "stdout",
     "output_type": "stream",
     "text": [
      "Convex stkfrxETHCRV (convex curve staking): 26362.85929812243\n",
      "Convex stkfrxETHCRV (convex frax staking): 26362.85929812242\n"
     ]
    }
   ],
   "source": [
    "# These numbers should be really close but sometimes might differ due to subgraph indexing speed. \n",
    "staked_convex_frxethcrv_1 = df_stkcvxfrxeth.amount.sum()\n",
    "staked_convex_frxethcrv_2 = df.loc[df.account == address_convex_staking_wrapper_frax.lower()]['amount'].values.tolist()[0]\n",
    "print(f\"Convex stkfrxETHCRV (convex curve staking): {staked_convex_frxethcrv_1}\")\n",
    "print(f\"Convex stkfrxETHCRV (convex frax staking): {staked_convex_frxethcrv_2}\")\n",
    "np.testing.assert_almost_equal(staked_convex_frxethcrv_1, staked_convex_frxethcrv_2, 10)"
   ]
  },
  {
   "cell_type": "code",
   "execution_count": 212,
   "id": "30f82c6a-6fcf-436b-8ad8-077c17a2be3e",
   "metadata": {},
   "outputs": [
    {
     "data": {
      "text/html": [
       "<div>\n",
       "<style scoped>\n",
       "    .dataframe tbody tr th:only-of-type {\n",
       "        vertical-align: middle;\n",
       "    }\n",
       "\n",
       "    .dataframe tbody tr th {\n",
       "        vertical-align: top;\n",
       "    }\n",
       "\n",
       "    .dataframe thead th {\n",
       "        text-align: right;\n",
       "    }\n",
       "</style>\n",
       "<table border=\"1\" class=\"dataframe\">\n",
       "  <thead>\n",
       "    <tr style=\"text-align: right;\">\n",
       "      <th></th>\n",
       "      <th>account</th>\n",
       "      <th>platform</th>\n",
       "      <th>amount</th>\n",
       "    </tr>\n",
       "  </thead>\n",
       "  <tbody>\n",
       "    <tr>\n",
       "      <th>0</th>\n",
       "      <td>0x4659d5ff63a1e1edd6d5dd9cc315e063c95947d0</td>\n",
       "      <td>convex-curve</td>\n",
       "      <td>26362.859298</td>\n",
       "    </tr>\n",
       "  </tbody>\n",
       "</table>\n",
       "</div>"
      ],
      "text/plain": [
       "                                      account      platform        amount\n",
       "0  0x4659d5ff63a1e1edd6d5dd9cc315e063c95947d0  convex-curve  26362.859298"
      ]
     },
     "execution_count": 212,
     "metadata": {},
     "output_type": "execute_result"
    }
   ],
   "source": [
    "df.head(1)"
   ]
  },
  {
   "cell_type": "code",
   "execution_count": 213,
   "id": "5e9e9033-0e33-4ac1-9486-d55d11aaa14d",
   "metadata": {},
   "outputs": [
    {
     "data": {
      "text/html": [
       "<div>\n",
       "<style scoped>\n",
       "    .dataframe tbody tr th:only-of-type {\n",
       "        vertical-align: middle;\n",
       "    }\n",
       "\n",
       "    .dataframe tbody tr th {\n",
       "        vertical-align: top;\n",
       "    }\n",
       "\n",
       "    .dataframe thead th {\n",
       "        text-align: right;\n",
       "    }\n",
       "</style>\n",
       "<table border=\"1\" class=\"dataframe\">\n",
       "  <thead>\n",
       "    <tr style=\"text-align: right;\">\n",
       "      <th></th>\n",
       "      <th>account</th>\n",
       "      <th>amount</th>\n",
       "      <th>vault_address</th>\n",
       "      <th>platform</th>\n",
       "    </tr>\n",
       "  </thead>\n",
       "  <tbody>\n",
       "    <tr>\n",
       "      <th>0</th>\n",
       "      <td>0x8D8B9c79196f32161BcB2A9728D274B3b45eB9AF</td>\n",
       "      <td>4968.188152</td>\n",
       "      <td>0x1Cf851733F952c7Bc2aE375e370528d162d066e0</td>\n",
       "      <td>convex-frax-vault</td>\n",
       "    </tr>\n",
       "  </tbody>\n",
       "</table>\n",
       "</div>"
      ],
      "text/plain": [
       "                                      account       amount  \\\n",
       "0  0x8D8B9c79196f32161BcB2A9728D274B3b45eB9AF  4968.188152   \n",
       "\n",
       "                                vault_address           platform  \n",
       "0  0x1Cf851733F952c7Bc2aE375e370528d162d066e0  convex-frax-vault  "
      ]
     },
     "execution_count": 213,
     "metadata": {},
     "output_type": "execute_result"
    }
   ],
   "source": [
    "df_stkcvxfrxeth.head(1)"
   ]
  },
  {
   "cell_type": "code",
   "execution_count": 226,
   "id": "fd90fdd0-862b-41a2-b497-7dd6c75fecaa",
   "metadata": {},
   "outputs": [
    {
     "name": "stdout",
     "output_type": "stream",
     "text": [
      "32958.01730833995\n"
     ]
    },
    {
     "data": {
      "text/html": [
       "<div>\n",
       "<style scoped>\n",
       "    .dataframe tbody tr th:only-of-type {\n",
       "        vertical-align: middle;\n",
       "    }\n",
       "\n",
       "    .dataframe tbody tr th {\n",
       "        vertical-align: top;\n",
       "    }\n",
       "\n",
       "    .dataframe thead th {\n",
       "        text-align: right;\n",
       "    }\n",
       "</style>\n",
       "<table border=\"1\" class=\"dataframe\">\n",
       "  <thead>\n",
       "    <tr style=\"text-align: right;\">\n",
       "      <th></th>\n",
       "      <th>account</th>\n",
       "      <th>amount</th>\n",
       "    </tr>\n",
       "  </thead>\n",
       "  <tbody>\n",
       "    <tr>\n",
       "      <th>0</th>\n",
       "      <td>0x8D8B9c79196f32161BcB2A9728D274B3b45eB9AF</td>\n",
       "      <td>4968.188152</td>\n",
       "    </tr>\n",
       "    <tr>\n",
       "      <th>1</th>\n",
       "      <td>0x8306300ffd616049FD7e4b0354a64Da835c1A81C</td>\n",
       "      <td>4325.813192</td>\n",
       "    </tr>\n",
       "    <tr>\n",
       "      <th>2</th>\n",
       "      <td>0xD07993c6cb9692a71522Baf970A31069034dF2B0</td>\n",
       "      <td>3170.969205</td>\n",
       "    </tr>\n",
       "    <tr>\n",
       "      <th>3</th>\n",
       "      <td>0x9026a229b535ecf0162dfe48fdeb3c75f7b2a7ae</td>\n",
       "      <td>2047.814958</td>\n",
       "    </tr>\n",
       "    <tr>\n",
       "      <th>4</th>\n",
       "      <td>0x3cf54f3a1969be9916dad548f3c084331c4450b5</td>\n",
       "      <td>1559.840998</td>\n",
       "    </tr>\n",
       "  </tbody>\n",
       "</table>\n",
       "</div>"
      ],
      "text/plain": [
       "                                      account       amount\n",
       "0  0x8D8B9c79196f32161BcB2A9728D274B3b45eB9AF  4968.188152\n",
       "1  0x8306300ffd616049FD7e4b0354a64Da835c1A81C  4325.813192\n",
       "2  0xD07993c6cb9692a71522Baf970A31069034dF2B0  3170.969205\n",
       "3  0x9026a229b535ecf0162dfe48fdeb3c75f7b2a7ae  2047.814958\n",
       "4  0x3cf54f3a1969be9916dad548f3c084331c4450b5  1559.840998"
      ]
     },
     "execution_count": 226,
     "metadata": {},
     "output_type": "execute_result"
    }
   ],
   "source": [
    "df_no_stkcvxfrxeth = df.loc[df.account != address_convex_staking_wrapper_frax.lower()]\n",
    "assert len(df) == 1 + len(df_no_stkcvxfrxeth)\n",
    "df_final = (\n",
    "    pd.concat([df_no_stkcvxfrxeth, df_stkcvxfrxeth[['account', 'platform', 'amount']]])\n",
    "    .groupby('account')['amount'].sum().reset_index()\n",
    ")\n",
    "# This amount should match the amount held in the gauge for this curve pool. Check this value here: \n",
    "# https://etherscan.io/token/0xf43211935c781d5ca1a41d2041f397b8a7366c7a#balances\n",
    "print(df_final.amount.sum())\n",
    "df_final = df_final.sort_values('amount', ascending=False).reset_index(drop=True)\n",
    "df_final.head()"
   ]
  }
 ],
 "metadata": {
  "kernelspec": {
   "display_name": "frax-bribes",
   "language": "python",
   "name": "frax-bribes"
  },
  "language_info": {
   "codemirror_mode": {
    "name": "ipython",
    "version": 3
   },
   "file_extension": ".py",
   "mimetype": "text/x-python",
   "name": "python",
   "nbconvert_exporter": "python",
   "pygments_lexer": "ipython3",
   "version": "3.10.6"
  }
 },
 "nbformat": 4,
 "nbformat_minor": 5
}
