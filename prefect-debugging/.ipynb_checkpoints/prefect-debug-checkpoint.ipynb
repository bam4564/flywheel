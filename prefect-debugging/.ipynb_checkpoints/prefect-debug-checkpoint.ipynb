{
 "cells": [
  {
   "cell_type": "code",
   "execution_count": 1,
   "id": "57dc6701-8a44-4f9f-b0bd-0134bf84871c",
   "metadata": {},
   "outputs": [
    {
     "data": {
      "text/html": [
       "<pre style=\"white-space:pre;overflow-x:auto;line-height:normal;font-family:Menlo,'DejaVu Sans Mono',consolas,'Courier New',monospace\">17:40:53.880 | <span style=\"color: #008080; text-decoration-color: #008080\">INFO</span>    | prefect.engine - Created flow run<span style=\"color: #800080; text-decoration-color: #800080\"> 'military-emu'</span> for flow<span style=\"color: #800080; text-decoration-color: #800080; font-weight: bold\"> 'flow-test'</span>\n",
       "</pre>\n"
      ],
      "text/plain": [
       "17:40:53.880 | \u001b[36mINFO\u001b[0m    | prefect.engine - Created flow run\u001b[35m 'military-emu'\u001b[0m for flow\u001b[1;35m 'flow-test'\u001b[0m\n"
      ]
     },
     "metadata": {},
     "output_type": "display_data"
    },
    {
     "data": {
      "text/html": [
       "<pre style=\"white-space:pre;overflow-x:auto;line-height:normal;font-family:Menlo,'DejaVu Sans Mono',consolas,'Courier New',monospace\">17:40:53.945 | <span style=\"color: #008080; text-decoration-color: #008080\">INFO</span>    | Flow run<span style=\"color: #800080; text-decoration-color: #800080\"> 'military-emu'</span> - Created task run 'one-0d9ca636-0' for task 'one'\n",
       "</pre>\n"
      ],
      "text/plain": [
       "17:40:53.945 | \u001b[36mINFO\u001b[0m    | Flow run\u001b[35m 'military-emu'\u001b[0m - Created task run 'one-0d9ca636-0' for task 'one'\n"
      ]
     },
     "metadata": {},
     "output_type": "display_data"
    },
    {
     "data": {
      "text/html": [
       "<pre style=\"white-space:pre;overflow-x:auto;line-height:normal;font-family:Menlo,'DejaVu Sans Mono',consolas,'Courier New',monospace\">17:40:53.946 | <span style=\"color: #008080; text-decoration-color: #008080\">INFO</span>    | Flow run<span style=\"color: #800080; text-decoration-color: #800080\"> 'military-emu'</span> - Executing 'one-0d9ca636-0' immediately...\n",
       "</pre>\n"
      ],
      "text/plain": [
       "17:40:53.946 | \u001b[36mINFO\u001b[0m    | Flow run\u001b[35m 'military-emu'\u001b[0m - Executing 'one-0d9ca636-0' immediately...\n"
      ]
     },
     "metadata": {},
     "output_type": "display_data"
    },
    {
     "data": {
      "text/html": [
       "<pre style=\"white-space:pre;overflow-x:auto;line-height:normal;font-family:Menlo,'DejaVu Sans Mono',consolas,'Courier New',monospace\">17:40:53.957 | <span style=\"color: #008080; text-decoration-color: #008080\">INFO</span>    | Task run 'one-0d9ca636-0' - Finished in state Cached(type=COMPLETED)\n",
       "</pre>\n"
      ],
      "text/plain": [
       "17:40:53.957 | \u001b[36mINFO\u001b[0m    | Task run 'one-0d9ca636-0' - Finished in state Cached(type=COMPLETED)\n"
      ]
     },
     "metadata": {},
     "output_type": "display_data"
    },
    {
     "data": {
      "text/html": [
       "<pre style=\"white-space:pre;overflow-x:auto;line-height:normal;font-family:Menlo,'DejaVu Sans Mono',consolas,'Courier New',monospace\">17:40:53.976 | <span style=\"color: #008080; text-decoration-color: #008080\">INFO</span>    | Flow run<span style=\"color: #800080; text-decoration-color: #800080\"> 'military-emu'</span> - Created task run 'two-6cd57d12-0' for task 'two'\n",
       "</pre>\n"
      ],
      "text/plain": [
       "17:40:53.976 | \u001b[36mINFO\u001b[0m    | Flow run\u001b[35m 'military-emu'\u001b[0m - Created task run 'two-6cd57d12-0' for task 'two'\n"
      ]
     },
     "metadata": {},
     "output_type": "display_data"
    },
    {
     "data": {
      "text/html": [
       "<pre style=\"white-space:pre;overflow-x:auto;line-height:normal;font-family:Menlo,'DejaVu Sans Mono',consolas,'Courier New',monospace\">17:40:53.977 | <span style=\"color: #008080; text-decoration-color: #008080\">INFO</span>    | Flow run<span style=\"color: #800080; text-decoration-color: #800080\"> 'military-emu'</span> - Executing 'two-6cd57d12-0' immediately...\n",
       "</pre>\n"
      ],
      "text/plain": [
       "17:40:53.977 | \u001b[36mINFO\u001b[0m    | Flow run\u001b[35m 'military-emu'\u001b[0m - Executing 'two-6cd57d12-0' immediately...\n"
      ]
     },
     "metadata": {},
     "output_type": "display_data"
    },
    {
     "data": {
      "text/html": [
       "<pre style=\"white-space:pre;overflow-x:auto;line-height:normal;font-family:Menlo,'DejaVu Sans Mono',consolas,'Courier New',monospace\">17:40:53.986 | <span style=\"color: #008080; text-decoration-color: #008080\">INFO</span>    | Task run 'two-6cd57d12-0' - Finished in state Cached(type=COMPLETED)\n",
       "</pre>\n"
      ],
      "text/plain": [
       "17:40:53.986 | \u001b[36mINFO\u001b[0m    | Task run 'two-6cd57d12-0' - Finished in state Cached(type=COMPLETED)\n"
      ]
     },
     "metadata": {},
     "output_type": "display_data"
    },
    {
     "data": {
      "text/html": [
       "<pre style=\"white-space:pre;overflow-x:auto;line-height:normal;font-family:Menlo,'DejaVu Sans Mono',consolas,'Courier New',monospace\">17:40:54.005 | <span style=\"color: #008080; text-decoration-color: #008080\">INFO</span>    | Flow run<span style=\"color: #800080; text-decoration-color: #800080\"> 'military-emu'</span> - Finished in state <span style=\"color: #008000; text-decoration-color: #008000\">Completed</span>()\n",
       "</pre>\n"
      ],
      "text/plain": [
       "17:40:54.005 | \u001b[36mINFO\u001b[0m    | Flow run\u001b[35m 'military-emu'\u001b[0m - Finished in state \u001b[32mCompleted\u001b[0m()\n"
      ]
     },
     "metadata": {},
     "output_type": "display_data"
    },
    {
     "data": {
      "text/plain": [
       "7"
      ]
     },
     "execution_count": 1,
     "metadata": {},
     "output_type": "execute_result"
    }
   ],
   "source": [
    "import os \n",
    "\n",
    "from prefect import flow, task\n",
    "# from test import one, two \n",
    "\n",
    "@task(persist_result=True, cache_key_fn=lambda *args: \"one\")\n",
    "async def one(): \n",
    "    return 5\n",
    "\n",
    "@task(persist_result=True, cache_key_fn=lambda *args: \"two\")\n",
    "async def two(): \n",
    "    return 2\n",
    "\n",
    "@flow\n",
    "async def flow_test():\n",
    "    a = await one()\n",
    "    b = await two()\n",
    "    return a + b \n",
    "\n",
    "# from prefect.settings import get_current_settings\n",
    "\n",
    "# for k, v in get_current_settings(): \n",
    "#     print(k, v)\n",
    "\n",
    "await flow_test()"
   ]
  },
  {
   "cell_type": "code",
   "execution_count": null,
   "id": "00e06152-aed6-4761-b1ed-ac803a072845",
   "metadata": {},
   "outputs": [],
   "source": []
  }
 ],
 "metadata": {
  "kernelspec": {
   "display_name": "Python [conda env:flywheel]",
   "language": "python",
   "name": "conda-env-flywheel-py"
  },
  "language_info": {
   "codemirror_mode": {
    "name": "ipython",
    "version": 3
   },
   "file_extension": ".py",
   "mimetype": "text/x-python",
   "name": "python",
   "nbconvert_exporter": "python",
   "pygments_lexer": "ipython3",
   "version": "3.10.8"
  }
 },
 "nbformat": 4,
 "nbformat_minor": 5
}
